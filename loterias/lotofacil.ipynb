{
  "nbformat": 4,
  "nbformat_minor": 0,
  "metadata": {
    "colab": {
      "provenance": [],
      "authorship_tag": "ABX9TyN/YUwKQJ4DN7lWv1J8RuwK"
    },
    "kernelspec": {
      "name": "python3",
      "display_name": "Python 3"
    },
    "language_info": {
      "name": "python"
    }
  },
  "cells": [
    {
      "cell_type": "markdown",
      "source": [
        "# Data Extraction\n",
        "A partir de um arquivo .xlsx, extrai a tabela contendo os números de cada sorteio."
      ],
      "metadata": {
        "id": "rxCDAcMK9bX5"
      }
    },
    {
      "cell_type": "code",
      "execution_count": 1,
      "metadata": {
        "id": "jM3LxvqccxYR",
        "colab": {
          "base_uri": "https://localhost:8080/"
        },
        "outputId": "3d1d600d-8814-4c01-f0c6-4ce46b4e787f"
      },
      "outputs": [
        {
          "output_type": "stream",
          "name": "stdout",
          "text": [
            "Collecting ipython-autotime\n",
            "  Downloading ipython_autotime-0.3.1-py2.py3-none-any.whl (6.8 kB)\n",
            "Requirement already satisfied: ipython in /usr/local/lib/python3.10/dist-packages (from ipython-autotime) (7.34.0)\n",
            "Requirement already satisfied: setuptools>=18.5 in /usr/local/lib/python3.10/dist-packages (from ipython->ipython-autotime) (67.7.2)\n",
            "Collecting jedi>=0.16 (from ipython->ipython-autotime)\n",
            "  Downloading jedi-0.19.0-py2.py3-none-any.whl (1.6 MB)\n",
            "\u001b[2K     \u001b[90m━━━━━━━━━━━━━━━━━━━━━━━━━━━━━━━━━━━━━━━━\u001b[0m \u001b[32m1.6/1.6 MB\u001b[0m \u001b[31m10.4 MB/s\u001b[0m eta \u001b[36m0:00:00\u001b[0m\n",
            "\u001b[?25hRequirement already satisfied: decorator in /usr/local/lib/python3.10/dist-packages (from ipython->ipython-autotime) (4.4.2)\n",
            "Requirement already satisfied: pickleshare in /usr/local/lib/python3.10/dist-packages (from ipython->ipython-autotime) (0.7.5)\n",
            "Requirement already satisfied: traitlets>=4.2 in /usr/local/lib/python3.10/dist-packages (from ipython->ipython-autotime) (5.7.1)\n",
            "Requirement already satisfied: prompt-toolkit!=3.0.0,!=3.0.1,<3.1.0,>=2.0.0 in /usr/local/lib/python3.10/dist-packages (from ipython->ipython-autotime) (3.0.39)\n",
            "Requirement already satisfied: pygments in /usr/local/lib/python3.10/dist-packages (from ipython->ipython-autotime) (2.14.0)\n",
            "Requirement already satisfied: backcall in /usr/local/lib/python3.10/dist-packages (from ipython->ipython-autotime) (0.2.0)\n",
            "Requirement already satisfied: matplotlib-inline in /usr/local/lib/python3.10/dist-packages (from ipython->ipython-autotime) (0.1.6)\n",
            "Requirement already satisfied: pexpect>4.3 in /usr/local/lib/python3.10/dist-packages (from ipython->ipython-autotime) (4.8.0)\n",
            "Requirement already satisfied: parso<0.9.0,>=0.8.3 in /usr/local/lib/python3.10/dist-packages (from jedi>=0.16->ipython->ipython-autotime) (0.8.3)\n",
            "Requirement already satisfied: ptyprocess>=0.5 in /usr/local/lib/python3.10/dist-packages (from pexpect>4.3->ipython->ipython-autotime) (0.7.0)\n",
            "Requirement already satisfied: wcwidth in /usr/local/lib/python3.10/dist-packages (from prompt-toolkit!=3.0.0,!=3.0.1,<3.1.0,>=2.0.0->ipython->ipython-autotime) (0.2.6)\n",
            "Installing collected packages: jedi, ipython-autotime\n",
            "Successfully installed ipython-autotime-0.3.1 jedi-0.19.0\n",
            "time: 785 µs (started: 2023-08-01 16:40:04 +00:00)\n"
          ]
        }
      ],
      "source": [
        "%pip install ipython-autotime  --upgrade\n",
        "%load_ext autotime"
      ]
    },
    {
      "cell_type": "code",
      "source": [
        "from google.colab import drive, files\n",
        "import pandas as pd\n",
        "drive.mount('/content/drive', force_remount=True)"
      ],
      "metadata": {
        "id": "C4cPTemK9fA6",
        "colab": {
          "base_uri": "https://localhost:8080/"
        },
        "outputId": "67e8b3d0-b88c-4b64-f054-9fb84af826a7"
      },
      "execution_count": 2,
      "outputs": [
        {
          "output_type": "stream",
          "name": "stdout",
          "text": [
            "Mounted at /content/drive\n",
            "time: 37.3 s (started: 2023-08-01 16:40:48 +00:00)\n"
          ]
        }
      ]
    },
    {
      "cell_type": "code",
      "source": [
        "cols = ['Bola1', 'Bola2', 'Bola3', 'Bola4', 'Bola5', 'Bola6', 'Bola7', 'Bola8', 'Bola9', 'Bola10', 'Bola11', 'Bola12', 'Bola13', 'Bola14', 'Bola15']\n",
        "raffles = pd.read_excel(\"/content/drive/MyDrive/datasets/loterias/raw/lotofacil.xlsx\", usecols=cols)\n",
        "raffles.head()"
      ],
      "metadata": {
        "colab": {
          "base_uri": "https://localhost:8080/",
          "height": 224
        },
        "id": "x1TJ9Nicy6m7",
        "outputId": "b7a41737-ddb7-41c8-e27c-d79662e74e1b"
      },
      "execution_count": 3,
      "outputs": [
        {
          "output_type": "execute_result",
          "data": {
            "text/plain": [
              "   Bola1  Bola2  Bola3  Bola4  Bola5  Bola6  Bola7  Bola8  Bola9  Bola10  \\\n",
              "0      2      3      5      6      9     10     11     13     14      16   \n",
              "1      1      4      5      6      7      9     11     12     13      15   \n",
              "2      1      4      6      7      8      9     10     11     12      14   \n",
              "3      1      2      4      5      8     10     12     13     16      17   \n",
              "4      1      2      4      8      9     11     12     13     15      16   \n",
              "\n",
              "   Bola11  Bola12  Bola13  Bola14  Bola15  \n",
              "0      18      20      23      24      25  \n",
              "1      16      19      20      23      24  \n",
              "2      16      17      20      23      24  \n",
              "3      18      19      23      24      25  \n",
              "4      19      20      23      24      25  "
            ],
            "text/html": [
              "\n",
              "\n",
              "  <div id=\"df-fa30e286-9e0e-4d2d-ba04-b3d0d40644f4\">\n",
              "    <div class=\"colab-df-container\">\n",
              "      <div>\n",
              "<style scoped>\n",
              "    .dataframe tbody tr th:only-of-type {\n",
              "        vertical-align: middle;\n",
              "    }\n",
              "\n",
              "    .dataframe tbody tr th {\n",
              "        vertical-align: top;\n",
              "    }\n",
              "\n",
              "    .dataframe thead th {\n",
              "        text-align: right;\n",
              "    }\n",
              "</style>\n",
              "<table border=\"1\" class=\"dataframe\">\n",
              "  <thead>\n",
              "    <tr style=\"text-align: right;\">\n",
              "      <th></th>\n",
              "      <th>Bola1</th>\n",
              "      <th>Bola2</th>\n",
              "      <th>Bola3</th>\n",
              "      <th>Bola4</th>\n",
              "      <th>Bola5</th>\n",
              "      <th>Bola6</th>\n",
              "      <th>Bola7</th>\n",
              "      <th>Bola8</th>\n",
              "      <th>Bola9</th>\n",
              "      <th>Bola10</th>\n",
              "      <th>Bola11</th>\n",
              "      <th>Bola12</th>\n",
              "      <th>Bola13</th>\n",
              "      <th>Bola14</th>\n",
              "      <th>Bola15</th>\n",
              "    </tr>\n",
              "  </thead>\n",
              "  <tbody>\n",
              "    <tr>\n",
              "      <th>0</th>\n",
              "      <td>2</td>\n",
              "      <td>3</td>\n",
              "      <td>5</td>\n",
              "      <td>6</td>\n",
              "      <td>9</td>\n",
              "      <td>10</td>\n",
              "      <td>11</td>\n",
              "      <td>13</td>\n",
              "      <td>14</td>\n",
              "      <td>16</td>\n",
              "      <td>18</td>\n",
              "      <td>20</td>\n",
              "      <td>23</td>\n",
              "      <td>24</td>\n",
              "      <td>25</td>\n",
              "    </tr>\n",
              "    <tr>\n",
              "      <th>1</th>\n",
              "      <td>1</td>\n",
              "      <td>4</td>\n",
              "      <td>5</td>\n",
              "      <td>6</td>\n",
              "      <td>7</td>\n",
              "      <td>9</td>\n",
              "      <td>11</td>\n",
              "      <td>12</td>\n",
              "      <td>13</td>\n",
              "      <td>15</td>\n",
              "      <td>16</td>\n",
              "      <td>19</td>\n",
              "      <td>20</td>\n",
              "      <td>23</td>\n",
              "      <td>24</td>\n",
              "    </tr>\n",
              "    <tr>\n",
              "      <th>2</th>\n",
              "      <td>1</td>\n",
              "      <td>4</td>\n",
              "      <td>6</td>\n",
              "      <td>7</td>\n",
              "      <td>8</td>\n",
              "      <td>9</td>\n",
              "      <td>10</td>\n",
              "      <td>11</td>\n",
              "      <td>12</td>\n",
              "      <td>14</td>\n",
              "      <td>16</td>\n",
              "      <td>17</td>\n",
              "      <td>20</td>\n",
              "      <td>23</td>\n",
              "      <td>24</td>\n",
              "    </tr>\n",
              "    <tr>\n",
              "      <th>3</th>\n",
              "      <td>1</td>\n",
              "      <td>2</td>\n",
              "      <td>4</td>\n",
              "      <td>5</td>\n",
              "      <td>8</td>\n",
              "      <td>10</td>\n",
              "      <td>12</td>\n",
              "      <td>13</td>\n",
              "      <td>16</td>\n",
              "      <td>17</td>\n",
              "      <td>18</td>\n",
              "      <td>19</td>\n",
              "      <td>23</td>\n",
              "      <td>24</td>\n",
              "      <td>25</td>\n",
              "    </tr>\n",
              "    <tr>\n",
              "      <th>4</th>\n",
              "      <td>1</td>\n",
              "      <td>2</td>\n",
              "      <td>4</td>\n",
              "      <td>8</td>\n",
              "      <td>9</td>\n",
              "      <td>11</td>\n",
              "      <td>12</td>\n",
              "      <td>13</td>\n",
              "      <td>15</td>\n",
              "      <td>16</td>\n",
              "      <td>19</td>\n",
              "      <td>20</td>\n",
              "      <td>23</td>\n",
              "      <td>24</td>\n",
              "      <td>25</td>\n",
              "    </tr>\n",
              "  </tbody>\n",
              "</table>\n",
              "</div>\n",
              "      <button class=\"colab-df-convert\" onclick=\"convertToInteractive('df-fa30e286-9e0e-4d2d-ba04-b3d0d40644f4')\"\n",
              "              title=\"Convert this dataframe to an interactive table.\"\n",
              "              style=\"display:none;\">\n",
              "\n",
              "  <svg xmlns=\"http://www.w3.org/2000/svg\" height=\"24px\"viewBox=\"0 0 24 24\"\n",
              "       width=\"24px\">\n",
              "    <path d=\"M0 0h24v24H0V0z\" fill=\"none\"/>\n",
              "    <path d=\"M18.56 5.44l.94 2.06.94-2.06 2.06-.94-2.06-.94-.94-2.06-.94 2.06-2.06.94zm-11 1L8.5 8.5l.94-2.06 2.06-.94-2.06-.94L8.5 2.5l-.94 2.06-2.06.94zm10 10l.94 2.06.94-2.06 2.06-.94-2.06-.94-.94-2.06-.94 2.06-2.06.94z\"/><path d=\"M17.41 7.96l-1.37-1.37c-.4-.4-.92-.59-1.43-.59-.52 0-1.04.2-1.43.59L10.3 9.45l-7.72 7.72c-.78.78-.78 2.05 0 2.83L4 21.41c.39.39.9.59 1.41.59.51 0 1.02-.2 1.41-.59l7.78-7.78 2.81-2.81c.8-.78.8-2.07 0-2.86zM5.41 20L4 18.59l7.72-7.72 1.47 1.35L5.41 20z\"/>\n",
              "  </svg>\n",
              "      </button>\n",
              "\n",
              "\n",
              "\n",
              "    <div id=\"df-dde07445-31fe-4839-8cf1-c1c7b15c1859\">\n",
              "      <button class=\"colab-df-quickchart\" onclick=\"quickchart('df-dde07445-31fe-4839-8cf1-c1c7b15c1859')\"\n",
              "              title=\"Suggest charts.\"\n",
              "              style=\"display:none;\">\n",
              "\n",
              "<svg xmlns=\"http://www.w3.org/2000/svg\" height=\"24px\"viewBox=\"0 0 24 24\"\n",
              "     width=\"24px\">\n",
              "    <g>\n",
              "        <path d=\"M19 3H5c-1.1 0-2 .9-2 2v14c0 1.1.9 2 2 2h14c1.1 0 2-.9 2-2V5c0-1.1-.9-2-2-2zM9 17H7v-7h2v7zm4 0h-2V7h2v10zm4 0h-2v-4h2v4z\"/>\n",
              "    </g>\n",
              "</svg>\n",
              "      </button>\n",
              "    </div>\n",
              "\n",
              "<style>\n",
              "  .colab-df-quickchart {\n",
              "    background-color: #E8F0FE;\n",
              "    border: none;\n",
              "    border-radius: 50%;\n",
              "    cursor: pointer;\n",
              "    display: none;\n",
              "    fill: #1967D2;\n",
              "    height: 32px;\n",
              "    padding: 0 0 0 0;\n",
              "    width: 32px;\n",
              "  }\n",
              "\n",
              "  .colab-df-quickchart:hover {\n",
              "    background-color: #E2EBFA;\n",
              "    box-shadow: 0px 1px 2px rgba(60, 64, 67, 0.3), 0px 1px 3px 1px rgba(60, 64, 67, 0.15);\n",
              "    fill: #174EA6;\n",
              "  }\n",
              "\n",
              "  [theme=dark] .colab-df-quickchart {\n",
              "    background-color: #3B4455;\n",
              "    fill: #D2E3FC;\n",
              "  }\n",
              "\n",
              "  [theme=dark] .colab-df-quickchart:hover {\n",
              "    background-color: #434B5C;\n",
              "    box-shadow: 0px 1px 3px 1px rgba(0, 0, 0, 0.15);\n",
              "    filter: drop-shadow(0px 1px 2px rgba(0, 0, 0, 0.3));\n",
              "    fill: #FFFFFF;\n",
              "  }\n",
              "</style>\n",
              "\n",
              "    <script>\n",
              "      async function quickchart(key) {\n",
              "        const containerElement = document.querySelector('#' + key);\n",
              "        const charts = await google.colab.kernel.invokeFunction(\n",
              "            'suggestCharts', [key], {});\n",
              "      }\n",
              "    </script>\n",
              "\n",
              "      <script>\n",
              "\n",
              "function displayQuickchartButton(domScope) {\n",
              "  let quickchartButtonEl =\n",
              "    domScope.querySelector('#df-dde07445-31fe-4839-8cf1-c1c7b15c1859 button.colab-df-quickchart');\n",
              "  quickchartButtonEl.style.display =\n",
              "    google.colab.kernel.accessAllowed ? 'block' : 'none';\n",
              "}\n",
              "\n",
              "        displayQuickchartButton(document);\n",
              "      </script>\n",
              "      <style>\n",
              "    .colab-df-container {\n",
              "      display:flex;\n",
              "      flex-wrap:wrap;\n",
              "      gap: 12px;\n",
              "    }\n",
              "\n",
              "    .colab-df-convert {\n",
              "      background-color: #E8F0FE;\n",
              "      border: none;\n",
              "      border-radius: 50%;\n",
              "      cursor: pointer;\n",
              "      display: none;\n",
              "      fill: #1967D2;\n",
              "      height: 32px;\n",
              "      padding: 0 0 0 0;\n",
              "      width: 32px;\n",
              "    }\n",
              "\n",
              "    .colab-df-convert:hover {\n",
              "      background-color: #E2EBFA;\n",
              "      box-shadow: 0px 1px 2px rgba(60, 64, 67, 0.3), 0px 1px 3px 1px rgba(60, 64, 67, 0.15);\n",
              "      fill: #174EA6;\n",
              "    }\n",
              "\n",
              "    [theme=dark] .colab-df-convert {\n",
              "      background-color: #3B4455;\n",
              "      fill: #D2E3FC;\n",
              "    }\n",
              "\n",
              "    [theme=dark] .colab-df-convert:hover {\n",
              "      background-color: #434B5C;\n",
              "      box-shadow: 0px 1px 3px 1px rgba(0, 0, 0, 0.15);\n",
              "      filter: drop-shadow(0px 1px 2px rgba(0, 0, 0, 0.3));\n",
              "      fill: #FFFFFF;\n",
              "    }\n",
              "  </style>\n",
              "\n",
              "      <script>\n",
              "        const buttonEl =\n",
              "          document.querySelector('#df-fa30e286-9e0e-4d2d-ba04-b3d0d40644f4 button.colab-df-convert');\n",
              "        buttonEl.style.display =\n",
              "          google.colab.kernel.accessAllowed ? 'block' : 'none';\n",
              "\n",
              "        async function convertToInteractive(key) {\n",
              "          const element = document.querySelector('#df-fa30e286-9e0e-4d2d-ba04-b3d0d40644f4');\n",
              "          const dataTable =\n",
              "            await google.colab.kernel.invokeFunction('convertToInteractive',\n",
              "                                                     [key], {});\n",
              "          if (!dataTable) return;\n",
              "\n",
              "          const docLinkHtml = 'Like what you see? Visit the ' +\n",
              "            '<a target=\"_blank\" href=https://colab.research.google.com/notebooks/data_table.ipynb>data table notebook</a>'\n",
              "            + ' to learn more about interactive tables.';\n",
              "          element.innerHTML = '';\n",
              "          dataTable['output_type'] = 'display_data';\n",
              "          await google.colab.output.renderOutput(dataTable, element);\n",
              "          const docLink = document.createElement('div');\n",
              "          docLink.innerHTML = docLinkHtml;\n",
              "          element.appendChild(docLink);\n",
              "        }\n",
              "      </script>\n",
              "    </div>\n",
              "  </div>\n"
            ]
          },
          "metadata": {},
          "execution_count": 3
        },
        {
          "output_type": "stream",
          "name": "stdout",
          "text": [
            "time: 2.16 s (started: 2023-08-01 16:41:27 +00:00)\n"
          ]
        }
      ]
    },
    {
      "cell_type": "markdown",
      "source": [
        "# Data Transformation\n",
        "A partir da tabela que contém os sorteios, cria uma segunda contendo dados estatísticos e outras informações adicionais sobre os sorteios. Esta etapa será o equivalente à engenharia de atributos, mas ao contrário do que é feito normalmente, será feita antes da análise exploratória porque o conjunto de dados precisa ser criado primeiro."
      ],
      "metadata": {
        "id": "O9qfxtK_wel3"
      }
    },
    {
      "cell_type": "code",
      "source": [
        "from sklearn.base     import BaseEstimator, TransformerMixin\n",
        "from sklearn.compose  import ColumnTransformer\n",
        "from sklearn.pipeline import Pipeline\n",
        "\n",
        "import itertools\n",
        "import numpy as np"
      ],
      "metadata": {
        "colab": {
          "base_uri": "https://localhost:8080/"
        },
        "id": "kyL41uThJ7f_",
        "outputId": "2c497206-1d81-4745-8bc0-c7a4f680786d"
      },
      "execution_count": 4,
      "outputs": [
        {
          "output_type": "stream",
          "name": "stdout",
          "text": [
            "time: 913 ms (started: 2023-08-01 16:41:29 +00:00)\n"
          ]
        }
      ]
    },
    {
      "cell_type": "code",
      "source": [
        "class DescriptiveStatistics(BaseEstimator, TransformerMixin):\n",
        "  def fit(self, X, y=None):\n",
        "    return self\n",
        "\n",
        "  def fit_transform(self, X, y=None):\n",
        "    self.fit(X, y)\n",
        "    return self.transform(X, y)\n",
        "\n",
        "  def transform(self, X, y=None):\n",
        "    X_ = X.copy()\n",
        "    X_['min']  = X_.apply(lambda y: y.min(), axis=1)\n",
        "    X_['max']  = X_.apply(lambda y: y.max(), axis=1)\n",
        "    X_['mean'] = X_.apply(lambda y: y.mean(), axis=1)\n",
        "    X_['std']  = X_.apply(lambda y: y.std(), axis=1)\n",
        "    return X_"
      ],
      "metadata": {
        "colab": {
          "base_uri": "https://localhost:8080/"
        },
        "id": "sCooqB-xolg7",
        "outputId": "09e8c32e-3f1d-476c-8b84-17271dbfa1d9"
      },
      "execution_count": 5,
      "outputs": [
        {
          "output_type": "stream",
          "name": "stdout",
          "text": [
            "time: 1.7 ms (started: 2023-08-01 16:41:30 +00:00)\n"
          ]
        }
      ]
    },
    {
      "cell_type": "code",
      "source": [
        "class EvenAmount(BaseEstimator, TransformerMixin):\n",
        "  def fit(self, X, y=None):\n",
        "    return self\n",
        "\n",
        "  def fit_transform(self, X, y=None):\n",
        "    self.fit(X, y)\n",
        "    return self.transform(X, y)\n",
        "\n",
        "  def get_feature_names_out(self):\n",
        "    pass\n",
        "\n",
        "  def even_amount(self, raffle):\n",
        "    raffle_size = 15\n",
        "    even = itertools.filterfalse(lambda x: x % 2 != 0, raffle.iloc[:raffle_size])\n",
        "    return len(list(even))\n",
        "\n",
        "  def transform(self, X, y=None):\n",
        "    X = X.copy()\n",
        "    raffle_size = 15\n",
        "    X['even_amount'] = X.apply(self.even_amount, axis=1)\n",
        "    return X"
      ],
      "metadata": {
        "id": "Hz8DHRvwNRcC",
        "colab": {
          "base_uri": "https://localhost:8080/"
        },
        "outputId": "ff52d196-9f41-4f5d-d5f4-fe3bc1e9bbbb"
      },
      "execution_count": 6,
      "outputs": [
        {
          "output_type": "stream",
          "name": "stdout",
          "text": [
            "time: 1.25 ms (started: 2023-08-01 16:41:30 +00:00)\n"
          ]
        }
      ]
    },
    {
      "cell_type": "code",
      "source": [
        "class Quartiles(BaseEstimator, TransformerMixin):\n",
        "  def fit(self, X, y=None):\n",
        "    return self\n",
        "\n",
        "  def fit_transform(self, X, y=None):\n",
        "    self.fit(X, y)\n",
        "    return self.transform(X, y)\n",
        "\n",
        "  def get_feature_names_out(self):\n",
        "    pass\n",
        "\n",
        "  def transform(self, X, y=None):\n",
        "    X_ = X.iloc[:, 0: 15].copy()\n",
        "    X['quartile_1_9']   = X_.apply(lambda y: ((y >= 1) & (y <= 9)).sum(), axis=1)\n",
        "    X['quartile_10_17']  = X_.apply(lambda y: ((y >= 10) & (y <= 17)).sum(), axis=1)\n",
        "    X['quartile_18_25'] = X_.apply(lambda y: ((y >= 18) & (y <= 25)).sum(), axis=1)\n",
        "    return X"
      ],
      "metadata": {
        "colab": {
          "base_uri": "https://localhost:8080/"
        },
        "id": "aJDUYSXqAAgy",
        "outputId": "2e5b7a95-7c5d-4c4c-fbdf-fbc3bf8f5ef6"
      },
      "execution_count": 7,
      "outputs": [
        {
          "output_type": "stream",
          "name": "stdout",
          "text": [
            "time: 1.35 ms (started: 2023-08-01 16:41:30 +00:00)\n"
          ]
        }
      ]
    },
    {
      "cell_type": "code",
      "source": [
        "class RaffleRemover(BaseEstimator, TransformerMixin):\n",
        "  def fit(self, X, y=None):\n",
        "    return self\n",
        "\n",
        "  def fit_transform(self, X, y=None):\n",
        "    self.fit(X, y)\n",
        "    return self.transform(X, y)\n",
        "\n",
        "  def transform(self, X, y=None):\n",
        "    return X.iloc[:, 15:]"
      ],
      "metadata": {
        "id": "WH_-iDbA47Oa",
        "colab": {
          "base_uri": "https://localhost:8080/"
        },
        "outputId": "f0e336a2-fa7c-4f52-e69d-e992ff4f596d"
      },
      "execution_count": 8,
      "outputs": [
        {
          "output_type": "stream",
          "name": "stdout",
          "text": [
            "time: 963 µs (started: 2023-08-01 16:41:30 +00:00)\n"
          ]
        }
      ]
    },
    {
      "cell_type": "code",
      "source": [
        "class RepeatedOne(BaseEstimator, TransformerMixin):\n",
        "  def fit(self, X, y=None):\n",
        "    return self\n",
        "\n",
        "  def fit_transform(self, X, y=None):\n",
        "    self.fit(X, y)\n",
        "    return self.transform(X, y)\n",
        "\n",
        "  def match_numbers(self, X):\n",
        "      raffle_x = set(X[['Bola1', 'Bola2', 'Bola3', 'Bola4', 'Bola5', 'Bola6', 'Bola7', 'Bola8', 'Bola9', 'Bola10', 'Bola11', 'Bola12', 'Bola13', 'Bola14', 'Bola15']])\n",
        "      raffle_y = set(X[['lag1_Bola1', 'lag1_Bola2', 'lag1_Bola3', 'lag1_Bola4', 'lag1_Bola5', 'lag1_Bola6', 'lag1_Bola7', 'lag1_Bola8', 'lag1_Bola9', 'lag1_Bola10', 'lag1_Bola11', 'lag1_Bola12', 'lag1_Bola13', 'lag1_Bola14', 'lag1_Bola15']])\n",
        "      return len(raffle_x.intersection(raffle_y))\n",
        "\n",
        "  def transform(self, X, y=None):\n",
        "    X_ = X.copy()\n",
        "    for name in X_.columns:\n",
        "      X_['lag1_' + name] = X_[name].shift(1)\n",
        "    X['repeated'] = X_.apply(self.match_numbers, axis=1)\n",
        "    return X"
      ],
      "metadata": {
        "id": "1P4IRxCQJ4vk",
        "colab": {
          "base_uri": "https://localhost:8080/"
        },
        "outputId": "f1297a2f-685e-40c4-fab4-e1eb4575df0e"
      },
      "execution_count": 9,
      "outputs": [
        {
          "output_type": "stream",
          "name": "stdout",
          "text": [
            "time: 2.1 ms (started: 2023-08-01 16:41:30 +00:00)\n"
          ]
        }
      ]
    },
    {
      "cell_type": "code",
      "source": [
        "class QuartilesPatternMapping(BaseEstimator, TransformerMixin):\n",
        "  \"\"\"\n",
        "  Codifica cada sequência de valores presentes nos atributos quartile_1_5 até quartile_21_25 em apenas um número.\n",
        "  Assim, é possível criar um atributo substituindo os cinco.\n",
        "  \"\"\"\n",
        "  def fit(self, X, y=None):\n",
        "    X_ = X[['quartile_1_9', 'quartile_10_17', 'quartile_18_25']]\n",
        "    self.quartiles = list()\n",
        "    X_.apply(lambda y: self.quartiles.append(np.array2string(y.to_numpy())), axis=1) # transforma cada sequência de cinco números em uma string\n",
        "    patterns_unique = {item for item in self.quartiles} # set comprehension\n",
        "    self.patterns_map = {value: index for index, value in enumerate(patterns_unique)} # dicionário padrão:id\n",
        "    return self\n",
        "\n",
        "  def fit_transform(self, X, y=None):\n",
        "    self.fit(X, y)\n",
        "    return self.transform(X, y)\n",
        "\n",
        "  def transform(self, X, y=None):\n",
        "    X['quartiles_codified'] = pd.Series(self.quartiles).replace(self.patterns_map)\n",
        "    X = X.drop(['quartile_1_9', 'quartile_10_17', 'quartile_18_25'], axis=1)\n",
        "    return X"
      ],
      "metadata": {
        "colab": {
          "base_uri": "https://localhost:8080/"
        },
        "id": "jZSq_mUQ0se7",
        "outputId": "0f448b48-71e0-4a75-a192-04f500827d9e"
      },
      "execution_count": 10,
      "outputs": [
        {
          "output_type": "stream",
          "name": "stdout",
          "text": [
            "time: 1.5 ms (started: 2023-08-01 16:41:31 +00:00)\n"
          ]
        }
      ]
    },
    {
      "cell_type": "markdown",
      "source": [
        "## Pipeline completo"
      ],
      "metadata": {
        "id": "-xsFbyAhwU9M"
      }
    },
    {
      "cell_type": "code",
      "source": [
        "steps = [('descriptivestatistics', DescriptiveStatistics()),\n",
        "         ('repeated', RepeatedOne()),\n",
        "         ('evenodd', EvenAmount()),\n",
        "         ('quartiles', Quartiles()),\n",
        "         ('raffleremover', RaffleRemover()),\n",
        "         ('quartilespatternmapping', QuartilesPatternMapping())]\n",
        "\n",
        "pipeline_full = Pipeline(steps=steps)\n",
        "dataset = pipeline_full.fit_transform(raffles)"
      ],
      "metadata": {
        "colab": {
          "base_uri": "https://localhost:8080/"
        },
        "id": "G7X9W9jDs1TX",
        "outputId": "566d61ca-542a-4175-b1d0-e2e76bf4e1b4"
      },
      "execution_count": 11,
      "outputs": [
        {
          "output_type": "stream",
          "name": "stdout",
          "text": [
            "time: 8.55 s (started: 2023-08-01 16:41:35 +00:00)\n"
          ]
        }
      ]
    },
    {
      "cell_type": "markdown",
      "source": [
        "# EDA"
      ],
      "metadata": {
        "id": "rHXrblNRL9yv"
      }
    },
    {
      "cell_type": "code",
      "source": [
        "dataset"
      ],
      "metadata": {
        "colab": {
          "base_uri": "https://localhost:8080/",
          "height": 441
        },
        "id": "8spxY42TMBTi",
        "outputId": "d778439f-ab2d-4037-b52f-8f2e10cc6056"
      },
      "execution_count": 12,
      "outputs": [
        {
          "output_type": "execute_result",
          "data": {
            "text/plain": [
              "      min  max       mean       std  repeated  even_amount  quartiles_codified\n",
              "0       2   25  13.294118  7.954020         0            8                  44\n",
              "1       1   24  12.352941  7.561055         9            6                  35\n",
              "2       1   24  12.176471  7.334329        11            9                  10\n",
              "3       1   25  13.117647  8.344652         9            8                  44\n",
              "4       1   25  13.411765  8.189368        11            7                  44\n",
              "...   ...  ...        ...       ...       ...          ...                 ...\n",
              "2871    1   25  13.823529  8.082190        10            6                  43\n",
              "2872    1   25  14.588235  7.889374        10            9                  19\n",
              "2873    1   23  11.588235  7.178881         7            6                  35\n",
              "2874    1   25  11.176471  7.350352        10            7                  18\n",
              "2875    2   25  12.176471  7.617590         9            9                   7\n",
              "\n",
              "[2876 rows x 7 columns]"
            ],
            "text/html": [
              "\n",
              "\n",
              "  <div id=\"df-bc56f178-19b5-49a1-8616-ad7818941d9a\">\n",
              "    <div class=\"colab-df-container\">\n",
              "      <div>\n",
              "<style scoped>\n",
              "    .dataframe tbody tr th:only-of-type {\n",
              "        vertical-align: middle;\n",
              "    }\n",
              "\n",
              "    .dataframe tbody tr th {\n",
              "        vertical-align: top;\n",
              "    }\n",
              "\n",
              "    .dataframe thead th {\n",
              "        text-align: right;\n",
              "    }\n",
              "</style>\n",
              "<table border=\"1\" class=\"dataframe\">\n",
              "  <thead>\n",
              "    <tr style=\"text-align: right;\">\n",
              "      <th></th>\n",
              "      <th>min</th>\n",
              "      <th>max</th>\n",
              "      <th>mean</th>\n",
              "      <th>std</th>\n",
              "      <th>repeated</th>\n",
              "      <th>even_amount</th>\n",
              "      <th>quartiles_codified</th>\n",
              "    </tr>\n",
              "  </thead>\n",
              "  <tbody>\n",
              "    <tr>\n",
              "      <th>0</th>\n",
              "      <td>2</td>\n",
              "      <td>25</td>\n",
              "      <td>13.294118</td>\n",
              "      <td>7.954020</td>\n",
              "      <td>0</td>\n",
              "      <td>8</td>\n",
              "      <td>44</td>\n",
              "    </tr>\n",
              "    <tr>\n",
              "      <th>1</th>\n",
              "      <td>1</td>\n",
              "      <td>24</td>\n",
              "      <td>12.352941</td>\n",
              "      <td>7.561055</td>\n",
              "      <td>9</td>\n",
              "      <td>6</td>\n",
              "      <td>35</td>\n",
              "    </tr>\n",
              "    <tr>\n",
              "      <th>2</th>\n",
              "      <td>1</td>\n",
              "      <td>24</td>\n",
              "      <td>12.176471</td>\n",
              "      <td>7.334329</td>\n",
              "      <td>11</td>\n",
              "      <td>9</td>\n",
              "      <td>10</td>\n",
              "    </tr>\n",
              "    <tr>\n",
              "      <th>3</th>\n",
              "      <td>1</td>\n",
              "      <td>25</td>\n",
              "      <td>13.117647</td>\n",
              "      <td>8.344652</td>\n",
              "      <td>9</td>\n",
              "      <td>8</td>\n",
              "      <td>44</td>\n",
              "    </tr>\n",
              "    <tr>\n",
              "      <th>4</th>\n",
              "      <td>1</td>\n",
              "      <td>25</td>\n",
              "      <td>13.411765</td>\n",
              "      <td>8.189368</td>\n",
              "      <td>11</td>\n",
              "      <td>7</td>\n",
              "      <td>44</td>\n",
              "    </tr>\n",
              "    <tr>\n",
              "      <th>...</th>\n",
              "      <td>...</td>\n",
              "      <td>...</td>\n",
              "      <td>...</td>\n",
              "      <td>...</td>\n",
              "      <td>...</td>\n",
              "      <td>...</td>\n",
              "      <td>...</td>\n",
              "    </tr>\n",
              "    <tr>\n",
              "      <th>2871</th>\n",
              "      <td>1</td>\n",
              "      <td>25</td>\n",
              "      <td>13.823529</td>\n",
              "      <td>8.082190</td>\n",
              "      <td>10</td>\n",
              "      <td>6</td>\n",
              "      <td>43</td>\n",
              "    </tr>\n",
              "    <tr>\n",
              "      <th>2872</th>\n",
              "      <td>1</td>\n",
              "      <td>25</td>\n",
              "      <td>14.588235</td>\n",
              "      <td>7.889374</td>\n",
              "      <td>10</td>\n",
              "      <td>9</td>\n",
              "      <td>19</td>\n",
              "    </tr>\n",
              "    <tr>\n",
              "      <th>2873</th>\n",
              "      <td>1</td>\n",
              "      <td>23</td>\n",
              "      <td>11.588235</td>\n",
              "      <td>7.178881</td>\n",
              "      <td>7</td>\n",
              "      <td>6</td>\n",
              "      <td>35</td>\n",
              "    </tr>\n",
              "    <tr>\n",
              "      <th>2874</th>\n",
              "      <td>1</td>\n",
              "      <td>25</td>\n",
              "      <td>11.176471</td>\n",
              "      <td>7.350352</td>\n",
              "      <td>10</td>\n",
              "      <td>7</td>\n",
              "      <td>18</td>\n",
              "    </tr>\n",
              "    <tr>\n",
              "      <th>2875</th>\n",
              "      <td>2</td>\n",
              "      <td>25</td>\n",
              "      <td>12.176471</td>\n",
              "      <td>7.617590</td>\n",
              "      <td>9</td>\n",
              "      <td>9</td>\n",
              "      <td>7</td>\n",
              "    </tr>\n",
              "  </tbody>\n",
              "</table>\n",
              "<p>2876 rows × 7 columns</p>\n",
              "</div>\n",
              "      <button class=\"colab-df-convert\" onclick=\"convertToInteractive('df-bc56f178-19b5-49a1-8616-ad7818941d9a')\"\n",
              "              title=\"Convert this dataframe to an interactive table.\"\n",
              "              style=\"display:none;\">\n",
              "\n",
              "  <svg xmlns=\"http://www.w3.org/2000/svg\" height=\"24px\"viewBox=\"0 0 24 24\"\n",
              "       width=\"24px\">\n",
              "    <path d=\"M0 0h24v24H0V0z\" fill=\"none\"/>\n",
              "    <path d=\"M18.56 5.44l.94 2.06.94-2.06 2.06-.94-2.06-.94-.94-2.06-.94 2.06-2.06.94zm-11 1L8.5 8.5l.94-2.06 2.06-.94-2.06-.94L8.5 2.5l-.94 2.06-2.06.94zm10 10l.94 2.06.94-2.06 2.06-.94-2.06-.94-.94-2.06-.94 2.06-2.06.94z\"/><path d=\"M17.41 7.96l-1.37-1.37c-.4-.4-.92-.59-1.43-.59-.52 0-1.04.2-1.43.59L10.3 9.45l-7.72 7.72c-.78.78-.78 2.05 0 2.83L4 21.41c.39.39.9.59 1.41.59.51 0 1.02-.2 1.41-.59l7.78-7.78 2.81-2.81c.8-.78.8-2.07 0-2.86zM5.41 20L4 18.59l7.72-7.72 1.47 1.35L5.41 20z\"/>\n",
              "  </svg>\n",
              "      </button>\n",
              "\n",
              "\n",
              "\n",
              "    <div id=\"df-28ac0a2c-14f2-4d1e-be5a-4391c4acfc07\">\n",
              "      <button class=\"colab-df-quickchart\" onclick=\"quickchart('df-28ac0a2c-14f2-4d1e-be5a-4391c4acfc07')\"\n",
              "              title=\"Suggest charts.\"\n",
              "              style=\"display:none;\">\n",
              "\n",
              "<svg xmlns=\"http://www.w3.org/2000/svg\" height=\"24px\"viewBox=\"0 0 24 24\"\n",
              "     width=\"24px\">\n",
              "    <g>\n",
              "        <path d=\"M19 3H5c-1.1 0-2 .9-2 2v14c0 1.1.9 2 2 2h14c1.1 0 2-.9 2-2V5c0-1.1-.9-2-2-2zM9 17H7v-7h2v7zm4 0h-2V7h2v10zm4 0h-2v-4h2v4z\"/>\n",
              "    </g>\n",
              "</svg>\n",
              "      </button>\n",
              "    </div>\n",
              "\n",
              "<style>\n",
              "  .colab-df-quickchart {\n",
              "    background-color: #E8F0FE;\n",
              "    border: none;\n",
              "    border-radius: 50%;\n",
              "    cursor: pointer;\n",
              "    display: none;\n",
              "    fill: #1967D2;\n",
              "    height: 32px;\n",
              "    padding: 0 0 0 0;\n",
              "    width: 32px;\n",
              "  }\n",
              "\n",
              "  .colab-df-quickchart:hover {\n",
              "    background-color: #E2EBFA;\n",
              "    box-shadow: 0px 1px 2px rgba(60, 64, 67, 0.3), 0px 1px 3px 1px rgba(60, 64, 67, 0.15);\n",
              "    fill: #174EA6;\n",
              "  }\n",
              "\n",
              "  [theme=dark] .colab-df-quickchart {\n",
              "    background-color: #3B4455;\n",
              "    fill: #D2E3FC;\n",
              "  }\n",
              "\n",
              "  [theme=dark] .colab-df-quickchart:hover {\n",
              "    background-color: #434B5C;\n",
              "    box-shadow: 0px 1px 3px 1px rgba(0, 0, 0, 0.15);\n",
              "    filter: drop-shadow(0px 1px 2px rgba(0, 0, 0, 0.3));\n",
              "    fill: #FFFFFF;\n",
              "  }\n",
              "</style>\n",
              "\n",
              "    <script>\n",
              "      async function quickchart(key) {\n",
              "        const containerElement = document.querySelector('#' + key);\n",
              "        const charts = await google.colab.kernel.invokeFunction(\n",
              "            'suggestCharts', [key], {});\n",
              "      }\n",
              "    </script>\n",
              "\n",
              "      <script>\n",
              "\n",
              "function displayQuickchartButton(domScope) {\n",
              "  let quickchartButtonEl =\n",
              "    domScope.querySelector('#df-28ac0a2c-14f2-4d1e-be5a-4391c4acfc07 button.colab-df-quickchart');\n",
              "  quickchartButtonEl.style.display =\n",
              "    google.colab.kernel.accessAllowed ? 'block' : 'none';\n",
              "}\n",
              "\n",
              "        displayQuickchartButton(document);\n",
              "      </script>\n",
              "      <style>\n",
              "    .colab-df-container {\n",
              "      display:flex;\n",
              "      flex-wrap:wrap;\n",
              "      gap: 12px;\n",
              "    }\n",
              "\n",
              "    .colab-df-convert {\n",
              "      background-color: #E8F0FE;\n",
              "      border: none;\n",
              "      border-radius: 50%;\n",
              "      cursor: pointer;\n",
              "      display: none;\n",
              "      fill: #1967D2;\n",
              "      height: 32px;\n",
              "      padding: 0 0 0 0;\n",
              "      width: 32px;\n",
              "    }\n",
              "\n",
              "    .colab-df-convert:hover {\n",
              "      background-color: #E2EBFA;\n",
              "      box-shadow: 0px 1px 2px rgba(60, 64, 67, 0.3), 0px 1px 3px 1px rgba(60, 64, 67, 0.15);\n",
              "      fill: #174EA6;\n",
              "    }\n",
              "\n",
              "    [theme=dark] .colab-df-convert {\n",
              "      background-color: #3B4455;\n",
              "      fill: #D2E3FC;\n",
              "    }\n",
              "\n",
              "    [theme=dark] .colab-df-convert:hover {\n",
              "      background-color: #434B5C;\n",
              "      box-shadow: 0px 1px 3px 1px rgba(0, 0, 0, 0.15);\n",
              "      filter: drop-shadow(0px 1px 2px rgba(0, 0, 0, 0.3));\n",
              "      fill: #FFFFFF;\n",
              "    }\n",
              "  </style>\n",
              "\n",
              "      <script>\n",
              "        const buttonEl =\n",
              "          document.querySelector('#df-bc56f178-19b5-49a1-8616-ad7818941d9a button.colab-df-convert');\n",
              "        buttonEl.style.display =\n",
              "          google.colab.kernel.accessAllowed ? 'block' : 'none';\n",
              "\n",
              "        async function convertToInteractive(key) {\n",
              "          const element = document.querySelector('#df-bc56f178-19b5-49a1-8616-ad7818941d9a');\n",
              "          const dataTable =\n",
              "            await google.colab.kernel.invokeFunction('convertToInteractive',\n",
              "                                                     [key], {});\n",
              "          if (!dataTable) return;\n",
              "\n",
              "          const docLinkHtml = 'Like what you see? Visit the ' +\n",
              "            '<a target=\"_blank\" href=https://colab.research.google.com/notebooks/data_table.ipynb>data table notebook</a>'\n",
              "            + ' to learn more about interactive tables.';\n",
              "          element.innerHTML = '';\n",
              "          dataTable['output_type'] = 'display_data';\n",
              "          await google.colab.output.renderOutput(dataTable, element);\n",
              "          const docLink = document.createElement('div');\n",
              "          docLink.innerHTML = docLinkHtml;\n",
              "          element.appendChild(docLink);\n",
              "        }\n",
              "      </script>\n",
              "    </div>\n",
              "  </div>\n"
            ]
          },
          "metadata": {},
          "execution_count": 12
        },
        {
          "output_type": "stream",
          "name": "stdout",
          "text": [
            "time: 15.3 ms (started: 2023-08-01 16:41:43 +00:00)\n"
          ]
        }
      ]
    },
    {
      "cell_type": "code",
      "source": [
        "dataset.info()"
      ],
      "metadata": {
        "colab": {
          "base_uri": "https://localhost:8080/"
        },
        "id": "7wZonrtyMMNn",
        "outputId": "09e3dc3f-b70c-4ec9-dfd1-b7790c476c1b"
      },
      "execution_count": null,
      "outputs": [
        {
          "output_type": "stream",
          "name": "stdout",
          "text": [
            "<class 'pandas.core.frame.DataFrame'>\n",
            "RangeIndex: 2876 entries, 0 to 2875\n",
            "Data columns (total 7 columns):\n",
            " #   Column              Non-Null Count  Dtype  \n",
            "---  ------              --------------  -----  \n",
            " 0   min                 2876 non-null   int64  \n",
            " 1   max                 2876 non-null   int64  \n",
            " 2   mean                2876 non-null   float64\n",
            " 3   std                 2876 non-null   float64\n",
            " 4   repeated            2876 non-null   int64  \n",
            " 5   even_amount         2876 non-null   int64  \n",
            " 6   quartiles_codified  2876 non-null   int64  \n",
            "dtypes: float64(2), int64(5)\n",
            "memory usage: 157.4 KB\n",
            "time: 12.6 ms (started: 2023-08-01 13:23:15 +00:00)\n"
          ]
        }
      ]
    },
    {
      "cell_type": "code",
      "source": [
        "dataset.describe()"
      ],
      "metadata": {
        "colab": {
          "base_uri": "https://localhost:8080/",
          "height": 318
        },
        "id": "hisV0rTbMRas",
        "outputId": "cca02e5d-42b2-466e-e007-e56dcea35da2"
      },
      "execution_count": null,
      "outputs": [
        {
          "output_type": "execute_result",
          "data": {
            "text/plain": [
              "               min         max         mean          std     repeated  \\\n",
              "count  2876.000000  2876.00000  2876.000000  2876.000000  2876.000000   \n",
              "mean      1.621349    24.40299    13.018776     7.735939     8.960014   \n",
              "std       0.924008     0.93770     1.085323     0.550401     1.237726   \n",
              "min       1.000000    18.00000     8.941176     5.093588     0.000000   \n",
              "25%       1.000000    24.00000    12.294118     7.393886     8.000000   \n",
              "50%       1.000000    25.00000    13.000000     7.784511     9.000000   \n",
              "75%       2.000000    25.00000    13.823529     8.138613    10.000000   \n",
              "max       7.000000    25.00000    16.294118     9.257560    14.000000   \n",
              "\n",
              "       even_amount  quartiles_codified  \n",
              "count  2876.000000         2876.000000  \n",
              "mean      7.196801           20.899166  \n",
              "std       1.255057           12.446236  \n",
              "min       3.000000            0.000000  \n",
              "25%       6.000000            8.000000  \n",
              "50%       7.000000           20.500000  \n",
              "75%       8.000000           33.000000  \n",
              "max      11.000000           45.000000  "
            ],
            "text/html": [
              "\n",
              "\n",
              "  <div id=\"df-9cc6be27-40ed-4875-abbd-1a61309d9299\">\n",
              "    <div class=\"colab-df-container\">\n",
              "      <div>\n",
              "<style scoped>\n",
              "    .dataframe tbody tr th:only-of-type {\n",
              "        vertical-align: middle;\n",
              "    }\n",
              "\n",
              "    .dataframe tbody tr th {\n",
              "        vertical-align: top;\n",
              "    }\n",
              "\n",
              "    .dataframe thead th {\n",
              "        text-align: right;\n",
              "    }\n",
              "</style>\n",
              "<table border=\"1\" class=\"dataframe\">\n",
              "  <thead>\n",
              "    <tr style=\"text-align: right;\">\n",
              "      <th></th>\n",
              "      <th>min</th>\n",
              "      <th>max</th>\n",
              "      <th>mean</th>\n",
              "      <th>std</th>\n",
              "      <th>repeated</th>\n",
              "      <th>even_amount</th>\n",
              "      <th>quartiles_codified</th>\n",
              "    </tr>\n",
              "  </thead>\n",
              "  <tbody>\n",
              "    <tr>\n",
              "      <th>count</th>\n",
              "      <td>2876.000000</td>\n",
              "      <td>2876.00000</td>\n",
              "      <td>2876.000000</td>\n",
              "      <td>2876.000000</td>\n",
              "      <td>2876.000000</td>\n",
              "      <td>2876.000000</td>\n",
              "      <td>2876.000000</td>\n",
              "    </tr>\n",
              "    <tr>\n",
              "      <th>mean</th>\n",
              "      <td>1.621349</td>\n",
              "      <td>24.40299</td>\n",
              "      <td>13.018776</td>\n",
              "      <td>7.735939</td>\n",
              "      <td>8.960014</td>\n",
              "      <td>7.196801</td>\n",
              "      <td>20.899166</td>\n",
              "    </tr>\n",
              "    <tr>\n",
              "      <th>std</th>\n",
              "      <td>0.924008</td>\n",
              "      <td>0.93770</td>\n",
              "      <td>1.085323</td>\n",
              "      <td>0.550401</td>\n",
              "      <td>1.237726</td>\n",
              "      <td>1.255057</td>\n",
              "      <td>12.446236</td>\n",
              "    </tr>\n",
              "    <tr>\n",
              "      <th>min</th>\n",
              "      <td>1.000000</td>\n",
              "      <td>18.00000</td>\n",
              "      <td>8.941176</td>\n",
              "      <td>5.093588</td>\n",
              "      <td>0.000000</td>\n",
              "      <td>3.000000</td>\n",
              "      <td>0.000000</td>\n",
              "    </tr>\n",
              "    <tr>\n",
              "      <th>25%</th>\n",
              "      <td>1.000000</td>\n",
              "      <td>24.00000</td>\n",
              "      <td>12.294118</td>\n",
              "      <td>7.393886</td>\n",
              "      <td>8.000000</td>\n",
              "      <td>6.000000</td>\n",
              "      <td>8.000000</td>\n",
              "    </tr>\n",
              "    <tr>\n",
              "      <th>50%</th>\n",
              "      <td>1.000000</td>\n",
              "      <td>25.00000</td>\n",
              "      <td>13.000000</td>\n",
              "      <td>7.784511</td>\n",
              "      <td>9.000000</td>\n",
              "      <td>7.000000</td>\n",
              "      <td>20.500000</td>\n",
              "    </tr>\n",
              "    <tr>\n",
              "      <th>75%</th>\n",
              "      <td>2.000000</td>\n",
              "      <td>25.00000</td>\n",
              "      <td>13.823529</td>\n",
              "      <td>8.138613</td>\n",
              "      <td>10.000000</td>\n",
              "      <td>8.000000</td>\n",
              "      <td>33.000000</td>\n",
              "    </tr>\n",
              "    <tr>\n",
              "      <th>max</th>\n",
              "      <td>7.000000</td>\n",
              "      <td>25.00000</td>\n",
              "      <td>16.294118</td>\n",
              "      <td>9.257560</td>\n",
              "      <td>14.000000</td>\n",
              "      <td>11.000000</td>\n",
              "      <td>45.000000</td>\n",
              "    </tr>\n",
              "  </tbody>\n",
              "</table>\n",
              "</div>\n",
              "      <button class=\"colab-df-convert\" onclick=\"convertToInteractive('df-9cc6be27-40ed-4875-abbd-1a61309d9299')\"\n",
              "              title=\"Convert this dataframe to an interactive table.\"\n",
              "              style=\"display:none;\">\n",
              "\n",
              "  <svg xmlns=\"http://www.w3.org/2000/svg\" height=\"24px\"viewBox=\"0 0 24 24\"\n",
              "       width=\"24px\">\n",
              "    <path d=\"M0 0h24v24H0V0z\" fill=\"none\"/>\n",
              "    <path d=\"M18.56 5.44l.94 2.06.94-2.06 2.06-.94-2.06-.94-.94-2.06-.94 2.06-2.06.94zm-11 1L8.5 8.5l.94-2.06 2.06-.94-2.06-.94L8.5 2.5l-.94 2.06-2.06.94zm10 10l.94 2.06.94-2.06 2.06-.94-2.06-.94-.94-2.06-.94 2.06-2.06.94z\"/><path d=\"M17.41 7.96l-1.37-1.37c-.4-.4-.92-.59-1.43-.59-.52 0-1.04.2-1.43.59L10.3 9.45l-7.72 7.72c-.78.78-.78 2.05 0 2.83L4 21.41c.39.39.9.59 1.41.59.51 0 1.02-.2 1.41-.59l7.78-7.78 2.81-2.81c.8-.78.8-2.07 0-2.86zM5.41 20L4 18.59l7.72-7.72 1.47 1.35L5.41 20z\"/>\n",
              "  </svg>\n",
              "      </button>\n",
              "\n",
              "\n",
              "\n",
              "    <div id=\"df-52cfcaf0-0434-40de-8c1e-a77ee81532aa\">\n",
              "      <button class=\"colab-df-quickchart\" onclick=\"quickchart('df-52cfcaf0-0434-40de-8c1e-a77ee81532aa')\"\n",
              "              title=\"Suggest charts.\"\n",
              "              style=\"display:none;\">\n",
              "\n",
              "<svg xmlns=\"http://www.w3.org/2000/svg\" height=\"24px\"viewBox=\"0 0 24 24\"\n",
              "     width=\"24px\">\n",
              "    <g>\n",
              "        <path d=\"M19 3H5c-1.1 0-2 .9-2 2v14c0 1.1.9 2 2 2h14c1.1 0 2-.9 2-2V5c0-1.1-.9-2-2-2zM9 17H7v-7h2v7zm4 0h-2V7h2v10zm4 0h-2v-4h2v4z\"/>\n",
              "    </g>\n",
              "</svg>\n",
              "      </button>\n",
              "    </div>\n",
              "\n",
              "<style>\n",
              "  .colab-df-quickchart {\n",
              "    background-color: #E8F0FE;\n",
              "    border: none;\n",
              "    border-radius: 50%;\n",
              "    cursor: pointer;\n",
              "    display: none;\n",
              "    fill: #1967D2;\n",
              "    height: 32px;\n",
              "    padding: 0 0 0 0;\n",
              "    width: 32px;\n",
              "  }\n",
              "\n",
              "  .colab-df-quickchart:hover {\n",
              "    background-color: #E2EBFA;\n",
              "    box-shadow: 0px 1px 2px rgba(60, 64, 67, 0.3), 0px 1px 3px 1px rgba(60, 64, 67, 0.15);\n",
              "    fill: #174EA6;\n",
              "  }\n",
              "\n",
              "  [theme=dark] .colab-df-quickchart {\n",
              "    background-color: #3B4455;\n",
              "    fill: #D2E3FC;\n",
              "  }\n",
              "\n",
              "  [theme=dark] .colab-df-quickchart:hover {\n",
              "    background-color: #434B5C;\n",
              "    box-shadow: 0px 1px 3px 1px rgba(0, 0, 0, 0.15);\n",
              "    filter: drop-shadow(0px 1px 2px rgba(0, 0, 0, 0.3));\n",
              "    fill: #FFFFFF;\n",
              "  }\n",
              "</style>\n",
              "\n",
              "    <script>\n",
              "      async function quickchart(key) {\n",
              "        const containerElement = document.querySelector('#' + key);\n",
              "        const charts = await google.colab.kernel.invokeFunction(\n",
              "            'suggestCharts', [key], {});\n",
              "      }\n",
              "    </script>\n",
              "\n",
              "      <script>\n",
              "\n",
              "function displayQuickchartButton(domScope) {\n",
              "  let quickchartButtonEl =\n",
              "    domScope.querySelector('#df-52cfcaf0-0434-40de-8c1e-a77ee81532aa button.colab-df-quickchart');\n",
              "  quickchartButtonEl.style.display =\n",
              "    google.colab.kernel.accessAllowed ? 'block' : 'none';\n",
              "}\n",
              "\n",
              "        displayQuickchartButton(document);\n",
              "      </script>\n",
              "      <style>\n",
              "    .colab-df-container {\n",
              "      display:flex;\n",
              "      flex-wrap:wrap;\n",
              "      gap: 12px;\n",
              "    }\n",
              "\n",
              "    .colab-df-convert {\n",
              "      background-color: #E8F0FE;\n",
              "      border: none;\n",
              "      border-radius: 50%;\n",
              "      cursor: pointer;\n",
              "      display: none;\n",
              "      fill: #1967D2;\n",
              "      height: 32px;\n",
              "      padding: 0 0 0 0;\n",
              "      width: 32px;\n",
              "    }\n",
              "\n",
              "    .colab-df-convert:hover {\n",
              "      background-color: #E2EBFA;\n",
              "      box-shadow: 0px 1px 2px rgba(60, 64, 67, 0.3), 0px 1px 3px 1px rgba(60, 64, 67, 0.15);\n",
              "      fill: #174EA6;\n",
              "    }\n",
              "\n",
              "    [theme=dark] .colab-df-convert {\n",
              "      background-color: #3B4455;\n",
              "      fill: #D2E3FC;\n",
              "    }\n",
              "\n",
              "    [theme=dark] .colab-df-convert:hover {\n",
              "      background-color: #434B5C;\n",
              "      box-shadow: 0px 1px 3px 1px rgba(0, 0, 0, 0.15);\n",
              "      filter: drop-shadow(0px 1px 2px rgba(0, 0, 0, 0.3));\n",
              "      fill: #FFFFFF;\n",
              "    }\n",
              "  </style>\n",
              "\n",
              "      <script>\n",
              "        const buttonEl =\n",
              "          document.querySelector('#df-9cc6be27-40ed-4875-abbd-1a61309d9299 button.colab-df-convert');\n",
              "        buttonEl.style.display =\n",
              "          google.colab.kernel.accessAllowed ? 'block' : 'none';\n",
              "\n",
              "        async function convertToInteractive(key) {\n",
              "          const element = document.querySelector('#df-9cc6be27-40ed-4875-abbd-1a61309d9299');\n",
              "          const dataTable =\n",
              "            await google.colab.kernel.invokeFunction('convertToInteractive',\n",
              "                                                     [key], {});\n",
              "          if (!dataTable) return;\n",
              "\n",
              "          const docLinkHtml = 'Like what you see? Visit the ' +\n",
              "            '<a target=\"_blank\" href=https://colab.research.google.com/notebooks/data_table.ipynb>data table notebook</a>'\n",
              "            + ' to learn more about interactive tables.';\n",
              "          element.innerHTML = '';\n",
              "          dataTable['output_type'] = 'display_data';\n",
              "          await google.colab.output.renderOutput(dataTable, element);\n",
              "          const docLink = document.createElement('div');\n",
              "          docLink.innerHTML = docLinkHtml;\n",
              "          element.appendChild(docLink);\n",
              "        }\n",
              "      </script>\n",
              "    </div>\n",
              "  </div>\n"
            ]
          },
          "metadata": {},
          "execution_count": 14
        },
        {
          "output_type": "stream",
          "name": "stdout",
          "text": [
            "time: 28.6 ms (started: 2023-08-01 13:23:16 +00:00)\n"
          ]
        }
      ]
    },
    {
      "cell_type": "code",
      "source": [
        "dataset.nunique()"
      ],
      "metadata": {
        "colab": {
          "base_uri": "https://localhost:8080/"
        },
        "id": "wH6obX1-OH2F",
        "outputId": "0ec3d1dc-9c96-4e4a-b10c-8b379237966d"
      },
      "execution_count": 13,
      "outputs": [
        {
          "output_type": "execute_result",
          "data": {
            "text/plain": [
              "min                      7\n",
              "max                      8\n",
              "mean                   108\n",
              "std                   1849\n",
              "repeated                11\n",
              "even_amount              9\n",
              "quartiles_codified      46\n",
              "dtype: int64"
            ]
          },
          "metadata": {},
          "execution_count": 13
        },
        {
          "output_type": "stream",
          "name": "stdout",
          "text": [
            "time: 11.2 ms (started: 2023-08-01 16:41:51 +00:00)\n"
          ]
        }
      ]
    },
    {
      "cell_type": "markdown",
      "source": [
        "## Data Visualization"
      ],
      "metadata": {
        "id": "RkC4CGC6NHUL"
      }
    },
    {
      "cell_type": "code",
      "source": [
        "import matplotlib.pyplot as plt\n",
        "import seaborn as sns\n",
        "colors = sns.color_palette()\n",
        "%matplotlib inline"
      ],
      "metadata": {
        "colab": {
          "base_uri": "https://localhost:8080/"
        },
        "id": "wAd-1seaNTqs",
        "outputId": "42380563-40c0-4faa-9fe5-00a32ef7a997"
      },
      "execution_count": 14,
      "outputs": [
        {
          "output_type": "stream",
          "name": "stdout",
          "text": [
            "time: 315 ms (started: 2023-08-01 16:41:54 +00:00)\n"
          ]
        }
      ]
    },
    {
      "cell_type": "code",
      "source": [
        "sns.set_style(\"darkgrid\")\n",
        "fig, ax = plt.subplots(7, 1, figsize=(10, 10))\n",
        "for axis, col_name in zip(ax.ravel(), dataset.columns):\n",
        "  sns.histplot(data=dataset, x=col_name, bins=dataset[col_name].nunique(), ax=axis)\n",
        "plt.tight_layout()\n",
        "plt.show()"
      ],
      "metadata": {
        "colab": {
          "base_uri": "https://localhost:8080/",
          "height": 1000
        },
        "id": "EJj7KCHjRLj6",
        "outputId": "6d5bd2d5-1e17-4410-b400-e52d2ddc205e"
      },
      "execution_count": 15,
      "outputs": [
        {
          "output_type": "display_data",
          "data": {
            "text/plain": [
              "<Figure size 1000x1000 with 7 Axes>"
            ],
            "image/png": "[encoded data removed]"
          },
          "metadata": {}
        },
        {
          "output_type": "stream",
          "name": "stdout",
          "text": [
            "time: 5.09 s (started: 2023-08-01 16:41:55 +00:00)\n"
          ]
        }
      ]
    },
    {
      "cell_type": "markdown",
      "source": [
        "# Train/Test Split"
      ],
      "metadata": {
        "id": "XRFoaVV9NNcN"
      }
    },
    {
      "cell_type": "code",
      "source": [
        "from sklearn.model_selection import TimeSeriesSplit"
      ],
      "metadata": {
        "colab": {
          "base_uri": "https://localhost:8080/"
        },
        "id": "5mNX3wvcNQ6a",
        "outputId": "404857b0-9586-4ba1-97bb-f1feab478a7e"
      },
      "execution_count": 16,
      "outputs": [
        {
          "output_type": "stream",
          "name": "stdout",
          "text": [
            "time: 102 ms (started: 2023-08-01 16:42:00 +00:00)\n"
          ]
        }
      ]
    },
    {
      "cell_type": "code",
      "source": [
        "tss = TimeSeriesSplit(n_splits=2, test_size=200, gap=1)\n",
        "folds = tss.split(dataset)\n",
        "\n",
        "next(folds)\n",
        "train_indexes, test_indexes = next(folds) # só o último fold me interessa pois é o maior\n",
        "\n",
        "train_set = dataset.iloc[train_indexes]\n",
        "test_set  = dataset.iloc[test_indexes]"
      ],
      "metadata": {
        "colab": {
          "base_uri": "https://localhost:8080/"
        },
        "id": "PCVGOShjNXPe",
        "outputId": "279f75ac-8e18-4baf-814c-19c523f2389c"
      },
      "execution_count": 17,
      "outputs": [
        {
          "output_type": "stream",
          "name": "stdout",
          "text": [
            "time: 3.3 ms (started: 2023-08-01 16:42:01 +00:00)\n"
          ]
        }
      ]
    },
    {
      "cell_type": "code",
      "source": [
        "fig, axs = plt.subplots(1, 1, figsize=(15, 5), sharex=True)\n",
        "\n",
        "axs.axvline(test_set.index.min(), color='black', ls='--')\n",
        "sns.lineplot(x=train_set.index, y=train_set['even_amount'], ax=axs)\n",
        "sns.lineplot(x=test_set.index, y=test_set['even_amount'], ax=axs)\n",
        "\n",
        "plt.tight_layout()\n",
        "plt.show()"
      ],
      "metadata": {
        "colab": {
          "base_uri": "https://localhost:8080/",
          "height": 444
        },
        "id": "FA0MHXnJNZRM",
        "outputId": "20513062-918f-479c-d235-c1761f1eeb3a"
      },
      "execution_count": 18,
      "outputs": [
        {
          "output_type": "display_data",
          "data": {
            "text/plain": [
              "<Figure size 1500x500 with 1 Axes>"
            ],
            "image/png": "[encoded data removed]"
          },
          "metadata": {}
        },
        {
          "output_type": "stream",
          "name": "stdout",
          "text": [
            "time: 735 ms (started: 2023-08-01 16:42:01 +00:00)\n"
          ]
        }
      ]
    },
    {
      "cell_type": "markdown",
      "source": [
        "# Data Labeling"
      ],
      "metadata": {
        "id": "SCt_0TtNzktU"
      }
    },
    {
      "cell_type": "code",
      "source": [
        "from scipy.stats import mode"
      ],
      "metadata": {
        "colab": {
          "base_uri": "https://localhost:8080/"
        },
        "id": "nSBS0rrAXXl4",
        "outputId": "9f1a3cfa-875a-4454-898d-617083712f6e"
      },
      "execution_count": 19,
      "outputs": [
        {
          "output_type": "stream",
          "name": "stdout",
          "text": [
            "time: 526 µs (started: 2023-08-01 16:42:07 +00:00)\n"
          ]
        }
      ]
    },
    {
      "cell_type": "code",
      "source": [
        "def lag_window_features(ds, feature_name):\n",
        "  ds = ds.copy()\n",
        "  cat = ['min', 'max', 'repeated', 'even_amount', 'quartiles_codified']\n",
        "  num = ['mean', 'std']\n",
        "  week = 5 # apenas dias úteis\n",
        "  ds['lag_' + feature_name] = ds[feature_name].shift(1)\n",
        "  ds['fwd_' + feature_name] = ds[feature_name].shift(-1)\n",
        "  if feature_name in cat:\n",
        "    ds['wind_' + str(week) + '_' + feature_name] = ds[feature_name].rolling(window=week).apply(lambda x: mode(x, keepdims=True)[0])\n",
        "  else:\n",
        "    ds['wind_' + str(week) + '_' + feature_name] = ds[feature_name].rolling(window=week).mean()\n",
        "  ds = ds.dropna()\n",
        "  return ds\n",
        "\n",
        "\n",
        "\n",
        "def create_labels(ds, feature_name):\n",
        "  ds = lag_window_features(ds, feature_name)\n",
        "  label_name = 'fwd_' + feature_name\n",
        "  y = ds[label_name]\n",
        "  X = ds.drop(label_name, axis=1)\n",
        "  return X, y"
      ],
      "metadata": {
        "colab": {
          "base_uri": "https://localhost:8080/"
        },
        "id": "nbTPliaM1Hg_",
        "outputId": "891e7977-0634-4099-db09-12b608215f03"
      },
      "execution_count": 20,
      "outputs": [
        {
          "output_type": "stream",
          "name": "stdout",
          "text": [
            "time: 1.43 ms (started: 2023-08-01 16:42:17 +00:00)\n"
          ]
        }
      ]
    },
    {
      "cell_type": "code",
      "source": [
        "label_name = 'repeated'\n",
        "X_train, y_train  = create_labels(train_set, label_name)\n",
        "X_test, y_test    = create_labels(test_set, label_name)"
      ],
      "metadata": {
        "colab": {
          "base_uri": "https://localhost:8080/"
        },
        "id": "iglaxFNAnh18",
        "outputId": "aea5c4e8-7a29-49e7-f458-5f27f2e6afb7"
      },
      "execution_count": 21,
      "outputs": [
        {
          "output_type": "stream",
          "name": "stdout",
          "text": [
            "time: 873 ms (started: 2023-08-01 16:42:19 +00:00)\n"
          ]
        }
      ]
    },
    {
      "cell_type": "markdown",
      "source": [
        "# Model Training"
      ],
      "metadata": {
        "id": "qq4ZBMT6fD8s"
      }
    },
    {
      "cell_type": "code",
      "source": [
        "from datetime                     import datetime\n",
        "from sklearn.ensemble             import ExtraTreesClassifier, RandomForestClassifier\n",
        "from sklearn.metrics              import accuracy_score, classification_report, confusion_matrix, mean_squared_error\n",
        "from sklearn.multioutput          import MultiOutputClassifier\n",
        "from sklearn.utils.class_weight   import compute_class_weight\n",
        "from keras.callbacks              import EarlyStopping, ReduceLROnPlateau\n",
        "from keras.layers                 import Dense, LSTM, RepeatVector, TimeDistributed, Flatten\n",
        "from keras.models                 import Sequential, Model\n",
        "from keras.optimizers             import Nadam\n",
        "from keras.preprocessing.sequence import TimeseriesGenerator\n",
        "from keras.wrappers.scikit_learn  import KerasClassifier\n",
        "from prophet                      import Prophet\n",
        "import lightgbm as lgb"
      ],
      "metadata": {
        "colab": {
          "base_uri": "https://localhost:8080/"
        },
        "id": "oMl5AyWLfF5q",
        "outputId": "3aa691b3-20ff-4430-d374-29999cf134f0"
      },
      "execution_count": 22,
      "outputs": [
        {
          "output_type": "stream",
          "name": "stdout",
          "text": [
            "time: 4.08 s (started: 2023-08-01 16:42:21 +00:00)\n"
          ]
        }
      ]
    },
    {
      "cell_type": "markdown",
      "source": [
        "Class Weights Computing"
      ],
      "metadata": {
        "id": "IG0Bb0NSIeYh"
      }
    },
    {
      "cell_type": "code",
      "source": [
        "classes = np.unique(y_train)\n",
        "weights = compute_class_weight(class_weight='balanced', classes=classes, y=y_train)\n",
        "class_weights = {key:value for key, value in zip(classes, weights)}\n",
        "print(class_weights)"
      ],
      "metadata": {
        "id": "0IbPJwUbfbhh",
        "colab": {
          "base_uri": "https://localhost:8080/"
        },
        "outputId": "1d869dab-6d39-4f4e-88fa-75f0e26d821e"
      },
      "execution_count": 23,
      "outputs": [
        {
          "output_type": "stream",
          "name": "stdout",
          "text": [
            "{5.0: 267.0, 6.0: 6.675, 7.0: 1.068, 8.0: 0.40271493212669685, 9.0: 0.3065442020665901, 10.0: 0.459552495697074, 11.0: 1.2535211267605635, 12.0: 6.209302325581396, 13.0: 38.142857142857146, 14.0: 267.0}\n",
            "time: 6.71 ms (started: 2023-08-01 16:42:25 +00:00)\n"
          ]
        }
      ]
    },
    {
      "cell_type": "markdown",
      "source": [
        "Class Mapping"
      ],
      "metadata": {
        "id": "FOz9h16XI16l"
      }
    },
    {
      "cell_type": "code",
      "source": [
        "tr_classes  = set(np.unique(y_train))\n",
        "te_classes  = set(np.unique(y_test))\n",
        "all_classes = (tr_classes | te_classes)\n",
        "\n",
        "class_mapping    = {value:key for key, value in enumerate(all_classes)}\n",
        "class_mapping_rw = {key:value for key, value in enumerate(all_classes)}"
      ],
      "metadata": {
        "colab": {
          "base_uri": "https://localhost:8080/"
        },
        "id": "X-v2MrWCI-um",
        "outputId": "2efdc0e4-6970-4fd1-9e68-b3b966f4c9f4"
      },
      "execution_count": 24,
      "outputs": [
        {
          "output_type": "stream",
          "name": "stdout",
          "text": [
            "time: 1.94 ms (started: 2023-08-01 16:42:25 +00:00)\n"
          ]
        }
      ]
    },
    {
      "cell_type": "markdown",
      "source": [
        "### RandomForestClassifier"
      ],
      "metadata": {
        "id": "v-gLIMqXvu8G"
      }
    },
    {
      "cell_type": "code",
      "source": [
        "rf = RandomForestClassifier()\n",
        "rf.fit(X_train, y_train)\n",
        "y_pred = rf.predict(X_train)\n",
        "print(f'accuracy score: {accuracy_score(y_train, y_pred):.2f}')\n",
        "print(classification_report(y_train, y_pred))"
      ],
      "metadata": {
        "colab": {
          "base_uri": "https://localhost:8080/"
        },
        "id": "PW4uGj6zoYIu",
        "outputId": "0f57ce21-3473-499b-ddfc-7adfb78b0866"
      },
      "execution_count": null,
      "outputs": [
        {
          "output_type": "stream",
          "name": "stdout",
          "text": [
            "accuracy score: 1.00\n",
            "              precision    recall  f1-score   support\n",
            "\n",
            "         5.0       1.00      1.00      1.00         1\n",
            "         6.0       1.00      1.00      1.00        40\n",
            "         7.0       1.00      1.00      1.00       250\n",
            "         8.0       1.00      1.00      1.00       663\n",
            "         9.0       1.00      1.00      1.00       871\n",
            "        10.0       1.00      1.00      1.00       581\n",
            "        11.0       1.00      1.00      1.00       213\n",
            "        12.0       1.00      1.00      1.00        43\n",
            "        13.0       1.00      1.00      1.00         7\n",
            "        14.0       1.00      1.00      1.00         1\n",
            "\n",
            "    accuracy                           1.00      2670\n",
            "   macro avg       1.00      1.00      1.00      2670\n",
            "weighted avg       1.00      1.00      1.00      2670\n",
            "\n",
            "time: 560 ms (started: 2023-08-01 13:25:20 +00:00)\n"
          ]
        }
      ]
    },
    {
      "cell_type": "markdown",
      "source": [
        "### LightGBM"
      ],
      "metadata": {
        "id": "6SUttv8sRqQW"
      }
    },
    {
      "cell_type": "code",
      "source": [
        "lgbm = lgb.LGBMClassifier()\n",
        "lgbm.fit(X_train, y_train)\n",
        "y_pred = lgbm.predict(X_test)\n",
        "print(f'accuracy score: {accuracy_score(y_test, y_pred):.2f}')\n",
        "print(classification_report(y_test, y_pred))"
      ],
      "metadata": {
        "colab": {
          "base_uri": "https://localhost:8080/"
        },
        "id": "iMsUjwXQRsZb",
        "outputId": "0c135deb-5649-4776-bea9-98f52c29e5ea"
      },
      "execution_count": 25,
      "outputs": [
        {
          "output_type": "stream",
          "name": "stdout",
          "text": [
            "accuracy score: 0.30\n",
            "              precision    recall  f1-score   support\n",
            "\n",
            "         6.0       0.00      0.00      0.00         3\n",
            "         7.0       0.20      0.06      0.09        18\n",
            "         8.0       0.25      0.33      0.29        43\n",
            "         9.0       0.40      0.45      0.42        69\n",
            "        10.0       0.23      0.35      0.28        34\n",
            "        11.0       0.20      0.05      0.07        22\n",
            "        12.0       0.00      0.00      0.00         6\n",
            "\n",
            "    accuracy                           0.30       195\n",
            "   macro avg       0.18      0.18      0.16       195\n",
            "weighted avg       0.28      0.30      0.28       195\n",
            "\n",
            "time: 857 ms (started: 2023-08-01 16:42:33 +00:00)\n"
          ]
        },
        {
          "output_type": "stream",
          "name": "stderr",
          "text": [
            "/usr/local/lib/python3.10/dist-packages/sklearn/metrics/_classification.py:1344: UndefinedMetricWarning: Precision and F-score are ill-defined and being set to 0.0 in labels with no predicted samples. Use `zero_division` parameter to control this behavior.\n",
            "  _warn_prf(average, modifier, msg_start, len(result))\n",
            "/usr/local/lib/python3.10/dist-packages/sklearn/metrics/_classification.py:1344: UndefinedMetricWarning: Precision and F-score are ill-defined and being set to 0.0 in labels with no predicted samples. Use `zero_division` parameter to control this behavior.\n",
            "  _warn_prf(average, modifier, msg_start, len(result))\n",
            "/usr/local/lib/python3.10/dist-packages/sklearn/metrics/_classification.py:1344: UndefinedMetricWarning: Precision and F-score are ill-defined and being set to 0.0 in labels with no predicted samples. Use `zero_division` parameter to control this behavior.\n",
            "  _warn_prf(average, modifier, msg_start, len(result))\n"
          ]
        }
      ]
    },
    {
      "cell_type": "markdown",
      "source": [
        "### RNN"
      ],
      "metadata": {
        "id": "dJfcbROp86eN"
      }
    },
    {
      "cell_type": "code",
      "source": [],
      "metadata": {
        "id": "09BgNNix9EY-"
      },
      "execution_count": null,
      "outputs": []
    },
    {
      "cell_type": "markdown",
      "source": [
        "### LSTM\n",
        "Reshaping train/test sets."
      ],
      "metadata": {
        "id": "snA-qVUaeF_F"
      }
    },
    {
      "cell_type": "code",
      "source": [
        "X_train_lstm = X_train.to_numpy().reshape(X_train.shape[0], X_train.shape[1], 1)\n",
        "X_test_lstm  = X_test.to_numpy().reshape(X_test.shape[0], X_test.shape[1], 1)\n",
        "\n",
        "y_train_lstm = y_train.replace(to_replace=class_mapping)\n",
        "y_test_lstm  = y_test.replace(to_replace=class_mapping)"
      ],
      "metadata": {
        "colab": {
          "base_uri": "https://localhost:8080/"
        },
        "id": "LgyUHQ-QeJP6",
        "outputId": "2cbc849f-2dba-434a-b533-2b61cbb9386a"
      },
      "execution_count": 40,
      "outputs": [
        {
          "output_type": "stream",
          "name": "stdout",
          "text": [
            "time: 5.7 ms (started: 2023-08-01 17:29:18 +00:00)\n"
          ]
        }
      ]
    },
    {
      "cell_type": "markdown",
      "source": [
        "Definindo as callbacks."
      ],
      "metadata": {
        "id": "ykKMXuy7M9BW"
      }
    },
    {
      "cell_type": "code",
      "source": [
        "#callbacks\n",
        "early_stopping_cb = EarlyStopping(patience=10, restore_best_weights=True)\n",
        "\n",
        "# performance scheduling\n",
        "lr_performance = ReduceLROnPlateau(factor=0.3, patience=10)"
      ],
      "metadata": {
        "colab": {
          "base_uri": "https://localhost:8080/"
        },
        "id": "Pb5YzSNfeZhi",
        "outputId": "59f2d51e-db63-4673-a4e8-157626ed8306"
      },
      "execution_count": 57,
      "outputs": [
        {
          "output_type": "stream",
          "name": "stdout",
          "text": [
            "time: 657 µs (started: 2023-08-01 17:39:11 +00:00)\n"
          ]
        }
      ]
    },
    {
      "cell_type": "code",
      "source": [
        "output_size  = len(np.unique(y_train_lstm))\n",
        "extra_output = len(np.setdiff1d(np.unique(y_test), np.unique(y_train)))\n",
        "print(f'output size: {output_size + extra_output}')\n",
        "\n",
        "nn = Sequential()\n",
        "nn.add(LSTM(units=300, activation='relu', return_sequences=True, input_shape=(X_train_lstm.shape[1], X_train_lstm.shape[2])))\n",
        "nn.add(LSTM(units=300, activation='relu', return_sequences=True))\n",
        "nn.add(LSTM(units=300, activation='relu'))\n",
        "nn.add(Dense(units=output_size + extra_output, activation='softmax'))\n",
        "\n",
        "nn.compile(loss='sparse_categorical_crossentropy', metrics=['accuracy'])\n",
        "\n",
        "nn.fit(X_train_lstm, y_train_lstm,\n",
        "       validation_data=(X_test_lstm, y_test_lstm), epochs=2,\n",
        "       callbacks=[early_stopping_cb, lr_performance], verbose=True)"
      ],
      "metadata": {
        "id": "fAk4oDq-eeSy",
        "colab": {
          "base_uri": "https://localhost:8080/"
        },
        "outputId": "63000303-8e2c-478c-8491-0af47237f789"
      },
      "execution_count": null,
      "outputs": [
        {
          "output_type": "stream",
          "name": "stdout",
          "text": [
            "output size: 10\n",
            "Epoch 1/2\n",
            "84/84 [==============================] - 23s 179ms/step - loss: 1.6938 - accuracy: 0.2993 - val_loss: 1.6593 - val_accuracy: 0.3538 - lr: 0.0010\n",
            "Epoch 2/2\n",
            "84/84 [==============================] - 10s 125ms/step - loss: 1.6416 - accuracy: 0.3225 - val_loss: 1.6639 - val_accuracy: 0.3538 - lr: 0.0010\n"
          ]
        },
        {
          "output_type": "execute_result",
          "data": {
            "text/plain": [
              "<keras.callbacks.History at 0x7bb25b6c1960>"
            ]
          },
          "metadata": {},
          "execution_count": 38
        },
        {
          "output_type": "stream",
          "name": "stdout",
          "text": [
            "time: 34.9 s (started: 2023-08-01 13:34:17 +00:00)\n"
          ]
        }
      ]
    },
    {
      "cell_type": "markdown",
      "source": [
        "### LSTM Alternative"
      ],
      "metadata": {
        "id": "9PHnHkXlTog0"
      }
    },
    {
      "cell_type": "code",
      "source": [
        "y_train_lstm = y_train.replace(to_replace=class_mapping)\n",
        "y_test_lstm  = y_test.replace(to_replace=class_mapping)\n",
        "\n",
        "y_train_rob = y_train_lstm.tolist()\n",
        "y_test_rob  = y_test_lstm.tolist()\n",
        "\n",
        "X_train_rob = X_train.to_numpy().tolist()\n",
        "X_test_rob  = X_test.to_numpy().tolist()"
      ],
      "metadata": {
        "colab": {
          "base_uri": "https://localhost:8080/"
        },
        "id": "0CZFD-zvTrdK",
        "outputId": "79fa2600-cf9b-46bc-987e-24f3c7de7028"
      },
      "execution_count": 41,
      "outputs": [
        {
          "output_type": "stream",
          "name": "stdout",
          "text": [
            "time: 9.37 ms (started: 2023-08-01 17:29:27 +00:00)\n"
          ]
        }
      ]
    },
    {
      "cell_type": "code",
      "source": [
        "wdw_length = 7\n",
        "tsg_train = TimeseriesGenerator(X_train_rob, y_train_rob, length=wdw_length, sampling_rate=1, stride=1, batch_size=32)\n",
        "tsg_test  = TimeseriesGenerator(X_test_rob, y_test_rob, length=wdw_length, sampling_rate=1, stride=1, batch_size=32)"
      ],
      "metadata": {
        "colab": {
          "base_uri": "https://localhost:8080/"
        },
        "id": "0R_-0p5gYLSX",
        "outputId": "8943e6e8-6bb5-4f0f-bd38-7d4dc64e3020"
      },
      "execution_count": 54,
      "outputs": [
        {
          "output_type": "stream",
          "name": "stdout",
          "text": [
            "time: 885 µs (started: 2023-08-01 17:38:27 +00:00)\n"
          ]
        }
      ]
    },
    {
      "cell_type": "code",
      "source": [
        "output_size  = len(np.unique(y_train_lstm))\n",
        "extra_output = len(np.setdiff1d(np.unique(y_test), np.unique(y_train)))\n",
        "print(f'output size: {output_size + extra_output}')\n",
        "\n",
        "nn = Sequential()\n",
        "nn.add(LSTM(units=300, activation='relu', return_sequences=True, input_shape=(wdw_length, X_train.shape[1])))\n",
        "nn.add(LSTM(units=300, activation='relu', return_sequences=True))\n",
        "nn.add(LSTM(units=300, activation='relu'))\n",
        "nn.add(Dense(units=output_size + extra_output, activation='softmax'))\n",
        "\n",
        "nn.compile(loss='sparse_categorical_crossentropy', metrics=['accuracy'])\n",
        "\n",
        "nn.fit(tsg_train,\n",
        "       validation_data=tsg_test, epochs=2,\n",
        "       callbacks=[early_stopping_cb, lr_performance], verbose=True)"
      ],
      "metadata": {
        "colab": {
          "base_uri": "https://localhost:8080/"
        },
        "id": "PkRoIqWVJKnX",
        "outputId": "88acd445-0a14-465b-ff7b-4d557d6e861b"
      },
      "execution_count": 58,
      "outputs": [
        {
          "output_type": "stream",
          "name": "stdout",
          "text": [
            "output size: 10\n",
            "Epoch 1/2\n",
            "84/84 [==============================] - 19s 156ms/step - loss: 1.7702 - accuracy: 0.2880 - val_loss: 1.6849 - val_accuracy: 0.2234 - lr: 0.0010\n",
            "Epoch 2/2\n",
            "84/84 [==============================] - 13s 149ms/step - loss: 1.6479 - accuracy: 0.3027 - val_loss: 1.7139 - val_accuracy: 0.3511 - lr: 0.0010\n"
          ]
        },
        {
          "output_type": "execute_result",
          "data": {
            "text/plain": [
              "<keras.callbacks.History at 0x7e8b6e5a2380>"
            ]
          },
          "metadata": {},
          "execution_count": 58
        },
        {
          "output_type": "stream",
          "name": "stdout",
          "text": [
            "time: 32.1 s (started: 2023-08-01 17:39:19 +00:00)\n"
          ]
        }
      ]
    },
    {
      "cell_type": "markdown",
      "source": [
        "### CNN"
      ],
      "metadata": {
        "id": "nItm5NLo9V2e"
      }
    },
    {
      "cell_type": "code",
      "source": [],
      "metadata": {
        "colab": {
          "base_uri": "https://localhost:8080/"
        },
        "id": "nQaNqyIC9YbK",
        "outputId": "cfc67a11-cb80-4e73-b48f-48d5212ef2ee"
      },
      "execution_count": null,
      "outputs": [
        {
          "output_type": "execute_result",
          "data": {
            "text/plain": [
              "datetime.datetime(2023, 7, 30, 18, 28, 40, 803614)"
            ]
          },
          "metadata": {},
          "execution_count": 108
        },
        {
          "output_type": "stream",
          "name": "stdout",
          "text": [
            "time: 10.9 ms (started: 2023-07-30 18:28:40 +00:00)\n"
          ]
        }
      ]
    },
    {
      "cell_type": "markdown",
      "source": [
        "### Prophet\n",
        "Antes, preciso adaptar os conjuntos de treinamento e teste para o modelo da Meta. Primeiro, preciso unir as labels com os conjuntos de dados criando dois novos conjuntos, train_set_prophet e test_set_prophet. Depois, vou criar um atributo contendo datas e chamá-lo de 'ds'. Neste caso, vou criar uma sequência de datas com frequência diária do tamanho do conjunto de treinamento e teste. A última etapa é renomear a label para 'y'."
      ],
      "metadata": {
        "id": "OPeYiI_T9Y4q"
      }
    },
    {
      "cell_type": "code",
      "source": [
        "train_set_prophet = pd.concat([X_train, y_train], axis=1)\n",
        "test_set_prophet = pd.concat([X_test, y_test], axis=1)\n",
        "\n",
        "today = datetime.today()\n",
        "\n",
        "days_amount = len(train_set_prophet.index)\n",
        "train_set_prophet['ds'] = pd.date_range(end=today, periods=days_amount, freq='D')\n",
        "\n",
        "days_amount = len(test_set_prophet.index)\n",
        "test_set_prophet['ds'] = pd.date_range(end=today, periods=days_amount, freq='D')\n",
        "\n",
        "train_set_prophet.rename(columns={y_train.name:'y'}, inplace=True)\n",
        "test_set_prophet.rename(columns={y_test.name:'y'}, inplace=True)\n",
        "\n",
        "train_set_prophet.head()"
      ],
      "metadata": {
        "colab": {
          "base_uri": "https://localhost:8080/",
          "height": 225
        },
        "id": "eDw-gGe3A5oP",
        "outputId": "d94f6b74-b956-4594-de02-e0a1f778698e"
      },
      "execution_count": null,
      "outputs": [
        {
          "output_type": "execute_result",
          "data": {
            "text/plain": [
              "   min  max       mean       std  repeated  even_amount  quartiles_codified  \\\n",
              "4    1   25  13.411765  8.189368        11            7                  25   \n",
              "5    1   25  12.294118  8.251664         9            6                  33   \n",
              "6    1   25  14.176471  7.762923        11            8                  19   \n",
              "7    1   25  13.529412  7.492095         9            7                  25   \n",
              "8    3   25  14.117647  7.435071        10            5                  30   \n",
              "\n",
              "   lag_min  wind_5_min    y                         ds  \n",
              "4      1.0         1.0  1.0 2016-04-08 18:41:53.788375  \n",
              "5      1.0         1.0  1.0 2016-04-09 18:41:53.788375  \n",
              "6      1.0         1.0  1.0 2016-04-10 18:41:53.788375  \n",
              "7      1.0         1.0  3.0 2016-04-11 18:41:53.788375  \n",
              "8      1.0         1.0  2.0 2016-04-12 18:41:53.788375  "
            ],
            "text/html": [
              "\n",
              "\n",
              "  <div id=\"df-0bc38e7a-6d70-4f25-b16e-4f0c06852b64\">\n",
              "    <div class=\"colab-df-container\">\n",
              "      <div>\n",
              "<style scoped>\n",
              "    .dataframe tbody tr th:only-of-type {\n",
              "        vertical-align: middle;\n",
              "    }\n",
              "\n",
              "    .dataframe tbody tr th {\n",
              "        vertical-align: top;\n",
              "    }\n",
              "\n",
              "    .dataframe thead th {\n",
              "        text-align: right;\n",
              "    }\n",
              "</style>\n",
              "<table border=\"1\" class=\"dataframe\">\n",
              "  <thead>\n",
              "    <tr style=\"text-align: right;\">\n",
              "      <th></th>\n",
              "      <th>min</th>\n",
              "      <th>max</th>\n",
              "      <th>mean</th>\n",
              "      <th>std</th>\n",
              "      <th>repeated</th>\n",
              "      <th>even_amount</th>\n",
              "      <th>quartiles_codified</th>\n",
              "      <th>lag_min</th>\n",
              "      <th>wind_5_min</th>\n",
              "      <th>y</th>\n",
              "      <th>ds</th>\n",
              "    </tr>\n",
              "  </thead>\n",
              "  <tbody>\n",
              "    <tr>\n",
              "      <th>4</th>\n",
              "      <td>1</td>\n",
              "      <td>25</td>\n",
              "      <td>13.411765</td>\n",
              "      <td>8.189368</td>\n",
              "      <td>11</td>\n",
              "      <td>7</td>\n",
              "      <td>25</td>\n",
              "      <td>1.0</td>\n",
              "      <td>1.0</td>\n",
              "      <td>1.0</td>\n",
              "      <td>2016-04-08 18:41:53.788375</td>\n",
              "    </tr>\n",
              "    <tr>\n",
              "      <th>5</th>\n",
              "      <td>1</td>\n",
              "      <td>25</td>\n",
              "      <td>12.294118</td>\n",
              "      <td>8.251664</td>\n",
              "      <td>9</td>\n",
              "      <td>6</td>\n",
              "      <td>33</td>\n",
              "      <td>1.0</td>\n",
              "      <td>1.0</td>\n",
              "      <td>1.0</td>\n",
              "      <td>2016-04-09 18:41:53.788375</td>\n",
              "    </tr>\n",
              "    <tr>\n",
              "      <th>6</th>\n",
              "      <td>1</td>\n",
              "      <td>25</td>\n",
              "      <td>14.176471</td>\n",
              "      <td>7.762923</td>\n",
              "      <td>11</td>\n",
              "      <td>8</td>\n",
              "      <td>19</td>\n",
              "      <td>1.0</td>\n",
              "      <td>1.0</td>\n",
              "      <td>1.0</td>\n",
              "      <td>2016-04-10 18:41:53.788375</td>\n",
              "    </tr>\n",
              "    <tr>\n",
              "      <th>7</th>\n",
              "      <td>1</td>\n",
              "      <td>25</td>\n",
              "      <td>13.529412</td>\n",
              "      <td>7.492095</td>\n",
              "      <td>9</td>\n",
              "      <td>7</td>\n",
              "      <td>25</td>\n",
              "      <td>1.0</td>\n",
              "      <td>1.0</td>\n",
              "      <td>3.0</td>\n",
              "      <td>2016-04-11 18:41:53.788375</td>\n",
              "    </tr>\n",
              "    <tr>\n",
              "      <th>8</th>\n",
              "      <td>3</td>\n",
              "      <td>25</td>\n",
              "      <td>14.117647</td>\n",
              "      <td>7.435071</td>\n",
              "      <td>10</td>\n",
              "      <td>5</td>\n",
              "      <td>30</td>\n",
              "      <td>1.0</td>\n",
              "      <td>1.0</td>\n",
              "      <td>2.0</td>\n",
              "      <td>2016-04-12 18:41:53.788375</td>\n",
              "    </tr>\n",
              "  </tbody>\n",
              "</table>\n",
              "</div>\n",
              "      <button class=\"colab-df-convert\" onclick=\"convertToInteractive('df-0bc38e7a-6d70-4f25-b16e-4f0c06852b64')\"\n",
              "              title=\"Convert this dataframe to an interactive table.\"\n",
              "              style=\"display:none;\">\n",
              "\n",
              "  <svg xmlns=\"http://www.w3.org/2000/svg\" height=\"24px\"viewBox=\"0 0 24 24\"\n",
              "       width=\"24px\">\n",
              "    <path d=\"M0 0h24v24H0V0z\" fill=\"none\"/>\n",
              "    <path d=\"M18.56 5.44l.94 2.06.94-2.06 2.06-.94-2.06-.94-.94-2.06-.94 2.06-2.06.94zm-11 1L8.5 8.5l.94-2.06 2.06-.94-2.06-.94L8.5 2.5l-.94 2.06-2.06.94zm10 10l.94 2.06.94-2.06 2.06-.94-2.06-.94-.94-2.06-.94 2.06-2.06.94z\"/><path d=\"M17.41 7.96l-1.37-1.37c-.4-.4-.92-.59-1.43-.59-.52 0-1.04.2-1.43.59L10.3 9.45l-7.72 7.72c-.78.78-.78 2.05 0 2.83L4 21.41c.39.39.9.59 1.41.59.51 0 1.02-.2 1.41-.59l7.78-7.78 2.81-2.81c.8-.78.8-2.07 0-2.86zM5.41 20L4 18.59l7.72-7.72 1.47 1.35L5.41 20z\"/>\n",
              "  </svg>\n",
              "      </button>\n",
              "\n",
              "\n",
              "\n",
              "    <div id=\"df-6a7f7f76-40f2-4bf5-8e7f-824296666ec1\">\n",
              "      <button class=\"colab-df-quickchart\" onclick=\"quickchart('df-6a7f7f76-40f2-4bf5-8e7f-824296666ec1')\"\n",
              "              title=\"Suggest charts.\"\n",
              "              style=\"display:none;\">\n",
              "\n",
              "<svg xmlns=\"http://www.w3.org/2000/svg\" height=\"24px\"viewBox=\"0 0 24 24\"\n",
              "     width=\"24px\">\n",
              "    <g>\n",
              "        <path d=\"M19 3H5c-1.1 0-2 .9-2 2v14c0 1.1.9 2 2 2h14c1.1 0 2-.9 2-2V5c0-1.1-.9-2-2-2zM9 17H7v-7h2v7zm4 0h-2V7h2v10zm4 0h-2v-4h2v4z\"/>\n",
              "    </g>\n",
              "</svg>\n",
              "      </button>\n",
              "    </div>\n",
              "\n",
              "<style>\n",
              "  .colab-df-quickchart {\n",
              "    background-color: #E8F0FE;\n",
              "    border: none;\n",
              "    border-radius: 50%;\n",
              "    cursor: pointer;\n",
              "    display: none;\n",
              "    fill: #1967D2;\n",
              "    height: 32px;\n",
              "    padding: 0 0 0 0;\n",
              "    width: 32px;\n",
              "  }\n",
              "\n",
              "  .colab-df-quickchart:hover {\n",
              "    background-color: #E2EBFA;\n",
              "    box-shadow: 0px 1px 2px rgba(60, 64, 67, 0.3), 0px 1px 3px 1px rgba(60, 64, 67, 0.15);\n",
              "    fill: #174EA6;\n",
              "  }\n",
              "\n",
              "  [theme=dark] .colab-df-quickchart {\n",
              "    background-color: #3B4455;\n",
              "    fill: #D2E3FC;\n",
              "  }\n",
              "\n",
              "  [theme=dark] .colab-df-quickchart:hover {\n",
              "    background-color: #434B5C;\n",
              "    box-shadow: 0px 1px 3px 1px rgba(0, 0, 0, 0.15);\n",
              "    filter: drop-shadow(0px 1px 2px rgba(0, 0, 0, 0.3));\n",
              "    fill: #FFFFFF;\n",
              "  }\n",
              "</style>\n",
              "\n",
              "    <script>\n",
              "      async function quickchart(key) {\n",
              "        const containerElement = document.querySelector('#' + key);\n",
              "        const charts = await google.colab.kernel.invokeFunction(\n",
              "            'suggestCharts', [key], {});\n",
              "      }\n",
              "    </script>\n",
              "\n",
              "      <script>\n",
              "\n",
              "function displayQuickchartButton(domScope) {\n",
              "  let quickchartButtonEl =\n",
              "    domScope.querySelector('#df-6a7f7f76-40f2-4bf5-8e7f-824296666ec1 button.colab-df-quickchart');\n",
              "  quickchartButtonEl.style.display =\n",
              "    google.colab.kernel.accessAllowed ? 'block' : 'none';\n",
              "}\n",
              "\n",
              "        displayQuickchartButton(document);\n",
              "      </script>\n",
              "      <style>\n",
              "    .colab-df-container {\n",
              "      display:flex;\n",
              "      flex-wrap:wrap;\n",
              "      gap: 12px;\n",
              "    }\n",
              "\n",
              "    .colab-df-convert {\n",
              "      background-color: #E8F0FE;\n",
              "      border: none;\n",
              "      border-radius: 50%;\n",
              "      cursor: pointer;\n",
              "      display: none;\n",
              "      fill: #1967D2;\n",
              "      height: 32px;\n",
              "      padding: 0 0 0 0;\n",
              "      width: 32px;\n",
              "    }\n",
              "\n",
              "    .colab-df-convert:hover {\n",
              "      background-color: #E2EBFA;\n",
              "      box-shadow: 0px 1px 2px rgba(60, 64, 67, 0.3), 0px 1px 3px 1px rgba(60, 64, 67, 0.15);\n",
              "      fill: #174EA6;\n",
              "    }\n",
              "\n",
              "    [theme=dark] .colab-df-convert {\n",
              "      background-color: #3B4455;\n",
              "      fill: #D2E3FC;\n",
              "    }\n",
              "\n",
              "    [theme=dark] .colab-df-convert:hover {\n",
              "      background-color: #434B5C;\n",
              "      box-shadow: 0px 1px 3px 1px rgba(0, 0, 0, 0.15);\n",
              "      filter: drop-shadow(0px 1px 2px rgba(0, 0, 0, 0.3));\n",
              "      fill: #FFFFFF;\n",
              "    }\n",
              "  </style>\n",
              "\n",
              "      <script>\n",
              "        const buttonEl =\n",
              "          document.querySelector('#df-0bc38e7a-6d70-4f25-b16e-4f0c06852b64 button.colab-df-convert');\n",
              "        buttonEl.style.display =\n",
              "          google.colab.kernel.accessAllowed ? 'block' : 'none';\n",
              "\n",
              "        async function convertToInteractive(key) {\n",
              "          const element = document.querySelector('#df-0bc38e7a-6d70-4f25-b16e-4f0c06852b64');\n",
              "          const dataTable =\n",
              "            await google.colab.kernel.invokeFunction('convertToInteractive',\n",
              "                                                     [key], {});\n",
              "          if (!dataTable) return;\n",
              "\n",
              "          const docLinkHtml = 'Like what you see? Visit the ' +\n",
              "            '<a target=\"_blank\" href=https://colab.research.google.com/notebooks/data_table.ipynb>data table notebook</a>'\n",
              "            + ' to learn more about interactive tables.';\n",
              "          element.innerHTML = '';\n",
              "          dataTable['output_type'] = 'display_data';\n",
              "          await google.colab.output.renderOutput(dataTable, element);\n",
              "          const docLink = document.createElement('div');\n",
              "          docLink.innerHTML = docLinkHtml;\n",
              "          element.appendChild(docLink);\n",
              "        }\n",
              "      </script>\n",
              "    </div>\n",
              "  </div>\n"
            ]
          },
          "metadata": {},
          "execution_count": 119
        },
        {
          "output_type": "stream",
          "name": "stdout",
          "text": [
            "time: 22.8 ms (started: 2023-07-30 18:41:53 +00:00)\n"
          ]
        }
      ]
    },
    {
      "cell_type": "code",
      "source": [
        "pro = Prophet()\n",
        "pro.fit(train_set_prophet)\n",
        "y_pred = pro.predict(train_set_prophet)\n",
        "score = np.sqrt(mean_squared_error(train_set_prophet['y'], y_pred['yhat']))\n",
        "print(f'\\n\\nmean_squared error: {score:.2f}')"
      ],
      "metadata": {
        "colab": {
          "base_uri": "https://localhost:8080/"
        },
        "id": "3Jg7CLkM9b0K",
        "outputId": "b207452f-3ba2-45df-e78f-63f05953f334"
      },
      "execution_count": null,
      "outputs": [
        {
          "output_type": "stream",
          "name": "stderr",
          "text": [
            "INFO:prophet:Disabling daily seasonality. Run prophet with daily_seasonality=True to override this.\n",
            "DEBUG:cmdstanpy:input tempfile: /tmp/tmpo6mxwd28/44jwkfj8.json\n",
            "DEBUG:cmdstanpy:input tempfile: /tmp/tmpo6mxwd28/zkazdexv.json\n",
            "DEBUG:cmdstanpy:idx 0\n",
            "DEBUG:cmdstanpy:running CmdStan, num_threads: None\n",
            "DEBUG:cmdstanpy:CmdStan args: ['/usr/local/lib/python3.10/dist-packages/prophet/stan_model/prophet_model.bin', 'random', 'seed=94782', 'data', 'file=/tmp/tmpo6mxwd28/44jwkfj8.json', 'init=/tmp/tmpo6mxwd28/zkazdexv.json', 'output', 'file=/tmp/tmpo6mxwd28/prophet_model8r2fn08a/prophet_model-20230730185312.csv', 'method=optimize', 'algorithm=lbfgs', 'iter=10000']\n",
            "18:53:13 - cmdstanpy - INFO - Chain [1] start processing\n",
            "INFO:cmdstanpy:Chain [1] start processing\n",
            "18:53:13 - cmdstanpy - INFO - Chain [1] done processing\n",
            "INFO:cmdstanpy:Chain [1] done processing\n"
          ]
        },
        {
          "output_type": "stream",
          "name": "stdout",
          "text": [
            "\n",
            "\n",
            "mean_squared error: 0.92\n",
            "time: 1.5 s (started: 2023-07-30 18:53:12 +00:00)\n"
          ]
        }
      ]
    }
  ]
}