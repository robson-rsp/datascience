{
  "nbformat": 4,
  "nbformat_minor": 0,
  "metadata": {
    "colab": {
      "provenance": [],
      "authorship_tag": "ABX9TyM354zqt+UhDZxHz390DV+n"
    },
    "kernelspec": {
      "name": "python3",
      "display_name": "Python 3"
    },
    "language_info": {
      "name": "python"
    }
  },
  "cells": [
    {
      "cell_type": "markdown",
      "source": [
        "# Data Extraction\n",
        "A partir de um arquivo .html, extrai a tabela contendo as datas e os números de cada sorteio."
      ],
      "metadata": {
        "id": "rxCDAcMK9bX5"
      }
    },
    {
      "cell_type": "code",
      "source": [
        "# implementar"
      ],
      "metadata": {
        "id": "C4cPTemK9fA6",
        "colab": {
          "base_uri": "https://localhost:8080/"
        },
        "outputId": "3c19c437-5179-4410-c304-5e0fbaab50d5"
      },
      "execution_count": 58,
      "outputs": [
        {
          "output_type": "stream",
          "name": "stdout",
          "text": [
            "time: 536 µs (started: 2023-07-26 17:10:13 +00:00)\n"
          ]
        }
      ]
    },
    {
      "cell_type": "markdown",
      "source": [
        "# Data Transformation\n",
        "A partir da tabela que contém os sorteios, cria uma segunda contendo dados estatísticos e outras informações adicionais sobre os sorteios. Esta etapa será o equivalente à engenharia de atributos, mas ao contrário do que é feito normalmente, será feita antes da análise exploratória porque o conjunto de dados precisa ser criado primeiro."
      ],
      "metadata": {
        "id": "O9qfxtK_wel3"
      }
    },
    {
      "cell_type": "code",
      "execution_count": 59,
      "metadata": {
        "id": "jM3LxvqccxYR",
        "colab": {
          "base_uri": "https://localhost:8080/"
        },
        "outputId": "ba8c8515-63f2-440a-e369-a7c17f40276e"
      },
      "outputs": [
        {
          "output_type": "stream",
          "name": "stdout",
          "text": [
            "Requirement already satisfied: ipython-autotime in /usr/local/lib/python3.10/dist-packages (0.3.1)\n",
            "Requirement already satisfied: ipython in /usr/local/lib/python3.10/dist-packages (from ipython-autotime) (7.34.0)\n",
            "Requirement already satisfied: setuptools>=18.5 in /usr/local/lib/python3.10/dist-packages (from ipython->ipython-autotime) (67.7.2)\n",
            "Requirement already satisfied: jedi>=0.16 in /usr/local/lib/python3.10/dist-packages (from ipython->ipython-autotime) (0.18.2)\n",
            "Requirement already satisfied: decorator in /usr/local/lib/python3.10/dist-packages (from ipython->ipython-autotime) (4.4.2)\n",
            "Requirement already satisfied: pickleshare in /usr/local/lib/python3.10/dist-packages (from ipython->ipython-autotime) (0.7.5)\n",
            "Requirement already satisfied: traitlets>=4.2 in /usr/local/lib/python3.10/dist-packages (from ipython->ipython-autotime) (5.7.1)\n",
            "Requirement already satisfied: prompt-toolkit!=3.0.0,!=3.0.1,<3.1.0,>=2.0.0 in /usr/local/lib/python3.10/dist-packages (from ipython->ipython-autotime) (3.0.39)\n",
            "Requirement already satisfied: pygments in /usr/local/lib/python3.10/dist-packages (from ipython->ipython-autotime) (2.14.0)\n",
            "Requirement already satisfied: backcall in /usr/local/lib/python3.10/dist-packages (from ipython->ipython-autotime) (0.2.0)\n",
            "Requirement already satisfied: matplotlib-inline in /usr/local/lib/python3.10/dist-packages (from ipython->ipython-autotime) (0.1.6)\n",
            "Requirement already satisfied: pexpect>4.3 in /usr/local/lib/python3.10/dist-packages (from ipython->ipython-autotime) (4.8.0)\n",
            "Requirement already satisfied: parso<0.9.0,>=0.8.0 in /usr/local/lib/python3.10/dist-packages (from jedi>=0.16->ipython->ipython-autotime) (0.8.3)\n",
            "Requirement already satisfied: ptyprocess>=0.5 in /usr/local/lib/python3.10/dist-packages (from pexpect>4.3->ipython->ipython-autotime) (0.7.0)\n",
            "Requirement already satisfied: wcwidth in /usr/local/lib/python3.10/dist-packages (from prompt-toolkit!=3.0.0,!=3.0.1,<3.1.0,>=2.0.0->ipython->ipython-autotime) (0.2.6)\n",
            "time: 6.34 s (started: 2023-07-26 17:10:15 +00:00)\n"
          ]
        }
      ],
      "source": [
        "%pip install ipython-autotime  --upgrade"
      ]
    },
    {
      "cell_type": "code",
      "source": [
        "from google.colab import drive, files\n",
        "import joblib\n",
        "import pandas as pd\n",
        "drive.mount('/content/drive', force_remount=True)\n",
        "%load_ext autotime"
      ],
      "metadata": {
        "id": "oJEe7auYdDxb",
        "colab": {
          "base_uri": "https://localhost:8080/"
        },
        "outputId": "9bfeed1b-b79d-4b7d-9fc2-e363bc25154a"
      },
      "execution_count": 60,
      "outputs": [
        {
          "output_type": "stream",
          "name": "stdout",
          "text": [
            "Mounted at /content/drive\n",
            "The autotime extension is already loaded. To reload it, use:\n",
            "  %reload_ext autotime\n",
            "time: 3.7 s (started: 2023-07-26 17:10:21 +00:00)\n"
          ]
        }
      ]
    },
    {
      "cell_type": "code",
      "source": [
        "raffles = joblib.load(\"/content/drive/MyDrive/datasets/loterias/loterias-lotofacil.pkl\")\n",
        "#dataset['Data_Sorteio'] = pd.to_datetime(dataset['Data_Sorteio'], format=\"%d/%m/%Y\")\n",
        "#dataset = dataset.set_index('Data_Sorteio')\n",
        "raffles = raffles.drop(['Data_Sorteio'], axis=1)\n",
        "raffles.head()"
      ],
      "metadata": {
        "colab": {
          "base_uri": "https://localhost:8080/",
          "height": 224
        },
        "id": "l79Bpt23d8JT",
        "outputId": "ff7e6a73-533b-41ac-900f-63e77ca84b98"
      },
      "execution_count": 61,
      "outputs": [
        {
          "output_type": "execute_result",
          "data": {
            "text/plain": [
              "   Bola1  Bola2  Bola3  Bola4  Bola5  Bola6  Bola7  Bola8  Bola9  Bola10  \\\n",
              "0    2.0    3.0    5.0    6.0    9.0   10.0   11.0   13.0   14.0    16.0   \n",
              "1    1.0    4.0    5.0    6.0    7.0    9.0   11.0   12.0   13.0    15.0   \n",
              "2    1.0    4.0    6.0    7.0    8.0    9.0   10.0   11.0   12.0    14.0   \n",
              "3    1.0    2.0    4.0    5.0    8.0   10.0   12.0   13.0   16.0    17.0   \n",
              "4    1.0    2.0    4.0    8.0    9.0   11.0   12.0   13.0   15.0    16.0   \n",
              "\n",
              "   Bola11  Bola12  Bola13  Bola14  Bola15  \n",
              "0    18.0    20.0    23.0    24.0    25.0  \n",
              "1    16.0    19.0    20.0    23.0    24.0  \n",
              "2    16.0    17.0    20.0    23.0    24.0  \n",
              "3    18.0    19.0    23.0    24.0    25.0  \n",
              "4    19.0    20.0    23.0    24.0    25.0  "
            ],
            "text/html": [
              "\n",
              "\n",
              "  <div id=\"df-79191099-d02e-4595-a88e-850bc3710763\">\n",
              "    <div class=\"colab-df-container\">\n",
              "      <div>\n",
              "<style scoped>\n",
              "    .dataframe tbody tr th:only-of-type {\n",
              "        vertical-align: middle;\n",
              "    }\n",
              "\n",
              "    .dataframe tbody tr th {\n",
              "        vertical-align: top;\n",
              "    }\n",
              "\n",
              "    .dataframe thead th {\n",
              "        text-align: right;\n",
              "    }\n",
              "</style>\n",
              "<table border=\"1\" class=\"dataframe\">\n",
              "  <thead>\n",
              "    <tr style=\"text-align: right;\">\n",
              "      <th></th>\n",
              "      <th>Bola1</th>\n",
              "      <th>Bola2</th>\n",
              "      <th>Bola3</th>\n",
              "      <th>Bola4</th>\n",
              "      <th>Bola5</th>\n",
              "      <th>Bola6</th>\n",
              "      <th>Bola7</th>\n",
              "      <th>Bola8</th>\n",
              "      <th>Bola9</th>\n",
              "      <th>Bola10</th>\n",
              "      <th>Bola11</th>\n",
              "      <th>Bola12</th>\n",
              "      <th>Bola13</th>\n",
              "      <th>Bola14</th>\n",
              "      <th>Bola15</th>\n",
              "    </tr>\n",
              "  </thead>\n",
              "  <tbody>\n",
              "    <tr>\n",
              "      <th>0</th>\n",
              "      <td>2.0</td>\n",
              "      <td>3.0</td>\n",
              "      <td>5.0</td>\n",
              "      <td>6.0</td>\n",
              "      <td>9.0</td>\n",
              "      <td>10.0</td>\n",
              "      <td>11.0</td>\n",
              "      <td>13.0</td>\n",
              "      <td>14.0</td>\n",
              "      <td>16.0</td>\n",
              "      <td>18.0</td>\n",
              "      <td>20.0</td>\n",
              "      <td>23.0</td>\n",
              "      <td>24.0</td>\n",
              "      <td>25.0</td>\n",
              "    </tr>\n",
              "    <tr>\n",
              "      <th>1</th>\n",
              "      <td>1.0</td>\n",
              "      <td>4.0</td>\n",
              "      <td>5.0</td>\n",
              "      <td>6.0</td>\n",
              "      <td>7.0</td>\n",
              "      <td>9.0</td>\n",
              "      <td>11.0</td>\n",
              "      <td>12.0</td>\n",
              "      <td>13.0</td>\n",
              "      <td>15.0</td>\n",
              "      <td>16.0</td>\n",
              "      <td>19.0</td>\n",
              "      <td>20.0</td>\n",
              "      <td>23.0</td>\n",
              "      <td>24.0</td>\n",
              "    </tr>\n",
              "    <tr>\n",
              "      <th>2</th>\n",
              "      <td>1.0</td>\n",
              "      <td>4.0</td>\n",
              "      <td>6.0</td>\n",
              "      <td>7.0</td>\n",
              "      <td>8.0</td>\n",
              "      <td>9.0</td>\n",
              "      <td>10.0</td>\n",
              "      <td>11.0</td>\n",
              "      <td>12.0</td>\n",
              "      <td>14.0</td>\n",
              "      <td>16.0</td>\n",
              "      <td>17.0</td>\n",
              "      <td>20.0</td>\n",
              "      <td>23.0</td>\n",
              "      <td>24.0</td>\n",
              "    </tr>\n",
              "    <tr>\n",
              "      <th>3</th>\n",
              "      <td>1.0</td>\n",
              "      <td>2.0</td>\n",
              "      <td>4.0</td>\n",
              "      <td>5.0</td>\n",
              "      <td>8.0</td>\n",
              "      <td>10.0</td>\n",
              "      <td>12.0</td>\n",
              "      <td>13.0</td>\n",
              "      <td>16.0</td>\n",
              "      <td>17.0</td>\n",
              "      <td>18.0</td>\n",
              "      <td>19.0</td>\n",
              "      <td>23.0</td>\n",
              "      <td>24.0</td>\n",
              "      <td>25.0</td>\n",
              "    </tr>\n",
              "    <tr>\n",
              "      <th>4</th>\n",
              "      <td>1.0</td>\n",
              "      <td>2.0</td>\n",
              "      <td>4.0</td>\n",
              "      <td>8.0</td>\n",
              "      <td>9.0</td>\n",
              "      <td>11.0</td>\n",
              "      <td>12.0</td>\n",
              "      <td>13.0</td>\n",
              "      <td>15.0</td>\n",
              "      <td>16.0</td>\n",
              "      <td>19.0</td>\n",
              "      <td>20.0</td>\n",
              "      <td>23.0</td>\n",
              "      <td>24.0</td>\n",
              "      <td>25.0</td>\n",
              "    </tr>\n",
              "  </tbody>\n",
              "</table>\n",
              "</div>\n",
              "      <button class=\"colab-df-convert\" onclick=\"convertToInteractive('df-79191099-d02e-4595-a88e-850bc3710763')\"\n",
              "              title=\"Convert this dataframe to an interactive table.\"\n",
              "              style=\"display:none;\">\n",
              "\n",
              "  <svg xmlns=\"http://www.w3.org/2000/svg\" height=\"24px\"viewBox=\"0 0 24 24\"\n",
              "       width=\"24px\">\n",
              "    <path d=\"M0 0h24v24H0V0z\" fill=\"none\"/>\n",
              "    <path d=\"M18.56 5.44l.94 2.06.94-2.06 2.06-.94-2.06-.94-.94-2.06-.94 2.06-2.06.94zm-11 1L8.5 8.5l.94-2.06 2.06-.94-2.06-.94L8.5 2.5l-.94 2.06-2.06.94zm10 10l.94 2.06.94-2.06 2.06-.94-2.06-.94-.94-2.06-.94 2.06-2.06.94z\"/><path d=\"M17.41 7.96l-1.37-1.37c-.4-.4-.92-.59-1.43-.59-.52 0-1.04.2-1.43.59L10.3 9.45l-7.72 7.72c-.78.78-.78 2.05 0 2.83L4 21.41c.39.39.9.59 1.41.59.51 0 1.02-.2 1.41-.59l7.78-7.78 2.81-2.81c.8-.78.8-2.07 0-2.86zM5.41 20L4 18.59l7.72-7.72 1.47 1.35L5.41 20z\"/>\n",
              "  </svg>\n",
              "      </button>\n",
              "\n",
              "\n",
              "\n",
              "    <div id=\"df-88bcfe5c-f840-4338-b6a8-41a7e0f42b41\">\n",
              "      <button class=\"colab-df-quickchart\" onclick=\"quickchart('df-88bcfe5c-f840-4338-b6a8-41a7e0f42b41')\"\n",
              "              title=\"Suggest charts.\"\n",
              "              style=\"display:none;\">\n",
              "\n",
              "<svg xmlns=\"http://www.w3.org/2000/svg\" height=\"24px\"viewBox=\"0 0 24 24\"\n",
              "     width=\"24px\">\n",
              "    <g>\n",
              "        <path d=\"M19 3H5c-1.1 0-2 .9-2 2v14c0 1.1.9 2 2 2h14c1.1 0 2-.9 2-2V5c0-1.1-.9-2-2-2zM9 17H7v-7h2v7zm4 0h-2V7h2v10zm4 0h-2v-4h2v4z\"/>\n",
              "    </g>\n",
              "</svg>\n",
              "      </button>\n",
              "    </div>\n",
              "\n",
              "<style>\n",
              "  .colab-df-quickchart {\n",
              "    background-color: #E8F0FE;\n",
              "    border: none;\n",
              "    border-radius: 50%;\n",
              "    cursor: pointer;\n",
              "    display: none;\n",
              "    fill: #1967D2;\n",
              "    height: 32px;\n",
              "    padding: 0 0 0 0;\n",
              "    width: 32px;\n",
              "  }\n",
              "\n",
              "  .colab-df-quickchart:hover {\n",
              "    background-color: #E2EBFA;\n",
              "    box-shadow: 0px 1px 2px rgba(60, 64, 67, 0.3), 0px 1px 3px 1px rgba(60, 64, 67, 0.15);\n",
              "    fill: #174EA6;\n",
              "  }\n",
              "\n",
              "  [theme=dark] .colab-df-quickchart {\n",
              "    background-color: #3B4455;\n",
              "    fill: #D2E3FC;\n",
              "  }\n",
              "\n",
              "  [theme=dark] .colab-df-quickchart:hover {\n",
              "    background-color: #434B5C;\n",
              "    box-shadow: 0px 1px 3px 1px rgba(0, 0, 0, 0.15);\n",
              "    filter: drop-shadow(0px 1px 2px rgba(0, 0, 0, 0.3));\n",
              "    fill: #FFFFFF;\n",
              "  }\n",
              "</style>\n",
              "\n",
              "    <script>\n",
              "      async function quickchart(key) {\n",
              "        const containerElement = document.querySelector('#' + key);\n",
              "        const charts = await google.colab.kernel.invokeFunction(\n",
              "            'suggestCharts', [key], {});\n",
              "      }\n",
              "    </script>\n",
              "\n",
              "      <script>\n",
              "\n",
              "function displayQuickchartButton(domScope) {\n",
              "  let quickchartButtonEl =\n",
              "    domScope.querySelector('#df-88bcfe5c-f840-4338-b6a8-41a7e0f42b41 button.colab-df-quickchart');\n",
              "  quickchartButtonEl.style.display =\n",
              "    google.colab.kernel.accessAllowed ? 'block' : 'none';\n",
              "}\n",
              "\n",
              "        displayQuickchartButton(document);\n",
              "      </script>\n",
              "      <style>\n",
              "    .colab-df-container {\n",
              "      display:flex;\n",
              "      flex-wrap:wrap;\n",
              "      gap: 12px;\n",
              "    }\n",
              "\n",
              "    .colab-df-convert {\n",
              "      background-color: #E8F0FE;\n",
              "      border: none;\n",
              "      border-radius: 50%;\n",
              "      cursor: pointer;\n",
              "      display: none;\n",
              "      fill: #1967D2;\n",
              "      height: 32px;\n",
              "      padding: 0 0 0 0;\n",
              "      width: 32px;\n",
              "    }\n",
              "\n",
              "    .colab-df-convert:hover {\n",
              "      background-color: #E2EBFA;\n",
              "      box-shadow: 0px 1px 2px rgba(60, 64, 67, 0.3), 0px 1px 3px 1px rgba(60, 64, 67, 0.15);\n",
              "      fill: #174EA6;\n",
              "    }\n",
              "\n",
              "    [theme=dark] .colab-df-convert {\n",
              "      background-color: #3B4455;\n",
              "      fill: #D2E3FC;\n",
              "    }\n",
              "\n",
              "    [theme=dark] .colab-df-convert:hover {\n",
              "      background-color: #434B5C;\n",
              "      box-shadow: 0px 1px 3px 1px rgba(0, 0, 0, 0.15);\n",
              "      filter: drop-shadow(0px 1px 2px rgba(0, 0, 0, 0.3));\n",
              "      fill: #FFFFFF;\n",
              "    }\n",
              "  </style>\n",
              "\n",
              "      <script>\n",
              "        const buttonEl =\n",
              "          document.querySelector('#df-79191099-d02e-4595-a88e-850bc3710763 button.colab-df-convert');\n",
              "        buttonEl.style.display =\n",
              "          google.colab.kernel.accessAllowed ? 'block' : 'none';\n",
              "\n",
              "        async function convertToInteractive(key) {\n",
              "          const element = document.querySelector('#df-79191099-d02e-4595-a88e-850bc3710763');\n",
              "          const dataTable =\n",
              "            await google.colab.kernel.invokeFunction('convertToInteractive',\n",
              "                                                     [key], {});\n",
              "          if (!dataTable) return;\n",
              "\n",
              "          const docLinkHtml = 'Like what you see? Visit the ' +\n",
              "            '<a target=\"_blank\" href=https://colab.research.google.com/notebooks/data_table.ipynb>data table notebook</a>'\n",
              "            + ' to learn more about interactive tables.';\n",
              "          element.innerHTML = '';\n",
              "          dataTable['output_type'] = 'display_data';\n",
              "          await google.colab.output.renderOutput(dataTable, element);\n",
              "          const docLink = document.createElement('div');\n",
              "          docLink.innerHTML = docLinkHtml;\n",
              "          element.appendChild(docLink);\n",
              "        }\n",
              "      </script>\n",
              "    </div>\n",
              "  </div>\n"
            ]
          },
          "metadata": {},
          "execution_count": 61
        },
        {
          "output_type": "stream",
          "name": "stdout",
          "text": [
            "time: 90.7 ms (started: 2023-07-26 17:10:25 +00:00)\n"
          ]
        }
      ]
    },
    {
      "cell_type": "code",
      "source": [
        "from sklearn.base     import BaseEstimator, TransformerMixin\n",
        "from sklearn.compose  import ColumnTransformer\n",
        "from sklearn.pipeline import Pipeline\n",
        "\n",
        "import itertools\n",
        "import numpy as np"
      ],
      "metadata": {
        "colab": {
          "base_uri": "https://localhost:8080/"
        },
        "id": "kyL41uThJ7f_",
        "outputId": "3891b6f8-eee8-4e42-a1d2-df5123ab9d8a"
      },
      "execution_count": 62,
      "outputs": [
        {
          "output_type": "stream",
          "name": "stdout",
          "text": [
            "time: 595 µs (started: 2023-07-26 17:10:25 +00:00)\n"
          ]
        }
      ]
    },
    {
      "cell_type": "code",
      "source": [
        "class DescriptiveStatistics(BaseEstimator, TransformerMixin):\n",
        "  def fit(self, X, y=None):\n",
        "    return self\n",
        "\n",
        "  def fit_transform(self, X, y=None):\n",
        "    self.fit(X, y)\n",
        "    return self.transform(X, y)\n",
        "\n",
        "  def transform(self, X, y=None):\n",
        "    X_ = X.copy()\n",
        "    X_['min']  = X_.apply(lambda y: y.min(), axis=1)\n",
        "    X_['max']  = X_.apply(lambda y: y.max(), axis=1)\n",
        "    X_['mean'] = X_.apply(lambda y: y.mean(), axis=1)\n",
        "    X_['std']  = X_.apply(lambda y: y.std(), axis=1)\n",
        "    return X_"
      ],
      "metadata": {
        "colab": {
          "base_uri": "https://localhost:8080/"
        },
        "id": "sCooqB-xolg7",
        "outputId": "7d120152-4038-4bbc-f25a-d228e23244dc"
      },
      "execution_count": 63,
      "outputs": [
        {
          "output_type": "stream",
          "name": "stdout",
          "text": [
            "time: 2.64 ms (started: 2023-07-26 17:10:25 +00:00)\n"
          ]
        }
      ]
    },
    {
      "cell_type": "code",
      "source": [
        "class EvenAmount(BaseEstimator, TransformerMixin):\n",
        "  def fit(self, X, y=None):\n",
        "    return self\n",
        "\n",
        "  def fit_transform(self, X, y=None):\n",
        "    self.fit(X, y)\n",
        "    return self.transform(X, y)\n",
        "\n",
        "  def get_feature_names_out(self):\n",
        "    pass\n",
        "\n",
        "  def even_amount(self, raffle):\n",
        "    raffle_size = 15\n",
        "    even = itertools.filterfalse(lambda x: x % 2 != 0, raffle.iloc[:raffle_size])\n",
        "    return len(list(even))\n",
        "\n",
        "  def transform(self, X, y=None):\n",
        "    X = X.copy()\n",
        "    raffle_size = 15\n",
        "    X['even_amount'] = X.apply(self.even_amount, axis=1)\n",
        "    return X"
      ],
      "metadata": {
        "id": "Hz8DHRvwNRcC",
        "colab": {
          "base_uri": "https://localhost:8080/"
        },
        "outputId": "124c7ed2-9761-4858-ac19-a628b53e010e"
      },
      "execution_count": 64,
      "outputs": [
        {
          "output_type": "stream",
          "name": "stdout",
          "text": [
            "time: 1.77 ms (started: 2023-07-26 17:10:25 +00:00)\n"
          ]
        }
      ]
    },
    {
      "cell_type": "code",
      "source": [
        "class Quartiles(BaseEstimator, TransformerMixin):\n",
        "  def fit(self, X, y=None):\n",
        "    return self\n",
        "\n",
        "  def fit_transform(self, X, y=None):\n",
        "    self.fit(X, y)\n",
        "    return self.transform(X, y)\n",
        "\n",
        "  def get_feature_names_out(self):\n",
        "    pass\n",
        "\n",
        "  def transform(self, X, y=None):\n",
        "    X_ = X.iloc[:, 0: 15].copy()\n",
        "    X['quartile_1_5']   = X_.apply(lambda y: ((y >= 1) & (y <= 5)).sum(), axis=1)\n",
        "    X['quartile_6_10']  = X_.apply(lambda y: ((y >= 6) & (y <= 10)).sum(), axis=1)\n",
        "    X['quartile_11_15'] = X_.apply(lambda y: ((y >= 11) & (y <= 15)).sum(), axis=1)\n",
        "    X['quartile_16_20'] = X_.apply(lambda y: ((y >= 16) & (y <= 20)).sum(), axis=1)\n",
        "    X['quartile_21_25'] = X_.apply(lambda y: ((y >= 21) & (y <=25)).sum(), axis=1)\n",
        "    return X"
      ],
      "metadata": {
        "colab": {
          "base_uri": "https://localhost:8080/"
        },
        "id": "aJDUYSXqAAgy",
        "outputId": "87234b6a-863b-4b3b-8036-75fe8aa483c2"
      },
      "execution_count": 65,
      "outputs": [
        {
          "output_type": "stream",
          "name": "stdout",
          "text": [
            "time: 1.76 ms (started: 2023-07-26 17:10:25 +00:00)\n"
          ]
        }
      ]
    },
    {
      "cell_type": "code",
      "source": [
        "class RaffleRemover(BaseEstimator, TransformerMixin):\n",
        "  def fit(self, X, y=None):\n",
        "    return self\n",
        "\n",
        "  def fit_transform(self, X, y=None):\n",
        "    self.fit(X, y)\n",
        "    return self.transform(X, y)\n",
        "\n",
        "  def transform(self, X, y=None):\n",
        "    return X.iloc[:, 15:]"
      ],
      "metadata": {
        "id": "WH_-iDbA47Oa",
        "colab": {
          "base_uri": "https://localhost:8080/"
        },
        "outputId": "fec3326b-e156-4020-ab4f-6f9d82319019"
      },
      "execution_count": 66,
      "outputs": [
        {
          "output_type": "stream",
          "name": "stdout",
          "text": [
            "time: 1.12 ms (started: 2023-07-26 17:10:25 +00:00)\n"
          ]
        }
      ]
    },
    {
      "cell_type": "code",
      "source": [
        "class RepeatedOne(BaseEstimator, TransformerMixin):\n",
        "  def fit(self, X, y=None):\n",
        "    return self\n",
        "\n",
        "  def fit_transform(self, X, y=None):\n",
        "    self.fit(X, y)\n",
        "    return self.transform(X, y)\n",
        "\n",
        "  def match_numbers(self, X):\n",
        "      raffle_x = set(X[['Bola1', 'Bola2', 'Bola3', 'Bola4', 'Bola5', 'Bola6', 'Bola7', 'Bola8', 'Bola9', 'Bola10', 'Bola11', 'Bola12', 'Bola13', 'Bola14', 'Bola15']])\n",
        "      raffle_y = set(X[['lag1_Bola1', 'lag1_Bola2', 'lag1_Bola3', 'lag1_Bola4', 'lag1_Bola5', 'lag1_Bola6', 'lag1_Bola7', 'lag1_Bola8', 'lag1_Bola9', 'lag1_Bola10', 'lag1_Bola11', 'lag1_Bola12', 'lag1_Bola13', 'lag1_Bola14', 'lag1_Bola15']])\n",
        "      return len(raffle_x.intersection(raffle_y))\n",
        "\n",
        "  def transform(self, X, y=None):\n",
        "    X_ = X.copy()\n",
        "    for name in X_.columns:\n",
        "      X_['lag1_' + name] = X_[name].shift(1)\n",
        "    X['repeated'] = X_.apply(self.match_numbers, axis=1)\n",
        "    return X"
      ],
      "metadata": {
        "id": "1P4IRxCQJ4vk",
        "colab": {
          "base_uri": "https://localhost:8080/"
        },
        "outputId": "a36df452-cc35-48b1-87c4-96b123791a5e"
      },
      "execution_count": 67,
      "outputs": [
        {
          "output_type": "stream",
          "name": "stdout",
          "text": [
            "time: 2.08 ms (started: 2023-07-26 17:10:25 +00:00)\n"
          ]
        }
      ]
    },
    {
      "cell_type": "code",
      "source": [
        "class QuartilesPatternMapping(BaseEstimator, TransformerMixin):\n",
        "  \"\"\"\n",
        "  Codifica cada sequência de valores presentes nos atributos quartile_1_5 até quartile_21_25 em apenas um número.\n",
        "  Assim, é possível criar um atributo substituindo os cinco.\n",
        "  \"\"\"\n",
        "  def fit(self, X, y=None):\n",
        "    X_ = X[['quartile_1_5', 'quartile_6_10', 'quartile_11_15', 'quartile_16_20', 'quartile_21_25']]\n",
        "    self.quartiles = list()\n",
        "    X_.apply(lambda y: self.quartiles.append(np.array2string(y.to_numpy())), axis=1) # transforma cada sequência de cinco números em uma string\n",
        "    patterns_unique = {item for item in self.quartiles} # set comprehension\n",
        "    self.patterns_map = {value: index for index, value in enumerate(patterns_unique)} # dicionário padrão:id\n",
        "    return self\n",
        "\n",
        "  def fit_transform(self, X, y=None):\n",
        "    self.fit(X, y)\n",
        "    return self.transform(X, y)\n",
        "\n",
        "  def transform(self, X, y=None):\n",
        "    X['quartiles_codified'] = pd.Series(self.quartiles).replace(self.patterns_map)\n",
        "    X = X.drop(['quartile_1_5', 'quartile_6_10', 'quartile_11_15', 'quartile_16_20', 'quartile_21_25'], axis=1)\n",
        "    return X"
      ],
      "metadata": {
        "colab": {
          "base_uri": "https://localhost:8080/"
        },
        "id": "jZSq_mUQ0se7",
        "outputId": "83101953-0d36-4923-a073-74d641271aa1"
      },
      "execution_count": 68,
      "outputs": [
        {
          "output_type": "stream",
          "name": "stdout",
          "text": [
            "time: 1.62 ms (started: 2023-07-26 17:10:25 +00:00)\n"
          ]
        }
      ]
    },
    {
      "cell_type": "markdown",
      "source": [
        "## Pipeline completo"
      ],
      "metadata": {
        "id": "-xsFbyAhwU9M"
      }
    },
    {
      "cell_type": "code",
      "source": [
        "steps = [('descriptivestatistics', DescriptiveStatistics()),\n",
        "         ('repeated', RepeatedOne()),\n",
        "         ('evenodd', EvenAmount()),\n",
        "         ('quartiles', Quartiles()),\n",
        "         ('raffleremover', RaffleRemover()),\n",
        "         ('quartilespatternmapping', QuartilesPatternMapping())]\n",
        "\n",
        "pipeline_full = Pipeline(steps=steps)\n",
        "dataset = pipeline_full.fit_transform(raffles)"
      ],
      "metadata": {
        "colab": {
          "base_uri": "https://localhost:8080/"
        },
        "id": "G7X9W9jDs1TX",
        "outputId": "4a0a2852-0a3b-44f2-9a76-fa02e2024767"
      },
      "execution_count": 69,
      "outputs": [
        {
          "output_type": "stream",
          "name": "stdout",
          "text": [
            "time: 16.7 s (started: 2023-07-26 17:10:25 +00:00)\n"
          ]
        }
      ]
    },
    {
      "cell_type": "markdown",
      "source": [
        "# EDA"
      ],
      "metadata": {
        "id": "rHXrblNRL9yv"
      }
    },
    {
      "cell_type": "code",
      "source": [
        "dataset"
      ],
      "metadata": {
        "colab": {
          "base_uri": "https://localhost:8080/",
          "height": 441
        },
        "id": "8spxY42TMBTi",
        "outputId": "dd870f54-6857-4bd8-d0bb-b859d4fa6757"
      },
      "execution_count": 70,
      "outputs": [
        {
          "output_type": "execute_result",
          "data": {
            "text/plain": [
              "      min   max       mean       std  repeated  even_amount  \\\n",
              "0     2.0  25.0  13.294118  7.954020         0            8   \n",
              "1     1.0  24.0  12.352941  7.561055         9            6   \n",
              "2     1.0  24.0  12.176471  7.334329        11            9   \n",
              "3     1.0  25.0  13.117647  8.344652         9            8   \n",
              "4     1.0  25.0  13.411765  8.189368        11            7   \n",
              "...   ...   ...        ...       ...       ...          ...   \n",
              "2706  1.0  25.0  11.882353  7.645701        10            7   \n",
              "2707  1.0  25.0  14.000000  8.845072         8            7   \n",
              "2708  1.0  25.0  13.294118  8.716210        11            5   \n",
              "2709  1.0  25.0  12.058824  8.076623         9            8   \n",
              "2710  1.0  25.0  14.529412  8.303916         9            8   \n",
              "\n",
              "      quartiles_codified  \n",
              "0                    327  \n",
              "1                     23  \n",
              "2                    307  \n",
              "3                     86  \n",
              "4                    296  \n",
              "...                  ...  \n",
              "2706                 107  \n",
              "2707                 314  \n",
              "2708                 225  \n",
              "2709                 169  \n",
              "2710                 189  \n",
              "\n",
              "[2711 rows x 7 columns]"
            ],
            "text/html": [
              "\n",
              "\n",
              "  <div id=\"df-b50b0062-22e9-4a4c-b38d-7909798d600b\">\n",
              "    <div class=\"colab-df-container\">\n",
              "      <div>\n",
              "<style scoped>\n",
              "    .dataframe tbody tr th:only-of-type {\n",
              "        vertical-align: middle;\n",
              "    }\n",
              "\n",
              "    .dataframe tbody tr th {\n",
              "        vertical-align: top;\n",
              "    }\n",
              "\n",
              "    .dataframe thead th {\n",
              "        text-align: right;\n",
              "    }\n",
              "</style>\n",
              "<table border=\"1\" class=\"dataframe\">\n",
              "  <thead>\n",
              "    <tr style=\"text-align: right;\">\n",
              "      <th></th>\n",
              "      <th>min</th>\n",
              "      <th>max</th>\n",
              "      <th>mean</th>\n",
              "      <th>std</th>\n",
              "      <th>repeated</th>\n",
              "      <th>even_amount</th>\n",
              "      <th>quartiles_codified</th>\n",
              "    </tr>\n",
              "  </thead>\n",
              "  <tbody>\n",
              "    <tr>\n",
              "      <th>0</th>\n",
              "      <td>2.0</td>\n",
              "      <td>25.0</td>\n",
              "      <td>13.294118</td>\n",
              "      <td>7.954020</td>\n",
              "      <td>0</td>\n",
              "      <td>8</td>\n",
              "      <td>327</td>\n",
              "    </tr>\n",
              "    <tr>\n",
              "      <th>1</th>\n",
              "      <td>1.0</td>\n",
              "      <td>24.0</td>\n",
              "      <td>12.352941</td>\n",
              "      <td>7.561055</td>\n",
              "      <td>9</td>\n",
              "      <td>6</td>\n",
              "      <td>23</td>\n",
              "    </tr>\n",
              "    <tr>\n",
              "      <th>2</th>\n",
              "      <td>1.0</td>\n",
              "      <td>24.0</td>\n",
              "      <td>12.176471</td>\n",
              "      <td>7.334329</td>\n",
              "      <td>11</td>\n",
              "      <td>9</td>\n",
              "      <td>307</td>\n",
              "    </tr>\n",
              "    <tr>\n",
              "      <th>3</th>\n",
              "      <td>1.0</td>\n",
              "      <td>25.0</td>\n",
              "      <td>13.117647</td>\n",
              "      <td>8.344652</td>\n",
              "      <td>9</td>\n",
              "      <td>8</td>\n",
              "      <td>86</td>\n",
              "    </tr>\n",
              "    <tr>\n",
              "      <th>4</th>\n",
              "      <td>1.0</td>\n",
              "      <td>25.0</td>\n",
              "      <td>13.411765</td>\n",
              "      <td>8.189368</td>\n",
              "      <td>11</td>\n",
              "      <td>7</td>\n",
              "      <td>296</td>\n",
              "    </tr>\n",
              "    <tr>\n",
              "      <th>...</th>\n",
              "      <td>...</td>\n",
              "      <td>...</td>\n",
              "      <td>...</td>\n",
              "      <td>...</td>\n",
              "      <td>...</td>\n",
              "      <td>...</td>\n",
              "      <td>...</td>\n",
              "    </tr>\n",
              "    <tr>\n",
              "      <th>2706</th>\n",
              "      <td>1.0</td>\n",
              "      <td>25.0</td>\n",
              "      <td>11.882353</td>\n",
              "      <td>7.645701</td>\n",
              "      <td>10</td>\n",
              "      <td>7</td>\n",
              "      <td>107</td>\n",
              "    </tr>\n",
              "    <tr>\n",
              "      <th>2707</th>\n",
              "      <td>1.0</td>\n",
              "      <td>25.0</td>\n",
              "      <td>14.000000</td>\n",
              "      <td>8.845072</td>\n",
              "      <td>8</td>\n",
              "      <td>7</td>\n",
              "      <td>314</td>\n",
              "    </tr>\n",
              "    <tr>\n",
              "      <th>2708</th>\n",
              "      <td>1.0</td>\n",
              "      <td>25.0</td>\n",
              "      <td>13.294118</td>\n",
              "      <td>8.716210</td>\n",
              "      <td>11</td>\n",
              "      <td>5</td>\n",
              "      <td>225</td>\n",
              "    </tr>\n",
              "    <tr>\n",
              "      <th>2709</th>\n",
              "      <td>1.0</td>\n",
              "      <td>25.0</td>\n",
              "      <td>12.058824</td>\n",
              "      <td>8.076623</td>\n",
              "      <td>9</td>\n",
              "      <td>8</td>\n",
              "      <td>169</td>\n",
              "    </tr>\n",
              "    <tr>\n",
              "      <th>2710</th>\n",
              "      <td>1.0</td>\n",
              "      <td>25.0</td>\n",
              "      <td>14.529412</td>\n",
              "      <td>8.303916</td>\n",
              "      <td>9</td>\n",
              "      <td>8</td>\n",
              "      <td>189</td>\n",
              "    </tr>\n",
              "  </tbody>\n",
              "</table>\n",
              "<p>2711 rows × 7 columns</p>\n",
              "</div>\n",
              "      <button class=\"colab-df-convert\" onclick=\"convertToInteractive('df-b50b0062-22e9-4a4c-b38d-7909798d600b')\"\n",
              "              title=\"Convert this dataframe to an interactive table.\"\n",
              "              style=\"display:none;\">\n",
              "\n",
              "  <svg xmlns=\"http://www.w3.org/2000/svg\" height=\"24px\"viewBox=\"0 0 24 24\"\n",
              "       width=\"24px\">\n",
              "    <path d=\"M0 0h24v24H0V0z\" fill=\"none\"/>\n",
              "    <path d=\"M18.56 5.44l.94 2.06.94-2.06 2.06-.94-2.06-.94-.94-2.06-.94 2.06-2.06.94zm-11 1L8.5 8.5l.94-2.06 2.06-.94-2.06-.94L8.5 2.5l-.94 2.06-2.06.94zm10 10l.94 2.06.94-2.06 2.06-.94-2.06-.94-.94-2.06-.94 2.06-2.06.94z\"/><path d=\"M17.41 7.96l-1.37-1.37c-.4-.4-.92-.59-1.43-.59-.52 0-1.04.2-1.43.59L10.3 9.45l-7.72 7.72c-.78.78-.78 2.05 0 2.83L4 21.41c.39.39.9.59 1.41.59.51 0 1.02-.2 1.41-.59l7.78-7.78 2.81-2.81c.8-.78.8-2.07 0-2.86zM5.41 20L4 18.59l7.72-7.72 1.47 1.35L5.41 20z\"/>\n",
              "  </svg>\n",
              "      </button>\n",
              "\n",
              "\n",
              "\n",
              "    <div id=\"df-983ff9a2-03f7-4b56-8a8e-4bab547b4bfd\">\n",
              "      <button class=\"colab-df-quickchart\" onclick=\"quickchart('df-983ff9a2-03f7-4b56-8a8e-4bab547b4bfd')\"\n",
              "              title=\"Suggest charts.\"\n",
              "              style=\"display:none;\">\n",
              "\n",
              "<svg xmlns=\"http://www.w3.org/2000/svg\" height=\"24px\"viewBox=\"0 0 24 24\"\n",
              "     width=\"24px\">\n",
              "    <g>\n",
              "        <path d=\"M19 3H5c-1.1 0-2 .9-2 2v14c0 1.1.9 2 2 2h14c1.1 0 2-.9 2-2V5c0-1.1-.9-2-2-2zM9 17H7v-7h2v7zm4 0h-2V7h2v10zm4 0h-2v-4h2v4z\"/>\n",
              "    </g>\n",
              "</svg>\n",
              "      </button>\n",
              "    </div>\n",
              "\n",
              "<style>\n",
              "  .colab-df-quickchart {\n",
              "    background-color: #E8F0FE;\n",
              "    border: none;\n",
              "    border-radius: 50%;\n",
              "    cursor: pointer;\n",
              "    display: none;\n",
              "    fill: #1967D2;\n",
              "    height: 32px;\n",
              "    padding: 0 0 0 0;\n",
              "    width: 32px;\n",
              "  }\n",
              "\n",
              "  .colab-df-quickchart:hover {\n",
              "    background-color: #E2EBFA;\n",
              "    box-shadow: 0px 1px 2px rgba(60, 64, 67, 0.3), 0px 1px 3px 1px rgba(60, 64, 67, 0.15);\n",
              "    fill: #174EA6;\n",
              "  }\n",
              "\n",
              "  [theme=dark] .colab-df-quickchart {\n",
              "    background-color: #3B4455;\n",
              "    fill: #D2E3FC;\n",
              "  }\n",
              "\n",
              "  [theme=dark] .colab-df-quickchart:hover {\n",
              "    background-color: #434B5C;\n",
              "    box-shadow: 0px 1px 3px 1px rgba(0, 0, 0, 0.15);\n",
              "    filter: drop-shadow(0px 1px 2px rgba(0, 0, 0, 0.3));\n",
              "    fill: #FFFFFF;\n",
              "  }\n",
              "</style>\n",
              "\n",
              "    <script>\n",
              "      async function quickchart(key) {\n",
              "        const containerElement = document.querySelector('#' + key);\n",
              "        const charts = await google.colab.kernel.invokeFunction(\n",
              "            'suggestCharts', [key], {});\n",
              "      }\n",
              "    </script>\n",
              "\n",
              "      <script>\n",
              "\n",
              "function displayQuickchartButton(domScope) {\n",
              "  let quickchartButtonEl =\n",
              "    domScope.querySelector('#df-983ff9a2-03f7-4b56-8a8e-4bab547b4bfd button.colab-df-quickchart');\n",
              "  quickchartButtonEl.style.display =\n",
              "    google.colab.kernel.accessAllowed ? 'block' : 'none';\n",
              "}\n",
              "\n",
              "        displayQuickchartButton(document);\n",
              "      </script>\n",
              "      <style>\n",
              "    .colab-df-container {\n",
              "      display:flex;\n",
              "      flex-wrap:wrap;\n",
              "      gap: 12px;\n",
              "    }\n",
              "\n",
              "    .colab-df-convert {\n",
              "      background-color: #E8F0FE;\n",
              "      border: none;\n",
              "      border-radius: 50%;\n",
              "      cursor: pointer;\n",
              "      display: none;\n",
              "      fill: #1967D2;\n",
              "      height: 32px;\n",
              "      padding: 0 0 0 0;\n",
              "      width: 32px;\n",
              "    }\n",
              "\n",
              "    .colab-df-convert:hover {\n",
              "      background-color: #E2EBFA;\n",
              "      box-shadow: 0px 1px 2px rgba(60, 64, 67, 0.3), 0px 1px 3px 1px rgba(60, 64, 67, 0.15);\n",
              "      fill: #174EA6;\n",
              "    }\n",
              "\n",
              "    [theme=dark] .colab-df-convert {\n",
              "      background-color: #3B4455;\n",
              "      fill: #D2E3FC;\n",
              "    }\n",
              "\n",
              "    [theme=dark] .colab-df-convert:hover {\n",
              "      background-color: #434B5C;\n",
              "      box-shadow: 0px 1px 3px 1px rgba(0, 0, 0, 0.15);\n",
              "      filter: drop-shadow(0px 1px 2px rgba(0, 0, 0, 0.3));\n",
              "      fill: #FFFFFF;\n",
              "    }\n",
              "  </style>\n",
              "\n",
              "      <script>\n",
              "        const buttonEl =\n",
              "          document.querySelector('#df-b50b0062-22e9-4a4c-b38d-7909798d600b button.colab-df-convert');\n",
              "        buttonEl.style.display =\n",
              "          google.colab.kernel.accessAllowed ? 'block' : 'none';\n",
              "\n",
              "        async function convertToInteractive(key) {\n",
              "          const element = document.querySelector('#df-b50b0062-22e9-4a4c-b38d-7909798d600b');\n",
              "          const dataTable =\n",
              "            await google.colab.kernel.invokeFunction('convertToInteractive',\n",
              "                                                     [key], {});\n",
              "          if (!dataTable) return;\n",
              "\n",
              "          const docLinkHtml = 'Like what you see? Visit the ' +\n",
              "            '<a target=\"_blank\" href=https://colab.research.google.com/notebooks/data_table.ipynb>data table notebook</a>'\n",
              "            + ' to learn more about interactive tables.';\n",
              "          element.innerHTML = '';\n",
              "          dataTable['output_type'] = 'display_data';\n",
              "          await google.colab.output.renderOutput(dataTable, element);\n",
              "          const docLink = document.createElement('div');\n",
              "          docLink.innerHTML = docLinkHtml;\n",
              "          element.appendChild(docLink);\n",
              "        }\n",
              "      </script>\n",
              "    </div>\n",
              "  </div>\n"
            ]
          },
          "metadata": {},
          "execution_count": 70
        },
        {
          "output_type": "stream",
          "name": "stdout",
          "text": [
            "time: 19.4 ms (started: 2023-07-26 17:10:42 +00:00)\n"
          ]
        }
      ]
    },
    {
      "cell_type": "code",
      "source": [
        "dataset.info()"
      ],
      "metadata": {
        "colab": {
          "base_uri": "https://localhost:8080/"
        },
        "id": "7wZonrtyMMNn",
        "outputId": "7c78f104-5700-432d-949b-f0e92e4cab8f"
      },
      "execution_count": 71,
      "outputs": [
        {
          "output_type": "stream",
          "name": "stdout",
          "text": [
            "<class 'pandas.core.frame.DataFrame'>\n",
            "RangeIndex: 2711 entries, 0 to 2710\n",
            "Data columns (total 7 columns):\n",
            " #   Column              Non-Null Count  Dtype  \n",
            "---  ------              --------------  -----  \n",
            " 0   min                 2711 non-null   float64\n",
            " 1   max                 2711 non-null   float64\n",
            " 2   mean                2711 non-null   float64\n",
            " 3   std                 2711 non-null   float64\n",
            " 4   repeated            2711 non-null   int64  \n",
            " 5   even_amount         2711 non-null   int64  \n",
            " 6   quartiles_codified  2711 non-null   int64  \n",
            "dtypes: float64(4), int64(3)\n",
            "memory usage: 148.4 KB\n",
            "time: 25.1 ms (started: 2023-07-26 17:10:42 +00:00)\n"
          ]
        }
      ]
    },
    {
      "cell_type": "code",
      "source": [
        "dataset.describe()"
      ],
      "metadata": {
        "colab": {
          "base_uri": "https://localhost:8080/",
          "height": 318
        },
        "id": "hisV0rTbMRas",
        "outputId": "679cec5e-ffac-4daa-d8d0-51395f8f68d0"
      },
      "execution_count": 72,
      "outputs": [
        {
          "output_type": "execute_result",
          "data": {
            "text/plain": [
              "               min          max         mean          std     repeated  \\\n",
              "count  2711.000000  2711.000000  2711.000000  2711.000000  2711.000000   \n",
              "mean      1.628181    24.400221    13.022544     7.732113     8.957580   \n",
              "std       0.929867     0.943566     1.087299     0.552496     1.234815   \n",
              "min       1.000000    18.000000     8.941176     5.093588     0.000000   \n",
              "25%       1.000000    24.000000    12.294118     7.388151     8.000000   \n",
              "50%       1.000000    25.000000    13.000000     7.783400     9.000000   \n",
              "75%       2.000000    25.000000    13.823529     8.137231    10.000000   \n",
              "max       7.000000    25.000000    16.294118     9.123528    14.000000   \n",
              "\n",
              "       even_amount  quartiles_codified  \n",
              "count  2711.000000         2711.000000  \n",
              "mean      7.192918          176.133899  \n",
              "std       1.254380          103.093571  \n",
              "min       3.000000            0.000000  \n",
              "25%       6.000000           89.000000  \n",
              "50%       7.000000          184.000000  \n",
              "75%       8.000000          255.000000  \n",
              "max      11.000000          352.000000  "
            ],
            "text/html": [
              "\n",
              "\n",
              "  <div id=\"df-90a9ca6a-cf91-49e2-bb61-2f1278445281\">\n",
              "    <div class=\"colab-df-container\">\n",
              "      <div>\n",
              "<style scoped>\n",
              "    .dataframe tbody tr th:only-of-type {\n",
              "        vertical-align: middle;\n",
              "    }\n",
              "\n",
              "    .dataframe tbody tr th {\n",
              "        vertical-align: top;\n",
              "    }\n",
              "\n",
              "    .dataframe thead th {\n",
              "        text-align: right;\n",
              "    }\n",
              "</style>\n",
              "<table border=\"1\" class=\"dataframe\">\n",
              "  <thead>\n",
              "    <tr style=\"text-align: right;\">\n",
              "      <th></th>\n",
              "      <th>min</th>\n",
              "      <th>max</th>\n",
              "      <th>mean</th>\n",
              "      <th>std</th>\n",
              "      <th>repeated</th>\n",
              "      <th>even_amount</th>\n",
              "      <th>quartiles_codified</th>\n",
              "    </tr>\n",
              "  </thead>\n",
              "  <tbody>\n",
              "    <tr>\n",
              "      <th>count</th>\n",
              "      <td>2711.000000</td>\n",
              "      <td>2711.000000</td>\n",
              "      <td>2711.000000</td>\n",
              "      <td>2711.000000</td>\n",
              "      <td>2711.000000</td>\n",
              "      <td>2711.000000</td>\n",
              "      <td>2711.000000</td>\n",
              "    </tr>\n",
              "    <tr>\n",
              "      <th>mean</th>\n",
              "      <td>1.628181</td>\n",
              "      <td>24.400221</td>\n",
              "      <td>13.022544</td>\n",
              "      <td>7.732113</td>\n",
              "      <td>8.957580</td>\n",
              "      <td>7.192918</td>\n",
              "      <td>176.133899</td>\n",
              "    </tr>\n",
              "    <tr>\n",
              "      <th>std</th>\n",
              "      <td>0.929867</td>\n",
              "      <td>0.943566</td>\n",
              "      <td>1.087299</td>\n",
              "      <td>0.552496</td>\n",
              "      <td>1.234815</td>\n",
              "      <td>1.254380</td>\n",
              "      <td>103.093571</td>\n",
              "    </tr>\n",
              "    <tr>\n",
              "      <th>min</th>\n",
              "      <td>1.000000</td>\n",
              "      <td>18.000000</td>\n",
              "      <td>8.941176</td>\n",
              "      <td>5.093588</td>\n",
              "      <td>0.000000</td>\n",
              "      <td>3.000000</td>\n",
              "      <td>0.000000</td>\n",
              "    </tr>\n",
              "    <tr>\n",
              "      <th>25%</th>\n",
              "      <td>1.000000</td>\n",
              "      <td>24.000000</td>\n",
              "      <td>12.294118</td>\n",
              "      <td>7.388151</td>\n",
              "      <td>8.000000</td>\n",
              "      <td>6.000000</td>\n",
              "      <td>89.000000</td>\n",
              "    </tr>\n",
              "    <tr>\n",
              "      <th>50%</th>\n",
              "      <td>1.000000</td>\n",
              "      <td>25.000000</td>\n",
              "      <td>13.000000</td>\n",
              "      <td>7.783400</td>\n",
              "      <td>9.000000</td>\n",
              "      <td>7.000000</td>\n",
              "      <td>184.000000</td>\n",
              "    </tr>\n",
              "    <tr>\n",
              "      <th>75%</th>\n",
              "      <td>2.000000</td>\n",
              "      <td>25.000000</td>\n",
              "      <td>13.823529</td>\n",
              "      <td>8.137231</td>\n",
              "      <td>10.000000</td>\n",
              "      <td>8.000000</td>\n",
              "      <td>255.000000</td>\n",
              "    </tr>\n",
              "    <tr>\n",
              "      <th>max</th>\n",
              "      <td>7.000000</td>\n",
              "      <td>25.000000</td>\n",
              "      <td>16.294118</td>\n",
              "      <td>9.123528</td>\n",
              "      <td>14.000000</td>\n",
              "      <td>11.000000</td>\n",
              "      <td>352.000000</td>\n",
              "    </tr>\n",
              "  </tbody>\n",
              "</table>\n",
              "</div>\n",
              "      <button class=\"colab-df-convert\" onclick=\"convertToInteractive('df-90a9ca6a-cf91-49e2-bb61-2f1278445281')\"\n",
              "              title=\"Convert this dataframe to an interactive table.\"\n",
              "              style=\"display:none;\">\n",
              "\n",
              "  <svg xmlns=\"http://www.w3.org/2000/svg\" height=\"24px\"viewBox=\"0 0 24 24\"\n",
              "       width=\"24px\">\n",
              "    <path d=\"M0 0h24v24H0V0z\" fill=\"none\"/>\n",
              "    <path d=\"M18.56 5.44l.94 2.06.94-2.06 2.06-.94-2.06-.94-.94-2.06-.94 2.06-2.06.94zm-11 1L8.5 8.5l.94-2.06 2.06-.94-2.06-.94L8.5 2.5l-.94 2.06-2.06.94zm10 10l.94 2.06.94-2.06 2.06-.94-2.06-.94-.94-2.06-.94 2.06-2.06.94z\"/><path d=\"M17.41 7.96l-1.37-1.37c-.4-.4-.92-.59-1.43-.59-.52 0-1.04.2-1.43.59L10.3 9.45l-7.72 7.72c-.78.78-.78 2.05 0 2.83L4 21.41c.39.39.9.59 1.41.59.51 0 1.02-.2 1.41-.59l7.78-7.78 2.81-2.81c.8-.78.8-2.07 0-2.86zM5.41 20L4 18.59l7.72-7.72 1.47 1.35L5.41 20z\"/>\n",
              "  </svg>\n",
              "      </button>\n",
              "\n",
              "\n",
              "\n",
              "    <div id=\"df-b16c9dab-c67c-4c4a-bf53-b4c2841e051b\">\n",
              "      <button class=\"colab-df-quickchart\" onclick=\"quickchart('df-b16c9dab-c67c-4c4a-bf53-b4c2841e051b')\"\n",
              "              title=\"Suggest charts.\"\n",
              "              style=\"display:none;\">\n",
              "\n",
              "<svg xmlns=\"http://www.w3.org/2000/svg\" height=\"24px\"viewBox=\"0 0 24 24\"\n",
              "     width=\"24px\">\n",
              "    <g>\n",
              "        <path d=\"M19 3H5c-1.1 0-2 .9-2 2v14c0 1.1.9 2 2 2h14c1.1 0 2-.9 2-2V5c0-1.1-.9-2-2-2zM9 17H7v-7h2v7zm4 0h-2V7h2v10zm4 0h-2v-4h2v4z\"/>\n",
              "    </g>\n",
              "</svg>\n",
              "      </button>\n",
              "    </div>\n",
              "\n",
              "<style>\n",
              "  .colab-df-quickchart {\n",
              "    background-color: #E8F0FE;\n",
              "    border: none;\n",
              "    border-radius: 50%;\n",
              "    cursor: pointer;\n",
              "    display: none;\n",
              "    fill: #1967D2;\n",
              "    height: 32px;\n",
              "    padding: 0 0 0 0;\n",
              "    width: 32px;\n",
              "  }\n",
              "\n",
              "  .colab-df-quickchart:hover {\n",
              "    background-color: #E2EBFA;\n",
              "    box-shadow: 0px 1px 2px rgba(60, 64, 67, 0.3), 0px 1px 3px 1px rgba(60, 64, 67, 0.15);\n",
              "    fill: #174EA6;\n",
              "  }\n",
              "\n",
              "  [theme=dark] .colab-df-quickchart {\n",
              "    background-color: #3B4455;\n",
              "    fill: #D2E3FC;\n",
              "  }\n",
              "\n",
              "  [theme=dark] .colab-df-quickchart:hover {\n",
              "    background-color: #434B5C;\n",
              "    box-shadow: 0px 1px 3px 1px rgba(0, 0, 0, 0.15);\n",
              "    filter: drop-shadow(0px 1px 2px rgba(0, 0, 0, 0.3));\n",
              "    fill: #FFFFFF;\n",
              "  }\n",
              "</style>\n",
              "\n",
              "    <script>\n",
              "      async function quickchart(key) {\n",
              "        const containerElement = document.querySelector('#' + key);\n",
              "        const charts = await google.colab.kernel.invokeFunction(\n",
              "            'suggestCharts', [key], {});\n",
              "      }\n",
              "    </script>\n",
              "\n",
              "      <script>\n",
              "\n",
              "function displayQuickchartButton(domScope) {\n",
              "  let quickchartButtonEl =\n",
              "    domScope.querySelector('#df-b16c9dab-c67c-4c4a-bf53-b4c2841e051b button.colab-df-quickchart');\n",
              "  quickchartButtonEl.style.display =\n",
              "    google.colab.kernel.accessAllowed ? 'block' : 'none';\n",
              "}\n",
              "\n",
              "        displayQuickchartButton(document);\n",
              "      </script>\n",
              "      <style>\n",
              "    .colab-df-container {\n",
              "      display:flex;\n",
              "      flex-wrap:wrap;\n",
              "      gap: 12px;\n",
              "    }\n",
              "\n",
              "    .colab-df-convert {\n",
              "      background-color: #E8F0FE;\n",
              "      border: none;\n",
              "      border-radius: 50%;\n",
              "      cursor: pointer;\n",
              "      display: none;\n",
              "      fill: #1967D2;\n",
              "      height: 32px;\n",
              "      padding: 0 0 0 0;\n",
              "      width: 32px;\n",
              "    }\n",
              "\n",
              "    .colab-df-convert:hover {\n",
              "      background-color: #E2EBFA;\n",
              "      box-shadow: 0px 1px 2px rgba(60, 64, 67, 0.3), 0px 1px 3px 1px rgba(60, 64, 67, 0.15);\n",
              "      fill: #174EA6;\n",
              "    }\n",
              "\n",
              "    [theme=dark] .colab-df-convert {\n",
              "      background-color: #3B4455;\n",
              "      fill: #D2E3FC;\n",
              "    }\n",
              "\n",
              "    [theme=dark] .colab-df-convert:hover {\n",
              "      background-color: #434B5C;\n",
              "      box-shadow: 0px 1px 3px 1px rgba(0, 0, 0, 0.15);\n",
              "      filter: drop-shadow(0px 1px 2px rgba(0, 0, 0, 0.3));\n",
              "      fill: #FFFFFF;\n",
              "    }\n",
              "  </style>\n",
              "\n",
              "      <script>\n",
              "        const buttonEl =\n",
              "          document.querySelector('#df-90a9ca6a-cf91-49e2-bb61-2f1278445281 button.colab-df-convert');\n",
              "        buttonEl.style.display =\n",
              "          google.colab.kernel.accessAllowed ? 'block' : 'none';\n",
              "\n",
              "        async function convertToInteractive(key) {\n",
              "          const element = document.querySelector('#df-90a9ca6a-cf91-49e2-bb61-2f1278445281');\n",
              "          const dataTable =\n",
              "            await google.colab.kernel.invokeFunction('convertToInteractive',\n",
              "                                                     [key], {});\n",
              "          if (!dataTable) return;\n",
              "\n",
              "          const docLinkHtml = 'Like what you see? Visit the ' +\n",
              "            '<a target=\"_blank\" href=https://colab.research.google.com/notebooks/data_table.ipynb>data table notebook</a>'\n",
              "            + ' to learn more about interactive tables.';\n",
              "          element.innerHTML = '';\n",
              "          dataTable['output_type'] = 'display_data';\n",
              "          await google.colab.output.renderOutput(dataTable, element);\n",
              "          const docLink = document.createElement('div');\n",
              "          docLink.innerHTML = docLinkHtml;\n",
              "          element.appendChild(docLink);\n",
              "        }\n",
              "      </script>\n",
              "    </div>\n",
              "  </div>\n"
            ]
          },
          "metadata": {},
          "execution_count": 72
        },
        {
          "output_type": "stream",
          "name": "stdout",
          "text": [
            "time: 53.7 ms (started: 2023-07-26 17:10:42 +00:00)\n"
          ]
        }
      ]
    },
    {
      "cell_type": "code",
      "source": [
        "dataset.nunique()"
      ],
      "metadata": {
        "colab": {
          "base_uri": "https://localhost:8080/"
        },
        "id": "wH6obX1-OH2F",
        "outputId": "631184ca-a928-43e9-f8af-daeb58c42412"
      },
      "execution_count": 73,
      "outputs": [
        {
          "output_type": "execute_result",
          "data": {
            "text/plain": [
              "min                      7\n",
              "max                      8\n",
              "mean                   108\n",
              "std                   1787\n",
              "repeated                11\n",
              "even_amount              9\n",
              "quartiles_codified     353\n",
              "dtype: int64"
            ]
          },
          "metadata": {},
          "execution_count": 73
        },
        {
          "output_type": "stream",
          "name": "stdout",
          "text": [
            "time: 7.93 ms (started: 2023-07-26 17:10:42 +00:00)\n"
          ]
        }
      ]
    },
    {
      "cell_type": "markdown",
      "source": [
        "## Data Visualization"
      ],
      "metadata": {
        "id": "RkC4CGC6NHUL"
      }
    },
    {
      "cell_type": "code",
      "source": [
        "import matplotlib.pyplot as plt\n",
        "import seaborn as sns\n",
        "colors = sns.color_palette()\n",
        "%matplotlib inline"
      ],
      "metadata": {
        "colab": {
          "base_uri": "https://localhost:8080/"
        },
        "id": "wAd-1seaNTqs",
        "outputId": "0773fd1f-01db-4ef6-ba28-e3d369cddb12"
      },
      "execution_count": 74,
      "outputs": [
        {
          "output_type": "stream",
          "name": "stdout",
          "text": [
            "time: 3.68 ms (started: 2023-07-26 17:10:42 +00:00)\n"
          ]
        }
      ]
    },
    {
      "cell_type": "code",
      "source": [
        "sns.set_style(\"darkgrid\")\n",
        "fig, ax = plt.subplots(7, 1, figsize=(10, 10))\n",
        "for axis, col_name in zip(ax.ravel(), dataset.columns):\n",
        "  sns.histplot(data=dataset, x=col_name, bins=dataset[col_name].nunique(), ax=axis)\n",
        "plt.tight_layout()\n",
        "plt.show()"
      ],
      "metadata": {
        "colab": {
          "base_uri": "https://localhost:8080/",
          "height": 1000
        },
        "id": "EJj7KCHjRLj6",
        "outputId": "26e2d643-c2c2-4256-cb8a-3186516bd8f4"
      },
      "execution_count": 75,
      "outputs": [
        {
          "output_type": "display_data",
          "data": {
            "text/plain": [
              "<Figure size 1000x1000 with 7 Axes>"
            ],
            "image/png": "[encoded data removed]"
          },
          "metadata": {}
        },
        {
          "output_type": "stream",
          "name": "stdout",
          "text": [
            "time: 15 s (started: 2023-07-26 17:10:42 +00:00)\n"
          ]
        }
      ]
    },
    {
      "cell_type": "markdown",
      "source": [
        "# Train/Test Split"
      ],
      "metadata": {
        "id": "XRFoaVV9NNcN"
      }
    },
    {
      "cell_type": "code",
      "source": [
        "from sklearn.model_selection import TimeSeriesSplit\n",
        "import matplotlib.pyplot as plt\n",
        "import seaborn as sns\n",
        "%matplotlib inline"
      ],
      "metadata": {
        "colab": {
          "base_uri": "https://localhost:8080/"
        },
        "id": "5mNX3wvcNQ6a",
        "outputId": "6df7a6b7-ebf0-4fd5-8626-ef4f828223c0"
      },
      "execution_count": 76,
      "outputs": [
        {
          "output_type": "stream",
          "name": "stdout",
          "text": [
            "time: 1.8 ms (started: 2023-07-26 17:10:57 +00:00)\n"
          ]
        }
      ]
    },
    {
      "cell_type": "code",
      "source": [
        "tss = TimeSeriesSplit(n_splits=2, test_size=200, gap=1)\n",
        "folds = tss.split(dataset)\n",
        "\n",
        "next(folds)\n",
        "train_indexes, test_indexes = next(folds) # só o último fold me interessa pois é o maior\n",
        "\n",
        "train_set = dataset.iloc[train_indexes]\n",
        "test_set  = dataset.iloc[test_indexes]"
      ],
      "metadata": {
        "colab": {
          "base_uri": "https://localhost:8080/"
        },
        "id": "PCVGOShjNXPe",
        "outputId": "ccee8572-d5d6-42a3-a284-537b97b7b8f0"
      },
      "execution_count": 77,
      "outputs": [
        {
          "output_type": "stream",
          "name": "stdout",
          "text": [
            "time: 3.06 ms (started: 2023-07-26 17:10:57 +00:00)\n"
          ]
        }
      ]
    },
    {
      "cell_type": "code",
      "source": [
        "fig, axs = plt.subplots(1, 1, figsize=(15, 5), sharex=True)\n",
        "\n",
        "axs.axvline(test_set.index.min(), color='black', ls='--')\n",
        "sns.lineplot(x=train_set.index, y=train_set['even_amount'], ax=axs)\n",
        "sns.lineplot(x=test_set.index, y=test_set['even_amount'], ax=axs)\n",
        "\n",
        "plt.tight_layout()\n",
        "plt.show()"
      ],
      "metadata": {
        "colab": {
          "base_uri": "https://localhost:8080/",
          "height": 444
        },
        "id": "FA0MHXnJNZRM",
        "outputId": "b7586f98-84c9-4f06-bb4e-659b6f8da54a"
      },
      "execution_count": 78,
      "outputs": [
        {
          "output_type": "display_data",
          "data": {
            "text/plain": [
              "<Figure size 1500x500 with 1 Axes>"
            ],
            "image/png": "[encoded data removed]"
          },
          "metadata": {}
        },
        {
          "output_type": "stream",
          "name": "stdout",
          "text": [
            "time: 1.37 s (started: 2023-07-26 17:10:57 +00:00)\n"
          ]
        }
      ]
    },
    {
      "cell_type": "markdown",
      "source": [
        "# Data Labeling"
      ],
      "metadata": {
        "id": "SCt_0TtNzktU"
      }
    },
    {
      "cell_type": "code",
      "source": [
        "from scipy.stats import mode"
      ],
      "metadata": {
        "colab": {
          "base_uri": "https://localhost:8080/"
        },
        "id": "nSBS0rrAXXl4",
        "outputId": "7c3bbf8e-de6d-4ffe-e2ec-d92cc442bd8f"
      },
      "execution_count": 79,
      "outputs": [
        {
          "output_type": "stream",
          "name": "stdout",
          "text": [
            "time: 529 µs (started: 2023-07-26 17:10:59 +00:00)\n"
          ]
        }
      ]
    },
    {
      "cell_type": "code",
      "source": [
        "def lag_window_features(ds, feature_name):\n",
        "  ds = ds.copy()\n",
        "  cat = ['min', 'max', 'repeated', 'even_amount', 'quartiles_codified']\n",
        "  num = ['mean', 'std']\n",
        "  week = 5 # apenas dias úteis\n",
        "  ds['lag_' + feature_name] = ds[feature_name].shift(1)\n",
        "  ds['fwd_' + feature_name] = ds[feature_name].shift(-1)\n",
        "  if feature_name in cat:\n",
        "    ds['wind_' + str(week) + '_' + feature_name] = ds[feature_name].rolling(window=week).apply(lambda x: mode(x, keepdims=True)[0])\n",
        "  else:\n",
        "    ds['wind_' + str(week) + '_' + feature_name] = ds[feature_name].rolling(window=week).mean()\n",
        "  ds = ds.dropna()\n",
        "  return ds\n",
        "\n",
        "\n",
        "\n",
        "def create_labels(ds, feature_name):\n",
        "  ds = lag_window_features(ds, feature_name)\n",
        "  label_name = 'fwd_' + feature_name\n",
        "  y = ds[label_name]\n",
        "  X = ds.drop(label_name, axis=1)\n",
        "  return X, y"
      ],
      "metadata": {
        "colab": {
          "base_uri": "https://localhost:8080/"
        },
        "id": "nbTPliaM1Hg_",
        "outputId": "2dd372f7-64ce-4da3-e34e-51ed285ef989"
      },
      "execution_count": 80,
      "outputs": [
        {
          "output_type": "stream",
          "name": "stdout",
          "text": [
            "time: 1.49 ms (started: 2023-07-26 17:10:59 +00:00)\n"
          ]
        }
      ]
    },
    {
      "cell_type": "code",
      "source": [
        "label_name = 'repeated'\n",
        "X_train, y_train  = create_labels(train_set, label_name)\n",
        "X_test, y_test    = create_labels(test_set, label_name)"
      ],
      "metadata": {
        "colab": {
          "base_uri": "https://localhost:8080/"
        },
        "id": "iglaxFNAnh18",
        "outputId": "5fca8a79-a281-472e-db24-fc7a526048bb"
      },
      "execution_count": 81,
      "outputs": [
        {
          "output_type": "stream",
          "name": "stdout",
          "text": [
            "time: 1.64 s (started: 2023-07-26 17:10:59 +00:00)\n"
          ]
        }
      ]
    },
    {
      "cell_type": "markdown",
      "source": [
        "# Model Training"
      ],
      "metadata": {
        "id": "qq4ZBMT6fD8s"
      }
    },
    {
      "cell_type": "code",
      "source": [
        "from sklearn.ensemble            import ExtraTreesClassifier, RandomForestClassifier\n",
        "from sklearn.metrics             import accuracy_score, classification_report, confusion_matrix\n",
        "from sklearn.multioutput         import MultiOutputClassifier\n",
        "from sklearn.utils.class_weight  import compute_class_weight\n",
        "from keras.callbacks             import EarlyStopping, ReduceLROnPlateau\n",
        "from keras.layers                import Dense, LSTM, RepeatVector, TimeDistributed, Flatten\n",
        "from keras.models                import Sequential, Model\n",
        "from keras.optimizers            import Nadam\n",
        "from keras.wrappers.scikit_learn import KerasClassifier\n",
        "\n",
        "import lightgbm as lgb"
      ],
      "metadata": {
        "colab": {
          "base_uri": "https://localhost:8080/"
        },
        "id": "oMl5AyWLfF5q",
        "outputId": "0ac3aa9d-e00f-45de-9658-5fc5c370fa38"
      },
      "execution_count": 82,
      "outputs": [
        {
          "output_type": "stream",
          "name": "stdout",
          "text": [
            "time: 2.26 ms (started: 2023-07-26 17:11:00 +00:00)\n"
          ]
        }
      ]
    },
    {
      "cell_type": "markdown",
      "source": [
        "Class Weights Computing"
      ],
      "metadata": {
        "id": "IG0Bb0NSIeYh"
      }
    },
    {
      "cell_type": "code",
      "source": [
        "classes = np.unique(y_train)\n",
        "weights = compute_class_weight(class_weight='balanced', classes=classes, y=y_train)\n",
        "class_weights = {key:value for key, value in zip(classes, weights)}\n",
        "print(class_weights)"
      ],
      "metadata": {
        "id": "0IbPJwUbfbhh",
        "colab": {
          "base_uri": "https://localhost:8080/"
        },
        "outputId": "9e12b8bb-d081-4419-a86e-eb045f934fdb"
      },
      "execution_count": 83,
      "outputs": [
        {
          "output_type": "stream",
          "name": "stdout",
          "text": [
            "{5.0: 250.5, 6.0: 6.77027027027027, 7.0: 1.0659574468085107, 8.0: 0.4008, 9.0: 0.30736196319018405, 10.0: 0.4579524680073126, 11.0: 1.2715736040609138, 12.0: 6.2625, 13.0: 35.785714285714285, 14.0: 250.5}\n",
            "time: 19 ms (started: 2023-07-26 17:11:01 +00:00)\n"
          ]
        }
      ]
    },
    {
      "cell_type": "markdown",
      "source": [
        "Class Mapping"
      ],
      "metadata": {
        "id": "FOz9h16XI16l"
      }
    },
    {
      "cell_type": "code",
      "source": [
        "class_mapping    = {value:key for key, value in enumerate(classes)}\n",
        "class_mapping_rw = {key:value for key, value in enumerate(classes)}\n",
        "print(class_mapping)\n",
        "print(class_mapping_rw)"
      ],
      "metadata": {
        "colab": {
          "base_uri": "https://localhost:8080/"
        },
        "id": "X-v2MrWCI-um",
        "outputId": "5ac05e81-65de-418f-dbfe-a22d1631d854"
      },
      "execution_count": 84,
      "outputs": [
        {
          "output_type": "stream",
          "name": "stdout",
          "text": [
            "{5.0: 0, 6.0: 1, 7.0: 2, 8.0: 3, 9.0: 4, 10.0: 5, 11.0: 6, 12.0: 7, 13.0: 8, 14.0: 9}\n",
            "{0: 5.0, 1: 6.0, 2: 7.0, 3: 8.0, 4: 9.0, 5: 10.0, 6: 11.0, 7: 12.0, 8: 13.0, 9: 14.0}\n",
            "time: 4.95 ms (started: 2023-07-26 17:11:01 +00:00)\n"
          ]
        }
      ]
    },
    {
      "cell_type": "markdown",
      "source": [
        "### RandomForestClassifier"
      ],
      "metadata": {
        "id": "v-gLIMqXvu8G"
      }
    },
    {
      "cell_type": "code",
      "source": [
        "rf = RandomForestClassifier()\n",
        "rf.fit(X_train, y_train)\n",
        "y_pred = rf.predict(X_train)\n",
        "print(f'accuracy score: {accuracy_score(y_train, y_pred):.2f}')\n",
        "print(classification_report(y_train, y_pred))"
      ],
      "metadata": {
        "colab": {
          "base_uri": "https://localhost:8080/"
        },
        "id": "PW4uGj6zoYIu",
        "outputId": "d03cf73d-3b6f-4cd9-cfad-722b95e93dcd"
      },
      "execution_count": 85,
      "outputs": [
        {
          "output_type": "stream",
          "name": "stdout",
          "text": [
            "accuracy score: 1.00\n",
            "              precision    recall  f1-score   support\n",
            "\n",
            "         5.0       1.00      1.00      1.00         1\n",
            "         6.0       1.00      1.00      1.00        37\n",
            "         7.0       1.00      1.00      1.00       235\n",
            "         8.0       1.00      1.00      1.00       625\n",
            "         9.0       1.00      1.00      1.00       815\n",
            "        10.0       1.00      1.00      1.00       547\n",
            "        11.0       1.00      1.00      1.00       197\n",
            "        12.0       1.00      1.00      1.00        40\n",
            "        13.0       1.00      1.00      1.00         7\n",
            "        14.0       1.00      1.00      1.00         1\n",
            "\n",
            "    accuracy                           1.00      2505\n",
            "   macro avg       1.00      1.00      1.00      2505\n",
            "weighted avg       1.00      1.00      1.00      2505\n",
            "\n",
            "time: 1.37 s (started: 2023-07-26 17:11:01 +00:00)\n"
          ]
        }
      ]
    },
    {
      "cell_type": "markdown",
      "source": [
        "### LSTM\n",
        "Reshaping train/test sets."
      ],
      "metadata": {
        "id": "snA-qVUaeF_F"
      }
    },
    {
      "cell_type": "code",
      "source": [
        "X_train_lstm = X_train.to_numpy().reshape(X_train.shape[0], X_train.shape[1], 1)\n",
        "X_test_lstm  = X_test.to_numpy().reshape(X_test.shape[0], X_test.shape[1], 1)\n",
        "\n",
        "y_train_lstm = y_train.replace(to_replace=class_mapping)\n",
        "y_test_lstm  = y_test.replace(to_replace=class_mapping)"
      ],
      "metadata": {
        "colab": {
          "base_uri": "https://localhost:8080/"
        },
        "id": "LgyUHQ-QeJP6",
        "outputId": "09448004-59e0-43fc-dbc5-4459efd899fa"
      },
      "execution_count": 86,
      "outputs": [
        {
          "output_type": "stream",
          "name": "stdout",
          "text": [
            "time: 8.09 ms (started: 2023-07-26 17:11:02 +00:00)\n"
          ]
        }
      ]
    },
    {
      "cell_type": "markdown",
      "source": [
        "Definindo as callbacks."
      ],
      "metadata": {
        "id": "ykKMXuy7M9BW"
      }
    },
    {
      "cell_type": "code",
      "source": [
        "#callbacks\n",
        "early_stopping_cb = EarlyStopping(patience=10, restore_best_weights=True)\n",
        "\n",
        "# performance scheduling\n",
        "lr_performance = ReduceLROnPlateau(factor=0.3, patience=10)"
      ],
      "metadata": {
        "colab": {
          "base_uri": "https://localhost:8080/"
        },
        "id": "Pb5YzSNfeZhi",
        "outputId": "45d3a770-18ee-45a3-80d0-601d5646e3c3"
      },
      "execution_count": 87,
      "outputs": [
        {
          "output_type": "stream",
          "name": "stdout",
          "text": [
            "time: 668 µs (started: 2023-07-26 17:11:02 +00:00)\n"
          ]
        }
      ]
    },
    {
      "cell_type": "code",
      "source": [
        "output_size = len(np.unique(y_train_lstm))\n",
        "\n",
        "nn = Sequential()\n",
        "nn.add(LSTM(units=300, activation='relu', return_sequences=True, input_shape=(X_train_lstm.shape[1], X_train_lstm.shape[2])))\n",
        "nn.add(LSTM(units=300, activation='relu', return_sequences=True))\n",
        "nn.add(LSTM(units=300, activation='relu'))\n",
        "nn.add(Dense(units=output_size, activation='softmax'))\n",
        "\n",
        "nn.compile(loss='sparse_categorical_crossentropy', metrics=['accuracy'])\n",
        "\n",
        "nn.fit(X_train_lstm, y_train_lstm,\n",
        "                 validation_data=(X_test_lstm, y_test_lstm), epochs=20,\n",
        "                 callbacks=[early_stopping_cb, lr_performance], verbose=True)"
      ],
      "metadata": {
        "id": "fAk4oDq-eeSy",
        "colab": {
          "base_uri": "https://localhost:8080/"
        },
        "outputId": "c0594a6d-cee1-4758-c825-1549cac0b662"
      },
      "execution_count": 94,
      "outputs": [
        {
          "output_type": "stream",
          "name": "stdout",
          "text": [
            "Epoch 1/20\n",
            "79/79 [==============================] - 24s 260ms/step - loss: 1.7408 - accuracy: 0.2934 - val_loss: 1.6728 - val_accuracy: 0.3436 - lr: 0.0010\n",
            "Epoch 2/20\n",
            "79/79 [==============================] - 15s 187ms/step - loss: 1.6428 - accuracy: 0.3058 - val_loss: 1.6910 - val_accuracy: 0.3590 - lr: 0.0010\n",
            "Epoch 3/20\n",
            "79/79 [==============================] - 13s 169ms/step - loss: 1.6353 - accuracy: 0.3186 - val_loss: 1.6306 - val_accuracy: 0.3590 - lr: 0.0010\n",
            "Epoch 4/20\n",
            "79/79 [==============================] - 20s 254ms/step - loss: 1.6302 - accuracy: 0.3166 - val_loss: 1.6351 - val_accuracy: 0.3590 - lr: 0.0010\n",
            "Epoch 5/20\n",
            "79/79 [==============================] - 14s 177ms/step - loss: 1.6264 - accuracy: 0.3194 - val_loss: 1.6365 - val_accuracy: 0.3590 - lr: 0.0010\n",
            "Epoch 6/20\n",
            "79/79 [==============================] - 17s 221ms/step - loss: 1.6273 - accuracy: 0.3174 - val_loss: 1.6268 - val_accuracy: 0.3590 - lr: 0.0010\n",
            "Epoch 7/20\n",
            "79/79 [==============================] - 21s 267ms/step - loss: 1.6249 - accuracy: 0.3230 - val_loss: 1.6242 - val_accuracy: 0.3590 - lr: 0.0010\n",
            "Epoch 8/20\n",
            "79/79 [==============================] - 20s 253ms/step - loss: 1.6250 - accuracy: 0.3242 - val_loss: 1.6315 - val_accuracy: 0.3590 - lr: 0.0010\n",
            "Epoch 9/20\n",
            "79/79 [==============================] - 17s 215ms/step - loss: 1.6247 - accuracy: 0.3234 - val_loss: 1.6408 - val_accuracy: 0.3590 - lr: 0.0010\n",
            "Epoch 10/20\n",
            "79/79 [==============================] - 14s 180ms/step - loss: 1.6218 - accuracy: 0.3234 - val_loss: 1.6169 - val_accuracy: 0.3590 - lr: 0.0010\n",
            "Epoch 11/20\n",
            "79/79 [==============================] - 16s 205ms/step - loss: 1.6225 - accuracy: 0.3253 - val_loss: 1.6377 - val_accuracy: 0.2308 - lr: 0.0010\n",
            "Epoch 12/20\n",
            "79/79 [==============================] - 15s 189ms/step - loss: 1.6230 - accuracy: 0.3214 - val_loss: 1.6537 - val_accuracy: 0.3333 - lr: 0.0010\n",
            "Epoch 13/20\n",
            "79/79 [==============================] - 14s 179ms/step - loss: 1.6224 - accuracy: 0.3214 - val_loss: 1.6101 - val_accuracy: 0.3590 - lr: 0.0010\n",
            "Epoch 14/20\n",
            "79/79 [==============================] - 15s 193ms/step - loss: 1.6208 - accuracy: 0.3253 - val_loss: 1.6251 - val_accuracy: 0.3590 - lr: 0.0010\n",
            "Epoch 15/20\n",
            "79/79 [==============================] - 14s 171ms/step - loss: 1.6197 - accuracy: 0.3253 - val_loss: 1.6139 - val_accuracy: 0.3590 - lr: 0.0010\n",
            "Epoch 16/20\n",
            "79/79 [==============================] - 13s 165ms/step - loss: 1.6217 - accuracy: 0.3253 - val_loss: 1.6285 - val_accuracy: 0.3590 - lr: 0.0010\n",
            "Epoch 17/20\n",
            "79/79 [==============================] - 13s 168ms/step - loss: 1.6197 - accuracy: 0.3253 - val_loss: 1.6235 - val_accuracy: 0.3590 - lr: 0.0010\n",
            "Epoch 18/20\n",
            "79/79 [==============================] - 14s 175ms/step - loss: 1.6205 - accuracy: 0.3253 - val_loss: 1.6133 - val_accuracy: 0.3590 - lr: 0.0010\n",
            "Epoch 19/20\n",
            "79/79 [==============================] - 21s 263ms/step - loss: 1.6182 - accuracy: 0.3253 - val_loss: 1.6249 - val_accuracy: 0.3590 - lr: 0.0010\n",
            "Epoch 20/20\n",
            "79/79 [==============================] - 13s 169ms/step - loss: 1.6209 - accuracy: 0.3253 - val_loss: 1.6153 - val_accuracy: 0.3590 - lr: 0.0010\n"
          ]
        },
        {
          "output_type": "execute_result",
          "data": {
            "text/plain": [
              "<keras.callbacks.History at 0x7cd066335c30>"
            ]
          },
          "metadata": {},
          "execution_count": 94
        },
        {
          "output_type": "stream",
          "name": "stdout",
          "text": [
            "time: 5min 26s (started: 2023-07-26 17:14:29 +00:00)\n"
          ]
        }
      ]
    }
  ]
}