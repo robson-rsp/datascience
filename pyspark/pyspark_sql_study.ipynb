{
  "nbformat": 4,
  "nbformat_minor": 0,
  "metadata": {
    "colab": {
      "provenance": [],
      "authorship_tag": "ABX9TyNZiNGqWzdPXvXLdBX6US1Q"
    },
    "kernelspec": {
      "name": "python3",
      "display_name": "Python 3"
    },
    "language_info": {
      "name": "python"
    }
  },
  "cells": [
    {
      "cell_type": "markdown",
      "source": [
        "# Pyspark SQL\n",
        "\n",
        "Este kernel possui alguns exemplos de código do módulo pyspark.sql.\n",
        "Apresenta exemplos de funções que implementam instruções SQL, como: SELECT, WHERE, GROUP BY, ORDER BY, PARTITION BY, entre outras.\n",
        "\n",
        "\n",
        "São usados dois datasets para os exemplos:\n",
        "*   housing.csv: contém informações sobre imóveis no estado da Califórnia;\n",
        "*   wc2018-players.csv: contém informações sobre jogadores de futebol da Copa do Mundo 2018."
      ],
      "metadata": {
        "id": "g1Sxu4CjDZiG"
      }
    },
    {
      "cell_type": "code",
      "execution_count": 1,
      "metadata": {
        "id": "xyfsd2bo5wVP",
        "colab": {
          "base_uri": "https://localhost:8080/"
        },
        "outputId": "90ba0c2e-fdf4-4c33-aaee-205e160502e9"
      },
      "outputs": [
        {
          "output_type": "stream",
          "name": "stdout",
          "text": [
            "Collecting ipython-autotime\n",
            "  Downloading ipython_autotime-0.3.1-py2.py3-none-any.whl (6.8 kB)\n",
            "Requirement already satisfied: ipython in /usr/local/lib/python3.10/dist-packages (from ipython-autotime) (7.34.0)\n",
            "Requirement already satisfied: setuptools>=18.5 in /usr/local/lib/python3.10/dist-packages (from ipython->ipython-autotime) (67.7.2)\n",
            "Collecting jedi>=0.16 (from ipython->ipython-autotime)\n",
            "  Downloading jedi-0.19.0-py2.py3-none-any.whl (1.6 MB)\n",
            "\u001b[2K     \u001b[90m━━━━━━━━━━━━━━━━━━━━━━━━━━━━━━━━━━━━━━━━\u001b[0m \u001b[32m1.6/1.6 MB\u001b[0m \u001b[31m13.2 MB/s\u001b[0m eta \u001b[36m0:00:00\u001b[0m\n",
            "\u001b[?25hRequirement already satisfied: decorator in /usr/local/lib/python3.10/dist-packages (from ipython->ipython-autotime) (4.4.2)\n",
            "Requirement already satisfied: pickleshare in /usr/local/lib/python3.10/dist-packages (from ipython->ipython-autotime) (0.7.5)\n",
            "Requirement already satisfied: traitlets>=4.2 in /usr/local/lib/python3.10/dist-packages (from ipython->ipython-autotime) (5.7.1)\n",
            "Requirement already satisfied: prompt-toolkit!=3.0.0,!=3.0.1,<3.1.0,>=2.0.0 in /usr/local/lib/python3.10/dist-packages (from ipython->ipython-autotime) (3.0.39)\n",
            "Requirement already satisfied: pygments in /usr/local/lib/python3.10/dist-packages (from ipython->ipython-autotime) (2.16.1)\n",
            "Requirement already satisfied: backcall in /usr/local/lib/python3.10/dist-packages (from ipython->ipython-autotime) (0.2.0)\n",
            "Requirement already satisfied: matplotlib-inline in /usr/local/lib/python3.10/dist-packages (from ipython->ipython-autotime) (0.1.6)\n",
            "Requirement already satisfied: pexpect>4.3 in /usr/local/lib/python3.10/dist-packages (from ipython->ipython-autotime) (4.8.0)\n",
            "Requirement already satisfied: parso<0.9.0,>=0.8.3 in /usr/local/lib/python3.10/dist-packages (from jedi>=0.16->ipython->ipython-autotime) (0.8.3)\n",
            "Requirement already satisfied: ptyprocess>=0.5 in /usr/local/lib/python3.10/dist-packages (from pexpect>4.3->ipython->ipython-autotime) (0.7.0)\n",
            "Requirement already satisfied: wcwidth in /usr/local/lib/python3.10/dist-packages (from prompt-toolkit!=3.0.0,!=3.0.1,<3.1.0,>=2.0.0->ipython->ipython-autotime) (0.2.6)\n",
            "Installing collected packages: jedi, ipython-autotime\n",
            "Successfully installed ipython-autotime-0.3.1 jedi-0.19.0\n",
            "Collecting pyspark\n",
            "  Downloading pyspark-3.4.1.tar.gz (310.8 MB)\n",
            "\u001b[2K     \u001b[90m━━━━━━━━━━━━━━━━━━━━━━━━━━━━━━━━━━━━━━━\u001b[0m \u001b[32m310.8/310.8 MB\u001b[0m \u001b[31m3.4 MB/s\u001b[0m eta \u001b[36m0:00:00\u001b[0m\n",
            "\u001b[?25h  Preparing metadata (setup.py) ... \u001b[?25l\u001b[?25hdone\n",
            "Requirement already satisfied: py4j==0.10.9.7 in /usr/local/lib/python3.10/dist-packages (from pyspark) (0.10.9.7)\n",
            "Building wheels for collected packages: pyspark\n",
            "  Building wheel for pyspark (setup.py) ... \u001b[?25l\u001b[?25hdone\n",
            "  Created wheel for pyspark: filename=pyspark-3.4.1-py2.py3-none-any.whl size=311285387 sha256=84dcdba085fa7ffa310581a6bcdaef88197f5107ac753cb33faead0a26365cb4\n",
            "  Stored in directory: /root/.cache/pip/wheels/0d/77/a3/ff2f74cc9ab41f8f594dabf0579c2a7c6de920d584206e0834\n",
            "Successfully built pyspark\n",
            "Installing collected packages: pyspark\n",
            "Successfully installed pyspark-3.4.1\n"
          ]
        }
      ],
      "source": [
        "%pip install ipython-autotime\n",
        "%pip install pyspark"
      ]
    },
    {
      "cell_type": "markdown",
      "source": [
        "Trecho de código opcional que resolve problema de compatibilidade entre a linguagem Python e o PySpark."
      ],
      "metadata": {
        "id": "9U_63vwhpUmt"
      }
    },
    {
      "cell_type": "code",
      "source": [
        "%%script echo 'ignore cell'\n",
        "import os\n",
        "import sys\n",
        "\n",
        "os.environ['PYSPARK_PYTHON'] = sys.executable\n",
        "os.environ['PYSPARK_DRIVER_PYTHON'] = sys.executable"
      ],
      "metadata": {
        "colab": {
          "base_uri": "https://localhost:8080/"
        },
        "id": "Tw7wn82BksRS",
        "outputId": "288e0cc3-ffa8-4cd5-9c06-61a25868190a"
      },
      "execution_count": 2,
      "outputs": [
        {
          "output_type": "stream",
          "name": "stdout",
          "text": [
            "ignore cell\n"
          ]
        }
      ]
    },
    {
      "cell_type": "markdown",
      "source": [
        "# Imports básicos."
      ],
      "metadata": {
        "id": "zWAHEyAxpgRU"
      }
    },
    {
      "cell_type": "code",
      "source": [
        "from google.colab          import drive, files\n",
        "from pyspark.sql           import SparkSession\n",
        "from pyspark.sql.functions import *\n",
        "from pyspark.sql.types     import *\n",
        "from pyspark.sql.window    import Window\n",
        "\n",
        "%load_ext autotime"
      ],
      "metadata": {
        "id": "LO_fhEZL8qXK",
        "colab": {
          "base_uri": "https://localhost:8080/"
        },
        "outputId": "abec23e3-9f74-4ef0-fc77-1210f23a1e37"
      },
      "execution_count": 3,
      "outputs": [
        {
          "output_type": "stream",
          "name": "stdout",
          "text": [
            "time: 346 µs (started: 2023-09-21 13:36:51 +00:00)\n"
          ]
        }
      ]
    },
    {
      "cell_type": "markdown",
      "source": [
        "# Início da sessão."
      ],
      "metadata": {
        "id": "aAswoIY9pnoP"
      }
    },
    {
      "cell_type": "code",
      "source": [
        "drive.mount('/content/drive', force_remount=True)\n",
        "spark = SparkSession.builder.master('local').appName('pyspark_app').getOrCreate()\n",
        "spark"
      ],
      "metadata": {
        "colab": {
          "base_uri": "https://localhost:8080/",
          "height": 254
        },
        "id": "Yk5ZIoBYiDu2",
        "outputId": "a6a21453-870e-4b18-fe46-5f1ce3efbb92"
      },
      "execution_count": 4,
      "outputs": [
        {
          "output_type": "stream",
          "name": "stdout",
          "text": [
            "Mounted at /content/drive\n"
          ]
        },
        {
          "output_type": "execute_result",
          "data": {
            "text/plain": [
              "<pyspark.sql.session.SparkSession at 0x7d6138561cc0>"
            ],
            "text/html": [
              "\n",
              "            <div>\n",
              "                <p><b>SparkSession - in-memory</b></p>\n",
              "                \n",
              "        <div>\n",
              "            <p><b>SparkContext</b></p>\n",
              "\n",
              "            <p><a href=\"http://4514f098d517:4040\">Spark UI</a></p>\n",
              "\n",
              "            <dl>\n",
              "              <dt>Version</dt>\n",
              "                <dd><code>v3.4.1</code></dd>\n",
              "              <dt>Master</dt>\n",
              "                <dd><code>local</code></dd>\n",
              "              <dt>AppName</dt>\n",
              "                <dd><code>pyspark_app</code></dd>\n",
              "            </dl>\n",
              "        </div>\n",
              "        \n",
              "            </div>\n",
              "        "
            ]
          },
          "metadata": {},
          "execution_count": 4
        },
        {
          "output_type": "stream",
          "name": "stdout",
          "text": [
            "time: 51 s (started: 2023-09-21 13:36:51 +00:00)\n"
          ]
        }
      ]
    },
    {
      "cell_type": "code",
      "source": [
        "df = spark.read.csv(\"/content/drive/MyDrive/datasets/housing/housing.csv\", header=True, inferSchema=True, encoding='utf-8')\n",
        "df = df.drop('housing_median_age', 'population', 'median_income', 'median_house_value') # remoção de atributos desnecessários\n",
        "print(type(df))\n",
        "print(f'rows: {df.count()}')\n",
        "print(f'cols: {len(df.columns)}')"
      ],
      "metadata": {
        "colab": {
          "base_uri": "https://localhost:8080/"
        },
        "id": "nF-O2mzVmGVX",
        "outputId": "73bbe731-8c8f-4166-9964-8fc9bb818d0b"
      },
      "execution_count": 5,
      "outputs": [
        {
          "output_type": "stream",
          "name": "stdout",
          "text": [
            "<class 'pyspark.sql.dataframe.DataFrame'>\n",
            "rows: 20640\n",
            "cols: 6\n",
            "time: 15.8 s (started: 2023-09-21 13:37:42 +00:00)\n"
          ]
        }
      ]
    },
    {
      "cell_type": "markdown",
      "source": [
        "# Funções descritivas básicas."
      ],
      "metadata": {
        "id": "qSKwsHHsE0c3"
      }
    },
    {
      "cell_type": "code",
      "source": [
        "df.show(5)"
      ],
      "metadata": {
        "colab": {
          "base_uri": "https://localhost:8080/"
        },
        "id": "waAJ4QLDE3xU",
        "outputId": "f7ac5806-6d78-4ae4-a47b-55bd4168f758"
      },
      "execution_count": 6,
      "outputs": [
        {
          "output_type": "stream",
          "name": "stdout",
          "text": [
            "+---------+--------+-----------+--------------+----------+---------------+\n",
            "|longitude|latitude|total_rooms|total_bedrooms|households|ocean_proximity|\n",
            "+---------+--------+-----------+--------------+----------+---------------+\n",
            "|  -122.23|   37.88|      880.0|         129.0|     126.0|       NEAR BAY|\n",
            "|  -122.22|   37.86|     7099.0|        1106.0|    1138.0|       NEAR BAY|\n",
            "|  -122.24|   37.85|     1467.0|         190.0|     177.0|       NEAR BAY|\n",
            "|  -122.25|   37.85|     1274.0|         235.0|     219.0|       NEAR BAY|\n",
            "|  -122.25|   37.85|     1627.0|         280.0|     259.0|       NEAR BAY|\n",
            "+---------+--------+-----------+--------------+----------+---------------+\n",
            "only showing top 5 rows\n",
            "\n",
            "time: 833 ms (started: 2023-09-21 13:37:58 +00:00)\n"
          ]
        }
      ]
    },
    {
      "cell_type": "code",
      "source": [
        "print(df.columns)"
      ],
      "metadata": {
        "colab": {
          "base_uri": "https://localhost:8080/"
        },
        "id": "CCZm02HJsVL5",
        "outputId": "f81286b7-8a02-4908-9198-02b54f391fa4"
      },
      "execution_count": 7,
      "outputs": [
        {
          "output_type": "stream",
          "name": "stdout",
          "text": [
            "['longitude', 'latitude', 'total_rooms', 'total_bedrooms', 'households', 'ocean_proximity']\n",
            "time: 571 µs (started: 2023-09-21 13:37:59 +00:00)\n"
          ]
        }
      ]
    },
    {
      "cell_type": "code",
      "source": [
        "df.printSchema()"
      ],
      "metadata": {
        "colab": {
          "base_uri": "https://localhost:8080/"
        },
        "id": "Tho1zkZth2MN",
        "outputId": "e9d98603-fd57-4879-cbed-8cbafac8df3b"
      },
      "execution_count": 8,
      "outputs": [
        {
          "output_type": "stream",
          "name": "stdout",
          "text": [
            "root\n",
            " |-- longitude: double (nullable = true)\n",
            " |-- latitude: double (nullable = true)\n",
            " |-- total_rooms: double (nullable = true)\n",
            " |-- total_bedrooms: double (nullable = true)\n",
            " |-- households: double (nullable = true)\n",
            " |-- ocean_proximity: string (nullable = true)\n",
            "\n",
            "time: 13.7 ms (started: 2023-09-21 13:37:59 +00:00)\n"
          ]
        }
      ]
    },
    {
      "cell_type": "code",
      "source": [
        "df.describe().show()"
      ],
      "metadata": {
        "colab": {
          "base_uri": "https://localhost:8080/"
        },
        "id": "YU3oj1JxE-os",
        "outputId": "0aa65a8e-4c78-429f-99eb-e5d542d7ac81"
      },
      "execution_count": 9,
      "outputs": [
        {
          "output_type": "stream",
          "name": "stdout",
          "text": [
            "+-------+-------------------+-----------------+------------------+------------------+-----------------+---------------+\n",
            "|summary|          longitude|         latitude|       total_rooms|    total_bedrooms|       households|ocean_proximity|\n",
            "+-------+-------------------+-----------------+------------------+------------------+-----------------+---------------+\n",
            "|  count|              20640|            20640|             20640|             20433|            20640|          20640|\n",
            "|   mean|-119.56970445736148| 35.6318614341087|2635.7630813953488| 537.8705525375618|499.5396802325581|           null|\n",
            "| stddev|  2.003531723502584|2.135952397457101|2181.6152515827944|421.38507007403115|382.3297528316098|           null|\n",
            "|    min|            -124.35|            32.54|               2.0|               1.0|              1.0|      <1H OCEAN|\n",
            "|    max|            -114.31|            41.95|           39320.0|            6445.0|           6082.0|     NEAR OCEAN|\n",
            "+-------+-------------------+-----------------+------------------+------------------+-----------------+---------------+\n",
            "\n",
            "time: 3.23 s (started: 2023-09-21 13:37:59 +00:00)\n"
          ]
        }
      ]
    },
    {
      "cell_type": "markdown",
      "source": [
        "# Funções úteis para feature engineering."
      ],
      "metadata": {
        "id": "sOe4mRqMFEPZ"
      }
    },
    {
      "cell_type": "markdown",
      "source": [
        "## Atributos"
      ],
      "metadata": {
        "id": "UTA4QbYtunoX"
      }
    },
    {
      "cell_type": "markdown",
      "source": [
        "### Renomeação\n",
        "Transformando tudo em letras maiúsculas."
      ],
      "metadata": {
        "id": "2K3cJJC0r4-n"
      }
    },
    {
      "cell_type": "code",
      "source": [
        "upper = [column.upper() for column in df.columns]\n",
        "for column, up in zip(df.columns, upper):\n",
        "  df = df.withColumnRenamed(column, up)\n",
        "print(df.columns)"
      ],
      "metadata": {
        "colab": {
          "base_uri": "https://localhost:8080/"
        },
        "id": "FB73DskfupN2",
        "outputId": "d57aeb36-1814-487c-d691-ff615880dedf"
      },
      "execution_count": 10,
      "outputs": [
        {
          "output_type": "stream",
          "name": "stdout",
          "text": [
            "['LONGITUDE', 'LATITUDE', 'TOTAL_ROOMS', 'TOTAL_BEDROOMS', 'HOUSEHOLDS', 'OCEAN_PROXIMITY']\n",
            "time: 108 ms (started: 2023-09-21 13:38:02 +00:00)\n"
          ]
        }
      ]
    },
    {
      "cell_type": "markdown",
      "source": [
        "Transformando tudo em letras minúsculas."
      ],
      "metadata": {
        "id": "dpT_yQZRxufp"
      }
    },
    {
      "cell_type": "code",
      "source": [
        "lower = [column.lower() for column in df.columns]\n",
        "for column, low in zip(df.columns, lower):\n",
        "  df = df.withColumnRenamed(column, low)\n",
        "print(df.columns)"
      ],
      "metadata": {
        "colab": {
          "base_uri": "https://localhost:8080/"
        },
        "id": "xHYk3Z5zxBeE",
        "outputId": "667734d8-9d14-430d-cb72-b096da653273"
      },
      "execution_count": 11,
      "outputs": [
        {
          "output_type": "stream",
          "name": "stdout",
          "text": [
            "['longitude', 'latitude', 'total_rooms', 'total_bedrooms', 'households', 'ocean_proximity']\n",
            "time: 177 ms (started: 2023-09-21 13:38:03 +00:00)\n"
          ]
        }
      ]
    },
    {
      "cell_type": "markdown",
      "source": [
        "Atribuindo um 'alias' a cada atributo selecionado. Só pode ser feito através da função col() que retorna um objeto Column.\n"
      ],
      "metadata": {
        "id": "MV5169vkJuIZ"
      }
    },
    {
      "cell_type": "code",
      "source": [
        "lat = col('latitude').alias('lat')\n",
        "lon = col('longitude').alias('lon')\n",
        "\n",
        "print(lat)\n",
        "df.select([lat, lon]).show(5)"
      ],
      "metadata": {
        "colab": {
          "base_uri": "https://localhost:8080/"
        },
        "id": "bzWH6uZHJzXj",
        "outputId": "53e4a7ca-ca6a-4395-bb99-86fb4b9ced8b"
      },
      "execution_count": 12,
      "outputs": [
        {
          "output_type": "stream",
          "name": "stdout",
          "text": [
            "Column<'latitude AS lat'>\n",
            "+-----+-------+\n",
            "|  lat|    lon|\n",
            "+-----+-------+\n",
            "|37.88|-122.23|\n",
            "|37.86|-122.22|\n",
            "|37.85|-122.24|\n",
            "|37.85|-122.25|\n",
            "|37.85|-122.25|\n",
            "+-----+-------+\n",
            "only showing top 5 rows\n",
            "\n",
            "time: 539 ms (started: 2023-09-21 13:38:03 +00:00)\n"
          ]
        }
      ]
    },
    {
      "cell_type": "markdown",
      "source": [
        "### Instrução: SELECT"
      ],
      "metadata": {
        "id": "1W91ziDzymS7"
      }
    },
    {
      "cell_type": "code",
      "source": [
        "print(type(df.select(['longitude', 'latitude', 'households'])))\n",
        "df.select(['longitude', 'latitude', 'households']).show(5)"
      ],
      "metadata": {
        "colab": {
          "base_uri": "https://localhost:8080/"
        },
        "id": "I4M9QyqyxWWu",
        "outputId": "3035451e-5a83-4118-fe18-3b38d65b2dfb"
      },
      "execution_count": 13,
      "outputs": [
        {
          "output_type": "stream",
          "name": "stdout",
          "text": [
            "<class 'pyspark.sql.dataframe.DataFrame'>\n",
            "+---------+--------+----------+\n",
            "|longitude|latitude|households|\n",
            "+---------+--------+----------+\n",
            "|  -122.23|   37.88|     126.0|\n",
            "|  -122.22|   37.86|    1138.0|\n",
            "|  -122.24|   37.85|     177.0|\n",
            "|  -122.25|   37.85|     219.0|\n",
            "|  -122.25|   37.85|     259.0|\n",
            "+---------+--------+----------+\n",
            "only showing top 5 rows\n",
            "\n",
            "time: 607 ms (started: 2023-09-21 13:38:03 +00:00)\n"
          ]
        }
      ]
    },
    {
      "cell_type": "markdown",
      "source": [
        "Forma alternativa utilizando a função col() que retorna um objeto da classe Column."
      ],
      "metadata": {
        "id": "K0TmUCh3I_XI"
      }
    },
    {
      "cell_type": "code",
      "source": [
        "print(type(df.select([col('latitude'), col('longitude'), col('households')])))\n",
        "df.select([col('latitude'), col('longitude'), col('households')]).show(5)"
      ],
      "metadata": {
        "colab": {
          "base_uri": "https://localhost:8080/"
        },
        "id": "HKWtaCa5HLRI",
        "outputId": "3e4dd511-d299-4b0c-d79b-4161466a80ae"
      },
      "execution_count": 14,
      "outputs": [
        {
          "output_type": "stream",
          "name": "stdout",
          "text": [
            "<class 'pyspark.sql.dataframe.DataFrame'>\n",
            "+--------+---------+----------+\n",
            "|latitude|longitude|households|\n",
            "+--------+---------+----------+\n",
            "|   37.88|  -122.23|     126.0|\n",
            "|   37.86|  -122.22|    1138.0|\n",
            "|   37.85|  -122.24|     177.0|\n",
            "|   37.85|  -122.25|     219.0|\n",
            "|   37.85|  -122.25|     259.0|\n",
            "+--------+---------+----------+\n",
            "only showing top 5 rows\n",
            "\n",
            "time: 584 ms (started: 2023-09-21 13:38:04 +00:00)\n"
          ]
        }
      ]
    },
    {
      "cell_type": "markdown",
      "source": [
        "### Criação\n",
        "Atribuo um valor literal(True) à nova coluna chamada 'new_col'. A função lit() retorna um objeto Column."
      ],
      "metadata": {
        "id": "bj8Tl9M7sjmb"
      }
    },
    {
      "cell_type": "code",
      "source": [
        "df.withColumn('new_col', lit(True)).show(5)"
      ],
      "metadata": {
        "colab": {
          "base_uri": "https://localhost:8080/"
        },
        "id": "5Qi7KZObQsPN",
        "outputId": "e2ee51bc-454c-4615-ae4e-2c7f952e4977"
      },
      "execution_count": 15,
      "outputs": [
        {
          "output_type": "stream",
          "name": "stdout",
          "text": [
            "+---------+--------+-----------+--------------+----------+---------------+-------+\n",
            "|longitude|latitude|total_rooms|total_bedrooms|households|ocean_proximity|new_col|\n",
            "+---------+--------+-----------+--------------+----------+---------------+-------+\n",
            "|  -122.23|   37.88|      880.0|         129.0|     126.0|       NEAR BAY|   true|\n",
            "|  -122.22|   37.86|     7099.0|        1106.0|    1138.0|       NEAR BAY|   true|\n",
            "|  -122.24|   37.85|     1467.0|         190.0|     177.0|       NEAR BAY|   true|\n",
            "|  -122.25|   37.85|     1274.0|         235.0|     219.0|       NEAR BAY|   true|\n",
            "|  -122.25|   37.85|     1627.0|         280.0|     259.0|       NEAR BAY|   true|\n",
            "+---------+--------+-----------+--------------+----------+---------------+-------+\n",
            "only showing top 5 rows\n",
            "\n",
            "time: 534 ms (started: 2023-09-21 13:38:05 +00:00)\n"
          ]
        }
      ]
    },
    {
      "cell_type": "markdown",
      "source": [
        "Nova coluna criada a partir de uma operação matemática entre outras duas. Neste caso é preciso que os atributos sejam numéricos."
      ],
      "metadata": {
        "id": "hOkAB1a3s20E"
      }
    },
    {
      "cell_type": "code",
      "source": [
        "result = df['total_bedrooms'] / df['total_rooms']\n",
        "print(type(result))\n",
        "df.withColumn('new_col', result).show(5)"
      ],
      "metadata": {
        "colab": {
          "base_uri": "https://localhost:8080/"
        },
        "id": "Qo4tlcTVRblw",
        "outputId": "92af63c6-8211-436d-e33b-42f29e2a9d1e"
      },
      "execution_count": 16,
      "outputs": [
        {
          "output_type": "stream",
          "name": "stdout",
          "text": [
            "<class 'pyspark.sql.column.Column'>\n",
            "+---------+--------+-----------+--------------+----------+---------------+-------------------+\n",
            "|longitude|latitude|total_rooms|total_bedrooms|households|ocean_proximity|            new_col|\n",
            "+---------+--------+-----------+--------------+----------+---------------+-------------------+\n",
            "|  -122.23|   37.88|      880.0|         129.0|     126.0|       NEAR BAY|0.14659090909090908|\n",
            "|  -122.22|   37.86|     7099.0|        1106.0|    1138.0|       NEAR BAY|0.15579659106916466|\n",
            "|  -122.24|   37.85|     1467.0|         190.0|     177.0|       NEAR BAY|0.12951601908657123|\n",
            "|  -122.25|   37.85|     1274.0|         235.0|     219.0|       NEAR BAY|0.18445839874411302|\n",
            "|  -122.25|   37.85|     1627.0|         280.0|     259.0|       NEAR BAY| 0.1720958819913952|\n",
            "+---------+--------+-----------+--------------+----------+---------------+-------------------+\n",
            "only showing top 5 rows\n",
            "\n",
            "time: 525 ms (started: 2023-09-21 13:38:05 +00:00)\n"
          ]
        }
      ]
    },
    {
      "cell_type": "markdown",
      "source": [
        "Nova coluna usando a função substring()."
      ],
      "metadata": {
        "id": "G5JqVBMTtJH_"
      }
    },
    {
      "cell_type": "code",
      "source": [
        "df.withColumn('new_col', substring('ocean_proximity', 1, 4)).show(5)"
      ],
      "metadata": {
        "colab": {
          "base_uri": "https://localhost:8080/"
        },
        "id": "WTWf5PseValt",
        "outputId": "8102333e-fc57-4b25-9a5f-3cc151e1df88"
      },
      "execution_count": 17,
      "outputs": [
        {
          "output_type": "stream",
          "name": "stdout",
          "text": [
            "+---------+--------+-----------+--------------+----------+---------------+-------+\n",
            "|longitude|latitude|total_rooms|total_bedrooms|households|ocean_proximity|new_col|\n",
            "+---------+--------+-----------+--------------+----------+---------------+-------+\n",
            "|  -122.23|   37.88|      880.0|         129.0|     126.0|       NEAR BAY|   NEAR|\n",
            "|  -122.22|   37.86|     7099.0|        1106.0|    1138.0|       NEAR BAY|   NEAR|\n",
            "|  -122.24|   37.85|     1467.0|         190.0|     177.0|       NEAR BAY|   NEAR|\n",
            "|  -122.25|   37.85|     1274.0|         235.0|     219.0|       NEAR BAY|   NEAR|\n",
            "|  -122.25|   37.85|     1627.0|         280.0|     259.0|       NEAR BAY|   NEAR|\n",
            "+---------+--------+-----------+--------------+----------+---------------+-------+\n",
            "only showing top 5 rows\n",
            "\n",
            "time: 419 ms (started: 2023-09-21 13:38:06 +00:00)\n"
          ]
        }
      ]
    },
    {
      "cell_type": "markdown",
      "source": [
        "Concatenando dois atributos para formar um novo."
      ],
      "metadata": {
        "id": "3lPUpCmxtRuh"
      }
    },
    {
      "cell_type": "code",
      "source": [
        "df.withColumn('new_col', concat(df['latitude'], df['longitude'])).show(10)"
      ],
      "metadata": {
        "colab": {
          "base_uri": "https://localhost:8080/"
        },
        "id": "sknwYbdmmVlj",
        "outputId": "4940b2de-7beb-410f-dee9-7e26ae84ba46"
      },
      "execution_count": 18,
      "outputs": [
        {
          "output_type": "stream",
          "name": "stdout",
          "text": [
            "+---------+--------+-----------+--------------+----------+---------------+------------+\n",
            "|longitude|latitude|total_rooms|total_bedrooms|households|ocean_proximity|     new_col|\n",
            "+---------+--------+-----------+--------------+----------+---------------+------------+\n",
            "|  -122.23|   37.88|      880.0|         129.0|     126.0|       NEAR BAY|37.88-122.23|\n",
            "|  -122.22|   37.86|     7099.0|        1106.0|    1138.0|       NEAR BAY|37.86-122.22|\n",
            "|  -122.24|   37.85|     1467.0|         190.0|     177.0|       NEAR BAY|37.85-122.24|\n",
            "|  -122.25|   37.85|     1274.0|         235.0|     219.0|       NEAR BAY|37.85-122.25|\n",
            "|  -122.25|   37.85|     1627.0|         280.0|     259.0|       NEAR BAY|37.85-122.25|\n",
            "|  -122.25|   37.85|      919.0|         213.0|     193.0|       NEAR BAY|37.85-122.25|\n",
            "|  -122.25|   37.84|     2535.0|         489.0|     514.0|       NEAR BAY|37.84-122.25|\n",
            "|  -122.25|   37.84|     3104.0|         687.0|     647.0|       NEAR BAY|37.84-122.25|\n",
            "|  -122.26|   37.84|     2555.0|         665.0|     595.0|       NEAR BAY|37.84-122.26|\n",
            "|  -122.25|   37.84|     3549.0|         707.0|     714.0|       NEAR BAY|37.84-122.25|\n",
            "+---------+--------+-----------+--------------+----------+---------------+------------+\n",
            "only showing top 10 rows\n",
            "\n",
            "time: 637 ms (started: 2023-09-21 13:38:06 +00:00)\n"
          ]
        }
      ]
    },
    {
      "cell_type": "code",
      "source": [
        "df.withColumn('new_col', concat_ws(' # ', df['latitude'], df['longitude'])).show(10)"
      ],
      "metadata": {
        "colab": {
          "base_uri": "https://localhost:8080/"
        },
        "id": "nHV3Ia0RmzkO",
        "outputId": "12a72333-f635-4a0d-c36b-db652122aca8"
      },
      "execution_count": 19,
      "outputs": [
        {
          "output_type": "stream",
          "name": "stdout",
          "text": [
            "+---------+--------+-----------+--------------+----------+---------------+---------------+\n",
            "|longitude|latitude|total_rooms|total_bedrooms|households|ocean_proximity|        new_col|\n",
            "+---------+--------+-----------+--------------+----------+---------------+---------------+\n",
            "|  -122.23|   37.88|      880.0|         129.0|     126.0|       NEAR BAY|37.88 # -122.23|\n",
            "|  -122.22|   37.86|     7099.0|        1106.0|    1138.0|       NEAR BAY|37.86 # -122.22|\n",
            "|  -122.24|   37.85|     1467.0|         190.0|     177.0|       NEAR BAY|37.85 # -122.24|\n",
            "|  -122.25|   37.85|     1274.0|         235.0|     219.0|       NEAR BAY|37.85 # -122.25|\n",
            "|  -122.25|   37.85|     1627.0|         280.0|     259.0|       NEAR BAY|37.85 # -122.25|\n",
            "|  -122.25|   37.85|      919.0|         213.0|     193.0|       NEAR BAY|37.85 # -122.25|\n",
            "|  -122.25|   37.84|     2535.0|         489.0|     514.0|       NEAR BAY|37.84 # -122.25|\n",
            "|  -122.25|   37.84|     3104.0|         687.0|     647.0|       NEAR BAY|37.84 # -122.25|\n",
            "|  -122.26|   37.84|     2555.0|         665.0|     595.0|       NEAR BAY|37.84 # -122.26|\n",
            "|  -122.25|   37.84|     3549.0|         707.0|     714.0|       NEAR BAY|37.84 # -122.25|\n",
            "+---------+--------+-----------+--------------+----------+---------------+---------------+\n",
            "only showing top 10 rows\n",
            "\n",
            "time: 817 ms (started: 2023-09-21 13:38:07 +00:00)\n"
          ]
        }
      ]
    },
    {
      "cell_type": "markdown",
      "source": [
        "## Valores NaN"
      ],
      "metadata": {
        "id": "PiY9YFQcuj9D"
      }
    },
    {
      "cell_type": "markdown",
      "source": [
        "### Identificação"
      ],
      "metadata": {
        "id": "rx8fAg-0tzHZ"
      }
    },
    {
      "cell_type": "code",
      "source": [
        "for column in df.columns:\n",
        "  mask = df['longitude'].isNull()\n",
        "  nan_amount = df.filter(mask).count()\n",
        "  print(f'{column}: {nan_amount}')"
      ],
      "metadata": {
        "colab": {
          "base_uri": "https://localhost:8080/"
        },
        "id": "YCL_rGlqr825",
        "outputId": "4f31abf9-b32c-428c-eee9-7831d34d7b06"
      },
      "execution_count": 20,
      "outputs": [
        {
          "output_type": "stream",
          "name": "stdout",
          "text": [
            "longitude: 0\n",
            "latitude: 0\n",
            "total_rooms: 0\n",
            "total_bedrooms: 0\n",
            "households: 0\n",
            "ocean_proximity: 0\n",
            "time: 2.84 s (started: 2023-09-21 13:38:08 +00:00)\n"
          ]
        }
      ]
    },
    {
      "cell_type": "markdown",
      "source": [
        "--------------"
      ],
      "metadata": {
        "id": "dDYOJ-FT8CSK"
      }
    },
    {
      "cell_type": "markdown",
      "source": [
        "# Outro dataset\n",
        "Vou usar outro dataset que contenha datas em formato string para fazer a conversão de string para o formato DateType."
      ],
      "metadata": {
        "id": "FpJfbpCtuLXq"
      }
    },
    {
      "cell_type": "code",
      "source": [
        "df = spark.read.csv(\"/content/drive/MyDrive/datasets/wc2018-players.csv\", header=True, inferSchema=True, encoding='utf-8')\n",
        "df = df.drop('#', 'dia', 'mes', 'ano', 'club') # remoção de atributos desnecessários\n",
        "print(type(df))\n",
        "print(f'rows: {df.count()}')\n",
        "print(f'cols: {len(df.columns)}')\n",
        "df.show(5)"
      ],
      "metadata": {
        "colab": {
          "base_uri": "https://localhost:8080/"
        },
        "id": "uR8OBC6GpGFF",
        "outputId": "6077ebe0-b4a0-48a2-aa6c-960f7fb11bd2"
      },
      "execution_count": 21,
      "outputs": [
        {
          "output_type": "stream",
          "name": "stdout",
          "text": [
            "<class 'pyspark.sql.dataframe.DataFrame'>\n",
            "rows: 736\n",
            "cols: 7\n",
            "+---------+----+------------------+----------+----------+------+------+\n",
            "|     Team|Pos.| FIFA Popular Name|Birth Date|Shirt Name|Height|Weight|\n",
            "+---------+----+------------------+----------+----------+------+------+\n",
            "|Argentina|  DF|TAGLIAFICO Nicolas|31.08.1992|TAGLIAFICO|   169|    65|\n",
            "|Argentina|  MF|    PAVON Cristian|21.01.1996|     PAVÓN|   169|    65|\n",
            "|Argentina|  MF|    LANZINI Manuel|15.02.1993|   LANZINI|   167|    66|\n",
            "|Argentina|  DF|    SALVIO Eduardo|13.07.1990|    SALVIO|   167|    69|\n",
            "|Argentina|  FW|      MESSI Lionel|24.06.1987|     MESSI|   170|    72|\n",
            "+---------+----+------------------+----------+----------+------+------+\n",
            "only showing top 5 rows\n",
            "\n",
            "time: 1.38 s (started: 2023-09-21 13:38:10 +00:00)\n"
          ]
        }
      ]
    },
    {
      "cell_type": "code",
      "source": [
        "df.printSchema()"
      ],
      "metadata": {
        "colab": {
          "base_uri": "https://localhost:8080/"
        },
        "id": "9lzNdh4xpYUq",
        "outputId": "c92848b1-c312-4c18-cf35-1b11d0bdc65d"
      },
      "execution_count": 22,
      "outputs": [
        {
          "output_type": "stream",
          "name": "stdout",
          "text": [
            "root\n",
            " |-- Team: string (nullable = true)\n",
            " |-- Pos.: string (nullable = true)\n",
            " |-- FIFA Popular Name: string (nullable = true)\n",
            " |-- Birth Date: string (nullable = true)\n",
            " |-- Shirt Name: string (nullable = true)\n",
            " |-- Height: integer (nullable = true)\n",
            " |-- Weight: integer (nullable = true)\n",
            "\n",
            "time: 12.6 ms (started: 2023-09-21 13:38:12 +00:00)\n"
          ]
        }
      ]
    },
    {
      "cell_type": "markdown",
      "source": [
        "Vou renomear as colunas convertendo-as para letras minúsculas."
      ],
      "metadata": {
        "id": "NtCFp9Ya8GAv"
      }
    },
    {
      "cell_type": "code",
      "source": [
        "lower = [column.lower() for column in df.columns]\n",
        "for column, low in zip(df.columns, lower):\n",
        "  df = df.withColumnRenamed(column, low)\n",
        "\n",
        "df = df.withColumnRenamed('pos.', 'pos')\n",
        "print(df.columns)"
      ],
      "metadata": {
        "colab": {
          "base_uri": "https://localhost:8080/"
        },
        "id": "IbbSHIzX8M__",
        "outputId": "7b82860f-9099-47ca-ce96-69287360c365"
      },
      "execution_count": 23,
      "outputs": [
        {
          "output_type": "stream",
          "name": "stdout",
          "text": [
            "['team', 'pos', 'fifa popular name', 'birth date', 'shirt name', 'height', 'weight']\n",
            "time: 51.7 ms (started: 2023-09-21 13:38:12 +00:00)\n"
          ]
        }
      ]
    },
    {
      "cell_type": "markdown",
      "source": [
        "Note que 'birth date' está no formato string e também o separador dos componentes YYY, MM, DD é um ponto. Abaixo vemos uma forma de extrair os componentes."
      ],
      "metadata": {
        "id": "lptmUlt7uQuF"
      }
    },
    {
      "cell_type": "code",
      "source": [
        "dia = udf(lambda date:date.split('.')[0])\n",
        "mes = udf(lambda date:date.split('.')[1])\n",
        "ano = udf(lambda date:date.split('.')[2])\n",
        "\n",
        "df = df.withColumn('dia', dia('birth date'))\n",
        "df = df.withColumn('mes', mes('birth date'))\n",
        "df = df.withColumn('ano', ano('birth date'))\n",
        "\n",
        "df.show(5)"
      ],
      "metadata": {
        "colab": {
          "base_uri": "https://localhost:8080/"
        },
        "id": "yUX4KfScuj0j",
        "outputId": "ced6ccc2-e363-43ee-f737-aba9e3959f28"
      },
      "execution_count": 24,
      "outputs": [
        {
          "output_type": "stream",
          "name": "stdout",
          "text": [
            "+---------+---+------------------+----------+----------+------+------+---+---+----+\n",
            "|     team|pos| fifa popular name|birth date|shirt name|height|weight|dia|mes| ano|\n",
            "+---------+---+------------------+----------+----------+------+------+---+---+----+\n",
            "|Argentina| DF|TAGLIAFICO Nicolas|31.08.1992|TAGLIAFICO|   169|    65| 31| 08|1992|\n",
            "|Argentina| MF|    PAVON Cristian|21.01.1996|     PAVÓN|   169|    65| 21| 01|1996|\n",
            "|Argentina| MF|    LANZINI Manuel|15.02.1993|   LANZINI|   167|    66| 15| 02|1993|\n",
            "|Argentina| DF|    SALVIO Eduardo|13.07.1990|    SALVIO|   167|    69| 13| 07|1990|\n",
            "|Argentina| FW|      MESSI Lionel|24.06.1987|     MESSI|   170|    72| 24| 06|1987|\n",
            "+---------+---+------------------+----------+----------+------+------+---+---+----+\n",
            "only showing top 5 rows\n",
            "\n",
            "time: 1.76 s (started: 2023-09-21 13:38:12 +00:00)\n"
          ]
        }
      ]
    },
    {
      "cell_type": "markdown",
      "source": [
        "A conversão de \"birth date\" para o formato DateType pode ser feita da seguinte forma."
      ],
      "metadata": {
        "id": "bWSmfgQWXe4g"
      }
    },
    {
      "cell_type": "code",
      "source": [
        "df.withColumn('data nascimento', to_date(col(\"birth date\"), \"dd.MM.yyyy\")).printSchema()\n",
        "# ou\n",
        "#df.withColumn('Data', to_date(col(\"birth date\"), \"dd.MM.yyyy\").cast(DateType())).printSchema()"
      ],
      "metadata": {
        "colab": {
          "base_uri": "https://localhost:8080/"
        },
        "id": "lh_JlUfxXm6f",
        "outputId": "05a45fb0-87cb-44ee-d5d6-257847af60ea"
      },
      "execution_count": 25,
      "outputs": [
        {
          "output_type": "stream",
          "name": "stdout",
          "text": [
            "root\n",
            " |-- team: string (nullable = true)\n",
            " |-- pos: string (nullable = true)\n",
            " |-- fifa popular name: string (nullable = true)\n",
            " |-- birth date: string (nullable = true)\n",
            " |-- shirt name: string (nullable = true)\n",
            " |-- height: integer (nullable = true)\n",
            " |-- weight: integer (nullable = true)\n",
            " |-- dia: string (nullable = true)\n",
            " |-- mes: string (nullable = true)\n",
            " |-- ano: string (nullable = true)\n",
            " |-- data nascimento: date (nullable = true)\n",
            "\n",
            "time: 46.9 ms (started: 2023-09-21 13:38:14 +00:00)\n"
          ]
        }
      ]
    },
    {
      "cell_type": "markdown",
      "source": [
        "Outra conversão de tipo com a função cast()."
      ],
      "metadata": {
        "id": "Tb-QF4sEsvUL"
      }
    },
    {
      "cell_type": "code",
      "source": [
        "df.withColumn('height', col('height').cast(FloatType())).show(5)"
      ],
      "metadata": {
        "colab": {
          "base_uri": "https://localhost:8080/"
        },
        "id": "pvDqvkVrqbtT",
        "outputId": "f2c44df2-78d1-4c78-9fad-413572efd6c7"
      },
      "execution_count": 26,
      "outputs": [
        {
          "output_type": "stream",
          "name": "stdout",
          "text": [
            "+---------+---+------------------+----------+----------+------+------+---+---+----+\n",
            "|     team|pos| fifa popular name|birth date|shirt name|height|weight|dia|mes| ano|\n",
            "+---------+---+------------------+----------+----------+------+------+---+---+----+\n",
            "|Argentina| DF|TAGLIAFICO Nicolas|31.08.1992|TAGLIAFICO| 169.0|    65| 31| 08|1992|\n",
            "|Argentina| MF|    PAVON Cristian|21.01.1996|     PAVÓN| 169.0|    65| 21| 01|1996|\n",
            "|Argentina| MF|    LANZINI Manuel|15.02.1993|   LANZINI| 167.0|    66| 15| 02|1993|\n",
            "|Argentina| DF|    SALVIO Eduardo|13.07.1990|    SALVIO| 167.0|    69| 13| 07|1990|\n",
            "|Argentina| FW|      MESSI Lionel|24.06.1987|     MESSI| 170.0|    72| 24| 06|1987|\n",
            "+---------+---+------------------+----------+----------+------+------+---+---+----+\n",
            "only showing top 5 rows\n",
            "\n",
            "time: 434 ms (started: 2023-09-21 13:38:14 +00:00)\n"
          ]
        }
      ]
    },
    {
      "cell_type": "markdown",
      "source": [
        "Remoção de uma coluna."
      ],
      "metadata": {
        "id": "3scrwmfgXTNZ"
      }
    },
    {
      "cell_type": "code",
      "source": [
        "df = df.withColumn('new_col', lit(True))\n",
        "df = df.drop('new_col')\n",
        "df.show(5)"
      ],
      "metadata": {
        "colab": {
          "base_uri": "https://localhost:8080/"
        },
        "id": "WR4oimyoP0q0",
        "outputId": "63341a89-e83e-4c43-91e3-d0530d9c262f"
      },
      "execution_count": 27,
      "outputs": [
        {
          "output_type": "stream",
          "name": "stdout",
          "text": [
            "+---------+---+------------------+----------+----------+------+------+---+---+----+\n",
            "|     team|pos| fifa popular name|birth date|shirt name|height|weight|dia|mes| ano|\n",
            "+---------+---+------------------+----------+----------+------+------+---+---+----+\n",
            "|Argentina| DF|TAGLIAFICO Nicolas|31.08.1992|TAGLIAFICO|   169|    65| 31| 08|1992|\n",
            "|Argentina| MF|    PAVON Cristian|21.01.1996|     PAVÓN|   169|    65| 21| 01|1996|\n",
            "|Argentina| MF|    LANZINI Manuel|15.02.1993|   LANZINI|   167|    66| 15| 02|1993|\n",
            "|Argentina| DF|    SALVIO Eduardo|13.07.1990|    SALVIO|   167|    69| 13| 07|1990|\n",
            "|Argentina| FW|      MESSI Lionel|24.06.1987|     MESSI|   170|    72| 24| 06|1987|\n",
            "+---------+---+------------------+----------+----------+------+------+---+---+----+\n",
            "only showing top 5 rows\n",
            "\n",
            "time: 460 ms (started: 2023-09-21 13:38:14 +00:00)\n"
          ]
        }
      ]
    },
    {
      "cell_type": "markdown",
      "source": [
        "Criando backup do dataframe"
      ],
      "metadata": {
        "id": "Ue7YT41Bazkf"
      }
    },
    {
      "cell_type": "code",
      "source": [
        "df_backup = df"
      ],
      "metadata": {
        "colab": {
          "base_uri": "https://localhost:8080/"
        },
        "id": "H8tTGZECa2Bq",
        "outputId": "3b019812-d3ba-454d-cf30-9cf2e2fcbb0c"
      },
      "execution_count": 28,
      "outputs": [
        {
          "output_type": "stream",
          "name": "stdout",
          "text": [
            "time: 449 µs (started: 2023-09-21 13:38:15 +00:00)\n"
          ]
        }
      ]
    },
    {
      "cell_type": "markdown",
      "source": [
        "# Instrução: WHERE\n",
        "Função que implementa a instrução WHERE do SQL. A string argumento da função where() deve seguir o padrão SQL.\n",
        "\n",
        "Uma alternativa é a função filter() que pode ser usada da mesma forma."
      ],
      "metadata": {
        "id": "FMJL0sd2398C"
      }
    },
    {
      "cell_type": "code",
      "source": [
        "df.where(\"team = 'Brazil'\").show(5)"
      ],
      "metadata": {
        "colab": {
          "base_uri": "https://localhost:8080/"
        },
        "id": "Xidh2TQC4WEd",
        "outputId": "e94e433f-6c0a-4403-d4a4-b76ee116b317"
      },
      "execution_count": 29,
      "outputs": [
        {
          "output_type": "stream",
          "name": "stdout",
          "text": [
            "+------+---+-----------------+----------+-----------+------+------+---+---+----+\n",
            "|  team|pos|fifa popular name|birth date| shirt name|height|weight|dia|mes| ano|\n",
            "+------+---+-----------------+----------+-----------+------+------+---+---+----+\n",
            "|Brazil| MF|             FRED|05.03.1993|       FRED|   169|    64| 05| 03|1993|\n",
            "|Brazil| FW|           TAISON|13.01.1988|     TAISON|   172|    64| 13| 01|1988|\n",
            "|Brazil| MF|      FERNANDINHO|04.05.1985|FERNANDINHO|   179|    67| 04| 05|1985|\n",
            "|Brazil| DF|           FAGNER|11.06.1989|     FAGNER|   168|    67| 11| 06|1989|\n",
            "|Brazil| FW|           NEYMAR|05.02.1992|  NEYMAR JR|   175|    68| 05| 02|1992|\n",
            "+------+---+-----------------+----------+-----------+------+------+---+---+----+\n",
            "only showing top 5 rows\n",
            "\n",
            "time: 605 ms (started: 2023-09-21 13:38:15 +00:00)\n"
          ]
        }
      ]
    },
    {
      "cell_type": "code",
      "source": [
        "mask = df['team'] == 'Argentina'\n",
        "print(mask)\n",
        "df.where(mask).show(5)"
      ],
      "metadata": {
        "colab": {
          "base_uri": "https://localhost:8080/"
        },
        "id": "XJwOW85d5FV2",
        "outputId": "e8dadfc4-8f19-4772-cf35-786936061229"
      },
      "execution_count": 30,
      "outputs": [
        {
          "output_type": "stream",
          "name": "stdout",
          "text": [
            "Column<'(team = Argentina)'>\n",
            "+---------+---+------------------+----------+----------+------+------+---+---+----+\n",
            "|     team|pos| fifa popular name|birth date|shirt name|height|weight|dia|mes| ano|\n",
            "+---------+---+------------------+----------+----------+------+------+---+---+----+\n",
            "|Argentina| DF|TAGLIAFICO Nicolas|31.08.1992|TAGLIAFICO|   169|    65| 31| 08|1992|\n",
            "|Argentina| MF|    PAVON Cristian|21.01.1996|     PAVÓN|   169|    65| 21| 01|1996|\n",
            "|Argentina| MF|    LANZINI Manuel|15.02.1993|   LANZINI|   167|    66| 15| 02|1993|\n",
            "|Argentina| DF|    SALVIO Eduardo|13.07.1990|    SALVIO|   167|    69| 13| 07|1990|\n",
            "|Argentina| FW|      MESSI Lionel|24.06.1987|     MESSI|   170|    72| 24| 06|1987|\n",
            "+---------+---+------------------+----------+----------+------+------+---+---+----+\n",
            "only showing top 5 rows\n",
            "\n",
            "time: 613 ms (started: 2023-09-21 13:38:15 +00:00)\n"
          ]
        }
      ]
    },
    {
      "cell_type": "code",
      "source": [
        "mask = (col('shirt name') == 'MESSI')\n",
        "print(mask)\n",
        "df.filter(mask).show(5)"
      ],
      "metadata": {
        "colab": {
          "base_uri": "https://localhost:8080/"
        },
        "id": "0xmj005pIvLE",
        "outputId": "97831c9c-a55b-4a0c-ce18-ffb89b58151b"
      },
      "execution_count": 31,
      "outputs": [
        {
          "output_type": "stream",
          "name": "stdout",
          "text": [
            "Column<'(shirt name = MESSI)'>\n",
            "+---------+---+-----------------+----------+----------+------+------+---+---+----+\n",
            "|     team|pos|fifa popular name|birth date|shirt name|height|weight|dia|mes| ano|\n",
            "+---------+---+-----------------+----------+----------+------+------+---+---+----+\n",
            "|Argentina| FW|     MESSI Lionel|24.06.1987|     MESSI|   170|    72| 24| 06|1987|\n",
            "+---------+---+-----------------+----------+----------+------+------+---+---+----+\n",
            "\n",
            "time: 505 ms (started: 2023-09-21 13:38:16 +00:00)\n"
          ]
        }
      ]
    },
    {
      "cell_type": "markdown",
      "source": [
        "## Filtros compostos"
      ],
      "metadata": {
        "id": "O7cHwIHhJCvZ"
      }
    },
    {
      "cell_type": "code",
      "source": [
        "mask = (\"team = 'Brazil' AND height < 170\")\n",
        "print(mask)\n",
        "df.where(mask).show(5)"
      ],
      "metadata": {
        "colab": {
          "base_uri": "https://localhost:8080/"
        },
        "id": "2nUad3qtJD_O",
        "outputId": "190f1bff-0ba6-4d6f-f8b7-cd1389c44bec"
      },
      "execution_count": 32,
      "outputs": [
        {
          "output_type": "stream",
          "name": "stdout",
          "text": [
            "team = 'Brazil' AND height < 170\n",
            "+------+---+-----------------+----------+----------+------+------+---+---+----+\n",
            "|  team|pos|fifa popular name|birth date|shirt name|height|weight|dia|mes| ano|\n",
            "+------+---+-----------------+----------+----------+------+------+---+---+----+\n",
            "|Brazil| MF|             FRED|05.03.1993|      FRED|   169|    64| 05| 03|1993|\n",
            "|Brazil| DF|           FAGNER|11.06.1989|    FAGNER|   168|    67| 11| 06|1989|\n",
            "+------+---+-----------------+----------+----------+------+------+---+---+----+\n",
            "\n",
            "time: 545 ms (started: 2023-09-21 13:38:16 +00:00)\n"
          ]
        }
      ]
    },
    {
      "cell_type": "code",
      "source": [
        "mask = (col('team') == 'Brazil') & (col('height') < 170)\n",
        "print(mask)\n",
        "df.where(mask).show(5)"
      ],
      "metadata": {
        "colab": {
          "base_uri": "https://localhost:8080/"
        },
        "id": "3GvVbsLVKMJ3",
        "outputId": "1a7a8865-2ccc-4052-970c-2a5abda84e2c"
      },
      "execution_count": 33,
      "outputs": [
        {
          "output_type": "stream",
          "name": "stdout",
          "text": [
            "Column<'((team = Brazil) AND (height < 170))'>\n",
            "+------+---+-----------------+----------+----------+------+------+---+---+----+\n",
            "|  team|pos|fifa popular name|birth date|shirt name|height|weight|dia|mes| ano|\n",
            "+------+---+-----------------+----------+----------+------+------+---+---+----+\n",
            "|Brazil| MF|             FRED|05.03.1993|      FRED|   169|    64| 05| 03|1993|\n",
            "|Brazil| DF|           FAGNER|11.06.1989|    FAGNER|   168|    67| 11| 06|1989|\n",
            "+------+---+-----------------+----------+----------+------+------+---+---+----+\n",
            "\n",
            "time: 535 ms (started: 2023-09-21 13:38:17 +00:00)\n"
          ]
        }
      ]
    },
    {
      "cell_type": "markdown",
      "source": [
        "# Instrução: GROUP BY\n",
        "\n",
        "Tendo uma coluna como referência, todas as linhas onde os valores dessa coluna são iguais são \"colapsadas\" em apenas uma. É preciso especificar o que deve ser feito com as outras colunas caso contrário elas serão ignoradas. Normalmente aplicamos funções de estatística descritiva."
      ],
      "metadata": {
        "id": "ZkBWXq7IeIDC"
      }
    },
    {
      "cell_type": "code",
      "source": [
        "df.groupBy('team').mean('weight').orderBy('avg(weight)', ascending=True).show(10)"
      ],
      "metadata": {
        "colab": {
          "base_uri": "https://localhost:8080/"
        },
        "id": "AI3a35dWe1c6",
        "outputId": "34713f33-ed48-42c8-93e6-eb13fc08d87d"
      },
      "execution_count": 34,
      "outputs": [
        {
          "output_type": "stream",
          "name": "stdout",
          "text": [
            "+--------------+-----------------+\n",
            "|          team|      avg(weight)|\n",
            "+--------------+-----------------+\n",
            "|         Japan|71.52173913043478|\n",
            "|  Saudi Arabia|73.04347826086956|\n",
            "|      Portugal| 73.6086956521739|\n",
            "|        Mexico|74.08695652173913|\n",
            "|    Costa Rica| 74.1304347826087|\n",
            "|Korea Republic|74.43478260869566|\n",
            "|       Uruguay| 74.6086956521739|\n",
            "|       Morocco|74.65217391304348|\n",
            "|         Spain|74.73913043478261|\n",
            "|       Tunisia|             75.0|\n",
            "+--------------+-----------------+\n",
            "only showing top 10 rows\n",
            "\n",
            "time: 903 ms (started: 2023-09-21 13:38:18 +00:00)\n"
          ]
        }
      ]
    },
    {
      "cell_type": "markdown",
      "source": [
        "Para especificar qual função de agregação deve ser usada em cada coluna podemos usar a função agg()."
      ],
      "metadata": {
        "id": "nRs42OSbiBJj"
      }
    },
    {
      "cell_type": "code",
      "source": [
        "df.groupBy('team').agg({'weight':'avg', 'dia':'min', 'height':'max'}).orderBy('max(height)', ascending=False).show(10)"
      ],
      "metadata": {
        "colab": {
          "base_uri": "https://localhost:8080/"
        },
        "id": "-0bxHONmiJfe",
        "outputId": "fa78afc8-4266-4da3-bcab-88207353c152"
      },
      "execution_count": 35,
      "outputs": [
        {
          "output_type": "stream",
          "name": "stdout",
          "text": [
            "+--------------+-----------------+--------+-----------+\n",
            "|          team|      avg(weight)|min(dia)|max(height)|\n",
            "+--------------+-----------------+--------+-----------+\n",
            "|       Croatia|79.30434782608695|      02|        201|\n",
            "|       Denmark| 82.6086956521739|      01|        200|\n",
            "|     Argentina|75.56521739130434|      02|        199|\n",
            "|       Belgium|79.56521739130434|      02|        199|\n",
            "|       Iceland|80.73913043478261|      01|        198|\n",
            "|        Sweden|78.82608695652173|      02|        198|\n",
            "|       Nigeria|80.47826086956522|      01|        197|\n",
            "|Korea Republic|74.43478260869566|      03|        197|\n",
            "|        France|             80.0|      03|        197|\n",
            "|        Panama|             80.0|      01|        197|\n",
            "+--------------+-----------------+--------+-----------+\n",
            "only showing top 10 rows\n",
            "\n",
            "time: 1.69 s (started: 2023-09-21 13:38:18 +00:00)\n"
          ]
        }
      ]
    },
    {
      "cell_type": "code",
      "source": [
        "df.groupBy('team').agg(avg('height'), min('height'), max('height')).orderBy('avg(height)', ascending=False).show(20)"
      ],
      "metadata": {
        "colab": {
          "base_uri": "https://localhost:8080/"
        },
        "id": "oVKTdvz6W6s2",
        "outputId": "1d8cd3f4-1643-4e47-e84e-5fcd7bd84b47"
      },
      "execution_count": 36,
      "outputs": [
        {
          "output_type": "stream",
          "name": "stdout",
          "text": [
            "+--------------+------------------+-----------+-----------+\n",
            "|          team|       avg(height)|min(height)|max(height)|\n",
            "+--------------+------------------+-----------+-----------+\n",
            "|        Serbia|186.69565217391303|        169|        195|\n",
            "|       Denmark| 186.6086956521739|        171|        200|\n",
            "|       Germany| 185.7826086956522|        176|        195|\n",
            "|        Sweden| 185.7391304347826|        177|        198|\n",
            "|       Iceland|185.52173913043478|        170|        198|\n",
            "|       Belgium|185.34782608695653|        169|        199|\n",
            "|       Croatia| 185.2608695652174|        172|        201|\n",
            "|       Nigeria|184.52173913043478|        172|        197|\n",
            "|       IR Iran|184.47826086956522|        177|        194|\n",
            "|        Russia| 184.3913043478261|        173|        196|\n",
            "|       Senegal|183.65217391304347|        173|        196|\n",
            "|        France|183.30434782608697|        168|        197|\n",
            "|        Poland|183.17391304347825|        172|        195|\n",
            "|       Tunisia|183.08695652173913|        170|        192|\n",
            "|   Switzerland|182.91304347826087|        165|        192|\n",
            "|       England| 182.7391304347826|        170|        196|\n",
            "|       Morocco|182.69565217391303|        167|        190|\n",
            "|        Panama|182.17391304347825|        165|        197|\n",
            "|Korea Republic| 181.8695652173913|        170|        197|\n",
            "|       Uruguay|181.04347826086956|        168|        196|\n",
            "+--------------+------------------+-----------+-----------+\n",
            "only showing top 20 rows\n",
            "\n",
            "time: 994 ms (started: 2023-09-21 13:38:20 +00:00)\n"
          ]
        }
      ]
    },
    {
      "cell_type": "code",
      "source": [
        "df.groupBy('team').agg(avg('weight')).orderBy('avg(weight)', ascending=True).show(10)"
      ],
      "metadata": {
        "colab": {
          "base_uri": "https://localhost:8080/"
        },
        "id": "8KBPRvIpk6z7",
        "outputId": "ed449d08-e3b8-4256-c48c-19cbfab757a1"
      },
      "execution_count": 37,
      "outputs": [
        {
          "output_type": "stream",
          "name": "stdout",
          "text": [
            "+--------------+-----------------+\n",
            "|          team|      avg(weight)|\n",
            "+--------------+-----------------+\n",
            "|         Japan|71.52173913043478|\n",
            "|  Saudi Arabia|73.04347826086956|\n",
            "|      Portugal| 73.6086956521739|\n",
            "|        Mexico|74.08695652173913|\n",
            "|    Costa Rica| 74.1304347826087|\n",
            "|Korea Republic|74.43478260869566|\n",
            "|       Uruguay| 74.6086956521739|\n",
            "|       Morocco|74.65217391304348|\n",
            "|         Spain|74.73913043478261|\n",
            "|       Tunisia|             75.0|\n",
            "+--------------+-----------------+\n",
            "only showing top 10 rows\n",
            "\n",
            "time: 803 ms (started: 2023-09-21 13:38:21 +00:00)\n"
          ]
        }
      ]
    },
    {
      "cell_type": "markdown",
      "source": [
        "# Instrução: PARTITION BY\n",
        "Tem o conceito muito parecido com groupby, mas enquanto neste, as linhas iguais são agrupadas formando agrupamentos de instâncias de dados baseados em uma ou mais colunas.\n",
        "\n",
        "*   row_number()\n",
        "*   rank()\n",
        "*   dense_rank()\n",
        "*   persent_rank()\n",
        "*   ntile()\n",
        "\n",
        "**Obs.** A função orderBy() usada com Window.partitionBy() não é a mesma usada com as funções de agregação de groupBy(). Enquanto essa retorna um DataFrame o outro cria uma WindowSpec."
      ],
      "metadata": {
        "id": "iEsfhD1VbpY-"
      }
    },
    {
      "cell_type": "code",
      "source": [
        "df.show(5)"
      ],
      "metadata": {
        "colab": {
          "base_uri": "https://localhost:8080/"
        },
        "id": "xtg0aWMRcvsT",
        "outputId": "60bcc55d-69ce-499e-cca2-5deebe31f932"
      },
      "execution_count": 38,
      "outputs": [
        {
          "output_type": "stream",
          "name": "stdout",
          "text": [
            "+---------+---+------------------+----------+----------+------+------+---+---+----+\n",
            "|     team|pos| fifa popular name|birth date|shirt name|height|weight|dia|mes| ano|\n",
            "+---------+---+------------------+----------+----------+------+------+---+---+----+\n",
            "|Argentina| DF|TAGLIAFICO Nicolas|31.08.1992|TAGLIAFICO|   169|    65| 31| 08|1992|\n",
            "|Argentina| MF|    PAVON Cristian|21.01.1996|     PAVÓN|   169|    65| 21| 01|1996|\n",
            "|Argentina| MF|    LANZINI Manuel|15.02.1993|   LANZINI|   167|    66| 15| 02|1993|\n",
            "|Argentina| DF|    SALVIO Eduardo|13.07.1990|    SALVIO|   167|    69| 13| 07|1990|\n",
            "|Argentina| FW|      MESSI Lionel|24.06.1987|     MESSI|   170|    72| 24| 06|1987|\n",
            "+---------+---+------------------+----------+----------+------+------+---+---+----+\n",
            "only showing top 5 rows\n",
            "\n",
            "time: 911 ms (started: 2023-09-21 13:38:22 +00:00)\n"
          ]
        }
      ]
    },
    {
      "cell_type": "markdown",
      "source": [
        "row_number()"
      ],
      "metadata": {
        "id": "kkLpC58KkeaK"
      }
    },
    {
      "cell_type": "code",
      "source": [
        "prt = Window.partitionBy('team').orderBy(desc('height'))\n",
        "print(type(prt))\n",
        "print(type(row_number()))\n",
        "df.withColumn('row', row_number().over(prt)).show(10)"
      ],
      "metadata": {
        "colab": {
          "base_uri": "https://localhost:8080/"
        },
        "id": "74rdlQbacHPc",
        "outputId": "c622a42a-5586-4521-e8b4-b638f22f2472"
      },
      "execution_count": 39,
      "outputs": [
        {
          "output_type": "stream",
          "name": "stdout",
          "text": [
            "<class 'pyspark.sql.window.WindowSpec'>\n",
            "<class 'pyspark.sql.column.Column'>\n",
            "+---------+---+------------------+----------+----------+------+------+---+---+----+---+\n",
            "|     team|pos| fifa popular name|birth date|shirt name|height|weight|dia|mes| ano|row|\n",
            "+---------+---+------------------+----------+----------+------+------+---+---+----+---+\n",
            "|Argentina| DF|    FAZIO Federico|17.03.1987|     FAZIO|   199|    85| 17| 03|1987|  1|\n",
            "|Argentina| GK|     GUZMAN Nahuel|10.02.1986|    GUZMÁN|   192|    90| 10| 02|1986|  2|\n",
            "|Argentina| DF|       ROJO Marcos|20.03.1990|      ROJO|   189|    82| 20| 03|1990|  3|\n",
            "|Argentina| GK|     ARMANI Franco|16.10.1986|    ARMANI|   189|    85| 16| 10|1986|  4|\n",
            "|Argentina| GK|CABALLERO Wilfredo|28.09.1981| CABALLERO|   186|    80| 28| 09|1981|  5|\n",
            "|Argentina| FW|   HIGUAIN Gonzalo|10.12.1987|   HIGUAÍN|   184|    75| 10| 12|1987|  6|\n",
            "|Argentina| DF|  ANSALDI Cristian|20.09.1986|   ANSALDI|   181|    73| 20| 09|1986|  7|\n",
            "|Argentina| DF|   MERCADO Gabriel|18.03.1987|   MERCADO|   181|    81| 18| 03|1987|  8|\n",
            "|Argentina| DF|  OTAMENDI Nicolas|12.02.1988|  OTAMENDI|   181|    81| 12| 02|1988|  9|\n",
            "|Argentina| MF|  MEZA Maximiliano|15.12.1992|      MEZA|   180|    76| 15| 12|1992| 10|\n",
            "+---------+---+------------------+----------+----------+------+------+---+---+----+---+\n",
            "only showing top 10 rows\n",
            "\n",
            "time: 1.5 s (started: 2023-09-21 13:38:23 +00:00)\n"
          ]
        }
      ]
    },
    {
      "cell_type": "code",
      "source": [
        "# Selecionar os atletas mais altos de cada time.\n",
        "prt = Window.partitionBy('team').orderBy(desc('height'))\n",
        "df.withColumn('top', row_number().over(prt)).where(\"top = 1\").show(10)"
      ],
      "metadata": {
        "colab": {
          "base_uri": "https://localhost:8080/"
        },
        "id": "zj0QPwXV6Ldf",
        "outputId": "93a7a319-bc5b-4223-cc25-8a2a94d5620b"
      },
      "execution_count": 40,
      "outputs": [
        {
          "output_type": "stream",
          "name": "stdout",
          "text": [
            "+----------+---+------------------+----------+-----------+------+------+---+---+----+---+\n",
            "|      team|pos| fifa popular name|birth date| shirt name|height|weight|dia|mes| ano|top|\n",
            "+----------+---+------------------+----------+-----------+------+------+---+---+----+---+\n",
            "| Argentina| DF|    FAZIO Federico|17.03.1987|      FAZIO|   199|    85| 17| 03|1987|  1|\n",
            "| Australia| GK|        JONES Brad|19.03.1982|      JONES|   193|    87| 19| 03|1982|  1|\n",
            "|   Belgium| GK|  COURTOIS Thibaut|11.05.1992|   COURTOIS|   199|    91| 11| 05|1992|  1|\n",
            "|    Brazil| GK|            CASSIO|06.06.1987|     CASSIO|   195|    92| 06| 06|1987|  1|\n",
            "|  Colombia| DF|        MINA Yerry|23.09.1994|    Y. MINA|   194|    95| 23| 09|1994|  1|\n",
            "|Costa Rica| DF|    WASTON Kendall|01.01.1988|  K. WASTON|   196|    87| 01| 01|1988|  1|\n",
            "|   Croatia| GK|     KALINIC Lovre|03.04.1990| L. KALINIĆ|   201|    96| 03| 04|1990|  1|\n",
            "|   Denmark| DF|VESTERGAARD Jannik|03.08.1992|VESTERGAARD|   200|    98| 03| 08|1992|  1|\n",
            "|     Egypt| DF|      AHMED HEGAZY|25.01.1991|  A. HEGAZY|   194|    95| 25| 01|1991|  1|\n",
            "|   England| GK|      BUTLAND Jack|10.03.1993|    BUTLAND|   196|    96| 10| 03|1993|  1|\n",
            "+----------+---+------------------+----------+-----------+------+------+---+---+----+---+\n",
            "only showing top 10 rows\n",
            "\n",
            "time: 787 ms (started: 2023-09-21 13:38:24 +00:00)\n"
          ]
        }
      ]
    },
    {
      "cell_type": "markdown",
      "source": [
        "rank(): Note como rank=3 se repete duas vezes e depois há um salto para rank=5. Esta é uma peculiaridade dessa função."
      ],
      "metadata": {
        "id": "KuMhw3n2kKJP"
      }
    },
    {
      "cell_type": "code",
      "source": [
        "prt = Window.partitionBy('team').orderBy(desc('height'))\n",
        "df.withColumn('rank', rank().over(prt)).show(10)"
      ],
      "metadata": {
        "colab": {
          "base_uri": "https://localhost:8080/"
        },
        "id": "kPVsRj7PjJLC",
        "outputId": "006f3d0f-e1d4-4513-f028-c347f19e6d7d"
      },
      "execution_count": 41,
      "outputs": [
        {
          "output_type": "stream",
          "name": "stdout",
          "text": [
            "+---------+---+------------------+----------+----------+------+------+---+---+----+----+\n",
            "|     team|pos| fifa popular name|birth date|shirt name|height|weight|dia|mes| ano|rank|\n",
            "+---------+---+------------------+----------+----------+------+------+---+---+----+----+\n",
            "|Argentina| DF|    FAZIO Federico|17.03.1987|     FAZIO|   199|    85| 17| 03|1987|   1|\n",
            "|Argentina| GK|     GUZMAN Nahuel|10.02.1986|    GUZMÁN|   192|    90| 10| 02|1986|   2|\n",
            "|Argentina| DF|       ROJO Marcos|20.03.1990|      ROJO|   189|    82| 20| 03|1990|   3|\n",
            "|Argentina| GK|     ARMANI Franco|16.10.1986|    ARMANI|   189|    85| 16| 10|1986|   3|\n",
            "|Argentina| GK|CABALLERO Wilfredo|28.09.1981| CABALLERO|   186|    80| 28| 09|1981|   5|\n",
            "|Argentina| FW|   HIGUAIN Gonzalo|10.12.1987|   HIGUAÍN|   184|    75| 10| 12|1987|   6|\n",
            "|Argentina| DF|  ANSALDI Cristian|20.09.1986|   ANSALDI|   181|    73| 20| 09|1986|   7|\n",
            "|Argentina| DF|   MERCADO Gabriel|18.03.1987|   MERCADO|   181|    81| 18| 03|1987|   7|\n",
            "|Argentina| DF|  OTAMENDI Nicolas|12.02.1988|  OTAMENDI|   181|    81| 12| 02|1988|   7|\n",
            "|Argentina| MF|  MEZA Maximiliano|15.12.1992|      MEZA|   180|    76| 15| 12|1992|  10|\n",
            "+---------+---+------------------+----------+----------+------+------+---+---+----+----+\n",
            "only showing top 10 rows\n",
            "\n",
            "time: 593 ms (started: 2023-09-21 13:38:25 +00:00)\n"
          ]
        }
      ]
    },
    {
      "cell_type": "markdown",
      "source": [
        "dense_rank(): Aqui, mesmo que rank=3 se repita o próximo valor de rank é 4 e assim por diante. Não há saltos de valores."
      ],
      "metadata": {
        "id": "ExD1iTmakiIx"
      }
    },
    {
      "cell_type": "code",
      "source": [
        "prt = Window.partitionBy('team').orderBy(desc('height'))\n",
        "df.withColumn('dense_rank', dense_rank().over(prt)).show(10)"
      ],
      "metadata": {
        "colab": {
          "base_uri": "https://localhost:8080/"
        },
        "id": "Tw53dOeokyzh",
        "outputId": "e1083f6f-8eb0-4e05-cfcb-90c15906558b"
      },
      "execution_count": 42,
      "outputs": [
        {
          "output_type": "stream",
          "name": "stdout",
          "text": [
            "+---------+---+------------------+----------+----------+------+------+---+---+----+----------+\n",
            "|     team|pos| fifa popular name|birth date|shirt name|height|weight|dia|mes| ano|dense_rank|\n",
            "+---------+---+------------------+----------+----------+------+------+---+---+----+----------+\n",
            "|Argentina| DF|    FAZIO Federico|17.03.1987|     FAZIO|   199|    85| 17| 03|1987|         1|\n",
            "|Argentina| GK|     GUZMAN Nahuel|10.02.1986|    GUZMÁN|   192|    90| 10| 02|1986|         2|\n",
            "|Argentina| DF|       ROJO Marcos|20.03.1990|      ROJO|   189|    82| 20| 03|1990|         3|\n",
            "|Argentina| GK|     ARMANI Franco|16.10.1986|    ARMANI|   189|    85| 16| 10|1986|         3|\n",
            "|Argentina| GK|CABALLERO Wilfredo|28.09.1981| CABALLERO|   186|    80| 28| 09|1981|         4|\n",
            "|Argentina| FW|   HIGUAIN Gonzalo|10.12.1987|   HIGUAÍN|   184|    75| 10| 12|1987|         5|\n",
            "|Argentina| DF|  ANSALDI Cristian|20.09.1986|   ANSALDI|   181|    73| 20| 09|1986|         6|\n",
            "|Argentina| DF|   MERCADO Gabriel|18.03.1987|   MERCADO|   181|    81| 18| 03|1987|         6|\n",
            "|Argentina| DF|  OTAMENDI Nicolas|12.02.1988|  OTAMENDI|   181|    81| 12| 02|1988|         6|\n",
            "|Argentina| MF|  MEZA Maximiliano|15.12.1992|      MEZA|   180|    76| 15| 12|1992|         7|\n",
            "+---------+---+------------------+----------+----------+------+------+---+---+----+----------+\n",
            "only showing top 10 rows\n",
            "\n",
            "time: 757 ms (started: 2023-09-21 13:38:26 +00:00)\n"
          ]
        }
      ]
    },
    {
      "cell_type": "markdown",
      "source": [
        "persent_rank(): ranking relativo(percentual)"
      ],
      "metadata": {
        "id": "FgIYuPqAmCD3"
      }
    },
    {
      "cell_type": "code",
      "source": [
        "prt = Window.partitionBy('team').orderBy(desc('height'))\n",
        "df.withColumn('persent_rank', percent_rank().over(prt)).show(10)"
      ],
      "metadata": {
        "colab": {
          "base_uri": "https://localhost:8080/"
        },
        "id": "i8jq7iyimDZw",
        "outputId": "8a288c10-ed4c-480c-e827-fc004c766f7a"
      },
      "execution_count": 43,
      "outputs": [
        {
          "output_type": "stream",
          "name": "stdout",
          "text": [
            "+---------+---+------------------+----------+----------+------+------+---+---+----+--------------------+\n",
            "|     team|pos| fifa popular name|birth date|shirt name|height|weight|dia|mes| ano|        persent_rank|\n",
            "+---------+---+------------------+----------+----------+------+------+---+---+----+--------------------+\n",
            "|Argentina| DF|    FAZIO Federico|17.03.1987|     FAZIO|   199|    85| 17| 03|1987|                 0.0|\n",
            "|Argentina| GK|     GUZMAN Nahuel|10.02.1986|    GUZMÁN|   192|    90| 10| 02|1986|0.045454545454545456|\n",
            "|Argentina| DF|       ROJO Marcos|20.03.1990|      ROJO|   189|    82| 20| 03|1990| 0.09090909090909091|\n",
            "|Argentina| GK|     ARMANI Franco|16.10.1986|    ARMANI|   189|    85| 16| 10|1986| 0.09090909090909091|\n",
            "|Argentina| GK|CABALLERO Wilfredo|28.09.1981| CABALLERO|   186|    80| 28| 09|1981| 0.18181818181818182|\n",
            "|Argentina| FW|   HIGUAIN Gonzalo|10.12.1987|   HIGUAÍN|   184|    75| 10| 12|1987| 0.22727272727272727|\n",
            "|Argentina| DF|  ANSALDI Cristian|20.09.1986|   ANSALDI|   181|    73| 20| 09|1986|  0.2727272727272727|\n",
            "|Argentina| DF|   MERCADO Gabriel|18.03.1987|   MERCADO|   181|    81| 18| 03|1987|  0.2727272727272727|\n",
            "|Argentina| DF|  OTAMENDI Nicolas|12.02.1988|  OTAMENDI|   181|    81| 12| 02|1988|  0.2727272727272727|\n",
            "|Argentina| MF|  MEZA Maximiliano|15.12.1992|      MEZA|   180|    76| 15| 12|1992|  0.4090909090909091|\n",
            "+---------+---+------------------+----------+----------+------+------+---+---+----+--------------------+\n",
            "only showing top 10 rows\n",
            "\n",
            "time: 605 ms (started: 2023-09-21 13:38:27 +00:00)\n"
          ]
        }
      ]
    },
    {
      "cell_type": "markdown",
      "source": [
        "ntile(): Divide cada partição em uma quantidade n de quartiles. Cada quartile recebe um valor único. Caso uma partição não seja divisível por n o aloritmo ajustará a quantidade de instâncias de dados pertencentes aos últimos quartiles de modo que a partição tenha n quartiles. Por exemplo, na seleção da Argentina, quando n=5, o penúltimo quartil tem 4 instâncias para poder formar mais um, o último quartil que terá apenas uma instância."
      ],
      "metadata": {
        "id": "3gT5llGdqJBp"
      }
    },
    {
      "cell_type": "code",
      "source": [
        "prt = Window.partitionBy('team').orderBy(desc('height'))\n",
        "df.withColumn('ntile', ntile(5).over(prt)).show(20)"
      ],
      "metadata": {
        "colab": {
          "base_uri": "https://localhost:8080/"
        },
        "id": "AogJ91m3qLUO",
        "outputId": "c6c8fb42-8f8c-495f-96b5-a62288ae4d7e"
      },
      "execution_count": 44,
      "outputs": [
        {
          "output_type": "stream",
          "name": "stdout",
          "text": [
            "+---------+---+------------------+----------+----------+------+------+---+---+----+-----+\n",
            "|     team|pos| fifa popular name|birth date|shirt name|height|weight|dia|mes| ano|ntile|\n",
            "+---------+---+------------------+----------+----------+------+------+---+---+----+-----+\n",
            "|Argentina| DF|    FAZIO Federico|17.03.1987|     FAZIO|   199|    85| 17| 03|1987|    1|\n",
            "|Argentina| GK|     GUZMAN Nahuel|10.02.1986|    GUZMÁN|   192|    90| 10| 02|1986|    1|\n",
            "|Argentina| DF|       ROJO Marcos|20.03.1990|      ROJO|   189|    82| 20| 03|1990|    1|\n",
            "|Argentina| GK|     ARMANI Franco|16.10.1986|    ARMANI|   189|    85| 16| 10|1986|    1|\n",
            "|Argentina| GK|CABALLERO Wilfredo|28.09.1981| CABALLERO|   186|    80| 28| 09|1981|    1|\n",
            "|Argentina| FW|   HIGUAIN Gonzalo|10.12.1987|   HIGUAÍN|   184|    75| 10| 12|1987|    2|\n",
            "|Argentina| DF|  ANSALDI Cristian|20.09.1986|   ANSALDI|   181|    73| 20| 09|1986|    2|\n",
            "|Argentina| DF|   MERCADO Gabriel|18.03.1987|   MERCADO|   181|    81| 18| 03|1987|    2|\n",
            "|Argentina| DF|  OTAMENDI Nicolas|12.02.1988|  OTAMENDI|   181|    81| 12| 02|1988|    2|\n",
            "|Argentina| MF|  MEZA Maximiliano|15.12.1992|      MEZA|   180|    76| 15| 12|1992|    2|\n",
            "|Argentina| MF|    DI MARIA Angel|14.02.1988|  DI MARÍA|   178|    75| 14| 02|1988|    3|\n",
            "|Argentina| FW|      DYBALA Paulo|15.11.1993|    DYBALA|   177|    73| 15| 11|1993|    3|\n",
            "|Argentina| MF|  LO CELSO Giovani|09.04.1996|  LO CELSO|   177|    75| 09| 04|1996|    3|\n",
            "|Argentina| MF|      BIGLIA Lucas|30.01.1986|    BIGLIA|   175|    73| 30| 01|1986|    3|\n",
            "|Argentina| MF|       BANEGA Ever|29.06.1988|    BANEGA|   175|    73| 29| 06|1988|    3|\n",
            "|Argentina| DF| MASCHERANO Javier|08.06.1984|MASCHERANO|   174|    73| 08| 06|1984|    4|\n",
            "|Argentina| FW|     AGUERO Sergio|02.06.1988|    AGÜERO|   172|    74| 02| 06|1988|    4|\n",
            "|Argentina| DF|      ACUNA Marcos|28.10.1991|     ACUÑA|   172|    77| 28| 10|1991|    4|\n",
            "|Argentina| FW|      MESSI Lionel|24.06.1987|     MESSI|   170|    72| 24| 06|1987|    4|\n",
            "|Argentina| DF|TAGLIAFICO Nicolas|31.08.1992|TAGLIAFICO|   169|    65| 31| 08|1992|    5|\n",
            "+---------+---+------------------+----------+----------+------+------+---+---+----+-----+\n",
            "only showing top 20 rows\n",
            "\n",
            "time: 776 ms (started: 2023-09-21 13:38:27 +00:00)\n"
          ]
        }
      ]
    },
    {
      "cell_type": "markdown",
      "source": [
        "Lag function: O mesmo tipo de lag usado em séries temporais."
      ],
      "metadata": {
        "id": "Ny2ulye1ZyTQ"
      }
    },
    {
      "cell_type": "code",
      "source": [
        "prt = Window.partitionBy('team').orderBy(desc('height'))\n",
        "df.withColumn('lag', lag('weight', offset=2).over(prt)).show(10)"
      ],
      "metadata": {
        "colab": {
          "base_uri": "https://localhost:8080/"
        },
        "id": "wEXKjuj4Z6oK",
        "outputId": "c22130a0-3089-4f59-a5fc-99443ef6aad2"
      },
      "execution_count": 45,
      "outputs": [
        {
          "output_type": "stream",
          "name": "stdout",
          "text": [
            "+---------+---+------------------+----------+----------+------+------+---+---+----+----+\n",
            "|     team|pos| fifa popular name|birth date|shirt name|height|weight|dia|mes| ano| lag|\n",
            "+---------+---+------------------+----------+----------+------+------+---+---+----+----+\n",
            "|Argentina| DF|    FAZIO Federico|17.03.1987|     FAZIO|   199|    85| 17| 03|1987|null|\n",
            "|Argentina| GK|     GUZMAN Nahuel|10.02.1986|    GUZMÁN|   192|    90| 10| 02|1986|null|\n",
            "|Argentina| DF|       ROJO Marcos|20.03.1990|      ROJO|   189|    82| 20| 03|1990|  85|\n",
            "|Argentina| GK|     ARMANI Franco|16.10.1986|    ARMANI|   189|    85| 16| 10|1986|  90|\n",
            "|Argentina| GK|CABALLERO Wilfredo|28.09.1981| CABALLERO|   186|    80| 28| 09|1981|  82|\n",
            "|Argentina| FW|   HIGUAIN Gonzalo|10.12.1987|   HIGUAÍN|   184|    75| 10| 12|1987|  85|\n",
            "|Argentina| DF|  ANSALDI Cristian|20.09.1986|   ANSALDI|   181|    73| 20| 09|1986|  80|\n",
            "|Argentina| DF|   MERCADO Gabriel|18.03.1987|   MERCADO|   181|    81| 18| 03|1987|  75|\n",
            "|Argentina| DF|  OTAMENDI Nicolas|12.02.1988|  OTAMENDI|   181|    81| 12| 02|1988|  73|\n",
            "|Argentina| MF|  MEZA Maximiliano|15.12.1992|      MEZA|   180|    76| 15| 12|1992|  81|\n",
            "+---------+---+------------------+----------+----------+------+------+---+---+----+----+\n",
            "only showing top 10 rows\n",
            "\n",
            "time: 720 ms (started: 2023-09-21 13:38:28 +00:00)\n"
          ]
        }
      ]
    },
    {
      "cell_type": "markdown",
      "source": [
        "Forward function: O mesmo tipo de forward usado em séries temporais."
      ],
      "metadata": {
        "id": "LYWzAMl4bwRD"
      }
    },
    {
      "cell_type": "code",
      "source": [
        "prt = Window.partitionBy('team').orderBy(desc('height'))\n",
        "df.withColumn('lead', lead('weight', offset=1).over(prt)).show(10)"
      ],
      "metadata": {
        "colab": {
          "base_uri": "https://localhost:8080/"
        },
        "id": "3nEw-WhJch8s",
        "outputId": "ba6f8ae9-c661-4818-db06-2dcb176ba1c8"
      },
      "execution_count": 46,
      "outputs": [
        {
          "output_type": "stream",
          "name": "stdout",
          "text": [
            "+---------+---+------------------+----------+----------+------+------+---+---+----+----+\n",
            "|     team|pos| fifa popular name|birth date|shirt name|height|weight|dia|mes| ano|lead|\n",
            "+---------+---+------------------+----------+----------+------+------+---+---+----+----+\n",
            "|Argentina| DF|    FAZIO Federico|17.03.1987|     FAZIO|   199|    85| 17| 03|1987|  90|\n",
            "|Argentina| GK|     GUZMAN Nahuel|10.02.1986|    GUZMÁN|   192|    90| 10| 02|1986|  82|\n",
            "|Argentina| DF|       ROJO Marcos|20.03.1990|      ROJO|   189|    82| 20| 03|1990|  85|\n",
            "|Argentina| GK|     ARMANI Franco|16.10.1986|    ARMANI|   189|    85| 16| 10|1986|  80|\n",
            "|Argentina| GK|CABALLERO Wilfredo|28.09.1981| CABALLERO|   186|    80| 28| 09|1981|  75|\n",
            "|Argentina| FW|   HIGUAIN Gonzalo|10.12.1987|   HIGUAÍN|   184|    75| 10| 12|1987|  73|\n",
            "|Argentina| DF|  ANSALDI Cristian|20.09.1986|   ANSALDI|   181|    73| 20| 09|1986|  81|\n",
            "|Argentina| DF|   MERCADO Gabriel|18.03.1987|   MERCADO|   181|    81| 18| 03|1987|  81|\n",
            "|Argentina| DF|  OTAMENDI Nicolas|12.02.1988|  OTAMENDI|   181|    81| 12| 02|1988|  76|\n",
            "|Argentina| MF|  MEZA Maximiliano|15.12.1992|      MEZA|   180|    76| 15| 12|1992|  75|\n",
            "+---------+---+------------------+----------+----------+------+------+---+---+----+----+\n",
            "only showing top 10 rows\n",
            "\n",
            "time: 662 ms (started: 2023-09-21 13:38:29 +00:00)\n"
          ]
        }
      ]
    },
    {
      "cell_type": "markdown",
      "source": [
        "# Instrução: DISTINCT"
      ],
      "metadata": {
        "id": "vZpMzJ4ZXRqc"
      }
    },
    {
      "cell_type": "code",
      "source": [
        "df.select('team').distinct().show(5)"
      ],
      "metadata": {
        "colab": {
          "base_uri": "https://localhost:8080/"
        },
        "id": "T_WNnqDhYA9g",
        "outputId": "26bc151f-cd64-45d8-95b6-9ad47ff1f5dd"
      },
      "execution_count": 47,
      "outputs": [
        {
          "output_type": "stream",
          "name": "stdout",
          "text": [
            "+-------+\n",
            "|   team|\n",
            "+-------+\n",
            "| Russia|\n",
            "|Senegal|\n",
            "| Sweden|\n",
            "|IR Iran|\n",
            "|Germany|\n",
            "+-------+\n",
            "only showing top 5 rows\n",
            "\n",
            "time: 350 ms (started: 2023-09-21 13:38:29 +00:00)\n"
          ]
        }
      ]
    },
    {
      "cell_type": "markdown",
      "source": [
        "Número de valores únicos em um atributo."
      ],
      "metadata": {
        "id": "tr8eG_7id82w"
      }
    },
    {
      "cell_type": "code",
      "source": [
        "nunique = df.select('team').distinct().count()\n",
        "print(f'unique values: {nunique}')"
      ],
      "metadata": {
        "colab": {
          "base_uri": "https://localhost:8080/"
        },
        "id": "kJegd3TQdywi",
        "outputId": "d76d7898-d301-490c-8c98-f71a8ec708e0"
      },
      "execution_count": 48,
      "outputs": [
        {
          "output_type": "stream",
          "name": "stdout",
          "text": [
            "unique values: 32\n",
            "time: 402 ms (started: 2023-09-21 13:38:30 +00:00)\n"
          ]
        }
      ]
    },
    {
      "cell_type": "markdown",
      "source": [
        "# Instrução: COLLECT\n",
        "Salva o resultado de uma consulta em uma lista."
      ],
      "metadata": {
        "id": "wzQzR6ptKUI_"
      }
    },
    {
      "cell_type": "code",
      "source": [
        "df.select('team').distinct().collect()"
      ],
      "metadata": {
        "colab": {
          "base_uri": "https://localhost:8080/"
        },
        "id": "mg39pyerKbkm",
        "outputId": "e3d81d1b-e882-4ed0-bcd7-11da5494fdb0"
      },
      "execution_count": 49,
      "outputs": [
        {
          "output_type": "execute_result",
          "data": {
            "text/plain": [
              "[Row(team='Russia'),\n",
              " Row(team='Senegal'),\n",
              " Row(team='Sweden'),\n",
              " Row(team='IR Iran'),\n",
              " Row(team='Germany'),\n",
              " Row(team='France'),\n",
              " Row(team='Argentina'),\n",
              " Row(team='Belgium'),\n",
              " Row(team='Peru'),\n",
              " Row(team='Croatia'),\n",
              " Row(team='Nigeria'),\n",
              " Row(team='Korea Republic'),\n",
              " Row(team='Spain'),\n",
              " Row(team='Denmark'),\n",
              " Row(team='Morocco'),\n",
              " Row(team='Panama'),\n",
              " Row(team='Iceland'),\n",
              " Row(team='Uruguay'),\n",
              " Row(team='Mexico'),\n",
              " Row(team='Tunisia'),\n",
              " Row(team='Saudi Arabia'),\n",
              " Row(team='Switzerland'),\n",
              " Row(team='Brazil'),\n",
              " Row(team='Japan'),\n",
              " Row(team='England'),\n",
              " Row(team='Poland'),\n",
              " Row(team='Portugal'),\n",
              " Row(team='Australia'),\n",
              " Row(team='Costa Rica'),\n",
              " Row(team='Egypt'),\n",
              " Row(team='Serbia'),\n",
              " Row(team='Colombia')]"
            ]
          },
          "metadata": {},
          "execution_count": 49
        },
        {
          "output_type": "stream",
          "name": "stdout",
          "text": [
            "time: 371 ms (started: 2023-09-21 13:38:30 +00:00)\n"
          ]
        }
      ]
    },
    {
      "cell_type": "markdown",
      "source": [
        "O resultado anterior é uma lista de objetos Row. Caso seja necessário apenas o nome do país podemos usar o código abaixo."
      ],
      "metadata": {
        "id": "LQG8pGwOL7Fy"
      }
    },
    {
      "cell_type": "code",
      "source": [
        "result = df.select('team').distinct().collect()\n",
        "countries = [row[0] for row in result]\n",
        "print(countries)"
      ],
      "metadata": {
        "colab": {
          "base_uri": "https://localhost:8080/"
        },
        "id": "QW0n2kMLLGmZ",
        "outputId": "9a84c781-fe1c-4985-e97a-73b67d5a2418"
      },
      "execution_count": 50,
      "outputs": [
        {
          "output_type": "stream",
          "name": "stdout",
          "text": [
            "['Russia', 'Senegal', 'Sweden', 'IR Iran', 'Germany', 'France', 'Argentina', 'Belgium', 'Peru', 'Croatia', 'Nigeria', 'Korea Republic', 'Spain', 'Denmark', 'Morocco', 'Panama', 'Iceland', 'Uruguay', 'Mexico', 'Tunisia', 'Saudi Arabia', 'Switzerland', 'Brazil', 'Japan', 'England', 'Poland', 'Portugal', 'Australia', 'Costa Rica', 'Egypt', 'Serbia', 'Colombia']\n",
            "time: 308 ms (started: 2023-09-21 13:38:31 +00:00)\n"
          ]
        }
      ]
    },
    {
      "cell_type": "markdown",
      "source": [
        "# When/Otherwise\n",
        "É o if/else do PySpark."
      ],
      "metadata": {
        "id": "7ohWUXZSMxrA"
      }
    },
    {
      "cell_type": "code",
      "source": [
        "val = when(condition=(col('team') == 'Argentina'), value='Argentinos').otherwise(value='Normais')\n",
        "df.withColumn('new_col', val).show()"
      ],
      "metadata": {
        "colab": {
          "base_uri": "https://localhost:8080/"
        },
        "id": "N1DMTNNXNLeW",
        "outputId": "3c7f4f56-cbe9-4b8d-f3c1-c77f5f56be46"
      },
      "execution_count": 51,
      "outputs": [
        {
          "output_type": "stream",
          "name": "stdout",
          "text": [
            "+---------+---+------------------+----------+----------+------+------+---+---+----+----------+\n",
            "|     team|pos| fifa popular name|birth date|shirt name|height|weight|dia|mes| ano|   new_col|\n",
            "+---------+---+------------------+----------+----------+------+------+---+---+----+----------+\n",
            "|Argentina| DF|TAGLIAFICO Nicolas|31.08.1992|TAGLIAFICO|   169|    65| 31| 08|1992|Argentinos|\n",
            "|Argentina| MF|    PAVON Cristian|21.01.1996|     PAVÓN|   169|    65| 21| 01|1996|Argentinos|\n",
            "|Argentina| MF|    LANZINI Manuel|15.02.1993|   LANZINI|   167|    66| 15| 02|1993|Argentinos|\n",
            "|Argentina| DF|    SALVIO Eduardo|13.07.1990|    SALVIO|   167|    69| 13| 07|1990|Argentinos|\n",
            "|Argentina| FW|      MESSI Lionel|24.06.1987|     MESSI|   170|    72| 24| 06|1987|Argentinos|\n",
            "|Argentina| DF|  ANSALDI Cristian|20.09.1986|   ANSALDI|   181|    73| 20| 09|1986|Argentinos|\n",
            "|Argentina| MF|      BIGLIA Lucas|30.01.1986|    BIGLIA|   175|    73| 30| 01|1986|Argentinos|\n",
            "|Argentina| MF|       BANEGA Ever|29.06.1988|    BANEGA|   175|    73| 29| 06|1988|Argentinos|\n",
            "|Argentina| DF| MASCHERANO Javier|08.06.1984|MASCHERANO|   174|    73| 08| 06|1984|Argentinos|\n",
            "|Argentina| FW|      DYBALA Paulo|15.11.1993|    DYBALA|   177|    73| 15| 11|1993|Argentinos|\n",
            "|Argentina| FW|     AGUERO Sergio|02.06.1988|    AGÜERO|   172|    74| 02| 06|1988|Argentinos|\n",
            "|Argentina| FW|   HIGUAIN Gonzalo|10.12.1987|   HIGUAÍN|   184|    75| 10| 12|1987|Argentinos|\n",
            "|Argentina| MF|    DI MARIA Angel|14.02.1988|  DI MARÍA|   178|    75| 14| 02|1988|Argentinos|\n",
            "|Argentina| MF|  LO CELSO Giovani|09.04.1996|  LO CELSO|   177|    75| 09| 04|1996|Argentinos|\n",
            "|Argentina| MF|  MEZA Maximiliano|15.12.1992|      MEZA|   180|    76| 15| 12|1992|Argentinos|\n",
            "|Argentina| DF|      ACUNA Marcos|28.10.1991|     ACUÑA|   172|    77| 28| 10|1991|Argentinos|\n",
            "|Argentina| GK|CABALLERO Wilfredo|28.09.1981| CABALLERO|   186|    80| 28| 09|1981|Argentinos|\n",
            "|Argentina| DF|   MERCADO Gabriel|18.03.1987|   MERCADO|   181|    81| 18| 03|1987|Argentinos|\n",
            "|Argentina| DF|  OTAMENDI Nicolas|12.02.1988|  OTAMENDI|   181|    81| 12| 02|1988|Argentinos|\n",
            "|Argentina| DF|       ROJO Marcos|20.03.1990|      ROJO|   189|    82| 20| 03|1990|Argentinos|\n",
            "+---------+---+------------------+----------+----------+------+------+---+---+----+----------+\n",
            "only showing top 20 rows\n",
            "\n",
            "time: 595 ms (started: 2023-09-21 13:38:31 +00:00)\n"
          ]
        }
      ]
    },
    {
      "cell_type": "code",
      "source": [
        "africa = ['Senegal', 'Morocco', 'Tunisia', 'Egypt']\n",
        "america_norte = ['Panama', 'Mexico', 'Costa Rica']\n",
        "america_sul = ['Argentina', 'Peru', 'Uruguay', 'Brazil', 'Colombia']\n",
        "asia = ['Russia', 'IR Iran', 'Nigeria', 'Korea Republic', 'Saudi Arabia', 'Japan', ]\n",
        "europa = ['Sweden', 'Germany', 'France', 'Belgium', 'Croatia', 'Spain', 'Denmark', 'Iceland', 'Switzerland', 'England', 'Poland', 'Portugal', 'Serbia']\n",
        "oceania = ['Australia']\n",
        "\n",
        "val = when(condition=(col('team').isin(africa)), value=('europeu'))\\\n",
        "      .when(condition=(col('team').isin(america_norte)), value=('n_americano'))\\\n",
        "      .when(condition=(col('team').isin(america_sul)), value=('s_americano'))\\\n",
        "      .when(condition=(col('team').isin(asia)), value=('asiatico'))\\\n",
        "      .when(condition=(col('team').isin(europa)), value=('europeu'))\\\n",
        "      .when(condition=(col('team').isin(oceania)), value=('oceanicos'))\\\n",
        "      .otherwise('desconhecidos')\n",
        "\n",
        "df.withColumn('new_col', val).sample(fraction=0.01).show(5)"
      ],
      "metadata": {
        "colab": {
          "base_uri": "https://localhost:8080/"
        },
        "id": "jCJTDkgVP4a1",
        "outputId": "d2b27e90-dc0c-4397-d47e-78821c0993a6"
      },
      "execution_count": 52,
      "outputs": [
        {
          "output_type": "stream",
          "name": "stdout",
          "text": [
            "+---------+---+-------------------+----------+------------+------+------+---+---+----+-----------+\n",
            "|     team|pos|  fifa popular name|birth date|  shirt name|height|weight|dia|mes| ano|    new_col|\n",
            "+---------+---+-------------------+----------+------------+------+------+---+---+----+-----------+\n",
            "|Australia| DF|        BEHICH Aziz|16.12.1990|      BEHICH|   170|    63| 16| 12|1990|  oceanicos|\n",
            "|    Japan| FW|     MUTO Yoshinori|15.07.1992|        MUTO|   179|    72| 15| 07|1992|   asiatico|\n",
            "|   Panama| MF|RODRIGUEZ Jose Luis|19.06.1998|J. RODRIGUEZ|   180|    77| 19| 06|1998|n_americano|\n",
            "|  Senegal| FW|      KONATE Moussa|03.04.1993|      KONATE|   180|    78| 03| 04|1993|    europeu|\n",
            "|   Serbia| FW|         JOVIC Luka|23.12.1997|       JOVIĆ|   181|    75| 23| 12|1997|    europeu|\n",
            "+---------+---+-------------------+----------+------------+------+------+---+---+----+-----------+\n",
            "only showing top 5 rows\n",
            "\n",
            "time: 528 ms (started: 2023-09-21 13:38:31 +00:00)\n"
          ]
        }
      ]
    },
    {
      "cell_type": "markdown",
      "source": [
        "# Instrução: UNION\n",
        "\n",
        "A função union() verifica unicamente a quantidade colunas que os dataframes envolvidos possuem. Caso eles tenham a mesma quantidade a função concatenará um embaixo do outro. Ou seja, considerando um dataframe df_x e outro df_y, ela concatenará a primeira coluna de df_x com a primeira coluna de df_y, a segunda de df_x com a segunda de df_y, e assim por diante. Portanto, union() não verifica os tipos de dados nem os nomes das colunas. Para que o resultado faça sentido o programador deve fazer essas verificações."
      ],
      "metadata": {
        "id": "9ztKmZ_MTm81"
      }
    },
    {
      "cell_type": "markdown",
      "source": [
        "Vou criar dois dataframes com países americanos e concatená-los formando apenas um. Mas primeiro, preciso criar um novo atributo com os continentes os quais cada país pertence."
      ],
      "metadata": {
        "id": "byrDqYZ4XT2g"
      }
    },
    {
      "cell_type": "code",
      "source": [
        "df = df.withColumn('continent', val)\n",
        "df.sample(fraction=0.01).show(5)"
      ],
      "metadata": {
        "colab": {
          "base_uri": "https://localhost:8080/"
        },
        "id": "EQizwA7LUT5X",
        "outputId": "e96ab888-f6e2-4085-c6e7-be6bf188dd50"
      },
      "execution_count": 53,
      "outputs": [
        {
          "output_type": "stream",
          "name": "stdout",
          "text": [
            "+-------+---+-----------------+----------+------------+------+------+---+---+----+-----------+\n",
            "|   team|pos|fifa popular name|birth date|  shirt name|height|weight|dia|mes| ano|  continent|\n",
            "+-------+---+-----------------+----------+------------+------+------+---+---+----+-----------+\n",
            "|Croatia| GK|    KALINIC Lovre|03.04.1990|  L. KALINIĆ|   201|    96| 03| 04|1990|    europeu|\n",
            "|Germany| DF|     SUELE Niklas|03.09.1995|        SÜLE|   195|    89| 03| 09|1995|    europeu|\n",
            "|Germany| DF|   BOATENG Jerome|03.09.1988|     BOATENG|   192|    90| 03| 09|1988|    europeu|\n",
            "|IR Iran| MF|  EZATOLAHI Saeid|01.10.1996|S. EZATOLAHI|   190|    82| 01| 10|1996|   asiatico|\n",
            "| Panama| DF|      OVALLE Luis|07.09.1988|      OVALLE|   178|    75| 07| 09|1988|n_americano|\n",
            "+-------+---+-----------------+----------+------------+------+------+---+---+----+-----------+\n",
            "only showing top 5 rows\n",
            "\n",
            "time: 526 ms (started: 2023-09-21 13:38:32 +00:00)\n"
          ]
        }
      ]
    },
    {
      "cell_type": "markdown",
      "source": [
        "Agora, vou criar um dataframe com os países da América do Sul e outro com os da América do Norte."
      ],
      "metadata": {
        "id": "zcwLZ35eVtyp"
      }
    },
    {
      "cell_type": "code",
      "source": [
        "s_america = df.where(\"continent = 's_americano'\")\n",
        "n_america = df.where(\"continent = 'n_americano'\")\n",
        "\n",
        "df_america = s_america.union(n_america)"
      ],
      "metadata": {
        "colab": {
          "base_uri": "https://localhost:8080/"
        },
        "id": "tiEqtENzVywM",
        "outputId": "0fd2bba1-6a8d-4c3a-af31-be3c50444fb5"
      },
      "execution_count": 54,
      "outputs": [
        {
          "output_type": "stream",
          "name": "stdout",
          "text": [
            "time: 208 ms (started: 2023-09-21 13:38:33 +00:00)\n"
          ]
        }
      ]
    },
    {
      "cell_type": "code",
      "source": [
        "print(s_america.count())\n",
        "print(n_america.count())\n",
        "print(df_america.count())\n",
        "df_america.sample(fraction=0.04).show(15)"
      ],
      "metadata": {
        "colab": {
          "base_uri": "https://localhost:8080/"
        },
        "id": "DqIxc8_-X9bl",
        "outputId": "30f3941e-9a33-46a4-b99e-35087c130df1"
      },
      "execution_count": 55,
      "outputs": [
        {
          "output_type": "stream",
          "name": "stdout",
          "text": [
            "115\n",
            "69\n",
            "184\n",
            "+----------+---+-----------------+----------+----------+------+------+---+---+----+-----------+\n",
            "|      team|pos|fifa popular name|birth date|shirt name|height|weight|dia|mes| ano|  continent|\n",
            "+----------+---+-----------------+----------+----------+------+------+---+---+----+-----------+\n",
            "| Argentina| FW|  HIGUAIN Gonzalo|10.12.1987|   HIGUAÍN|   184|    75| 10| 12|1987|s_americano|\n",
            "|      Peru| DF|       CORZO Aldo|20.05.1989|     CORZO|   172|    75| 20| 05|1989|s_americano|\n",
            "|Costa Rica| DF|   WASTON Kendall|01.01.1988| K. WASTON|   196|    87| 01| 01|1988|n_americano|\n",
            "|    Mexico| FW|      VELA Carlos|01.03.1989|  CARLOS V|   178|    78| 01| 03|1989|n_americano|\n",
            "+----------+---+-----------------+----------+----------+------+------+---+---+----+-----------+\n",
            "\n",
            "time: 2.93 s (started: 2023-09-21 13:38:33 +00:00)\n"
          ]
        }
      ]
    },
    {
      "cell_type": "markdown",
      "source": [
        "# JOIN\n",
        "Usarei 4 conjuntos de dados diferentes, mas relacionados tratar desse assunto."
      ],
      "metadata": {
        "id": "w6qh_J7490X-"
      }
    },
    {
      "cell_type": "code",
      "source": [
        "clients  = spark.read.csv(\"/content/drive/MyDrive/datasets/bix-tecnologia/clients.csv\", header=True, inferSchema=True, encoding='utf-8')\n",
        "products = spark.read.csv(\"/content/drive/MyDrive/datasets/bix-tecnologia/products.csv\", header=True, inferSchema=True, encoding='utf-8')\n",
        "sales    = spark.read.csv(\"/content/drive/MyDrive/datasets/bix-tecnologia/sales.csv\", header=True, inferSchema=True, encoding='utf-8')\n",
        "stores   = spark.read.csv(\"/content/drive/MyDrive/datasets/bix-tecnologia/stores.csv\", header=True, inferSchema=True, encoding='utf-8')"
      ],
      "metadata": {
        "colab": {
          "base_uri": "https://localhost:8080/"
        },
        "id": "s7THHqqj92cy",
        "outputId": "c4c7b438-8dbc-4220-e1fb-4b288a64d1fc"
      },
      "execution_count": 73,
      "outputs": [
        {
          "output_type": "stream",
          "name": "stdout",
          "text": [
            "time: 2.71 s (started: 2023-09-21 14:07:20 +00:00)\n"
          ]
        }
      ]
    },
    {
      "cell_type": "markdown",
      "source": [
        "O dataframe \"sales\" está meio bagunçado, então vou precisar fazer alguns ajustes antes de poder usá-lo.\n",
        "*   remover as 4 primeiras linhas\n",
        "*   remover as 2 primeiras colunas e também 'row_number'"
      ],
      "metadata": {
        "id": "WhKUzPYq9_ci"
      }
    },
    {
      "cell_type": "code",
      "source": [
        "sales = sales.withColumn('row_number', monotonically_increasing_id())\n",
        "sales = sales.where(\"row_number > 3\")\n",
        "sales = sales.drop('_c0', '_c1', 'row_number')"
      ],
      "metadata": {
        "colab": {
          "base_uri": "https://localhost:8080/"
        },
        "id": "BT269dbk90RA",
        "outputId": "9fc9fcdc-ac86-4ed2-e89d-0040f7ffa32a"
      },
      "execution_count": 74,
      "outputs": [
        {
          "output_type": "stream",
          "name": "stdout",
          "text": [
            "time: 47.4 ms (started: 2023-09-21 14:07:26 +00:00)\n"
          ]
        }
      ]
    },
    {
      "cell_type": "markdown",
      "source": [
        "Agora, vou renomar todas as colunas de todos os dataframes para ficar mais fácil a codificação."
      ],
      "metadata": {
        "id": "4QLOASt_D9Sj"
      }
    },
    {
      "cell_type": "code",
      "source": [
        "def rename_cols(df, names):\n",
        "  for column, name in zip(df.columns, names):\n",
        "    df = df.withColumnRenamed(column, name)\n",
        "  return df\n",
        "\n",
        "\n",
        "\n",
        "cols_clients  = ['client_id','client_city', 'client_state', 'client_birth', 'client_gender']\n",
        "cols_products = ['product_id', 'product_name', 'product_size']\n",
        "cols_sales    = ['id', 'product_id', 'client_id', 'discount', 'unit_price', 'quantity', 'store_id', 'date']\n",
        "cols_stores   = ['store_id', 'store_city', 'store_state']\n",
        "\n",
        "clients  = rename_cols(clients, cols_clients)\n",
        "products = rename_cols(products, cols_products)\n",
        "sales    = rename_cols(sales, cols_sales)\n",
        "stores   = rename_cols(stores, cols_stores)"
      ],
      "metadata": {
        "id": "RapXyqp2BVuv",
        "colab": {
          "base_uri": "https://localhost:8080/"
        },
        "outputId": "98d6973e-d6a3-4e5b-cf11-08601f30e67a"
      },
      "execution_count": 83,
      "outputs": [
        {
          "output_type": "stream",
          "name": "stdout",
          "text": [
            "time: 103 ms (started: 2023-09-21 14:10:32 +00:00)\n"
          ]
        }
      ]
    },
    {
      "cell_type": "code",
      "source": [
        "clients.show(3)\n",
        "products.show(3)\n",
        "sales.show(3)\n",
        "stores.show(3)"
      ],
      "metadata": {
        "colab": {
          "base_uri": "https://localhost:8080/"
        },
        "id": "JvgYpB73AKGh",
        "outputId": "4f00458f-1d6e-418f-9105-6fd56067d77a"
      },
      "execution_count": 85,
      "outputs": [
        {
          "output_type": "stream",
          "name": "stdout",
          "text": [
            "+---------+--------------+------------+------------+-------------+\n",
            "|client_id|   client_city|client_state|client_birth|client_gender|\n",
            "+---------+--------------+------------+------------+-------------+\n",
            "|    14001|      Curitiba|          PR|   6/28/1985|        Homem|\n",
            "|    14002| Florianópolis|          SC|   1/10/1987|        Homem|\n",
            "|    14003|Rio de Janeiro|          RJ|   11/5/1979|        Homem|\n",
            "+---------+--------------+------------+------------+-------------+\n",
            "only showing top 3 rows\n",
            "\n",
            "+--------------------+---------------+------------+\n",
            "|          product_id|   product_name|product_size|\n",
            "+--------------------+---------------+------------+\n",
            "|00066f42aeeb9f300...|Capitão América|           P|\n",
            "|00066f42aeeb9f300...|Capitão América|           M|\n",
            "|00066f42aeeb9f300...|Capitão América|           G|\n",
            "+--------------------+---------------+------------+\n",
            "only showing top 3 rows\n",
            "\n",
            "+--------------------+--------------------+---------+--------+----------+--------+--------+----------+\n",
            "|                  id|          product_id|client_id|discount|unit_price|quantity|store_id|      date|\n",
            "+--------------------+--------------------+---------+--------+----------+--------+--------+----------+\n",
            "|80260d682079b6090...|002552c0663708129...|    14001|    0,08|     249,2|       1|       4|12/10/2018|\n",
            "|3275736da1234f55d...|001b237c0e9bb435f...|    14001|     0,1|     162,4|       1|       4| 4/25/2019|\n",
            "|f3513eec8f1434b5b...|00066f42aeeb9f300...|    14001|     0,1|     194,6|       1|       4| 7/17/2019|\n",
            "+--------------------+--------------------+---------+--------+----------+--------+--------+----------+\n",
            "only showing top 3 rows\n",
            "\n",
            "+--------+--------------+-----------+\n",
            "|store_id|    store_city|store_state|\n",
            "+--------+--------------+-----------+\n",
            "|       1| Florianópolis|         SC|\n",
            "|       2|Rio de Janeiro|         RJ|\n",
            "|       3|  Porto Alegre|         RS|\n",
            "+--------+--------------+-----------+\n",
            "only showing top 3 rows\n",
            "\n",
            "time: 652 ms (started: 2023-09-21 14:11:06 +00:00)\n"
          ]
        }
      ]
    },
    {
      "cell_type": "markdown",
      "source": [
        "## JOIN\n",
        "A condição de igualdade entre chave primária e extrangeira fica implicita utilizando apenas uma string ou lista de strings no parâmetro 'on'. Portanto, o nome da coluna deve ser o mesmo em ambos dataframes."
      ],
      "metadata": {
        "id": "G7Ffmpo6GFFj"
      }
    },
    {
      "cell_type": "code",
      "source": [
        "sales.join(stores, on='store_id').show(5)"
      ],
      "metadata": {
        "colab": {
          "base_uri": "https://localhost:8080/"
        },
        "id": "dGYdKgqCGHy-",
        "outputId": "a78e3f53-4c66-4ab3-965e-702b4374075a"
      },
      "execution_count": 110,
      "outputs": [
        {
          "output_type": "stream",
          "name": "stdout",
          "text": [
            "+--------+--------------------+--------------------+---------+--------+----------+--------+----------+-------------+-----------+\n",
            "|store_id|                  id|          product_id|client_id|discount|unit_price|quantity|      date|   store_city|store_state|\n",
            "+--------+--------------------+--------------------+---------+--------+----------+--------+----------+-------------+-----------+\n",
            "|       4|80260d682079b6090...|002552c0663708129...|    14001|    0,08|     249,2|       1|12/10/2018|     Curitiba|         PR|\n",
            "|       4|3275736da1234f55d...|001b237c0e9bb435f...|    14001|     0,1|     162,4|       1| 4/25/2019|     Curitiba|         PR|\n",
            "|       4|f3513eec8f1434b5b...|00066f42aeeb9f300...|    14001|     0,1|     194,6|       1| 7/17/2019|     Curitiba|         PR|\n",
            "|       1|7180475b60fe6bbbd...|001b72dfd63e9833e...|    14002|     0,1|     201,6|       2| 4/10/2018|Florianópolis|         SC|\n",
            "|       1|76600853a200fe87e...|00210e41887c2a8ef...|    14002|     0,1|       406|       1| 1/21/2019|Florianópolis|         SC|\n",
            "+--------+--------------------+--------------------+---------+--------+----------+--------+----------+-------------+-----------+\n",
            "only showing top 5 rows\n",
            "\n",
            "time: 533 ms (started: 2023-09-21 14:26:44 +00:00)\n"
          ]
        }
      ]
    },
    {
      "cell_type": "markdown",
      "source": [
        "Caso for necessário mais de uma chave primária, podemos usar uma lista de chaves."
      ],
      "metadata": {
        "id": "wd_OPob5Icv-"
      }
    },
    {
      "cell_type": "code",
      "source": [
        "sales.join(stores, on=['store_id']).show(5)"
      ],
      "metadata": {
        "colab": {
          "base_uri": "https://localhost:8080/"
        },
        "id": "Wwunh4v0IP9K",
        "outputId": "6bc2c72f-a1fe-4567-ba00-1e7670ae2c3a"
      },
      "execution_count": 109,
      "outputs": [
        {
          "output_type": "stream",
          "name": "stdout",
          "text": [
            "+--------+--------------------+--------------------+---------+--------+----------+--------+----------+-------------+-----------+\n",
            "|store_id|                  id|          product_id|client_id|discount|unit_price|quantity|      date|   store_city|store_state|\n",
            "+--------+--------------------+--------------------+---------+--------+----------+--------+----------+-------------+-----------+\n",
            "|       4|80260d682079b6090...|002552c0663708129...|    14001|    0,08|     249,2|       1|12/10/2018|     Curitiba|         PR|\n",
            "|       4|3275736da1234f55d...|001b237c0e9bb435f...|    14001|     0,1|     162,4|       1| 4/25/2019|     Curitiba|         PR|\n",
            "|       4|f3513eec8f1434b5b...|00066f42aeeb9f300...|    14001|     0,1|     194,6|       1| 7/17/2019|     Curitiba|         PR|\n",
            "|       1|7180475b60fe6bbbd...|001b72dfd63e9833e...|    14002|     0,1|     201,6|       2| 4/10/2018|Florianópolis|         SC|\n",
            "|       1|76600853a200fe87e...|00210e41887c2a8ef...|    14002|     0,1|       406|       1| 1/21/2019|Florianópolis|         SC|\n",
            "+--------+--------------------+--------------------+---------+--------+----------+--------+----------+-------------+-----------+\n",
            "only showing top 5 rows\n",
            "\n",
            "time: 302 ms (started: 2023-09-21 14:26:39 +00:00)\n"
          ]
        }
      ]
    },
    {
      "cell_type": "markdown",
      "source": [
        "Podemos definir explicitamente a condição de igualdade com o código abaixo."
      ],
      "metadata": {
        "id": "k-TSdFZOIv-l"
      }
    },
    {
      "cell_type": "code",
      "source": [
        "mask = sales['store_id'] == stores['store_id']\n",
        "sales.join(stores, on=mask).show(5)"
      ],
      "metadata": {
        "colab": {
          "base_uri": "https://localhost:8080/"
        },
        "id": "TEuWdgVyH56h",
        "outputId": "35bc16bf-d902-412f-e4fd-b5ba43d298e9"
      },
      "execution_count": 104,
      "outputs": [
        {
          "output_type": "stream",
          "name": "stdout",
          "text": [
            "+--------------------+--------------------+---------+--------+----------+--------+--------+----------+--------+-------------+-----------+\n",
            "|                  id|          product_id|client_id|discount|unit_price|quantity|store_id|      date|store_id|   store_city|store_state|\n",
            "+--------------------+--------------------+---------+--------+----------+--------+--------+----------+--------+-------------+-----------+\n",
            "|80260d682079b6090...|002552c0663708129...|    14001|    0,08|     249,2|       1|       4|12/10/2018|       4|     Curitiba|         PR|\n",
            "|3275736da1234f55d...|001b237c0e9bb435f...|    14001|     0,1|     162,4|       1|       4| 4/25/2019|       4|     Curitiba|         PR|\n",
            "|f3513eec8f1434b5b...|00066f42aeeb9f300...|    14001|     0,1|     194,6|       1|       4| 7/17/2019|       4|     Curitiba|         PR|\n",
            "|7180475b60fe6bbbd...|001b72dfd63e9833e...|    14002|     0,1|     201,6|       2|       1| 4/10/2018|       1|Florianópolis|         SC|\n",
            "|76600853a200fe87e...|00210e41887c2a8ef...|    14002|     0,1|       406|       1|       1| 1/21/2019|       1|Florianópolis|         SC|\n",
            "+--------------------+--------------------+---------+--------+----------+--------+--------+----------+--------+-------------+-----------+\n",
            "only showing top 5 rows\n",
            "\n",
            "time: 733 ms (started: 2023-09-21 14:23:42 +00:00)\n"
          ]
        }
      ]
    }
  ]
}