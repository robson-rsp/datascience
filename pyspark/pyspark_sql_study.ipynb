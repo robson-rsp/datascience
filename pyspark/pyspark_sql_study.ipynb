{
  "nbformat": 4,
  "nbformat_minor": 0,
  "metadata": {
    "colab": {
      "provenance": [],
      "authorship_tag": "ABX9TyMa91nHwtzw8aa0fvggZaTf"
    },
    "kernelspec": {
      "name": "python3",
      "display_name": "Python 3"
    },
    "language_info": {
      "name": "python"
    }
  },
  "cells": [
    {
      "cell_type": "markdown",
      "source": [
        "# Pyspark SQL\n",
        "\n",
        "Este kernel possui alguns exemplos de código do módulo pyspark.sql.\n",
        "Apresenta exemplos de funções que implementam instruções SQL, como: SELECT, WHERE, GROUP BY, ORDER BY, PARTITION BY, entre outras.\n",
        "\n",
        "\n",
        "São usados seis datasets para os exemplos:\n",
        "1.   Conjunto de dados contendo características e preços de imóveis no estado da Califórnia.\n",
        "2.   Dataset com informações sobre os jogadores que disputaram a Copa do Mundo 2018\n",
        "3.   Quatro conjuntos contendo informações sobre uma rede lojas com clientes e produtos comprados."
      ],
      "metadata": {
        "id": "g1Sxu4CjDZiG"
      }
    },
    {
      "cell_type": "code",
      "execution_count": 1,
      "metadata": {
        "id": "xyfsd2bo5wVP",
        "colab": {
          "base_uri": "https://localhost:8080/"
        },
        "outputId": "e98eb5ce-6d84-4eb7-cf98-b4537f86b454"
      },
      "outputs": [
        {
          "output_type": "stream",
          "name": "stdout",
          "text": [
            "Requirement already satisfied: ipython-autotime in /usr/local/lib/python3.10/dist-packages (0.3.1)\n",
            "Requirement already satisfied: ipython in /usr/local/lib/python3.10/dist-packages (from ipython-autotime) (7.34.0)\n",
            "Requirement already satisfied: setuptools>=18.5 in /usr/local/lib/python3.10/dist-packages (from ipython->ipython-autotime) (67.7.2)\n",
            "Requirement already satisfied: jedi>=0.16 in /usr/local/lib/python3.10/dist-packages (from ipython->ipython-autotime) (0.19.0)\n",
            "Requirement already satisfied: decorator in /usr/local/lib/python3.10/dist-packages (from ipython->ipython-autotime) (4.4.2)\n",
            "Requirement already satisfied: pickleshare in /usr/local/lib/python3.10/dist-packages (from ipython->ipython-autotime) (0.7.5)\n",
            "Requirement already satisfied: traitlets>=4.2 in /usr/local/lib/python3.10/dist-packages (from ipython->ipython-autotime) (5.7.1)\n",
            "Requirement already satisfied: prompt-toolkit!=3.0.0,!=3.0.1,<3.1.0,>=2.0.0 in /usr/local/lib/python3.10/dist-packages (from ipython->ipython-autotime) (3.0.39)\n",
            "Requirement already satisfied: pygments in /usr/local/lib/python3.10/dist-packages (from ipython->ipython-autotime) (2.16.1)\n",
            "Requirement already satisfied: backcall in /usr/local/lib/python3.10/dist-packages (from ipython->ipython-autotime) (0.2.0)\n",
            "Requirement already satisfied: matplotlib-inline in /usr/local/lib/python3.10/dist-packages (from ipython->ipython-autotime) (0.1.6)\n",
            "Requirement already satisfied: pexpect>4.3 in /usr/local/lib/python3.10/dist-packages (from ipython->ipython-autotime) (4.8.0)\n",
            "Requirement already satisfied: parso<0.9.0,>=0.8.3 in /usr/local/lib/python3.10/dist-packages (from jedi>=0.16->ipython->ipython-autotime) (0.8.3)\n",
            "Requirement already satisfied: ptyprocess>=0.5 in /usr/local/lib/python3.10/dist-packages (from pexpect>4.3->ipython->ipython-autotime) (0.7.0)\n",
            "Requirement already satisfied: wcwidth in /usr/local/lib/python3.10/dist-packages (from prompt-toolkit!=3.0.0,!=3.0.1,<3.1.0,>=2.0.0->ipython->ipython-autotime) (0.2.6)\n",
            "Requirement already satisfied: pyspark in /usr/local/lib/python3.10/dist-packages (3.5.0)\n",
            "Requirement already satisfied: py4j==0.10.9.7 in /usr/local/lib/python3.10/dist-packages (from pyspark) (0.10.9.7)\n"
          ]
        }
      ],
      "source": [
        "%pip install ipython-autotime\n",
        "%pip install pyspark"
      ]
    },
    {
      "cell_type": "markdown",
      "source": [
        "Trecho de código opcional que resolve problema de compatibilidade entre a linguagem Python e o PySpark."
      ],
      "metadata": {
        "id": "9U_63vwhpUmt"
      }
    },
    {
      "cell_type": "code",
      "source": [
        "%%script echo 'ignore cell'\n",
        "import os\n",
        "import sys\n",
        "\n",
        "os.environ['PYSPARK_PYTHON'] = sys.executable\n",
        "os.environ['PYSPARK_DRIVER_PYTHON'] = sys.executable"
      ],
      "metadata": {
        "colab": {
          "base_uri": "https://localhost:8080/"
        },
        "id": "Tw7wn82BksRS",
        "outputId": "b523c1ee-fec9-4c1e-b4d1-69add56b3a11"
      },
      "execution_count": 2,
      "outputs": [
        {
          "output_type": "stream",
          "name": "stdout",
          "text": [
            "ignore cell\n"
          ]
        }
      ]
    },
    {
      "cell_type": "markdown",
      "source": [
        "# Imports básicos."
      ],
      "metadata": {
        "id": "zWAHEyAxpgRU"
      }
    },
    {
      "cell_type": "code",
      "source": [
        "from google.colab          import drive, files\n",
        "from pyspark.sql           import SparkSession\n",
        "from pyspark.sql.functions import *\n",
        "from pyspark.sql.types     import *\n",
        "from pyspark.sql.window    import Window\n",
        "\n",
        "%load_ext autotime"
      ],
      "metadata": {
        "id": "LO_fhEZL8qXK",
        "colab": {
          "base_uri": "https://localhost:8080/"
        },
        "outputId": "4cba2863-2869-452a-8104-c256732b7a43"
      },
      "execution_count": 3,
      "outputs": [
        {
          "output_type": "stream",
          "name": "stdout",
          "text": [
            "time: 369 µs (started: 2023-09-27 17:42:00 +00:00)\n"
          ]
        }
      ]
    },
    {
      "cell_type": "markdown",
      "source": [
        "# Início da sessão."
      ],
      "metadata": {
        "id": "aAswoIY9pnoP"
      }
    },
    {
      "cell_type": "code",
      "source": [
        "drive.mount('/content/drive', force_remount=True)\n",
        "spark = SparkSession.builder.master('local').appName('pyspark_app').getOrCreate()\n",
        "spark"
      ],
      "metadata": {
        "colab": {
          "base_uri": "https://localhost:8080/",
          "height": 259
        },
        "id": "Yk5ZIoBYiDu2",
        "outputId": "19a18257-26af-4622-e301-26477a260104"
      },
      "execution_count": 4,
      "outputs": [
        {
          "output_type": "stream",
          "name": "stdout",
          "text": [
            "Mounted at /content/drive\n"
          ]
        },
        {
          "output_type": "execute_result",
          "data": {
            "text/plain": [
              "<pyspark.sql.session.SparkSession at 0x7ce15019de10>"
            ],
            "text/html": [
              "\n",
              "            <div>\n",
              "                <p><b>SparkSession - in-memory</b></p>\n",
              "                \n",
              "        <div>\n",
              "            <p><b>SparkContext</b></p>\n",
              "\n",
              "            <p><a href=\"http://bfb233ce99bd:4040\">Spark UI</a></p>\n",
              "\n",
              "            <dl>\n",
              "              <dt>Version</dt>\n",
              "                <dd><code>v3.5.0</code></dd>\n",
              "              <dt>Master</dt>\n",
              "                <dd><code>local</code></dd>\n",
              "              <dt>AppName</dt>\n",
              "                <dd><code>pyspark_app</code></dd>\n",
              "            </dl>\n",
              "        </div>\n",
              "        \n",
              "            </div>\n",
              "        "
            ]
          },
          "metadata": {},
          "execution_count": 4
        },
        {
          "output_type": "stream",
          "name": "stdout",
          "text": [
            "time: 14.2 s (started: 2023-09-27 17:42:00 +00:00)\n"
          ]
        }
      ]
    },
    {
      "cell_type": "markdown",
      "source": [
        "## Leitura dos arquivos."
      ],
      "metadata": {
        "id": "R9NYpIy3NI9Z"
      }
    },
    {
      "cell_type": "code",
      "source": [
        "houses = spark.read.csv(\"/content/drive/MyDrive/datasets/housing/housing.csv\", header=True, inferSchema=True, encoding='utf-8')\n",
        "houses = houses.drop('housing_median_age', 'population', 'median_income', 'median_house_value') # remoção de atributos desnecessários\n",
        "print(type(houses))\n",
        "print(f'rows: {houses.count()}')\n",
        "print(f'cols: {len(houses.columns)}')\n",
        "houses.show(5)"
      ],
      "metadata": {
        "colab": {
          "base_uri": "https://localhost:8080/"
        },
        "id": "nF-O2mzVmGVX",
        "outputId": "3c6eff75-b755-42bc-d15a-bf6d399f4d73"
      },
      "execution_count": 5,
      "outputs": [
        {
          "output_type": "stream",
          "name": "stdout",
          "text": [
            "<class 'pyspark.sql.dataframe.DataFrame'>\n",
            "rows: 20640\n",
            "cols: 6\n",
            "+---------+--------+-----------+--------------+----------+---------------+\n",
            "|longitude|latitude|total_rooms|total_bedrooms|households|ocean_proximity|\n",
            "+---------+--------+-----------+--------------+----------+---------------+\n",
            "|  -122.23|   37.88|      880.0|         129.0|     126.0|       NEAR BAY|\n",
            "|  -122.22|   37.86|     7099.0|        1106.0|    1138.0|       NEAR BAY|\n",
            "|  -122.24|   37.85|     1467.0|         190.0|     177.0|       NEAR BAY|\n",
            "|  -122.25|   37.85|     1274.0|         235.0|     219.0|       NEAR BAY|\n",
            "|  -122.25|   37.85|     1627.0|         280.0|     259.0|       NEAR BAY|\n",
            "+---------+--------+-----------+--------------+----------+---------------+\n",
            "only showing top 5 rows\n",
            "\n",
            "time: 11.3 s (started: 2023-09-27 17:42:14 +00:00)\n"
          ]
        }
      ]
    },
    {
      "cell_type": "markdown",
      "source": [
        "Abaixo, faço a leitura de um arquivo .csv com as opções definidas através da função option(). Além disso, defino manualmente os tipos de dados de cada coluna.\n",
        "\n",
        "Note que defino \"header=True\" em uma das opções. Caso o conjunto de dados não tivesse cabeçalho e eu tivesse que criá-lo manualmente bastaria definir \"header=False\". Os nomes das colunas seriam os definidos no parâmetro \"name=\" de cada instância de StructField."
      ],
      "metadata": {
        "id": "8geMHjR9n36N"
      }
    },
    {
      "cell_type": "code",
      "source": [
        "customSchema = StructType([StructField(name=\"Team\", dataType=StringType(), nullable=True),\n",
        "                           StructField(name=\"#\", dataType=StringType(), nullable=True),\n",
        "                           StructField(name=\"Pos.\", dataType=StringType(), nullable=True),\n",
        "                           StructField(name=\"FIFA Popular Name\", dataType=StringType(), nullable=True),\n",
        "                           StructField(name=\"Birth Date\", dataType=StringType(), nullable=True),\n",
        "                           StructField(name=\"Shirt Name\", dataType=StringType(), nullable=True),\n",
        "                           StructField(name=\"Club\", dataType=StringType(), nullable=True),\n",
        "                           StructField(name=\"Height\", dataType=IntegerType(), nullable=True),\n",
        "                           StructField(name=\"Weight\", dataType=IntegerType(), nullable=True),])\n",
        "\n",
        "players = spark.read.option(\"inferSchema\", \"False\")\\\n",
        "                    .option(\"header\", \"True\")\\\n",
        "                    .option(\"encoding\", \"utf-8\")\\\n",
        "                    .schema(customSchema)\\\n",
        "                    .csv(\"/content/drive/MyDrive/datasets/wc2018-players.csv\")\n",
        "\n",
        "players = players.drop('#', 'club') # remoção de atributos desnecessários\n",
        "print(type(players))\n",
        "print(f'rows: {players.count()}')\n",
        "print(f'cols: {len(players.columns)}')\n",
        "players.show(5)"
      ],
      "metadata": {
        "colab": {
          "base_uri": "https://localhost:8080/"
        },
        "id": "lSy2yziQLrQ3",
        "outputId": "1aa54608-ffdc-4874-e0c9-6f9ab07a5d97"
      },
      "execution_count": 6,
      "outputs": [
        {
          "output_type": "stream",
          "name": "stdout",
          "text": [
            "<class 'pyspark.sql.dataframe.DataFrame'>\n",
            "rows: 736\n",
            "cols: 7\n",
            "+---------+----+------------------+----------+----------+------+------+\n",
            "|     Team|Pos.| FIFA Popular Name|Birth Date|Shirt Name|Height|Weight|\n",
            "+---------+----+------------------+----------+----------+------+------+\n",
            "|Argentina|  DF|TAGLIAFICO Nicolas|31.08.1992|TAGLIAFICO|   169|    65|\n",
            "|Argentina|  MF|    PAVON Cristian|21.01.1996|     PAVÓN|   169|    65|\n",
            "|Argentina|  MF|    LANZINI Manuel|15.02.1993|   LANZINI|   167|    66|\n",
            "|Argentina|  DF|    SALVIO Eduardo|13.07.1990|    SALVIO|   167|    69|\n",
            "|Argentina|  FW|      MESSI Lionel|24.06.1987|     MESSI|   170|    72|\n",
            "+---------+----+------------------+----------+----------+------+------+\n",
            "only showing top 5 rows\n",
            "\n",
            "time: 1.39 s (started: 2023-09-27 17:42:25 +00:00)\n"
          ]
        }
      ]
    },
    {
      "cell_type": "code",
      "source": [
        "clients  = spark.read.csv(\"/content/drive/MyDrive/datasets/bix-tecnologia/clients.csv\", header=True, inferSchema=True, encoding='utf-8')\n",
        "products = spark.read.csv(\"/content/drive/MyDrive/datasets/bix-tecnologia/products.csv\", header=True, inferSchema=True, encoding='utf-8')\n",
        "sales    = spark.read.csv(\"/content/drive/MyDrive/datasets/bix-tecnologia/sales.csv\", header=True, inferSchema=True, encoding='utf-8')\n",
        "stores   = spark.read.csv(\"/content/drive/MyDrive/datasets/bix-tecnologia/stores.csv\", header=True, inferSchema=True, encoding='utf-8')\n",
        "\n",
        "clients.show(3)\n",
        "products.show(3)\n",
        "stores.show(3)\n",
        "sales.show(6)"
      ],
      "metadata": {
        "id": "g0PkgClQL3cj",
        "colab": {
          "base_uri": "https://localhost:8080/"
        },
        "outputId": "1fd21511-eca9-44ad-fac8-6ffce8e92113"
      },
      "execution_count": 7,
      "outputs": [
        {
          "output_type": "stream",
          "name": "stdout",
          "text": [
            "+-----+--------------+-----+-----------+-----+\n",
            "|   ID|          City|State|DateOfBirth|  Sex|\n",
            "+-----+--------------+-----+-----------+-----+\n",
            "|14001|      Curitiba|   PR|  6/28/1985|Homem|\n",
            "|14002| Florianópolis|   SC|  1/10/1987|Homem|\n",
            "|14003|Rio de Janeiro|   RJ|  11/5/1979|Homem|\n",
            "+-----+--------------+-----+-----------+-----+\n",
            "only showing top 3 rows\n",
            "\n",
            "+--------------------+---------------+----+\n",
            "|                  ID|           Name|Size|\n",
            "+--------------------+---------------+----+\n",
            "|00066f42aeeb9f300...|Capitão América|   P|\n",
            "|00066f42aeeb9f300...|Capitão América|   M|\n",
            "|00066f42aeeb9f300...|Capitão América|   G|\n",
            "+--------------------+---------------+----+\n",
            "only showing top 3 rows\n",
            "\n",
            "+---+--------------+-----+\n",
            "| ID|          Name|State|\n",
            "+---+--------------+-----+\n",
            "|  1| Florianópolis|   SC|\n",
            "|  2|Rio de Janeiro|   RJ|\n",
            "|  3|  Porto Alegre|   RS|\n",
            "+---+--------------+-----+\n",
            "only showing top 3 rows\n",
            "\n",
            "+----+----+--------------------+--------------------+--------+--------+---------+--------+-------+----------+\n",
            "| _c0| _c1|                 _c2|                 _c3|     _c4|     _c5|      _c6|     _c7|    _c8|       _c9|\n",
            "+----+----+--------------------+--------------------+--------+--------+---------+--------+-------+----------+\n",
            "|NULL|NULL|                NULL|                NULL|    NULL|    NULL|     NULL|    NULL|   NULL|      NULL|\n",
            "|NULL|NULL|                NULL|                NULL|    NULL|    NULL|     NULL|    NULL|   NULL|      NULL|\n",
            "|NULL|NULL|                NULL|                NULL|    NULL|    NULL|     NULL|    NULL|   NULL|      NULL|\n",
            "|NULL|NULL|                  ID|           ProductID|ClientID|Discount|UnitPrice|Quantity|StoreID|      Date|\n",
            "|NULL|NULL|80260d682079b6090...|002552c0663708129...|   14001|    0,08|    249,2|       1|      4|12/10/2018|\n",
            "|NULL|NULL|3275736da1234f55d...|001b237c0e9bb435f...|   14001|     0,1|    162,4|       1|      4| 4/25/2019|\n",
            "+----+----+--------------------+--------------------+--------+--------+---------+--------+-------+----------+\n",
            "only showing top 6 rows\n",
            "\n",
            "time: 4.47 s (started: 2023-09-27 17:42:26 +00:00)\n"
          ]
        }
      ]
    },
    {
      "cell_type": "markdown",
      "source": [
        "O dataframe \"sales\" está meio bagunçado, então vou precisar fazer alguns ajustes antes de poder usá-lo.\n",
        "*   remover as 4 primeiras linhas\n",
        "*   remover as 2 primeiras colunas e também 'row_number'"
      ],
      "metadata": {
        "id": "hQxAVEKv4vs7"
      }
    },
    {
      "cell_type": "code",
      "source": [
        "sales = sales.withColumn('row_number', monotonically_increasing_id())\n",
        "sales = sales.where(\"row_number > 3\")\n",
        "sales = sales.drop('_c0', '_c1', 'row_number')"
      ],
      "metadata": {
        "colab": {
          "base_uri": "https://localhost:8080/"
        },
        "id": "H4i-gcsR4vtI",
        "outputId": "d6968090-d5ef-4a64-b63e-3a7a652fe4a7"
      },
      "execution_count": 8,
      "outputs": [
        {
          "output_type": "stream",
          "name": "stdout",
          "text": [
            "time: 260 ms (started: 2023-09-27 17:42:31 +00:00)\n"
          ]
        }
      ]
    },
    {
      "cell_type": "markdown",
      "source": [
        "# Funções descritivas básicas.\n",
        "Vou usar 'houses' como referência no uso das funções abaixo."
      ],
      "metadata": {
        "id": "qSKwsHHsE0c3"
      }
    },
    {
      "cell_type": "code",
      "source": [
        "houses.show(5)"
      ],
      "metadata": {
        "colab": {
          "base_uri": "https://localhost:8080/"
        },
        "id": "waAJ4QLDE3xU",
        "outputId": "e42d25e1-c7ca-4e7d-9971-84323448e32a"
      },
      "execution_count": 9,
      "outputs": [
        {
          "output_type": "stream",
          "name": "stdout",
          "text": [
            "+---------+--------+-----------+--------------+----------+---------------+\n",
            "|longitude|latitude|total_rooms|total_bedrooms|households|ocean_proximity|\n",
            "+---------+--------+-----------+--------------+----------+---------------+\n",
            "|  -122.23|   37.88|      880.0|         129.0|     126.0|       NEAR BAY|\n",
            "|  -122.22|   37.86|     7099.0|        1106.0|    1138.0|       NEAR BAY|\n",
            "|  -122.24|   37.85|     1467.0|         190.0|     177.0|       NEAR BAY|\n",
            "|  -122.25|   37.85|     1274.0|         235.0|     219.0|       NEAR BAY|\n",
            "|  -122.25|   37.85|     1627.0|         280.0|     259.0|       NEAR BAY|\n",
            "+---------+--------+-----------+--------------+----------+---------------+\n",
            "only showing top 5 rows\n",
            "\n",
            "time: 319 ms (started: 2023-09-27 17:42:31 +00:00)\n"
          ]
        }
      ]
    },
    {
      "cell_type": "code",
      "source": [
        "houses.take(5)"
      ],
      "metadata": {
        "colab": {
          "base_uri": "https://localhost:8080/"
        },
        "id": "5kb_yq9zjPYr",
        "outputId": "5aab2e14-0330-4c98-9c1f-ec20183b2678"
      },
      "execution_count": 10,
      "outputs": [
        {
          "output_type": "execute_result",
          "data": {
            "text/plain": [
              "[Row(longitude=-122.23, latitude=37.88, total_rooms=880.0, total_bedrooms=129.0, households=126.0, ocean_proximity='NEAR BAY'),\n",
              " Row(longitude=-122.22, latitude=37.86, total_rooms=7099.0, total_bedrooms=1106.0, households=1138.0, ocean_proximity='NEAR BAY'),\n",
              " Row(longitude=-122.24, latitude=37.85, total_rooms=1467.0, total_bedrooms=190.0, households=177.0, ocean_proximity='NEAR BAY'),\n",
              " Row(longitude=-122.25, latitude=37.85, total_rooms=1274.0, total_bedrooms=235.0, households=219.0, ocean_proximity='NEAR BAY'),\n",
              " Row(longitude=-122.25, latitude=37.85, total_rooms=1627.0, total_bedrooms=280.0, households=259.0, ocean_proximity='NEAR BAY')]"
            ]
          },
          "metadata": {},
          "execution_count": 10
        },
        {
          "output_type": "stream",
          "name": "stdout",
          "text": [
            "time: 354 ms (started: 2023-09-27 17:42:32 +00:00)\n"
          ]
        }
      ]
    },
    {
      "cell_type": "code",
      "source": [
        "print(houses.columns)"
      ],
      "metadata": {
        "colab": {
          "base_uri": "https://localhost:8080/"
        },
        "id": "CCZm02HJsVL5",
        "outputId": "152e265c-b6e0-45d3-9f8f-7820adfaba92"
      },
      "execution_count": 11,
      "outputs": [
        {
          "output_type": "stream",
          "name": "stdout",
          "text": [
            "['longitude', 'latitude', 'total_rooms', 'total_bedrooms', 'households', 'ocean_proximity']\n",
            "time: 426 µs (started: 2023-09-27 17:42:32 +00:00)\n"
          ]
        }
      ]
    },
    {
      "cell_type": "code",
      "source": [
        "houses.printSchema()"
      ],
      "metadata": {
        "colab": {
          "base_uri": "https://localhost:8080/"
        },
        "id": "Tho1zkZth2MN",
        "outputId": "e73c6cf1-d296-4c93-f063-a546cd9a4d9c"
      },
      "execution_count": 12,
      "outputs": [
        {
          "output_type": "stream",
          "name": "stdout",
          "text": [
            "root\n",
            " |-- longitude: double (nullable = true)\n",
            " |-- latitude: double (nullable = true)\n",
            " |-- total_rooms: double (nullable = true)\n",
            " |-- total_bedrooms: double (nullable = true)\n",
            " |-- households: double (nullable = true)\n",
            " |-- ocean_proximity: string (nullable = true)\n",
            "\n",
            "time: 7.37 ms (started: 2023-09-27 17:42:32 +00:00)\n"
          ]
        }
      ]
    },
    {
      "cell_type": "code",
      "source": [
        "stores.describe().show()"
      ],
      "metadata": {
        "colab": {
          "base_uri": "https://localhost:8080/"
        },
        "id": "YU3oj1JxE-os",
        "outputId": "3a050f37-a73e-443f-9337-4ffacc94a098"
      },
      "execution_count": 13,
      "outputs": [
        {
          "output_type": "stream",
          "name": "stdout",
          "text": [
            "+-------+-----------------+--------------+-----+\n",
            "|summary|               ID|          Name|State|\n",
            "+-------+-----------------+--------------+-----+\n",
            "|  count|                7|             7|    7|\n",
            "|   mean|6.857142857142857|          NULL| NULL|\n",
            "| stddev|7.244045173533258|          NULL| NULL|\n",
            "|    min|                1|Belo Horizonte|   MG|\n",
            "|    max|               22|     São Paulo|   na|\n",
            "+-------+-----------------+--------------+-----+\n",
            "\n",
            "time: 2.01 s (started: 2023-09-27 17:42:32 +00:00)\n"
          ]
        }
      ]
    },
    {
      "cell_type": "code",
      "source": [
        "rows = houses.count()\n",
        "cols = len(houses.columns)\n",
        "print(f'shape: {(rows, cols)}')"
      ],
      "metadata": {
        "colab": {
          "base_uri": "https://localhost:8080/"
        },
        "id": "wLAV9JlhJzaV",
        "outputId": "d3f6de79-5f5d-48de-c104-15118db175ff"
      },
      "execution_count": 14,
      "outputs": [
        {
          "output_type": "stream",
          "name": "stdout",
          "text": [
            "shape: (20640, 6)\n",
            "time: 361 ms (started: 2023-09-27 17:42:34 +00:00)\n"
          ]
        }
      ]
    },
    {
      "cell_type": "markdown",
      "source": [
        "# Funções úteis para feature engineering."
      ],
      "metadata": {
        "id": "sOe4mRqMFEPZ"
      }
    },
    {
      "cell_type": "markdown",
      "source": [
        "Criando backup do dataframe"
      ],
      "metadata": {
        "id": "Ue7YT41Bazkf"
      }
    },
    {
      "cell_type": "code",
      "source": [
        "houses_backup = houses"
      ],
      "metadata": {
        "colab": {
          "base_uri": "https://localhost:8080/"
        },
        "id": "H8tTGZECa2Bq",
        "outputId": "e4417f2c-eca3-4483-98df-3a17db910e38"
      },
      "execution_count": 15,
      "outputs": [
        {
          "output_type": "stream",
          "name": "stdout",
          "text": [
            "time: 423 µs (started: 2023-09-27 17:42:34 +00:00)\n"
          ]
        }
      ]
    },
    {
      "cell_type": "markdown",
      "source": [
        "## Atributos"
      ],
      "metadata": {
        "id": "UTA4QbYtunoX"
      }
    },
    {
      "cell_type": "markdown",
      "source": [
        "### Renomeação\n",
        "Transformando todos os nomes de colunas para letras maiúsculas upper(). Poderíamos usar a função lower() caso quisessemos letras minúsculas."
      ],
      "metadata": {
        "id": "2K3cJJC0r4-n"
      }
    },
    {
      "cell_type": "code",
      "source": [
        "upper = [column.upper() for column in houses.columns]\n",
        "for column, up in zip(houses.columns, upper):\n",
        "  houses = houses.withColumnRenamed(column, up)\n",
        "print(houses.columns)"
      ],
      "metadata": {
        "colab": {
          "base_uri": "https://localhost:8080/"
        },
        "id": "FB73DskfupN2",
        "outputId": "cdfaff03-ca0e-4979-ce2e-3e95feb2d8cb"
      },
      "execution_count": 16,
      "outputs": [
        {
          "output_type": "stream",
          "name": "stdout",
          "text": [
            "['LONGITUDE', 'LATITUDE', 'TOTAL_ROOMS', 'TOTAL_BEDROOMS', 'HOUSEHOLDS', 'OCEAN_PROXIMITY']\n",
            "time: 63.4 ms (started: 2023-09-27 17:42:34 +00:00)\n"
          ]
        }
      ]
    },
    {
      "cell_type": "markdown",
      "source": [
        "Uma função de renomeação para se usar nos datasets houses e players."
      ],
      "metadata": {
        "id": "dpT_yQZRxufp"
      }
    },
    {
      "cell_type": "code",
      "source": [
        "def to_lower(dataset):\n",
        "  lower = [name.lower() for name in dataset.columns]\n",
        "  for name, low_name in zip(dataset.columns, lower):\n",
        "    dataset = dataset.withColumnRenamed(name, low_name)\n",
        "  print(lower)\n",
        "  return dataset\n",
        "\n",
        "\n",
        "\n",
        "houses  = to_lower(houses)\n",
        "players = to_lower(players)\n",
        "print(houses.columns)\n",
        "print(players.columns)"
      ],
      "metadata": {
        "colab": {
          "base_uri": "https://localhost:8080/"
        },
        "id": "Zk64PlhI1CD0",
        "outputId": "34e001c9-f8b1-49c1-8c6e-9a0de050140a"
      },
      "execution_count": 17,
      "outputs": [
        {
          "output_type": "stream",
          "name": "stdout",
          "text": [
            "['longitude', 'latitude', 'total_rooms', 'total_bedrooms', 'households', 'ocean_proximity']\n",
            "['team', 'pos.', 'fifa popular name', 'birth date', 'shirt name', 'height', 'weight']\n",
            "['longitude', 'latitude', 'total_rooms', 'total_bedrooms', 'households', 'ocean_proximity']\n",
            "['team', 'pos.', 'fifa popular name', 'birth date', 'shirt name', 'height', 'weight']\n",
            "time: 178 ms (started: 2023-09-27 17:42:34 +00:00)\n"
          ]
        }
      ]
    },
    {
      "cell_type": "markdown",
      "source": [
        "Outra função de renomeação para ser usada nos datasets, clients, products, sales e stores. Vai ficar mais fácil escrever código assim. Não vou precisar me preocupar com letras maiúsculas."
      ],
      "metadata": {
        "id": "Dc5hDUGR20Q3"
      }
    },
    {
      "cell_type": "code",
      "source": [
        "def rename_cols(df, names):\n",
        "  for column, name in zip(df.columns, names):\n",
        "    df = df.withColumnRenamed(column, name)\n",
        "  return df\n",
        "\n",
        "\n",
        "\n",
        "cols_clients  = ['client_id','client_city', 'client_state', 'client_birth', 'client_gender']\n",
        "cols_products = ['product_id', 'product_name', 'product_size']\n",
        "cols_sales    = ['id', 'product_id', 'client_id', 'discount', 'unit_price', 'quantity', 'store_id', 'date']\n",
        "cols_stores   = ['store_id', 'store_city', 'store_state']\n",
        "\n",
        "clients  = rename_cols(clients, cols_clients)\n",
        "products = rename_cols(products, cols_products)\n",
        "sales    = rename_cols(sales, cols_sales)\n",
        "stores   = rename_cols(stores, cols_stores)\n",
        "\n",
        "print(clients.columns)\n",
        "print(products.columns)\n",
        "print(sales.columns)\n",
        "print(stores.columns)"
      ],
      "metadata": {
        "colab": {
          "base_uri": "https://localhost:8080/"
        },
        "id": "wXo9AY5tzptV",
        "outputId": "d41362d3-2741-4173-de00-4e0af6104cfb"
      },
      "execution_count": 18,
      "outputs": [
        {
          "output_type": "stream",
          "name": "stdout",
          "text": [
            "['client_id', 'client_city', 'client_state', 'client_birth', 'client_gender']\n",
            "['product_id', 'product_name', 'product_size']\n",
            "['id', 'product_id', 'client_id', 'discount', 'unit_price', 'quantity', 'store_id', 'date']\n",
            "['store_id', 'store_city', 'store_state']\n",
            "time: 272 ms (started: 2023-09-27 17:42:35 +00:00)\n"
          ]
        }
      ]
    },
    {
      "cell_type": "markdown",
      "source": [
        "É possível atribuir um 'alias' a cada atributo selecionado. Mas, isso só pode ser feito através da função col() que retorna um objeto Column.\n"
      ],
      "metadata": {
        "id": "MV5169vkJuIZ"
      }
    },
    {
      "cell_type": "code",
      "source": [
        "lat = col('latitude').alias('lat')\n",
        "lon = col('longitude').alias('lon')\n",
        "\n",
        "print(lat)\n",
        "houses.select([lat, lon]).show(5)"
      ],
      "metadata": {
        "colab": {
          "base_uri": "https://localhost:8080/"
        },
        "id": "bzWH6uZHJzXj",
        "outputId": "b1434a22-27ca-4f40-bfb2-a9fd36dfd8ba"
      },
      "execution_count": 19,
      "outputs": [
        {
          "output_type": "stream",
          "name": "stdout",
          "text": [
            "Column<'latitude AS lat'>\n",
            "+-----+-------+\n",
            "|  lat|    lon|\n",
            "+-----+-------+\n",
            "|37.88|-122.23|\n",
            "|37.86|-122.22|\n",
            "|37.85|-122.24|\n",
            "|37.85|-122.25|\n",
            "|37.85|-122.25|\n",
            "+-----+-------+\n",
            "only showing top 5 rows\n",
            "\n",
            "time: 198 ms (started: 2023-09-27 17:42:35 +00:00)\n"
          ]
        }
      ]
    },
    {
      "cell_type": "markdown",
      "source": [
        "### Criação\n",
        "Atribuo um valor literal(True) à nova coluna chamada 'new_col'. A função lit() retorna um objeto Column. Note que este atributo é do tipo constante, ou seja, todos os seus valores são True. Normalmente este tipo de atributo não tem utilidade em modelos preditivos."
      ],
      "metadata": {
        "id": "bj8Tl9M7sjmb"
      }
    },
    {
      "cell_type": "code",
      "source": [
        "houses.withColumn('new_col', lit(True)).show(5)"
      ],
      "metadata": {
        "colab": {
          "base_uri": "https://localhost:8080/"
        },
        "id": "5Qi7KZObQsPN",
        "outputId": "59e854b4-fd38-4d03-a0d2-9e848c8f9aa3"
      },
      "execution_count": 20,
      "outputs": [
        {
          "output_type": "stream",
          "name": "stdout",
          "text": [
            "+---------+--------+-----------+--------------+----------+---------------+-------+\n",
            "|longitude|latitude|total_rooms|total_bedrooms|households|ocean_proximity|new_col|\n",
            "+---------+--------+-----------+--------------+----------+---------------+-------+\n",
            "|  -122.23|   37.88|      880.0|         129.0|     126.0|       NEAR BAY|   true|\n",
            "|  -122.22|   37.86|     7099.0|        1106.0|    1138.0|       NEAR BAY|   true|\n",
            "|  -122.24|   37.85|     1467.0|         190.0|     177.0|       NEAR BAY|   true|\n",
            "|  -122.25|   37.85|     1274.0|         235.0|     219.0|       NEAR BAY|   true|\n",
            "|  -122.25|   37.85|     1627.0|         280.0|     259.0|       NEAR BAY|   true|\n",
            "+---------+--------+-----------+--------------+----------+---------------+-------+\n",
            "only showing top 5 rows\n",
            "\n",
            "time: 247 ms (started: 2023-09-27 17:42:35 +00:00)\n"
          ]
        }
      ]
    },
    {
      "cell_type": "markdown",
      "source": [
        "Nova coluna criada a partir de uma operação matemática entre outras duas. Neste caso é preciso que os atributos sejam numéricos."
      ],
      "metadata": {
        "id": "hOkAB1a3s20E"
      }
    },
    {
      "cell_type": "code",
      "source": [
        "result = houses['total_bedrooms'] / houses['total_rooms']\n",
        "print(type(result))\n",
        "houses.withColumn('new_col', result).show(5)"
      ],
      "metadata": {
        "colab": {
          "base_uri": "https://localhost:8080/"
        },
        "id": "Qo4tlcTVRblw",
        "outputId": "41d6dad3-f55a-4db1-99ca-74b9c031a118"
      },
      "execution_count": 21,
      "outputs": [
        {
          "output_type": "stream",
          "name": "stdout",
          "text": [
            "<class 'pyspark.sql.column.Column'>\n",
            "+---------+--------+-----------+--------------+----------+---------------+-------------------+\n",
            "|longitude|latitude|total_rooms|total_bedrooms|households|ocean_proximity|            new_col|\n",
            "+---------+--------+-----------+--------------+----------+---------------+-------------------+\n",
            "|  -122.23|   37.88|      880.0|         129.0|     126.0|       NEAR BAY|0.14659090909090908|\n",
            "|  -122.22|   37.86|     7099.0|        1106.0|    1138.0|       NEAR BAY|0.15579659106916466|\n",
            "|  -122.24|   37.85|     1467.0|         190.0|     177.0|       NEAR BAY|0.12951601908657123|\n",
            "|  -122.25|   37.85|     1274.0|         235.0|     219.0|       NEAR BAY|0.18445839874411302|\n",
            "|  -122.25|   37.85|     1627.0|         280.0|     259.0|       NEAR BAY| 0.1720958819913952|\n",
            "+---------+--------+-----------+--------------+----------+---------------+-------------------+\n",
            "only showing top 5 rows\n",
            "\n",
            "time: 274 ms (started: 2023-09-27 17:42:35 +00:00)\n"
          ]
        }
      ]
    },
    {
      "cell_type": "markdown",
      "source": [
        "Nova coluna usando a função substring()."
      ],
      "metadata": {
        "id": "G5JqVBMTtJH_"
      }
    },
    {
      "cell_type": "code",
      "source": [
        "houses.withColumn('new_col', substring('ocean_proximity', 1, 4)).show(5)"
      ],
      "metadata": {
        "colab": {
          "base_uri": "https://localhost:8080/"
        },
        "id": "WTWf5PseValt",
        "outputId": "4e0b2536-cd07-495c-fc80-a8ba873af2a1"
      },
      "execution_count": 22,
      "outputs": [
        {
          "output_type": "stream",
          "name": "stdout",
          "text": [
            "+---------+--------+-----------+--------------+----------+---------------+-------+\n",
            "|longitude|latitude|total_rooms|total_bedrooms|households|ocean_proximity|new_col|\n",
            "+---------+--------+-----------+--------------+----------+---------------+-------+\n",
            "|  -122.23|   37.88|      880.0|         129.0|     126.0|       NEAR BAY|   NEAR|\n",
            "|  -122.22|   37.86|     7099.0|        1106.0|    1138.0|       NEAR BAY|   NEAR|\n",
            "|  -122.24|   37.85|     1467.0|         190.0|     177.0|       NEAR BAY|   NEAR|\n",
            "|  -122.25|   37.85|     1274.0|         235.0|     219.0|       NEAR BAY|   NEAR|\n",
            "|  -122.25|   37.85|     1627.0|         280.0|     259.0|       NEAR BAY|   NEAR|\n",
            "+---------+--------+-----------+--------------+----------+---------------+-------+\n",
            "only showing top 5 rows\n",
            "\n",
            "time: 150 ms (started: 2023-09-27 17:42:36 +00:00)\n"
          ]
        }
      ]
    },
    {
      "cell_type": "markdown",
      "source": [
        "Concatenando dois atributos para formar um novo."
      ],
      "metadata": {
        "id": "3lPUpCmxtRuh"
      }
    },
    {
      "cell_type": "code",
      "source": [
        "houses.withColumn('new_col', concat(houses['latitude'], houses['longitude'])).show(10)"
      ],
      "metadata": {
        "colab": {
          "base_uri": "https://localhost:8080/"
        },
        "id": "sknwYbdmmVlj",
        "outputId": "975222ac-373b-43e3-8010-824fae2f58bb"
      },
      "execution_count": 23,
      "outputs": [
        {
          "output_type": "stream",
          "name": "stdout",
          "text": [
            "+---------+--------+-----------+--------------+----------+---------------+------------+\n",
            "|longitude|latitude|total_rooms|total_bedrooms|households|ocean_proximity|     new_col|\n",
            "+---------+--------+-----------+--------------+----------+---------------+------------+\n",
            "|  -122.23|   37.88|      880.0|         129.0|     126.0|       NEAR BAY|37.88-122.23|\n",
            "|  -122.22|   37.86|     7099.0|        1106.0|    1138.0|       NEAR BAY|37.86-122.22|\n",
            "|  -122.24|   37.85|     1467.0|         190.0|     177.0|       NEAR BAY|37.85-122.24|\n",
            "|  -122.25|   37.85|     1274.0|         235.0|     219.0|       NEAR BAY|37.85-122.25|\n",
            "|  -122.25|   37.85|     1627.0|         280.0|     259.0|       NEAR BAY|37.85-122.25|\n",
            "|  -122.25|   37.85|      919.0|         213.0|     193.0|       NEAR BAY|37.85-122.25|\n",
            "|  -122.25|   37.84|     2535.0|         489.0|     514.0|       NEAR BAY|37.84-122.25|\n",
            "|  -122.25|   37.84|     3104.0|         687.0|     647.0|       NEAR BAY|37.84-122.25|\n",
            "|  -122.26|   37.84|     2555.0|         665.0|     595.0|       NEAR BAY|37.84-122.26|\n",
            "|  -122.25|   37.84|     3549.0|         707.0|     714.0|       NEAR BAY|37.84-122.25|\n",
            "+---------+--------+-----------+--------------+----------+---------------+------------+\n",
            "only showing top 10 rows\n",
            "\n",
            "time: 188 ms (started: 2023-09-27 17:42:36 +00:00)\n"
          ]
        }
      ]
    },
    {
      "cell_type": "code",
      "source": [
        "houses.withColumn('new_col', concat_ws(' # ', houses['latitude'], houses['longitude'])).show(10)"
      ],
      "metadata": {
        "colab": {
          "base_uri": "https://localhost:8080/"
        },
        "id": "nHV3Ia0RmzkO",
        "outputId": "d3d9bbee-1434-4fd9-e310-e8a07e0cc27d"
      },
      "execution_count": 24,
      "outputs": [
        {
          "output_type": "stream",
          "name": "stdout",
          "text": [
            "+---------+--------+-----------+--------------+----------+---------------+---------------+\n",
            "|longitude|latitude|total_rooms|total_bedrooms|households|ocean_proximity|        new_col|\n",
            "+---------+--------+-----------+--------------+----------+---------------+---------------+\n",
            "|  -122.23|   37.88|      880.0|         129.0|     126.0|       NEAR BAY|37.88 # -122.23|\n",
            "|  -122.22|   37.86|     7099.0|        1106.0|    1138.0|       NEAR BAY|37.86 # -122.22|\n",
            "|  -122.24|   37.85|     1467.0|         190.0|     177.0|       NEAR BAY|37.85 # -122.24|\n",
            "|  -122.25|   37.85|     1274.0|         235.0|     219.0|       NEAR BAY|37.85 # -122.25|\n",
            "|  -122.25|   37.85|     1627.0|         280.0|     259.0|       NEAR BAY|37.85 # -122.25|\n",
            "|  -122.25|   37.85|      919.0|         213.0|     193.0|       NEAR BAY|37.85 # -122.25|\n",
            "|  -122.25|   37.84|     2535.0|         489.0|     514.0|       NEAR BAY|37.84 # -122.25|\n",
            "|  -122.25|   37.84|     3104.0|         687.0|     647.0|       NEAR BAY|37.84 # -122.25|\n",
            "|  -122.26|   37.84|     2555.0|         665.0|     595.0|       NEAR BAY|37.84 # -122.26|\n",
            "|  -122.25|   37.84|     3549.0|         707.0|     714.0|       NEAR BAY|37.84 # -122.25|\n",
            "+---------+--------+-----------+--------------+----------+---------------+---------------+\n",
            "only showing top 10 rows\n",
            "\n",
            "time: 203 ms (started: 2023-09-27 17:42:36 +00:00)\n"
          ]
        }
      ]
    },
    {
      "cell_type": "markdown",
      "source": [
        "### Remoção\n",
        "\n",
        "A função usada para se romover colunas já foi utilizada no início do kernel, na sessão de leitura de arquivos, mas vou apresentar aqui. A função usada para isso é drop(). Abaixo, crio duas colunas para depois removê-las."
      ],
      "metadata": {
        "id": "_agI0PZ03kP0"
      }
    },
    {
      "cell_type": "code",
      "source": [
        "houses = houses.withColumn('new_col_1', lit(True))\n",
        "houses = houses.withColumn('new_col_2', lit(False))\n",
        "houses = houses.drop('new_col_1', 'new_col_2')"
      ],
      "metadata": {
        "colab": {
          "base_uri": "https://localhost:8080/"
        },
        "id": "zcHztdpa41XV",
        "outputId": "ca368cf6-d1ae-448c-e1a1-46c7f424a4bf"
      },
      "execution_count": 25,
      "outputs": [
        {
          "output_type": "stream",
          "name": "stdout",
          "text": [
            "time: 41.5 ms (started: 2023-09-27 17:42:36 +00:00)\n"
          ]
        }
      ]
    },
    {
      "cell_type": "markdown",
      "source": [
        "### Conversão de tipo"
      ],
      "metadata": {
        "id": "tw0IbmPXQqI-"
      }
    },
    {
      "cell_type": "code",
      "source": [
        "houses.withColumn('latitude', col('latitude').cast(FloatType())).show(5)"
      ],
      "metadata": {
        "colab": {
          "base_uri": "https://localhost:8080/"
        },
        "id": "7znkS1kzQvlJ",
        "outputId": "da79e209-8d1a-441e-9b4c-5ffb960b0931"
      },
      "execution_count": 26,
      "outputs": [
        {
          "output_type": "stream",
          "name": "stdout",
          "text": [
            "+---------+--------+-----------+--------------+----------+---------------+\n",
            "|longitude|latitude|total_rooms|total_bedrooms|households|ocean_proximity|\n",
            "+---------+--------+-----------+--------------+----------+---------------+\n",
            "|  -122.23|   37.88|      880.0|         129.0|     126.0|       NEAR BAY|\n",
            "|  -122.22|   37.86|     7099.0|        1106.0|    1138.0|       NEAR BAY|\n",
            "|  -122.24|   37.85|     1467.0|         190.0|     177.0|       NEAR BAY|\n",
            "|  -122.25|   37.85|     1274.0|         235.0|     219.0|       NEAR BAY|\n",
            "|  -122.25|   37.85|     1627.0|         280.0|     259.0|       NEAR BAY|\n",
            "+---------+--------+-----------+--------------+----------+---------------+\n",
            "only showing top 5 rows\n",
            "\n",
            "time: 291 ms (started: 2023-09-27 17:42:36 +00:00)\n"
          ]
        }
      ]
    },
    {
      "cell_type": "markdown",
      "source": [
        "Os exemplos a seguir ilustram duas maneiras de se converter strings que representam datas. Primeiro, apresento um forma de extrair os componentes, dia, mês e ano. No bloco de código abaixo, em \"birth date\", note que o separador desses componentes é um ponto \".\"."
      ],
      "metadata": {
        "id": "lptmUlt7uQuF"
      }
    },
    {
      "cell_type": "code",
      "source": [
        "players.show(3)"
      ],
      "metadata": {
        "colab": {
          "base_uri": "https://localhost:8080/"
        },
        "id": "snA5ev8aS0Qi",
        "outputId": "bf90bf2b-21b9-4742-b4b4-5b673695c45c"
      },
      "execution_count": 27,
      "outputs": [
        {
          "output_type": "stream",
          "name": "stdout",
          "text": [
            "+---------+----+------------------+----------+----------+------+------+\n",
            "|     team|pos.| fifa popular name|birth date|shirt name|height|weight|\n",
            "+---------+----+------------------+----------+----------+------+------+\n",
            "|Argentina|  DF|TAGLIAFICO Nicolas|31.08.1992|TAGLIAFICO|   169|    65|\n",
            "|Argentina|  MF|    PAVON Cristian|21.01.1996|     PAVÓN|   169|    65|\n",
            "|Argentina|  MF|    LANZINI Manuel|15.02.1993|   LANZINI|   167|    66|\n",
            "+---------+----+------------------+----------+----------+------+------+\n",
            "only showing top 3 rows\n",
            "\n",
            "time: 206 ms (started: 2023-09-27 17:42:37 +00:00)\n"
          ]
        }
      ]
    },
    {
      "cell_type": "code",
      "source": [
        "dia = udf(lambda date:date.split('.')[0])\n",
        "mes = udf(lambda date:date.split('.')[1])\n",
        "ano = udf(lambda date:date.split('.')[2])\n",
        "\n",
        "players = players.withColumn('dia', dia('birth date'))\n",
        "players = players.withColumn('mes', mes('birth date'))\n",
        "players = players.withColumn('ano', ano('birth date'))\n",
        "\n",
        "# convertendo o tipo string para int\n",
        "players = players.withColumn('dia', col('dia').cast(IntegerType()))\n",
        "players = players.withColumn('mes', col('mes').cast(IntegerType()))\n",
        "players = players.withColumn('ano', col('ano').cast(IntegerType()))\n",
        "\n",
        "players.show(5)\n",
        "players.printSchema()"
      ],
      "metadata": {
        "colab": {
          "base_uri": "https://localhost:8080/"
        },
        "id": "yUX4KfScuj0j",
        "outputId": "74c80665-1443-407f-d9d3-22020071e4ec"
      },
      "execution_count": 28,
      "outputs": [
        {
          "output_type": "stream",
          "name": "stdout",
          "text": [
            "+---------+----+------------------+----------+----------+------+------+---+---+----+\n",
            "|     team|pos.| fifa popular name|birth date|shirt name|height|weight|dia|mes| ano|\n",
            "+---------+----+------------------+----------+----------+------+------+---+---+----+\n",
            "|Argentina|  DF|TAGLIAFICO Nicolas|31.08.1992|TAGLIAFICO|   169|    65| 31|  8|1992|\n",
            "|Argentina|  MF|    PAVON Cristian|21.01.1996|     PAVÓN|   169|    65| 21|  1|1996|\n",
            "|Argentina|  MF|    LANZINI Manuel|15.02.1993|   LANZINI|   167|    66| 15|  2|1993|\n",
            "|Argentina|  DF|    SALVIO Eduardo|13.07.1990|    SALVIO|   167|    69| 13|  7|1990|\n",
            "|Argentina|  FW|      MESSI Lionel|24.06.1987|     MESSI|   170|    72| 24|  6|1987|\n",
            "+---------+----+------------------+----------+----------+------+------+---+---+----+\n",
            "only showing top 5 rows\n",
            "\n",
            "root\n",
            " |-- team: string (nullable = true)\n",
            " |-- pos.: string (nullable = true)\n",
            " |-- fifa popular name: string (nullable = true)\n",
            " |-- birth date: string (nullable = true)\n",
            " |-- shirt name: string (nullable = true)\n",
            " |-- height: integer (nullable = true)\n",
            " |-- weight: integer (nullable = true)\n",
            " |-- dia: integer (nullable = true)\n",
            " |-- mes: integer (nullable = true)\n",
            " |-- ano: integer (nullable = true)\n",
            "\n",
            "time: 1.46 s (started: 2023-09-27 17:42:37 +00:00)\n"
          ]
        }
      ]
    },
    {
      "cell_type": "markdown",
      "source": [
        "Outra forma de conversão é utilizando a função to_date(). Neste caso não há separação explícita dos componentes e precisamos informar o formato das datas."
      ],
      "metadata": {
        "id": "bWSmfgQWXe4g"
      }
    },
    {
      "cell_type": "code",
      "source": [
        "players = players.withColumn(\"birth date\", to_date(col(\"birth date\"), \"dd.MM.yyyy\"))\n",
        "# ou\n",
        "players = players.withColumn(\"birth date\", to_date(col(\"birth date\"), \"dd.MM.yyyy\"))\n",
        "#players = players.withColumn(\"birth date\", to_date(col(\"birth date\"), \"dd.MM.yyyy\").cast(DateType()))\n",
        "players.printSchema()"
      ],
      "metadata": {
        "colab": {
          "base_uri": "https://localhost:8080/"
        },
        "id": "lh_JlUfxXm6f",
        "outputId": "c44d2433-3fbd-4c4f-fef8-bafc1303794e"
      },
      "execution_count": 29,
      "outputs": [
        {
          "output_type": "stream",
          "name": "stdout",
          "text": [
            "root\n",
            " |-- team: string (nullable = true)\n",
            " |-- pos.: string (nullable = true)\n",
            " |-- fifa popular name: string (nullable = true)\n",
            " |-- birth date: date (nullable = true)\n",
            " |-- shirt name: string (nullable = true)\n",
            " |-- height: integer (nullable = true)\n",
            " |-- weight: integer (nullable = true)\n",
            " |-- dia: integer (nullable = true)\n",
            " |-- mes: integer (nullable = true)\n",
            " |-- ano: integer (nullable = true)\n",
            "\n",
            "time: 43.2 ms (started: 2023-09-27 17:42:38 +00:00)\n"
          ]
        }
      ]
    },
    {
      "cell_type": "markdown",
      "source": [
        "## Valores NaN"
      ],
      "metadata": {
        "id": "PiY9YFQcuj9D"
      }
    },
    {
      "cell_type": "markdown",
      "source": [
        "### Identificação"
      ],
      "metadata": {
        "id": "rx8fAg-0tzHZ"
      }
    },
    {
      "cell_type": "code",
      "source": [
        "for column in houses.columns:\n",
        "  mask = houses['longitude'].isNull()\n",
        "  nan_amount = houses.filter(mask).count()\n",
        "  print(f'{column}: {nan_amount}')"
      ],
      "metadata": {
        "colab": {
          "base_uri": "https://localhost:8080/"
        },
        "id": "YCL_rGlqr825",
        "outputId": "bc07ed4c-46a4-419d-85af-ce5b2755528e"
      },
      "execution_count": 30,
      "outputs": [
        {
          "output_type": "stream",
          "name": "stdout",
          "text": [
            "longitude: 0\n",
            "latitude: 0\n",
            "total_rooms: 0\n",
            "total_bedrooms: 0\n",
            "households: 0\n",
            "ocean_proximity: 0\n",
            "time: 1.79 s (started: 2023-09-27 17:42:38 +00:00)\n"
          ]
        }
      ]
    },
    {
      "cell_type": "markdown",
      "source": [
        "# Instruções SQL\n",
        "Esta sessão contém exemplos de código de funções do PySpark que implementam instruções da linguagem de consulta SQL."
      ],
      "metadata": {
        "id": "1W91ziDzymS7"
      }
    },
    {
      "cell_type": "markdown",
      "source": [
        "## SELECT"
      ],
      "metadata": {
        "id": "pjPSJv7YPx08"
      }
    },
    {
      "cell_type": "code",
      "source": [
        "print(type(houses.select(['longitude', 'latitude', 'households'])))\n",
        "houses.select(['longitude', 'latitude', 'households']).show(5)"
      ],
      "metadata": {
        "colab": {
          "base_uri": "https://localhost:8080/"
        },
        "id": "I4M9QyqyxWWu",
        "outputId": "cc87015c-d011-4f49-af4e-1dc0b92ea835"
      },
      "execution_count": 31,
      "outputs": [
        {
          "output_type": "stream",
          "name": "stdout",
          "text": [
            "<class 'pyspark.sql.dataframe.DataFrame'>\n",
            "+---------+--------+----------+\n",
            "|longitude|latitude|households|\n",
            "+---------+--------+----------+\n",
            "|  -122.23|   37.88|     126.0|\n",
            "|  -122.22|   37.86|    1138.0|\n",
            "|  -122.24|   37.85|     177.0|\n",
            "|  -122.25|   37.85|     219.0|\n",
            "|  -122.25|   37.85|     259.0|\n",
            "+---------+--------+----------+\n",
            "only showing top 5 rows\n",
            "\n",
            "time: 289 ms (started: 2023-09-27 17:42:40 +00:00)\n"
          ]
        }
      ]
    },
    {
      "cell_type": "markdown",
      "source": [
        "Forma alternativa utilizando a função col() que retorna um objeto da classe Column."
      ],
      "metadata": {
        "id": "K0TmUCh3I_XI"
      }
    },
    {
      "cell_type": "code",
      "source": [
        "print(type(houses.select([col('latitude'), col('longitude'), col('households')])))\n",
        "houses.select([col('latitude'), col('longitude'), col('households')]).show(5)"
      ],
      "metadata": {
        "colab": {
          "base_uri": "https://localhost:8080/"
        },
        "id": "HKWtaCa5HLRI",
        "outputId": "f6f33c3e-9fb2-4c99-b8bd-94548315d5f9"
      },
      "execution_count": 32,
      "outputs": [
        {
          "output_type": "stream",
          "name": "stdout",
          "text": [
            "<class 'pyspark.sql.dataframe.DataFrame'>\n",
            "+--------+---------+----------+\n",
            "|latitude|longitude|households|\n",
            "+--------+---------+----------+\n",
            "|   37.88|  -122.23|     126.0|\n",
            "|   37.86|  -122.22|    1138.0|\n",
            "|   37.85|  -122.24|     177.0|\n",
            "|   37.85|  -122.25|     219.0|\n",
            "|   37.85|  -122.25|     259.0|\n",
            "+--------+---------+----------+\n",
            "only showing top 5 rows\n",
            "\n",
            "time: 172 ms (started: 2023-09-27 17:42:40 +00:00)\n"
          ]
        }
      ]
    },
    {
      "cell_type": "markdown",
      "source": [
        "As principais funções de estatística descritiva disponíveis no PySpark são:\n",
        "*   min()\n",
        "*   max()\n",
        "*   count()\n",
        "*   std() ou stddev()\n",
        "*   mode()\n",
        "\n",
        "Abaixo, um exemplo de como se obter o menor valor de uma coluna."
      ],
      "metadata": {
        "id": "ab5fNRH7ZDmU"
      }
    },
    {
      "cell_type": "code",
      "source": [
        "houses.select(min('households')).show(1)"
      ],
      "metadata": {
        "colab": {
          "base_uri": "https://localhost:8080/"
        },
        "id": "EB-D_xR_YVRR",
        "outputId": "51d27e3f-0ed0-4430-e08e-019b3dbdb3a7"
      },
      "execution_count": 33,
      "outputs": [
        {
          "output_type": "stream",
          "name": "stdout",
          "text": [
            "+---------------+\n",
            "|min(households)|\n",
            "+---------------+\n",
            "|            1.0|\n",
            "+---------------+\n",
            "\n",
            "time: 320 ms (started: 2023-09-27 17:42:41 +00:00)\n"
          ]
        }
      ]
    },
    {
      "cell_type": "markdown",
      "source": [
        "## WHERE\n",
        "A string passada como argumento da função where() deve seguir o padrão SQL. Note que nessa string o nome da coluna não fica entre àspas, mas o valor, sim. Além disso, o sinal de igualdade é apenas um \"=\". Isso contece porque em SQL igualdades são verificadas dessa maneira.\n",
        "\n",
        "Uma alternativa é a função filter() que pode ser usada da mesma forma."
      ],
      "metadata": {
        "id": "FMJL0sd2398C"
      }
    },
    {
      "cell_type": "code",
      "source": [
        "players.where(\"team = 'Brazil'\").show(5)"
      ],
      "metadata": {
        "colab": {
          "base_uri": "https://localhost:8080/"
        },
        "id": "Xidh2TQC4WEd",
        "outputId": "194d3e13-358f-4e14-d215-2d904f30c7d6"
      },
      "execution_count": 34,
      "outputs": [
        {
          "output_type": "stream",
          "name": "stdout",
          "text": [
            "+------+----+-----------------+----------+-----------+------+------+---+---+----+\n",
            "|  team|pos.|fifa popular name|birth date| shirt name|height|weight|dia|mes| ano|\n",
            "+------+----+-----------------+----------+-----------+------+------+---+---+----+\n",
            "|Brazil|  MF|             FRED|1993-03-05|       FRED|   169|    64|  5|  3|1993|\n",
            "|Brazil|  FW|           TAISON|1988-01-13|     TAISON|   172|    64| 13|  1|1988|\n",
            "|Brazil|  MF|      FERNANDINHO|1985-05-04|FERNANDINHO|   179|    67|  4|  5|1985|\n",
            "|Brazil|  DF|           FAGNER|1989-06-11|     FAGNER|   168|    67| 11|  6|1989|\n",
            "|Brazil|  FW|           NEYMAR|1992-02-05|  NEYMAR JR|   175|    68|  5|  2|1992|\n",
            "+------+----+-----------------+----------+-----------+------+------+---+---+----+\n",
            "only showing top 5 rows\n",
            "\n",
            "time: 549 ms (started: 2023-09-27 17:42:41 +00:00)\n"
          ]
        }
      ]
    },
    {
      "cell_type": "code",
      "source": [
        "mask = players['team'] == 'Argentina'\n",
        "print(mask)\n",
        "players.where(mask).show(5)"
      ],
      "metadata": {
        "colab": {
          "base_uri": "https://localhost:8080/"
        },
        "id": "XJwOW85d5FV2",
        "outputId": "35eefc5e-429a-4892-de4c-72ea78d2d82c"
      },
      "execution_count": 35,
      "outputs": [
        {
          "output_type": "stream",
          "name": "stdout",
          "text": [
            "Column<'(team = Argentina)'>\n",
            "+---------+----+------------------+----------+----------+------+------+---+---+----+\n",
            "|     team|pos.| fifa popular name|birth date|shirt name|height|weight|dia|mes| ano|\n",
            "+---------+----+------------------+----------+----------+------+------+---+---+----+\n",
            "|Argentina|  DF|TAGLIAFICO Nicolas|1992-08-31|TAGLIAFICO|   169|    65| 31|  8|1992|\n",
            "|Argentina|  MF|    PAVON Cristian|1996-01-21|     PAVÓN|   169|    65| 21|  1|1996|\n",
            "|Argentina|  MF|    LANZINI Manuel|1993-02-15|   LANZINI|   167|    66| 15|  2|1993|\n",
            "|Argentina|  DF|    SALVIO Eduardo|1990-07-13|    SALVIO|   167|    69| 13|  7|1990|\n",
            "|Argentina|  FW|      MESSI Lionel|1987-06-24|     MESSI|   170|    72| 24|  6|1987|\n",
            "+---------+----+------------------+----------+----------+------+------+---+---+----+\n",
            "only showing top 5 rows\n",
            "\n",
            "time: 327 ms (started: 2023-09-27 17:42:41 +00:00)\n"
          ]
        }
      ]
    },
    {
      "cell_type": "code",
      "source": [
        "mask = (col('shirt name') == 'MESSI')\n",
        "print(mask)\n",
        "players.filter(mask).show(5)"
      ],
      "metadata": {
        "colab": {
          "base_uri": "https://localhost:8080/"
        },
        "id": "0xmj005pIvLE",
        "outputId": "40075cdd-c42c-46f6-b2a6-a284901c9282"
      },
      "execution_count": 36,
      "outputs": [
        {
          "output_type": "stream",
          "name": "stdout",
          "text": [
            "Column<'(shirt name = MESSI)'>\n",
            "+---------+----+-----------------+----------+----------+------+------+---+---+----+\n",
            "|     team|pos.|fifa popular name|birth date|shirt name|height|weight|dia|mes| ano|\n",
            "+---------+----+-----------------+----------+----------+------+------+---+---+----+\n",
            "|Argentina|  FW|     MESSI Lionel|1987-06-24|     MESSI|   170|    72| 24|  6|1987|\n",
            "+---------+----+-----------------+----------+----------+------+------+---+---+----+\n",
            "\n",
            "time: 466 ms (started: 2023-09-27 17:42:42 +00:00)\n"
          ]
        }
      ]
    },
    {
      "cell_type": "markdown",
      "source": [
        "### Filtros compostos"
      ],
      "metadata": {
        "id": "O7cHwIHhJCvZ"
      }
    },
    {
      "cell_type": "code",
      "source": [
        "mask = (\"team = 'Brazil' AND height < 170\")\n",
        "print(mask)\n",
        "players.where(mask).show(5)"
      ],
      "metadata": {
        "colab": {
          "base_uri": "https://localhost:8080/"
        },
        "id": "2nUad3qtJD_O",
        "outputId": "385294c3-0dfb-4686-eace-0481c5a998ae"
      },
      "execution_count": 37,
      "outputs": [
        {
          "output_type": "stream",
          "name": "stdout",
          "text": [
            "team = 'Brazil' AND height < 170\n",
            "+------+----+-----------------+----------+----------+------+------+---+---+----+\n",
            "|  team|pos.|fifa popular name|birth date|shirt name|height|weight|dia|mes| ano|\n",
            "+------+----+-----------------+----------+----------+------+------+---+---+----+\n",
            "|Brazil|  MF|             FRED|1993-03-05|      FRED|   169|    64|  5|  3|1993|\n",
            "|Brazil|  DF|           FAGNER|1989-06-11|    FAGNER|   168|    67| 11|  6|1989|\n",
            "+------+----+-----------------+----------+----------+------+------+---+---+----+\n",
            "\n",
            "time: 414 ms (started: 2023-09-27 17:42:42 +00:00)\n"
          ]
        }
      ]
    },
    {
      "cell_type": "code",
      "source": [
        "mask = (col('team') == 'Brazil') & (col('height') < 170)\n",
        "print(mask)\n",
        "players.where(mask).show(5)"
      ],
      "metadata": {
        "colab": {
          "base_uri": "https://localhost:8080/"
        },
        "id": "3GvVbsLVKMJ3",
        "outputId": "da6047e7-988d-4d53-e63b-d76b858016fa"
      },
      "execution_count": 38,
      "outputs": [
        {
          "output_type": "stream",
          "name": "stdout",
          "text": [
            "Column<'((team = Brazil) AND (height < 170))'>\n",
            "+------+----+-----------------+----------+----------+------+------+---+---+----+\n",
            "|  team|pos.|fifa popular name|birth date|shirt name|height|weight|dia|mes| ano|\n",
            "+------+----+-----------------+----------+----------+------+------+---+---+----+\n",
            "|Brazil|  MF|             FRED|1993-03-05|      FRED|   169|    64|  5|  3|1993|\n",
            "|Brazil|  DF|           FAGNER|1989-06-11|    FAGNER|   168|    67| 11|  6|1989|\n",
            "+------+----+-----------------+----------+----------+------+------+---+---+----+\n",
            "\n",
            "time: 451 ms (started: 2023-09-27 17:42:43 +00:00)\n"
          ]
        }
      ]
    },
    {
      "cell_type": "markdown",
      "source": [
        "## GROUP BY\n",
        "\n",
        "Tendo uma coluna como referência, todas as linhas onde os valores dessa coluna são iguais são \"colapsadas\" em apenas uma. É preciso especificar o que deve ser feito com as outras colunas caso contrário elas serão ignoradas. Normalmente aplicamos funções de estatística descritiva."
      ],
      "metadata": {
        "id": "ZkBWXq7IeIDC"
      }
    },
    {
      "cell_type": "code",
      "source": [
        "players.groupBy('team').mean('weight').orderBy('avg(weight)', ascending=True).show(10)"
      ],
      "metadata": {
        "colab": {
          "base_uri": "https://localhost:8080/"
        },
        "id": "AI3a35dWe1c6",
        "outputId": "9fbb14a5-4860-4d9c-b3a7-5b3a8e0f9da7"
      },
      "execution_count": 39,
      "outputs": [
        {
          "output_type": "stream",
          "name": "stdout",
          "text": [
            "+--------------+-----------------+\n",
            "|          team|      avg(weight)|\n",
            "+--------------+-----------------+\n",
            "|         Japan|71.52173913043478|\n",
            "|  Saudi Arabia|73.04347826086956|\n",
            "|      Portugal| 73.6086956521739|\n",
            "|        Mexico|74.08695652173913|\n",
            "|    Costa Rica| 74.1304347826087|\n",
            "|Korea Republic|74.43478260869566|\n",
            "|       Uruguay| 74.6086956521739|\n",
            "|       Morocco|74.65217391304348|\n",
            "|         Spain|74.73913043478261|\n",
            "|       Tunisia|             75.0|\n",
            "+--------------+-----------------+\n",
            "only showing top 10 rows\n",
            "\n",
            "time: 748 ms (started: 2023-09-27 17:42:43 +00:00)\n"
          ]
        }
      ]
    },
    {
      "cell_type": "markdown",
      "source": [
        "Para especificar qual função de agregação deve ser usada em cada coluna podemos usar a função agg()."
      ],
      "metadata": {
        "id": "nRs42OSbiBJj"
      }
    },
    {
      "cell_type": "code",
      "source": [
        "players.groupBy('team').agg({'weight':'avg', 'dia':'min', 'height':'max'}).orderBy('max(height)', ascending=False).show(10)"
      ],
      "metadata": {
        "colab": {
          "base_uri": "https://localhost:8080/"
        },
        "id": "-0bxHONmiJfe",
        "outputId": "22d3ae5d-8fac-4b15-fdea-e8a046c00fa4"
      },
      "execution_count": 40,
      "outputs": [
        {
          "output_type": "stream",
          "name": "stdout",
          "text": [
            "+--------------+-----------------+--------+-----------+\n",
            "|          team|      avg(weight)|min(dia)|max(height)|\n",
            "+--------------+-----------------+--------+-----------+\n",
            "|       Croatia|79.30434782608695|       2|        201|\n",
            "|       Denmark| 82.6086956521739|       1|        200|\n",
            "|     Argentina|75.56521739130434|       2|        199|\n",
            "|       Belgium|79.56521739130434|       2|        199|\n",
            "|        Sweden|78.82608695652173|       2|        198|\n",
            "|       Iceland|80.73913043478261|       1|        198|\n",
            "|Korea Republic|74.43478260869566|       3|        197|\n",
            "|       Nigeria|80.47826086956522|       1|        197|\n",
            "|        Panama|             80.0|       1|        197|\n",
            "|        France|             80.0|       3|        197|\n",
            "+--------------+-----------------+--------+-----------+\n",
            "only showing top 10 rows\n",
            "\n",
            "time: 767 ms (started: 2023-09-27 17:42:44 +00:00)\n"
          ]
        }
      ]
    },
    {
      "cell_type": "code",
      "source": [
        "players.groupBy('team').agg(avg('height'), min('height'), max('height')).orderBy('avg(height)', ascending=False).show(20)"
      ],
      "metadata": {
        "colab": {
          "base_uri": "https://localhost:8080/"
        },
        "id": "oVKTdvz6W6s2",
        "outputId": "b7737b0c-7c0b-458c-d59a-11897a42e398"
      },
      "execution_count": 41,
      "outputs": [
        {
          "output_type": "stream",
          "name": "stdout",
          "text": [
            "+--------------+------------------+-----------+-----------+\n",
            "|          team|       avg(height)|min(height)|max(height)|\n",
            "+--------------+------------------+-----------+-----------+\n",
            "|        Serbia|186.69565217391303|        169|        195|\n",
            "|       Denmark| 186.6086956521739|        171|        200|\n",
            "|       Germany| 185.7826086956522|        176|        195|\n",
            "|        Sweden| 185.7391304347826|        177|        198|\n",
            "|       Iceland|185.52173913043478|        170|        198|\n",
            "|       Belgium|185.34782608695653|        169|        199|\n",
            "|       Croatia| 185.2608695652174|        172|        201|\n",
            "|       Nigeria|184.52173913043478|        172|        197|\n",
            "|       IR Iran|184.47826086956522|        177|        194|\n",
            "|        Russia| 184.3913043478261|        173|        196|\n",
            "|       Senegal|183.65217391304347|        173|        196|\n",
            "|        France|183.30434782608697|        168|        197|\n",
            "|        Poland|183.17391304347825|        172|        195|\n",
            "|       Tunisia|183.08695652173913|        170|        192|\n",
            "|   Switzerland|182.91304347826087|        165|        192|\n",
            "|       England| 182.7391304347826|        170|        196|\n",
            "|       Morocco|182.69565217391303|        167|        190|\n",
            "|        Panama|182.17391304347825|        165|        197|\n",
            "|Korea Republic| 181.8695652173913|        170|        197|\n",
            "|       Uruguay|181.04347826086956|        168|        196|\n",
            "+--------------+------------------+-----------+-----------+\n",
            "only showing top 20 rows\n",
            "\n",
            "time: 529 ms (started: 2023-09-27 17:42:45 +00:00)\n"
          ]
        }
      ]
    },
    {
      "cell_type": "code",
      "source": [
        "players.groupBy('team').agg(avg('weight')).orderBy('avg(weight)', ascending=True).show(10)"
      ],
      "metadata": {
        "colab": {
          "base_uri": "https://localhost:8080/"
        },
        "id": "8KBPRvIpk6z7",
        "outputId": "f708bd0a-8128-44a1-bed6-4c2ff75cdc0d"
      },
      "execution_count": 42,
      "outputs": [
        {
          "output_type": "stream",
          "name": "stdout",
          "text": [
            "+--------------+-----------------+\n",
            "|          team|      avg(weight)|\n",
            "+--------------+-----------------+\n",
            "|         Japan|71.52173913043478|\n",
            "|  Saudi Arabia|73.04347826086956|\n",
            "|      Portugal| 73.6086956521739|\n",
            "|        Mexico|74.08695652173913|\n",
            "|    Costa Rica| 74.1304347826087|\n",
            "|Korea Republic|74.43478260869566|\n",
            "|       Uruguay| 74.6086956521739|\n",
            "|       Morocco|74.65217391304348|\n",
            "|         Spain|74.73913043478261|\n",
            "|       Tunisia|             75.0|\n",
            "+--------------+-----------------+\n",
            "only showing top 10 rows\n",
            "\n",
            "time: 657 ms (started: 2023-09-27 17:42:45 +00:00)\n"
          ]
        }
      ]
    },
    {
      "cell_type": "markdown",
      "source": [
        "## PARTITION BY\n",
        "Tem o conceito muito parecido com groupby, mas em partitionBy(), as linhas iguais são agrupadas formando agrupamentos de instâncias de dados baseados em uma ou mais colunas.\n",
        "\n",
        "*   row_number()\n",
        "*   rank()\n",
        "*   dense_rank()\n",
        "*   persent_rank()\n",
        "*   ntile()\n",
        "\n",
        "**Obs.** A função orderBy() usada com Window.partitionBy() não é a mesma usada com as funções de agregação de groupBy(). Enquanto essa retorna um DataFrame o outro cria uma WindowSpec."
      ],
      "metadata": {
        "id": "iEsfhD1VbpY-"
      }
    },
    {
      "cell_type": "markdown",
      "source": [
        "row_number(): Cria  uma coluna com contagem de linhas começando por 1."
      ],
      "metadata": {
        "id": "kkLpC58KkeaK"
      }
    },
    {
      "cell_type": "code",
      "source": [
        "prt = Window.partitionBy('team').orderBy(desc('height'))\n",
        "print(type(prt))\n",
        "print(type(row_number()))\n",
        "players.withColumn('row', row_number().over(prt)).show(10)"
      ],
      "metadata": {
        "colab": {
          "base_uri": "https://localhost:8080/"
        },
        "id": "74rdlQbacHPc",
        "outputId": "3c08f4dd-71a9-4980-e856-cf37f5d47b6b"
      },
      "execution_count": 43,
      "outputs": [
        {
          "output_type": "stream",
          "name": "stdout",
          "text": [
            "<class 'pyspark.sql.window.WindowSpec'>\n",
            "<class 'pyspark.sql.column.Column'>\n",
            "+---------+----+------------------+----------+----------+------+------+---+---+----+---+\n",
            "|     team|pos.| fifa popular name|birth date|shirt name|height|weight|dia|mes| ano|row|\n",
            "+---------+----+------------------+----------+----------+------+------+---+---+----+---+\n",
            "|Argentina|  DF|    FAZIO Federico|1987-03-17|     FAZIO|   199|    85| 17|  3|1987|  1|\n",
            "|Argentina|  GK|     GUZMAN Nahuel|1986-02-10|    GUZMÁN|   192|    90| 10|  2|1986|  2|\n",
            "|Argentina|  DF|       ROJO Marcos|1990-03-20|      ROJO|   189|    82| 20|  3|1990|  3|\n",
            "|Argentina|  GK|     ARMANI Franco|1986-10-16|    ARMANI|   189|    85| 16| 10|1986|  4|\n",
            "|Argentina|  GK|CABALLERO Wilfredo|1981-09-28| CABALLERO|   186|    80| 28|  9|1981|  5|\n",
            "|Argentina|  FW|   HIGUAIN Gonzalo|1987-12-10|   HIGUAÍN|   184|    75| 10| 12|1987|  6|\n",
            "|Argentina|  DF|  ANSALDI Cristian|1986-09-20|   ANSALDI|   181|    73| 20|  9|1986|  7|\n",
            "|Argentina|  DF|   MERCADO Gabriel|1987-03-18|   MERCADO|   181|    81| 18|  3|1987|  8|\n",
            "|Argentina|  DF|  OTAMENDI Nicolas|1988-02-12|  OTAMENDI|   181|    81| 12|  2|1988|  9|\n",
            "|Argentina|  MF|  MEZA Maximiliano|1992-12-15|      MEZA|   180|    76| 15| 12|1992| 10|\n",
            "+---------+----+------------------+----------+----------+------+------+---+---+----+---+\n",
            "only showing top 10 rows\n",
            "\n",
            "time: 1.5 s (started: 2023-09-27 17:42:46 +00:00)\n"
          ]
        }
      ]
    },
    {
      "cell_type": "code",
      "source": [
        "# Selecionar os atletas mais altos de cada time.\n",
        "prt = Window.partitionBy('team').orderBy(desc('height'))\n",
        "players.withColumn('top', row_number().over(prt)).where(\"top = 1\").show(10)"
      ],
      "metadata": {
        "colab": {
          "base_uri": "https://localhost:8080/"
        },
        "id": "zj0QPwXV6Ldf",
        "outputId": "10fe55ad-bcf0-4af2-f0a4-cb76c717cfac"
      },
      "execution_count": 44,
      "outputs": [
        {
          "output_type": "stream",
          "name": "stdout",
          "text": [
            "+----------+----+------------------+----------+-----------+------+------+---+---+----+---+\n",
            "|      team|pos.| fifa popular name|birth date| shirt name|height|weight|dia|mes| ano|top|\n",
            "+----------+----+------------------+----------+-----------+------+------+---+---+----+---+\n",
            "| Argentina|  DF|    FAZIO Federico|1987-03-17|      FAZIO|   199|    85| 17|  3|1987|  1|\n",
            "| Australia|  GK|        JONES Brad|1982-03-19|      JONES|   193|    87| 19|  3|1982|  1|\n",
            "|   Belgium|  GK|  COURTOIS Thibaut|1992-05-11|   COURTOIS|   199|    91| 11|  5|1992|  1|\n",
            "|    Brazil|  GK|            CASSIO|1987-06-06|     CASSIO|   195|    92|  6|  6|1987|  1|\n",
            "|  Colombia|  DF|        MINA Yerry|1994-09-23|    Y. MINA|   194|    95| 23|  9|1994|  1|\n",
            "|Costa Rica|  DF|    WASTON Kendall|1988-01-01|  K. WASTON|   196|    87|  1|  1|1988|  1|\n",
            "|   Croatia|  GK|     KALINIC Lovre|1990-04-03| L. KALINIĆ|   201|    96|  3|  4|1990|  1|\n",
            "|   Denmark|  DF|VESTERGAARD Jannik|1992-08-03|VESTERGAARD|   200|    98|  3|  8|1992|  1|\n",
            "|     Egypt|  DF|      AHMED HEGAZY|1991-01-25|  A. HEGAZY|   194|    95| 25|  1|1991|  1|\n",
            "|   England|  GK|      BUTLAND Jack|1993-03-10|    BUTLAND|   196|    96| 10|  3|1993|  1|\n",
            "+----------+----+------------------+----------+-----------+------+------+---+---+----+---+\n",
            "only showing top 10 rows\n",
            "\n",
            "time: 1.24 s (started: 2023-09-27 17:42:47 +00:00)\n"
          ]
        }
      ]
    },
    {
      "cell_type": "markdown",
      "source": [
        "rank(): Note como rank=3 se repete duas vezes e depois há um salto para rank=5. Esta é uma peculiaridade dessa função."
      ],
      "metadata": {
        "id": "KuMhw3n2kKJP"
      }
    },
    {
      "cell_type": "code",
      "source": [
        "prt = Window.partitionBy('team').orderBy(desc('height'))\n",
        "players.withColumn('rank', rank().over(prt)).show(10)"
      ],
      "metadata": {
        "colab": {
          "base_uri": "https://localhost:8080/"
        },
        "id": "kPVsRj7PjJLC",
        "outputId": "bbe63456-d0c4-4b0a-bcf4-8857d95bbbe5"
      },
      "execution_count": 45,
      "outputs": [
        {
          "output_type": "stream",
          "name": "stdout",
          "text": [
            "+---------+----+------------------+----------+----------+------+------+---+---+----+----+\n",
            "|     team|pos.| fifa popular name|birth date|shirt name|height|weight|dia|mes| ano|rank|\n",
            "+---------+----+------------------+----------+----------+------+------+---+---+----+----+\n",
            "|Argentina|  DF|    FAZIO Federico|1987-03-17|     FAZIO|   199|    85| 17|  3|1987|   1|\n",
            "|Argentina|  GK|     GUZMAN Nahuel|1986-02-10|    GUZMÁN|   192|    90| 10|  2|1986|   2|\n",
            "|Argentina|  DF|       ROJO Marcos|1990-03-20|      ROJO|   189|    82| 20|  3|1990|   3|\n",
            "|Argentina|  GK|     ARMANI Franco|1986-10-16|    ARMANI|   189|    85| 16| 10|1986|   3|\n",
            "|Argentina|  GK|CABALLERO Wilfredo|1981-09-28| CABALLERO|   186|    80| 28|  9|1981|   5|\n",
            "|Argentina|  FW|   HIGUAIN Gonzalo|1987-12-10|   HIGUAÍN|   184|    75| 10| 12|1987|   6|\n",
            "|Argentina|  DF|  ANSALDI Cristian|1986-09-20|   ANSALDI|   181|    73| 20|  9|1986|   7|\n",
            "|Argentina|  DF|   MERCADO Gabriel|1987-03-18|   MERCADO|   181|    81| 18|  3|1987|   7|\n",
            "|Argentina|  DF|  OTAMENDI Nicolas|1988-02-12|  OTAMENDI|   181|    81| 12|  2|1988|   7|\n",
            "|Argentina|  MF|  MEZA Maximiliano|1992-12-15|      MEZA|   180|    76| 15| 12|1992|  10|\n",
            "+---------+----+------------------+----------+----------+------+------+---+---+----+----+\n",
            "only showing top 10 rows\n",
            "\n",
            "time: 430 ms (started: 2023-09-27 17:42:49 +00:00)\n"
          ]
        }
      ]
    },
    {
      "cell_type": "markdown",
      "source": [
        "dense_rank(): Aqui, mesmo que rank=3 se repita o próximo valor de rank é 4 e assim por diante. Não há saltos de valores."
      ],
      "metadata": {
        "id": "ExD1iTmakiIx"
      }
    },
    {
      "cell_type": "code",
      "source": [
        "prt = Window.partitionBy('team').orderBy(desc('height'))\n",
        "players.withColumn('dense_rank', dense_rank().over(prt)).show(10)"
      ],
      "metadata": {
        "colab": {
          "base_uri": "https://localhost:8080/"
        },
        "id": "Tw53dOeokyzh",
        "outputId": "d5de3409-8564-466d-fd58-ba40d69c71db"
      },
      "execution_count": 46,
      "outputs": [
        {
          "output_type": "stream",
          "name": "stdout",
          "text": [
            "+---------+----+------------------+----------+----------+------+------+---+---+----+----------+\n",
            "|     team|pos.| fifa popular name|birth date|shirt name|height|weight|dia|mes| ano|dense_rank|\n",
            "+---------+----+------------------+----------+----------+------+------+---+---+----+----------+\n",
            "|Argentina|  DF|    FAZIO Federico|1987-03-17|     FAZIO|   199|    85| 17|  3|1987|         1|\n",
            "|Argentina|  GK|     GUZMAN Nahuel|1986-02-10|    GUZMÁN|   192|    90| 10|  2|1986|         2|\n",
            "|Argentina|  DF|       ROJO Marcos|1990-03-20|      ROJO|   189|    82| 20|  3|1990|         3|\n",
            "|Argentina|  GK|     ARMANI Franco|1986-10-16|    ARMANI|   189|    85| 16| 10|1986|         3|\n",
            "|Argentina|  GK|CABALLERO Wilfredo|1981-09-28| CABALLERO|   186|    80| 28|  9|1981|         4|\n",
            "|Argentina|  FW|   HIGUAIN Gonzalo|1987-12-10|   HIGUAÍN|   184|    75| 10| 12|1987|         5|\n",
            "|Argentina|  DF|  ANSALDI Cristian|1986-09-20|   ANSALDI|   181|    73| 20|  9|1986|         6|\n",
            "|Argentina|  DF|   MERCADO Gabriel|1987-03-18|   MERCADO|   181|    81| 18|  3|1987|         6|\n",
            "|Argentina|  DF|  OTAMENDI Nicolas|1988-02-12|  OTAMENDI|   181|    81| 12|  2|1988|         6|\n",
            "|Argentina|  MF|  MEZA Maximiliano|1992-12-15|      MEZA|   180|    76| 15| 12|1992|         7|\n",
            "+---------+----+------------------+----------+----------+------+------+---+---+----+----------+\n",
            "only showing top 10 rows\n",
            "\n",
            "time: 632 ms (started: 2023-09-27 17:42:49 +00:00)\n"
          ]
        }
      ]
    },
    {
      "cell_type": "markdown",
      "source": [
        "persent_rank(): ranking relativo(percentual)"
      ],
      "metadata": {
        "id": "FgIYuPqAmCD3"
      }
    },
    {
      "cell_type": "code",
      "source": [
        "prt = Window.partitionBy('team').orderBy(desc('height'))\n",
        "players.withColumn('persent_rank', percent_rank().over(prt)).show(10)"
      ],
      "metadata": {
        "colab": {
          "base_uri": "https://localhost:8080/"
        },
        "id": "i8jq7iyimDZw",
        "outputId": "f716d15b-fea8-44de-aaff-8d78dd02a344"
      },
      "execution_count": 47,
      "outputs": [
        {
          "output_type": "stream",
          "name": "stdout",
          "text": [
            "+---------+----+------------------+----------+----------+------+------+---+---+----+--------------------+\n",
            "|     team|pos.| fifa popular name|birth date|shirt name|height|weight|dia|mes| ano|        persent_rank|\n",
            "+---------+----+------------------+----------+----------+------+------+---+---+----+--------------------+\n",
            "|Argentina|  DF|    FAZIO Federico|1987-03-17|     FAZIO|   199|    85| 17|  3|1987|                 0.0|\n",
            "|Argentina|  GK|     GUZMAN Nahuel|1986-02-10|    GUZMÁN|   192|    90| 10|  2|1986|0.045454545454545456|\n",
            "|Argentina|  DF|       ROJO Marcos|1990-03-20|      ROJO|   189|    82| 20|  3|1990| 0.09090909090909091|\n",
            "|Argentina|  GK|     ARMANI Franco|1986-10-16|    ARMANI|   189|    85| 16| 10|1986| 0.09090909090909091|\n",
            "|Argentina|  GK|CABALLERO Wilfredo|1981-09-28| CABALLERO|   186|    80| 28|  9|1981| 0.18181818181818182|\n",
            "|Argentina|  FW|   HIGUAIN Gonzalo|1987-12-10|   HIGUAÍN|   184|    75| 10| 12|1987| 0.22727272727272727|\n",
            "|Argentina|  DF|  ANSALDI Cristian|1986-09-20|   ANSALDI|   181|    73| 20|  9|1986|  0.2727272727272727|\n",
            "|Argentina|  DF|   MERCADO Gabriel|1987-03-18|   MERCADO|   181|    81| 18|  3|1987|  0.2727272727272727|\n",
            "|Argentina|  DF|  OTAMENDI Nicolas|1988-02-12|  OTAMENDI|   181|    81| 12|  2|1988|  0.2727272727272727|\n",
            "|Argentina|  MF|  MEZA Maximiliano|1992-12-15|      MEZA|   180|    76| 15| 12|1992|  0.4090909090909091|\n",
            "+---------+----+------------------+----------+----------+------+------+---+---+----+--------------------+\n",
            "only showing top 10 rows\n",
            "\n",
            "time: 552 ms (started: 2023-09-27 17:42:50 +00:00)\n"
          ]
        }
      ]
    },
    {
      "cell_type": "markdown",
      "source": [
        "ntile(): Divide cada partição em uma quantidade n de quartiles. Cada quartile recebe um valor único. Caso uma partição não seja divisível por n o aloritmo ajustará a quantidade de instâncias de dados pertencentes aos últimos quartiles de modo que a partição tenha n quartiles. Por exemplo, na seleção da Argentina, quando n=5, o penúltimo quartil tem 4 instâncias para poder formar mais um, o último quartil que terá apenas uma instância."
      ],
      "metadata": {
        "id": "3gT5llGdqJBp"
      }
    },
    {
      "cell_type": "code",
      "source": [
        "prt = Window.partitionBy('team').orderBy(desc('height'))\n",
        "players.withColumn('ntile', ntile(5).over(prt)).show(20)"
      ],
      "metadata": {
        "colab": {
          "base_uri": "https://localhost:8080/"
        },
        "id": "AogJ91m3qLUO",
        "outputId": "03b03c5f-7441-4753-ffff-4a83129fffa8"
      },
      "execution_count": 48,
      "outputs": [
        {
          "output_type": "stream",
          "name": "stdout",
          "text": [
            "+---------+----+------------------+----------+----------+------+------+---+---+----+-----+\n",
            "|     team|pos.| fifa popular name|birth date|shirt name|height|weight|dia|mes| ano|ntile|\n",
            "+---------+----+------------------+----------+----------+------+------+---+---+----+-----+\n",
            "|Argentina|  DF|    FAZIO Federico|1987-03-17|     FAZIO|   199|    85| 17|  3|1987|    1|\n",
            "|Argentina|  GK|     GUZMAN Nahuel|1986-02-10|    GUZMÁN|   192|    90| 10|  2|1986|    1|\n",
            "|Argentina|  DF|       ROJO Marcos|1990-03-20|      ROJO|   189|    82| 20|  3|1990|    1|\n",
            "|Argentina|  GK|     ARMANI Franco|1986-10-16|    ARMANI|   189|    85| 16| 10|1986|    1|\n",
            "|Argentina|  GK|CABALLERO Wilfredo|1981-09-28| CABALLERO|   186|    80| 28|  9|1981|    1|\n",
            "|Argentina|  FW|   HIGUAIN Gonzalo|1987-12-10|   HIGUAÍN|   184|    75| 10| 12|1987|    2|\n",
            "|Argentina|  DF|  ANSALDI Cristian|1986-09-20|   ANSALDI|   181|    73| 20|  9|1986|    2|\n",
            "|Argentina|  DF|   MERCADO Gabriel|1987-03-18|   MERCADO|   181|    81| 18|  3|1987|    2|\n",
            "|Argentina|  DF|  OTAMENDI Nicolas|1988-02-12|  OTAMENDI|   181|    81| 12|  2|1988|    2|\n",
            "|Argentina|  MF|  MEZA Maximiliano|1992-12-15|      MEZA|   180|    76| 15| 12|1992|    2|\n",
            "|Argentina|  MF|    DI MARIA Angel|1988-02-14|  DI MARÍA|   178|    75| 14|  2|1988|    3|\n",
            "|Argentina|  FW|      DYBALA Paulo|1993-11-15|    DYBALA|   177|    73| 15| 11|1993|    3|\n",
            "|Argentina|  MF|  LO CELSO Giovani|1996-04-09|  LO CELSO|   177|    75|  9|  4|1996|    3|\n",
            "|Argentina|  MF|      BIGLIA Lucas|1986-01-30|    BIGLIA|   175|    73| 30|  1|1986|    3|\n",
            "|Argentina|  MF|       BANEGA Ever|1988-06-29|    BANEGA|   175|    73| 29|  6|1988|    3|\n",
            "|Argentina|  DF| MASCHERANO Javier|1984-06-08|MASCHERANO|   174|    73|  8|  6|1984|    4|\n",
            "|Argentina|  FW|     AGUERO Sergio|1988-06-02|    AGÜERO|   172|    74|  2|  6|1988|    4|\n",
            "|Argentina|  DF|      ACUNA Marcos|1991-10-28|     ACUÑA|   172|    77| 28| 10|1991|    4|\n",
            "|Argentina|  FW|      MESSI Lionel|1987-06-24|     MESSI|   170|    72| 24|  6|1987|    4|\n",
            "|Argentina|  DF|TAGLIAFICO Nicolas|1992-08-31|TAGLIAFICO|   169|    65| 31|  8|1992|    5|\n",
            "+---------+----+------------------+----------+----------+------+------+---+---+----+-----+\n",
            "only showing top 20 rows\n",
            "\n",
            "time: 534 ms (started: 2023-09-27 17:42:50 +00:00)\n"
          ]
        }
      ]
    },
    {
      "cell_type": "markdown",
      "source": [
        "Lag function: O mesmo tipo de lag usado em séries temporais."
      ],
      "metadata": {
        "id": "Ny2ulye1ZyTQ"
      }
    },
    {
      "cell_type": "code",
      "source": [
        "prt = Window.partitionBy('team').orderBy(desc('height'))\n",
        "players.withColumn('lag', lag('weight', offset=2).over(prt)).show(10)"
      ],
      "metadata": {
        "colab": {
          "base_uri": "https://localhost:8080/"
        },
        "id": "wEXKjuj4Z6oK",
        "outputId": "390aec6c-dcd0-4f5d-e847-502a8ca2b942"
      },
      "execution_count": 49,
      "outputs": [
        {
          "output_type": "stream",
          "name": "stdout",
          "text": [
            "+---------+----+------------------+----------+----------+------+------+---+---+----+----+\n",
            "|     team|pos.| fifa popular name|birth date|shirt name|height|weight|dia|mes| ano| lag|\n",
            "+---------+----+------------------+----------+----------+------+------+---+---+----+----+\n",
            "|Argentina|  DF|    FAZIO Federico|1987-03-17|     FAZIO|   199|    85| 17|  3|1987|NULL|\n",
            "|Argentina|  GK|     GUZMAN Nahuel|1986-02-10|    GUZMÁN|   192|    90| 10|  2|1986|NULL|\n",
            "|Argentina|  DF|       ROJO Marcos|1990-03-20|      ROJO|   189|    82| 20|  3|1990|  85|\n",
            "|Argentina|  GK|     ARMANI Franco|1986-10-16|    ARMANI|   189|    85| 16| 10|1986|  90|\n",
            "|Argentina|  GK|CABALLERO Wilfredo|1981-09-28| CABALLERO|   186|    80| 28|  9|1981|  82|\n",
            "|Argentina|  FW|   HIGUAIN Gonzalo|1987-12-10|   HIGUAÍN|   184|    75| 10| 12|1987|  85|\n",
            "|Argentina|  DF|  ANSALDI Cristian|1986-09-20|   ANSALDI|   181|    73| 20|  9|1986|  80|\n",
            "|Argentina|  DF|   MERCADO Gabriel|1987-03-18|   MERCADO|   181|    81| 18|  3|1987|  75|\n",
            "|Argentina|  DF|  OTAMENDI Nicolas|1988-02-12|  OTAMENDI|   181|    81| 12|  2|1988|  73|\n",
            "|Argentina|  MF|  MEZA Maximiliano|1992-12-15|      MEZA|   180|    76| 15| 12|1992|  81|\n",
            "+---------+----+------------------+----------+----------+------+------+---+---+----+----+\n",
            "only showing top 10 rows\n",
            "\n",
            "time: 487 ms (started: 2023-09-27 17:42:51 +00:00)\n"
          ]
        }
      ]
    },
    {
      "cell_type": "markdown",
      "source": [
        "Forward function: O mesmo tipo de forward usado em séries temporais."
      ],
      "metadata": {
        "id": "LYWzAMl4bwRD"
      }
    },
    {
      "cell_type": "code",
      "source": [
        "prt = Window.partitionBy('team').orderBy(desc('height'))\n",
        "players.withColumn('lead', lead('weight', offset=1).over(prt)).show(10)"
      ],
      "metadata": {
        "colab": {
          "base_uri": "https://localhost:8080/"
        },
        "id": "3nEw-WhJch8s",
        "outputId": "099fa540-46c6-4f3f-9c7f-5cd736e05de6"
      },
      "execution_count": 50,
      "outputs": [
        {
          "output_type": "stream",
          "name": "stdout",
          "text": [
            "+---------+----+------------------+----------+----------+------+------+---+---+----+----+\n",
            "|     team|pos.| fifa popular name|birth date|shirt name|height|weight|dia|mes| ano|lead|\n",
            "+---------+----+------------------+----------+----------+------+------+---+---+----+----+\n",
            "|Argentina|  DF|    FAZIO Federico|1987-03-17|     FAZIO|   199|    85| 17|  3|1987|  90|\n",
            "|Argentina|  GK|     GUZMAN Nahuel|1986-02-10|    GUZMÁN|   192|    90| 10|  2|1986|  82|\n",
            "|Argentina|  DF|       ROJO Marcos|1990-03-20|      ROJO|   189|    82| 20|  3|1990|  85|\n",
            "|Argentina|  GK|     ARMANI Franco|1986-10-16|    ARMANI|   189|    85| 16| 10|1986|  80|\n",
            "|Argentina|  GK|CABALLERO Wilfredo|1981-09-28| CABALLERO|   186|    80| 28|  9|1981|  75|\n",
            "|Argentina|  FW|   HIGUAIN Gonzalo|1987-12-10|   HIGUAÍN|   184|    75| 10| 12|1987|  73|\n",
            "|Argentina|  DF|  ANSALDI Cristian|1986-09-20|   ANSALDI|   181|    73| 20|  9|1986|  81|\n",
            "|Argentina|  DF|   MERCADO Gabriel|1987-03-18|   MERCADO|   181|    81| 18|  3|1987|  81|\n",
            "|Argentina|  DF|  OTAMENDI Nicolas|1988-02-12|  OTAMENDI|   181|    81| 12|  2|1988|  76|\n",
            "|Argentina|  MF|  MEZA Maximiliano|1992-12-15|      MEZA|   180|    76| 15| 12|1992|  75|\n",
            "+---------+----+------------------+----------+----------+------+------+---+---+----+----+\n",
            "only showing top 10 rows\n",
            "\n",
            "time: 541 ms (started: 2023-09-27 17:42:51 +00:00)\n"
          ]
        }
      ]
    },
    {
      "cell_type": "markdown",
      "source": [
        "## DISTINCT"
      ],
      "metadata": {
        "id": "vZpMzJ4ZXRqc"
      }
    },
    {
      "cell_type": "code",
      "source": [
        "players.select('team').distinct().show(5)"
      ],
      "metadata": {
        "colab": {
          "base_uri": "https://localhost:8080/"
        },
        "id": "T_WNnqDhYA9g",
        "outputId": "28136963-6c1d-4829-ab8b-270e1d477c1f"
      },
      "execution_count": 51,
      "outputs": [
        {
          "output_type": "stream",
          "name": "stdout",
          "text": [
            "+-------+\n",
            "|   team|\n",
            "+-------+\n",
            "| Russia|\n",
            "|Senegal|\n",
            "| Sweden|\n",
            "|IR Iran|\n",
            "|Germany|\n",
            "+-------+\n",
            "only showing top 5 rows\n",
            "\n",
            "time: 451 ms (started: 2023-09-27 17:42:52 +00:00)\n"
          ]
        }
      ]
    },
    {
      "cell_type": "markdown",
      "source": [
        "Número de valores únicos em um atributo."
      ],
      "metadata": {
        "id": "tr8eG_7id82w"
      }
    },
    {
      "cell_type": "code",
      "source": [
        "nunique = players.select('team').distinct().count()\n",
        "print(f'unique values: {nunique}')"
      ],
      "metadata": {
        "colab": {
          "base_uri": "https://localhost:8080/"
        },
        "id": "kJegd3TQdywi",
        "outputId": "78dba2d7-4147-440e-a058-0c4576de9fb0"
      },
      "execution_count": 52,
      "outputs": [
        {
          "output_type": "stream",
          "name": "stdout",
          "text": [
            "unique values: 32\n",
            "time: 277 ms (started: 2023-09-27 17:42:52 +00:00)\n"
          ]
        }
      ]
    },
    {
      "cell_type": "markdown",
      "source": [
        "## COLLECT\n",
        "Salva o resultado de uma consulta em uma lista."
      ],
      "metadata": {
        "id": "wzQzR6ptKUI_"
      }
    },
    {
      "cell_type": "code",
      "source": [
        "players.select('team').distinct().collect()"
      ],
      "metadata": {
        "colab": {
          "base_uri": "https://localhost:8080/"
        },
        "id": "mg39pyerKbkm",
        "outputId": "774053a1-b68e-4027-f451-a93322b18742"
      },
      "execution_count": 53,
      "outputs": [
        {
          "output_type": "execute_result",
          "data": {
            "text/plain": [
              "[Row(team='Russia'),\n",
              " Row(team='Senegal'),\n",
              " Row(team='Sweden'),\n",
              " Row(team='IR Iran'),\n",
              " Row(team='Germany'),\n",
              " Row(team='France'),\n",
              " Row(team='Argentina'),\n",
              " Row(team='Belgium'),\n",
              " Row(team='Peru'),\n",
              " Row(team='Croatia'),\n",
              " Row(team='Nigeria'),\n",
              " Row(team='Korea Republic'),\n",
              " Row(team='Spain'),\n",
              " Row(team='Denmark'),\n",
              " Row(team='Morocco'),\n",
              " Row(team='Panama'),\n",
              " Row(team='Iceland'),\n",
              " Row(team='Uruguay'),\n",
              " Row(team='Mexico'),\n",
              " Row(team='Tunisia'),\n",
              " Row(team='Saudi Arabia'),\n",
              " Row(team='Switzerland'),\n",
              " Row(team='Brazil'),\n",
              " Row(team='Japan'),\n",
              " Row(team='England'),\n",
              " Row(team='Poland'),\n",
              " Row(team='Portugal'),\n",
              " Row(team='Australia'),\n",
              " Row(team='Costa Rica'),\n",
              " Row(team='Egypt'),\n",
              " Row(team='Serbia'),\n",
              " Row(team='Colombia')]"
            ]
          },
          "metadata": {},
          "execution_count": 53
        },
        {
          "output_type": "stream",
          "name": "stdout",
          "text": [
            "time: 283 ms (started: 2023-09-27 17:42:53 +00:00)\n"
          ]
        }
      ]
    },
    {
      "cell_type": "markdown",
      "source": [
        "O resultado anterior é uma lista de objetos Row. Caso seja necessário apenas o nome do país podemos usar o código abaixo."
      ],
      "metadata": {
        "id": "LQG8pGwOL7Fy"
      }
    },
    {
      "cell_type": "code",
      "source": [
        "result = players.select('team').distinct().collect()\n",
        "countries = [row[0] for row in result]\n",
        "print(countries)"
      ],
      "metadata": {
        "colab": {
          "base_uri": "https://localhost:8080/"
        },
        "id": "QW0n2kMLLGmZ",
        "outputId": "3616a8de-ad36-4ace-b747-88652d7ab778"
      },
      "execution_count": 54,
      "outputs": [
        {
          "output_type": "stream",
          "name": "stdout",
          "text": [
            "['Russia', 'Senegal', 'Sweden', 'IR Iran', 'Germany', 'France', 'Argentina', 'Belgium', 'Peru', 'Croatia', 'Nigeria', 'Korea Republic', 'Spain', 'Denmark', 'Morocco', 'Panama', 'Iceland', 'Uruguay', 'Mexico', 'Tunisia', 'Saudi Arabia', 'Switzerland', 'Brazil', 'Japan', 'England', 'Poland', 'Portugal', 'Australia', 'Costa Rica', 'Egypt', 'Serbia', 'Colombia']\n",
            "time: 226 ms (started: 2023-09-27 17:42:53 +00:00)\n"
          ]
        }
      ]
    },
    {
      "cell_type": "markdown",
      "source": [
        "## CASE/WHEN/THEN\n",
        "Caso queiramos usar essas intruções com PySpark podemos usar as funções when() e otherwise(). CASE e THEN ficam implícitas. Também podemos dizer que são o if/else deste framework."
      ],
      "metadata": {
        "id": "7ohWUXZSMxrA"
      }
    },
    {
      "cell_type": "code",
      "source": [
        "val = when(condition=(col('team') == 'Argentina'), value='Argentinos').otherwise(value='Normais')\n",
        "players.withColumn('new_col', val).show()"
      ],
      "metadata": {
        "colab": {
          "base_uri": "https://localhost:8080/"
        },
        "id": "N1DMTNNXNLeW",
        "outputId": "e9ef2617-da87-4ade-9f0d-1c9002dafcb7"
      },
      "execution_count": 55,
      "outputs": [
        {
          "output_type": "stream",
          "name": "stdout",
          "text": [
            "+---------+----+------------------+----------+----------+------+------+---+---+----+----------+\n",
            "|     team|pos.| fifa popular name|birth date|shirt name|height|weight|dia|mes| ano|   new_col|\n",
            "+---------+----+------------------+----------+----------+------+------+---+---+----+----------+\n",
            "|Argentina|  DF|TAGLIAFICO Nicolas|1992-08-31|TAGLIAFICO|   169|    65| 31|  8|1992|Argentinos|\n",
            "|Argentina|  MF|    PAVON Cristian|1996-01-21|     PAVÓN|   169|    65| 21|  1|1996|Argentinos|\n",
            "|Argentina|  MF|    LANZINI Manuel|1993-02-15|   LANZINI|   167|    66| 15|  2|1993|Argentinos|\n",
            "|Argentina|  DF|    SALVIO Eduardo|1990-07-13|    SALVIO|   167|    69| 13|  7|1990|Argentinos|\n",
            "|Argentina|  FW|      MESSI Lionel|1987-06-24|     MESSI|   170|    72| 24|  6|1987|Argentinos|\n",
            "|Argentina|  DF|  ANSALDI Cristian|1986-09-20|   ANSALDI|   181|    73| 20|  9|1986|Argentinos|\n",
            "|Argentina|  MF|      BIGLIA Lucas|1986-01-30|    BIGLIA|   175|    73| 30|  1|1986|Argentinos|\n",
            "|Argentina|  MF|       BANEGA Ever|1988-06-29|    BANEGA|   175|    73| 29|  6|1988|Argentinos|\n",
            "|Argentina|  DF| MASCHERANO Javier|1984-06-08|MASCHERANO|   174|    73|  8|  6|1984|Argentinos|\n",
            "|Argentina|  FW|      DYBALA Paulo|1993-11-15|    DYBALA|   177|    73| 15| 11|1993|Argentinos|\n",
            "|Argentina|  FW|     AGUERO Sergio|1988-06-02|    AGÜERO|   172|    74|  2|  6|1988|Argentinos|\n",
            "|Argentina|  FW|   HIGUAIN Gonzalo|1987-12-10|   HIGUAÍN|   184|    75| 10| 12|1987|Argentinos|\n",
            "|Argentina|  MF|    DI MARIA Angel|1988-02-14|  DI MARÍA|   178|    75| 14|  2|1988|Argentinos|\n",
            "|Argentina|  MF|  LO CELSO Giovani|1996-04-09|  LO CELSO|   177|    75|  9|  4|1996|Argentinos|\n",
            "|Argentina|  MF|  MEZA Maximiliano|1992-12-15|      MEZA|   180|    76| 15| 12|1992|Argentinos|\n",
            "|Argentina|  DF|      ACUNA Marcos|1991-10-28|     ACUÑA|   172|    77| 28| 10|1991|Argentinos|\n",
            "|Argentina|  GK|CABALLERO Wilfredo|1981-09-28| CABALLERO|   186|    80| 28|  9|1981|Argentinos|\n",
            "|Argentina|  DF|   MERCADO Gabriel|1987-03-18|   MERCADO|   181|    81| 18|  3|1987|Argentinos|\n",
            "|Argentina|  DF|  OTAMENDI Nicolas|1988-02-12|  OTAMENDI|   181|    81| 12|  2|1988|Argentinos|\n",
            "|Argentina|  DF|       ROJO Marcos|1990-03-20|      ROJO|   189|    82| 20|  3|1990|Argentinos|\n",
            "+---------+----+------------------+----------+----------+------+------+---+---+----+----------+\n",
            "only showing top 20 rows\n",
            "\n",
            "time: 423 ms (started: 2023-09-27 17:42:53 +00:00)\n"
          ]
        }
      ]
    },
    {
      "cell_type": "code",
      "source": [
        "africa = ['Senegal', 'Morocco', 'Tunisia', 'Egypt']\n",
        "america_norte = ['Panama', 'Mexico', 'Costa Rica']\n",
        "america_sul = ['Argentina', 'Peru', 'Uruguay', 'Brazil', 'Colombia']\n",
        "asia = ['Russia', 'IR Iran', 'Nigeria', 'Korea Republic', 'Saudi Arabia', 'Japan', ]\n",
        "europa = ['Sweden', 'Germany', 'France', 'Belgium', 'Croatia', 'Spain', 'Denmark', 'Iceland', 'Switzerland', 'England', 'Poland', 'Portugal', 'Serbia']\n",
        "oceania = ['Australia']\n",
        "\n",
        "val = when(condition=(col('team').isin(africa)), value=('europeu'))\\\n",
        "      .when(condition=(col('team').isin(america_norte)), value=('n_americano'))\\\n",
        "      .when(condition=(col('team').isin(america_sul)), value=('s_americano'))\\\n",
        "      .when(condition=(col('team').isin(asia)), value=('asiatico'))\\\n",
        "      .when(condition=(col('team').isin(europa)), value=('europeu'))\\\n",
        "      .when(condition=(col('team').isin(oceania)), value=('oceanicos'))\\\n",
        "      .otherwise('desconhecidos')\n",
        "\n",
        "players.withColumn('new_col', val).sample(fraction=0.01).show(5)"
      ],
      "metadata": {
        "colab": {
          "base_uri": "https://localhost:8080/"
        },
        "id": "jCJTDkgVP4a1",
        "outputId": "ae4379b9-505a-4860-89db-d4d9655a9c4a"
      },
      "execution_count": 56,
      "outputs": [
        {
          "output_type": "stream",
          "name": "stdout",
          "text": [
            "+--------------+----+-----------------+----------+----------+------+------+---+---+----+-----------+\n",
            "|          team|pos.|fifa popular name|birth date|shirt name|height|weight|dia|mes| ano|    new_col|\n",
            "+--------------+----+-----------------+----------+----------+------+------+---+---+----+-----------+\n",
            "|      Colombia|  DF| SANCHEZ Davinson|1996-06-12|D. SANCHEZ|   187|    81| 12|  6|1996|s_americano|\n",
            "|    Costa Rica|  DF|    ACOSTA Johnny|1983-07-21| J. ACOSTA|   176|    75| 21|  7|1983|n_americano|\n",
            "|Korea Republic|  DF|        OH Bansuk|1988-05-20|    B S OH|   189|    79| 20|  5|1988|   asiatico|\n",
            "|          Peru|  DF|       CORZO Aldo|1989-05-20|     CORZO|   172|    75| 20|  5|1989|s_americano|\n",
            "|  Saudi Arabia|  DF| YASIR ALSHAHRANI|1992-05-25|     YASIR|   170|    63| 25|  5|1992|   asiatico|\n",
            "+--------------+----+-----------------+----------+----------+------+------+---+---+----+-----------+\n",
            "only showing top 5 rows\n",
            "\n",
            "time: 659 ms (started: 2023-09-27 17:42:54 +00:00)\n"
          ]
        }
      ]
    },
    {
      "cell_type": "markdown",
      "source": [
        "## UNION\n",
        "\n",
        "A função union() verifica unicamente a quantidade colunas que os dataframes envolvidos possuem. Caso eles tenham a mesma quantidade a função concatenará um embaixo do outro. Ou seja, considerando um dataframe df_x e outro df_y, ela concatenará a primeira coluna de df_x com a primeira coluna de df_y, a segunda de df_x com a segunda de df_y, e assim por diante. Portanto, union() não verifica os tipos de dados nem os nomes das colunas. Para que o resultado faça sentido o programador deve fazer essas verificações."
      ],
      "metadata": {
        "id": "9ztKmZ_MTm81"
      }
    },
    {
      "cell_type": "markdown",
      "source": [
        "Vou criar dois dataframes com países americanos e concatená-los formando apenas um. Mas primeiro, preciso criar um novo atributo com os continentes os quais cada país pertence."
      ],
      "metadata": {
        "id": "byrDqYZ4XT2g"
      }
    },
    {
      "cell_type": "code",
      "source": [
        "players = players.withColumn('continent', val)\n",
        "players.sample(fraction=0.01).show(5)"
      ],
      "metadata": {
        "colab": {
          "base_uri": "https://localhost:8080/"
        },
        "id": "EQizwA7LUT5X",
        "outputId": "f18b8d77-ad5c-4c3b-fec1-4c98e131bcf7"
      },
      "execution_count": 57,
      "outputs": [
        {
          "output_type": "stream",
          "name": "stdout",
          "text": [
            "+--------------+----+-----------------+----------+----------+------+------+---+---+----+---------+\n",
            "|          team|pos.|fifa popular name|birth date|shirt name|height|weight|dia|mes| ano|continent|\n",
            "+--------------+----+-----------------+----------+----------+------+------+---+---+----+---------+\n",
            "|       Denmark|  FW|   DOLBERG Kasper|1997-10-06|   DOLBERG|   187|    85|  6| 10|1997|  europeu|\n",
            "|       Germany|  DF|   BOATENG Jerome|1988-09-03|   BOATENG|   192|    90|  3|  9|1988|  europeu|\n",
            "|Korea Republic|  MF|      LEE Jaesung|1992-08-10|   J S LEE|   180|    70| 10|  8|1992| asiatico|\n",
            "|  Saudi Arabia|  MF|  SALEM ALDAWSARI|1991-08-19|     SALEM|   174|    68| 19|  8|1991| asiatico|\n",
            "|   Switzerland|  MF|  DZEMAILI Blerim|1986-04-12|  DZEMAILI|   180|    77| 12|  4|1986|  europeu|\n",
            "+--------------+----+-----------------+----------+----------+------+------+---+---+----+---------+\n",
            "\n",
            "time: 352 ms (started: 2023-09-27 17:42:54 +00:00)\n"
          ]
        }
      ]
    },
    {
      "cell_type": "markdown",
      "source": [
        "Agora, vou criar um dataframe com os países da América do Sul e outro com os da América do Norte."
      ],
      "metadata": {
        "id": "zcwLZ35eVtyp"
      }
    },
    {
      "cell_type": "code",
      "source": [
        "s_america = players.where(\"continent = 's_americano'\")\n",
        "n_america = players.where(\"continent = 'n_americano'\")\n",
        "\n",
        "df_america = s_america.union(n_america)"
      ],
      "metadata": {
        "colab": {
          "base_uri": "https://localhost:8080/"
        },
        "id": "tiEqtENzVywM",
        "outputId": "a46d4521-abaf-4a64-882a-756350215708"
      },
      "execution_count": 58,
      "outputs": [
        {
          "output_type": "stream",
          "name": "stdout",
          "text": [
            "time: 71.1 ms (started: 2023-09-27 17:42:55 +00:00)\n"
          ]
        }
      ]
    },
    {
      "cell_type": "code",
      "source": [
        "print(s_america.count())\n",
        "print(n_america.count())\n",
        "print(df_america.count())\n",
        "df_america.sample(fraction=0.04).show(15)"
      ],
      "metadata": {
        "colab": {
          "base_uri": "https://localhost:8080/"
        },
        "id": "DqIxc8_-X9bl",
        "outputId": "f1aab5de-e91a-4211-926b-1cb1dfd72c63"
      },
      "execution_count": 59,
      "outputs": [
        {
          "output_type": "stream",
          "name": "stdout",
          "text": [
            "115\n",
            "69\n",
            "184\n",
            "+----------+----+-----------------+----------+------------+------+------+---+---+----+-----------+\n",
            "|      team|pos.|fifa popular name|birth date|  shirt name|height|weight|dia|mes| ano|  continent|\n",
            "+----------+----+-----------------+----------+------------+------+------+---+---+----+-----------+\n",
            "|  Colombia|  DF|   ARIAS Santiago|1992-01-13|       ARIAS|   177|    71| 13|  1|1992|s_americano|\n",
            "|      Peru|  MF|     AQUINO Pedro|1995-04-13|      AQUINO|   174|    71| 13|  4|1995|s_americano|\n",
            "|   Uruguay|  GK|   CAMPANA Martin|1989-05-29|     CAMPAÑA|   184|    79| 29|  5|1989|s_americano|\n",
            "|Costa Rica|  MF|   WALLACE Rodney|1988-06-17|  R. WALLACE|   180|    70| 17|  6|1988|n_americano|\n",
            "|Costa Rica|  GK|PEMBERTON Patrick|1982-04-24|P. PEMBERTON|   178|    72| 24|  4|1982|n_americano|\n",
            "|Costa Rica|  MF| COLINDRES Daniel|1985-01-10|D. COLINDRES|   180|    75| 10|  1|1985|n_americano|\n",
            "|    Mexico|  FW|      VELA Carlos|1989-03-01|    CARLOS V|   178|    78|  1|  3|1989|n_americano|\n",
            "|    Mexico|  GK| TALAVERA Alfredo|1982-09-18| A. TALAVERA|   188|    84| 18|  9|1982|n_americano|\n",
            "|    Panama|  FW|       PEREZ Blas|1981-03-13|       PEREZ|   187|    83| 13|  3|1981|n_americano|\n",
            "|    Panama|  GK|   RODRIGUEZ Alex|1990-08-05|   RODRIGUEZ|   197|    83|  5|  8|1990|n_americano|\n",
            "+----------+----+-----------------+----------+------------+------+------+---+---+----+-----------+\n",
            "\n",
            "time: 1.81 s (started: 2023-09-27 17:42:55 +00:00)\n"
          ]
        }
      ]
    },
    {
      "cell_type": "markdown",
      "source": [
        "## JOIN"
      ],
      "metadata": {
        "id": "w6qh_J7490X-"
      }
    },
    {
      "cell_type": "code",
      "source": [
        "clients.show(3)\n",
        "products.show(3)\n",
        "sales.show(3)\n",
        "stores.show(3)"
      ],
      "metadata": {
        "colab": {
          "base_uri": "https://localhost:8080/"
        },
        "id": "JvgYpB73AKGh",
        "outputId": "ecd59f47-fdea-4df0-9cba-4e8992b81083"
      },
      "execution_count": 60,
      "outputs": [
        {
          "output_type": "stream",
          "name": "stdout",
          "text": [
            "+---------+--------------+------------+------------+-------------+\n",
            "|client_id|   client_city|client_state|client_birth|client_gender|\n",
            "+---------+--------------+------------+------------+-------------+\n",
            "|    14001|      Curitiba|          PR|   6/28/1985|        Homem|\n",
            "|    14002| Florianópolis|          SC|   1/10/1987|        Homem|\n",
            "|    14003|Rio de Janeiro|          RJ|   11/5/1979|        Homem|\n",
            "+---------+--------------+------------+------------+-------------+\n",
            "only showing top 3 rows\n",
            "\n",
            "+--------------------+---------------+------------+\n",
            "|          product_id|   product_name|product_size|\n",
            "+--------------------+---------------+------------+\n",
            "|00066f42aeeb9f300...|Capitão América|           P|\n",
            "|00066f42aeeb9f300...|Capitão América|           M|\n",
            "|00066f42aeeb9f300...|Capitão América|           G|\n",
            "+--------------------+---------------+------------+\n",
            "only showing top 3 rows\n",
            "\n",
            "+--------------------+--------------------+---------+--------+----------+--------+--------+----------+\n",
            "|                  id|          product_id|client_id|discount|unit_price|quantity|store_id|      date|\n",
            "+--------------------+--------------------+---------+--------+----------+--------+--------+----------+\n",
            "|80260d682079b6090...|002552c0663708129...|    14001|    0,08|     249,2|       1|       4|12/10/2018|\n",
            "|3275736da1234f55d...|001b237c0e9bb435f...|    14001|     0,1|     162,4|       1|       4| 4/25/2019|\n",
            "|f3513eec8f1434b5b...|00066f42aeeb9f300...|    14001|     0,1|     194,6|       1|       4| 7/17/2019|\n",
            "+--------------------+--------------------+---------+--------+----------+--------+--------+----------+\n",
            "only showing top 3 rows\n",
            "\n",
            "+--------+--------------+-----------+\n",
            "|store_id|    store_city|store_state|\n",
            "+--------+--------------+-----------+\n",
            "|       1| Florianópolis|         SC|\n",
            "|       2|Rio de Janeiro|         RJ|\n",
            "|       3|  Porto Alegre|         RS|\n",
            "+--------+--------------+-----------+\n",
            "only showing top 3 rows\n",
            "\n",
            "time: 599 ms (started: 2023-09-27 17:42:57 +00:00)\n"
          ]
        }
      ]
    },
    {
      "cell_type": "markdown",
      "source": [
        "A condição de igualdade entre chave primária e extrangeira fica implicita utilizando apenas uma string ou lista de strings no parâmetro 'on'. Portanto, o nome da coluna deve ser o mesmo em ambos dataframes."
      ],
      "metadata": {
        "id": "G7Ffmpo6GFFj"
      }
    },
    {
      "cell_type": "code",
      "source": [
        "# removo algumas colunas com drop() para a visualização do resultado ficar mais legível.\n",
        "sales.join(stores, on='store_id').drop('product_id', 'id', 'date', 'quantity').show(5)"
      ],
      "metadata": {
        "colab": {
          "base_uri": "https://localhost:8080/"
        },
        "id": "dGYdKgqCGHy-",
        "outputId": "79193944-079b-48d4-eb96-0bbbec4258e1"
      },
      "execution_count": 61,
      "outputs": [
        {
          "output_type": "stream",
          "name": "stdout",
          "text": [
            "+--------+---------+--------+----------+-------------+-----------+\n",
            "|store_id|client_id|discount|unit_price|   store_city|store_state|\n",
            "+--------+---------+--------+----------+-------------+-----------+\n",
            "|       4|    14001|    0,08|     249,2|     Curitiba|         PR|\n",
            "|       4|    14001|     0,1|     162,4|     Curitiba|         PR|\n",
            "|       4|    14001|     0,1|     194,6|     Curitiba|         PR|\n",
            "|       1|    14002|     0,1|     201,6|Florianópolis|         SC|\n",
            "|       1|    14002|     0,1|       406|Florianópolis|         SC|\n",
            "+--------+---------+--------+----------+-------------+-----------+\n",
            "only showing top 5 rows\n",
            "\n",
            "time: 558 ms (started: 2023-09-27 17:42:57 +00:00)\n"
          ]
        }
      ]
    },
    {
      "cell_type": "markdown",
      "source": [
        "Caso for necessário mais de uma chave primária, podemos usar uma lista de chaves."
      ],
      "metadata": {
        "id": "wd_OPob5Icv-"
      }
    },
    {
      "cell_type": "code",
      "source": [
        "# removo algumas colunas com drop() para a visualização do resultado ficar mais legível.\n",
        "sales.join(stores, on=['store_id']).drop('product_id', 'id', 'date', 'quantity').show(5)"
      ],
      "metadata": {
        "colab": {
          "base_uri": "https://localhost:8080/"
        },
        "id": "Wwunh4v0IP9K",
        "outputId": "40300283-3e4e-43e0-b626-8c14ed934ee4"
      },
      "execution_count": 62,
      "outputs": [
        {
          "output_type": "stream",
          "name": "stdout",
          "text": [
            "+--------+---------+--------+----------+-------------+-----------+\n",
            "|store_id|client_id|discount|unit_price|   store_city|store_state|\n",
            "+--------+---------+--------+----------+-------------+-----------+\n",
            "|       4|    14001|    0,08|     249,2|     Curitiba|         PR|\n",
            "|       4|    14001|     0,1|     162,4|     Curitiba|         PR|\n",
            "|       4|    14001|     0,1|     194,6|     Curitiba|         PR|\n",
            "|       1|    14002|     0,1|     201,6|Florianópolis|         SC|\n",
            "|       1|    14002|     0,1|       406|Florianópolis|         SC|\n",
            "+--------+---------+--------+----------+-------------+-----------+\n",
            "only showing top 5 rows\n",
            "\n",
            "time: 318 ms (started: 2023-09-27 17:42:58 +00:00)\n"
          ]
        }
      ]
    },
    {
      "cell_type": "markdown",
      "source": [
        "Podemos definir explicitamente a condição de igualdade com o código abaixo."
      ],
      "metadata": {
        "id": "k-TSdFZOIv-l"
      }
    },
    {
      "cell_type": "code",
      "source": [
        "# removo algumas colunas com drop() para a visualização do resultado ficar mais legível.\n",
        "mask = sales['store_id'] == stores['store_id']\n",
        "sales.join(stores, on=mask).drop('product_id', 'id', 'date', 'quantity').show(5)"
      ],
      "metadata": {
        "colab": {
          "base_uri": "https://localhost:8080/"
        },
        "id": "TEuWdgVyH56h",
        "outputId": "1f92d108-19e4-4fb5-efd7-618d68b2e6ad"
      },
      "execution_count": 63,
      "outputs": [
        {
          "output_type": "stream",
          "name": "stdout",
          "text": [
            "+---------+--------+----------+--------+--------+-------------+-----------+\n",
            "|client_id|discount|unit_price|store_id|store_id|   store_city|store_state|\n",
            "+---------+--------+----------+--------+--------+-------------+-----------+\n",
            "|    14001|    0,08|     249,2|       4|       4|     Curitiba|         PR|\n",
            "|    14001|     0,1|     162,4|       4|       4|     Curitiba|         PR|\n",
            "|    14001|     0,1|     194,6|       4|       4|     Curitiba|         PR|\n",
            "|    14002|     0,1|     201,6|       1|       1|Florianópolis|         SC|\n",
            "|    14002|     0,1|       406|       1|       1|Florianópolis|         SC|\n",
            "+---------+--------+----------+--------+--------+-------------+-----------+\n",
            "only showing top 5 rows\n",
            "\n",
            "time: 442 ms (started: 2023-09-27 17:42:58 +00:00)\n"
          ]
        }
      ]
    },
    {
      "cell_type": "markdown",
      "source": [
        "### Tipos de JOIN\n",
        "A função join() do PySpark suporta os seguintes tipos de join: inner, cross, outer, full, fullouter, full_outer, left, leftouter, left_outer, right, rightouter, right_outer, semi, leftsemi, left_semi, anti, leftanti e left_anti.\n",
        "\n",
        "Para escolher qual tipo vamos usar devemos passar o seu nome como argumento no parâmetro \"how\" da função join()."
      ],
      "metadata": {
        "id": "0SF0T8YmEukr"
      }
    },
    {
      "cell_type": "code",
      "source": [
        "sales.join(products, on=['product_id'], how=\"inner\").drop('product_id', 'id', 'date', 'quantity').show(5)"
      ],
      "metadata": {
        "colab": {
          "base_uri": "https://localhost:8080/"
        },
        "id": "-PrU_5qcFp0O",
        "outputId": "435b867c-043f-497a-b3a9-07adb132b6bd"
      },
      "execution_count": 64,
      "outputs": [
        {
          "output_type": "stream",
          "name": "stdout",
          "text": [
            "+---------+--------+----------+--------+---------------+------------+\n",
            "|client_id|discount|unit_price|store_id|   product_name|product_size|\n",
            "+---------+--------+----------+--------+---------------+------------+\n",
            "|    14001|    0,08|     249,2|       4|     Tempestade|           G|\n",
            "|    14001|     0,1|     162,4|       4|         Thanos|           G|\n",
            "|    14001|     0,1|     194,6|       4|Capitão América|           P|\n",
            "|    14002|     0,1|     201,6|       1|      Wolverine|           G|\n",
            "|    14002|     0,1|       406|       1|         Naruto|           G|\n",
            "+---------+--------+----------+--------+---------------+------------+\n",
            "only showing top 5 rows\n",
            "\n",
            "time: 844 ms (started: 2023-09-27 17:42:58 +00:00)\n"
          ]
        }
      ]
    },
    {
      "cell_type": "code",
      "source": [
        "sales.join(products, on=['product_id'], how=\"left\").drop('product_id', 'id', 'date', 'quantity').show(5)"
      ],
      "metadata": {
        "colab": {
          "base_uri": "https://localhost:8080/"
        },
        "id": "PH-EzQJnFutg",
        "outputId": "a9014ea0-e7f4-4754-95c7-c664efc74aee"
      },
      "execution_count": 65,
      "outputs": [
        {
          "output_type": "stream",
          "name": "stdout",
          "text": [
            "+---------+--------+----------+--------+---------------+------------+\n",
            "|client_id|discount|unit_price|store_id|   product_name|product_size|\n",
            "+---------+--------+----------+--------+---------------+------------+\n",
            "|    14001|    0,08|     249,2|       4|     Tempestade|           G|\n",
            "|    14001|     0,1|     162,4|       4|         Thanos|           G|\n",
            "|    14001|     0,1|     194,6|       4|Capitão América|           P|\n",
            "|    14002|     0,1|     201,6|       1|      Wolverine|           G|\n",
            "|    14002|     0,1|       406|       1|         Naruto|           G|\n",
            "+---------+--------+----------+--------+---------------+------------+\n",
            "only showing top 5 rows\n",
            "\n",
            "time: 786 ms (started: 2023-09-27 17:42:59 +00:00)\n"
          ]
        }
      ]
    },
    {
      "cell_type": "code",
      "source": [
        "sales.join(clients, on=['client_id'], how=\"right\").drop('product_id', 'id', 'date', 'quantity').show(5)"
      ],
      "metadata": {
        "colab": {
          "base_uri": "https://localhost:8080/"
        },
        "id": "nH0GoCtyGDNs",
        "outputId": "bbae336f-85bf-4746-c664-fdcc8741ea69"
      },
      "execution_count": 66,
      "outputs": [
        {
          "output_type": "stream",
          "name": "stdout",
          "text": [
            "+---------+--------+----------+--------+-------------+------------+------------+-------------+\n",
            "|client_id|discount|unit_price|store_id|  client_city|client_state|client_birth|client_gender|\n",
            "+---------+--------+----------+--------+-------------+------------+------------+-------------+\n",
            "|    14001|     0,1|     194,6|       4|     Curitiba|          PR|   6/28/1985|        Homem|\n",
            "|    14001|     0,1|     162,4|       4|     Curitiba|          PR|   6/28/1985|        Homem|\n",
            "|    14001|    0,08|     249,2|       4|     Curitiba|          PR|   6/28/1985|        Homem|\n",
            "|    14002|    0,08|     114,8|       1|Florianópolis|          SC|   1/10/1987|        Homem|\n",
            "|    14002|    0,08|     261,8|       1|Florianópolis|          SC|   1/10/1987|        Homem|\n",
            "+---------+--------+----------+--------+-------------+------------+------------+-------------+\n",
            "only showing top 5 rows\n",
            "\n",
            "time: 1.26 s (started: 2023-09-27 17:43:00 +00:00)\n"
          ]
        }
      ]
    }
  ]
}