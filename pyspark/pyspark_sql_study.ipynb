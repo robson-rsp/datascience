{
  "nbformat": 4,
  "nbformat_minor": 0,
  "metadata": {
    "colab": {
      "provenance": [],
      "toc_visible": true,
      "authorship_tag": "ABX9TyOGMRSi/7+z97AOOHxsmksm"
    },
    "kernelspec": {
      "name": "python3",
      "display_name": "Python 3"
    },
    "language_info": {
      "name": "python"
    }
  },
  "cells": [
    {
      "cell_type": "markdown",
      "source": [
        "# Pyspark SQL\n",
        "\n",
        "Este kernel possui alguns exemplos de código do módulo pyspark.sql.\n",
        "Apresenta exemplos de funções que implementam instruções SQL, como: SELECT, WHERE, GROUP BY, ORDER BY, PARTITION BY, entre outras.\n",
        "\n",
        "\n",
        "São usados dois datasets para os exemplos:\n",
        "*   housing.csv: contém informações sobre imóveis no estado da Califórnia;\n",
        "*   wc2018-players.csv: contém informações sobre jogadores de futebol da Copa do Mundo 2018."
      ],
      "metadata": {
        "id": "g1Sxu4CjDZiG"
      }
    },
    {
      "cell_type": "code",
      "execution_count": 78,
      "metadata": {
        "id": "xyfsd2bo5wVP",
        "colab": {
          "base_uri": "https://localhost:8080/"
        },
        "outputId": "db9d50e0-8863-4a2e-c2cc-804bb3263343"
      },
      "outputs": [
        {
          "output_type": "stream",
          "name": "stdout",
          "text": [
            "Requirement already satisfied: ipython-autotime in /usr/local/lib/python3.10/dist-packages (0.3.1)\n",
            "Requirement already satisfied: ipython in /usr/local/lib/python3.10/dist-packages (from ipython-autotime) (7.34.0)\n",
            "Requirement already satisfied: setuptools>=18.5 in /usr/local/lib/python3.10/dist-packages (from ipython->ipython-autotime) (67.7.2)\n",
            "Requirement already satisfied: jedi>=0.16 in /usr/local/lib/python3.10/dist-packages (from ipython->ipython-autotime) (0.19.0)\n",
            "Requirement already satisfied: decorator in /usr/local/lib/python3.10/dist-packages (from ipython->ipython-autotime) (4.4.2)\n",
            "Requirement already satisfied: pickleshare in /usr/local/lib/python3.10/dist-packages (from ipython->ipython-autotime) (0.7.5)\n",
            "Requirement already satisfied: traitlets>=4.2 in /usr/local/lib/python3.10/dist-packages (from ipython->ipython-autotime) (5.7.1)\n",
            "Requirement already satisfied: prompt-toolkit!=3.0.0,!=3.0.1,<3.1.0,>=2.0.0 in /usr/local/lib/python3.10/dist-packages (from ipython->ipython-autotime) (3.0.39)\n",
            "Requirement already satisfied: pygments in /usr/local/lib/python3.10/dist-packages (from ipython->ipython-autotime) (2.16.1)\n",
            "Requirement already satisfied: backcall in /usr/local/lib/python3.10/dist-packages (from ipython->ipython-autotime) (0.2.0)\n",
            "Requirement already satisfied: matplotlib-inline in /usr/local/lib/python3.10/dist-packages (from ipython->ipython-autotime) (0.1.6)\n",
            "Requirement already satisfied: pexpect>4.3 in /usr/local/lib/python3.10/dist-packages (from ipython->ipython-autotime) (4.8.0)\n",
            "Requirement already satisfied: parso<0.9.0,>=0.8.3 in /usr/local/lib/python3.10/dist-packages (from jedi>=0.16->ipython->ipython-autotime) (0.8.3)\n",
            "Requirement already satisfied: ptyprocess>=0.5 in /usr/local/lib/python3.10/dist-packages (from pexpect>4.3->ipython->ipython-autotime) (0.7.0)\n",
            "Requirement already satisfied: wcwidth in /usr/local/lib/python3.10/dist-packages (from prompt-toolkit!=3.0.0,!=3.0.1,<3.1.0,>=2.0.0->ipython->ipython-autotime) (0.2.6)\n",
            "Requirement already satisfied: pyspark in /usr/local/lib/python3.10/dist-packages (3.4.1)\n",
            "Requirement already satisfied: py4j==0.10.9.7 in /usr/local/lib/python3.10/dist-packages (from pyspark) (0.10.9.7)\n",
            "time: 11.9 s (started: 2023-09-19 17:12:37 +00:00)\n"
          ]
        }
      ],
      "source": [
        "%pip install ipython-autotime\n",
        "%pip install pyspark"
      ]
    },
    {
      "cell_type": "markdown",
      "source": [
        "Trecho de código opcional que resolve problema de compatibilidade entre a linguagem Python e o PySpark."
      ],
      "metadata": {
        "id": "9U_63vwhpUmt"
      }
    },
    {
      "cell_type": "code",
      "source": [
        "%%script echo 'ignore cell'\n",
        "import os\n",
        "import sys\n",
        "\n",
        "os.environ['PYSPARK_PYTHON'] = sys.executable\n",
        "os.environ['PYSPARK_DRIVER_PYTHON'] = sys.executable"
      ],
      "metadata": {
        "colab": {
          "base_uri": "https://localhost:8080/"
        },
        "id": "Tw7wn82BksRS",
        "outputId": "50b7da7f-fe86-4840-bd62-90de9c346f1a"
      },
      "execution_count": 79,
      "outputs": [
        {
          "output_type": "stream",
          "name": "stdout",
          "text": [
            "ignore cell\n",
            "time: 11.9 ms (started: 2023-09-19 17:12:49 +00:00)\n"
          ]
        }
      ]
    },
    {
      "cell_type": "markdown",
      "source": [
        "# Imports básicos."
      ],
      "metadata": {
        "id": "zWAHEyAxpgRU"
      }
    },
    {
      "cell_type": "code",
      "source": [
        "from google.colab          import drive, files\n",
        "from pyspark.sql           import SparkSession\n",
        "from pyspark.sql.functions import *\n",
        "from pyspark.sql.types     import *\n",
        "from pyspark.sql.window    import Window\n",
        "\n",
        "%load_ext autotime"
      ],
      "metadata": {
        "id": "LO_fhEZL8qXK",
        "colab": {
          "base_uri": "https://localhost:8080/"
        },
        "outputId": "e12adc01-0cbb-48eb-cac3-9ca38d7aa236"
      },
      "execution_count": 80,
      "outputs": [
        {
          "output_type": "stream",
          "name": "stdout",
          "text": [
            "The autotime extension is already loaded. To reload it, use:\n",
            "  %reload_ext autotime\n",
            "time: 1.98 ms (started: 2023-09-19 17:12:49 +00:00)\n"
          ]
        }
      ]
    },
    {
      "cell_type": "markdown",
      "source": [
        "# Início da sessão."
      ],
      "metadata": {
        "id": "aAswoIY9pnoP"
      }
    },
    {
      "cell_type": "code",
      "source": [
        "drive.mount('/content/drive', force_remount=True)\n",
        "spark = SparkSession.builder.master('local').appName('pyspark_app').getOrCreate()\n",
        "spark"
      ],
      "metadata": {
        "colab": {
          "base_uri": "https://localhost:8080/",
          "height": 254
        },
        "id": "Yk5ZIoBYiDu2",
        "outputId": "3d65a74e-10be-4573-9259-b304c18e5fbc"
      },
      "execution_count": 81,
      "outputs": [
        {
          "output_type": "stream",
          "name": "stdout",
          "text": [
            "Mounted at /content/drive\n"
          ]
        },
        {
          "output_type": "execute_result",
          "data": {
            "text/plain": [
              "<pyspark.sql.session.SparkSession at 0x7ea2b126dcf0>"
            ],
            "text/html": [
              "\n",
              "            <div>\n",
              "                <p><b>SparkSession - in-memory</b></p>\n",
              "                \n",
              "        <div>\n",
              "            <p><b>SparkContext</b></p>\n",
              "\n",
              "            <p><a href=\"http://40be04659628:4040\">Spark UI</a></p>\n",
              "\n",
              "            <dl>\n",
              "              <dt>Version</dt>\n",
              "                <dd><code>v3.4.1</code></dd>\n",
              "              <dt>Master</dt>\n",
              "                <dd><code>local</code></dd>\n",
              "              <dt>AppName</dt>\n",
              "                <dd><code>pyspark_app</code></dd>\n",
              "            </dl>\n",
              "        </div>\n",
              "        \n",
              "            </div>\n",
              "        "
            ]
          },
          "metadata": {},
          "execution_count": 81
        },
        {
          "output_type": "stream",
          "name": "stdout",
          "text": [
            "time: 6.6 s (started: 2023-09-19 17:12:49 +00:00)\n"
          ]
        }
      ]
    },
    {
      "cell_type": "code",
      "source": [
        "df = spark.read.csv(\"/content/drive/MyDrive/datasets/housing/housing.csv\", header=True, inferSchema=True, encoding='utf-8')\n",
        "df = df.drop('housing_median_age', 'population', 'median_income', 'median_house_value') # remoção de atributos desnecessários\n",
        "print(type(df))\n",
        "print(f'rows: {df.count()}')\n",
        "print(f'cols: {len(df.columns)}')"
      ],
      "metadata": {
        "colab": {
          "base_uri": "https://localhost:8080/"
        },
        "id": "nF-O2mzVmGVX",
        "outputId": "ec92531a-5650-445e-95b3-14a5ae21d81e"
      },
      "execution_count": 82,
      "outputs": [
        {
          "output_type": "stream",
          "name": "stdout",
          "text": [
            "<class 'pyspark.sql.dataframe.DataFrame'>\n",
            "rows: 20640\n",
            "cols: 6\n",
            "time: 1.54 s (started: 2023-09-19 17:12:56 +00:00)\n"
          ]
        }
      ]
    },
    {
      "cell_type": "markdown",
      "source": [
        "# Funções descritivas básicas."
      ],
      "metadata": {
        "id": "qSKwsHHsE0c3"
      }
    },
    {
      "cell_type": "code",
      "source": [
        "df.show(5)"
      ],
      "metadata": {
        "colab": {
          "base_uri": "https://localhost:8080/"
        },
        "id": "waAJ4QLDE3xU",
        "outputId": "25afa108-59a6-4e20-ab46-9a1d539f18ec"
      },
      "execution_count": 83,
      "outputs": [
        {
          "output_type": "stream",
          "name": "stdout",
          "text": [
            "+---------+--------+-----------+--------------+----------+---------------+\n",
            "|longitude|latitude|total_rooms|total_bedrooms|households|ocean_proximity|\n",
            "+---------+--------+-----------+--------------+----------+---------------+\n",
            "|  -122.23|   37.88|      880.0|         129.0|     126.0|       NEAR BAY|\n",
            "|  -122.22|   37.86|     7099.0|        1106.0|    1138.0|       NEAR BAY|\n",
            "|  -122.24|   37.85|     1467.0|         190.0|     177.0|       NEAR BAY|\n",
            "|  -122.25|   37.85|     1274.0|         235.0|     219.0|       NEAR BAY|\n",
            "|  -122.25|   37.85|     1627.0|         280.0|     259.0|       NEAR BAY|\n",
            "+---------+--------+-----------+--------------+----------+---------------+\n",
            "only showing top 5 rows\n",
            "\n",
            "time: 515 ms (started: 2023-09-19 17:12:57 +00:00)\n"
          ]
        }
      ]
    },
    {
      "cell_type": "code",
      "source": [
        "print(df.columns)"
      ],
      "metadata": {
        "colab": {
          "base_uri": "https://localhost:8080/"
        },
        "id": "CCZm02HJsVL5",
        "outputId": "aaf78425-93d0-4d22-a170-0cb5097b3a14"
      },
      "execution_count": 84,
      "outputs": [
        {
          "output_type": "stream",
          "name": "stdout",
          "text": [
            "['longitude', 'latitude', 'total_rooms', 'total_bedrooms', 'households', 'ocean_proximity']\n",
            "time: 554 µs (started: 2023-09-19 17:12:58 +00:00)\n"
          ]
        }
      ]
    },
    {
      "cell_type": "code",
      "source": [
        "df.printSchema()"
      ],
      "metadata": {
        "colab": {
          "base_uri": "https://localhost:8080/"
        },
        "id": "Tho1zkZth2MN",
        "outputId": "a0daa078-fb35-40ac-e6e2-c5477efea3a6"
      },
      "execution_count": 85,
      "outputs": [
        {
          "output_type": "stream",
          "name": "stdout",
          "text": [
            "root\n",
            " |-- longitude: double (nullable = true)\n",
            " |-- latitude: double (nullable = true)\n",
            " |-- total_rooms: double (nullable = true)\n",
            " |-- total_bedrooms: double (nullable = true)\n",
            " |-- households: double (nullable = true)\n",
            " |-- ocean_proximity: string (nullable = true)\n",
            "\n",
            "time: 1.48 ms (started: 2023-09-19 17:12:58 +00:00)\n"
          ]
        }
      ]
    },
    {
      "cell_type": "code",
      "source": [
        "df.describe().show()"
      ],
      "metadata": {
        "colab": {
          "base_uri": "https://localhost:8080/"
        },
        "id": "YU3oj1JxE-os",
        "outputId": "e17768f4-1fe8-4dba-93e6-99d53dada71f"
      },
      "execution_count": 86,
      "outputs": [
        {
          "output_type": "stream",
          "name": "stdout",
          "text": [
            "+-------+-------------------+-----------------+------------------+------------------+-----------------+---------------+\n",
            "|summary|          longitude|         latitude|       total_rooms|    total_bedrooms|       households|ocean_proximity|\n",
            "+-------+-------------------+-----------------+------------------+------------------+-----------------+---------------+\n",
            "|  count|              20640|            20640|             20640|             20433|            20640|          20640|\n",
            "|   mean|-119.56970445736148| 35.6318614341087|2635.7630813953488| 537.8705525375618|499.5396802325581|           null|\n",
            "| stddev|  2.003531723502584|2.135952397457101|2181.6152515827944|421.38507007403115|382.3297528316098|           null|\n",
            "|    min|            -124.35|            32.54|               2.0|               1.0|              1.0|      <1H OCEAN|\n",
            "|    max|            -114.31|            41.95|           39320.0|            6445.0|           6082.0|     NEAR OCEAN|\n",
            "+-------+-------------------+-----------------+------------------+------------------+-----------------+---------------+\n",
            "\n",
            "time: 1.15 s (started: 2023-09-19 17:12:58 +00:00)\n"
          ]
        }
      ]
    },
    {
      "cell_type": "markdown",
      "source": [
        "# Funções úteis para feature engineering."
      ],
      "metadata": {
        "id": "sOe4mRqMFEPZ"
      }
    },
    {
      "cell_type": "markdown",
      "source": [
        "## Atributos"
      ],
      "metadata": {
        "id": "UTA4QbYtunoX"
      }
    },
    {
      "cell_type": "markdown",
      "source": [
        "### Renomeação\n",
        "Transformando tudo em letras maiúsculas."
      ],
      "metadata": {
        "id": "2K3cJJC0r4-n"
      }
    },
    {
      "cell_type": "code",
      "source": [
        "upper = [column.upper() for column in df.columns]\n",
        "for column, up in zip(df.columns, upper):\n",
        "  df = df.withColumnRenamed(column, up)\n",
        "print(df.columns)"
      ],
      "metadata": {
        "colab": {
          "base_uri": "https://localhost:8080/"
        },
        "id": "FB73DskfupN2",
        "outputId": "09b95c2f-30c1-4b7f-8aaf-1aa7723192eb"
      },
      "execution_count": 87,
      "outputs": [
        {
          "output_type": "stream",
          "name": "stdout",
          "text": [
            "['LONGITUDE', 'LATITUDE', 'TOTAL_ROOMS', 'TOTAL_BEDROOMS', 'HOUSEHOLDS', 'OCEAN_PROXIMITY']\n",
            "time: 47.5 ms (started: 2023-09-19 17:12:59 +00:00)\n"
          ]
        }
      ]
    },
    {
      "cell_type": "markdown",
      "source": [
        "Transformando tudo em letras minúsculas."
      ],
      "metadata": {
        "id": "dpT_yQZRxufp"
      }
    },
    {
      "cell_type": "code",
      "source": [
        "lower = [column.lower() for column in df.columns]\n",
        "for column, low in zip(df.columns, lower):\n",
        "  df = df.withColumnRenamed(column, low)\n",
        "print(df.columns)"
      ],
      "metadata": {
        "colab": {
          "base_uri": "https://localhost:8080/"
        },
        "id": "xHYk3Z5zxBeE",
        "outputId": "51bd8b24-d4cc-4cf2-b87d-473b97043b24"
      },
      "execution_count": 88,
      "outputs": [
        {
          "output_type": "stream",
          "name": "stdout",
          "text": [
            "['longitude', 'latitude', 'total_rooms', 'total_bedrooms', 'households', 'ocean_proximity']\n",
            "time: 45.1 ms (started: 2023-09-19 17:12:59 +00:00)\n"
          ]
        }
      ]
    },
    {
      "cell_type": "markdown",
      "source": [
        "Atribuindo um 'alias' a cada atributo selecionado. Só pode ser feito através da função col() que retorna um objeto Column.\n"
      ],
      "metadata": {
        "id": "MV5169vkJuIZ"
      }
    },
    {
      "cell_type": "code",
      "source": [
        "lat = col('latitude').alias('lat')\n",
        "lon = col('longitude').alias('lon')\n",
        "\n",
        "print(lat)\n",
        "df.select([lat, lon]).show(5)"
      ],
      "metadata": {
        "colab": {
          "base_uri": "https://localhost:8080/"
        },
        "id": "bzWH6uZHJzXj",
        "outputId": "fb1383cf-0aae-4ddd-d718-325c2fa01f8d"
      },
      "execution_count": 89,
      "outputs": [
        {
          "output_type": "stream",
          "name": "stdout",
          "text": [
            "Column<'latitude AS lat'>\n",
            "+-----+-------+\n",
            "|  lat|    lon|\n",
            "+-----+-------+\n",
            "|37.88|-122.23|\n",
            "|37.86|-122.22|\n",
            "|37.85|-122.24|\n",
            "|37.85|-122.25|\n",
            "|37.85|-122.25|\n",
            "+-----+-------+\n",
            "only showing top 5 rows\n",
            "\n",
            "time: 105 ms (started: 2023-09-19 17:12:59 +00:00)\n"
          ]
        }
      ]
    },
    {
      "cell_type": "markdown",
      "source": [
        "### Instrução: SELECT"
      ],
      "metadata": {
        "id": "1W91ziDzymS7"
      }
    },
    {
      "cell_type": "code",
      "source": [
        "print(type(df.select(['longitude', 'latitude', 'households'])))\n",
        "df.select(['longitude', 'latitude', 'households']).show(5)"
      ],
      "metadata": {
        "colab": {
          "base_uri": "https://localhost:8080/"
        },
        "id": "I4M9QyqyxWWu",
        "outputId": "851c8705-d722-431b-9ddf-3d339f6a7e1e"
      },
      "execution_count": 90,
      "outputs": [
        {
          "output_type": "stream",
          "name": "stdout",
          "text": [
            "<class 'pyspark.sql.dataframe.DataFrame'>\n",
            "+---------+--------+----------+\n",
            "|longitude|latitude|households|\n",
            "+---------+--------+----------+\n",
            "|  -122.23|   37.88|     126.0|\n",
            "|  -122.22|   37.86|    1138.0|\n",
            "|  -122.24|   37.85|     177.0|\n",
            "|  -122.25|   37.85|     219.0|\n",
            "|  -122.25|   37.85|     259.0|\n",
            "+---------+--------+----------+\n",
            "only showing top 5 rows\n",
            "\n",
            "time: 162 ms (started: 2023-09-19 17:12:59 +00:00)\n"
          ]
        }
      ]
    },
    {
      "cell_type": "markdown",
      "source": [
        "Forma alternativa utilizando a função col() que retorna um objeto da classe Column."
      ],
      "metadata": {
        "id": "K0TmUCh3I_XI"
      }
    },
    {
      "cell_type": "code",
      "source": [
        "print(type(df.select([col('latitude'), col('longitude'), col('households')])))\n",
        "df.select([col('latitude'), col('longitude'), col('households')]).show(5)"
      ],
      "metadata": {
        "colab": {
          "base_uri": "https://localhost:8080/"
        },
        "id": "HKWtaCa5HLRI",
        "outputId": "2ed93ac5-d888-46db-bfe3-800e576ad184"
      },
      "execution_count": 91,
      "outputs": [
        {
          "output_type": "stream",
          "name": "stdout",
          "text": [
            "<class 'pyspark.sql.dataframe.DataFrame'>\n",
            "+--------+---------+----------+\n",
            "|latitude|longitude|households|\n",
            "+--------+---------+----------+\n",
            "|   37.88|  -122.23|     126.0|\n",
            "|   37.86|  -122.22|    1138.0|\n",
            "|   37.85|  -122.24|     177.0|\n",
            "|   37.85|  -122.25|     219.0|\n",
            "|   37.85|  -122.25|     259.0|\n",
            "+--------+---------+----------+\n",
            "only showing top 5 rows\n",
            "\n",
            "time: 173 ms (started: 2023-09-19 17:12:59 +00:00)\n"
          ]
        }
      ]
    },
    {
      "cell_type": "markdown",
      "source": [
        "### Criação\n",
        "Atribuo um valor literal(True) à nova coluna chamada 'new_col'. A função lit() retorna um objeto Column."
      ],
      "metadata": {
        "id": "bj8Tl9M7sjmb"
      }
    },
    {
      "cell_type": "code",
      "source": [
        "df.withColumn('new_col', lit(True)).show(5)"
      ],
      "metadata": {
        "colab": {
          "base_uri": "https://localhost:8080/"
        },
        "id": "5Qi7KZObQsPN",
        "outputId": "974e57c7-beae-4b30-edd1-5de1f34a7fcf"
      },
      "execution_count": 92,
      "outputs": [
        {
          "output_type": "stream",
          "name": "stdout",
          "text": [
            "+---------+--------+-----------+--------------+----------+---------------+-------+\n",
            "|longitude|latitude|total_rooms|total_bedrooms|households|ocean_proximity|new_col|\n",
            "+---------+--------+-----------+--------------+----------+---------------+-------+\n",
            "|  -122.23|   37.88|      880.0|         129.0|     126.0|       NEAR BAY|   true|\n",
            "|  -122.22|   37.86|     7099.0|        1106.0|    1138.0|       NEAR BAY|   true|\n",
            "|  -122.24|   37.85|     1467.0|         190.0|     177.0|       NEAR BAY|   true|\n",
            "|  -122.25|   37.85|     1274.0|         235.0|     219.0|       NEAR BAY|   true|\n",
            "|  -122.25|   37.85|     1627.0|         280.0|     259.0|       NEAR BAY|   true|\n",
            "+---------+--------+-----------+--------------+----------+---------------+-------+\n",
            "only showing top 5 rows\n",
            "\n",
            "time: 331 ms (started: 2023-09-19 17:12:59 +00:00)\n"
          ]
        }
      ]
    },
    {
      "cell_type": "markdown",
      "source": [
        "Nova coluna criada a partir de uma operação matemática entre outras duas. Neste caso é preciso que os atributos sejam numéricos."
      ],
      "metadata": {
        "id": "hOkAB1a3s20E"
      }
    },
    {
      "cell_type": "code",
      "source": [
        "result = df['total_bedrooms'] / df['total_rooms']\n",
        "print(type(result))\n",
        "df.withColumn('new_col', result).show(5)"
      ],
      "metadata": {
        "colab": {
          "base_uri": "https://localhost:8080/"
        },
        "id": "Qo4tlcTVRblw",
        "outputId": "85d4abe1-0c2a-4344-aa48-0e15a1d46e15"
      },
      "execution_count": 93,
      "outputs": [
        {
          "output_type": "stream",
          "name": "stdout",
          "text": [
            "<class 'pyspark.sql.column.Column'>\n",
            "+---------+--------+-----------+--------------+----------+---------------+-------------------+\n",
            "|longitude|latitude|total_rooms|total_bedrooms|households|ocean_proximity|            new_col|\n",
            "+---------+--------+-----------+--------------+----------+---------------+-------------------+\n",
            "|  -122.23|   37.88|      880.0|         129.0|     126.0|       NEAR BAY|0.14659090909090908|\n",
            "|  -122.22|   37.86|     7099.0|        1106.0|    1138.0|       NEAR BAY|0.15579659106916466|\n",
            "|  -122.24|   37.85|     1467.0|         190.0|     177.0|       NEAR BAY|0.12951601908657123|\n",
            "|  -122.25|   37.85|     1274.0|         235.0|     219.0|       NEAR BAY|0.18445839874411302|\n",
            "|  -122.25|   37.85|     1627.0|         280.0|     259.0|       NEAR BAY| 0.1720958819913952|\n",
            "+---------+--------+-----------+--------------+----------+---------------+-------------------+\n",
            "only showing top 5 rows\n",
            "\n",
            "time: 181 ms (started: 2023-09-19 17:13:00 +00:00)\n"
          ]
        }
      ]
    },
    {
      "cell_type": "markdown",
      "source": [
        "Nova coluna usando a função substring()."
      ],
      "metadata": {
        "id": "G5JqVBMTtJH_"
      }
    },
    {
      "cell_type": "code",
      "source": [
        "df.withColumn('new_col', substring('ocean_proximity', 1, 4)).show(5)"
      ],
      "metadata": {
        "colab": {
          "base_uri": "https://localhost:8080/"
        },
        "id": "WTWf5PseValt",
        "outputId": "c7771d6e-c75a-4755-e251-28d21754f5d6"
      },
      "execution_count": 94,
      "outputs": [
        {
          "output_type": "stream",
          "name": "stdout",
          "text": [
            "+---------+--------+-----------+--------------+----------+---------------+-------+\n",
            "|longitude|latitude|total_rooms|total_bedrooms|households|ocean_proximity|new_col|\n",
            "+---------+--------+-----------+--------------+----------+---------------+-------+\n",
            "|  -122.23|   37.88|      880.0|         129.0|     126.0|       NEAR BAY|   NEAR|\n",
            "|  -122.22|   37.86|     7099.0|        1106.0|    1138.0|       NEAR BAY|   NEAR|\n",
            "|  -122.24|   37.85|     1467.0|         190.0|     177.0|       NEAR BAY|   NEAR|\n",
            "|  -122.25|   37.85|     1274.0|         235.0|     219.0|       NEAR BAY|   NEAR|\n",
            "|  -122.25|   37.85|     1627.0|         280.0|     259.0|       NEAR BAY|   NEAR|\n",
            "+---------+--------+-----------+--------------+----------+---------------+-------+\n",
            "only showing top 5 rows\n",
            "\n",
            "time: 225 ms (started: 2023-09-19 17:13:00 +00:00)\n"
          ]
        }
      ]
    },
    {
      "cell_type": "markdown",
      "source": [
        "Concatenando dois atributos para formar um novo."
      ],
      "metadata": {
        "id": "3lPUpCmxtRuh"
      }
    },
    {
      "cell_type": "code",
      "source": [
        "df.withColumn('new_col', concat(df['latitude'], df['longitude'])).show(10)"
      ],
      "metadata": {
        "colab": {
          "base_uri": "https://localhost:8080/"
        },
        "id": "sknwYbdmmVlj",
        "outputId": "7d20a029-e31f-4824-a97c-94c65ec58693"
      },
      "execution_count": 95,
      "outputs": [
        {
          "output_type": "stream",
          "name": "stdout",
          "text": [
            "+---------+--------+-----------+--------------+----------+---------------+------------+\n",
            "|longitude|latitude|total_rooms|total_bedrooms|households|ocean_proximity|     new_col|\n",
            "+---------+--------+-----------+--------------+----------+---------------+------------+\n",
            "|  -122.23|   37.88|      880.0|         129.0|     126.0|       NEAR BAY|37.88-122.23|\n",
            "|  -122.22|   37.86|     7099.0|        1106.0|    1138.0|       NEAR BAY|37.86-122.22|\n",
            "|  -122.24|   37.85|     1467.0|         190.0|     177.0|       NEAR BAY|37.85-122.24|\n",
            "|  -122.25|   37.85|     1274.0|         235.0|     219.0|       NEAR BAY|37.85-122.25|\n",
            "|  -122.25|   37.85|     1627.0|         280.0|     259.0|       NEAR BAY|37.85-122.25|\n",
            "|  -122.25|   37.85|      919.0|         213.0|     193.0|       NEAR BAY|37.85-122.25|\n",
            "|  -122.25|   37.84|     2535.0|         489.0|     514.0|       NEAR BAY|37.84-122.25|\n",
            "|  -122.25|   37.84|     3104.0|         687.0|     647.0|       NEAR BAY|37.84-122.25|\n",
            "|  -122.26|   37.84|     2555.0|         665.0|     595.0|       NEAR BAY|37.84-122.26|\n",
            "|  -122.25|   37.84|     3549.0|         707.0|     714.0|       NEAR BAY|37.84-122.25|\n",
            "+---------+--------+-----------+--------------+----------+---------------+------------+\n",
            "only showing top 10 rows\n",
            "\n",
            "time: 315 ms (started: 2023-09-19 17:13:00 +00:00)\n"
          ]
        }
      ]
    },
    {
      "cell_type": "code",
      "source": [
        "df.withColumn('new_col', concat_ws(' # ', df['latitude'], df['longitude'])).show(10)"
      ],
      "metadata": {
        "colab": {
          "base_uri": "https://localhost:8080/"
        },
        "id": "nHV3Ia0RmzkO",
        "outputId": "eb3ce3eb-a6b7-4a72-ab3e-2155dbab767b"
      },
      "execution_count": 96,
      "outputs": [
        {
          "output_type": "stream",
          "name": "stdout",
          "text": [
            "+---------+--------+-----------+--------------+----------+---------------+---------------+\n",
            "|longitude|latitude|total_rooms|total_bedrooms|households|ocean_proximity|        new_col|\n",
            "+---------+--------+-----------+--------------+----------+---------------+---------------+\n",
            "|  -122.23|   37.88|      880.0|         129.0|     126.0|       NEAR BAY|37.88 # -122.23|\n",
            "|  -122.22|   37.86|     7099.0|        1106.0|    1138.0|       NEAR BAY|37.86 # -122.22|\n",
            "|  -122.24|   37.85|     1467.0|         190.0|     177.0|       NEAR BAY|37.85 # -122.24|\n",
            "|  -122.25|   37.85|     1274.0|         235.0|     219.0|       NEAR BAY|37.85 # -122.25|\n",
            "|  -122.25|   37.85|     1627.0|         280.0|     259.0|       NEAR BAY|37.85 # -122.25|\n",
            "|  -122.25|   37.85|      919.0|         213.0|     193.0|       NEAR BAY|37.85 # -122.25|\n",
            "|  -122.25|   37.84|     2535.0|         489.0|     514.0|       NEAR BAY|37.84 # -122.25|\n",
            "|  -122.25|   37.84|     3104.0|         687.0|     647.0|       NEAR BAY|37.84 # -122.25|\n",
            "|  -122.26|   37.84|     2555.0|         665.0|     595.0|       NEAR BAY|37.84 # -122.26|\n",
            "|  -122.25|   37.84|     3549.0|         707.0|     714.0|       NEAR BAY|37.84 # -122.25|\n",
            "+---------+--------+-----------+--------------+----------+---------------+---------------+\n",
            "only showing top 10 rows\n",
            "\n",
            "time: 164 ms (started: 2023-09-19 17:13:01 +00:00)\n"
          ]
        }
      ]
    },
    {
      "cell_type": "markdown",
      "source": [
        "## Valores NaN"
      ],
      "metadata": {
        "id": "PiY9YFQcuj9D"
      }
    },
    {
      "cell_type": "markdown",
      "source": [
        "### Identificação"
      ],
      "metadata": {
        "id": "rx8fAg-0tzHZ"
      }
    },
    {
      "cell_type": "code",
      "source": [
        "for column in df.columns:\n",
        "  mask = df['longitude'].isNull()\n",
        "  nan_amount = df.filter(mask).count()\n",
        "  print(f'{column}: {nan_amount}')"
      ],
      "metadata": {
        "colab": {
          "base_uri": "https://localhost:8080/"
        },
        "id": "YCL_rGlqr825",
        "outputId": "f58f0930-b8cc-4f65-d40a-37d26ac4aba6"
      },
      "execution_count": 97,
      "outputs": [
        {
          "output_type": "stream",
          "name": "stdout",
          "text": [
            "longitude: 0\n",
            "latitude: 0\n",
            "total_rooms: 0\n",
            "total_bedrooms: 0\n",
            "households: 0\n",
            "ocean_proximity: 0\n",
            "time: 1.56 s (started: 2023-09-19 17:13:01 +00:00)\n"
          ]
        }
      ]
    },
    {
      "cell_type": "markdown",
      "source": [
        "--------------"
      ],
      "metadata": {
        "id": "dDYOJ-FT8CSK"
      }
    },
    {
      "cell_type": "markdown",
      "source": [
        "# Outro dataset\n",
        "Vou usar outro dataset que contenha datas em formato string para fazer a conversão de string para o formato DateType."
      ],
      "metadata": {
        "id": "FpJfbpCtuLXq"
      }
    },
    {
      "cell_type": "code",
      "source": [
        "df = spark.read.csv(\"/content/drive/MyDrive/datasets/wc2018-players.csv\", header=True, inferSchema=True, encoding='utf-8')\n",
        "df = df.drop('#', 'dia', 'mes', 'ano') # remoção de atributos desnecessários\n",
        "print(type(df))\n",
        "print(f'rows: {df.count()}')\n",
        "print(f'cols: {len(df.columns)}')\n",
        "df.show(5)"
      ],
      "metadata": {
        "colab": {
          "base_uri": "https://localhost:8080/"
        },
        "id": "uR8OBC6GpGFF",
        "outputId": "f2775bb0-8443-4241-8822-8ea640fdb20b"
      },
      "execution_count": 98,
      "outputs": [
        {
          "output_type": "stream",
          "name": "stdout",
          "text": [
            "<class 'pyspark.sql.dataframe.DataFrame'>\n",
            "rows: 736\n",
            "cols: 8\n",
            "+---------+----+------------------+----------+----------+--------------------+------+------+\n",
            "|     Team|Pos.| FIFA Popular Name|Birth Date|Shirt Name|                Club|Height|Weight|\n",
            "+---------+----+------------------+----------+----------+--------------------+------+------+\n",
            "|Argentina|  DF|TAGLIAFICO Nicolas|31.08.1992|TAGLIAFICO|      AFC Ajax (NED)|   169|    65|\n",
            "|Argentina|  MF|    PAVON Cristian|21.01.1996|     PAVÓN|CA Boca Juniors (...|   169|    65|\n",
            "|Argentina|  MF|    LANZINI Manuel|15.02.1993|   LANZINI|West Ham United F...|   167|    66|\n",
            "|Argentina|  DF|    SALVIO Eduardo|13.07.1990|    SALVIO|    SL Benfica (POR)|   167|    69|\n",
            "|Argentina|  FW|      MESSI Lionel|24.06.1987|     MESSI|  FC Barcelona (ESP)|   170|    72|\n",
            "+---------+----+------------------+----------+----------+--------------------+------+------+\n",
            "only showing top 5 rows\n",
            "\n",
            "time: 876 ms (started: 2023-09-19 17:13:02 +00:00)\n"
          ]
        }
      ]
    },
    {
      "cell_type": "code",
      "source": [
        "df.printSchema()"
      ],
      "metadata": {
        "colab": {
          "base_uri": "https://localhost:8080/"
        },
        "id": "9lzNdh4xpYUq",
        "outputId": "64d1d169-a66e-48d5-b7ce-9265288131ba"
      },
      "execution_count": 99,
      "outputs": [
        {
          "output_type": "stream",
          "name": "stdout",
          "text": [
            "root\n",
            " |-- Team: string (nullable = true)\n",
            " |-- Pos.: string (nullable = true)\n",
            " |-- FIFA Popular Name: string (nullable = true)\n",
            " |-- Birth Date: string (nullable = true)\n",
            " |-- Shirt Name: string (nullable = true)\n",
            " |-- Club: string (nullable = true)\n",
            " |-- Height: integer (nullable = true)\n",
            " |-- Weight: integer (nullable = true)\n",
            "\n",
            "time: 7.81 ms (started: 2023-09-19 17:13:03 +00:00)\n"
          ]
        }
      ]
    },
    {
      "cell_type": "markdown",
      "source": [
        "Vou renomear as colunas convertendo-as para letras minúsculas."
      ],
      "metadata": {
        "id": "NtCFp9Ya8GAv"
      }
    },
    {
      "cell_type": "code",
      "source": [
        "lower = [column.lower() for column in df.columns]\n",
        "for column, low in zip(df.columns, lower):\n",
        "  df = df.withColumnRenamed(column, low)\n",
        "\n",
        "df = df.withColumnRenamed('pos.', 'pos')\n",
        "print(df.columns)"
      ],
      "metadata": {
        "colab": {
          "base_uri": "https://localhost:8080/"
        },
        "id": "IbbSHIzX8M__",
        "outputId": "8fa811b1-8ec2-4681-da42-9082736860ce"
      },
      "execution_count": 100,
      "outputs": [
        {
          "output_type": "stream",
          "name": "stdout",
          "text": [
            "['team', 'pos', 'fifa popular name', 'birth date', 'shirt name', 'club', 'height', 'weight']\n",
            "time: 77.7 ms (started: 2023-09-19 17:13:03 +00:00)\n"
          ]
        }
      ]
    },
    {
      "cell_type": "markdown",
      "source": [
        "Note que 'birth date' está no formato string e também o separador dos componentes YYY, MM, DD é um ponto. Abaixo vemos uma forma de extrair os componentes."
      ],
      "metadata": {
        "id": "lptmUlt7uQuF"
      }
    },
    {
      "cell_type": "code",
      "source": [
        "dia = udf(lambda date:date.split('.')[0])\n",
        "mes = udf(lambda date:date.split('.')[1])\n",
        "ano = udf(lambda date:date.split('.')[2])\n",
        "\n",
        "df = df.withColumn('dia', dia('birth date'))\n",
        "df = df.withColumn('mes', mes('birth date'))\n",
        "df = df.withColumn('ano', ano('birth date'))\n",
        "\n",
        "df.show(5)"
      ],
      "metadata": {
        "colab": {
          "base_uri": "https://localhost:8080/"
        },
        "id": "yUX4KfScuj0j",
        "outputId": "43ee72ab-df0f-401d-9e3a-627f8c8b207f"
      },
      "execution_count": 101,
      "outputs": [
        {
          "output_type": "stream",
          "name": "stdout",
          "text": [
            "+---------+---+------------------+----------+----------+--------------------+------+------+---+---+----+\n",
            "|     team|pos| fifa popular name|birth date|shirt name|                club|height|weight|dia|mes| ano|\n",
            "+---------+---+------------------+----------+----------+--------------------+------+------+---+---+----+\n",
            "|Argentina| DF|TAGLIAFICO Nicolas|31.08.1992|TAGLIAFICO|      AFC Ajax (NED)|   169|    65| 31| 08|1992|\n",
            "|Argentina| MF|    PAVON Cristian|21.01.1996|     PAVÓN|CA Boca Juniors (...|   169|    65| 21| 01|1996|\n",
            "|Argentina| MF|    LANZINI Manuel|15.02.1993|   LANZINI|West Ham United F...|   167|    66| 15| 02|1993|\n",
            "|Argentina| DF|    SALVIO Eduardo|13.07.1990|    SALVIO|    SL Benfica (POR)|   167|    69| 13| 07|1990|\n",
            "|Argentina| FW|      MESSI Lionel|24.06.1987|     MESSI|  FC Barcelona (ESP)|   170|    72| 24| 06|1987|\n",
            "+---------+---+------------------+----------+----------+--------------------+------+------+---+---+----+\n",
            "only showing top 5 rows\n",
            "\n",
            "time: 559 ms (started: 2023-09-19 17:13:03 +00:00)\n"
          ]
        }
      ]
    },
    {
      "cell_type": "markdown",
      "source": [
        "A conversão de \"birth date\" para o formato DateType pode ser feita da seguinte forma."
      ],
      "metadata": {
        "id": "bWSmfgQWXe4g"
      }
    },
    {
      "cell_type": "code",
      "source": [
        "df.withColumn('data nascimento', to_date(col(\"birth date\"), \"dd.MM.yyyy\")).printSchema()\n",
        "# ou\n",
        "#df.withColumn('Data', to_date(col(\"birth date\"), \"dd.MM.yyyy\").cast(DateType())).printSchema()"
      ],
      "metadata": {
        "colab": {
          "base_uri": "https://localhost:8080/"
        },
        "id": "lh_JlUfxXm6f",
        "outputId": "77ce811f-780f-428d-de62-b0a1efd11fb1"
      },
      "execution_count": 102,
      "outputs": [
        {
          "output_type": "stream",
          "name": "stdout",
          "text": [
            "root\n",
            " |-- team: string (nullable = true)\n",
            " |-- pos: string (nullable = true)\n",
            " |-- fifa popular name: string (nullable = true)\n",
            " |-- birth date: string (nullable = true)\n",
            " |-- shirt name: string (nullable = true)\n",
            " |-- club: string (nullable = true)\n",
            " |-- height: integer (nullable = true)\n",
            " |-- weight: integer (nullable = true)\n",
            " |-- dia: string (nullable = true)\n",
            " |-- mes: string (nullable = true)\n",
            " |-- ano: string (nullable = true)\n",
            " |-- data nascimento: date (nullable = true)\n",
            "\n",
            "time: 24.1 ms (started: 2023-09-19 17:13:04 +00:00)\n"
          ]
        }
      ]
    },
    {
      "cell_type": "markdown",
      "source": [
        "Outra conversão de tipo com a função cast()."
      ],
      "metadata": {
        "id": "Tb-QF4sEsvUL"
      }
    },
    {
      "cell_type": "code",
      "source": [
        "df.withColumn('height', col('height').cast(FloatType())).show(5)"
      ],
      "metadata": {
        "colab": {
          "base_uri": "https://localhost:8080/"
        },
        "id": "pvDqvkVrqbtT",
        "outputId": "1c665975-b9ac-4369-c1c7-3b7040f56b46"
      },
      "execution_count": 103,
      "outputs": [
        {
          "output_type": "stream",
          "name": "stdout",
          "text": [
            "+---------+---+------------------+----------+----------+--------------------+------+------+---+---+----+\n",
            "|     team|pos| fifa popular name|birth date|shirt name|                club|height|weight|dia|mes| ano|\n",
            "+---------+---+------------------+----------+----------+--------------------+------+------+---+---+----+\n",
            "|Argentina| DF|TAGLIAFICO Nicolas|31.08.1992|TAGLIAFICO|      AFC Ajax (NED)| 169.0|    65| 31| 08|1992|\n",
            "|Argentina| MF|    PAVON Cristian|21.01.1996|     PAVÓN|CA Boca Juniors (...| 169.0|    65| 21| 01|1996|\n",
            "|Argentina| MF|    LANZINI Manuel|15.02.1993|   LANZINI|West Ham United F...| 167.0|    66| 15| 02|1993|\n",
            "|Argentina| DF|    SALVIO Eduardo|13.07.1990|    SALVIO|    SL Benfica (POR)| 167.0|    69| 13| 07|1990|\n",
            "|Argentina| FW|      MESSI Lionel|24.06.1987|     MESSI|  FC Barcelona (ESP)| 170.0|    72| 24| 06|1987|\n",
            "+---------+---+------------------+----------+----------+--------------------+------+------+---+---+----+\n",
            "only showing top 5 rows\n",
            "\n",
            "time: 293 ms (started: 2023-09-19 17:13:04 +00:00)\n"
          ]
        }
      ]
    },
    {
      "cell_type": "markdown",
      "source": [
        "Remoção de uma coluna."
      ],
      "metadata": {
        "id": "3scrwmfgXTNZ"
      }
    },
    {
      "cell_type": "code",
      "source": [
        "df = df.withColumn('new_col', lit(True))\n",
        "df = df.drop('new_col')\n",
        "df.show(5)"
      ],
      "metadata": {
        "colab": {
          "base_uri": "https://localhost:8080/"
        },
        "id": "WR4oimyoP0q0",
        "outputId": "504e23d5-2c9b-4092-810e-9ecfb6755083"
      },
      "execution_count": 104,
      "outputs": [
        {
          "output_type": "stream",
          "name": "stdout",
          "text": [
            "+---------+---+------------------+----------+----------+--------------------+------+------+---+---+----+\n",
            "|     team|pos| fifa popular name|birth date|shirt name|                club|height|weight|dia|mes| ano|\n",
            "+---------+---+------------------+----------+----------+--------------------+------+------+---+---+----+\n",
            "|Argentina| DF|TAGLIAFICO Nicolas|31.08.1992|TAGLIAFICO|      AFC Ajax (NED)|   169|    65| 31| 08|1992|\n",
            "|Argentina| MF|    PAVON Cristian|21.01.1996|     PAVÓN|CA Boca Juniors (...|   169|    65| 21| 01|1996|\n",
            "|Argentina| MF|    LANZINI Manuel|15.02.1993|   LANZINI|West Ham United F...|   167|    66| 15| 02|1993|\n",
            "|Argentina| DF|    SALVIO Eduardo|13.07.1990|    SALVIO|    SL Benfica (POR)|   167|    69| 13| 07|1990|\n",
            "|Argentina| FW|      MESSI Lionel|24.06.1987|     MESSI|  FC Barcelona (ESP)|   170|    72| 24| 06|1987|\n",
            "+---------+---+------------------+----------+----------+--------------------+------+------+---+---+----+\n",
            "only showing top 5 rows\n",
            "\n",
            "time: 355 ms (started: 2023-09-19 17:13:04 +00:00)\n"
          ]
        }
      ]
    },
    {
      "cell_type": "markdown",
      "source": [
        "Criando backup do dataframe"
      ],
      "metadata": {
        "id": "Ue7YT41Bazkf"
      }
    },
    {
      "cell_type": "code",
      "source": [
        "df_backup = df"
      ],
      "metadata": {
        "colab": {
          "base_uri": "https://localhost:8080/"
        },
        "id": "H8tTGZECa2Bq",
        "outputId": "ef1a479f-b1db-4375-e0d3-dd1c7e34ebcc"
      },
      "execution_count": 105,
      "outputs": [
        {
          "output_type": "stream",
          "name": "stdout",
          "text": [
            "time: 493 µs (started: 2023-09-19 17:13:05 +00:00)\n"
          ]
        }
      ]
    },
    {
      "cell_type": "markdown",
      "source": [
        "# Instrução: WHERE\n",
        "Função que implementa a instrução WHERE do SQL. A string argumento da função where() deve seguir o padrão SQL.\n",
        "\n",
        "Uma alternativa é a função filter() que pode ser usada da mesma forma."
      ],
      "metadata": {
        "id": "FMJL0sd2398C"
      }
    },
    {
      "cell_type": "code",
      "source": [
        "df.where(\"team = 'Brazil'\").show(5)"
      ],
      "metadata": {
        "colab": {
          "base_uri": "https://localhost:8080/"
        },
        "id": "Xidh2TQC4WEd",
        "outputId": "d26cea4f-33c3-40b6-874d-b88af179b9ca"
      },
      "execution_count": 106,
      "outputs": [
        {
          "output_type": "stream",
          "name": "stdout",
          "text": [
            "+------+---+-----------------+----------+-----------+--------------------+------+------+---+---+----+\n",
            "|  team|pos|fifa popular name|birth date| shirt name|                club|height|weight|dia|mes| ano|\n",
            "+------+---+-----------------+----------+-----------+--------------------+------+------+---+---+----+\n",
            "|Brazil| MF|             FRED|05.03.1993|       FRED|FC Shakhtar Donet...|   169|    64| 05| 03|1993|\n",
            "|Brazil| FW|           TAISON|13.01.1988|     TAISON|FC Shakhtar Donet...|   172|    64| 13| 01|1988|\n",
            "|Brazil| MF|      FERNANDINHO|04.05.1985|FERNANDINHO|Manchester City F...|   179|    67| 04| 05|1985|\n",
            "|Brazil| DF|           FAGNER|11.06.1989|     FAGNER|SC Corinthians (BRA)|   168|    67| 11| 06|1989|\n",
            "|Brazil| FW|           NEYMAR|05.02.1992|  NEYMAR JR|Paris Saint-Germa...|   175|    68| 05| 02|1992|\n",
            "+------+---+-----------------+----------+-----------+--------------------+------+------+---+---+----+\n",
            "only showing top 5 rows\n",
            "\n",
            "time: 455 ms (started: 2023-09-19 17:13:05 +00:00)\n"
          ]
        }
      ]
    },
    {
      "cell_type": "code",
      "source": [
        "mask = df['team'] == 'Argentina'\n",
        "print(mask)\n",
        "df.where(mask).show(5)"
      ],
      "metadata": {
        "colab": {
          "base_uri": "https://localhost:8080/"
        },
        "id": "XJwOW85d5FV2",
        "outputId": "68fe8288-a64c-473c-a0d7-8e847e90c50c"
      },
      "execution_count": 107,
      "outputs": [
        {
          "output_type": "stream",
          "name": "stdout",
          "text": [
            "Column<'(team = Argentina)'>\n",
            "+---------+---+------------------+----------+----------+--------------------+------+------+---+---+----+\n",
            "|     team|pos| fifa popular name|birth date|shirt name|                club|height|weight|dia|mes| ano|\n",
            "+---------+---+------------------+----------+----------+--------------------+------+------+---+---+----+\n",
            "|Argentina| DF|TAGLIAFICO Nicolas|31.08.1992|TAGLIAFICO|      AFC Ajax (NED)|   169|    65| 31| 08|1992|\n",
            "|Argentina| MF|    PAVON Cristian|21.01.1996|     PAVÓN|CA Boca Juniors (...|   169|    65| 21| 01|1996|\n",
            "|Argentina| MF|    LANZINI Manuel|15.02.1993|   LANZINI|West Ham United F...|   167|    66| 15| 02|1993|\n",
            "|Argentina| DF|    SALVIO Eduardo|13.07.1990|    SALVIO|    SL Benfica (POR)|   167|    69| 13| 07|1990|\n",
            "|Argentina| FW|      MESSI Lionel|24.06.1987|     MESSI|  FC Barcelona (ESP)|   170|    72| 24| 06|1987|\n",
            "+---------+---+------------------+----------+----------+--------------------+------+------+---+---+----+\n",
            "only showing top 5 rows\n",
            "\n",
            "time: 519 ms (started: 2023-09-19 17:13:05 +00:00)\n"
          ]
        }
      ]
    },
    {
      "cell_type": "code",
      "source": [
        "mask = (col('shirt name') == 'MESSI')\n",
        "print(mask)\n",
        "df.filter(mask).show(5)"
      ],
      "metadata": {
        "colab": {
          "base_uri": "https://localhost:8080/"
        },
        "id": "0xmj005pIvLE",
        "outputId": "14528e69-df65-450d-966e-76e73e7c74fc"
      },
      "execution_count": 108,
      "outputs": [
        {
          "output_type": "stream",
          "name": "stdout",
          "text": [
            "Column<'(shirt name = MESSI)'>\n",
            "+---------+---+-----------------+----------+----------+------------------+------+------+---+---+----+\n",
            "|     team|pos|fifa popular name|birth date|shirt name|              club|height|weight|dia|mes| ano|\n",
            "+---------+---+-----------------+----------+----------+------------------+------+------+---+---+----+\n",
            "|Argentina| FW|     MESSI Lionel|24.06.1987|     MESSI|FC Barcelona (ESP)|   170|    72| 24| 06|1987|\n",
            "+---------+---+-----------------+----------+----------+------------------+------+------+---+---+----+\n",
            "\n",
            "time: 448 ms (started: 2023-09-19 17:13:06 +00:00)\n"
          ]
        }
      ]
    },
    {
      "cell_type": "markdown",
      "source": [
        "## Filtros compostos"
      ],
      "metadata": {
        "id": "O7cHwIHhJCvZ"
      }
    },
    {
      "cell_type": "code",
      "source": [
        "mask = (\"team = 'Brazil' AND height < 170\")\n",
        "print(mask)\n",
        "df.where(mask).show(5)"
      ],
      "metadata": {
        "colab": {
          "base_uri": "https://localhost:8080/"
        },
        "id": "2nUad3qtJD_O",
        "outputId": "642387fe-d10c-4983-a75c-aa292ec399a2"
      },
      "execution_count": 109,
      "outputs": [
        {
          "output_type": "stream",
          "name": "stdout",
          "text": [
            "team = 'Brazil' AND height < 170\n",
            "+------+---+-----------------+----------+----------+--------------------+------+------+---+---+----+\n",
            "|  team|pos|fifa popular name|birth date|shirt name|                club|height|weight|dia|mes| ano|\n",
            "+------+---+-----------------+----------+----------+--------------------+------+------+---+---+----+\n",
            "|Brazil| MF|             FRED|05.03.1993|      FRED|FC Shakhtar Donet...|   169|    64| 05| 03|1993|\n",
            "|Brazil| DF|           FAGNER|11.06.1989|    FAGNER|SC Corinthians (BRA)|   168|    67| 11| 06|1989|\n",
            "+------+---+-----------------+----------+----------+--------------------+------+------+---+---+----+\n",
            "\n",
            "time: 376 ms (started: 2023-09-19 17:13:06 +00:00)\n"
          ]
        }
      ]
    },
    {
      "cell_type": "code",
      "source": [
        "mask = (col('team') == 'Brazil') & (col('height') < 170)\n",
        "print(mask)\n",
        "df.where(mask).show(5)"
      ],
      "metadata": {
        "colab": {
          "base_uri": "https://localhost:8080/"
        },
        "id": "3GvVbsLVKMJ3",
        "outputId": "ef750031-d949-4b11-9dfe-7dcf6250e927"
      },
      "execution_count": 110,
      "outputs": [
        {
          "output_type": "stream",
          "name": "stdout",
          "text": [
            "Column<'((team = Brazil) AND (height < 170))'>\n",
            "+------+---+-----------------+----------+----------+--------------------+------+------+---+---+----+\n",
            "|  team|pos|fifa popular name|birth date|shirt name|                club|height|weight|dia|mes| ano|\n",
            "+------+---+-----------------+----------+----------+--------------------+------+------+---+---+----+\n",
            "|Brazil| MF|             FRED|05.03.1993|      FRED|FC Shakhtar Donet...|   169|    64| 05| 03|1993|\n",
            "|Brazil| DF|           FAGNER|11.06.1989|    FAGNER|SC Corinthians (BRA)|   168|    67| 11| 06|1989|\n",
            "+------+---+-----------------+----------+----------+--------------------+------+------+---+---+----+\n",
            "\n",
            "time: 520 ms (started: 2023-09-19 17:13:06 +00:00)\n"
          ]
        }
      ]
    },
    {
      "cell_type": "markdown",
      "source": [
        "# Instrução: GROUP BY\n",
        "\n",
        "Tendo uma coluna como referência, todas as linhas onde os valores dessa coluna são iguais são \"colapsadas\" em apenas uma. É preciso especificar o que deve ser feito com as outras colunas caso contrário elas serão ignoradas. Normalmente aplicamos funções de estatística descritiva."
      ],
      "metadata": {
        "id": "ZkBWXq7IeIDC"
      }
    },
    {
      "cell_type": "code",
      "source": [
        "df.groupBy('team').mean('weight').orderBy('avg(weight)', ascending=True).show(10)"
      ],
      "metadata": {
        "colab": {
          "base_uri": "https://localhost:8080/"
        },
        "id": "AI3a35dWe1c6",
        "outputId": "7a2d2156-c314-43f2-f5ea-e708e9ca6d43"
      },
      "execution_count": 111,
      "outputs": [
        {
          "output_type": "stream",
          "name": "stdout",
          "text": [
            "+--------------+-----------------+\n",
            "|          team|      avg(weight)|\n",
            "+--------------+-----------------+\n",
            "|         Japan|71.52173913043478|\n",
            "|  Saudi Arabia|73.04347826086956|\n",
            "|      Portugal| 73.6086956521739|\n",
            "|        Mexico|74.08695652173913|\n",
            "|    Costa Rica| 74.1304347826087|\n",
            "|Korea Republic|74.43478260869566|\n",
            "|       Uruguay| 74.6086956521739|\n",
            "|       Morocco|74.65217391304348|\n",
            "|         Spain|74.73913043478261|\n",
            "|       Tunisia|             75.0|\n",
            "+--------------+-----------------+\n",
            "only showing top 10 rows\n",
            "\n",
            "time: 611 ms (started: 2023-09-19 17:13:07 +00:00)\n"
          ]
        }
      ]
    },
    {
      "cell_type": "markdown",
      "source": [
        "Para especificar qual função de agregação deve ser usada em cada coluna podemos usar a função agg()."
      ],
      "metadata": {
        "id": "nRs42OSbiBJj"
      }
    },
    {
      "cell_type": "code",
      "source": [
        "df.groupBy('team').agg({'weight':'avg', 'dia':'min', 'height':'max'}).orderBy('max(height)', ascending=False).show(10)"
      ],
      "metadata": {
        "colab": {
          "base_uri": "https://localhost:8080/"
        },
        "id": "-0bxHONmiJfe",
        "outputId": "ed48584f-5d5f-4044-d5b2-8006386b64d7"
      },
      "execution_count": 112,
      "outputs": [
        {
          "output_type": "stream",
          "name": "stdout",
          "text": [
            "+--------------+-----------------+--------+-----------+\n",
            "|          team|      avg(weight)|min(dia)|max(height)|\n",
            "+--------------+-----------------+--------+-----------+\n",
            "|       Croatia|79.30434782608695|      02|        201|\n",
            "|       Denmark| 82.6086956521739|      01|        200|\n",
            "|     Argentina|75.56521739130434|      02|        199|\n",
            "|       Belgium|79.56521739130434|      02|        199|\n",
            "|       Iceland|80.73913043478261|      01|        198|\n",
            "|        Sweden|78.82608695652173|      02|        198|\n",
            "|       Nigeria|80.47826086956522|      01|        197|\n",
            "|Korea Republic|74.43478260869566|      03|        197|\n",
            "|        France|             80.0|      03|        197|\n",
            "|        Panama|             80.0|      01|        197|\n",
            "+--------------+-----------------+--------+-----------+\n",
            "only showing top 10 rows\n",
            "\n",
            "time: 2.01 s (started: 2023-09-19 17:13:08 +00:00)\n"
          ]
        }
      ]
    },
    {
      "cell_type": "code",
      "source": [
        "df.groupBy('team').agg(avg('height'), min('height'), max('height')).orderBy('avg(height)', ascending=False).show(20)"
      ],
      "metadata": {
        "colab": {
          "base_uri": "https://localhost:8080/"
        },
        "id": "oVKTdvz6W6s2",
        "outputId": "c1fc8d59-1ba1-4833-856a-b7dbf73555c3"
      },
      "execution_count": 113,
      "outputs": [
        {
          "output_type": "stream",
          "name": "stdout",
          "text": [
            "+--------------+------------------+-----------+-----------+\n",
            "|          team|       avg(height)|min(height)|max(height)|\n",
            "+--------------+------------------+-----------+-----------+\n",
            "|        Serbia|186.69565217391303|        169|        195|\n",
            "|       Denmark| 186.6086956521739|        171|        200|\n",
            "|       Germany| 185.7826086956522|        176|        195|\n",
            "|        Sweden| 185.7391304347826|        177|        198|\n",
            "|       Iceland|185.52173913043478|        170|        198|\n",
            "|       Belgium|185.34782608695653|        169|        199|\n",
            "|       Croatia| 185.2608695652174|        172|        201|\n",
            "|       Nigeria|184.52173913043478|        172|        197|\n",
            "|       IR Iran|184.47826086956522|        177|        194|\n",
            "|        Russia| 184.3913043478261|        173|        196|\n",
            "|       Senegal|183.65217391304347|        173|        196|\n",
            "|        France|183.30434782608697|        168|        197|\n",
            "|        Poland|183.17391304347825|        172|        195|\n",
            "|       Tunisia|183.08695652173913|        170|        192|\n",
            "|   Switzerland|182.91304347826087|        165|        192|\n",
            "|       England| 182.7391304347826|        170|        196|\n",
            "|       Morocco|182.69565217391303|        167|        190|\n",
            "|        Panama|182.17391304347825|        165|        197|\n",
            "|Korea Republic| 181.8695652173913|        170|        197|\n",
            "|       Uruguay|181.04347826086956|        168|        196|\n",
            "+--------------+------------------+-----------+-----------+\n",
            "only showing top 20 rows\n",
            "\n",
            "time: 1.11 s (started: 2023-09-19 17:13:10 +00:00)\n"
          ]
        }
      ]
    },
    {
      "cell_type": "code",
      "source": [
        "df.groupBy('team').agg(avg('weight')).orderBy('avg(weight)', ascending=True).show(10)"
      ],
      "metadata": {
        "colab": {
          "base_uri": "https://localhost:8080/"
        },
        "id": "8KBPRvIpk6z7",
        "outputId": "66c00489-c20e-4bf6-8710-d0ac49e4b86f"
      },
      "execution_count": 114,
      "outputs": [
        {
          "output_type": "stream",
          "name": "stdout",
          "text": [
            "+--------------+-----------------+\n",
            "|          team|      avg(weight)|\n",
            "+--------------+-----------------+\n",
            "|         Japan|71.52173913043478|\n",
            "|  Saudi Arabia|73.04347826086956|\n",
            "|      Portugal| 73.6086956521739|\n",
            "|        Mexico|74.08695652173913|\n",
            "|    Costa Rica| 74.1304347826087|\n",
            "|Korea Republic|74.43478260869566|\n",
            "|       Uruguay| 74.6086956521739|\n",
            "|       Morocco|74.65217391304348|\n",
            "|         Spain|74.73913043478261|\n",
            "|       Tunisia|             75.0|\n",
            "+--------------+-----------------+\n",
            "only showing top 10 rows\n",
            "\n",
            "time: 853 ms (started: 2023-09-19 17:13:11 +00:00)\n"
          ]
        }
      ]
    },
    {
      "cell_type": "markdown",
      "source": [
        "# Instrução: PARTITION BY\n",
        "Tem o conceito muito parecido com groupby, mas enquanto neste, as linhas iguais são agrupadas formando agrupamentos de instâncias de dados baseados em uma ou mais colunas.\n",
        "\n",
        "*   row_number()\n",
        "*   rank()\n",
        "*   dense_rank()\n",
        "*   persent_rank()\n",
        "*   ntile()\n",
        "\n",
        "**Obs.** A função orderBy() usada com Window.partitionBy() não é a mesma usada com as funções de agregação de groupBy(). Enquanto essa retorna um DataFrame o outro cria uma WindowSpec."
      ],
      "metadata": {
        "id": "iEsfhD1VbpY-"
      }
    },
    {
      "cell_type": "code",
      "source": [
        "df.show(5)"
      ],
      "metadata": {
        "colab": {
          "base_uri": "https://localhost:8080/"
        },
        "id": "xtg0aWMRcvsT",
        "outputId": "a5586044-0a0b-40fc-856b-be38a9897d88"
      },
      "execution_count": 115,
      "outputs": [
        {
          "output_type": "stream",
          "name": "stdout",
          "text": [
            "+---------+---+------------------+----------+----------+--------------------+------+------+---+---+----+\n",
            "|     team|pos| fifa popular name|birth date|shirt name|                club|height|weight|dia|mes| ano|\n",
            "+---------+---+------------------+----------+----------+--------------------+------+------+---+---+----+\n",
            "|Argentina| DF|TAGLIAFICO Nicolas|31.08.1992|TAGLIAFICO|      AFC Ajax (NED)|   169|    65| 31| 08|1992|\n",
            "|Argentina| MF|    PAVON Cristian|21.01.1996|     PAVÓN|CA Boca Juniors (...|   169|    65| 21| 01|1996|\n",
            "|Argentina| MF|    LANZINI Manuel|15.02.1993|   LANZINI|West Ham United F...|   167|    66| 15| 02|1993|\n",
            "|Argentina| DF|    SALVIO Eduardo|13.07.1990|    SALVIO|    SL Benfica (POR)|   167|    69| 13| 07|1990|\n",
            "|Argentina| FW|      MESSI Lionel|24.06.1987|     MESSI|  FC Barcelona (ESP)|   170|    72| 24| 06|1987|\n",
            "+---------+---+------------------+----------+----------+--------------------+------+------+---+---+----+\n",
            "only showing top 5 rows\n",
            "\n",
            "time: 1.14 s (started: 2023-09-19 17:13:12 +00:00)\n"
          ]
        }
      ]
    },
    {
      "cell_type": "markdown",
      "source": [
        "row_number()"
      ],
      "metadata": {
        "id": "kkLpC58KkeaK"
      }
    },
    {
      "cell_type": "code",
      "source": [
        "prt = Window.partitionBy('team').orderBy(desc('height'))\n",
        "print(type(prt))\n",
        "print(type(row_number()))\n",
        "df.withColumn('row', row_number().over(prt)).show(10)"
      ],
      "metadata": {
        "colab": {
          "base_uri": "https://localhost:8080/"
        },
        "id": "74rdlQbacHPc",
        "outputId": "ffa4e4d3-f07f-4381-9a76-b48756b9fbe6"
      },
      "execution_count": 116,
      "outputs": [
        {
          "output_type": "stream",
          "name": "stdout",
          "text": [
            "<class 'pyspark.sql.window.WindowSpec'>\n",
            "<class 'pyspark.sql.column.Column'>\n",
            "+---------+---+------------------+----------+----------+--------------------+------+------+---+---+----+---+\n",
            "|     team|pos| fifa popular name|birth date|shirt name|                club|height|weight|dia|mes| ano|row|\n",
            "+---------+---+------------------+----------+----------+--------------------+------+------+---+---+----+---+\n",
            "|Argentina| DF|    FAZIO Federico|17.03.1987|     FAZIO|       AS Roma (ITA)|   199|    85| 17| 03|1987|  1|\n",
            "|Argentina| GK|     GUZMAN Nahuel|10.02.1986|    GUZMÁN|   Tigres UANL (MEX)|   192|    90| 10| 02|1986|  2|\n",
            "|Argentina| DF|       ROJO Marcos|20.03.1990|      ROJO|Manchester United...|   189|    82| 20| 03|1990|  3|\n",
            "|Argentina| GK|     ARMANI Franco|16.10.1986|    ARMANI|CA River Plate (ARG)|   189|    85| 16| 10|1986|  4|\n",
            "|Argentina| GK|CABALLERO Wilfredo|28.09.1981| CABALLERO|    Chelsea FC (ENG)|   186|    80| 28| 09|1981|  5|\n",
            "|Argentina| FW|   HIGUAIN Gonzalo|10.12.1987|   HIGUAÍN|   Juventus FC (ITA)|   184|    75| 10| 12|1987|  6|\n",
            "|Argentina| DF|  ANSALDI Cristian|20.09.1986|   ANSALDI|     Torino FC (ITA)|   181|    73| 20| 09|1986|  7|\n",
            "|Argentina| DF|   MERCADO Gabriel|18.03.1987|   MERCADO|    Sevilla FC (ESP)|   181|    81| 18| 03|1987|  8|\n",
            "|Argentina| DF|  OTAMENDI Nicolas|12.02.1988|  OTAMENDI|Manchester City F...|   181|    81| 12| 02|1988|  9|\n",
            "|Argentina| MF|  MEZA Maximiliano|15.12.1992|      MEZA|CA Independiente ...|   180|    76| 15| 12|1992| 10|\n",
            "+---------+---+------------------+----------+----------+--------------------+------+------+---+---+----+---+\n",
            "only showing top 10 rows\n",
            "\n",
            "time: 1.94 s (started: 2023-09-19 17:13:13 +00:00)\n"
          ]
        }
      ]
    },
    {
      "cell_type": "code",
      "source": [
        "# Selecionar os atletas mais altos de cada time.\n",
        "prt = Window.partitionBy('team').orderBy(desc('height'))\n",
        "df.withColumn('top', row_number().over(prt)).where(\"top = 1\").show(10)"
      ],
      "metadata": {
        "colab": {
          "base_uri": "https://localhost:8080/"
        },
        "id": "zj0QPwXV6Ldf",
        "outputId": "4e313fa9-6e1d-41f5-c1d9-4f088307e545"
      },
      "execution_count": 117,
      "outputs": [
        {
          "output_type": "stream",
          "name": "stdout",
          "text": [
            "+----------+---+------------------+----------+-----------+--------------------+------+------+---+---+----+---+\n",
            "|      team|pos| fifa popular name|birth date| shirt name|                club|height|weight|dia|mes| ano|top|\n",
            "+----------+---+------------------+----------+-----------+--------------------+------+------+---+---+----+---+\n",
            "| Argentina| DF|    FAZIO Federico|17.03.1987|      FAZIO|       AS Roma (ITA)|   199|    85| 17| 03|1987|  1|\n",
            "| Australia| GK|        JONES Brad|19.03.1982|      JONES|Feyenoord Rotterd...|   193|    87| 19| 03|1982|  1|\n",
            "|   Belgium| GK|  COURTOIS Thibaut|11.05.1992|   COURTOIS|    Chelsea FC (ENG)|   199|    91| 11| 05|1992|  1|\n",
            "|    Brazil| GK|            CASSIO|06.06.1987|     CASSIO|SC Corinthians (BRA)|   195|    92| 06| 06|1987|  1|\n",
            "|  Colombia| DF|        MINA Yerry|23.09.1994|    Y. MINA|  FC Barcelona (ESP)|   194|    95| 23| 09|1994|  1|\n",
            "|Costa Rica| DF|    WASTON Kendall|01.01.1988|  K. WASTON|Vancouver Whiteca...|   196|    87| 01| 01|1988|  1|\n",
            "|   Croatia| GK|     KALINIC Lovre|03.04.1990| L. KALINIĆ|      KAA Gent (BEL)|   201|    96| 03| 04|1990|  1|\n",
            "|   Denmark| DF|VESTERGAARD Jannik|03.08.1992|VESTERGAARD|VfL Borussia Mönc...|   200|    98| 03| 08|1992|  1|\n",
            "|     Egypt| DF|      AHMED HEGAZY|25.01.1991|  A. HEGAZY|West Bromwich Alb...|   194|    95| 25| 01|1991|  1|\n",
            "|   England| GK|      BUTLAND Jack|10.03.1993|    BUTLAND| Stoke City FC (ENG)|   196|    96| 10| 03|1993|  1|\n",
            "+----------+---+------------------+----------+-----------+--------------------+------+------+---+---+----+---+\n",
            "only showing top 10 rows\n",
            "\n",
            "time: 1.08 s (started: 2023-09-19 17:13:15 +00:00)\n"
          ]
        }
      ]
    },
    {
      "cell_type": "markdown",
      "source": [
        "rank(): Note como rank=3 se repete duas vezes e depois há um salto para rank=5. Esta é uma peculiaridade dessa função."
      ],
      "metadata": {
        "id": "KuMhw3n2kKJP"
      }
    },
    {
      "cell_type": "code",
      "source": [
        "prt = Window.partitionBy('team').orderBy(desc('height'))\n",
        "df.withColumn('rank', rank().over(prt)).show(10)"
      ],
      "metadata": {
        "colab": {
          "base_uri": "https://localhost:8080/"
        },
        "id": "kPVsRj7PjJLC",
        "outputId": "a439f62f-79e3-4b68-c6a5-4a43977a2bd7"
      },
      "execution_count": 118,
      "outputs": [
        {
          "output_type": "stream",
          "name": "stdout",
          "text": [
            "+---------+---+------------------+----------+----------+--------------------+------+------+---+---+----+----+\n",
            "|     team|pos| fifa popular name|birth date|shirt name|                club|height|weight|dia|mes| ano|rank|\n",
            "+---------+---+------------------+----------+----------+--------------------+------+------+---+---+----+----+\n",
            "|Argentina| DF|    FAZIO Federico|17.03.1987|     FAZIO|       AS Roma (ITA)|   199|    85| 17| 03|1987|   1|\n",
            "|Argentina| GK|     GUZMAN Nahuel|10.02.1986|    GUZMÁN|   Tigres UANL (MEX)|   192|    90| 10| 02|1986|   2|\n",
            "|Argentina| DF|       ROJO Marcos|20.03.1990|      ROJO|Manchester United...|   189|    82| 20| 03|1990|   3|\n",
            "|Argentina| GK|     ARMANI Franco|16.10.1986|    ARMANI|CA River Plate (ARG)|   189|    85| 16| 10|1986|   3|\n",
            "|Argentina| GK|CABALLERO Wilfredo|28.09.1981| CABALLERO|    Chelsea FC (ENG)|   186|    80| 28| 09|1981|   5|\n",
            "|Argentina| FW|   HIGUAIN Gonzalo|10.12.1987|   HIGUAÍN|   Juventus FC (ITA)|   184|    75| 10| 12|1987|   6|\n",
            "|Argentina| DF|  ANSALDI Cristian|20.09.1986|   ANSALDI|     Torino FC (ITA)|   181|    73| 20| 09|1986|   7|\n",
            "|Argentina| DF|   MERCADO Gabriel|18.03.1987|   MERCADO|    Sevilla FC (ESP)|   181|    81| 18| 03|1987|   7|\n",
            "|Argentina| DF|  OTAMENDI Nicolas|12.02.1988|  OTAMENDI|Manchester City F...|   181|    81| 12| 02|1988|   7|\n",
            "|Argentina| MF|  MEZA Maximiliano|15.12.1992|      MEZA|CA Independiente ...|   180|    76| 15| 12|1992|  10|\n",
            "+---------+---+------------------+----------+----------+--------------------+------+------+---+---+----+----+\n",
            "only showing top 10 rows\n",
            "\n",
            "time: 980 ms (started: 2023-09-19 17:13:16 +00:00)\n"
          ]
        }
      ]
    },
    {
      "cell_type": "markdown",
      "source": [
        "dense_rank(): Aqui, mesmo que rank=3 se repita o próximo valor de rank é 4 e assim por diante. Não há saltos de valores."
      ],
      "metadata": {
        "id": "ExD1iTmakiIx"
      }
    },
    {
      "cell_type": "code",
      "source": [
        "prt = Window.partitionBy('team').orderBy(desc('height'))\n",
        "df.withColumn('dense_rank', dense_rank().over(prt)).show(10)"
      ],
      "metadata": {
        "colab": {
          "base_uri": "https://localhost:8080/"
        },
        "id": "Tw53dOeokyzh",
        "outputId": "4795a1ae-2eb5-42e7-cff3-4040ab1eba95"
      },
      "execution_count": 119,
      "outputs": [
        {
          "output_type": "stream",
          "name": "stdout",
          "text": [
            "+---------+---+------------------+----------+----------+--------------------+------+------+---+---+----+----------+\n",
            "|     team|pos| fifa popular name|birth date|shirt name|                club|height|weight|dia|mes| ano|dense_rank|\n",
            "+---------+---+------------------+----------+----------+--------------------+------+------+---+---+----+----------+\n",
            "|Argentina| DF|    FAZIO Federico|17.03.1987|     FAZIO|       AS Roma (ITA)|   199|    85| 17| 03|1987|         1|\n",
            "|Argentina| GK|     GUZMAN Nahuel|10.02.1986|    GUZMÁN|   Tigres UANL (MEX)|   192|    90| 10| 02|1986|         2|\n",
            "|Argentina| DF|       ROJO Marcos|20.03.1990|      ROJO|Manchester United...|   189|    82| 20| 03|1990|         3|\n",
            "|Argentina| GK|     ARMANI Franco|16.10.1986|    ARMANI|CA River Plate (ARG)|   189|    85| 16| 10|1986|         3|\n",
            "|Argentina| GK|CABALLERO Wilfredo|28.09.1981| CABALLERO|    Chelsea FC (ENG)|   186|    80| 28| 09|1981|         4|\n",
            "|Argentina| FW|   HIGUAIN Gonzalo|10.12.1987|   HIGUAÍN|   Juventus FC (ITA)|   184|    75| 10| 12|1987|         5|\n",
            "|Argentina| DF|  ANSALDI Cristian|20.09.1986|   ANSALDI|     Torino FC (ITA)|   181|    73| 20| 09|1986|         6|\n",
            "|Argentina| DF|   MERCADO Gabriel|18.03.1987|   MERCADO|    Sevilla FC (ESP)|   181|    81| 18| 03|1987|         6|\n",
            "|Argentina| DF|  OTAMENDI Nicolas|12.02.1988|  OTAMENDI|Manchester City F...|   181|    81| 12| 02|1988|         6|\n",
            "|Argentina| MF|  MEZA Maximiliano|15.12.1992|      MEZA|CA Independiente ...|   180|    76| 15| 12|1992|         7|\n",
            "+---------+---+------------------+----------+----------+--------------------+------+------+---+---+----+----------+\n",
            "only showing top 10 rows\n",
            "\n",
            "time: 1.18 s (started: 2023-09-19 17:13:17 +00:00)\n"
          ]
        }
      ]
    },
    {
      "cell_type": "markdown",
      "source": [
        "persent_rank(): ranking relativo(percentual)"
      ],
      "metadata": {
        "id": "FgIYuPqAmCD3"
      }
    },
    {
      "cell_type": "code",
      "source": [
        "prt = Window.partitionBy('team').orderBy(desc('height'))\n",
        "df.withColumn('persent_rank', percent_rank().over(prt)).show(10)"
      ],
      "metadata": {
        "colab": {
          "base_uri": "https://localhost:8080/"
        },
        "id": "i8jq7iyimDZw",
        "outputId": "6cb15f03-733d-4760-cf85-d8a839d8356e"
      },
      "execution_count": 120,
      "outputs": [
        {
          "output_type": "stream",
          "name": "stdout",
          "text": [
            "+---------+---+------------------+----------+----------+--------------------+------+------+---+---+----+--------------------+\n",
            "|     team|pos| fifa popular name|birth date|shirt name|                club|height|weight|dia|mes| ano|        persent_rank|\n",
            "+---------+---+------------------+----------+----------+--------------------+------+------+---+---+----+--------------------+\n",
            "|Argentina| DF|    FAZIO Federico|17.03.1987|     FAZIO|       AS Roma (ITA)|   199|    85| 17| 03|1987|                 0.0|\n",
            "|Argentina| GK|     GUZMAN Nahuel|10.02.1986|    GUZMÁN|   Tigres UANL (MEX)|   192|    90| 10| 02|1986|0.045454545454545456|\n",
            "|Argentina| DF|       ROJO Marcos|20.03.1990|      ROJO|Manchester United...|   189|    82| 20| 03|1990| 0.09090909090909091|\n",
            "|Argentina| GK|     ARMANI Franco|16.10.1986|    ARMANI|CA River Plate (ARG)|   189|    85| 16| 10|1986| 0.09090909090909091|\n",
            "|Argentina| GK|CABALLERO Wilfredo|28.09.1981| CABALLERO|    Chelsea FC (ENG)|   186|    80| 28| 09|1981| 0.18181818181818182|\n",
            "|Argentina| FW|   HIGUAIN Gonzalo|10.12.1987|   HIGUAÍN|   Juventus FC (ITA)|   184|    75| 10| 12|1987| 0.22727272727272727|\n",
            "|Argentina| DF|  ANSALDI Cristian|20.09.1986|   ANSALDI|     Torino FC (ITA)|   181|    73| 20| 09|1986|  0.2727272727272727|\n",
            "|Argentina| DF|   MERCADO Gabriel|18.03.1987|   MERCADO|    Sevilla FC (ESP)|   181|    81| 18| 03|1987|  0.2727272727272727|\n",
            "|Argentina| DF|  OTAMENDI Nicolas|12.02.1988|  OTAMENDI|Manchester City F...|   181|    81| 12| 02|1988|  0.2727272727272727|\n",
            "|Argentina| MF|  MEZA Maximiliano|15.12.1992|      MEZA|CA Independiente ...|   180|    76| 15| 12|1992|  0.4090909090909091|\n",
            "+---------+---+------------------+----------+----------+--------------------+------+------+---+---+----+--------------------+\n",
            "only showing top 10 rows\n",
            "\n",
            "time: 1.33 s (started: 2023-09-19 17:13:18 +00:00)\n"
          ]
        }
      ]
    },
    {
      "cell_type": "markdown",
      "source": [
        "ntile(): Divide cada partição em uma quantidade n de quartiles. Cada quartile recebe um valor único. Caso uma partição não seja divisível por n o aloritmo ajustará a quantidade de instâncias de dados pertencentes aos últimos quartiles de modo que a partição tenha n quartiles. Por exemplo, na seleção da Argentina, quando n=5, o penúltimo quartil tem 4 instâncias para poder formar mais um, o último quartil que terá apenas uma instância."
      ],
      "metadata": {
        "id": "3gT5llGdqJBp"
      }
    },
    {
      "cell_type": "code",
      "source": [
        "prt = Window.partitionBy('team').orderBy(desc('height'))\n",
        "df.withColumn('ntile', ntile(5).over(prt)).show(20)"
      ],
      "metadata": {
        "colab": {
          "base_uri": "https://localhost:8080/"
        },
        "id": "AogJ91m3qLUO",
        "outputId": "0cd9ddab-a749-4d58-b5f4-d0d94cc46d30"
      },
      "execution_count": 121,
      "outputs": [
        {
          "output_type": "stream",
          "name": "stdout",
          "text": [
            "+---------+---+------------------+----------+----------+--------------------+------+------+---+---+----+-----+\n",
            "|     team|pos| fifa popular name|birth date|shirt name|                club|height|weight|dia|mes| ano|ntile|\n",
            "+---------+---+------------------+----------+----------+--------------------+------+------+---+---+----+-----+\n",
            "|Argentina| DF|    FAZIO Federico|17.03.1987|     FAZIO|       AS Roma (ITA)|   199|    85| 17| 03|1987|    1|\n",
            "|Argentina| GK|     GUZMAN Nahuel|10.02.1986|    GUZMÁN|   Tigres UANL (MEX)|   192|    90| 10| 02|1986|    1|\n",
            "|Argentina| DF|       ROJO Marcos|20.03.1990|      ROJO|Manchester United...|   189|    82| 20| 03|1990|    1|\n",
            "|Argentina| GK|     ARMANI Franco|16.10.1986|    ARMANI|CA River Plate (ARG)|   189|    85| 16| 10|1986|    1|\n",
            "|Argentina| GK|CABALLERO Wilfredo|28.09.1981| CABALLERO|    Chelsea FC (ENG)|   186|    80| 28| 09|1981|    1|\n",
            "|Argentina| FW|   HIGUAIN Gonzalo|10.12.1987|   HIGUAÍN|   Juventus FC (ITA)|   184|    75| 10| 12|1987|    2|\n",
            "|Argentina| DF|  ANSALDI Cristian|20.09.1986|   ANSALDI|     Torino FC (ITA)|   181|    73| 20| 09|1986|    2|\n",
            "|Argentina| DF|   MERCADO Gabriel|18.03.1987|   MERCADO|    Sevilla FC (ESP)|   181|    81| 18| 03|1987|    2|\n",
            "|Argentina| DF|  OTAMENDI Nicolas|12.02.1988|  OTAMENDI|Manchester City F...|   181|    81| 12| 02|1988|    2|\n",
            "|Argentina| MF|  MEZA Maximiliano|15.12.1992|      MEZA|CA Independiente ...|   180|    76| 15| 12|1992|    2|\n",
            "|Argentina| MF|    DI MARIA Angel|14.02.1988|  DI MARÍA|Paris Saint-Germa...|   178|    75| 14| 02|1988|    3|\n",
            "|Argentina| FW|      DYBALA Paulo|15.11.1993|    DYBALA|   Juventus FC (ITA)|   177|    73| 15| 11|1993|    3|\n",
            "|Argentina| MF|  LO CELSO Giovani|09.04.1996|  LO CELSO|Paris Saint-Germa...|   177|    75| 09| 04|1996|    3|\n",
            "|Argentina| MF|      BIGLIA Lucas|30.01.1986|    BIGLIA|      AC Milan (ITA)|   175|    73| 30| 01|1986|    3|\n",
            "|Argentina| MF|       BANEGA Ever|29.06.1988|    BANEGA|    Sevilla FC (ESP)|   175|    73| 29| 06|1988|    3|\n",
            "|Argentina| DF| MASCHERANO Javier|08.06.1984|MASCHERANO|Hebei China Fortu...|   174|    73| 08| 06|1984|    4|\n",
            "|Argentina| FW|     AGUERO Sergio|02.06.1988|    AGÜERO|Manchester City F...|   172|    74| 02| 06|1988|    4|\n",
            "|Argentina| DF|      ACUNA Marcos|28.10.1991|     ACUÑA|   Sporting CP (POR)|   172|    77| 28| 10|1991|    4|\n",
            "|Argentina| FW|      MESSI Lionel|24.06.1987|     MESSI|  FC Barcelona (ESP)|   170|    72| 24| 06|1987|    4|\n",
            "|Argentina| DF|TAGLIAFICO Nicolas|31.08.1992|TAGLIAFICO|      AFC Ajax (NED)|   169|    65| 31| 08|1992|    5|\n",
            "+---------+---+------------------+----------+----------+--------------------+------+------+---+---+----+-----+\n",
            "only showing top 20 rows\n",
            "\n",
            "time: 961 ms (started: 2023-09-19 17:13:19 +00:00)\n"
          ]
        }
      ]
    },
    {
      "cell_type": "markdown",
      "source": [
        "Lag function: O mesmo tipo de lag usado em séries temporais."
      ],
      "metadata": {
        "id": "Ny2ulye1ZyTQ"
      }
    },
    {
      "cell_type": "code",
      "source": [
        "prt = Window.partitionBy('team').orderBy(desc('height'))\n",
        "df.withColumn('lag', lag('weight', offset=2).over(prt)).show(10)"
      ],
      "metadata": {
        "colab": {
          "base_uri": "https://localhost:8080/"
        },
        "id": "wEXKjuj4Z6oK",
        "outputId": "b65f64dd-6cce-4c00-90b4-8199c7fae72d"
      },
      "execution_count": 122,
      "outputs": [
        {
          "output_type": "stream",
          "name": "stdout",
          "text": [
            "+---------+---+------------------+----------+----------+--------------------+------+------+---+---+----+----+\n",
            "|     team|pos| fifa popular name|birth date|shirt name|                club|height|weight|dia|mes| ano| lag|\n",
            "+---------+---+------------------+----------+----------+--------------------+------+------+---+---+----+----+\n",
            "|Argentina| DF|    FAZIO Federico|17.03.1987|     FAZIO|       AS Roma (ITA)|   199|    85| 17| 03|1987|null|\n",
            "|Argentina| GK|     GUZMAN Nahuel|10.02.1986|    GUZMÁN|   Tigres UANL (MEX)|   192|    90| 10| 02|1986|null|\n",
            "|Argentina| DF|       ROJO Marcos|20.03.1990|      ROJO|Manchester United...|   189|    82| 20| 03|1990|  85|\n",
            "|Argentina| GK|     ARMANI Franco|16.10.1986|    ARMANI|CA River Plate (ARG)|   189|    85| 16| 10|1986|  90|\n",
            "|Argentina| GK|CABALLERO Wilfredo|28.09.1981| CABALLERO|    Chelsea FC (ENG)|   186|    80| 28| 09|1981|  82|\n",
            "|Argentina| FW|   HIGUAIN Gonzalo|10.12.1987|   HIGUAÍN|   Juventus FC (ITA)|   184|    75| 10| 12|1987|  85|\n",
            "|Argentina| DF|  ANSALDI Cristian|20.09.1986|   ANSALDI|     Torino FC (ITA)|   181|    73| 20| 09|1986|  80|\n",
            "|Argentina| DF|   MERCADO Gabriel|18.03.1987|   MERCADO|    Sevilla FC (ESP)|   181|    81| 18| 03|1987|  75|\n",
            "|Argentina| DF|  OTAMENDI Nicolas|12.02.1988|  OTAMENDI|Manchester City F...|   181|    81| 12| 02|1988|  73|\n",
            "|Argentina| MF|  MEZA Maximiliano|15.12.1992|      MEZA|CA Independiente ...|   180|    76| 15| 12|1992|  81|\n",
            "+---------+---+------------------+----------+----------+--------------------+------+------+---+---+----+----+\n",
            "only showing top 10 rows\n",
            "\n",
            "time: 676 ms (started: 2023-09-19 17:13:20 +00:00)\n"
          ]
        }
      ]
    },
    {
      "cell_type": "markdown",
      "source": [
        "Forward function: O mesmo tipo de forward usado em séries temporais."
      ],
      "metadata": {
        "id": "LYWzAMl4bwRD"
      }
    },
    {
      "cell_type": "code",
      "source": [
        "prt = Window.partitionBy('team').orderBy(desc('height'))\n",
        "df.withColumn('lead', lead('weight', offset=1).over(prt)).show(10)"
      ],
      "metadata": {
        "colab": {
          "base_uri": "https://localhost:8080/"
        },
        "id": "3nEw-WhJch8s",
        "outputId": "f55854cb-4677-4da4-c1c8-32a44d13a127"
      },
      "execution_count": 123,
      "outputs": [
        {
          "output_type": "stream",
          "name": "stdout",
          "text": [
            "+---------+---+------------------+----------+----------+--------------------+------+------+---+---+----+----+\n",
            "|     team|pos| fifa popular name|birth date|shirt name|                club|height|weight|dia|mes| ano|lead|\n",
            "+---------+---+------------------+----------+----------+--------------------+------+------+---+---+----+----+\n",
            "|Argentina| DF|    FAZIO Federico|17.03.1987|     FAZIO|       AS Roma (ITA)|   199|    85| 17| 03|1987|  90|\n",
            "|Argentina| GK|     GUZMAN Nahuel|10.02.1986|    GUZMÁN|   Tigres UANL (MEX)|   192|    90| 10| 02|1986|  82|\n",
            "|Argentina| DF|       ROJO Marcos|20.03.1990|      ROJO|Manchester United...|   189|    82| 20| 03|1990|  85|\n",
            "|Argentina| GK|     ARMANI Franco|16.10.1986|    ARMANI|CA River Plate (ARG)|   189|    85| 16| 10|1986|  80|\n",
            "|Argentina| GK|CABALLERO Wilfredo|28.09.1981| CABALLERO|    Chelsea FC (ENG)|   186|    80| 28| 09|1981|  75|\n",
            "|Argentina| FW|   HIGUAIN Gonzalo|10.12.1987|   HIGUAÍN|   Juventus FC (ITA)|   184|    75| 10| 12|1987|  73|\n",
            "|Argentina| DF|  ANSALDI Cristian|20.09.1986|   ANSALDI|     Torino FC (ITA)|   181|    73| 20| 09|1986|  81|\n",
            "|Argentina| DF|   MERCADO Gabriel|18.03.1987|   MERCADO|    Sevilla FC (ESP)|   181|    81| 18| 03|1987|  81|\n",
            "|Argentina| DF|  OTAMENDI Nicolas|12.02.1988|  OTAMENDI|Manchester City F...|   181|    81| 12| 02|1988|  76|\n",
            "|Argentina| MF|  MEZA Maximiliano|15.12.1992|      MEZA|CA Independiente ...|   180|    76| 15| 12|1992|  75|\n",
            "+---------+---+------------------+----------+----------+--------------------+------+------+---+---+----+----+\n",
            "only showing top 10 rows\n",
            "\n",
            "time: 469 ms (started: 2023-09-19 17:13:21 +00:00)\n"
          ]
        }
      ]
    },
    {
      "cell_type": "markdown",
      "source": [
        "# Instrução: COLLECT"
      ],
      "metadata": {
        "id": "vZpMzJ4ZXRqc"
      }
    },
    {
      "cell_type": "code",
      "source": [
        "df.show(10)"
      ],
      "metadata": {
        "colab": {
          "base_uri": "https://localhost:8080/"
        },
        "id": "T_WNnqDhYA9g",
        "outputId": "2105d220-be6a-4698-96c7-05eaeae13f98"
      },
      "execution_count": 124,
      "outputs": [
        {
          "output_type": "stream",
          "name": "stdout",
          "text": [
            "+---------+---+------------------+----------+----------+--------------------+------+------+---+---+----+\n",
            "|     team|pos| fifa popular name|birth date|shirt name|                club|height|weight|dia|mes| ano|\n",
            "+---------+---+------------------+----------+----------+--------------------+------+------+---+---+----+\n",
            "|Argentina| DF|TAGLIAFICO Nicolas|31.08.1992|TAGLIAFICO|      AFC Ajax (NED)|   169|    65| 31| 08|1992|\n",
            "|Argentina| MF|    PAVON Cristian|21.01.1996|     PAVÓN|CA Boca Juniors (...|   169|    65| 21| 01|1996|\n",
            "|Argentina| MF|    LANZINI Manuel|15.02.1993|   LANZINI|West Ham United F...|   167|    66| 15| 02|1993|\n",
            "|Argentina| DF|    SALVIO Eduardo|13.07.1990|    SALVIO|    SL Benfica (POR)|   167|    69| 13| 07|1990|\n",
            "|Argentina| FW|      MESSI Lionel|24.06.1987|     MESSI|  FC Barcelona (ESP)|   170|    72| 24| 06|1987|\n",
            "|Argentina| DF|  ANSALDI Cristian|20.09.1986|   ANSALDI|     Torino FC (ITA)|   181|    73| 20| 09|1986|\n",
            "|Argentina| MF|      BIGLIA Lucas|30.01.1986|    BIGLIA|      AC Milan (ITA)|   175|    73| 30| 01|1986|\n",
            "|Argentina| MF|       BANEGA Ever|29.06.1988|    BANEGA|    Sevilla FC (ESP)|   175|    73| 29| 06|1988|\n",
            "|Argentina| DF| MASCHERANO Javier|08.06.1984|MASCHERANO|Hebei China Fortu...|   174|    73| 08| 06|1984|\n",
            "|Argentina| FW|      DYBALA Paulo|15.11.1993|    DYBALA|   Juventus FC (ITA)|   177|    73| 15| 11|1993|\n",
            "+---------+---+------------------+----------+----------+--------------------+------+------+---+---+----+\n",
            "only showing top 10 rows\n",
            "\n",
            "time: 489 ms (started: 2023-09-19 17:13:21 +00:00)\n"
          ]
        }
      ]
    }
  ]
}