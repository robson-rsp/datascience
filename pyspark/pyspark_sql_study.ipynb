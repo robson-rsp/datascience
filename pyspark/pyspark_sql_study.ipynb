{
  "nbformat": 4,
  "nbformat_minor": 0,
  "metadata": {
    "colab": {
      "provenance": [],
      "toc_visible": true,
      "authorship_tag": "ABX9TyPF1L/P6vK6txx2h2VMSrog"
    },
    "kernelspec": {
      "name": "python3",
      "display_name": "Python 3"
    },
    "language_info": {
      "name": "python"
    }
  },
  "cells": [
    {
      "cell_type": "markdown",
      "source": [
        "# Pyspark SQL\n",
        "\n",
        "Este kernel possui alguns exemplos de código do módulo pyspark.sql.\n",
        "Apresenta exemplos de funções que implementam instruções SQL, como: SELECT, WHERE, GROUP BY, ORDER BY, PARTITION BY, entre outras.\n",
        "\n",
        "\n",
        "São usados seis datasets para os exemplos:\n",
        "1.   Conjunto de dados contendo características e preços de imóveis no estado da Califórnia.\n",
        "2.   Dataset com informações sobre os jogadores que disputaram a Copa do Mundo 2018\n",
        "3.   Quatro conjuntos contendo informações sobre uma rede lojas com clientes e produtos comprados."
      ],
      "metadata": {
        "id": "g1Sxu4CjDZiG"
      }
    },
    {
      "cell_type": "code",
      "execution_count": 64,
      "metadata": {
        "id": "xyfsd2bo5wVP",
        "colab": {
          "base_uri": "https://localhost:8080/"
        },
        "outputId": "cc1a3648-0c5b-48b3-8a6a-44eb4bd19e2c"
      },
      "outputs": [
        {
          "output_type": "stream",
          "name": "stdout",
          "text": [
            "Requirement already satisfied: ipython-autotime in /usr/local/lib/python3.10/dist-packages (0.3.1)\n",
            "Requirement already satisfied: ipython in /usr/local/lib/python3.10/dist-packages (from ipython-autotime) (7.34.0)\n",
            "Requirement already satisfied: setuptools>=18.5 in /usr/local/lib/python3.10/dist-packages (from ipython->ipython-autotime) (67.7.2)\n",
            "Requirement already satisfied: jedi>=0.16 in /usr/local/lib/python3.10/dist-packages (from ipython->ipython-autotime) (0.19.0)\n",
            "Requirement already satisfied: decorator in /usr/local/lib/python3.10/dist-packages (from ipython->ipython-autotime) (4.4.2)\n",
            "Requirement already satisfied: pickleshare in /usr/local/lib/python3.10/dist-packages (from ipython->ipython-autotime) (0.7.5)\n",
            "Requirement already satisfied: traitlets>=4.2 in /usr/local/lib/python3.10/dist-packages (from ipython->ipython-autotime) (5.7.1)\n",
            "Requirement already satisfied: prompt-toolkit!=3.0.0,!=3.0.1,<3.1.0,>=2.0.0 in /usr/local/lib/python3.10/dist-packages (from ipython->ipython-autotime) (3.0.39)\n",
            "Requirement already satisfied: pygments in /usr/local/lib/python3.10/dist-packages (from ipython->ipython-autotime) (2.16.1)\n",
            "Requirement already satisfied: backcall in /usr/local/lib/python3.10/dist-packages (from ipython->ipython-autotime) (0.2.0)\n",
            "Requirement already satisfied: matplotlib-inline in /usr/local/lib/python3.10/dist-packages (from ipython->ipython-autotime) (0.1.6)\n",
            "Requirement already satisfied: pexpect>4.3 in /usr/local/lib/python3.10/dist-packages (from ipython->ipython-autotime) (4.8.0)\n",
            "Requirement already satisfied: parso<0.9.0,>=0.8.3 in /usr/local/lib/python3.10/dist-packages (from jedi>=0.16->ipython->ipython-autotime) (0.8.3)\n",
            "Requirement already satisfied: ptyprocess>=0.5 in /usr/local/lib/python3.10/dist-packages (from pexpect>4.3->ipython->ipython-autotime) (0.7.0)\n",
            "Requirement already satisfied: wcwidth in /usr/local/lib/python3.10/dist-packages (from prompt-toolkit!=3.0.0,!=3.0.1,<3.1.0,>=2.0.0->ipython->ipython-autotime) (0.2.6)\n",
            "Requirement already satisfied: pyspark in /usr/local/lib/python3.10/dist-packages (3.4.1)\n",
            "Requirement already satisfied: py4j==0.10.9.7 in /usr/local/lib/python3.10/dist-packages (from pyspark) (0.10.9.7)\n",
            "time: 9.35 s (started: 2023-09-22 13:54:55 +00:00)\n"
          ]
        }
      ],
      "source": [
        "%pip install ipython-autotime\n",
        "%pip install pyspark"
      ]
    },
    {
      "cell_type": "markdown",
      "source": [
        "Trecho de código opcional que resolve problema de compatibilidade entre a linguagem Python e o PySpark."
      ],
      "metadata": {
        "id": "9U_63vwhpUmt"
      }
    },
    {
      "cell_type": "code",
      "source": [
        "%%script echo 'ignore cell'\n",
        "import os\n",
        "import sys\n",
        "\n",
        "os.environ['PYSPARK_PYTHON'] = sys.executable\n",
        "os.environ['PYSPARK_DRIVER_PYTHON'] = sys.executable"
      ],
      "metadata": {
        "colab": {
          "base_uri": "https://localhost:8080/"
        },
        "id": "Tw7wn82BksRS",
        "outputId": "0b1e2e48-6c38-481c-a4a6-383467208bbc"
      },
      "execution_count": 65,
      "outputs": [
        {
          "output_type": "stream",
          "name": "stdout",
          "text": [
            "ignore cell\n",
            "time: 8.75 ms (started: 2023-09-22 13:55:04 +00:00)\n"
          ]
        }
      ]
    },
    {
      "cell_type": "markdown",
      "source": [
        "# Imports básicos."
      ],
      "metadata": {
        "id": "zWAHEyAxpgRU"
      }
    },
    {
      "cell_type": "code",
      "source": [
        "from google.colab          import drive, files\n",
        "from pyspark.sql           import SparkSession\n",
        "from pyspark.sql.functions import *\n",
        "from pyspark.sql.types     import *\n",
        "from pyspark.sql.window    import Window\n",
        "\n",
        "%load_ext autotime"
      ],
      "metadata": {
        "id": "LO_fhEZL8qXK",
        "colab": {
          "base_uri": "https://localhost:8080/"
        },
        "outputId": "f077cf46-0c06-4113-ae5e-8fcf06486692"
      },
      "execution_count": 66,
      "outputs": [
        {
          "output_type": "stream",
          "name": "stdout",
          "text": [
            "The autotime extension is already loaded. To reload it, use:\n",
            "  %reload_ext autotime\n",
            "time: 1.8 ms (started: 2023-09-22 13:55:04 +00:00)\n"
          ]
        }
      ]
    },
    {
      "cell_type": "markdown",
      "source": [
        "# Início da sessão."
      ],
      "metadata": {
        "id": "aAswoIY9pnoP"
      }
    },
    {
      "cell_type": "code",
      "source": [
        "drive.mount('/content/drive', force_remount=True)\n",
        "spark = SparkSession.builder.master('local').appName('pyspark_app').getOrCreate()\n",
        "spark"
      ],
      "metadata": {
        "colab": {
          "base_uri": "https://localhost:8080/",
          "height": 254
        },
        "id": "Yk5ZIoBYiDu2",
        "outputId": "915c88a5-b5df-4f6a-caa4-5c19d9f3df0b"
      },
      "execution_count": 67,
      "outputs": [
        {
          "output_type": "stream",
          "name": "stdout",
          "text": [
            "Mounted at /content/drive\n"
          ]
        },
        {
          "output_type": "execute_result",
          "data": {
            "text/plain": [
              "<pyspark.sql.session.SparkSession at 0x7a52dbfa5930>"
            ],
            "text/html": [
              "\n",
              "            <div>\n",
              "                <p><b>SparkSession - in-memory</b></p>\n",
              "                \n",
              "        <div>\n",
              "            <p><b>SparkContext</b></p>\n",
              "\n",
              "            <p><a href=\"http://75c155d67c87:4040\">Spark UI</a></p>\n",
              "\n",
              "            <dl>\n",
              "              <dt>Version</dt>\n",
              "                <dd><code>v3.4.1</code></dd>\n",
              "              <dt>Master</dt>\n",
              "                <dd><code>local</code></dd>\n",
              "              <dt>AppName</dt>\n",
              "                <dd><code>pyspark_app</code></dd>\n",
              "            </dl>\n",
              "        </div>\n",
              "        \n",
              "            </div>\n",
              "        "
            ]
          },
          "metadata": {},
          "execution_count": 67
        },
        {
          "output_type": "stream",
          "name": "stdout",
          "text": [
            "time: 4.25 s (started: 2023-09-22 13:55:04 +00:00)\n"
          ]
        }
      ]
    },
    {
      "cell_type": "markdown",
      "source": [
        "## Leitura dos arquivos."
      ],
      "metadata": {
        "id": "R9NYpIy3NI9Z"
      }
    },
    {
      "cell_type": "code",
      "source": [
        "houses = spark.read.csv(\"/content/drive/MyDrive/datasets/housing/housing.csv\", header=True, inferSchema=True, encoding='utf-8')\n",
        "houses = houses.drop('housing_median_age', 'population', 'median_income', 'median_house_value') # remoção de atributos desnecessários\n",
        "print(type(houses))\n",
        "print(f'rows: {houses.count()}')\n",
        "print(f'cols: {len(houses.columns)}')\n",
        "houses.show(5)"
      ],
      "metadata": {
        "colab": {
          "base_uri": "https://localhost:8080/"
        },
        "id": "nF-O2mzVmGVX",
        "outputId": "3f0307d9-8457-4bfb-9567-961e6e07a75b"
      },
      "execution_count": 131,
      "outputs": [
        {
          "output_type": "stream",
          "name": "stdout",
          "text": [
            "<class 'pyspark.sql.dataframe.DataFrame'>\n",
            "rows: 20640\n",
            "cols: 6\n",
            "+---------+--------+-----------+--------------+----------+---------------+\n",
            "|longitude|latitude|total_rooms|total_bedrooms|households|ocean_proximity|\n",
            "+---------+--------+-----------+--------------+----------+---------------+\n",
            "|  -122.23|   37.88|      880.0|         129.0|     126.0|       NEAR BAY|\n",
            "|  -122.22|   37.86|     7099.0|        1106.0|    1138.0|       NEAR BAY|\n",
            "|  -122.24|   37.85|     1467.0|         190.0|     177.0|       NEAR BAY|\n",
            "|  -122.25|   37.85|     1274.0|         235.0|     219.0|       NEAR BAY|\n",
            "|  -122.25|   37.85|     1627.0|         280.0|     259.0|       NEAR BAY|\n",
            "+---------+--------+-----------+--------------+----------+---------------+\n",
            "only showing top 5 rows\n",
            "\n",
            "time: 919 ms (started: 2023-09-22 14:10:23 +00:00)\n"
          ]
        }
      ]
    },
    {
      "cell_type": "code",
      "source": [
        "players = spark.read.csv(\"/content/drive/MyDrive/datasets/wc2018-players.csv\", header=True, inferSchema=True, encoding='utf-8')\n",
        "players = players.drop('#', 'dia', 'mes', 'ano', 'club') # remoção de atributos desnecessários\n",
        "print(type(players))\n",
        "print(f'rows: {players.count()}')\n",
        "print(f'cols: {len(players.columns)}')\n",
        "players.show(5)"
      ],
      "metadata": {
        "colab": {
          "base_uri": "https://localhost:8080/"
        },
        "id": "lSy2yziQLrQ3",
        "outputId": "74353e83-cbf7-4299-a7e3-a61fa36b2812"
      },
      "execution_count": 130,
      "outputs": [
        {
          "output_type": "stream",
          "name": "stdout",
          "text": [
            "<class 'pyspark.sql.dataframe.DataFrame'>\n",
            "rows: 736\n",
            "cols: 7\n",
            "+---------+----+------------------+----------+----------+------+------+\n",
            "|     Team|Pos.| FIFA Popular Name|Birth Date|Shirt Name|Height|Weight|\n",
            "+---------+----+------------------+----------+----------+------+------+\n",
            "|Argentina|  DF|TAGLIAFICO Nicolas|31.08.1992|TAGLIAFICO|   169|    65|\n",
            "|Argentina|  MF|    PAVON Cristian|21.01.1996|     PAVÓN|   169|    65|\n",
            "|Argentina|  MF|    LANZINI Manuel|15.02.1993|   LANZINI|   167|    66|\n",
            "|Argentina|  DF|    SALVIO Eduardo|13.07.1990|    SALVIO|   167|    69|\n",
            "|Argentina|  FW|      MESSI Lionel|24.06.1987|     MESSI|   170|    72|\n",
            "+---------+----+------------------+----------+----------+------+------+\n",
            "only showing top 5 rows\n",
            "\n",
            "time: 1.16 s (started: 2023-09-22 14:09:58 +00:00)\n"
          ]
        }
      ]
    },
    {
      "cell_type": "code",
      "source": [
        "clients  = spark.read.csv(\"/content/drive/MyDrive/datasets/bix-tecnologia/clients.csv\", header=True, inferSchema=True, encoding='utf-8')\n",
        "products = spark.read.csv(\"/content/drive/MyDrive/datasets/bix-tecnologia/products.csv\", header=True, inferSchema=True, encoding='utf-8')\n",
        "sales    = spark.read.csv(\"/content/drive/MyDrive/datasets/bix-tecnologia/sales.csv\", header=True, inferSchema=True, encoding='utf-8')\n",
        "stores   = spark.read.csv(\"/content/drive/MyDrive/datasets/bix-tecnologia/stores.csv\", header=True, inferSchema=True, encoding='utf-8')"
      ],
      "metadata": {
        "id": "g0PkgClQL3cj"
      },
      "execution_count": null,
      "outputs": []
    },
    {
      "cell_type": "markdown",
      "source": [
        "# Funções descritivas básicas.\n",
        "Vou usar 'houses' como referência no uso das funções abaixo."
      ],
      "metadata": {
        "id": "qSKwsHHsE0c3"
      }
    },
    {
      "cell_type": "code",
      "source": [
        "houses.show(5)"
      ],
      "metadata": {
        "colab": {
          "base_uri": "https://localhost:8080/"
        },
        "id": "waAJ4QLDE3xU",
        "outputId": "0f5b17aa-041a-4a77-ddce-213f9a320e62"
      },
      "execution_count": 69,
      "outputs": [
        {
          "output_type": "stream",
          "name": "stdout",
          "text": [
            "+---------+--------+-----------+--------------+----------+---------------+\n",
            "|longitude|latitude|total_rooms|total_bedrooms|households|ocean_proximity|\n",
            "+---------+--------+-----------+--------------+----------+---------------+\n",
            "|  -122.23|   37.88|      880.0|         129.0|     126.0|       NEAR BAY|\n",
            "|  -122.22|   37.86|     7099.0|        1106.0|    1138.0|       NEAR BAY|\n",
            "|  -122.24|   37.85|     1467.0|         190.0|     177.0|       NEAR BAY|\n",
            "|  -122.25|   37.85|     1274.0|         235.0|     219.0|       NEAR BAY|\n",
            "|  -122.25|   37.85|     1627.0|         280.0|     259.0|       NEAR BAY|\n",
            "+---------+--------+-----------+--------------+----------+---------------+\n",
            "only showing top 5 rows\n",
            "\n",
            "time: 199 ms (started: 2023-09-22 13:55:10 +00:00)\n"
          ]
        }
      ]
    },
    {
      "cell_type": "code",
      "source": [
        "print(houses.columns)"
      ],
      "metadata": {
        "colab": {
          "base_uri": "https://localhost:8080/"
        },
        "id": "CCZm02HJsVL5",
        "outputId": "b7e24fc3-9c1e-4789-86e8-3680b1110544"
      },
      "execution_count": 70,
      "outputs": [
        {
          "output_type": "stream",
          "name": "stdout",
          "text": [
            "['longitude', 'latitude', 'total_rooms', 'total_bedrooms', 'households', 'ocean_proximity']\n",
            "time: 584 µs (started: 2023-09-22 13:55:10 +00:00)\n"
          ]
        }
      ]
    },
    {
      "cell_type": "code",
      "source": [
        "houses.printSchema()"
      ],
      "metadata": {
        "colab": {
          "base_uri": "https://localhost:8080/"
        },
        "id": "Tho1zkZth2MN",
        "outputId": "55f02a94-5f9a-4457-a145-f1c003c6289b"
      },
      "execution_count": 71,
      "outputs": [
        {
          "output_type": "stream",
          "name": "stdout",
          "text": [
            "root\n",
            " |-- longitude: double (nullable = true)\n",
            " |-- latitude: double (nullable = true)\n",
            " |-- total_rooms: double (nullable = true)\n",
            " |-- total_bedrooms: double (nullable = true)\n",
            " |-- households: double (nullable = true)\n",
            " |-- ocean_proximity: string (nullable = true)\n",
            "\n",
            "time: 15.9 ms (started: 2023-09-22 13:55:10 +00:00)\n"
          ]
        }
      ]
    },
    {
      "cell_type": "code",
      "source": [
        "houses.describe().show()"
      ],
      "metadata": {
        "colab": {
          "base_uri": "https://localhost:8080/"
        },
        "id": "YU3oj1JxE-os",
        "outputId": "aa7ff5d8-c70e-47e5-da11-cc5a6ff2350e"
      },
      "execution_count": 72,
      "outputs": [
        {
          "output_type": "stream",
          "name": "stdout",
          "text": [
            "+-------+-------------------+-----------------+------------------+------------------+-----------------+---------------+\n",
            "|summary|          longitude|         latitude|       total_rooms|    total_bedrooms|       households|ocean_proximity|\n",
            "+-------+-------------------+-----------------+------------------+------------------+-----------------+---------------+\n",
            "|  count|              20640|            20640|             20640|             20433|            20640|          20640|\n",
            "|   mean|-119.56970445736148| 35.6318614341087|2635.7630813953488| 537.8705525375618|499.5396802325581|           null|\n",
            "| stddev|  2.003531723502584|2.135952397457101|2181.6152515827944|421.38507007403115|382.3297528316098|           null|\n",
            "|    min|            -124.35|            32.54|               2.0|               1.0|              1.0|      <1H OCEAN|\n",
            "|    max|            -114.31|            41.95|           39320.0|            6445.0|           6082.0|     NEAR OCEAN|\n",
            "+-------+-------------------+-----------------+------------------+------------------+-----------------+---------------+\n",
            "\n",
            "time: 1.47 s (started: 2023-09-22 13:55:10 +00:00)\n"
          ]
        }
      ]
    },
    {
      "cell_type": "code",
      "source": [
        "rows = houses.count()\n",
        "cols = len(houses.columns)\n",
        "print(f'shape: {(rows, cols)}')"
      ],
      "metadata": {
        "colab": {
          "base_uri": "https://localhost:8080/"
        },
        "id": "wLAV9JlhJzaV",
        "outputId": "436f38ec-5635-42c3-98a5-9e155ff57bc0"
      },
      "execution_count": 73,
      "outputs": [
        {
          "output_type": "stream",
          "name": "stdout",
          "text": [
            "shape: (20640, 6)\n",
            "time: 256 ms (started: 2023-09-22 13:55:12 +00:00)\n"
          ]
        }
      ]
    },
    {
      "cell_type": "markdown",
      "source": [
        "# Funções úteis para feature engineering."
      ],
      "metadata": {
        "id": "sOe4mRqMFEPZ"
      }
    },
    {
      "cell_type": "markdown",
      "source": [
        "Criando backup do dataframe"
      ],
      "metadata": {
        "id": "Ue7YT41Bazkf"
      }
    },
    {
      "cell_type": "code",
      "source": [
        "houses_backup = houses"
      ],
      "metadata": {
        "colab": {
          "base_uri": "https://localhost:8080/"
        },
        "id": "H8tTGZECa2Bq",
        "outputId": "cebf9560-4bae-4069-9adc-3f32170466d0"
      },
      "execution_count": 92,
      "outputs": [
        {
          "output_type": "stream",
          "name": "stdout",
          "text": [
            "time: 515 µs (started: 2023-09-22 13:55:22 +00:00)\n"
          ]
        }
      ]
    },
    {
      "cell_type": "markdown",
      "source": [
        "## Atributos"
      ],
      "metadata": {
        "id": "UTA4QbYtunoX"
      }
    },
    {
      "cell_type": "markdown",
      "source": [
        "### Renomeação\n",
        "Transformando tudo em letras maiúsculas."
      ],
      "metadata": {
        "id": "2K3cJJC0r4-n"
      }
    },
    {
      "cell_type": "code",
      "source": [
        "upper = [column.upper() for column in houses.columns]\n",
        "for column, up in zip(houses.columns, upper):\n",
        "  houses = houses.withColumnRenamed(column, up)\n",
        "print(houses.columns)"
      ],
      "metadata": {
        "colab": {
          "base_uri": "https://localhost:8080/"
        },
        "id": "FB73DskfupN2",
        "outputId": "6165617e-cfd0-4c43-c301-60c666cbc68e"
      },
      "execution_count": 74,
      "outputs": [
        {
          "output_type": "stream",
          "name": "stdout",
          "text": [
            "['LONGITUDE', 'LATITUDE', 'TOTAL_ROOMS', 'TOTAL_BEDROOMS', 'HOUSEHOLDS', 'OCEAN_PROXIMITY']\n",
            "time: 49.8 ms (started: 2023-09-22 13:55:12 +00:00)\n"
          ]
        }
      ]
    },
    {
      "cell_type": "markdown",
      "source": [
        "Transformando tudo em letras minúsculas."
      ],
      "metadata": {
        "id": "dpT_yQZRxufp"
      }
    },
    {
      "cell_type": "code",
      "source": [
        "lower = [column.lower() for column in houses.columns]\n",
        "for column, low in zip(houses.columns, lower):\n",
        "  houses = houses.withColumnRenamed(column, low)\n",
        "print(houses.columns)"
      ],
      "metadata": {
        "colab": {
          "base_uri": "https://localhost:8080/"
        },
        "id": "xHYk3Z5zxBeE",
        "outputId": "5192c1e5-98c3-4430-c1f1-51961d5a3304"
      },
      "execution_count": 75,
      "outputs": [
        {
          "output_type": "stream",
          "name": "stdout",
          "text": [
            "['longitude', 'latitude', 'total_rooms', 'total_bedrooms', 'households', 'ocean_proximity']\n",
            "time: 49 ms (started: 2023-09-22 13:55:12 +00:00)\n"
          ]
        }
      ]
    },
    {
      "cell_type": "markdown",
      "source": [
        "Atribuindo um 'alias' a cada atributo selecionado. Só pode ser feito através da função col() que retorna um objeto Column.\n"
      ],
      "metadata": {
        "id": "MV5169vkJuIZ"
      }
    },
    {
      "cell_type": "code",
      "source": [
        "lat = col('latitude').alias('lat')\n",
        "lon = col('longitude').alias('lon')\n",
        "\n",
        "print(lat)\n",
        "houses.select([lat, lon]).show(5)"
      ],
      "metadata": {
        "colab": {
          "base_uri": "https://localhost:8080/"
        },
        "id": "bzWH6uZHJzXj",
        "outputId": "d0ec107f-7929-4070-f625-cc0a11f0b558"
      },
      "execution_count": 76,
      "outputs": [
        {
          "output_type": "stream",
          "name": "stdout",
          "text": [
            "Column<'latitude AS lat'>\n",
            "+-----+-------+\n",
            "|  lat|    lon|\n",
            "+-----+-------+\n",
            "|37.88|-122.23|\n",
            "|37.86|-122.22|\n",
            "|37.85|-122.24|\n",
            "|37.85|-122.25|\n",
            "|37.85|-122.25|\n",
            "+-----+-------+\n",
            "only showing top 5 rows\n",
            "\n",
            "time: 168 ms (started: 2023-09-22 13:55:12 +00:00)\n"
          ]
        }
      ]
    },
    {
      "cell_type": "markdown",
      "source": [
        "### Criação\n",
        "Atribuo um valor literal(True) à nova coluna chamada 'new_col'. A função lit() retorna um objeto Column. Note que este atributo é do tipo constante, ou seja, todos os seus valores são True. Normalmente este tipo de atributo não tem utilidade em modelos preditivos."
      ],
      "metadata": {
        "id": "bj8Tl9M7sjmb"
      }
    },
    {
      "cell_type": "code",
      "source": [
        "houses.withColumn('new_col', lit(True)).show(5)"
      ],
      "metadata": {
        "colab": {
          "base_uri": "https://localhost:8080/"
        },
        "id": "5Qi7KZObQsPN",
        "outputId": "19559d25-19cd-4f3b-b976-2f5864c782e0"
      },
      "execution_count": 79,
      "outputs": [
        {
          "output_type": "stream",
          "name": "stdout",
          "text": [
            "+---------+--------+-----------+--------------+----------+---------------+-------+\n",
            "|longitude|latitude|total_rooms|total_bedrooms|households|ocean_proximity|new_col|\n",
            "+---------+--------+-----------+--------------+----------+---------------+-------+\n",
            "|  -122.23|   37.88|      880.0|         129.0|     126.0|       NEAR BAY|   true|\n",
            "|  -122.22|   37.86|     7099.0|        1106.0|    1138.0|       NEAR BAY|   true|\n",
            "|  -122.24|   37.85|     1467.0|         190.0|     177.0|       NEAR BAY|   true|\n",
            "|  -122.25|   37.85|     1274.0|         235.0|     219.0|       NEAR BAY|   true|\n",
            "|  -122.25|   37.85|     1627.0|         280.0|     259.0|       NEAR BAY|   true|\n",
            "+---------+--------+-----------+--------------+----------+---------------+-------+\n",
            "only showing top 5 rows\n",
            "\n",
            "time: 210 ms (started: 2023-09-22 13:55:13 +00:00)\n"
          ]
        }
      ]
    },
    {
      "cell_type": "markdown",
      "source": [
        "Nova coluna criada a partir de uma operação matemática entre outras duas. Neste caso é preciso que os atributos sejam numéricos."
      ],
      "metadata": {
        "id": "hOkAB1a3s20E"
      }
    },
    {
      "cell_type": "code",
      "source": [
        "result = houses['total_bedrooms'] / houses['total_rooms']\n",
        "print(type(result))\n",
        "houses.withColumn('new_col', result).show(5)"
      ],
      "metadata": {
        "colab": {
          "base_uri": "https://localhost:8080/"
        },
        "id": "Qo4tlcTVRblw",
        "outputId": "3c9b38dd-4421-41c3-c40a-b4f528f7440a"
      },
      "execution_count": 80,
      "outputs": [
        {
          "output_type": "stream",
          "name": "stdout",
          "text": [
            "<class 'pyspark.sql.column.Column'>\n",
            "+---------+--------+-----------+--------------+----------+---------------+-------------------+\n",
            "|longitude|latitude|total_rooms|total_bedrooms|households|ocean_proximity|            new_col|\n",
            "+---------+--------+-----------+--------------+----------+---------------+-------------------+\n",
            "|  -122.23|   37.88|      880.0|         129.0|     126.0|       NEAR BAY|0.14659090909090908|\n",
            "|  -122.22|   37.86|     7099.0|        1106.0|    1138.0|       NEAR BAY|0.15579659106916466|\n",
            "|  -122.24|   37.85|     1467.0|         190.0|     177.0|       NEAR BAY|0.12951601908657123|\n",
            "|  -122.25|   37.85|     1274.0|         235.0|     219.0|       NEAR BAY|0.18445839874411302|\n",
            "|  -122.25|   37.85|     1627.0|         280.0|     259.0|       NEAR BAY| 0.1720958819913952|\n",
            "+---------+--------+-----------+--------------+----------+---------------+-------------------+\n",
            "only showing top 5 rows\n",
            "\n",
            "time: 347 ms (started: 2023-09-22 13:55:13 +00:00)\n"
          ]
        }
      ]
    },
    {
      "cell_type": "markdown",
      "source": [
        "Nova coluna usando a função substring()."
      ],
      "metadata": {
        "id": "G5JqVBMTtJH_"
      }
    },
    {
      "cell_type": "code",
      "source": [
        "houses.withColumn('new_col', substring('ocean_proximity', 1, 4)).show(5)"
      ],
      "metadata": {
        "colab": {
          "base_uri": "https://localhost:8080/"
        },
        "id": "WTWf5PseValt",
        "outputId": "28f7941d-fd2e-4fd4-a345-8fb62028ad11"
      },
      "execution_count": 81,
      "outputs": [
        {
          "output_type": "stream",
          "name": "stdout",
          "text": [
            "+---------+--------+-----------+--------------+----------+---------------+-------+\n",
            "|longitude|latitude|total_rooms|total_bedrooms|households|ocean_proximity|new_col|\n",
            "+---------+--------+-----------+--------------+----------+---------------+-------+\n",
            "|  -122.23|   37.88|      880.0|         129.0|     126.0|       NEAR BAY|   NEAR|\n",
            "|  -122.22|   37.86|     7099.0|        1106.0|    1138.0|       NEAR BAY|   NEAR|\n",
            "|  -122.24|   37.85|     1467.0|         190.0|     177.0|       NEAR BAY|   NEAR|\n",
            "|  -122.25|   37.85|     1274.0|         235.0|     219.0|       NEAR BAY|   NEAR|\n",
            "|  -122.25|   37.85|     1627.0|         280.0|     259.0|       NEAR BAY|   NEAR|\n",
            "+---------+--------+-----------+--------------+----------+---------------+-------+\n",
            "only showing top 5 rows\n",
            "\n",
            "time: 136 ms (started: 2023-09-22 13:55:13 +00:00)\n"
          ]
        }
      ]
    },
    {
      "cell_type": "markdown",
      "source": [
        "Concatenando dois atributos para formar um novo."
      ],
      "metadata": {
        "id": "3lPUpCmxtRuh"
      }
    },
    {
      "cell_type": "code",
      "source": [
        "houses.withColumn('new_col', concat(houses['latitude'], houses['longitude'])).show(10)"
      ],
      "metadata": {
        "colab": {
          "base_uri": "https://localhost:8080/"
        },
        "id": "sknwYbdmmVlj",
        "outputId": "e477f3b2-830c-489a-b15b-ce4cd329486e"
      },
      "execution_count": 82,
      "outputs": [
        {
          "output_type": "stream",
          "name": "stdout",
          "text": [
            "+---------+--------+-----------+--------------+----------+---------------+------------+\n",
            "|longitude|latitude|total_rooms|total_bedrooms|households|ocean_proximity|     new_col|\n",
            "+---------+--------+-----------+--------------+----------+---------------+------------+\n",
            "|  -122.23|   37.88|      880.0|         129.0|     126.0|       NEAR BAY|37.88-122.23|\n",
            "|  -122.22|   37.86|     7099.0|        1106.0|    1138.0|       NEAR BAY|37.86-122.22|\n",
            "|  -122.24|   37.85|     1467.0|         190.0|     177.0|       NEAR BAY|37.85-122.24|\n",
            "|  -122.25|   37.85|     1274.0|         235.0|     219.0|       NEAR BAY|37.85-122.25|\n",
            "|  -122.25|   37.85|     1627.0|         280.0|     259.0|       NEAR BAY|37.85-122.25|\n",
            "|  -122.25|   37.85|      919.0|         213.0|     193.0|       NEAR BAY|37.85-122.25|\n",
            "|  -122.25|   37.84|     2535.0|         489.0|     514.0|       NEAR BAY|37.84-122.25|\n",
            "|  -122.25|   37.84|     3104.0|         687.0|     647.0|       NEAR BAY|37.84-122.25|\n",
            "|  -122.26|   37.84|     2555.0|         665.0|     595.0|       NEAR BAY|37.84-122.26|\n",
            "|  -122.25|   37.84|     3549.0|         707.0|     714.0|       NEAR BAY|37.84-122.25|\n",
            "+---------+--------+-----------+--------------+----------+---------------+------------+\n",
            "only showing top 10 rows\n",
            "\n",
            "time: 142 ms (started: 2023-09-22 13:55:13 +00:00)\n"
          ]
        }
      ]
    },
    {
      "cell_type": "code",
      "source": [
        "houses.withColumn('new_col', concat_ws(' # ', houses['latitude'], houses['longitude'])).show(10)"
      ],
      "metadata": {
        "colab": {
          "base_uri": "https://localhost:8080/"
        },
        "id": "nHV3Ia0RmzkO",
        "outputId": "7f57e511-fff7-4aa5-842a-b587f3267861"
      },
      "execution_count": 83,
      "outputs": [
        {
          "output_type": "stream",
          "name": "stdout",
          "text": [
            "+---------+--------+-----------+--------------+----------+---------------+---------------+\n",
            "|longitude|latitude|total_rooms|total_bedrooms|households|ocean_proximity|        new_col|\n",
            "+---------+--------+-----------+--------------+----------+---------------+---------------+\n",
            "|  -122.23|   37.88|      880.0|         129.0|     126.0|       NEAR BAY|37.88 # -122.23|\n",
            "|  -122.22|   37.86|     7099.0|        1106.0|    1138.0|       NEAR BAY|37.86 # -122.22|\n",
            "|  -122.24|   37.85|     1467.0|         190.0|     177.0|       NEAR BAY|37.85 # -122.24|\n",
            "|  -122.25|   37.85|     1274.0|         235.0|     219.0|       NEAR BAY|37.85 # -122.25|\n",
            "|  -122.25|   37.85|     1627.0|         280.0|     259.0|       NEAR BAY|37.85 # -122.25|\n",
            "|  -122.25|   37.85|      919.0|         213.0|     193.0|       NEAR BAY|37.85 # -122.25|\n",
            "|  -122.25|   37.84|     2535.0|         489.0|     514.0|       NEAR BAY|37.84 # -122.25|\n",
            "|  -122.25|   37.84|     3104.0|         687.0|     647.0|       NEAR BAY|37.84 # -122.25|\n",
            "|  -122.26|   37.84|     2555.0|         665.0|     595.0|       NEAR BAY|37.84 # -122.26|\n",
            "|  -122.25|   37.84|     3549.0|         707.0|     714.0|       NEAR BAY|37.84 # -122.25|\n",
            "+---------+--------+-----------+--------------+----------+---------------+---------------+\n",
            "only showing top 10 rows\n",
            "\n",
            "time: 207 ms (started: 2023-09-22 13:55:14 +00:00)\n"
          ]
        }
      ]
    },
    {
      "cell_type": "markdown",
      "source": [
        "### Conversão de tipo"
      ],
      "metadata": {
        "id": "tw0IbmPXQqI-"
      }
    },
    {
      "cell_type": "code",
      "source": [
        "houses.withColumn('latitude', col('latitude').cast(FloatType())).show(5)"
      ],
      "metadata": {
        "colab": {
          "base_uri": "https://localhost:8080/"
        },
        "id": "7znkS1kzQvlJ",
        "outputId": "5b0c5484-226b-4a62-c55a-43cbeb5459b8"
      },
      "execution_count": 133,
      "outputs": [
        {
          "output_type": "stream",
          "name": "stdout",
          "text": [
            "+---------+--------+-----------+--------------+----------+---------------+\n",
            "|longitude|latitude|total_rooms|total_bedrooms|households|ocean_proximity|\n",
            "+---------+--------+-----------+--------------+----------+---------------+\n",
            "|  -122.23|   37.88|      880.0|         129.0|     126.0|       NEAR BAY|\n",
            "|  -122.22|   37.86|     7099.0|        1106.0|    1138.0|       NEAR BAY|\n",
            "|  -122.24|   37.85|     1467.0|         190.0|     177.0|       NEAR BAY|\n",
            "|  -122.25|   37.85|     1274.0|         235.0|     219.0|       NEAR BAY|\n",
            "|  -122.25|   37.85|     1627.0|         280.0|     259.0|       NEAR BAY|\n",
            "+---------+--------+-----------+--------------+----------+---------------+\n",
            "only showing top 5 rows\n",
            "\n",
            "time: 167 ms (started: 2023-09-22 14:21:01 +00:00)\n"
          ]
        }
      ]
    },
    {
      "cell_type": "markdown",
      "source": [
        "Os exemplos a seguir ilustram duas maneiras de se converter strings que representam datas. Primeiro, apresento um forma de extrair os componentes, dia, mês e ano. No bloco de código abaixo, em \"birth date\", note que o separador desses componentes é um ponto \".\"."
      ],
      "metadata": {
        "id": "lptmUlt7uQuF"
      }
    },
    {
      "cell_type": "code",
      "source": [
        "players.show(3)"
      ],
      "metadata": {
        "colab": {
          "base_uri": "https://localhost:8080/"
        },
        "id": "snA5ev8aS0Qi",
        "outputId": "6245985d-79a2-4419-8995-a9a9c6df4508"
      },
      "execution_count": 135,
      "outputs": [
        {
          "output_type": "stream",
          "name": "stdout",
          "text": [
            "+---------+----+------------------+----------+----------+------+------+\n",
            "|     Team|Pos.| FIFA Popular Name|Birth Date|Shirt Name|Height|Weight|\n",
            "+---------+----+------------------+----------+----------+------+------+\n",
            "|Argentina|  DF|TAGLIAFICO Nicolas|31.08.1992|TAGLIAFICO|   169|    65|\n",
            "|Argentina|  MF|    PAVON Cristian|21.01.1996|     PAVÓN|   169|    65|\n",
            "|Argentina|  MF|    LANZINI Manuel|15.02.1993|   LANZINI|   167|    66|\n",
            "+---------+----+------------------+----------+----------+------+------+\n",
            "only showing top 3 rows\n",
            "\n",
            "time: 161 ms (started: 2023-09-22 14:29:08 +00:00)\n"
          ]
        }
      ]
    },
    {
      "cell_type": "code",
      "source": [
        "dia = udf(lambda date:date.split('.')[0])\n",
        "mes = udf(lambda date:date.split('.')[1])\n",
        "ano = udf(lambda date:date.split('.')[2])\n",
        "\n",
        "players = players.withColumn('dia', dia('birth date'))\n",
        "players = players.withColumn('mes', mes('birth date'))\n",
        "players = players.withColumn('ano', ano('birth date'))\n",
        "\n",
        "# convertendo o tipo string para int\n",
        "players = players.withColumn('dia', col('dia').cast(IntegerType()))\n",
        "players = players.withColumn('mes', col('mes').cast(IntegerType()))\n",
        "players = players.withColumn('ano', col('ano').cast(IntegerType()))\n",
        "\n",
        "players.show(5)"
      ],
      "metadata": {
        "colab": {
          "base_uri": "https://localhost:8080/"
        },
        "id": "yUX4KfScuj0j",
        "outputId": "3603b773-a7c0-4243-a9f1-435e5a7a3a7f"
      },
      "execution_count": 138,
      "outputs": [
        {
          "output_type": "stream",
          "name": "stdout",
          "text": [
            "+---------+----+------------------+----------+----------+------+------+---+---+----+\n",
            "|     Team|Pos.| FIFA Popular Name|Birth Date|Shirt Name|Height|Weight|dia|mes| ano|\n",
            "+---------+----+------------------+----------+----------+------+------+---+---+----+\n",
            "|Argentina|  DF|TAGLIAFICO Nicolas|31.08.1992|TAGLIAFICO|   169|    65| 31|  8|1992|\n",
            "|Argentina|  MF|    PAVON Cristian|21.01.1996|     PAVÓN|   169|    65| 21|  1|1996|\n",
            "|Argentina|  MF|    LANZINI Manuel|15.02.1993|   LANZINI|   167|    66| 15|  2|1993|\n",
            "|Argentina|  DF|    SALVIO Eduardo|13.07.1990|    SALVIO|   167|    69| 13|  7|1990|\n",
            "|Argentina|  FW|      MESSI Lionel|24.06.1987|     MESSI|   170|    72| 24|  6|1987|\n",
            "+---------+----+------------------+----------+----------+------+------+---+---+----+\n",
            "only showing top 5 rows\n",
            "\n",
            "time: 686 ms (started: 2023-09-22 14:38:12 +00:00)\n"
          ]
        }
      ]
    },
    {
      "cell_type": "markdown",
      "source": [
        "Outra forma de conversão é utilizando a função to_date(). Neste caso não há separação explícita dos componentes e precisamos informar o formato das datas."
      ],
      "metadata": {
        "id": "bWSmfgQWXe4g"
      }
    },
    {
      "cell_type": "code",
      "source": [
        "players = players.withColumn(\"birth date\", to_date(col(\"birth date\"), \"dd.MM.yyyy\"))\n",
        "# ou\n",
        "players = players.withColumn(\"birth date\", to_date(col(\"birth date\"), \"dd.MM.yyyy\"))\n",
        "#players = players.withColumn(\"birth date\", to_date(col(\"birth date\"), \"dd.MM.yyyy\").cast(DateType()))"
      ],
      "metadata": {
        "colab": {
          "base_uri": "https://localhost:8080/"
        },
        "id": "lh_JlUfxXm6f",
        "outputId": "c49a7f3c-a900-4121-f404-a0878d46b892"
      },
      "execution_count": 141,
      "outputs": [
        {
          "output_type": "stream",
          "name": "stdout",
          "text": [
            "time: 18.1 ms (started: 2023-09-22 14:42:09 +00:00)\n"
          ]
        }
      ]
    },
    {
      "cell_type": "markdown",
      "source": [
        "## Valores NaN"
      ],
      "metadata": {
        "id": "PiY9YFQcuj9D"
      }
    },
    {
      "cell_type": "markdown",
      "source": [
        "### Identificação"
      ],
      "metadata": {
        "id": "rx8fAg-0tzHZ"
      }
    },
    {
      "cell_type": "code",
      "source": [
        "for column in houses.columns:\n",
        "  mask = houses['longitude'].isNull()\n",
        "  nan_amount = houses.filter(mask).count()\n",
        "  print(f'{column}: {nan_amount}')"
      ],
      "metadata": {
        "colab": {
          "base_uri": "https://localhost:8080/"
        },
        "id": "YCL_rGlqr825",
        "outputId": "b0b2d802-5ca0-4381-e693-0d2bf63dbf82"
      },
      "execution_count": 84,
      "outputs": [
        {
          "output_type": "stream",
          "name": "stdout",
          "text": [
            "longitude: 0\n",
            "latitude: 0\n",
            "total_rooms: 0\n",
            "total_bedrooms: 0\n",
            "households: 0\n",
            "ocean_proximity: 0\n",
            "time: 2.51 s (started: 2023-09-22 13:55:14 +00:00)\n"
          ]
        }
      ]
    },
    {
      "cell_type": "markdown",
      "source": [
        "# Instruções SQL\n",
        "Esta sessão contém exemplos de código de funções do PySpark que implementam instruções da linguagem de consulta SQL."
      ],
      "metadata": {
        "id": "1W91ziDzymS7"
      }
    },
    {
      "cell_type": "markdown",
      "source": [
        "## SELECT"
      ],
      "metadata": {
        "id": "pjPSJv7YPx08"
      }
    },
    {
      "cell_type": "code",
      "source": [
        "print(type(houses.select(['longitude', 'latitude', 'households'])))\n",
        "houses.select(['longitude', 'latitude', 'households']).show(5)"
      ],
      "metadata": {
        "colab": {
          "base_uri": "https://localhost:8080/"
        },
        "id": "I4M9QyqyxWWu",
        "outputId": "aa58d2bf-1d17-4408-ea4f-aa0aee34b142"
      },
      "execution_count": 77,
      "outputs": [
        {
          "output_type": "stream",
          "name": "stdout",
          "text": [
            "<class 'pyspark.sql.dataframe.DataFrame'>\n",
            "+---------+--------+----------+\n",
            "|longitude|latitude|households|\n",
            "+---------+--------+----------+\n",
            "|  -122.23|   37.88|     126.0|\n",
            "|  -122.22|   37.86|    1138.0|\n",
            "|  -122.24|   37.85|     177.0|\n",
            "|  -122.25|   37.85|     219.0|\n",
            "|  -122.25|   37.85|     259.0|\n",
            "+---------+--------+----------+\n",
            "only showing top 5 rows\n",
            "\n",
            "time: 193 ms (started: 2023-09-22 13:55:12 +00:00)\n"
          ]
        }
      ]
    },
    {
      "cell_type": "markdown",
      "source": [
        "Forma alternativa utilizando a função col() que retorna um objeto da classe Column."
      ],
      "metadata": {
        "id": "K0TmUCh3I_XI"
      }
    },
    {
      "cell_type": "code",
      "source": [
        "print(type(houses.select([col('latitude'), col('longitude'), col('households')])))\n",
        "houses.select([col('latitude'), col('longitude'), col('households')]).show(5)"
      ],
      "metadata": {
        "colab": {
          "base_uri": "https://localhost:8080/"
        },
        "id": "HKWtaCa5HLRI",
        "outputId": "01452afe-4413-4fec-ecc2-4d089aba1ad8"
      },
      "execution_count": 78,
      "outputs": [
        {
          "output_type": "stream",
          "name": "stdout",
          "text": [
            "<class 'pyspark.sql.dataframe.DataFrame'>\n",
            "+--------+---------+----------+\n",
            "|latitude|longitude|households|\n",
            "+--------+---------+----------+\n",
            "|   37.88|  -122.23|     126.0|\n",
            "|   37.86|  -122.22|    1138.0|\n",
            "|   37.85|  -122.24|     177.0|\n",
            "|   37.85|  -122.25|     219.0|\n",
            "|   37.85|  -122.25|     259.0|\n",
            "+--------+---------+----------+\n",
            "only showing top 5 rows\n",
            "\n",
            "time: 322 ms (started: 2023-09-22 13:55:12 +00:00)\n"
          ]
        }
      ]
    },
    {
      "cell_type": "markdown",
      "source": [
        "# Outro dataset\n",
        "Vou usar outro dataset que contenha datas em formato string para fazer a conversão de string para o formato DateType."
      ],
      "metadata": {
        "id": "FpJfbpCtuLXq"
      }
    },
    {
      "cell_type": "code",
      "source": [
        "df.printSchema()"
      ],
      "metadata": {
        "colab": {
          "base_uri": "https://localhost:8080/"
        },
        "id": "9lzNdh4xpYUq",
        "outputId": "9664b302-f93c-4b5d-9e57-83feb9440eec"
      },
      "execution_count": 86,
      "outputs": [
        {
          "output_type": "stream",
          "name": "stdout",
          "text": [
            "root\n",
            " |-- Team: string (nullable = true)\n",
            " |-- Pos.: string (nullable = true)\n",
            " |-- FIFA Popular Name: string (nullable = true)\n",
            " |-- Birth Date: string (nullable = true)\n",
            " |-- Shirt Name: string (nullable = true)\n",
            " |-- Height: integer (nullable = true)\n",
            " |-- Weight: integer (nullable = true)\n",
            "\n",
            "time: 11.9 ms (started: 2023-09-22 13:55:17 +00:00)\n"
          ]
        }
      ]
    },
    {
      "cell_type": "markdown",
      "source": [
        "Vou renomear as colunas convertendo-as para letras minúsculas."
      ],
      "metadata": {
        "id": "NtCFp9Ya8GAv"
      }
    },
    {
      "cell_type": "code",
      "source": [
        "lower = [column.lower() for column in df.columns]\n",
        "for column, low in zip(df.columns, lower):\n",
        "  df = df.withColumnRenamed(column, low)\n",
        "\n",
        "df = df.withColumnRenamed('pos.', 'pos')\n",
        "print(df.columns)"
      ],
      "metadata": {
        "colab": {
          "base_uri": "https://localhost:8080/"
        },
        "id": "IbbSHIzX8M__",
        "outputId": "e33cfede-be10-427c-cc62-47bbaa2ea23a"
      },
      "execution_count": 87,
      "outputs": [
        {
          "output_type": "stream",
          "name": "stdout",
          "text": [
            "['team', 'pos', 'fifa popular name', 'birth date', 'shirt name', 'height', 'weight']\n",
            "time: 62 ms (started: 2023-09-22 13:55:17 +00:00)\n"
          ]
        }
      ]
    },
    {
      "cell_type": "markdown",
      "source": [
        "Outra conversão de tipo com a função cast()."
      ],
      "metadata": {
        "id": "Tb-QF4sEsvUL"
      }
    },
    {
      "cell_type": "code",
      "source": [
        "df.withColumn('height', col('height').cast(FloatType())).show(5)"
      ],
      "metadata": {
        "colab": {
          "base_uri": "https://localhost:8080/"
        },
        "id": "pvDqvkVrqbtT",
        "outputId": "a3bb7484-f861-4bc8-fec9-36a6fea931a1"
      },
      "execution_count": 132,
      "outputs": [
        {
          "output_type": "stream",
          "name": "stdout",
          "text": [
            "+---------+---+------------------+----------+----------+------+------+---+---+----+-----------+\n",
            "|     team|pos| fifa popular name|birth date|shirt name|height|weight|dia|mes| ano|  continent|\n",
            "+---------+---+------------------+----------+----------+------+------+---+---+----+-----------+\n",
            "|Argentina| DF|TAGLIAFICO Nicolas|31.08.1992|TAGLIAFICO| 169.0|    65| 31| 08|1992|s_americano|\n",
            "|Argentina| MF|    PAVON Cristian|21.01.1996|     PAVÓN| 169.0|    65| 21| 01|1996|s_americano|\n",
            "|Argentina| MF|    LANZINI Manuel|15.02.1993|   LANZINI| 167.0|    66| 15| 02|1993|s_americano|\n",
            "|Argentina| DF|    SALVIO Eduardo|13.07.1990|    SALVIO| 167.0|    69| 13| 07|1990|s_americano|\n",
            "|Argentina| FW|      MESSI Lionel|24.06.1987|     MESSI| 170.0|    72| 24| 06|1987|s_americano|\n",
            "+---------+---+------------------+----------+----------+------+------+---+---+----+-----------+\n",
            "only showing top 5 rows\n",
            "\n",
            "time: 360 ms (started: 2023-09-22 14:20:21 +00:00)\n"
          ]
        }
      ]
    },
    {
      "cell_type": "markdown",
      "source": [
        "Remoção de uma coluna."
      ],
      "metadata": {
        "id": "3scrwmfgXTNZ"
      }
    },
    {
      "cell_type": "code",
      "source": [
        "df = df.withColumn('new_col', lit(True))\n",
        "df = df.drop('new_col')\n",
        "df.show(5)"
      ],
      "metadata": {
        "colab": {
          "base_uri": "https://localhost:8080/"
        },
        "id": "WR4oimyoP0q0",
        "outputId": "5170b2fc-0b01-4be1-9be7-511f71f634c0"
      },
      "execution_count": 91,
      "outputs": [
        {
          "output_type": "stream",
          "name": "stdout",
          "text": [
            "+---------+---+------------------+----------+----------+------+------+---+---+----+\n",
            "|     team|pos| fifa popular name|birth date|shirt name|height|weight|dia|mes| ano|\n",
            "+---------+---+------------------+----------+----------+------+------+---+---+----+\n",
            "|Argentina| DF|TAGLIAFICO Nicolas|31.08.1992|TAGLIAFICO|   169|    65| 31| 08|1992|\n",
            "|Argentina| MF|    PAVON Cristian|21.01.1996|     PAVÓN|   169|    65| 21| 01|1996|\n",
            "|Argentina| MF|    LANZINI Manuel|15.02.1993|   LANZINI|   167|    66| 15| 02|1993|\n",
            "|Argentina| DF|    SALVIO Eduardo|13.07.1990|    SALVIO|   167|    69| 13| 07|1990|\n",
            "|Argentina| FW|      MESSI Lionel|24.06.1987|     MESSI|   170|    72| 24| 06|1987|\n",
            "+---------+---+------------------+----------+----------+------+------+---+---+----+\n",
            "only showing top 5 rows\n",
            "\n",
            "time: 1.15 s (started: 2023-09-22 13:55:20 +00:00)\n"
          ]
        }
      ]
    },
    {
      "cell_type": "markdown",
      "source": [
        "# Instrução: WHERE\n",
        "Função que implementa a instrução WHERE do SQL. A string argumento da função where() deve seguir o padrão SQL.\n",
        "\n",
        "Uma alternativa é a função filter() que pode ser usada da mesma forma."
      ],
      "metadata": {
        "id": "FMJL0sd2398C"
      }
    },
    {
      "cell_type": "code",
      "source": [
        "df.where(\"team = 'Brazil'\").show(5)"
      ],
      "metadata": {
        "colab": {
          "base_uri": "https://localhost:8080/"
        },
        "id": "Xidh2TQC4WEd",
        "outputId": "67b1c9d0-8a6a-483b-e8b1-7da98c0d9b0c"
      },
      "execution_count": 93,
      "outputs": [
        {
          "output_type": "stream",
          "name": "stdout",
          "text": [
            "+------+---+-----------------+----------+-----------+------+------+---+---+----+\n",
            "|  team|pos|fifa popular name|birth date| shirt name|height|weight|dia|mes| ano|\n",
            "+------+---+-----------------+----------+-----------+------+------+---+---+----+\n",
            "|Brazil| MF|             FRED|05.03.1993|       FRED|   169|    64| 05| 03|1993|\n",
            "|Brazil| FW|           TAISON|13.01.1988|     TAISON|   172|    64| 13| 01|1988|\n",
            "|Brazil| MF|      FERNANDINHO|04.05.1985|FERNANDINHO|   179|    67| 04| 05|1985|\n",
            "|Brazil| DF|           FAGNER|11.06.1989|     FAGNER|   168|    67| 11| 06|1989|\n",
            "|Brazil| FW|           NEYMAR|05.02.1992|  NEYMAR JR|   175|    68| 05| 02|1992|\n",
            "+------+---+-----------------+----------+-----------+------+------+---+---+----+\n",
            "only showing top 5 rows\n",
            "\n",
            "time: 1.1 s (started: 2023-09-22 13:55:22 +00:00)\n"
          ]
        }
      ]
    },
    {
      "cell_type": "code",
      "source": [
        "mask = df['team'] == 'Argentina'\n",
        "print(mask)\n",
        "df.where(mask).show(5)"
      ],
      "metadata": {
        "colab": {
          "base_uri": "https://localhost:8080/"
        },
        "id": "XJwOW85d5FV2",
        "outputId": "9eb0c422-18a5-4155-d26f-d69e60129424"
      },
      "execution_count": 94,
      "outputs": [
        {
          "output_type": "stream",
          "name": "stdout",
          "text": [
            "Column<'(team = Argentina)'>\n",
            "+---------+---+------------------+----------+----------+------+------+---+---+----+\n",
            "|     team|pos| fifa popular name|birth date|shirt name|height|weight|dia|mes| ano|\n",
            "+---------+---+------------------+----------+----------+------+------+---+---+----+\n",
            "|Argentina| DF|TAGLIAFICO Nicolas|31.08.1992|TAGLIAFICO|   169|    65| 31| 08|1992|\n",
            "|Argentina| MF|    PAVON Cristian|21.01.1996|     PAVÓN|   169|    65| 21| 01|1996|\n",
            "|Argentina| MF|    LANZINI Manuel|15.02.1993|   LANZINI|   167|    66| 15| 02|1993|\n",
            "|Argentina| DF|    SALVIO Eduardo|13.07.1990|    SALVIO|   167|    69| 13| 07|1990|\n",
            "|Argentina| FW|      MESSI Lionel|24.06.1987|     MESSI|   170|    72| 24| 06|1987|\n",
            "+---------+---+------------------+----------+----------+------+------+---+---+----+\n",
            "only showing top 5 rows\n",
            "\n",
            "time: 1.23 s (started: 2023-09-22 13:55:23 +00:00)\n"
          ]
        }
      ]
    },
    {
      "cell_type": "code",
      "source": [
        "mask = (col('shirt name') == 'MESSI')\n",
        "print(mask)\n",
        "df.filter(mask).show(5)"
      ],
      "metadata": {
        "colab": {
          "base_uri": "https://localhost:8080/"
        },
        "id": "0xmj005pIvLE",
        "outputId": "accd4be3-5995-4bdb-a971-164946853242"
      },
      "execution_count": 95,
      "outputs": [
        {
          "output_type": "stream",
          "name": "stdout",
          "text": [
            "Column<'(shirt name = MESSI)'>\n",
            "+---------+---+-----------------+----------+----------+------+------+---+---+----+\n",
            "|     team|pos|fifa popular name|birth date|shirt name|height|weight|dia|mes| ano|\n",
            "+---------+---+-----------------+----------+----------+------+------+---+---+----+\n",
            "|Argentina| FW|     MESSI Lionel|24.06.1987|     MESSI|   170|    72| 24| 06|1987|\n",
            "+---------+---+-----------------+----------+----------+------+------+---+---+----+\n",
            "\n",
            "time: 815 ms (started: 2023-09-22 13:55:24 +00:00)\n"
          ]
        }
      ]
    },
    {
      "cell_type": "markdown",
      "source": [
        "## Filtros compostos"
      ],
      "metadata": {
        "id": "O7cHwIHhJCvZ"
      }
    },
    {
      "cell_type": "code",
      "source": [
        "mask = (\"team = 'Brazil' AND height < 170\")\n",
        "print(mask)\n",
        "df.where(mask).show(5)"
      ],
      "metadata": {
        "colab": {
          "base_uri": "https://localhost:8080/"
        },
        "id": "2nUad3qtJD_O",
        "outputId": "1818809b-4a0a-4681-82a4-1afb2f431048"
      },
      "execution_count": 96,
      "outputs": [
        {
          "output_type": "stream",
          "name": "stdout",
          "text": [
            "team = 'Brazil' AND height < 170\n",
            "+------+---+-----------------+----------+----------+------+------+---+---+----+\n",
            "|  team|pos|fifa popular name|birth date|shirt name|height|weight|dia|mes| ano|\n",
            "+------+---+-----------------+----------+----------+------+------+---+---+----+\n",
            "|Brazil| MF|             FRED|05.03.1993|      FRED|   169|    64| 05| 03|1993|\n",
            "|Brazil| DF|           FAGNER|11.06.1989|    FAGNER|   168|    67| 11| 06|1989|\n",
            "+------+---+-----------------+----------+----------+------+------+---+---+----+\n",
            "\n",
            "time: 742 ms (started: 2023-09-22 13:55:25 +00:00)\n"
          ]
        }
      ]
    },
    {
      "cell_type": "code",
      "source": [
        "mask = (col('team') == 'Brazil') & (col('height') < 170)\n",
        "print(mask)\n",
        "df.where(mask).show(5)"
      ],
      "metadata": {
        "colab": {
          "base_uri": "https://localhost:8080/"
        },
        "id": "3GvVbsLVKMJ3",
        "outputId": "db1df810-812e-419e-8fa2-d0e1a24aba75"
      },
      "execution_count": 97,
      "outputs": [
        {
          "output_type": "stream",
          "name": "stdout",
          "text": [
            "Column<'((team = Brazil) AND (height < 170))'>\n",
            "+------+---+-----------------+----------+----------+------+------+---+---+----+\n",
            "|  team|pos|fifa popular name|birth date|shirt name|height|weight|dia|mes| ano|\n",
            "+------+---+-----------------+----------+----------+------+------+---+---+----+\n",
            "|Brazil| MF|             FRED|05.03.1993|      FRED|   169|    64| 05| 03|1993|\n",
            "|Brazil| DF|           FAGNER|11.06.1989|    FAGNER|   168|    67| 11| 06|1989|\n",
            "+------+---+-----------------+----------+----------+------+------+---+---+----+\n",
            "\n",
            "time: 960 ms (started: 2023-09-22 13:55:26 +00:00)\n"
          ]
        }
      ]
    },
    {
      "cell_type": "markdown",
      "source": [
        "# Instrução: GROUP BY\n",
        "\n",
        "Tendo uma coluna como referência, todas as linhas onde os valores dessa coluna são iguais são \"colapsadas\" em apenas uma. É preciso especificar o que deve ser feito com as outras colunas caso contrário elas serão ignoradas. Normalmente aplicamos funções de estatística descritiva."
      ],
      "metadata": {
        "id": "ZkBWXq7IeIDC"
      }
    },
    {
      "cell_type": "code",
      "source": [
        "df.groupBy('team').mean('weight').orderBy('avg(weight)', ascending=True).show(10)"
      ],
      "metadata": {
        "colab": {
          "base_uri": "https://localhost:8080/"
        },
        "id": "AI3a35dWe1c6",
        "outputId": "a8d6a05c-3de1-4bb7-bee4-8e24da2c8f9e"
      },
      "execution_count": 98,
      "outputs": [
        {
          "output_type": "stream",
          "name": "stdout",
          "text": [
            "+--------------+-----------------+\n",
            "|          team|      avg(weight)|\n",
            "+--------------+-----------------+\n",
            "|         Japan|71.52173913043478|\n",
            "|  Saudi Arabia|73.04347826086956|\n",
            "|      Portugal| 73.6086956521739|\n",
            "|        Mexico|74.08695652173913|\n",
            "|    Costa Rica| 74.1304347826087|\n",
            "|Korea Republic|74.43478260869566|\n",
            "|       Uruguay| 74.6086956521739|\n",
            "|       Morocco|74.65217391304348|\n",
            "|         Spain|74.73913043478261|\n",
            "|       Tunisia|             75.0|\n",
            "+--------------+-----------------+\n",
            "only showing top 10 rows\n",
            "\n",
            "time: 387 ms (started: 2023-09-22 13:55:27 +00:00)\n"
          ]
        }
      ]
    },
    {
      "cell_type": "markdown",
      "source": [
        "Para especificar qual função de agregação deve ser usada em cada coluna podemos usar a função agg()."
      ],
      "metadata": {
        "id": "nRs42OSbiBJj"
      }
    },
    {
      "cell_type": "code",
      "source": [
        "df.groupBy('team').agg({'weight':'avg', 'dia':'min', 'height':'max'}).orderBy('max(height)', ascending=False).show(10)"
      ],
      "metadata": {
        "colab": {
          "base_uri": "https://localhost:8080/"
        },
        "id": "-0bxHONmiJfe",
        "outputId": "1021c125-7deb-4ad2-8838-45487878d14d"
      },
      "execution_count": 99,
      "outputs": [
        {
          "output_type": "stream",
          "name": "stdout",
          "text": [
            "+--------------+-----------------+--------+-----------+\n",
            "|          team|      avg(weight)|min(dia)|max(height)|\n",
            "+--------------+-----------------+--------+-----------+\n",
            "|       Croatia|79.30434782608695|      02|        201|\n",
            "|       Denmark| 82.6086956521739|      01|        200|\n",
            "|     Argentina|75.56521739130434|      02|        199|\n",
            "|       Belgium|79.56521739130434|      02|        199|\n",
            "|       Iceland|80.73913043478261|      01|        198|\n",
            "|        Sweden|78.82608695652173|      02|        198|\n",
            "|       Nigeria|80.47826086956522|      01|        197|\n",
            "|Korea Republic|74.43478260869566|      03|        197|\n",
            "|        France|             80.0|      03|        197|\n",
            "|        Panama|             80.0|      01|        197|\n",
            "+--------------+-----------------+--------+-----------+\n",
            "only showing top 10 rows\n",
            "\n",
            "time: 853 ms (started: 2023-09-22 13:55:27 +00:00)\n"
          ]
        }
      ]
    },
    {
      "cell_type": "code",
      "source": [
        "df.groupBy('team').agg(avg('height'), min('height'), max('height')).orderBy('avg(height)', ascending=False).show(20)"
      ],
      "metadata": {
        "colab": {
          "base_uri": "https://localhost:8080/"
        },
        "id": "oVKTdvz6W6s2",
        "outputId": "98c66ae3-9c2f-4b06-dff0-5fef72b9c6c1"
      },
      "execution_count": 100,
      "outputs": [
        {
          "output_type": "stream",
          "name": "stdout",
          "text": [
            "+--------------+------------------+-----------+-----------+\n",
            "|          team|       avg(height)|min(height)|max(height)|\n",
            "+--------------+------------------+-----------+-----------+\n",
            "|        Serbia|186.69565217391303|        169|        195|\n",
            "|       Denmark| 186.6086956521739|        171|        200|\n",
            "|       Germany| 185.7826086956522|        176|        195|\n",
            "|        Sweden| 185.7391304347826|        177|        198|\n",
            "|       Iceland|185.52173913043478|        170|        198|\n",
            "|       Belgium|185.34782608695653|        169|        199|\n",
            "|       Croatia| 185.2608695652174|        172|        201|\n",
            "|       Nigeria|184.52173913043478|        172|        197|\n",
            "|       IR Iran|184.47826086956522|        177|        194|\n",
            "|        Russia| 184.3913043478261|        173|        196|\n",
            "|       Senegal|183.65217391304347|        173|        196|\n",
            "|        France|183.30434782608697|        168|        197|\n",
            "|        Poland|183.17391304347825|        172|        195|\n",
            "|       Tunisia|183.08695652173913|        170|        192|\n",
            "|   Switzerland|182.91304347826087|        165|        192|\n",
            "|       England| 182.7391304347826|        170|        196|\n",
            "|       Morocco|182.69565217391303|        167|        190|\n",
            "|        Panama|182.17391304347825|        165|        197|\n",
            "|Korea Republic| 181.8695652173913|        170|        197|\n",
            "|       Uruguay|181.04347826086956|        168|        196|\n",
            "+--------------+------------------+-----------+-----------+\n",
            "only showing top 20 rows\n",
            "\n",
            "time: 394 ms (started: 2023-09-22 13:55:28 +00:00)\n"
          ]
        }
      ]
    },
    {
      "cell_type": "code",
      "source": [
        "df.groupBy('team').agg(avg('weight')).orderBy('avg(weight)', ascending=True).show(10)"
      ],
      "metadata": {
        "colab": {
          "base_uri": "https://localhost:8080/"
        },
        "id": "8KBPRvIpk6z7",
        "outputId": "6066b38b-d137-4a97-ef23-1c0b32ff00d4"
      },
      "execution_count": 101,
      "outputs": [
        {
          "output_type": "stream",
          "name": "stdout",
          "text": [
            "+--------------+-----------------+\n",
            "|          team|      avg(weight)|\n",
            "+--------------+-----------------+\n",
            "|         Japan|71.52173913043478|\n",
            "|  Saudi Arabia|73.04347826086956|\n",
            "|      Portugal| 73.6086956521739|\n",
            "|        Mexico|74.08695652173913|\n",
            "|    Costa Rica| 74.1304347826087|\n",
            "|Korea Republic|74.43478260869566|\n",
            "|       Uruguay| 74.6086956521739|\n",
            "|       Morocco|74.65217391304348|\n",
            "|         Spain|74.73913043478261|\n",
            "|       Tunisia|             75.0|\n",
            "+--------------+-----------------+\n",
            "only showing top 10 rows\n",
            "\n",
            "time: 378 ms (started: 2023-09-22 13:55:28 +00:00)\n"
          ]
        }
      ]
    },
    {
      "cell_type": "markdown",
      "source": [
        "# Instrução: PARTITION BY\n",
        "Tem o conceito muito parecido com groupby, mas enquanto neste, as linhas iguais são agrupadas formando agrupamentos de instâncias de dados baseados em uma ou mais colunas.\n",
        "\n",
        "*   row_number()\n",
        "*   rank()\n",
        "*   dense_rank()\n",
        "*   persent_rank()\n",
        "*   ntile()\n",
        "\n",
        "**Obs.** A função orderBy() usada com Window.partitionBy() não é a mesma usada com as funções de agregação de groupBy(). Enquanto essa retorna um DataFrame o outro cria uma WindowSpec."
      ],
      "metadata": {
        "id": "iEsfhD1VbpY-"
      }
    },
    {
      "cell_type": "code",
      "source": [
        "df.show(5)"
      ],
      "metadata": {
        "colab": {
          "base_uri": "https://localhost:8080/"
        },
        "id": "xtg0aWMRcvsT",
        "outputId": "d430b7a3-4319-46f5-9e58-f06837f9ea71"
      },
      "execution_count": 102,
      "outputs": [
        {
          "output_type": "stream",
          "name": "stdout",
          "text": [
            "+---------+---+------------------+----------+----------+------+------+---+---+----+\n",
            "|     team|pos| fifa popular name|birth date|shirt name|height|weight|dia|mes| ano|\n",
            "+---------+---+------------------+----------+----------+------+------+---+---+----+\n",
            "|Argentina| DF|TAGLIAFICO Nicolas|31.08.1992|TAGLIAFICO|   169|    65| 31| 08|1992|\n",
            "|Argentina| MF|    PAVON Cristian|21.01.1996|     PAVÓN|   169|    65| 21| 01|1996|\n",
            "|Argentina| MF|    LANZINI Manuel|15.02.1993|   LANZINI|   167|    66| 15| 02|1993|\n",
            "|Argentina| DF|    SALVIO Eduardo|13.07.1990|    SALVIO|   167|    69| 13| 07|1990|\n",
            "|Argentina| FW|      MESSI Lionel|24.06.1987|     MESSI|   170|    72| 24| 06|1987|\n",
            "+---------+---+------------------+----------+----------+------+------+---+---+----+\n",
            "only showing top 5 rows\n",
            "\n",
            "time: 456 ms (started: 2023-09-22 13:55:29 +00:00)\n"
          ]
        }
      ]
    },
    {
      "cell_type": "markdown",
      "source": [
        "row_number()"
      ],
      "metadata": {
        "id": "kkLpC58KkeaK"
      }
    },
    {
      "cell_type": "code",
      "source": [
        "prt = Window.partitionBy('team').orderBy(desc('height'))\n",
        "print(type(prt))\n",
        "print(type(row_number()))\n",
        "df.withColumn('row', row_number().over(prt)).show(10)"
      ],
      "metadata": {
        "colab": {
          "base_uri": "https://localhost:8080/"
        },
        "id": "74rdlQbacHPc",
        "outputId": "f2c3022f-92da-47cd-c00f-77636bcb50ca"
      },
      "execution_count": 103,
      "outputs": [
        {
          "output_type": "stream",
          "name": "stdout",
          "text": [
            "<class 'pyspark.sql.window.WindowSpec'>\n",
            "<class 'pyspark.sql.column.Column'>\n",
            "+---------+---+------------------+----------+----------+------+------+---+---+----+---+\n",
            "|     team|pos| fifa popular name|birth date|shirt name|height|weight|dia|mes| ano|row|\n",
            "+---------+---+------------------+----------+----------+------+------+---+---+----+---+\n",
            "|Argentina| DF|    FAZIO Federico|17.03.1987|     FAZIO|   199|    85| 17| 03|1987|  1|\n",
            "|Argentina| GK|     GUZMAN Nahuel|10.02.1986|    GUZMÁN|   192|    90| 10| 02|1986|  2|\n",
            "|Argentina| DF|       ROJO Marcos|20.03.1990|      ROJO|   189|    82| 20| 03|1990|  3|\n",
            "|Argentina| GK|     ARMANI Franco|16.10.1986|    ARMANI|   189|    85| 16| 10|1986|  4|\n",
            "|Argentina| GK|CABALLERO Wilfredo|28.09.1981| CABALLERO|   186|    80| 28| 09|1981|  5|\n",
            "|Argentina| FW|   HIGUAIN Gonzalo|10.12.1987|   HIGUAÍN|   184|    75| 10| 12|1987|  6|\n",
            "|Argentina| DF|  ANSALDI Cristian|20.09.1986|   ANSALDI|   181|    73| 20| 09|1986|  7|\n",
            "|Argentina| DF|   MERCADO Gabriel|18.03.1987|   MERCADO|   181|    81| 18| 03|1987|  8|\n",
            "|Argentina| DF|  OTAMENDI Nicolas|12.02.1988|  OTAMENDI|   181|    81| 12| 02|1988|  9|\n",
            "|Argentina| MF|  MEZA Maximiliano|15.12.1992|      MEZA|   180|    76| 15| 12|1992| 10|\n",
            "+---------+---+------------------+----------+----------+------+------+---+---+----+---+\n",
            "only showing top 10 rows\n",
            "\n",
            "time: 705 ms (started: 2023-09-22 13:55:29 +00:00)\n"
          ]
        }
      ]
    },
    {
      "cell_type": "code",
      "source": [
        "# Selecionar os atletas mais altos de cada time.\n",
        "prt = Window.partitionBy('team').orderBy(desc('height'))\n",
        "df.withColumn('top', row_number().over(prt)).where(\"top = 1\").show(10)"
      ],
      "metadata": {
        "colab": {
          "base_uri": "https://localhost:8080/"
        },
        "id": "zj0QPwXV6Ldf",
        "outputId": "e9ae3bc3-b39e-4aa1-c1e8-3c3dcd3d3a5f"
      },
      "execution_count": 104,
      "outputs": [
        {
          "output_type": "stream",
          "name": "stdout",
          "text": [
            "+----------+---+------------------+----------+-----------+------+------+---+---+----+---+\n",
            "|      team|pos| fifa popular name|birth date| shirt name|height|weight|dia|mes| ano|top|\n",
            "+----------+---+------------------+----------+-----------+------+------+---+---+----+---+\n",
            "| Argentina| DF|    FAZIO Federico|17.03.1987|      FAZIO|   199|    85| 17| 03|1987|  1|\n",
            "| Australia| GK|        JONES Brad|19.03.1982|      JONES|   193|    87| 19| 03|1982|  1|\n",
            "|   Belgium| GK|  COURTOIS Thibaut|11.05.1992|   COURTOIS|   199|    91| 11| 05|1992|  1|\n",
            "|    Brazil| GK|            CASSIO|06.06.1987|     CASSIO|   195|    92| 06| 06|1987|  1|\n",
            "|  Colombia| DF|        MINA Yerry|23.09.1994|    Y. MINA|   194|    95| 23| 09|1994|  1|\n",
            "|Costa Rica| DF|    WASTON Kendall|01.01.1988|  K. WASTON|   196|    87| 01| 01|1988|  1|\n",
            "|   Croatia| GK|     KALINIC Lovre|03.04.1990| L. KALINIĆ|   201|    96| 03| 04|1990|  1|\n",
            "|   Denmark| DF|VESTERGAARD Jannik|03.08.1992|VESTERGAARD|   200|    98| 03| 08|1992|  1|\n",
            "|     Egypt| DF|      AHMED HEGAZY|25.01.1991|  A. HEGAZY|   194|    95| 25| 01|1991|  1|\n",
            "|   England| GK|      BUTLAND Jack|10.03.1993|    BUTLAND|   196|    96| 10| 03|1993|  1|\n",
            "+----------+---+------------------+----------+-----------+------+------+---+---+----+---+\n",
            "only showing top 10 rows\n",
            "\n",
            "time: 619 ms (started: 2023-09-22 13:55:30 +00:00)\n"
          ]
        }
      ]
    },
    {
      "cell_type": "markdown",
      "source": [
        "rank(): Note como rank=3 se repete duas vezes e depois há um salto para rank=5. Esta é uma peculiaridade dessa função."
      ],
      "metadata": {
        "id": "KuMhw3n2kKJP"
      }
    },
    {
      "cell_type": "code",
      "source": [
        "prt = Window.partitionBy('team').orderBy(desc('height'))\n",
        "df.withColumn('rank', rank().over(prt)).show(10)"
      ],
      "metadata": {
        "colab": {
          "base_uri": "https://localhost:8080/"
        },
        "id": "kPVsRj7PjJLC",
        "outputId": "33c02a85-0e5c-4edd-ea40-8eda7f5f61dd"
      },
      "execution_count": 105,
      "outputs": [
        {
          "output_type": "stream",
          "name": "stdout",
          "text": [
            "+---------+---+------------------+----------+----------+------+------+---+---+----+----+\n",
            "|     team|pos| fifa popular name|birth date|shirt name|height|weight|dia|mes| ano|rank|\n",
            "+---------+---+------------------+----------+----------+------+------+---+---+----+----+\n",
            "|Argentina| DF|    FAZIO Federico|17.03.1987|     FAZIO|   199|    85| 17| 03|1987|   1|\n",
            "|Argentina| GK|     GUZMAN Nahuel|10.02.1986|    GUZMÁN|   192|    90| 10| 02|1986|   2|\n",
            "|Argentina| DF|       ROJO Marcos|20.03.1990|      ROJO|   189|    82| 20| 03|1990|   3|\n",
            "|Argentina| GK|     ARMANI Franco|16.10.1986|    ARMANI|   189|    85| 16| 10|1986|   3|\n",
            "|Argentina| GK|CABALLERO Wilfredo|28.09.1981| CABALLERO|   186|    80| 28| 09|1981|   5|\n",
            "|Argentina| FW|   HIGUAIN Gonzalo|10.12.1987|   HIGUAÍN|   184|    75| 10| 12|1987|   6|\n",
            "|Argentina| DF|  ANSALDI Cristian|20.09.1986|   ANSALDI|   181|    73| 20| 09|1986|   7|\n",
            "|Argentina| DF|   MERCADO Gabriel|18.03.1987|   MERCADO|   181|    81| 18| 03|1987|   7|\n",
            "|Argentina| DF|  OTAMENDI Nicolas|12.02.1988|  OTAMENDI|   181|    81| 12| 02|1988|   7|\n",
            "|Argentina| MF|  MEZA Maximiliano|15.12.1992|      MEZA|   180|    76| 15| 12|1992|  10|\n",
            "+---------+---+------------------+----------+----------+------+------+---+---+----+----+\n",
            "only showing top 10 rows\n",
            "\n",
            "time: 749 ms (started: 2023-09-22 13:55:31 +00:00)\n"
          ]
        }
      ]
    },
    {
      "cell_type": "markdown",
      "source": [
        "dense_rank(): Aqui, mesmo que rank=3 se repita o próximo valor de rank é 4 e assim por diante. Não há saltos de valores."
      ],
      "metadata": {
        "id": "ExD1iTmakiIx"
      }
    },
    {
      "cell_type": "code",
      "source": [
        "prt = Window.partitionBy('team').orderBy(desc('height'))\n",
        "df.withColumn('dense_rank', dense_rank().over(prt)).show(10)"
      ],
      "metadata": {
        "colab": {
          "base_uri": "https://localhost:8080/"
        },
        "id": "Tw53dOeokyzh",
        "outputId": "5a42d0a8-5f41-48ca-be22-fba8862a79e2"
      },
      "execution_count": 106,
      "outputs": [
        {
          "output_type": "stream",
          "name": "stdout",
          "text": [
            "+---------+---+------------------+----------+----------+------+------+---+---+----+----------+\n",
            "|     team|pos| fifa popular name|birth date|shirt name|height|weight|dia|mes| ano|dense_rank|\n",
            "+---------+---+------------------+----------+----------+------+------+---+---+----+----------+\n",
            "|Argentina| DF|    FAZIO Federico|17.03.1987|     FAZIO|   199|    85| 17| 03|1987|         1|\n",
            "|Argentina| GK|     GUZMAN Nahuel|10.02.1986|    GUZMÁN|   192|    90| 10| 02|1986|         2|\n",
            "|Argentina| DF|       ROJO Marcos|20.03.1990|      ROJO|   189|    82| 20| 03|1990|         3|\n",
            "|Argentina| GK|     ARMANI Franco|16.10.1986|    ARMANI|   189|    85| 16| 10|1986|         3|\n",
            "|Argentina| GK|CABALLERO Wilfredo|28.09.1981| CABALLERO|   186|    80| 28| 09|1981|         4|\n",
            "|Argentina| FW|   HIGUAIN Gonzalo|10.12.1987|   HIGUAÍN|   184|    75| 10| 12|1987|         5|\n",
            "|Argentina| DF|  ANSALDI Cristian|20.09.1986|   ANSALDI|   181|    73| 20| 09|1986|         6|\n",
            "|Argentina| DF|   MERCADO Gabriel|18.03.1987|   MERCADO|   181|    81| 18| 03|1987|         6|\n",
            "|Argentina| DF|  OTAMENDI Nicolas|12.02.1988|  OTAMENDI|   181|    81| 12| 02|1988|         6|\n",
            "|Argentina| MF|  MEZA Maximiliano|15.12.1992|      MEZA|   180|    76| 15| 12|1992|         7|\n",
            "+---------+---+------------------+----------+----------+------+------+---+---+----+----------+\n",
            "only showing top 10 rows\n",
            "\n",
            "time: 882 ms (started: 2023-09-22 13:55:31 +00:00)\n"
          ]
        }
      ]
    },
    {
      "cell_type": "markdown",
      "source": [
        "persent_rank(): ranking relativo(percentual)"
      ],
      "metadata": {
        "id": "FgIYuPqAmCD3"
      }
    },
    {
      "cell_type": "code",
      "source": [
        "prt = Window.partitionBy('team').orderBy(desc('height'))\n",
        "df.withColumn('persent_rank', percent_rank().over(prt)).show(10)"
      ],
      "metadata": {
        "colab": {
          "base_uri": "https://localhost:8080/"
        },
        "id": "i8jq7iyimDZw",
        "outputId": "81889c0c-ef8a-452f-f096-50d480be7cee"
      },
      "execution_count": 107,
      "outputs": [
        {
          "output_type": "stream",
          "name": "stdout",
          "text": [
            "+---------+---+------------------+----------+----------+------+------+---+---+----+--------------------+\n",
            "|     team|pos| fifa popular name|birth date|shirt name|height|weight|dia|mes| ano|        persent_rank|\n",
            "+---------+---+------------------+----------+----------+------+------+---+---+----+--------------------+\n",
            "|Argentina| DF|    FAZIO Federico|17.03.1987|     FAZIO|   199|    85| 17| 03|1987|                 0.0|\n",
            "|Argentina| GK|     GUZMAN Nahuel|10.02.1986|    GUZMÁN|   192|    90| 10| 02|1986|0.045454545454545456|\n",
            "|Argentina| DF|       ROJO Marcos|20.03.1990|      ROJO|   189|    82| 20| 03|1990| 0.09090909090909091|\n",
            "|Argentina| GK|     ARMANI Franco|16.10.1986|    ARMANI|   189|    85| 16| 10|1986| 0.09090909090909091|\n",
            "|Argentina| GK|CABALLERO Wilfredo|28.09.1981| CABALLERO|   186|    80| 28| 09|1981| 0.18181818181818182|\n",
            "|Argentina| FW|   HIGUAIN Gonzalo|10.12.1987|   HIGUAÍN|   184|    75| 10| 12|1987| 0.22727272727272727|\n",
            "|Argentina| DF|  ANSALDI Cristian|20.09.1986|   ANSALDI|   181|    73| 20| 09|1986|  0.2727272727272727|\n",
            "|Argentina| DF|   MERCADO Gabriel|18.03.1987|   MERCADO|   181|    81| 18| 03|1987|  0.2727272727272727|\n",
            "|Argentina| DF|  OTAMENDI Nicolas|12.02.1988|  OTAMENDI|   181|    81| 12| 02|1988|  0.2727272727272727|\n",
            "|Argentina| MF|  MEZA Maximiliano|15.12.1992|      MEZA|   180|    76| 15| 12|1992|  0.4090909090909091|\n",
            "+---------+---+------------------+----------+----------+------+------+---+---+----+--------------------+\n",
            "only showing top 10 rows\n",
            "\n",
            "time: 946 ms (started: 2023-09-22 13:55:32 +00:00)\n"
          ]
        }
      ]
    },
    {
      "cell_type": "markdown",
      "source": [
        "ntile(): Divide cada partição em uma quantidade n de quartiles. Cada quartile recebe um valor único. Caso uma partição não seja divisível por n o aloritmo ajustará a quantidade de instâncias de dados pertencentes aos últimos quartiles de modo que a partição tenha n quartiles. Por exemplo, na seleção da Argentina, quando n=5, o penúltimo quartil tem 4 instâncias para poder formar mais um, o último quartil que terá apenas uma instância."
      ],
      "metadata": {
        "id": "3gT5llGdqJBp"
      }
    },
    {
      "cell_type": "code",
      "source": [
        "prt = Window.partitionBy('team').orderBy(desc('height'))\n",
        "df.withColumn('ntile', ntile(5).over(prt)).show(20)"
      ],
      "metadata": {
        "colab": {
          "base_uri": "https://localhost:8080/"
        },
        "id": "AogJ91m3qLUO",
        "outputId": "e5ed2621-bea5-4209-f40f-bc67a929c665"
      },
      "execution_count": 108,
      "outputs": [
        {
          "output_type": "stream",
          "name": "stdout",
          "text": [
            "+---------+---+------------------+----------+----------+------+------+---+---+----+-----+\n",
            "|     team|pos| fifa popular name|birth date|shirt name|height|weight|dia|mes| ano|ntile|\n",
            "+---------+---+------------------+----------+----------+------+------+---+---+----+-----+\n",
            "|Argentina| DF|    FAZIO Federico|17.03.1987|     FAZIO|   199|    85| 17| 03|1987|    1|\n",
            "|Argentina| GK|     GUZMAN Nahuel|10.02.1986|    GUZMÁN|   192|    90| 10| 02|1986|    1|\n",
            "|Argentina| DF|       ROJO Marcos|20.03.1990|      ROJO|   189|    82| 20| 03|1990|    1|\n",
            "|Argentina| GK|     ARMANI Franco|16.10.1986|    ARMANI|   189|    85| 16| 10|1986|    1|\n",
            "|Argentina| GK|CABALLERO Wilfredo|28.09.1981| CABALLERO|   186|    80| 28| 09|1981|    1|\n",
            "|Argentina| FW|   HIGUAIN Gonzalo|10.12.1987|   HIGUAÍN|   184|    75| 10| 12|1987|    2|\n",
            "|Argentina| DF|  ANSALDI Cristian|20.09.1986|   ANSALDI|   181|    73| 20| 09|1986|    2|\n",
            "|Argentina| DF|   MERCADO Gabriel|18.03.1987|   MERCADO|   181|    81| 18| 03|1987|    2|\n",
            "|Argentina| DF|  OTAMENDI Nicolas|12.02.1988|  OTAMENDI|   181|    81| 12| 02|1988|    2|\n",
            "|Argentina| MF|  MEZA Maximiliano|15.12.1992|      MEZA|   180|    76| 15| 12|1992|    2|\n",
            "|Argentina| MF|    DI MARIA Angel|14.02.1988|  DI MARÍA|   178|    75| 14| 02|1988|    3|\n",
            "|Argentina| FW|      DYBALA Paulo|15.11.1993|    DYBALA|   177|    73| 15| 11|1993|    3|\n",
            "|Argentina| MF|  LO CELSO Giovani|09.04.1996|  LO CELSO|   177|    75| 09| 04|1996|    3|\n",
            "|Argentina| MF|      BIGLIA Lucas|30.01.1986|    BIGLIA|   175|    73| 30| 01|1986|    3|\n",
            "|Argentina| MF|       BANEGA Ever|29.06.1988|    BANEGA|   175|    73| 29| 06|1988|    3|\n",
            "|Argentina| DF| MASCHERANO Javier|08.06.1984|MASCHERANO|   174|    73| 08| 06|1984|    4|\n",
            "|Argentina| FW|     AGUERO Sergio|02.06.1988|    AGÜERO|   172|    74| 02| 06|1988|    4|\n",
            "|Argentina| DF|      ACUNA Marcos|28.10.1991|     ACUÑA|   172|    77| 28| 10|1991|    4|\n",
            "|Argentina| FW|      MESSI Lionel|24.06.1987|     MESSI|   170|    72| 24| 06|1987|    4|\n",
            "|Argentina| DF|TAGLIAFICO Nicolas|31.08.1992|TAGLIAFICO|   169|    65| 31| 08|1992|    5|\n",
            "+---------+---+------------------+----------+----------+------+------+---+---+----+-----+\n",
            "only showing top 20 rows\n",
            "\n",
            "time: 658 ms (started: 2023-09-22 13:55:33 +00:00)\n"
          ]
        }
      ]
    },
    {
      "cell_type": "markdown",
      "source": [
        "Lag function: O mesmo tipo de lag usado em séries temporais."
      ],
      "metadata": {
        "id": "Ny2ulye1ZyTQ"
      }
    },
    {
      "cell_type": "code",
      "source": [
        "prt = Window.partitionBy('team').orderBy(desc('height'))\n",
        "df.withColumn('lag', lag('weight', offset=2).over(prt)).show(10)"
      ],
      "metadata": {
        "colab": {
          "base_uri": "https://localhost:8080/"
        },
        "id": "wEXKjuj4Z6oK",
        "outputId": "27826f56-a9b0-47a7-f55f-a07c0ad079bf"
      },
      "execution_count": 109,
      "outputs": [
        {
          "output_type": "stream",
          "name": "stdout",
          "text": [
            "+---------+---+------------------+----------+----------+------+------+---+---+----+----+\n",
            "|     team|pos| fifa popular name|birth date|shirt name|height|weight|dia|mes| ano| lag|\n",
            "+---------+---+------------------+----------+----------+------+------+---+---+----+----+\n",
            "|Argentina| DF|    FAZIO Federico|17.03.1987|     FAZIO|   199|    85| 17| 03|1987|null|\n",
            "|Argentina| GK|     GUZMAN Nahuel|10.02.1986|    GUZMÁN|   192|    90| 10| 02|1986|null|\n",
            "|Argentina| DF|       ROJO Marcos|20.03.1990|      ROJO|   189|    82| 20| 03|1990|  85|\n",
            "|Argentina| GK|     ARMANI Franco|16.10.1986|    ARMANI|   189|    85| 16| 10|1986|  90|\n",
            "|Argentina| GK|CABALLERO Wilfredo|28.09.1981| CABALLERO|   186|    80| 28| 09|1981|  82|\n",
            "|Argentina| FW|   HIGUAIN Gonzalo|10.12.1987|   HIGUAÍN|   184|    75| 10| 12|1987|  85|\n",
            "|Argentina| DF|  ANSALDI Cristian|20.09.1986|   ANSALDI|   181|    73| 20| 09|1986|  80|\n",
            "|Argentina| DF|   MERCADO Gabriel|18.03.1987|   MERCADO|   181|    81| 18| 03|1987|  75|\n",
            "|Argentina| DF|  OTAMENDI Nicolas|12.02.1988|  OTAMENDI|   181|    81| 12| 02|1988|  73|\n",
            "|Argentina| MF|  MEZA Maximiliano|15.12.1992|      MEZA|   180|    76| 15| 12|1992|  81|\n",
            "+---------+---+------------------+----------+----------+------+------+---+---+----+----+\n",
            "only showing top 10 rows\n",
            "\n",
            "time: 1.02 s (started: 2023-09-22 13:55:34 +00:00)\n"
          ]
        }
      ]
    },
    {
      "cell_type": "markdown",
      "source": [
        "Forward function: O mesmo tipo de forward usado em séries temporais."
      ],
      "metadata": {
        "id": "LYWzAMl4bwRD"
      }
    },
    {
      "cell_type": "code",
      "source": [
        "prt = Window.partitionBy('team').orderBy(desc('height'))\n",
        "df.withColumn('lead', lead('weight', offset=1).over(prt)).show(10)"
      ],
      "metadata": {
        "colab": {
          "base_uri": "https://localhost:8080/"
        },
        "id": "3nEw-WhJch8s",
        "outputId": "e30d1852-78b6-47dc-edfd-e8c9e8cc6ba3"
      },
      "execution_count": 110,
      "outputs": [
        {
          "output_type": "stream",
          "name": "stdout",
          "text": [
            "+---------+---+------------------+----------+----------+------+------+---+---+----+----+\n",
            "|     team|pos| fifa popular name|birth date|shirt name|height|weight|dia|mes| ano|lead|\n",
            "+---------+---+------------------+----------+----------+------+------+---+---+----+----+\n",
            "|Argentina| DF|    FAZIO Federico|17.03.1987|     FAZIO|   199|    85| 17| 03|1987|  90|\n",
            "|Argentina| GK|     GUZMAN Nahuel|10.02.1986|    GUZMÁN|   192|    90| 10| 02|1986|  82|\n",
            "|Argentina| DF|       ROJO Marcos|20.03.1990|      ROJO|   189|    82| 20| 03|1990|  85|\n",
            "|Argentina| GK|     ARMANI Franco|16.10.1986|    ARMANI|   189|    85| 16| 10|1986|  80|\n",
            "|Argentina| GK|CABALLERO Wilfredo|28.09.1981| CABALLERO|   186|    80| 28| 09|1981|  75|\n",
            "|Argentina| FW|   HIGUAIN Gonzalo|10.12.1987|   HIGUAÍN|   184|    75| 10| 12|1987|  73|\n",
            "|Argentina| DF|  ANSALDI Cristian|20.09.1986|   ANSALDI|   181|    73| 20| 09|1986|  81|\n",
            "|Argentina| DF|   MERCADO Gabriel|18.03.1987|   MERCADO|   181|    81| 18| 03|1987|  81|\n",
            "|Argentina| DF|  OTAMENDI Nicolas|12.02.1988|  OTAMENDI|   181|    81| 12| 02|1988|  76|\n",
            "|Argentina| MF|  MEZA Maximiliano|15.12.1992|      MEZA|   180|    76| 15| 12|1992|  75|\n",
            "+---------+---+------------------+----------+----------+------+------+---+---+----+----+\n",
            "only showing top 10 rows\n",
            "\n",
            "time: 897 ms (started: 2023-09-22 13:55:35 +00:00)\n"
          ]
        }
      ]
    },
    {
      "cell_type": "markdown",
      "source": [
        "# Instrução: DISTINCT"
      ],
      "metadata": {
        "id": "vZpMzJ4ZXRqc"
      }
    },
    {
      "cell_type": "code",
      "source": [
        "df.select('team').distinct().show(5)"
      ],
      "metadata": {
        "colab": {
          "base_uri": "https://localhost:8080/"
        },
        "id": "T_WNnqDhYA9g",
        "outputId": "a2f9fdce-5105-4322-bff6-70b3dac95864"
      },
      "execution_count": 111,
      "outputs": [
        {
          "output_type": "stream",
          "name": "stdout",
          "text": [
            "+-------+\n",
            "|   team|\n",
            "+-------+\n",
            "| Russia|\n",
            "|Senegal|\n",
            "| Sweden|\n",
            "|IR Iran|\n",
            "|Germany|\n",
            "+-------+\n",
            "only showing top 5 rows\n",
            "\n",
            "time: 675 ms (started: 2023-09-22 13:55:36 +00:00)\n"
          ]
        }
      ]
    },
    {
      "cell_type": "markdown",
      "source": [
        "Número de valores únicos em um atributo."
      ],
      "metadata": {
        "id": "tr8eG_7id82w"
      }
    },
    {
      "cell_type": "code",
      "source": [
        "nunique = df.select('team').distinct().count()\n",
        "print(f'unique values: {nunique}')"
      ],
      "metadata": {
        "colab": {
          "base_uri": "https://localhost:8080/"
        },
        "id": "kJegd3TQdywi",
        "outputId": "55395f60-1435-457b-e663-6229bd9dc0d8"
      },
      "execution_count": 112,
      "outputs": [
        {
          "output_type": "stream",
          "name": "stdout",
          "text": [
            "unique values: 32\n",
            "time: 568 ms (started: 2023-09-22 13:55:36 +00:00)\n"
          ]
        }
      ]
    },
    {
      "cell_type": "markdown",
      "source": [
        "# Instrução: COLLECT\n",
        "Salva o resultado de uma consulta em uma lista."
      ],
      "metadata": {
        "id": "wzQzR6ptKUI_"
      }
    },
    {
      "cell_type": "code",
      "source": [
        "df.select('team').distinct().collect()"
      ],
      "metadata": {
        "colab": {
          "base_uri": "https://localhost:8080/"
        },
        "id": "mg39pyerKbkm",
        "outputId": "d695c49b-4483-4632-8f74-d62cf79edf44"
      },
      "execution_count": 113,
      "outputs": [
        {
          "output_type": "execute_result",
          "data": {
            "text/plain": [
              "[Row(team='Russia'),\n",
              " Row(team='Senegal'),\n",
              " Row(team='Sweden'),\n",
              " Row(team='IR Iran'),\n",
              " Row(team='Germany'),\n",
              " Row(team='France'),\n",
              " Row(team='Argentina'),\n",
              " Row(team='Belgium'),\n",
              " Row(team='Peru'),\n",
              " Row(team='Croatia'),\n",
              " Row(team='Nigeria'),\n",
              " Row(team='Korea Republic'),\n",
              " Row(team='Spain'),\n",
              " Row(team='Denmark'),\n",
              " Row(team='Morocco'),\n",
              " Row(team='Panama'),\n",
              " Row(team='Iceland'),\n",
              " Row(team='Uruguay'),\n",
              " Row(team='Mexico'),\n",
              " Row(team='Tunisia'),\n",
              " Row(team='Saudi Arabia'),\n",
              " Row(team='Switzerland'),\n",
              " Row(team='Brazil'),\n",
              " Row(team='Japan'),\n",
              " Row(team='England'),\n",
              " Row(team='Poland'),\n",
              " Row(team='Portugal'),\n",
              " Row(team='Australia'),\n",
              " Row(team='Costa Rica'),\n",
              " Row(team='Egypt'),\n",
              " Row(team='Serbia'),\n",
              " Row(team='Colombia')]"
            ]
          },
          "metadata": {},
          "execution_count": 113
        },
        {
          "output_type": "stream",
          "name": "stdout",
          "text": [
            "time: 555 ms (started: 2023-09-22 13:55:37 +00:00)\n"
          ]
        }
      ]
    },
    {
      "cell_type": "markdown",
      "source": [
        "O resultado anterior é uma lista de objetos Row. Caso seja necessário apenas o nome do país podemos usar o código abaixo."
      ],
      "metadata": {
        "id": "LQG8pGwOL7Fy"
      }
    },
    {
      "cell_type": "code",
      "source": [
        "result = df.select('team').distinct().collect()\n",
        "countries = [row[0] for row in result]\n",
        "print(countries)"
      ],
      "metadata": {
        "colab": {
          "base_uri": "https://localhost:8080/"
        },
        "id": "QW0n2kMLLGmZ",
        "outputId": "a9df3f07-3cdf-4972-c5a2-869ea0d98919"
      },
      "execution_count": 114,
      "outputs": [
        {
          "output_type": "stream",
          "name": "stdout",
          "text": [
            "['Russia', 'Senegal', 'Sweden', 'IR Iran', 'Germany', 'France', 'Argentina', 'Belgium', 'Peru', 'Croatia', 'Nigeria', 'Korea Republic', 'Spain', 'Denmark', 'Morocco', 'Panama', 'Iceland', 'Uruguay', 'Mexico', 'Tunisia', 'Saudi Arabia', 'Switzerland', 'Brazil', 'Japan', 'England', 'Poland', 'Portugal', 'Australia', 'Costa Rica', 'Egypt', 'Serbia', 'Colombia']\n",
            "time: 390 ms (started: 2023-09-22 13:55:38 +00:00)\n"
          ]
        }
      ]
    },
    {
      "cell_type": "markdown",
      "source": [
        "# When/Otherwise\n",
        "É o if/else do PySpark."
      ],
      "metadata": {
        "id": "7ohWUXZSMxrA"
      }
    },
    {
      "cell_type": "code",
      "source": [
        "val = when(condition=(col('team') == 'Argentina'), value='Argentinos').otherwise(value='Normais')\n",
        "df.withColumn('new_col', val).show()"
      ],
      "metadata": {
        "colab": {
          "base_uri": "https://localhost:8080/"
        },
        "id": "N1DMTNNXNLeW",
        "outputId": "5da55f90-1855-4082-a5fa-8ec68c175c95"
      },
      "execution_count": 115,
      "outputs": [
        {
          "output_type": "stream",
          "name": "stdout",
          "text": [
            "+---------+---+------------------+----------+----------+------+------+---+---+----+----------+\n",
            "|     team|pos| fifa popular name|birth date|shirt name|height|weight|dia|mes| ano|   new_col|\n",
            "+---------+---+------------------+----------+----------+------+------+---+---+----+----------+\n",
            "|Argentina| DF|TAGLIAFICO Nicolas|31.08.1992|TAGLIAFICO|   169|    65| 31| 08|1992|Argentinos|\n",
            "|Argentina| MF|    PAVON Cristian|21.01.1996|     PAVÓN|   169|    65| 21| 01|1996|Argentinos|\n",
            "|Argentina| MF|    LANZINI Manuel|15.02.1993|   LANZINI|   167|    66| 15| 02|1993|Argentinos|\n",
            "|Argentina| DF|    SALVIO Eduardo|13.07.1990|    SALVIO|   167|    69| 13| 07|1990|Argentinos|\n",
            "|Argentina| FW|      MESSI Lionel|24.06.1987|     MESSI|   170|    72| 24| 06|1987|Argentinos|\n",
            "|Argentina| DF|  ANSALDI Cristian|20.09.1986|   ANSALDI|   181|    73| 20| 09|1986|Argentinos|\n",
            "|Argentina| MF|      BIGLIA Lucas|30.01.1986|    BIGLIA|   175|    73| 30| 01|1986|Argentinos|\n",
            "|Argentina| MF|       BANEGA Ever|29.06.1988|    BANEGA|   175|    73| 29| 06|1988|Argentinos|\n",
            "|Argentina| DF| MASCHERANO Javier|08.06.1984|MASCHERANO|   174|    73| 08| 06|1984|Argentinos|\n",
            "|Argentina| FW|      DYBALA Paulo|15.11.1993|    DYBALA|   177|    73| 15| 11|1993|Argentinos|\n",
            "|Argentina| FW|     AGUERO Sergio|02.06.1988|    AGÜERO|   172|    74| 02| 06|1988|Argentinos|\n",
            "|Argentina| FW|   HIGUAIN Gonzalo|10.12.1987|   HIGUAÍN|   184|    75| 10| 12|1987|Argentinos|\n",
            "|Argentina| MF|    DI MARIA Angel|14.02.1988|  DI MARÍA|   178|    75| 14| 02|1988|Argentinos|\n",
            "|Argentina| MF|  LO CELSO Giovani|09.04.1996|  LO CELSO|   177|    75| 09| 04|1996|Argentinos|\n",
            "|Argentina| MF|  MEZA Maximiliano|15.12.1992|      MEZA|   180|    76| 15| 12|1992|Argentinos|\n",
            "|Argentina| DF|      ACUNA Marcos|28.10.1991|     ACUÑA|   172|    77| 28| 10|1991|Argentinos|\n",
            "|Argentina| GK|CABALLERO Wilfredo|28.09.1981| CABALLERO|   186|    80| 28| 09|1981|Argentinos|\n",
            "|Argentina| DF|   MERCADO Gabriel|18.03.1987|   MERCADO|   181|    81| 18| 03|1987|Argentinos|\n",
            "|Argentina| DF|  OTAMENDI Nicolas|12.02.1988|  OTAMENDI|   181|    81| 12| 02|1988|Argentinos|\n",
            "|Argentina| DF|       ROJO Marcos|20.03.1990|      ROJO|   189|    82| 20| 03|1990|Argentinos|\n",
            "+---------+---+------------------+----------+----------+------+------+---+---+----+----------+\n",
            "only showing top 20 rows\n",
            "\n",
            "time: 994 ms (started: 2023-09-22 13:55:38 +00:00)\n"
          ]
        }
      ]
    },
    {
      "cell_type": "code",
      "source": [
        "africa = ['Senegal', 'Morocco', 'Tunisia', 'Egypt']\n",
        "america_norte = ['Panama', 'Mexico', 'Costa Rica']\n",
        "america_sul = ['Argentina', 'Peru', 'Uruguay', 'Brazil', 'Colombia']\n",
        "asia = ['Russia', 'IR Iran', 'Nigeria', 'Korea Republic', 'Saudi Arabia', 'Japan', ]\n",
        "europa = ['Sweden', 'Germany', 'France', 'Belgium', 'Croatia', 'Spain', 'Denmark', 'Iceland', 'Switzerland', 'England', 'Poland', 'Portugal', 'Serbia']\n",
        "oceania = ['Australia']\n",
        "\n",
        "val = when(condition=(col('team').isin(africa)), value=('europeu'))\\\n",
        "      .when(condition=(col('team').isin(america_norte)), value=('n_americano'))\\\n",
        "      .when(condition=(col('team').isin(america_sul)), value=('s_americano'))\\\n",
        "      .when(condition=(col('team').isin(asia)), value=('asiatico'))\\\n",
        "      .when(condition=(col('team').isin(europa)), value=('europeu'))\\\n",
        "      .when(condition=(col('team').isin(oceania)), value=('oceanicos'))\\\n",
        "      .otherwise('desconhecidos')\n",
        "\n",
        "df.withColumn('new_col', val).sample(fraction=0.01).show(5)"
      ],
      "metadata": {
        "colab": {
          "base_uri": "https://localhost:8080/"
        },
        "id": "jCJTDkgVP4a1",
        "outputId": "ea0a3e75-1532-40db-ca65-a9a02dac90e9"
      },
      "execution_count": 116,
      "outputs": [
        {
          "output_type": "stream",
          "name": "stdout",
          "text": [
            "+-------+---+-----------------+----------+------------+------+------+---+---+----+--------+\n",
            "|   team|pos|fifa popular name|birth date|  shirt name|height|weight|dia|mes| ano| new_col|\n",
            "+-------+---+-----------------+----------+------------+------+------+---+---+----+--------+\n",
            "|  Egypt| MF|        SAM MORSY|10.09.1991|       MORSY|   173|    75| 10| 09|1991| europeu|\n",
            "|England| MF|    LINGARD Jesse|15.12.1992|     LINGARD|   175|    60| 15| 12|1992| europeu|\n",
            "|Iceland| FW|   BODVARSSON Jon|25.05.1992|  BÖDVARSSON|   189|    89| 25| 05|1992| europeu|\n",
            "|IR Iran| MF|  EZATOLAHI Saeid|01.10.1996|S. EZATOLAHI|   190|    82| 01| 10|1996|asiatico|\n",
            "|  Japan| DF|     SAKAI Hiroki|12.04.1990|    H. SAKAI|   183|    70| 12| 04|1990|asiatico|\n",
            "+-------+---+-----------------+----------+------------+------+------+---+---+----+--------+\n",
            "only showing top 5 rows\n",
            "\n",
            "time: 664 ms (started: 2023-09-22 13:55:39 +00:00)\n"
          ]
        }
      ]
    },
    {
      "cell_type": "markdown",
      "source": [
        "# Instrução: UNION\n",
        "\n",
        "A função union() verifica unicamente a quantidade colunas que os dataframes envolvidos possuem. Caso eles tenham a mesma quantidade a função concatenará um embaixo do outro. Ou seja, considerando um dataframe df_x e outro df_y, ela concatenará a primeira coluna de df_x com a primeira coluna de df_y, a segunda de df_x com a segunda de df_y, e assim por diante. Portanto, union() não verifica os tipos de dados nem os nomes das colunas. Para que o resultado faça sentido o programador deve fazer essas verificações."
      ],
      "metadata": {
        "id": "9ztKmZ_MTm81"
      }
    },
    {
      "cell_type": "markdown",
      "source": [
        "Vou criar dois dataframes com países americanos e concatená-los formando apenas um. Mas primeiro, preciso criar um novo atributo com os continentes os quais cada país pertence."
      ],
      "metadata": {
        "id": "byrDqYZ4XT2g"
      }
    },
    {
      "cell_type": "code",
      "source": [
        "df = df.withColumn('continent', val)\n",
        "df.sample(fraction=0.01).show(5)"
      ],
      "metadata": {
        "colab": {
          "base_uri": "https://localhost:8080/"
        },
        "id": "EQizwA7LUT5X",
        "outputId": "f9250b13-647f-48ed-e4b6-076c4a77127c"
      },
      "execution_count": 117,
      "outputs": [
        {
          "output_type": "stream",
          "name": "stdout",
          "text": [
            "+----------+---+-------------------+----------+------------+------+------+---+---+----+-----------+\n",
            "|      team|pos|  fifa popular name|birth date|  shirt name|height|weight|dia|mes| ano|  continent|\n",
            "+----------+---+-------------------+----------+------------+------+------+---+---+----+-----------+\n",
            "| Australia| FW|      ARZANI Daniel|04.01.1999|      ARZANI|   171|    73| 04| 01|1999|  oceanicos|\n",
            "|Costa Rica| DF|      ACOSTA Johnny|21.07.1983|   J. ACOSTA|   176|    75| 21| 07|1983|n_americano|\n",
            "|   Germany| DF|PLATTENHARDT Marvin|26.01.1992|PLATTENHARDT|   181|    76| 26| 01|1992|    europeu|\n",
            "|   IR Iran| MF|    EZATOLAHI Saeid|01.10.1996|S. EZATOLAHI|   190|    82| 01| 10|1996|   asiatico|\n",
            "|    Mexico| FW|   HERNANDEZ Javier|01.06.1988|J. HERNÁNDEZ|   175|    71| 01| 06|1988|n_americano|\n",
            "+----------+---+-------------------+----------+------------+------+------+---+---+----+-----------+\n",
            "only showing top 5 rows\n",
            "\n",
            "time: 584 ms (started: 2023-09-22 13:55:40 +00:00)\n"
          ]
        }
      ]
    },
    {
      "cell_type": "markdown",
      "source": [
        "Agora, vou criar um dataframe com os países da América do Sul e outro com os da América do Norte."
      ],
      "metadata": {
        "id": "zcwLZ35eVtyp"
      }
    },
    {
      "cell_type": "code",
      "source": [
        "s_america = df.where(\"continent = 's_americano'\")\n",
        "n_america = df.where(\"continent = 'n_americano'\")\n",
        "\n",
        "df_america = s_america.union(n_america)"
      ],
      "metadata": {
        "colab": {
          "base_uri": "https://localhost:8080/"
        },
        "id": "tiEqtENzVywM",
        "outputId": "e2e02ca8-0846-4ea0-892e-be539937c931"
      },
      "execution_count": 118,
      "outputs": [
        {
          "output_type": "stream",
          "name": "stdout",
          "text": [
            "time: 68.6 ms (started: 2023-09-22 13:55:40 +00:00)\n"
          ]
        }
      ]
    },
    {
      "cell_type": "code",
      "source": [
        "print(s_america.count())\n",
        "print(n_america.count())\n",
        "print(df_america.count())\n",
        "df_america.sample(fraction=0.04).show(15)"
      ],
      "metadata": {
        "colab": {
          "base_uri": "https://localhost:8080/"
        },
        "id": "DqIxc8_-X9bl",
        "outputId": "9b9b4845-f0ff-4c48-f90d-9bab72ea0cd0"
      },
      "execution_count": 119,
      "outputs": [
        {
          "output_type": "stream",
          "name": "stdout",
          "text": [
            "115\n",
            "69\n",
            "184\n",
            "+----------+---+-----------------+----------+------------+------+------+---+---+----+-----------+\n",
            "|      team|pos|fifa popular name|birth date|  shirt name|height|weight|dia|mes| ano|  continent|\n",
            "+----------+---+-----------------+----------+------------+------+------+---+---+----+-----------+\n",
            "| Argentina| MF|     BIGLIA Lucas|30.01.1986|      BIGLIA|   175|    73| 30| 01|1986|s_americano|\n",
            "| Argentina| DF|MASCHERANO Javier|08.06.1984|  MASCHERANO|   174|    73| 08| 06|1984|s_americano|\n",
            "| Argentina| GK|    ARMANI Franco|16.10.1986|      ARMANI|   189|    85| 16| 10|1986|s_americano|\n",
            "|  Colombia| MF|  BARRIOS  Wilmar|16.10.1993|     BARRIOS|   178|    74| 16| 10|1993|s_americano|\n",
            "|   Uruguay| MF|     LAXALT Diego|07.02.1993|      LAXALT|   178|    66| 07| 02|1993|s_americano|\n",
            "|   Uruguay| GK|     SILVA Martin|25.03.1983|    M. SILVA|   187|    82| 25| 03|1983|s_americano|\n",
            "|Costa Rica| DF|  GAMBOA Cristian|24.10.1989|   C. GAMBOA|   175|    67| 24| 10|1989|n_americano|\n",
            "|Costa Rica| DF|        SMITH Ian|06.03.1998|    I. SMITH|   177|    68| 06| 03|1998|n_americano|\n",
            "|Costa Rica| MF| COLINDRES Daniel|10.01.1985|D. COLINDRES|   180|    75| 10| 01|1985|n_americano|\n",
            "|    Mexico| FW|     FABIAN Marco|21.07.1989|   M. FABIÁN|   171|    70| 21| 07|1989|n_americano|\n",
            "|    Mexico| MF|     LAYUN Miguel|25.06.1988|    M. LAYÚN|   180|    72| 25| 06|1988|n_americano|\n",
            "|    Mexico| FW|      VELA Carlos|01.03.1989|    CARLOS V|   178|    78| 01| 03|1989|n_americano|\n",
            "|    Panama| DF|   MACHADO Adolfo|14.02.1985|     MACHADO|   182|    78| 14| 02|1985|n_americano|\n",
            "|    Panama| FW|       PEREZ Blas|13.03.1981|       PEREZ|   187|    83| 13| 03|1981|n_americano|\n",
            "|    Panama| GK|    CALDERON Jose|14.08.1985|    CALDERON|   187|    87| 14| 08|1985|n_americano|\n",
            "+----------+---+-----------------+----------+------------+------+------+---+---+----+-----------+\n",
            "\n",
            "time: 2.18 s (started: 2023-09-22 13:55:40 +00:00)\n"
          ]
        }
      ]
    },
    {
      "cell_type": "markdown",
      "source": [
        "# JOIN\n",
        "Usarei 4 conjuntos de dados diferentes, mas relacionados tratar desse assunto."
      ],
      "metadata": {
        "id": "w6qh_J7490X-"
      }
    },
    {
      "cell_type": "code",
      "source": [
        "clients  = spark.read.csv(\"/content/drive/MyDrive/datasets/bix-tecnologia/clients.csv\", header=True, inferSchema=True, encoding='utf-8')\n",
        "products = spark.read.csv(\"/content/drive/MyDrive/datasets/bix-tecnologia/products.csv\", header=True, inferSchema=True, encoding='utf-8')\n",
        "sales    = spark.read.csv(\"/content/drive/MyDrive/datasets/bix-tecnologia/sales.csv\", header=True, inferSchema=True, encoding='utf-8')\n",
        "stores   = spark.read.csv(\"/content/drive/MyDrive/datasets/bix-tecnologia/stores.csv\", header=True, inferSchema=True, encoding='utf-8')"
      ],
      "metadata": {
        "colab": {
          "base_uri": "https://localhost:8080/"
        },
        "id": "s7THHqqj92cy",
        "outputId": "0ad07aba-804e-436a-96dd-c9da5e4bc955"
      },
      "execution_count": 120,
      "outputs": [
        {
          "output_type": "stream",
          "name": "stdout",
          "text": [
            "time: 1.64 s (started: 2023-09-22 13:55:43 +00:00)\n"
          ]
        }
      ]
    },
    {
      "cell_type": "markdown",
      "source": [
        "O dataframe \"sales\" está meio bagunçado, então vou precisar fazer alguns ajustes antes de poder usá-lo.\n",
        "*   remover as 4 primeiras linhas\n",
        "*   remover as 2 primeiras colunas e também 'row_number'"
      ],
      "metadata": {
        "id": "WhKUzPYq9_ci"
      }
    },
    {
      "cell_type": "code",
      "source": [
        "sales = sales.withColumn('row_number', monotonically_increasing_id())\n",
        "sales = sales.where(\"row_number > 3\")\n",
        "sales = sales.drop('_c0', '_c1', 'row_number')"
      ],
      "metadata": {
        "colab": {
          "base_uri": "https://localhost:8080/"
        },
        "id": "BT269dbk90RA",
        "outputId": "96481684-ff8a-4da9-9689-298875fe6917"
      },
      "execution_count": 121,
      "outputs": [
        {
          "output_type": "stream",
          "name": "stdout",
          "text": [
            "time: 31.2 ms (started: 2023-09-22 13:55:44 +00:00)\n"
          ]
        }
      ]
    },
    {
      "cell_type": "markdown",
      "source": [
        "Agora, vou renomar todas as colunas de todos os dataframes para ficar mais fácil a codificação."
      ],
      "metadata": {
        "id": "4QLOASt_D9Sj"
      }
    },
    {
      "cell_type": "code",
      "source": [
        "def rename_cols(df, names):\n",
        "  for column, name in zip(df.columns, names):\n",
        "    df = df.withColumnRenamed(column, name)\n",
        "  return df\n",
        "\n",
        "\n",
        "\n",
        "cols_clients  = ['client_id','client_city', 'client_state', 'client_birth', 'client_gender']\n",
        "cols_products = ['product_id', 'product_name', 'product_size']\n",
        "cols_sales    = ['id', 'product_id', 'client_id', 'discount', 'unit_price', 'quantity', 'store_id', 'date']\n",
        "cols_stores   = ['store_id', 'store_city', 'store_state']\n",
        "\n",
        "clients  = rename_cols(clients, cols_clients)\n",
        "products = rename_cols(products, cols_products)\n",
        "sales    = rename_cols(sales, cols_sales)\n",
        "stores   = rename_cols(stores, cols_stores)"
      ],
      "metadata": {
        "id": "RapXyqp2BVuv",
        "colab": {
          "base_uri": "https://localhost:8080/"
        },
        "outputId": "2c7e8717-4b21-43cd-ff3f-889fa106012f"
      },
      "execution_count": 122,
      "outputs": [
        {
          "output_type": "stream",
          "name": "stdout",
          "text": [
            "time: 118 ms (started: 2023-09-22 13:55:44 +00:00)\n"
          ]
        }
      ]
    },
    {
      "cell_type": "code",
      "source": [
        "clients.show(3)\n",
        "products.show(3)\n",
        "sales.show(3)\n",
        "stores.show(3)"
      ],
      "metadata": {
        "colab": {
          "base_uri": "https://localhost:8080/"
        },
        "id": "JvgYpB73AKGh",
        "outputId": "0a8a3042-7d88-45cb-e6fc-b01563845d6b"
      },
      "execution_count": 123,
      "outputs": [
        {
          "output_type": "stream",
          "name": "stdout",
          "text": [
            "+---------+--------------+------------+------------+-------------+\n",
            "|client_id|   client_city|client_state|client_birth|client_gender|\n",
            "+---------+--------------+------------+------------+-------------+\n",
            "|    14001|      Curitiba|          PR|   6/28/1985|        Homem|\n",
            "|    14002| Florianópolis|          SC|   1/10/1987|        Homem|\n",
            "|    14003|Rio de Janeiro|          RJ|   11/5/1979|        Homem|\n",
            "+---------+--------------+------------+------------+-------------+\n",
            "only showing top 3 rows\n",
            "\n",
            "+--------------------+---------------+------------+\n",
            "|          product_id|   product_name|product_size|\n",
            "+--------------------+---------------+------------+\n",
            "|00066f42aeeb9f300...|Capitão América|           P|\n",
            "|00066f42aeeb9f300...|Capitão América|           M|\n",
            "|00066f42aeeb9f300...|Capitão América|           G|\n",
            "+--------------------+---------------+------------+\n",
            "only showing top 3 rows\n",
            "\n",
            "+--------------------+--------------------+---------+--------+----------+--------+--------+----------+\n",
            "|                  id|          product_id|client_id|discount|unit_price|quantity|store_id|      date|\n",
            "+--------------------+--------------------+---------+--------+----------+--------+--------+----------+\n",
            "|80260d682079b6090...|002552c0663708129...|    14001|    0,08|     249,2|       1|       4|12/10/2018|\n",
            "|3275736da1234f55d...|001b237c0e9bb435f...|    14001|     0,1|     162,4|       1|       4| 4/25/2019|\n",
            "|f3513eec8f1434b5b...|00066f42aeeb9f300...|    14001|     0,1|     194,6|       1|       4| 7/17/2019|\n",
            "+--------------------+--------------------+---------+--------+----------+--------+--------+----------+\n",
            "only showing top 3 rows\n",
            "\n",
            "+--------+--------------+-----------+\n",
            "|store_id|    store_city|store_state|\n",
            "+--------+--------------+-----------+\n",
            "|       1| Florianópolis|         SC|\n",
            "|       2|Rio de Janeiro|         RJ|\n",
            "|       3|  Porto Alegre|         RS|\n",
            "+--------+--------------+-----------+\n",
            "only showing top 3 rows\n",
            "\n",
            "time: 933 ms (started: 2023-09-22 13:55:44 +00:00)\n"
          ]
        }
      ]
    },
    {
      "cell_type": "markdown",
      "source": [
        "## JOIN\n",
        "A condição de igualdade entre chave primária e extrangeira fica implicita utilizando apenas uma string ou lista de strings no parâmetro 'on'. Portanto, o nome da coluna deve ser o mesmo em ambos dataframes."
      ],
      "metadata": {
        "id": "G7Ffmpo6GFFj"
      }
    },
    {
      "cell_type": "code",
      "source": [
        "sales.join(stores, on='store_id').show(5)"
      ],
      "metadata": {
        "colab": {
          "base_uri": "https://localhost:8080/"
        },
        "id": "dGYdKgqCGHy-",
        "outputId": "29321860-7336-4bed-9bef-dd315cc2af86"
      },
      "execution_count": 124,
      "outputs": [
        {
          "output_type": "stream",
          "name": "stdout",
          "text": [
            "+--------+--------------------+--------------------+---------+--------+----------+--------+----------+-------------+-----------+\n",
            "|store_id|                  id|          product_id|client_id|discount|unit_price|quantity|      date|   store_city|store_state|\n",
            "+--------+--------------------+--------------------+---------+--------+----------+--------+----------+-------------+-----------+\n",
            "|       4|80260d682079b6090...|002552c0663708129...|    14001|    0,08|     249,2|       1|12/10/2018|     Curitiba|         PR|\n",
            "|       4|3275736da1234f55d...|001b237c0e9bb435f...|    14001|     0,1|     162,4|       1| 4/25/2019|     Curitiba|         PR|\n",
            "|       4|f3513eec8f1434b5b...|00066f42aeeb9f300...|    14001|     0,1|     194,6|       1| 7/17/2019|     Curitiba|         PR|\n",
            "|       1|7180475b60fe6bbbd...|001b72dfd63e9833e...|    14002|     0,1|     201,6|       2| 4/10/2018|Florianópolis|         SC|\n",
            "|       1|76600853a200fe87e...|00210e41887c2a8ef...|    14002|     0,1|       406|       1| 1/21/2019|Florianópolis|         SC|\n",
            "+--------+--------------------+--------------------+---------+--------+----------+--------+----------+-------------+-----------+\n",
            "only showing top 5 rows\n",
            "\n",
            "time: 531 ms (started: 2023-09-22 13:55:45 +00:00)\n"
          ]
        }
      ]
    },
    {
      "cell_type": "markdown",
      "source": [
        "Caso for necessário mais de uma chave primária, podemos usar uma lista de chaves."
      ],
      "metadata": {
        "id": "wd_OPob5Icv-"
      }
    },
    {
      "cell_type": "code",
      "source": [
        "sales.join(stores, on=['store_id']).show(5)"
      ],
      "metadata": {
        "colab": {
          "base_uri": "https://localhost:8080/"
        },
        "id": "Wwunh4v0IP9K",
        "outputId": "27eecdca-fc64-469d-e3b0-eb28722c8f72"
      },
      "execution_count": 125,
      "outputs": [
        {
          "output_type": "stream",
          "name": "stdout",
          "text": [
            "+--------+--------------------+--------------------+---------+--------+----------+--------+----------+-------------+-----------+\n",
            "|store_id|                  id|          product_id|client_id|discount|unit_price|quantity|      date|   store_city|store_state|\n",
            "+--------+--------------------+--------------------+---------+--------+----------+--------+----------+-------------+-----------+\n",
            "|       4|80260d682079b6090...|002552c0663708129...|    14001|    0,08|     249,2|       1|12/10/2018|     Curitiba|         PR|\n",
            "|       4|3275736da1234f55d...|001b237c0e9bb435f...|    14001|     0,1|     162,4|       1| 4/25/2019|     Curitiba|         PR|\n",
            "|       4|f3513eec8f1434b5b...|00066f42aeeb9f300...|    14001|     0,1|     194,6|       1| 7/17/2019|     Curitiba|         PR|\n",
            "|       1|7180475b60fe6bbbd...|001b72dfd63e9833e...|    14002|     0,1|     201,6|       2| 4/10/2018|Florianópolis|         SC|\n",
            "|       1|76600853a200fe87e...|00210e41887c2a8ef...|    14002|     0,1|       406|       1| 1/21/2019|Florianópolis|         SC|\n",
            "+--------+--------------------+--------------------+---------+--------+----------+--------+----------+-------------+-----------+\n",
            "only showing top 5 rows\n",
            "\n",
            "time: 523 ms (started: 2023-09-22 13:55:46 +00:00)\n"
          ]
        }
      ]
    },
    {
      "cell_type": "markdown",
      "source": [
        "Podemos definir explicitamente a condição de igualdade com o código abaixo."
      ],
      "metadata": {
        "id": "k-TSdFZOIv-l"
      }
    },
    {
      "cell_type": "code",
      "source": [
        "mask = sales['store_id'] == stores['store_id']\n",
        "sales.join(stores, on=mask).show(5)"
      ],
      "metadata": {
        "colab": {
          "base_uri": "https://localhost:8080/"
        },
        "id": "TEuWdgVyH56h",
        "outputId": "74b9909d-5a68-4311-9e49-6c61bbb5e765"
      },
      "execution_count": 126,
      "outputs": [
        {
          "output_type": "stream",
          "name": "stdout",
          "text": [
            "+--------------------+--------------------+---------+--------+----------+--------+--------+----------+--------+-------------+-----------+\n",
            "|                  id|          product_id|client_id|discount|unit_price|quantity|store_id|      date|store_id|   store_city|store_state|\n",
            "+--------------------+--------------------+---------+--------+----------+--------+--------+----------+--------+-------------+-----------+\n",
            "|80260d682079b6090...|002552c0663708129...|    14001|    0,08|     249,2|       1|       4|12/10/2018|       4|     Curitiba|         PR|\n",
            "|3275736da1234f55d...|001b237c0e9bb435f...|    14001|     0,1|     162,4|       1|       4| 4/25/2019|       4|     Curitiba|         PR|\n",
            "|f3513eec8f1434b5b...|00066f42aeeb9f300...|    14001|     0,1|     194,6|       1|       4| 7/17/2019|       4|     Curitiba|         PR|\n",
            "|7180475b60fe6bbbd...|001b72dfd63e9833e...|    14002|     0,1|     201,6|       2|       1| 4/10/2018|       1|Florianópolis|         SC|\n",
            "|76600853a200fe87e...|00210e41887c2a8ef...|    14002|     0,1|       406|       1|       1| 1/21/2019|       1|Florianópolis|         SC|\n",
            "+--------------------+--------------------+---------+--------+----------+--------+--------+----------+--------+-------------+-----------+\n",
            "only showing top 5 rows\n",
            "\n",
            "time: 462 ms (started: 2023-09-22 13:55:46 +00:00)\n"
          ]
        }
      ]
    }
  ]
}