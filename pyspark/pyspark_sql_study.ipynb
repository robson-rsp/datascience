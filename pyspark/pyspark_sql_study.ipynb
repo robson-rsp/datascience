{
  "cells": [
    {
      "cell_type": "markdown",
      "metadata": {
        "id": "g1Sxu4CjDZiG"
      },
      "source": [
        "# Pyspark Study\n",
        "\n",
        "Este kernel possui alguns exemplos de código do módulo pyspark.sql além de introduzir funcionalidades básicas do framework para Data Science. Apresenta também exemplos de funções que implementam instruções SQL, como: SELECT, WHERE, GROUP BY, ORDER BY, PARTITION BY, entre outras.\n",
        "\n",
        "\n",
        "São usados sete datasets para os exemplos:\n",
        "1.   Conjunto de dados contendo características e preços de imóveis no estado da Califórnia.\n",
        "2.   Dataset com informações sobre os jogadores que disputaram a Copa do Mundo 2018\n",
        "3.   Quatro conjuntos contendo informações sobre uma rede lojas com clientes e produtos comprados.\n",
        "4.   Um conjunto pequeno para exemplos de identificação e tratamento de valores NaN."
      ]
    },
    {
      "cell_type": "code",
      "execution_count": 1,
      "metadata": {
        "colab": {
          "base_uri": "https://localhost:8080/"
        },
        "id": "xyfsd2bo5wVP",
        "outputId": "b159bd83-bdc1-4355-ce9a-a07c3a5a45de"
      },
      "outputs": [
        {
          "output_type": "stream",
          "name": "stdout",
          "text": [
            "Collecting ipython-autotime\n",
            "  Downloading ipython_autotime-0.3.1-py2.py3-none-any.whl (6.8 kB)\n",
            "Requirement already satisfied: ipython in /usr/local/lib/python3.10/dist-packages (from ipython-autotime) (7.34.0)\n",
            "Requirement already satisfied: setuptools>=18.5 in /usr/local/lib/python3.10/dist-packages (from ipython->ipython-autotime) (67.7.2)\n",
            "Collecting jedi>=0.16 (from ipython->ipython-autotime)\n",
            "  Downloading jedi-0.19.0-py2.py3-none-any.whl (1.6 MB)\n",
            "\u001b[2K     \u001b[90m━━━━━━━━━━━━━━━━━━━━━━━━━━━━━━━━━━━━━━━━\u001b[0m \u001b[32m1.6/1.6 MB\u001b[0m \u001b[31m6.8 MB/s\u001b[0m eta \u001b[36m0:00:00\u001b[0m\n",
            "\u001b[?25hRequirement already satisfied: decorator in /usr/local/lib/python3.10/dist-packages (from ipython->ipython-autotime) (4.4.2)\n",
            "Requirement already satisfied: pickleshare in /usr/local/lib/python3.10/dist-packages (from ipython->ipython-autotime) (0.7.5)\n",
            "Requirement already satisfied: traitlets>=4.2 in /usr/local/lib/python3.10/dist-packages (from ipython->ipython-autotime) (5.7.1)\n",
            "Requirement already satisfied: prompt-toolkit!=3.0.0,!=3.0.1,<3.1.0,>=2.0.0 in /usr/local/lib/python3.10/dist-packages (from ipython->ipython-autotime) (3.0.39)\n",
            "Requirement already satisfied: pygments in /usr/local/lib/python3.10/dist-packages (from ipython->ipython-autotime) (2.16.1)\n",
            "Requirement already satisfied: backcall in /usr/local/lib/python3.10/dist-packages (from ipython->ipython-autotime) (0.2.0)\n",
            "Requirement already satisfied: matplotlib-inline in /usr/local/lib/python3.10/dist-packages (from ipython->ipython-autotime) (0.1.6)\n",
            "Requirement already satisfied: pexpect>4.3 in /usr/local/lib/python3.10/dist-packages (from ipython->ipython-autotime) (4.8.0)\n",
            "Requirement already satisfied: parso<0.9.0,>=0.8.3 in /usr/local/lib/python3.10/dist-packages (from jedi>=0.16->ipython->ipython-autotime) (0.8.3)\n",
            "Requirement already satisfied: ptyprocess>=0.5 in /usr/local/lib/python3.10/dist-packages (from pexpect>4.3->ipython->ipython-autotime) (0.7.0)\n",
            "Requirement already satisfied: wcwidth in /usr/local/lib/python3.10/dist-packages (from prompt-toolkit!=3.0.0,!=3.0.1,<3.1.0,>=2.0.0->ipython->ipython-autotime) (0.2.6)\n",
            "Installing collected packages: jedi, ipython-autotime\n",
            "Successfully installed ipython-autotime-0.3.1 jedi-0.19.0\n",
            "Collecting pyspark\n",
            "  Downloading pyspark-3.5.0.tar.gz (316.9 MB)\n",
            "\u001b[2K     \u001b[90m━━━━━━━━━━━━━━━━━━━━━━━━━━━━━━━━━━━━━━━\u001b[0m \u001b[32m316.9/316.9 MB\u001b[0m \u001b[31m3.4 MB/s\u001b[0m eta \u001b[36m0:00:00\u001b[0m\n",
            "\u001b[?25h  Preparing metadata (setup.py) ... \u001b[?25l\u001b[?25hdone\n",
            "Requirement already satisfied: py4j==0.10.9.7 in /usr/local/lib/python3.10/dist-packages (from pyspark) (0.10.9.7)\n",
            "Building wheels for collected packages: pyspark\n",
            "  Building wheel for pyspark (setup.py) ... \u001b[?25l\u001b[?25hdone\n",
            "  Created wheel for pyspark: filename=pyspark-3.5.0-py2.py3-none-any.whl size=317425344 sha256=d7b2593211d3fa13dc2ea28dd304104c0a0188c1e18c80ba344751f96e1bd9b7\n",
            "  Stored in directory: /root/.cache/pip/wheels/41/4e/10/c2cf2467f71c678cfc8a6b9ac9241e5e44a01940da8fbb17fc\n",
            "Successfully built pyspark\n",
            "Installing collected packages: pyspark\n",
            "Successfully installed pyspark-3.5.0\n"
          ]
        }
      ],
      "source": [
        "%pip install ipython-autotime\n",
        "%pip install pyspark"
      ]
    },
    {
      "cell_type": "markdown",
      "metadata": {
        "id": "9U_63vwhpUmt"
      },
      "source": [
        "Trecho de código opcional que resolve problema de compatibilidade entre a linguagem Python e o PySpark."
      ]
    },
    {
      "cell_type": "code",
      "execution_count": 2,
      "metadata": {
        "colab": {
          "base_uri": "https://localhost:8080/"
        },
        "id": "Tw7wn82BksRS",
        "outputId": "4d6e2086-8788-4f5d-a099-40f52cc84c1c"
      },
      "outputs": [
        {
          "output_type": "stream",
          "name": "stdout",
          "text": [
            "ignore cell\n"
          ]
        }
      ],
      "source": [
        "%%script echo 'ignore cell'\n",
        "import os\n",
        "import sys\n",
        "\n",
        "os.environ['PYSPARK_PYTHON'] = sys.executable\n",
        "os.environ['PYSPARK_DRIVER_PYTHON'] = sys.executable"
      ]
    },
    {
      "cell_type": "markdown",
      "metadata": {
        "id": "zWAHEyAxpgRU"
      },
      "source": [
        "# Imports básicos."
      ]
    },
    {
      "cell_type": "code",
      "execution_count": 3,
      "metadata": {
        "colab": {
          "base_uri": "https://localhost:8080/"
        },
        "id": "LO_fhEZL8qXK",
        "outputId": "7b8aebfc-1d43-425c-dd8d-405452f3d49c"
      },
      "outputs": [
        {
          "output_type": "stream",
          "name": "stdout",
          "text": [
            "time: 308 µs (started: 2023-09-29 23:24:31 +00:00)\n"
          ]
        }
      ],
      "source": [
        "from google.colab          import drive, files\n",
        "from pyspark.sql           import SparkSession\n",
        "from pyspark.sql.functions import *\n",
        "from pyspark.sql.types     import *\n",
        "from pyspark.sql.window    import Window\n",
        "\n",
        "%load_ext autotime"
      ]
    },
    {
      "cell_type": "markdown",
      "metadata": {
        "id": "aAswoIY9pnoP"
      },
      "source": [
        "# Início da sessão."
      ]
    },
    {
      "cell_type": "code",
      "execution_count": 4,
      "metadata": {
        "colab": {
          "base_uri": "https://localhost:8080/",
          "height": 254
        },
        "id": "Yk5ZIoBYiDu2",
        "outputId": "f64b9d01-898b-41a8-e42d-0b6cb7250faf"
      },
      "outputs": [
        {
          "output_type": "stream",
          "name": "stdout",
          "text": [
            "Mounted at /content/drive\n"
          ]
        },
        {
          "output_type": "execute_result",
          "data": {
            "text/plain": [
              "<pyspark.sql.session.SparkSession at 0x79b33e388910>"
            ],
            "text/html": [
              "\n",
              "            <div>\n",
              "                <p><b>SparkSession - in-memory</b></p>\n",
              "                \n",
              "        <div>\n",
              "            <p><b>SparkContext</b></p>\n",
              "\n",
              "            <p><a href=\"http://5f688687c2e2:4040\">Spark UI</a></p>\n",
              "\n",
              "            <dl>\n",
              "              <dt>Version</dt>\n",
              "                <dd><code>v3.5.0</code></dd>\n",
              "              <dt>Master</dt>\n",
              "                <dd><code>local</code></dd>\n",
              "              <dt>AppName</dt>\n",
              "                <dd><code>pyspark_app</code></dd>\n",
              "            </dl>\n",
              "        </div>\n",
              "        \n",
              "            </div>\n",
              "        "
            ]
          },
          "metadata": {},
          "execution_count": 4
        },
        {
          "output_type": "stream",
          "name": "stdout",
          "text": [
            "time: 40.4 s (started: 2023-09-29 23:24:31 +00:00)\n"
          ]
        }
      ],
      "source": [
        "drive.mount('/content/drive', force_remount=True)\n",
        "spark = SparkSession.builder.master('local').appName('pyspark_app').getOrCreate()\n",
        "spark"
      ]
    },
    {
      "cell_type": "markdown",
      "metadata": {
        "id": "R9NYpIy3NI9Z"
      },
      "source": [
        "## Leitura dos arquivos."
      ]
    },
    {
      "cell_type": "code",
      "execution_count": 5,
      "metadata": {
        "colab": {
          "base_uri": "https://localhost:8080/"
        },
        "id": "nF-O2mzVmGVX",
        "outputId": "81e79382-352c-4d82-925c-990be3c401df"
      },
      "outputs": [
        {
          "output_type": "stream",
          "name": "stdout",
          "text": [
            "<class 'pyspark.sql.dataframe.DataFrame'>\n",
            "rows: 20640\n",
            "cols: 5\n",
            "+---------+--------+-----------+--------------+---------------+\n",
            "|longitude|latitude|total_rooms|total_bedrooms|ocean_proximity|\n",
            "+---------+--------+-----------+--------------+---------------+\n",
            "|  -122.23|   37.88|      880.0|         129.0|       NEAR BAY|\n",
            "|  -122.22|   37.86|     7099.0|        1106.0|       NEAR BAY|\n",
            "|  -122.24|   37.85|     1467.0|         190.0|       NEAR BAY|\n",
            "|  -122.25|   37.85|     1274.0|         235.0|       NEAR BAY|\n",
            "|  -122.25|   37.85|     1627.0|         280.0|       NEAR BAY|\n",
            "+---------+--------+-----------+--------------+---------------+\n",
            "only showing top 5 rows\n",
            "\n",
            "time: 19.1 s (started: 2023-09-29 23:25:11 +00:00)\n"
          ]
        }
      ],
      "source": [
        "houses = spark.read.csv(\"/content/drive/MyDrive/datasets/housing/housing.csv\", header=True, inferSchema=True, encoding='utf-8')\n",
        "houses = houses.drop('housing_median_age', 'population', 'median_income', 'median_house_value', 'households') # remoção de atributos desnecessários\n",
        "print(type(houses))\n",
        "print(f'rows: {houses.count()}')\n",
        "print(f'cols: {len(houses.columns)}')\n",
        "houses.show(5)"
      ]
    },
    {
      "cell_type": "markdown",
      "metadata": {
        "id": "8geMHjR9n36N"
      },
      "source": [
        "Abaixo, faço a leitura de um arquivo .csv com as opções definidas através da função option(). Além disso, defino manualmente os tipos de dados de cada coluna.\n",
        "\n",
        "Note que defino \"header=True\" em uma das opções. Caso o conjunto de dados não tivesse cabeçalho e eu tivesse que criá-lo manualmente bastaria definir \"header=False\". Os nomes das colunas seriam os definidos no parâmetro \"name=\" de cada instância de StructField."
      ]
    },
    {
      "cell_type": "code",
      "execution_count": 6,
      "metadata": {
        "colab": {
          "base_uri": "https://localhost:8080/"
        },
        "id": "lSy2yziQLrQ3",
        "outputId": "21a9d65a-5de9-4c76-8705-9a44c16c0fdd"
      },
      "outputs": [
        {
          "output_type": "stream",
          "name": "stdout",
          "text": [
            "<class 'pyspark.sql.dataframe.DataFrame'>\n",
            "rows: 736\n",
            "cols: 7\n",
            "+---------+----+------------------+----------+----------+------+------+\n",
            "|     Team|Pos.| FIFA Popular Name|Birth Date|Shirt Name|Height|Weight|\n",
            "+---------+----+------------------+----------+----------+------+------+\n",
            "|Argentina|  DF|TAGLIAFICO Nicolas|31.08.1992|TAGLIAFICO|   169|    65|\n",
            "|Argentina|  MF|    PAVON Cristian|21.01.1996|     PAVÓN|   169|    65|\n",
            "|Argentina|  MF|    LANZINI Manuel|15.02.1993|   LANZINI|   167|    66|\n",
            "|Argentina|  DF|    SALVIO Eduardo|13.07.1990|    SALVIO|   167|    69|\n",
            "|Argentina|  FW|      MESSI Lionel|24.06.1987|     MESSI|   170|    72|\n",
            "+---------+----+------------------+----------+----------+------+------+\n",
            "only showing top 5 rows\n",
            "\n",
            "time: 1.24 s (started: 2023-09-29 23:25:30 +00:00)\n"
          ]
        }
      ],
      "source": [
        "customSchema = StructType([StructField(name=\"Team\", dataType=StringType(), nullable=True),\n",
        "                           StructField(name=\"#\", dataType=StringType(), nullable=True),\n",
        "                           StructField(name=\"Pos.\", dataType=StringType(), nullable=True),\n",
        "                           StructField(name=\"FIFA Popular Name\", dataType=StringType(), nullable=True),\n",
        "                           StructField(name=\"Birth Date\", dataType=StringType(), nullable=True),\n",
        "                           StructField(name=\"Shirt Name\", dataType=StringType(), nullable=True),\n",
        "                           StructField(name=\"Club\", dataType=StringType(), nullable=True),\n",
        "                           StructField(name=\"Height\", dataType=IntegerType(), nullable=True),\n",
        "                           StructField(name=\"Weight\", dataType=IntegerType(), nullable=True),])\n",
        "\n",
        "players = spark.read.option(\"inferSchema\", \"False\")\\\n",
        "                    .option(\"header\", \"True\")\\\n",
        "                    .option(\"encoding\", \"utf-8\")\\\n",
        "                    .schema(customSchema)\\\n",
        "                    .csv(\"/content/drive/MyDrive/datasets/wc2018-players.csv\")\n",
        "\n",
        "players = players.drop('#', 'club') # remoção de atributos desnecessários\n",
        "print(type(players))\n",
        "print(f'rows: {players.count()}')\n",
        "print(f'cols: {len(players.columns)}')\n",
        "players.show(5)"
      ]
    },
    {
      "cell_type": "code",
      "execution_count": 7,
      "metadata": {
        "colab": {
          "base_uri": "https://localhost:8080/"
        },
        "id": "g0PkgClQL3cj",
        "outputId": "52a25228-7668-4243-c1d0-b6549dfc7ef5"
      },
      "outputs": [
        {
          "output_type": "stream",
          "name": "stdout",
          "text": [
            "+-----+--------------+-----+-----------+-----+\n",
            "|   ID|          City|State|DateOfBirth|  Sex|\n",
            "+-----+--------------+-----+-----------+-----+\n",
            "|14001|      Curitiba|   PR|  6/28/1985|Homem|\n",
            "|14002| Florianópolis|   SC|  1/10/1987|Homem|\n",
            "|14003|Rio de Janeiro|   RJ|  11/5/1979|Homem|\n",
            "+-----+--------------+-----+-----------+-----+\n",
            "only showing top 3 rows\n",
            "\n",
            "+--------------------+---------------+----+\n",
            "|                  ID|           Name|Size|\n",
            "+--------------------+---------------+----+\n",
            "|00066f42aeeb9f300...|Capitão América|   P|\n",
            "|00066f42aeeb9f300...|Capitão América|   M|\n",
            "|00066f42aeeb9f300...|Capitão América|   G|\n",
            "+--------------------+---------------+----+\n",
            "only showing top 3 rows\n",
            "\n",
            "+---+--------------+-----+\n",
            "| ID|          Name|State|\n",
            "+---+--------------+-----+\n",
            "|  1| Florianópolis|   SC|\n",
            "|  2|Rio de Janeiro|   RJ|\n",
            "|  3|  Porto Alegre|   RS|\n",
            "+---+--------------+-----+\n",
            "only showing top 3 rows\n",
            "\n",
            "+----+----+--------------------+--------------------+--------+--------+---------+--------+-------+----------+\n",
            "| _c0| _c1|                 _c2|                 _c3|     _c4|     _c5|      _c6|     _c7|    _c8|       _c9|\n",
            "+----+----+--------------------+--------------------+--------+--------+---------+--------+-------+----------+\n",
            "|NULL|NULL|                NULL|                NULL|    NULL|    NULL|     NULL|    NULL|   NULL|      NULL|\n",
            "|NULL|NULL|                NULL|                NULL|    NULL|    NULL|     NULL|    NULL|   NULL|      NULL|\n",
            "|NULL|NULL|                NULL|                NULL|    NULL|    NULL|     NULL|    NULL|   NULL|      NULL|\n",
            "|NULL|NULL|                  ID|           ProductID|ClientID|Discount|UnitPrice|Quantity|StoreID|      Date|\n",
            "|NULL|NULL|80260d682079b6090...|002552c0663708129...|   14001|    0,08|    249,2|       1|      4|12/10/2018|\n",
            "|NULL|NULL|3275736da1234f55d...|001b237c0e9bb435f...|   14001|     0,1|    162,4|       1|      4| 4/25/2019|\n",
            "+----+----+--------------------+--------------------+--------+--------+---------+--------+-------+----------+\n",
            "only showing top 6 rows\n",
            "\n",
            "time: 7.09 s (started: 2023-09-29 23:25:32 +00:00)\n"
          ]
        }
      ],
      "source": [
        "clients  = spark.read.csv(\"/content/drive/MyDrive/datasets/bix-tecnologia/clients.csv\", header=True, inferSchema=True, encoding='utf-8')\n",
        "products = spark.read.csv(\"/content/drive/MyDrive/datasets/bix-tecnologia/products.csv\", header=True, inferSchema=True, encoding='utf-8')\n",
        "sales    = spark.read.csv(\"/content/drive/MyDrive/datasets/bix-tecnologia/sales.csv\", header=True, inferSchema=True, encoding='utf-8')\n",
        "stores   = spark.read.csv(\"/content/drive/MyDrive/datasets/bix-tecnologia/stores.csv\", header=True, inferSchema=True, encoding='utf-8')\n",
        "\n",
        "clients.show(3)\n",
        "products.show(3)\n",
        "stores.show(3)\n",
        "sales.show(6)"
      ]
    },
    {
      "cell_type": "markdown",
      "metadata": {
        "id": "hQxAVEKv4vs7"
      },
      "source": [
        "O dataframe \"sales\" está meio bagunçado, então vou precisar fazer alguns ajustes antes de poder usá-lo.\n",
        "*   remover as 4 primeiras linhas\n",
        "*   remover as 2 primeiras colunas e também 'row_number'"
      ]
    },
    {
      "cell_type": "code",
      "execution_count": 8,
      "metadata": {
        "colab": {
          "base_uri": "https://localhost:8080/"
        },
        "id": "H4i-gcsR4vtI",
        "outputId": "121f23e2-59a7-4037-bb2b-a0a609f9e05f"
      },
      "outputs": [
        {
          "output_type": "stream",
          "name": "stdout",
          "text": [
            "time: 159 ms (started: 2023-09-29 23:25:39 +00:00)\n"
          ]
        }
      ],
      "source": [
        "sales = sales.withColumn('row_number', monotonically_increasing_id())\n",
        "sales = sales.where(\"row_number > 3\")\n",
        "sales = sales.drop('_c0', '_c1', 'row_number')"
      ]
    },
    {
      "cell_type": "markdown",
      "metadata": {
        "id": "jvm3pKcIBstE"
      },
      "source": [
        "Vou criar um conjunto de dados pequeno apenas para demonstrar alguns exemplos de identificação e tratamento de valores NaN pois vai ficar mais fácil o entendimento."
      ]
    },
    {
      "cell_type": "code",
      "execution_count": 9,
      "metadata": {
        "colab": {
          "base_uri": "https://localhost:8080/"
        },
        "id": "Kp2DEAlzB6cw",
        "outputId": "52e56c4b-9a86-41bd-8079-ae224cc17441"
      },
      "outputs": [
        {
          "output_type": "stream",
          "name": "stdout",
          "text": [
            "+-------+----+----------+------+\n",
            "|   name| age|experience|salary|\n",
            "+-------+----+----------+------+\n",
            "|  Krish|  31|        10| 40000|\n",
            "|    Rob|  25|         8| 99999|\n",
            "|  Sunny|  29|         2| 30000|\n",
            "|   Paul|  24|         0| 30000|\n",
            "|  Cauby|  23|         6| 15000|\n",
            "|Claudio|  45|        12| 18000|\n",
            "|   NULL|NULL|      NULL| 40000|\n",
            "|   NULL|  34|        10| 38000|\n",
            "|   NULL|  36|      NULL|  NULL|\n",
            "+-------+----+----------+------+\n",
            "\n",
            "time: 1.98 s (started: 2023-09-29 23:25:39 +00:00)\n"
          ]
        }
      ],
      "source": [
        "customSchema = StructType([StructField(\"name\", StringType(), True),\n",
        "                     StructField(\"age\", IntegerType(), True),\n",
        "                     StructField(\"experience\", IntegerType(), True),\n",
        "                     StructField(\"salary\", IntegerType(), True)])\n",
        "\n",
        "data = [(\"Krish\", 31, 10, 40000),\n",
        "        (\"Rob\", 25, 8, 99999),\n",
        "        (\"Sunny\", 29, 2, 30000),\n",
        "        (\"Paul\", 24, 0, 30000),\n",
        "        (\"Cauby\", 23, 6, 15000),\n",
        "        (\"Claudio\", 45, 12, 18000),\n",
        "        (None, None, None, 40000),\n",
        "        (None, 34, 10, 38000),\n",
        "        (None, 36, None, None)]\n",
        "\n",
        "company = spark.createDataFrame(data, schema=customSchema)\n",
        "company.show()"
      ]
    },
    {
      "cell_type": "markdown",
      "metadata": {
        "id": "qSKwsHHsE0c3"
      },
      "source": [
        "# Funções descritivas básicas.\n",
        "Vou usar 'houses' como referência no uso das funções abaixo."
      ]
    },
    {
      "cell_type": "code",
      "execution_count": 10,
      "metadata": {
        "colab": {
          "base_uri": "https://localhost:8080/"
        },
        "id": "CCZm02HJsVL5",
        "outputId": "26a180e5-101f-4d14-dfad-43cc6375d82d"
      },
      "outputs": [
        {
          "output_type": "stream",
          "name": "stdout",
          "text": [
            "['longitude', 'latitude', 'total_rooms', 'total_bedrooms', 'ocean_proximity']\n",
            "time: 644 µs (started: 2023-09-29 23:25:41 +00:00)\n"
          ]
        }
      ],
      "source": [
        "print(houses.columns)"
      ]
    },
    {
      "cell_type": "code",
      "execution_count": 11,
      "metadata": {
        "colab": {
          "base_uri": "https://localhost:8080/"
        },
        "id": "wLAV9JlhJzaV",
        "outputId": "d312bf1b-6ac3-4de9-9704-43143b6ee81c"
      },
      "outputs": [
        {
          "output_type": "stream",
          "name": "stdout",
          "text": [
            "shape: (20640, 5)\n",
            "time: 231 ms (started: 2023-09-29 23:25:41 +00:00)\n"
          ]
        }
      ],
      "source": [
        "rows = houses.count()\n",
        "cols = len(houses.columns)\n",
        "print(f'shape: {(rows, cols)}')"
      ]
    },
    {
      "cell_type": "code",
      "execution_count": 12,
      "metadata": {
        "colab": {
          "base_uri": "https://localhost:8080/"
        },
        "id": "waAJ4QLDE3xU",
        "outputId": "b02b5aed-2577-44db-dd0a-0c7f80ed928a"
      },
      "outputs": [
        {
          "output_type": "stream",
          "name": "stdout",
          "text": [
            "+---------+--------+-----------+--------------+---------------+\n",
            "|longitude|latitude|total_rooms|total_bedrooms|ocean_proximity|\n",
            "+---------+--------+-----------+--------------+---------------+\n",
            "|  -122.23|   37.88|      880.0|         129.0|       NEAR BAY|\n",
            "|  -122.22|   37.86|     7099.0|        1106.0|       NEAR BAY|\n",
            "|  -122.24|   37.85|     1467.0|         190.0|       NEAR BAY|\n",
            "|  -122.25|   37.85|     1274.0|         235.0|       NEAR BAY|\n",
            "|  -122.25|   37.85|     1627.0|         280.0|       NEAR BAY|\n",
            "+---------+--------+-----------+--------------+---------------+\n",
            "only showing top 5 rows\n",
            "\n",
            "time: 232 ms (started: 2023-09-29 23:25:41 +00:00)\n"
          ]
        }
      ],
      "source": [
        "houses.show(5)"
      ]
    },
    {
      "cell_type": "markdown",
      "metadata": {
        "id": "0FMv4U34wJtW"
      },
      "source": [
        "Função alternativa a show()."
      ]
    },
    {
      "cell_type": "code",
      "execution_count": 13,
      "metadata": {
        "colab": {
          "base_uri": "https://localhost:8080/"
        },
        "id": "5kb_yq9zjPYr",
        "outputId": "7c4a5813-db08-4ea4-ece6-b877d293d056"
      },
      "outputs": [
        {
          "output_type": "execute_result",
          "data": {
            "text/plain": [
              "[Row(longitude=-122.23, latitude=37.88, total_rooms=880.0, total_bedrooms=129.0, ocean_proximity='NEAR BAY'),\n",
              " Row(longitude=-122.22, latitude=37.86, total_rooms=7099.0, total_bedrooms=1106.0, ocean_proximity='NEAR BAY'),\n",
              " Row(longitude=-122.24, latitude=37.85, total_rooms=1467.0, total_bedrooms=190.0, ocean_proximity='NEAR BAY'),\n",
              " Row(longitude=-122.25, latitude=37.85, total_rooms=1274.0, total_bedrooms=235.0, ocean_proximity='NEAR BAY'),\n",
              " Row(longitude=-122.25, latitude=37.85, total_rooms=1627.0, total_bedrooms=280.0, ocean_proximity='NEAR BAY')]"
            ]
          },
          "metadata": {},
          "execution_count": 13
        },
        {
          "output_type": "stream",
          "name": "stdout",
          "text": [
            "time: 241 ms (started: 2023-09-29 23:25:41 +00:00)\n"
          ]
        }
      ],
      "source": [
        "houses.take(5)"
      ]
    },
    {
      "cell_type": "markdown",
      "metadata": {
        "id": "VpyX_hawwVhz"
      },
      "source": [
        "A função tail(x) retorna as x últimas linhas do dataset."
      ]
    },
    {
      "cell_type": "code",
      "execution_count": 14,
      "metadata": {
        "colab": {
          "base_uri": "https://localhost:8080/"
        },
        "id": "GIWVB-9Xwdgl",
        "outputId": "683b7849-e0ac-41a8-a6bd-c91a5355ed5c"
      },
      "outputs": [
        {
          "output_type": "execute_result",
          "data": {
            "text/plain": [
              "[Row(longitude=-121.09, latitude=39.48, total_rooms=1665.0, total_bedrooms=374.0, ocean_proximity='INLAND'),\n",
              " Row(longitude=-121.21, latitude=39.49, total_rooms=697.0, total_bedrooms=150.0, ocean_proximity='INLAND'),\n",
              " Row(longitude=-121.22, latitude=39.43, total_rooms=2254.0, total_bedrooms=485.0, ocean_proximity='INLAND'),\n",
              " Row(longitude=-121.32, latitude=39.43, total_rooms=1860.0, total_bedrooms=409.0, ocean_proximity='INLAND'),\n",
              " Row(longitude=-121.24, latitude=39.37, total_rooms=2785.0, total_bedrooms=616.0, ocean_proximity='INLAND')]"
            ]
          },
          "metadata": {},
          "execution_count": 14
        },
        {
          "output_type": "stream",
          "name": "stdout",
          "text": [
            "time: 483 ms (started: 2023-09-29 23:25:42 +00:00)\n"
          ]
        }
      ],
      "source": [
        "houses.tail(5)"
      ]
    },
    {
      "cell_type": "code",
      "execution_count": 15,
      "metadata": {
        "colab": {
          "base_uri": "https://localhost:8080/"
        },
        "id": "Tho1zkZth2MN",
        "outputId": "b4192ea4-ff95-4b4b-f2d6-19538f6945fd"
      },
      "outputs": [
        {
          "output_type": "stream",
          "name": "stdout",
          "text": [
            "root\n",
            " |-- longitude: double (nullable = true)\n",
            " |-- latitude: double (nullable = true)\n",
            " |-- total_rooms: double (nullable = true)\n",
            " |-- total_bedrooms: double (nullable = true)\n",
            " |-- ocean_proximity: string (nullable = true)\n",
            "\n",
            "time: 12.8 ms (started: 2023-09-29 23:25:42 +00:00)\n"
          ]
        }
      ],
      "source": [
        "houses.printSchema()"
      ]
    },
    {
      "cell_type": "markdown",
      "metadata": {
        "id": "tmYTS9p1wq1r"
      },
      "source": [
        "Apresentação de informações de estatística descritiva sobre cada coluna."
      ]
    },
    {
      "cell_type": "code",
      "execution_count": 16,
      "metadata": {
        "colab": {
          "base_uri": "https://localhost:8080/"
        },
        "id": "Iuxmtp_DwryN",
        "outputId": "3cbb0a45-d426-42ca-c83a-92b7b3440025"
      },
      "outputs": [
        {
          "output_type": "stream",
          "name": "stdout",
          "text": [
            "+-------+-------------------+-----------------+------------------+------------------+---------------+\n",
            "|summary|          longitude|         latitude|       total_rooms|    total_bedrooms|ocean_proximity|\n",
            "+-------+-------------------+-----------------+------------------+------------------+---------------+\n",
            "|  count|              20640|            20640|             20640|             20433|          20640|\n",
            "|   mean|-119.56970445736148| 35.6318614341087|2635.7630813953488| 537.8705525375618|           NULL|\n",
            "| stddev|  2.003531723502584|2.135952397457101|2181.6152515827944|421.38507007403115|           NULL|\n",
            "|    min|            -124.35|            32.54|               2.0|               1.0|      <1H OCEAN|\n",
            "|    25%|             -121.8|            33.93|            1447.0|             296.0|           NULL|\n",
            "|    50%|            -118.49|            34.26|            2127.0|             435.0|           NULL|\n",
            "|    75%|            -118.01|            37.71|            3146.0|             647.0|           NULL|\n",
            "|    max|            -114.31|            41.95|           39320.0|            6445.0|     NEAR OCEAN|\n",
            "+-------+-------------------+-----------------+------------------+------------------+---------------+\n",
            "\n",
            "time: 3.12 s (started: 2023-09-29 23:25:42 +00:00)\n"
          ]
        }
      ],
      "source": [
        "houses.summary().show()"
      ]
    },
    {
      "cell_type": "code",
      "execution_count": 17,
      "metadata": {
        "colab": {
          "base_uri": "https://localhost:8080/"
        },
        "id": "6sGTAqg8xyeU",
        "outputId": "01bdb9b0-6f63-460f-ec64-6eb7fb520fc0"
      },
      "outputs": [
        {
          "output_type": "stream",
          "name": "stdout",
          "text": [
            "+-------+---------+--------+-----------+--------------+---------------+\n",
            "|summary|longitude|latitude|total_rooms|total_bedrooms|ocean_proximity|\n",
            "+-------+---------+--------+-----------+--------------+---------------+\n",
            "|  count|    20640|   20640|      20640|         20433|          20640|\n",
            "|    min|  -124.35|   32.54|        2.0|           1.0|      <1H OCEAN|\n",
            "|    25%|   -121.8|   33.93|     1447.0|         296.0|           NULL|\n",
            "|    75%|  -118.01|   37.71|     3146.0|         647.0|           NULL|\n",
            "|    max|  -114.31|   41.95|    39320.0|        6445.0|     NEAR OCEAN|\n",
            "+-------+---------+--------+-----------+--------------+---------------+\n",
            "\n",
            "time: 1.33 s (started: 2023-09-29 23:25:45 +00:00)\n"
          ]
        }
      ],
      "source": [
        "houses.summary(\"count\", \"min\", \"25%\", \"75%\", \"max\").show()"
      ]
    },
    {
      "cell_type": "markdown",
      "metadata": {
        "id": "9omBccEAxPQr"
      },
      "source": [
        "Versão alternativa e resumida de summary()."
      ]
    },
    {
      "cell_type": "code",
      "execution_count": 18,
      "metadata": {
        "colab": {
          "base_uri": "https://localhost:8080/"
        },
        "id": "YU3oj1JxE-os",
        "outputId": "9627ebe9-762e-410d-a66e-82764201d045"
      },
      "outputs": [
        {
          "output_type": "stream",
          "name": "stdout",
          "text": [
            "+-------+-------------------+-----------------+------------------+------------------+---------------+\n",
            "|summary|          longitude|         latitude|       total_rooms|    total_bedrooms|ocean_proximity|\n",
            "+-------+-------------------+-----------------+------------------+------------------+---------------+\n",
            "|  count|              20640|            20640|             20640|             20433|          20640|\n",
            "|   mean|-119.56970445736148| 35.6318614341087|2635.7630813953488| 537.8705525375618|           NULL|\n",
            "| stddev|  2.003531723502584|2.135952397457101|2181.6152515827944|421.38507007403115|           NULL|\n",
            "|    min|            -124.35|            32.54|               2.0|               1.0|      <1H OCEAN|\n",
            "|    max|            -114.31|            41.95|           39320.0|            6445.0|     NEAR OCEAN|\n",
            "+-------+-------------------+-----------------+------------------+------------------+---------------+\n",
            "\n",
            "time: 1.37 s (started: 2023-09-29 23:25:47 +00:00)\n"
          ]
        }
      ],
      "source": [
        "houses.describe().show()"
      ]
    },
    {
      "cell_type": "markdown",
      "metadata": {
        "id": "sOe4mRqMFEPZ"
      },
      "source": [
        "# Funções úteis para feature engineering."
      ]
    },
    {
      "cell_type": "markdown",
      "metadata": {
        "id": "Ue7YT41Bazkf"
      },
      "source": [
        "Criando backup do dataframe"
      ]
    },
    {
      "cell_type": "code",
      "execution_count": 19,
      "metadata": {
        "colab": {
          "base_uri": "https://localhost:8080/"
        },
        "id": "H8tTGZECa2Bq",
        "outputId": "39d9cdf1-77a6-49df-efab-16d6e5647c4c"
      },
      "outputs": [
        {
          "output_type": "stream",
          "name": "stdout",
          "text": [
            "time: 482 µs (started: 2023-09-29 23:25:48 +00:00)\n"
          ]
        }
      ],
      "source": [
        "houses_backup = houses"
      ]
    },
    {
      "cell_type": "markdown",
      "metadata": {
        "id": "UTA4QbYtunoX"
      },
      "source": [
        "## Atributos"
      ]
    },
    {
      "cell_type": "markdown",
      "metadata": {
        "id": "2K3cJJC0r4-n"
      },
      "source": [
        "### Renomeação\n",
        "Transformando todos os nomes de colunas para letras maiúsculas upper(). Poderíamos usar a função lower() caso quisessemos letras minúsculas."
      ]
    },
    {
      "cell_type": "code",
      "execution_count": 20,
      "metadata": {
        "colab": {
          "base_uri": "https://localhost:8080/"
        },
        "id": "FB73DskfupN2",
        "outputId": "a1951519-33c8-4642-9a7b-6d39d0b04897"
      },
      "outputs": [
        {
          "output_type": "stream",
          "name": "stdout",
          "text": [
            "['LONGITUDE', 'LATITUDE', 'TOTAL_ROOMS', 'TOTAL_BEDROOMS', 'OCEAN_PROXIMITY']\n",
            "time: 50.6 ms (started: 2023-09-29 23:25:48 +00:00)\n"
          ]
        }
      ],
      "source": [
        "upper = [column.upper() for column in houses.columns]\n",
        "for column, up in zip(houses.columns, upper):\n",
        "  houses = houses.withColumnRenamed(column, up)\n",
        "print(houses.columns)"
      ]
    },
    {
      "cell_type": "markdown",
      "metadata": {
        "id": "dpT_yQZRxufp"
      },
      "source": [
        "Uma função de renomeação para se usar nos datasets houses e players."
      ]
    },
    {
      "cell_type": "code",
      "execution_count": 21,
      "metadata": {
        "colab": {
          "base_uri": "https://localhost:8080/"
        },
        "id": "Zk64PlhI1CD0",
        "outputId": "56de7312-d20b-49de-a4fd-470f14623c8a"
      },
      "outputs": [
        {
          "output_type": "stream",
          "name": "stdout",
          "text": [
            "['longitude', 'latitude', 'total_rooms', 'total_bedrooms', 'ocean_proximity']\n",
            "['team', 'pos.', 'fifa popular name', 'birth date', 'shirt name', 'height', 'weight']\n",
            "['longitude', 'latitude', 'total_rooms', 'total_bedrooms', 'ocean_proximity']\n",
            "['team', 'pos.', 'fifa popular name', 'birth date', 'shirt name', 'height', 'weight']\n",
            "time: 140 ms (started: 2023-09-29 23:25:48 +00:00)\n"
          ]
        }
      ],
      "source": [
        "def to_lower(dataset):\n",
        "  lower = [name.lower() for name in dataset.columns]\n",
        "  for name, low_name in zip(dataset.columns, lower):\n",
        "    dataset = dataset.withColumnRenamed(name, low_name)\n",
        "  print(lower)\n",
        "  return dataset\n",
        "\n",
        "\n",
        "\n",
        "houses  = to_lower(houses)\n",
        "players = to_lower(players)\n",
        "print(houses.columns)\n",
        "print(players.columns)"
      ]
    },
    {
      "cell_type": "markdown",
      "metadata": {
        "id": "Dc5hDUGR20Q3"
      },
      "source": [
        "Outra função de renomeação para ser usada nos datasets, clients, products, sales e stores. Vai ficar mais fácil escrever código assim. Não vou precisar me preocupar com letras maiúsculas."
      ]
    },
    {
      "cell_type": "code",
      "execution_count": 22,
      "metadata": {
        "colab": {
          "base_uri": "https://localhost:8080/"
        },
        "id": "wXo9AY5tzptV",
        "outputId": "a7a735d4-8686-4202-9c34-60a979390bb3"
      },
      "outputs": [
        {
          "output_type": "stream",
          "name": "stdout",
          "text": [
            "['client_id', 'client_city', 'client_state', 'client_birth', 'client_gender']\n",
            "['product_id', 'product_name', 'product_size']\n",
            "['id', 'product_id', 'client_id', 'discount', 'unit_price', 'quantity', 'store_id', 'date']\n",
            "['store_id', 'store_city', 'store_state']\n",
            "time: 179 ms (started: 2023-09-29 23:25:48 +00:00)\n"
          ]
        }
      ],
      "source": [
        "def rename_cols(df, names):\n",
        "  for column, name in zip(df.columns, names):\n",
        "    df = df.withColumnRenamed(column, name)\n",
        "  return df\n",
        "\n",
        "\n",
        "\n",
        "cols_clients  = ['client_id','client_city', 'client_state', 'client_birth', 'client_gender']\n",
        "cols_products = ['product_id', 'product_name', 'product_size']\n",
        "cols_sales    = ['id', 'product_id', 'client_id', 'discount', 'unit_price', 'quantity', 'store_id', 'date']\n",
        "cols_stores   = ['store_id', 'store_city', 'store_state']\n",
        "\n",
        "clients  = rename_cols(clients, cols_clients)\n",
        "products = rename_cols(products, cols_products)\n",
        "sales    = rename_cols(sales, cols_sales)\n",
        "stores   = rename_cols(stores, cols_stores)\n",
        "\n",
        "print(clients.columns)\n",
        "print(products.columns)\n",
        "print(sales.columns)\n",
        "print(stores.columns)"
      ]
    },
    {
      "cell_type": "markdown",
      "metadata": {
        "id": "MV5169vkJuIZ"
      },
      "source": [
        "É possível atribuir um 'alias' a cada atributo selecionado. Mas, isso só pode ser feito através da função col() que retorna um objeto Column.\n"
      ]
    },
    {
      "cell_type": "code",
      "execution_count": 23,
      "metadata": {
        "colab": {
          "base_uri": "https://localhost:8080/"
        },
        "id": "bzWH6uZHJzXj",
        "outputId": "2422f45a-a35a-4806-97a6-91aa243e0e81"
      },
      "outputs": [
        {
          "output_type": "stream",
          "name": "stdout",
          "text": [
            "Column<'latitude AS lat'>\n",
            "+-----+-------+\n",
            "|  lat|    lon|\n",
            "+-----+-------+\n",
            "|37.88|-122.23|\n",
            "|37.86|-122.22|\n",
            "|37.85|-122.24|\n",
            "|37.85|-122.25|\n",
            "|37.85|-122.25|\n",
            "+-----+-------+\n",
            "only showing top 5 rows\n",
            "\n",
            "time: 235 ms (started: 2023-09-29 23:25:48 +00:00)\n"
          ]
        }
      ],
      "source": [
        "lat = col('latitude').alias('lat')\n",
        "lon = col('longitude').alias('lon')\n",
        "\n",
        "print(lat)\n",
        "houses.select([lat, lon]).show(5)"
      ]
    },
    {
      "cell_type": "markdown",
      "metadata": {
        "id": "bj8Tl9M7sjmb"
      },
      "source": [
        "### Criação\n",
        "Atribuo um valor literal(True) à nova coluna chamada 'new_col'. A função lit() retorna um objeto Column. Note que este atributo é do tipo constante, ou seja, todos os seus valores são True. Normalmente este tipo de atributo não tem utilidade em modelos preditivos."
      ]
    },
    {
      "cell_type": "code",
      "execution_count": 24,
      "metadata": {
        "colab": {
          "base_uri": "https://localhost:8080/"
        },
        "id": "5Qi7KZObQsPN",
        "outputId": "18c953db-304a-428c-c8f3-ecf485a025bf"
      },
      "outputs": [
        {
          "output_type": "stream",
          "name": "stdout",
          "text": [
            "+---------+--------+-----------+--------------+---------------+-------+\n",
            "|longitude|latitude|total_rooms|total_bedrooms|ocean_proximity|new_col|\n",
            "+---------+--------+-----------+--------------+---------------+-------+\n",
            "|  -122.23|   37.88|      880.0|         129.0|       NEAR BAY|   true|\n",
            "|  -122.22|   37.86|     7099.0|        1106.0|       NEAR BAY|   true|\n",
            "|  -122.24|   37.85|     1467.0|         190.0|       NEAR BAY|   true|\n",
            "|  -122.25|   37.85|     1274.0|         235.0|       NEAR BAY|   true|\n",
            "|  -122.25|   37.85|     1627.0|         280.0|       NEAR BAY|   true|\n",
            "+---------+--------+-----------+--------------+---------------+-------+\n",
            "only showing top 5 rows\n",
            "\n",
            "time: 292 ms (started: 2023-09-29 23:25:49 +00:00)\n"
          ]
        }
      ],
      "source": [
        "houses.withColumn('new_col', lit(True)).show(5)"
      ]
    },
    {
      "cell_type": "markdown",
      "metadata": {
        "id": "hOkAB1a3s20E"
      },
      "source": [
        "Nova coluna criada a partir de uma operação matemática entre outras duas. Neste caso é preciso que os atributos sejam numéricos."
      ]
    },
    {
      "cell_type": "code",
      "execution_count": 25,
      "metadata": {
        "colab": {
          "base_uri": "https://localhost:8080/"
        },
        "id": "Qo4tlcTVRblw",
        "outputId": "c15f1dbc-32a6-460a-834c-089e2515f1d9"
      },
      "outputs": [
        {
          "output_type": "stream",
          "name": "stdout",
          "text": [
            "<class 'pyspark.sql.column.Column'>\n",
            "+---------+--------+-----------+--------------+---------------+-------------------+\n",
            "|longitude|latitude|total_rooms|total_bedrooms|ocean_proximity|            new_col|\n",
            "+---------+--------+-----------+--------------+---------------+-------------------+\n",
            "|  -122.23|   37.88|      880.0|         129.0|       NEAR BAY|0.14659090909090908|\n",
            "|  -122.22|   37.86|     7099.0|        1106.0|       NEAR BAY|0.15579659106916466|\n",
            "|  -122.24|   37.85|     1467.0|         190.0|       NEAR BAY|0.12951601908657123|\n",
            "|  -122.25|   37.85|     1274.0|         235.0|       NEAR BAY|0.18445839874411302|\n",
            "|  -122.25|   37.85|     1627.0|         280.0|       NEAR BAY| 0.1720958819913952|\n",
            "+---------+--------+-----------+--------------+---------------+-------------------+\n",
            "only showing top 5 rows\n",
            "\n",
            "time: 419 ms (started: 2023-09-29 23:25:49 +00:00)\n"
          ]
        }
      ],
      "source": [
        "result = houses['total_bedrooms'] / houses['total_rooms']\n",
        "print(type(result))\n",
        "houses.withColumn('new_col', result).show(5)"
      ]
    },
    {
      "cell_type": "markdown",
      "metadata": {
        "id": "G5JqVBMTtJH_"
      },
      "source": [
        "Nova coluna usando a função substring()."
      ]
    },
    {
      "cell_type": "code",
      "execution_count": 26,
      "metadata": {
        "colab": {
          "base_uri": "https://localhost:8080/"
        },
        "id": "WTWf5PseValt",
        "outputId": "7333962b-1d7c-4f95-bfd2-25b1c74e9618"
      },
      "outputs": [
        {
          "output_type": "stream",
          "name": "stdout",
          "text": [
            "+---------+--------+-----------+--------------+---------------+-------+\n",
            "|longitude|latitude|total_rooms|total_bedrooms|ocean_proximity|new_col|\n",
            "+---------+--------+-----------+--------------+---------------+-------+\n",
            "|  -122.23|   37.88|      880.0|         129.0|       NEAR BAY|   NEAR|\n",
            "|  -122.22|   37.86|     7099.0|        1106.0|       NEAR BAY|   NEAR|\n",
            "|  -122.24|   37.85|     1467.0|         190.0|       NEAR BAY|   NEAR|\n",
            "|  -122.25|   37.85|     1274.0|         235.0|       NEAR BAY|   NEAR|\n",
            "|  -122.25|   37.85|     1627.0|         280.0|       NEAR BAY|   NEAR|\n",
            "+---------+--------+-----------+--------------+---------------+-------+\n",
            "only showing top 5 rows\n",
            "\n",
            "time: 400 ms (started: 2023-09-29 23:25:49 +00:00)\n"
          ]
        }
      ],
      "source": [
        "houses.withColumn('new_col', substring('ocean_proximity', 1, 4)).show(5)"
      ]
    },
    {
      "cell_type": "markdown",
      "metadata": {
        "id": "3lPUpCmxtRuh"
      },
      "source": [
        "Concatenando dois atributos para formar um novo."
      ]
    },
    {
      "cell_type": "code",
      "execution_count": 27,
      "metadata": {
        "colab": {
          "base_uri": "https://localhost:8080/"
        },
        "id": "sknwYbdmmVlj",
        "outputId": "dc1f591d-2227-4f76-e98b-de9895da7217"
      },
      "outputs": [
        {
          "output_type": "stream",
          "name": "stdout",
          "text": [
            "+---------+--------+-----------+--------------+---------------+------------+\n",
            "|longitude|latitude|total_rooms|total_bedrooms|ocean_proximity|     new_col|\n",
            "+---------+--------+-----------+--------------+---------------+------------+\n",
            "|  -122.23|   37.88|      880.0|         129.0|       NEAR BAY|37.88-122.23|\n",
            "|  -122.22|   37.86|     7099.0|        1106.0|       NEAR BAY|37.86-122.22|\n",
            "|  -122.24|   37.85|     1467.0|         190.0|       NEAR BAY|37.85-122.24|\n",
            "|  -122.25|   37.85|     1274.0|         235.0|       NEAR BAY|37.85-122.25|\n",
            "|  -122.25|   37.85|     1627.0|         280.0|       NEAR BAY|37.85-122.25|\n",
            "|  -122.25|   37.85|      919.0|         213.0|       NEAR BAY|37.85-122.25|\n",
            "|  -122.25|   37.84|     2535.0|         489.0|       NEAR BAY|37.84-122.25|\n",
            "|  -122.25|   37.84|     3104.0|         687.0|       NEAR BAY|37.84-122.25|\n",
            "|  -122.26|   37.84|     2555.0|         665.0|       NEAR BAY|37.84-122.26|\n",
            "|  -122.25|   37.84|     3549.0|         707.0|       NEAR BAY|37.84-122.25|\n",
            "+---------+--------+-----------+--------------+---------------+------------+\n",
            "only showing top 10 rows\n",
            "\n",
            "time: 517 ms (started: 2023-09-29 23:25:50 +00:00)\n"
          ]
        }
      ],
      "source": [
        "houses.withColumn('new_col', concat(houses['latitude'], houses['longitude'])).show(10)"
      ]
    },
    {
      "cell_type": "code",
      "execution_count": 28,
      "metadata": {
        "colab": {
          "base_uri": "https://localhost:8080/"
        },
        "id": "nHV3Ia0RmzkO",
        "outputId": "858283ba-be01-40a4-ce65-98893955b07c"
      },
      "outputs": [
        {
          "output_type": "stream",
          "name": "stdout",
          "text": [
            "+---------+--------+-----------+--------------+---------------+---------------+\n",
            "|longitude|latitude|total_rooms|total_bedrooms|ocean_proximity|        new_col|\n",
            "+---------+--------+-----------+--------------+---------------+---------------+\n",
            "|  -122.23|   37.88|      880.0|         129.0|       NEAR BAY|37.88 # -122.23|\n",
            "|  -122.22|   37.86|     7099.0|        1106.0|       NEAR BAY|37.86 # -122.22|\n",
            "|  -122.24|   37.85|     1467.0|         190.0|       NEAR BAY|37.85 # -122.24|\n",
            "|  -122.25|   37.85|     1274.0|         235.0|       NEAR BAY|37.85 # -122.25|\n",
            "|  -122.25|   37.85|     1627.0|         280.0|       NEAR BAY|37.85 # -122.25|\n",
            "|  -122.25|   37.85|      919.0|         213.0|       NEAR BAY|37.85 # -122.25|\n",
            "|  -122.25|   37.84|     2535.0|         489.0|       NEAR BAY|37.84 # -122.25|\n",
            "|  -122.25|   37.84|     3104.0|         687.0|       NEAR BAY|37.84 # -122.25|\n",
            "|  -122.26|   37.84|     2555.0|         665.0|       NEAR BAY|37.84 # -122.26|\n",
            "|  -122.25|   37.84|     3549.0|         707.0|       NEAR BAY|37.84 # -122.25|\n",
            "+---------+--------+-----------+--------------+---------------+---------------+\n",
            "only showing top 10 rows\n",
            "\n",
            "time: 415 ms (started: 2023-09-29 23:25:50 +00:00)\n"
          ]
        }
      ],
      "source": [
        "houses.withColumn('new_col', concat_ws(' # ', houses['latitude'], houses['longitude'])).show(10)"
      ]
    },
    {
      "cell_type": "markdown",
      "metadata": {
        "id": "_agI0PZ03kP0"
      },
      "source": [
        "### Remoção\n",
        "\n",
        "A função usada para se romover colunas já foi utilizada no início do kernel, na sessão de leitura de arquivos, mas vou apresentar aqui. A função usada para isso é drop(). Abaixo, crio duas colunas para depois removê-las."
      ]
    },
    {
      "cell_type": "code",
      "execution_count": 29,
      "metadata": {
        "colab": {
          "base_uri": "https://localhost:8080/"
        },
        "id": "zcHztdpa41XV",
        "outputId": "0c6d9700-7a50-4d55-e625-40339642753d"
      },
      "outputs": [
        {
          "output_type": "stream",
          "name": "stdout",
          "text": [
            "time: 70.9 ms (started: 2023-09-29 23:25:51 +00:00)\n"
          ]
        }
      ],
      "source": [
        "houses = houses.withColumn('new_col_1', lit(True))\n",
        "houses = houses.withColumn('new_col_2', lit(False))\n",
        "houses = houses.drop('new_col_1', 'new_col_2')"
      ]
    },
    {
      "cell_type": "markdown",
      "metadata": {
        "id": "tw0IbmPXQqI-"
      },
      "source": [
        "### Conversão de tipo"
      ]
    },
    {
      "cell_type": "code",
      "execution_count": 30,
      "metadata": {
        "colab": {
          "base_uri": "https://localhost:8080/"
        },
        "id": "7znkS1kzQvlJ",
        "outputId": "c17e4876-5dc7-4df8-d1bd-20eb78107c8c"
      },
      "outputs": [
        {
          "output_type": "stream",
          "name": "stdout",
          "text": [
            "+---------+--------+-----------+--------------+---------------+\n",
            "|longitude|latitude|total_rooms|total_bedrooms|ocean_proximity|\n",
            "+---------+--------+-----------+--------------+---------------+\n",
            "|  -122.23|   37.88|      880.0|         129.0|       NEAR BAY|\n",
            "|  -122.22|   37.86|     7099.0|        1106.0|       NEAR BAY|\n",
            "|  -122.24|   37.85|     1467.0|         190.0|       NEAR BAY|\n",
            "|  -122.25|   37.85|     1274.0|         235.0|       NEAR BAY|\n",
            "|  -122.25|   37.85|     1627.0|         280.0|       NEAR BAY|\n",
            "+---------+--------+-----------+--------------+---------------+\n",
            "only showing top 5 rows\n",
            "\n",
            "time: 398 ms (started: 2023-09-29 23:25:51 +00:00)\n"
          ]
        }
      ],
      "source": [
        "houses.withColumn('latitude', col('latitude').cast(FloatType())).show(5)"
      ]
    },
    {
      "cell_type": "markdown",
      "metadata": {
        "id": "lptmUlt7uQuF"
      },
      "source": [
        "Os exemplos a seguir ilustram duas maneiras de se converter strings que representam datas. Primeiro, apresento um forma de extrair os componentes, dia, mês e ano. No bloco de código abaixo, em \"birth date\", note que o separador desses componentes é um ponto \".\"."
      ]
    },
    {
      "cell_type": "code",
      "execution_count": 31,
      "metadata": {
        "colab": {
          "base_uri": "https://localhost:8080/"
        },
        "id": "snA5ev8aS0Qi",
        "outputId": "e2e6e70e-a27b-43c1-f34c-5cd6fdeaec11"
      },
      "outputs": [
        {
          "output_type": "stream",
          "name": "stdout",
          "text": [
            "+---------+----+------------------+----------+----------+------+------+\n",
            "|     team|pos.| fifa popular name|birth date|shirt name|height|weight|\n",
            "+---------+----+------------------+----------+----------+------+------+\n",
            "|Argentina|  DF|TAGLIAFICO Nicolas|31.08.1992|TAGLIAFICO|   169|    65|\n",
            "|Argentina|  MF|    PAVON Cristian|21.01.1996|     PAVÓN|   169|    65|\n",
            "|Argentina|  MF|    LANZINI Manuel|15.02.1993|   LANZINI|   167|    66|\n",
            "+---------+----+------------------+----------+----------+------+------+\n",
            "only showing top 3 rows\n",
            "\n",
            "time: 292 ms (started: 2023-09-29 23:25:51 +00:00)\n"
          ]
        }
      ],
      "source": [
        "players.show(3)"
      ]
    },
    {
      "cell_type": "code",
      "execution_count": 32,
      "metadata": {
        "colab": {
          "base_uri": "https://localhost:8080/"
        },
        "id": "yUX4KfScuj0j",
        "outputId": "e6b8ce5f-e1da-41e8-efd0-42e1960104d5"
      },
      "outputs": [
        {
          "output_type": "stream",
          "name": "stdout",
          "text": [
            "+---------+----+------------------+----------+----------+------+------+---+---+----+\n",
            "|     team|pos.| fifa popular name|birth date|shirt name|height|weight|dia|mes| ano|\n",
            "+---------+----+------------------+----------+----------+------+------+---+---+----+\n",
            "|Argentina|  DF|TAGLIAFICO Nicolas|31.08.1992|TAGLIAFICO|   169|    65| 31|  8|1992|\n",
            "|Argentina|  MF|    PAVON Cristian|21.01.1996|     PAVÓN|   169|    65| 21|  1|1996|\n",
            "|Argentina|  MF|    LANZINI Manuel|15.02.1993|   LANZINI|   167|    66| 15|  2|1993|\n",
            "|Argentina|  DF|    SALVIO Eduardo|13.07.1990|    SALVIO|   167|    69| 13|  7|1990|\n",
            "|Argentina|  FW|      MESSI Lionel|24.06.1987|     MESSI|   170|    72| 24|  6|1987|\n",
            "+---------+----+------------------+----------+----------+------+------+---+---+----+\n",
            "only showing top 5 rows\n",
            "\n",
            "root\n",
            " |-- team: string (nullable = true)\n",
            " |-- pos.: string (nullable = true)\n",
            " |-- fifa popular name: string (nullable = true)\n",
            " |-- birth date: string (nullable = true)\n",
            " |-- shirt name: string (nullable = true)\n",
            " |-- height: integer (nullable = true)\n",
            " |-- weight: integer (nullable = true)\n",
            " |-- dia: integer (nullable = true)\n",
            " |-- mes: integer (nullable = true)\n",
            " |-- ano: integer (nullable = true)\n",
            "\n",
            "time: 3.15 s (started: 2023-09-29 23:25:52 +00:00)\n"
          ]
        }
      ],
      "source": [
        "dia = udf(lambda date:date.split('.')[0])\n",
        "mes = udf(lambda date:date.split('.')[1])\n",
        "ano = udf(lambda date:date.split('.')[2])\n",
        "\n",
        "players = players.withColumn('dia', dia('birth date'))\n",
        "players = players.withColumn('mes', mes('birth date'))\n",
        "players = players.withColumn('ano', ano('birth date'))\n",
        "\n",
        "# convertendo o tipo string para int\n",
        "players = players.withColumn('dia', col('dia').cast(IntegerType()))\n",
        "players = players.withColumn('mes', col('mes').cast(IntegerType()))\n",
        "players = players.withColumn('ano', col('ano').cast(IntegerType()))\n",
        "\n",
        "players.show(5)\n",
        "players.printSchema()"
      ]
    },
    {
      "cell_type": "markdown",
      "metadata": {
        "id": "bWSmfgQWXe4g"
      },
      "source": [
        "Outra forma de conversão é utilizando a função to_date(). Neste caso não há separação explícita dos componentes e precisamos informar o formato das datas."
      ]
    },
    {
      "cell_type": "code",
      "execution_count": 33,
      "metadata": {
        "colab": {
          "base_uri": "https://localhost:8080/"
        },
        "id": "lh_JlUfxXm6f",
        "outputId": "f2c38292-bbe4-4605-ce44-98bdb6a03075"
      },
      "outputs": [
        {
          "output_type": "stream",
          "name": "stdout",
          "text": [
            "root\n",
            " |-- team: string (nullable = true)\n",
            " |-- pos.: string (nullable = true)\n",
            " |-- fifa popular name: string (nullable = true)\n",
            " |-- birth date: date (nullable = true)\n",
            " |-- shirt name: string (nullable = true)\n",
            " |-- height: integer (nullable = true)\n",
            " |-- weight: integer (nullable = true)\n",
            " |-- dia: integer (nullable = true)\n",
            " |-- mes: integer (nullable = true)\n",
            " |-- ano: integer (nullable = true)\n",
            "\n",
            "time: 58.2 ms (started: 2023-09-29 23:25:55 +00:00)\n"
          ]
        }
      ],
      "source": [
        "players = players.withColumn(\"birth date\", to_date(col(\"birth date\"), \"dd.MM.yyyy\"))\n",
        "# ou\n",
        "players = players.withColumn(\"birth date\", to_date(col(\"birth date\"), \"dd.MM.yyyy\"))\n",
        "#players = players.withColumn(\"birth date\", to_date(col(\"birth date\"), \"dd.MM.yyyy\").cast(DateType()))\n",
        "players.printSchema()"
      ]
    },
    {
      "cell_type": "markdown",
      "metadata": {
        "id": "bxW2V5La0mQR"
      },
      "source": [
        "## Linhas\n",
        "\n",
        "Percorrendo as linhas do dataframe individualmente."
      ]
    },
    {
      "cell_type": "code",
      "execution_count": 34,
      "metadata": {
        "colab": {
          "base_uri": "https://localhost:8080/"
        },
        "id": "Y7CJWX2S0sdn",
        "outputId": "1f6f6cb9-6d21-459e-8fb2-16a8ec169202"
      },
      "outputs": [
        {
          "output_type": "stream",
          "name": "stdout",
          "text": [
            "Row(longitude=-122.23, latitude=37.88, total_rooms=880.0, total_bedrooms=129.0, ocean_proximity='NEAR BAY')\n",
            "-122.23 37.88 NEAR BAY\n",
            "\n",
            "Row(longitude=-122.22, latitude=37.86, total_rooms=7099.0, total_bedrooms=1106.0, ocean_proximity='NEAR BAY')\n",
            "-122.22 37.86 NEAR BAY\n",
            "\n",
            "Row(longitude=-122.24, latitude=37.85, total_rooms=1467.0, total_bedrooms=190.0, ocean_proximity='NEAR BAY')\n",
            "-122.24 37.85 NEAR BAY\n",
            "\n",
            "time: 566 ms (started: 2023-09-29 23:25:55 +00:00)\n"
          ]
        }
      ],
      "source": [
        "acum = 0;\n",
        "for r in houses.collect():\n",
        "  if acum == 3:\n",
        "    break\n",
        "  print(r)\n",
        "  print(r[0], r[1], r[-1])\n",
        "  print()\n",
        "  acum += 1"
      ]
    },
    {
      "cell_type": "markdown",
      "metadata": {
        "id": "PiY9YFQcuj9D"
      },
      "source": [
        "## Valores NaN"
      ]
    },
    {
      "cell_type": "markdown",
      "metadata": {
        "id": "rx8fAg-0tzHZ"
      },
      "source": [
        "### Identificação"
      ]
    },
    {
      "cell_type": "code",
      "execution_count": 35,
      "metadata": {
        "colab": {
          "base_uri": "https://localhost:8080/"
        },
        "id": "YCL_rGlqr825",
        "outputId": "fe40430a-e1d8-4286-fd76-c7002773bd1d"
      },
      "outputs": [
        {
          "output_type": "stream",
          "name": "stdout",
          "text": [
            "name: 3\n",
            "age: 1\n",
            "experience: 2\n",
            "salary: 1\n",
            "time: 1.69 s (started: 2023-09-29 23:25:55 +00:00)\n"
          ]
        }
      ],
      "source": [
        "for column in company.columns:\n",
        "  mask = company[column].isNull()\n",
        "  nan_amount = company.filter(mask).count()\n",
        "  print(f'{column}: {nan_amount}')"
      ]
    },
    {
      "cell_type": "markdown",
      "metadata": {
        "id": "hYa-gQOs2FfD"
      },
      "source": [
        "### Tratamento\n",
        "\n",
        "Quando identificados, o tratamento de valores NaN pode ser feito de três maneiras.\n",
        "* drop(): remove as linhas que contém valores NaN.\n",
        "* fill(): Substitui valores NaN por um numérico, booleano ou string.\n",
        "* replace(): Susbtitui valores por None ou qualquer outro desde que sejam do mesmo tipo."
      ]
    },
    {
      "cell_type": "markdown",
      "metadata": {
        "id": "KB0si32XYkM_"
      },
      "source": [
        "Remove uma linha se ela contiver no mínimo um atributo NaN."
      ]
    },
    {
      "cell_type": "code",
      "execution_count": 36,
      "metadata": {
        "colab": {
          "base_uri": "https://localhost:8080/"
        },
        "id": "fKkU9kUiYxFY",
        "outputId": "e3504ee2-3860-4dca-c3a8-3801df476dc6"
      },
      "outputs": [
        {
          "output_type": "stream",
          "name": "stdout",
          "text": [
            "+-------+---+----------+------+\n",
            "|   name|age|experience|salary|\n",
            "+-------+---+----------+------+\n",
            "|  Krish| 31|        10| 40000|\n",
            "|    Rob| 25|         8| 99999|\n",
            "|  Sunny| 29|         2| 30000|\n",
            "|   Paul| 24|         0| 30000|\n",
            "|  Cauby| 23|         6| 15000|\n",
            "|Claudio| 45|        12| 18000|\n",
            "+-------+---+----------+------+\n",
            "\n",
            "time: 394 ms (started: 2023-09-29 23:25:57 +00:00)\n"
          ]
        }
      ],
      "source": [
        "company.na.drop(how='any').show()"
      ]
    },
    {
      "cell_type": "markdown",
      "metadata": {
        "id": "L5Qrhb-NY2oo"
      },
      "source": [
        "Remove uma linha se todos os atributos forem NaN."
      ]
    },
    {
      "cell_type": "code",
      "execution_count": 37,
      "metadata": {
        "colab": {
          "base_uri": "https://localhost:8080/"
        },
        "id": "9-DWGUFOY1AW",
        "outputId": "9d127e94-3a30-4d08-e739-d50d9f176e47"
      },
      "outputs": [
        {
          "output_type": "stream",
          "name": "stdout",
          "text": [
            "+-------+----+----------+------+\n",
            "|   name| age|experience|salary|\n",
            "+-------+----+----------+------+\n",
            "|  Krish|  31|        10| 40000|\n",
            "|    Rob|  25|         8| 99999|\n",
            "|  Sunny|  29|         2| 30000|\n",
            "|   Paul|  24|         0| 30000|\n",
            "|  Cauby|  23|         6| 15000|\n",
            "|Claudio|  45|        12| 18000|\n",
            "|   NULL|NULL|      NULL| 40000|\n",
            "|   NULL|  34|        10| 38000|\n",
            "|   NULL|  36|      NULL|  NULL|\n",
            "+-------+----+----------+------+\n",
            "\n",
            "time: 353 ms (started: 2023-09-29 23:25:58 +00:00)\n"
          ]
        }
      ],
      "source": [
        "company.na.drop(how='all').show()"
      ]
    },
    {
      "cell_type": "markdown",
      "metadata": {
        "id": "rHkQbkiJY_ou"
      },
      "source": [
        "Remove uma linha se ela tiver menos que \"thresh\" atributos válidos. Ou seja, para uma linha ser válida e não ser removida ela deve conter no mínimo \"thresh\" atributos não nulos."
      ]
    },
    {
      "cell_type": "code",
      "execution_count": 38,
      "metadata": {
        "colab": {
          "base_uri": "https://localhost:8080/"
        },
        "id": "U9vJO0UVY-zO",
        "outputId": "19d9f566-50ea-4402-fd61-003837c7accb"
      },
      "outputs": [
        {
          "output_type": "stream",
          "name": "stdout",
          "text": [
            "+-------+---+----------+------+\n",
            "|   name|age|experience|salary|\n",
            "+-------+---+----------+------+\n",
            "|  Krish| 31|        10| 40000|\n",
            "|    Rob| 25|         8| 99999|\n",
            "|  Sunny| 29|         2| 30000|\n",
            "|   Paul| 24|         0| 30000|\n",
            "|  Cauby| 23|         6| 15000|\n",
            "|Claudio| 45|        12| 18000|\n",
            "|   NULL| 34|        10| 38000|\n",
            "+-------+---+----------+------+\n",
            "\n",
            "time: 352 ms (started: 2023-09-29 23:25:58 +00:00)\n"
          ]
        }
      ],
      "source": [
        "company.na.drop(thresh=2).show()"
      ]
    },
    {
      "cell_type": "markdown",
      "metadata": {
        "id": "BMesDM6i8mE2"
      },
      "source": [
        "Preenche cada NaN encontrado com a string \"unknown\". Essa função vai verificar o tipo de dado do argumento passado para o parâmetro \"value\" e vai fazer a atribução apenas nas colunas que forem do mesmo tipo. Isso evita que um atributo numérico, mas com campos NaN seja preenchido com uma string definida em \"value\", por exemplo. No exemplo abaixo, note que os campos NaN apenas do atributo \"name\" são preenchidos com \"unknown\"."
      ]
    },
    {
      "cell_type": "code",
      "execution_count": 39,
      "metadata": {
        "colab": {
          "base_uri": "https://localhost:8080/"
        },
        "id": "JKYeTH7fW-ky",
        "outputId": "3413d692-92cd-4f7c-ce9c-6bb2b5a158cc"
      },
      "outputs": [
        {
          "output_type": "stream",
          "name": "stdout",
          "text": [
            "+-------+----+----------+------+\n",
            "|   name| age|experience|salary|\n",
            "+-------+----+----------+------+\n",
            "|  Krish|  31|        10| 40000|\n",
            "|    Rob|  25|         8| 99999|\n",
            "|  Sunny|  29|         2| 30000|\n",
            "|   Paul|  24|         0| 30000|\n",
            "|  Cauby|  23|         6| 15000|\n",
            "|Claudio|  45|        12| 18000|\n",
            "|unknown|NULL|      NULL| 40000|\n",
            "|unknown|  34|        10| 38000|\n",
            "|unknown|  36|      NULL|  NULL|\n",
            "+-------+----+----------+------+\n",
            "\n",
            "time: 318 ms (started: 2023-09-29 23:25:58 +00:00)\n"
          ]
        }
      ],
      "source": [
        "company.na.fill(value=\"unknown\", subset=['name', 'age']).show()"
      ]
    },
    {
      "cell_type": "markdown",
      "metadata": {
        "id": "qvih4YyxF9j-"
      },
      "source": [
        "A função `fillna()` faz a mesma verificação de tipo fazendo atribuição apenas nos atributos que são do mesmo tipo de dado que \"value\"."
      ]
    },
    {
      "cell_type": "code",
      "execution_count": 40,
      "metadata": {
        "colab": {
          "base_uri": "https://localhost:8080/"
        },
        "id": "yR_sDnIC2G_r",
        "outputId": "05f2b892-6476-4627-e8bb-23b66141e57f"
      },
      "outputs": [
        {
          "output_type": "stream",
          "name": "stdout",
          "text": [
            "+-------+---+----------+------+\n",
            "|   name|age|experience|salary|\n",
            "+-------+---+----------+------+\n",
            "|  Krish| 31|        10| 40000|\n",
            "|    Rob| 25|         8| 99999|\n",
            "|  Sunny| 29|         2| 30000|\n",
            "|   Paul| 24|         0| 30000|\n",
            "|  Cauby| 23|         6| 15000|\n",
            "|Claudio| 45|        12| 18000|\n",
            "|   NULL|  0|      NULL| 40000|\n",
            "|   NULL| 34|        10| 38000|\n",
            "|   NULL| 36|      NULL|  NULL|\n",
            "+-------+---+----------+------+\n",
            "\n",
            "time: 339 ms (started: 2023-09-29 23:25:59 +00:00)\n"
          ]
        }
      ],
      "source": [
        "company.fillna(value=0, subset=['name', 'age']).show()"
      ]
    },
    {
      "cell_type": "markdown",
      "metadata": {
        "id": "G8EIGSmy9ann"
      },
      "source": [
        "Também podemos fazer imputaçãode valores de uma forma mais inteligente do que definir uma string constante ou um valor aleatório. Podemos usar a estatística descritiva e obter de cada atributo a média, desvio padrão, moda, entre outras funções para a imputação."
      ]
    },
    {
      "cell_type": "code",
      "execution_count": 81,
      "metadata": {
        "colab": {
          "base_uri": "https://localhost:8080/"
        },
        "id": "MLj-pfWm-FdZ",
        "outputId": "1d830abb-58de-48fd-ebaf-81d70da16a1b"
      },
      "outputs": [
        {
          "output_type": "stream",
          "name": "stdout",
          "text": [
            "+-------+----+----------+------+-----------+------------------+\n",
            "|   name| age|experience|salary|age_imputed|experience_imputed|\n",
            "+-------+----+----------+------+-----------+------------------+\n",
            "|  Krish|  31|        10| 40000|         31|                10|\n",
            "|    Rob|  25|         8| 99999|         25|                 8|\n",
            "|  Sunny|  29|         2| 30000|         29|                 2|\n",
            "|   Paul|  24|         0| 30000|         24|                 0|\n",
            "|  Cauby|  23|         6| 15000|         23|                 6|\n",
            "|Claudio|  45|        12| 18000|         45|                12|\n",
            "|   NULL|NULL|      NULL| 40000|         30|                 6|\n",
            "|   NULL|  34|        10| 38000|         34|                10|\n",
            "|   NULL|  36|      NULL|  NULL|         36|                 6|\n",
            "+-------+----+----------+------+-----------+------------------+\n",
            "\n",
            "+--------+-----------------+\n",
            "|avg(age)|  avg(experience)|\n",
            "+--------+-----------------+\n",
            "|  30.875|6.857142857142857|\n",
            "+--------+-----------------+\n",
            "\n",
            "time: 1.48 s (started: 2023-09-29 23:26:32 +00:00)\n"
          ]
        }
      ],
      "source": [
        "from pyspark.ml.feature import Imputer\n",
        "\n",
        "imputer = Imputer(inputCols=['age', 'experience'],\n",
        "                  outputCols=['age_imputed', 'experience_imputed'])\n",
        "\n",
        "imputer = imputer.setStrategy(value=\"mean\")\n",
        "imputer.fit(company).transform(company).show()\n",
        "\n",
        "# apenas para verificação das médias\n",
        "company.select(mean('age'), mean('experience')).show()"
      ]
    },
    {
      "cell_type": "code",
      "execution_count": 42,
      "metadata": {
        "colab": {
          "base_uri": "https://localhost:8080/"
        },
        "id": "0mAouo0mIrmv",
        "outputId": "9b1cfc23-a5bc-46ec-a54b-aba83790694e"
      },
      "outputs": [
        {
          "output_type": "stream",
          "name": "stdout",
          "text": [
            "+-------+----+----------+------+\n",
            "|   name| age|experience|salary|\n",
            "+-------+----+----------+------+\n",
            "|  Krish|  31|        10| 40000|\n",
            "|    Rob|  25|        -8| 99999|\n",
            "|  Sunny|NULL|         2|-99999|\n",
            "|   Paul|  24|         0|-99999|\n",
            "|  Cauby|  23|         6| 15000|\n",
            "|Claudio|  45|        12| 18000|\n",
            "|   NULL|NULL|      NULL| 40000|\n",
            "|   NULL|  34|        10| 38000|\n",
            "|   NULL|  36|      NULL|  NULL|\n",
            "+-------+----+----------+------+\n",
            "\n",
            "+-------+----+----------+------+\n",
            "|   name| age|experience|salary|\n",
            "+-------+----+----------+------+\n",
            "|  Krish|  31|        10| 40000|\n",
            "|   NULL|  25|         8| 99999|\n",
            "|  Sunny|  29|         2| 30000|\n",
            "|   Paul|  24|         0| 30000|\n",
            "|  Cauby|  23|         6| 15000|\n",
            "|Claudio|  45|        12| 18000|\n",
            "|   NULL|NULL|      NULL| 40000|\n",
            "|   NULL|  34|        10| 38000|\n",
            "|   NULL|  36|      NULL|  NULL|\n",
            "+-------+----+----------+------+\n",
            "\n",
            "time: 691 ms (started: 2023-09-29 23:26:01 +00:00)\n"
          ]
        }
      ],
      "source": [
        "company.na.replace(to_replace={29:None, 8:-8, 30000:-99999}, subset=['age', 'salary', 'experience']).show()\n",
        "\n",
        "# é preciso substituir valores de \"name\" separadamente pois este atributo é do tipo string e os outros são numéricos.\n",
        "company.na.replace(to_replace={\"Rob\":None}, subset=['name']).show()"
      ]
    },
    {
      "cell_type": "markdown",
      "metadata": {
        "id": "1W91ziDzymS7"
      },
      "source": [
        "# Instruções SQL\n",
        "Esta sessão contém exemplos de código de funções do PySpark que implementam instruções da linguagem de consulta SQL."
      ]
    },
    {
      "cell_type": "markdown",
      "metadata": {
        "id": "pjPSJv7YPx08"
      },
      "source": [
        "## SELECT"
      ]
    },
    {
      "cell_type": "code",
      "execution_count": 43,
      "metadata": {
        "colab": {
          "base_uri": "https://localhost:8080/"
        },
        "id": "I4M9QyqyxWWu",
        "outputId": "da2bc56f-e64b-44f8-dfcf-ee0a29650199"
      },
      "outputs": [
        {
          "output_type": "stream",
          "name": "stdout",
          "text": [
            "<class 'pyspark.sql.dataframe.DataFrame'>\n",
            "+---------+--------+\n",
            "|longitude|latitude|\n",
            "+---------+--------+\n",
            "|  -122.23|   37.88|\n",
            "|  -122.22|   37.86|\n",
            "|  -122.24|   37.85|\n",
            "|  -122.25|   37.85|\n",
            "|  -122.25|   37.85|\n",
            "+---------+--------+\n",
            "only showing top 5 rows\n",
            "\n",
            "time: 184 ms (started: 2023-09-29 23:26:02 +00:00)\n"
          ]
        }
      ],
      "source": [
        "print(type(houses.select(['longitude', 'latitude'])))\n",
        "houses.select(['longitude', 'latitude']).show(5)"
      ]
    },
    {
      "cell_type": "markdown",
      "metadata": {
        "id": "K0TmUCh3I_XI"
      },
      "source": [
        "Forma alternativa utilizando a função col() que retorna um objeto da classe Column."
      ]
    },
    {
      "cell_type": "code",
      "execution_count": 44,
      "metadata": {
        "colab": {
          "base_uri": "https://localhost:8080/"
        },
        "id": "HKWtaCa5HLRI",
        "outputId": "2e06bfb4-4b10-4c2c-a19f-2b5c90bb3b07"
      },
      "outputs": [
        {
          "output_type": "stream",
          "name": "stdout",
          "text": [
            "<class 'pyspark.sql.dataframe.DataFrame'>\n",
            "+--------+---------+\n",
            "|latitude|longitude|\n",
            "+--------+---------+\n",
            "|   37.88|  -122.23|\n",
            "|   37.86|  -122.22|\n",
            "|   37.85|  -122.24|\n",
            "|   37.85|  -122.25|\n",
            "|   37.85|  -122.25|\n",
            "+--------+---------+\n",
            "only showing top 5 rows\n",
            "\n",
            "time: 166 ms (started: 2023-09-29 23:26:02 +00:00)\n"
          ]
        }
      ],
      "source": [
        "print(type(houses.select([col('latitude'), col('longitude')])))\n",
        "houses.select([col('latitude'), col('longitude')]).show(5)"
      ]
    },
    {
      "cell_type": "markdown",
      "metadata": {
        "id": "ab5fNRH7ZDmU"
      },
      "source": [
        "As principais funções de estatística descritiva disponíveis no PySpark são:\n",
        "*   min()\n",
        "*   max()\n",
        "*   count()\n",
        "*   std() ou stddev()\n",
        "*   mode()\n",
        "\n",
        "Abaixo, um exemplo de como se obter o menor valor de uma coluna."
      ]
    },
    {
      "cell_type": "code",
      "execution_count": 45,
      "metadata": {
        "colab": {
          "base_uri": "https://localhost:8080/"
        },
        "id": "EB-D_xR_YVRR",
        "outputId": "a65d6ee7-b9ed-406c-b3ae-2280ba6edea2"
      },
      "outputs": [
        {
          "output_type": "stream",
          "name": "stdout",
          "text": [
            "+-------------------+\n",
            "|min(total_bedrooms)|\n",
            "+-------------------+\n",
            "|                1.0|\n",
            "+-------------------+\n",
            "\n",
            "time: 624 ms (started: 2023-09-29 23:26:02 +00:00)\n"
          ]
        }
      ],
      "source": [
        "houses.select(min('total_bedrooms')).show(1)"
      ]
    },
    {
      "cell_type": "markdown",
      "metadata": {
        "id": "FMJL0sd2398C"
      },
      "source": [
        "## WHERE\n",
        "A string passada como argumento da função where() deve seguir o padrão SQL. Note que nessa string o nome da coluna não fica entre àspas, mas o valor, sim. Além disso, o sinal de igualdade é apenas um \"=\". Isso contece porque em SQL igualdades são verificadas dessa maneira.\n",
        "\n",
        "Uma alternativa é a função filter() que pode ser usada da mesma forma."
      ]
    },
    {
      "cell_type": "code",
      "execution_count": 46,
      "metadata": {
        "colab": {
          "base_uri": "https://localhost:8080/"
        },
        "id": "Xidh2TQC4WEd",
        "outputId": "10a05350-b7c1-492d-bba7-ed5252afaab5"
      },
      "outputs": [
        {
          "output_type": "stream",
          "name": "stdout",
          "text": [
            "+------+----+-----------------+----------+-----------+------+------+---+---+----+\n",
            "|  team|pos.|fifa popular name|birth date| shirt name|height|weight|dia|mes| ano|\n",
            "+------+----+-----------------+----------+-----------+------+------+---+---+----+\n",
            "|Brazil|  MF|             FRED|1993-03-05|       FRED|   169|    64|  5|  3|1993|\n",
            "|Brazil|  FW|           TAISON|1988-01-13|     TAISON|   172|    64| 13|  1|1988|\n",
            "|Brazil|  MF|      FERNANDINHO|1985-05-04|FERNANDINHO|   179|    67|  4|  5|1985|\n",
            "|Brazil|  DF|           FAGNER|1989-06-11|     FAGNER|   168|    67| 11|  6|1989|\n",
            "|Brazil|  FW|           NEYMAR|1992-02-05|  NEYMAR JR|   175|    68|  5|  2|1992|\n",
            "+------+----+-----------------+----------+-----------+------+------+---+---+----+\n",
            "only showing top 5 rows\n",
            "\n",
            "time: 551 ms (started: 2023-09-29 23:26:03 +00:00)\n"
          ]
        }
      ],
      "source": [
        "players.where(\"team = 'Brazil'\").show(5)"
      ]
    },
    {
      "cell_type": "code",
      "execution_count": 47,
      "metadata": {
        "colab": {
          "base_uri": "https://localhost:8080/"
        },
        "id": "XJwOW85d5FV2",
        "outputId": "a5b420d6-6db7-481e-ee64-bcfa84167c84"
      },
      "outputs": [
        {
          "output_type": "stream",
          "name": "stdout",
          "text": [
            "Column<'(team = Argentina)'>\n",
            "+---------+----+------------------+----------+----------+------+------+---+---+----+\n",
            "|     team|pos.| fifa popular name|birth date|shirt name|height|weight|dia|mes| ano|\n",
            "+---------+----+------------------+----------+----------+------+------+---+---+----+\n",
            "|Argentina|  DF|TAGLIAFICO Nicolas|1992-08-31|TAGLIAFICO|   169|    65| 31|  8|1992|\n",
            "|Argentina|  MF|    PAVON Cristian|1996-01-21|     PAVÓN|   169|    65| 21|  1|1996|\n",
            "|Argentina|  MF|    LANZINI Manuel|1993-02-15|   LANZINI|   167|    66| 15|  2|1993|\n",
            "|Argentina|  DF|    SALVIO Eduardo|1990-07-13|    SALVIO|   167|    69| 13|  7|1990|\n",
            "|Argentina|  FW|      MESSI Lionel|1987-06-24|     MESSI|   170|    72| 24|  6|1987|\n",
            "+---------+----+------------------+----------+----------+------+------+---+---+----+\n",
            "only showing top 5 rows\n",
            "\n",
            "time: 495 ms (started: 2023-09-29 23:26:03 +00:00)\n"
          ]
        }
      ],
      "source": [
        "mask = players['team'] == 'Argentina'\n",
        "print(mask)\n",
        "players.where(mask).show(5)"
      ]
    },
    {
      "cell_type": "code",
      "execution_count": 48,
      "metadata": {
        "colab": {
          "base_uri": "https://localhost:8080/"
        },
        "id": "0xmj005pIvLE",
        "outputId": "343e5653-1d2b-43f3-97da-88dbe37939f2"
      },
      "outputs": [
        {
          "output_type": "stream",
          "name": "stdout",
          "text": [
            "Column<'(shirt name = MESSI)'>\n",
            "+---------+----+-----------------+----------+----------+------+------+---+---+----+\n",
            "|     team|pos.|fifa popular name|birth date|shirt name|height|weight|dia|mes| ano|\n",
            "+---------+----+-----------------+----------+----------+------+------+---+---+----+\n",
            "|Argentina|  FW|     MESSI Lionel|1987-06-24|     MESSI|   170|    72| 24|  6|1987|\n",
            "+---------+----+-----------------+----------+----------+------+------+---+---+----+\n",
            "\n",
            "time: 531 ms (started: 2023-09-29 23:26:04 +00:00)\n"
          ]
        }
      ],
      "source": [
        "mask = (col('shirt name') == 'MESSI')\n",
        "print(mask)\n",
        "players.filter(mask).show(5)"
      ]
    },
    {
      "cell_type": "markdown",
      "metadata": {
        "id": "O7cHwIHhJCvZ"
      },
      "source": [
        "### Filtros compostos"
      ]
    },
    {
      "cell_type": "code",
      "execution_count": 49,
      "metadata": {
        "colab": {
          "base_uri": "https://localhost:8080/"
        },
        "id": "2nUad3qtJD_O",
        "outputId": "a027e19b-498c-4158-8dfa-7475a0a8d1f3"
      },
      "outputs": [
        {
          "output_type": "stream",
          "name": "stdout",
          "text": [
            "team = 'Brazil' AND height < 170\n",
            "+------+----+-----------------+----------+----------+------+------+---+---+----+\n",
            "|  team|pos.|fifa popular name|birth date|shirt name|height|weight|dia|mes| ano|\n",
            "+------+----+-----------------+----------+----------+------+------+---+---+----+\n",
            "|Brazil|  MF|             FRED|1993-03-05|      FRED|   169|    64|  5|  3|1993|\n",
            "|Brazil|  DF|           FAGNER|1989-06-11|    FAGNER|   168|    67| 11|  6|1989|\n",
            "+------+----+-----------------+----------+----------+------+------+---+---+----+\n",
            "\n",
            "time: 940 ms (started: 2023-09-29 23:26:04 +00:00)\n"
          ]
        }
      ],
      "source": [
        "mask = (\"team = 'Brazil' AND height < 170\")\n",
        "print(mask)\n",
        "players.where(mask).show(5)"
      ]
    },
    {
      "cell_type": "code",
      "execution_count": 50,
      "metadata": {
        "colab": {
          "base_uri": "https://localhost:8080/"
        },
        "id": "3GvVbsLVKMJ3",
        "outputId": "e1a45a02-c8ae-4b90-8752-43d3482c47e4"
      },
      "outputs": [
        {
          "output_type": "stream",
          "name": "stdout",
          "text": [
            "Column<'((team = Brazil) AND (height < 170))'>\n",
            "+------+----+-----------------+----------+----------+------+------+---+---+----+\n",
            "|  team|pos.|fifa popular name|birth date|shirt name|height|weight|dia|mes| ano|\n",
            "+------+----+-----------------+----------+----------+------+------+---+---+----+\n",
            "|Brazil|  MF|             FRED|1993-03-05|      FRED|   169|    64|  5|  3|1993|\n",
            "|Brazil|  DF|           FAGNER|1989-06-11|    FAGNER|   168|    67| 11|  6|1989|\n",
            "+------+----+-----------------+----------+----------+------+------+---+---+----+\n",
            "\n",
            "time: 990 ms (started: 2023-09-29 23:26:05 +00:00)\n"
          ]
        }
      ],
      "source": [
        "mask = (col('team') == 'Brazil') & (col('height') < 170)\n",
        "print(mask)\n",
        "players.where(mask).show(5)"
      ]
    },
    {
      "cell_type": "markdown",
      "metadata": {
        "id": "tBUSxEFhyk6y"
      },
      "source": [
        "## ORDER BY"
      ]
    },
    {
      "cell_type": "code",
      "execution_count": 51,
      "metadata": {
        "colab": {
          "base_uri": "https://localhost:8080/"
        },
        "id": "QDNyiDRQzja3",
        "outputId": "2d17103b-79a3-407c-8e7b-0a3ede64a629"
      },
      "outputs": [
        {
          "output_type": "stream",
          "name": "stdout",
          "text": [
            "Column<'ano AS DESC'>\n",
            "+---------+----+------------------+----------+-----------+------+------+---+---+----+\n",
            "|     team|pos.| fifa popular name|birth date| shirt name|height|weight|dia|mes| ano|\n",
            "+---------+----+------------------+----------+-----------+------+------+---+---+----+\n",
            "|    Egypt|  GK|   ESSAM EL HADARY|1973-01-15|   ELHADARY|   190|    90| 15|  1|1973|\n",
            "|   Mexico|  DF|    MARQUEZ Rafael|1979-02-13| R. MÁRQUEZ|   184|    77| 13|  2|1979|\n",
            "|Australia|  FW|        CAHILL Tim|1979-12-06|     CAHILL|   180|    76|  6| 12|1979|\n",
            "|   Russia|  DF|IGNASHEVICH Sergey|1979-07-14|IGNASHEVICH|   186|    84| 14|  7|1979|\n",
            "|   Mexico|  GK|       CORONA Jose|1981-01-26|  J. CORONA|   182|    80| 26|  1|1981|\n",
            "|Argentina|  GK|CABALLERO Wilfredo|1981-09-28|  CABALLERO|   186|    80| 28|  9|1981|\n",
            "|   Panama|  DF|      BALOY Felipe|1981-02-24|      BALOY|   185|    87| 24|  2|1981|\n",
            "|   Panama|  GK|      PENEDO Jaime|1981-09-26|     PENEDO|   183|    70| 26|  9|1981|\n",
            "|   Panama|  FW|        PEREZ Blas|1981-03-13|      PEREZ|   187|    83| 13|  3|1981|\n",
            "| Portugal|  DF|       BRUNO ALVES|1981-11-27|   B. ALVES|   187|    83| 27| 11|1981|\n",
            "+---------+----+------------------+----------+-----------+------+------+---+---+----+\n",
            "only showing top 10 rows\n",
            "\n",
            "time: 1.31 s (started: 2023-09-29 23:26:06 +00:00)\n"
          ]
        }
      ],
      "source": [
        "ex = expr(\"ano  DESC\")\n",
        "print(ex)\n",
        "players.orderBy(ex).show(10)"
      ]
    },
    {
      "cell_type": "code",
      "execution_count": 52,
      "metadata": {
        "colab": {
          "base_uri": "https://localhost:8080/"
        },
        "id": "2K_r2KDiymgI",
        "outputId": "a61f9af7-281e-4841-f4f9-1b60f83c887b"
      },
      "outputs": [
        {
          "output_type": "stream",
          "name": "stdout",
          "text": [
            "+---------+----+------------------+----------+-----------+------+------+---+---+----+\n",
            "|     team|pos.| fifa popular name|birth date| shirt name|height|weight|dia|mes| ano|\n",
            "+---------+----+------------------+----------+-----------+------+------+---+---+----+\n",
            "|    Egypt|  GK|   ESSAM EL HADARY|1973-01-15|   ELHADARY|   190|    90| 15|  1|1973|\n",
            "|   Mexico|  DF|    MARQUEZ Rafael|1979-02-13| R. MÁRQUEZ|   184|    77| 13|  2|1979|\n",
            "|Australia|  FW|        CAHILL Tim|1979-12-06|     CAHILL|   180|    76|  6| 12|1979|\n",
            "|   Russia|  DF|IGNASHEVICH Sergey|1979-07-14|IGNASHEVICH|   186|    84| 14|  7|1979|\n",
            "|   Mexico|  GK|       CORONA Jose|1981-01-26|  J. CORONA|   182|    80| 26|  1|1981|\n",
            "|Argentina|  GK|CABALLERO Wilfredo|1981-09-28|  CABALLERO|   186|    80| 28|  9|1981|\n",
            "|   Panama|  DF|      BALOY Felipe|1981-02-24|      BALOY|   185|    87| 24|  2|1981|\n",
            "|   Panama|  GK|      PENEDO Jaime|1981-09-26|     PENEDO|   183|    70| 26|  9|1981|\n",
            "|   Panama|  FW|        PEREZ Blas|1981-03-13|      PEREZ|   187|    83| 13|  3|1981|\n",
            "| Portugal|  DF|       BRUNO ALVES|1981-11-27|   B. ALVES|   187|    83| 27| 11|1981|\n",
            "+---------+----+------------------+----------+-----------+------+------+---+---+----+\n",
            "only showing top 10 rows\n",
            "\n",
            "time: 906 ms (started: 2023-09-29 23:26:08 +00:00)\n"
          ]
        }
      ],
      "source": [
        "players.sort('ano', ascending=True).show(10)"
      ]
    },
    {
      "cell_type": "markdown",
      "metadata": {
        "id": "ZkBWXq7IeIDC"
      },
      "source": [
        "## GROUP BY\n",
        "\n",
        "Tendo uma coluna como referência, todas as linhas onde os valores dessa coluna são iguais são \"colapsadas\" em apenas uma. É preciso especificar o que deve ser feito com as outras colunas caso contrário elas serão ignoradas. Normalmente aplicamos funções de estatística descritiva."
      ]
    },
    {
      "cell_type": "code",
      "execution_count": 53,
      "metadata": {
        "colab": {
          "base_uri": "https://localhost:8080/"
        },
        "id": "AI3a35dWe1c6",
        "outputId": "5c15a229-d258-4c85-c68d-6821ec897b40"
      },
      "outputs": [
        {
          "output_type": "stream",
          "name": "stdout",
          "text": [
            "+--------------+-----------------+\n",
            "|          team|      avg(weight)|\n",
            "+--------------+-----------------+\n",
            "|         Japan|71.52173913043478|\n",
            "|  Saudi Arabia|73.04347826086956|\n",
            "|      Portugal| 73.6086956521739|\n",
            "|        Mexico|74.08695652173913|\n",
            "|    Costa Rica| 74.1304347826087|\n",
            "|Korea Republic|74.43478260869566|\n",
            "|       Uruguay| 74.6086956521739|\n",
            "|       Morocco|74.65217391304348|\n",
            "|         Spain|74.73913043478261|\n",
            "|       Tunisia|             75.0|\n",
            "+--------------+-----------------+\n",
            "only showing top 10 rows\n",
            "\n",
            "time: 1.48 s (started: 2023-09-29 23:26:09 +00:00)\n"
          ]
        }
      ],
      "source": [
        "players.groupBy('team').mean('weight').orderBy('avg(weight)', ascending=True).show(10)"
      ]
    },
    {
      "cell_type": "markdown",
      "metadata": {
        "id": "nRs42OSbiBJj"
      },
      "source": [
        "Para especificar qual função de agregação deve ser usada em cada coluna podemos usar a função agg()."
      ]
    },
    {
      "cell_type": "code",
      "execution_count": 54,
      "metadata": {
        "colab": {
          "base_uri": "https://localhost:8080/"
        },
        "id": "-0bxHONmiJfe",
        "outputId": "b7f6808c-802c-4263-a529-8a603f1c995e"
      },
      "outputs": [
        {
          "output_type": "stream",
          "name": "stdout",
          "text": [
            "+--------------+-----------------+--------+-----------+\n",
            "|          team|      avg(weight)|min(dia)|max(height)|\n",
            "+--------------+-----------------+--------+-----------+\n",
            "|       Croatia|79.30434782608695|       2|        201|\n",
            "|       Denmark| 82.6086956521739|       1|        200|\n",
            "|     Argentina|75.56521739130434|       2|        199|\n",
            "|       Belgium|79.56521739130434|       2|        199|\n",
            "|        Sweden|78.82608695652173|       2|        198|\n",
            "|       Iceland|80.73913043478261|       1|        198|\n",
            "|Korea Republic|74.43478260869566|       3|        197|\n",
            "|       Nigeria|80.47826086956522|       1|        197|\n",
            "|        Panama|             80.0|       1|        197|\n",
            "|        France|             80.0|       3|        197|\n",
            "+--------------+-----------------+--------+-----------+\n",
            "only showing top 10 rows\n",
            "\n",
            "time: 947 ms (started: 2023-09-29 23:26:10 +00:00)\n"
          ]
        }
      ],
      "source": [
        "players.groupBy('team').agg({'weight':'avg', 'dia':'min', 'height':'max'}).orderBy('max(height)', ascending=False).show(10)"
      ]
    },
    {
      "cell_type": "code",
      "execution_count": 55,
      "metadata": {
        "colab": {
          "base_uri": "https://localhost:8080/"
        },
        "id": "oVKTdvz6W6s2",
        "outputId": "959cc53c-9801-45ba-d3d3-78e49aa05ce6"
      },
      "outputs": [
        {
          "output_type": "stream",
          "name": "stdout",
          "text": [
            "+--------------+------------------+-----------+-----------+\n",
            "|          team|       avg(height)|min(height)|max(height)|\n",
            "+--------------+------------------+-----------+-----------+\n",
            "|        Serbia|186.69565217391303|        169|        195|\n",
            "|       Denmark| 186.6086956521739|        171|        200|\n",
            "|       Germany| 185.7826086956522|        176|        195|\n",
            "|        Sweden| 185.7391304347826|        177|        198|\n",
            "|       Iceland|185.52173913043478|        170|        198|\n",
            "|       Belgium|185.34782608695653|        169|        199|\n",
            "|       Croatia| 185.2608695652174|        172|        201|\n",
            "|       Nigeria|184.52173913043478|        172|        197|\n",
            "|       IR Iran|184.47826086956522|        177|        194|\n",
            "|        Russia| 184.3913043478261|        173|        196|\n",
            "|       Senegal|183.65217391304347|        173|        196|\n",
            "|        France|183.30434782608697|        168|        197|\n",
            "|        Poland|183.17391304347825|        172|        195|\n",
            "|       Tunisia|183.08695652173913|        170|        192|\n",
            "|   Switzerland|182.91304347826087|        165|        192|\n",
            "|       England| 182.7391304347826|        170|        196|\n",
            "|       Morocco|182.69565217391303|        167|        190|\n",
            "|        Panama|182.17391304347825|        165|        197|\n",
            "|Korea Republic| 181.8695652173913|        170|        197|\n",
            "|       Uruguay|181.04347826086956|        168|        196|\n",
            "+--------------+------------------+-----------+-----------+\n",
            "only showing top 20 rows\n",
            "\n",
            "time: 528 ms (started: 2023-09-29 23:26:11 +00:00)\n"
          ]
        }
      ],
      "source": [
        "players.groupBy('team').agg(avg('height'), min('height'), max('height')).orderBy('avg(height)', ascending=False).show(20)"
      ]
    },
    {
      "cell_type": "code",
      "execution_count": 56,
      "metadata": {
        "colab": {
          "base_uri": "https://localhost:8080/"
        },
        "id": "8KBPRvIpk6z7",
        "outputId": "c0063080-47df-4a64-ac50-43ea97754159"
      },
      "outputs": [
        {
          "output_type": "stream",
          "name": "stdout",
          "text": [
            "+--------------+-----------------+\n",
            "|          team|      avg(weight)|\n",
            "+--------------+-----------------+\n",
            "|         Japan|71.52173913043478|\n",
            "|  Saudi Arabia|73.04347826086956|\n",
            "|      Portugal| 73.6086956521739|\n",
            "|        Mexico|74.08695652173913|\n",
            "|    Costa Rica| 74.1304347826087|\n",
            "|Korea Republic|74.43478260869566|\n",
            "|       Uruguay| 74.6086956521739|\n",
            "|       Morocco|74.65217391304348|\n",
            "|         Spain|74.73913043478261|\n",
            "|       Tunisia|             75.0|\n",
            "+--------------+-----------------+\n",
            "only showing top 10 rows\n",
            "\n",
            "time: 478 ms (started: 2023-09-29 23:26:12 +00:00)\n"
          ]
        }
      ],
      "source": [
        "players.groupBy('team').agg(avg('weight')).orderBy('avg(weight)', ascending=True).show(10)"
      ]
    },
    {
      "cell_type": "markdown",
      "metadata": {
        "id": "iEsfhD1VbpY-"
      },
      "source": [
        "## PARTITION BY\n",
        "Tem o conceito muito parecido com groupby, mas em partitionBy(), as linhas iguais são agrupadas formando agrupamentos de instâncias de dados baseados em uma ou mais colunas.\n",
        "\n",
        "*   row_number()\n",
        "*   rank()\n",
        "*   dense_rank()\n",
        "*   persent_rank()\n",
        "*   ntile()\n",
        "\n",
        "**Obs.** A função orderBy() usada com Window.partitionBy() não é a mesma usada com as funções de agregação de groupBy(). Enquanto essa retorna um DataFrame o outro cria uma WindowSpec."
      ]
    },
    {
      "cell_type": "markdown",
      "metadata": {
        "id": "kkLpC58KkeaK"
      },
      "source": [
        "row_number(): Cria  uma coluna com contagem de linhas começando por 1."
      ]
    },
    {
      "cell_type": "code",
      "execution_count": 57,
      "metadata": {
        "colab": {
          "base_uri": "https://localhost:8080/"
        },
        "id": "74rdlQbacHPc",
        "outputId": "f9bd663b-bff9-4603-dcd1-7f424e145ffc"
      },
      "outputs": [
        {
          "output_type": "stream",
          "name": "stdout",
          "text": [
            "<class 'pyspark.sql.window.WindowSpec'>\n",
            "<class 'pyspark.sql.column.Column'>\n",
            "+---------+----+------------------+----------+----------+------+------+---+---+----+---+\n",
            "|     team|pos.| fifa popular name|birth date|shirt name|height|weight|dia|mes| ano|row|\n",
            "+---------+----+------------------+----------+----------+------+------+---+---+----+---+\n",
            "|Argentina|  DF|    FAZIO Federico|1987-03-17|     FAZIO|   199|    85| 17|  3|1987|  1|\n",
            "|Argentina|  GK|     GUZMAN Nahuel|1986-02-10|    GUZMÁN|   192|    90| 10|  2|1986|  2|\n",
            "|Argentina|  DF|       ROJO Marcos|1990-03-20|      ROJO|   189|    82| 20|  3|1990|  3|\n",
            "|Argentina|  GK|     ARMANI Franco|1986-10-16|    ARMANI|   189|    85| 16| 10|1986|  4|\n",
            "|Argentina|  GK|CABALLERO Wilfredo|1981-09-28| CABALLERO|   186|    80| 28|  9|1981|  5|\n",
            "|Argentina|  FW|   HIGUAIN Gonzalo|1987-12-10|   HIGUAÍN|   184|    75| 10| 12|1987|  6|\n",
            "|Argentina|  DF|  ANSALDI Cristian|1986-09-20|   ANSALDI|   181|    73| 20|  9|1986|  7|\n",
            "|Argentina|  DF|   MERCADO Gabriel|1987-03-18|   MERCADO|   181|    81| 18|  3|1987|  8|\n",
            "|Argentina|  DF|  OTAMENDI Nicolas|1988-02-12|  OTAMENDI|   181|    81| 12|  2|1988|  9|\n",
            "|Argentina|  MF|  MEZA Maximiliano|1992-12-15|      MEZA|   180|    76| 15| 12|1992| 10|\n",
            "+---------+----+------------------+----------+----------+------+------+---+---+----+---+\n",
            "only showing top 10 rows\n",
            "\n",
            "time: 1 s (started: 2023-09-29 23:26:12 +00:00)\n"
          ]
        }
      ],
      "source": [
        "prt = Window.partitionBy('team').orderBy(desc('height'))\n",
        "print(type(prt))\n",
        "print(type(row_number()))\n",
        "players.withColumn('row', row_number().over(prt)).show(10)"
      ]
    },
    {
      "cell_type": "code",
      "execution_count": 58,
      "metadata": {
        "colab": {
          "base_uri": "https://localhost:8080/"
        },
        "id": "zj0QPwXV6Ldf",
        "outputId": "7137fbfc-2331-4f7d-f453-66e6de92e4e7"
      },
      "outputs": [
        {
          "output_type": "stream",
          "name": "stdout",
          "text": [
            "+----------+----+------------------+----------+-----------+------+------+---+---+----+---+\n",
            "|      team|pos.| fifa popular name|birth date| shirt name|height|weight|dia|mes| ano|top|\n",
            "+----------+----+------------------+----------+-----------+------+------+---+---+----+---+\n",
            "| Argentina|  DF|    FAZIO Federico|1987-03-17|      FAZIO|   199|    85| 17|  3|1987|  1|\n",
            "| Australia|  GK|        JONES Brad|1982-03-19|      JONES|   193|    87| 19|  3|1982|  1|\n",
            "|   Belgium|  GK|  COURTOIS Thibaut|1992-05-11|   COURTOIS|   199|    91| 11|  5|1992|  1|\n",
            "|    Brazil|  GK|            CASSIO|1987-06-06|     CASSIO|   195|    92|  6|  6|1987|  1|\n",
            "|  Colombia|  DF|        MINA Yerry|1994-09-23|    Y. MINA|   194|    95| 23|  9|1994|  1|\n",
            "|Costa Rica|  DF|    WASTON Kendall|1988-01-01|  K. WASTON|   196|    87|  1|  1|1988|  1|\n",
            "|   Croatia|  GK|     KALINIC Lovre|1990-04-03| L. KALINIĆ|   201|    96|  3|  4|1990|  1|\n",
            "|   Denmark|  DF|VESTERGAARD Jannik|1992-08-03|VESTERGAARD|   200|    98|  3|  8|1992|  1|\n",
            "|     Egypt|  DF|      AHMED HEGAZY|1991-01-25|  A. HEGAZY|   194|    95| 25|  1|1991|  1|\n",
            "|   England|  GK|      BUTLAND Jack|1993-03-10|    BUTLAND|   196|    96| 10|  3|1993|  1|\n",
            "+----------+----+------------------+----------+-----------+------+------+---+---+----+---+\n",
            "only showing top 10 rows\n",
            "\n",
            "time: 983 ms (started: 2023-09-29 23:26:13 +00:00)\n"
          ]
        }
      ],
      "source": [
        "# Selecionar os atletas mais altos de cada time.\n",
        "prt = Window.partitionBy('team').orderBy(desc('height'))\n",
        "players.withColumn('top', row_number().over(prt)).where(\"top = 1\").show(10)"
      ]
    },
    {
      "cell_type": "markdown",
      "metadata": {
        "id": "KuMhw3n2kKJP"
      },
      "source": [
        "rank(): Note como rank=3 se repete duas vezes e depois há um salto para rank=5. Esta é uma peculiaridade dessa função."
      ]
    },
    {
      "cell_type": "code",
      "execution_count": 59,
      "metadata": {
        "colab": {
          "base_uri": "https://localhost:8080/"
        },
        "id": "kPVsRj7PjJLC",
        "outputId": "d65c1203-7871-4900-96ff-44ab308f57a4"
      },
      "outputs": [
        {
          "output_type": "stream",
          "name": "stdout",
          "text": [
            "+---------+----+------------------+----------+----------+------+------+---+---+----+----+\n",
            "|     team|pos.| fifa popular name|birth date|shirt name|height|weight|dia|mes| ano|rank|\n",
            "+---------+----+------------------+----------+----------+------+------+---+---+----+----+\n",
            "|Argentina|  DF|    FAZIO Federico|1987-03-17|     FAZIO|   199|    85| 17|  3|1987|   1|\n",
            "|Argentina|  GK|     GUZMAN Nahuel|1986-02-10|    GUZMÁN|   192|    90| 10|  2|1986|   2|\n",
            "|Argentina|  DF|       ROJO Marcos|1990-03-20|      ROJO|   189|    82| 20|  3|1990|   3|\n",
            "|Argentina|  GK|     ARMANI Franco|1986-10-16|    ARMANI|   189|    85| 16| 10|1986|   3|\n",
            "|Argentina|  GK|CABALLERO Wilfredo|1981-09-28| CABALLERO|   186|    80| 28|  9|1981|   5|\n",
            "|Argentina|  FW|   HIGUAIN Gonzalo|1987-12-10|   HIGUAÍN|   184|    75| 10| 12|1987|   6|\n",
            "|Argentina|  DF|  ANSALDI Cristian|1986-09-20|   ANSALDI|   181|    73| 20|  9|1986|   7|\n",
            "|Argentina|  DF|   MERCADO Gabriel|1987-03-18|   MERCADO|   181|    81| 18|  3|1987|   7|\n",
            "|Argentina|  DF|  OTAMENDI Nicolas|1988-02-12|  OTAMENDI|   181|    81| 12|  2|1988|   7|\n",
            "|Argentina|  MF|  MEZA Maximiliano|1992-12-15|      MEZA|   180|    76| 15| 12|1992|  10|\n",
            "+---------+----+------------------+----------+----------+------+------+---+---+----+----+\n",
            "only showing top 10 rows\n",
            "\n",
            "time: 633 ms (started: 2023-09-29 23:26:14 +00:00)\n"
          ]
        }
      ],
      "source": [
        "prt = Window.partitionBy('team').orderBy(desc('height'))\n",
        "players.withColumn('rank', rank().over(prt)).show(10)"
      ]
    },
    {
      "cell_type": "markdown",
      "metadata": {
        "id": "ExD1iTmakiIx"
      },
      "source": [
        "dense_rank(): Aqui, mesmo que rank=3 se repita o próximo valor de rank é 4 e assim por diante. Não há saltos de valores."
      ]
    },
    {
      "cell_type": "code",
      "execution_count": 60,
      "metadata": {
        "colab": {
          "base_uri": "https://localhost:8080/"
        },
        "id": "Tw53dOeokyzh",
        "outputId": "ed7c3e42-c135-4ecd-d3db-66729cb3525b"
      },
      "outputs": [
        {
          "output_type": "stream",
          "name": "stdout",
          "text": [
            "+---------+----+------------------+----------+----------+------+------+---+---+----+----------+\n",
            "|     team|pos.| fifa popular name|birth date|shirt name|height|weight|dia|mes| ano|dense_rank|\n",
            "+---------+----+------------------+----------+----------+------+------+---+---+----+----------+\n",
            "|Argentina|  DF|    FAZIO Federico|1987-03-17|     FAZIO|   199|    85| 17|  3|1987|         1|\n",
            "|Argentina|  GK|     GUZMAN Nahuel|1986-02-10|    GUZMÁN|   192|    90| 10|  2|1986|         2|\n",
            "|Argentina|  DF|       ROJO Marcos|1990-03-20|      ROJO|   189|    82| 20|  3|1990|         3|\n",
            "|Argentina|  GK|     ARMANI Franco|1986-10-16|    ARMANI|   189|    85| 16| 10|1986|         3|\n",
            "|Argentina|  GK|CABALLERO Wilfredo|1981-09-28| CABALLERO|   186|    80| 28|  9|1981|         4|\n",
            "|Argentina|  FW|   HIGUAIN Gonzalo|1987-12-10|   HIGUAÍN|   184|    75| 10| 12|1987|         5|\n",
            "|Argentina|  DF|  ANSALDI Cristian|1986-09-20|   ANSALDI|   181|    73| 20|  9|1986|         6|\n",
            "|Argentina|  DF|   MERCADO Gabriel|1987-03-18|   MERCADO|   181|    81| 18|  3|1987|         6|\n",
            "|Argentina|  DF|  OTAMENDI Nicolas|1988-02-12|  OTAMENDI|   181|    81| 12|  2|1988|         6|\n",
            "|Argentina|  MF|  MEZA Maximiliano|1992-12-15|      MEZA|   180|    76| 15| 12|1992|         7|\n",
            "+---------+----+------------------+----------+----------+------+------+---+---+----+----------+\n",
            "only showing top 10 rows\n",
            "\n",
            "time: 638 ms (started: 2023-09-29 23:26:15 +00:00)\n"
          ]
        }
      ],
      "source": [
        "prt = Window.partitionBy('team').orderBy(desc('height'))\n",
        "players.withColumn('dense_rank', dense_rank().over(prt)).show(10)"
      ]
    },
    {
      "cell_type": "markdown",
      "metadata": {
        "id": "FgIYuPqAmCD3"
      },
      "source": [
        "persent_rank(): ranking relativo(percentual)"
      ]
    },
    {
      "cell_type": "code",
      "execution_count": 61,
      "metadata": {
        "colab": {
          "base_uri": "https://localhost:8080/"
        },
        "id": "i8jq7iyimDZw",
        "outputId": "90a16364-b866-40f2-9d09-ca68fefa395c"
      },
      "outputs": [
        {
          "output_type": "stream",
          "name": "stdout",
          "text": [
            "+---------+----+------------------+----------+----------+------+------+---+---+----+--------------------+\n",
            "|     team|pos.| fifa popular name|birth date|shirt name|height|weight|dia|mes| ano|        persent_rank|\n",
            "+---------+----+------------------+----------+----------+------+------+---+---+----+--------------------+\n",
            "|Argentina|  DF|    FAZIO Federico|1987-03-17|     FAZIO|   199|    85| 17|  3|1987|                 0.0|\n",
            "|Argentina|  GK|     GUZMAN Nahuel|1986-02-10|    GUZMÁN|   192|    90| 10|  2|1986|0.045454545454545456|\n",
            "|Argentina|  DF|       ROJO Marcos|1990-03-20|      ROJO|   189|    82| 20|  3|1990| 0.09090909090909091|\n",
            "|Argentina|  GK|     ARMANI Franco|1986-10-16|    ARMANI|   189|    85| 16| 10|1986| 0.09090909090909091|\n",
            "|Argentina|  GK|CABALLERO Wilfredo|1981-09-28| CABALLERO|   186|    80| 28|  9|1981| 0.18181818181818182|\n",
            "|Argentina|  FW|   HIGUAIN Gonzalo|1987-12-10|   HIGUAÍN|   184|    75| 10| 12|1987| 0.22727272727272727|\n",
            "|Argentina|  DF|  ANSALDI Cristian|1986-09-20|   ANSALDI|   181|    73| 20|  9|1986|  0.2727272727272727|\n",
            "|Argentina|  DF|   MERCADO Gabriel|1987-03-18|   MERCADO|   181|    81| 18|  3|1987|  0.2727272727272727|\n",
            "|Argentina|  DF|  OTAMENDI Nicolas|1988-02-12|  OTAMENDI|   181|    81| 12|  2|1988|  0.2727272727272727|\n",
            "|Argentina|  MF|  MEZA Maximiliano|1992-12-15|      MEZA|   180|    76| 15| 12|1992|  0.4090909090909091|\n",
            "+---------+----+------------------+----------+----------+------+------+---+---+----+--------------------+\n",
            "only showing top 10 rows\n",
            "\n",
            "time: 795 ms (started: 2023-09-29 23:26:16 +00:00)\n"
          ]
        }
      ],
      "source": [
        "prt = Window.partitionBy('team').orderBy(desc('height'))\n",
        "players.withColumn('persent_rank', percent_rank().over(prt)).show(10)"
      ]
    },
    {
      "cell_type": "markdown",
      "metadata": {
        "id": "3gT5llGdqJBp"
      },
      "source": [
        "ntile(): Divide cada partição em uma quantidade n de quartiles. Cada quartile recebe um valor único. Caso uma partição não seja divisível por n o aloritmo ajustará a quantidade de instâncias de dados pertencentes aos últimos quartiles de modo que a partição tenha n quartiles. Por exemplo, na seleção da Argentina, quando n=5, o penúltimo quartil tem 4 instâncias para poder formar mais um, o último quartil que terá apenas uma instância."
      ]
    },
    {
      "cell_type": "code",
      "execution_count": 62,
      "metadata": {
        "colab": {
          "base_uri": "https://localhost:8080/"
        },
        "id": "AogJ91m3qLUO",
        "outputId": "ed353746-2c1d-456a-c08d-a5a48209142d"
      },
      "outputs": [
        {
          "output_type": "stream",
          "name": "stdout",
          "text": [
            "+---------+----+------------------+----------+----------+------+------+---+---+----+-----+\n",
            "|     team|pos.| fifa popular name|birth date|shirt name|height|weight|dia|mes| ano|ntile|\n",
            "+---------+----+------------------+----------+----------+------+------+---+---+----+-----+\n",
            "|Argentina|  DF|    FAZIO Federico|1987-03-17|     FAZIO|   199|    85| 17|  3|1987|    1|\n",
            "|Argentina|  GK|     GUZMAN Nahuel|1986-02-10|    GUZMÁN|   192|    90| 10|  2|1986|    1|\n",
            "|Argentina|  DF|       ROJO Marcos|1990-03-20|      ROJO|   189|    82| 20|  3|1990|    1|\n",
            "|Argentina|  GK|     ARMANI Franco|1986-10-16|    ARMANI|   189|    85| 16| 10|1986|    1|\n",
            "|Argentina|  GK|CABALLERO Wilfredo|1981-09-28| CABALLERO|   186|    80| 28|  9|1981|    1|\n",
            "|Argentina|  FW|   HIGUAIN Gonzalo|1987-12-10|   HIGUAÍN|   184|    75| 10| 12|1987|    2|\n",
            "|Argentina|  DF|  ANSALDI Cristian|1986-09-20|   ANSALDI|   181|    73| 20|  9|1986|    2|\n",
            "|Argentina|  DF|   MERCADO Gabriel|1987-03-18|   MERCADO|   181|    81| 18|  3|1987|    2|\n",
            "|Argentina|  DF|  OTAMENDI Nicolas|1988-02-12|  OTAMENDI|   181|    81| 12|  2|1988|    2|\n",
            "|Argentina|  MF|  MEZA Maximiliano|1992-12-15|      MEZA|   180|    76| 15| 12|1992|    2|\n",
            "|Argentina|  MF|    DI MARIA Angel|1988-02-14|  DI MARÍA|   178|    75| 14|  2|1988|    3|\n",
            "|Argentina|  FW|      DYBALA Paulo|1993-11-15|    DYBALA|   177|    73| 15| 11|1993|    3|\n",
            "|Argentina|  MF|  LO CELSO Giovani|1996-04-09|  LO CELSO|   177|    75|  9|  4|1996|    3|\n",
            "|Argentina|  MF|      BIGLIA Lucas|1986-01-30|    BIGLIA|   175|    73| 30|  1|1986|    3|\n",
            "|Argentina|  MF|       BANEGA Ever|1988-06-29|    BANEGA|   175|    73| 29|  6|1988|    3|\n",
            "|Argentina|  DF| MASCHERANO Javier|1984-06-08|MASCHERANO|   174|    73|  8|  6|1984|    4|\n",
            "|Argentina|  FW|     AGUERO Sergio|1988-06-02|    AGÜERO|   172|    74|  2|  6|1988|    4|\n",
            "|Argentina|  DF|      ACUNA Marcos|1991-10-28|     ACUÑA|   172|    77| 28| 10|1991|    4|\n",
            "|Argentina|  FW|      MESSI Lionel|1987-06-24|     MESSI|   170|    72| 24|  6|1987|    4|\n",
            "|Argentina|  DF|TAGLIAFICO Nicolas|1992-08-31|TAGLIAFICO|   169|    65| 31|  8|1992|    5|\n",
            "+---------+----+------------------+----------+----------+------+------+---+---+----+-----+\n",
            "only showing top 20 rows\n",
            "\n",
            "time: 662 ms (started: 2023-09-29 23:26:16 +00:00)\n"
          ]
        }
      ],
      "source": [
        "prt = Window.partitionBy('team').orderBy(desc('height'))\n",
        "players.withColumn('ntile', ntile(5).over(prt)).show(20)"
      ]
    },
    {
      "cell_type": "markdown",
      "metadata": {
        "id": "Ny2ulye1ZyTQ"
      },
      "source": [
        "Lag function: O mesmo tipo de lag usado em séries temporais."
      ]
    },
    {
      "cell_type": "code",
      "execution_count": 63,
      "metadata": {
        "colab": {
          "base_uri": "https://localhost:8080/"
        },
        "id": "wEXKjuj4Z6oK",
        "outputId": "4173f00a-2306-461a-d44b-d5cf4cfc9790"
      },
      "outputs": [
        {
          "output_type": "stream",
          "name": "stdout",
          "text": [
            "+---------+----+------------------+----------+----------+------+------+---+---+----+----+\n",
            "|     team|pos.| fifa popular name|birth date|shirt name|height|weight|dia|mes| ano| lag|\n",
            "+---------+----+------------------+----------+----------+------+------+---+---+----+----+\n",
            "|Argentina|  DF|    FAZIO Federico|1987-03-17|     FAZIO|   199|    85| 17|  3|1987|NULL|\n",
            "|Argentina|  GK|     GUZMAN Nahuel|1986-02-10|    GUZMÁN|   192|    90| 10|  2|1986|NULL|\n",
            "|Argentina|  DF|       ROJO Marcos|1990-03-20|      ROJO|   189|    82| 20|  3|1990|  85|\n",
            "|Argentina|  GK|     ARMANI Franco|1986-10-16|    ARMANI|   189|    85| 16| 10|1986|  90|\n",
            "|Argentina|  GK|CABALLERO Wilfredo|1981-09-28| CABALLERO|   186|    80| 28|  9|1981|  82|\n",
            "|Argentina|  FW|   HIGUAIN Gonzalo|1987-12-10|   HIGUAÍN|   184|    75| 10| 12|1987|  85|\n",
            "|Argentina|  DF|  ANSALDI Cristian|1986-09-20|   ANSALDI|   181|    73| 20|  9|1986|  80|\n",
            "|Argentina|  DF|   MERCADO Gabriel|1987-03-18|   MERCADO|   181|    81| 18|  3|1987|  75|\n",
            "|Argentina|  DF|  OTAMENDI Nicolas|1988-02-12|  OTAMENDI|   181|    81| 12|  2|1988|  73|\n",
            "|Argentina|  MF|  MEZA Maximiliano|1992-12-15|      MEZA|   180|    76| 15| 12|1992|  81|\n",
            "+---------+----+------------------+----------+----------+------+------+---+---+----+----+\n",
            "only showing top 10 rows\n",
            "\n",
            "time: 904 ms (started: 2023-09-29 23:26:17 +00:00)\n"
          ]
        }
      ],
      "source": [
        "prt = Window.partitionBy('team').orderBy(desc('height'))\n",
        "players.withColumn('lag', lag('weight', offset=2).over(prt)).show(10)"
      ]
    },
    {
      "cell_type": "markdown",
      "metadata": {
        "id": "LYWzAMl4bwRD"
      },
      "source": [
        "Forward function: O mesmo tipo de forward usado em séries temporais."
      ]
    },
    {
      "cell_type": "code",
      "execution_count": 64,
      "metadata": {
        "colab": {
          "base_uri": "https://localhost:8080/"
        },
        "id": "3nEw-WhJch8s",
        "outputId": "c2de0288-e680-46e8-cf98-be06477bc925"
      },
      "outputs": [
        {
          "output_type": "stream",
          "name": "stdout",
          "text": [
            "+---------+----+------------------+----------+----------+------+------+---+---+----+----+\n",
            "|     team|pos.| fifa popular name|birth date|shirt name|height|weight|dia|mes| ano|lead|\n",
            "+---------+----+------------------+----------+----------+------+------+---+---+----+----+\n",
            "|Argentina|  DF|    FAZIO Federico|1987-03-17|     FAZIO|   199|    85| 17|  3|1987|  90|\n",
            "|Argentina|  GK|     GUZMAN Nahuel|1986-02-10|    GUZMÁN|   192|    90| 10|  2|1986|  82|\n",
            "|Argentina|  DF|       ROJO Marcos|1990-03-20|      ROJO|   189|    82| 20|  3|1990|  85|\n",
            "|Argentina|  GK|     ARMANI Franco|1986-10-16|    ARMANI|   189|    85| 16| 10|1986|  80|\n",
            "|Argentina|  GK|CABALLERO Wilfredo|1981-09-28| CABALLERO|   186|    80| 28|  9|1981|  75|\n",
            "|Argentina|  FW|   HIGUAIN Gonzalo|1987-12-10|   HIGUAÍN|   184|    75| 10| 12|1987|  73|\n",
            "|Argentina|  DF|  ANSALDI Cristian|1986-09-20|   ANSALDI|   181|    73| 20|  9|1986|  81|\n",
            "|Argentina|  DF|   MERCADO Gabriel|1987-03-18|   MERCADO|   181|    81| 18|  3|1987|  81|\n",
            "|Argentina|  DF|  OTAMENDI Nicolas|1988-02-12|  OTAMENDI|   181|    81| 12|  2|1988|  76|\n",
            "|Argentina|  MF|  MEZA Maximiliano|1992-12-15|      MEZA|   180|    76| 15| 12|1992|  75|\n",
            "+---------+----+------------------+----------+----------+------+------+---+---+----+----+\n",
            "only showing top 10 rows\n",
            "\n",
            "time: 485 ms (started: 2023-09-29 23:26:18 +00:00)\n"
          ]
        }
      ],
      "source": [
        "prt = Window.partitionBy('team').orderBy(desc('height'))\n",
        "players.withColumn('lead', lead('weight', offset=1).over(prt)).show(10)"
      ]
    },
    {
      "cell_type": "markdown",
      "metadata": {
        "id": "vZpMzJ4ZXRqc"
      },
      "source": [
        "## DISTINCT"
      ]
    },
    {
      "cell_type": "code",
      "execution_count": 65,
      "metadata": {
        "colab": {
          "base_uri": "https://localhost:8080/"
        },
        "id": "T_WNnqDhYA9g",
        "outputId": "29b7e25f-0ba8-4060-fbc5-01beaf0c4c45"
      },
      "outputs": [
        {
          "output_type": "stream",
          "name": "stdout",
          "text": [
            "+-------+\n",
            "|   team|\n",
            "+-------+\n",
            "| Russia|\n",
            "|Senegal|\n",
            "| Sweden|\n",
            "|IR Iran|\n",
            "|Germany|\n",
            "+-------+\n",
            "only showing top 5 rows\n",
            "\n",
            "time: 578 ms (started: 2023-09-29 23:26:18 +00:00)\n"
          ]
        }
      ],
      "source": [
        "players.select('team').distinct().show(5)"
      ]
    },
    {
      "cell_type": "markdown",
      "metadata": {
        "id": "tr8eG_7id82w"
      },
      "source": [
        "Número de valores únicos em um atributo."
      ]
    },
    {
      "cell_type": "code",
      "execution_count": 66,
      "metadata": {
        "colab": {
          "base_uri": "https://localhost:8080/"
        },
        "id": "kJegd3TQdywi",
        "outputId": "0c7c0b1b-b5c5-41ff-dfd6-916339c32345"
      },
      "outputs": [
        {
          "output_type": "stream",
          "name": "stdout",
          "text": [
            "unique values: 32\n",
            "time: 392 ms (started: 2023-09-29 23:26:19 +00:00)\n"
          ]
        }
      ],
      "source": [
        "nunique = players.select('team').distinct().count()\n",
        "print(f'unique values: {nunique}')"
      ]
    },
    {
      "cell_type": "markdown",
      "metadata": {
        "id": "wzQzR6ptKUI_"
      },
      "source": [
        "## COLLECT\n",
        "Salva o resultado de uma consulta em uma lista."
      ]
    },
    {
      "cell_type": "code",
      "execution_count": 67,
      "metadata": {
        "colab": {
          "base_uri": "https://localhost:8080/"
        },
        "id": "mg39pyerKbkm",
        "outputId": "4091837b-0266-489b-9778-87232e2b742d"
      },
      "outputs": [
        {
          "output_type": "execute_result",
          "data": {
            "text/plain": [
              "[Row(team='Russia'),\n",
              " Row(team='Senegal'),\n",
              " Row(team='Sweden'),\n",
              " Row(team='IR Iran'),\n",
              " Row(team='Germany'),\n",
              " Row(team='France'),\n",
              " Row(team='Argentina'),\n",
              " Row(team='Belgium'),\n",
              " Row(team='Peru'),\n",
              " Row(team='Croatia'),\n",
              " Row(team='Nigeria'),\n",
              " Row(team='Korea Republic'),\n",
              " Row(team='Spain'),\n",
              " Row(team='Denmark'),\n",
              " Row(team='Morocco'),\n",
              " Row(team='Panama'),\n",
              " Row(team='Iceland'),\n",
              " Row(team='Uruguay'),\n",
              " Row(team='Mexico'),\n",
              " Row(team='Tunisia'),\n",
              " Row(team='Saudi Arabia'),\n",
              " Row(team='Switzerland'),\n",
              " Row(team='Brazil'),\n",
              " Row(team='Japan'),\n",
              " Row(team='England'),\n",
              " Row(team='Poland'),\n",
              " Row(team='Portugal'),\n",
              " Row(team='Australia'),\n",
              " Row(team='Costa Rica'),\n",
              " Row(team='Egypt'),\n",
              " Row(team='Serbia'),\n",
              " Row(team='Colombia')]"
            ]
          },
          "metadata": {},
          "execution_count": 67
        },
        {
          "output_type": "stream",
          "name": "stdout",
          "text": [
            "time: 411 ms (started: 2023-09-29 23:26:19 +00:00)\n"
          ]
        }
      ],
      "source": [
        "players.select('team').distinct().collect()"
      ]
    },
    {
      "cell_type": "markdown",
      "metadata": {
        "id": "LQG8pGwOL7Fy"
      },
      "source": [
        "O resultado anterior é uma lista de objetos Row. Caso seja necessário apenas o nome do país podemos usar o código abaixo."
      ]
    },
    {
      "cell_type": "code",
      "execution_count": 68,
      "metadata": {
        "colab": {
          "base_uri": "https://localhost:8080/"
        },
        "id": "QW0n2kMLLGmZ",
        "outputId": "cc5cf9cd-129f-4e14-e14f-ec845e38e995"
      },
      "outputs": [
        {
          "output_type": "stream",
          "name": "stdout",
          "text": [
            "['Russia', 'Senegal', 'Sweden', 'IR Iran', 'Germany', 'France', 'Argentina', 'Belgium', 'Peru', 'Croatia', 'Nigeria', 'Korea Republic', 'Spain', 'Denmark', 'Morocco', 'Panama', 'Iceland', 'Uruguay', 'Mexico', 'Tunisia', 'Saudi Arabia', 'Switzerland', 'Brazil', 'Japan', 'England', 'Poland', 'Portugal', 'Australia', 'Costa Rica', 'Egypt', 'Serbia', 'Colombia']\n",
            "time: 262 ms (started: 2023-09-29 23:26:20 +00:00)\n"
          ]
        }
      ],
      "source": [
        "result = players.select('team').distinct().collect()\n",
        "countries = [row[0] for row in result]\n",
        "print(countries)"
      ]
    },
    {
      "cell_type": "markdown",
      "metadata": {
        "id": "7ohWUXZSMxrA"
      },
      "source": [
        "## CASE/WHEN/THEN\n",
        "Caso queiramos usar essas intruções com PySpark podemos usar as funções when() e otherwise(). CASE e THEN ficam implícitas. Também podemos dizer que são o if/else deste framework."
      ]
    },
    {
      "cell_type": "code",
      "execution_count": 69,
      "metadata": {
        "colab": {
          "base_uri": "https://localhost:8080/"
        },
        "id": "N1DMTNNXNLeW",
        "outputId": "8e7186ac-3645-4a18-92b1-432253d0b0cd"
      },
      "outputs": [
        {
          "output_type": "stream",
          "name": "stdout",
          "text": [
            "+---------+----+------------------+----------+----------+------+------+---+---+----+----------+\n",
            "|     team|pos.| fifa popular name|birth date|shirt name|height|weight|dia|mes| ano|   new_col|\n",
            "+---------+----+------------------+----------+----------+------+------+---+---+----+----------+\n",
            "|Argentina|  DF|TAGLIAFICO Nicolas|1992-08-31|TAGLIAFICO|   169|    65| 31|  8|1992|Argentinos|\n",
            "|Argentina|  MF|    PAVON Cristian|1996-01-21|     PAVÓN|   169|    65| 21|  1|1996|Argentinos|\n",
            "|Argentina|  MF|    LANZINI Manuel|1993-02-15|   LANZINI|   167|    66| 15|  2|1993|Argentinos|\n",
            "|Argentina|  DF|    SALVIO Eduardo|1990-07-13|    SALVIO|   167|    69| 13|  7|1990|Argentinos|\n",
            "|Argentina|  FW|      MESSI Lionel|1987-06-24|     MESSI|   170|    72| 24|  6|1987|Argentinos|\n",
            "|Argentina|  DF|  ANSALDI Cristian|1986-09-20|   ANSALDI|   181|    73| 20|  9|1986|Argentinos|\n",
            "|Argentina|  MF|      BIGLIA Lucas|1986-01-30|    BIGLIA|   175|    73| 30|  1|1986|Argentinos|\n",
            "|Argentina|  MF|       BANEGA Ever|1988-06-29|    BANEGA|   175|    73| 29|  6|1988|Argentinos|\n",
            "|Argentina|  DF| MASCHERANO Javier|1984-06-08|MASCHERANO|   174|    73|  8|  6|1984|Argentinos|\n",
            "|Argentina|  FW|      DYBALA Paulo|1993-11-15|    DYBALA|   177|    73| 15| 11|1993|Argentinos|\n",
            "|Argentina|  FW|     AGUERO Sergio|1988-06-02|    AGÜERO|   172|    74|  2|  6|1988|Argentinos|\n",
            "|Argentina|  FW|   HIGUAIN Gonzalo|1987-12-10|   HIGUAÍN|   184|    75| 10| 12|1987|Argentinos|\n",
            "|Argentina|  MF|    DI MARIA Angel|1988-02-14|  DI MARÍA|   178|    75| 14|  2|1988|Argentinos|\n",
            "|Argentina|  MF|  LO CELSO Giovani|1996-04-09|  LO CELSO|   177|    75|  9|  4|1996|Argentinos|\n",
            "|Argentina|  MF|  MEZA Maximiliano|1992-12-15|      MEZA|   180|    76| 15| 12|1992|Argentinos|\n",
            "|Argentina|  DF|      ACUNA Marcos|1991-10-28|     ACUÑA|   172|    77| 28| 10|1991|Argentinos|\n",
            "|Argentina|  GK|CABALLERO Wilfredo|1981-09-28| CABALLERO|   186|    80| 28|  9|1981|Argentinos|\n",
            "|Argentina|  DF|   MERCADO Gabriel|1987-03-18|   MERCADO|   181|    81| 18|  3|1987|Argentinos|\n",
            "|Argentina|  DF|  OTAMENDI Nicolas|1988-02-12|  OTAMENDI|   181|    81| 12|  2|1988|Argentinos|\n",
            "|Argentina|  DF|       ROJO Marcos|1990-03-20|      ROJO|   189|    82| 20|  3|1990|Argentinos|\n",
            "+---------+----+------------------+----------+----------+------+------+---+---+----+----------+\n",
            "only showing top 20 rows\n",
            "\n",
            "time: 610 ms (started: 2023-09-29 23:26:20 +00:00)\n"
          ]
        }
      ],
      "source": [
        "val = when(condition=(col('team') == 'Argentina'), value='Argentinos').otherwise(value='Normais')\n",
        "players.withColumn('new_col', val).show()"
      ]
    },
    {
      "cell_type": "code",
      "execution_count": 70,
      "metadata": {
        "colab": {
          "base_uri": "https://localhost:8080/"
        },
        "id": "jCJTDkgVP4a1",
        "outputId": "8d2cf68d-474b-4f07-9f4e-a4fd44857996"
      },
      "outputs": [
        {
          "output_type": "stream",
          "name": "stdout",
          "text": [
            "+---------+----+-----------------+----------+-------------+------+------+---+---+----+---------+\n",
            "|     team|pos.|fifa popular name|birth date|   shirt name|height|weight|dia|mes| ano|  new_col|\n",
            "+---------+----+-----------------+----------+-------------+------+------+---+---+----+---------+\n",
            "|Australia|  MF|       MOOY Aaron|1990-09-15|         MOOY|   173|    72| 15|  9|1990|oceanicos|\n",
            "|    Egypt|  MF|   MOHAMED ELNENY|1992-07-11|    M. ELNENY|   181|    74| 11|  7|1992|  europeu|\n",
            "|  Germany|  MF|      OEZIL Mesut|1988-10-15|         ÖZIL|   180|    70| 15| 10|1988|  europeu|\n",
            "|  Germany|  MF|    GORETZKA Leon|1995-02-06|     GORETZKA|   189|    76|  6|  2|1995|  europeu|\n",
            "|  Iceland|  DF|SIGURDSSON Ragnar|1986-06-19|R. SIGURDSSON|   187|    86| 19|  6|1986|  europeu|\n",
            "+---------+----+-----------------+----------+-------------+------+------+---+---+----+---------+\n",
            "only showing top 5 rows\n",
            "\n",
            "time: 1.14 s (started: 2023-09-29 23:26:21 +00:00)\n"
          ]
        }
      ],
      "source": [
        "africa = ['Senegal', 'Morocco', 'Tunisia', 'Egypt']\n",
        "america_norte = ['Panama', 'Mexico', 'Costa Rica']\n",
        "america_sul = ['Argentina', 'Peru', 'Uruguay', 'Brazil', 'Colombia']\n",
        "asia = ['Russia', 'IR Iran', 'Nigeria', 'Korea Republic', 'Saudi Arabia', 'Japan', ]\n",
        "europa = ['Sweden', 'Germany', 'France', 'Belgium', 'Croatia', 'Spain', 'Denmark', 'Iceland', 'Switzerland', 'England', 'Poland', 'Portugal', 'Serbia']\n",
        "oceania = ['Australia']\n",
        "\n",
        "val = when(condition=(col('team').isin(africa)), value=('europeu'))\\\n",
        "      .when(condition=(col('team').isin(america_norte)), value=('n_americano'))\\\n",
        "      .when(condition=(col('team').isin(america_sul)), value=('s_americano'))\\\n",
        "      .when(condition=(col('team').isin(asia)), value=('asiatico'))\\\n",
        "      .when(condition=(col('team').isin(europa)), value=('europeu'))\\\n",
        "      .when(condition=(col('team').isin(oceania)), value=('oceanicos'))\\\n",
        "      .otherwise('desconhecidos')\n",
        "\n",
        "players.withColumn('new_col', val).sample(fraction=0.01).show(5)"
      ]
    },
    {
      "cell_type": "markdown",
      "metadata": {
        "id": "9ztKmZ_MTm81"
      },
      "source": [
        "## UNION\n",
        "\n",
        "A função union() verifica unicamente a quantidade colunas que os dataframes envolvidos possuem. Caso eles tenham a mesma quantidade a função concatenará um embaixo do outro. Ou seja, considerando um dataframe df_x e outro df_y, ela concatenará a primeira coluna de df_x com a primeira coluna de df_y, a segunda de df_x com a segunda de df_y, e assim por diante. Portanto, union() não verifica os tipos de dados nem os nomes das colunas. Para que o resultado faça sentido o programador deve fazer essas verificações."
      ]
    },
    {
      "cell_type": "markdown",
      "metadata": {
        "id": "byrDqYZ4XT2g"
      },
      "source": [
        "Vou criar dois dataframes com países americanos e concatená-los formando apenas um. Mas primeiro, preciso criar um novo atributo com os continentes os quais cada país pertence."
      ]
    },
    {
      "cell_type": "code",
      "execution_count": 71,
      "metadata": {
        "colab": {
          "base_uri": "https://localhost:8080/"
        },
        "id": "EQizwA7LUT5X",
        "outputId": "7d625423-9753-415b-c9e7-fc53e1c0bc63"
      },
      "outputs": [
        {
          "output_type": "stream",
          "name": "stdout",
          "text": [
            "+----------+----+-----------------+----------+----------+------+------+---+---+----+-----------+\n",
            "|      team|pos.|fifa popular name|birth date|shirt name|height|weight|dia|mes| ano|  continent|\n",
            "+----------+----+-----------------+----------+----------+------+------+---+---+----+-----------+\n",
            "| Argentina|  DF|   SALVIO Eduardo|1990-07-13|    SALVIO|   167|    69| 13|  7|1990|s_americano|\n",
            "|  Colombia|  MF|  BARRIOS  Wilmar|1993-10-16|   BARRIOS|   178|    74| 16| 10|1993|s_americano|\n",
            "|Costa Rica|  MF|   TEJEDA Yeltsin|1992-03-17| Y. TEJEDA|   179|    67| 17|  3|1992|n_americano|\n",
            "|     Japan|  GK|   KAWASHIMA Eiji|1983-03-20| KAWASHIMA|   185|    74| 20|  3|1983|   asiatico|\n",
            "|   Senegal|  MF|       SANE Salif|1990-08-25|   S. SANE|   196|    84| 25|  8|1990|    europeu|\n",
            "+----------+----+-----------------+----------+----------+------+------+---+---+----+-----------+\n",
            "only showing top 5 rows\n",
            "\n",
            "time: 1.11 s (started: 2023-09-29 23:26:22 +00:00)\n"
          ]
        }
      ],
      "source": [
        "players = players.withColumn('continent', val)\n",
        "players.sample(fraction=0.01).show(5)"
      ]
    },
    {
      "cell_type": "markdown",
      "metadata": {
        "id": "zcwLZ35eVtyp"
      },
      "source": [
        "Agora, vou criar um dataframe com os países da América do Sul e outro com os da América do Norte."
      ]
    },
    {
      "cell_type": "code",
      "execution_count": 72,
      "metadata": {
        "colab": {
          "base_uri": "https://localhost:8080/"
        },
        "id": "tiEqtENzVywM",
        "outputId": "25934b92-2b9a-46ef-b6e8-3f86b051113b"
      },
      "outputs": [
        {
          "output_type": "stream",
          "name": "stdout",
          "text": [
            "time: 149 ms (started: 2023-09-29 23:26:23 +00:00)\n"
          ]
        }
      ],
      "source": [
        "s_america = players.where(\"continent = 's_americano'\")\n",
        "n_america = players.where(\"continent = 'n_americano'\")\n",
        "\n",
        "df_america = s_america.union(n_america)"
      ]
    },
    {
      "cell_type": "code",
      "execution_count": 73,
      "metadata": {
        "colab": {
          "base_uri": "https://localhost:8080/"
        },
        "id": "DqIxc8_-X9bl",
        "outputId": "a6d99e27-de81-4ad8-b902-0aae6c9a0e6b"
      },
      "outputs": [
        {
          "output_type": "stream",
          "name": "stdout",
          "text": [
            "115\n",
            "69\n",
            "184\n",
            "+----------+----+------------------+----------+----------+------+------+---+---+----+-----------+\n",
            "|      team|pos.| fifa popular name|birth date|shirt name|height|weight|dia|mes| ano|  continent|\n",
            "+----------+----+------------------+----------+----------+------+------+---+---+----+-----------+\n",
            "| Argentina|  DF|TAGLIAFICO Nicolas|1992-08-31|TAGLIAFICO|   169|    65| 31|  8|1992|s_americano|\n",
            "|  Colombia|  MF|   RODRIGUEZ James|1991-07-12|     JAMES|   180|    75| 12|  7|1991|s_americano|\n",
            "|   Uruguay|  GK|      SILVA Martin|1983-03-25|  M. SILVA|   187|    82| 25|  3|1983|s_americano|\n",
            "|Costa Rica|  MF|      GUZMAN David|1990-02-18| D. GUZMAN|   176|    78| 18|  2|1990|n_americano|\n",
            "|    Panama|  DF|        DAVIS Eric|1991-03-31|     DAVIS|   180|    81| 31|  3|1991|n_americano|\n",
            "+----------+----+------------------+----------+----------+------+------+---+---+----+-----------+\n",
            "\n",
            "time: 4.18 s (started: 2023-09-29 23:26:23 +00:00)\n"
          ]
        }
      ],
      "source": [
        "print(s_america.count())\n",
        "print(n_america.count())\n",
        "print(df_america.count())\n",
        "df_america.sample(fraction=0.04).show(15)"
      ]
    },
    {
      "cell_type": "markdown",
      "metadata": {
        "id": "w6qh_J7490X-"
      },
      "source": [
        "## JOIN"
      ]
    },
    {
      "cell_type": "code",
      "execution_count": 74,
      "metadata": {
        "colab": {
          "base_uri": "https://localhost:8080/"
        },
        "id": "JvgYpB73AKGh",
        "outputId": "aaa27299-54c0-4c5f-db9d-4b1e4f7036d0"
      },
      "outputs": [
        {
          "output_type": "stream",
          "name": "stdout",
          "text": [
            "+---------+--------------+------------+------------+-------------+\n",
            "|client_id|   client_city|client_state|client_birth|client_gender|\n",
            "+---------+--------------+------------+------------+-------------+\n",
            "|    14001|      Curitiba|          PR|   6/28/1985|        Homem|\n",
            "|    14002| Florianópolis|          SC|   1/10/1987|        Homem|\n",
            "|    14003|Rio de Janeiro|          RJ|   11/5/1979|        Homem|\n",
            "+---------+--------------+------------+------------+-------------+\n",
            "only showing top 3 rows\n",
            "\n",
            "+--------------------+---------------+------------+\n",
            "|          product_id|   product_name|product_size|\n",
            "+--------------------+---------------+------------+\n",
            "|00066f42aeeb9f300...|Capitão América|           P|\n",
            "|00066f42aeeb9f300...|Capitão América|           M|\n",
            "|00066f42aeeb9f300...|Capitão América|           G|\n",
            "+--------------------+---------------+------------+\n",
            "only showing top 3 rows\n",
            "\n",
            "+--------------------+--------------------+---------+--------+----------+--------+--------+----------+\n",
            "|                  id|          product_id|client_id|discount|unit_price|quantity|store_id|      date|\n",
            "+--------------------+--------------------+---------+--------+----------+--------+--------+----------+\n",
            "|80260d682079b6090...|002552c0663708129...|    14001|    0,08|     249,2|       1|       4|12/10/2018|\n",
            "|3275736da1234f55d...|001b237c0e9bb435f...|    14001|     0,1|     162,4|       1|       4| 4/25/2019|\n",
            "|f3513eec8f1434b5b...|00066f42aeeb9f300...|    14001|     0,1|     194,6|       1|       4| 7/17/2019|\n",
            "+--------------------+--------------------+---------+--------+----------+--------+--------+----------+\n",
            "only showing top 3 rows\n",
            "\n",
            "+--------+--------------+-----------+\n",
            "|store_id|    store_city|store_state|\n",
            "+--------+--------------+-----------+\n",
            "|       1| Florianópolis|         SC|\n",
            "|       2|Rio de Janeiro|         RJ|\n",
            "|       3|  Porto Alegre|         RS|\n",
            "+--------+--------------+-----------+\n",
            "only showing top 3 rows\n",
            "\n",
            "time: 860 ms (started: 2023-09-29 23:26:27 +00:00)\n"
          ]
        }
      ],
      "source": [
        "clients.show(3)\n",
        "products.show(3)\n",
        "sales.show(3)\n",
        "stores.show(3)"
      ]
    },
    {
      "cell_type": "markdown",
      "metadata": {
        "id": "G7Ffmpo6GFFj"
      },
      "source": [
        "A condição de igualdade entre chave primária e extrangeira fica implicita utilizando apenas uma string ou lista de strings no parâmetro 'on'. Portanto, o nome da coluna deve ser o mesmo em ambos dataframes."
      ]
    },
    {
      "cell_type": "code",
      "execution_count": 75,
      "metadata": {
        "colab": {
          "base_uri": "https://localhost:8080/"
        },
        "id": "dGYdKgqCGHy-",
        "outputId": "123223bc-75fb-4c5a-8fe4-a6bbcdd8df19"
      },
      "outputs": [
        {
          "output_type": "stream",
          "name": "stdout",
          "text": [
            "+--------+---------+--------+----------+-------------+-----------+\n",
            "|store_id|client_id|discount|unit_price|   store_city|store_state|\n",
            "+--------+---------+--------+----------+-------------+-----------+\n",
            "|       4|    14001|    0,08|     249,2|     Curitiba|         PR|\n",
            "|       4|    14001|     0,1|     162,4|     Curitiba|         PR|\n",
            "|       4|    14001|     0,1|     194,6|     Curitiba|         PR|\n",
            "|       1|    14002|     0,1|     201,6|Florianópolis|         SC|\n",
            "|       1|    14002|     0,1|       406|Florianópolis|         SC|\n",
            "+--------+---------+--------+----------+-------------+-----------+\n",
            "only showing top 5 rows\n",
            "\n",
            "time: 677 ms (started: 2023-09-29 23:26:28 +00:00)\n"
          ]
        }
      ],
      "source": [
        "# removo algumas colunas com drop() para a visualização do resultado ficar mais legível.\n",
        "sales.join(stores, on='store_id').drop('product_id', 'id', 'date', 'quantity').show(5)"
      ]
    },
    {
      "cell_type": "markdown",
      "metadata": {
        "id": "wd_OPob5Icv-"
      },
      "source": [
        "Caso for necessário mais de uma chave primária, podemos usar uma lista de chaves."
      ]
    },
    {
      "cell_type": "code",
      "execution_count": 76,
      "metadata": {
        "colab": {
          "base_uri": "https://localhost:8080/"
        },
        "id": "Wwunh4v0IP9K",
        "outputId": "049e4c83-db12-417f-be58-de0bc6217618"
      },
      "outputs": [
        {
          "output_type": "stream",
          "name": "stdout",
          "text": [
            "+--------+---------+--------+----------+-------------+-----------+\n",
            "|store_id|client_id|discount|unit_price|   store_city|store_state|\n",
            "+--------+---------+--------+----------+-------------+-----------+\n",
            "|       4|    14001|    0,08|     249,2|     Curitiba|         PR|\n",
            "|       4|    14001|     0,1|     162,4|     Curitiba|         PR|\n",
            "|       4|    14001|     0,1|     194,6|     Curitiba|         PR|\n",
            "|       1|    14002|     0,1|     201,6|Florianópolis|         SC|\n",
            "|       1|    14002|     0,1|       406|Florianópolis|         SC|\n",
            "+--------+---------+--------+----------+-------------+-----------+\n",
            "only showing top 5 rows\n",
            "\n",
            "time: 357 ms (started: 2023-09-29 23:26:29 +00:00)\n"
          ]
        }
      ],
      "source": [
        "# removo algumas colunas com drop() para a visualização do resultado ficar mais legível.\n",
        "sales.join(stores, on=['store_id']).drop('product_id', 'id', 'date', 'quantity').show(5)"
      ]
    },
    {
      "cell_type": "markdown",
      "metadata": {
        "id": "k-TSdFZOIv-l"
      },
      "source": [
        "Podemos definir explicitamente a condição de igualdade com o código abaixo."
      ]
    },
    {
      "cell_type": "code",
      "execution_count": 77,
      "metadata": {
        "colab": {
          "base_uri": "https://localhost:8080/"
        },
        "id": "TEuWdgVyH56h",
        "outputId": "1892fc8e-a013-43ee-f597-b52959551f29"
      },
      "outputs": [
        {
          "output_type": "stream",
          "name": "stdout",
          "text": [
            "+---------+--------+----------+--------+--------+-------------+-----------+\n",
            "|client_id|discount|unit_price|store_id|store_id|   store_city|store_state|\n",
            "+---------+--------+----------+--------+--------+-------------+-----------+\n",
            "|    14001|    0,08|     249,2|       4|       4|     Curitiba|         PR|\n",
            "|    14001|     0,1|     162,4|       4|       4|     Curitiba|         PR|\n",
            "|    14001|     0,1|     194,6|       4|       4|     Curitiba|         PR|\n",
            "|    14002|     0,1|     201,6|       1|       1|Florianópolis|         SC|\n",
            "|    14002|     0,1|       406|       1|       1|Florianópolis|         SC|\n",
            "+---------+--------+----------+--------+--------+-------------+-----------+\n",
            "only showing top 5 rows\n",
            "\n",
            "time: 511 ms (started: 2023-09-29 23:26:29 +00:00)\n"
          ]
        }
      ],
      "source": [
        "# removo algumas colunas com drop() para a visualização do resultado ficar mais legível.\n",
        "mask = sales['store_id'] == stores['store_id']\n",
        "sales.join(stores, on=mask).drop('product_id', 'id', 'date', 'quantity').show(5)"
      ]
    },
    {
      "cell_type": "markdown",
      "metadata": {
        "id": "0SF0T8YmEukr"
      },
      "source": [
        "### Tipos de JOIN\n",
        "A função join() do PySpark suporta os seguintes tipos de join: inner, cross, outer, full, fullouter, full_outer, left, leftouter, left_outer, right, rightouter, right_outer, semi, leftsemi, left_semi, anti, leftanti e left_anti.\n",
        "\n",
        "Para escolher qual tipo vamos usar devemos passar o seu nome como argumento no parâmetro \"how\" da função join()."
      ]
    },
    {
      "cell_type": "code",
      "execution_count": 78,
      "metadata": {
        "colab": {
          "base_uri": "https://localhost:8080/"
        },
        "id": "-PrU_5qcFp0O",
        "outputId": "574902ae-5896-46a7-aee9-d0a03e389078"
      },
      "outputs": [
        {
          "output_type": "stream",
          "name": "stdout",
          "text": [
            "+---------+--------+----------+--------+---------------+------------+\n",
            "|client_id|discount|unit_price|store_id|   product_name|product_size|\n",
            "+---------+--------+----------+--------+---------------+------------+\n",
            "|    14001|    0,08|     249,2|       4|     Tempestade|           G|\n",
            "|    14001|     0,1|     162,4|       4|         Thanos|           G|\n",
            "|    14001|     0,1|     194,6|       4|Capitão América|           P|\n",
            "|    14002|     0,1|     201,6|       1|      Wolverine|           G|\n",
            "|    14002|     0,1|       406|       1|         Naruto|           G|\n",
            "+---------+--------+----------+--------+---------------+------------+\n",
            "only showing top 5 rows\n",
            "\n",
            "time: 628 ms (started: 2023-09-29 23:26:30 +00:00)\n"
          ]
        }
      ],
      "source": [
        "sales.join(products, on=['product_id'], how=\"inner\").drop('product_id', 'id', 'date', 'quantity').show(5)"
      ]
    },
    {
      "cell_type": "code",
      "execution_count": 79,
      "metadata": {
        "colab": {
          "base_uri": "https://localhost:8080/"
        },
        "id": "PH-EzQJnFutg",
        "outputId": "86df79ac-63d6-4ff0-d9b4-3f018bf0d209"
      },
      "outputs": [
        {
          "output_type": "stream",
          "name": "stdout",
          "text": [
            "+---------+--------+----------+--------+---------------+------------+\n",
            "|client_id|discount|unit_price|store_id|   product_name|product_size|\n",
            "+---------+--------+----------+--------+---------------+------------+\n",
            "|    14001|    0,08|     249,2|       4|     Tempestade|           G|\n",
            "|    14001|     0,1|     162,4|       4|         Thanos|           G|\n",
            "|    14001|     0,1|     194,6|       4|Capitão América|           P|\n",
            "|    14002|     0,1|     201,6|       1|      Wolverine|           G|\n",
            "|    14002|     0,1|       406|       1|         Naruto|           G|\n",
            "+---------+--------+----------+--------+---------------+------------+\n",
            "only showing top 5 rows\n",
            "\n",
            "time: 504 ms (started: 2023-09-29 23:26:31 +00:00)\n"
          ]
        }
      ],
      "source": [
        "sales.join(products, on=['product_id'], how=\"left\").drop('product_id', 'id', 'date', 'quantity').show(5)"
      ]
    },
    {
      "cell_type": "code",
      "execution_count": 80,
      "metadata": {
        "colab": {
          "base_uri": "https://localhost:8080/"
        },
        "id": "nH0GoCtyGDNs",
        "outputId": "33cc3d4e-11ac-417c-b87e-a2061c356fd0"
      },
      "outputs": [
        {
          "output_type": "stream",
          "name": "stdout",
          "text": [
            "+---------+--------+----------+--------+-------------+------------+------------+-------------+\n",
            "|client_id|discount|unit_price|store_id|  client_city|client_state|client_birth|client_gender|\n",
            "+---------+--------+----------+--------+-------------+------------+------------+-------------+\n",
            "|    14001|     0,1|     194,6|       4|     Curitiba|          PR|   6/28/1985|        Homem|\n",
            "|    14001|     0,1|     162,4|       4|     Curitiba|          PR|   6/28/1985|        Homem|\n",
            "|    14001|    0,08|     249,2|       4|     Curitiba|          PR|   6/28/1985|        Homem|\n",
            "|    14002|    0,08|     114,8|       1|Florianópolis|          SC|   1/10/1987|        Homem|\n",
            "|    14002|    0,08|     261,8|       1|Florianópolis|          SC|   1/10/1987|        Homem|\n",
            "+---------+--------+----------+--------+-------------+------------+------------+-------------+\n",
            "only showing top 5 rows\n",
            "\n",
            "time: 773 ms (started: 2023-09-29 23:26:31 +00:00)\n"
          ]
        }
      ],
      "source": [
        "sales.join(clients, on=['client_id'], how=\"right\").drop('product_id', 'id', 'date', 'quantity').show(5)"
      ]
    },
    {
      "cell_type": "markdown",
      "source": [
        "# UDF (User Defined Function)\n",
        "Funcionalidade extremamente custosa. Usar somente em último caso."
      ],
      "metadata": {
        "id": "pt1PvXY0R7en"
      }
    },
    {
      "cell_type": "code",
      "source": [
        "def square(x):\n",
        "  try:\n",
        "    return x**2\n",
        "  except:\n",
        "    return None\n",
        "\n",
        "udf_square = udf(lambda x: square(x), IntegerType())\n",
        "\n",
        "company.withColumn('udf_age', udf_square('age')).show()"
      ],
      "metadata": {
        "colab": {
          "base_uri": "https://localhost:8080/"
        },
        "id": "PGg7VAE7SEZ0",
        "outputId": "e77d5619-7749-48af-9a73-93efcd3cb482"
      },
      "execution_count": 114,
      "outputs": [
        {
          "output_type": "stream",
          "name": "stdout",
          "text": [
            "+-------+----+----------+------+-------+\n",
            "|   name| age|experience|salary|udf_age|\n",
            "+-------+----+----------+------+-------+\n",
            "|  Krish|  31|        10| 40000|    961|\n",
            "|    Rob|  25|         8| 99999|    625|\n",
            "|  Sunny|  29|         2| 30000|    841|\n",
            "|   Paul|  24|         0| 30000|    576|\n",
            "|  Cauby|  23|         6| 15000|    529|\n",
            "|Claudio|  45|        12| 18000|   2025|\n",
            "|   NULL|NULL|      NULL| 40000|   NULL|\n",
            "|   NULL|  34|        10| 38000|   1156|\n",
            "|   NULL|  36|      NULL|  NULL|   1296|\n",
            "+-------+----+----------+------+-------+\n",
            "\n",
            "time: 463 ms (started: 2023-09-29 23:57:47 +00:00)\n"
          ]
        }
      ]
    },
    {
      "cell_type": "markdown",
      "source": [
        "Com a annotation abaixo não precisamos chamar a função `udf()`."
      ],
      "metadata": {
        "id": "mI1_p9PaYKMX"
      }
    },
    {
      "cell_type": "code",
      "source": [
        "@udf(returnType=IntegerType())\n",
        "def udf_plus_2(x):\n",
        "  try:\n",
        "    return x+2\n",
        "  except:\n",
        "    return None\n",
        "\n",
        "company.withColumn('udf_age', udf_plus_2('age')).show()"
      ],
      "metadata": {
        "colab": {
          "base_uri": "https://localhost:8080/"
        },
        "id": "mSPfbayJWKYB",
        "outputId": "7ece4b61-f681-418d-90eb-90989b1b3178"
      },
      "execution_count": 113,
      "outputs": [
        {
          "output_type": "stream",
          "name": "stdout",
          "text": [
            "+-------+----+----------+------+-------+\n",
            "|   name| age|experience|salary|udf_age|\n",
            "+-------+----+----------+------+-------+\n",
            "|  Krish|  31|        10| 40000|     33|\n",
            "|    Rob|  25|         8| 99999|     27|\n",
            "|  Sunny|  29|         2| 30000|     31|\n",
            "|   Paul|  24|         0| 30000|     26|\n",
            "|  Cauby|  23|         6| 15000|     25|\n",
            "|Claudio|  45|        12| 18000|     47|\n",
            "|   NULL|NULL|      NULL| 40000|   NULL|\n",
            "|   NULL|  34|        10| 38000|     36|\n",
            "|   NULL|  36|      NULL|  NULL|     38|\n",
            "+-------+----+----------+------+-------+\n",
            "\n",
            "time: 1.3 s (started: 2023-09-29 23:57:28 +00:00)\n"
          ]
        }
      ]
    }
  ],
  "metadata": {
    "colab": {
      "provenance": [],
      "toc_visible": true,
      "authorship_tag": "ABX9TyODKA9Go0ZWFPG9yqCaML8l"
    },
    "kernelspec": {
      "display_name": "Python 3",
      "name": "python3"
    },
    "language_info": {
      "name": "python"
    }
  },
  "nbformat": 4,
  "nbformat_minor": 0
}