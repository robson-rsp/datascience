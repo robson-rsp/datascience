{
  "nbformat": 4,
  "nbformat_minor": 0,
  "metadata": {
    "colab": {
      "provenance": [],
      "toc_visible": true,
      "authorship_tag": "ABX9TyPDkP5wIXgt49MRpl+jsbBi"
    },
    "kernelspec": {
      "name": "python3",
      "display_name": "Python 3"
    },
    "language_info": {
      "name": "python"
    }
  },
  "cells": [
    {
      "cell_type": "markdown",
      "source": [
        "# Pyspark SQL\n",
        "\n",
        "Este kernel possui alguns exemplos de código do módulo pyspark.sql.\n",
        "Apresenta exemplos de funções que implementam instruções SQL, como: SELECT, WHERE, GROUP BY, ORDER BY, PARTITION BY, entre outras.\n",
        "\n",
        "\n",
        "São usados dois datasets para os exemplos:\n",
        "*   housing.csv: contém informações sobre imóveis no estado da Califórnia;\n",
        "*   wc2018-players.csv: contém informações sobre jogadores de futebol da Copa do Mundo 2018."
      ],
      "metadata": {
        "id": "g1Sxu4CjDZiG"
      }
    },
    {
      "cell_type": "code",
      "execution_count": 62,
      "metadata": {
        "id": "xyfsd2bo5wVP",
        "colab": {
          "base_uri": "https://localhost:8080/"
        },
        "outputId": "bca79562-2889-48c9-d235-16641ffecc30"
      },
      "outputs": [
        {
          "output_type": "stream",
          "name": "stdout",
          "text": [
            "Requirement already satisfied: ipython-autotime in /usr/local/lib/python3.10/dist-packages (0.3.1)\n",
            "Requirement already satisfied: ipython in /usr/local/lib/python3.10/dist-packages (from ipython-autotime) (7.34.0)\n",
            "Requirement already satisfied: setuptools>=18.5 in /usr/local/lib/python3.10/dist-packages (from ipython->ipython-autotime) (67.7.2)\n",
            "Requirement already satisfied: jedi>=0.16 in /usr/local/lib/python3.10/dist-packages (from ipython->ipython-autotime) (0.19.0)\n",
            "Requirement already satisfied: decorator in /usr/local/lib/python3.10/dist-packages (from ipython->ipython-autotime) (4.4.2)\n",
            "Requirement already satisfied: pickleshare in /usr/local/lib/python3.10/dist-packages (from ipython->ipython-autotime) (0.7.5)\n",
            "Requirement already satisfied: traitlets>=4.2 in /usr/local/lib/python3.10/dist-packages (from ipython->ipython-autotime) (5.7.1)\n",
            "Requirement already satisfied: prompt-toolkit!=3.0.0,!=3.0.1,<3.1.0,>=2.0.0 in /usr/local/lib/python3.10/dist-packages (from ipython->ipython-autotime) (3.0.39)\n",
            "Requirement already satisfied: pygments in /usr/local/lib/python3.10/dist-packages (from ipython->ipython-autotime) (2.16.1)\n",
            "Requirement already satisfied: backcall in /usr/local/lib/python3.10/dist-packages (from ipython->ipython-autotime) (0.2.0)\n",
            "Requirement already satisfied: matplotlib-inline in /usr/local/lib/python3.10/dist-packages (from ipython->ipython-autotime) (0.1.6)\n",
            "Requirement already satisfied: pexpect>4.3 in /usr/local/lib/python3.10/dist-packages (from ipython->ipython-autotime) (4.8.0)\n",
            "Requirement already satisfied: parso<0.9.0,>=0.8.3 in /usr/local/lib/python3.10/dist-packages (from jedi>=0.16->ipython->ipython-autotime) (0.8.3)\n",
            "Requirement already satisfied: ptyprocess>=0.5 in /usr/local/lib/python3.10/dist-packages (from pexpect>4.3->ipython->ipython-autotime) (0.7.0)\n",
            "Requirement already satisfied: wcwidth in /usr/local/lib/python3.10/dist-packages (from prompt-toolkit!=3.0.0,!=3.0.1,<3.1.0,>=2.0.0->ipython->ipython-autotime) (0.2.6)\n",
            "Requirement already satisfied: pyspark in /usr/local/lib/python3.10/dist-packages (3.4.1)\n",
            "Requirement already satisfied: py4j==0.10.9.7 in /usr/local/lib/python3.10/dist-packages (from pyspark) (0.10.9.7)\n",
            "time: 11.9 s (started: 2023-09-19 20:55:28 +00:00)\n"
          ]
        }
      ],
      "source": [
        "%pip install ipython-autotime\n",
        "%pip install pyspark"
      ]
    },
    {
      "cell_type": "markdown",
      "source": [
        "Trecho de código opcional que resolve problema de compatibilidade entre a linguagem Python e o PySpark."
      ],
      "metadata": {
        "id": "9U_63vwhpUmt"
      }
    },
    {
      "cell_type": "code",
      "source": [
        "%%script echo 'ignore cell'\n",
        "import os\n",
        "import sys\n",
        "\n",
        "os.environ['PYSPARK_PYTHON'] = sys.executable\n",
        "os.environ['PYSPARK_DRIVER_PYTHON'] = sys.executable"
      ],
      "metadata": {
        "colab": {
          "base_uri": "https://localhost:8080/"
        },
        "id": "Tw7wn82BksRS",
        "outputId": "1103222b-07b7-4ffa-a79d-7f2b40f910fd"
      },
      "execution_count": 63,
      "outputs": [
        {
          "output_type": "stream",
          "name": "stdout",
          "text": [
            "ignore cell\n",
            "time: 9.21 ms (started: 2023-09-19 20:55:40 +00:00)\n"
          ]
        }
      ]
    },
    {
      "cell_type": "markdown",
      "source": [
        "# Imports básicos."
      ],
      "metadata": {
        "id": "zWAHEyAxpgRU"
      }
    },
    {
      "cell_type": "code",
      "source": [
        "from google.colab          import drive, files\n",
        "from pyspark.sql           import SparkSession\n",
        "from pyspark.sql.functions import *\n",
        "from pyspark.sql.types     import *\n",
        "from pyspark.sql.window    import Window\n",
        "\n",
        "%load_ext autotime"
      ],
      "metadata": {
        "id": "LO_fhEZL8qXK",
        "colab": {
          "base_uri": "https://localhost:8080/"
        },
        "outputId": "3cab6a9e-ce1d-4340-80fa-1b53f4132287"
      },
      "execution_count": 64,
      "outputs": [
        {
          "output_type": "stream",
          "name": "stdout",
          "text": [
            "The autotime extension is already loaded. To reload it, use:\n",
            "  %reload_ext autotime\n",
            "time: 2.92 ms (started: 2023-09-19 20:55:40 +00:00)\n"
          ]
        }
      ]
    },
    {
      "cell_type": "markdown",
      "source": [
        "# Início da sessão."
      ],
      "metadata": {
        "id": "aAswoIY9pnoP"
      }
    },
    {
      "cell_type": "code",
      "source": [
        "drive.mount('/content/drive', force_remount=True)\n",
        "spark = SparkSession.builder.master('local').appName('pyspark_app').getOrCreate()\n",
        "spark"
      ],
      "metadata": {
        "colab": {
          "base_uri": "https://localhost:8080/",
          "height": 254
        },
        "id": "Yk5ZIoBYiDu2",
        "outputId": "03c4ac2b-b15c-4860-e4f9-002f91eb9905"
      },
      "execution_count": 65,
      "outputs": [
        {
          "output_type": "stream",
          "name": "stdout",
          "text": [
            "Mounted at /content/drive\n"
          ]
        },
        {
          "output_type": "execute_result",
          "data": {
            "text/plain": [
              "<pyspark.sql.session.SparkSession at 0x7c08e80f1c60>"
            ],
            "text/html": [
              "\n",
              "            <div>\n",
              "                <p><b>SparkSession - in-memory</b></p>\n",
              "                \n",
              "        <div>\n",
              "            <p><b>SparkContext</b></p>\n",
              "\n",
              "            <p><a href=\"http://513c3f527919:4040\">Spark UI</a></p>\n",
              "\n",
              "            <dl>\n",
              "              <dt>Version</dt>\n",
              "                <dd><code>v3.4.1</code></dd>\n",
              "              <dt>Master</dt>\n",
              "                <dd><code>local</code></dd>\n",
              "              <dt>AppName</dt>\n",
              "                <dd><code>pyspark_app</code></dd>\n",
              "            </dl>\n",
              "        </div>\n",
              "        \n",
              "            </div>\n",
              "        "
            ]
          },
          "metadata": {},
          "execution_count": 65
        },
        {
          "output_type": "stream",
          "name": "stdout",
          "text": [
            "time: 4.79 s (started: 2023-09-19 20:55:40 +00:00)\n"
          ]
        }
      ]
    },
    {
      "cell_type": "code",
      "source": [
        "df = spark.read.csv(\"/content/drive/MyDrive/datasets/housing/housing.csv\", header=True, inferSchema=True, encoding='utf-8')\n",
        "df = df.drop('housing_median_age', 'population', 'median_income', 'median_house_value') # remoção de atributos desnecessários\n",
        "print(type(df))\n",
        "print(f'rows: {df.count()}')\n",
        "print(f'cols: {len(df.columns)}')"
      ],
      "metadata": {
        "colab": {
          "base_uri": "https://localhost:8080/"
        },
        "id": "nF-O2mzVmGVX",
        "outputId": "28f116b7-e98b-49ed-a9d5-8a6010e2b904"
      },
      "execution_count": 66,
      "outputs": [
        {
          "output_type": "stream",
          "name": "stdout",
          "text": [
            "<class 'pyspark.sql.dataframe.DataFrame'>\n",
            "rows: 20640\n",
            "cols: 6\n",
            "time: 1.06 s (started: 2023-09-19 20:55:44 +00:00)\n"
          ]
        }
      ]
    },
    {
      "cell_type": "markdown",
      "source": [
        "# Funções descritivas básicas."
      ],
      "metadata": {
        "id": "qSKwsHHsE0c3"
      }
    },
    {
      "cell_type": "code",
      "source": [
        "df.show(5)"
      ],
      "metadata": {
        "colab": {
          "base_uri": "https://localhost:8080/"
        },
        "id": "waAJ4QLDE3xU",
        "outputId": "d87e9cbb-d27c-4e73-e421-16e081e2ec68"
      },
      "execution_count": 67,
      "outputs": [
        {
          "output_type": "stream",
          "name": "stdout",
          "text": [
            "+---------+--------+-----------+--------------+----------+---------------+\n",
            "|longitude|latitude|total_rooms|total_bedrooms|households|ocean_proximity|\n",
            "+---------+--------+-----------+--------------+----------+---------------+\n",
            "|  -122.23|   37.88|      880.0|         129.0|     126.0|       NEAR BAY|\n",
            "|  -122.22|   37.86|     7099.0|        1106.0|    1138.0|       NEAR BAY|\n",
            "|  -122.24|   37.85|     1467.0|         190.0|     177.0|       NEAR BAY|\n",
            "|  -122.25|   37.85|     1274.0|         235.0|     219.0|       NEAR BAY|\n",
            "|  -122.25|   37.85|     1627.0|         280.0|     259.0|       NEAR BAY|\n",
            "+---------+--------+-----------+--------------+----------+---------------+\n",
            "only showing top 5 rows\n",
            "\n",
            "time: 389 ms (started: 2023-09-19 20:55:45 +00:00)\n"
          ]
        }
      ]
    },
    {
      "cell_type": "code",
      "source": [
        "print(df.columns)"
      ],
      "metadata": {
        "colab": {
          "base_uri": "https://localhost:8080/"
        },
        "id": "CCZm02HJsVL5",
        "outputId": "150c9ce5-83c1-475e-a198-65ded26a121d"
      },
      "execution_count": 68,
      "outputs": [
        {
          "output_type": "stream",
          "name": "stdout",
          "text": [
            "['longitude', 'latitude', 'total_rooms', 'total_bedrooms', 'households', 'ocean_proximity']\n",
            "time: 552 µs (started: 2023-09-19 20:55:46 +00:00)\n"
          ]
        }
      ]
    },
    {
      "cell_type": "code",
      "source": [
        "df.printSchema()"
      ],
      "metadata": {
        "colab": {
          "base_uri": "https://localhost:8080/"
        },
        "id": "Tho1zkZth2MN",
        "outputId": "8fbcd98f-4ea7-4bed-d3aa-2f6cf56d6653"
      },
      "execution_count": 69,
      "outputs": [
        {
          "output_type": "stream",
          "name": "stdout",
          "text": [
            "root\n",
            " |-- longitude: double (nullable = true)\n",
            " |-- latitude: double (nullable = true)\n",
            " |-- total_rooms: double (nullable = true)\n",
            " |-- total_bedrooms: double (nullable = true)\n",
            " |-- households: double (nullable = true)\n",
            " |-- ocean_proximity: string (nullable = true)\n",
            "\n",
            "time: 7.26 ms (started: 2023-09-19 20:55:46 +00:00)\n"
          ]
        }
      ]
    },
    {
      "cell_type": "code",
      "source": [
        "df.describe().show()"
      ],
      "metadata": {
        "colab": {
          "base_uri": "https://localhost:8080/"
        },
        "id": "YU3oj1JxE-os",
        "outputId": "d67f0670-ea72-431a-de4b-1e4654d63ab7"
      },
      "execution_count": 70,
      "outputs": [
        {
          "output_type": "stream",
          "name": "stdout",
          "text": [
            "+-------+-------------------+-----------------+------------------+------------------+-----------------+---------------+\n",
            "|summary|          longitude|         latitude|       total_rooms|    total_bedrooms|       households|ocean_proximity|\n",
            "+-------+-------------------+-----------------+------------------+------------------+-----------------+---------------+\n",
            "|  count|              20640|            20640|             20640|             20433|            20640|          20640|\n",
            "|   mean|-119.56970445736148| 35.6318614341087|2635.7630813953488| 537.8705525375618|499.5396802325581|           null|\n",
            "| stddev|  2.003531723502584|2.135952397457101|2181.6152515827944|421.38507007403115|382.3297528316098|           null|\n",
            "|    min|            -124.35|            32.54|               2.0|               1.0|              1.0|      <1H OCEAN|\n",
            "|    max|            -114.31|            41.95|           39320.0|            6445.0|           6082.0|     NEAR OCEAN|\n",
            "+-------+-------------------+-----------------+------------------+------------------+-----------------+---------------+\n",
            "\n",
            "time: 1.62 s (started: 2023-09-19 20:55:46 +00:00)\n"
          ]
        }
      ]
    },
    {
      "cell_type": "markdown",
      "source": [
        "# Funções úteis para feature engineering."
      ],
      "metadata": {
        "id": "sOe4mRqMFEPZ"
      }
    },
    {
      "cell_type": "markdown",
      "source": [
        "## Atributos"
      ],
      "metadata": {
        "id": "UTA4QbYtunoX"
      }
    },
    {
      "cell_type": "markdown",
      "source": [
        "### Renomeação\n",
        "Transformando tudo em letras maiúsculas."
      ],
      "metadata": {
        "id": "2K3cJJC0r4-n"
      }
    },
    {
      "cell_type": "code",
      "source": [
        "upper = [column.upper() for column in df.columns]\n",
        "for column, up in zip(df.columns, upper):\n",
        "  df = df.withColumnRenamed(column, up)\n",
        "print(df.columns)"
      ],
      "metadata": {
        "colab": {
          "base_uri": "https://localhost:8080/"
        },
        "id": "FB73DskfupN2",
        "outputId": "8a3ef02c-934d-4b0a-cdf4-38ecf4218ab6"
      },
      "execution_count": 71,
      "outputs": [
        {
          "output_type": "stream",
          "name": "stdout",
          "text": [
            "['LONGITUDE', 'LATITUDE', 'TOTAL_ROOMS', 'TOTAL_BEDROOMS', 'HOUSEHOLDS', 'OCEAN_PROXIMITY']\n",
            "time: 28.8 ms (started: 2023-09-19 20:55:48 +00:00)\n"
          ]
        }
      ]
    },
    {
      "cell_type": "markdown",
      "source": [
        "Transformando tudo em letras minúsculas."
      ],
      "metadata": {
        "id": "dpT_yQZRxufp"
      }
    },
    {
      "cell_type": "code",
      "source": [
        "lower = [column.lower() for column in df.columns]\n",
        "for column, low in zip(df.columns, lower):\n",
        "  df = df.withColumnRenamed(column, low)\n",
        "print(df.columns)"
      ],
      "metadata": {
        "colab": {
          "base_uri": "https://localhost:8080/"
        },
        "id": "xHYk3Z5zxBeE",
        "outputId": "e168d287-c1eb-401f-b25f-c7caf5f832e4"
      },
      "execution_count": 72,
      "outputs": [
        {
          "output_type": "stream",
          "name": "stdout",
          "text": [
            "['longitude', 'latitude', 'total_rooms', 'total_bedrooms', 'households', 'ocean_proximity']\n",
            "time: 33.2 ms (started: 2023-09-19 20:55:48 +00:00)\n"
          ]
        }
      ]
    },
    {
      "cell_type": "markdown",
      "source": [
        "Atribuindo um 'alias' a cada atributo selecionado. Só pode ser feito através da função col() que retorna um objeto Column.\n"
      ],
      "metadata": {
        "id": "MV5169vkJuIZ"
      }
    },
    {
      "cell_type": "code",
      "source": [
        "lat = col('latitude').alias('lat')\n",
        "lon = col('longitude').alias('lon')\n",
        "\n",
        "print(lat)\n",
        "df.select([lat, lon]).show(5)"
      ],
      "metadata": {
        "colab": {
          "base_uri": "https://localhost:8080/"
        },
        "id": "bzWH6uZHJzXj",
        "outputId": "c8e11ab4-33ab-45cd-d90c-c9abe59df8b6"
      },
      "execution_count": 73,
      "outputs": [
        {
          "output_type": "stream",
          "name": "stdout",
          "text": [
            "Column<'latitude AS lat'>\n",
            "+-----+-------+\n",
            "|  lat|    lon|\n",
            "+-----+-------+\n",
            "|37.88|-122.23|\n",
            "|37.86|-122.22|\n",
            "|37.85|-122.24|\n",
            "|37.85|-122.25|\n",
            "|37.85|-122.25|\n",
            "+-----+-------+\n",
            "only showing top 5 rows\n",
            "\n",
            "time: 150 ms (started: 2023-09-19 20:55:48 +00:00)\n"
          ]
        }
      ]
    },
    {
      "cell_type": "markdown",
      "source": [
        "### Instrução: SELECT"
      ],
      "metadata": {
        "id": "1W91ziDzymS7"
      }
    },
    {
      "cell_type": "code",
      "source": [
        "print(type(df.select(['longitude', 'latitude', 'households'])))\n",
        "df.select(['longitude', 'latitude', 'households']).show(5)"
      ],
      "metadata": {
        "colab": {
          "base_uri": "https://localhost:8080/"
        },
        "id": "I4M9QyqyxWWu",
        "outputId": "d6298f8c-e4a3-4c9c-e6a1-5ecd2dda01db"
      },
      "execution_count": 74,
      "outputs": [
        {
          "output_type": "stream",
          "name": "stdout",
          "text": [
            "<class 'pyspark.sql.dataframe.DataFrame'>\n",
            "+---------+--------+----------+\n",
            "|longitude|latitude|households|\n",
            "+---------+--------+----------+\n",
            "|  -122.23|   37.88|     126.0|\n",
            "|  -122.22|   37.86|    1138.0|\n",
            "|  -122.24|   37.85|     177.0|\n",
            "|  -122.25|   37.85|     219.0|\n",
            "|  -122.25|   37.85|     259.0|\n",
            "+---------+--------+----------+\n",
            "only showing top 5 rows\n",
            "\n",
            "time: 260 ms (started: 2023-09-19 20:55:48 +00:00)\n"
          ]
        }
      ]
    },
    {
      "cell_type": "markdown",
      "source": [
        "Forma alternativa utilizando a função col() que retorna um objeto da classe Column."
      ],
      "metadata": {
        "id": "K0TmUCh3I_XI"
      }
    },
    {
      "cell_type": "code",
      "source": [
        "print(type(df.select([col('latitude'), col('longitude'), col('households')])))\n",
        "df.select([col('latitude'), col('longitude'), col('households')]).show(5)"
      ],
      "metadata": {
        "colab": {
          "base_uri": "https://localhost:8080/"
        },
        "id": "HKWtaCa5HLRI",
        "outputId": "4a796431-30dc-47c1-f61e-e86ecd2c3d8c"
      },
      "execution_count": 75,
      "outputs": [
        {
          "output_type": "stream",
          "name": "stdout",
          "text": [
            "<class 'pyspark.sql.dataframe.DataFrame'>\n",
            "+--------+---------+----------+\n",
            "|latitude|longitude|households|\n",
            "+--------+---------+----------+\n",
            "|   37.88|  -122.23|     126.0|\n",
            "|   37.86|  -122.22|    1138.0|\n",
            "|   37.85|  -122.24|     177.0|\n",
            "|   37.85|  -122.25|     219.0|\n",
            "|   37.85|  -122.25|     259.0|\n",
            "+--------+---------+----------+\n",
            "only showing top 5 rows\n",
            "\n",
            "time: 301 ms (started: 2023-09-19 20:55:48 +00:00)\n"
          ]
        }
      ]
    },
    {
      "cell_type": "markdown",
      "source": [
        "### Criação\n",
        "Atribuo um valor literal(True) à nova coluna chamada 'new_col'. A função lit() retorna um objeto Column."
      ],
      "metadata": {
        "id": "bj8Tl9M7sjmb"
      }
    },
    {
      "cell_type": "code",
      "source": [
        "df.withColumn('new_col', lit(True)).show(5)"
      ],
      "metadata": {
        "colab": {
          "base_uri": "https://localhost:8080/"
        },
        "id": "5Qi7KZObQsPN",
        "outputId": "19bbc5e4-d7c8-4034-d614-f6fec4bb72ce"
      },
      "execution_count": 76,
      "outputs": [
        {
          "output_type": "stream",
          "name": "stdout",
          "text": [
            "+---------+--------+-----------+--------------+----------+---------------+-------+\n",
            "|longitude|latitude|total_rooms|total_bedrooms|households|ocean_proximity|new_col|\n",
            "+---------+--------+-----------+--------------+----------+---------------+-------+\n",
            "|  -122.23|   37.88|      880.0|         129.0|     126.0|       NEAR BAY|   true|\n",
            "|  -122.22|   37.86|     7099.0|        1106.0|    1138.0|       NEAR BAY|   true|\n",
            "|  -122.24|   37.85|     1467.0|         190.0|     177.0|       NEAR BAY|   true|\n",
            "|  -122.25|   37.85|     1274.0|         235.0|     219.0|       NEAR BAY|   true|\n",
            "|  -122.25|   37.85|     1627.0|         280.0|     259.0|       NEAR BAY|   true|\n",
            "+---------+--------+-----------+--------------+----------+---------------+-------+\n",
            "only showing top 5 rows\n",
            "\n",
            "time: 198 ms (started: 2023-09-19 20:55:48 +00:00)\n"
          ]
        }
      ]
    },
    {
      "cell_type": "markdown",
      "source": [
        "Nova coluna criada a partir de uma operação matemática entre outras duas. Neste caso é preciso que os atributos sejam numéricos."
      ],
      "metadata": {
        "id": "hOkAB1a3s20E"
      }
    },
    {
      "cell_type": "code",
      "source": [
        "result = df['total_bedrooms'] / df['total_rooms']\n",
        "print(type(result))\n",
        "df.withColumn('new_col', result).show(5)"
      ],
      "metadata": {
        "colab": {
          "base_uri": "https://localhost:8080/"
        },
        "id": "Qo4tlcTVRblw",
        "outputId": "9272c4ef-e911-4a59-c90a-5d3b2891f7fc"
      },
      "execution_count": 77,
      "outputs": [
        {
          "output_type": "stream",
          "name": "stdout",
          "text": [
            "<class 'pyspark.sql.column.Column'>\n",
            "+---------+--------+-----------+--------------+----------+---------------+-------------------+\n",
            "|longitude|latitude|total_rooms|total_bedrooms|households|ocean_proximity|            new_col|\n",
            "+---------+--------+-----------+--------------+----------+---------------+-------------------+\n",
            "|  -122.23|   37.88|      880.0|         129.0|     126.0|       NEAR BAY|0.14659090909090908|\n",
            "|  -122.22|   37.86|     7099.0|        1106.0|    1138.0|       NEAR BAY|0.15579659106916466|\n",
            "|  -122.24|   37.85|     1467.0|         190.0|     177.0|       NEAR BAY|0.12951601908657123|\n",
            "|  -122.25|   37.85|     1274.0|         235.0|     219.0|       NEAR BAY|0.18445839874411302|\n",
            "|  -122.25|   37.85|     1627.0|         280.0|     259.0|       NEAR BAY| 0.1720958819913952|\n",
            "+---------+--------+-----------+--------------+----------+---------------+-------------------+\n",
            "only showing top 5 rows\n",
            "\n",
            "time: 336 ms (started: 2023-09-19 20:55:49 +00:00)\n"
          ]
        }
      ]
    },
    {
      "cell_type": "markdown",
      "source": [
        "Nova coluna usando a função substring()."
      ],
      "metadata": {
        "id": "G5JqVBMTtJH_"
      }
    },
    {
      "cell_type": "code",
      "source": [
        "df.withColumn('new_col', substring('ocean_proximity', 1, 4)).show(5)"
      ],
      "metadata": {
        "colab": {
          "base_uri": "https://localhost:8080/"
        },
        "id": "WTWf5PseValt",
        "outputId": "abbffeaf-957c-4a6f-ae70-f6ec753dd1c2"
      },
      "execution_count": 78,
      "outputs": [
        {
          "output_type": "stream",
          "name": "stdout",
          "text": [
            "+---------+--------+-----------+--------------+----------+---------------+-------+\n",
            "|longitude|latitude|total_rooms|total_bedrooms|households|ocean_proximity|new_col|\n",
            "+---------+--------+-----------+--------------+----------+---------------+-------+\n",
            "|  -122.23|   37.88|      880.0|         129.0|     126.0|       NEAR BAY|   NEAR|\n",
            "|  -122.22|   37.86|     7099.0|        1106.0|    1138.0|       NEAR BAY|   NEAR|\n",
            "|  -122.24|   37.85|     1467.0|         190.0|     177.0|       NEAR BAY|   NEAR|\n",
            "|  -122.25|   37.85|     1274.0|         235.0|     219.0|       NEAR BAY|   NEAR|\n",
            "|  -122.25|   37.85|     1627.0|         280.0|     259.0|       NEAR BAY|   NEAR|\n",
            "+---------+--------+-----------+--------------+----------+---------------+-------+\n",
            "only showing top 5 rows\n",
            "\n",
            "time: 156 ms (started: 2023-09-19 20:55:49 +00:00)\n"
          ]
        }
      ]
    },
    {
      "cell_type": "markdown",
      "source": [
        "Concatenando dois atributos para formar um novo."
      ],
      "metadata": {
        "id": "3lPUpCmxtRuh"
      }
    },
    {
      "cell_type": "code",
      "source": [
        "df.withColumn('new_col', concat(df['latitude'], df['longitude'])).show(10)"
      ],
      "metadata": {
        "colab": {
          "base_uri": "https://localhost:8080/"
        },
        "id": "sknwYbdmmVlj",
        "outputId": "183e7459-7d9b-493b-d015-2780d15f4d19"
      },
      "execution_count": 79,
      "outputs": [
        {
          "output_type": "stream",
          "name": "stdout",
          "text": [
            "+---------+--------+-----------+--------------+----------+---------------+------------+\n",
            "|longitude|latitude|total_rooms|total_bedrooms|households|ocean_proximity|     new_col|\n",
            "+---------+--------+-----------+--------------+----------+---------------+------------+\n",
            "|  -122.23|   37.88|      880.0|         129.0|     126.0|       NEAR BAY|37.88-122.23|\n",
            "|  -122.22|   37.86|     7099.0|        1106.0|    1138.0|       NEAR BAY|37.86-122.22|\n",
            "|  -122.24|   37.85|     1467.0|         190.0|     177.0|       NEAR BAY|37.85-122.24|\n",
            "|  -122.25|   37.85|     1274.0|         235.0|     219.0|       NEAR BAY|37.85-122.25|\n",
            "|  -122.25|   37.85|     1627.0|         280.0|     259.0|       NEAR BAY|37.85-122.25|\n",
            "|  -122.25|   37.85|      919.0|         213.0|     193.0|       NEAR BAY|37.85-122.25|\n",
            "|  -122.25|   37.84|     2535.0|         489.0|     514.0|       NEAR BAY|37.84-122.25|\n",
            "|  -122.25|   37.84|     3104.0|         687.0|     647.0|       NEAR BAY|37.84-122.25|\n",
            "|  -122.26|   37.84|     2555.0|         665.0|     595.0|       NEAR BAY|37.84-122.26|\n",
            "|  -122.25|   37.84|     3549.0|         707.0|     714.0|       NEAR BAY|37.84-122.25|\n",
            "+---------+--------+-----------+--------------+----------+---------------+------------+\n",
            "only showing top 10 rows\n",
            "\n",
            "time: 182 ms (started: 2023-09-19 20:55:49 +00:00)\n"
          ]
        }
      ]
    },
    {
      "cell_type": "code",
      "source": [
        "df.withColumn('new_col', concat_ws(' # ', df['latitude'], df['longitude'])).show(10)"
      ],
      "metadata": {
        "colab": {
          "base_uri": "https://localhost:8080/"
        },
        "id": "nHV3Ia0RmzkO",
        "outputId": "e7b0c9c6-9956-4688-bcaa-f75afcbfa60b"
      },
      "execution_count": 80,
      "outputs": [
        {
          "output_type": "stream",
          "name": "stdout",
          "text": [
            "+---------+--------+-----------+--------------+----------+---------------+---------------+\n",
            "|longitude|latitude|total_rooms|total_bedrooms|households|ocean_proximity|        new_col|\n",
            "+---------+--------+-----------+--------------+----------+---------------+---------------+\n",
            "|  -122.23|   37.88|      880.0|         129.0|     126.0|       NEAR BAY|37.88 # -122.23|\n",
            "|  -122.22|   37.86|     7099.0|        1106.0|    1138.0|       NEAR BAY|37.86 # -122.22|\n",
            "|  -122.24|   37.85|     1467.0|         190.0|     177.0|       NEAR BAY|37.85 # -122.24|\n",
            "|  -122.25|   37.85|     1274.0|         235.0|     219.0|       NEAR BAY|37.85 # -122.25|\n",
            "|  -122.25|   37.85|     1627.0|         280.0|     259.0|       NEAR BAY|37.85 # -122.25|\n",
            "|  -122.25|   37.85|      919.0|         213.0|     193.0|       NEAR BAY|37.85 # -122.25|\n",
            "|  -122.25|   37.84|     2535.0|         489.0|     514.0|       NEAR BAY|37.84 # -122.25|\n",
            "|  -122.25|   37.84|     3104.0|         687.0|     647.0|       NEAR BAY|37.84 # -122.25|\n",
            "|  -122.26|   37.84|     2555.0|         665.0|     595.0|       NEAR BAY|37.84 # -122.26|\n",
            "|  -122.25|   37.84|     3549.0|         707.0|     714.0|       NEAR BAY|37.84 # -122.25|\n",
            "+---------+--------+-----------+--------------+----------+---------------+---------------+\n",
            "only showing top 10 rows\n",
            "\n",
            "time: 453 ms (started: 2023-09-19 20:55:49 +00:00)\n"
          ]
        }
      ]
    },
    {
      "cell_type": "markdown",
      "source": [
        "## Valores NaN"
      ],
      "metadata": {
        "id": "PiY9YFQcuj9D"
      }
    },
    {
      "cell_type": "markdown",
      "source": [
        "### Identificação"
      ],
      "metadata": {
        "id": "rx8fAg-0tzHZ"
      }
    },
    {
      "cell_type": "code",
      "source": [
        "for column in df.columns:\n",
        "  mask = df['longitude'].isNull()\n",
        "  nan_amount = df.filter(mask).count()\n",
        "  print(f'{column}: {nan_amount}')"
      ],
      "metadata": {
        "colab": {
          "base_uri": "https://localhost:8080/"
        },
        "id": "YCL_rGlqr825",
        "outputId": "70a82aa6-bd44-40b8-db45-d99f8f5fed44"
      },
      "execution_count": 81,
      "outputs": [
        {
          "output_type": "stream",
          "name": "stdout",
          "text": [
            "longitude: 0\n",
            "latitude: 0\n",
            "total_rooms: 0\n",
            "total_bedrooms: 0\n",
            "households: 0\n",
            "ocean_proximity: 0\n",
            "time: 4.71 s (started: 2023-09-19 20:55:50 +00:00)\n"
          ]
        }
      ]
    },
    {
      "cell_type": "markdown",
      "source": [
        "--------------"
      ],
      "metadata": {
        "id": "dDYOJ-FT8CSK"
      }
    },
    {
      "cell_type": "markdown",
      "source": [
        "# Outro dataset\n",
        "Vou usar outro dataset que contenha datas em formato string para fazer a conversão de string para o formato DateType."
      ],
      "metadata": {
        "id": "FpJfbpCtuLXq"
      }
    },
    {
      "cell_type": "code",
      "source": [
        "df = spark.read.csv(\"/content/drive/MyDrive/datasets/wc2018-players.csv\", header=True, inferSchema=True, encoding='utf-8')\n",
        "df = df.drop('#', 'dia', 'mes', 'ano', 'club') # remoção de atributos desnecessários\n",
        "print(type(df))\n",
        "print(f'rows: {df.count()}')\n",
        "print(f'cols: {len(df.columns)}')\n",
        "df.show(5)"
      ],
      "metadata": {
        "colab": {
          "base_uri": "https://localhost:8080/"
        },
        "id": "uR8OBC6GpGFF",
        "outputId": "4d2ca789-813d-4a94-bb80-636db521b7b6"
      },
      "execution_count": 82,
      "outputs": [
        {
          "output_type": "stream",
          "name": "stdout",
          "text": [
            "<class 'pyspark.sql.dataframe.DataFrame'>\n",
            "rows: 736\n",
            "cols: 7\n",
            "+---------+----+------------------+----------+----------+------+------+\n",
            "|     Team|Pos.| FIFA Popular Name|Birth Date|Shirt Name|Height|Weight|\n",
            "+---------+----+------------------+----------+----------+------+------+\n",
            "|Argentina|  DF|TAGLIAFICO Nicolas|31.08.1992|TAGLIAFICO|   169|    65|\n",
            "|Argentina|  MF|    PAVON Cristian|21.01.1996|     PAVÓN|   169|    65|\n",
            "|Argentina|  MF|    LANZINI Manuel|15.02.1993|   LANZINI|   167|    66|\n",
            "|Argentina|  DF|    SALVIO Eduardo|13.07.1990|    SALVIO|   167|    69|\n",
            "|Argentina|  FW|      MESSI Lionel|24.06.1987|     MESSI|   170|    72|\n",
            "+---------+----+------------------+----------+----------+------+------+\n",
            "only showing top 5 rows\n",
            "\n",
            "time: 1.57 s (started: 2023-09-19 20:55:54 +00:00)\n"
          ]
        }
      ]
    },
    {
      "cell_type": "code",
      "source": [
        "df.printSchema()"
      ],
      "metadata": {
        "colab": {
          "base_uri": "https://localhost:8080/"
        },
        "id": "9lzNdh4xpYUq",
        "outputId": "c4261802-2e8e-4b7b-edbd-dcec6d3fb8ae"
      },
      "execution_count": 83,
      "outputs": [
        {
          "output_type": "stream",
          "name": "stdout",
          "text": [
            "root\n",
            " |-- Team: string (nullable = true)\n",
            " |-- Pos.: string (nullable = true)\n",
            " |-- FIFA Popular Name: string (nullable = true)\n",
            " |-- Birth Date: string (nullable = true)\n",
            " |-- Shirt Name: string (nullable = true)\n",
            " |-- Height: integer (nullable = true)\n",
            " |-- Weight: integer (nullable = true)\n",
            "\n",
            "time: 3.58 ms (started: 2023-09-19 20:55:56 +00:00)\n"
          ]
        }
      ]
    },
    {
      "cell_type": "markdown",
      "source": [
        "Vou renomear as colunas convertendo-as para letras minúsculas."
      ],
      "metadata": {
        "id": "NtCFp9Ya8GAv"
      }
    },
    {
      "cell_type": "code",
      "source": [
        "lower = [column.lower() for column in df.columns]\n",
        "for column, low in zip(df.columns, lower):\n",
        "  df = df.withColumnRenamed(column, low)\n",
        "\n",
        "df = df.withColumnRenamed('pos.', 'pos')\n",
        "print(df.columns)"
      ],
      "metadata": {
        "colab": {
          "base_uri": "https://localhost:8080/"
        },
        "id": "IbbSHIzX8M__",
        "outputId": "c8c0dc52-fe13-42a9-dacc-fa29bc56f4aa"
      },
      "execution_count": 84,
      "outputs": [
        {
          "output_type": "stream",
          "name": "stdout",
          "text": [
            "['team', 'pos', 'fifa popular name', 'birth date', 'shirt name', 'height', 'weight']\n",
            "time: 450 ms (started: 2023-09-19 20:55:56 +00:00)\n"
          ]
        }
      ]
    },
    {
      "cell_type": "markdown",
      "source": [
        "Note que 'birth date' está no formato string e também o separador dos componentes YYY, MM, DD é um ponto. Abaixo vemos uma forma de extrair os componentes."
      ],
      "metadata": {
        "id": "lptmUlt7uQuF"
      }
    },
    {
      "cell_type": "code",
      "source": [
        "dia = udf(lambda date:date.split('.')[0])\n",
        "mes = udf(lambda date:date.split('.')[1])\n",
        "ano = udf(lambda date:date.split('.')[2])\n",
        "\n",
        "df = df.withColumn('dia', dia('birth date'))\n",
        "df = df.withColumn('mes', mes('birth date'))\n",
        "df = df.withColumn('ano', ano('birth date'))\n",
        "\n",
        "df.show(5)"
      ],
      "metadata": {
        "colab": {
          "base_uri": "https://localhost:8080/"
        },
        "id": "yUX4KfScuj0j",
        "outputId": "55339c2d-8125-40e9-df2f-ce29cdbc8702"
      },
      "execution_count": 85,
      "outputs": [
        {
          "output_type": "stream",
          "name": "stdout",
          "text": [
            "+---------+---+------------------+----------+----------+------+------+---+---+----+\n",
            "|     team|pos| fifa popular name|birth date|shirt name|height|weight|dia|mes| ano|\n",
            "+---------+---+------------------+----------+----------+------+------+---+---+----+\n",
            "|Argentina| DF|TAGLIAFICO Nicolas|31.08.1992|TAGLIAFICO|   169|    65| 31| 08|1992|\n",
            "|Argentina| MF|    PAVON Cristian|21.01.1996|     PAVÓN|   169|    65| 21| 01|1996|\n",
            "|Argentina| MF|    LANZINI Manuel|15.02.1993|   LANZINI|   167|    66| 15| 02|1993|\n",
            "|Argentina| DF|    SALVIO Eduardo|13.07.1990|    SALVIO|   167|    69| 13| 07|1990|\n",
            "|Argentina| FW|      MESSI Lionel|24.06.1987|     MESSI|   170|    72| 24| 06|1987|\n",
            "+---------+---+------------------+----------+----------+------+------+---+---+----+\n",
            "only showing top 5 rows\n",
            "\n",
            "time: 1.23 s (started: 2023-09-19 20:55:57 +00:00)\n"
          ]
        }
      ]
    },
    {
      "cell_type": "markdown",
      "source": [
        "A conversão de \"birth date\" para o formato DateType pode ser feita da seguinte forma."
      ],
      "metadata": {
        "id": "bWSmfgQWXe4g"
      }
    },
    {
      "cell_type": "code",
      "source": [
        "df.withColumn('data nascimento', to_date(col(\"birth date\"), \"dd.MM.yyyy\")).printSchema()\n",
        "# ou\n",
        "#df.withColumn('Data', to_date(col(\"birth date\"), \"dd.MM.yyyy\").cast(DateType())).printSchema()"
      ],
      "metadata": {
        "colab": {
          "base_uri": "https://localhost:8080/"
        },
        "id": "lh_JlUfxXm6f",
        "outputId": "99a7974e-f328-41a3-9287-130f6102888b"
      },
      "execution_count": 86,
      "outputs": [
        {
          "output_type": "stream",
          "name": "stdout",
          "text": [
            "root\n",
            " |-- team: string (nullable = true)\n",
            " |-- pos: string (nullable = true)\n",
            " |-- fifa popular name: string (nullable = true)\n",
            " |-- birth date: string (nullable = true)\n",
            " |-- shirt name: string (nullable = true)\n",
            " |-- height: integer (nullable = true)\n",
            " |-- weight: integer (nullable = true)\n",
            " |-- dia: string (nullable = true)\n",
            " |-- mes: string (nullable = true)\n",
            " |-- ano: string (nullable = true)\n",
            " |-- data nascimento: date (nullable = true)\n",
            "\n",
            "time: 49.3 ms (started: 2023-09-19 20:55:58 +00:00)\n"
          ]
        }
      ]
    },
    {
      "cell_type": "markdown",
      "source": [
        "Outra conversão de tipo com a função cast()."
      ],
      "metadata": {
        "id": "Tb-QF4sEsvUL"
      }
    },
    {
      "cell_type": "code",
      "source": [
        "df.withColumn('height', col('height').cast(FloatType())).show(5)"
      ],
      "metadata": {
        "colab": {
          "base_uri": "https://localhost:8080/"
        },
        "id": "pvDqvkVrqbtT",
        "outputId": "5966ef2e-7dc1-4be8-edda-d39cb18bba63"
      },
      "execution_count": 87,
      "outputs": [
        {
          "output_type": "stream",
          "name": "stdout",
          "text": [
            "+---------+---+------------------+----------+----------+------+------+---+---+----+\n",
            "|     team|pos| fifa popular name|birth date|shirt name|height|weight|dia|mes| ano|\n",
            "+---------+---+------------------+----------+----------+------+------+---+---+----+\n",
            "|Argentina| DF|TAGLIAFICO Nicolas|31.08.1992|TAGLIAFICO| 169.0|    65| 31| 08|1992|\n",
            "|Argentina| MF|    PAVON Cristian|21.01.1996|     PAVÓN| 169.0|    65| 21| 01|1996|\n",
            "|Argentina| MF|    LANZINI Manuel|15.02.1993|   LANZINI| 167.0|    66| 15| 02|1993|\n",
            "|Argentina| DF|    SALVIO Eduardo|13.07.1990|    SALVIO| 167.0|    69| 13| 07|1990|\n",
            "|Argentina| FW|      MESSI Lionel|24.06.1987|     MESSI| 170.0|    72| 24| 06|1987|\n",
            "+---------+---+------------------+----------+----------+------+------+---+---+----+\n",
            "only showing top 5 rows\n",
            "\n",
            "time: 632 ms (started: 2023-09-19 20:55:58 +00:00)\n"
          ]
        }
      ]
    },
    {
      "cell_type": "markdown",
      "source": [
        "Remoção de uma coluna."
      ],
      "metadata": {
        "id": "3scrwmfgXTNZ"
      }
    },
    {
      "cell_type": "code",
      "source": [
        "df = df.withColumn('new_col', lit(True))\n",
        "df = df.drop('new_col')\n",
        "df.show(5)"
      ],
      "metadata": {
        "colab": {
          "base_uri": "https://localhost:8080/"
        },
        "id": "WR4oimyoP0q0",
        "outputId": "73dda027-ed69-4d3d-b2ef-6a33f7162de4"
      },
      "execution_count": 88,
      "outputs": [
        {
          "output_type": "stream",
          "name": "stdout",
          "text": [
            "+---------+---+------------------+----------+----------+------+------+---+---+----+\n",
            "|     team|pos| fifa popular name|birth date|shirt name|height|weight|dia|mes| ano|\n",
            "+---------+---+------------------+----------+----------+------+------+---+---+----+\n",
            "|Argentina| DF|TAGLIAFICO Nicolas|31.08.1992|TAGLIAFICO|   169|    65| 31| 08|1992|\n",
            "|Argentina| MF|    PAVON Cristian|21.01.1996|     PAVÓN|   169|    65| 21| 01|1996|\n",
            "|Argentina| MF|    LANZINI Manuel|15.02.1993|   LANZINI|   167|    66| 15| 02|1993|\n",
            "|Argentina| DF|    SALVIO Eduardo|13.07.1990|    SALVIO|   167|    69| 13| 07|1990|\n",
            "|Argentina| FW|      MESSI Lionel|24.06.1987|     MESSI|   170|    72| 24| 06|1987|\n",
            "+---------+---+------------------+----------+----------+------+------+---+---+----+\n",
            "only showing top 5 rows\n",
            "\n",
            "time: 785 ms (started: 2023-09-19 20:55:59 +00:00)\n"
          ]
        }
      ]
    },
    {
      "cell_type": "markdown",
      "source": [
        "Criando backup do dataframe"
      ],
      "metadata": {
        "id": "Ue7YT41Bazkf"
      }
    },
    {
      "cell_type": "code",
      "source": [
        "df_backup = df"
      ],
      "metadata": {
        "colab": {
          "base_uri": "https://localhost:8080/"
        },
        "id": "H8tTGZECa2Bq",
        "outputId": "16599ce8-7674-488c-8e0b-37c267e048ad"
      },
      "execution_count": 89,
      "outputs": [
        {
          "output_type": "stream",
          "name": "stdout",
          "text": [
            "time: 2.09 ms (started: 2023-09-19 20:55:59 +00:00)\n"
          ]
        }
      ]
    },
    {
      "cell_type": "markdown",
      "source": [
        "# Instrução: WHERE\n",
        "Função que implementa a instrução WHERE do SQL. A string argumento da função where() deve seguir o padrão SQL.\n",
        "\n",
        "Uma alternativa é a função filter() que pode ser usada da mesma forma."
      ],
      "metadata": {
        "id": "FMJL0sd2398C"
      }
    },
    {
      "cell_type": "code",
      "source": [
        "df.where(\"team = 'Brazil'\").show(5)"
      ],
      "metadata": {
        "colab": {
          "base_uri": "https://localhost:8080/"
        },
        "id": "Xidh2TQC4WEd",
        "outputId": "38d4d305-d495-40db-fc96-523c2b7c0605"
      },
      "execution_count": 90,
      "outputs": [
        {
          "output_type": "stream",
          "name": "stdout",
          "text": [
            "+------+---+-----------------+----------+-----------+------+------+---+---+----+\n",
            "|  team|pos|fifa popular name|birth date| shirt name|height|weight|dia|mes| ano|\n",
            "+------+---+-----------------+----------+-----------+------+------+---+---+----+\n",
            "|Brazil| MF|             FRED|05.03.1993|       FRED|   169|    64| 05| 03|1993|\n",
            "|Brazil| FW|           TAISON|13.01.1988|     TAISON|   172|    64| 13| 01|1988|\n",
            "|Brazil| MF|      FERNANDINHO|04.05.1985|FERNANDINHO|   179|    67| 04| 05|1985|\n",
            "|Brazil| DF|           FAGNER|11.06.1989|     FAGNER|   168|    67| 11| 06|1989|\n",
            "|Brazil| FW|           NEYMAR|05.02.1992|  NEYMAR JR|   175|    68| 05| 02|1992|\n",
            "+------+---+-----------------+----------+-----------+------+------+---+---+----+\n",
            "only showing top 5 rows\n",
            "\n",
            "time: 603 ms (started: 2023-09-19 20:55:59 +00:00)\n"
          ]
        }
      ]
    },
    {
      "cell_type": "code",
      "source": [
        "mask = df['team'] == 'Argentina'\n",
        "print(mask)\n",
        "df.where(mask).show(5)"
      ],
      "metadata": {
        "colab": {
          "base_uri": "https://localhost:8080/"
        },
        "id": "XJwOW85d5FV2",
        "outputId": "d42504c4-522d-457a-f519-3636434ecaa4"
      },
      "execution_count": 91,
      "outputs": [
        {
          "output_type": "stream",
          "name": "stdout",
          "text": [
            "Column<'(team = Argentina)'>\n",
            "+---------+---+------------------+----------+----------+------+------+---+---+----+\n",
            "|     team|pos| fifa popular name|birth date|shirt name|height|weight|dia|mes| ano|\n",
            "+---------+---+------------------+----------+----------+------+------+---+---+----+\n",
            "|Argentina| DF|TAGLIAFICO Nicolas|31.08.1992|TAGLIAFICO|   169|    65| 31| 08|1992|\n",
            "|Argentina| MF|    PAVON Cristian|21.01.1996|     PAVÓN|   169|    65| 21| 01|1996|\n",
            "|Argentina| MF|    LANZINI Manuel|15.02.1993|   LANZINI|   167|    66| 15| 02|1993|\n",
            "|Argentina| DF|    SALVIO Eduardo|13.07.1990|    SALVIO|   167|    69| 13| 07|1990|\n",
            "|Argentina| FW|      MESSI Lionel|24.06.1987|     MESSI|   170|    72| 24| 06|1987|\n",
            "+---------+---+------------------+----------+----------+------+------+---+---+----+\n",
            "only showing top 5 rows\n",
            "\n",
            "time: 676 ms (started: 2023-09-19 20:56:00 +00:00)\n"
          ]
        }
      ]
    },
    {
      "cell_type": "code",
      "source": [
        "mask = (col('shirt name') == 'MESSI')\n",
        "print(mask)\n",
        "df.filter(mask).show(5)"
      ],
      "metadata": {
        "colab": {
          "base_uri": "https://localhost:8080/"
        },
        "id": "0xmj005pIvLE",
        "outputId": "34dd2025-f9b8-4827-dd6f-9c51e76c406e"
      },
      "execution_count": 92,
      "outputs": [
        {
          "output_type": "stream",
          "name": "stdout",
          "text": [
            "Column<'(shirt name = MESSI)'>\n",
            "+---------+---+-----------------+----------+----------+------+------+---+---+----+\n",
            "|     team|pos|fifa popular name|birth date|shirt name|height|weight|dia|mes| ano|\n",
            "+---------+---+-----------------+----------+----------+------+------+---+---+----+\n",
            "|Argentina| FW|     MESSI Lionel|24.06.1987|     MESSI|   170|    72| 24| 06|1987|\n",
            "+---------+---+-----------------+----------+----------+------+------+---+---+----+\n",
            "\n",
            "time: 699 ms (started: 2023-09-19 20:56:01 +00:00)\n"
          ]
        }
      ]
    },
    {
      "cell_type": "markdown",
      "source": [
        "## Filtros compostos"
      ],
      "metadata": {
        "id": "O7cHwIHhJCvZ"
      }
    },
    {
      "cell_type": "code",
      "source": [
        "mask = (\"team = 'Brazil' AND height < 170\")\n",
        "print(mask)\n",
        "df.where(mask).show(5)"
      ],
      "metadata": {
        "colab": {
          "base_uri": "https://localhost:8080/"
        },
        "id": "2nUad3qtJD_O",
        "outputId": "cd6cf9bd-1bd9-49ce-c985-d4822a51f08d"
      },
      "execution_count": 93,
      "outputs": [
        {
          "output_type": "stream",
          "name": "stdout",
          "text": [
            "team = 'Brazil' AND height < 170\n",
            "+------+---+-----------------+----------+----------+------+------+---+---+----+\n",
            "|  team|pos|fifa popular name|birth date|shirt name|height|weight|dia|mes| ano|\n",
            "+------+---+-----------------+----------+----------+------+------+---+---+----+\n",
            "|Brazil| MF|             FRED|05.03.1993|      FRED|   169|    64| 05| 03|1993|\n",
            "|Brazil| DF|           FAGNER|11.06.1989|    FAGNER|   168|    67| 11| 06|1989|\n",
            "+------+---+-----------------+----------+----------+------+------+---+---+----+\n",
            "\n",
            "time: 893 ms (started: 2023-09-19 20:56:01 +00:00)\n"
          ]
        }
      ]
    },
    {
      "cell_type": "code",
      "source": [
        "mask = (col('team') == 'Brazil') & (col('height') < 170)\n",
        "print(mask)\n",
        "df.where(mask).show(5)"
      ],
      "metadata": {
        "colab": {
          "base_uri": "https://localhost:8080/"
        },
        "id": "3GvVbsLVKMJ3",
        "outputId": "2dc36cfc-79f2-4016-e2f1-c43604da8ece"
      },
      "execution_count": 94,
      "outputs": [
        {
          "output_type": "stream",
          "name": "stdout",
          "text": [
            "Column<'((team = Brazil) AND (height < 170))'>\n",
            "+------+---+-----------------+----------+----------+------+------+---+---+----+\n",
            "|  team|pos|fifa popular name|birth date|shirt name|height|weight|dia|mes| ano|\n",
            "+------+---+-----------------+----------+----------+------+------+---+---+----+\n",
            "|Brazil| MF|             FRED|05.03.1993|      FRED|   169|    64| 05| 03|1993|\n",
            "|Brazil| DF|           FAGNER|11.06.1989|    FAGNER|   168|    67| 11| 06|1989|\n",
            "+------+---+-----------------+----------+----------+------+------+---+---+----+\n",
            "\n",
            "time: 723 ms (started: 2023-09-19 20:56:02 +00:00)\n"
          ]
        }
      ]
    },
    {
      "cell_type": "markdown",
      "source": [
        "# Instrução: GROUP BY\n",
        "\n",
        "Tendo uma coluna como referência, todas as linhas onde os valores dessa coluna são iguais são \"colapsadas\" em apenas uma. É preciso especificar o que deve ser feito com as outras colunas caso contrário elas serão ignoradas. Normalmente aplicamos funções de estatística descritiva."
      ],
      "metadata": {
        "id": "ZkBWXq7IeIDC"
      }
    },
    {
      "cell_type": "code",
      "source": [
        "df.groupBy('team').mean('weight').orderBy('avg(weight)', ascending=True).show(10)"
      ],
      "metadata": {
        "colab": {
          "base_uri": "https://localhost:8080/"
        },
        "id": "AI3a35dWe1c6",
        "outputId": "b32d1a81-52d8-4dc1-c4a8-6731c206a37d"
      },
      "execution_count": 95,
      "outputs": [
        {
          "output_type": "stream",
          "name": "stdout",
          "text": [
            "+--------------+-----------------+\n",
            "|          team|      avg(weight)|\n",
            "+--------------+-----------------+\n",
            "|         Japan|71.52173913043478|\n",
            "|  Saudi Arabia|73.04347826086956|\n",
            "|      Portugal| 73.6086956521739|\n",
            "|        Mexico|74.08695652173913|\n",
            "|    Costa Rica| 74.1304347826087|\n",
            "|Korea Republic|74.43478260869566|\n",
            "|       Uruguay| 74.6086956521739|\n",
            "|       Morocco|74.65217391304348|\n",
            "|         Spain|74.73913043478261|\n",
            "|       Tunisia|             75.0|\n",
            "+--------------+-----------------+\n",
            "only showing top 10 rows\n",
            "\n",
            "time: 699 ms (started: 2023-09-19 20:56:03 +00:00)\n"
          ]
        }
      ]
    },
    {
      "cell_type": "markdown",
      "source": [
        "Para especificar qual função de agregação deve ser usada em cada coluna podemos usar a função agg()."
      ],
      "metadata": {
        "id": "nRs42OSbiBJj"
      }
    },
    {
      "cell_type": "code",
      "source": [
        "df.groupBy('team').agg({'weight':'avg', 'dia':'min', 'height':'max'}).orderBy('max(height)', ascending=False).show(10)"
      ],
      "metadata": {
        "colab": {
          "base_uri": "https://localhost:8080/"
        },
        "id": "-0bxHONmiJfe",
        "outputId": "3f32d6e3-f1d2-4e2a-bd48-8343d0ad358b"
      },
      "execution_count": 96,
      "outputs": [
        {
          "output_type": "stream",
          "name": "stdout",
          "text": [
            "+--------------+-----------------+--------+-----------+\n",
            "|          team|      avg(weight)|min(dia)|max(height)|\n",
            "+--------------+-----------------+--------+-----------+\n",
            "|       Croatia|79.30434782608695|      02|        201|\n",
            "|       Denmark| 82.6086956521739|      01|        200|\n",
            "|     Argentina|75.56521739130434|      02|        199|\n",
            "|       Belgium|79.56521739130434|      02|        199|\n",
            "|       Iceland|80.73913043478261|      01|        198|\n",
            "|        Sweden|78.82608695652173|      02|        198|\n",
            "|       Nigeria|80.47826086956522|      01|        197|\n",
            "|Korea Republic|74.43478260869566|      03|        197|\n",
            "|        France|             80.0|      03|        197|\n",
            "|        Panama|             80.0|      01|        197|\n",
            "+--------------+-----------------+--------+-----------+\n",
            "only showing top 10 rows\n",
            "\n",
            "time: 1.04 s (started: 2023-09-19 20:56:04 +00:00)\n"
          ]
        }
      ]
    },
    {
      "cell_type": "code",
      "source": [
        "df.groupBy('team').agg(avg('height'), min('height'), max('height')).orderBy('avg(height)', ascending=False).show(20)"
      ],
      "metadata": {
        "colab": {
          "base_uri": "https://localhost:8080/"
        },
        "id": "oVKTdvz6W6s2",
        "outputId": "77fad42f-a4e1-4dbc-9c19-b2db83b8f6e7"
      },
      "execution_count": 97,
      "outputs": [
        {
          "output_type": "stream",
          "name": "stdout",
          "text": [
            "+--------------+------------------+-----------+-----------+\n",
            "|          team|       avg(height)|min(height)|max(height)|\n",
            "+--------------+------------------+-----------+-----------+\n",
            "|        Serbia|186.69565217391303|        169|        195|\n",
            "|       Denmark| 186.6086956521739|        171|        200|\n",
            "|       Germany| 185.7826086956522|        176|        195|\n",
            "|        Sweden| 185.7391304347826|        177|        198|\n",
            "|       Iceland|185.52173913043478|        170|        198|\n",
            "|       Belgium|185.34782608695653|        169|        199|\n",
            "|       Croatia| 185.2608695652174|        172|        201|\n",
            "|       Nigeria|184.52173913043478|        172|        197|\n",
            "|       IR Iran|184.47826086956522|        177|        194|\n",
            "|        Russia| 184.3913043478261|        173|        196|\n",
            "|       Senegal|183.65217391304347|        173|        196|\n",
            "|        France|183.30434782608697|        168|        197|\n",
            "|        Poland|183.17391304347825|        172|        195|\n",
            "|       Tunisia|183.08695652173913|        170|        192|\n",
            "|   Switzerland|182.91304347826087|        165|        192|\n",
            "|       England| 182.7391304347826|        170|        196|\n",
            "|       Morocco|182.69565217391303|        167|        190|\n",
            "|        Panama|182.17391304347825|        165|        197|\n",
            "|Korea Republic| 181.8695652173913|        170|        197|\n",
            "|       Uruguay|181.04347826086956|        168|        196|\n",
            "+--------------+------------------+-----------+-----------+\n",
            "only showing top 20 rows\n",
            "\n",
            "time: 581 ms (started: 2023-09-19 20:56:05 +00:00)\n"
          ]
        }
      ]
    },
    {
      "cell_type": "code",
      "source": [
        "df.groupBy('team').agg(avg('weight')).orderBy('avg(weight)', ascending=True).show(10)"
      ],
      "metadata": {
        "colab": {
          "base_uri": "https://localhost:8080/"
        },
        "id": "8KBPRvIpk6z7",
        "outputId": "e616711c-fb59-4778-acfd-235aab250a00"
      },
      "execution_count": 98,
      "outputs": [
        {
          "output_type": "stream",
          "name": "stdout",
          "text": [
            "+--------------+-----------------+\n",
            "|          team|      avg(weight)|\n",
            "+--------------+-----------------+\n",
            "|         Japan|71.52173913043478|\n",
            "|  Saudi Arabia|73.04347826086956|\n",
            "|      Portugal| 73.6086956521739|\n",
            "|        Mexico|74.08695652173913|\n",
            "|    Costa Rica| 74.1304347826087|\n",
            "|Korea Republic|74.43478260869566|\n",
            "|       Uruguay| 74.6086956521739|\n",
            "|       Morocco|74.65217391304348|\n",
            "|         Spain|74.73913043478261|\n",
            "|       Tunisia|             75.0|\n",
            "+--------------+-----------------+\n",
            "only showing top 10 rows\n",
            "\n",
            "time: 853 ms (started: 2023-09-19 20:56:05 +00:00)\n"
          ]
        }
      ]
    },
    {
      "cell_type": "markdown",
      "source": [
        "# Instrução: PARTITION BY\n",
        "Tem o conceito muito parecido com groupby, mas enquanto neste, as linhas iguais são agrupadas formando agrupamentos de instâncias de dados baseados em uma ou mais colunas.\n",
        "\n",
        "*   row_number()\n",
        "*   rank()\n",
        "*   dense_rank()\n",
        "*   persent_rank()\n",
        "*   ntile()\n",
        "\n",
        "**Obs.** A função orderBy() usada com Window.partitionBy() não é a mesma usada com as funções de agregação de groupBy(). Enquanto essa retorna um DataFrame o outro cria uma WindowSpec."
      ],
      "metadata": {
        "id": "iEsfhD1VbpY-"
      }
    },
    {
      "cell_type": "code",
      "source": [
        "df.show(5)"
      ],
      "metadata": {
        "colab": {
          "base_uri": "https://localhost:8080/"
        },
        "id": "xtg0aWMRcvsT",
        "outputId": "5e0892bc-20ac-49a5-815c-de09a54a7989"
      },
      "execution_count": 99,
      "outputs": [
        {
          "output_type": "stream",
          "name": "stdout",
          "text": [
            "+---------+---+------------------+----------+----------+------+------+---+---+----+\n",
            "|     team|pos| fifa popular name|birth date|shirt name|height|weight|dia|mes| ano|\n",
            "+---------+---+------------------+----------+----------+------+------+---+---+----+\n",
            "|Argentina| DF|TAGLIAFICO Nicolas|31.08.1992|TAGLIAFICO|   169|    65| 31| 08|1992|\n",
            "|Argentina| MF|    PAVON Cristian|21.01.1996|     PAVÓN|   169|    65| 21| 01|1996|\n",
            "|Argentina| MF|    LANZINI Manuel|15.02.1993|   LANZINI|   167|    66| 15| 02|1993|\n",
            "|Argentina| DF|    SALVIO Eduardo|13.07.1990|    SALVIO|   167|    69| 13| 07|1990|\n",
            "|Argentina| FW|      MESSI Lionel|24.06.1987|     MESSI|   170|    72| 24| 06|1987|\n",
            "+---------+---+------------------+----------+----------+------+------+---+---+----+\n",
            "only showing top 5 rows\n",
            "\n",
            "time: 728 ms (started: 2023-09-19 20:56:06 +00:00)\n"
          ]
        }
      ]
    },
    {
      "cell_type": "markdown",
      "source": [
        "row_number()"
      ],
      "metadata": {
        "id": "kkLpC58KkeaK"
      }
    },
    {
      "cell_type": "code",
      "source": [
        "prt = Window.partitionBy('team').orderBy(desc('height'))\n",
        "print(type(prt))\n",
        "print(type(row_number()))\n",
        "df.withColumn('row', row_number().over(prt)).show(10)"
      ],
      "metadata": {
        "colab": {
          "base_uri": "https://localhost:8080/"
        },
        "id": "74rdlQbacHPc",
        "outputId": "2eb072fd-2bad-4146-feb9-d3455efc795d"
      },
      "execution_count": 100,
      "outputs": [
        {
          "output_type": "stream",
          "name": "stdout",
          "text": [
            "<class 'pyspark.sql.window.WindowSpec'>\n",
            "<class 'pyspark.sql.column.Column'>\n",
            "+---------+---+------------------+----------+----------+------+------+---+---+----+---+\n",
            "|     team|pos| fifa popular name|birth date|shirt name|height|weight|dia|mes| ano|row|\n",
            "+---------+---+------------------+----------+----------+------+------+---+---+----+---+\n",
            "|Argentina| DF|    FAZIO Federico|17.03.1987|     FAZIO|   199|    85| 17| 03|1987|  1|\n",
            "|Argentina| GK|     GUZMAN Nahuel|10.02.1986|    GUZMÁN|   192|    90| 10| 02|1986|  2|\n",
            "|Argentina| DF|       ROJO Marcos|20.03.1990|      ROJO|   189|    82| 20| 03|1990|  3|\n",
            "|Argentina| GK|     ARMANI Franco|16.10.1986|    ARMANI|   189|    85| 16| 10|1986|  4|\n",
            "|Argentina| GK|CABALLERO Wilfredo|28.09.1981| CABALLERO|   186|    80| 28| 09|1981|  5|\n",
            "|Argentina| FW|   HIGUAIN Gonzalo|10.12.1987|   HIGUAÍN|   184|    75| 10| 12|1987|  6|\n",
            "|Argentina| DF|  ANSALDI Cristian|20.09.1986|   ANSALDI|   181|    73| 20| 09|1986|  7|\n",
            "|Argentina| DF|   MERCADO Gabriel|18.03.1987|   MERCADO|   181|    81| 18| 03|1987|  8|\n",
            "|Argentina| DF|  OTAMENDI Nicolas|12.02.1988|  OTAMENDI|   181|    81| 12| 02|1988|  9|\n",
            "|Argentina| MF|  MEZA Maximiliano|15.12.1992|      MEZA|   180|    76| 15| 12|1992| 10|\n",
            "+---------+---+------------------+----------+----------+------+------+---+---+----+---+\n",
            "only showing top 10 rows\n",
            "\n",
            "time: 1.35 s (started: 2023-09-19 20:56:07 +00:00)\n"
          ]
        }
      ]
    },
    {
      "cell_type": "code",
      "source": [
        "# Selecionar os atletas mais altos de cada time.\n",
        "prt = Window.partitionBy('team').orderBy(desc('height'))\n",
        "df.withColumn('top', row_number().over(prt)).where(\"top = 1\").show(10)"
      ],
      "metadata": {
        "colab": {
          "base_uri": "https://localhost:8080/"
        },
        "id": "zj0QPwXV6Ldf",
        "outputId": "2cdbc12c-68f7-4c04-a3ff-701cb2928fc7"
      },
      "execution_count": 101,
      "outputs": [
        {
          "output_type": "stream",
          "name": "stdout",
          "text": [
            "+----------+---+------------------+----------+-----------+------+------+---+---+----+---+\n",
            "|      team|pos| fifa popular name|birth date| shirt name|height|weight|dia|mes| ano|top|\n",
            "+----------+---+------------------+----------+-----------+------+------+---+---+----+---+\n",
            "| Argentina| DF|    FAZIO Federico|17.03.1987|      FAZIO|   199|    85| 17| 03|1987|  1|\n",
            "| Australia| GK|        JONES Brad|19.03.1982|      JONES|   193|    87| 19| 03|1982|  1|\n",
            "|   Belgium| GK|  COURTOIS Thibaut|11.05.1992|   COURTOIS|   199|    91| 11| 05|1992|  1|\n",
            "|    Brazil| GK|            CASSIO|06.06.1987|     CASSIO|   195|    92| 06| 06|1987|  1|\n",
            "|  Colombia| DF|        MINA Yerry|23.09.1994|    Y. MINA|   194|    95| 23| 09|1994|  1|\n",
            "|Costa Rica| DF|    WASTON Kendall|01.01.1988|  K. WASTON|   196|    87| 01| 01|1988|  1|\n",
            "|   Croatia| GK|     KALINIC Lovre|03.04.1990| L. KALINIĆ|   201|    96| 03| 04|1990|  1|\n",
            "|   Denmark| DF|VESTERGAARD Jannik|03.08.1992|VESTERGAARD|   200|    98| 03| 08|1992|  1|\n",
            "|     Egypt| DF|      AHMED HEGAZY|25.01.1991|  A. HEGAZY|   194|    95| 25| 01|1991|  1|\n",
            "|   England| GK|      BUTLAND Jack|10.03.1993|    BUTLAND|   196|    96| 10| 03|1993|  1|\n",
            "+----------+---+------------------+----------+-----------+------+------+---+---+----+---+\n",
            "only showing top 10 rows\n",
            "\n",
            "time: 1.25 s (started: 2023-09-19 20:56:08 +00:00)\n"
          ]
        }
      ]
    },
    {
      "cell_type": "markdown",
      "source": [
        "rank(): Note como rank=3 se repete duas vezes e depois há um salto para rank=5. Esta é uma peculiaridade dessa função."
      ],
      "metadata": {
        "id": "KuMhw3n2kKJP"
      }
    },
    {
      "cell_type": "code",
      "source": [
        "prt = Window.partitionBy('team').orderBy(desc('height'))\n",
        "df.withColumn('rank', rank().over(prt)).show(10)"
      ],
      "metadata": {
        "colab": {
          "base_uri": "https://localhost:8080/"
        },
        "id": "kPVsRj7PjJLC",
        "outputId": "a49e2c79-fc2c-4d20-fa81-0e13e517598d"
      },
      "execution_count": 102,
      "outputs": [
        {
          "output_type": "stream",
          "name": "stdout",
          "text": [
            "+---------+---+------------------+----------+----------+------+------+---+---+----+----+\n",
            "|     team|pos| fifa popular name|birth date|shirt name|height|weight|dia|mes| ano|rank|\n",
            "+---------+---+------------------+----------+----------+------+------+---+---+----+----+\n",
            "|Argentina| DF|    FAZIO Federico|17.03.1987|     FAZIO|   199|    85| 17| 03|1987|   1|\n",
            "|Argentina| GK|     GUZMAN Nahuel|10.02.1986|    GUZMÁN|   192|    90| 10| 02|1986|   2|\n",
            "|Argentina| DF|       ROJO Marcos|20.03.1990|      ROJO|   189|    82| 20| 03|1990|   3|\n",
            "|Argentina| GK|     ARMANI Franco|16.10.1986|    ARMANI|   189|    85| 16| 10|1986|   3|\n",
            "|Argentina| GK|CABALLERO Wilfredo|28.09.1981| CABALLERO|   186|    80| 28| 09|1981|   5|\n",
            "|Argentina| FW|   HIGUAIN Gonzalo|10.12.1987|   HIGUAÍN|   184|    75| 10| 12|1987|   6|\n",
            "|Argentina| DF|  ANSALDI Cristian|20.09.1986|   ANSALDI|   181|    73| 20| 09|1986|   7|\n",
            "|Argentina| DF|   MERCADO Gabriel|18.03.1987|   MERCADO|   181|    81| 18| 03|1987|   7|\n",
            "|Argentina| DF|  OTAMENDI Nicolas|12.02.1988|  OTAMENDI|   181|    81| 12| 02|1988|   7|\n",
            "|Argentina| MF|  MEZA Maximiliano|15.12.1992|      MEZA|   180|    76| 15| 12|1992|  10|\n",
            "+---------+---+------------------+----------+----------+------+------+---+---+----+----+\n",
            "only showing top 10 rows\n",
            "\n",
            "time: 857 ms (started: 2023-09-19 20:56:10 +00:00)\n"
          ]
        }
      ]
    },
    {
      "cell_type": "markdown",
      "source": [
        "dense_rank(): Aqui, mesmo que rank=3 se repita o próximo valor de rank é 4 e assim por diante. Não há saltos de valores."
      ],
      "metadata": {
        "id": "ExD1iTmakiIx"
      }
    },
    {
      "cell_type": "code",
      "source": [
        "prt = Window.partitionBy('team').orderBy(desc('height'))\n",
        "df.withColumn('dense_rank', dense_rank().over(prt)).show(10)"
      ],
      "metadata": {
        "colab": {
          "base_uri": "https://localhost:8080/"
        },
        "id": "Tw53dOeokyzh",
        "outputId": "bed5c573-5786-4d6b-c31f-e8526fbab20b"
      },
      "execution_count": 103,
      "outputs": [
        {
          "output_type": "stream",
          "name": "stdout",
          "text": [
            "+---------+---+------------------+----------+----------+------+------+---+---+----+----------+\n",
            "|     team|pos| fifa popular name|birth date|shirt name|height|weight|dia|mes| ano|dense_rank|\n",
            "+---------+---+------------------+----------+----------+------+------+---+---+----+----------+\n",
            "|Argentina| DF|    FAZIO Federico|17.03.1987|     FAZIO|   199|    85| 17| 03|1987|         1|\n",
            "|Argentina| GK|     GUZMAN Nahuel|10.02.1986|    GUZMÁN|   192|    90| 10| 02|1986|         2|\n",
            "|Argentina| DF|       ROJO Marcos|20.03.1990|      ROJO|   189|    82| 20| 03|1990|         3|\n",
            "|Argentina| GK|     ARMANI Franco|16.10.1986|    ARMANI|   189|    85| 16| 10|1986|         3|\n",
            "|Argentina| GK|CABALLERO Wilfredo|28.09.1981| CABALLERO|   186|    80| 28| 09|1981|         4|\n",
            "|Argentina| FW|   HIGUAIN Gonzalo|10.12.1987|   HIGUAÍN|   184|    75| 10| 12|1987|         5|\n",
            "|Argentina| DF|  ANSALDI Cristian|20.09.1986|   ANSALDI|   181|    73| 20| 09|1986|         6|\n",
            "|Argentina| DF|   MERCADO Gabriel|18.03.1987|   MERCADO|   181|    81| 18| 03|1987|         6|\n",
            "|Argentina| DF|  OTAMENDI Nicolas|12.02.1988|  OTAMENDI|   181|    81| 12| 02|1988|         6|\n",
            "|Argentina| MF|  MEZA Maximiliano|15.12.1992|      MEZA|   180|    76| 15| 12|1992|         7|\n",
            "+---------+---+------------------+----------+----------+------+------+---+---+----+----------+\n",
            "only showing top 10 rows\n",
            "\n",
            "time: 668 ms (started: 2023-09-19 20:56:11 +00:00)\n"
          ]
        }
      ]
    },
    {
      "cell_type": "markdown",
      "source": [
        "persent_rank(): ranking relativo(percentual)"
      ],
      "metadata": {
        "id": "FgIYuPqAmCD3"
      }
    },
    {
      "cell_type": "code",
      "source": [
        "prt = Window.partitionBy('team').orderBy(desc('height'))\n",
        "df.withColumn('persent_rank', percent_rank().over(prt)).show(10)"
      ],
      "metadata": {
        "colab": {
          "base_uri": "https://localhost:8080/"
        },
        "id": "i8jq7iyimDZw",
        "outputId": "7c9d2116-6776-4f3e-aca0-9c13276d58bc"
      },
      "execution_count": 104,
      "outputs": [
        {
          "output_type": "stream",
          "name": "stdout",
          "text": [
            "+---------+---+------------------+----------+----------+------+------+---+---+----+--------------------+\n",
            "|     team|pos| fifa popular name|birth date|shirt name|height|weight|dia|mes| ano|        persent_rank|\n",
            "+---------+---+------------------+----------+----------+------+------+---+---+----+--------------------+\n",
            "|Argentina| DF|    FAZIO Federico|17.03.1987|     FAZIO|   199|    85| 17| 03|1987|                 0.0|\n",
            "|Argentina| GK|     GUZMAN Nahuel|10.02.1986|    GUZMÁN|   192|    90| 10| 02|1986|0.045454545454545456|\n",
            "|Argentina| DF|       ROJO Marcos|20.03.1990|      ROJO|   189|    82| 20| 03|1990| 0.09090909090909091|\n",
            "|Argentina| GK|     ARMANI Franco|16.10.1986|    ARMANI|   189|    85| 16| 10|1986| 0.09090909090909091|\n",
            "|Argentina| GK|CABALLERO Wilfredo|28.09.1981| CABALLERO|   186|    80| 28| 09|1981| 0.18181818181818182|\n",
            "|Argentina| FW|   HIGUAIN Gonzalo|10.12.1987|   HIGUAÍN|   184|    75| 10| 12|1987| 0.22727272727272727|\n",
            "|Argentina| DF|  ANSALDI Cristian|20.09.1986|   ANSALDI|   181|    73| 20| 09|1986|  0.2727272727272727|\n",
            "|Argentina| DF|   MERCADO Gabriel|18.03.1987|   MERCADO|   181|    81| 18| 03|1987|  0.2727272727272727|\n",
            "|Argentina| DF|  OTAMENDI Nicolas|12.02.1988|  OTAMENDI|   181|    81| 12| 02|1988|  0.2727272727272727|\n",
            "|Argentina| MF|  MEZA Maximiliano|15.12.1992|      MEZA|   180|    76| 15| 12|1992|  0.4090909090909091|\n",
            "+---------+---+------------------+----------+----------+------+------+---+---+----+--------------------+\n",
            "only showing top 10 rows\n",
            "\n",
            "time: 524 ms (started: 2023-09-19 20:56:11 +00:00)\n"
          ]
        }
      ]
    },
    {
      "cell_type": "markdown",
      "source": [
        "ntile(): Divide cada partição em uma quantidade n de quartiles. Cada quartile recebe um valor único. Caso uma partição não seja divisível por n o aloritmo ajustará a quantidade de instâncias de dados pertencentes aos últimos quartiles de modo que a partição tenha n quartiles. Por exemplo, na seleção da Argentina, quando n=5, o penúltimo quartil tem 4 instâncias para poder formar mais um, o último quartil que terá apenas uma instância."
      ],
      "metadata": {
        "id": "3gT5llGdqJBp"
      }
    },
    {
      "cell_type": "code",
      "source": [
        "prt = Window.partitionBy('team').orderBy(desc('height'))\n",
        "df.withColumn('ntile', ntile(5).over(prt)).show(20)"
      ],
      "metadata": {
        "colab": {
          "base_uri": "https://localhost:8080/"
        },
        "id": "AogJ91m3qLUO",
        "outputId": "b5e46c6d-db39-4901-bf17-6fa3b221a22d"
      },
      "execution_count": 105,
      "outputs": [
        {
          "output_type": "stream",
          "name": "stdout",
          "text": [
            "+---------+---+------------------+----------+----------+------+------+---+---+----+-----+\n",
            "|     team|pos| fifa popular name|birth date|shirt name|height|weight|dia|mes| ano|ntile|\n",
            "+---------+---+------------------+----------+----------+------+------+---+---+----+-----+\n",
            "|Argentina| DF|    FAZIO Federico|17.03.1987|     FAZIO|   199|    85| 17| 03|1987|    1|\n",
            "|Argentina| GK|     GUZMAN Nahuel|10.02.1986|    GUZMÁN|   192|    90| 10| 02|1986|    1|\n",
            "|Argentina| DF|       ROJO Marcos|20.03.1990|      ROJO|   189|    82| 20| 03|1990|    1|\n",
            "|Argentina| GK|     ARMANI Franco|16.10.1986|    ARMANI|   189|    85| 16| 10|1986|    1|\n",
            "|Argentina| GK|CABALLERO Wilfredo|28.09.1981| CABALLERO|   186|    80| 28| 09|1981|    1|\n",
            "|Argentina| FW|   HIGUAIN Gonzalo|10.12.1987|   HIGUAÍN|   184|    75| 10| 12|1987|    2|\n",
            "|Argentina| DF|  ANSALDI Cristian|20.09.1986|   ANSALDI|   181|    73| 20| 09|1986|    2|\n",
            "|Argentina| DF|   MERCADO Gabriel|18.03.1987|   MERCADO|   181|    81| 18| 03|1987|    2|\n",
            "|Argentina| DF|  OTAMENDI Nicolas|12.02.1988|  OTAMENDI|   181|    81| 12| 02|1988|    2|\n",
            "|Argentina| MF|  MEZA Maximiliano|15.12.1992|      MEZA|   180|    76| 15| 12|1992|    2|\n",
            "|Argentina| MF|    DI MARIA Angel|14.02.1988|  DI MARÍA|   178|    75| 14| 02|1988|    3|\n",
            "|Argentina| FW|      DYBALA Paulo|15.11.1993|    DYBALA|   177|    73| 15| 11|1993|    3|\n",
            "|Argentina| MF|  LO CELSO Giovani|09.04.1996|  LO CELSO|   177|    75| 09| 04|1996|    3|\n",
            "|Argentina| MF|      BIGLIA Lucas|30.01.1986|    BIGLIA|   175|    73| 30| 01|1986|    3|\n",
            "|Argentina| MF|       BANEGA Ever|29.06.1988|    BANEGA|   175|    73| 29| 06|1988|    3|\n",
            "|Argentina| DF| MASCHERANO Javier|08.06.1984|MASCHERANO|   174|    73| 08| 06|1984|    4|\n",
            "|Argentina| FW|     AGUERO Sergio|02.06.1988|    AGÜERO|   172|    74| 02| 06|1988|    4|\n",
            "|Argentina| DF|      ACUNA Marcos|28.10.1991|     ACUÑA|   172|    77| 28| 10|1991|    4|\n",
            "|Argentina| FW|      MESSI Lionel|24.06.1987|     MESSI|   170|    72| 24| 06|1987|    4|\n",
            "|Argentina| DF|TAGLIAFICO Nicolas|31.08.1992|TAGLIAFICO|   169|    65| 31| 08|1992|    5|\n",
            "+---------+---+------------------+----------+----------+------+------+---+---+----+-----+\n",
            "only showing top 20 rows\n",
            "\n",
            "time: 566 ms (started: 2023-09-19 20:56:12 +00:00)\n"
          ]
        }
      ]
    },
    {
      "cell_type": "markdown",
      "source": [
        "Lag function: O mesmo tipo de lag usado em séries temporais."
      ],
      "metadata": {
        "id": "Ny2ulye1ZyTQ"
      }
    },
    {
      "cell_type": "code",
      "source": [
        "prt = Window.partitionBy('team').orderBy(desc('height'))\n",
        "df.withColumn('lag', lag('weight', offset=2).over(prt)).show(10)"
      ],
      "metadata": {
        "colab": {
          "base_uri": "https://localhost:8080/"
        },
        "id": "wEXKjuj4Z6oK",
        "outputId": "af2fc713-8536-46ae-c9f8-a88e8a86e1c9"
      },
      "execution_count": 106,
      "outputs": [
        {
          "output_type": "stream",
          "name": "stdout",
          "text": [
            "+---------+---+------------------+----------+----------+------+------+---+---+----+----+\n",
            "|     team|pos| fifa popular name|birth date|shirt name|height|weight|dia|mes| ano| lag|\n",
            "+---------+---+------------------+----------+----------+------+------+---+---+----+----+\n",
            "|Argentina| DF|    FAZIO Federico|17.03.1987|     FAZIO|   199|    85| 17| 03|1987|null|\n",
            "|Argentina| GK|     GUZMAN Nahuel|10.02.1986|    GUZMÁN|   192|    90| 10| 02|1986|null|\n",
            "|Argentina| DF|       ROJO Marcos|20.03.1990|      ROJO|   189|    82| 20| 03|1990|  85|\n",
            "|Argentina| GK|     ARMANI Franco|16.10.1986|    ARMANI|   189|    85| 16| 10|1986|  90|\n",
            "|Argentina| GK|CABALLERO Wilfredo|28.09.1981| CABALLERO|   186|    80| 28| 09|1981|  82|\n",
            "|Argentina| FW|   HIGUAIN Gonzalo|10.12.1987|   HIGUAÍN|   184|    75| 10| 12|1987|  85|\n",
            "|Argentina| DF|  ANSALDI Cristian|20.09.1986|   ANSALDI|   181|    73| 20| 09|1986|  80|\n",
            "|Argentina| DF|   MERCADO Gabriel|18.03.1987|   MERCADO|   181|    81| 18| 03|1987|  75|\n",
            "|Argentina| DF|  OTAMENDI Nicolas|12.02.1988|  OTAMENDI|   181|    81| 12| 02|1988|  73|\n",
            "|Argentina| MF|  MEZA Maximiliano|15.12.1992|      MEZA|   180|    76| 15| 12|1992|  81|\n",
            "+---------+---+------------------+----------+----------+------+------+---+---+----+----+\n",
            "only showing top 10 rows\n",
            "\n",
            "time: 683 ms (started: 2023-09-19 20:56:12 +00:00)\n"
          ]
        }
      ]
    },
    {
      "cell_type": "markdown",
      "source": [
        "Forward function: O mesmo tipo de forward usado em séries temporais."
      ],
      "metadata": {
        "id": "LYWzAMl4bwRD"
      }
    },
    {
      "cell_type": "code",
      "source": [
        "prt = Window.partitionBy('team').orderBy(desc('height'))\n",
        "df.withColumn('lead', lead('weight', offset=1).over(prt)).show(10)"
      ],
      "metadata": {
        "colab": {
          "base_uri": "https://localhost:8080/"
        },
        "id": "3nEw-WhJch8s",
        "outputId": "83d75afc-d753-46a7-b28b-b960d6917469"
      },
      "execution_count": 107,
      "outputs": [
        {
          "output_type": "stream",
          "name": "stdout",
          "text": [
            "+---------+---+------------------+----------+----------+------+------+---+---+----+----+\n",
            "|     team|pos| fifa popular name|birth date|shirt name|height|weight|dia|mes| ano|lead|\n",
            "+---------+---+------------------+----------+----------+------+------+---+---+----+----+\n",
            "|Argentina| DF|    FAZIO Federico|17.03.1987|     FAZIO|   199|    85| 17| 03|1987|  90|\n",
            "|Argentina| GK|     GUZMAN Nahuel|10.02.1986|    GUZMÁN|   192|    90| 10| 02|1986|  82|\n",
            "|Argentina| DF|       ROJO Marcos|20.03.1990|      ROJO|   189|    82| 20| 03|1990|  85|\n",
            "|Argentina| GK|     ARMANI Franco|16.10.1986|    ARMANI|   189|    85| 16| 10|1986|  80|\n",
            "|Argentina| GK|CABALLERO Wilfredo|28.09.1981| CABALLERO|   186|    80| 28| 09|1981|  75|\n",
            "|Argentina| FW|   HIGUAIN Gonzalo|10.12.1987|   HIGUAÍN|   184|    75| 10| 12|1987|  73|\n",
            "|Argentina| DF|  ANSALDI Cristian|20.09.1986|   ANSALDI|   181|    73| 20| 09|1986|  81|\n",
            "|Argentina| DF|   MERCADO Gabriel|18.03.1987|   MERCADO|   181|    81| 18| 03|1987|  81|\n",
            "|Argentina| DF|  OTAMENDI Nicolas|12.02.1988|  OTAMENDI|   181|    81| 12| 02|1988|  76|\n",
            "|Argentina| MF|  MEZA Maximiliano|15.12.1992|      MEZA|   180|    76| 15| 12|1992|  75|\n",
            "+---------+---+------------------+----------+----------+------+------+---+---+----+----+\n",
            "only showing top 10 rows\n",
            "\n",
            "time: 520 ms (started: 2023-09-19 20:56:13 +00:00)\n"
          ]
        }
      ]
    },
    {
      "cell_type": "markdown",
      "source": [
        "# Instrução: DISTINCT"
      ],
      "metadata": {
        "id": "vZpMzJ4ZXRqc"
      }
    },
    {
      "cell_type": "code",
      "source": [
        "df.select('team').distinct().show(5)"
      ],
      "metadata": {
        "colab": {
          "base_uri": "https://localhost:8080/"
        },
        "id": "T_WNnqDhYA9g",
        "outputId": "94399772-3849-49ad-99b9-718161d7585d"
      },
      "execution_count": 108,
      "outputs": [
        {
          "output_type": "stream",
          "name": "stdout",
          "text": [
            "+-------+\n",
            "|   team|\n",
            "+-------+\n",
            "| Russia|\n",
            "|Senegal|\n",
            "| Sweden|\n",
            "|IR Iran|\n",
            "|Germany|\n",
            "+-------+\n",
            "only showing top 5 rows\n",
            "\n",
            "time: 378 ms (started: 2023-09-19 20:56:14 +00:00)\n"
          ]
        }
      ]
    },
    {
      "cell_type": "markdown",
      "source": [
        "Número de valores únicos em um atributo."
      ],
      "metadata": {
        "id": "tr8eG_7id82w"
      }
    },
    {
      "cell_type": "code",
      "source": [
        "nunique = df.select('team').distinct().count()\n",
        "print(f'unique values: {nunique}')"
      ],
      "metadata": {
        "colab": {
          "base_uri": "https://localhost:8080/"
        },
        "id": "kJegd3TQdywi",
        "outputId": "4137870b-067f-4eb2-d10a-c1ba22ffbd37"
      },
      "execution_count": 109,
      "outputs": [
        {
          "output_type": "stream",
          "name": "stdout",
          "text": [
            "unique values: 32\n",
            "time: 349 ms (started: 2023-09-19 20:56:14 +00:00)\n"
          ]
        }
      ]
    },
    {
      "cell_type": "markdown",
      "source": [
        "# Instrução: COLLECT\n",
        "Salva o resultado de uma consulta em uma lista."
      ],
      "metadata": {
        "id": "wzQzR6ptKUI_"
      }
    },
    {
      "cell_type": "code",
      "source": [
        "df.select('team').distinct().collect()"
      ],
      "metadata": {
        "colab": {
          "base_uri": "https://localhost:8080/"
        },
        "id": "mg39pyerKbkm",
        "outputId": "f48b816d-a115-4f51-c9c8-1430cf4f28e3"
      },
      "execution_count": 110,
      "outputs": [
        {
          "output_type": "execute_result",
          "data": {
            "text/plain": [
              "[Row(team='Russia'),\n",
              " Row(team='Senegal'),\n",
              " Row(team='Sweden'),\n",
              " Row(team='IR Iran'),\n",
              " Row(team='Germany'),\n",
              " Row(team='France'),\n",
              " Row(team='Argentina'),\n",
              " Row(team='Belgium'),\n",
              " Row(team='Peru'),\n",
              " Row(team='Croatia'),\n",
              " Row(team='Nigeria'),\n",
              " Row(team='Korea Republic'),\n",
              " Row(team='Spain'),\n",
              " Row(team='Denmark'),\n",
              " Row(team='Morocco'),\n",
              " Row(team='Panama'),\n",
              " Row(team='Iceland'),\n",
              " Row(team='Uruguay'),\n",
              " Row(team='Mexico'),\n",
              " Row(team='Tunisia'),\n",
              " Row(team='Saudi Arabia'),\n",
              " Row(team='Switzerland'),\n",
              " Row(team='Brazil'),\n",
              " Row(team='Japan'),\n",
              " Row(team='England'),\n",
              " Row(team='Poland'),\n",
              " Row(team='Portugal'),\n",
              " Row(team='Australia'),\n",
              " Row(team='Costa Rica'),\n",
              " Row(team='Egypt'),\n",
              " Row(team='Serbia'),\n",
              " Row(team='Colombia')]"
            ]
          },
          "metadata": {},
          "execution_count": 110
        },
        {
          "output_type": "stream",
          "name": "stdout",
          "text": [
            "time: 375 ms (started: 2023-09-19 20:56:14 +00:00)\n"
          ]
        }
      ]
    },
    {
      "cell_type": "markdown",
      "source": [
        "O resultado anterior é uma lista de objetos Row. Caso seja necessário apenas o nome do país podemos usar o código abaixo."
      ],
      "metadata": {
        "id": "LQG8pGwOL7Fy"
      }
    },
    {
      "cell_type": "code",
      "source": [
        "result = df.select('team').distinct().collect()\n",
        "countries = [row[0] for row in result]\n",
        "print(countries)"
      ],
      "metadata": {
        "colab": {
          "base_uri": "https://localhost:8080/"
        },
        "id": "QW0n2kMLLGmZ",
        "outputId": "69a2a223-f79b-44a1-8f3c-fadea2aecd9f"
      },
      "execution_count": 111,
      "outputs": [
        {
          "output_type": "stream",
          "name": "stdout",
          "text": [
            "['Russia', 'Senegal', 'Sweden', 'IR Iran', 'Germany', 'France', 'Argentina', 'Belgium', 'Peru', 'Croatia', 'Nigeria', 'Korea Republic', 'Spain', 'Denmark', 'Morocco', 'Panama', 'Iceland', 'Uruguay', 'Mexico', 'Tunisia', 'Saudi Arabia', 'Switzerland', 'Brazil', 'Japan', 'England', 'Poland', 'Portugal', 'Australia', 'Costa Rica', 'Egypt', 'Serbia', 'Colombia']\n",
            "time: 186 ms (started: 2023-09-19 20:56:15 +00:00)\n"
          ]
        }
      ]
    },
    {
      "cell_type": "markdown",
      "source": [
        "# When/Otherwise\n",
        "É o if/else do PySpark."
      ],
      "metadata": {
        "id": "7ohWUXZSMxrA"
      }
    },
    {
      "cell_type": "code",
      "source": [
        "val = when(condition=(col('team') == 'Argentina'), value='Argentinos').otherwise(value='Normais')\n",
        "df.withColumn('new_col', val).show()"
      ],
      "metadata": {
        "colab": {
          "base_uri": "https://localhost:8080/"
        },
        "id": "N1DMTNNXNLeW",
        "outputId": "a6a18e3d-9bb7-4f86-fe07-03cc1d06a92a"
      },
      "execution_count": 112,
      "outputs": [
        {
          "output_type": "stream",
          "name": "stdout",
          "text": [
            "+---------+---+------------------+----------+----------+------+------+---+---+----+----------+\n",
            "|     team|pos| fifa popular name|birth date|shirt name|height|weight|dia|mes| ano|   new_col|\n",
            "+---------+---+------------------+----------+----------+------+------+---+---+----+----------+\n",
            "|Argentina| DF|TAGLIAFICO Nicolas|31.08.1992|TAGLIAFICO|   169|    65| 31| 08|1992|Argentinos|\n",
            "|Argentina| MF|    PAVON Cristian|21.01.1996|     PAVÓN|   169|    65| 21| 01|1996|Argentinos|\n",
            "|Argentina| MF|    LANZINI Manuel|15.02.1993|   LANZINI|   167|    66| 15| 02|1993|Argentinos|\n",
            "|Argentina| DF|    SALVIO Eduardo|13.07.1990|    SALVIO|   167|    69| 13| 07|1990|Argentinos|\n",
            "|Argentina| FW|      MESSI Lionel|24.06.1987|     MESSI|   170|    72| 24| 06|1987|Argentinos|\n",
            "|Argentina| DF|  ANSALDI Cristian|20.09.1986|   ANSALDI|   181|    73| 20| 09|1986|Argentinos|\n",
            "|Argentina| MF|      BIGLIA Lucas|30.01.1986|    BIGLIA|   175|    73| 30| 01|1986|Argentinos|\n",
            "|Argentina| MF|       BANEGA Ever|29.06.1988|    BANEGA|   175|    73| 29| 06|1988|Argentinos|\n",
            "|Argentina| DF| MASCHERANO Javier|08.06.1984|MASCHERANO|   174|    73| 08| 06|1984|Argentinos|\n",
            "|Argentina| FW|      DYBALA Paulo|15.11.1993|    DYBALA|   177|    73| 15| 11|1993|Argentinos|\n",
            "|Argentina| FW|     AGUERO Sergio|02.06.1988|    AGÜERO|   172|    74| 02| 06|1988|Argentinos|\n",
            "|Argentina| FW|   HIGUAIN Gonzalo|10.12.1987|   HIGUAÍN|   184|    75| 10| 12|1987|Argentinos|\n",
            "|Argentina| MF|    DI MARIA Angel|14.02.1988|  DI MARÍA|   178|    75| 14| 02|1988|Argentinos|\n",
            "|Argentina| MF|  LO CELSO Giovani|09.04.1996|  LO CELSO|   177|    75| 09| 04|1996|Argentinos|\n",
            "|Argentina| MF|  MEZA Maximiliano|15.12.1992|      MEZA|   180|    76| 15| 12|1992|Argentinos|\n",
            "|Argentina| DF|      ACUNA Marcos|28.10.1991|     ACUÑA|   172|    77| 28| 10|1991|Argentinos|\n",
            "|Argentina| GK|CABALLERO Wilfredo|28.09.1981| CABALLERO|   186|    80| 28| 09|1981|Argentinos|\n",
            "|Argentina| DF|   MERCADO Gabriel|18.03.1987|   MERCADO|   181|    81| 18| 03|1987|Argentinos|\n",
            "|Argentina| DF|  OTAMENDI Nicolas|12.02.1988|  OTAMENDI|   181|    81| 12| 02|1988|Argentinos|\n",
            "|Argentina| DF|       ROJO Marcos|20.03.1990|      ROJO|   189|    82| 20| 03|1990|Argentinos|\n",
            "+---------+---+------------------+----------+----------+------+------+---+---+----+----------+\n",
            "only showing top 20 rows\n",
            "\n",
            "time: 538 ms (started: 2023-09-19 20:56:15 +00:00)\n"
          ]
        }
      ]
    },
    {
      "cell_type": "code",
      "source": [
        "africa = ['Senegal', 'Morocco', 'Tunisia', 'Egypt']\n",
        "america_norte = ['Panama', 'Mexico', 'Costa Rica']\n",
        "america_sul = ['Argentina', 'Peru', 'Uruguay', 'Brazil', 'Colombia']\n",
        "asia = ['Russia', 'IR Iran', 'Nigeria', 'Korea Republic', 'Saudi Arabia', 'Japan', ]\n",
        "europa = ['Sweden', 'Germany', 'France', 'Belgium', 'Croatia', 'Spain', 'Denmark', 'Iceland', 'Switzerland', 'England', 'Poland', 'Portugal', 'Serbia']\n",
        "oceania = ['Australia']\n",
        "\n",
        "val = when(condition=(col('team').isin(africa)), value=('europeu'))\\\n",
        "      .when(condition=(col('team').isin(america_norte)), value=('n_americano'))\\\n",
        "      .when(condition=(col('team').isin(america_sul)), value=('s_americano'))\\\n",
        "      .when(condition=(col('team').isin(asia)), value=('asiatico'))\\\n",
        "      .when(condition=(col('team').isin(europa)), value=('europeu'))\\\n",
        "      .when(condition=(col('team').isin(oceania)), value=('oceanicos'))\\\n",
        "      .otherwise('desconhecidos')\n",
        "\n",
        "df.withColumn('new_col', val).sample(fraction=0.01).show(5)"
      ],
      "metadata": {
        "colab": {
          "base_uri": "https://localhost:8080/"
        },
        "id": "jCJTDkgVP4a1",
        "outputId": "5a774a47-a2fe-409c-cc45-7c75eef0178e"
      },
      "execution_count": 128,
      "outputs": [
        {
          "output_type": "stream",
          "name": "stdout",
          "text": [
            "+--------------+---+-----------------+----------+----------+------+------+---+---+----+-----------+\n",
            "|          team|pos|fifa popular name|birth date|shirt name|height|weight|dia|mes| ano|    new_col|\n",
            "+--------------+---+-----------------+----------+----------+------+------+---+---+----+-----------+\n",
            "|        Brazil| FW|           TAISON|13.01.1988|    TAISON|   172|    64| 13| 01|1988|s_americano|\n",
            "|      Colombia| DF| SANCHEZ Davinson|12.06.1996|D. SANCHEZ|   187|    81| 12| 06|1996|s_americano|\n",
            "|    Costa Rica| DF|  GAMBOA Cristian|24.10.1989| C. GAMBOA|   175|    67| 24| 10|1989|n_americano|\n",
            "|       Croatia| MF| BROZOVIC Marcelo|16.11.1992|  BROZOVIĆ|   181|    68| 16| 11|1992|    europeu|\n",
            "|Korea Republic| DF|       KIM Minwoo|25.02.1990|   M W KIM|   172|    69| 25| 02|1990|   asiatico|\n",
            "+--------------+---+-----------------+----------+----------+------+------+---+---+----+-----------+\n",
            "\n",
            "time: 609 ms (started: 2023-09-19 21:12:55 +00:00)\n"
          ]
        }
      ]
    }
  ]
}