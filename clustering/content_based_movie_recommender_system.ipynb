{
  "nbformat": 4,
  "nbformat_minor": 0,
  "metadata": {
    "colab": {
      "provenance": [],
      "collapsed_sections": [
        "x9J-C9hIis55"
      ],
      "authorship_tag": "ABX9TyN74WQjmmeZsW7cjrwP79sT",
      "include_colab_link": true
    },
    "kernelspec": {
      "name": "python3",
      "display_name": "Python 3"
    },
    "language_info": {
      "name": "python"
    }
  },
  "cells": [
    {
      "cell_type": "markdown",
      "metadata": {
        "id": "view-in-github",
        "colab_type": "text"
      },
      "source": [
        "<a href=\"https://colab.research.google.com/github/robson-rsp/datascience/blob/main/clustering/content_based_movie_recommender_system.ipynb\" target=\"_parent\"><img src=\"https://colab.research.google.com/assets/colab-badge.svg\" alt=\"Open In Colab\"/></a>"
      ]
    },
    {
      "cell_type": "code",
      "source": [
        "'''%pip install ipython-autotime  --upgrade\n",
        "%pip install matplotlib        --upgrade\n",
        "%pip install pandas            --upgrade\n",
        "%pip install scikit-learn      --upgrade\n",
        "%pip install seaborn           --upgrade'''"
      ],
      "metadata": {
        "id": "z5KMjCsvV2CM",
        "colab": {
          "base_uri": "https://localhost:8080/",
          "height": 53
        },
        "outputId": "f9d2c31d-aeab-48bd-c953-07d08b4e54f3"
      },
      "execution_count": null,
      "outputs": [
        {
          "output_type": "execute_result",
          "data": {
            "text/plain": [
              "'%pip install ipython-autotime  --upgrade\\n%pip install matplotlib        --upgrade\\n%pip install pandas            --upgrade\\n%pip install scikit-learn      --upgrade\\n%pip install seaborn           --upgrade'"
            ],
            "application/vnd.google.colaboratory.intrinsic+json": {
              "type": "string"
            }
          },
          "metadata": {},
          "execution_count": 1
        }
      ]
    },
    {
      "cell_type": "code",
      "execution_count": null,
      "metadata": {
        "id": "YoBnxAvQVAZ8",
        "colab": {
          "base_uri": "https://localhost:8080/"
        },
        "outputId": "ec1404ea-de21-46c8-c94c-ad48404b68d1"
      },
      "outputs": [
        {
          "output_type": "stream",
          "name": "stdout",
          "text": [
            "Mounted at /content/drive\n",
            "time: 626 µs (started: 2023-04-19 13:59:06 +00:00)\n"
          ]
        }
      ],
      "source": [
        "from google.colab import drive, files\n",
        "import pandas as pd\n",
        "import warnings\n",
        "\n",
        "drive.mount('/content/drive', force_remount=True)\n",
        "warnings.filterwarnings(\"ignore\")\n",
        "%load_ext autotime"
      ]
    },
    {
      "cell_type": "code",
      "source": [
        "links   = pd.read_csv('/content/drive/MyDrive/datasets/movielens-movies/links.csv', encoding='utf-8')\n",
        "movies  = pd.read_csv('/content/drive/MyDrive/datasets/movielens-movies/movies.csv', encoding='utf-8')\n",
        "ratings = pd.read_csv('/content/drive/MyDrive/datasets/movielens-movies/ratings.csv', encoding='utf-8')\n",
        "tags    = pd.read_csv('/content/drive/MyDrive/datasets/movielens-movies/tags.csv', encoding='utf-8')"
      ],
      "metadata": {
        "colab": {
          "base_uri": "https://localhost:8080/"
        },
        "id": "5LY8HSFoWjsf",
        "outputId": "0cc153f0-0bc7-46b3-d023-2502f4c32c5f"
      },
      "execution_count": null,
      "outputs": [
        {
          "output_type": "stream",
          "name": "stdout",
          "text": [
            "time: 101 ms (started: 2023-04-19 13:59:06 +00:00)\n"
          ]
        }
      ]
    },
    {
      "cell_type": "markdown",
      "source": [
        "# EDA"
      ],
      "metadata": {
        "id": "x9J-C9hIis55"
      }
    },
    {
      "cell_type": "markdown",
      "source": [
        "## Links dataframe"
      ],
      "metadata": {
        "id": "6FGJ4oXclIRG"
      }
    },
    {
      "cell_type": "code",
      "source": [
        "links.head()"
      ],
      "metadata": {
        "colab": {
          "base_uri": "https://localhost:8080/",
          "height": 288
        },
        "id": "QbDzzYn1j4Ks",
        "outputId": "75be9c27-1e6b-4be0-d68d-8d77e606c478"
      },
      "execution_count": null,
      "outputs": [
        {
          "output_type": "execute_result",
          "data": {
            "text/plain": [
              "   movieId  imdbId   tmdbId\n",
              "0        1  114709    862.0\n",
              "1        2  113497   8844.0\n",
              "2        3  113228  15602.0\n",
              "3        4  114885  31357.0\n",
              "4        5  113041  11862.0"
            ],
            "text/html": [
              "\n",
              "  <div id=\"df-a1980f50-49e3-4db5-8c99-39ab96c16009\">\n",
              "    <div class=\"colab-df-container\">\n",
              "      <div>\n",
              "<style scoped>\n",
              "    .dataframe tbody tr th:only-of-type {\n",
              "        vertical-align: middle;\n",
              "    }\n",
              "\n",
              "    .dataframe tbody tr th {\n",
              "        vertical-align: top;\n",
              "    }\n",
              "\n",
              "    .dataframe thead th {\n",
              "        text-align: right;\n",
              "    }\n",
              "</style>\n",
              "<table border=\"1\" class=\"dataframe\">\n",
              "  <thead>\n",
              "    <tr style=\"text-align: right;\">\n",
              "      <th></th>\n",
              "      <th>movieId</th>\n",
              "      <th>imdbId</th>\n",
              "      <th>tmdbId</th>\n",
              "    </tr>\n",
              "  </thead>\n",
              "  <tbody>\n",
              "    <tr>\n",
              "      <th>0</th>\n",
              "      <td>1</td>\n",
              "      <td>114709</td>\n",
              "      <td>862.0</td>\n",
              "    </tr>\n",
              "    <tr>\n",
              "      <th>1</th>\n",
              "      <td>2</td>\n",
              "      <td>113497</td>\n",
              "      <td>8844.0</td>\n",
              "    </tr>\n",
              "    <tr>\n",
              "      <th>2</th>\n",
              "      <td>3</td>\n",
              "      <td>113228</td>\n",
              "      <td>15602.0</td>\n",
              "    </tr>\n",
              "    <tr>\n",
              "      <th>3</th>\n",
              "      <td>4</td>\n",
              "      <td>114885</td>\n",
              "      <td>31357.0</td>\n",
              "    </tr>\n",
              "    <tr>\n",
              "      <th>4</th>\n",
              "      <td>5</td>\n",
              "      <td>113041</td>\n",
              "      <td>11862.0</td>\n",
              "    </tr>\n",
              "  </tbody>\n",
              "</table>\n",
              "</div>\n",
              "      <button class=\"colab-df-convert\" onclick=\"convertToInteractive('df-a1980f50-49e3-4db5-8c99-39ab96c16009')\"\n",
              "              title=\"Convert this dataframe to an interactive table.\"\n",
              "              style=\"display:none;\">\n",
              "        \n",
              "  <svg xmlns=\"http://www.w3.org/2000/svg\" height=\"24px\"viewBox=\"0 0 24 24\"\n",
              "       width=\"24px\">\n",
              "    <path d=\"M0 0h24v24H0V0z\" fill=\"none\"/>\n",
              "    <path d=\"M18.56 5.44l.94 2.06.94-2.06 2.06-.94-2.06-.94-.94-2.06-.94 2.06-2.06.94zm-11 1L8.5 8.5l.94-2.06 2.06-.94-2.06-.94L8.5 2.5l-.94 2.06-2.06.94zm10 10l.94 2.06.94-2.06 2.06-.94-2.06-.94-.94-2.06-.94 2.06-2.06.94z\"/><path d=\"M17.41 7.96l-1.37-1.37c-.4-.4-.92-.59-1.43-.59-.52 0-1.04.2-1.43.59L10.3 9.45l-7.72 7.72c-.78.78-.78 2.05 0 2.83L4 21.41c.39.39.9.59 1.41.59.51 0 1.02-.2 1.41-.59l7.78-7.78 2.81-2.81c.8-.78.8-2.07 0-2.86zM5.41 20L4 18.59l7.72-7.72 1.47 1.35L5.41 20z\"/>\n",
              "  </svg>\n",
              "      </button>\n",
              "      \n",
              "  <style>\n",
              "    .colab-df-container {\n",
              "      display:flex;\n",
              "      flex-wrap:wrap;\n",
              "      gap: 12px;\n",
              "    }\n",
              "\n",
              "    .colab-df-convert {\n",
              "      background-color: #E8F0FE;\n",
              "      border: none;\n",
              "      border-radius: 50%;\n",
              "      cursor: pointer;\n",
              "      display: none;\n",
              "      fill: #1967D2;\n",
              "      height: 32px;\n",
              "      padding: 0 0 0 0;\n",
              "      width: 32px;\n",
              "    }\n",
              "\n",
              "    .colab-df-convert:hover {\n",
              "      background-color: #E2EBFA;\n",
              "      box-shadow: 0px 1px 2px rgba(60, 64, 67, 0.3), 0px 1px 3px 1px rgba(60, 64, 67, 0.15);\n",
              "      fill: #174EA6;\n",
              "    }\n",
              "\n",
              "    [theme=dark] .colab-df-convert {\n",
              "      background-color: #3B4455;\n",
              "      fill: #D2E3FC;\n",
              "    }\n",
              "\n",
              "    [theme=dark] .colab-df-convert:hover {\n",
              "      background-color: #434B5C;\n",
              "      box-shadow: 0px 1px 3px 1px rgba(0, 0, 0, 0.15);\n",
              "      filter: drop-shadow(0px 1px 2px rgba(0, 0, 0, 0.3));\n",
              "      fill: #FFFFFF;\n",
              "    }\n",
              "  </style>\n",
              "\n",
              "      <script>\n",
              "        const buttonEl =\n",
              "          document.querySelector('#df-a1980f50-49e3-4db5-8c99-39ab96c16009 button.colab-df-convert');\n",
              "        buttonEl.style.display =\n",
              "          google.colab.kernel.accessAllowed ? 'block' : 'none';\n",
              "\n",
              "        async function convertToInteractive(key) {\n",
              "          const element = document.querySelector('#df-a1980f50-49e3-4db5-8c99-39ab96c16009');\n",
              "          const dataTable =\n",
              "            await google.colab.kernel.invokeFunction('convertToInteractive',\n",
              "                                                     [key], {});\n",
              "          if (!dataTable) return;\n",
              "\n",
              "          const docLinkHtml = 'Like what you see? Visit the ' +\n",
              "            '<a target=\"_blank\" href=https://colab.research.google.com/notebooks/data_table.ipynb>data table notebook</a>'\n",
              "            + ' to learn more about interactive tables.';\n",
              "          element.innerHTML = '';\n",
              "          dataTable['output_type'] = 'display_data';\n",
              "          await google.colab.output.renderOutput(dataTable, element);\n",
              "          const docLink = document.createElement('div');\n",
              "          docLink.innerHTML = docLinkHtml;\n",
              "          element.appendChild(docLink);\n",
              "        }\n",
              "      </script>\n",
              "    </div>\n",
              "  </div>\n",
              "  "
            ]
          },
          "metadata": {},
          "execution_count": 4
        },
        {
          "output_type": "stream",
          "name": "stdout",
          "text": [
            "time: 9.32 ms (started: 2023-04-19 13:59:06 +00:00)\n"
          ]
        }
      ]
    },
    {
      "cell_type": "code",
      "source": [
        "links.info()"
      ],
      "metadata": {
        "colab": {
          "base_uri": "https://localhost:8080/"
        },
        "id": "d28en777iuC2",
        "outputId": "4b439e30-2375-4f61-f435-6a0b0de9d15d"
      },
      "execution_count": null,
      "outputs": [
        {
          "output_type": "stream",
          "name": "stdout",
          "text": [
            "<class 'pandas.core.frame.DataFrame'>\n",
            "RangeIndex: 9742 entries, 0 to 9741\n",
            "Data columns (total 3 columns):\n",
            " #   Column   Non-Null Count  Dtype  \n",
            "---  ------   --------------  -----  \n",
            " 0   movieId  9742 non-null   int64  \n",
            " 1   imdbId   9742 non-null   int64  \n",
            " 2   tmdbId   9734 non-null   float64\n",
            "dtypes: float64(1), int64(2)\n",
            "memory usage: 228.5 KB\n",
            "time: 8.4 ms (started: 2023-04-19 13:59:06 +00:00)\n"
          ]
        }
      ]
    },
    {
      "cell_type": "markdown",
      "source": [
        "Verificando quais atributos têm valores NaN."
      ],
      "metadata": {
        "id": "cXj6MZkclPe8"
      }
    },
    {
      "cell_type": "code",
      "source": [
        "for col in links.columns:\n",
        "  print(f'{col}: {links[col].hasnans}')"
      ],
      "metadata": {
        "colab": {
          "base_uri": "https://localhost:8080/"
        },
        "id": "qZu3l-eplU5g",
        "outputId": "33dd4203-a5b6-46ae-bc67-36640ef51702"
      },
      "execution_count": null,
      "outputs": [
        {
          "output_type": "stream",
          "name": "stdout",
          "text": [
            "movieId: False\n",
            "imdbId: False\n",
            "tmdbId: True\n",
            "time: 2.34 ms (started: 2023-04-19 13:59:06 +00:00)\n"
          ]
        }
      ]
    },
    {
      "cell_type": "markdown",
      "source": [
        "## Movies dataframe"
      ],
      "metadata": {
        "id": "Ct725Ey1mBOz"
      }
    },
    {
      "cell_type": "code",
      "source": [
        "movies.head()"
      ],
      "metadata": {
        "colab": {
          "base_uri": "https://localhost:8080/",
          "height": 444
        },
        "id": "yZoWEuytj9BQ",
        "outputId": "ac0012b5-589e-4747-a964-6c4b13cbbeb6"
      },
      "execution_count": null,
      "outputs": [
        {
          "output_type": "execute_result",
          "data": {
            "text/plain": [
              "   movieId                               title   \n",
              "0        1                    Toy Story (1995)  \\\n",
              "1        2                      Jumanji (1995)   \n",
              "2        3             Grumpier Old Men (1995)   \n",
              "3        4            Waiting to Exhale (1995)   \n",
              "4        5  Father of the Bride Part II (1995)   \n",
              "\n",
              "                                        genres  \n",
              "0  Adventure|Animation|Children|Comedy|Fantasy  \n",
              "1                   Adventure|Children|Fantasy  \n",
              "2                               Comedy|Romance  \n",
              "3                         Comedy|Drama|Romance  \n",
              "4                                       Comedy  "
            ],
            "text/html": [
              "\n",
              "  <div id=\"df-7abf8cbe-9f7a-4a64-b771-1d77ceefeceb\">\n",
              "    <div class=\"colab-df-container\">\n",
              "      <div>\n",
              "<style scoped>\n",
              "    .dataframe tbody tr th:only-of-type {\n",
              "        vertical-align: middle;\n",
              "    }\n",
              "\n",
              "    .dataframe tbody tr th {\n",
              "        vertical-align: top;\n",
              "    }\n",
              "\n",
              "    .dataframe thead th {\n",
              "        text-align: right;\n",
              "    }\n",
              "</style>\n",
              "<table border=\"1\" class=\"dataframe\">\n",
              "  <thead>\n",
              "    <tr style=\"text-align: right;\">\n",
              "      <th></th>\n",
              "      <th>movieId</th>\n",
              "      <th>title</th>\n",
              "      <th>genres</th>\n",
              "    </tr>\n",
              "  </thead>\n",
              "  <tbody>\n",
              "    <tr>\n",
              "      <th>0</th>\n",
              "      <td>1</td>\n",
              "      <td>Toy Story (1995)</td>\n",
              "      <td>Adventure|Animation|Children|Comedy|Fantasy</td>\n",
              "    </tr>\n",
              "    <tr>\n",
              "      <th>1</th>\n",
              "      <td>2</td>\n",
              "      <td>Jumanji (1995)</td>\n",
              "      <td>Adventure|Children|Fantasy</td>\n",
              "    </tr>\n",
              "    <tr>\n",
              "      <th>2</th>\n",
              "      <td>3</td>\n",
              "      <td>Grumpier Old Men (1995)</td>\n",
              "      <td>Comedy|Romance</td>\n",
              "    </tr>\n",
              "    <tr>\n",
              "      <th>3</th>\n",
              "      <td>4</td>\n",
              "      <td>Waiting to Exhale (1995)</td>\n",
              "      <td>Comedy|Drama|Romance</td>\n",
              "    </tr>\n",
              "    <tr>\n",
              "      <th>4</th>\n",
              "      <td>5</td>\n",
              "      <td>Father of the Bride Part II (1995)</td>\n",
              "      <td>Comedy</td>\n",
              "    </tr>\n",
              "  </tbody>\n",
              "</table>\n",
              "</div>\n",
              "      <button class=\"colab-df-convert\" onclick=\"convertToInteractive('df-7abf8cbe-9f7a-4a64-b771-1d77ceefeceb')\"\n",
              "              title=\"Convert this dataframe to an interactive table.\"\n",
              "              style=\"display:none;\">\n",
              "        \n",
              "  <svg xmlns=\"http://www.w3.org/2000/svg\" height=\"24px\"viewBox=\"0 0 24 24\"\n",
              "       width=\"24px\">\n",
              "    <path d=\"M0 0h24v24H0V0z\" fill=\"none\"/>\n",
              "    <path d=\"M18.56 5.44l.94 2.06.94-2.06 2.06-.94-2.06-.94-.94-2.06-.94 2.06-2.06.94zm-11 1L8.5 8.5l.94-2.06 2.06-.94-2.06-.94L8.5 2.5l-.94 2.06-2.06.94zm10 10l.94 2.06.94-2.06 2.06-.94-2.06-.94-.94-2.06-.94 2.06-2.06.94z\"/><path d=\"M17.41 7.96l-1.37-1.37c-.4-.4-.92-.59-1.43-.59-.52 0-1.04.2-1.43.59L10.3 9.45l-7.72 7.72c-.78.78-.78 2.05 0 2.83L4 21.41c.39.39.9.59 1.41.59.51 0 1.02-.2 1.41-.59l7.78-7.78 2.81-2.81c.8-.78.8-2.07 0-2.86zM5.41 20L4 18.59l7.72-7.72 1.47 1.35L5.41 20z\"/>\n",
              "  </svg>\n",
              "      </button>\n",
              "      \n",
              "  <style>\n",
              "    .colab-df-container {\n",
              "      display:flex;\n",
              "      flex-wrap:wrap;\n",
              "      gap: 12px;\n",
              "    }\n",
              "\n",
              "    .colab-df-convert {\n",
              "      background-color: #E8F0FE;\n",
              "      border: none;\n",
              "      border-radius: 50%;\n",
              "      cursor: pointer;\n",
              "      display: none;\n",
              "      fill: #1967D2;\n",
              "      height: 32px;\n",
              "      padding: 0 0 0 0;\n",
              "      width: 32px;\n",
              "    }\n",
              "\n",
              "    .colab-df-convert:hover {\n",
              "      background-color: #E2EBFA;\n",
              "      box-shadow: 0px 1px 2px rgba(60, 64, 67, 0.3), 0px 1px 3px 1px rgba(60, 64, 67, 0.15);\n",
              "      fill: #174EA6;\n",
              "    }\n",
              "\n",
              "    [theme=dark] .colab-df-convert {\n",
              "      background-color: #3B4455;\n",
              "      fill: #D2E3FC;\n",
              "    }\n",
              "\n",
              "    [theme=dark] .colab-df-convert:hover {\n",
              "      background-color: #434B5C;\n",
              "      box-shadow: 0px 1px 3px 1px rgba(0, 0, 0, 0.15);\n",
              "      filter: drop-shadow(0px 1px 2px rgba(0, 0, 0, 0.3));\n",
              "      fill: #FFFFFF;\n",
              "    }\n",
              "  </style>\n",
              "\n",
              "      <script>\n",
              "        const buttonEl =\n",
              "          document.querySelector('#df-7abf8cbe-9f7a-4a64-b771-1d77ceefeceb button.colab-df-convert');\n",
              "        buttonEl.style.display =\n",
              "          google.colab.kernel.accessAllowed ? 'block' : 'none';\n",
              "\n",
              "        async function convertToInteractive(key) {\n",
              "          const element = document.querySelector('#df-7abf8cbe-9f7a-4a64-b771-1d77ceefeceb');\n",
              "          const dataTable =\n",
              "            await google.colab.kernel.invokeFunction('convertToInteractive',\n",
              "                                                     [key], {});\n",
              "          if (!dataTable) return;\n",
              "\n",
              "          const docLinkHtml = 'Like what you see? Visit the ' +\n",
              "            '<a target=\"_blank\" href=https://colab.research.google.com/notebooks/data_table.ipynb>data table notebook</a>'\n",
              "            + ' to learn more about interactive tables.';\n",
              "          element.innerHTML = '';\n",
              "          dataTable['output_type'] = 'display_data';\n",
              "          await google.colab.output.renderOutput(dataTable, element);\n",
              "          const docLink = document.createElement('div');\n",
              "          docLink.innerHTML = docLinkHtml;\n",
              "          element.appendChild(docLink);\n",
              "        }\n",
              "      </script>\n",
              "    </div>\n",
              "  </div>\n",
              "  "
            ]
          },
          "metadata": {},
          "execution_count": 7
        },
        {
          "output_type": "stream",
          "name": "stdout",
          "text": [
            "time: 8.54 ms (started: 2023-04-19 13:59:06 +00:00)\n"
          ]
        }
      ]
    },
    {
      "cell_type": "code",
      "source": [
        "movies.info()"
      ],
      "metadata": {
        "colab": {
          "base_uri": "https://localhost:8080/"
        },
        "id": "2ekrsg_iiybc",
        "outputId": "fdb0c3f9-7762-4997-ff00-d5eb536d3471"
      },
      "execution_count": null,
      "outputs": [
        {
          "output_type": "stream",
          "name": "stdout",
          "text": [
            "<class 'pandas.core.frame.DataFrame'>\n",
            "RangeIndex: 9742 entries, 0 to 9741\n",
            "Data columns (total 3 columns):\n",
            " #   Column   Non-Null Count  Dtype \n",
            "---  ------   --------------  ----- \n",
            " 0   movieId  9742 non-null   int64 \n",
            " 1   title    9742 non-null   object\n",
            " 2   genres   9742 non-null   object\n",
            "dtypes: int64(1), object(2)\n",
            "memory usage: 228.5+ KB\n",
            "time: 7.91 ms (started: 2023-04-19 13:59:06 +00:00)\n"
          ]
        }
      ]
    },
    {
      "cell_type": "markdown",
      "source": [
        "Verificando quais atributos têm valores NaN."
      ],
      "metadata": {
        "id": "NxE7DBlHmwtR"
      }
    },
    {
      "cell_type": "code",
      "source": [
        "for col in movies.columns:\n",
        "  print(f'{col}: {movies[col].hasnans}')"
      ],
      "metadata": {
        "colab": {
          "base_uri": "https://localhost:8080/"
        },
        "outputId": "2b8a1c6d-93df-4e8e-df68-624bf3355d60",
        "id": "rwGbQ5Ofmwtb"
      },
      "execution_count": null,
      "outputs": [
        {
          "output_type": "stream",
          "name": "stdout",
          "text": [
            "movieId: False\n",
            "title: False\n",
            "genres: False\n",
            "time: 6.83 ms (started: 2023-04-19 13:59:06 +00:00)\n"
          ]
        }
      ]
    },
    {
      "cell_type": "markdown",
      "source": [
        "## Ratings dataframe"
      ],
      "metadata": {
        "id": "CqvzXZowm3cS"
      }
    },
    {
      "cell_type": "code",
      "source": [
        "ratings.head()"
      ],
      "metadata": {
        "colab": {
          "base_uri": "https://localhost:8080/",
          "height": 288
        },
        "id": "IlcCOqJnj_pe",
        "outputId": "2c46d05d-4801-45dd-d868-43926d5137ab"
      },
      "execution_count": null,
      "outputs": [
        {
          "output_type": "execute_result",
          "data": {
            "text/plain": [
              "   userId  movieId  rating  timestamp\n",
              "0       1        1     4.0  964982703\n",
              "1       1        3     4.0  964981247\n",
              "2       1        6     4.0  964982224\n",
              "3       1       47     5.0  964983815\n",
              "4       1       50     5.0  964982931"
            ],
            "text/html": [
              "\n",
              "  <div id=\"df-c93bce54-101a-4d73-8865-ce497d845f16\">\n",
              "    <div class=\"colab-df-container\">\n",
              "      <div>\n",
              "<style scoped>\n",
              "    .dataframe tbody tr th:only-of-type {\n",
              "        vertical-align: middle;\n",
              "    }\n",
              "\n",
              "    .dataframe tbody tr th {\n",
              "        vertical-align: top;\n",
              "    }\n",
              "\n",
              "    .dataframe thead th {\n",
              "        text-align: right;\n",
              "    }\n",
              "</style>\n",
              "<table border=\"1\" class=\"dataframe\">\n",
              "  <thead>\n",
              "    <tr style=\"text-align: right;\">\n",
              "      <th></th>\n",
              "      <th>userId</th>\n",
              "      <th>movieId</th>\n",
              "      <th>rating</th>\n",
              "      <th>timestamp</th>\n",
              "    </tr>\n",
              "  </thead>\n",
              "  <tbody>\n",
              "    <tr>\n",
              "      <th>0</th>\n",
              "      <td>1</td>\n",
              "      <td>1</td>\n",
              "      <td>4.0</td>\n",
              "      <td>964982703</td>\n",
              "    </tr>\n",
              "    <tr>\n",
              "      <th>1</th>\n",
              "      <td>1</td>\n",
              "      <td>3</td>\n",
              "      <td>4.0</td>\n",
              "      <td>964981247</td>\n",
              "    </tr>\n",
              "    <tr>\n",
              "      <th>2</th>\n",
              "      <td>1</td>\n",
              "      <td>6</td>\n",
              "      <td>4.0</td>\n",
              "      <td>964982224</td>\n",
              "    </tr>\n",
              "    <tr>\n",
              "      <th>3</th>\n",
              "      <td>1</td>\n",
              "      <td>47</td>\n",
              "      <td>5.0</td>\n",
              "      <td>964983815</td>\n",
              "    </tr>\n",
              "    <tr>\n",
              "      <th>4</th>\n",
              "      <td>1</td>\n",
              "      <td>50</td>\n",
              "      <td>5.0</td>\n",
              "      <td>964982931</td>\n",
              "    </tr>\n",
              "  </tbody>\n",
              "</table>\n",
              "</div>\n",
              "      <button class=\"colab-df-convert\" onclick=\"convertToInteractive('df-c93bce54-101a-4d73-8865-ce497d845f16')\"\n",
              "              title=\"Convert this dataframe to an interactive table.\"\n",
              "              style=\"display:none;\">\n",
              "        \n",
              "  <svg xmlns=\"http://www.w3.org/2000/svg\" height=\"24px\"viewBox=\"0 0 24 24\"\n",
              "       width=\"24px\">\n",
              "    <path d=\"M0 0h24v24H0V0z\" fill=\"none\"/>\n",
              "    <path d=\"M18.56 5.44l.94 2.06.94-2.06 2.06-.94-2.06-.94-.94-2.06-.94 2.06-2.06.94zm-11 1L8.5 8.5l.94-2.06 2.06-.94-2.06-.94L8.5 2.5l-.94 2.06-2.06.94zm10 10l.94 2.06.94-2.06 2.06-.94-2.06-.94-.94-2.06-.94 2.06-2.06.94z\"/><path d=\"M17.41 7.96l-1.37-1.37c-.4-.4-.92-.59-1.43-.59-.52 0-1.04.2-1.43.59L10.3 9.45l-7.72 7.72c-.78.78-.78 2.05 0 2.83L4 21.41c.39.39.9.59 1.41.59.51 0 1.02-.2 1.41-.59l7.78-7.78 2.81-2.81c.8-.78.8-2.07 0-2.86zM5.41 20L4 18.59l7.72-7.72 1.47 1.35L5.41 20z\"/>\n",
              "  </svg>\n",
              "      </button>\n",
              "      \n",
              "  <style>\n",
              "    .colab-df-container {\n",
              "      display:flex;\n",
              "      flex-wrap:wrap;\n",
              "      gap: 12px;\n",
              "    }\n",
              "\n",
              "    .colab-df-convert {\n",
              "      background-color: #E8F0FE;\n",
              "      border: none;\n",
              "      border-radius: 50%;\n",
              "      cursor: pointer;\n",
              "      display: none;\n",
              "      fill: #1967D2;\n",
              "      height: 32px;\n",
              "      padding: 0 0 0 0;\n",
              "      width: 32px;\n",
              "    }\n",
              "\n",
              "    .colab-df-convert:hover {\n",
              "      background-color: #E2EBFA;\n",
              "      box-shadow: 0px 1px 2px rgba(60, 64, 67, 0.3), 0px 1px 3px 1px rgba(60, 64, 67, 0.15);\n",
              "      fill: #174EA6;\n",
              "    }\n",
              "\n",
              "    [theme=dark] .colab-df-convert {\n",
              "      background-color: #3B4455;\n",
              "      fill: #D2E3FC;\n",
              "    }\n",
              "\n",
              "    [theme=dark] .colab-df-convert:hover {\n",
              "      background-color: #434B5C;\n",
              "      box-shadow: 0px 1px 3px 1px rgba(0, 0, 0, 0.15);\n",
              "      filter: drop-shadow(0px 1px 2px rgba(0, 0, 0, 0.3));\n",
              "      fill: #FFFFFF;\n",
              "    }\n",
              "  </style>\n",
              "\n",
              "      <script>\n",
              "        const buttonEl =\n",
              "          document.querySelector('#df-c93bce54-101a-4d73-8865-ce497d845f16 button.colab-df-convert');\n",
              "        buttonEl.style.display =\n",
              "          google.colab.kernel.accessAllowed ? 'block' : 'none';\n",
              "\n",
              "        async function convertToInteractive(key) {\n",
              "          const element = document.querySelector('#df-c93bce54-101a-4d73-8865-ce497d845f16');\n",
              "          const dataTable =\n",
              "            await google.colab.kernel.invokeFunction('convertToInteractive',\n",
              "                                                     [key], {});\n",
              "          if (!dataTable) return;\n",
              "\n",
              "          const docLinkHtml = 'Like what you see? Visit the ' +\n",
              "            '<a target=\"_blank\" href=https://colab.research.google.com/notebooks/data_table.ipynb>data table notebook</a>'\n",
              "            + ' to learn more about interactive tables.';\n",
              "          element.innerHTML = '';\n",
              "          dataTable['output_type'] = 'display_data';\n",
              "          await google.colab.output.renderOutput(dataTable, element);\n",
              "          const docLink = document.createElement('div');\n",
              "          docLink.innerHTML = docLinkHtml;\n",
              "          element.appendChild(docLink);\n",
              "        }\n",
              "      </script>\n",
              "    </div>\n",
              "  </div>\n",
              "  "
            ]
          },
          "metadata": {},
          "execution_count": 10
        },
        {
          "output_type": "stream",
          "name": "stdout",
          "text": [
            "time: 10.1 ms (started: 2023-04-19 13:59:06 +00:00)\n"
          ]
        }
      ]
    },
    {
      "cell_type": "code",
      "source": [
        "ratings.info()"
      ],
      "metadata": {
        "colab": {
          "base_uri": "https://localhost:8080/"
        },
        "id": "ftwbo49bi2LN",
        "outputId": "447331ce-36c8-48a6-b616-bca83e0f5251"
      },
      "execution_count": null,
      "outputs": [
        {
          "output_type": "stream",
          "name": "stdout",
          "text": [
            "<class 'pandas.core.frame.DataFrame'>\n",
            "RangeIndex: 100836 entries, 0 to 100835\n",
            "Data columns (total 4 columns):\n",
            " #   Column     Non-Null Count   Dtype  \n",
            "---  ------     --------------   -----  \n",
            " 0   userId     100836 non-null  int64  \n",
            " 1   movieId    100836 non-null  int64  \n",
            " 2   rating     100836 non-null  float64\n",
            " 3   timestamp  100836 non-null  int64  \n",
            "dtypes: float64(1), int64(3)\n",
            "memory usage: 3.1 MB\n",
            "time: 18.3 ms (started: 2023-04-19 13:59:06 +00:00)\n"
          ]
        }
      ]
    },
    {
      "cell_type": "markdown",
      "source": [
        "Verificando quais atributos têm valores NaN."
      ],
      "metadata": {
        "id": "-0J-gRMSnEuB"
      }
    },
    {
      "cell_type": "code",
      "source": [
        "for col in ratings.columns:\n",
        "  print(f'{col}: {ratings[col].hasnans}')"
      ],
      "metadata": {
        "colab": {
          "base_uri": "https://localhost:8080/"
        },
        "outputId": "a82318cd-1ee7-48ba-bc7e-4e1b6c718143",
        "id": "Pom4mmttnEuI"
      },
      "execution_count": null,
      "outputs": [
        {
          "output_type": "stream",
          "name": "stdout",
          "text": [
            "userId: False\n",
            "movieId: False\n",
            "rating: False\n",
            "timestamp: False\n",
            "time: 5.71 ms (started: 2023-04-19 13:59:06 +00:00)\n"
          ]
        }
      ]
    },
    {
      "cell_type": "markdown",
      "source": [
        "## Tags dataframe"
      ],
      "metadata": {
        "id": "LjJ-ZDo_nOVp"
      }
    },
    {
      "cell_type": "code",
      "source": [
        "tags.head()"
      ],
      "metadata": {
        "colab": {
          "base_uri": "https://localhost:8080/",
          "height": 340
        },
        "id": "tcZK7nQmkDBb",
        "outputId": "c9769aef-5d07-4e2e-e5db-118e7bd189eb"
      },
      "execution_count": null,
      "outputs": [
        {
          "output_type": "execute_result",
          "data": {
            "text/plain": [
              "   userId  movieId              tag   timestamp\n",
              "0       2    60756            funny  1445714994\n",
              "1       2    60756  Highly quotable  1445714996\n",
              "2       2    60756     will ferrell  1445714992\n",
              "3       2    89774     Boxing story  1445715207\n",
              "4       2    89774              MMA  1445715200"
            ],
            "text/html": [
              "\n",
              "  <div id=\"df-6b1f0914-1997-4c59-babd-f7e35ea578ee\">\n",
              "    <div class=\"colab-df-container\">\n",
              "      <div>\n",
              "<style scoped>\n",
              "    .dataframe tbody tr th:only-of-type {\n",
              "        vertical-align: middle;\n",
              "    }\n",
              "\n",
              "    .dataframe tbody tr th {\n",
              "        vertical-align: top;\n",
              "    }\n",
              "\n",
              "    .dataframe thead th {\n",
              "        text-align: right;\n",
              "    }\n",
              "</style>\n",
              "<table border=\"1\" class=\"dataframe\">\n",
              "  <thead>\n",
              "    <tr style=\"text-align: right;\">\n",
              "      <th></th>\n",
              "      <th>userId</th>\n",
              "      <th>movieId</th>\n",
              "      <th>tag</th>\n",
              "      <th>timestamp</th>\n",
              "    </tr>\n",
              "  </thead>\n",
              "  <tbody>\n",
              "    <tr>\n",
              "      <th>0</th>\n",
              "      <td>2</td>\n",
              "      <td>60756</td>\n",
              "      <td>funny</td>\n",
              "      <td>1445714994</td>\n",
              "    </tr>\n",
              "    <tr>\n",
              "      <th>1</th>\n",
              "      <td>2</td>\n",
              "      <td>60756</td>\n",
              "      <td>Highly quotable</td>\n",
              "      <td>1445714996</td>\n",
              "    </tr>\n",
              "    <tr>\n",
              "      <th>2</th>\n",
              "      <td>2</td>\n",
              "      <td>60756</td>\n",
              "      <td>will ferrell</td>\n",
              "      <td>1445714992</td>\n",
              "    </tr>\n",
              "    <tr>\n",
              "      <th>3</th>\n",
              "      <td>2</td>\n",
              "      <td>89774</td>\n",
              "      <td>Boxing story</td>\n",
              "      <td>1445715207</td>\n",
              "    </tr>\n",
              "    <tr>\n",
              "      <th>4</th>\n",
              "      <td>2</td>\n",
              "      <td>89774</td>\n",
              "      <td>MMA</td>\n",
              "      <td>1445715200</td>\n",
              "    </tr>\n",
              "  </tbody>\n",
              "</table>\n",
              "</div>\n",
              "      <button class=\"colab-df-convert\" onclick=\"convertToInteractive('df-6b1f0914-1997-4c59-babd-f7e35ea578ee')\"\n",
              "              title=\"Convert this dataframe to an interactive table.\"\n",
              "              style=\"display:none;\">\n",
              "        \n",
              "  <svg xmlns=\"http://www.w3.org/2000/svg\" height=\"24px\"viewBox=\"0 0 24 24\"\n",
              "       width=\"24px\">\n",
              "    <path d=\"M0 0h24v24H0V0z\" fill=\"none\"/>\n",
              "    <path d=\"M18.56 5.44l.94 2.06.94-2.06 2.06-.94-2.06-.94-.94-2.06-.94 2.06-2.06.94zm-11 1L8.5 8.5l.94-2.06 2.06-.94-2.06-.94L8.5 2.5l-.94 2.06-2.06.94zm10 10l.94 2.06.94-2.06 2.06-.94-2.06-.94-.94-2.06-.94 2.06-2.06.94z\"/><path d=\"M17.41 7.96l-1.37-1.37c-.4-.4-.92-.59-1.43-.59-.52 0-1.04.2-1.43.59L10.3 9.45l-7.72 7.72c-.78.78-.78 2.05 0 2.83L4 21.41c.39.39.9.59 1.41.59.51 0 1.02-.2 1.41-.59l7.78-7.78 2.81-2.81c.8-.78.8-2.07 0-2.86zM5.41 20L4 18.59l7.72-7.72 1.47 1.35L5.41 20z\"/>\n",
              "  </svg>\n",
              "      </button>\n",
              "      \n",
              "  <style>\n",
              "    .colab-df-container {\n",
              "      display:flex;\n",
              "      flex-wrap:wrap;\n",
              "      gap: 12px;\n",
              "    }\n",
              "\n",
              "    .colab-df-convert {\n",
              "      background-color: #E8F0FE;\n",
              "      border: none;\n",
              "      border-radius: 50%;\n",
              "      cursor: pointer;\n",
              "      display: none;\n",
              "      fill: #1967D2;\n",
              "      height: 32px;\n",
              "      padding: 0 0 0 0;\n",
              "      width: 32px;\n",
              "    }\n",
              "\n",
              "    .colab-df-convert:hover {\n",
              "      background-color: #E2EBFA;\n",
              "      box-shadow: 0px 1px 2px rgba(60, 64, 67, 0.3), 0px 1px 3px 1px rgba(60, 64, 67, 0.15);\n",
              "      fill: #174EA6;\n",
              "    }\n",
              "\n",
              "    [theme=dark] .colab-df-convert {\n",
              "      background-color: #3B4455;\n",
              "      fill: #D2E3FC;\n",
              "    }\n",
              "\n",
              "    [theme=dark] .colab-df-convert:hover {\n",
              "      background-color: #434B5C;\n",
              "      box-shadow: 0px 1px 3px 1px rgba(0, 0, 0, 0.15);\n",
              "      filter: drop-shadow(0px 1px 2px rgba(0, 0, 0, 0.3));\n",
              "      fill: #FFFFFF;\n",
              "    }\n",
              "  </style>\n",
              "\n",
              "      <script>\n",
              "        const buttonEl =\n",
              "          document.querySelector('#df-6b1f0914-1997-4c59-babd-f7e35ea578ee button.colab-df-convert');\n",
              "        buttonEl.style.display =\n",
              "          google.colab.kernel.accessAllowed ? 'block' : 'none';\n",
              "\n",
              "        async function convertToInteractive(key) {\n",
              "          const element = document.querySelector('#df-6b1f0914-1997-4c59-babd-f7e35ea578ee');\n",
              "          const dataTable =\n",
              "            await google.colab.kernel.invokeFunction('convertToInteractive',\n",
              "                                                     [key], {});\n",
              "          if (!dataTable) return;\n",
              "\n",
              "          const docLinkHtml = 'Like what you see? Visit the ' +\n",
              "            '<a target=\"_blank\" href=https://colab.research.google.com/notebooks/data_table.ipynb>data table notebook</a>'\n",
              "            + ' to learn more about interactive tables.';\n",
              "          element.innerHTML = '';\n",
              "          dataTable['output_type'] = 'display_data';\n",
              "          await google.colab.output.renderOutput(dataTable, element);\n",
              "          const docLink = document.createElement('div');\n",
              "          docLink.innerHTML = docLinkHtml;\n",
              "          element.appendChild(docLink);\n",
              "        }\n",
              "      </script>\n",
              "    </div>\n",
              "  </div>\n",
              "  "
            ]
          },
          "metadata": {},
          "execution_count": 13
        },
        {
          "output_type": "stream",
          "name": "stdout",
          "text": [
            "time: 8.06 ms (started: 2023-04-19 13:59:06 +00:00)\n"
          ]
        }
      ]
    },
    {
      "cell_type": "code",
      "source": [
        "tags.info()"
      ],
      "metadata": {
        "colab": {
          "base_uri": "https://localhost:8080/"
        },
        "id": "CImBBD8Pi94m",
        "outputId": "6977c843-5660-4f23-cbaa-aa255ce5560b"
      },
      "execution_count": null,
      "outputs": [
        {
          "output_type": "stream",
          "name": "stdout",
          "text": [
            "<class 'pandas.core.frame.DataFrame'>\n",
            "RangeIndex: 3683 entries, 0 to 3682\n",
            "Data columns (total 4 columns):\n",
            " #   Column     Non-Null Count  Dtype \n",
            "---  ------     --------------  ----- \n",
            " 0   userId     3683 non-null   int64 \n",
            " 1   movieId    3683 non-null   int64 \n",
            " 2   tag        3683 non-null   object\n",
            " 3   timestamp  3683 non-null   int64 \n",
            "dtypes: int64(3), object(1)\n",
            "memory usage: 115.2+ KB\n",
            "time: 8.98 ms (started: 2023-04-19 13:59:06 +00:00)\n"
          ]
        }
      ]
    },
    {
      "cell_type": "markdown",
      "source": [
        "Verificando quais atributos têm valores NaN."
      ],
      "metadata": {
        "id": "rCROr3UlnVKZ"
      }
    },
    {
      "cell_type": "code",
      "source": [
        "for col in tags.columns:\n",
        "  print(f'{col}: {tags[col].hasnans}')"
      ],
      "metadata": {
        "colab": {
          "base_uri": "https://localhost:8080/"
        },
        "outputId": "dbdd7f99-bebd-42df-d41a-2336445a138b",
        "id": "wkrC9vx1nVKg"
      },
      "execution_count": null,
      "outputs": [
        {
          "output_type": "stream",
          "name": "stdout",
          "text": [
            "userId: False\n",
            "movieId: False\n",
            "tag: False\n",
            "timestamp: False\n",
            "time: 6.58 ms (started: 2023-04-19 13:59:06 +00:00)\n"
          ]
        }
      ]
    },
    {
      "cell_type": "markdown",
      "source": [
        "## Ratings e Tag dataframes\n"
      ],
      "metadata": {
        "id": "k6E5ikg4njfR"
      }
    },
    {
      "cell_type": "markdown",
      "source": [
        "Vou checar a quantidade de usuários diferentes em 'ratings' e 'tag'."
      ],
      "metadata": {
        "id": "PrnIjuAbjc-a"
      }
    },
    {
      "cell_type": "code",
      "source": [
        "print(len(ratings['userId'].unique()))\n",
        "print(len(tags['userId'].unique()))"
      ],
      "metadata": {
        "colab": {
          "base_uri": "https://localhost:8080/"
        },
        "id": "PdxJ--YLjGTh",
        "outputId": "1f179151-60af-40ad-87f0-0269ff89ca0f"
      },
      "execution_count": null,
      "outputs": [
        {
          "output_type": "stream",
          "name": "stdout",
          "text": [
            "610\n",
            "58\n",
            "time: 1.84 ms (started: 2023-04-19 13:59:06 +00:00)\n"
          ]
        }
      ]
    },
    {
      "cell_type": "markdown",
      "source": [
        "Pelo visto nem todos os usuários aplicaram tags aos filmes que assistiram, mas não acredito que isso será um problema."
      ],
      "metadata": {
        "id": "7F8j77XWjl7F"
      }
    },
    {
      "cell_type": "markdown",
      "source": [
        "# Train/Test split\n",
        "\n",
        "Como a tarefa não é supervisionada, mas sim de agrupamento, não há necessidade de se fazer essa separação."
      ],
      "metadata": {
        "id": "SjLFQVwpkUtm"
      }
    },
    {
      "cell_type": "markdown",
      "source": [
        "# Feature engineering\n",
        "\n",
        "As transformações que farei nos conjuntos de dados são tão simples que não vou usar classes transformadoras nem pipelines neste projeto.\n",
        "\n",
        "A principal ideia é formar um **conjunto de dados de filmes** onde os gêneros serão as colunas, e os filmes, as linhas. Essa matriz será usada para formar o **vetor de perfil do usuário** a partir dos filmes que ele já assistiu. Com esse vetor será possível estipular a nota de todos os outros filmes que o usuário ainda não assistiu. Assim, basta ordenarmos de forma decrescente os filmes em relação as suas possíveis notas e recomendarmos um número x de filmes.\n",
        "\n",
        "Eu ia capturar as tags atribuídas aos filmes e combiná-las com 'genres', mas notei que os usuários estavam atribuindo tags completamente fora do contexto dos filmes. Por exemplo, o filme Toy Story tinha tags como: 'Al Pacino', 'Heroic Bloodshed', 'mafia', 'gangster', entre outras. Pesquisando na internet, descobri que uma frase dita pelo personagem Buzz Lightyear(Toy Story) e outra de Tony Montana(Pacino - Scarface) participaram de uma enquete de uma rádio britânica sobre as melhores frases da história do cinema. Provavelmente essas tags vieram dali, mas não têm nada a ver com o filme Toy Story. Isso caracteriza ruído e para evitar isso não apenas neste filme, mas em todo o conjunto de dados resolvi usar apenas 'genres' para formar a matriz de dados de filmes."
      ],
      "metadata": {
        "id": "EiLbSolBkl_e"
      }
    },
    {
      "cell_type": "code",
      "source": [
        "from sklearn.feature_extraction.text import CountVectorizer\n",
        "import numpy as np"
      ],
      "metadata": {
        "colab": {
          "base_uri": "https://localhost:8080/"
        },
        "id": "OYI0zoTmk3QY",
        "outputId": "8f1da4b3-062e-4b4c-e38f-e7c3191bb87f"
      },
      "execution_count": null,
      "outputs": [
        {
          "output_type": "stream",
          "name": "stdout",
          "text": [
            "time: 841 ms (started: 2023-04-19 13:59:06 +00:00)\n"
          ]
        }
      ]
    },
    {
      "cell_type": "markdown",
      "source": [
        "**Etapa ##:** Remover os nomes dos filmes pois isso não será necessário. Aqui, também faço alguns ajustes finais, como:\n",
        "\n",
        "*   Substituir o '|' por um espaço em branco\n",
        "*   Transformar todas as strings em letras minúsculas\n",
        "*   Formatar os espaços em branco\n"
      ],
      "metadata": {
        "id": "FdfmFpHByijC"
      }
    },
    {
      "cell_type": "code",
      "source": [
        "movies['genres'] = movies['genres'].str.replace('|', ' ')\n",
        "movies['genres'] = movies['genres'].str.lower()\n",
        "movies['genres'] = movies['genres'].str.replace(r'\\s{2,}', ' ', regex=True)"
      ],
      "metadata": {
        "colab": {
          "base_uri": "https://localhost:8080/"
        },
        "id": "re5KHUV2wA3I",
        "outputId": "e3d3698c-74c8-4d92-c845-707b73daaf1e"
      },
      "execution_count": null,
      "outputs": [
        {
          "output_type": "stream",
          "name": "stdout",
          "text": [
            "time: 30 ms (started: 2023-04-19 13:59:07 +00:00)\n"
          ]
        }
      ]
    },
    {
      "cell_type": "markdown",
      "source": [
        "# Modeling\n",
        "Neste projeto não vou usar modelos tradicionais de Machine Learning. Vou usar uma técnica de médias ponderadas e operações matricais que vou descrevendo etapa por etapa. Farei dessa forma pois vou me basear nos filmes que um usuário assistiu para recomendar outro baseado nos seus gostos. \n",
        "\n",
        "Outra forma de se fazer recomendações é escolher um filme, e baseado nos seus gêneros, recomendar outros que mais se assemelham ao seu. Neste caso, se faz necessário algum algoritmo para calcular a semelhança de cossenos entre os vetores que representam cada filme. Como já fiz algo parecido em outro projeto de recomendação de livros, prefiro utilizar outra abordagem neste projeto."
      ],
      "metadata": {
        "id": "GwgQVL9LtRds"
      }
    },
    {
      "cell_type": "markdown",
      "source": [
        "**Etapa ##:** Selecionar um usuário aleatório com todos os filmes os quais ele assistiu."
      ],
      "metadata": {
        "id": "7qawq0T-u1DF"
      }
    },
    {
      "cell_type": "code",
      "source": [
        "user_id = ratings.sample(1)['userId'].values[0]\n",
        "mask  = ratings['userId'] == user_id\n",
        "user = ratings[mask]"
      ],
      "metadata": {
        "colab": {
          "base_uri": "https://localhost:8080/"
        },
        "id": "H0XVJfrBu8HI",
        "outputId": "6b54da37-8c1f-42a2-ad5c-3f44654672bb"
      },
      "execution_count": null,
      "outputs": [
        {
          "output_type": "stream",
          "name": "stdout",
          "text": [
            "time: 21.5 ms (started: 2023-04-19 13:59:07 +00:00)\n"
          ]
        }
      ]
    },
    {
      "cell_type": "markdown",
      "source": [
        "**Etapa ##:** Criar uma matriz contendo dos filmes que o usuário assistiu."
      ],
      "metadata": {
        "id": "YuW_AlO9zGWG"
      }
    },
    {
      "cell_type": "code",
      "source": [
        "mask = movies['movieId'].isin(user['movieId'])\n",
        "user_movies = movies[mask]"
      ],
      "metadata": {
        "colab": {
          "base_uri": "https://localhost:8080/",
          "height": 441
        },
        "id": "2pVT6fUjzUYx",
        "outputId": "1307b476-38e3-4a17-f678-53964b6f79ef"
      },
      "execution_count": null,
      "outputs": [
        {
          "output_type": "execute_result",
          "data": {
            "text/plain": [
              "      movieId                           title   \n",
              "0           1                Toy Story (1995)  \\\n",
              "1           2                  Jumanji (1995)   \n",
              "5           6                     Heat (1995)   \n",
              "10         11  American President, The (1995)   \n",
              "20         21               Get Shorty (1995)   \n",
              "...       ...                             ...   \n",
              "6357    49524      Nativity Story, The (2006)   \n",
              "6358    49530            Blood Diamond (2006)   \n",
              "6369    49910          Freedom Writers (2007)   \n",
              "6377    50068    Letters from Iwo Jima (2006)   \n",
              "6518    53972    Live Free or Die Hard (2007)   \n",
              "\n",
              "                                           genres  \n",
              "0     adventure animation children comedy fantasy  \n",
              "1                      adventure children fantasy  \n",
              "5                           action crime thriller  \n",
              "10                           comedy drama romance  \n",
              "20                          comedy crime thriller  \n",
              "...                                           ...  \n",
              "6357                                        drama  \n",
              "6358    action adventure crime drama thriller war  \n",
              "6369                                        drama  \n",
              "6377                                    drama war  \n",
              "6518              action adventure crime thriller  \n",
              "\n",
              "[608 rows x 3 columns]"
            ],
            "text/html": [
              "\n",
              "  <div id=\"df-258b3d9d-a173-457c-8358-63ee67a6b1fc\">\n",
              "    <div class=\"colab-df-container\">\n",
              "      <div>\n",
              "<style scoped>\n",
              "    .dataframe tbody tr th:only-of-type {\n",
              "        vertical-align: middle;\n",
              "    }\n",
              "\n",
              "    .dataframe tbody tr th {\n",
              "        vertical-align: top;\n",
              "    }\n",
              "\n",
              "    .dataframe thead th {\n",
              "        text-align: right;\n",
              "    }\n",
              "</style>\n",
              "<table border=\"1\" class=\"dataframe\">\n",
              "  <thead>\n",
              "    <tr style=\"text-align: right;\">\n",
              "      <th></th>\n",
              "      <th>movieId</th>\n",
              "      <th>title</th>\n",
              "      <th>genres</th>\n",
              "    </tr>\n",
              "  </thead>\n",
              "  <tbody>\n",
              "    <tr>\n",
              "      <th>0</th>\n",
              "      <td>1</td>\n",
              "      <td>Toy Story (1995)</td>\n",
              "      <td>adventure animation children comedy fantasy</td>\n",
              "    </tr>\n",
              "    <tr>\n",
              "      <th>1</th>\n",
              "      <td>2</td>\n",
              "      <td>Jumanji (1995)</td>\n",
              "      <td>adventure children fantasy</td>\n",
              "    </tr>\n",
              "    <tr>\n",
              "      <th>5</th>\n",
              "      <td>6</td>\n",
              "      <td>Heat (1995)</td>\n",
              "      <td>action crime thriller</td>\n",
              "    </tr>\n",
              "    <tr>\n",
              "      <th>10</th>\n",
              "      <td>11</td>\n",
              "      <td>American President, The (1995)</td>\n",
              "      <td>comedy drama romance</td>\n",
              "    </tr>\n",
              "    <tr>\n",
              "      <th>20</th>\n",
              "      <td>21</td>\n",
              "      <td>Get Shorty (1995)</td>\n",
              "      <td>comedy crime thriller</td>\n",
              "    </tr>\n",
              "    <tr>\n",
              "      <th>...</th>\n",
              "      <td>...</td>\n",
              "      <td>...</td>\n",
              "      <td>...</td>\n",
              "    </tr>\n",
              "    <tr>\n",
              "      <th>6357</th>\n",
              "      <td>49524</td>\n",
              "      <td>Nativity Story, The (2006)</td>\n",
              "      <td>drama</td>\n",
              "    </tr>\n",
              "    <tr>\n",
              "      <th>6358</th>\n",
              "      <td>49530</td>\n",
              "      <td>Blood Diamond (2006)</td>\n",
              "      <td>action adventure crime drama thriller war</td>\n",
              "    </tr>\n",
              "    <tr>\n",
              "      <th>6369</th>\n",
              "      <td>49910</td>\n",
              "      <td>Freedom Writers (2007)</td>\n",
              "      <td>drama</td>\n",
              "    </tr>\n",
              "    <tr>\n",
              "      <th>6377</th>\n",
              "      <td>50068</td>\n",
              "      <td>Letters from Iwo Jima (2006)</td>\n",
              "      <td>drama war</td>\n",
              "    </tr>\n",
              "    <tr>\n",
              "      <th>6518</th>\n",
              "      <td>53972</td>\n",
              "      <td>Live Free or Die Hard (2007)</td>\n",
              "      <td>action adventure crime thriller</td>\n",
              "    </tr>\n",
              "  </tbody>\n",
              "</table>\n",
              "<p>608 rows × 3 columns</p>\n",
              "</div>\n",
              "      <button class=\"colab-df-convert\" onclick=\"convertToInteractive('df-258b3d9d-a173-457c-8358-63ee67a6b1fc')\"\n",
              "              title=\"Convert this dataframe to an interactive table.\"\n",
              "              style=\"display:none;\">\n",
              "        \n",
              "  <svg xmlns=\"http://www.w3.org/2000/svg\" height=\"24px\"viewBox=\"0 0 24 24\"\n",
              "       width=\"24px\">\n",
              "    <path d=\"M0 0h24v24H0V0z\" fill=\"none\"/>\n",
              "    <path d=\"M18.56 5.44l.94 2.06.94-2.06 2.06-.94-2.06-.94-.94-2.06-.94 2.06-2.06.94zm-11 1L8.5 8.5l.94-2.06 2.06-.94-2.06-.94L8.5 2.5l-.94 2.06-2.06.94zm10 10l.94 2.06.94-2.06 2.06-.94-2.06-.94-.94-2.06-.94 2.06-2.06.94z\"/><path d=\"M17.41 7.96l-1.37-1.37c-.4-.4-.92-.59-1.43-.59-.52 0-1.04.2-1.43.59L10.3 9.45l-7.72 7.72c-.78.78-.78 2.05 0 2.83L4 21.41c.39.39.9.59 1.41.59.51 0 1.02-.2 1.41-.59l7.78-7.78 2.81-2.81c.8-.78.8-2.07 0-2.86zM5.41 20L4 18.59l7.72-7.72 1.47 1.35L5.41 20z\"/>\n",
              "  </svg>\n",
              "      </button>\n",
              "      \n",
              "  <style>\n",
              "    .colab-df-container {\n",
              "      display:flex;\n",
              "      flex-wrap:wrap;\n",
              "      gap: 12px;\n",
              "    }\n",
              "\n",
              "    .colab-df-convert {\n",
              "      background-color: #E8F0FE;\n",
              "      border: none;\n",
              "      border-radius: 50%;\n",
              "      cursor: pointer;\n",
              "      display: none;\n",
              "      fill: #1967D2;\n",
              "      height: 32px;\n",
              "      padding: 0 0 0 0;\n",
              "      width: 32px;\n",
              "    }\n",
              "\n",
              "    .colab-df-convert:hover {\n",
              "      background-color: #E2EBFA;\n",
              "      box-shadow: 0px 1px 2px rgba(60, 64, 67, 0.3), 0px 1px 3px 1px rgba(60, 64, 67, 0.15);\n",
              "      fill: #174EA6;\n",
              "    }\n",
              "\n",
              "    [theme=dark] .colab-df-convert {\n",
              "      background-color: #3B4455;\n",
              "      fill: #D2E3FC;\n",
              "    }\n",
              "\n",
              "    [theme=dark] .colab-df-convert:hover {\n",
              "      background-color: #434B5C;\n",
              "      box-shadow: 0px 1px 3px 1px rgba(0, 0, 0, 0.15);\n",
              "      filter: drop-shadow(0px 1px 2px rgba(0, 0, 0, 0.3));\n",
              "      fill: #FFFFFF;\n",
              "    }\n",
              "  </style>\n",
              "\n",
              "      <script>\n",
              "        const buttonEl =\n",
              "          document.querySelector('#df-258b3d9d-a173-457c-8358-63ee67a6b1fc button.colab-df-convert');\n",
              "        buttonEl.style.display =\n",
              "          google.colab.kernel.accessAllowed ? 'block' : 'none';\n",
              "\n",
              "        async function convertToInteractive(key) {\n",
              "          const element = document.querySelector('#df-258b3d9d-a173-457c-8358-63ee67a6b1fc');\n",
              "          const dataTable =\n",
              "            await google.colab.kernel.invokeFunction('convertToInteractive',\n",
              "                                                     [key], {});\n",
              "          if (!dataTable) return;\n",
              "\n",
              "          const docLinkHtml = 'Like what you see? Visit the ' +\n",
              "            '<a target=\"_blank\" href=https://colab.research.google.com/notebooks/data_table.ipynb>data table notebook</a>'\n",
              "            + ' to learn more about interactive tables.';\n",
              "          element.innerHTML = '';\n",
              "          dataTable['output_type'] = 'display_data';\n",
              "          await google.colab.output.renderOutput(dataTable, element);\n",
              "          const docLink = document.createElement('div');\n",
              "          docLink.innerHTML = docLinkHtml;\n",
              "          element.appendChild(docLink);\n",
              "        }\n",
              "      </script>\n",
              "    </div>\n",
              "  </div>\n",
              "  "
            ]
          },
          "metadata": {},
          "execution_count": 20
        },
        {
          "output_type": "stream",
          "name": "stdout",
          "text": [
            "time: 35.4 ms (started: 2023-04-19 13:59:07 +00:00)\n"
          ]
        }
      ]
    },
    {
      "cell_type": "markdown",
      "source": [
        "**Etapa ##:** Criar uma matriz binária onde cada coluna será um gênero de filme e cada linha será um filme que o usuário assistiu.\n",
        "\n",
        "0.   Filme não pertence ao gênero\n",
        "1.   Filme pertence ao gênero\n",
        "\n"
      ],
      "metadata": {
        "id": "2vItEe2lzAoa"
      }
    },
    {
      "cell_type": "code",
      "source": [
        "cv = CountVectorizer(binary=True)\n",
        "movies_matrix = cv.fit_transform(user_movies['genres']).toarray()"
      ],
      "metadata": {
        "colab": {
          "base_uri": "https://localhost:8080/"
        },
        "outputId": "9a681b47-e094-4573-e2dd-f75d3cb4fa3b",
        "id": "94rTQLrdzAoi"
      },
      "execution_count": null,
      "outputs": [
        {
          "output_type": "stream",
          "name": "stdout",
          "text": [
            "time: 15.4 ms (started: 2023-04-19 14:14:59 +00:00)\n"
          ]
        }
      ]
    },
    {
      "cell_type": "markdown",
      "source": [
        "**Etapa ##:** Multiplicar a nota de cada filme pela linha correspente a ele na matriz de filmes.\n",
        "![weighted_matrix.jpg](data:image/jpeg;base64,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)"
      ],
      "metadata": {
        "id": "mVMufUm31Qnk"
      }
    },
    {
      "cell_type": "code",
      "source": [
        "user_ratings = user['rating'].values\n",
        "weighted_matrix = np.multiply(user_ratings.reshape(-1, 1), movies_matrix)"
      ],
      "metadata": {
        "colab": {
          "base_uri": "https://localhost:8080/"
        },
        "id": "8riGNVRE0WYX",
        "outputId": "511cb9e2-2a6e-40c6-895f-7ff8b3a9d7da"
      },
      "execution_count": null,
      "outputs": [
        {
          "output_type": "stream",
          "name": "stdout",
          "text": [
            "time: 1.07 ms (started: 2023-04-19 14:15:03 +00:00)\n"
          ]
        }
      ]
    },
    {
      "cell_type": "markdown",
      "source": [
        "**Etapa ##:** Fazer o somatório das notas por gênero. O resultado será um vetor com o somatório das notas de cada gênero de filme que o usuário assistiu.\n",
        "\n",
        "![summation_ratings.jpg](data:image/jpeg;base64,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)"
      ],
      "metadata": {
        "id": "YEYmtwOt4VOx"
      }
    },
    {
      "cell_type": "code",
      "source": [
        "user_profile = np.sum(weighted_matrix, axis=0)"
      ],
      "metadata": {
        "colab": {
          "base_uri": "https://localhost:8080/"
        },
        "id": "4LosX2iy5ChB",
        "outputId": "ab6484f4-fb1a-4092-93f1-7961d2556d61"
      },
      "execution_count": null,
      "outputs": [
        {
          "output_type": "stream",
          "name": "stdout",
          "text": [
            "time: 1.59 ms (started: 2023-04-19 14:22:16 +00:00)\n"
          ]
        }
      ]
    },
    {
      "cell_type": "markdown",
      "source": [
        "**Etapa ##:** Normalizar o vetor."
      ],
      "metadata": {
        "id": "Dyw4f58_5wYl"
      }
    },
    {
      "cell_type": "code",
      "source": [
        "total_ratings = np.sum(user_profile)\n",
        "user_profile = user_profile / total_ratings"
      ],
      "metadata": {
        "colab": {
          "base_uri": "https://localhost:8080/"
        },
        "id": "Axhp6Cu652vl",
        "outputId": "6441288a-1106-46e2-c2af-9e2345b07096"
      },
      "execution_count": null,
      "outputs": [
        {
          "output_type": "stream",
          "name": "stdout",
          "text": [
            "time: 1.38 ms (started: 2023-04-19 14:25:34 +00:00)\n"
          ]
        }
      ]
    }
  ]
}