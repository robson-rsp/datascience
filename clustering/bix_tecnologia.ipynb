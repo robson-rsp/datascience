{
  "nbformat": 4,
  "nbformat_minor": 0,
  "metadata": {
    "colab": {
      "provenance": []
    },
    "kernelspec": {
      "name": "python3",
      "display_name": "Python 3"
    },
    "language_info": {
      "name": "python"
    }
  },
  "cells": [
    {
      "cell_type": "markdown",
      "source": [
        "# Bix Tecnologia\n",
        "\n",
        "\n",
        "Fonte: https://docs.google.com/spreadsheets/d/1Sc6hN48b-lWbDdYNd_t9j8Bt0EZ8BUNG/edit?pli=1#gid=693918541"
      ],
      "metadata": {
        "id": "2el71PE6waF-"
      }
    },
    {
      "cell_type": "markdown",
      "source": [
        "# Initial imports"
      ],
      "metadata": {
        "id": "O9qfxtK_wel3"
      }
    },
    {
      "cell_type": "code",
      "execution_count": 1,
      "metadata": {
        "id": "jM3LxvqccxYR"
      },
      "outputs": [],
      "source": [
        "%pip install ipython-autotime  --upgrade"
      ]
    },
    {
      "cell_type": "code",
      "source": [
        "from google.colab import drive, files\n",
        "import pandas as pd\n",
        "drive.mount('/content/drive', force_remount=True)\n",
        "%load_ext autotime"
      ],
      "metadata": {
        "colab": {
          "base_uri": "https://localhost:8080/"
        },
        "id": "oJEe7auYdDxb",
        "outputId": "2c1c7591-642e-488e-9285-0241d5f14311"
      },
      "execution_count": 2,
      "outputs": [
        {
          "output_type": "stream",
          "name": "stdout",
          "text": [
            "Mounted at /content/drive\n",
            "time: 275 µs (started: 2023-07-08 00:32:05 +00:00)\n"
          ]
        }
      ]
    },
    {
      "cell_type": "code",
      "source": [
        "clients = pd.read_csv(\"/content/drive/MyDrive/datasets/bix-tecnologia/clients.csv\", encoding='utf-8')\n",
        "clients['DateOfBirth'] = pd.to_datetime(clients['DateOfBirth'], format=\"%m/%d/%Y\")\n",
        "\n",
        "products  = pd.read_csv(\"/content/drive/MyDrive/datasets/bix-tecnologia/products.csv\", encoding='utf-8')\n",
        "\n",
        "sales = pd.read_csv(\"/content/drive/MyDrive/datasets/bix-tecnologia/sales.csv\", encoding='utf-8', skiprows=4)\n",
        "sales = sales[['ID', 'StoreID', 'ProductID', 'ClientID','Discount', 'UnitPrice', 'Quantity', 'Date']]\n",
        "sales['Date'] = pd.to_datetime(sales['Date'], format=\"%m/%d/%Y\")\n",
        "\n",
        "stores    = pd.read_csv(\"/content/drive/MyDrive/datasets/bix-tecnologia/stores.csv\", encoding='utf-8')"
      ],
      "metadata": {
        "id": "MgCOYQD8iTo1",
        "colab": {
          "base_uri": "https://localhost:8080/"
        },
        "outputId": "bd8ab367-c83d-435f-aca5-621af64303de"
      },
      "execution_count": 3,
      "outputs": [
        {
          "output_type": "stream",
          "name": "stdout",
          "text": [
            "time: 357 ms (started: 2023-07-08 00:32:05 +00:00)\n"
          ]
        }
      ]
    },
    {
      "cell_type": "markdown",
      "source": [
        "Vou renomear as colunas para ficar mais legível e poder unir os dataframes com a função merge() formando apenas um dataset."
      ],
      "metadata": {
        "id": "0EK37XaLFOuE"
      }
    },
    {
      "cell_type": "code",
      "source": [
        "clients = clients.rename(columns={'ID':'client_id', 'City':'client_city', 'State':'client_state', 'DateOfBirth':'client_birth', 'Sex':'client_sex'})\n",
        "products = products.rename(columns={'ID':'product_id', 'Name':'product_name', 'Size':'product_size'})\n",
        "sales = sales.rename(columns={'ID':'id', 'ProductID':'product_id', 'ClientID':'client_id', 'Discount':'discount', 'UnitPrice':'unit_price', 'Quantity':'quantity', 'StoreID':'store_id', 'Date':'date'})\n",
        "stores = stores.rename(columns={'ID':'store_id', 'Name':'store_city', 'State':'store_state'})"
      ],
      "metadata": {
        "colab": {
          "base_uri": "https://localhost:8080/"
        },
        "id": "dnKvuDUjDjAf",
        "outputId": "f3cd7745-53c9-442a-ae0e-0dadc8f6dfd3"
      },
      "execution_count": 4,
      "outputs": [
        {
          "output_type": "stream",
          "name": "stdout",
          "text": [
            "time: 4.51 ms (started: 2023-07-08 00:32:06 +00:00)\n"
          ]
        }
      ]
    },
    {
      "cell_type": "markdown",
      "source": [
        "Agora, vou criar um único dataframe com todos os arquivos. Além disso, vou reordenar as colunas para legibilidade."
      ],
      "metadata": {
        "id": "R2riKNuEHRlj"
      }
    },
    {
      "cell_type": "code",
      "source": [
        "dataset = sales.merge(stores, on='store_id')\n",
        "dataset = dataset.merge(products, on='product_id')\n",
        "dataset = dataset.merge(clients, on='client_id')\n",
        "\n",
        "#dataset = dataset.drop(['id', 'store_id', 'product_id', 'client_id'], axis=1)\n",
        "dataset = dataset[['date', 'store_city', 'store_state', 'product_name', 'product_size', 'client_city', 'client_state', 'client_birth', 'client_sex', 'discount', 'unit_price', 'quantity', 'id', 'store_id', 'product_id', 'client_id']]"
      ],
      "metadata": {
        "colab": {
          "base_uri": "https://localhost:8080/"
        },
        "id": "QCyzU9UUFz9g",
        "outputId": "2ecca2e8-1819-46f0-ba0a-b29f558d4c01"
      },
      "execution_count": 5,
      "outputs": [
        {
          "output_type": "stream",
          "name": "stdout",
          "text": [
            "time: 151 ms (started: 2023-07-08 00:32:06 +00:00)\n"
          ]
        }
      ]
    },
    {
      "cell_type": "markdown",
      "source": [
        "# EDA"
      ],
      "metadata": {
        "id": "c0VK7yVywyEQ"
      }
    },
    {
      "cell_type": "code",
      "source": [
        "import numpy as np"
      ],
      "metadata": {
        "colab": {
          "base_uri": "https://localhost:8080/"
        },
        "id": "lY6Hbdb6xZ4_",
        "outputId": "0c402127-f910-4fbd-c7a7-b4aa1532839c"
      },
      "execution_count": 6,
      "outputs": [
        {
          "output_type": "stream",
          "name": "stdout",
          "text": [
            "time: 307 µs (started: 2023-07-08 00:32:06 +00:00)\n"
          ]
        }
      ]
    },
    {
      "cell_type": "code",
      "source": [
        "dataset.head()"
      ],
      "metadata": {
        "colab": {
          "base_uri": "https://localhost:8080/",
          "height": 374
        },
        "id": "0XOa2lBhH431",
        "outputId": "ce974f4e-acb6-4974-fda1-7e74391da7a4"
      },
      "execution_count": 7,
      "outputs": [
        {
          "output_type": "execute_result",
          "data": {
            "text/plain": [
              "        date store_city store_state     product_name product_size client_city  \\\n",
              "0 2018-12-10   Curitiba          PR       Tempestade            G    Curitiba   \n",
              "1 2019-04-25   Curitiba          PR           Thanos            G    Curitiba   \n",
              "2 2019-07-17   Curitiba          PR  Capitão América            P    Curitiba   \n",
              "3 2018-12-03   Curitiba          PR       Tempestade            G    Curitiba   \n",
              "4 2018-04-29   Curitiba          PR          Bazinga            G    Curitiba   \n",
              "\n",
              "  client_state client_birth client_sex discount unit_price  quantity  \\\n",
              "0           PR   1985-06-28      Homem     0,08      249,2         1   \n",
              "1           PR   1985-06-28      Homem      0,1      162,4         1   \n",
              "2           PR   1985-06-28      Homem      0,1      194,6         1   \n",
              "3           PR   1987-10-21      Homem     0,08      249,2         1   \n",
              "4           PR   1987-10-21      Homem      0,1      218,4         2   \n",
              "\n",
              "                                 id  store_id  \\\n",
              "0  80260d682079b6090c8285b398c50d97         4   \n",
              "1  3275736da1234f55d52bdf09d86b93bc         4   \n",
              "2  f3513eec8f1434b5b7e04ddf3598df40         4   \n",
              "3  c330b70c5e60bf56e90ebe09e045f79e         4   \n",
              "4  eced501ea6ea98469acff0ccbf3ca09b         4   \n",
              "\n",
              "                          product_id  client_id  \n",
              "0  002552c0663708129c0019cc97552d7d3      14001  \n",
              "1  001b237c0e9bb435f2e54071129237e93      14001  \n",
              "2  00066f42aeeb9f3007548bb9d3f33c381      14001  \n",
              "3  002552c0663708129c0019cc97552d7d3      14116  \n",
              "4  002ec297b1b00fb9dde7ee6ac24b67713      14116  "
            ],
            "text/html": [
              "\n",
              "  <div id=\"df-b5ea06d5-5700-49b6-a91f-ba83f012155c\">\n",
              "    <div class=\"colab-df-container\">\n",
              "      <div>\n",
              "<style scoped>\n",
              "    .dataframe tbody tr th:only-of-type {\n",
              "        vertical-align: middle;\n",
              "    }\n",
              "\n",
              "    .dataframe tbody tr th {\n",
              "        vertical-align: top;\n",
              "    }\n",
              "\n",
              "    .dataframe thead th {\n",
              "        text-align: right;\n",
              "    }\n",
              "</style>\n",
              "<table border=\"1\" class=\"dataframe\">\n",
              "  <thead>\n",
              "    <tr style=\"text-align: right;\">\n",
              "      <th></th>\n",
              "      <th>date</th>\n",
              "      <th>store_city</th>\n",
              "      <th>store_state</th>\n",
              "      <th>product_name</th>\n",
              "      <th>product_size</th>\n",
              "      <th>client_city</th>\n",
              "      <th>client_state</th>\n",
              "      <th>client_birth</th>\n",
              "      <th>client_sex</th>\n",
              "      <th>discount</th>\n",
              "      <th>unit_price</th>\n",
              "      <th>quantity</th>\n",
              "      <th>id</th>\n",
              "      <th>store_id</th>\n",
              "      <th>product_id</th>\n",
              "      <th>client_id</th>\n",
              "    </tr>\n",
              "  </thead>\n",
              "  <tbody>\n",
              "    <tr>\n",
              "      <th>0</th>\n",
              "      <td>2018-12-10</td>\n",
              "      <td>Curitiba</td>\n",
              "      <td>PR</td>\n",
              "      <td>Tempestade</td>\n",
              "      <td>G</td>\n",
              "      <td>Curitiba</td>\n",
              "      <td>PR</td>\n",
              "      <td>1985-06-28</td>\n",
              "      <td>Homem</td>\n",
              "      <td>0,08</td>\n",
              "      <td>249,2</td>\n",
              "      <td>1</td>\n",
              "      <td>80260d682079b6090c8285b398c50d97</td>\n",
              "      <td>4</td>\n",
              "      <td>002552c0663708129c0019cc97552d7d3</td>\n",
              "      <td>14001</td>\n",
              "    </tr>\n",
              "    <tr>\n",
              "      <th>1</th>\n",
              "      <td>2019-04-25</td>\n",
              "      <td>Curitiba</td>\n",
              "      <td>PR</td>\n",
              "      <td>Thanos</td>\n",
              "      <td>G</td>\n",
              "      <td>Curitiba</td>\n",
              "      <td>PR</td>\n",
              "      <td>1985-06-28</td>\n",
              "      <td>Homem</td>\n",
              "      <td>0,1</td>\n",
              "      <td>162,4</td>\n",
              "      <td>1</td>\n",
              "      <td>3275736da1234f55d52bdf09d86b93bc</td>\n",
              "      <td>4</td>\n",
              "      <td>001b237c0e9bb435f2e54071129237e93</td>\n",
              "      <td>14001</td>\n",
              "    </tr>\n",
              "    <tr>\n",
              "      <th>2</th>\n",
              "      <td>2019-07-17</td>\n",
              "      <td>Curitiba</td>\n",
              "      <td>PR</td>\n",
              "      <td>Capitão América</td>\n",
              "      <td>P</td>\n",
              "      <td>Curitiba</td>\n",
              "      <td>PR</td>\n",
              "      <td>1985-06-28</td>\n",
              "      <td>Homem</td>\n",
              "      <td>0,1</td>\n",
              "      <td>194,6</td>\n",
              "      <td>1</td>\n",
              "      <td>f3513eec8f1434b5b7e04ddf3598df40</td>\n",
              "      <td>4</td>\n",
              "      <td>00066f42aeeb9f3007548bb9d3f33c381</td>\n",
              "      <td>14001</td>\n",
              "    </tr>\n",
              "    <tr>\n",
              "      <th>3</th>\n",
              "      <td>2018-12-03</td>\n",
              "      <td>Curitiba</td>\n",
              "      <td>PR</td>\n",
              "      <td>Tempestade</td>\n",
              "      <td>G</td>\n",
              "      <td>Curitiba</td>\n",
              "      <td>PR</td>\n",
              "      <td>1987-10-21</td>\n",
              "      <td>Homem</td>\n",
              "      <td>0,08</td>\n",
              "      <td>249,2</td>\n",
              "      <td>1</td>\n",
              "      <td>c330b70c5e60bf56e90ebe09e045f79e</td>\n",
              "      <td>4</td>\n",
              "      <td>002552c0663708129c0019cc97552d7d3</td>\n",
              "      <td>14116</td>\n",
              "    </tr>\n",
              "    <tr>\n",
              "      <th>4</th>\n",
              "      <td>2018-04-29</td>\n",
              "      <td>Curitiba</td>\n",
              "      <td>PR</td>\n",
              "      <td>Bazinga</td>\n",
              "      <td>G</td>\n",
              "      <td>Curitiba</td>\n",
              "      <td>PR</td>\n",
              "      <td>1987-10-21</td>\n",
              "      <td>Homem</td>\n",
              "      <td>0,1</td>\n",
              "      <td>218,4</td>\n",
              "      <td>2</td>\n",
              "      <td>eced501ea6ea98469acff0ccbf3ca09b</td>\n",
              "      <td>4</td>\n",
              "      <td>002ec297b1b00fb9dde7ee6ac24b67713</td>\n",
              "      <td>14116</td>\n",
              "    </tr>\n",
              "  </tbody>\n",
              "</table>\n",
              "</div>\n",
              "      <button class=\"colab-df-convert\" onclick=\"convertToInteractive('df-b5ea06d5-5700-49b6-a91f-ba83f012155c')\"\n",
              "              title=\"Convert this dataframe to an interactive table.\"\n",
              "              style=\"display:none;\">\n",
              "        \n",
              "  <svg xmlns=\"http://www.w3.org/2000/svg\" height=\"24px\"viewBox=\"0 0 24 24\"\n",
              "       width=\"24px\">\n",
              "    <path d=\"M0 0h24v24H0V0z\" fill=\"none\"/>\n",
              "    <path d=\"M18.56 5.44l.94 2.06.94-2.06 2.06-.94-2.06-.94-.94-2.06-.94 2.06-2.06.94zm-11 1L8.5 8.5l.94-2.06 2.06-.94-2.06-.94L8.5 2.5l-.94 2.06-2.06.94zm10 10l.94 2.06.94-2.06 2.06-.94-2.06-.94-.94-2.06-.94 2.06-2.06.94z\"/><path d=\"M17.41 7.96l-1.37-1.37c-.4-.4-.92-.59-1.43-.59-.52 0-1.04.2-1.43.59L10.3 9.45l-7.72 7.72c-.78.78-.78 2.05 0 2.83L4 21.41c.39.39.9.59 1.41.59.51 0 1.02-.2 1.41-.59l7.78-7.78 2.81-2.81c.8-.78.8-2.07 0-2.86zM5.41 20L4 18.59l7.72-7.72 1.47 1.35L5.41 20z\"/>\n",
              "  </svg>\n",
              "      </button>\n",
              "      \n",
              "  <style>\n",
              "    .colab-df-container {\n",
              "      display:flex;\n",
              "      flex-wrap:wrap;\n",
              "      gap: 12px;\n",
              "    }\n",
              "\n",
              "    .colab-df-convert {\n",
              "      background-color: #E8F0FE;\n",
              "      border: none;\n",
              "      border-radius: 50%;\n",
              "      cursor: pointer;\n",
              "      display: none;\n",
              "      fill: #1967D2;\n",
              "      height: 32px;\n",
              "      padding: 0 0 0 0;\n",
              "      width: 32px;\n",
              "    }\n",
              "\n",
              "    .colab-df-convert:hover {\n",
              "      background-color: #E2EBFA;\n",
              "      box-shadow: 0px 1px 2px rgba(60, 64, 67, 0.3), 0px 1px 3px 1px rgba(60, 64, 67, 0.15);\n",
              "      fill: #174EA6;\n",
              "    }\n",
              "\n",
              "    [theme=dark] .colab-df-convert {\n",
              "      background-color: #3B4455;\n",
              "      fill: #D2E3FC;\n",
              "    }\n",
              "\n",
              "    [theme=dark] .colab-df-convert:hover {\n",
              "      background-color: #434B5C;\n",
              "      box-shadow: 0px 1px 3px 1px rgba(0, 0, 0, 0.15);\n",
              "      filter: drop-shadow(0px 1px 2px rgba(0, 0, 0, 0.3));\n",
              "      fill: #FFFFFF;\n",
              "    }\n",
              "  </style>\n",
              "\n",
              "      <script>\n",
              "        const buttonEl =\n",
              "          document.querySelector('#df-b5ea06d5-5700-49b6-a91f-ba83f012155c button.colab-df-convert');\n",
              "        buttonEl.style.display =\n",
              "          google.colab.kernel.accessAllowed ? 'block' : 'none';\n",
              "\n",
              "        async function convertToInteractive(key) {\n",
              "          const element = document.querySelector('#df-b5ea06d5-5700-49b6-a91f-ba83f012155c');\n",
              "          const dataTable =\n",
              "            await google.colab.kernel.invokeFunction('convertToInteractive',\n",
              "                                                     [key], {});\n",
              "          if (!dataTable) return;\n",
              "\n",
              "          const docLinkHtml = 'Like what you see? Visit the ' +\n",
              "            '<a target=\"_blank\" href=https://colab.research.google.com/notebooks/data_table.ipynb>data table notebook</a>'\n",
              "            + ' to learn more about interactive tables.';\n",
              "          element.innerHTML = '';\n",
              "          dataTable['output_type'] = 'display_data';\n",
              "          await google.colab.output.renderOutput(dataTable, element);\n",
              "          const docLink = document.createElement('div');\n",
              "          docLink.innerHTML = docLinkHtml;\n",
              "          element.appendChild(docLink);\n",
              "        }\n",
              "      </script>\n",
              "    </div>\n",
              "  </div>\n",
              "  "
            ]
          },
          "metadata": {},
          "execution_count": 7
        },
        {
          "output_type": "stream",
          "name": "stdout",
          "text": [
            "time: 32.5 ms (started: 2023-07-08 00:32:06 +00:00)\n"
          ]
        }
      ]
    },
    {
      "cell_type": "code",
      "source": [
        "dataset.info()"
      ],
      "metadata": {
        "colab": {
          "base_uri": "https://localhost:8080/"
        },
        "id": "K3mnEZ2svKQl",
        "outputId": "898abc84-6225-4acd-b9c0-ece55e06c6d7"
      },
      "execution_count": 8,
      "outputs": [
        {
          "output_type": "stream",
          "name": "stdout",
          "text": [
            "<class 'pandas.core.frame.DataFrame'>\n",
            "Int64Index: 32753 entries, 0 to 32752\n",
            "Data columns (total 16 columns):\n",
            " #   Column        Non-Null Count  Dtype         \n",
            "---  ------        --------------  -----         \n",
            " 0   date          32753 non-null  datetime64[ns]\n",
            " 1   store_city    32753 non-null  object        \n",
            " 2   store_state   32753 non-null  object        \n",
            " 3   product_name  32753 non-null  object        \n",
            " 4   product_size  32753 non-null  object        \n",
            " 5   client_city   32753 non-null  object        \n",
            " 6   client_state  32753 non-null  object        \n",
            " 7   client_birth  32753 non-null  datetime64[ns]\n",
            " 8   client_sex    32753 non-null  object        \n",
            " 9   discount      32753 non-null  object        \n",
            " 10  unit_price    32753 non-null  object        \n",
            " 11  quantity      32753 non-null  int64         \n",
            " 12  id            32753 non-null  object        \n",
            " 13  store_id      32753 non-null  int64         \n",
            " 14  product_id    32753 non-null  object        \n",
            " 15  client_id     32753 non-null  int64         \n",
            "dtypes: datetime64[ns](2), int64(3), object(11)\n",
            "memory usage: 4.2+ MB\n",
            "time: 182 ms (started: 2023-07-08 00:32:06 +00:00)\n"
          ]
        }
      ]
    },
    {
      "cell_type": "markdown",
      "source": [
        "Os atributos 'discount' e 'unit_price' são números, mas estão definidos como 'object'. Isso acontece porque os números contém vírgula e não ponto. Vou mudar seus tipos para que eu possa criar os gráficos de maneira adequada."
      ],
      "metadata": {
        "id": "42ftY24gvrE2"
      }
    },
    {
      "cell_type": "code",
      "source": [
        "dataset['discount']   = np.vectorize(lambda x: x.replace(',', '.'))(dataset['discount'])\n",
        "dataset['unit_price'] = np.vectorize(lambda x: x.replace(',', '.'))(dataset['unit_price'])\n",
        "dataset = dataset.astype({'discount': 'float64'})\n",
        "dataset = dataset.astype({'unit_price': 'float64'})"
      ],
      "metadata": {
        "colab": {
          "base_uri": "https://localhost:8080/"
        },
        "id": "vMd3EQi0wMAR",
        "outputId": "94cfae92-5d5a-4826-b3e1-c31147590541"
      },
      "execution_count": 9,
      "outputs": [
        {
          "output_type": "stream",
          "name": "stdout",
          "text": [
            "time: 124 ms (started: 2023-07-08 00:32:06 +00:00)\n"
          ]
        }
      ]
    },
    {
      "cell_type": "markdown",
      "source": [
        "Crio duas listas contendo os atributos categóricos e numéricos. Inicialmente, ignorei datas e ids."
      ],
      "metadata": {
        "id": "DVQSQ-du1aI5"
      }
    },
    {
      "cell_type": "code",
      "source": [
        "categorical = ['store_city', 'store_state', 'product_name', 'product_size', 'client_city', 'client_state', 'client_sex']\n",
        "numerical   = ['discount', 'unit_price', 'quantity']"
      ],
      "metadata": {
        "colab": {
          "base_uri": "https://localhost:8080/"
        },
        "id": "MBd4pzxy0iEd",
        "outputId": "40b96078-b401-49a8-d120-a97c64e81cb0"
      },
      "execution_count": 10,
      "outputs": [
        {
          "output_type": "stream",
          "name": "stdout",
          "text": [
            "time: 1.6 ms (started: 2023-07-08 00:32:06 +00:00)\n"
          ]
        }
      ]
    },
    {
      "cell_type": "code",
      "source": [
        "dataset[numerical].describe()"
      ],
      "metadata": {
        "colab": {
          "base_uri": "https://localhost:8080/",
          "height": 318
        },
        "id": "nupU3qpX2M-m",
        "outputId": "91d76c05-2dd6-4aad-ffe9-3382579db322"
      },
      "execution_count": 11,
      "outputs": [
        {
          "output_type": "execute_result",
          "data": {
            "text/plain": [
              "           discount    unit_price      quantity\n",
              "count  32753.000000  32753.000000  32753.000000\n",
              "mean       0.093012    221.644967      1.058651\n",
              "std        0.009536    112.535304      0.239606\n",
              "min        0.080000    114.800000      1.000000\n",
              "25%        0.080000    161.000000      1.000000\n",
              "50%        0.100000    204.400000      1.000000\n",
              "75%        0.100000    233.800000      1.000000\n",
              "max        0.100000    686.000000      3.000000"
            ],
            "text/html": [
              "\n",
              "  <div id=\"df-482c659d-5a24-4084-be32-e154475fb954\">\n",
              "    <div class=\"colab-df-container\">\n",
              "      <div>\n",
              "<style scoped>\n",
              "    .dataframe tbody tr th:only-of-type {\n",
              "        vertical-align: middle;\n",
              "    }\n",
              "\n",
              "    .dataframe tbody tr th {\n",
              "        vertical-align: top;\n",
              "    }\n",
              "\n",
              "    .dataframe thead th {\n",
              "        text-align: right;\n",
              "    }\n",
              "</style>\n",
              "<table border=\"1\" class=\"dataframe\">\n",
              "  <thead>\n",
              "    <tr style=\"text-align: right;\">\n",
              "      <th></th>\n",
              "      <th>discount</th>\n",
              "      <th>unit_price</th>\n",
              "      <th>quantity</th>\n",
              "    </tr>\n",
              "  </thead>\n",
              "  <tbody>\n",
              "    <tr>\n",
              "      <th>count</th>\n",
              "      <td>32753.000000</td>\n",
              "      <td>32753.000000</td>\n",
              "      <td>32753.000000</td>\n",
              "    </tr>\n",
              "    <tr>\n",
              "      <th>mean</th>\n",
              "      <td>0.093012</td>\n",
              "      <td>221.644967</td>\n",
              "      <td>1.058651</td>\n",
              "    </tr>\n",
              "    <tr>\n",
              "      <th>std</th>\n",
              "      <td>0.009536</td>\n",
              "      <td>112.535304</td>\n",
              "      <td>0.239606</td>\n",
              "    </tr>\n",
              "    <tr>\n",
              "      <th>min</th>\n",
              "      <td>0.080000</td>\n",
              "      <td>114.800000</td>\n",
              "      <td>1.000000</td>\n",
              "    </tr>\n",
              "    <tr>\n",
              "      <th>25%</th>\n",
              "      <td>0.080000</td>\n",
              "      <td>161.000000</td>\n",
              "      <td>1.000000</td>\n",
              "    </tr>\n",
              "    <tr>\n",
              "      <th>50%</th>\n",
              "      <td>0.100000</td>\n",
              "      <td>204.400000</td>\n",
              "      <td>1.000000</td>\n",
              "    </tr>\n",
              "    <tr>\n",
              "      <th>75%</th>\n",
              "      <td>0.100000</td>\n",
              "      <td>233.800000</td>\n",
              "      <td>1.000000</td>\n",
              "    </tr>\n",
              "    <tr>\n",
              "      <th>max</th>\n",
              "      <td>0.100000</td>\n",
              "      <td>686.000000</td>\n",
              "      <td>3.000000</td>\n",
              "    </tr>\n",
              "  </tbody>\n",
              "</table>\n",
              "</div>\n",
              "      <button class=\"colab-df-convert\" onclick=\"convertToInteractive('df-482c659d-5a24-4084-be32-e154475fb954')\"\n",
              "              title=\"Convert this dataframe to an interactive table.\"\n",
              "              style=\"display:none;\">\n",
              "        \n",
              "  <svg xmlns=\"http://www.w3.org/2000/svg\" height=\"24px\"viewBox=\"0 0 24 24\"\n",
              "       width=\"24px\">\n",
              "    <path d=\"M0 0h24v24H0V0z\" fill=\"none\"/>\n",
              "    <path d=\"M18.56 5.44l.94 2.06.94-2.06 2.06-.94-2.06-.94-.94-2.06-.94 2.06-2.06.94zm-11 1L8.5 8.5l.94-2.06 2.06-.94-2.06-.94L8.5 2.5l-.94 2.06-2.06.94zm10 10l.94 2.06.94-2.06 2.06-.94-2.06-.94-.94-2.06-.94 2.06-2.06.94z\"/><path d=\"M17.41 7.96l-1.37-1.37c-.4-.4-.92-.59-1.43-.59-.52 0-1.04.2-1.43.59L10.3 9.45l-7.72 7.72c-.78.78-.78 2.05 0 2.83L4 21.41c.39.39.9.59 1.41.59.51 0 1.02-.2 1.41-.59l7.78-7.78 2.81-2.81c.8-.78.8-2.07 0-2.86zM5.41 20L4 18.59l7.72-7.72 1.47 1.35L5.41 20z\"/>\n",
              "  </svg>\n",
              "      </button>\n",
              "      \n",
              "  <style>\n",
              "    .colab-df-container {\n",
              "      display:flex;\n",
              "      flex-wrap:wrap;\n",
              "      gap: 12px;\n",
              "    }\n",
              "\n",
              "    .colab-df-convert {\n",
              "      background-color: #E8F0FE;\n",
              "      border: none;\n",
              "      border-radius: 50%;\n",
              "      cursor: pointer;\n",
              "      display: none;\n",
              "      fill: #1967D2;\n",
              "      height: 32px;\n",
              "      padding: 0 0 0 0;\n",
              "      width: 32px;\n",
              "    }\n",
              "\n",
              "    .colab-df-convert:hover {\n",
              "      background-color: #E2EBFA;\n",
              "      box-shadow: 0px 1px 2px rgba(60, 64, 67, 0.3), 0px 1px 3px 1px rgba(60, 64, 67, 0.15);\n",
              "      fill: #174EA6;\n",
              "    }\n",
              "\n",
              "    [theme=dark] .colab-df-convert {\n",
              "      background-color: #3B4455;\n",
              "      fill: #D2E3FC;\n",
              "    }\n",
              "\n",
              "    [theme=dark] .colab-df-convert:hover {\n",
              "      background-color: #434B5C;\n",
              "      box-shadow: 0px 1px 3px 1px rgba(0, 0, 0, 0.15);\n",
              "      filter: drop-shadow(0px 1px 2px rgba(0, 0, 0, 0.3));\n",
              "      fill: #FFFFFF;\n",
              "    }\n",
              "  </style>\n",
              "\n",
              "      <script>\n",
              "        const buttonEl =\n",
              "          document.querySelector('#df-482c659d-5a24-4084-be32-e154475fb954 button.colab-df-convert');\n",
              "        buttonEl.style.display =\n",
              "          google.colab.kernel.accessAllowed ? 'block' : 'none';\n",
              "\n",
              "        async function convertToInteractive(key) {\n",
              "          const element = document.querySelector('#df-482c659d-5a24-4084-be32-e154475fb954');\n",
              "          const dataTable =\n",
              "            await google.colab.kernel.invokeFunction('convertToInteractive',\n",
              "                                                     [key], {});\n",
              "          if (!dataTable) return;\n",
              "\n",
              "          const docLinkHtml = 'Like what you see? Visit the ' +\n",
              "            '<a target=\"_blank\" href=https://colab.research.google.com/notebooks/data_table.ipynb>data table notebook</a>'\n",
              "            + ' to learn more about interactive tables.';\n",
              "          element.innerHTML = '';\n",
              "          dataTable['output_type'] = 'display_data';\n",
              "          await google.colab.output.renderOutput(dataTable, element);\n",
              "          const docLink = document.createElement('div');\n",
              "          docLink.innerHTML = docLinkHtml;\n",
              "          element.appendChild(docLink);\n",
              "        }\n",
              "      </script>\n",
              "    </div>\n",
              "  </div>\n",
              "  "
            ]
          },
          "metadata": {},
          "execution_count": 11
        },
        {
          "output_type": "stream",
          "name": "stdout",
          "text": [
            "time: 56.9 ms (started: 2023-07-08 00:32:06 +00:00)\n"
          ]
        }
      ]
    },
    {
      "cell_type": "markdown",
      "source": [
        "Verificando a quantidade de valores únicos cada atributo categórico tem."
      ],
      "metadata": {
        "id": "kkP56ZQ33fG3"
      }
    },
    {
      "cell_type": "code",
      "source": [
        "for name in categorical:\n",
        "  print(f'{name}: {dataset[name].nunique()}')"
      ],
      "metadata": {
        "colab": {
          "base_uri": "https://localhost:8080/"
        },
        "id": "qw2nCSjA50Yn",
        "outputId": "7ac33d59-8b66-4f78-9948-cde1fb76f10f"
      },
      "execution_count": 12,
      "outputs": [
        {
          "output_type": "stream",
          "name": "stdout",
          "text": [
            "store_city: 7\n",
            "store_state: 7\n",
            "product_name: 24\n",
            "product_size: 4\n",
            "client_city: 123\n",
            "client_state: 18\n",
            "client_sex: 2\n",
            "time: 31.3 ms (started: 2023-07-08 00:32:06 +00:00)\n"
          ]
        }
      ]
    },
    {
      "cell_type": "markdown",
      "source": [
        "Agora, vou ver quais são."
      ],
      "metadata": {
        "id": "JrRl_D1K55CY"
      }
    },
    {
      "cell_type": "code",
      "source": [
        "for name in categorical:\n",
        "  print(f'{name}:\\n {dataset[name].value_counts()}\\n')"
      ],
      "metadata": {
        "colab": {
          "base_uri": "https://localhost:8080/"
        },
        "id": "iPTCtJq92o6V",
        "outputId": "34089769-c969-4985-c884-bf25e9285900"
      },
      "execution_count": 13,
      "outputs": [
        {
          "output_type": "stream",
          "name": "stdout",
          "text": [
            "store_city:\n",
            " Florianópolis     8230\n",
            "Rio de Janeiro    6838\n",
            "Porto Alegre      6167\n",
            "Curitiba          5172\n",
            "São Paulo         3588\n",
            "Belo Horizonte    1845\n",
            "Online             913\n",
            "Name: store_city, dtype: int64\n",
            "\n",
            "store_state:\n",
            " SC    8230\n",
            "RJ    6838\n",
            "RS    6167\n",
            "PR    5172\n",
            "SP    3588\n",
            "MG    1845\n",
            "na     913\n",
            "Name: store_state, dtype: int64\n",
            "\n",
            "product_name:\n",
            " Iron Man               1420\n",
            "League Legends         1403\n",
            "Capitã Marvel          1399\n",
            "Thanos                 1388\n",
            "Ciclope                1386\n",
            "Homer Simpsons         1382\n",
            "Super Mario            1381\n",
            "Bazinga                1380\n",
            "Deadpool               1378\n",
            "Batman                 1373\n",
            "Wolverine              1372\n",
            "Coringa                1369\n",
            "Dragon Ball Z          1366\n",
            "Flash                  1363\n",
            "Pokemon Go Squirtle    1362\n",
            "Mulher-Maravilha       1359\n",
            "Rick Morty             1358\n",
            "Darth Vader            1357\n",
            "BIXDream               1347\n",
            "Thor                   1333\n",
            "Capitão América        1331\n",
            "Pantera Negra          1323\n",
            "Tempestade             1318\n",
            "Naruto                 1305\n",
            "Name: product_name, dtype: int64\n",
            "\n",
            "product_size:\n",
            " G     21599\n",
            "P      5500\n",
            "M      5252\n",
            "GG      402\n",
            "Name: product_size, dtype: int64\n",
            "\n",
            "client_city:\n",
            " Florianópolis     8207\n",
            "Rio de Janeiro    6759\n",
            "Porto Alegre      6127\n",
            "Curitiba          5142\n",
            "São Paulo         3319\n",
            "                  ... \n",
            "Gandu                1\n",
            "Itapetininga         1\n",
            "Birigui              1\n",
            "Ibirama              1\n",
            "Paraibano            1\n",
            "Name: client_city, Length: 123, dtype: int64\n",
            "\n",
            "client_state:\n",
            " SC    8230\n",
            "RJ    6838\n",
            "RS    6167\n",
            "PR    5172\n",
            "SP    3588\n",
            "MG    1845\n",
            "BH     832\n",
            "ES      19\n",
            "MT      18\n",
            "AC       8\n",
            "BA       6\n",
            "RO       6\n",
            "GO       6\n",
            "MA       6\n",
            "MS       4\n",
            "RN       4\n",
            "RR       3\n",
            "PA       1\n",
            "Name: client_state, dtype: int64\n",
            "\n",
            "client_sex:\n",
            " Homem     28705\n",
            "Mulher     4048\n",
            "Name: client_sex, dtype: int64\n",
            "\n",
            "time: 73.7 ms (started: 2023-07-08 00:32:06 +00:00)\n"
          ]
        }
      ]
    },
    {
      "cell_type": "markdown",
      "source": [
        "Verificando se há valores nulos no conjunto de dados."
      ],
      "metadata": {
        "id": "WIYpNbcC3lD4"
      }
    },
    {
      "cell_type": "code",
      "source": [
        "for name in dataset.columns:\n",
        "  print(f'{name}: {dataset[name].isnull().sum()}')"
      ],
      "metadata": {
        "colab": {
          "base_uri": "https://localhost:8080/"
        },
        "id": "k5q1QbTs3pjY",
        "outputId": "3f64e37e-6a8e-495a-e77a-3d3606f71d37"
      },
      "execution_count": 14,
      "outputs": [
        {
          "output_type": "stream",
          "name": "stdout",
          "text": [
            "date: 0\n",
            "store_city: 0\n",
            "store_state: 0\n",
            "product_name: 0\n",
            "product_size: 0\n",
            "client_city: 0\n",
            "client_state: 0\n",
            "client_birth: 0\n",
            "client_sex: 0\n",
            "discount: 0\n",
            "unit_price: 0\n",
            "quantity: 0\n",
            "id: 0\n",
            "store_id: 0\n",
            "product_id: 0\n",
            "client_id: 0\n",
            "time: 80.4 ms (started: 2023-07-08 00:32:06 +00:00)\n"
          ]
        }
      ]
    },
    {
      "cell_type": "markdown",
      "source": [
        "Esse resultado não está inteiramente correto. Pude ver antes que 'store_state' possui valores 'na', mas estãos sendo reconhecidos pelo Pandas como string. Vou corrigir isso."
      ],
      "metadata": {
        "id": "xEg3KItD4dx2"
      }
    },
    {
      "cell_type": "code",
      "source": [
        "dataset = dataset.replace('na', np.nan)"
      ],
      "metadata": {
        "colab": {
          "base_uri": "https://localhost:8080/"
        },
        "id": "1NxwEwl44p-d",
        "outputId": "374dd5a4-20f0-4f80-fc8a-6e22023e75ba"
      },
      "execution_count": 15,
      "outputs": [
        {
          "output_type": "stream",
          "name": "stdout",
          "text": [
            "time: 23.9 ms (started: 2023-07-08 00:32:07 +00:00)\n"
          ]
        }
      ]
    },
    {
      "cell_type": "code",
      "source": [
        "for name in dataset.columns:\n",
        "  print(f'{name}: {dataset[name].isnull().sum()}')"
      ],
      "metadata": {
        "colab": {
          "base_uri": "https://localhost:8080/"
        },
        "id": "g4nEPRcO5nj-",
        "outputId": "b851dbbe-f380-41a2-ad2f-ff3f686f1d17"
      },
      "execution_count": 16,
      "outputs": [
        {
          "output_type": "stream",
          "name": "stdout",
          "text": [
            "date: 0\n",
            "store_city: 0\n",
            "store_state: 913\n",
            "product_name: 0\n",
            "product_size: 0\n",
            "client_city: 0\n",
            "client_state: 0\n",
            "client_birth: 0\n",
            "client_sex: 0\n",
            "discount: 0\n",
            "unit_price: 0\n",
            "quantity: 0\n",
            "id: 0\n",
            "store_id: 0\n",
            "product_id: 0\n",
            "client_id: 0\n",
            "time: 52.9 ms (started: 2023-07-08 00:32:07 +00:00)\n"
          ]
        }
      ]
    },
    {
      "cell_type": "markdown",
      "source": [
        "## Data visualization"
      ],
      "metadata": {
        "id": "pLEQ8HVFw58J"
      }
    },
    {
      "cell_type": "code",
      "source": [
        "import matplotlib.pyplot as plt\n",
        "import seaborn as sns\n",
        "\n",
        "colors = sns.color_palette()\n",
        "%matplotlib inline"
      ],
      "metadata": {
        "id": "BfFLdq0Ew-5i",
        "colab": {
          "base_uri": "https://localhost:8080/"
        },
        "outputId": "816fa7a3-5bca-4f53-f3fc-8bc1693cec22"
      },
      "execution_count": 17,
      "outputs": [
        {
          "output_type": "stream",
          "name": "stdout",
          "text": [
            "time: 1.09 s (started: 2023-07-08 00:32:07 +00:00)\n"
          ]
        }
      ]
    },
    {
      "cell_type": "markdown",
      "source": [
        "# Train/Test split"
      ],
      "metadata": {
        "id": "4eCKWEZPxDPD"
      }
    },
    {
      "cell_type": "code",
      "source": [],
      "metadata": {
        "id": "5-MnRBBsxHas",
        "colab": {
          "base_uri": "https://localhost:8080/"
        },
        "outputId": "af003349-6a44-4e97-80b6-bd6b2e976384"
      },
      "execution_count": 17,
      "outputs": [
        {
          "output_type": "stream",
          "name": "stdout",
          "text": [
            "time: 1.1 s (started: 2023-07-08 00:32:07 +00:00)\n"
          ]
        }
      ]
    },
    {
      "cell_type": "markdown",
      "source": [
        "# Feature engineering"
      ],
      "metadata": {
        "id": "A-YJ8KpGxHiG"
      }
    },
    {
      "cell_type": "code",
      "source": [],
      "metadata": {
        "id": "H0lBOIgVxP0t",
        "colab": {
          "base_uri": "https://localhost:8080/"
        },
        "outputId": "963aaffe-9243-4ec5-c1f8-fc11b0884644"
      },
      "execution_count": 17,
      "outputs": [
        {
          "output_type": "stream",
          "name": "stdout",
          "text": [
            "time: 1.1 s (started: 2023-07-08 00:32:07 +00:00)\n"
          ]
        }
      ]
    },
    {
      "cell_type": "markdown",
      "source": [
        "# Model training"
      ],
      "metadata": {
        "id": "5bJdm9jzxP9s"
      }
    },
    {
      "cell_type": "code",
      "source": [],
      "metadata": {
        "id": "ifDFtyXFxRj7",
        "colab": {
          "base_uri": "https://localhost:8080/"
        },
        "outputId": "c164ed0b-79ad-4055-d22e-57f57c81c693"
      },
      "execution_count": 17,
      "outputs": [
        {
          "output_type": "stream",
          "name": "stdout",
          "text": [
            "time: 1.11 s (started: 2023-07-08 00:32:07 +00:00)\n"
          ]
        }
      ]
    }
  ]
}
