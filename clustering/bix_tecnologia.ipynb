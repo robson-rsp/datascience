{
  "nbformat": 4,
  "nbformat_minor": 0,
  "metadata": {
    "colab": {
      "provenance": []
    },
    "kernelspec": {
      "name": "python3",
      "display_name": "Python 3"
    },
    "language_info": {
      "name": "python"
    }
  },
  "cells": [
    {
      "cell_type": "markdown",
      "source": [
        "# Bix Tecnologia\n",
        "\n",
        "\n",
        "Fonte: https://docs.google.com/spreadsheets/d/1Sc6hN48b-lWbDdYNd_t9j8Bt0EZ8BUNG/edit?pli=1#gid=693918541"
      ],
      "metadata": {
        "id": "2el71PE6waF-"
      }
    },
    {
      "cell_type": "markdown",
      "source": [
        "# Initial imports"
      ],
      "metadata": {
        "id": "O9qfxtK_wel3"
      }
    },
    {
      "cell_type": "code",
      "execution_count": null,
      "metadata": {
        "id": "jM3LxvqccxYR"
      },
      "outputs": [],
      "source": [
        "%pip install ipython-autotime  --upgrade"
      ]
    },
    {
      "cell_type": "code",
      "source": [
        "from google.colab import drive, files\n",
        "import pandas as pd\n",
        "drive.mount('/content/drive', force_remount=True)\n",
        "%load_ext autotime"
      ],
      "metadata": {
        "colab": {
          "base_uri": "https://localhost:8080/"
        },
        "id": "oJEe7auYdDxb",
        "outputId": "ac02278f-1128-4797-8f57-feed8798ca1a"
      },
      "execution_count": 29,
      "outputs": [
        {
          "output_type": "stream",
          "name": "stdout",
          "text": [
            "Mounted at /content/drive\n",
            "The autotime extension is already loaded. To reload it, use:\n",
            "  %reload_ext autotime\n",
            "time: 4.57 s (started: 2023-07-08 00:04:12 +00:00)\n"
          ]
        }
      ]
    },
    {
      "cell_type": "code",
      "source": [
        "clients = pd.read_csv(\"/content/drive/MyDrive/datasets/bix-tecnologia/clients.csv\", encoding='utf-8')\n",
        "clients['DateOfBirth'] = pd.to_datetime(clients['DateOfBirth'], format=\"%m/%d/%Y\")\n",
        "\n",
        "products  = pd.read_csv(\"/content/drive/MyDrive/datasets/bix-tecnologia/products.csv\", encoding='utf-8')\n",
        "\n",
        "sales = pd.read_csv(\"/content/drive/MyDrive/datasets/bix-tecnologia/sales.csv\", encoding='utf-8', skiprows=4)\n",
        "sales = sales[['ID', 'StoreID', 'ProductID', 'ClientID','Discount', 'UnitPrice', 'Quantity', 'Date']]\n",
        "sales['Date'] = pd.to_datetime(sales['Date'], format=\"%m/%d/%Y\")\n",
        "\n",
        "stores    = pd.read_csv(\"/content/drive/MyDrive/datasets/bix-tecnologia/stores.csv\", encoding='utf-8')"
      ],
      "metadata": {
        "id": "MgCOYQD8iTo1",
        "colab": {
          "base_uri": "https://localhost:8080/"
        },
        "outputId": "5a1a0f9d-9baa-42d6-a464-8071c063e20a"
      },
      "execution_count": 35,
      "outputs": [
        {
          "output_type": "stream",
          "name": "stdout",
          "text": [
            "time: 95.8 ms (started: 2023-07-08 00:05:36 +00:00)\n"
          ]
        }
      ]
    },
    {
      "cell_type": "markdown",
      "source": [
        "Vou renomear as colunas para ficar mais legível e poder unir os dataframes com a função merge() formando apenas um dataset."
      ],
      "metadata": {
        "id": "0EK37XaLFOuE"
      }
    },
    {
      "cell_type": "code",
      "source": [
        "clients = clients.rename(columns={'ID':'client_id', 'City':'client_city', 'State':'client_state', 'DateOfBirth':'client_birth', 'Sex':'client_sex'})\n",
        "products = products.rename(columns={'ID':'product_id', 'Name':'product_name', 'Size':'product_size'})\n",
        "sales = sales.rename(columns={'ID':'id', 'ProductID':'product_id', 'ClientID':'client_id', 'Discount':'discount', 'UnitPrice':'unit_price', 'Quantity':'quantity', 'StoreID':'store_id', 'Date':'date'})\n",
        "stores = stores.rename(columns={'ID':'store_id', 'Name':'store_city', 'State':'store_state'})"
      ],
      "metadata": {
        "colab": {
          "base_uri": "https://localhost:8080/"
        },
        "id": "dnKvuDUjDjAf",
        "outputId": "5fffb222-e6ab-4025-8041-09694f3aaee1"
      },
      "execution_count": 36,
      "outputs": [
        {
          "output_type": "stream",
          "name": "stdout",
          "text": [
            "time: 4.33 ms (started: 2023-07-08 00:05:39 +00:00)\n"
          ]
        }
      ]
    },
    {
      "cell_type": "markdown",
      "source": [
        "Agora, vou criar um único dataframe com todos os arquivos. Além disso, vou reordenar as colunas para legibilidade."
      ],
      "metadata": {
        "id": "R2riKNuEHRlj"
      }
    },
    {
      "cell_type": "code",
      "source": [
        "dataset = sales.merge(stores, on='store_id')\n",
        "dataset = dataset.merge(products, on='product_id')\n",
        "dataset = dataset.merge(clients, on='client_id')\n",
        "\n",
        "#dataset = dataset.drop(['id', 'store_id', 'product_id', 'client_id'], axis=1)\n",
        "dataset = dataset[['date', 'store_city', 'store_state', 'product_name', 'product_size', 'client_city', 'client_state', 'client_birth', 'client_sex', 'discount', 'unit_price', 'quantity', 'id', 'store_id', 'product_id', 'client_id']]"
      ],
      "metadata": {
        "colab": {
          "base_uri": "https://localhost:8080/"
        },
        "id": "QCyzU9UUFz9g",
        "outputId": "15e44dc0-f173-4e72-e1db-9f2d2d4250ed"
      },
      "execution_count": 37,
      "outputs": [
        {
          "output_type": "stream",
          "name": "stdout",
          "text": [
            "time: 38.4 ms (started: 2023-07-08 00:05:40 +00:00)\n"
          ]
        }
      ]
    },
    {
      "cell_type": "markdown",
      "source": [
        "# EDA"
      ],
      "metadata": {
        "id": "c0VK7yVywyEQ"
      }
    },
    {
      "cell_type": "code",
      "source": [
        "import numpy as np"
      ],
      "metadata": {
        "colab": {
          "base_uri": "https://localhost:8080/"
        },
        "id": "lY6Hbdb6xZ4_",
        "outputId": "8adc8d24-74ea-43af-a0a9-942067ab8e16"
      },
      "execution_count": 23,
      "outputs": [
        {
          "output_type": "stream",
          "name": "stdout",
          "text": [
            "time: 300 µs (started: 2023-07-07 23:59:14 +00:00)\n"
          ]
        }
      ]
    },
    {
      "cell_type": "code",
      "source": [
        "dataset.head()"
      ],
      "metadata": {
        "colab": {
          "base_uri": "https://localhost:8080/",
          "height": 374
        },
        "id": "0XOa2lBhH431",
        "outputId": "9d6e1cff-a8a8-4646-eddf-8ab636f8ce12"
      },
      "execution_count": 38,
      "outputs": [
        {
          "output_type": "execute_result",
          "data": {
            "text/plain": [
              "        date store_city store_state     product_name product_size client_city  \\\n",
              "0 2018-12-10   Curitiba          PR       Tempestade            G    Curitiba   \n",
              "1 2019-04-25   Curitiba          PR           Thanos            G    Curitiba   \n",
              "2 2019-07-17   Curitiba          PR  Capitão América            P    Curitiba   \n",
              "3 2018-12-03   Curitiba          PR       Tempestade            G    Curitiba   \n",
              "4 2018-04-29   Curitiba          PR          Bazinga            G    Curitiba   \n",
              "\n",
              "  client_state client_birth client_sex discount unit_price  quantity  \\\n",
              "0           PR   1985-06-28      Homem     0,08      249,2         1   \n",
              "1           PR   1985-06-28      Homem      0,1      162,4         1   \n",
              "2           PR   1985-06-28      Homem      0,1      194,6         1   \n",
              "3           PR   1987-10-21      Homem     0,08      249,2         1   \n",
              "4           PR   1987-10-21      Homem      0,1      218,4         2   \n",
              "\n",
              "                                 id  store_id  \\\n",
              "0  80260d682079b6090c8285b398c50d97         4   \n",
              "1  3275736da1234f55d52bdf09d86b93bc         4   \n",
              "2  f3513eec8f1434b5b7e04ddf3598df40         4   \n",
              "3  c330b70c5e60bf56e90ebe09e045f79e         4   \n",
              "4  eced501ea6ea98469acff0ccbf3ca09b         4   \n",
              "\n",
              "                          product_id  client_id  \n",
              "0  002552c0663708129c0019cc97552d7d3      14001  \n",
              "1  001b237c0e9bb435f2e54071129237e93      14001  \n",
              "2  00066f42aeeb9f3007548bb9d3f33c381      14001  \n",
              "3  002552c0663708129c0019cc97552d7d3      14116  \n",
              "4  002ec297b1b00fb9dde7ee6ac24b67713      14116  "
            ],
            "text/html": [
              "\n",
              "  <div id=\"df-01946f41-ff88-4381-9469-ad6218318b0d\">\n",
              "    <div class=\"colab-df-container\">\n",
              "      <div>\n",
              "<style scoped>\n",
              "    .dataframe tbody tr th:only-of-type {\n",
              "        vertical-align: middle;\n",
              "    }\n",
              "\n",
              "    .dataframe tbody tr th {\n",
              "        vertical-align: top;\n",
              "    }\n",
              "\n",
              "    .dataframe thead th {\n",
              "        text-align: right;\n",
              "    }\n",
              "</style>\n",
              "<table border=\"1\" class=\"dataframe\">\n",
              "  <thead>\n",
              "    <tr style=\"text-align: right;\">\n",
              "      <th></th>\n",
              "      <th>date</th>\n",
              "      <th>store_city</th>\n",
              "      <th>store_state</th>\n",
              "      <th>product_name</th>\n",
              "      <th>product_size</th>\n",
              "      <th>client_city</th>\n",
              "      <th>client_state</th>\n",
              "      <th>client_birth</th>\n",
              "      <th>client_sex</th>\n",
              "      <th>discount</th>\n",
              "      <th>unit_price</th>\n",
              "      <th>quantity</th>\n",
              "      <th>id</th>\n",
              "      <th>store_id</th>\n",
              "      <th>product_id</th>\n",
              "      <th>client_id</th>\n",
              "    </tr>\n",
              "  </thead>\n",
              "  <tbody>\n",
              "    <tr>\n",
              "      <th>0</th>\n",
              "      <td>2018-12-10</td>\n",
              "      <td>Curitiba</td>\n",
              "      <td>PR</td>\n",
              "      <td>Tempestade</td>\n",
              "      <td>G</td>\n",
              "      <td>Curitiba</td>\n",
              "      <td>PR</td>\n",
              "      <td>1985-06-28</td>\n",
              "      <td>Homem</td>\n",
              "      <td>0,08</td>\n",
              "      <td>249,2</td>\n",
              "      <td>1</td>\n",
              "      <td>80260d682079b6090c8285b398c50d97</td>\n",
              "      <td>4</td>\n",
              "      <td>002552c0663708129c0019cc97552d7d3</td>\n",
              "      <td>14001</td>\n",
              "    </tr>\n",
              "    <tr>\n",
              "      <th>1</th>\n",
              "      <td>2019-04-25</td>\n",
              "      <td>Curitiba</td>\n",
              "      <td>PR</td>\n",
              "      <td>Thanos</td>\n",
              "      <td>G</td>\n",
              "      <td>Curitiba</td>\n",
              "      <td>PR</td>\n",
              "      <td>1985-06-28</td>\n",
              "      <td>Homem</td>\n",
              "      <td>0,1</td>\n",
              "      <td>162,4</td>\n",
              "      <td>1</td>\n",
              "      <td>3275736da1234f55d52bdf09d86b93bc</td>\n",
              "      <td>4</td>\n",
              "      <td>001b237c0e9bb435f2e54071129237e93</td>\n",
              "      <td>14001</td>\n",
              "    </tr>\n",
              "    <tr>\n",
              "      <th>2</th>\n",
              "      <td>2019-07-17</td>\n",
              "      <td>Curitiba</td>\n",
              "      <td>PR</td>\n",
              "      <td>Capitão América</td>\n",
              "      <td>P</td>\n",
              "      <td>Curitiba</td>\n",
              "      <td>PR</td>\n",
              "      <td>1985-06-28</td>\n",
              "      <td>Homem</td>\n",
              "      <td>0,1</td>\n",
              "      <td>194,6</td>\n",
              "      <td>1</td>\n",
              "      <td>f3513eec8f1434b5b7e04ddf3598df40</td>\n",
              "      <td>4</td>\n",
              "      <td>00066f42aeeb9f3007548bb9d3f33c381</td>\n",
              "      <td>14001</td>\n",
              "    </tr>\n",
              "    <tr>\n",
              "      <th>3</th>\n",
              "      <td>2018-12-03</td>\n",
              "      <td>Curitiba</td>\n",
              "      <td>PR</td>\n",
              "      <td>Tempestade</td>\n",
              "      <td>G</td>\n",
              "      <td>Curitiba</td>\n",
              "      <td>PR</td>\n",
              "      <td>1987-10-21</td>\n",
              "      <td>Homem</td>\n",
              "      <td>0,08</td>\n",
              "      <td>249,2</td>\n",
              "      <td>1</td>\n",
              "      <td>c330b70c5e60bf56e90ebe09e045f79e</td>\n",
              "      <td>4</td>\n",
              "      <td>002552c0663708129c0019cc97552d7d3</td>\n",
              "      <td>14116</td>\n",
              "    </tr>\n",
              "    <tr>\n",
              "      <th>4</th>\n",
              "      <td>2018-04-29</td>\n",
              "      <td>Curitiba</td>\n",
              "      <td>PR</td>\n",
              "      <td>Bazinga</td>\n",
              "      <td>G</td>\n",
              "      <td>Curitiba</td>\n",
              "      <td>PR</td>\n",
              "      <td>1987-10-21</td>\n",
              "      <td>Homem</td>\n",
              "      <td>0,1</td>\n",
              "      <td>218,4</td>\n",
              "      <td>2</td>\n",
              "      <td>eced501ea6ea98469acff0ccbf3ca09b</td>\n",
              "      <td>4</td>\n",
              "      <td>002ec297b1b00fb9dde7ee6ac24b67713</td>\n",
              "      <td>14116</td>\n",
              "    </tr>\n",
              "  </tbody>\n",
              "</table>\n",
              "</div>\n",
              "      <button class=\"colab-df-convert\" onclick=\"convertToInteractive('df-01946f41-ff88-4381-9469-ad6218318b0d')\"\n",
              "              title=\"Convert this dataframe to an interactive table.\"\n",
              "              style=\"display:none;\">\n",
              "        \n",
              "  <svg xmlns=\"http://www.w3.org/2000/svg\" height=\"24px\"viewBox=\"0 0 24 24\"\n",
              "       width=\"24px\">\n",
              "    <path d=\"M0 0h24v24H0V0z\" fill=\"none\"/>\n",
              "    <path d=\"M18.56 5.44l.94 2.06.94-2.06 2.06-.94-2.06-.94-.94-2.06-.94 2.06-2.06.94zm-11 1L8.5 8.5l.94-2.06 2.06-.94-2.06-.94L8.5 2.5l-.94 2.06-2.06.94zm10 10l.94 2.06.94-2.06 2.06-.94-2.06-.94-.94-2.06-.94 2.06-2.06.94z\"/><path d=\"M17.41 7.96l-1.37-1.37c-.4-.4-.92-.59-1.43-.59-.52 0-1.04.2-1.43.59L10.3 9.45l-7.72 7.72c-.78.78-.78 2.05 0 2.83L4 21.41c.39.39.9.59 1.41.59.51 0 1.02-.2 1.41-.59l7.78-7.78 2.81-2.81c.8-.78.8-2.07 0-2.86zM5.41 20L4 18.59l7.72-7.72 1.47 1.35L5.41 20z\"/>\n",
              "  </svg>\n",
              "      </button>\n",
              "      \n",
              "  <style>\n",
              "    .colab-df-container {\n",
              "      display:flex;\n",
              "      flex-wrap:wrap;\n",
              "      gap: 12px;\n",
              "    }\n",
              "\n",
              "    .colab-df-convert {\n",
              "      background-color: #E8F0FE;\n",
              "      border: none;\n",
              "      border-radius: 50%;\n",
              "      cursor: pointer;\n",
              "      display: none;\n",
              "      fill: #1967D2;\n",
              "      height: 32px;\n",
              "      padding: 0 0 0 0;\n",
              "      width: 32px;\n",
              "    }\n",
              "\n",
              "    .colab-df-convert:hover {\n",
              "      background-color: #E2EBFA;\n",
              "      box-shadow: 0px 1px 2px rgba(60, 64, 67, 0.3), 0px 1px 3px 1px rgba(60, 64, 67, 0.15);\n",
              "      fill: #174EA6;\n",
              "    }\n",
              "\n",
              "    [theme=dark] .colab-df-convert {\n",
              "      background-color: #3B4455;\n",
              "      fill: #D2E3FC;\n",
              "    }\n",
              "\n",
              "    [theme=dark] .colab-df-convert:hover {\n",
              "      background-color: #434B5C;\n",
              "      box-shadow: 0px 1px 3px 1px rgba(0, 0, 0, 0.15);\n",
              "      filter: drop-shadow(0px 1px 2px rgba(0, 0, 0, 0.3));\n",
              "      fill: #FFFFFF;\n",
              "    }\n",
              "  </style>\n",
              "\n",
              "      <script>\n",
              "        const buttonEl =\n",
              "          document.querySelector('#df-01946f41-ff88-4381-9469-ad6218318b0d button.colab-df-convert');\n",
              "        buttonEl.style.display =\n",
              "          google.colab.kernel.accessAllowed ? 'block' : 'none';\n",
              "\n",
              "        async function convertToInteractive(key) {\n",
              "          const element = document.querySelector('#df-01946f41-ff88-4381-9469-ad6218318b0d');\n",
              "          const dataTable =\n",
              "            await google.colab.kernel.invokeFunction('convertToInteractive',\n",
              "                                                     [key], {});\n",
              "          if (!dataTable) return;\n",
              "\n",
              "          const docLinkHtml = 'Like what you see? Visit the ' +\n",
              "            '<a target=\"_blank\" href=https://colab.research.google.com/notebooks/data_table.ipynb>data table notebook</a>'\n",
              "            + ' to learn more about interactive tables.';\n",
              "          element.innerHTML = '';\n",
              "          dataTable['output_type'] = 'display_data';\n",
              "          await google.colab.output.renderOutput(dataTable, element);\n",
              "          const docLink = document.createElement('div');\n",
              "          docLink.innerHTML = docLinkHtml;\n",
              "          element.appendChild(docLink);\n",
              "        }\n",
              "      </script>\n",
              "    </div>\n",
              "  </div>\n",
              "  "
            ]
          },
          "metadata": {},
          "execution_count": 38
        },
        {
          "output_type": "stream",
          "name": "stdout",
          "text": [
            "time: 14.2 ms (started: 2023-07-08 00:05:45 +00:00)\n"
          ]
        }
      ]
    },
    {
      "cell_type": "code",
      "source": [
        "dataset.info()"
      ],
      "metadata": {
        "colab": {
          "base_uri": "https://localhost:8080/"
        },
        "id": "K3mnEZ2svKQl",
        "outputId": "c8231e60-3718-4c2e-eb58-01a7f5c3d052"
      },
      "execution_count": 39,
      "outputs": [
        {
          "output_type": "stream",
          "name": "stdout",
          "text": [
            "<class 'pandas.core.frame.DataFrame'>\n",
            "Int64Index: 32753 entries, 0 to 32752\n",
            "Data columns (total 16 columns):\n",
            " #   Column        Non-Null Count  Dtype         \n",
            "---  ------        --------------  -----         \n",
            " 0   date          32753 non-null  datetime64[ns]\n",
            " 1   store_city    32753 non-null  object        \n",
            " 2   store_state   32753 non-null  object        \n",
            " 3   product_name  32753 non-null  object        \n",
            " 4   product_size  32753 non-null  object        \n",
            " 5   client_city   32753 non-null  object        \n",
            " 6   client_state  32753 non-null  object        \n",
            " 7   client_birth  32753 non-null  datetime64[ns]\n",
            " 8   client_sex    32753 non-null  object        \n",
            " 9   discount      32753 non-null  object        \n",
            " 10  unit_price    32753 non-null  object        \n",
            " 11  quantity      32753 non-null  int64         \n",
            " 12  id            32753 non-null  object        \n",
            " 13  store_id      32753 non-null  int64         \n",
            " 14  product_id    32753 non-null  object        \n",
            " 15  client_id     32753 non-null  int64         \n",
            "dtypes: datetime64[ns](2), int64(3), object(11)\n",
            "memory usage: 4.2+ MB\n",
            "time: 48.7 ms (started: 2023-07-08 00:06:11 +00:00)\n"
          ]
        }
      ]
    },
    {
      "cell_type": "markdown",
      "source": [
        "Os atributos 'discount' e 'unit_price' são números, mas estão definidos como 'object'. Isso acontece porque os números contém vírgula e não ponto. Vou mudar seus tipos para que eu possa criar os gráficos de maneira adequada."
      ],
      "metadata": {
        "id": "42ftY24gvrE2"
      }
    },
    {
      "cell_type": "code",
      "source": [
        "dataset['discount']   = np.vectorize(lambda x: x.replace(',', '.'))(dataset['discount'])\n",
        "dataset['unit_price'] = np.vectorize(lambda x: x.replace(',', '.'))(dataset['unit_price'])\n",
        "dataset = dataset.astype({'discount': 'float64'})\n",
        "dataset = dataset.astype({'unit_price': 'float64'})"
      ],
      "metadata": {
        "colab": {
          "base_uri": "https://localhost:8080/"
        },
        "id": "vMd3EQi0wMAR",
        "outputId": "5080698c-8535-4ff7-9174-1516bd997b11"
      },
      "execution_count": 40,
      "outputs": [
        {
          "output_type": "stream",
          "name": "stdout",
          "text": [
            "time: 37.4 ms (started: 2023-07-08 00:06:16 +00:00)\n"
          ]
        }
      ]
    },
    {
      "cell_type": "markdown",
      "source": [
        "Crio duas listas contendo os atributos categóricos e numéricos. Inicialmente, ignorei datas e ids."
      ],
      "metadata": {
        "id": "DVQSQ-du1aI5"
      }
    },
    {
      "cell_type": "code",
      "source": [
        "categorical = ['store_city', 'store_state', 'product_name', 'product_size', 'client_city', 'client_state', 'client_sex']\n",
        "numerical   = ['discount', 'unit_price', 'quantity']"
      ],
      "metadata": {
        "colab": {
          "base_uri": "https://localhost:8080/"
        },
        "id": "MBd4pzxy0iEd",
        "outputId": "4b8661cc-6e32-41ae-df80-d826211cffb2"
      },
      "execution_count": 45,
      "outputs": [
        {
          "output_type": "stream",
          "name": "stdout",
          "text": [
            "time: 442 µs (started: 2023-07-08 00:11:28 +00:00)\n"
          ]
        }
      ]
    },
    {
      "cell_type": "markdown",
      "source": [
        "## Data visualization"
      ],
      "metadata": {
        "id": "pLEQ8HVFw58J"
      }
    },
    {
      "cell_type": "code",
      "source": [
        "import matplotlib.pyplot as plt\n",
        "import seaborn as sns\n",
        "\n",
        "colors = sns.color_palette()\n",
        "%matplotlib inline"
      ],
      "metadata": {
        "id": "BfFLdq0Ew-5i",
        "colab": {
          "base_uri": "https://localhost:8080/"
        },
        "outputId": "ca70dfe6-f0d1-4cc6-dfaa-34f28774a3a8"
      },
      "execution_count": 46,
      "outputs": [
        {
          "output_type": "stream",
          "name": "stdout",
          "text": [
            "time: 1.15 ms (started: 2023-07-08 00:12:16 +00:00)\n"
          ]
        }
      ]
    },
    {
      "cell_type": "markdown",
      "source": [
        "# Train/Test split"
      ],
      "metadata": {
        "id": "4eCKWEZPxDPD"
      }
    },
    {
      "cell_type": "code",
      "source": [],
      "metadata": {
        "id": "5-MnRBBsxHas"
      },
      "execution_count": null,
      "outputs": []
    },
    {
      "cell_type": "markdown",
      "source": [
        "# Feature engineering"
      ],
      "metadata": {
        "id": "A-YJ8KpGxHiG"
      }
    },
    {
      "cell_type": "code",
      "source": [],
      "metadata": {
        "id": "H0lBOIgVxP0t"
      },
      "execution_count": null,
      "outputs": []
    },
    {
      "cell_type": "markdown",
      "source": [
        "# Model training"
      ],
      "metadata": {
        "id": "5bJdm9jzxP9s"
      }
    },
    {
      "cell_type": "code",
      "source": [],
      "metadata": {
        "id": "ifDFtyXFxRj7"
      },
      "execution_count": null,
      "outputs": []
    }
  ]
}
