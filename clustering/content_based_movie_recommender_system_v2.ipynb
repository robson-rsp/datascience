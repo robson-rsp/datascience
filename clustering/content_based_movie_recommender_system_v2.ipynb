{
  "nbformat": 4,
  "nbformat_minor": 0,
  "metadata": {
    "colab": {
      "provenance": [],
      "authorship_tag": "ABX9TyO/7Rm8Ooq+U5xYCUWaHIgm"
    },
    "kernelspec": {
      "name": "python3",
      "display_name": "Python 3"
    },
    "language_info": {
      "name": "python"
    }
  },
  "cells": [
    {
      "cell_type": "markdown",
      "source": [
        "# Movie recommender system\n",
        "The project here is to make a movie recommender system. Here I try a content based approach which is different than the collaborative. Considering a random user of the dataset e taking into account its movie ratings the system creates a user profile and recommend movies that best fits this profile.\n",
        "\n",
        "Source:\n",
        "[GroupLens Research](https://grouplens.org/datasets/movielens/)"
      ],
      "metadata": {
        "id": "acf8zPQ9ojer"
      }
    },
    {
      "cell_type": "code",
      "source": [
        "%pip install ipython-autotime  --upgrade\n",
        "%pip install matplotlib        --upgrade\n",
        "%pip install pandas            --upgrade\n",
        "%pip install scikit-learn      --upgrade\n",
        "%pip install seaborn           --upgrade"
      ],
      "metadata": {
        "id": "z5KMjCsvV2CM",
        "colab": {
          "base_uri": "https://localhost:8080/"
        },
        "outputId": "e82773a8-eae4-4e78-b180-1187f7252586"
      },
      "execution_count": null,
      "outputs": [
        {
          "output_type": "stream",
          "name": "stdout",
          "text": [
            "Looking in indexes: https://pypi.org/simple, https://us-python.pkg.dev/colab-wheels/public/simple/\n",
            "Requirement already satisfied: ipython-autotime in /usr/local/lib/python3.9/dist-packages (0.3.1)\n",
            "Requirement already satisfied: ipython in /usr/local/lib/python3.9/dist-packages (from ipython-autotime) (7.34.0)\n",
            "Requirement already satisfied: setuptools>=18.5 in /usr/local/lib/python3.9/dist-packages (from ipython->ipython-autotime) (67.6.1)\n",
            "Requirement already satisfied: pygments in /usr/local/lib/python3.9/dist-packages (from ipython->ipython-autotime) (2.14.0)\n",
            "Requirement already satisfied: matplotlib-inline in /usr/local/lib/python3.9/dist-packages (from ipython->ipython-autotime) (0.1.6)\n",
            "Requirement already satisfied: jedi>=0.16 in /usr/local/lib/python3.9/dist-packages (from ipython->ipython-autotime) (0.18.2)\n",
            "Requirement already satisfied: prompt-toolkit!=3.0.0,!=3.0.1,<3.1.0,>=2.0.0 in /usr/local/lib/python3.9/dist-packages (from ipython->ipython-autotime) (3.0.38)\n",
            "Requirement already satisfied: pexpect>4.3 in /usr/local/lib/python3.9/dist-packages (from ipython->ipython-autotime) (4.8.0)\n",
            "Requirement already satisfied: decorator in /usr/local/lib/python3.9/dist-packages (from ipython->ipython-autotime) (4.4.2)\n",
            "Requirement already satisfied: traitlets>=4.2 in /usr/local/lib/python3.9/dist-packages (from ipython->ipython-autotime) (5.7.1)\n",
            "Requirement already satisfied: backcall in /usr/local/lib/python3.9/dist-packages (from ipython->ipython-autotime) (0.2.0)\n",
            "Requirement already satisfied: pickleshare in /usr/local/lib/python3.9/dist-packages (from ipython->ipython-autotime) (0.7.5)\n",
            "Requirement already satisfied: parso<0.9.0,>=0.8.0 in /usr/local/lib/python3.9/dist-packages (from jedi>=0.16->ipython->ipython-autotime) (0.8.3)\n",
            "Requirement already satisfied: ptyprocess>=0.5 in /usr/local/lib/python3.9/dist-packages (from pexpect>4.3->ipython->ipython-autotime) (0.7.0)\n",
            "Requirement already satisfied: wcwidth in /usr/local/lib/python3.9/dist-packages (from prompt-toolkit!=3.0.0,!=3.0.1,<3.1.0,>=2.0.0->ipython->ipython-autotime) (0.2.6)\n",
            "Looking in indexes: https://pypi.org/simple, https://us-python.pkg.dev/colab-wheels/public/simple/\n",
            "Requirement already satisfied: matplotlib in /usr/local/lib/python3.9/dist-packages (3.7.1)\n",
            "Requirement already satisfied: numpy>=1.20 in /usr/local/lib/python3.9/dist-packages (from matplotlib) (1.22.4)\n",
            "Requirement already satisfied: fonttools>=4.22.0 in /usr/local/lib/python3.9/dist-packages (from matplotlib) (4.39.3)\n",
            "Requirement already satisfied: contourpy>=1.0.1 in /usr/local/lib/python3.9/dist-packages (from matplotlib) (1.0.7)\n",
            "Requirement already satisfied: pillow>=6.2.0 in /usr/local/lib/python3.9/dist-packages (from matplotlib) (8.4.0)\n",
            "Requirement already satisfied: packaging>=20.0 in /usr/local/lib/python3.9/dist-packages (from matplotlib) (23.0)\n",
            "Requirement already satisfied: pyparsing>=2.3.1 in /usr/local/lib/python3.9/dist-packages (from matplotlib) (3.0.9)\n",
            "Requirement already satisfied: importlib-resources>=3.2.0 in /usr/local/lib/python3.9/dist-packages (from matplotlib) (5.12.0)\n",
            "Requirement already satisfied: kiwisolver>=1.0.1 in /usr/local/lib/python3.9/dist-packages (from matplotlib) (1.4.4)\n",
            "Requirement already satisfied: python-dateutil>=2.7 in /usr/local/lib/python3.9/dist-packages (from matplotlib) (2.8.2)\n",
            "Requirement already satisfied: cycler>=0.10 in /usr/local/lib/python3.9/dist-packages (from matplotlib) (0.11.0)\n",
            "Requirement already satisfied: zipp>=3.1.0 in /usr/local/lib/python3.9/dist-packages (from importlib-resources>=3.2.0->matplotlib) (3.15.0)\n",
            "Requirement already satisfied: six>=1.5 in /usr/local/lib/python3.9/dist-packages (from python-dateutil>=2.7->matplotlib) (1.16.0)\n",
            "Looking in indexes: https://pypi.org/simple, https://us-python.pkg.dev/colab-wheels/public/simple/\n",
            "Requirement already satisfied: pandas in /usr/local/lib/python3.9/dist-packages (2.0.0)\n",
            "Requirement already satisfied: numpy>=1.20.3 in /usr/local/lib/python3.9/dist-packages (from pandas) (1.22.4)\n",
            "Requirement already satisfied: python-dateutil>=2.8.2 in /usr/local/lib/python3.9/dist-packages (from pandas) (2.8.2)\n",
            "Requirement already satisfied: tzdata>=2022.1 in /usr/local/lib/python3.9/dist-packages (from pandas) (2023.3)\n",
            "Requirement already satisfied: pytz>=2020.1 in /usr/local/lib/python3.9/dist-packages (from pandas) (2022.7.1)\n",
            "Requirement already satisfied: six>=1.5 in /usr/local/lib/python3.9/dist-packages (from python-dateutil>=2.8.2->pandas) (1.16.0)\n",
            "Looking in indexes: https://pypi.org/simple, https://us-python.pkg.dev/colab-wheels/public/simple/\n",
            "Requirement already satisfied: scikit-learn in /usr/local/lib/python3.9/dist-packages (1.2.2)\n",
            "Requirement already satisfied: numpy>=1.17.3 in /usr/local/lib/python3.9/dist-packages (from scikit-learn) (1.22.4)\n",
            "Requirement already satisfied: joblib>=1.1.1 in /usr/local/lib/python3.9/dist-packages (from scikit-learn) (1.2.0)\n",
            "Requirement already satisfied: threadpoolctl>=2.0.0 in /usr/local/lib/python3.9/dist-packages (from scikit-learn) (3.1.0)\n",
            "Requirement already satisfied: scipy>=1.3.2 in /usr/local/lib/python3.9/dist-packages (from scikit-learn) (1.10.1)\n",
            "Looking in indexes: https://pypi.org/simple, https://us-python.pkg.dev/colab-wheels/public/simple/\n",
            "Requirement already satisfied: seaborn in /usr/local/lib/python3.9/dist-packages (0.12.2)\n",
            "Requirement already satisfied: numpy!=1.24.0,>=1.17 in /usr/local/lib/python3.9/dist-packages (from seaborn) (1.22.4)\n",
            "Requirement already satisfied: pandas>=0.25 in /usr/local/lib/python3.9/dist-packages (from seaborn) (2.0.0)\n",
            "Requirement already satisfied: matplotlib!=3.6.1,>=3.1 in /usr/local/lib/python3.9/dist-packages (from seaborn) (3.7.1)\n",
            "Requirement already satisfied: pillow>=6.2.0 in /usr/local/lib/python3.9/dist-packages (from matplotlib!=3.6.1,>=3.1->seaborn) (8.4.0)\n",
            "Requirement already satisfied: importlib-resources>=3.2.0 in /usr/local/lib/python3.9/dist-packages (from matplotlib!=3.6.1,>=3.1->seaborn) (5.12.0)\n",
            "Requirement already satisfied: fonttools>=4.22.0 in /usr/local/lib/python3.9/dist-packages (from matplotlib!=3.6.1,>=3.1->seaborn) (4.39.3)\n",
            "Requirement already satisfied: pyparsing>=2.3.1 in /usr/local/lib/python3.9/dist-packages (from matplotlib!=3.6.1,>=3.1->seaborn) (3.0.9)\n",
            "Requirement already satisfied: python-dateutil>=2.7 in /usr/local/lib/python3.9/dist-packages (from matplotlib!=3.6.1,>=3.1->seaborn) (2.8.2)\n",
            "Requirement already satisfied: contourpy>=1.0.1 in /usr/local/lib/python3.9/dist-packages (from matplotlib!=3.6.1,>=3.1->seaborn) (1.0.7)\n",
            "Requirement already satisfied: kiwisolver>=1.0.1 in /usr/local/lib/python3.9/dist-packages (from matplotlib!=3.6.1,>=3.1->seaborn) (1.4.4)\n",
            "Requirement already satisfied: packaging>=20.0 in /usr/local/lib/python3.9/dist-packages (from matplotlib!=3.6.1,>=3.1->seaborn) (23.0)\n",
            "Requirement already satisfied: cycler>=0.10 in /usr/local/lib/python3.9/dist-packages (from matplotlib!=3.6.1,>=3.1->seaborn) (0.11.0)\n",
            "Requirement already satisfied: tzdata>=2022.1 in /usr/local/lib/python3.9/dist-packages (from pandas>=0.25->seaborn) (2023.3)\n",
            "Requirement already satisfied: pytz>=2020.1 in /usr/local/lib/python3.9/dist-packages (from pandas>=0.25->seaborn) (2022.7.1)\n",
            "Requirement already satisfied: zipp>=3.1.0 in /usr/local/lib/python3.9/dist-packages (from importlib-resources>=3.2.0->matplotlib!=3.6.1,>=3.1->seaborn) (3.15.0)\n",
            "Requirement already satisfied: six>=1.5 in /usr/local/lib/python3.9/dist-packages (from python-dateutil>=2.7->matplotlib!=3.6.1,>=3.1->seaborn) (1.16.0)\n"
          ]
        }
      ]
    },
    {
      "cell_type": "code",
      "execution_count": null,
      "metadata": {
        "id": "YoBnxAvQVAZ8",
        "colab": {
          "base_uri": "https://localhost:8080/"
        },
        "outputId": "5efcbf5d-a99e-4129-bffa-5f3661f8a776"
      },
      "outputs": [
        {
          "output_type": "stream",
          "name": "stdout",
          "text": [
            "Mounted at /content/drive\n",
            "time: 1.46 ms (started: 2023-04-19 18:10:28 +00:00)\n"
          ]
        }
      ],
      "source": [
        "from google.colab import drive, files\n",
        "import pandas as pd\n",
        "import warnings\n",
        "\n",
        "drive.mount('/content/drive', force_remount=True)\n",
        "warnings.filterwarnings(\"ignore\")\n",
        "%load_ext autotime"
      ]
    },
    {
      "cell_type": "code",
      "source": [
        "links   = pd.read_csv('/content/drive/MyDrive/datasets/movielens-movies/links.csv', encoding='utf-8')\n",
        "movies  = pd.read_csv('/content/drive/MyDrive/datasets/movielens-movies/movies.csv', encoding='utf-8')\n",
        "ratings = pd.read_csv('/content/drive/MyDrive/datasets/movielens-movies/ratings.csv', encoding='utf-8')\n",
        "tags    = pd.read_csv('/content/drive/MyDrive/datasets/movielens-movies/tags.csv', encoding='utf-8')"
      ],
      "metadata": {
        "colab": {
          "base_uri": "https://localhost:8080/"
        },
        "id": "5LY8HSFoWjsf",
        "outputId": "832af742-26ad-4bde-bcdf-5f79718d00ea"
      },
      "execution_count": null,
      "outputs": [
        {
          "output_type": "stream",
          "name": "stdout",
          "text": [
            "time: 102 ms (started: 2023-04-19 18:10:28 +00:00)\n"
          ]
        }
      ]
    },
    {
      "cell_type": "markdown",
      "source": [
        "# EDA"
      ],
      "metadata": {
        "id": "x9J-C9hIis55"
      }
    },
    {
      "cell_type": "markdown",
      "source": [
        "## Links dataframe"
      ],
      "metadata": {
        "id": "6FGJ4oXclIRG"
      }
    },
    {
      "cell_type": "code",
      "source": [
        "links.head()"
      ],
      "metadata": {
        "colab": {
          "base_uri": "https://localhost:8080/",
          "height": 224
        },
        "id": "QbDzzYn1j4Ks",
        "outputId": "dfbc0e52-7025-41d7-ddb4-1ba53ce2ec1d"
      },
      "execution_count": null,
      "outputs": [
        {
          "output_type": "execute_result",
          "data": {
            "text/plain": [
              "   movieId  imdbId   tmdbId\n",
              "0        1  114709    862.0\n",
              "1        2  113497   8844.0\n",
              "2        3  113228  15602.0\n",
              "3        4  114885  31357.0\n",
              "4        5  113041  11862.0"
            ],
            "text/html": [
              "\n",
              "  <div id=\"df-53d545e1-b962-4d96-a69e-a070f8fef312\">\n",
              "    <div class=\"colab-df-container\">\n",
              "      <div>\n",
              "<style scoped>\n",
              "    .dataframe tbody tr th:only-of-type {\n",
              "        vertical-align: middle;\n",
              "    }\n",
              "\n",
              "    .dataframe tbody tr th {\n",
              "        vertical-align: top;\n",
              "    }\n",
              "\n",
              "    .dataframe thead th {\n",
              "        text-align: right;\n",
              "    }\n",
              "</style>\n",
              "<table border=\"1\" class=\"dataframe\">\n",
              "  <thead>\n",
              "    <tr style=\"text-align: right;\">\n",
              "      <th></th>\n",
              "      <th>movieId</th>\n",
              "      <th>imdbId</th>\n",
              "      <th>tmdbId</th>\n",
              "    </tr>\n",
              "  </thead>\n",
              "  <tbody>\n",
              "    <tr>\n",
              "      <th>0</th>\n",
              "      <td>1</td>\n",
              "      <td>114709</td>\n",
              "      <td>862.0</td>\n",
              "    </tr>\n",
              "    <tr>\n",
              "      <th>1</th>\n",
              "      <td>2</td>\n",
              "      <td>113497</td>\n",
              "      <td>8844.0</td>\n",
              "    </tr>\n",
              "    <tr>\n",
              "      <th>2</th>\n",
              "      <td>3</td>\n",
              "      <td>113228</td>\n",
              "      <td>15602.0</td>\n",
              "    </tr>\n",
              "    <tr>\n",
              "      <th>3</th>\n",
              "      <td>4</td>\n",
              "      <td>114885</td>\n",
              "      <td>31357.0</td>\n",
              "    </tr>\n",
              "    <tr>\n",
              "      <th>4</th>\n",
              "      <td>5</td>\n",
              "      <td>113041</td>\n",
              "      <td>11862.0</td>\n",
              "    </tr>\n",
              "  </tbody>\n",
              "</table>\n",
              "</div>\n",
              "      <button class=\"colab-df-convert\" onclick=\"convertToInteractive('df-53d545e1-b962-4d96-a69e-a070f8fef312')\"\n",
              "              title=\"Convert this dataframe to an interactive table.\"\n",
              "              style=\"display:none;\">\n",
              "        \n",
              "  <svg xmlns=\"http://www.w3.org/2000/svg\" height=\"24px\"viewBox=\"0 0 24 24\"\n",
              "       width=\"24px\">\n",
              "    <path d=\"M0 0h24v24H0V0z\" fill=\"none\"/>\n",
              "    <path d=\"M18.56 5.44l.94 2.06.94-2.06 2.06-.94-2.06-.94-.94-2.06-.94 2.06-2.06.94zm-11 1L8.5 8.5l.94-2.06 2.06-.94-2.06-.94L8.5 2.5l-.94 2.06-2.06.94zm10 10l.94 2.06.94-2.06 2.06-.94-2.06-.94-.94-2.06-.94 2.06-2.06.94z\"/><path d=\"M17.41 7.96l-1.37-1.37c-.4-.4-.92-.59-1.43-.59-.52 0-1.04.2-1.43.59L10.3 9.45l-7.72 7.72c-.78.78-.78 2.05 0 2.83L4 21.41c.39.39.9.59 1.41.59.51 0 1.02-.2 1.41-.59l7.78-7.78 2.81-2.81c.8-.78.8-2.07 0-2.86zM5.41 20L4 18.59l7.72-7.72 1.47 1.35L5.41 20z\"/>\n",
              "  </svg>\n",
              "      </button>\n",
              "      \n",
              "  <style>\n",
              "    .colab-df-container {\n",
              "      display:flex;\n",
              "      flex-wrap:wrap;\n",
              "      gap: 12px;\n",
              "    }\n",
              "\n",
              "    .colab-df-convert {\n",
              "      background-color: #E8F0FE;\n",
              "      border: none;\n",
              "      border-radius: 50%;\n",
              "      cursor: pointer;\n",
              "      display: none;\n",
              "      fill: #1967D2;\n",
              "      height: 32px;\n",
              "      padding: 0 0 0 0;\n",
              "      width: 32px;\n",
              "    }\n",
              "\n",
              "    .colab-df-convert:hover {\n",
              "      background-color: #E2EBFA;\n",
              "      box-shadow: 0px 1px 2px rgba(60, 64, 67, 0.3), 0px 1px 3px 1px rgba(60, 64, 67, 0.15);\n",
              "      fill: #174EA6;\n",
              "    }\n",
              "\n",
              "    [theme=dark] .colab-df-convert {\n",
              "      background-color: #3B4455;\n",
              "      fill: #D2E3FC;\n",
              "    }\n",
              "\n",
              "    [theme=dark] .colab-df-convert:hover {\n",
              "      background-color: #434B5C;\n",
              "      box-shadow: 0px 1px 3px 1px rgba(0, 0, 0, 0.15);\n",
              "      filter: drop-shadow(0px 1px 2px rgba(0, 0, 0, 0.3));\n",
              "      fill: #FFFFFF;\n",
              "    }\n",
              "  </style>\n",
              "\n",
              "      <script>\n",
              "        const buttonEl =\n",
              "          document.querySelector('#df-53d545e1-b962-4d96-a69e-a070f8fef312 button.colab-df-convert');\n",
              "        buttonEl.style.display =\n",
              "          google.colab.kernel.accessAllowed ? 'block' : 'none';\n",
              "\n",
              "        async function convertToInteractive(key) {\n",
              "          const element = document.querySelector('#df-53d545e1-b962-4d96-a69e-a070f8fef312');\n",
              "          const dataTable =\n",
              "            await google.colab.kernel.invokeFunction('convertToInteractive',\n",
              "                                                     [key], {});\n",
              "          if (!dataTable) return;\n",
              "\n",
              "          const docLinkHtml = 'Like what you see? Visit the ' +\n",
              "            '<a target=\"_blank\" href=https://colab.research.google.com/notebooks/data_table.ipynb>data table notebook</a>'\n",
              "            + ' to learn more about interactive tables.';\n",
              "          element.innerHTML = '';\n",
              "          dataTable['output_type'] = 'display_data';\n",
              "          await google.colab.output.renderOutput(dataTable, element);\n",
              "          const docLink = document.createElement('div');\n",
              "          docLink.innerHTML = docLinkHtml;\n",
              "          element.appendChild(docLink);\n",
              "        }\n",
              "      </script>\n",
              "    </div>\n",
              "  </div>\n",
              "  "
            ]
          },
          "metadata": {},
          "execution_count": 4
        },
        {
          "output_type": "stream",
          "name": "stdout",
          "text": [
            "time: 11.9 ms (started: 2023-04-19 18:10:28 +00:00)\n"
          ]
        }
      ]
    },
    {
      "cell_type": "code",
      "source": [
        "links.info()"
      ],
      "metadata": {
        "colab": {
          "base_uri": "https://localhost:8080/"
        },
        "id": "d28en777iuC2",
        "outputId": "9b604676-2b70-4f57-c278-b5c477b0b10a"
      },
      "execution_count": null,
      "outputs": [
        {
          "output_type": "stream",
          "name": "stdout",
          "text": [
            "<class 'pandas.core.frame.DataFrame'>\n",
            "RangeIndex: 9742 entries, 0 to 9741\n",
            "Data columns (total 3 columns):\n",
            " #   Column   Non-Null Count  Dtype  \n",
            "---  ------   --------------  -----  \n",
            " 0   movieId  9742 non-null   int64  \n",
            " 1   imdbId   9742 non-null   int64  \n",
            " 2   tmdbId   9734 non-null   float64\n",
            "dtypes: float64(1), int64(2)\n",
            "memory usage: 228.5 KB\n",
            "time: 11.2 ms (started: 2023-04-19 18:10:28 +00:00)\n"
          ]
        }
      ]
    },
    {
      "cell_type": "markdown",
      "source": [
        "Checking which attributes have NaN values."
      ],
      "metadata": {
        "id": "cXj6MZkclPe8"
      }
    },
    {
      "cell_type": "code",
      "source": [
        "for col in links.columns:\n",
        "  print(f'{col}: {links[col].hasnans}')"
      ],
      "metadata": {
        "colab": {
          "base_uri": "https://localhost:8080/"
        },
        "id": "qZu3l-eplU5g",
        "outputId": "6a2ae45d-f67e-410a-896c-8f6e91dbc1b7"
      },
      "execution_count": null,
      "outputs": [
        {
          "output_type": "stream",
          "name": "stdout",
          "text": [
            "movieId: False\n",
            "imdbId: False\n",
            "tmdbId: True\n",
            "time: 3.2 ms (started: 2023-04-19 18:10:28 +00:00)\n"
          ]
        }
      ]
    },
    {
      "cell_type": "markdown",
      "source": [
        "## Movies dataframe"
      ],
      "metadata": {
        "id": "Ct725Ey1mBOz"
      }
    },
    {
      "cell_type": "code",
      "source": [
        "movies.head()"
      ],
      "metadata": {
        "colab": {
          "base_uri": "https://localhost:8080/",
          "height": 224
        },
        "id": "yZoWEuytj9BQ",
        "outputId": "0b6610c4-631a-497d-e171-07c71d5e7115"
      },
      "execution_count": null,
      "outputs": [
        {
          "output_type": "execute_result",
          "data": {
            "text/plain": [
              "   movieId                               title   \n",
              "0        1                    Toy Story (1995)  \\\n",
              "1        2                      Jumanji (1995)   \n",
              "2        3             Grumpier Old Men (1995)   \n",
              "3        4            Waiting to Exhale (1995)   \n",
              "4        5  Father of the Bride Part II (1995)   \n",
              "\n",
              "                                        genres  \n",
              "0  Adventure|Animation|Children|Comedy|Fantasy  \n",
              "1                   Adventure|Children|Fantasy  \n",
              "2                               Comedy|Romance  \n",
              "3                         Comedy|Drama|Romance  \n",
              "4                                       Comedy  "
            ],
            "text/html": [
              "\n",
              "  <div id=\"df-43b86e70-cac4-4bd0-b07e-e8addf560149\">\n",
              "    <div class=\"colab-df-container\">\n",
              "      <div>\n",
              "<style scoped>\n",
              "    .dataframe tbody tr th:only-of-type {\n",
              "        vertical-align: middle;\n",
              "    }\n",
              "\n",
              "    .dataframe tbody tr th {\n",
              "        vertical-align: top;\n",
              "    }\n",
              "\n",
              "    .dataframe thead th {\n",
              "        text-align: right;\n",
              "    }\n",
              "</style>\n",
              "<table border=\"1\" class=\"dataframe\">\n",
              "  <thead>\n",
              "    <tr style=\"text-align: right;\">\n",
              "      <th></th>\n",
              "      <th>movieId</th>\n",
              "      <th>title</th>\n",
              "      <th>genres</th>\n",
              "    </tr>\n",
              "  </thead>\n",
              "  <tbody>\n",
              "    <tr>\n",
              "      <th>0</th>\n",
              "      <td>1</td>\n",
              "      <td>Toy Story (1995)</td>\n",
              "      <td>Adventure|Animation|Children|Comedy|Fantasy</td>\n",
              "    </tr>\n",
              "    <tr>\n",
              "      <th>1</th>\n",
              "      <td>2</td>\n",
              "      <td>Jumanji (1995)</td>\n",
              "      <td>Adventure|Children|Fantasy</td>\n",
              "    </tr>\n",
              "    <tr>\n",
              "      <th>2</th>\n",
              "      <td>3</td>\n",
              "      <td>Grumpier Old Men (1995)</td>\n",
              "      <td>Comedy|Romance</td>\n",
              "    </tr>\n",
              "    <tr>\n",
              "      <th>3</th>\n",
              "      <td>4</td>\n",
              "      <td>Waiting to Exhale (1995)</td>\n",
              "      <td>Comedy|Drama|Romance</td>\n",
              "    </tr>\n",
              "    <tr>\n",
              "      <th>4</th>\n",
              "      <td>5</td>\n",
              "      <td>Father of the Bride Part II (1995)</td>\n",
              "      <td>Comedy</td>\n",
              "    </tr>\n",
              "  </tbody>\n",
              "</table>\n",
              "</div>\n",
              "      <button class=\"colab-df-convert\" onclick=\"convertToInteractive('df-43b86e70-cac4-4bd0-b07e-e8addf560149')\"\n",
              "              title=\"Convert this dataframe to an interactive table.\"\n",
              "              style=\"display:none;\">\n",
              "        \n",
              "  <svg xmlns=\"http://www.w3.org/2000/svg\" height=\"24px\"viewBox=\"0 0 24 24\"\n",
              "       width=\"24px\">\n",
              "    <path d=\"M0 0h24v24H0V0z\" fill=\"none\"/>\n",
              "    <path d=\"M18.56 5.44l.94 2.06.94-2.06 2.06-.94-2.06-.94-.94-2.06-.94 2.06-2.06.94zm-11 1L8.5 8.5l.94-2.06 2.06-.94-2.06-.94L8.5 2.5l-.94 2.06-2.06.94zm10 10l.94 2.06.94-2.06 2.06-.94-2.06-.94-.94-2.06-.94 2.06-2.06.94z\"/><path d=\"M17.41 7.96l-1.37-1.37c-.4-.4-.92-.59-1.43-.59-.52 0-1.04.2-1.43.59L10.3 9.45l-7.72 7.72c-.78.78-.78 2.05 0 2.83L4 21.41c.39.39.9.59 1.41.59.51 0 1.02-.2 1.41-.59l7.78-7.78 2.81-2.81c.8-.78.8-2.07 0-2.86zM5.41 20L4 18.59l7.72-7.72 1.47 1.35L5.41 20z\"/>\n",
              "  </svg>\n",
              "      </button>\n",
              "      \n",
              "  <style>\n",
              "    .colab-df-container {\n",
              "      display:flex;\n",
              "      flex-wrap:wrap;\n",
              "      gap: 12px;\n",
              "    }\n",
              "\n",
              "    .colab-df-convert {\n",
              "      background-color: #E8F0FE;\n",
              "      border: none;\n",
              "      border-radius: 50%;\n",
              "      cursor: pointer;\n",
              "      display: none;\n",
              "      fill: #1967D2;\n",
              "      height: 32px;\n",
              "      padding: 0 0 0 0;\n",
              "      width: 32px;\n",
              "    }\n",
              "\n",
              "    .colab-df-convert:hover {\n",
              "      background-color: #E2EBFA;\n",
              "      box-shadow: 0px 1px 2px rgba(60, 64, 67, 0.3), 0px 1px 3px 1px rgba(60, 64, 67, 0.15);\n",
              "      fill: #174EA6;\n",
              "    }\n",
              "\n",
              "    [theme=dark] .colab-df-convert {\n",
              "      background-color: #3B4455;\n",
              "      fill: #D2E3FC;\n",
              "    }\n",
              "\n",
              "    [theme=dark] .colab-df-convert:hover {\n",
              "      background-color: #434B5C;\n",
              "      box-shadow: 0px 1px 3px 1px rgba(0, 0, 0, 0.15);\n",
              "      filter: drop-shadow(0px 1px 2px rgba(0, 0, 0, 0.3));\n",
              "      fill: #FFFFFF;\n",
              "    }\n",
              "  </style>\n",
              "\n",
              "      <script>\n",
              "        const buttonEl =\n",
              "          document.querySelector('#df-43b86e70-cac4-4bd0-b07e-e8addf560149 button.colab-df-convert');\n",
              "        buttonEl.style.display =\n",
              "          google.colab.kernel.accessAllowed ? 'block' : 'none';\n",
              "\n",
              "        async function convertToInteractive(key) {\n",
              "          const element = document.querySelector('#df-43b86e70-cac4-4bd0-b07e-e8addf560149');\n",
              "          const dataTable =\n",
              "            await google.colab.kernel.invokeFunction('convertToInteractive',\n",
              "                                                     [key], {});\n",
              "          if (!dataTable) return;\n",
              "\n",
              "          const docLinkHtml = 'Like what you see? Visit the ' +\n",
              "            '<a target=\"_blank\" href=https://colab.research.google.com/notebooks/data_table.ipynb>data table notebook</a>'\n",
              "            + ' to learn more about interactive tables.';\n",
              "          element.innerHTML = '';\n",
              "          dataTable['output_type'] = 'display_data';\n",
              "          await google.colab.output.renderOutput(dataTable, element);\n",
              "          const docLink = document.createElement('div');\n",
              "          docLink.innerHTML = docLinkHtml;\n",
              "          element.appendChild(docLink);\n",
              "        }\n",
              "      </script>\n",
              "    </div>\n",
              "  </div>\n",
              "  "
            ]
          },
          "metadata": {},
          "execution_count": 7
        },
        {
          "output_type": "stream",
          "name": "stdout",
          "text": [
            "time: 11.3 ms (started: 2023-04-19 18:10:28 +00:00)\n"
          ]
        }
      ]
    },
    {
      "cell_type": "code",
      "source": [
        "movies.info()"
      ],
      "metadata": {
        "colab": {
          "base_uri": "https://localhost:8080/"
        },
        "id": "2ekrsg_iiybc",
        "outputId": "e6256930-2e39-49cb-ba06-d61855a7ced3"
      },
      "execution_count": null,
      "outputs": [
        {
          "output_type": "stream",
          "name": "stdout",
          "text": [
            "<class 'pandas.core.frame.DataFrame'>\n",
            "RangeIndex: 9742 entries, 0 to 9741\n",
            "Data columns (total 3 columns):\n",
            " #   Column   Non-Null Count  Dtype \n",
            "---  ------   --------------  ----- \n",
            " 0   movieId  9742 non-null   int64 \n",
            " 1   title    9742 non-null   object\n",
            " 2   genres   9742 non-null   object\n",
            "dtypes: int64(1), object(2)\n",
            "memory usage: 228.5+ KB\n",
            "time: 7.92 ms (started: 2023-04-19 18:10:28 +00:00)\n"
          ]
        }
      ]
    },
    {
      "cell_type": "markdown",
      "source": [
        "Checking which attributes have NaN values."
      ],
      "metadata": {
        "id": "NxE7DBlHmwtR"
      }
    },
    {
      "cell_type": "code",
      "source": [
        "for col in movies.columns:\n",
        "  print(f'{col}: {movies[col].hasnans}')"
      ],
      "metadata": {
        "colab": {
          "base_uri": "https://localhost:8080/"
        },
        "outputId": "9fc49a1b-6d10-4626-8df1-f1c7f585a6ac",
        "id": "rwGbQ5Ofmwtb"
      },
      "execution_count": null,
      "outputs": [
        {
          "output_type": "stream",
          "name": "stdout",
          "text": [
            "movieId: False\n",
            "title: False\n",
            "genres: False\n",
            "time: 4.08 ms (started: 2023-04-19 18:10:28 +00:00)\n"
          ]
        }
      ]
    },
    {
      "cell_type": "markdown",
      "source": [
        "## Ratings dataframe"
      ],
      "metadata": {
        "id": "CqvzXZowm3cS"
      }
    },
    {
      "cell_type": "code",
      "source": [
        "ratings.head()"
      ],
      "metadata": {
        "colab": {
          "base_uri": "https://localhost:8080/",
          "height": 224
        },
        "id": "IlcCOqJnj_pe",
        "outputId": "84f8225a-7273-4a4d-d985-81c176838a83"
      },
      "execution_count": null,
      "outputs": [
        {
          "output_type": "execute_result",
          "data": {
            "text/plain": [
              "   userId  movieId  rating  timestamp\n",
              "0       1        1     4.0  964982703\n",
              "1       1        3     4.0  964981247\n",
              "2       1        6     4.0  964982224\n",
              "3       1       47     5.0  964983815\n",
              "4       1       50     5.0  964982931"
            ],
            "text/html": [
              "\n",
              "  <div id=\"df-ca927a18-6b04-4138-8603-7d5f2dadebf9\">\n",
              "    <div class=\"colab-df-container\">\n",
              "      <div>\n",
              "<style scoped>\n",
              "    .dataframe tbody tr th:only-of-type {\n",
              "        vertical-align: middle;\n",
              "    }\n",
              "\n",
              "    .dataframe tbody tr th {\n",
              "        vertical-align: top;\n",
              "    }\n",
              "\n",
              "    .dataframe thead th {\n",
              "        text-align: right;\n",
              "    }\n",
              "</style>\n",
              "<table border=\"1\" class=\"dataframe\">\n",
              "  <thead>\n",
              "    <tr style=\"text-align: right;\">\n",
              "      <th></th>\n",
              "      <th>userId</th>\n",
              "      <th>movieId</th>\n",
              "      <th>rating</th>\n",
              "      <th>timestamp</th>\n",
              "    </tr>\n",
              "  </thead>\n",
              "  <tbody>\n",
              "    <tr>\n",
              "      <th>0</th>\n",
              "      <td>1</td>\n",
              "      <td>1</td>\n",
              "      <td>4.0</td>\n",
              "      <td>964982703</td>\n",
              "    </tr>\n",
              "    <tr>\n",
              "      <th>1</th>\n",
              "      <td>1</td>\n",
              "      <td>3</td>\n",
              "      <td>4.0</td>\n",
              "      <td>964981247</td>\n",
              "    </tr>\n",
              "    <tr>\n",
              "      <th>2</th>\n",
              "      <td>1</td>\n",
              "      <td>6</td>\n",
              "      <td>4.0</td>\n",
              "      <td>964982224</td>\n",
              "    </tr>\n",
              "    <tr>\n",
              "      <th>3</th>\n",
              "      <td>1</td>\n",
              "      <td>47</td>\n",
              "      <td>5.0</td>\n",
              "      <td>964983815</td>\n",
              "    </tr>\n",
              "    <tr>\n",
              "      <th>4</th>\n",
              "      <td>1</td>\n",
              "      <td>50</td>\n",
              "      <td>5.0</td>\n",
              "      <td>964982931</td>\n",
              "    </tr>\n",
              "  </tbody>\n",
              "</table>\n",
              "</div>\n",
              "      <button class=\"colab-df-convert\" onclick=\"convertToInteractive('df-ca927a18-6b04-4138-8603-7d5f2dadebf9')\"\n",
              "              title=\"Convert this dataframe to an interactive table.\"\n",
              "              style=\"display:none;\">\n",
              "        \n",
              "  <svg xmlns=\"http://www.w3.org/2000/svg\" height=\"24px\"viewBox=\"0 0 24 24\"\n",
              "       width=\"24px\">\n",
              "    <path d=\"M0 0h24v24H0V0z\" fill=\"none\"/>\n",
              "    <path d=\"M18.56 5.44l.94 2.06.94-2.06 2.06-.94-2.06-.94-.94-2.06-.94 2.06-2.06.94zm-11 1L8.5 8.5l.94-2.06 2.06-.94-2.06-.94L8.5 2.5l-.94 2.06-2.06.94zm10 10l.94 2.06.94-2.06 2.06-.94-2.06-.94-.94-2.06-.94 2.06-2.06.94z\"/><path d=\"M17.41 7.96l-1.37-1.37c-.4-.4-.92-.59-1.43-.59-.52 0-1.04.2-1.43.59L10.3 9.45l-7.72 7.72c-.78.78-.78 2.05 0 2.83L4 21.41c.39.39.9.59 1.41.59.51 0 1.02-.2 1.41-.59l7.78-7.78 2.81-2.81c.8-.78.8-2.07 0-2.86zM5.41 20L4 18.59l7.72-7.72 1.47 1.35L5.41 20z\"/>\n",
              "  </svg>\n",
              "      </button>\n",
              "      \n",
              "  <style>\n",
              "    .colab-df-container {\n",
              "      display:flex;\n",
              "      flex-wrap:wrap;\n",
              "      gap: 12px;\n",
              "    }\n",
              "\n",
              "    .colab-df-convert {\n",
              "      background-color: #E8F0FE;\n",
              "      border: none;\n",
              "      border-radius: 50%;\n",
              "      cursor: pointer;\n",
              "      display: none;\n",
              "      fill: #1967D2;\n",
              "      height: 32px;\n",
              "      padding: 0 0 0 0;\n",
              "      width: 32px;\n",
              "    }\n",
              "\n",
              "    .colab-df-convert:hover {\n",
              "      background-color: #E2EBFA;\n",
              "      box-shadow: 0px 1px 2px rgba(60, 64, 67, 0.3), 0px 1px 3px 1px rgba(60, 64, 67, 0.15);\n",
              "      fill: #174EA6;\n",
              "    }\n",
              "\n",
              "    [theme=dark] .colab-df-convert {\n",
              "      background-color: #3B4455;\n",
              "      fill: #D2E3FC;\n",
              "    }\n",
              "\n",
              "    [theme=dark] .colab-df-convert:hover {\n",
              "      background-color: #434B5C;\n",
              "      box-shadow: 0px 1px 3px 1px rgba(0, 0, 0, 0.15);\n",
              "      filter: drop-shadow(0px 1px 2px rgba(0, 0, 0, 0.3));\n",
              "      fill: #FFFFFF;\n",
              "    }\n",
              "  </style>\n",
              "\n",
              "      <script>\n",
              "        const buttonEl =\n",
              "          document.querySelector('#df-ca927a18-6b04-4138-8603-7d5f2dadebf9 button.colab-df-convert');\n",
              "        buttonEl.style.display =\n",
              "          google.colab.kernel.accessAllowed ? 'block' : 'none';\n",
              "\n",
              "        async function convertToInteractive(key) {\n",
              "          const element = document.querySelector('#df-ca927a18-6b04-4138-8603-7d5f2dadebf9');\n",
              "          const dataTable =\n",
              "            await google.colab.kernel.invokeFunction('convertToInteractive',\n",
              "                                                     [key], {});\n",
              "          if (!dataTable) return;\n",
              "\n",
              "          const docLinkHtml = 'Like what you see? Visit the ' +\n",
              "            '<a target=\"_blank\" href=https://colab.research.google.com/notebooks/data_table.ipynb>data table notebook</a>'\n",
              "            + ' to learn more about interactive tables.';\n",
              "          element.innerHTML = '';\n",
              "          dataTable['output_type'] = 'display_data';\n",
              "          await google.colab.output.renderOutput(dataTable, element);\n",
              "          const docLink = document.createElement('div');\n",
              "          docLink.innerHTML = docLinkHtml;\n",
              "          element.appendChild(docLink);\n",
              "        }\n",
              "      </script>\n",
              "    </div>\n",
              "  </div>\n",
              "  "
            ]
          },
          "metadata": {},
          "execution_count": 10
        },
        {
          "output_type": "stream",
          "name": "stdout",
          "text": [
            "time: 8.14 ms (started: 2023-04-19 18:10:28 +00:00)\n"
          ]
        }
      ]
    },
    {
      "cell_type": "code",
      "source": [
        "ratings.info()"
      ],
      "metadata": {
        "colab": {
          "base_uri": "https://localhost:8080/"
        },
        "id": "ftwbo49bi2LN",
        "outputId": "40e3efdf-be27-4c56-cf82-715683896bfc"
      },
      "execution_count": null,
      "outputs": [
        {
          "output_type": "stream",
          "name": "stdout",
          "text": [
            "<class 'pandas.core.frame.DataFrame'>\n",
            "RangeIndex: 100836 entries, 0 to 100835\n",
            "Data columns (total 4 columns):\n",
            " #   Column     Non-Null Count   Dtype  \n",
            "---  ------     --------------   -----  \n",
            " 0   userId     100836 non-null  int64  \n",
            " 1   movieId    100836 non-null  int64  \n",
            " 2   rating     100836 non-null  float64\n",
            " 3   timestamp  100836 non-null  int64  \n",
            "dtypes: float64(1), int64(3)\n",
            "memory usage: 3.1 MB\n",
            "time: 8.42 ms (started: 2023-04-19 18:10:28 +00:00)\n"
          ]
        }
      ]
    },
    {
      "cell_type": "markdown",
      "source": [
        "Checking which attributes have NaN values."
      ],
      "metadata": {
        "id": "-0J-gRMSnEuB"
      }
    },
    {
      "cell_type": "code",
      "source": [
        "for col in ratings.columns:\n",
        "  print(f'{col}: {ratings[col].hasnans}')"
      ],
      "metadata": {
        "colab": {
          "base_uri": "https://localhost:8080/"
        },
        "outputId": "e563e09a-7cc0-448c-cd1e-7c74d0573f51",
        "id": "Pom4mmttnEuI"
      },
      "execution_count": null,
      "outputs": [
        {
          "output_type": "stream",
          "name": "stdout",
          "text": [
            "userId: False\n",
            "movieId: False\n",
            "rating: False\n",
            "timestamp: False\n",
            "time: 7.58 ms (started: 2023-04-19 18:10:28 +00:00)\n"
          ]
        }
      ]
    },
    {
      "cell_type": "markdown",
      "source": [
        "## Tags dataframe"
      ],
      "metadata": {
        "id": "LjJ-ZDo_nOVp"
      }
    },
    {
      "cell_type": "code",
      "source": [
        "tags.head()"
      ],
      "metadata": {
        "colab": {
          "base_uri": "https://localhost:8080/",
          "height": 224
        },
        "id": "tcZK7nQmkDBb",
        "outputId": "7daa45f1-8e4a-4790-8544-29d4e3a6e052"
      },
      "execution_count": null,
      "outputs": [
        {
          "output_type": "execute_result",
          "data": {
            "text/plain": [
              "   userId  movieId              tag   timestamp\n",
              "0       2    60756            funny  1445714994\n",
              "1       2    60756  Highly quotable  1445714996\n",
              "2       2    60756     will ferrell  1445714992\n",
              "3       2    89774     Boxing story  1445715207\n",
              "4       2    89774              MMA  1445715200"
            ],
            "text/html": [
              "\n",
              "  <div id=\"df-5cd171ff-a408-451b-8bf8-c60a2e22aa19\">\n",
              "    <div class=\"colab-df-container\">\n",
              "      <div>\n",
              "<style scoped>\n",
              "    .dataframe tbody tr th:only-of-type {\n",
              "        vertical-align: middle;\n",
              "    }\n",
              "\n",
              "    .dataframe tbody tr th {\n",
              "        vertical-align: top;\n",
              "    }\n",
              "\n",
              "    .dataframe thead th {\n",
              "        text-align: right;\n",
              "    }\n",
              "</style>\n",
              "<table border=\"1\" class=\"dataframe\">\n",
              "  <thead>\n",
              "    <tr style=\"text-align: right;\">\n",
              "      <th></th>\n",
              "      <th>userId</th>\n",
              "      <th>movieId</th>\n",
              "      <th>tag</th>\n",
              "      <th>timestamp</th>\n",
              "    </tr>\n",
              "  </thead>\n",
              "  <tbody>\n",
              "    <tr>\n",
              "      <th>0</th>\n",
              "      <td>2</td>\n",
              "      <td>60756</td>\n",
              "      <td>funny</td>\n",
              "      <td>1445714994</td>\n",
              "    </tr>\n",
              "    <tr>\n",
              "      <th>1</th>\n",
              "      <td>2</td>\n",
              "      <td>60756</td>\n",
              "      <td>Highly quotable</td>\n",
              "      <td>1445714996</td>\n",
              "    </tr>\n",
              "    <tr>\n",
              "      <th>2</th>\n",
              "      <td>2</td>\n",
              "      <td>60756</td>\n",
              "      <td>will ferrell</td>\n",
              "      <td>1445714992</td>\n",
              "    </tr>\n",
              "    <tr>\n",
              "      <th>3</th>\n",
              "      <td>2</td>\n",
              "      <td>89774</td>\n",
              "      <td>Boxing story</td>\n",
              "      <td>1445715207</td>\n",
              "    </tr>\n",
              "    <tr>\n",
              "      <th>4</th>\n",
              "      <td>2</td>\n",
              "      <td>89774</td>\n",
              "      <td>MMA</td>\n",
              "      <td>1445715200</td>\n",
              "    </tr>\n",
              "  </tbody>\n",
              "</table>\n",
              "</div>\n",
              "      <button class=\"colab-df-convert\" onclick=\"convertToInteractive('df-5cd171ff-a408-451b-8bf8-c60a2e22aa19')\"\n",
              "              title=\"Convert this dataframe to an interactive table.\"\n",
              "              style=\"display:none;\">\n",
              "        \n",
              "  <svg xmlns=\"http://www.w3.org/2000/svg\" height=\"24px\"viewBox=\"0 0 24 24\"\n",
              "       width=\"24px\">\n",
              "    <path d=\"M0 0h24v24H0V0z\" fill=\"none\"/>\n",
              "    <path d=\"M18.56 5.44l.94 2.06.94-2.06 2.06-.94-2.06-.94-.94-2.06-.94 2.06-2.06.94zm-11 1L8.5 8.5l.94-2.06 2.06-.94-2.06-.94L8.5 2.5l-.94 2.06-2.06.94zm10 10l.94 2.06.94-2.06 2.06-.94-2.06-.94-.94-2.06-.94 2.06-2.06.94z\"/><path d=\"M17.41 7.96l-1.37-1.37c-.4-.4-.92-.59-1.43-.59-.52 0-1.04.2-1.43.59L10.3 9.45l-7.72 7.72c-.78.78-.78 2.05 0 2.83L4 21.41c.39.39.9.59 1.41.59.51 0 1.02-.2 1.41-.59l7.78-7.78 2.81-2.81c.8-.78.8-2.07 0-2.86zM5.41 20L4 18.59l7.72-7.72 1.47 1.35L5.41 20z\"/>\n",
              "  </svg>\n",
              "      </button>\n",
              "      \n",
              "  <style>\n",
              "    .colab-df-container {\n",
              "      display:flex;\n",
              "      flex-wrap:wrap;\n",
              "      gap: 12px;\n",
              "    }\n",
              "\n",
              "    .colab-df-convert {\n",
              "      background-color: #E8F0FE;\n",
              "      border: none;\n",
              "      border-radius: 50%;\n",
              "      cursor: pointer;\n",
              "      display: none;\n",
              "      fill: #1967D2;\n",
              "      height: 32px;\n",
              "      padding: 0 0 0 0;\n",
              "      width: 32px;\n",
              "    }\n",
              "\n",
              "    .colab-df-convert:hover {\n",
              "      background-color: #E2EBFA;\n",
              "      box-shadow: 0px 1px 2px rgba(60, 64, 67, 0.3), 0px 1px 3px 1px rgba(60, 64, 67, 0.15);\n",
              "      fill: #174EA6;\n",
              "    }\n",
              "\n",
              "    [theme=dark] .colab-df-convert {\n",
              "      background-color: #3B4455;\n",
              "      fill: #D2E3FC;\n",
              "    }\n",
              "\n",
              "    [theme=dark] .colab-df-convert:hover {\n",
              "      background-color: #434B5C;\n",
              "      box-shadow: 0px 1px 3px 1px rgba(0, 0, 0, 0.15);\n",
              "      filter: drop-shadow(0px 1px 2px rgba(0, 0, 0, 0.3));\n",
              "      fill: #FFFFFF;\n",
              "    }\n",
              "  </style>\n",
              "\n",
              "      <script>\n",
              "        const buttonEl =\n",
              "          document.querySelector('#df-5cd171ff-a408-451b-8bf8-c60a2e22aa19 button.colab-df-convert');\n",
              "        buttonEl.style.display =\n",
              "          google.colab.kernel.accessAllowed ? 'block' : 'none';\n",
              "\n",
              "        async function convertToInteractive(key) {\n",
              "          const element = document.querySelector('#df-5cd171ff-a408-451b-8bf8-c60a2e22aa19');\n",
              "          const dataTable =\n",
              "            await google.colab.kernel.invokeFunction('convertToInteractive',\n",
              "                                                     [key], {});\n",
              "          if (!dataTable) return;\n",
              "\n",
              "          const docLinkHtml = 'Like what you see? Visit the ' +\n",
              "            '<a target=\"_blank\" href=https://colab.research.google.com/notebooks/data_table.ipynb>data table notebook</a>'\n",
              "            + ' to learn more about interactive tables.';\n",
              "          element.innerHTML = '';\n",
              "          dataTable['output_type'] = 'display_data';\n",
              "          await google.colab.output.renderOutput(dataTable, element);\n",
              "          const docLink = document.createElement('div');\n",
              "          docLink.innerHTML = docLinkHtml;\n",
              "          element.appendChild(docLink);\n",
              "        }\n",
              "      </script>\n",
              "    </div>\n",
              "  </div>\n",
              "  "
            ]
          },
          "metadata": {},
          "execution_count": 13
        },
        {
          "output_type": "stream",
          "name": "stdout",
          "text": [
            "time: 12.2 ms (started: 2023-04-19 18:10:28 +00:00)\n"
          ]
        }
      ]
    },
    {
      "cell_type": "code",
      "source": [
        "tags.info()"
      ],
      "metadata": {
        "colab": {
          "base_uri": "https://localhost:8080/"
        },
        "id": "CImBBD8Pi94m",
        "outputId": "1ad58a0e-4d11-4320-e69a-2c311030a5f9"
      },
      "execution_count": null,
      "outputs": [
        {
          "output_type": "stream",
          "name": "stdout",
          "text": [
            "<class 'pandas.core.frame.DataFrame'>\n",
            "RangeIndex: 3683 entries, 0 to 3682\n",
            "Data columns (total 4 columns):\n",
            " #   Column     Non-Null Count  Dtype \n",
            "---  ------     --------------  ----- \n",
            " 0   userId     3683 non-null   int64 \n",
            " 1   movieId    3683 non-null   int64 \n",
            " 2   tag        3683 non-null   object\n",
            " 3   timestamp  3683 non-null   int64 \n",
            "dtypes: int64(3), object(1)\n",
            "memory usage: 115.2+ KB\n",
            "time: 7.8 ms (started: 2023-04-19 18:10:28 +00:00)\n"
          ]
        }
      ]
    },
    {
      "cell_type": "markdown",
      "source": [
        "Checking which attributes have NaN values."
      ],
      "metadata": {
        "id": "rCROr3UlnVKZ"
      }
    },
    {
      "cell_type": "code",
      "source": [
        "for col in tags.columns:\n",
        "  print(f'{col}: {tags[col].hasnans}')"
      ],
      "metadata": {
        "colab": {
          "base_uri": "https://localhost:8080/"
        },
        "outputId": "554e8321-62ca-4856-a620-14a0317b0a7b",
        "id": "wkrC9vx1nVKg"
      },
      "execution_count": null,
      "outputs": [
        {
          "output_type": "stream",
          "name": "stdout",
          "text": [
            "userId: False\n",
            "movieId: False\n",
            "tag: False\n",
            "timestamp: False\n",
            "time: 5.63 ms (started: 2023-04-19 18:10:28 +00:00)\n"
          ]
        }
      ]
    },
    {
      "cell_type": "markdown",
      "source": [
        "## Ratings e Tag dataframes\n"
      ],
      "metadata": {
        "id": "k6E5ikg4njfR"
      }
    },
    {
      "cell_type": "markdown",
      "source": [
        "I'll check the number of unique users in 'ratings' and 'tag'."
      ],
      "metadata": {
        "id": "PrnIjuAbjc-a"
      }
    },
    {
      "cell_type": "code",
      "source": [
        "print(len(ratings['userId'].unique()))\n",
        "print(len(tags['userId'].unique()))"
      ],
      "metadata": {
        "colab": {
          "base_uri": "https://localhost:8080/"
        },
        "id": "PdxJ--YLjGTh",
        "outputId": "639e2801-0335-4d86-f008-c3461eac8d82"
      },
      "execution_count": null,
      "outputs": [
        {
          "output_type": "stream",
          "name": "stdout",
          "text": [
            "610\n",
            "58\n",
            "time: 4.09 ms (started: 2023-04-19 18:10:28 +00:00)\n"
          ]
        }
      ]
    },
    {
      "cell_type": "markdown",
      "source": [
        "Pelo visto nem todos os usuários aplicaram tags aos filmes que assistiram, mas não acredito que isso será um problema.\n",
        "Apparently not all users tagged watched movies, but I don't think this will be a problem."
      ],
      "metadata": {
        "id": "7F8j77XWjl7F"
      }
    },
    {
      "cell_type": "markdown",
      "source": [
        "# Train/Test split\n",
        "\n",
        "As the task is not supervised, but rather grouping, there is no need to make the split."
      ],
      "metadata": {
        "id": "SjLFQVwpkUtm"
      }
    },
    {
      "cell_type": "markdown",
      "source": [
        "# Feature engineering\n",
        "\n",
        "The transformations I will perform on the datasets are so simple that I will not use transformer classes or pipelines in this project.\n",
        "\n",
        "The idea is to create a **movie dataset** where the genres will be the features, and the movies, the rows. This matrix will be used to make the user's **profile array** based on the movies he watched. With this array it will be possible to set the rating for all other films that the user has not yet watched. Finally, is just sort the movies in relation to their estimated scores and recommend x number of films.\n",
        "\n",
        "\n",
        "I was going to use the tags assigned to the films and match them with 'genres', but I noticed that users were assigning tags completely outside the context of the movies. For example, Toy Story had tags such as: 'Al Pacino', 'Heroic Bloodshed', 'mafia', 'gangster', among others. Searching the internet, I discovered that a phrase said by the character Buzz Lightyear (Toy Story) and another by Tony Montana (Pacino - Scarface) was part of a British radio poll about the best phrases in the history of cinema. These tags probably came from there, but they have nothing to do with the movie Toy Story. We call this \"noise\", and to avoid this, not just in this movie, but in the entire dataset I decided to use only 'genres' to form the movie data matrix."
      ],
      "metadata": {
        "id": "EiLbSolBkl_e"
      }
    },
    {
      "cell_type": "code",
      "source": [
        "from sklearn.feature_extraction.text import CountVectorizer\n",
        "import numpy as np"
      ],
      "metadata": {
        "colab": {
          "base_uri": "https://localhost:8080/"
        },
        "id": "OYI0zoTmk3QY",
        "outputId": "36ce1895-5418-46bf-95be-34fa15995e9c"
      },
      "execution_count": null,
      "outputs": [
        {
          "output_type": "stream",
          "name": "stdout",
          "text": [
            "time: 428 ms (started: 2023-04-19 18:10:28 +00:00)\n"
          ]
        }
      ]
    },
    {
      "cell_type": "markdown",
      "source": [
        "**Etapa ##:** Remove the movie names as they not be necessary. Here, I also make some additional adjustments, such as:\n",
        "\n",
        "*   Replace the '|' for a blank space\n",
        "*   Transform all strings to lowercase\n",
        "*   Format the blanks\n"
      ],
      "metadata": {
        "id": "FdfmFpHByijC"
      }
    },
    {
      "cell_type": "code",
      "source": [
        "movies['genres'] = movies['genres'].str.replace('|', ' ')\n",
        "movies['genres'] = movies['genres'].str.lower()\n",
        "movies['genres'] = movies['genres'].str.replace(r'\\s{2,}', ' ', regex=True)"
      ],
      "metadata": {
        "colab": {
          "base_uri": "https://localhost:8080/"
        },
        "id": "re5KHUV2wA3I",
        "outputId": "f75f6e32-bbe0-406f-faff-1c68b969390a"
      },
      "execution_count": null,
      "outputs": [
        {
          "output_type": "stream",
          "name": "stdout",
          "text": [
            "time: 18.6 ms (started: 2023-04-19 18:10:28 +00:00)\n"
          ]
        }
      ]
    },
    {
      "cell_type": "markdown",
      "source": [
        "# Modeling\n",
        "In this project, I will not use traditional Machine Learning models. I will use a weighted average technique and very simple matrix operations. I will do it this way because I will use the movies that the user has already watched as a reference to recommend others based on his tastes.\n",
        "\n",
        "Another way to make recommendations is to choose a movie, and based on its genres, recommend others that are most similar to them. In this case, a Machine Learning algorithm is necessary, such as NearestNeighbors, to calculate the cosine similarity between the vectors that represent each movie. As I already did something similar in another book recommendation project, I prefer to try another approach here."
      ],
      "metadata": {
        "id": "GwgQVL9LtRds"
      }
    },
    {
      "cell_type": "markdown",
      "source": [
        "**Step ##:** Create a binary matrix where each column will be a movie genre and each row will be a movie from the dataset.\n",
        "\n",
        "0.   Movie does not belong to the genre\n",
        "1.   Movie belongs to the genre\n",
        "\n"
      ],
      "metadata": {
        "id": "2vItEe2lzAoa"
      }
    },
    {
      "cell_type": "code",
      "source": [
        "cv     = CountVectorizer(binary=True)\n",
        "matrix = cv.fit_transform(movies['genres']).toarray()"
      ],
      "metadata": {
        "colab": {
          "base_uri": "https://localhost:8080/"
        },
        "outputId": "cc43657d-fc1f-4786-e33f-0cadd0ca2c98",
        "id": "94rTQLrdzAoi"
      },
      "execution_count": null,
      "outputs": [
        {
          "output_type": "stream",
          "name": "stdout",
          "text": [
            "time: 56.4 ms (started: 2023-04-19 18:10:29 +00:00)\n"
          ]
        }
      ]
    },
    {
      "cell_type": "markdown",
      "source": [
        "**Step ##:** Make a new dataset from the matrix above plus 'movieId'. This set will be essential in the next steps."
      ],
      "metadata": {
        "id": "2pyMRimxai9l"
      }
    },
    {
      "cell_type": "code",
      "source": [
        "dataset = pd.DataFrame(data=matrix, index=movies.index, columns=cv.get_feature_names_out())\n",
        "dataset['movieId'] = movies['movieId']"
      ],
      "metadata": {
        "colab": {
          "base_uri": "https://localhost:8080/"
        },
        "id": "ehkJboE0Z8xB",
        "outputId": "122a5d4b-f288-4806-e2e0-bfda02b1febd"
      },
      "execution_count": null,
      "outputs": [
        {
          "output_type": "stream",
          "name": "stdout",
          "text": [
            "time: 2.16 ms (started: 2023-04-19 18:10:29 +00:00)\n"
          ]
        }
      ]
    },
    {
      "cell_type": "markdown",
      "source": [
        "**Step ##:** Select a random user with all the movies he have watched."
      ],
      "metadata": {
        "id": "7qawq0T-u1DF"
      }
    },
    {
      "cell_type": "code",
      "source": [
        "user_id = ratings.sample(1)['userId'].values[0]\n",
        "mask    = ratings['userId'] == user_id\n",
        "user    = ratings[mask]"
      ],
      "metadata": {
        "colab": {
          "base_uri": "https://localhost:8080/"
        },
        "id": "H0XVJfrBu8HI",
        "outputId": "0b4c3491-8827-422b-d7e9-4553800753e6"
      },
      "execution_count": null,
      "outputs": [
        {
          "output_type": "stream",
          "name": "stdout",
          "text": [
            "time: 9.66 ms (started: 2023-04-19 18:10:29 +00:00)\n"
          ]
        }
      ]
    },
    {
      "cell_type": "markdown",
      "source": [
        "**Step ##:** Create an array containing the movies the user watched."
      ],
      "metadata": {
        "id": "YuW_AlO9zGWG"
      }
    },
    {
      "cell_type": "code",
      "source": [
        "mask          = dataset['movieId'].isin(user['movieId'])\n",
        "usr_movies    = dataset[mask]\n",
        "movies_matrix = usr_movies.iloc[:, :-1].values # ignoro a última coluna, movieId."
      ],
      "metadata": {
        "colab": {
          "base_uri": "https://localhost:8080/"
        },
        "id": "2pVT6fUjzUYx",
        "outputId": "457b5b84-42ce-4438-b04a-c0df893ddebb"
      },
      "execution_count": null,
      "outputs": [
        {
          "output_type": "stream",
          "name": "stdout",
          "text": [
            "time: 6.76 ms (started: 2023-04-19 18:10:29 +00:00)\n"
          ]
        }
      ]
    },
    {
      "cell_type": "markdown",
      "source": [
        "**Step ##:** Multiply each movie score by the corresponding row in the movie matrix.\n",
        "![weighted_matrix.jpg](data:image/jpeg;base64,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)"
      ],
      "metadata": {
        "id": "mVMufUm31Qnk"
      }
    },
    {
      "cell_type": "code",
      "source": [
        "user_ratings    = user['rating'].values\n",
        "weighted_matrix = np.multiply(user_ratings.reshape(-1, 1), movies_matrix)"
      ],
      "metadata": {
        "colab": {
          "base_uri": "https://localhost:8080/"
        },
        "id": "8riGNVRE0WYX",
        "outputId": "69dae09d-8198-44ef-efb5-e78898168399"
      },
      "execution_count": null,
      "outputs": [
        {
          "output_type": "stream",
          "name": "stdout",
          "text": [
            "time: 1.16 ms (started: 2023-04-19 18:10:29 +00:00)\n"
          ]
        }
      ]
    },
    {
      "cell_type": "markdown",
      "source": [
        "**Step ##:** Add up the scores by gender. The result will be an array with the sum of the scores for each movie genre that the user watched.\n",
        "\n",
        "![summation_ratings.jpg](data:image/jpeg;base64,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)"
      ],
      "metadata": {
        "id": "YEYmtwOt4VOx"
      }
    },
    {
      "cell_type": "code",
      "source": [
        "user_profile = np.sum(weighted_matrix, axis=0)"
      ],
      "metadata": {
        "colab": {
          "base_uri": "https://localhost:8080/"
        },
        "id": "4LosX2iy5ChB",
        "outputId": "71845d6f-fecb-464f-ea07-90d4239d3f40"
      },
      "execution_count": null,
      "outputs": [
        {
          "output_type": "stream",
          "name": "stdout",
          "text": [
            "time: 1.33 ms (started: 2023-04-19 18:10:29 +00:00)\n"
          ]
        }
      ]
    },
    {
      "cell_type": "markdown",
      "source": [
        "**Step ##:** Normalize the array."
      ],
      "metadata": {
        "id": "Dyw4f58_5wYl"
      }
    },
    {
      "cell_type": "code",
      "source": [
        "total_ratings = np.sum(user_profile)\n",
        "user_profile  = user_profile / total_ratings"
      ],
      "metadata": {
        "colab": {
          "base_uri": "https://localhost:8080/"
        },
        "id": "Axhp6Cu652vl",
        "outputId": "5271d856-db1f-4b32-f2b8-cfabf78ee012"
      },
      "execution_count": null,
      "outputs": [
        {
          "output_type": "stream",
          "name": "stdout",
          "text": [
            "time: 625 µs (started: 2023-04-19 18:10:29 +00:00)\n"
          ]
        }
      ]
    },
    {
      "cell_type": "markdown",
      "source": [
        "**Step ##:** Select movies that have not been watched by the selected user."
      ],
      "metadata": {
        "id": "xPTP3ZfGWaMS"
      }
    },
    {
      "cell_type": "code",
      "source": [
        "mask = dataset['movieId'].isin(user['movieId'])\n",
        "unw_movies = dataset[~mask]\n",
        "unwatched_movies = unw_movies.iloc[:, :-1].values # ignoro a última coluna, movieId."
      ],
      "metadata": {
        "colab": {
          "base_uri": "https://localhost:8080/"
        },
        "id": "zii2NKIXXLx8",
        "outputId": "35e6ab26-4474-43ff-f0d7-fd0da9a9bcb1"
      },
      "execution_count": null,
      "outputs": [
        {
          "output_type": "stream",
          "name": "stdout",
          "text": [
            "time: 10.1 ms (started: 2023-04-19 18:10:29 +00:00)\n"
          ]
        }
      ]
    },
    {
      "cell_type": "markdown",
      "source": [
        "**Step ##:** Multiply the user profile array that contains the weighted average of each genre by the matrix of movies that the user has not watched. Furthermore, for each movie I will sum up all the scores. The result is the likely user rating for each movie.\n",
        "![recommendation_matrix.jpg](data:image/jpeg;base64,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)"
      ],
      "metadata": {
        "id": "TUiBPMOcfyul"
      }
    },
    {
      "cell_type": "code",
      "source": [
        "candidates_movies = np.matmul(user_profile, unwatched_movies.T)"
      ],
      "metadata": {
        "colab": {
          "base_uri": "https://localhost:8080/"
        },
        "id": "eoXXGYHXgNX5",
        "outputId": "421cfff6-ac45-48bf-b9c3-b261e4d07a49"
      },
      "execution_count": null,
      "outputs": [
        {
          "output_type": "stream",
          "name": "stdout",
          "text": [
            "time: 3.8 ms (started: 2023-04-19 18:10:29 +00:00)\n"
          ]
        }
      ]
    },
    {
      "cell_type": "markdown",
      "source": [
        "**Step ##:** Create a Pandas Series with movies not yet watched by the user and their estimated ratings, and sort it in descending order according to the ratings."
      ],
      "metadata": {
        "id": "H3E1FIVuhku8"
      }
    },
    {
      "cell_type": "code",
      "source": [
        "estimated_ratings = pd.Series(data=candidates_movies, index=unw_movies['movieId'])\n",
        "estimated_ratings = estimated_ratings.sort_values(ascending=False)"
      ],
      "metadata": {
        "colab": {
          "base_uri": "https://localhost:8080/"
        },
        "id": "Fz7_qO59iRnX",
        "outputId": "1b3b1c19-7603-4262-e807-218a806a8de1"
      },
      "execution_count": null,
      "outputs": [
        {
          "output_type": "stream",
          "name": "stdout",
          "text": [
            "time: 4.46 ms (started: 2023-04-19 18:10:29 +00:00)\n"
          ]
        }
      ]
    },
    {
      "cell_type": "markdown",
      "source": [
        "# Recommendation\n",
        "Now, simply select n movies with the best rating estimates to recommend to the user. These will be the movies closest to his taste."
      ],
      "metadata": {
        "id": "CIvpJ1Him2_y"
      }
    },
    {
      "cell_type": "code",
      "source": [
        "# select the 5 most recommended movies\n",
        "recommended_movies = estimated_ratings[:6]\n",
        "mask = movies['movieId'].isin(recommended_movies.index)\n",
        "movies[mask]['title']"
      ],
      "metadata": {
        "colab": {
          "base_uri": "https://localhost:8080/"
        },
        "id": "BTvPOM3FnHez",
        "outputId": "77d16f12-50cf-4f50-c8cc-ee59c505dcf6"
      },
      "execution_count": null,
      "outputs": [
        {
          "output_type": "execute_result",
          "data": {
            "text/plain": [
              "3460                     Osmosis Jones (2001)\n",
              "3608                    Stunt Man, The (1980)\n",
              "4631                     Interstate 60 (2002)\n",
              "5808      Seven-Per-Cent Solution, The (1976)\n",
              "7441                            Rubber (2010)\n",
              "8597    Dragonheart 2: A New Beginning (2000)\n",
              "Name: title, dtype: object"
            ]
          },
          "metadata": {},
          "execution_count": 29
        },
        {
          "output_type": "stream",
          "name": "stdout",
          "text": [
            "time: 6.65 ms (started: 2023-04-19 18:10:29 +00:00)\n"
          ]
        }
      ]
    }
  ]
}