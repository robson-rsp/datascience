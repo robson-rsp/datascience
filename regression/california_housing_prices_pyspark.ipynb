{
  "nbformat": 4,
  "nbformat_minor": 0,
  "metadata": {
    "colab": {
      "provenance": [],
      "authorship_tag": "ABX9TyOJiROWoq/G65tthka95HE2"
    },
    "kernelspec": {
      "name": "python3",
      "display_name": "Python 3"
    },
    "language_info": {
      "name": "python"
    }
  },
  "cells": [
    {
      "cell_type": "code",
      "execution_count": 77,
      "metadata": {
        "id": "xyfsd2bo5wVP",
        "colab": {
          "base_uri": "https://localhost:8080/"
        },
        "outputId": "d4207aca-e39d-4991-ccbf-43300656376c"
      },
      "outputs": [
        {
          "output_type": "stream",
          "name": "stdout",
          "text": [
            "Requirement already satisfied: ipython-autotime in /usr/local/lib/python3.10/dist-packages (0.3.1)\n",
            "Requirement already satisfied: ipython in /usr/local/lib/python3.10/dist-packages (from ipython-autotime) (7.34.0)\n",
            "Requirement already satisfied: setuptools>=18.5 in /usr/local/lib/python3.10/dist-packages (from ipython->ipython-autotime) (67.7.2)\n",
            "Requirement already satisfied: jedi>=0.16 in /usr/local/lib/python3.10/dist-packages (from ipython->ipython-autotime) (0.19.0)\n",
            "Requirement already satisfied: decorator in /usr/local/lib/python3.10/dist-packages (from ipython->ipython-autotime) (4.4.2)\n",
            "Requirement already satisfied: pickleshare in /usr/local/lib/python3.10/dist-packages (from ipython->ipython-autotime) (0.7.5)\n",
            "Requirement already satisfied: traitlets>=4.2 in /usr/local/lib/python3.10/dist-packages (from ipython->ipython-autotime) (5.7.1)\n",
            "Requirement already satisfied: prompt-toolkit!=3.0.0,!=3.0.1,<3.1.0,>=2.0.0 in /usr/local/lib/python3.10/dist-packages (from ipython->ipython-autotime) (3.0.39)\n",
            "Requirement already satisfied: pygments in /usr/local/lib/python3.10/dist-packages (from ipython->ipython-autotime) (2.16.1)\n",
            "Requirement already satisfied: backcall in /usr/local/lib/python3.10/dist-packages (from ipython->ipython-autotime) (0.2.0)\n",
            "Requirement already satisfied: matplotlib-inline in /usr/local/lib/python3.10/dist-packages (from ipython->ipython-autotime) (0.1.6)\n",
            "Requirement already satisfied: pexpect>4.3 in /usr/local/lib/python3.10/dist-packages (from ipython->ipython-autotime) (4.8.0)\n",
            "Requirement already satisfied: parso<0.9.0,>=0.8.3 in /usr/local/lib/python3.10/dist-packages (from jedi>=0.16->ipython->ipython-autotime) (0.8.3)\n",
            "Requirement already satisfied: ptyprocess>=0.5 in /usr/local/lib/python3.10/dist-packages (from pexpect>4.3->ipython->ipython-autotime) (0.7.0)\n",
            "Requirement already satisfied: wcwidth in /usr/local/lib/python3.10/dist-packages (from prompt-toolkit!=3.0.0,!=3.0.1,<3.1.0,>=2.0.0->ipython->ipython-autotime) (0.2.6)\n",
            "Requirement already satisfied: pyspark in /usr/local/lib/python3.10/dist-packages (3.4.1)\n",
            "Requirement already satisfied: py4j==0.10.9.7 in /usr/local/lib/python3.10/dist-packages (from pyspark) (0.10.9.7)\n",
            "time: 11.6 s (started: 2023-09-14 20:27:48 +00:00)\n"
          ]
        }
      ],
      "source": [
        "%pip install ipython-autotime\n",
        "%pip install pyspark"
      ]
    },
    {
      "cell_type": "code",
      "source": [
        "%%script echo 'ignore cell'\n",
        "import os\n",
        "import sys\n",
        "\n",
        "# resolver problema de versão python x pyspark workers\n",
        "os.environ['PYSPARK_PYTHON'] = sys.executable\n",
        "os.environ['PYSPARK_DRIVER_PYTHON'] = sys.executable"
      ],
      "metadata": {
        "colab": {
          "base_uri": "https://localhost:8080/"
        },
        "id": "Tw7wn82BksRS",
        "outputId": "eb276bc3-02f6-4520-d97b-b39208009744"
      },
      "execution_count": 78,
      "outputs": [
        {
          "output_type": "stream",
          "name": "stdout",
          "text": [
            "ignore cell\n",
            "time: 6.56 ms (started: 2023-09-14 20:28:00 +00:00)\n"
          ]
        }
      ]
    },
    {
      "cell_type": "code",
      "source": [
        "from google.colab          import drive, files\n",
        "from pyspark.sql           import SparkSession\n",
        "from pyspark.sql.functions import *\n",
        "from pyspark.sql.types     import *\n",
        "\n",
        "%load_ext autotime"
      ],
      "metadata": {
        "id": "LO_fhEZL8qXK",
        "colab": {
          "base_uri": "https://localhost:8080/"
        },
        "outputId": "52b8a1d6-648c-454f-f7b4-3ed6354dd39b"
      },
      "execution_count": 79,
      "outputs": [
        {
          "output_type": "stream",
          "name": "stdout",
          "text": [
            "The autotime extension is already loaded. To reload it, use:\n",
            "  %reload_ext autotime\n",
            "time: 3.39 ms (started: 2023-09-14 20:28:00 +00:00)\n"
          ]
        }
      ]
    },
    {
      "cell_type": "code",
      "source": [
        "drive.mount('/content/drive', force_remount=True)\n",
        "spark = SparkSession.builder.master('local').appName('pyspark_app').getOrCreate()\n",
        "spark"
      ],
      "metadata": {
        "colab": {
          "base_uri": "https://localhost:8080/",
          "height": 254
        },
        "id": "Yk5ZIoBYiDu2",
        "outputId": "93b7c1e1-f053-4dcd-88cb-37c05ee1d4a6"
      },
      "execution_count": 80,
      "outputs": [
        {
          "output_type": "stream",
          "name": "stdout",
          "text": [
            "Mounted at /content/drive\n"
          ]
        },
        {
          "output_type": "execute_result",
          "data": {
            "text/plain": [
              "<pyspark.sql.session.SparkSession at 0x7878a1b71b40>"
            ],
            "text/html": [
              "\n",
              "            <div>\n",
              "                <p><b>SparkSession - in-memory</b></p>\n",
              "                \n",
              "        <div>\n",
              "            <p><b>SparkContext</b></p>\n",
              "\n",
              "            <p><a href=\"http://cbc316a256a7:4040\">Spark UI</a></p>\n",
              "\n",
              "            <dl>\n",
              "              <dt>Version</dt>\n",
              "                <dd><code>v3.4.1</code></dd>\n",
              "              <dt>Master</dt>\n",
              "                <dd><code>local</code></dd>\n",
              "              <dt>AppName</dt>\n",
              "                <dd><code>pyspark_app</code></dd>\n",
              "            </dl>\n",
              "        </div>\n",
              "        \n",
              "            </div>\n",
              "        "
            ]
          },
          "metadata": {},
          "execution_count": 80
        },
        {
          "output_type": "stream",
          "name": "stdout",
          "text": [
            "time: 3.83 s (started: 2023-09-14 20:28:00 +00:00)\n"
          ]
        }
      ]
    },
    {
      "cell_type": "code",
      "source": [
        "df = spark.read.csv(\"/content/drive/MyDrive/datasets/housing/housing.csv\", header=True, inferSchema=True, encoding='utf-8')\n",
        "print(type(df))\n",
        "print(f'rows: {df.count()}')\n",
        "print(f'cols: {len(df.columns)}')\n",
        "df.show(5)"
      ],
      "metadata": {
        "colab": {
          "base_uri": "https://localhost:8080/"
        },
        "id": "nF-O2mzVmGVX",
        "outputId": "a0f8b8ed-d50e-46f0-ab5d-a699132f9ef3"
      },
      "execution_count": 81,
      "outputs": [
        {
          "output_type": "stream",
          "name": "stdout",
          "text": [
            "<class 'pyspark.sql.dataframe.DataFrame'>\n",
            "rows: 20640\n",
            "cols: 10\n",
            "+---------+--------+------------------+-----------+--------------+----------+----------+-------------+------------------+---------------+\n",
            "|longitude|latitude|housing_median_age|total_rooms|total_bedrooms|population|households|median_income|median_house_value|ocean_proximity|\n",
            "+---------+--------+------------------+-----------+--------------+----------+----------+-------------+------------------+---------------+\n",
            "|  -122.23|   37.88|              41.0|      880.0|         129.0|     322.0|     126.0|       8.3252|          452600.0|       NEAR BAY|\n",
            "|  -122.22|   37.86|              21.0|     7099.0|        1106.0|    2401.0|    1138.0|       8.3014|          358500.0|       NEAR BAY|\n",
            "|  -122.24|   37.85|              52.0|     1467.0|         190.0|     496.0|     177.0|       7.2574|          352100.0|       NEAR BAY|\n",
            "|  -122.25|   37.85|              52.0|     1274.0|         235.0|     558.0|     219.0|       5.6431|          341300.0|       NEAR BAY|\n",
            "|  -122.25|   37.85|              52.0|     1627.0|         280.0|     565.0|     259.0|       3.8462|          342200.0|       NEAR BAY|\n",
            "+---------+--------+------------------+-----------+--------------+----------+----------+-------------+------------------+---------------+\n",
            "only showing top 5 rows\n",
            "\n",
            "time: 1.08 s (started: 2023-09-14 20:28:04 +00:00)\n"
          ]
        }
      ]
    },
    {
      "cell_type": "code",
      "source": [
        "print(df.columns)"
      ],
      "metadata": {
        "colab": {
          "base_uri": "https://localhost:8080/"
        },
        "id": "CCZm02HJsVL5",
        "outputId": "733e7a16-6f6e-46c4-cf0c-5da40a75df55"
      },
      "execution_count": 82,
      "outputs": [
        {
          "output_type": "stream",
          "name": "stdout",
          "text": [
            "['longitude', 'latitude', 'housing_median_age', 'total_rooms', 'total_bedrooms', 'population', 'households', 'median_income', 'median_house_value', 'ocean_proximity']\n",
            "time: 764 µs (started: 2023-09-14 20:28:05 +00:00)\n"
          ]
        }
      ]
    },
    {
      "cell_type": "code",
      "source": [
        "df.printSchema()"
      ],
      "metadata": {
        "colab": {
          "base_uri": "https://localhost:8080/"
        },
        "id": "Tho1zkZth2MN",
        "outputId": "3eadbfee-c8d2-48e7-c999-4982f022dc03"
      },
      "execution_count": 83,
      "outputs": [
        {
          "output_type": "stream",
          "name": "stdout",
          "text": [
            "root\n",
            " |-- longitude: double (nullable = true)\n",
            " |-- latitude: double (nullable = true)\n",
            " |-- housing_median_age: double (nullable = true)\n",
            " |-- total_rooms: double (nullable = true)\n",
            " |-- total_bedrooms: double (nullable = true)\n",
            " |-- population: double (nullable = true)\n",
            " |-- households: double (nullable = true)\n",
            " |-- median_income: double (nullable = true)\n",
            " |-- median_house_value: double (nullable = true)\n",
            " |-- ocean_proximity: string (nullable = true)\n",
            "\n",
            "time: 6.59 ms (started: 2023-09-14 20:28:05 +00:00)\n"
          ]
        }
      ]
    },
    {
      "cell_type": "markdown",
      "source": [
        "Verificação de valores NaN."
      ],
      "metadata": {
        "id": "PiY9YFQcuj9D"
      }
    },
    {
      "cell_type": "code",
      "source": [
        "for column in df.columns:\n",
        "  mask = df['longitude'].isNull()\n",
        "  nan_amount = df.filter(mask).count()\n",
        "  print(f'{column}: {nan_amount}')"
      ],
      "metadata": {
        "colab": {
          "base_uri": "https://localhost:8080/"
        },
        "id": "YCL_rGlqr825",
        "outputId": "b80f884e-e232-49dd-e3cb-e696f6d770f5"
      },
      "execution_count": 84,
      "outputs": [
        {
          "output_type": "stream",
          "name": "stdout",
          "text": [
            "longitude: 0\n",
            "latitude: 0\n",
            "housing_median_age: 0\n",
            "total_rooms: 0\n",
            "total_bedrooms: 0\n",
            "population: 0\n",
            "households: 0\n",
            "median_income: 0\n",
            "median_house_value: 0\n",
            "ocean_proximity: 0\n",
            "time: 4.81 s (started: 2023-09-14 20:28:05 +00:00)\n"
          ]
        }
      ]
    },
    {
      "cell_type": "markdown",
      "source": [
        "Renomeação das colunas transformando tudo em letras maiúsculas."
      ],
      "metadata": {
        "id": "UTA4QbYtunoX"
      }
    },
    {
      "cell_type": "code",
      "source": [
        "upper = [column.upper() for column in df.columns]\n",
        "for column, up in zip(df.columns, upper):\n",
        "  df = df.withColumnRenamed(column, up)\n",
        "print(df.columns)"
      ],
      "metadata": {
        "colab": {
          "base_uri": "https://localhost:8080/"
        },
        "id": "FB73DskfupN2",
        "outputId": "bb407d0f-a07b-4773-f1d8-f6d78554d63e"
      },
      "execution_count": 85,
      "outputs": [
        {
          "output_type": "stream",
          "name": "stdout",
          "text": [
            "['LONGITUDE', 'LATITUDE', 'HOUSING_MEDIAN_AGE', 'TOTAL_ROOMS', 'TOTAL_BEDROOMS', 'POPULATION', 'HOUSEHOLDS', 'MEDIAN_INCOME', 'MEDIAN_HOUSE_VALUE', 'OCEAN_PROXIMITY']\n",
            "time: 60.6 ms (started: 2023-09-14 20:28:10 +00:00)\n"
          ]
        }
      ]
    },
    {
      "cell_type": "markdown",
      "source": [
        "Renomeação das colunas transformando tudo em letras minúsculas."
      ],
      "metadata": {
        "id": "dpT_yQZRxufp"
      }
    },
    {
      "cell_type": "code",
      "source": [
        "lower = [column.lower() for column in df.columns]\n",
        "for column, low in zip(df.columns, lower):\n",
        "  df = df.withColumnRenamed(column, low)\n",
        "print(df.columns)"
      ],
      "metadata": {
        "colab": {
          "base_uri": "https://localhost:8080/"
        },
        "id": "xHYk3Z5zxBeE",
        "outputId": "5cbd9442-6486-4dff-901e-5c8b95d4a213"
      },
      "execution_count": 86,
      "outputs": [
        {
          "output_type": "stream",
          "name": "stdout",
          "text": [
            "['longitude', 'latitude', 'housing_median_age', 'total_rooms', 'total_bedrooms', 'population', 'households', 'median_income', 'median_house_value', 'ocean_proximity']\n",
            "time: 71.4 ms (started: 2023-09-14 20:28:10 +00:00)\n"
          ]
        }
      ]
    },
    {
      "cell_type": "markdown",
      "source": [
        "Selecionando colunas."
      ],
      "metadata": {
        "id": "1W91ziDzymS7"
      }
    },
    {
      "cell_type": "code",
      "source": [
        "print(type(df.select(['longitude', 'latitude', 'households'])))\n",
        "df.select(['longitude', 'latitude', 'households']).show(5)"
      ],
      "metadata": {
        "colab": {
          "base_uri": "https://localhost:8080/"
        },
        "id": "I4M9QyqyxWWu",
        "outputId": "26fe0eda-514b-4077-ac6a-9fe311334127"
      },
      "execution_count": 87,
      "outputs": [
        {
          "output_type": "stream",
          "name": "stdout",
          "text": [
            "<class 'pyspark.sql.dataframe.DataFrame'>\n",
            "+---------+--------+----------+\n",
            "|longitude|latitude|households|\n",
            "+---------+--------+----------+\n",
            "|  -122.23|   37.88|     126.0|\n",
            "|  -122.22|   37.86|    1138.0|\n",
            "|  -122.24|   37.85|     177.0|\n",
            "|  -122.25|   37.85|     219.0|\n",
            "|  -122.25|   37.85|     259.0|\n",
            "+---------+--------+----------+\n",
            "only showing top 5 rows\n",
            "\n",
            "time: 137 ms (started: 2023-09-14 20:28:10 +00:00)\n"
          ]
        }
      ]
    },
    {
      "cell_type": "markdown",
      "source": [
        "Selecionando colunas. Forma alternativa utilizando a função col() que retorna um objeto da classe Column."
      ],
      "metadata": {
        "id": "K0TmUCh3I_XI"
      }
    },
    {
      "cell_type": "code",
      "source": [
        "print(type(df.select([col('latitude'), col('longitude'), col('households')])))\n",
        "df.select([col('latitude'), col('longitude'), col('households')]).show(5)"
      ],
      "metadata": {
        "colab": {
          "base_uri": "https://localhost:8080/"
        },
        "id": "HKWtaCa5HLRI",
        "outputId": "f72de694-542f-46c7-9fb2-2ee5a8c6ca28"
      },
      "execution_count": 88,
      "outputs": [
        {
          "output_type": "stream",
          "name": "stdout",
          "text": [
            "<class 'pyspark.sql.dataframe.DataFrame'>\n",
            "+--------+---------+----------+\n",
            "|latitude|longitude|households|\n",
            "+--------+---------+----------+\n",
            "|   37.88|  -122.23|     126.0|\n",
            "|   37.86|  -122.22|    1138.0|\n",
            "|   37.85|  -122.24|     177.0|\n",
            "|   37.85|  -122.25|     219.0|\n",
            "|   37.85|  -122.25|     259.0|\n",
            "+--------+---------+----------+\n",
            "only showing top 5 rows\n",
            "\n",
            "time: 144 ms (started: 2023-09-14 20:28:10 +00:00)\n"
          ]
        }
      ]
    },
    {
      "cell_type": "markdown",
      "source": [
        "Atribuindo alias para cada coluna selecionada. Só é possível atribuir alias à colunas através da função col() que retorna um objeto Column.\n"
      ],
      "metadata": {
        "id": "MV5169vkJuIZ"
      }
    },
    {
      "cell_type": "code",
      "source": [
        "lat = col('latitude').alias('lat')\n",
        "lon = col('longitude').alias('lon')\n",
        "\n",
        "print(lat)\n",
        "df.select([lat, lon]).show(5)"
      ],
      "metadata": {
        "colab": {
          "base_uri": "https://localhost:8080/"
        },
        "id": "bzWH6uZHJzXj",
        "outputId": "c3c11bab-1610-4944-91f3-69beda20cc35"
      },
      "execution_count": 89,
      "outputs": [
        {
          "output_type": "stream",
          "name": "stdout",
          "text": [
            "Column<'latitude AS lat'>\n",
            "+-----+-------+\n",
            "|  lat|    lon|\n",
            "+-----+-------+\n",
            "|37.88|-122.23|\n",
            "|37.86|-122.22|\n",
            "|37.85|-122.24|\n",
            "|37.85|-122.25|\n",
            "|37.85|-122.25|\n",
            "+-----+-------+\n",
            "only showing top 5 rows\n",
            "\n",
            "time: 196 ms (started: 2023-09-14 20:28:10 +00:00)\n"
          ]
        }
      ]
    },
    {
      "cell_type": "markdown",
      "source": [
        "Aplicação de filtros."
      ],
      "metadata": {
        "id": "A4p4c6XcLN9K"
      }
    },
    {
      "cell_type": "code",
      "source": [
        "mask = df['ocean_proximity'] == 'NEAR BAY'\n",
        "print(mask)\n",
        "df.where(mask).show(5)"
      ],
      "metadata": {
        "colab": {
          "base_uri": "https://localhost:8080/"
        },
        "id": "LyAFX1YxkdP7",
        "outputId": "0c4e0395-e6ce-449f-de12-aeed53a5169d"
      },
      "execution_count": 109,
      "outputs": [
        {
          "output_type": "stream",
          "name": "stdout",
          "text": [
            "Column<'(ocean_proximity = NEAR BAY)'>\n",
            "+---------+--------+------------------+-----------+--------------+----------+----------+-------------+------------------+---------------+\n",
            "|longitude|latitude|housing_median_age|total_rooms|total_bedrooms|population|households|median_income|median_house_value|ocean_proximity|\n",
            "+---------+--------+------------------+-----------+--------------+----------+----------+-------------+------------------+---------------+\n",
            "|  -122.23|   37.88|              41.0|      880.0|         129.0|     322.0|     126.0|       8.3252|          452600.0|       NEAR BAY|\n",
            "|  -122.22|   37.86|              21.0|     7099.0|        1106.0|    2401.0|    1138.0|       8.3014|          358500.0|       NEAR BAY|\n",
            "|  -122.24|   37.85|              52.0|     1467.0|         190.0|     496.0|     177.0|       7.2574|          352100.0|       NEAR BAY|\n",
            "|  -122.25|   37.85|              52.0|     1274.0|         235.0|     558.0|     219.0|       5.6431|          341300.0|       NEAR BAY|\n",
            "|  -122.25|   37.85|              52.0|     1627.0|         280.0|     565.0|     259.0|       3.8462|          342200.0|       NEAR BAY|\n",
            "+---------+--------+------------------+-----------+--------------+----------+----------+-------------+------------------+---------------+\n",
            "only showing top 5 rows\n",
            "\n",
            "time: 177 ms (started: 2023-09-14 20:32:30 +00:00)\n"
          ]
        }
      ]
    },
    {
      "cell_type": "code",
      "source": [
        "mask = (col('ocean_proximity') == 'NEAR BAY')\n",
        "print(mask)\n",
        "df.filter(mask).show(5)"
      ],
      "metadata": {
        "colab": {
          "base_uri": "https://localhost:8080/"
        },
        "id": "0P80rCGyLRBl",
        "outputId": "37f1e591-03fa-4fa8-e62c-100a624778f0"
      },
      "execution_count": 91,
      "outputs": [
        {
          "output_type": "stream",
          "name": "stdout",
          "text": [
            "Column<'(ocean_proximity = NEAR BAY)'>\n",
            "+---------+--------+------------------+-----------+--------------+----------+----------+-------------+------------------+---------------+\n",
            "|longitude|latitude|housing_median_age|total_rooms|total_bedrooms|population|households|median_income|median_house_value|ocean_proximity|\n",
            "+---------+--------+------------------+-----------+--------------+----------+----------+-------------+------------------+---------------+\n",
            "|  -122.23|   37.88|              41.0|      880.0|         129.0|     322.0|     126.0|       8.3252|          452600.0|       NEAR BAY|\n",
            "|  -122.22|   37.86|              21.0|     7099.0|        1106.0|    2401.0|    1138.0|       8.3014|          358500.0|       NEAR BAY|\n",
            "|  -122.24|   37.85|              52.0|     1467.0|         190.0|     496.0|     177.0|       7.2574|          352100.0|       NEAR BAY|\n",
            "|  -122.25|   37.85|              52.0|     1274.0|         235.0|     558.0|     219.0|       5.6431|          341300.0|       NEAR BAY|\n",
            "|  -122.25|   37.85|              52.0|     1627.0|         280.0|     565.0|     259.0|       3.8462|          342200.0|       NEAR BAY|\n",
            "+---------+--------+------------------+-----------+--------------+----------+----------+-------------+------------------+---------------+\n",
            "only showing top 5 rows\n",
            "\n",
            "time: 126 ms (started: 2023-09-14 20:28:10 +00:00)\n"
          ]
        }
      ]
    },
    {
      "cell_type": "markdown",
      "source": [
        "Filtros compostos."
      ],
      "metadata": {
        "id": "wIyy6fUAMzky"
      }
    },
    {
      "cell_type": "code",
      "source": [
        "mask = (col('ocean_proximity') == 'NEAR BAY') & (col('median_income') < 5.0)\n",
        "print(mask)\n",
        "df.where(mask).show(5)"
      ],
      "metadata": {
        "colab": {
          "base_uri": "https://localhost:8080/"
        },
        "id": "2yLsRCoBkvVW",
        "outputId": "7e4e5a97-8377-4fc5-b18c-f1622a57e6f4"
      },
      "execution_count": 92,
      "outputs": [
        {
          "output_type": "stream",
          "name": "stdout",
          "text": [
            "Column<'((ocean_proximity = NEAR BAY) AND (median_income < 5.0))'>\n",
            "+---------+--------+------------------+-----------+--------------+----------+----------+-------------+------------------+---------------+\n",
            "|longitude|latitude|housing_median_age|total_rooms|total_bedrooms|population|households|median_income|median_house_value|ocean_proximity|\n",
            "+---------+--------+------------------+-----------+--------------+----------+----------+-------------+------------------+---------------+\n",
            "|  -122.25|   37.85|              52.0|     1627.0|         280.0|     565.0|     259.0|       3.8462|          342200.0|       NEAR BAY|\n",
            "|  -122.25|   37.85|              52.0|      919.0|         213.0|     413.0|     193.0|       4.0368|          269700.0|       NEAR BAY|\n",
            "|  -122.25|   37.84|              52.0|     2535.0|         489.0|    1094.0|     514.0|       3.6591|          299200.0|       NEAR BAY|\n",
            "|  -122.25|   37.84|              52.0|     3104.0|         687.0|    1157.0|     647.0|         3.12|          241400.0|       NEAR BAY|\n",
            "|  -122.26|   37.84|              42.0|     2555.0|         665.0|    1206.0|     595.0|       2.0804|          226700.0|       NEAR BAY|\n",
            "+---------+--------+------------------+-----------+--------------+----------+----------+-------------+------------------+---------------+\n",
            "only showing top 5 rows\n",
            "\n",
            "time: 147 ms (started: 2023-09-14 20:28:11 +00:00)\n"
          ]
        }
      ]
    },
    {
      "cell_type": "code",
      "source": [
        "mask = (df['ocean_proximity'] == 'NEAR BAY') & (df['median_income'] < 5.0)\n",
        "print(mask)\n",
        "df.filter(mask).show(5)"
      ],
      "metadata": {
        "colab": {
          "base_uri": "https://localhost:8080/"
        },
        "id": "pAB5kU73M1oo",
        "outputId": "d838ad0d-82c5-46b4-e8ac-89914718d003"
      },
      "execution_count": 112,
      "outputs": [
        {
          "output_type": "stream",
          "name": "stdout",
          "text": [
            "Column<'((ocean_proximity = NEAR BAY) AND (median_income < 5.0))'>\n",
            "+---------+--------+------------------+-----------+--------------+----------+----------+-------------+------------------+---------------+\n",
            "|longitude|latitude|housing_median_age|total_rooms|total_bedrooms|population|households|median_income|median_house_value|ocean_proximity|\n",
            "+---------+--------+------------------+-----------+--------------+----------+----------+-------------+------------------+---------------+\n",
            "|  -122.25|   37.85|              52.0|     1627.0|         280.0|     565.0|     259.0|       3.8462|          342200.0|       NEAR BAY|\n",
            "|  -122.25|   37.85|              52.0|      919.0|         213.0|     413.0|     193.0|       4.0368|          269700.0|       NEAR BAY|\n",
            "|  -122.25|   37.84|              52.0|     2535.0|         489.0|    1094.0|     514.0|       3.6591|          299200.0|       NEAR BAY|\n",
            "|  -122.25|   37.84|              52.0|     3104.0|         687.0|    1157.0|     647.0|         3.12|          241400.0|       NEAR BAY|\n",
            "|  -122.26|   37.84|              42.0|     2555.0|         665.0|    1206.0|     595.0|       2.0804|          226700.0|       NEAR BAY|\n",
            "+---------+--------+------------------+-----------+--------------+----------+----------+-------------+------------------+---------------+\n",
            "only showing top 5 rows\n",
            "\n",
            "time: 143 ms (started: 2023-09-14 20:33:55 +00:00)\n"
          ]
        }
      ]
    },
    {
      "cell_type": "markdown",
      "source": [
        "Criar novas colunas."
      ],
      "metadata": {
        "id": "yvMq5JFlQqVC"
      }
    },
    {
      "cell_type": "code",
      "source": [
        "# atribuo um valor literal(True) à nova coluna chamada 'new_col'. A função lit() retorna um objeto Column.\n",
        "df.withColumn('new_col', lit(True)).show(5)"
      ],
      "metadata": {
        "colab": {
          "base_uri": "https://localhost:8080/"
        },
        "id": "5Qi7KZObQsPN",
        "outputId": "224fe38b-447c-45b2-dfaf-ee4a8a31db8e"
      },
      "execution_count": 94,
      "outputs": [
        {
          "output_type": "stream",
          "name": "stdout",
          "text": [
            "+---------+--------+------------------+-----------+--------------+----------+----------+-------------+------------------+---------------+-------+\n",
            "|longitude|latitude|housing_median_age|total_rooms|total_bedrooms|population|households|median_income|median_house_value|ocean_proximity|new_col|\n",
            "+---------+--------+------------------+-----------+--------------+----------+----------+-------------+------------------+---------------+-------+\n",
            "|  -122.23|   37.88|              41.0|      880.0|         129.0|     322.0|     126.0|       8.3252|          452600.0|       NEAR BAY|   true|\n",
            "|  -122.22|   37.86|              21.0|     7099.0|        1106.0|    2401.0|    1138.0|       8.3014|          358500.0|       NEAR BAY|   true|\n",
            "|  -122.24|   37.85|              52.0|     1467.0|         190.0|     496.0|     177.0|       7.2574|          352100.0|       NEAR BAY|   true|\n",
            "|  -122.25|   37.85|              52.0|     1274.0|         235.0|     558.0|     219.0|       5.6431|          341300.0|       NEAR BAY|   true|\n",
            "|  -122.25|   37.85|              52.0|     1627.0|         280.0|     565.0|     259.0|       3.8462|          342200.0|       NEAR BAY|   true|\n",
            "+---------+--------+------------------+-----------+--------------+----------+----------+-------------+------------------+---------------+-------+\n",
            "only showing top 5 rows\n",
            "\n",
            "time: 121 ms (started: 2023-09-14 20:28:11 +00:00)\n"
          ]
        }
      ]
    },
    {
      "cell_type": "code",
      "source": [
        "result = df['total_bedrooms'] / df['total_rooms']\n",
        "print(type(result))\n",
        "df.withColumn('new_col', result).show(5)"
      ],
      "metadata": {
        "colab": {
          "base_uri": "https://localhost:8080/"
        },
        "id": "Qo4tlcTVRblw",
        "outputId": "321d17c5-51f5-43e4-ea0b-8fc09ca10f3e"
      },
      "execution_count": 118,
      "outputs": [
        {
          "output_type": "stream",
          "name": "stdout",
          "text": [
            "<class 'pyspark.sql.column.Column'>\n",
            "+---------+--------+------------------+-----------+--------------+----------+----------+-------------+------------------+---------------+-------------------+\n",
            "|longitude|latitude|housing_median_age|total_rooms|total_bedrooms|population|households|median_income|median_house_value|ocean_proximity|            new_col|\n",
            "+---------+--------+------------------+-----------+--------------+----------+----------+-------------+------------------+---------------+-------------------+\n",
            "|  -122.23|   37.88|              41.0|      880.0|         129.0|     322.0|     126.0|       8.3252|          452600.0|       NEAR BAY|0.14659090909090908|\n",
            "|  -122.22|   37.86|              21.0|     7099.0|        1106.0|    2401.0|    1138.0|       8.3014|          358500.0|       NEAR BAY|0.15579659106916466|\n",
            "|  -122.24|   37.85|              52.0|     1467.0|         190.0|     496.0|     177.0|       7.2574|          352100.0|       NEAR BAY|0.12951601908657123|\n",
            "|  -122.25|   37.85|              52.0|     1274.0|         235.0|     558.0|     219.0|       5.6431|          341300.0|       NEAR BAY|0.18445839874411302|\n",
            "|  -122.25|   37.85|              52.0|     1627.0|         280.0|     565.0|     259.0|       3.8462|          342200.0|       NEAR BAY| 0.1720958819913952|\n",
            "+---------+--------+------------------+-----------+--------------+----------+----------+-------------+------------------+---------------+-------------------+\n",
            "only showing top 5 rows\n",
            "\n",
            "time: 159 ms (started: 2023-09-14 20:40:05 +00:00)\n"
          ]
        }
      ]
    },
    {
      "cell_type": "code",
      "source": [
        "# nova coluna usando a função substring()\n",
        "df.withColumn('new_col', substring('ocean_proximity', 1, 4)).show(5)"
      ],
      "metadata": {
        "colab": {
          "base_uri": "https://localhost:8080/"
        },
        "id": "WTWf5PseValt",
        "outputId": "5a8254de-1c7c-47f9-ce97-2cc638d065b9"
      },
      "execution_count": 96,
      "outputs": [
        {
          "output_type": "stream",
          "name": "stdout",
          "text": [
            "+---------+--------+------------------+-----------+--------------+----------+----------+-------------+------------------+---------------+-------+\n",
            "|longitude|latitude|housing_median_age|total_rooms|total_bedrooms|population|households|median_income|median_house_value|ocean_proximity|new_col|\n",
            "+---------+--------+------------------+-----------+--------------+----------+----------+-------------+------------------+---------------+-------+\n",
            "|  -122.23|   37.88|              41.0|      880.0|         129.0|     322.0|     126.0|       8.3252|          452600.0|       NEAR BAY|   NEAR|\n",
            "|  -122.22|   37.86|              21.0|     7099.0|        1106.0|    2401.0|    1138.0|       8.3014|          358500.0|       NEAR BAY|   NEAR|\n",
            "|  -122.24|   37.85|              52.0|     1467.0|         190.0|     496.0|     177.0|       7.2574|          352100.0|       NEAR BAY|   NEAR|\n",
            "|  -122.25|   37.85|              52.0|     1274.0|         235.0|     558.0|     219.0|       5.6431|          341300.0|       NEAR BAY|   NEAR|\n",
            "|  -122.25|   37.85|              52.0|     1627.0|         280.0|     565.0|     259.0|       3.8462|          342200.0|       NEAR BAY|   NEAR|\n",
            "+---------+--------+------------------+-----------+--------------+----------+----------+-------------+------------------+---------------+-------+\n",
            "only showing top 5 rows\n",
            "\n",
            "time: 162 ms (started: 2023-09-14 20:28:11 +00:00)\n"
          ]
        }
      ]
    },
    {
      "cell_type": "code",
      "source": [
        "# concatenando duas colunas para formar uma nova\n",
        "df.withColumn('new_col', concat(df['latitude'], df['longitude'])).show()"
      ],
      "metadata": {
        "colab": {
          "base_uri": "https://localhost:8080/"
        },
        "id": "sknwYbdmmVlj",
        "outputId": "59d18056-b602-40e3-f26d-6467299a8ba3"
      },
      "execution_count": 115,
      "outputs": [
        {
          "output_type": "stream",
          "name": "stdout",
          "text": [
            "+---------+--------+------------------+-----------+--------------+----------+----------+-------------+------------------+---------------+------------+\n",
            "|longitude|latitude|housing_median_age|total_rooms|total_bedrooms|population|households|median_income|median_house_value|ocean_proximity|     new_col|\n",
            "+---------+--------+------------------+-----------+--------------+----------+----------+-------------+------------------+---------------+------------+\n",
            "|  -122.23|   37.88|              41.0|      880.0|         129.0|     322.0|     126.0|       8.3252|          452600.0|       NEAR BAY|37.88-122.23|\n",
            "|  -122.22|   37.86|              21.0|     7099.0|        1106.0|    2401.0|    1138.0|       8.3014|          358500.0|       NEAR BAY|37.86-122.22|\n",
            "|  -122.24|   37.85|              52.0|     1467.0|         190.0|     496.0|     177.0|       7.2574|          352100.0|       NEAR BAY|37.85-122.24|\n",
            "|  -122.25|   37.85|              52.0|     1274.0|         235.0|     558.0|     219.0|       5.6431|          341300.0|       NEAR BAY|37.85-122.25|\n",
            "|  -122.25|   37.85|              52.0|     1627.0|         280.0|     565.0|     259.0|       3.8462|          342200.0|       NEAR BAY|37.85-122.25|\n",
            "|  -122.25|   37.85|              52.0|      919.0|         213.0|     413.0|     193.0|       4.0368|          269700.0|       NEAR BAY|37.85-122.25|\n",
            "|  -122.25|   37.84|              52.0|     2535.0|         489.0|    1094.0|     514.0|       3.6591|          299200.0|       NEAR BAY|37.84-122.25|\n",
            "|  -122.25|   37.84|              52.0|     3104.0|         687.0|    1157.0|     647.0|         3.12|          241400.0|       NEAR BAY|37.84-122.25|\n",
            "|  -122.26|   37.84|              42.0|     2555.0|         665.0|    1206.0|     595.0|       2.0804|          226700.0|       NEAR BAY|37.84-122.26|\n",
            "|  -122.25|   37.84|              52.0|     3549.0|         707.0|    1551.0|     714.0|       3.6912|          261100.0|       NEAR BAY|37.84-122.25|\n",
            "|  -122.26|   37.85|              52.0|     2202.0|         434.0|     910.0|     402.0|       3.2031|          281500.0|       NEAR BAY|37.85-122.26|\n",
            "|  -122.26|   37.85|              52.0|     3503.0|         752.0|    1504.0|     734.0|       3.2705|          241800.0|       NEAR BAY|37.85-122.26|\n",
            "|  -122.26|   37.85|              52.0|     2491.0|         474.0|    1098.0|     468.0|        3.075|          213500.0|       NEAR BAY|37.85-122.26|\n",
            "|  -122.26|   37.84|              52.0|      696.0|         191.0|     345.0|     174.0|       2.6736|          191300.0|       NEAR BAY|37.84-122.26|\n",
            "|  -122.26|   37.85|              52.0|     2643.0|         626.0|    1212.0|     620.0|       1.9167|          159200.0|       NEAR BAY|37.85-122.26|\n",
            "|  -122.26|   37.85|              50.0|     1120.0|         283.0|     697.0|     264.0|        2.125|          140000.0|       NEAR BAY|37.85-122.26|\n",
            "|  -122.27|   37.85|              52.0|     1966.0|         347.0|     793.0|     331.0|        2.775|          152500.0|       NEAR BAY|37.85-122.27|\n",
            "|  -122.27|   37.85|              52.0|     1228.0|         293.0|     648.0|     303.0|       2.1202|          155500.0|       NEAR BAY|37.85-122.27|\n",
            "|  -122.26|   37.84|              50.0|     2239.0|         455.0|     990.0|     419.0|       1.9911|          158700.0|       NEAR BAY|37.84-122.26|\n",
            "|  -122.27|   37.84|              52.0|     1503.0|         298.0|     690.0|     275.0|       2.6033|          162900.0|       NEAR BAY|37.84-122.27|\n",
            "+---------+--------+------------------+-----------+--------------+----------+----------+-------------+------------------+---------------+------------+\n",
            "only showing top 20 rows\n",
            "\n",
            "time: 321 ms (started: 2023-09-14 20:38:24 +00:00)\n"
          ]
        }
      ]
    },
    {
      "cell_type": "code",
      "source": [
        "# concatenando duas colunas para formar uma nova\n",
        "df.withColumn('new_col', concat_ws(' # ', df['latitude'], df['longitude'])).show()"
      ],
      "metadata": {
        "colab": {
          "base_uri": "https://localhost:8080/"
        },
        "id": "nHV3Ia0RmzkO",
        "outputId": "1676eb6c-f88b-4f86-f032-a4971fb04cef"
      },
      "execution_count": 119,
      "outputs": [
        {
          "output_type": "stream",
          "name": "stdout",
          "text": [
            "+---------+--------+------------------+-----------+--------------+----------+----------+-------------+------------------+---------------+---------------+\n",
            "|longitude|latitude|housing_median_age|total_rooms|total_bedrooms|population|households|median_income|median_house_value|ocean_proximity|        new_col|\n",
            "+---------+--------+------------------+-----------+--------------+----------+----------+-------------+------------------+---------------+---------------+\n",
            "|  -122.23|   37.88|              41.0|      880.0|         129.0|     322.0|     126.0|       8.3252|          452600.0|       NEAR BAY|37.88 # -122.23|\n",
            "|  -122.22|   37.86|              21.0|     7099.0|        1106.0|    2401.0|    1138.0|       8.3014|          358500.0|       NEAR BAY|37.86 # -122.22|\n",
            "|  -122.24|   37.85|              52.0|     1467.0|         190.0|     496.0|     177.0|       7.2574|          352100.0|       NEAR BAY|37.85 # -122.24|\n",
            "|  -122.25|   37.85|              52.0|     1274.0|         235.0|     558.0|     219.0|       5.6431|          341300.0|       NEAR BAY|37.85 # -122.25|\n",
            "|  -122.25|   37.85|              52.0|     1627.0|         280.0|     565.0|     259.0|       3.8462|          342200.0|       NEAR BAY|37.85 # -122.25|\n",
            "|  -122.25|   37.85|              52.0|      919.0|         213.0|     413.0|     193.0|       4.0368|          269700.0|       NEAR BAY|37.85 # -122.25|\n",
            "|  -122.25|   37.84|              52.0|     2535.0|         489.0|    1094.0|     514.0|       3.6591|          299200.0|       NEAR BAY|37.84 # -122.25|\n",
            "|  -122.25|   37.84|              52.0|     3104.0|         687.0|    1157.0|     647.0|         3.12|          241400.0|       NEAR BAY|37.84 # -122.25|\n",
            "|  -122.26|   37.84|              42.0|     2555.0|         665.0|    1206.0|     595.0|       2.0804|          226700.0|       NEAR BAY|37.84 # -122.26|\n",
            "|  -122.25|   37.84|              52.0|     3549.0|         707.0|    1551.0|     714.0|       3.6912|          261100.0|       NEAR BAY|37.84 # -122.25|\n",
            "|  -122.26|   37.85|              52.0|     2202.0|         434.0|     910.0|     402.0|       3.2031|          281500.0|       NEAR BAY|37.85 # -122.26|\n",
            "|  -122.26|   37.85|              52.0|     3503.0|         752.0|    1504.0|     734.0|       3.2705|          241800.0|       NEAR BAY|37.85 # -122.26|\n",
            "|  -122.26|   37.85|              52.0|     2491.0|         474.0|    1098.0|     468.0|        3.075|          213500.0|       NEAR BAY|37.85 # -122.26|\n",
            "|  -122.26|   37.84|              52.0|      696.0|         191.0|     345.0|     174.0|       2.6736|          191300.0|       NEAR BAY|37.84 # -122.26|\n",
            "|  -122.26|   37.85|              52.0|     2643.0|         626.0|    1212.0|     620.0|       1.9167|          159200.0|       NEAR BAY|37.85 # -122.26|\n",
            "|  -122.26|   37.85|              50.0|     1120.0|         283.0|     697.0|     264.0|        2.125|          140000.0|       NEAR BAY|37.85 # -122.26|\n",
            "|  -122.27|   37.85|              52.0|     1966.0|         347.0|     793.0|     331.0|        2.775|          152500.0|       NEAR BAY|37.85 # -122.27|\n",
            "|  -122.27|   37.85|              52.0|     1228.0|         293.0|     648.0|     303.0|       2.1202|          155500.0|       NEAR BAY|37.85 # -122.27|\n",
            "|  -122.26|   37.84|              50.0|     2239.0|         455.0|     990.0|     419.0|       1.9911|          158700.0|       NEAR BAY|37.84 # -122.26|\n",
            "|  -122.27|   37.84|              52.0|     1503.0|         298.0|     690.0|     275.0|       2.6033|          162900.0|       NEAR BAY|37.84 # -122.27|\n",
            "+---------+--------+------------------+-----------+--------------+----------+----------+-------------+------------------+---------------+---------------+\n",
            "only showing top 20 rows\n",
            "\n",
            "time: 140 ms (started: 2023-09-14 20:41:45 +00:00)\n"
          ]
        }
      ]
    },
    {
      "cell_type": "markdown",
      "source": [
        "Datas: Vou usar outro dataset que contenha datas em formato string para fazer a conversão de string para o formato DateType."
      ],
      "metadata": {
        "id": "li8tXPMCo972"
      }
    },
    {
      "cell_type": "code",
      "source": [
        "df_ = spark.read.csv(\"/content/drive/MyDrive/datasets/wc2018-players.csv\", header=True, inferSchema=True, encoding='utf-8')\n",
        "print(type(df_))\n",
        "print(f'rows: {df_.count()}')\n",
        "print(f'cols: {len(df_.columns)}')\n",
        "df_.show(5)"
      ],
      "metadata": {
        "colab": {
          "base_uri": "https://localhost:8080/"
        },
        "id": "uR8OBC6GpGFF",
        "outputId": "2967aedc-7118-4fab-ba22-e643a37c1072"
      },
      "execution_count": 99,
      "outputs": [
        {
          "output_type": "stream",
          "name": "stdout",
          "text": [
            "<class 'pyspark.sql.dataframe.DataFrame'>\n",
            "rows: 736\n",
            "cols: 9\n",
            "+---------+---+----+------------------+----------+----------+--------------------+------+------+\n",
            "|     Team|  #|Pos.| FIFA Popular Name|Birth Date|Shirt Name|                Club|Height|Weight|\n",
            "+---------+---+----+------------------+----------+----------+--------------------+------+------+\n",
            "|Argentina|  3|  DF|TAGLIAFICO Nicolas|31.08.1992|TAGLIAFICO|      AFC Ajax (NED)|   169|    65|\n",
            "|Argentina| 22|  MF|    PAVON Cristian|21.01.1996|     PAVÓN|CA Boca Juniors (...|   169|    65|\n",
            "|Argentina| 15|  MF|    LANZINI Manuel|15.02.1993|   LANZINI|West Ham United F...|   167|    66|\n",
            "|Argentina| 18|  DF|    SALVIO Eduardo|13.07.1990|    SALVIO|    SL Benfica (POR)|   167|    69|\n",
            "|Argentina| 10|  FW|      MESSI Lionel|24.06.1987|     MESSI|  FC Barcelona (ESP)|   170|    72|\n",
            "+---------+---+----+------------------+----------+----------+--------------------+------+------+\n",
            "only showing top 5 rows\n",
            "\n",
            "time: 1.03 s (started: 2023-09-14 20:28:12 +00:00)\n"
          ]
        }
      ]
    },
    {
      "cell_type": "code",
      "source": [
        "df_.printSchema()"
      ],
      "metadata": {
        "colab": {
          "base_uri": "https://localhost:8080/"
        },
        "id": "9lzNdh4xpYUq",
        "outputId": "e5f58174-1709-46a6-80a0-65b207598b80"
      },
      "execution_count": 100,
      "outputs": [
        {
          "output_type": "stream",
          "name": "stdout",
          "text": [
            "root\n",
            " |-- Team: string (nullable = true)\n",
            " |-- #: integer (nullable = true)\n",
            " |-- Pos.: string (nullable = true)\n",
            " |-- FIFA Popular Name: string (nullable = true)\n",
            " |-- Birth Date: string (nullable = true)\n",
            " |-- Shirt Name: string (nullable = true)\n",
            " |-- Club: string (nullable = true)\n",
            " |-- Height: integer (nullable = true)\n",
            " |-- Weight: integer (nullable = true)\n",
            "\n",
            "time: 5.13 ms (started: 2023-09-14 20:28:13 +00:00)\n"
          ]
        }
      ]
    },
    {
      "cell_type": "markdown",
      "source": [
        "Note que 'Birth Date' está no formato string e também o separador dos componentes YYY, MM, DD é um ponto. Abaixo vemos uma forma de extrair os componentes."
      ],
      "metadata": {
        "id": "lptmUlt7uQuF"
      }
    },
    {
      "cell_type": "code",
      "source": [
        "dia = udf(lambda date:date.split('.')[0])\n",
        "mes = udf(lambda date:date.split('.')[1])\n",
        "ano = udf(lambda date:date.split('.')[2])\n",
        "\n",
        "df_ = df_.withColumn('Dia', dia('Birth Date'))\n",
        "df_ = df_.withColumn('Mes', mes('Birth Date'))\n",
        "df_ = df_.withColumn('Ano', ano('Birth Date'))\n",
        "\n",
        "df_.show(5)"
      ],
      "metadata": {
        "colab": {
          "base_uri": "https://localhost:8080/"
        },
        "id": "yUX4KfScuj0j",
        "outputId": "4236f0d8-dc84-46b1-bfee-a8d462fa2b90"
      },
      "execution_count": 101,
      "outputs": [
        {
          "output_type": "stream",
          "name": "stdout",
          "text": [
            "+---------+---+----+------------------+----------+----------+--------------------+------+------+---+---+----+\n",
            "|     Team|  #|Pos.| FIFA Popular Name|Birth Date|Shirt Name|                Club|Height|Weight|Dia|Mes| Ano|\n",
            "+---------+---+----+------------------+----------+----------+--------------------+------+------+---+---+----+\n",
            "|Argentina|  3|  DF|TAGLIAFICO Nicolas|31.08.1992|TAGLIAFICO|      AFC Ajax (NED)|   169|    65| 31| 08|1992|\n",
            "|Argentina| 22|  MF|    PAVON Cristian|21.01.1996|     PAVÓN|CA Boca Juniors (...|   169|    65| 21| 01|1996|\n",
            "|Argentina| 15|  MF|    LANZINI Manuel|15.02.1993|   LANZINI|West Ham United F...|   167|    66| 15| 02|1993|\n",
            "|Argentina| 18|  DF|    SALVIO Eduardo|13.07.1990|    SALVIO|    SL Benfica (POR)|   167|    69| 13| 07|1990|\n",
            "|Argentina| 10|  FW|      MESSI Lionel|24.06.1987|     MESSI|  FC Barcelona (ESP)|   170|    72| 24| 06|1987|\n",
            "+---------+---+----+------------------+----------+----------+--------------------+------+------+---+---+----+\n",
            "only showing top 5 rows\n",
            "\n",
            "time: 1.06 s (started: 2023-09-14 20:28:13 +00:00)\n"
          ]
        }
      ]
    },
    {
      "cell_type": "markdown",
      "source": [
        "A conversão de \"Birth Date\" para o formato DateType pode ser feita da seguinte forma."
      ],
      "metadata": {
        "id": "bWSmfgQWXe4g"
      }
    },
    {
      "cell_type": "code",
      "source": [
        "df_.withColumn('Data Nascimento', to_date(col(\"Birth Date\"), \"dd.MM.yyyy\")).printSchema()\n",
        "# ou\n",
        "#df_.withColumn('Data', to_date(col(\"Birth Date\"), \"dd.MM.yyyy\").cast(DateType())).printSchema()"
      ],
      "metadata": {
        "colab": {
          "base_uri": "https://localhost:8080/"
        },
        "id": "lh_JlUfxXm6f",
        "outputId": "15b416a2-b3d9-4287-e4bf-2301b397e5ea"
      },
      "execution_count": 102,
      "outputs": [
        {
          "output_type": "stream",
          "name": "stdout",
          "text": [
            "root\n",
            " |-- Team: string (nullable = true)\n",
            " |-- #: integer (nullable = true)\n",
            " |-- Pos.: string (nullable = true)\n",
            " |-- FIFA Popular Name: string (nullable = true)\n",
            " |-- Birth Date: string (nullable = true)\n",
            " |-- Shirt Name: string (nullable = true)\n",
            " |-- Club: string (nullable = true)\n",
            " |-- Height: integer (nullable = true)\n",
            " |-- Weight: integer (nullable = true)\n",
            " |-- Dia: string (nullable = true)\n",
            " |-- Mes: string (nullable = true)\n",
            " |-- Ano: string (nullable = true)\n",
            " |-- Data Nascimento: date (nullable = true)\n",
            "\n",
            "time: 46.9 ms (started: 2023-09-14 20:28:14 +00:00)\n"
          ]
        }
      ]
    },
    {
      "cell_type": "markdown",
      "source": [
        "Outra conversão de tipo com a função cast()."
      ],
      "metadata": {
        "id": "Tb-QF4sEsvUL"
      }
    },
    {
      "cell_type": "code",
      "source": [
        "df_.withColumn('Height', col('Height').cast(FloatType())).show(5)"
      ],
      "metadata": {
        "colab": {
          "base_uri": "https://localhost:8080/"
        },
        "id": "pvDqvkVrqbtT",
        "outputId": "4db78fad-c9d8-4482-c750-193c3c43f1ec"
      },
      "execution_count": 103,
      "outputs": [
        {
          "output_type": "stream",
          "name": "stdout",
          "text": [
            "+---------+---+----+------------------+----------+----------+--------------------+------+------+---+---+----+\n",
            "|     Team|  #|Pos.| FIFA Popular Name|Birth Date|Shirt Name|                Club|Height|Weight|Dia|Mes| Ano|\n",
            "+---------+---+----+------------------+----------+----------+--------------------+------+------+---+---+----+\n",
            "|Argentina|  3|  DF|TAGLIAFICO Nicolas|31.08.1992|TAGLIAFICO|      AFC Ajax (NED)| 169.0|    65| 31| 08|1992|\n",
            "|Argentina| 22|  MF|    PAVON Cristian|21.01.1996|     PAVÓN|CA Boca Juniors (...| 169.0|    65| 21| 01|1996|\n",
            "|Argentina| 15|  MF|    LANZINI Manuel|15.02.1993|   LANZINI|West Ham United F...| 167.0|    66| 15| 02|1993|\n",
            "|Argentina| 18|  DF|    SALVIO Eduardo|13.07.1990|    SALVIO|    SL Benfica (POR)| 167.0|    69| 13| 07|1990|\n",
            "|Argentina| 10|  FW|      MESSI Lionel|24.06.1987|     MESSI|  FC Barcelona (ESP)| 170.0|    72| 24| 06|1987|\n",
            "+---------+---+----+------------------+----------+----------+--------------------+------+------+---+---+----+\n",
            "only showing top 5 rows\n",
            "\n",
            "time: 661 ms (started: 2023-09-14 20:28:14 +00:00)\n"
          ]
        }
      ]
    },
    {
      "cell_type": "code",
      "source": [
        "#df_.withColumn('Data', to_date(col(\"Birth Date\"), \"dd.MM.yyyy\").cast(DateType())).printSchema()"
      ],
      "metadata": {
        "colab": {
          "base_uri": "https://localhost:8080/"
        },
        "id": "WR4oimyoP0q0",
        "outputId": "4f9d5c2c-21dd-45c2-b140-673487fc118b"
      },
      "execution_count": 104,
      "outputs": [
        {
          "output_type": "stream",
          "name": "stdout",
          "text": [
            "time: 383 µs (started: 2023-09-14 20:28:15 +00:00)\n"
          ]
        }
      ]
    }
  ]
}