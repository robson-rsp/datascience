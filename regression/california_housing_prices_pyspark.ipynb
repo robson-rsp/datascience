{
 "cells": [
  {
   "cell_type": "markdown",
   "metadata": {
    "application/vnd.databricks.v1+cell": {
     "cellMetadata": {
      "byteLimit": 2048000,
      "rowLimit": 10000
     },
     "inputWidgets": {},
     "nuid": "96816ed7-b08a-4ca3-abb9-f99880c3535d",
     "showTitle": false,
     "title": ""
    }
   },
   "source": [
    "# California housing prices \n",
    ".\n",
    "Versão com o PySpark do kernel [California housing prices](https://github.com/robson-rsp/datascience/blob/main/regression/california_housing_prices.ipynb). Este notebook foi escrito no ambiente do Databricks e exportado como arquivo IPython .ipynb. Os textos daqui são cópias dos originais do link.\n",
    "---\n",
    "A tarefa neste kernel é criar um modelo de Machine Learning que estime preços de imóveis no estado da Califórnia baseado em características, como:\n",
    "\n",
    "*   latitude/longitude: Localização do imóvel\n",
    "*   housing_median_age: Idade média dos imóveis naquela quadra\n",
    "*   totalRooms: Número total de cômodos dentro de um quarteirão\n",
    "*   totalBedrooms: Número total de quartos dentro de um quarteirão\n",
    "*   population: Número total de pessoas que moram em uma quadra\n",
    "*   households: Número total de habitações em uma quadra\n",
    "*   medianIncome: Renda média das famílias de uma quadra (medida em dezenas de milhares de dólares americanos)\n",
    "*   medianHouseValue: Valor médio dos imóveis de uma quadra (medido em dólares americanos)\n",
    "*   oceanProximity: Localização do imóvel em relação ao oceano/mar\n",
    "\n",
    "Obs. A média populacional desses quarteirões é de 600 até 3000 pessoas.\n",
    "\n",
    "Fonte: [Kaggle](https://www.kaggle.com/datasets/camnugent/california-housing-prices)"
   ]
  },
  {
   "cell_type": "code",
   "execution_count": 0,
   "metadata": {
    "application/vnd.databricks.v1+cell": {
     "cellMetadata": {
      "byteLimit": 2048000,
      "rowLimit": 10000
     },
     "inputWidgets": {},
     "nuid": "6482be4c-f067-47c9-b0ac-35c938b94601",
     "showTitle": false,
     "title": ""
    }
   },
   "outputs": [],
   "source": [
    "\n",
    "housing = spark.read.format(\"csv\") \\\n",
    "          .option(\"inferSchema\", \"True\") \\\n",
    "          .option(\"header\", \"True\") \\\n",
    "          .option(\"sep\", \",\") \\\n",
    "          .load(\"/FileStore/tables/housing.csv\")"
   ]
  },
  {
   "cell_type": "markdown",
   "metadata": {
    "application/vnd.databricks.v1+cell": {
     "cellMetadata": {
      "byteLimit": 2048000,
      "rowLimit": 10000
     },
     "inputWidgets": {},
     "nuid": "b10edc3d-cd8e-439a-b2c3-ba579f3fd2b9",
     "showTitle": false,
     "title": ""
    },
    "jupyter": {
     "outputs_hidden": true
    }
   },
   "source": [
    "# EDA"
   ]
  },
  {
   "cell_type": "code",
   "execution_count": 0,
   "metadata": {
    "application/vnd.databricks.v1+cell": {
     "cellMetadata": {
      "byteLimit": 2048000,
      "rowLimit": 10000
     },
     "inputWidgets": {},
     "nuid": "113180d0-c651-45f1-bf17-747153ac51c2",
     "showTitle": false,
     "title": ""
    }
   },
   "outputs": [
    {
     "output_type": "display_data",
     "data": {
      "text/html": [
       "<div>\n",
       "<style scoped>\n",
       "    .dataframe tbody tr th:only-of-type {\n",
       "        vertical-align: middle;\n",
       "    }\n",
       "\n",
       "    .dataframe tbody tr th {\n",
       "        vertical-align: top;\n",
       "    }\n",
       "\n",
       "    .dataframe thead th {\n",
       "        text-align: right;\n",
       "    }\n",
       "</style>\n",
       "<table border=\"1\" class=\"dataframe\">\n",
       "  <thead>\n",
       "    <tr style=\"text-align: right;\">\n",
       "      <th></th>\n",
       "      <th>longitude</th>\n",
       "      <th>latitude</th>\n",
       "      <th>housing_median_age</th>\n",
       "      <th>total_rooms</th>\n",
       "      <th>total_bedrooms</th>\n",
       "      <th>population</th>\n",
       "      <th>households</th>\n",
       "      <th>median_income</th>\n",
       "      <th>median_house_value</th>\n",
       "      <th>ocean_proximity</th>\n",
       "    </tr>\n",
       "  </thead>\n",
       "  <tbody>\n",
       "    <tr>\n",
       "      <th>0</th>\n",
       "      <td>-122.21</td>\n",
       "      <td>37.82</td>\n",
       "      <td>52.0</td>\n",
       "      <td>2375.0</td>\n",
       "      <td>333.0</td>\n",
       "      <td>813.0</td>\n",
       "      <td>350.0</td>\n",
       "      <td>7.0549</td>\n",
       "      <td>331400.0</td>\n",
       "      <td>NEAR BAY</td>\n",
       "    </tr>\n",
       "    <tr>\n",
       "      <th>1</th>\n",
       "      <td>-122.24</td>\n",
       "      <td>37.81</td>\n",
       "      <td>52.0</td>\n",
       "      <td>2513.0</td>\n",
       "      <td>502.0</td>\n",
       "      <td>1048.0</td>\n",
       "      <td>518.0</td>\n",
       "      <td>3.6750</td>\n",
       "      <td>269900.0</td>\n",
       "      <td>NEAR BAY</td>\n",
       "    </tr>\n",
       "    <tr>\n",
       "      <th>2</th>\n",
       "      <td>-122.23</td>\n",
       "      <td>37.80</td>\n",
       "      <td>52.0</td>\n",
       "      <td>783.0</td>\n",
       "      <td>184.0</td>\n",
       "      <td>488.0</td>\n",
       "      <td>186.0</td>\n",
       "      <td>1.9375</td>\n",
       "      <td>126600.0</td>\n",
       "      <td>NEAR BAY</td>\n",
       "    </tr>\n",
       "    <tr>\n",
       "      <th>3</th>\n",
       "      <td>-122.22</td>\n",
       "      <td>37.78</td>\n",
       "      <td>51.0</td>\n",
       "      <td>1637.0</td>\n",
       "      <td>463.0</td>\n",
       "      <td>1543.0</td>\n",
       "      <td>393.0</td>\n",
       "      <td>2.4890</td>\n",
       "      <td>119100.0</td>\n",
       "      <td>NEAR BAY</td>\n",
       "    </tr>\n",
       "    <tr>\n",
       "      <th>4</th>\n",
       "      <td>-122.29</td>\n",
       "      <td>37.87</td>\n",
       "      <td>52.0</td>\n",
       "      <td>895.0</td>\n",
       "      <td>198.0</td>\n",
       "      <td>386.0</td>\n",
       "      <td>204.0</td>\n",
       "      <td>3.8750</td>\n",
       "      <td>182600.0</td>\n",
       "      <td>NEAR BAY</td>\n",
       "    </tr>\n",
       "    <tr>\n",
       "      <th>...</th>\n",
       "      <td>...</td>\n",
       "      <td>...</td>\n",
       "      <td>...</td>\n",
       "      <td>...</td>\n",
       "      <td>...</td>\n",
       "      <td>...</td>\n",
       "      <td>...</td>\n",
       "      <td>...</td>\n",
       "      <td>...</td>\n",
       "      <td>...</td>\n",
       "    </tr>\n",
       "    <tr>\n",
       "      <th>191</th>\n",
       "      <td>-119.21</td>\n",
       "      <td>34.28</td>\n",
       "      <td>27.0</td>\n",
       "      <td>2219.0</td>\n",
       "      <td>312.0</td>\n",
       "      <td>937.0</td>\n",
       "      <td>315.0</td>\n",
       "      <td>5.7601</td>\n",
       "      <td>281100.0</td>\n",
       "      <td>NEAR OCEAN</td>\n",
       "    </tr>\n",
       "    <tr>\n",
       "      <th>192</th>\n",
       "      <td>-119.23</td>\n",
       "      <td>34.27</td>\n",
       "      <td>29.0</td>\n",
       "      <td>3298.0</td>\n",
       "      <td>804.0</td>\n",
       "      <td>1509.0</td>\n",
       "      <td>711.0</td>\n",
       "      <td>3.8125</td>\n",
       "      <td>244500.0</td>\n",
       "      <td>NEAR OCEAN</td>\n",
       "    </tr>\n",
       "    <tr>\n",
       "      <th>193</th>\n",
       "      <td>-119.19</td>\n",
       "      <td>34.16</td>\n",
       "      <td>35.0</td>\n",
       "      <td>2733.0</td>\n",
       "      <td>510.0</td>\n",
       "      <td>1814.0</td>\n",
       "      <td>511.0</td>\n",
       "      <td>4.4187</td>\n",
       "      <td>183400.0</td>\n",
       "      <td>NEAR OCEAN</td>\n",
       "    </tr>\n",
       "    <tr>\n",
       "      <th>194</th>\n",
       "      <td>-119.18</td>\n",
       "      <td>34.16</td>\n",
       "      <td>27.0</td>\n",
       "      <td>1832.0</td>\n",
       "      <td>415.0</td>\n",
       "      <td>1480.0</td>\n",
       "      <td>414.0</td>\n",
       "      <td>3.9643</td>\n",
       "      <td>186000.0</td>\n",
       "      <td>NEAR OCEAN</td>\n",
       "    </tr>\n",
       "    <tr>\n",
       "      <th>195</th>\n",
       "      <td>-121.75</td>\n",
       "      <td>38.67</td>\n",
       "      <td>9.0</td>\n",
       "      <td>12139.0</td>\n",
       "      <td>2640.0</td>\n",
       "      <td>6837.0</td>\n",
       "      <td>2358.0</td>\n",
       "      <td>3.1250</td>\n",
       "      <td>132500.0</td>\n",
       "      <td>INLAND</td>\n",
       "    </tr>\n",
       "  </tbody>\n",
       "</table>\n",
       "<p>196 rows × 10 columns</p>\n",
       "</div>"
      ]
     },
     "metadata": {
      "application/vnd.databricks.v1+output": {
       "addedWidgets": {},
       "arguments": {},
       "data": "<div>\n<style scoped>\n    .dataframe tbody tr th:only-of-type {\n        vertical-align: middle;\n    }\n\n    .dataframe tbody tr th {\n        vertical-align: top;\n    }\n\n    .dataframe thead th {\n        text-align: right;\n    }\n</style>\n<table border=\"1\" class=\"dataframe\">\n  <thead>\n    <tr style=\"text-align: right;\">\n      <th></th>\n      <th>longitude</th>\n      <th>latitude</th>\n      <th>housing_median_age</th>\n      <th>total_rooms</th>\n      <th>total_bedrooms</th>\n      <th>population</th>\n      <th>households</th>\n      <th>median_income</th>\n      <th>median_house_value</th>\n      <th>ocean_proximity</th>\n    </tr>\n  </thead>\n  <tbody>\n    <tr>\n      <th>0</th>\n      <td>-122.21</td>\n      <td>37.82</td>\n      <td>52.0</td>\n      <td>2375.0</td>\n      <td>333.0</td>\n      <td>813.0</td>\n      <td>350.0</td>\n      <td>7.0549</td>\n      <td>331400.0</td>\n      <td>NEAR BAY</td>\n    </tr>\n    <tr>\n      <th>1</th>\n      <td>-122.24</td>\n      <td>37.81</td>\n      <td>52.0</td>\n      <td>2513.0</td>\n      <td>502.0</td>\n      <td>1048.0</td>\n      <td>518.0</td>\n      <td>3.6750</td>\n      <td>269900.0</td>\n      <td>NEAR BAY</td>\n    </tr>\n    <tr>\n      <th>2</th>\n      <td>-122.23</td>\n      <td>37.80</td>\n      <td>52.0</td>\n      <td>783.0</td>\n      <td>184.0</td>\n      <td>488.0</td>\n      <td>186.0</td>\n      <td>1.9375</td>\n      <td>126600.0</td>\n      <td>NEAR BAY</td>\n    </tr>\n    <tr>\n      <th>3</th>\n      <td>-122.22</td>\n      <td>37.78</td>\n      <td>51.0</td>\n      <td>1637.0</td>\n      <td>463.0</td>\n      <td>1543.0</td>\n      <td>393.0</td>\n      <td>2.4890</td>\n      <td>119100.0</td>\n      <td>NEAR BAY</td>\n    </tr>\n    <tr>\n      <th>4</th>\n      <td>-122.29</td>\n      <td>37.87</td>\n      <td>52.0</td>\n      <td>895.0</td>\n      <td>198.0</td>\n      <td>386.0</td>\n      <td>204.0</td>\n      <td>3.8750</td>\n      <td>182600.0</td>\n      <td>NEAR BAY</td>\n    </tr>\n    <tr>\n      <th>...</th>\n      <td>...</td>\n      <td>...</td>\n      <td>...</td>\n      <td>...</td>\n      <td>...</td>\n      <td>...</td>\n      <td>...</td>\n      <td>...</td>\n      <td>...</td>\n      <td>...</td>\n    </tr>\n    <tr>\n      <th>191</th>\n      <td>-119.21</td>\n      <td>34.28</td>\n      <td>27.0</td>\n      <td>2219.0</td>\n      <td>312.0</td>\n      <td>937.0</td>\n      <td>315.0</td>\n      <td>5.7601</td>\n      <td>281100.0</td>\n      <td>NEAR OCEAN</td>\n    </tr>\n    <tr>\n      <th>192</th>\n      <td>-119.23</td>\n      <td>34.27</td>\n      <td>29.0</td>\n      <td>3298.0</td>\n      <td>804.0</td>\n      <td>1509.0</td>\n      <td>711.0</td>\n      <td>3.8125</td>\n      <td>244500.0</td>\n      <td>NEAR OCEAN</td>\n    </tr>\n    <tr>\n      <th>193</th>\n      <td>-119.19</td>\n      <td>34.16</td>\n      <td>35.0</td>\n      <td>2733.0</td>\n      <td>510.0</td>\n      <td>1814.0</td>\n      <td>511.0</td>\n      <td>4.4187</td>\n      <td>183400.0</td>\n      <td>NEAR OCEAN</td>\n    </tr>\n    <tr>\n      <th>194</th>\n      <td>-119.18</td>\n      <td>34.16</td>\n      <td>27.0</td>\n      <td>1832.0</td>\n      <td>415.0</td>\n      <td>1480.0</td>\n      <td>414.0</td>\n      <td>3.9643</td>\n      <td>186000.0</td>\n      <td>NEAR OCEAN</td>\n    </tr>\n    <tr>\n      <th>195</th>\n      <td>-121.75</td>\n      <td>38.67</td>\n      <td>9.0</td>\n      <td>12139.0</td>\n      <td>2640.0</td>\n      <td>6837.0</td>\n      <td>2358.0</td>\n      <td>3.1250</td>\n      <td>132500.0</td>\n      <td>INLAND</td>\n    </tr>\n  </tbody>\n</table>\n<p>196 rows × 10 columns</p>\n</div>",
       "datasetInfos": [],
       "metadata": {},
       "removedWidgets": [],
       "textData": null,
       "type": "htmlSandbox"
      }
     },
     "output_type": "display_data"
    }
   ],
   "source": [
    "housing.sample(fraction=0.01).toPandas()"
   ]
  },
  {
   "cell_type": "code",
   "execution_count": 0,
   "metadata": {
    "application/vnd.databricks.v1+cell": {
     "cellMetadata": {
      "byteLimit": 2048000,
      "rowLimit": 10000
     },
     "inputWidgets": {},
     "nuid": "e217c1be-8724-4a83-80ac-cdf27a3f96cf",
     "showTitle": false,
     "title": ""
    }
   },
   "outputs": [
    {
     "output_type": "stream",
     "name": "stdout",
     "output_type": "stream",
     "text": [
      "shape=(20640, 10)\n"
     ]
    }
   ],
   "source": [
    "print(f'shape={housing.count(), len(housing.columns)}')"
   ]
  },
  {
   "cell_type": "code",
   "execution_count": 0,
   "metadata": {
    "application/vnd.databricks.v1+cell": {
     "cellMetadata": {
      "byteLimit": 2048000,
      "rowLimit": 10000
     },
     "inputWidgets": {},
     "nuid": "4154b79b-cf6b-4058-b92e-5910e07a0e11",
     "showTitle": false,
     "title": ""
    }
   },
   "outputs": [
    {
     "output_type": "display_data",
     "data": {
      "text/html": [
       "<div>\n",
       "<style scoped>\n",
       "    .dataframe tbody tr th:only-of-type {\n",
       "        vertical-align: middle;\n",
       "    }\n",
       "\n",
       "    .dataframe tbody tr th {\n",
       "        vertical-align: top;\n",
       "    }\n",
       "\n",
       "    .dataframe thead th {\n",
       "        text-align: right;\n",
       "    }\n",
       "</style>\n",
       "<table border=\"1\" class=\"dataframe\">\n",
       "  <thead>\n",
       "    <tr style=\"text-align: right;\">\n",
       "      <th></th>\n",
       "      <th>summary</th>\n",
       "      <th>longitude</th>\n",
       "      <th>latitude</th>\n",
       "      <th>housing_median_age</th>\n",
       "      <th>total_rooms</th>\n",
       "      <th>total_bedrooms</th>\n",
       "      <th>population</th>\n",
       "      <th>households</th>\n",
       "      <th>median_income</th>\n",
       "      <th>median_house_value</th>\n",
       "      <th>ocean_proximity</th>\n",
       "    </tr>\n",
       "  </thead>\n",
       "  <tbody>\n",
       "    <tr>\n",
       "      <th>0</th>\n",
       "      <td>count</td>\n",
       "      <td>20640</td>\n",
       "      <td>20640</td>\n",
       "      <td>20640</td>\n",
       "      <td>20640</td>\n",
       "      <td>20433</td>\n",
       "      <td>20640</td>\n",
       "      <td>20640</td>\n",
       "      <td>20640</td>\n",
       "      <td>20640</td>\n",
       "      <td>20640</td>\n",
       "    </tr>\n",
       "    <tr>\n",
       "      <th>1</th>\n",
       "      <td>mean</td>\n",
       "      <td>-119.56970445736148</td>\n",
       "      <td>35.6318614341087</td>\n",
       "      <td>28.639486434108527</td>\n",
       "      <td>2635.7630813953488</td>\n",
       "      <td>537.8705525375618</td>\n",
       "      <td>1425.4767441860465</td>\n",
       "      <td>499.5396802325581</td>\n",
       "      <td>3.8706710029070246</td>\n",
       "      <td>206855.81690891474</td>\n",
       "      <td>None</td>\n",
       "    </tr>\n",
       "    <tr>\n",
       "      <th>2</th>\n",
       "      <td>stddev</td>\n",
       "      <td>2.003531723502584</td>\n",
       "      <td>2.135952397457101</td>\n",
       "      <td>12.58555761211163</td>\n",
       "      <td>2181.6152515827944</td>\n",
       "      <td>421.38507007403115</td>\n",
       "      <td>1132.46212176534</td>\n",
       "      <td>382.3297528316098</td>\n",
       "      <td>1.899821717945263</td>\n",
       "      <td>115395.61587441359</td>\n",
       "      <td>None</td>\n",
       "    </tr>\n",
       "    <tr>\n",
       "      <th>3</th>\n",
       "      <td>min</td>\n",
       "      <td>-124.35</td>\n",
       "      <td>32.54</td>\n",
       "      <td>1.0</td>\n",
       "      <td>2.0</td>\n",
       "      <td>1.0</td>\n",
       "      <td>3.0</td>\n",
       "      <td>1.0</td>\n",
       "      <td>0.4999</td>\n",
       "      <td>14999.0</td>\n",
       "      <td>&lt;1H OCEAN</td>\n",
       "    </tr>\n",
       "    <tr>\n",
       "      <th>4</th>\n",
       "      <td>25%</td>\n",
       "      <td>-121.8</td>\n",
       "      <td>33.93</td>\n",
       "      <td>18.0</td>\n",
       "      <td>1447.0</td>\n",
       "      <td>296.0</td>\n",
       "      <td>787.0</td>\n",
       "      <td>280.0</td>\n",
       "      <td>2.5625</td>\n",
       "      <td>119600.0</td>\n",
       "      <td>None</td>\n",
       "    </tr>\n",
       "    <tr>\n",
       "      <th>5</th>\n",
       "      <td>50%</td>\n",
       "      <td>-118.49</td>\n",
       "      <td>34.26</td>\n",
       "      <td>29.0</td>\n",
       "      <td>2127.0</td>\n",
       "      <td>435.0</td>\n",
       "      <td>1166.0</td>\n",
       "      <td>409.0</td>\n",
       "      <td>3.5347</td>\n",
       "      <td>179700.0</td>\n",
       "      <td>None</td>\n",
       "    </tr>\n",
       "    <tr>\n",
       "      <th>6</th>\n",
       "      <td>75%</td>\n",
       "      <td>-118.01</td>\n",
       "      <td>37.71</td>\n",
       "      <td>37.0</td>\n",
       "      <td>3146.0</td>\n",
       "      <td>647.0</td>\n",
       "      <td>1724.0</td>\n",
       "      <td>605.0</td>\n",
       "      <td>4.7426</td>\n",
       "      <td>264700.0</td>\n",
       "      <td>None</td>\n",
       "    </tr>\n",
       "    <tr>\n",
       "      <th>7</th>\n",
       "      <td>max</td>\n",
       "      <td>-114.31</td>\n",
       "      <td>41.95</td>\n",
       "      <td>52.0</td>\n",
       "      <td>39320.0</td>\n",
       "      <td>6445.0</td>\n",
       "      <td>35682.0</td>\n",
       "      <td>6082.0</td>\n",
       "      <td>15.0001</td>\n",
       "      <td>500001.0</td>\n",
       "      <td>NEAR OCEAN</td>\n",
       "    </tr>\n",
       "  </tbody>\n",
       "</table>\n",
       "</div>"
      ]
     },
     "metadata": {
      "application/vnd.databricks.v1+output": {
       "addedWidgets": {},
       "arguments": {},
       "data": "<div>\n<style scoped>\n    .dataframe tbody tr th:only-of-type {\n        vertical-align: middle;\n    }\n\n    .dataframe tbody tr th {\n        vertical-align: top;\n    }\n\n    .dataframe thead th {\n        text-align: right;\n    }\n</style>\n<table border=\"1\" class=\"dataframe\">\n  <thead>\n    <tr style=\"text-align: right;\">\n      <th></th>\n      <th>summary</th>\n      <th>longitude</th>\n      <th>latitude</th>\n      <th>housing_median_age</th>\n      <th>total_rooms</th>\n      <th>total_bedrooms</th>\n      <th>population</th>\n      <th>households</th>\n      <th>median_income</th>\n      <th>median_house_value</th>\n      <th>ocean_proximity</th>\n    </tr>\n  </thead>\n  <tbody>\n    <tr>\n      <th>0</th>\n      <td>count</td>\n      <td>20640</td>\n      <td>20640</td>\n      <td>20640</td>\n      <td>20640</td>\n      <td>20433</td>\n      <td>20640</td>\n      <td>20640</td>\n      <td>20640</td>\n      <td>20640</td>\n      <td>20640</td>\n    </tr>\n    <tr>\n      <th>1</th>\n      <td>mean</td>\n      <td>-119.56970445736148</td>\n      <td>35.6318614341087</td>\n      <td>28.639486434108527</td>\n      <td>2635.7630813953488</td>\n      <td>537.8705525375618</td>\n      <td>1425.4767441860465</td>\n      <td>499.5396802325581</td>\n      <td>3.8706710029070246</td>\n      <td>206855.81690891474</td>\n      <td>None</td>\n    </tr>\n    <tr>\n      <th>2</th>\n      <td>stddev</td>\n      <td>2.003531723502584</td>\n      <td>2.135952397457101</td>\n      <td>12.58555761211163</td>\n      <td>2181.6152515827944</td>\n      <td>421.38507007403115</td>\n      <td>1132.46212176534</td>\n      <td>382.3297528316098</td>\n      <td>1.899821717945263</td>\n      <td>115395.61587441359</td>\n      <td>None</td>\n    </tr>\n    <tr>\n      <th>3</th>\n      <td>min</td>\n      <td>-124.35</td>\n      <td>32.54</td>\n      <td>1.0</td>\n      <td>2.0</td>\n      <td>1.0</td>\n      <td>3.0</td>\n      <td>1.0</td>\n      <td>0.4999</td>\n      <td>14999.0</td>\n      <td>&lt;1H OCEAN</td>\n    </tr>\n    <tr>\n      <th>4</th>\n      <td>25%</td>\n      <td>-121.8</td>\n      <td>33.93</td>\n      <td>18.0</td>\n      <td>1447.0</td>\n      <td>296.0</td>\n      <td>787.0</td>\n      <td>280.0</td>\n      <td>2.5625</td>\n      <td>119600.0</td>\n      <td>None</td>\n    </tr>\n    <tr>\n      <th>5</th>\n      <td>50%</td>\n      <td>-118.49</td>\n      <td>34.26</td>\n      <td>29.0</td>\n      <td>2127.0</td>\n      <td>435.0</td>\n      <td>1166.0</td>\n      <td>409.0</td>\n      <td>3.5347</td>\n      <td>179700.0</td>\n      <td>None</td>\n    </tr>\n    <tr>\n      <th>6</th>\n      <td>75%</td>\n      <td>-118.01</td>\n      <td>37.71</td>\n      <td>37.0</td>\n      <td>3146.0</td>\n      <td>647.0</td>\n      <td>1724.0</td>\n      <td>605.0</td>\n      <td>4.7426</td>\n      <td>264700.0</td>\n      <td>None</td>\n    </tr>\n    <tr>\n      <th>7</th>\n      <td>max</td>\n      <td>-114.31</td>\n      <td>41.95</td>\n      <td>52.0</td>\n      <td>39320.0</td>\n      <td>6445.0</td>\n      <td>35682.0</td>\n      <td>6082.0</td>\n      <td>15.0001</td>\n      <td>500001.0</td>\n      <td>NEAR OCEAN</td>\n    </tr>\n  </tbody>\n</table>\n</div>",
       "datasetInfos": [],
       "metadata": {},
       "removedWidgets": [],
       "textData": null,
       "type": "htmlSandbox"
      }
     },
     "output_type": "display_data"
    }
   ],
   "source": [
    "housing.summary(\"count\", \"mean\", \"stddev\", \"min\", \"25%\", \"50%\", \"75%\", \"max\").toPandas()"
   ]
  },
  {
   "cell_type": "markdown",
   "metadata": {
    "application/vnd.databricks.v1+cell": {
     "cellMetadata": {
      "byteLimit": 2048000,
      "rowLimit": 10000
     },
     "inputWidgets": {},
     "nuid": "44aa03cb-036b-4e49-9ab3-8e111d86f39b",
     "showTitle": false,
     "title": ""
    }
   },
   "source": [
    "# Data visualization"
   ]
  }
 ],
 "metadata": {
  "application/vnd.databricks.v1+notebook": {
   "dashboards": [],
   "language": "python",
   "notebookMetadata": {
    "pythonIndentUnit": 4
   },
   "notebookName": "regression - housing",
   "widgets": {}
  }
 },
 "nbformat": 4,
 "nbformat_minor": 0
}
