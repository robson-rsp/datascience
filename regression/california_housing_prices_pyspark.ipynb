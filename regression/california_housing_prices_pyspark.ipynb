{
 "cells": [
  {
   "cell_type": "markdown",
   "metadata": {
    "application/vnd.databricks.v1+cell": {
     "cellMetadata": {
      "byteLimit": 2048000,
      "rowLimit": 10000
     },
     "inputWidgets": {},
     "nuid": "96816ed7-b08a-4ca3-abb9-f99880c3535d",
     "showTitle": false,
     "title": ""
    }
   },
   "source": [
    "# California housing prices \n",
    ".\n",
    "Versão com o PySpark do kernel [California housing prices](https://github.com/robson-rsp/datascience/blob/main/regression/california_housing_prices.ipynb). Este notebook foi escrito no ambiente do Databricks e exportado como arquivo IPython .ipynb. Os textos daqui são cópias dos originais do link.\n",
    "---\n",
    "A tarefa neste kernel é criar um modelo de Machine Learning que estime preços de imóveis no estado da Califórnia baseado em características, como:\n",
    "\n",
    "*   latitude/longitude: Localização do imóvel\n",
    "*   housing_median_age: Idade média dos imóveis naquela quadra\n",
    "*   totalRooms: Número total de cômodos dentro de um quarteirão\n",
    "*   totalBedrooms: Número total de quartos dentro de um quarteirão\n",
    "*   population: Número total de pessoas que moram em uma quadra\n",
    "*   households: Número total de habitações em uma quadra\n",
    "*   medianIncome: Renda média das famílias de uma quadra (medida em dezenas de milhares de dólares americanos)\n",
    "*   medianHouseValue: Valor médio dos imóveis de uma quadra (medido em dólares americanos)\n",
    "*   oceanProximity: Localização do imóvel em relação ao oceano/mar\n",
    "\n",
    "Obs. A média populacional desses quarteirões é de 600 até 3000 pessoas.\n",
    "\n",
    "Fonte: [Kaggle](https://www.kaggle.com/datasets/camnugent/california-housing-prices)"
   ]
  },
  {
   "cell_type": "code",
   "execution_count": 0,
   "metadata": {
    "application/vnd.databricks.v1+cell": {
     "cellMetadata": {
      "byteLimit": 2048000,
      "rowLimit": 10000
     },
     "inputWidgets": {},
     "nuid": "6482be4c-f067-47c9-b0ac-35c938b94601",
     "showTitle": false,
     "title": ""
    }
   },
   "outputs": [],
   "source": [
    "\n",
    "housing = spark.read.format(\"csv\") \\\n",
    "          .option(\"inferSchema\", \"True\") \\\n",
    "          .option(\"header\", \"True\") \\\n",
    "          .option(\"sep\", \",\") \\\n",
    "          .load(\"/FileStore/tables/housing.csv\")"
   ]
  },
  {
   "cell_type": "markdown",
   "metadata": {
    "application/vnd.databricks.v1+cell": {
     "cellMetadata": {
      "byteLimit": 2048000,
      "rowLimit": 10000
     },
     "inputWidgets": {},
     "nuid": "b10edc3d-cd8e-439a-b2c3-ba579f3fd2b9",
     "showTitle": false,
     "title": ""
    },
    "jupyter": {
     "outputs_hidden": true
    }
   },
   "source": [
    "# EDA"
   ]
  },
  {
   "cell_type": "code",
   "execution_count": 0,
   "metadata": {
    "application/vnd.databricks.v1+cell": {
     "cellMetadata": {
      "byteLimit": 2048000,
      "rowLimit": 10000
     },
     "inputWidgets": {},
     "nuid": "113180d0-c651-45f1-bf17-747153ac51c2",
     "showTitle": false,
     "title": ""
    }
   },
   "outputs": [
    {
     "output_type": "display_data",
     "data": {
      "text/html": [
       "<div>\n",
       "<style scoped>\n",
       "    .dataframe tbody tr th:only-of-type {\n",
       "        vertical-align: middle;\n",
       "    }\n",
       "\n",
       "    .dataframe tbody tr th {\n",
       "        vertical-align: top;\n",
       "    }\n",
       "\n",
       "    .dataframe thead th {\n",
       "        text-align: right;\n",
       "    }\n",
       "</style>\n",
       "<table border=\"1\" class=\"dataframe\">\n",
       "  <thead>\n",
       "    <tr style=\"text-align: right;\">\n",
       "      <th></th>\n",
       "      <th>longitude</th>\n",
       "      <th>latitude</th>\n",
       "      <th>housing_median_age</th>\n",
       "      <th>total_rooms</th>\n",
       "      <th>total_bedrooms</th>\n",
       "      <th>population</th>\n",
       "      <th>households</th>\n",
       "      <th>median_income</th>\n",
       "      <th>median_house_value</th>\n",
       "      <th>ocean_proximity</th>\n",
       "    </tr>\n",
       "  </thead>\n",
       "  <tbody>\n",
       "    <tr>\n",
       "      <th>0</th>\n",
       "      <td>-122.28</td>\n",
       "      <td>37.82</td>\n",
       "      <td>52.0</td>\n",
       "      <td>1238.0</td>\n",
       "      <td>288.0</td>\n",
       "      <td>622.0</td>\n",
       "      <td>259.0</td>\n",
       "      <td>1.5057</td>\n",
       "      <td>87500.0</td>\n",
       "      <td>NEAR BAY</td>\n",
       "    </tr>\n",
       "    <tr>\n",
       "      <th>1</th>\n",
       "      <td>-122.28</td>\n",
       "      <td>37.81</td>\n",
       "      <td>52.0</td>\n",
       "      <td>386.0</td>\n",
       "      <td>164.0</td>\n",
       "      <td>346.0</td>\n",
       "      <td>155.0</td>\n",
       "      <td>0.8075</td>\n",
       "      <td>137500.0</td>\n",
       "      <td>NEAR BAY</td>\n",
       "    </tr>\n",
       "    <tr>\n",
       "      <th>2</th>\n",
       "      <td>-122.28</td>\n",
       "      <td>37.90</td>\n",
       "      <td>52.0</td>\n",
       "      <td>2261.0</td>\n",
       "      <td>328.0</td>\n",
       "      <td>819.0</td>\n",
       "      <td>335.0</td>\n",
       "      <td>4.9083</td>\n",
       "      <td>346800.0</td>\n",
       "      <td>NEAR BAY</td>\n",
       "    </tr>\n",
       "    <tr>\n",
       "      <th>3</th>\n",
       "      <td>-122.28</td>\n",
       "      <td>37.89</td>\n",
       "      <td>52.0</td>\n",
       "      <td>2315.0</td>\n",
       "      <td>408.0</td>\n",
       "      <td>835.0</td>\n",
       "      <td>369.0</td>\n",
       "      <td>4.5893</td>\n",
       "      <td>290100.0</td>\n",
       "      <td>NEAR BAY</td>\n",
       "    </tr>\n",
       "    <tr>\n",
       "      <th>4</th>\n",
       "      <td>-122.29</td>\n",
       "      <td>37.88</td>\n",
       "      <td>52.0</td>\n",
       "      <td>1650.0</td>\n",
       "      <td>395.0</td>\n",
       "      <td>841.0</td>\n",
       "      <td>380.0</td>\n",
       "      <td>3.5560</td>\n",
       "      <td>179300.0</td>\n",
       "      <td>NEAR BAY</td>\n",
       "    </tr>\n",
       "    <tr>\n",
       "      <th>...</th>\n",
       "      <td>...</td>\n",
       "      <td>...</td>\n",
       "      <td>...</td>\n",
       "      <td>...</td>\n",
       "      <td>...</td>\n",
       "      <td>...</td>\n",
       "      <td>...</td>\n",
       "      <td>...</td>\n",
       "      <td>...</td>\n",
       "      <td>...</td>\n",
       "    </tr>\n",
       "    <tr>\n",
       "      <th>201</th>\n",
       "      <td>-122.81</td>\n",
       "      <td>40.93</td>\n",
       "      <td>16.0</td>\n",
       "      <td>2050.0</td>\n",
       "      <td>471.0</td>\n",
       "      <td>588.0</td>\n",
       "      <td>195.0</td>\n",
       "      <td>2.7083</td>\n",
       "      <td>88900.0</td>\n",
       "      <td>INLAND</td>\n",
       "    </tr>\n",
       "    <tr>\n",
       "      <th>202</th>\n",
       "      <td>-119.27</td>\n",
       "      <td>36.34</td>\n",
       "      <td>26.0</td>\n",
       "      <td>2057.0</td>\n",
       "      <td>472.0</td>\n",
       "      <td>1453.0</td>\n",
       "      <td>439.0</td>\n",
       "      <td>2.4113</td>\n",
       "      <td>58600.0</td>\n",
       "      <td>INLAND</td>\n",
       "    </tr>\n",
       "    <tr>\n",
       "      <th>203</th>\n",
       "      <td>-119.21</td>\n",
       "      <td>34.19</td>\n",
       "      <td>15.0</td>\n",
       "      <td>3797.0</td>\n",
       "      <td>692.0</td>\n",
       "      <td>2216.0</td>\n",
       "      <td>675.0</td>\n",
       "      <td>4.7443</td>\n",
       "      <td>229500.0</td>\n",
       "      <td>NEAR OCEAN</td>\n",
       "    </tr>\n",
       "    <tr>\n",
       "      <th>204</th>\n",
       "      <td>-118.93</td>\n",
       "      <td>34.20</td>\n",
       "      <td>17.0</td>\n",
       "      <td>2619.0</td>\n",
       "      <td>606.0</td>\n",
       "      <td>1655.0</td>\n",
       "      <td>557.0</td>\n",
       "      <td>3.8860</td>\n",
       "      <td>281300.0</td>\n",
       "      <td>&lt;1H OCEAN</td>\n",
       "    </tr>\n",
       "    <tr>\n",
       "      <th>205</th>\n",
       "      <td>-118.88</td>\n",
       "      <td>34.22</td>\n",
       "      <td>16.0</td>\n",
       "      <td>2343.0</td>\n",
       "      <td>393.0</td>\n",
       "      <td>2007.0</td>\n",
       "      <td>383.0</td>\n",
       "      <td>5.7560</td>\n",
       "      <td>302700.0</td>\n",
       "      <td>&lt;1H OCEAN</td>\n",
       "    </tr>\n",
       "  </tbody>\n",
       "</table>\n",
       "<p>206 rows × 10 columns</p>\n",
       "</div>"
      ]
     },
     "metadata": {
      "application/vnd.databricks.v1+output": {
       "addedWidgets": {},
       "arguments": {},
       "data": "<div>\n<style scoped>\n    .dataframe tbody tr th:only-of-type {\n        vertical-align: middle;\n    }\n\n    .dataframe tbody tr th {\n        vertical-align: top;\n    }\n\n    .dataframe thead th {\n        text-align: right;\n    }\n</style>\n<table border=\"1\" class=\"dataframe\">\n  <thead>\n    <tr style=\"text-align: right;\">\n      <th></th>\n      <th>longitude</th>\n      <th>latitude</th>\n      <th>housing_median_age</th>\n      <th>total_rooms</th>\n      <th>total_bedrooms</th>\n      <th>population</th>\n      <th>households</th>\n      <th>median_income</th>\n      <th>median_house_value</th>\n      <th>ocean_proximity</th>\n    </tr>\n  </thead>\n  <tbody>\n    <tr>\n      <th>0</th>\n      <td>-122.28</td>\n      <td>37.82</td>\n      <td>52.0</td>\n      <td>1238.0</td>\n      <td>288.0</td>\n      <td>622.0</td>\n      <td>259.0</td>\n      <td>1.5057</td>\n      <td>87500.0</td>\n      <td>NEAR BAY</td>\n    </tr>\n    <tr>\n      <th>1</th>\n      <td>-122.28</td>\n      <td>37.81</td>\n      <td>52.0</td>\n      <td>386.0</td>\n      <td>164.0</td>\n      <td>346.0</td>\n      <td>155.0</td>\n      <td>0.8075</td>\n      <td>137500.0</td>\n      <td>NEAR BAY</td>\n    </tr>\n    <tr>\n      <th>2</th>\n      <td>-122.28</td>\n      <td>37.90</td>\n      <td>52.0</td>\n      <td>2261.0</td>\n      <td>328.0</td>\n      <td>819.0</td>\n      <td>335.0</td>\n      <td>4.9083</td>\n      <td>346800.0</td>\n      <td>NEAR BAY</td>\n    </tr>\n    <tr>\n      <th>3</th>\n      <td>-122.28</td>\n      <td>37.89</td>\n      <td>52.0</td>\n      <td>2315.0</td>\n      <td>408.0</td>\n      <td>835.0</td>\n      <td>369.0</td>\n      <td>4.5893</td>\n      <td>290100.0</td>\n      <td>NEAR BAY</td>\n    </tr>\n    <tr>\n      <th>4</th>\n      <td>-122.29</td>\n      <td>37.88</td>\n      <td>52.0</td>\n      <td>1650.0</td>\n      <td>395.0</td>\n      <td>841.0</td>\n      <td>380.0</td>\n      <td>3.5560</td>\n      <td>179300.0</td>\n      <td>NEAR BAY</td>\n    </tr>\n    <tr>\n      <th>...</th>\n      <td>...</td>\n      <td>...</td>\n      <td>...</td>\n      <td>...</td>\n      <td>...</td>\n      <td>...</td>\n      <td>...</td>\n      <td>...</td>\n      <td>...</td>\n      <td>...</td>\n    </tr>\n    <tr>\n      <th>201</th>\n      <td>-122.81</td>\n      <td>40.93</td>\n      <td>16.0</td>\n      <td>2050.0</td>\n      <td>471.0</td>\n      <td>588.0</td>\n      <td>195.0</td>\n      <td>2.7083</td>\n      <td>88900.0</td>\n      <td>INLAND</td>\n    </tr>\n    <tr>\n      <th>202</th>\n      <td>-119.27</td>\n      <td>36.34</td>\n      <td>26.0</td>\n      <td>2057.0</td>\n      <td>472.0</td>\n      <td>1453.0</td>\n      <td>439.0</td>\n      <td>2.4113</td>\n      <td>58600.0</td>\n      <td>INLAND</td>\n    </tr>\n    <tr>\n      <th>203</th>\n      <td>-119.21</td>\n      <td>34.19</td>\n      <td>15.0</td>\n      <td>3797.0</td>\n      <td>692.0</td>\n      <td>2216.0</td>\n      <td>675.0</td>\n      <td>4.7443</td>\n      <td>229500.0</td>\n      <td>NEAR OCEAN</td>\n    </tr>\n    <tr>\n      <th>204</th>\n      <td>-118.93</td>\n      <td>34.20</td>\n      <td>17.0</td>\n      <td>2619.0</td>\n      <td>606.0</td>\n      <td>1655.0</td>\n      <td>557.0</td>\n      <td>3.8860</td>\n      <td>281300.0</td>\n      <td>&lt;1H OCEAN</td>\n    </tr>\n    <tr>\n      <th>205</th>\n      <td>-118.88</td>\n      <td>34.22</td>\n      <td>16.0</td>\n      <td>2343.0</td>\n      <td>393.0</td>\n      <td>2007.0</td>\n      <td>383.0</td>\n      <td>5.7560</td>\n      <td>302700.0</td>\n      <td>&lt;1H OCEAN</td>\n    </tr>\n  </tbody>\n</table>\n<p>206 rows × 10 columns</p>\n</div>",
       "datasetInfos": [],
       "metadata": {},
       "removedWidgets": [],
       "textData": null,
       "type": "htmlSandbox"
      }
     },
     "output_type": "display_data"
    }
   ],
   "source": [
    "housing.sample(fraction=0.01).toPandas()"
   ]
  },
  {
   "cell_type": "code",
   "execution_count": 0,
   "metadata": {
    "application/vnd.databricks.v1+cell": {
     "cellMetadata": {
      "byteLimit": 2048000,
      "rowLimit": 10000
     },
     "inputWidgets": {},
     "nuid": "e217c1be-8724-4a83-80ac-cdf27a3f96cf",
     "showTitle": false,
     "title": ""
    }
   },
   "outputs": [
    {
     "output_type": "stream",
     "name": "stdout",
     "output_type": "stream",
     "text": [
      "shape=(20640, 10)\n"
     ]
    }
   ],
   "source": [
    "print(f'shape={housing.count(), len(housing.columns)}')"
   ]
  },
  {
   "cell_type": "code",
   "execution_count": 0,
   "metadata": {
    "application/vnd.databricks.v1+cell": {
     "cellMetadata": {
      "byteLimit": 2048000,
      "rowLimit": 10000
     },
     "inputWidgets": {},
     "nuid": "4154b79b-cf6b-4058-b92e-5910e07a0e11",
     "showTitle": false,
     "title": ""
    }
   },
   "outputs": [
    {
     "output_type": "display_data",
     "data": {
      "text/html": [
       "<div>\n",
       "<style scoped>\n",
       "    .dataframe tbody tr th:only-of-type {\n",
       "        vertical-align: middle;\n",
       "    }\n",
       "\n",
       "    .dataframe tbody tr th {\n",
       "        vertical-align: top;\n",
       "    }\n",
       "\n",
       "    .dataframe thead th {\n",
       "        text-align: right;\n",
       "    }\n",
       "</style>\n",
       "<table border=\"1\" class=\"dataframe\">\n",
       "  <thead>\n",
       "    <tr style=\"text-align: right;\">\n",
       "      <th></th>\n",
       "      <th>summary</th>\n",
       "      <th>longitude</th>\n",
       "      <th>latitude</th>\n",
       "      <th>housing_median_age</th>\n",
       "      <th>total_rooms</th>\n",
       "      <th>total_bedrooms</th>\n",
       "      <th>population</th>\n",
       "      <th>households</th>\n",
       "      <th>median_income</th>\n",
       "      <th>median_house_value</th>\n",
       "      <th>ocean_proximity</th>\n",
       "    </tr>\n",
       "  </thead>\n",
       "  <tbody>\n",
       "    <tr>\n",
       "      <th>0</th>\n",
       "      <td>count</td>\n",
       "      <td>20640</td>\n",
       "      <td>20640</td>\n",
       "      <td>20640</td>\n",
       "      <td>20640</td>\n",
       "      <td>20433</td>\n",
       "      <td>20640</td>\n",
       "      <td>20640</td>\n",
       "      <td>20640</td>\n",
       "      <td>20640</td>\n",
       "      <td>20640</td>\n",
       "    </tr>\n",
       "    <tr>\n",
       "      <th>1</th>\n",
       "      <td>mean</td>\n",
       "      <td>-119.56970445736148</td>\n",
       "      <td>35.6318614341087</td>\n",
       "      <td>28.639486434108527</td>\n",
       "      <td>2635.7630813953488</td>\n",
       "      <td>537.8705525375618</td>\n",
       "      <td>1425.4767441860465</td>\n",
       "      <td>499.5396802325581</td>\n",
       "      <td>3.8706710029070246</td>\n",
       "      <td>206855.81690891474</td>\n",
       "      <td>None</td>\n",
       "    </tr>\n",
       "    <tr>\n",
       "      <th>2</th>\n",
       "      <td>stddev</td>\n",
       "      <td>2.003531723502584</td>\n",
       "      <td>2.135952397457101</td>\n",
       "      <td>12.58555761211163</td>\n",
       "      <td>2181.6152515827944</td>\n",
       "      <td>421.38507007403115</td>\n",
       "      <td>1132.46212176534</td>\n",
       "      <td>382.3297528316098</td>\n",
       "      <td>1.899821717945263</td>\n",
       "      <td>115395.61587441359</td>\n",
       "      <td>None</td>\n",
       "    </tr>\n",
       "    <tr>\n",
       "      <th>3</th>\n",
       "      <td>min</td>\n",
       "      <td>-124.35</td>\n",
       "      <td>32.54</td>\n",
       "      <td>1.0</td>\n",
       "      <td>2.0</td>\n",
       "      <td>1.0</td>\n",
       "      <td>3.0</td>\n",
       "      <td>1.0</td>\n",
       "      <td>0.4999</td>\n",
       "      <td>14999.0</td>\n",
       "      <td>&lt;1H OCEAN</td>\n",
       "    </tr>\n",
       "    <tr>\n",
       "      <th>4</th>\n",
       "      <td>25%</td>\n",
       "      <td>-121.8</td>\n",
       "      <td>33.93</td>\n",
       "      <td>18.0</td>\n",
       "      <td>1447.0</td>\n",
       "      <td>296.0</td>\n",
       "      <td>787.0</td>\n",
       "      <td>280.0</td>\n",
       "      <td>2.5625</td>\n",
       "      <td>119600.0</td>\n",
       "      <td>None</td>\n",
       "    </tr>\n",
       "    <tr>\n",
       "      <th>5</th>\n",
       "      <td>50%</td>\n",
       "      <td>-118.49</td>\n",
       "      <td>34.26</td>\n",
       "      <td>29.0</td>\n",
       "      <td>2127.0</td>\n",
       "      <td>435.0</td>\n",
       "      <td>1166.0</td>\n",
       "      <td>409.0</td>\n",
       "      <td>3.5347</td>\n",
       "      <td>179700.0</td>\n",
       "      <td>None</td>\n",
       "    </tr>\n",
       "    <tr>\n",
       "      <th>6</th>\n",
       "      <td>75%</td>\n",
       "      <td>-118.01</td>\n",
       "      <td>37.71</td>\n",
       "      <td>37.0</td>\n",
       "      <td>3146.0</td>\n",
       "      <td>647.0</td>\n",
       "      <td>1724.0</td>\n",
       "      <td>605.0</td>\n",
       "      <td>4.7426</td>\n",
       "      <td>264700.0</td>\n",
       "      <td>None</td>\n",
       "    </tr>\n",
       "    <tr>\n",
       "      <th>7</th>\n",
       "      <td>max</td>\n",
       "      <td>-114.31</td>\n",
       "      <td>41.95</td>\n",
       "      <td>52.0</td>\n",
       "      <td>39320.0</td>\n",
       "      <td>6445.0</td>\n",
       "      <td>35682.0</td>\n",
       "      <td>6082.0</td>\n",
       "      <td>15.0001</td>\n",
       "      <td>500001.0</td>\n",
       "      <td>NEAR OCEAN</td>\n",
       "    </tr>\n",
       "  </tbody>\n",
       "</table>\n",
       "</div>"
      ]
     },
     "metadata": {
      "application/vnd.databricks.v1+output": {
       "addedWidgets": {},
       "arguments": {},
       "data": "<div>\n<style scoped>\n    .dataframe tbody tr th:only-of-type {\n        vertical-align: middle;\n    }\n\n    .dataframe tbody tr th {\n        vertical-align: top;\n    }\n\n    .dataframe thead th {\n        text-align: right;\n    }\n</style>\n<table border=\"1\" class=\"dataframe\">\n  <thead>\n    <tr style=\"text-align: right;\">\n      <th></th>\n      <th>summary</th>\n      <th>longitude</th>\n      <th>latitude</th>\n      <th>housing_median_age</th>\n      <th>total_rooms</th>\n      <th>total_bedrooms</th>\n      <th>population</th>\n      <th>households</th>\n      <th>median_income</th>\n      <th>median_house_value</th>\n      <th>ocean_proximity</th>\n    </tr>\n  </thead>\n  <tbody>\n    <tr>\n      <th>0</th>\n      <td>count</td>\n      <td>20640</td>\n      <td>20640</td>\n      <td>20640</td>\n      <td>20640</td>\n      <td>20433</td>\n      <td>20640</td>\n      <td>20640</td>\n      <td>20640</td>\n      <td>20640</td>\n      <td>20640</td>\n    </tr>\n    <tr>\n      <th>1</th>\n      <td>mean</td>\n      <td>-119.56970445736148</td>\n      <td>35.6318614341087</td>\n      <td>28.639486434108527</td>\n      <td>2635.7630813953488</td>\n      <td>537.8705525375618</td>\n      <td>1425.4767441860465</td>\n      <td>499.5396802325581</td>\n      <td>3.8706710029070246</td>\n      <td>206855.81690891474</td>\n      <td>None</td>\n    </tr>\n    <tr>\n      <th>2</th>\n      <td>stddev</td>\n      <td>2.003531723502584</td>\n      <td>2.135952397457101</td>\n      <td>12.58555761211163</td>\n      <td>2181.6152515827944</td>\n      <td>421.38507007403115</td>\n      <td>1132.46212176534</td>\n      <td>382.3297528316098</td>\n      <td>1.899821717945263</td>\n      <td>115395.61587441359</td>\n      <td>None</td>\n    </tr>\n    <tr>\n      <th>3</th>\n      <td>min</td>\n      <td>-124.35</td>\n      <td>32.54</td>\n      <td>1.0</td>\n      <td>2.0</td>\n      <td>1.0</td>\n      <td>3.0</td>\n      <td>1.0</td>\n      <td>0.4999</td>\n      <td>14999.0</td>\n      <td>&lt;1H OCEAN</td>\n    </tr>\n    <tr>\n      <th>4</th>\n      <td>25%</td>\n      <td>-121.8</td>\n      <td>33.93</td>\n      <td>18.0</td>\n      <td>1447.0</td>\n      <td>296.0</td>\n      <td>787.0</td>\n      <td>280.0</td>\n      <td>2.5625</td>\n      <td>119600.0</td>\n      <td>None</td>\n    </tr>\n    <tr>\n      <th>5</th>\n      <td>50%</td>\n      <td>-118.49</td>\n      <td>34.26</td>\n      <td>29.0</td>\n      <td>2127.0</td>\n      <td>435.0</td>\n      <td>1166.0</td>\n      <td>409.0</td>\n      <td>3.5347</td>\n      <td>179700.0</td>\n      <td>None</td>\n    </tr>\n    <tr>\n      <th>6</th>\n      <td>75%</td>\n      <td>-118.01</td>\n      <td>37.71</td>\n      <td>37.0</td>\n      <td>3146.0</td>\n      <td>647.0</td>\n      <td>1724.0</td>\n      <td>605.0</td>\n      <td>4.7426</td>\n      <td>264700.0</td>\n      <td>None</td>\n    </tr>\n    <tr>\n      <th>7</th>\n      <td>max</td>\n      <td>-114.31</td>\n      <td>41.95</td>\n      <td>52.0</td>\n      <td>39320.0</td>\n      <td>6445.0</td>\n      <td>35682.0</td>\n      <td>6082.0</td>\n      <td>15.0001</td>\n      <td>500001.0</td>\n      <td>NEAR OCEAN</td>\n    </tr>\n  </tbody>\n</table>\n</div>",
       "datasetInfos": [],
       "metadata": {},
       "removedWidgets": [],
       "textData": null,
       "type": "htmlSandbox"
      }
     },
     "output_type": "display_data"
    }
   ],
   "source": [
    "housing.summary(\"count\", \"mean\", \"stddev\", \"min\", \"25%\", \"50%\", \"75%\", \"max\").toPandas()"
   ]
  },
  {
   "cell_type": "markdown",
   "metadata": {
    "application/vnd.databricks.v1+cell": {
     "cellMetadata": {
      "byteLimit": 2048000,
      "rowLimit": 10000
     },
     "inputWidgets": {},
     "nuid": "e268ad76-a123-4e10-b0b1-19904096b2a2",
     "showTitle": false,
     "title": ""
    }
   },
   "source": [
    "Verificando a ocorrência de campos NaN."
   ]
  },
  {
   "cell_type": "code",
   "execution_count": 0,
   "metadata": {
    "application/vnd.databricks.v1+cell": {
     "cellMetadata": {
      "byteLimit": 2048000,
      "rowLimit": 10000
     },
     "inputWidgets": {},
     "nuid": "d6cb045a-b5d6-4fe1-90a0-200a9bc71afd",
     "showTitle": false,
     "title": ""
    }
   },
   "outputs": [
    {
     "output_type": "stream",
     "name": "stdout",
     "output_type": "stream",
     "text": [
      "longitude: 0\nlatitude: 0\nhousing_median_age: 0\ntotal_rooms: 0\ntotal_bedrooms: 207\npopulation: 0\nhouseholds: 0\nmedian_income: 0\nmedian_house_value: 0\nocean_proximity: 0\n"
     ]
    }
   ],
   "source": [
    "for name in housing.columns:\n",
    "    mask = housing[name].isNull()\n",
    "    print(f'{name}: {housing.where(mask).count()}')"
   ]
  },
  {
   "cell_type": "markdown",
   "metadata": {
    "application/vnd.databricks.v1+cell": {
     "cellMetadata": {
      "byteLimit": 2048000,
      "rowLimit": 10000
     },
     "inputWidgets": {},
     "nuid": "44aa03cb-036b-4e49-9ab3-8e111d86f39b",
     "showTitle": false,
     "title": ""
    }
   },
   "source": [
    "# Data visualization\n",
    "\n",
    "Os gráficos foram criados utilizando as ferramentas de visualização nativas do Databricks. O resultado não pode ser visto em um arquivo .ipynb"
   ]
  },
  {
   "cell_type": "markdown",
   "metadata": {
    "application/vnd.databricks.v1+cell": {
     "cellMetadata": {
      "byteLimit": 2048000,
      "rowLimit": 10000
     },
     "inputWidgets": {},
     "nuid": "f7461849-7e49-4b05-a921-b40e4237ecc6",
     "showTitle": false,
     "title": ""
    }
   },
   "source": [
    "# Train/Test split"
   ]
  },
  {
   "cell_type": "code",
   "execution_count": 0,
   "metadata": {
    "application/vnd.databricks.v1+cell": {
     "cellMetadata": {
      "byteLimit": 2048000,
      "rowLimit": 10000
     },
     "inputWidgets": {},
     "nuid": "8fcd54b7-41cb-4950-9c00-172c5372ad7e",
     "showTitle": false,
     "title": ""
    }
   },
   "outputs": [],
   "source": [
    "train_set, test_set = housing.randomSplit([0.8, 0.2])"
   ]
  },
  {
   "cell_type": "markdown",
   "metadata": {
    "application/vnd.databricks.v1+cell": {
     "cellMetadata": {
      "byteLimit": 2048000,
      "rowLimit": 10000
     },
     "inputWidgets": {},
     "nuid": "191d15b7-eff2-40a4-8278-464389a0579f",
     "showTitle": false,
     "title": ""
    }
   },
   "source": [
    "# Feature engineering"
   ]
  },
  {
   "cell_type": "code",
   "execution_count": 0,
   "metadata": {
    "application/vnd.databricks.v1+cell": {
     "cellMetadata": {
      "byteLimit": 2048000,
      "rowLimit": 10000
     },
     "inputWidgets": {},
     "nuid": "a059a117-d557-4773-8a2e-660b184cd0ae",
     "showTitle": false,
     "title": ""
    }
   },
   "outputs": [],
   "source": [
    "from pyspark.ml.feature import Imputer, StandardScaler, StringIndexer, VectorAssembler"
   ]
  },
  {
   "cell_type": "markdown",
   "metadata": {
    "application/vnd.databricks.v1+cell": {
     "cellMetadata": {
      "byteLimit": 2048000,
      "rowLimit": 10000
     },
     "inputWidgets": {},
     "nuid": "0eb0dde6-b151-4f16-b54e-e1fde55c0d93",
     "showTitle": false,
     "title": ""
    }
   },
   "source": [
    "## Categorical features"
   ]
  },
  {
   "cell_type": "markdown",
   "metadata": {
    "application/vnd.databricks.v1+cell": {
     "cellMetadata": {
      "byteLimit": 2048000,
      "rowLimit": 10000
     },
     "inputWidgets": {},
     "nuid": "1e63f96a-89dc-4577-96e4-af108ac7226c",
     "showTitle": false,
     "title": ""
    }
   },
   "source": [
    "**Etapa ##:** Atributos nominais: Codificar"
   ]
  },
  {
   "cell_type": "code",
   "execution_count": 0,
   "metadata": {
    "application/vnd.databricks.v1+cell": {
     "cellMetadata": {
      "byteLimit": 2048000,
      "rowLimit": 10000
     },
     "inputWidgets": {},
     "nuid": "93421609-c6d8-4908-a8d2-fc7adc277d26",
     "showTitle": false,
     "title": ""
    }
   },
   "outputs": [],
   "source": [
    "si = StringIndexer(inputCol='ocean_proximity', outputCol='ocean_proximity_')\n",
    "si_model = si.fit(train_set)\n",
    "train_set = si_model.transform(train_set)\n",
    "test_set  = si_model.transform(test_set)"
   ]
  },
  {
   "cell_type": "markdown",
   "metadata": {
    "application/vnd.databricks.v1+cell": {
     "cellMetadata": {
      "byteLimit": 2048000,
      "rowLimit": 10000
     },
     "inputWidgets": {},
     "nuid": "8e5c33ee-c6c2-47da-8daf-c493318248d3",
     "showTitle": false,
     "title": ""
    }
   },
   "source": [
    "## Numerical features"
   ]
  },
  {
   "cell_type": "markdown",
   "metadata": {
    "application/vnd.databricks.v1+cell": {
     "cellMetadata": {
      "byteLimit": 2048000,
      "rowLimit": 10000
     },
     "inputWidgets": {},
     "nuid": "19ec7c20-d76e-49da-b4bb-d362239b8abe",
     "showTitle": false,
     "title": ""
    }
   },
   "source": [
    "**Etapa ##:** NaN values: Imputar"
   ]
  },
  {
   "cell_type": "code",
   "execution_count": 0,
   "metadata": {
    "application/vnd.databricks.v1+cell": {
     "cellMetadata": {
      "byteLimit": 2048000,
      "rowLimit": 10000
     },
     "inputWidgets": {},
     "nuid": "20cee2db-47d8-4cb0-b249-99ae87ccbebc",
     "showTitle": false,
     "title": ""
    }
   },
   "outputs": [],
   "source": [
    "im = Imputer(strategy='mean', inputCol='total_bedrooms', outputCol='total_bedrooms_')\n",
    "im_model = im.fit(train_set)\n",
    "train_set = im_model.transform(train_set)\n",
    "test_set  = im_model.transform(test_set)"
   ]
  },
  {
   "cell_type": "markdown",
   "metadata": {
    "application/vnd.databricks.v1+cell": {
     "cellMetadata": {
      "byteLimit": 2048000,
      "rowLimit": 10000
     },
     "inputWidgets": {},
     "nuid": "826be613-85e0-4165-af9d-dd7ea47b932a",
     "showTitle": false,
     "title": ""
    },
    "jupyter": {
     "outputs_hidden": true
    }
   },
   "source": [
    "**Etapa ##:** Os atributos 'total_rooms' e 'total_bedrooms' não fazem sentido se eu deixá-los da forma como estão. 'total_rooms' refere-se à quantidade total de cômodos que há em cada quadra. 'total_bedrooms' refere-se à quantidade total de quartos que há em cada quadra. Vou criar novos atributos a partir dos existentes. Vou fazer isso dentro de uma classe para usar a classe Pipeline.\n",
    "1. **mean_bedrooms_households:** Quantidade média de quartos por habitação.\n",
    "1. **mean_rooms_households:** Quantidade média de cômodos por habitação.\n",
    "1. **mean_population_households:** Quantidade média de moradores por imóvel."
   ]
  },
  {
   "cell_type": "code",
   "execution_count": 0,
   "metadata": {
    "application/vnd.databricks.v1+cell": {
     "cellMetadata": {
      "byteLimit": 2048000,
      "rowLimit": 10000
     },
     "inputWidgets": {},
     "nuid": "ce6cc8c3-55a8-4a7c-bc4a-7af28caf44ae",
     "showTitle": false,
     "title": ""
    }
   },
   "outputs": [],
   "source": [
    "train_set = train_set.withColumn('mean_bedrooms_households', train_set['total_bedrooms_'] / train_set['households'])\n",
    "train_set = train_set.withColumn('mean_rooms_households', train_set['total_rooms'] / train_set['households'])\n",
    "train_set = train_set.withColumn('mean_population_households', train_set['population'] / train_set['households'])\n",
    "\n",
    "test_set = test_set.withColumn('mean_bedrooms_households', test_set['total_bedrooms_'] / test_set['households'])\n",
    "test_set = test_set.withColumn('mean_rooms_households', test_set['total_rooms'] / test_set['households'])\n",
    "test_set = test_set.withColumn('mean_population_households', test_set['population'] / test_set['households'])"
   ]
  },
  {
   "cell_type": "markdown",
   "metadata": {
    "application/vnd.databricks.v1+cell": {
     "cellMetadata": {
      "byteLimit": 2048000,
      "rowLimit": 10000
     },
     "inputWidgets": {},
     "nuid": "37c070b5-44bc-4b95-8764-857be4c85060",
     "showTitle": false,
     "title": ""
    }
   },
   "source": [
    "**Etapa ##:** Unir todas as colunas em uma única que será utilizada pelos modelos de Machine Learning do PySpark. Essa etapa dever ser feita antes da padronização dos atributos com StandardScaler."
   ]
  },
  {
   "cell_type": "code",
   "execution_count": 0,
   "metadata": {
    "application/vnd.databricks.v1+cell": {
     "cellMetadata": {
      "byteLimit": 2048000,
      "rowLimit": 10000
     },
     "inputWidgets": {},
     "nuid": "7dc846fc-9cb8-4d4d-8137-51fcf539ec69",
     "showTitle": false,
     "title": ""
    }
   },
   "outputs": [],
   "source": [
    "cols = ['longitude', 'latitude', 'housing_median_age', 'population', 'households', 'median_income', 'median_house_value', 'ocean_proximity_', 'total_bedrooms_', 'mean_bedrooms_households', 'mean_rooms_households', 'mean_population_households']\n",
    "\n",
    "va = VectorAssembler(inputCols=cols, outputCol='X')\n",
    "train_set = va.transform(train_set)\n",
    "test_set  = va.transform(test_set)"
   ]
  },
  {
   "cell_type": "markdown",
   "metadata": {
    "application/vnd.databricks.v1+cell": {
     "cellMetadata": {
      "byteLimit": 2048000,
      "rowLimit": 10000
     },
     "inputWidgets": {},
     "nuid": "e4ccfad9-c736-44aa-ad43-34e0897fbd25",
     "showTitle": false,
     "title": ""
    }
   },
   "source": [
    "**Etapa ##:** Padronização dos atributos com StandardScaler."
   ]
  },
  {
   "cell_type": "code",
   "execution_count": 0,
   "metadata": {
    "application/vnd.databricks.v1+cell": {
     "cellMetadata": {
      "byteLimit": 2048000,
      "rowLimit": 10000
     },
     "inputWidgets": {},
     "nuid": "503085c2-2c98-4b48-a7fe-848c2698ae9c",
     "showTitle": false,
     "title": ""
    }
   },
   "outputs": [],
   "source": [
    "ss = StandardScaler(inputCol='X', outputCol='X_')\n",
    "ss_model = ss.fit(train_set)\n",
    "train_set = ss_model.transform(train_set)\n",
    "test_set  = ss_model.transform(test_set)"
   ]
  },
  {
   "cell_type": "markdown",
   "metadata": {
    "application/vnd.databricks.v1+cell": {
     "cellMetadata": {
      "byteLimit": 2048000,
      "rowLimit": 10000
     },
     "inputWidgets": {},
     "nuid": "2fee84f4-b758-4d8c-afb3-4854e656d1ae",
     "showTitle": false,
     "title": ""
    }
   },
   "source": [
    "**Etapa ##:** Selecionar X e y dos conjuntos de treino e teste. Vou renomear \"X_\" para \"X\"  e \"median_house_value\" para \"y\" assim os conjuntos ficarão de acordo com o padrão de nomenclatura."
   ]
  },
  {
   "cell_type": "code",
   "execution_count": 0,
   "metadata": {
    "application/vnd.databricks.v1+cell": {
     "cellMetadata": {
      "byteLimit": 2048000,
      "rowLimit": 10000
     },
     "inputWidgets": {},
     "nuid": "940b0ce4-6a04-47a9-a95a-f3d5a5711173",
     "showTitle": false,
     "title": ""
    }
   },
   "outputs": [],
   "source": [
    "train_set = train_set.select('X_', 'median_house_value')\n",
    "test_set  = test_set.select('X_', 'median_house_value')\n",
    "\n",
    "train_set = train_set.withColumnRenamed(existing='X_', new='X')\n",
    "test_set  = test_set.withColumnRenamed(existing='X_', new='X')\n",
    "\n",
    "train_set = train_set.withColumnRenamed(existing='median_house_value', new='y')\n",
    "test_set  = test_set.withColumnRenamed(existing='median_house_value', new='y')"
   ]
  },
  {
   "cell_type": "markdown",
   "metadata": {
    "application/vnd.databricks.v1+cell": {
     "cellMetadata": {
      "byteLimit": 2048000,
      "rowLimit": 10000
     },
     "inputWidgets": {},
     "nuid": "918eafbc-e3ab-47f3-a9a3-d5f49d6e9446",
     "showTitle": false,
     "title": ""
    }
   },
   "source": [
    "# Model training\n"
   ]
  },
  {
   "cell_type": "code",
   "execution_count": 0,
   "metadata": {
    "application/vnd.databricks.v1+cell": {
     "cellMetadata": {
      "byteLimit": 2048000,
      "rowLimit": 10000
     },
     "inputWidgets": {},
     "nuid": "70c3c2d7-f8db-441e-9002-c04aa203b527",
     "showTitle": false,
     "title": ""
    }
   },
   "outputs": [],
   "source": [
    "from pyspark.ml.regression import LinearRegression, RandomForestRegressor"
   ]
  },
  {
   "cell_type": "code",
   "execution_count": 0,
   "metadata": {
    "application/vnd.databricks.v1+cell": {
     "cellMetadata": {
      "byteLimit": 2048000,
      "rowLimit": 10000
     },
     "inputWidgets": {},
     "nuid": "5c87888c-5f7e-4905-84a3-ea6b27a13119",
     "showTitle": false,
     "title": ""
    }
   },
   "outputs": [
    {
     "output_type": "stream",
     "name": "stdout",
     "output_type": "stream",
     "text": [
      "r2:  1.0\nmae: 3.036743201726002e-07\nmse: 1.682191870773665e-13\n+--------------------+--------+------------------+\n|                   X|       y|        prediction|\n+--------------------+--------+------------------+\n|[-61.961585568029...|106700.0|106699.99999962175|\n|[-61.951610266481...| 68400.0| 68400.00000012563|\n|[-61.936647314158...| 70500.0| 70499.99999969549|\n|[-61.936647314158...| 64600.0|64599.999999710715|\n|[-61.931659663384...| 86400.0| 86399.99999956966|\n|[-61.931659663384...|105900.0|105900.00000025496|\n|[-61.926672012610...| 85100.0| 85099.99999967922|\n|[-61.926672012610...| 85600.0| 85599.99999973827|\n|[-61.926672012610...| 81800.0| 81799.99999973776|\n|[-61.926672012610...| 74700.0|  74699.9999998099|\n|[-61.921684361835...| 86400.0| 86399.99999974194|\n|[-61.921684361835...|103100.0|103100.00000040485|\n|[-61.916696711061...| 75100.0| 75099.99999934474|\n|[-61.901733758739...| 96100.0| 96099.99999971352|\n|[-61.896746107964...| 55000.0| 54999.99999945175|\n|[-61.896746107964...| 57500.0| 57499.99999938481|\n|[-61.876795504867...| 98100.0| 98099.99999990496|\n|[-61.767067187835...|145800.0|145799.99999935742|\n|[-61.722178330867...|151400.0|151399.99999904662|\n|[-61.607462363060...| 83800.0| 83799.99999995023|\n+--------------------+--------+------------------+\nonly showing top 20 rows\n\n"
     ]
    }
   ],
   "source": [
    "lr = LinearRegression(featuresCol='X', labelCol='y', elasticNetParam=0.0)\n",
    "lr = lr.fit(train_set)\n",
    "y_pred = lr.evaluate(test_set)\n",
    "y_pred.r2, y_pred.meanAbsoluteError\n",
    "print(f'r2:  {y_pred.r2}')\n",
    "print(f'mae: {y_pred.meanAbsoluteError}')\n",
    "print(f'mse: {y_pred.meanSquaredError}')\n",
    "y_pred.predictions.show()"
   ]
  },
  {
   "cell_type": "code",
   "execution_count": 0,
   "metadata": {
    "application/vnd.databricks.v1+cell": {
     "cellMetadata": {
      "byteLimit": 2048000,
      "rowLimit": 10000
     },
     "inputWidgets": {},
     "nuid": "64f4dd76-628a-499a-a855-0200c992a4dd",
     "showTitle": false,
     "title": ""
    }
   },
   "outputs": [],
   "source": [
    "rf = RandomForestRegressor(featuresCol='X', labelCol='y')\n",
    "rf = rf.fit(train_set)"
   ]
  }
 ],
 "metadata": {
  "application/vnd.databricks.v1+notebook": {
   "dashboards": [],
   "language": "python",
   "notebookMetadata": {
    "pythonIndentUnit": 4
   },
   "notebookName": "regression - housing",
   "widgets": {}
  }
 },
 "nbformat": 4,
 "nbformat_minor": 0
}
