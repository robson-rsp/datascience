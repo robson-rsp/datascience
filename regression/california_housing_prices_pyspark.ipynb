{
 "cells": [
  {
   "cell_type": "markdown",
   "metadata": {
    "application/vnd.databricks.v1+cell": {
     "cellMetadata": {
      "byteLimit": 2048000,
      "rowLimit": 10000
     },
     "inputWidgets": {},
     "nuid": "96816ed7-b08a-4ca3-abb9-f99880c3535d",
     "showTitle": false,
     "title": ""
    }
   },
   "source": [
    "# California housing prices \n",
    ".\n",
    "Versão com o PySpark do kernel [California housing prices](https://github.com/robson-rsp/datascience/blob/main/regression/california_housing_prices.ipynb). Este notebook foi escrito no ambiente do Databricks e exportado como arquivo IPython .ipynb. Os textos daqui são cópias dos originais do link.\n",
    "---\n",
    "A tarefa neste kernel é criar um modelo de Machine Learning que estime preços de imóveis no estado da Califórnia baseado em características, como:\n",
    "\n",
    "*   latitude/longitude: Localização do imóvel\n",
    "*   housing_median_age: Idade média dos imóveis naquela quadra\n",
    "*   totalRooms: Número total de cômodos dentro de um quarteirão\n",
    "*   totalBedrooms: Número total de quartos dentro de um quarteirão\n",
    "*   population: Número total de pessoas que moram em uma quadra\n",
    "*   households: Número total de habitações em uma quadra\n",
    "*   medianIncome: Renda média das famílias de uma quadra (medida em dezenas de milhares de dólares americanos)\n",
    "*   medianHouseValue: Valor médio dos imóveis de uma quadra (medido em dólares americanos)\n",
    "*   oceanProximity: Localização do imóvel em relação ao oceano/mar\n",
    "\n",
    "Obs. A média populacional desses quarteirões é de 600 até 3000 pessoas.\n",
    "\n",
    "Fonte: [Kaggle](https://www.kaggle.com/datasets/camnugent/california-housing-prices)"
   ]
  },
  {
   "cell_type": "code",
   "execution_count": 0,
   "metadata": {
    "application/vnd.databricks.v1+cell": {
     "cellMetadata": {
      "byteLimit": 2048000,
      "rowLimit": 10000
     },
     "inputWidgets": {},
     "nuid": "6482be4c-f067-47c9-b0ac-35c938b94601",
     "showTitle": false,
     "title": ""
    }
   },
   "outputs": [],
   "source": [
    "\n",
    "housing = spark.read.format(\"csv\") \\\n",
    "          .option(\"inferSchema\", \"True\") \\\n",
    "          .option(\"header\", \"True\") \\\n",
    "          .option(\"sep\", \",\") \\\n",
    "          .load(\"/FileStore/tables/housing.csv\")"
   ]
  },
  {
   "cell_type": "markdown",
   "metadata": {
    "application/vnd.databricks.v1+cell": {
     "cellMetadata": {
      "byteLimit": 2048000,
      "rowLimit": 10000
     },
     "inputWidgets": {},
     "nuid": "b10edc3d-cd8e-439a-b2c3-ba579f3fd2b9",
     "showTitle": false,
     "title": ""
    },
    "jupyter": {
     "outputs_hidden": true
    }
   },
   "source": [
    "# EDA"
   ]
  },
  {
   "cell_type": "code",
   "execution_count": 0,
   "metadata": {
    "application/vnd.databricks.v1+cell": {
     "cellMetadata": {
      "byteLimit": 2048000,
      "rowLimit": 10000
     },
     "inputWidgets": {},
     "nuid": "113180d0-c651-45f1-bf17-747153ac51c2",
     "showTitle": false,
     "title": ""
    }
   },
   "outputs": [
    {
     "output_type": "display_data",
     "data": {
      "text/html": [
       "<div>\n",
       "<style scoped>\n",
       "    .dataframe tbody tr th:only-of-type {\n",
       "        vertical-align: middle;\n",
       "    }\n",
       "\n",
       "    .dataframe tbody tr th {\n",
       "        vertical-align: top;\n",
       "    }\n",
       "\n",
       "    .dataframe thead th {\n",
       "        text-align: right;\n",
       "    }\n",
       "</style>\n",
       "<table border=\"1\" class=\"dataframe\">\n",
       "  <thead>\n",
       "    <tr style=\"text-align: right;\">\n",
       "      <th></th>\n",
       "      <th>longitude</th>\n",
       "      <th>latitude</th>\n",
       "      <th>housing_median_age</th>\n",
       "      <th>total_rooms</th>\n",
       "      <th>total_bedrooms</th>\n",
       "      <th>population</th>\n",
       "      <th>households</th>\n",
       "      <th>median_income</th>\n",
       "      <th>median_house_value</th>\n",
       "      <th>ocean_proximity</th>\n",
       "    </tr>\n",
       "  </thead>\n",
       "  <tbody>\n",
       "    <tr>\n",
       "      <th>0</th>\n",
       "      <td>-122.27</td>\n",
       "      <td>37.85</td>\n",
       "      <td>42.0</td>\n",
       "      <td>1639.0</td>\n",
       "      <td>367.0</td>\n",
       "      <td>929.0</td>\n",
       "      <td>366.0</td>\n",
       "      <td>1.7135</td>\n",
       "      <td>159800.0</td>\n",
       "      <td>NEAR BAY</td>\n",
       "    </tr>\n",
       "    <tr>\n",
       "      <th>1</th>\n",
       "      <td>-122.24</td>\n",
       "      <td>37.80</td>\n",
       "      <td>52.0</td>\n",
       "      <td>996.0</td>\n",
       "      <td>228.0</td>\n",
       "      <td>731.0</td>\n",
       "      <td>228.0</td>\n",
       "      <td>2.2697</td>\n",
       "      <td>127000.0</td>\n",
       "      <td>NEAR BAY</td>\n",
       "    </tr>\n",
       "    <tr>\n",
       "      <th>2</th>\n",
       "      <td>-122.23</td>\n",
       "      <td>37.78</td>\n",
       "      <td>44.0</td>\n",
       "      <td>2340.0</td>\n",
       "      <td>825.0</td>\n",
       "      <td>2813.0</td>\n",
       "      <td>751.0</td>\n",
       "      <td>1.6009</td>\n",
       "      <td>118100.0</td>\n",
       "      <td>NEAR BAY</td>\n",
       "    </tr>\n",
       "    <tr>\n",
       "      <th>3</th>\n",
       "      <td>-122.17</td>\n",
       "      <td>37.76</td>\n",
       "      <td>41.0</td>\n",
       "      <td>1594.0</td>\n",
       "      <td>367.0</td>\n",
       "      <td>1074.0</td>\n",
       "      <td>355.0</td>\n",
       "      <td>1.9356</td>\n",
       "      <td>90600.0</td>\n",
       "      <td>NEAR BAY</td>\n",
       "    </tr>\n",
       "    <tr>\n",
       "      <th>4</th>\n",
       "      <td>-122.28</td>\n",
       "      <td>37.87</td>\n",
       "      <td>49.0</td>\n",
       "      <td>2026.0</td>\n",
       "      <td>548.0</td>\n",
       "      <td>963.0</td>\n",
       "      <td>521.0</td>\n",
       "      <td>1.9805</td>\n",
       "      <td>173700.0</td>\n",
       "      <td>NEAR BAY</td>\n",
       "    </tr>\n",
       "    <tr>\n",
       "      <th>...</th>\n",
       "      <td>...</td>\n",
       "      <td>...</td>\n",
       "      <td>...</td>\n",
       "      <td>...</td>\n",
       "      <td>...</td>\n",
       "      <td>...</td>\n",
       "      <td>...</td>\n",
       "      <td>...</td>\n",
       "      <td>...</td>\n",
       "      <td>...</td>\n",
       "    </tr>\n",
       "    <tr>\n",
       "      <th>201</th>\n",
       "      <td>-119.17</td>\n",
       "      <td>34.18</td>\n",
       "      <td>38.0</td>\n",
       "      <td>3221.0</td>\n",
       "      <td>783.0</td>\n",
       "      <td>2792.0</td>\n",
       "      <td>736.0</td>\n",
       "      <td>2.9118</td>\n",
       "      <td>172400.0</td>\n",
       "      <td>NEAR OCEAN</td>\n",
       "    </tr>\n",
       "    <tr>\n",
       "      <th>202</th>\n",
       "      <td>-119.15</td>\n",
       "      <td>34.25</td>\n",
       "      <td>36.0</td>\n",
       "      <td>3511.0</td>\n",
       "      <td>664.0</td>\n",
       "      <td>2965.0</td>\n",
       "      <td>695.0</td>\n",
       "      <td>4.0878</td>\n",
       "      <td>186800.0</td>\n",
       "      <td>NEAR OCEAN</td>\n",
       "    </tr>\n",
       "    <tr>\n",
       "      <th>203</th>\n",
       "      <td>-118.83</td>\n",
       "      <td>34.15</td>\n",
       "      <td>16.0</td>\n",
       "      <td>3380.0</td>\n",
       "      <td>731.0</td>\n",
       "      <td>1227.0</td>\n",
       "      <td>641.0</td>\n",
       "      <td>4.2857</td>\n",
       "      <td>233200.0</td>\n",
       "      <td>NEAR OCEAN</td>\n",
       "    </tr>\n",
       "    <tr>\n",
       "      <th>204</th>\n",
       "      <td>-118.73</td>\n",
       "      <td>34.29</td>\n",
       "      <td>8.0</td>\n",
       "      <td>4983.0</td>\n",
       "      <td>754.0</td>\n",
       "      <td>2510.0</td>\n",
       "      <td>725.0</td>\n",
       "      <td>6.9454</td>\n",
       "      <td>276500.0</td>\n",
       "      <td>&lt;1H OCEAN</td>\n",
       "    </tr>\n",
       "    <tr>\n",
       "      <th>205</th>\n",
       "      <td>-121.41</td>\n",
       "      <td>39.04</td>\n",
       "      <td>16.0</td>\n",
       "      <td>1698.0</td>\n",
       "      <td>300.0</td>\n",
       "      <td>731.0</td>\n",
       "      <td>291.0</td>\n",
       "      <td>3.0739</td>\n",
       "      <td>87200.0</td>\n",
       "      <td>INLAND</td>\n",
       "    </tr>\n",
       "  </tbody>\n",
       "</table>\n",
       "<p>206 rows × 10 columns</p>\n",
       "</div>"
      ]
     },
     "metadata": {
      "application/vnd.databricks.v1+output": {
       "addedWidgets": {},
       "arguments": {},
       "data": "<div>\n<style scoped>\n    .dataframe tbody tr th:only-of-type {\n        vertical-align: middle;\n    }\n\n    .dataframe tbody tr th {\n        vertical-align: top;\n    }\n\n    .dataframe thead th {\n        text-align: right;\n    }\n</style>\n<table border=\"1\" class=\"dataframe\">\n  <thead>\n    <tr style=\"text-align: right;\">\n      <th></th>\n      <th>longitude</th>\n      <th>latitude</th>\n      <th>housing_median_age</th>\n      <th>total_rooms</th>\n      <th>total_bedrooms</th>\n      <th>population</th>\n      <th>households</th>\n      <th>median_income</th>\n      <th>median_house_value</th>\n      <th>ocean_proximity</th>\n    </tr>\n  </thead>\n  <tbody>\n    <tr>\n      <th>0</th>\n      <td>-122.27</td>\n      <td>37.85</td>\n      <td>42.0</td>\n      <td>1639.0</td>\n      <td>367.0</td>\n      <td>929.0</td>\n      <td>366.0</td>\n      <td>1.7135</td>\n      <td>159800.0</td>\n      <td>NEAR BAY</td>\n    </tr>\n    <tr>\n      <th>1</th>\n      <td>-122.24</td>\n      <td>37.80</td>\n      <td>52.0</td>\n      <td>996.0</td>\n      <td>228.0</td>\n      <td>731.0</td>\n      <td>228.0</td>\n      <td>2.2697</td>\n      <td>127000.0</td>\n      <td>NEAR BAY</td>\n    </tr>\n    <tr>\n      <th>2</th>\n      <td>-122.23</td>\n      <td>37.78</td>\n      <td>44.0</td>\n      <td>2340.0</td>\n      <td>825.0</td>\n      <td>2813.0</td>\n      <td>751.0</td>\n      <td>1.6009</td>\n      <td>118100.0</td>\n      <td>NEAR BAY</td>\n    </tr>\n    <tr>\n      <th>3</th>\n      <td>-122.17</td>\n      <td>37.76</td>\n      <td>41.0</td>\n      <td>1594.0</td>\n      <td>367.0</td>\n      <td>1074.0</td>\n      <td>355.0</td>\n      <td>1.9356</td>\n      <td>90600.0</td>\n      <td>NEAR BAY</td>\n    </tr>\n    <tr>\n      <th>4</th>\n      <td>-122.28</td>\n      <td>37.87</td>\n      <td>49.0</td>\n      <td>2026.0</td>\n      <td>548.0</td>\n      <td>963.0</td>\n      <td>521.0</td>\n      <td>1.9805</td>\n      <td>173700.0</td>\n      <td>NEAR BAY</td>\n    </tr>\n    <tr>\n      <th>...</th>\n      <td>...</td>\n      <td>...</td>\n      <td>...</td>\n      <td>...</td>\n      <td>...</td>\n      <td>...</td>\n      <td>...</td>\n      <td>...</td>\n      <td>...</td>\n      <td>...</td>\n    </tr>\n    <tr>\n      <th>201</th>\n      <td>-119.17</td>\n      <td>34.18</td>\n      <td>38.0</td>\n      <td>3221.0</td>\n      <td>783.0</td>\n      <td>2792.0</td>\n      <td>736.0</td>\n      <td>2.9118</td>\n      <td>172400.0</td>\n      <td>NEAR OCEAN</td>\n    </tr>\n    <tr>\n      <th>202</th>\n      <td>-119.15</td>\n      <td>34.25</td>\n      <td>36.0</td>\n      <td>3511.0</td>\n      <td>664.0</td>\n      <td>2965.0</td>\n      <td>695.0</td>\n      <td>4.0878</td>\n      <td>186800.0</td>\n      <td>NEAR OCEAN</td>\n    </tr>\n    <tr>\n      <th>203</th>\n      <td>-118.83</td>\n      <td>34.15</td>\n      <td>16.0</td>\n      <td>3380.0</td>\n      <td>731.0</td>\n      <td>1227.0</td>\n      <td>641.0</td>\n      <td>4.2857</td>\n      <td>233200.0</td>\n      <td>NEAR OCEAN</td>\n    </tr>\n    <tr>\n      <th>204</th>\n      <td>-118.73</td>\n      <td>34.29</td>\n      <td>8.0</td>\n      <td>4983.0</td>\n      <td>754.0</td>\n      <td>2510.0</td>\n      <td>725.0</td>\n      <td>6.9454</td>\n      <td>276500.0</td>\n      <td>&lt;1H OCEAN</td>\n    </tr>\n    <tr>\n      <th>205</th>\n      <td>-121.41</td>\n      <td>39.04</td>\n      <td>16.0</td>\n      <td>1698.0</td>\n      <td>300.0</td>\n      <td>731.0</td>\n      <td>291.0</td>\n      <td>3.0739</td>\n      <td>87200.0</td>\n      <td>INLAND</td>\n    </tr>\n  </tbody>\n</table>\n<p>206 rows × 10 columns</p>\n</div>",
       "datasetInfos": [],
       "metadata": {},
       "removedWidgets": [],
       "textData": null,
       "type": "htmlSandbox"
      }
     },
     "output_type": "display_data"
    }
   ],
   "source": [
    "housing.sample(fraction=0.01).toPandas()"
   ]
  },
  {
   "cell_type": "code",
   "execution_count": 0,
   "metadata": {
    "application/vnd.databricks.v1+cell": {
     "cellMetadata": {
      "byteLimit": 2048000,
      "rowLimit": 10000
     },
     "inputWidgets": {},
     "nuid": "e217c1be-8724-4a83-80ac-cdf27a3f96cf",
     "showTitle": false,
     "title": ""
    }
   },
   "outputs": [
    {
     "output_type": "stream",
     "name": "stdout",
     "output_type": "stream",
     "text": [
      "shape=(20640, 10)\n"
     ]
    }
   ],
   "source": [
    "print(f'shape={housing.count(), len(housing.columns)}')"
   ]
  },
  {
   "cell_type": "code",
   "execution_count": 0,
   "metadata": {
    "application/vnd.databricks.v1+cell": {
     "cellMetadata": {
      "byteLimit": 2048000,
      "rowLimit": 10000
     },
     "inputWidgets": {},
     "nuid": "4154b79b-cf6b-4058-b92e-5910e07a0e11",
     "showTitle": false,
     "title": ""
    }
   },
   "outputs": [
    {
     "output_type": "display_data",
     "data": {
      "text/html": [
       "<div>\n",
       "<style scoped>\n",
       "    .dataframe tbody tr th:only-of-type {\n",
       "        vertical-align: middle;\n",
       "    }\n",
       "\n",
       "    .dataframe tbody tr th {\n",
       "        vertical-align: top;\n",
       "    }\n",
       "\n",
       "    .dataframe thead th {\n",
       "        text-align: right;\n",
       "    }\n",
       "</style>\n",
       "<table border=\"1\" class=\"dataframe\">\n",
       "  <thead>\n",
       "    <tr style=\"text-align: right;\">\n",
       "      <th></th>\n",
       "      <th>summary</th>\n",
       "      <th>longitude</th>\n",
       "      <th>latitude</th>\n",
       "      <th>housing_median_age</th>\n",
       "      <th>total_rooms</th>\n",
       "      <th>total_bedrooms</th>\n",
       "      <th>population</th>\n",
       "      <th>households</th>\n",
       "      <th>median_income</th>\n",
       "      <th>median_house_value</th>\n",
       "      <th>ocean_proximity</th>\n",
       "    </tr>\n",
       "  </thead>\n",
       "  <tbody>\n",
       "    <tr>\n",
       "      <th>0</th>\n",
       "      <td>count</td>\n",
       "      <td>20640</td>\n",
       "      <td>20640</td>\n",
       "      <td>20640</td>\n",
       "      <td>20640</td>\n",
       "      <td>20433</td>\n",
       "      <td>20640</td>\n",
       "      <td>20640</td>\n",
       "      <td>20640</td>\n",
       "      <td>20640</td>\n",
       "      <td>20640</td>\n",
       "    </tr>\n",
       "    <tr>\n",
       "      <th>1</th>\n",
       "      <td>mean</td>\n",
       "      <td>-119.56970445736148</td>\n",
       "      <td>35.6318614341087</td>\n",
       "      <td>28.639486434108527</td>\n",
       "      <td>2635.7630813953488</td>\n",
       "      <td>537.8705525375618</td>\n",
       "      <td>1425.4767441860465</td>\n",
       "      <td>499.5396802325581</td>\n",
       "      <td>3.8706710029070246</td>\n",
       "      <td>206855.81690891474</td>\n",
       "      <td>None</td>\n",
       "    </tr>\n",
       "    <tr>\n",
       "      <th>2</th>\n",
       "      <td>stddev</td>\n",
       "      <td>2.003531723502584</td>\n",
       "      <td>2.135952397457101</td>\n",
       "      <td>12.58555761211163</td>\n",
       "      <td>2181.6152515827944</td>\n",
       "      <td>421.38507007403115</td>\n",
       "      <td>1132.46212176534</td>\n",
       "      <td>382.3297528316098</td>\n",
       "      <td>1.899821717945263</td>\n",
       "      <td>115395.61587441359</td>\n",
       "      <td>None</td>\n",
       "    </tr>\n",
       "    <tr>\n",
       "      <th>3</th>\n",
       "      <td>min</td>\n",
       "      <td>-124.35</td>\n",
       "      <td>32.54</td>\n",
       "      <td>1.0</td>\n",
       "      <td>2.0</td>\n",
       "      <td>1.0</td>\n",
       "      <td>3.0</td>\n",
       "      <td>1.0</td>\n",
       "      <td>0.4999</td>\n",
       "      <td>14999.0</td>\n",
       "      <td>&lt;1H OCEAN</td>\n",
       "    </tr>\n",
       "    <tr>\n",
       "      <th>4</th>\n",
       "      <td>25%</td>\n",
       "      <td>-121.8</td>\n",
       "      <td>33.93</td>\n",
       "      <td>18.0</td>\n",
       "      <td>1447.0</td>\n",
       "      <td>296.0</td>\n",
       "      <td>787.0</td>\n",
       "      <td>280.0</td>\n",
       "      <td>2.5625</td>\n",
       "      <td>119600.0</td>\n",
       "      <td>None</td>\n",
       "    </tr>\n",
       "    <tr>\n",
       "      <th>5</th>\n",
       "      <td>50%</td>\n",
       "      <td>-118.49</td>\n",
       "      <td>34.26</td>\n",
       "      <td>29.0</td>\n",
       "      <td>2127.0</td>\n",
       "      <td>435.0</td>\n",
       "      <td>1166.0</td>\n",
       "      <td>409.0</td>\n",
       "      <td>3.5347</td>\n",
       "      <td>179700.0</td>\n",
       "      <td>None</td>\n",
       "    </tr>\n",
       "    <tr>\n",
       "      <th>6</th>\n",
       "      <td>75%</td>\n",
       "      <td>-118.01</td>\n",
       "      <td>37.71</td>\n",
       "      <td>37.0</td>\n",
       "      <td>3146.0</td>\n",
       "      <td>647.0</td>\n",
       "      <td>1724.0</td>\n",
       "      <td>605.0</td>\n",
       "      <td>4.7426</td>\n",
       "      <td>264700.0</td>\n",
       "      <td>None</td>\n",
       "    </tr>\n",
       "    <tr>\n",
       "      <th>7</th>\n",
       "      <td>max</td>\n",
       "      <td>-114.31</td>\n",
       "      <td>41.95</td>\n",
       "      <td>52.0</td>\n",
       "      <td>39320.0</td>\n",
       "      <td>6445.0</td>\n",
       "      <td>35682.0</td>\n",
       "      <td>6082.0</td>\n",
       "      <td>15.0001</td>\n",
       "      <td>500001.0</td>\n",
       "      <td>NEAR OCEAN</td>\n",
       "    </tr>\n",
       "  </tbody>\n",
       "</table>\n",
       "</div>"
      ]
     },
     "metadata": {
      "application/vnd.databricks.v1+output": {
       "addedWidgets": {},
       "arguments": {},
       "data": "<div>\n<style scoped>\n    .dataframe tbody tr th:only-of-type {\n        vertical-align: middle;\n    }\n\n    .dataframe tbody tr th {\n        vertical-align: top;\n    }\n\n    .dataframe thead th {\n        text-align: right;\n    }\n</style>\n<table border=\"1\" class=\"dataframe\">\n  <thead>\n    <tr style=\"text-align: right;\">\n      <th></th>\n      <th>summary</th>\n      <th>longitude</th>\n      <th>latitude</th>\n      <th>housing_median_age</th>\n      <th>total_rooms</th>\n      <th>total_bedrooms</th>\n      <th>population</th>\n      <th>households</th>\n      <th>median_income</th>\n      <th>median_house_value</th>\n      <th>ocean_proximity</th>\n    </tr>\n  </thead>\n  <tbody>\n    <tr>\n      <th>0</th>\n      <td>count</td>\n      <td>20640</td>\n      <td>20640</td>\n      <td>20640</td>\n      <td>20640</td>\n      <td>20433</td>\n      <td>20640</td>\n      <td>20640</td>\n      <td>20640</td>\n      <td>20640</td>\n      <td>20640</td>\n    </tr>\n    <tr>\n      <th>1</th>\n      <td>mean</td>\n      <td>-119.56970445736148</td>\n      <td>35.6318614341087</td>\n      <td>28.639486434108527</td>\n      <td>2635.7630813953488</td>\n      <td>537.8705525375618</td>\n      <td>1425.4767441860465</td>\n      <td>499.5396802325581</td>\n      <td>3.8706710029070246</td>\n      <td>206855.81690891474</td>\n      <td>None</td>\n    </tr>\n    <tr>\n      <th>2</th>\n      <td>stddev</td>\n      <td>2.003531723502584</td>\n      <td>2.135952397457101</td>\n      <td>12.58555761211163</td>\n      <td>2181.6152515827944</td>\n      <td>421.38507007403115</td>\n      <td>1132.46212176534</td>\n      <td>382.3297528316098</td>\n      <td>1.899821717945263</td>\n      <td>115395.61587441359</td>\n      <td>None</td>\n    </tr>\n    <tr>\n      <th>3</th>\n      <td>min</td>\n      <td>-124.35</td>\n      <td>32.54</td>\n      <td>1.0</td>\n      <td>2.0</td>\n      <td>1.0</td>\n      <td>3.0</td>\n      <td>1.0</td>\n      <td>0.4999</td>\n      <td>14999.0</td>\n      <td>&lt;1H OCEAN</td>\n    </tr>\n    <tr>\n      <th>4</th>\n      <td>25%</td>\n      <td>-121.8</td>\n      <td>33.93</td>\n      <td>18.0</td>\n      <td>1447.0</td>\n      <td>296.0</td>\n      <td>787.0</td>\n      <td>280.0</td>\n      <td>2.5625</td>\n      <td>119600.0</td>\n      <td>None</td>\n    </tr>\n    <tr>\n      <th>5</th>\n      <td>50%</td>\n      <td>-118.49</td>\n      <td>34.26</td>\n      <td>29.0</td>\n      <td>2127.0</td>\n      <td>435.0</td>\n      <td>1166.0</td>\n      <td>409.0</td>\n      <td>3.5347</td>\n      <td>179700.0</td>\n      <td>None</td>\n    </tr>\n    <tr>\n      <th>6</th>\n      <td>75%</td>\n      <td>-118.01</td>\n      <td>37.71</td>\n      <td>37.0</td>\n      <td>3146.0</td>\n      <td>647.0</td>\n      <td>1724.0</td>\n      <td>605.0</td>\n      <td>4.7426</td>\n      <td>264700.0</td>\n      <td>None</td>\n    </tr>\n    <tr>\n      <th>7</th>\n      <td>max</td>\n      <td>-114.31</td>\n      <td>41.95</td>\n      <td>52.0</td>\n      <td>39320.0</td>\n      <td>6445.0</td>\n      <td>35682.0</td>\n      <td>6082.0</td>\n      <td>15.0001</td>\n      <td>500001.0</td>\n      <td>NEAR OCEAN</td>\n    </tr>\n  </tbody>\n</table>\n</div>",
       "datasetInfos": [],
       "metadata": {},
       "removedWidgets": [],
       "textData": null,
       "type": "htmlSandbox"
      }
     },
     "output_type": "display_data"
    }
   ],
   "source": [
    "housing.summary(\"count\", \"mean\", \"stddev\", \"min\", \"25%\", \"50%\", \"75%\", \"max\").toPandas()"
   ]
  },
  {
   "cell_type": "markdown",
   "metadata": {
    "application/vnd.databricks.v1+cell": {
     "cellMetadata": {
      "byteLimit": 2048000,
      "rowLimit": 10000
     },
     "inputWidgets": {},
     "nuid": "e268ad76-a123-4e10-b0b1-19904096b2a2",
     "showTitle": false,
     "title": ""
    }
   },
   "source": [
    "Verificando a ocorrência de campos NaN."
   ]
  },
  {
   "cell_type": "code",
   "execution_count": 0,
   "metadata": {
    "application/vnd.databricks.v1+cell": {
     "cellMetadata": {
      "byteLimit": 2048000,
      "rowLimit": 10000
     },
     "inputWidgets": {},
     "nuid": "d6cb045a-b5d6-4fe1-90a0-200a9bc71afd",
     "showTitle": false,
     "title": ""
    }
   },
   "outputs": [
    {
     "output_type": "stream",
     "name": "stdout",
     "output_type": "stream",
     "text": [
      "longitude: 0\nlatitude: 0\nhousing_median_age: 0\ntotal_rooms: 0\ntotal_bedrooms: 207\npopulation: 0\nhouseholds: 0\nmedian_income: 0\nmedian_house_value: 0\nocean_proximity: 0\n"
     ]
    }
   ],
   "source": [
    "for name in housing.columns:\n",
    "    mask = housing[name].isNull()\n",
    "    print(f'{name}: {housing.where(mask).count()}')"
   ]
  },
  {
   "cell_type": "markdown",
   "metadata": {
    "application/vnd.databricks.v1+cell": {
     "cellMetadata": {
      "byteLimit": 2048000,
      "rowLimit": 10000
     },
     "inputWidgets": {},
     "nuid": "44aa03cb-036b-4e49-9ab3-8e111d86f39b",
     "showTitle": false,
     "title": ""
    }
   },
   "source": [
    "# Data visualization\n",
    "\n",
    "Os gráficos foram criados utilizando as ferramentas de visualização nativas do Databricks. O resultado não pode ser visto em um arquivo .ipynb"
   ]
  },
  {
   "cell_type": "markdown",
   "metadata": {
    "application/vnd.databricks.v1+cell": {
     "cellMetadata": {
      "byteLimit": 2048000,
      "rowLimit": 10000
     },
     "inputWidgets": {},
     "nuid": "f7461849-7e49-4b05-a921-b40e4237ecc6",
     "showTitle": false,
     "title": ""
    }
   },
   "source": [
    "# Train/Test split"
   ]
  },
  {
   "cell_type": "code",
   "execution_count": 0,
   "metadata": {
    "application/vnd.databricks.v1+cell": {
     "cellMetadata": {
      "byteLimit": 2048000,
      "rowLimit": 10000
     },
     "inputWidgets": {},
     "nuid": "8fcd54b7-41cb-4950-9c00-172c5372ad7e",
     "showTitle": false,
     "title": ""
    }
   },
   "outputs": [],
   "source": [
    "train_set, test_set = housing.randomSplit([0.8, 0.2])"
   ]
  },
  {
   "cell_type": "markdown",
   "metadata": {
    "application/vnd.databricks.v1+cell": {
     "cellMetadata": {
      "byteLimit": 2048000,
      "rowLimit": 10000
     },
     "inputWidgets": {},
     "nuid": "191d15b7-eff2-40a4-8278-464389a0579f",
     "showTitle": false,
     "title": ""
    }
   },
   "source": [
    "# Feature engineering"
   ]
  },
  {
   "cell_type": "code",
   "execution_count": 0,
   "metadata": {
    "application/vnd.databricks.v1+cell": {
     "cellMetadata": {
      "byteLimit": 2048000,
      "rowLimit": 10000
     },
     "inputWidgets": {},
     "nuid": "a059a117-d557-4773-8a2e-660b184cd0ae",
     "showTitle": false,
     "title": ""
    }
   },
   "outputs": [],
   "source": [
    "from pyspark.ml.feature import Imputer, StringIndexer, VectorAssembler"
   ]
  },
  {
   "cell_type": "markdown",
   "metadata": {
    "application/vnd.databricks.v1+cell": {
     "cellMetadata": {
      "byteLimit": 2048000,
      "rowLimit": 10000
     },
     "inputWidgets": {},
     "nuid": "0eb0dde6-b151-4f16-b54e-e1fde55c0d93",
     "showTitle": false,
     "title": ""
    }
   },
   "source": [
    "## Categorical features"
   ]
  },
  {
   "cell_type": "markdown",
   "metadata": {
    "application/vnd.databricks.v1+cell": {
     "cellMetadata": {
      "byteLimit": 2048000,
      "rowLimit": 10000
     },
     "inputWidgets": {},
     "nuid": "1e63f96a-89dc-4577-96e4-af108ac7226c",
     "showTitle": false,
     "title": ""
    }
   },
   "source": [
    "**Etapa ##:** Atributos nominais: Codificar"
   ]
  },
  {
   "cell_type": "code",
   "execution_count": 0,
   "metadata": {
    "application/vnd.databricks.v1+cell": {
     "cellMetadata": {
      "byteLimit": 2048000,
      "rowLimit": 10000
     },
     "inputWidgets": {},
     "nuid": "93421609-c6d8-4908-a8d2-fc7adc277d26",
     "showTitle": false,
     "title": ""
    }
   },
   "outputs": [],
   "source": [
    "si = StringIndexer(inputCol='ocean_proximity', outputCol='ocean_proximity_')\n",
    "si_model = si.fit(train_set)\n",
    "train_set = si_model.transform(train_set)\n",
    "test_set  = si_model.transform(test_set)"
   ]
  },
  {
   "cell_type": "markdown",
   "metadata": {
    "application/vnd.databricks.v1+cell": {
     "cellMetadata": {
      "byteLimit": 2048000,
      "rowLimit": 10000
     },
     "inputWidgets": {},
     "nuid": "8e5c33ee-c6c2-47da-8daf-c493318248d3",
     "showTitle": false,
     "title": ""
    }
   },
   "source": [
    "## Numerical features"
   ]
  },
  {
   "cell_type": "markdown",
   "metadata": {
    "application/vnd.databricks.v1+cell": {
     "cellMetadata": {
      "byteLimit": 2048000,
      "rowLimit": 10000
     },
     "inputWidgets": {},
     "nuid": "19ec7c20-d76e-49da-b4bb-d362239b8abe",
     "showTitle": false,
     "title": ""
    }
   },
   "source": [
    "**Etapa ##:** NaN values: Imputar"
   ]
  },
  {
   "cell_type": "code",
   "execution_count": 0,
   "metadata": {
    "application/vnd.databricks.v1+cell": {
     "cellMetadata": {
      "byteLimit": 2048000,
      "rowLimit": 10000
     },
     "inputWidgets": {},
     "nuid": "20cee2db-47d8-4cb0-b249-99ae87ccbebc",
     "showTitle": false,
     "title": ""
    }
   },
   "outputs": [],
   "source": [
    "im = Imputer(strategy='mean', inputCol='total_bedrooms', outputCol='total_bedrooms_')\n",
    "im_model = im.fit(train_set)\n",
    "train_set = im_model.transform(train_set)\n",
    "test_set  = im_model.transform(test_set)"
   ]
  }
 ],
 "metadata": {
  "application/vnd.databricks.v1+notebook": {
   "dashboards": [],
   "language": "python",
   "notebookMetadata": {
    "pythonIndentUnit": 4
   },
   "notebookName": "regression - housing",
   "widgets": {}
  }
 },
 "nbformat": 4,
 "nbformat_minor": 0
}
