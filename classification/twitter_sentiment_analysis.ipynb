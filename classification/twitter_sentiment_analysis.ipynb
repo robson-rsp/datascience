{
  "nbformat": 4,
  "nbformat_minor": 0,
  "metadata": {
    "colab": {
      "provenance": [],
      "authorship_tag": "ABX9TyPxzsV3dlXn4ZwvFsXkREDa",
      "include_colab_link": true
    },
    "kernelspec": {
      "name": "python3",
      "display_name": "Python 3"
    },
    "language_info": {
      "name": "python"
    },
    "widgets": {
      "application/vnd.jupyter.widget-state+json": {
        "b6886ad06f1d42a98867af933c327d72": {
          "model_module": "@jupyter-widgets/controls",
          "model_name": "HBoxModel",
          "model_module_version": "1.5.0",
          "state": {
            "_dom_classes": [],
            "_model_module": "@jupyter-widgets/controls",
            "_model_module_version": "1.5.0",
            "_model_name": "HBoxModel",
            "_view_count": null,
            "_view_module": "@jupyter-widgets/controls",
            "_view_module_version": "1.5.0",
            "_view_name": "HBoxView",
            "box_style": "",
            "children": [
              "IPY_MODEL_1765f9068a5842f3837a9810f2195544",
              "IPY_MODEL_d57a78eef4ab48a1bf59acd29f7dc25c",
              "IPY_MODEL_0695f4754a87480f8146aac50ade4bd6"
            ],
            "layout": "IPY_MODEL_395262bb059642c591481990883c43b9"
          }
        },
        "1765f9068a5842f3837a9810f2195544": {
          "model_module": "@jupyter-widgets/controls",
          "model_name": "HTMLModel",
          "model_module_version": "1.5.0",
          "state": {
            "_dom_classes": [],
            "_model_module": "@jupyter-widgets/controls",
            "_model_module_version": "1.5.0",
            "_model_name": "HTMLModel",
            "_view_count": null,
            "_view_module": "@jupyter-widgets/controls",
            "_view_module_version": "1.5.0",
            "_view_name": "HTMLView",
            "description": "",
            "description_tooltip": null,
            "layout": "IPY_MODEL_ae7ce63555194911910f506174840954",
            "placeholder": "​",
            "style": "IPY_MODEL_806e9b7a1c524badacb032bf22743b47",
            "value": "Downloading (…)lve/main/config.json: 100%"
          }
        },
        "d57a78eef4ab48a1bf59acd29f7dc25c": {
          "model_module": "@jupyter-widgets/controls",
          "model_name": "FloatProgressModel",
          "model_module_version": "1.5.0",
          "state": {
            "_dom_classes": [],
            "_model_module": "@jupyter-widgets/controls",
            "_model_module_version": "1.5.0",
            "_model_name": "FloatProgressModel",
            "_view_count": null,
            "_view_module": "@jupyter-widgets/controls",
            "_view_module_version": "1.5.0",
            "_view_name": "ProgressView",
            "bar_style": "success",
            "description": "",
            "description_tooltip": null,
            "layout": "IPY_MODEL_2c13119e9fbc46fba36f8e0f4c304f24",
            "max": 747,
            "min": 0,
            "orientation": "horizontal",
            "style": "IPY_MODEL_94f6e771de68422f828723d56de64408",
            "value": 747
          }
        },
        "0695f4754a87480f8146aac50ade4bd6": {
          "model_module": "@jupyter-widgets/controls",
          "model_name": "HTMLModel",
          "model_module_version": "1.5.0",
          "state": {
            "_dom_classes": [],
            "_model_module": "@jupyter-widgets/controls",
            "_model_module_version": "1.5.0",
            "_model_name": "HTMLModel",
            "_view_count": null,
            "_view_module": "@jupyter-widgets/controls",
            "_view_module_version": "1.5.0",
            "_view_name": "HTMLView",
            "description": "",
            "description_tooltip": null,
            "layout": "IPY_MODEL_f32c946c8b33459cab834b35554ba277",
            "placeholder": "​",
            "style": "IPY_MODEL_e7628bcb5d254846b83ab4911dba51a6",
            "value": " 747/747 [00:00&lt;00:00, 19.0kB/s]"
          }
        },
        "395262bb059642c591481990883c43b9": {
          "model_module": "@jupyter-widgets/base",
          "model_name": "LayoutModel",
          "model_module_version": "1.2.0",
          "state": {
            "_model_module": "@jupyter-widgets/base",
            "_model_module_version": "1.2.0",
            "_model_name": "LayoutModel",
            "_view_count": null,
            "_view_module": "@jupyter-widgets/base",
            "_view_module_version": "1.2.0",
            "_view_name": "LayoutView",
            "align_content": null,
            "align_items": null,
            "align_self": null,
            "border": null,
            "bottom": null,
            "display": null,
            "flex": null,
            "flex_flow": null,
            "grid_area": null,
            "grid_auto_columns": null,
            "grid_auto_flow": null,
            "grid_auto_rows": null,
            "grid_column": null,
            "grid_gap": null,
            "grid_row": null,
            "grid_template_areas": null,
            "grid_template_columns": null,
            "grid_template_rows": null,
            "height": null,
            "justify_content": null,
            "justify_items": null,
            "left": null,
            "margin": null,
            "max_height": null,
            "max_width": null,
            "min_height": null,
            "min_width": null,
            "object_fit": null,
            "object_position": null,
            "order": null,
            "overflow": null,
            "overflow_x": null,
            "overflow_y": null,
            "padding": null,
            "right": null,
            "top": null,
            "visibility": null,
            "width": null
          }
        },
        "ae7ce63555194911910f506174840954": {
          "model_module": "@jupyter-widgets/base",
          "model_name": "LayoutModel",
          "model_module_version": "1.2.0",
          "state": {
            "_model_module": "@jupyter-widgets/base",
            "_model_module_version": "1.2.0",
            "_model_name": "LayoutModel",
            "_view_count": null,
            "_view_module": "@jupyter-widgets/base",
            "_view_module_version": "1.2.0",
            "_view_name": "LayoutView",
            "align_content": null,
            "align_items": null,
            "align_self": null,
            "border": null,
            "bottom": null,
            "display": null,
            "flex": null,
            "flex_flow": null,
            "grid_area": null,
            "grid_auto_columns": null,
            "grid_auto_flow": null,
            "grid_auto_rows": null,
            "grid_column": null,
            "grid_gap": null,
            "grid_row": null,
            "grid_template_areas": null,
            "grid_template_columns": null,
            "grid_template_rows": null,
            "height": null,
            "justify_content": null,
            "justify_items": null,
            "left": null,
            "margin": null,
            "max_height": null,
            "max_width": null,
            "min_height": null,
            "min_width": null,
            "object_fit": null,
            "object_position": null,
            "order": null,
            "overflow": null,
            "overflow_x": null,
            "overflow_y": null,
            "padding": null,
            "right": null,
            "top": null,
            "visibility": null,
            "width": null
          }
        },
        "806e9b7a1c524badacb032bf22743b47": {
          "model_module": "@jupyter-widgets/controls",
          "model_name": "DescriptionStyleModel",
          "model_module_version": "1.5.0",
          "state": {
            "_model_module": "@jupyter-widgets/controls",
            "_model_module_version": "1.5.0",
            "_model_name": "DescriptionStyleModel",
            "_view_count": null,
            "_view_module": "@jupyter-widgets/base",
            "_view_module_version": "1.2.0",
            "_view_name": "StyleView",
            "description_width": ""
          }
        },
        "2c13119e9fbc46fba36f8e0f4c304f24": {
          "model_module": "@jupyter-widgets/base",
          "model_name": "LayoutModel",
          "model_module_version": "1.2.0",
          "state": {
            "_model_module": "@jupyter-widgets/base",
            "_model_module_version": "1.2.0",
            "_model_name": "LayoutModel",
            "_view_count": null,
            "_view_module": "@jupyter-widgets/base",
            "_view_module_version": "1.2.0",
            "_view_name": "LayoutView",
            "align_content": null,
            "align_items": null,
            "align_self": null,
            "border": null,
            "bottom": null,
            "display": null,
            "flex": null,
            "flex_flow": null,
            "grid_area": null,
            "grid_auto_columns": null,
            "grid_auto_flow": null,
            "grid_auto_rows": null,
            "grid_column": null,
            "grid_gap": null,
            "grid_row": null,
            "grid_template_areas": null,
            "grid_template_columns": null,
            "grid_template_rows": null,
            "height": null,
            "justify_content": null,
            "justify_items": null,
            "left": null,
            "margin": null,
            "max_height": null,
            "max_width": null,
            "min_height": null,
            "min_width": null,
            "object_fit": null,
            "object_position": null,
            "order": null,
            "overflow": null,
            "overflow_x": null,
            "overflow_y": null,
            "padding": null,
            "right": null,
            "top": null,
            "visibility": null,
            "width": null
          }
        },
        "94f6e771de68422f828723d56de64408": {
          "model_module": "@jupyter-widgets/controls",
          "model_name": "ProgressStyleModel",
          "model_module_version": "1.5.0",
          "state": {
            "_model_module": "@jupyter-widgets/controls",
            "_model_module_version": "1.5.0",
            "_model_name": "ProgressStyleModel",
            "_view_count": null,
            "_view_module": "@jupyter-widgets/base",
            "_view_module_version": "1.2.0",
            "_view_name": "StyleView",
            "bar_color": null,
            "description_width": ""
          }
        },
        "f32c946c8b33459cab834b35554ba277": {
          "model_module": "@jupyter-widgets/base",
          "model_name": "LayoutModel",
          "model_module_version": "1.2.0",
          "state": {
            "_model_module": "@jupyter-widgets/base",
            "_model_module_version": "1.2.0",
            "_model_name": "LayoutModel",
            "_view_count": null,
            "_view_module": "@jupyter-widgets/base",
            "_view_module_version": "1.2.0",
            "_view_name": "LayoutView",
            "align_content": null,
            "align_items": null,
            "align_self": null,
            "border": null,
            "bottom": null,
            "display": null,
            "flex": null,
            "flex_flow": null,
            "grid_area": null,
            "grid_auto_columns": null,
            "grid_auto_flow": null,
            "grid_auto_rows": null,
            "grid_column": null,
            "grid_gap": null,
            "grid_row": null,
            "grid_template_areas": null,
            "grid_template_columns": null,
            "grid_template_rows": null,
            "height": null,
            "justify_content": null,
            "justify_items": null,
            "left": null,
            "margin": null,
            "max_height": null,
            "max_width": null,
            "min_height": null,
            "min_width": null,
            "object_fit": null,
            "object_position": null,
            "order": null,
            "overflow": null,
            "overflow_x": null,
            "overflow_y": null,
            "padding": null,
            "right": null,
            "top": null,
            "visibility": null,
            "width": null
          }
        },
        "e7628bcb5d254846b83ab4911dba51a6": {
          "model_module": "@jupyter-widgets/controls",
          "model_name": "DescriptionStyleModel",
          "model_module_version": "1.5.0",
          "state": {
            "_model_module": "@jupyter-widgets/controls",
            "_model_module_version": "1.5.0",
            "_model_name": "DescriptionStyleModel",
            "_view_count": null,
            "_view_module": "@jupyter-widgets/base",
            "_view_module_version": "1.2.0",
            "_view_name": "StyleView",
            "description_width": ""
          }
        },
        "28befb8ad8af4f9eb6456cb74e1e590a": {
          "model_module": "@jupyter-widgets/controls",
          "model_name": "HBoxModel",
          "model_module_version": "1.5.0",
          "state": {
            "_dom_classes": [],
            "_model_module": "@jupyter-widgets/controls",
            "_model_module_version": "1.5.0",
            "_model_name": "HBoxModel",
            "_view_count": null,
            "_view_module": "@jupyter-widgets/controls",
            "_view_module_version": "1.5.0",
            "_view_name": "HBoxView",
            "box_style": "",
            "children": [
              "IPY_MODEL_08545b58a6194f278b1a256ded5ec864",
              "IPY_MODEL_b78afea4ce2d4fdc8ab743ac9d23f7d3",
              "IPY_MODEL_f6b928db831e44c6ac9eb5d5f244a896"
            ],
            "layout": "IPY_MODEL_f779cfa9d9fd4770a578028ec888238f"
          }
        },
        "08545b58a6194f278b1a256ded5ec864": {
          "model_module": "@jupyter-widgets/controls",
          "model_name": "HTMLModel",
          "model_module_version": "1.5.0",
          "state": {
            "_dom_classes": [],
            "_model_module": "@jupyter-widgets/controls",
            "_model_module_version": "1.5.0",
            "_model_name": "HTMLModel",
            "_view_count": null,
            "_view_module": "@jupyter-widgets/controls",
            "_view_module_version": "1.5.0",
            "_view_name": "HTMLView",
            "description": "",
            "description_tooltip": null,
            "layout": "IPY_MODEL_a198f021f31d41d28b5b18bf0e2f0510",
            "placeholder": "​",
            "style": "IPY_MODEL_946db3381c7f497394f5e33e097c0866",
            "value": "Downloading (…)olve/main/vocab.json: 100%"
          }
        },
        "b78afea4ce2d4fdc8ab743ac9d23f7d3": {
          "model_module": "@jupyter-widgets/controls",
          "model_name": "FloatProgressModel",
          "model_module_version": "1.5.0",
          "state": {
            "_dom_classes": [],
            "_model_module": "@jupyter-widgets/controls",
            "_model_module_version": "1.5.0",
            "_model_name": "FloatProgressModel",
            "_view_count": null,
            "_view_module": "@jupyter-widgets/controls",
            "_view_module_version": "1.5.0",
            "_view_name": "ProgressView",
            "bar_style": "success",
            "description": "",
            "description_tooltip": null,
            "layout": "IPY_MODEL_d71cef7d03f049d6931ab8234e17a0ed",
            "max": 898822,
            "min": 0,
            "orientation": "horizontal",
            "style": "IPY_MODEL_b597038df9c3409ca6b5f4f1f5981653",
            "value": 898822
          }
        },
        "f6b928db831e44c6ac9eb5d5f244a896": {
          "model_module": "@jupyter-widgets/controls",
          "model_name": "HTMLModel",
          "model_module_version": "1.5.0",
          "state": {
            "_dom_classes": [],
            "_model_module": "@jupyter-widgets/controls",
            "_model_module_version": "1.5.0",
            "_model_name": "HTMLModel",
            "_view_count": null,
            "_view_module": "@jupyter-widgets/controls",
            "_view_module_version": "1.5.0",
            "_view_name": "HTMLView",
            "description": "",
            "description_tooltip": null,
            "layout": "IPY_MODEL_a096878c953044358c8fac1e25adcda8",
            "placeholder": "​",
            "style": "IPY_MODEL_8c37e64269b849888b9be60332062f57",
            "value": " 899k/899k [00:00&lt;00:00, 2.89MB/s]"
          }
        },
        "f779cfa9d9fd4770a578028ec888238f": {
          "model_module": "@jupyter-widgets/base",
          "model_name": "LayoutModel",
          "model_module_version": "1.2.0",
          "state": {
            "_model_module": "@jupyter-widgets/base",
            "_model_module_version": "1.2.0",
            "_model_name": "LayoutModel",
            "_view_count": null,
            "_view_module": "@jupyter-widgets/base",
            "_view_module_version": "1.2.0",
            "_view_name": "LayoutView",
            "align_content": null,
            "align_items": null,
            "align_self": null,
            "border": null,
            "bottom": null,
            "display": null,
            "flex": null,
            "flex_flow": null,
            "grid_area": null,
            "grid_auto_columns": null,
            "grid_auto_flow": null,
            "grid_auto_rows": null,
            "grid_column": null,
            "grid_gap": null,
            "grid_row": null,
            "grid_template_areas": null,
            "grid_template_columns": null,
            "grid_template_rows": null,
            "height": null,
            "justify_content": null,
            "justify_items": null,
            "left": null,
            "margin": null,
            "max_height": null,
            "max_width": null,
            "min_height": null,
            "min_width": null,
            "object_fit": null,
            "object_position": null,
            "order": null,
            "overflow": null,
            "overflow_x": null,
            "overflow_y": null,
            "padding": null,
            "right": null,
            "top": null,
            "visibility": null,
            "width": null
          }
        },
        "a198f021f31d41d28b5b18bf0e2f0510": {
          "model_module": "@jupyter-widgets/base",
          "model_name": "LayoutModel",
          "model_module_version": "1.2.0",
          "state": {
            "_model_module": "@jupyter-widgets/base",
            "_model_module_version": "1.2.0",
            "_model_name": "LayoutModel",
            "_view_count": null,
            "_view_module": "@jupyter-widgets/base",
            "_view_module_version": "1.2.0",
            "_view_name": "LayoutView",
            "align_content": null,
            "align_items": null,
            "align_self": null,
            "border": null,
            "bottom": null,
            "display": null,
            "flex": null,
            "flex_flow": null,
            "grid_area": null,
            "grid_auto_columns": null,
            "grid_auto_flow": null,
            "grid_auto_rows": null,
            "grid_column": null,
            "grid_gap": null,
            "grid_row": null,
            "grid_template_areas": null,
            "grid_template_columns": null,
            "grid_template_rows": null,
            "height": null,
            "justify_content": null,
            "justify_items": null,
            "left": null,
            "margin": null,
            "max_height": null,
            "max_width": null,
            "min_height": null,
            "min_width": null,
            "object_fit": null,
            "object_position": null,
            "order": null,
            "overflow": null,
            "overflow_x": null,
            "overflow_y": null,
            "padding": null,
            "right": null,
            "top": null,
            "visibility": null,
            "width": null
          }
        },
        "946db3381c7f497394f5e33e097c0866": {
          "model_module": "@jupyter-widgets/controls",
          "model_name": "DescriptionStyleModel",
          "model_module_version": "1.5.0",
          "state": {
            "_model_module": "@jupyter-widgets/controls",
            "_model_module_version": "1.5.0",
            "_model_name": "DescriptionStyleModel",
            "_view_count": null,
            "_view_module": "@jupyter-widgets/base",
            "_view_module_version": "1.2.0",
            "_view_name": "StyleView",
            "description_width": ""
          }
        },
        "d71cef7d03f049d6931ab8234e17a0ed": {
          "model_module": "@jupyter-widgets/base",
          "model_name": "LayoutModel",
          "model_module_version": "1.2.0",
          "state": {
            "_model_module": "@jupyter-widgets/base",
            "_model_module_version": "1.2.0",
            "_model_name": "LayoutModel",
            "_view_count": null,
            "_view_module": "@jupyter-widgets/base",
            "_view_module_version": "1.2.0",
            "_view_name": "LayoutView",
            "align_content": null,
            "align_items": null,
            "align_self": null,
            "border": null,
            "bottom": null,
            "display": null,
            "flex": null,
            "flex_flow": null,
            "grid_area": null,
            "grid_auto_columns": null,
            "grid_auto_flow": null,
            "grid_auto_rows": null,
            "grid_column": null,
            "grid_gap": null,
            "grid_row": null,
            "grid_template_areas": null,
            "grid_template_columns": null,
            "grid_template_rows": null,
            "height": null,
            "justify_content": null,
            "justify_items": null,
            "left": null,
            "margin": null,
            "max_height": null,
            "max_width": null,
            "min_height": null,
            "min_width": null,
            "object_fit": null,
            "object_position": null,
            "order": null,
            "overflow": null,
            "overflow_x": null,
            "overflow_y": null,
            "padding": null,
            "right": null,
            "top": null,
            "visibility": null,
            "width": null
          }
        },
        "b597038df9c3409ca6b5f4f1f5981653": {
          "model_module": "@jupyter-widgets/controls",
          "model_name": "ProgressStyleModel",
          "model_module_version": "1.5.0",
          "state": {
            "_model_module": "@jupyter-widgets/controls",
            "_model_module_version": "1.5.0",
            "_model_name": "ProgressStyleModel",
            "_view_count": null,
            "_view_module": "@jupyter-widgets/base",
            "_view_module_version": "1.2.0",
            "_view_name": "StyleView",
            "bar_color": null,
            "description_width": ""
          }
        },
        "a096878c953044358c8fac1e25adcda8": {
          "model_module": "@jupyter-widgets/base",
          "model_name": "LayoutModel",
          "model_module_version": "1.2.0",
          "state": {
            "_model_module": "@jupyter-widgets/base",
            "_model_module_version": "1.2.0",
            "_model_name": "LayoutModel",
            "_view_count": null,
            "_view_module": "@jupyter-widgets/base",
            "_view_module_version": "1.2.0",
            "_view_name": "LayoutView",
            "align_content": null,
            "align_items": null,
            "align_self": null,
            "border": null,
            "bottom": null,
            "display": null,
            "flex": null,
            "flex_flow": null,
            "grid_area": null,
            "grid_auto_columns": null,
            "grid_auto_flow": null,
            "grid_auto_rows": null,
            "grid_column": null,
            "grid_gap": null,
            "grid_row": null,
            "grid_template_areas": null,
            "grid_template_columns": null,
            "grid_template_rows": null,
            "height": null,
            "justify_content": null,
            "justify_items": null,
            "left": null,
            "margin": null,
            "max_height": null,
            "max_width": null,
            "min_height": null,
            "min_width": null,
            "object_fit": null,
            "object_position": null,
            "order": null,
            "overflow": null,
            "overflow_x": null,
            "overflow_y": null,
            "padding": null,
            "right": null,
            "top": null,
            "visibility": null,
            "width": null
          }
        },
        "8c37e64269b849888b9be60332062f57": {
          "model_module": "@jupyter-widgets/controls",
          "model_name": "DescriptionStyleModel",
          "model_module_version": "1.5.0",
          "state": {
            "_model_module": "@jupyter-widgets/controls",
            "_model_module_version": "1.5.0",
            "_model_name": "DescriptionStyleModel",
            "_view_count": null,
            "_view_module": "@jupyter-widgets/base",
            "_view_module_version": "1.2.0",
            "_view_name": "StyleView",
            "description_width": ""
          }
        },
        "401e879a81094253adb0625af0c8bb2f": {
          "model_module": "@jupyter-widgets/controls",
          "model_name": "HBoxModel",
          "model_module_version": "1.5.0",
          "state": {
            "_dom_classes": [],
            "_model_module": "@jupyter-widgets/controls",
            "_model_module_version": "1.5.0",
            "_model_name": "HBoxModel",
            "_view_count": null,
            "_view_module": "@jupyter-widgets/controls",
            "_view_module_version": "1.5.0",
            "_view_name": "HBoxView",
            "box_style": "",
            "children": [
              "IPY_MODEL_826c8922fbac4999bfce5f0fa0dd175a",
              "IPY_MODEL_e9b86eecd5544e28adb42a56ce32fae1",
              "IPY_MODEL_849ba361d1154dd98c7e2bea4e819cac"
            ],
            "layout": "IPY_MODEL_df57c905b5aa4848b42f75981fc1bd8b"
          }
        },
        "826c8922fbac4999bfce5f0fa0dd175a": {
          "model_module": "@jupyter-widgets/controls",
          "model_name": "HTMLModel",
          "model_module_version": "1.5.0",
          "state": {
            "_dom_classes": [],
            "_model_module": "@jupyter-widgets/controls",
            "_model_module_version": "1.5.0",
            "_model_name": "HTMLModel",
            "_view_count": null,
            "_view_module": "@jupyter-widgets/controls",
            "_view_module_version": "1.5.0",
            "_view_name": "HTMLView",
            "description": "",
            "description_tooltip": null,
            "layout": "IPY_MODEL_027f0fb37cdb4363a769c46f729a7660",
            "placeholder": "​",
            "style": "IPY_MODEL_1d9327282837404a98110926dfce2af6",
            "value": "Downloading (…)olve/main/merges.txt: 100%"
          }
        },
        "e9b86eecd5544e28adb42a56ce32fae1": {
          "model_module": "@jupyter-widgets/controls",
          "model_name": "FloatProgressModel",
          "model_module_version": "1.5.0",
          "state": {
            "_dom_classes": [],
            "_model_module": "@jupyter-widgets/controls",
            "_model_module_version": "1.5.0",
            "_model_name": "FloatProgressModel",
            "_view_count": null,
            "_view_module": "@jupyter-widgets/controls",
            "_view_module_version": "1.5.0",
            "_view_name": "ProgressView",
            "bar_style": "success",
            "description": "",
            "description_tooltip": null,
            "layout": "IPY_MODEL_002f8b66269146b58c93a7908f3497c2",
            "max": 456318,
            "min": 0,
            "orientation": "horizontal",
            "style": "IPY_MODEL_dafab1520ed646698f197a9600eb0397",
            "value": 456318
          }
        },
        "849ba361d1154dd98c7e2bea4e819cac": {
          "model_module": "@jupyter-widgets/controls",
          "model_name": "HTMLModel",
          "model_module_version": "1.5.0",
          "state": {
            "_dom_classes": [],
            "_model_module": "@jupyter-widgets/controls",
            "_model_module_version": "1.5.0",
            "_model_name": "HTMLModel",
            "_view_count": null,
            "_view_module": "@jupyter-widgets/controls",
            "_view_module_version": "1.5.0",
            "_view_name": "HTMLView",
            "description": "",
            "description_tooltip": null,
            "layout": "IPY_MODEL_9625ce0f26b143e2afd57b98da513f8a",
            "placeholder": "​",
            "style": "IPY_MODEL_203a1aee5b364849aa25f0ff681744fc",
            "value": " 456k/456k [00:00&lt;00:00, 1.46MB/s]"
          }
        },
        "df57c905b5aa4848b42f75981fc1bd8b": {
          "model_module": "@jupyter-widgets/base",
          "model_name": "LayoutModel",
          "model_module_version": "1.2.0",
          "state": {
            "_model_module": "@jupyter-widgets/base",
            "_model_module_version": "1.2.0",
            "_model_name": "LayoutModel",
            "_view_count": null,
            "_view_module": "@jupyter-widgets/base",
            "_view_module_version": "1.2.0",
            "_view_name": "LayoutView",
            "align_content": null,
            "align_items": null,
            "align_self": null,
            "border": null,
            "bottom": null,
            "display": null,
            "flex": null,
            "flex_flow": null,
            "grid_area": null,
            "grid_auto_columns": null,
            "grid_auto_flow": null,
            "grid_auto_rows": null,
            "grid_column": null,
            "grid_gap": null,
            "grid_row": null,
            "grid_template_areas": null,
            "grid_template_columns": null,
            "grid_template_rows": null,
            "height": null,
            "justify_content": null,
            "justify_items": null,
            "left": null,
            "margin": null,
            "max_height": null,
            "max_width": null,
            "min_height": null,
            "min_width": null,
            "object_fit": null,
            "object_position": null,
            "order": null,
            "overflow": null,
            "overflow_x": null,
            "overflow_y": null,
            "padding": null,
            "right": null,
            "top": null,
            "visibility": null,
            "width": null
          }
        },
        "027f0fb37cdb4363a769c46f729a7660": {
          "model_module": "@jupyter-widgets/base",
          "model_name": "LayoutModel",
          "model_module_version": "1.2.0",
          "state": {
            "_model_module": "@jupyter-widgets/base",
            "_model_module_version": "1.2.0",
            "_model_name": "LayoutModel",
            "_view_count": null,
            "_view_module": "@jupyter-widgets/base",
            "_view_module_version": "1.2.0",
            "_view_name": "LayoutView",
            "align_content": null,
            "align_items": null,
            "align_self": null,
            "border": null,
            "bottom": null,
            "display": null,
            "flex": null,
            "flex_flow": null,
            "grid_area": null,
            "grid_auto_columns": null,
            "grid_auto_flow": null,
            "grid_auto_rows": null,
            "grid_column": null,
            "grid_gap": null,
            "grid_row": null,
            "grid_template_areas": null,
            "grid_template_columns": null,
            "grid_template_rows": null,
            "height": null,
            "justify_content": null,
            "justify_items": null,
            "left": null,
            "margin": null,
            "max_height": null,
            "max_width": null,
            "min_height": null,
            "min_width": null,
            "object_fit": null,
            "object_position": null,
            "order": null,
            "overflow": null,
            "overflow_x": null,
            "overflow_y": null,
            "padding": null,
            "right": null,
            "top": null,
            "visibility": null,
            "width": null
          }
        },
        "1d9327282837404a98110926dfce2af6": {
          "model_module": "@jupyter-widgets/controls",
          "model_name": "DescriptionStyleModel",
          "model_module_version": "1.5.0",
          "state": {
            "_model_module": "@jupyter-widgets/controls",
            "_model_module_version": "1.5.0",
            "_model_name": "DescriptionStyleModel",
            "_view_count": null,
            "_view_module": "@jupyter-widgets/base",
            "_view_module_version": "1.2.0",
            "_view_name": "StyleView",
            "description_width": ""
          }
        },
        "002f8b66269146b58c93a7908f3497c2": {
          "model_module": "@jupyter-widgets/base",
          "model_name": "LayoutModel",
          "model_module_version": "1.2.0",
          "state": {
            "_model_module": "@jupyter-widgets/base",
            "_model_module_version": "1.2.0",
            "_model_name": "LayoutModel",
            "_view_count": null,
            "_view_module": "@jupyter-widgets/base",
            "_view_module_version": "1.2.0",
            "_view_name": "LayoutView",
            "align_content": null,
            "align_items": null,
            "align_self": null,
            "border": null,
            "bottom": null,
            "display": null,
            "flex": null,
            "flex_flow": null,
            "grid_area": null,
            "grid_auto_columns": null,
            "grid_auto_flow": null,
            "grid_auto_rows": null,
            "grid_column": null,
            "grid_gap": null,
            "grid_row": null,
            "grid_template_areas": null,
            "grid_template_columns": null,
            "grid_template_rows": null,
            "height": null,
            "justify_content": null,
            "justify_items": null,
            "left": null,
            "margin": null,
            "max_height": null,
            "max_width": null,
            "min_height": null,
            "min_width": null,
            "object_fit": null,
            "object_position": null,
            "order": null,
            "overflow": null,
            "overflow_x": null,
            "overflow_y": null,
            "padding": null,
            "right": null,
            "top": null,
            "visibility": null,
            "width": null
          }
        },
        "dafab1520ed646698f197a9600eb0397": {
          "model_module": "@jupyter-widgets/controls",
          "model_name": "ProgressStyleModel",
          "model_module_version": "1.5.0",
          "state": {
            "_model_module": "@jupyter-widgets/controls",
            "_model_module_version": "1.5.0",
            "_model_name": "ProgressStyleModel",
            "_view_count": null,
            "_view_module": "@jupyter-widgets/base",
            "_view_module_version": "1.2.0",
            "_view_name": "StyleView",
            "bar_color": null,
            "description_width": ""
          }
        },
        "9625ce0f26b143e2afd57b98da513f8a": {
          "model_module": "@jupyter-widgets/base",
          "model_name": "LayoutModel",
          "model_module_version": "1.2.0",
          "state": {
            "_model_module": "@jupyter-widgets/base",
            "_model_module_version": "1.2.0",
            "_model_name": "LayoutModel",
            "_view_count": null,
            "_view_module": "@jupyter-widgets/base",
            "_view_module_version": "1.2.0",
            "_view_name": "LayoutView",
            "align_content": null,
            "align_items": null,
            "align_self": null,
            "border": null,
            "bottom": null,
            "display": null,
            "flex": null,
            "flex_flow": null,
            "grid_area": null,
            "grid_auto_columns": null,
            "grid_auto_flow": null,
            "grid_auto_rows": null,
            "grid_column": null,
            "grid_gap": null,
            "grid_row": null,
            "grid_template_areas": null,
            "grid_template_columns": null,
            "grid_template_rows": null,
            "height": null,
            "justify_content": null,
            "justify_items": null,
            "left": null,
            "margin": null,
            "max_height": null,
            "max_width": null,
            "min_height": null,
            "min_width": null,
            "object_fit": null,
            "object_position": null,
            "order": null,
            "overflow": null,
            "overflow_x": null,
            "overflow_y": null,
            "padding": null,
            "right": null,
            "top": null,
            "visibility": null,
            "width": null
          }
        },
        "203a1aee5b364849aa25f0ff681744fc": {
          "model_module": "@jupyter-widgets/controls",
          "model_name": "DescriptionStyleModel",
          "model_module_version": "1.5.0",
          "state": {
            "_model_module": "@jupyter-widgets/controls",
            "_model_module_version": "1.5.0",
            "_model_name": "DescriptionStyleModel",
            "_view_count": null,
            "_view_module": "@jupyter-widgets/base",
            "_view_module_version": "1.2.0",
            "_view_name": "StyleView",
            "description_width": ""
          }
        },
        "afbc6d8f9ae94803bebe3b16aff0bc37": {
          "model_module": "@jupyter-widgets/controls",
          "model_name": "HBoxModel",
          "model_module_version": "1.5.0",
          "state": {
            "_dom_classes": [],
            "_model_module": "@jupyter-widgets/controls",
            "_model_module_version": "1.5.0",
            "_model_name": "HBoxModel",
            "_view_count": null,
            "_view_module": "@jupyter-widgets/controls",
            "_view_module_version": "1.5.0",
            "_view_name": "HBoxView",
            "box_style": "",
            "children": [
              "IPY_MODEL_47a6e8b16c834d1e8e782c5b4ffdcfad",
              "IPY_MODEL_1a34bee734864eac811692d6cca1abb8",
              "IPY_MODEL_2ffec2500cb748ee811c7f63b138d06d"
            ],
            "layout": "IPY_MODEL_119bf309a2d8464aa21e1adac4688343"
          }
        },
        "47a6e8b16c834d1e8e782c5b4ffdcfad": {
          "model_module": "@jupyter-widgets/controls",
          "model_name": "HTMLModel",
          "model_module_version": "1.5.0",
          "state": {
            "_dom_classes": [],
            "_model_module": "@jupyter-widgets/controls",
            "_model_module_version": "1.5.0",
            "_model_name": "HTMLModel",
            "_view_count": null,
            "_view_module": "@jupyter-widgets/controls",
            "_view_module_version": "1.5.0",
            "_view_name": "HTMLView",
            "description": "",
            "description_tooltip": null,
            "layout": "IPY_MODEL_718ace2f7cd2499e803dfa8a76f07280",
            "placeholder": "​",
            "style": "IPY_MODEL_346d4be0b66e4edaa7e3661e74ff9128",
            "value": "Downloading (…)cial_tokens_map.json: 100%"
          }
        },
        "1a34bee734864eac811692d6cca1abb8": {
          "model_module": "@jupyter-widgets/controls",
          "model_name": "FloatProgressModel",
          "model_module_version": "1.5.0",
          "state": {
            "_dom_classes": [],
            "_model_module": "@jupyter-widgets/controls",
            "_model_module_version": "1.5.0",
            "_model_name": "FloatProgressModel",
            "_view_count": null,
            "_view_module": "@jupyter-widgets/controls",
            "_view_module_version": "1.5.0",
            "_view_name": "ProgressView",
            "bar_style": "success",
            "description": "",
            "description_tooltip": null,
            "layout": "IPY_MODEL_60960ff2bcb04c43afde8f655bc8a515",
            "max": 150,
            "min": 0,
            "orientation": "horizontal",
            "style": "IPY_MODEL_79b0e3060dc248329ef5167612ce103d",
            "value": 150
          }
        },
        "2ffec2500cb748ee811c7f63b138d06d": {
          "model_module": "@jupyter-widgets/controls",
          "model_name": "HTMLModel",
          "model_module_version": "1.5.0",
          "state": {
            "_dom_classes": [],
            "_model_module": "@jupyter-widgets/controls",
            "_model_module_version": "1.5.0",
            "_model_name": "HTMLModel",
            "_view_count": null,
            "_view_module": "@jupyter-widgets/controls",
            "_view_module_version": "1.5.0",
            "_view_name": "HTMLView",
            "description": "",
            "description_tooltip": null,
            "layout": "IPY_MODEL_93fa3d3bf21f4fd8b9812a28e46a3358",
            "placeholder": "​",
            "style": "IPY_MODEL_5f09e321693c4668a6fc5ba0d5b7ce49",
            "value": " 150/150 [00:00&lt;00:00, 2.09kB/s]"
          }
        },
        "119bf309a2d8464aa21e1adac4688343": {
          "model_module": "@jupyter-widgets/base",
          "model_name": "LayoutModel",
          "model_module_version": "1.2.0",
          "state": {
            "_model_module": "@jupyter-widgets/base",
            "_model_module_version": "1.2.0",
            "_model_name": "LayoutModel",
            "_view_count": null,
            "_view_module": "@jupyter-widgets/base",
            "_view_module_version": "1.2.0",
            "_view_name": "LayoutView",
            "align_content": null,
            "align_items": null,
            "align_self": null,
            "border": null,
            "bottom": null,
            "display": null,
            "flex": null,
            "flex_flow": null,
            "grid_area": null,
            "grid_auto_columns": null,
            "grid_auto_flow": null,
            "grid_auto_rows": null,
            "grid_column": null,
            "grid_gap": null,
            "grid_row": null,
            "grid_template_areas": null,
            "grid_template_columns": null,
            "grid_template_rows": null,
            "height": null,
            "justify_content": null,
            "justify_items": null,
            "left": null,
            "margin": null,
            "max_height": null,
            "max_width": null,
            "min_height": null,
            "min_width": null,
            "object_fit": null,
            "object_position": null,
            "order": null,
            "overflow": null,
            "overflow_x": null,
            "overflow_y": null,
            "padding": null,
            "right": null,
            "top": null,
            "visibility": null,
            "width": null
          }
        },
        "718ace2f7cd2499e803dfa8a76f07280": {
          "model_module": "@jupyter-widgets/base",
          "model_name": "LayoutModel",
          "model_module_version": "1.2.0",
          "state": {
            "_model_module": "@jupyter-widgets/base",
            "_model_module_version": "1.2.0",
            "_model_name": "LayoutModel",
            "_view_count": null,
            "_view_module": "@jupyter-widgets/base",
            "_view_module_version": "1.2.0",
            "_view_name": "LayoutView",
            "align_content": null,
            "align_items": null,
            "align_self": null,
            "border": null,
            "bottom": null,
            "display": null,
            "flex": null,
            "flex_flow": null,
            "grid_area": null,
            "grid_auto_columns": null,
            "grid_auto_flow": null,
            "grid_auto_rows": null,
            "grid_column": null,
            "grid_gap": null,
            "grid_row": null,
            "grid_template_areas": null,
            "grid_template_columns": null,
            "grid_template_rows": null,
            "height": null,
            "justify_content": null,
            "justify_items": null,
            "left": null,
            "margin": null,
            "max_height": null,
            "max_width": null,
            "min_height": null,
            "min_width": null,
            "object_fit": null,
            "object_position": null,
            "order": null,
            "overflow": null,
            "overflow_x": null,
            "overflow_y": null,
            "padding": null,
            "right": null,
            "top": null,
            "visibility": null,
            "width": null
          }
        },
        "346d4be0b66e4edaa7e3661e74ff9128": {
          "model_module": "@jupyter-widgets/controls",
          "model_name": "DescriptionStyleModel",
          "model_module_version": "1.5.0",
          "state": {
            "_model_module": "@jupyter-widgets/controls",
            "_model_module_version": "1.5.0",
            "_model_name": "DescriptionStyleModel",
            "_view_count": null,
            "_view_module": "@jupyter-widgets/base",
            "_view_module_version": "1.2.0",
            "_view_name": "StyleView",
            "description_width": ""
          }
        },
        "60960ff2bcb04c43afde8f655bc8a515": {
          "model_module": "@jupyter-widgets/base",
          "model_name": "LayoutModel",
          "model_module_version": "1.2.0",
          "state": {
            "_model_module": "@jupyter-widgets/base",
            "_model_module_version": "1.2.0",
            "_model_name": "LayoutModel",
            "_view_count": null,
            "_view_module": "@jupyter-widgets/base",
            "_view_module_version": "1.2.0",
            "_view_name": "LayoutView",
            "align_content": null,
            "align_items": null,
            "align_self": null,
            "border": null,
            "bottom": null,
            "display": null,
            "flex": null,
            "flex_flow": null,
            "grid_area": null,
            "grid_auto_columns": null,
            "grid_auto_flow": null,
            "grid_auto_rows": null,
            "grid_column": null,
            "grid_gap": null,
            "grid_row": null,
            "grid_template_areas": null,
            "grid_template_columns": null,
            "grid_template_rows": null,
            "height": null,
            "justify_content": null,
            "justify_items": null,
            "left": null,
            "margin": null,
            "max_height": null,
            "max_width": null,
            "min_height": null,
            "min_width": null,
            "object_fit": null,
            "object_position": null,
            "order": null,
            "overflow": null,
            "overflow_x": null,
            "overflow_y": null,
            "padding": null,
            "right": null,
            "top": null,
            "visibility": null,
            "width": null
          }
        },
        "79b0e3060dc248329ef5167612ce103d": {
          "model_module": "@jupyter-widgets/controls",
          "model_name": "ProgressStyleModel",
          "model_module_version": "1.5.0",
          "state": {
            "_model_module": "@jupyter-widgets/controls",
            "_model_module_version": "1.5.0",
            "_model_name": "ProgressStyleModel",
            "_view_count": null,
            "_view_module": "@jupyter-widgets/base",
            "_view_module_version": "1.2.0",
            "_view_name": "StyleView",
            "bar_color": null,
            "description_width": ""
          }
        },
        "93fa3d3bf21f4fd8b9812a28e46a3358": {
          "model_module": "@jupyter-widgets/base",
          "model_name": "LayoutModel",
          "model_module_version": "1.2.0",
          "state": {
            "_model_module": "@jupyter-widgets/base",
            "_model_module_version": "1.2.0",
            "_model_name": "LayoutModel",
            "_view_count": null,
            "_view_module": "@jupyter-widgets/base",
            "_view_module_version": "1.2.0",
            "_view_name": "LayoutView",
            "align_content": null,
            "align_items": null,
            "align_self": null,
            "border": null,
            "bottom": null,
            "display": null,
            "flex": null,
            "flex_flow": null,
            "grid_area": null,
            "grid_auto_columns": null,
            "grid_auto_flow": null,
            "grid_auto_rows": null,
            "grid_column": null,
            "grid_gap": null,
            "grid_row": null,
            "grid_template_areas": null,
            "grid_template_columns": null,
            "grid_template_rows": null,
            "height": null,
            "justify_content": null,
            "justify_items": null,
            "left": null,
            "margin": null,
            "max_height": null,
            "max_width": null,
            "min_height": null,
            "min_width": null,
            "object_fit": null,
            "object_position": null,
            "order": null,
            "overflow": null,
            "overflow_x": null,
            "overflow_y": null,
            "padding": null,
            "right": null,
            "top": null,
            "visibility": null,
            "width": null
          }
        },
        "5f09e321693c4668a6fc5ba0d5b7ce49": {
          "model_module": "@jupyter-widgets/controls",
          "model_name": "DescriptionStyleModel",
          "model_module_version": "1.5.0",
          "state": {
            "_model_module": "@jupyter-widgets/controls",
            "_model_module_version": "1.5.0",
            "_model_name": "DescriptionStyleModel",
            "_view_count": null,
            "_view_module": "@jupyter-widgets/base",
            "_view_module_version": "1.2.0",
            "_view_name": "StyleView",
            "description_width": ""
          }
        },
        "13a7656135b44395bdad92c4a539f2fa": {
          "model_module": "@jupyter-widgets/controls",
          "model_name": "HBoxModel",
          "model_module_version": "1.5.0",
          "state": {
            "_dom_classes": [],
            "_model_module": "@jupyter-widgets/controls",
            "_model_module_version": "1.5.0",
            "_model_name": "HBoxModel",
            "_view_count": null,
            "_view_module": "@jupyter-widgets/controls",
            "_view_module_version": "1.5.0",
            "_view_name": "HBoxView",
            "box_style": "",
            "children": [
              "IPY_MODEL_5025b05b8206451bbdd6c186283bfd16",
              "IPY_MODEL_aad64ea8cf9a4b85996504dafb4cb9ce",
              "IPY_MODEL_bc9d8a538051413e8b650441f9ac3453"
            ],
            "layout": "IPY_MODEL_1d39c52452044d3a8f729bddc64c23da"
          }
        },
        "5025b05b8206451bbdd6c186283bfd16": {
          "model_module": "@jupyter-widgets/controls",
          "model_name": "HTMLModel",
          "model_module_version": "1.5.0",
          "state": {
            "_dom_classes": [],
            "_model_module": "@jupyter-widgets/controls",
            "_model_module_version": "1.5.0",
            "_model_name": "HTMLModel",
            "_view_count": null,
            "_view_module": "@jupyter-widgets/controls",
            "_view_module_version": "1.5.0",
            "_view_name": "HTMLView",
            "description": "",
            "description_tooltip": null,
            "layout": "IPY_MODEL_707df8dcc173417e8140b7180198a322",
            "placeholder": "​",
            "style": "IPY_MODEL_66b40358cf5f4b9ea7b9daaad947c8c6",
            "value": "Downloading (…)&quot;pytorch_model.bin&quot;;: 100%"
          }
        },
        "aad64ea8cf9a4b85996504dafb4cb9ce": {
          "model_module": "@jupyter-widgets/controls",
          "model_name": "FloatProgressModel",
          "model_module_version": "1.5.0",
          "state": {
            "_dom_classes": [],
            "_model_module": "@jupyter-widgets/controls",
            "_model_module_version": "1.5.0",
            "_model_name": "FloatProgressModel",
            "_view_count": null,
            "_view_module": "@jupyter-widgets/controls",
            "_view_module_version": "1.5.0",
            "_view_name": "ProgressView",
            "bar_style": "success",
            "description": "",
            "description_tooltip": null,
            "layout": "IPY_MODEL_ae22705ce6ab407ea79bef23efc62569",
            "max": 498679497,
            "min": 0,
            "orientation": "horizontal",
            "style": "IPY_MODEL_f0508b52a22941af9ca3addf4d7fc421",
            "value": 498679497
          }
        },
        "bc9d8a538051413e8b650441f9ac3453": {
          "model_module": "@jupyter-widgets/controls",
          "model_name": "HTMLModel",
          "model_module_version": "1.5.0",
          "state": {
            "_dom_classes": [],
            "_model_module": "@jupyter-widgets/controls",
            "_model_module_version": "1.5.0",
            "_model_name": "HTMLModel",
            "_view_count": null,
            "_view_module": "@jupyter-widgets/controls",
            "_view_module_version": "1.5.0",
            "_view_name": "HTMLView",
            "description": "",
            "description_tooltip": null,
            "layout": "IPY_MODEL_836475b3a4a143f6a0cb5209d366f929",
            "placeholder": "​",
            "style": "IPY_MODEL_3c503bff35d94c53aca450420df8f023",
            "value": " 499M/499M [00:06&lt;00:00, 61.6MB/s]"
          }
        },
        "1d39c52452044d3a8f729bddc64c23da": {
          "model_module": "@jupyter-widgets/base",
          "model_name": "LayoutModel",
          "model_module_version": "1.2.0",
          "state": {
            "_model_module": "@jupyter-widgets/base",
            "_model_module_version": "1.2.0",
            "_model_name": "LayoutModel",
            "_view_count": null,
            "_view_module": "@jupyter-widgets/base",
            "_view_module_version": "1.2.0",
            "_view_name": "LayoutView",
            "align_content": null,
            "align_items": null,
            "align_self": null,
            "border": null,
            "bottom": null,
            "display": null,
            "flex": null,
            "flex_flow": null,
            "grid_area": null,
            "grid_auto_columns": null,
            "grid_auto_flow": null,
            "grid_auto_rows": null,
            "grid_column": null,
            "grid_gap": null,
            "grid_row": null,
            "grid_template_areas": null,
            "grid_template_columns": null,
            "grid_template_rows": null,
            "height": null,
            "justify_content": null,
            "justify_items": null,
            "left": null,
            "margin": null,
            "max_height": null,
            "max_width": null,
            "min_height": null,
            "min_width": null,
            "object_fit": null,
            "object_position": null,
            "order": null,
            "overflow": null,
            "overflow_x": null,
            "overflow_y": null,
            "padding": null,
            "right": null,
            "top": null,
            "visibility": null,
            "width": null
          }
        },
        "707df8dcc173417e8140b7180198a322": {
          "model_module": "@jupyter-widgets/base",
          "model_name": "LayoutModel",
          "model_module_version": "1.2.0",
          "state": {
            "_model_module": "@jupyter-widgets/base",
            "_model_module_version": "1.2.0",
            "_model_name": "LayoutModel",
            "_view_count": null,
            "_view_module": "@jupyter-widgets/base",
            "_view_module_version": "1.2.0",
            "_view_name": "LayoutView",
            "align_content": null,
            "align_items": null,
            "align_self": null,
            "border": null,
            "bottom": null,
            "display": null,
            "flex": null,
            "flex_flow": null,
            "grid_area": null,
            "grid_auto_columns": null,
            "grid_auto_flow": null,
            "grid_auto_rows": null,
            "grid_column": null,
            "grid_gap": null,
            "grid_row": null,
            "grid_template_areas": null,
            "grid_template_columns": null,
            "grid_template_rows": null,
            "height": null,
            "justify_content": null,
            "justify_items": null,
            "left": null,
            "margin": null,
            "max_height": null,
            "max_width": null,
            "min_height": null,
            "min_width": null,
            "object_fit": null,
            "object_position": null,
            "order": null,
            "overflow": null,
            "overflow_x": null,
            "overflow_y": null,
            "padding": null,
            "right": null,
            "top": null,
            "visibility": null,
            "width": null
          }
        },
        "66b40358cf5f4b9ea7b9daaad947c8c6": {
          "model_module": "@jupyter-widgets/controls",
          "model_name": "DescriptionStyleModel",
          "model_module_version": "1.5.0",
          "state": {
            "_model_module": "@jupyter-widgets/controls",
            "_model_module_version": "1.5.0",
            "_model_name": "DescriptionStyleModel",
            "_view_count": null,
            "_view_module": "@jupyter-widgets/base",
            "_view_module_version": "1.2.0",
            "_view_name": "StyleView",
            "description_width": ""
          }
        },
        "ae22705ce6ab407ea79bef23efc62569": {
          "model_module": "@jupyter-widgets/base",
          "model_name": "LayoutModel",
          "model_module_version": "1.2.0",
          "state": {
            "_model_module": "@jupyter-widgets/base",
            "_model_module_version": "1.2.0",
            "_model_name": "LayoutModel",
            "_view_count": null,
            "_view_module": "@jupyter-widgets/base",
            "_view_module_version": "1.2.0",
            "_view_name": "LayoutView",
            "align_content": null,
            "align_items": null,
            "align_self": null,
            "border": null,
            "bottom": null,
            "display": null,
            "flex": null,
            "flex_flow": null,
            "grid_area": null,
            "grid_auto_columns": null,
            "grid_auto_flow": null,
            "grid_auto_rows": null,
            "grid_column": null,
            "grid_gap": null,
            "grid_row": null,
            "grid_template_areas": null,
            "grid_template_columns": null,
            "grid_template_rows": null,
            "height": null,
            "justify_content": null,
            "justify_items": null,
            "left": null,
            "margin": null,
            "max_height": null,
            "max_width": null,
            "min_height": null,
            "min_width": null,
            "object_fit": null,
            "object_position": null,
            "order": null,
            "overflow": null,
            "overflow_x": null,
            "overflow_y": null,
            "padding": null,
            "right": null,
            "top": null,
            "visibility": null,
            "width": null
          }
        },
        "f0508b52a22941af9ca3addf4d7fc421": {
          "model_module": "@jupyter-widgets/controls",
          "model_name": "ProgressStyleModel",
          "model_module_version": "1.5.0",
          "state": {
            "_model_module": "@jupyter-widgets/controls",
            "_model_module_version": "1.5.0",
            "_model_name": "ProgressStyleModel",
            "_view_count": null,
            "_view_module": "@jupyter-widgets/base",
            "_view_module_version": "1.2.0",
            "_view_name": "StyleView",
            "bar_color": null,
            "description_width": ""
          }
        },
        "836475b3a4a143f6a0cb5209d366f929": {
          "model_module": "@jupyter-widgets/base",
          "model_name": "LayoutModel",
          "model_module_version": "1.2.0",
          "state": {
            "_model_module": "@jupyter-widgets/base",
            "_model_module_version": "1.2.0",
            "_model_name": "LayoutModel",
            "_view_count": null,
            "_view_module": "@jupyter-widgets/base",
            "_view_module_version": "1.2.0",
            "_view_name": "LayoutView",
            "align_content": null,
            "align_items": null,
            "align_self": null,
            "border": null,
            "bottom": null,
            "display": null,
            "flex": null,
            "flex_flow": null,
            "grid_area": null,
            "grid_auto_columns": null,
            "grid_auto_flow": null,
            "grid_auto_rows": null,
            "grid_column": null,
            "grid_gap": null,
            "grid_row": null,
            "grid_template_areas": null,
            "grid_template_columns": null,
            "grid_template_rows": null,
            "height": null,
            "justify_content": null,
            "justify_items": null,
            "left": null,
            "margin": null,
            "max_height": null,
            "max_width": null,
            "min_height": null,
            "min_width": null,
            "object_fit": null,
            "object_position": null,
            "order": null,
            "overflow": null,
            "overflow_x": null,
            "overflow_y": null,
            "padding": null,
            "right": null,
            "top": null,
            "visibility": null,
            "width": null
          }
        },
        "3c503bff35d94c53aca450420df8f023": {
          "model_module": "@jupyter-widgets/controls",
          "model_name": "DescriptionStyleModel",
          "model_module_version": "1.5.0",
          "state": {
            "_model_module": "@jupyter-widgets/controls",
            "_model_module_version": "1.5.0",
            "_model_name": "DescriptionStyleModel",
            "_view_count": null,
            "_view_module": "@jupyter-widgets/base",
            "_view_module_version": "1.2.0",
            "_view_name": "StyleView",
            "description_width": ""
          }
        },
        "2a1b2c834abb4440a547a40e41573558": {
          "model_module": "@jupyter-widgets/controls",
          "model_name": "HBoxModel",
          "model_module_version": "1.5.0",
          "state": {
            "_dom_classes": [],
            "_model_module": "@jupyter-widgets/controls",
            "_model_module_version": "1.5.0",
            "_model_name": "HBoxModel",
            "_view_count": null,
            "_view_module": "@jupyter-widgets/controls",
            "_view_module_version": "1.5.0",
            "_view_name": "HBoxView",
            "box_style": "",
            "children": [
              "IPY_MODEL_668b27ec2d144f1580e6a33e2244ed9a",
              "IPY_MODEL_4a1ef34a451e4b24b09617e3d732229e",
              "IPY_MODEL_065c58c10a9247c59448b671807fd81d"
            ],
            "layout": "IPY_MODEL_a08d8d1ccb3d4c568a218dfecac20483"
          }
        },
        "668b27ec2d144f1580e6a33e2244ed9a": {
          "model_module": "@jupyter-widgets/controls",
          "model_name": "HTMLModel",
          "model_module_version": "1.5.0",
          "state": {
            "_dom_classes": [],
            "_model_module": "@jupyter-widgets/controls",
            "_model_module_version": "1.5.0",
            "_model_name": "HTMLModel",
            "_view_count": null,
            "_view_module": "@jupyter-widgets/controls",
            "_view_module_version": "1.5.0",
            "_view_name": "HTMLView",
            "description": "",
            "description_tooltip": null,
            "layout": "IPY_MODEL_06aa45f8019347669fb08185f0971d35",
            "placeholder": "​",
            "style": "IPY_MODEL_bf109a7931844e6bb656a0b42f8e05f7",
            "value": "Downloading https://raw.githubusercontent.com/stanfordnlp/stanza-resources/main/resources_1.4.1.json: "
          }
        },
        "4a1ef34a451e4b24b09617e3d732229e": {
          "model_module": "@jupyter-widgets/controls",
          "model_name": "FloatProgressModel",
          "model_module_version": "1.5.0",
          "state": {
            "_dom_classes": [],
            "_model_module": "@jupyter-widgets/controls",
            "_model_module_version": "1.5.0",
            "_model_name": "FloatProgressModel",
            "_view_count": null,
            "_view_module": "@jupyter-widgets/controls",
            "_view_module_version": "1.5.0",
            "_view_name": "ProgressView",
            "bar_style": "success",
            "description": "",
            "description_tooltip": null,
            "layout": "IPY_MODEL_4fd3acddbf4145a4b6aeab768c3a29b5",
            "max": 28918,
            "min": 0,
            "orientation": "horizontal",
            "style": "IPY_MODEL_a26e19c4b46244be98d83fc306c36874",
            "value": 28918
          }
        },
        "065c58c10a9247c59448b671807fd81d": {
          "model_module": "@jupyter-widgets/controls",
          "model_name": "HTMLModel",
          "model_module_version": "1.5.0",
          "state": {
            "_dom_classes": [],
            "_model_module": "@jupyter-widgets/controls",
            "_model_module_version": "1.5.0",
            "_model_name": "HTMLModel",
            "_view_count": null,
            "_view_module": "@jupyter-widgets/controls",
            "_view_module_version": "1.5.0",
            "_view_name": "HTMLView",
            "description": "",
            "description_tooltip": null,
            "layout": "IPY_MODEL_483e634b67bf43cfa49871a9aa7b4a61",
            "placeholder": "​",
            "style": "IPY_MODEL_a9af0557e6634342bb96b84fffbffd7b",
            "value": " 193k/? [00:00&lt;00:00, 6.61MB/s]"
          }
        },
        "a08d8d1ccb3d4c568a218dfecac20483": {
          "model_module": "@jupyter-widgets/base",
          "model_name": "LayoutModel",
          "model_module_version": "1.2.0",
          "state": {
            "_model_module": "@jupyter-widgets/base",
            "_model_module_version": "1.2.0",
            "_model_name": "LayoutModel",
            "_view_count": null,
            "_view_module": "@jupyter-widgets/base",
            "_view_module_version": "1.2.0",
            "_view_name": "LayoutView",
            "align_content": null,
            "align_items": null,
            "align_self": null,
            "border": null,
            "bottom": null,
            "display": null,
            "flex": null,
            "flex_flow": null,
            "grid_area": null,
            "grid_auto_columns": null,
            "grid_auto_flow": null,
            "grid_auto_rows": null,
            "grid_column": null,
            "grid_gap": null,
            "grid_row": null,
            "grid_template_areas": null,
            "grid_template_columns": null,
            "grid_template_rows": null,
            "height": null,
            "justify_content": null,
            "justify_items": null,
            "left": null,
            "margin": null,
            "max_height": null,
            "max_width": null,
            "min_height": null,
            "min_width": null,
            "object_fit": null,
            "object_position": null,
            "order": null,
            "overflow": null,
            "overflow_x": null,
            "overflow_y": null,
            "padding": null,
            "right": null,
            "top": null,
            "visibility": null,
            "width": null
          }
        },
        "06aa45f8019347669fb08185f0971d35": {
          "model_module": "@jupyter-widgets/base",
          "model_name": "LayoutModel",
          "model_module_version": "1.2.0",
          "state": {
            "_model_module": "@jupyter-widgets/base",
            "_model_module_version": "1.2.0",
            "_model_name": "LayoutModel",
            "_view_count": null,
            "_view_module": "@jupyter-widgets/base",
            "_view_module_version": "1.2.0",
            "_view_name": "LayoutView",
            "align_content": null,
            "align_items": null,
            "align_self": null,
            "border": null,
            "bottom": null,
            "display": null,
            "flex": null,
            "flex_flow": null,
            "grid_area": null,
            "grid_auto_columns": null,
            "grid_auto_flow": null,
            "grid_auto_rows": null,
            "grid_column": null,
            "grid_gap": null,
            "grid_row": null,
            "grid_template_areas": null,
            "grid_template_columns": null,
            "grid_template_rows": null,
            "height": null,
            "justify_content": null,
            "justify_items": null,
            "left": null,
            "margin": null,
            "max_height": null,
            "max_width": null,
            "min_height": null,
            "min_width": null,
            "object_fit": null,
            "object_position": null,
            "order": null,
            "overflow": null,
            "overflow_x": null,
            "overflow_y": null,
            "padding": null,
            "right": null,
            "top": null,
            "visibility": null,
            "width": null
          }
        },
        "bf109a7931844e6bb656a0b42f8e05f7": {
          "model_module": "@jupyter-widgets/controls",
          "model_name": "DescriptionStyleModel",
          "model_module_version": "1.5.0",
          "state": {
            "_model_module": "@jupyter-widgets/controls",
            "_model_module_version": "1.5.0",
            "_model_name": "DescriptionStyleModel",
            "_view_count": null,
            "_view_module": "@jupyter-widgets/base",
            "_view_module_version": "1.2.0",
            "_view_name": "StyleView",
            "description_width": ""
          }
        },
        "4fd3acddbf4145a4b6aeab768c3a29b5": {
          "model_module": "@jupyter-widgets/base",
          "model_name": "LayoutModel",
          "model_module_version": "1.2.0",
          "state": {
            "_model_module": "@jupyter-widgets/base",
            "_model_module_version": "1.2.0",
            "_model_name": "LayoutModel",
            "_view_count": null,
            "_view_module": "@jupyter-widgets/base",
            "_view_module_version": "1.2.0",
            "_view_name": "LayoutView",
            "align_content": null,
            "align_items": null,
            "align_self": null,
            "border": null,
            "bottom": null,
            "display": null,
            "flex": null,
            "flex_flow": null,
            "grid_area": null,
            "grid_auto_columns": null,
            "grid_auto_flow": null,
            "grid_auto_rows": null,
            "grid_column": null,
            "grid_gap": null,
            "grid_row": null,
            "grid_template_areas": null,
            "grid_template_columns": null,
            "grid_template_rows": null,
            "height": null,
            "justify_content": null,
            "justify_items": null,
            "left": null,
            "margin": null,
            "max_height": null,
            "max_width": null,
            "min_height": null,
            "min_width": null,
            "object_fit": null,
            "object_position": null,
            "order": null,
            "overflow": null,
            "overflow_x": null,
            "overflow_y": null,
            "padding": null,
            "right": null,
            "top": null,
            "visibility": null,
            "width": null
          }
        },
        "a26e19c4b46244be98d83fc306c36874": {
          "model_module": "@jupyter-widgets/controls",
          "model_name": "ProgressStyleModel",
          "model_module_version": "1.5.0",
          "state": {
            "_model_module": "@jupyter-widgets/controls",
            "_model_module_version": "1.5.0",
            "_model_name": "ProgressStyleModel",
            "_view_count": null,
            "_view_module": "@jupyter-widgets/base",
            "_view_module_version": "1.2.0",
            "_view_name": "StyleView",
            "bar_color": null,
            "description_width": ""
          }
        },
        "483e634b67bf43cfa49871a9aa7b4a61": {
          "model_module": "@jupyter-widgets/base",
          "model_name": "LayoutModel",
          "model_module_version": "1.2.0",
          "state": {
            "_model_module": "@jupyter-widgets/base",
            "_model_module_version": "1.2.0",
            "_model_name": "LayoutModel",
            "_view_count": null,
            "_view_module": "@jupyter-widgets/base",
            "_view_module_version": "1.2.0",
            "_view_name": "LayoutView",
            "align_content": null,
            "align_items": null,
            "align_self": null,
            "border": null,
            "bottom": null,
            "display": null,
            "flex": null,
            "flex_flow": null,
            "grid_area": null,
            "grid_auto_columns": null,
            "grid_auto_flow": null,
            "grid_auto_rows": null,
            "grid_column": null,
            "grid_gap": null,
            "grid_row": null,
            "grid_template_areas": null,
            "grid_template_columns": null,
            "grid_template_rows": null,
            "height": null,
            "justify_content": null,
            "justify_items": null,
            "left": null,
            "margin": null,
            "max_height": null,
            "max_width": null,
            "min_height": null,
            "min_width": null,
            "object_fit": null,
            "object_position": null,
            "order": null,
            "overflow": null,
            "overflow_x": null,
            "overflow_y": null,
            "padding": null,
            "right": null,
            "top": null,
            "visibility": null,
            "width": null
          }
        },
        "a9af0557e6634342bb96b84fffbffd7b": {
          "model_module": "@jupyter-widgets/controls",
          "model_name": "DescriptionStyleModel",
          "model_module_version": "1.5.0",
          "state": {
            "_model_module": "@jupyter-widgets/controls",
            "_model_module_version": "1.5.0",
            "_model_name": "DescriptionStyleModel",
            "_view_count": null,
            "_view_module": "@jupyter-widgets/base",
            "_view_module_version": "1.2.0",
            "_view_name": "StyleView",
            "description_width": ""
          }
        }
      }
    }
  },
  "cells": [
    {
      "cell_type": "markdown",
      "metadata": {
        "id": "view-in-github",
        "colab_type": "text"
      },
      "source": [
        "<a href=\"https://colab.research.google.com/github/robson-rsp/datascience/blob/main/classification/twitter_sentiment_analysis.ipynb\" target=\"_parent\"><img src=\"https://colab.research.google.com/assets/colab-badge.svg\" alt=\"Open In Colab\"/></a>"
      ]
    },
    {
      "cell_type": "markdown",
      "source": [
        "# Contexto"
      ],
      "metadata": {
        "id": "TsgK01UbMFGv"
      }
    },
    {
      "cell_type": "markdown",
      "source": [
        "##Análise de sentimentos"
      ],
      "metadata": {
        "id": "SdbD2b4tPBzF"
      }
    },
    {
      "cell_type": "markdown",
      "source": [
        "O conjunto de dados utilizado neste kernel contém twitts de pessoas a respeito do governo de Minas Gerais. O objetivo é treinar um modelo que faça uma análise de sentimentos desses twitts. Aqui, serão apresentadas diversas técnicas de tratamento de text, além de seleção de modelos, como:\n",
        "\n",
        "*    Extração de hastags\n",
        "*    Remoção de palavras precedidas por @,\n",
        "*    Remoção de urls\n",
        "*    Formatação de texto\n",
        "*    Remoção de twitts duplicados\n",
        "*    Codificação dos twitts\n",
        "\n",
        "Fonte: https://raw.githubusercontent.com/stacktecnologias/stack-repo/master/Tweets_Mg.csv"
      ],
      "metadata": {
        "id": "WeNjBcMYMIRk"
      }
    },
    {
      "cell_type": "markdown",
      "source": [
        "# Imports iniciais"
      ],
      "metadata": {
        "id": "OVLN8k4_XvUW"
      }
    },
    {
      "cell_type": "code",
      "source": [
        "%pip install -q -U urlextract\n",
        "%pip install git+https://github.com/scikit-optimize/scikit-optimize.git -q\n",
        "%pip install git+https://github.com/stanfordnlp/stanza.git\n",
        "%pip install googletrans==3.1.0a0\n",
        "%pip install pyarrow\n",
        "%pip install transformers\n",
        "%pip install unidecode\n",
        "%pip install ipython-autotime --upgrade\n",
        "%pip install matplotlib --upgrade\n",
        "%pip install scikit-learn --upgrade"
      ],
      "metadata": {
        "id": "AnuZcErXhzNy"
      },
      "execution_count": null,
      "outputs": []
    },
    {
      "cell_type": "code",
      "source": [
        "from google.colab import drive, files\n",
        "import pandas as pd\n",
        "import warnings\n",
        "\n",
        "%load_ext autotime\n",
        "\n",
        "warnings.filterwarnings(\"ignore\")\n",
        "drive.mount('/content/drive')"
      ],
      "metadata": {
        "colab": {
          "base_uri": "https://localhost:8080/"
        },
        "id": "XQSVuoB-QN1M",
        "outputId": "ad3c9727-e45a-4650-8f7c-39e638a753d5"
      },
      "execution_count": 1,
      "outputs": [
        {
          "output_type": "stream",
          "name": "stdout",
          "text": [
            "Drive already mounted at /content/drive; to attempt to forcibly remount, call drive.mount(\"/content/drive\", force_remount=True).\n",
            "time: 2.56 s (started: 2023-03-08 16:48:08 +00:00)\n"
          ]
        }
      ]
    },
    {
      "cell_type": "code",
      "source": [
        "dataset = pd.read_csv(\"/content/drive/MyDrive/datasets/tweets_mg.csv\", encoding='utf-8')"
      ],
      "metadata": {
        "id": "7OB5Ku5ZZ5x8",
        "colab": {
          "base_uri": "https://localhost:8080/"
        },
        "outputId": "5e25df84-0853-4783-9fa7-6bf5c7bfd410"
      },
      "execution_count": 2,
      "outputs": [
        {
          "output_type": "stream",
          "name": "stdout",
          "text": [
            "time: 217 ms (started: 2023-03-08 16:48:13 +00:00)\n"
          ]
        }
      ]
    },
    {
      "cell_type": "markdown",
      "source": [
        "#EDA"
      ],
      "metadata": {
        "id": "_BRFqVuoaVgx"
      }
    },
    {
      "cell_type": "code",
      "source": [
        "import matplotlib.pyplot as plt\n",
        "import seaborn as sns"
      ],
      "metadata": {
        "colab": {
          "base_uri": "https://localhost:8080/"
        },
        "id": "3AVQ6BQFTmmx",
        "outputId": "9f57852c-0d1b-43f3-caee-ec733f921a4d"
      },
      "execution_count": 3,
      "outputs": [
        {
          "output_type": "stream",
          "name": "stdout",
          "text": [
            "time: 2.9 s (started: 2023-03-08 16:48:18 +00:00)\n"
          ]
        }
      ]
    },
    {
      "cell_type": "code",
      "source": [
        "dataset.shape"
      ],
      "metadata": {
        "colab": {
          "base_uri": "https://localhost:8080/"
        },
        "id": "Ypy4i9-xQCBa",
        "outputId": "908832a1-84ae-4b83-f238-750d2c300146"
      },
      "execution_count": 4,
      "outputs": [
        {
          "output_type": "execute_result",
          "data": {
            "text/plain": [
              "(8199, 26)"
            ]
          },
          "metadata": {},
          "execution_count": 4
        },
        {
          "output_type": "stream",
          "name": "stdout",
          "text": [
            "time: 14 ms (started: 2023-03-08 16:48:23 +00:00)\n"
          ]
        }
      ]
    },
    {
      "cell_type": "code",
      "source": [
        "dataset.head(5)"
      ],
      "metadata": {
        "id": "q8bdyxcyaZsq",
        "colab": {
          "base_uri": "https://localhost:8080/",
          "height": 699
        },
        "outputId": "97b3ed9b-b368-4e50-eee8-4fe65fb7732b"
      },
      "execution_count": 5,
      "outputs": [
        {
          "output_type": "execute_result",
          "data": {
            "text/plain": [
              "   Unnamed: 0                      Created At  \\\n",
              "0           0  Sun Jan 08 01:22:05 +0000 2017   \n",
              "1           1  Sun Jan 08 01:49:01 +0000 2017   \n",
              "2           2  Sun Jan 08 01:01:46 +0000 2017   \n",
              "3           3  Wed Jan 04 21:43:51 +0000 2017   \n",
              "4           4  Mon Jan 09 15:08:21 +0000 2017   \n",
              "\n",
              "                                                Text  \\\n",
              "0  ���⛪ @ Catedral de Santo Antônio - Governador ...   \n",
              "1  � @ Governador Valadares, Minas Gerais https:/...   \n",
              "2  �� @ Governador Valadares, Minas Gerais https:...   \n",
              "3                        ��� https://t.co/BnDsO34qK0   \n",
              "4  ��� PSOL vai questionar aumento de vereadores ...   \n",
              "\n",
              "   Geo Coordinates.latitude  Geo Coordinates.longitude User Location  \\\n",
              "0                       NaN                        NaN        Brasil   \n",
              "1                  -41.9333                     -18.85           NaN   \n",
              "2                  -41.9333                     -18.85           NaN   \n",
              "3                       NaN                        NaN           NaN   \n",
              "4                       NaN                        NaN           NaN   \n",
              "\n",
              "               Username User Screen Name  Retweet Count Classificacao  ...  \\\n",
              "0  Leonardo C Schneider    LeoCSchneider              0        Neutro  ...   \n",
              "1               Wândell         klefnews              0        Neutro  ...   \n",
              "2               Wândell         klefnews              0        Neutro  ...   \n",
              "3         Ana estudando  estudandoconcur              0        Neutro  ...   \n",
              "4                 Emily         Milly777              0      Negativo  ...   \n",
              "\n",
              "  Unnamed: 15  Unnamed: 16  Unnamed: 17  Unnamed: 18  Unnamed: 19  \\\n",
              "0         NaN          NaN          NaN          NaN          NaN   \n",
              "1         NaN          NaN          NaN          NaN          NaN   \n",
              "2         NaN          NaN          NaN          NaN          NaN   \n",
              "3         NaN          NaN          NaN          NaN          NaN   \n",
              "4         NaN          NaN          NaN          NaN          NaN   \n",
              "\n",
              "   Unnamed: 20  Unnamed: 21  Unnamed: 22  Unnamed: 23  Unnamed: 24  \n",
              "0          NaN          NaN          NaN          NaN          NaN  \n",
              "1          NaN          NaN          NaN          NaN          NaN  \n",
              "2          NaN          NaN          NaN          NaN          NaN  \n",
              "3          NaN          NaN          NaN          NaN          NaN  \n",
              "4          NaN          NaN          NaN          NaN          NaN  \n",
              "\n",
              "[5 rows x 26 columns]"
            ],
            "text/html": [
              "\n",
              "  <div id=\"df-da41d0e4-134b-4e68-b87c-81b7035b0ab1\">\n",
              "    <div class=\"colab-df-container\">\n",
              "      <div>\n",
              "<style scoped>\n",
              "    .dataframe tbody tr th:only-of-type {\n",
              "        vertical-align: middle;\n",
              "    }\n",
              "\n",
              "    .dataframe tbody tr th {\n",
              "        vertical-align: top;\n",
              "    }\n",
              "\n",
              "    .dataframe thead th {\n",
              "        text-align: right;\n",
              "    }\n",
              "</style>\n",
              "<table border=\"1\" class=\"dataframe\">\n",
              "  <thead>\n",
              "    <tr style=\"text-align: right;\">\n",
              "      <th></th>\n",
              "      <th>Unnamed: 0</th>\n",
              "      <th>Created At</th>\n",
              "      <th>Text</th>\n",
              "      <th>Geo Coordinates.latitude</th>\n",
              "      <th>Geo Coordinates.longitude</th>\n",
              "      <th>User Location</th>\n",
              "      <th>Username</th>\n",
              "      <th>User Screen Name</th>\n",
              "      <th>Retweet Count</th>\n",
              "      <th>Classificacao</th>\n",
              "      <th>...</th>\n",
              "      <th>Unnamed: 15</th>\n",
              "      <th>Unnamed: 16</th>\n",
              "      <th>Unnamed: 17</th>\n",
              "      <th>Unnamed: 18</th>\n",
              "      <th>Unnamed: 19</th>\n",
              "      <th>Unnamed: 20</th>\n",
              "      <th>Unnamed: 21</th>\n",
              "      <th>Unnamed: 22</th>\n",
              "      <th>Unnamed: 23</th>\n",
              "      <th>Unnamed: 24</th>\n",
              "    </tr>\n",
              "  </thead>\n",
              "  <tbody>\n",
              "    <tr>\n",
              "      <th>0</th>\n",
              "      <td>0</td>\n",
              "      <td>Sun Jan 08 01:22:05 +0000 2017</td>\n",
              "      <td>���⛪ @ Catedral de Santo Antônio - Governador ...</td>\n",
              "      <td>NaN</td>\n",
              "      <td>NaN</td>\n",
              "      <td>Brasil</td>\n",
              "      <td>Leonardo C Schneider</td>\n",
              "      <td>LeoCSchneider</td>\n",
              "      <td>0</td>\n",
              "      <td>Neutro</td>\n",
              "      <td>...</td>\n",
              "      <td>NaN</td>\n",
              "      <td>NaN</td>\n",
              "      <td>NaN</td>\n",
              "      <td>NaN</td>\n",
              "      <td>NaN</td>\n",
              "      <td>NaN</td>\n",
              "      <td>NaN</td>\n",
              "      <td>NaN</td>\n",
              "      <td>NaN</td>\n",
              "      <td>NaN</td>\n",
              "    </tr>\n",
              "    <tr>\n",
              "      <th>1</th>\n",
              "      <td>1</td>\n",
              "      <td>Sun Jan 08 01:49:01 +0000 2017</td>\n",
              "      <td>� @ Governador Valadares, Minas Gerais https:/...</td>\n",
              "      <td>-41.9333</td>\n",
              "      <td>-18.85</td>\n",
              "      <td>NaN</td>\n",
              "      <td>Wândell</td>\n",
              "      <td>klefnews</td>\n",
              "      <td>0</td>\n",
              "      <td>Neutro</td>\n",
              "      <td>...</td>\n",
              "      <td>NaN</td>\n",
              "      <td>NaN</td>\n",
              "      <td>NaN</td>\n",
              "      <td>NaN</td>\n",
              "      <td>NaN</td>\n",
              "      <td>NaN</td>\n",
              "      <td>NaN</td>\n",
              "      <td>NaN</td>\n",
              "      <td>NaN</td>\n",
              "      <td>NaN</td>\n",
              "    </tr>\n",
              "    <tr>\n",
              "      <th>2</th>\n",
              "      <td>2</td>\n",
              "      <td>Sun Jan 08 01:01:46 +0000 2017</td>\n",
              "      <td>�� @ Governador Valadares, Minas Gerais https:...</td>\n",
              "      <td>-41.9333</td>\n",
              "      <td>-18.85</td>\n",
              "      <td>NaN</td>\n",
              "      <td>Wândell</td>\n",
              "      <td>klefnews</td>\n",
              "      <td>0</td>\n",
              "      <td>Neutro</td>\n",
              "      <td>...</td>\n",
              "      <td>NaN</td>\n",
              "      <td>NaN</td>\n",
              "      <td>NaN</td>\n",
              "      <td>NaN</td>\n",
              "      <td>NaN</td>\n",
              "      <td>NaN</td>\n",
              "      <td>NaN</td>\n",
              "      <td>NaN</td>\n",
              "      <td>NaN</td>\n",
              "      <td>NaN</td>\n",
              "    </tr>\n",
              "    <tr>\n",
              "      <th>3</th>\n",
              "      <td>3</td>\n",
              "      <td>Wed Jan 04 21:43:51 +0000 2017</td>\n",
              "      <td>��� https://t.co/BnDsO34qK0</td>\n",
              "      <td>NaN</td>\n",
              "      <td>NaN</td>\n",
              "      <td>NaN</td>\n",
              "      <td>Ana estudando</td>\n",
              "      <td>estudandoconcur</td>\n",
              "      <td>0</td>\n",
              "      <td>Neutro</td>\n",
              "      <td>...</td>\n",
              "      <td>NaN</td>\n",
              "      <td>NaN</td>\n",
              "      <td>NaN</td>\n",
              "      <td>NaN</td>\n",
              "      <td>NaN</td>\n",
              "      <td>NaN</td>\n",
              "      <td>NaN</td>\n",
              "      <td>NaN</td>\n",
              "      <td>NaN</td>\n",
              "      <td>NaN</td>\n",
              "    </tr>\n",
              "    <tr>\n",
              "      <th>4</th>\n",
              "      <td>4</td>\n",
              "      <td>Mon Jan 09 15:08:21 +0000 2017</td>\n",
              "      <td>��� PSOL vai questionar aumento de vereadores ...</td>\n",
              "      <td>NaN</td>\n",
              "      <td>NaN</td>\n",
              "      <td>NaN</td>\n",
              "      <td>Emily</td>\n",
              "      <td>Milly777</td>\n",
              "      <td>0</td>\n",
              "      <td>Negativo</td>\n",
              "      <td>...</td>\n",
              "      <td>NaN</td>\n",
              "      <td>NaN</td>\n",
              "      <td>NaN</td>\n",
              "      <td>NaN</td>\n",
              "      <td>NaN</td>\n",
              "      <td>NaN</td>\n",
              "      <td>NaN</td>\n",
              "      <td>NaN</td>\n",
              "      <td>NaN</td>\n",
              "      <td>NaN</td>\n",
              "    </tr>\n",
              "  </tbody>\n",
              "</table>\n",
              "<p>5 rows × 26 columns</p>\n",
              "</div>\n",
              "      <button class=\"colab-df-convert\" onclick=\"convertToInteractive('df-da41d0e4-134b-4e68-b87c-81b7035b0ab1')\"\n",
              "              title=\"Convert this dataframe to an interactive table.\"\n",
              "              style=\"display:none;\">\n",
              "        \n",
              "  <svg xmlns=\"http://www.w3.org/2000/svg\" height=\"24px\"viewBox=\"0 0 24 24\"\n",
              "       width=\"24px\">\n",
              "    <path d=\"M0 0h24v24H0V0z\" fill=\"none\"/>\n",
              "    <path d=\"M18.56 5.44l.94 2.06.94-2.06 2.06-.94-2.06-.94-.94-2.06-.94 2.06-2.06.94zm-11 1L8.5 8.5l.94-2.06 2.06-.94-2.06-.94L8.5 2.5l-.94 2.06-2.06.94zm10 10l.94 2.06.94-2.06 2.06-.94-2.06-.94-.94-2.06-.94 2.06-2.06.94z\"/><path d=\"M17.41 7.96l-1.37-1.37c-.4-.4-.92-.59-1.43-.59-.52 0-1.04.2-1.43.59L10.3 9.45l-7.72 7.72c-.78.78-.78 2.05 0 2.83L4 21.41c.39.39.9.59 1.41.59.51 0 1.02-.2 1.41-.59l7.78-7.78 2.81-2.81c.8-.78.8-2.07 0-2.86zM5.41 20L4 18.59l7.72-7.72 1.47 1.35L5.41 20z\"/>\n",
              "  </svg>\n",
              "      </button>\n",
              "      \n",
              "  <style>\n",
              "    .colab-df-container {\n",
              "      display:flex;\n",
              "      flex-wrap:wrap;\n",
              "      gap: 12px;\n",
              "    }\n",
              "\n",
              "    .colab-df-convert {\n",
              "      background-color: #E8F0FE;\n",
              "      border: none;\n",
              "      border-radius: 50%;\n",
              "      cursor: pointer;\n",
              "      display: none;\n",
              "      fill: #1967D2;\n",
              "      height: 32px;\n",
              "      padding: 0 0 0 0;\n",
              "      width: 32px;\n",
              "    }\n",
              "\n",
              "    .colab-df-convert:hover {\n",
              "      background-color: #E2EBFA;\n",
              "      box-shadow: 0px 1px 2px rgba(60, 64, 67, 0.3), 0px 1px 3px 1px rgba(60, 64, 67, 0.15);\n",
              "      fill: #174EA6;\n",
              "    }\n",
              "\n",
              "    [theme=dark] .colab-df-convert {\n",
              "      background-color: #3B4455;\n",
              "      fill: #D2E3FC;\n",
              "    }\n",
              "\n",
              "    [theme=dark] .colab-df-convert:hover {\n",
              "      background-color: #434B5C;\n",
              "      box-shadow: 0px 1px 3px 1px rgba(0, 0, 0, 0.15);\n",
              "      filter: drop-shadow(0px 1px 2px rgba(0, 0, 0, 0.3));\n",
              "      fill: #FFFFFF;\n",
              "    }\n",
              "  </style>\n",
              "\n",
              "      <script>\n",
              "        const buttonEl =\n",
              "          document.querySelector('#df-da41d0e4-134b-4e68-b87c-81b7035b0ab1 button.colab-df-convert');\n",
              "        buttonEl.style.display =\n",
              "          google.colab.kernel.accessAllowed ? 'block' : 'none';\n",
              "\n",
              "        async function convertToInteractive(key) {\n",
              "          const element = document.querySelector('#df-da41d0e4-134b-4e68-b87c-81b7035b0ab1');\n",
              "          const dataTable =\n",
              "            await google.colab.kernel.invokeFunction('convertToInteractive',\n",
              "                                                     [key], {});\n",
              "          if (!dataTable) return;\n",
              "\n",
              "          const docLinkHtml = 'Like what you see? Visit the ' +\n",
              "            '<a target=\"_blank\" href=https://colab.research.google.com/notebooks/data_table.ipynb>data table notebook</a>'\n",
              "            + ' to learn more about interactive tables.';\n",
              "          element.innerHTML = '';\n",
              "          dataTable['output_type'] = 'display_data';\n",
              "          await google.colab.output.renderOutput(dataTable, element);\n",
              "          const docLink = document.createElement('div');\n",
              "          docLink.innerHTML = docLinkHtml;\n",
              "          element.appendChild(docLink);\n",
              "        }\n",
              "      </script>\n",
              "    </div>\n",
              "  </div>\n",
              "  "
            ]
          },
          "metadata": {},
          "execution_count": 5
        },
        {
          "output_type": "stream",
          "name": "stdout",
          "text": [
            "time: 158 ms (started: 2023-03-08 16:48:23 +00:00)\n"
          ]
        }
      ]
    },
    {
      "cell_type": "code",
      "source": [
        "dataset.info()"
      ],
      "metadata": {
        "id": "GKBiKu99W8sX",
        "colab": {
          "base_uri": "https://localhost:8080/"
        },
        "outputId": "c004b5e4-86e9-4d92-cc25-61889f0bde4a"
      },
      "execution_count": 6,
      "outputs": [
        {
          "output_type": "stream",
          "name": "stdout",
          "text": [
            "<class 'pandas.core.frame.DataFrame'>\n",
            "RangeIndex: 8199 entries, 0 to 8198\n",
            "Data columns (total 26 columns):\n",
            " #   Column                     Non-Null Count  Dtype  \n",
            "---  ------                     --------------  -----  \n",
            " 0   Unnamed: 0                 8199 non-null   int64  \n",
            " 1   Created At                 8199 non-null   object \n",
            " 2   Text                       8199 non-null   object \n",
            " 3   Geo Coordinates.latitude   104 non-null    float64\n",
            " 4   Geo Coordinates.longitude  104 non-null    float64\n",
            " 5   User Location              5489 non-null   object \n",
            " 6   Username                   8199 non-null   object \n",
            " 7   User Screen Name           8199 non-null   object \n",
            " 8   Retweet Count              8199 non-null   int64  \n",
            " 9   Classificacao              8199 non-null   object \n",
            " 10  Observação                 1 non-null      object \n",
            " 11  Unnamed: 10                0 non-null      float64\n",
            " 12  Unnamed: 11                0 non-null      float64\n",
            " 13  Unnamed: 12                0 non-null      float64\n",
            " 14  Unnamed: 13                0 non-null      float64\n",
            " 15  Unnamed: 14                0 non-null      float64\n",
            " 16  Unnamed: 15                0 non-null      float64\n",
            " 17  Unnamed: 16                0 non-null      float64\n",
            " 18  Unnamed: 17                0 non-null      float64\n",
            " 19  Unnamed: 18                0 non-null      float64\n",
            " 20  Unnamed: 19                0 non-null      float64\n",
            " 21  Unnamed: 20                0 non-null      float64\n",
            " 22  Unnamed: 21                0 non-null      float64\n",
            " 23  Unnamed: 22                0 non-null      float64\n",
            " 24  Unnamed: 23                0 non-null      float64\n",
            " 25  Unnamed: 24                0 non-null      float64\n",
            "dtypes: float64(17), int64(2), object(7)\n",
            "memory usage: 1.6+ MB\n",
            "time: 87.3 ms (started: 2023-03-08 16:48:31 +00:00)\n"
          ]
        }
      ]
    },
    {
      "cell_type": "markdown",
      "source": [
        "As duas células acima nos mostram há 26 colunas, mas as únicas que nos interessam são 'Text' e 'Classificacao'."
      ],
      "metadata": {
        "id": "4XyMN2ljQmk0"
      }
    },
    {
      "cell_type": "code",
      "source": [
        "classes = dataset['Classificacao'].value_counts()\n",
        "print(classes, '\\n')\n",
        "colors = sns.color_palette()\n",
        "\n",
        "ax = sns.histplot(data=dataset, x='Classificacao', bins=3)\n",
        "ax.patches[0].set_facecolor(colors[0])\n",
        "ax.patches[1].set_facecolor(colors[1])\n",
        "ax.patches[2].set_facecolor(colors[2])\n",
        "plt.tight_layout()\n",
        "plt.show()"
      ],
      "metadata": {
        "id": "a-BhanjdcBKm",
        "colab": {
          "base_uri": "https://localhost:8080/",
          "height": 401
        },
        "outputId": "e4c2b058-c179-4394-c289-62dcbd5882b3"
      },
      "execution_count": 49,
      "outputs": [
        {
          "output_type": "stream",
          "name": "stdout",
          "text": [
            "Positivo    3300\n",
            "Neutro      2453\n",
            "Negativo    2446\n",
            "Name: Classificacao, dtype: int64 \n",
            "\n"
          ]
        },
        {
          "output_type": "display_data",
          "data": {
            "text/plain": [
              "<Figure size 432x288 with 1 Axes>"
            ],
            "image/png": "[encoded data removed]"
          },
          "metadata": {
            "needs_background": "light"
          }
        },
        {
          "output_type": "stream",
          "name": "stdout",
          "text": [
            "time: 302 ms (started: 2023-03-08 17:11:00 +00:00)\n"
          ]
        }
      ]
    },
    {
      "cell_type": "markdown",
      "source": [
        "Na sua forma original, o conjunto de dados apresenta um leve desequilíbrio de classes."
      ],
      "metadata": {
        "id": "uFZpk7AzRR7H"
      }
    },
    {
      "cell_type": "code",
      "source": [
        "dataset[['Text', 'Classificacao']].isna().sum()"
      ],
      "metadata": {
        "colab": {
          "base_uri": "https://localhost:8080/"
        },
        "id": "XsQA0P2pcJgc",
        "outputId": "850703ec-9c08-424a-c3f6-6c20e043a7b5"
      },
      "execution_count": 8,
      "outputs": [
        {
          "output_type": "execute_result",
          "data": {
            "text/plain": [
              "Text             0\n",
              "Classificacao    0\n",
              "dtype: int64"
            ]
          },
          "metadata": {},
          "execution_count": 8
        },
        {
          "output_type": "stream",
          "name": "stdout",
          "text": [
            "time: 8.19 ms (started: 2023-03-08 16:48:42 +00:00)\n"
          ]
        }
      ]
    },
    {
      "cell_type": "markdown",
      "source": [
        "Não há nenhum valor ausente no conjunto considerando apenas as colunas 'Text' e 'Classificacao'."
      ],
      "metadata": {
        "id": "IbYkFM2gRkq3"
      }
    },
    {
      "cell_type": "code",
      "source": [
        "dataset[dataset.duplicated()]"
      ],
      "metadata": {
        "colab": {
          "base_uri": "https://localhost:8080/",
          "height": 195
        },
        "id": "-SexKVoWlKR2",
        "outputId": "5a0dcd9a-2bfd-493b-e1dc-216d7d3a03aa"
      },
      "execution_count": 9,
      "outputs": [
        {
          "output_type": "execute_result",
          "data": {
            "text/plain": [
              "Empty DataFrame\n",
              "Columns: [Unnamed: 0, Created At, Text, Geo Coordinates.latitude, Geo Coordinates.longitude, User Location, Username, User Screen Name, Retweet Count, Classificacao, Observação, Unnamed: 10, Unnamed: 11, Unnamed: 12, Unnamed: 13, Unnamed: 14, Unnamed: 15, Unnamed: 16, Unnamed: 17, Unnamed: 18, Unnamed: 19, Unnamed: 20, Unnamed: 21, Unnamed: 22, Unnamed: 23, Unnamed: 24]\n",
              "Index: []\n",
              "\n",
              "[0 rows x 26 columns]"
            ],
            "text/html": [
              "\n",
              "  <div id=\"df-dbb04f6a-ec6d-4331-9e26-1ded0014536a\">\n",
              "    <div class=\"colab-df-container\">\n",
              "      <div>\n",
              "<style scoped>\n",
              "    .dataframe tbody tr th:only-of-type {\n",
              "        vertical-align: middle;\n",
              "    }\n",
              "\n",
              "    .dataframe tbody tr th {\n",
              "        vertical-align: top;\n",
              "    }\n",
              "\n",
              "    .dataframe thead th {\n",
              "        text-align: right;\n",
              "    }\n",
              "</style>\n",
              "<table border=\"1\" class=\"dataframe\">\n",
              "  <thead>\n",
              "    <tr style=\"text-align: right;\">\n",
              "      <th></th>\n",
              "      <th>Unnamed: 0</th>\n",
              "      <th>Created At</th>\n",
              "      <th>Text</th>\n",
              "      <th>Geo Coordinates.latitude</th>\n",
              "      <th>Geo Coordinates.longitude</th>\n",
              "      <th>User Location</th>\n",
              "      <th>Username</th>\n",
              "      <th>User Screen Name</th>\n",
              "      <th>Retweet Count</th>\n",
              "      <th>Classificacao</th>\n",
              "      <th>...</th>\n",
              "      <th>Unnamed: 15</th>\n",
              "      <th>Unnamed: 16</th>\n",
              "      <th>Unnamed: 17</th>\n",
              "      <th>Unnamed: 18</th>\n",
              "      <th>Unnamed: 19</th>\n",
              "      <th>Unnamed: 20</th>\n",
              "      <th>Unnamed: 21</th>\n",
              "      <th>Unnamed: 22</th>\n",
              "      <th>Unnamed: 23</th>\n",
              "      <th>Unnamed: 24</th>\n",
              "    </tr>\n",
              "  </thead>\n",
              "  <tbody>\n",
              "  </tbody>\n",
              "</table>\n",
              "<p>0 rows × 26 columns</p>\n",
              "</div>\n",
              "      <button class=\"colab-df-convert\" onclick=\"convertToInteractive('df-dbb04f6a-ec6d-4331-9e26-1ded0014536a')\"\n",
              "              title=\"Convert this dataframe to an interactive table.\"\n",
              "              style=\"display:none;\">\n",
              "        \n",
              "  <svg xmlns=\"http://www.w3.org/2000/svg\" height=\"24px\"viewBox=\"0 0 24 24\"\n",
              "       width=\"24px\">\n",
              "    <path d=\"M0 0h24v24H0V0z\" fill=\"none\"/>\n",
              "    <path d=\"M18.56 5.44l.94 2.06.94-2.06 2.06-.94-2.06-.94-.94-2.06-.94 2.06-2.06.94zm-11 1L8.5 8.5l.94-2.06 2.06-.94-2.06-.94L8.5 2.5l-.94 2.06-2.06.94zm10 10l.94 2.06.94-2.06 2.06-.94-2.06-.94-.94-2.06-.94 2.06-2.06.94z\"/><path d=\"M17.41 7.96l-1.37-1.37c-.4-.4-.92-.59-1.43-.59-.52 0-1.04.2-1.43.59L10.3 9.45l-7.72 7.72c-.78.78-.78 2.05 0 2.83L4 21.41c.39.39.9.59 1.41.59.51 0 1.02-.2 1.41-.59l7.78-7.78 2.81-2.81c.8-.78.8-2.07 0-2.86zM5.41 20L4 18.59l7.72-7.72 1.47 1.35L5.41 20z\"/>\n",
              "  </svg>\n",
              "      </button>\n",
              "      \n",
              "  <style>\n",
              "    .colab-df-container {\n",
              "      display:flex;\n",
              "      flex-wrap:wrap;\n",
              "      gap: 12px;\n",
              "    }\n",
              "\n",
              "    .colab-df-convert {\n",
              "      background-color: #E8F0FE;\n",
              "      border: none;\n",
              "      border-radius: 50%;\n",
              "      cursor: pointer;\n",
              "      display: none;\n",
              "      fill: #1967D2;\n",
              "      height: 32px;\n",
              "      padding: 0 0 0 0;\n",
              "      width: 32px;\n",
              "    }\n",
              "\n",
              "    .colab-df-convert:hover {\n",
              "      background-color: #E2EBFA;\n",
              "      box-shadow: 0px 1px 2px rgba(60, 64, 67, 0.3), 0px 1px 3px 1px rgba(60, 64, 67, 0.15);\n",
              "      fill: #174EA6;\n",
              "    }\n",
              "\n",
              "    [theme=dark] .colab-df-convert {\n",
              "      background-color: #3B4455;\n",
              "      fill: #D2E3FC;\n",
              "    }\n",
              "\n",
              "    [theme=dark] .colab-df-convert:hover {\n",
              "      background-color: #434B5C;\n",
              "      box-shadow: 0px 1px 3px 1px rgba(0, 0, 0, 0.15);\n",
              "      filter: drop-shadow(0px 1px 2px rgba(0, 0, 0, 0.3));\n",
              "      fill: #FFFFFF;\n",
              "    }\n",
              "  </style>\n",
              "\n",
              "      <script>\n",
              "        const buttonEl =\n",
              "          document.querySelector('#df-dbb04f6a-ec6d-4331-9e26-1ded0014536a button.colab-df-convert');\n",
              "        buttonEl.style.display =\n",
              "          google.colab.kernel.accessAllowed ? 'block' : 'none';\n",
              "\n",
              "        async function convertToInteractive(key) {\n",
              "          const element = document.querySelector('#df-dbb04f6a-ec6d-4331-9e26-1ded0014536a');\n",
              "          const dataTable =\n",
              "            await google.colab.kernel.invokeFunction('convertToInteractive',\n",
              "                                                     [key], {});\n",
              "          if (!dataTable) return;\n",
              "\n",
              "          const docLinkHtml = 'Like what you see? Visit the ' +\n",
              "            '<a target=\"_blank\" href=https://colab.research.google.com/notebooks/data_table.ipynb>data table notebook</a>'\n",
              "            + ' to learn more about interactive tables.';\n",
              "          element.innerHTML = '';\n",
              "          dataTable['output_type'] = 'display_data';\n",
              "          await google.colab.output.renderOutput(dataTable, element);\n",
              "          const docLink = document.createElement('div');\n",
              "          docLink.innerHTML = docLinkHtml;\n",
              "          element.appendChild(docLink);\n",
              "        }\n",
              "      </script>\n",
              "    </div>\n",
              "  </div>\n",
              "  "
            ]
          },
          "metadata": {},
          "execution_count": 9
        },
        {
          "output_type": "stream",
          "name": "stdout",
          "text": [
            "time: 37.7 ms (started: 2023-03-08 16:48:43 +00:00)\n"
          ]
        }
      ]
    },
    {
      "cell_type": "markdown",
      "source": [
        "Analisando mais atentamente a coluna 'Text' é possível ver que a função duplicated() não funciona da maneira esperada. Alguns twits iguais não estão sendo identificados, por exemplo, os das linhas [1, 2], [13, 14], [17, 18, 19], entre outros. Minha solução para esse problema é fazer um processamento de texto inicial na coluna que consiste em:\n",
        "\n",
        "* Colocar todas as letras em minúsculo;\n",
        "* Remover links(tem que ser feito antes da remoção de pontuações pois esta acaba com a estrutura da url);\n",
        "* Remover pontuações;\n",
        "* Remover palavras sequidas por @.\n",
        "\n",
        "Vou deixar acentuações por enquanto porque o código que usarei pode remover as hashtags e não quero isso pois vou mantê-las pois as palavras que as seguirem podem ser úteis na análise."
      ],
      "metadata": {
        "id": "M0U0nclyjhHn"
      }
    },
    {
      "cell_type": "markdown",
      "source": [
        "#Train/Test split"
      ],
      "metadata": {
        "id": "CsrEZfHMSrBt"
      }
    },
    {
      "cell_type": "markdown",
      "source": [
        "A primeira coisa a ser feita após uma análise exploratória seria separar o conjunto de dados em treinamento e teste, mas preciso remover os registros duplicados antes. Então, vou limpar os dados da coluna 'Text' para que eu possa fazer as remoções."
      ],
      "metadata": {
        "id": "D_4mXa8vSvth"
      }
    },
    {
      "cell_type": "markdown",
      "source": [
        "#Feature engineering"
      ],
      "metadata": {
        "id": "Ewg_kO9Nck7w"
      }
    },
    {
      "cell_type": "code",
      "source": [
        "from difflib               import SequenceMatcher\n",
        "from nltk.corpus           import stopwords\n",
        "from nltk.tokenize         import TweetTokenizer, word_tokenize\n",
        "from sklearn.base          import BaseEstimator, TransformerMixin\n",
        "from sklearn.compose       import ColumnTransformer\n",
        "from sklearn.pipeline      import Pipeline\n",
        "from sklearn.preprocessing import OrdinalEncoder\n",
        "from unidecode             import unidecode\n",
        "import re\n",
        "import nltk\n",
        "import numpy as np\n",
        "import stanza\n",
        "import urlextract\n",
        "\n",
        "nltk.download(\"stopwords\")\n",
        "stanza.download('pt')"
      ],
      "metadata": {
        "colab": {
          "base_uri": "https://localhost:8080/",
          "height": 153,
          "referenced_widgets": [
            "2a1b2c834abb4440a547a40e41573558",
            "668b27ec2d144f1580e6a33e2244ed9a",
            "4a1ef34a451e4b24b09617e3d732229e",
            "065c58c10a9247c59448b671807fd81d",
            "a08d8d1ccb3d4c568a218dfecac20483",
            "06aa45f8019347669fb08185f0971d35",
            "bf109a7931844e6bb656a0b42f8e05f7",
            "4fd3acddbf4145a4b6aeab768c3a29b5",
            "a26e19c4b46244be98d83fc306c36874",
            "483e634b67bf43cfa49871a9aa7b4a61",
            "a9af0557e6634342bb96b84fffbffd7b"
          ]
        },
        "id": "adHIdHKAUuTM",
        "outputId": "a68528e9-7028-49f6-d2ed-33d1db74c3f8"
      },
      "execution_count": 10,
      "outputs": [
        {
          "output_type": "stream",
          "name": "stderr",
          "text": [
            "[nltk_data] Downloading package stopwords to /root/nltk_data...\n",
            "[nltk_data]   Package stopwords is already up-to-date!\n"
          ]
        },
        {
          "output_type": "display_data",
          "data": {
            "text/plain": [
              "Downloading https://raw.githubusercontent.com/stanfordnlp/stanza-resources/main/resources_1.4.1.json:   0%|   …"
            ],
            "application/vnd.jupyter.widget-view+json": {
              "version_major": 2,
              "version_minor": 0,
              "model_id": "2a1b2c834abb4440a547a40e41573558"
            }
          },
          "metadata": {}
        },
        {
          "output_type": "stream",
          "name": "stderr",
          "text": [
            "INFO:stanza:Downloading default packages for language: pt (Portuguese) ...\n",
            "INFO:stanza:File exists: /root/stanza_resources/pt/default.zip\n",
            "INFO:stanza:Finished downloading models and saved to /root/stanza_resources.\n"
          ]
        },
        {
          "output_type": "stream",
          "name": "stdout",
          "text": [
            "time: 7.58 s (started: 2023-03-08 16:49:11 +00:00)\n"
          ]
        }
      ]
    },
    {
      "cell_type": "markdown",
      "source": [
        "A classe ColumnTransformer retorna por padrão um numpy array, mas para gerenciar melhor os atributos que passarão por transformações através de um pipeline, prefiro que ela retorne sempre um objeto DataFrame do Pandas. O problema é que este vem com os nomes das colunas alterados, então resolvi criar a classe abaixo para atribuir ao DataFrame que saiu do ColumnTransformer os nomes originais."
      ],
      "metadata": {
        "id": "4O4mSmjAwDPh"
      }
    },
    {
      "cell_type": "code",
      "source": [
        "class FeaturesRenamer(BaseEstimator, TransformerMixin):\n",
        "    \"\"\"\n",
        "    Esta classe deve ser colocada diretamente dentro de um Pipeline.\n",
        "    Quando 'get_feature_names_out()' é chamado ele concatena o nome do transformador ao nome de cada coluna\n",
        "    que passará pela transformação. Esta classe desfaz isso retornando os nomes originais.\n",
        "    \"\"\"\n",
        "    def __init__(self, original_names):\n",
        "        if isinstance(original_names, list):\n",
        "            self.original_names = original_names\n",
        "        else:\n",
        "            self.original_names = list(original_names)\n",
        "    \n",
        "    def fit(self, X, y=None):\n",
        "        return self\n",
        "    \n",
        "    def fit_transform(self, X, y=None):\n",
        "        self.fit(X, y)\n",
        "        return self.transform(X, y)\n",
        "    \n",
        "    def transform(self, X, y=None):\n",
        "        new_names = list()\n",
        "        for name in list(X.columns):\n",
        "            for original in self.original_names:\n",
        "                if name.endswith('__' + original):\n",
        "                    new_names.append(original)\n",
        "        return X.set_axis(new_names, axis=1)"
      ],
      "metadata": {
        "colab": {
          "base_uri": "https://localhost:8080/"
        },
        "id": "ldBTlDivwHeR",
        "outputId": "f03df82f-c96c-4f65-88ac-44250a65605f"
      },
      "execution_count": 11,
      "outputs": [
        {
          "output_type": "stream",
          "name": "stdout",
          "text": [
            "time: 3.08 ms (started: 2023-03-08 16:49:34 +00:00)\n"
          ]
        }
      ]
    },
    {
      "cell_type": "markdown",
      "source": [
        "## Limpeza dos twitts."
      ],
      "metadata": {
        "id": "0IJBVjwv9hRM"
      }
    },
    {
      "cell_type": "markdown",
      "source": [
        "As transformações que farei através de classes personalizadas não trarão prejuízo ao modelo se feitas no conjunto de dados completo. Digo isso porque não há nenhuma informação como, cálculo de média ou mediana que possa 'vazar' para o conjunto de teste. Por isso posso usar fit_transform(train) e transform(test) sem me preocupar com 'data leak'."
      ],
      "metadata": {
        "id": "2j4eCatOlfee"
      }
    },
    {
      "cell_type": "markdown",
      "source": [
        "**Etapa ## - Reformulação do dataset:** As únicas colunas que me interessam são 'Text' e 'Classificacao'. O resto não importa na análise de sentimentos."
      ],
      "metadata": {
        "id": "ocbG2xeDyPgK"
      }
    },
    {
      "cell_type": "code",
      "source": [
        "feat_names = ['Text', 'Classificacao']\n",
        "dataset = dataset[feat_names]"
      ],
      "metadata": {
        "id": "CeP9xZPIyAIR",
        "colab": {
          "base_uri": "https://localhost:8080/"
        },
        "outputId": "3bae4482-bd7b-4e72-bbe1-7bc7dc588c81"
      },
      "execution_count": 12,
      "outputs": [
        {
          "output_type": "stream",
          "name": "stdout",
          "text": [
            "time: 2.24 ms (started: 2023-03-08 16:49:57 +00:00)\n"
          ]
        }
      ]
    },
    {
      "cell_type": "markdown",
      "source": [
        "**Etapa ## - Extração de hashtags:** Podem ser úteis na tarefa."
      ],
      "metadata": {
        "id": "ioHGAAMeiHTe"
      }
    },
    {
      "cell_type": "code",
      "source": [
        "class HashtagExtractor(BaseEstimator, TransformerMixin):\n",
        "  \"\"\"\n",
        "  Identifica tokens precedidos por # e os separa da string.\n",
        "  Retorna uma nova string sem os tokens e eles mesmos.\n",
        "  \"\"\"\n",
        "  def __init__(self):\n",
        "    self.tk = TweetTokenizer()\n",
        "    self.twitts = list()\n",
        "    self.hashtags = list()\n",
        "\n",
        "  def fit(self, X, y=None):\n",
        "    return self\n",
        "\n",
        "  def fit_transform(self, X, y=None):\n",
        "    self.fit(X, y)\n",
        "    return self.transform(X, y)\n",
        "  \n",
        "  def get_feature_names_out(self):\n",
        "      pass\n",
        "\n",
        "  def hashtag_extractor(self, twitt):\n",
        "    tokens = self.tk.tokenize(twitt)\n",
        "    hashtags = ''\n",
        "    for tk in tokens:\n",
        "      if (tk.startswith('#')) and (len(tk) > 1):\n",
        "        hashtags += ' ' + tk\n",
        "        twitt = twitt.replace(tk, '')\n",
        "    if hashtags == '':\n",
        "      hashtags = None\n",
        "    self.twitts.append(twitt)\n",
        "    self.hashtags.append(hashtags)\n",
        "  \n",
        "  def transform(self, X, y=None):\n",
        "    for index, series in X.iterrows():\n",
        "      self.hashtag_extractor(series['Text'])\n",
        "    X['Text'] = self.twitts\n",
        "    X['Hashtag'] = self.hashtags\n",
        "    X['Hashtag'] = X['Hashtag'].str.lower()\n",
        "    return X\n",
        "\n",
        "\n",
        "\n",
        "ct_hashtag_extractor = ColumnTransformer(transformers=[('hashtag_extractor', HashtagExtractor(), ['Text'])], remainder='passthrough')\n",
        "ct_hashtag_extractor.set_output(transform='pandas')\n",
        "\n",
        "feat_names.extend(['Hashtag'])"
      ],
      "metadata": {
        "colab": {
          "base_uri": "https://localhost:8080/"
        },
        "id": "DeI61L6YK1fW",
        "outputId": "73eb46ca-eec1-428b-96cb-9364999e0137"
      },
      "execution_count": 13,
      "outputs": [
        {
          "output_type": "stream",
          "name": "stdout",
          "text": [
            "time: 9.69 ms (started: 2023-03-08 16:50:04 +00:00)\n"
          ]
        }
      ]
    },
    {
      "cell_type": "markdown",
      "source": [
        "**Etapa ## - Remoções variadas:** Encapsularei em uma classe várias remoções que considero úteis para essa tarefa:\n",
        "\n",
        "*   @...\n",
        "*   nomes próprios (deixei aqui apenas para registro porque não ajudou em nada)\n",
        "*   urls\n",
        "*   acentuação\n",
        "*   pontuação\n",
        "*   stopwords (pode ser útil caso use ngrams(2, 2) ou maiores.\n"
      ],
      "metadata": {
        "id": "omBxoIQ7isAY"
      }
    },
    {
      "cell_type": "code",
      "source": [
        "class ElementsRemover(BaseEstimator, TransformerMixin):\n",
        "  def __init__(self):\n",
        "    self.stz = stanza.Pipeline(lang='pt', verbose=False)\n",
        "    self.sw  = set(stopwords.words(\"portuguese\"))\n",
        "    self.tk  = TweetTokenizer()\n",
        "    self.ue  = urlextract.URLExtract()\n",
        "\n",
        "  def at_rt_remover(self, twitt):\n",
        "    \"\"\"\n",
        "    Remove tokens precedidos por @ e as letras 'RT'.\n",
        "    \"\"\"\n",
        "    tokens = self.tk.tokenize(twitt)\n",
        "    for tk in tokens:\n",
        "      if (tk.startswith('@')) and (len(tk) > 1):\n",
        "        twitt = twitt.replace(tk, '')\n",
        "      if tk.startswith('RT') and len(tk) <= 3: # tenta remover 'RT:' caso caso contrário só remove o 'RT'.\n",
        "        twitt = twitt.replace(tk, '')\n",
        "    return twitt\n",
        "\n",
        "  def fit(self, X, y=None):\n",
        "    return self\n",
        "  \n",
        "  def fit_transform(self, X, y=None):\n",
        "    self.fit(X, y)\n",
        "    return self.transform(X, y)\n",
        "\n",
        "  def get_feature_names_out(self):\n",
        "      pass\n",
        "\n",
        "  def propn_remover(self, sentence):\n",
        "    \"\"\"\n",
        "    Remove tokens identificados como nomes próprios(PROPN).\n",
        "    \"\"\"\n",
        "    sentence_tks = self.stz(sentence).sentences[0].tokens\n",
        "    s = ''\n",
        "    for sentence in self.stz(sentence).sentences:\n",
        "      for token in sentence.tokens:\n",
        "        t = token.to_dict()[0]\n",
        "        try: # nem todos os tokens possuem certas chaves, como 'upos'\n",
        "          if t['upos'] != 'PROPN':\n",
        "            s += ' ' + t['text']\n",
        "        except KeyError:\n",
        "          s += ' ' + t['text']\n",
        "    return s\n",
        "\n",
        "  def punctuation_remover(self, twitt):\n",
        "    return re.sub('[^a-zA-Z]', ' ', twitt)\n",
        "\n",
        "  def stopwords_remover(self, twitt):\n",
        "    twitt_tokenized =  self.stz(twitt).sentences\n",
        "    if not twitt_tokenized:\n",
        "      return ''\n",
        "    sentence = twitt_tokenized[0]\n",
        "    s = ''\n",
        "    for token in sentence.tokens:\n",
        "      t = token.to_dict()[0]\n",
        "      try: # nem todos os tokens possuem certas chaves, como 'upos'\n",
        "        if t['text'] not in self.sw:\n",
        "          s += t['text'] + ' '\n",
        "      except KeyError:\n",
        "        s += ' '\n",
        "    return s\n",
        "\n",
        "  def transform(self, X, y=None):\n",
        "    X = np.vectorize(self.at_rt_remover)(X)\n",
        "    #X = np.vectorize(self.propn_remover)(X)\n",
        "    X = np.vectorize(self.url_remover)(X)\n",
        "    X = np.vectorize(unidecode)(X) # remove acentuação\n",
        "    X = np.vectorize(self.punctuation_remover)(X) # remove pontuação\n",
        "    #X = np.vectorize(self.stopwords_remover)(X)\n",
        "    return pd.DataFrame(data=X, columns=['Text'])\n",
        "\n",
        "  def url_remover(self, twitt):\n",
        "    urls = list(set(self.ue.find_urls(twitt)))\n",
        "    urls.sort(key=lambda url: len(url), reverse=True)\n",
        "    for url in urls:\n",
        "      twitt = twitt.replace(url, '')\n",
        "    # remove urls incompletas não estavam sendo detectadas\n",
        "    return re.sub('(https?://[^\\s]+)', '', twitt)\n",
        "\n",
        "\n",
        "\n",
        "ct_elements_remover = ColumnTransformer(transformers=[('elements_remover', ElementsRemover(), ['Text'])], remainder='passthrough')\n",
        "ct_elements_remover.set_output(transform='pandas')"
      ],
      "metadata": {
        "colab": {
          "base_uri": "https://localhost:8080/",
          "height": 135
        },
        "id": "A2e3QnlbXDBV",
        "outputId": "6d758d8a-d19b-4765-8585-4b5ab9e91615"
      },
      "execution_count": 14,
      "outputs": [
        {
          "output_type": "execute_result",
          "data": {
            "text/plain": [
              "ColumnTransformer(remainder='passthrough',\n",
              "                  transformers=[('elements_remover', ElementsRemover(),\n",
              "                                 ['Text'])])"
            ],
            "text/html": [
              "<style>#sk-container-id-1 {color: black;background-color: white;}#sk-container-id-1 pre{padding: 0;}#sk-container-id-1 div.sk-toggleable {background-color: white;}#sk-container-id-1 label.sk-toggleable__label {cursor: pointer;display: block;width: 100%;margin-bottom: 0;padding: 0.3em;box-sizing: border-box;text-align: center;}#sk-container-id-1 label.sk-toggleable__label-arrow:before {content: \"▸\";float: left;margin-right: 0.25em;color: #696969;}#sk-container-id-1 label.sk-toggleable__label-arrow:hover:before {color: black;}#sk-container-id-1 div.sk-estimator:hover label.sk-toggleable__label-arrow:before {color: black;}#sk-container-id-1 div.sk-toggleable__content {max-height: 0;max-width: 0;overflow: hidden;text-align: left;background-color: #f0f8ff;}#sk-container-id-1 div.sk-toggleable__content pre {margin: 0.2em;color: black;border-radius: 0.25em;background-color: #f0f8ff;}#sk-container-id-1 input.sk-toggleable__control:checked~div.sk-toggleable__content {max-height: 200px;max-width: 100%;overflow: auto;}#sk-container-id-1 input.sk-toggleable__control:checked~label.sk-toggleable__label-arrow:before {content: \"▾\";}#sk-container-id-1 div.sk-estimator input.sk-toggleable__control:checked~label.sk-toggleable__label {background-color: #d4ebff;}#sk-container-id-1 div.sk-label input.sk-toggleable__control:checked~label.sk-toggleable__label {background-color: #d4ebff;}#sk-container-id-1 input.sk-hidden--visually {border: 0;clip: rect(1px 1px 1px 1px);clip: rect(1px, 1px, 1px, 1px);height: 1px;margin: -1px;overflow: hidden;padding: 0;position: absolute;width: 1px;}#sk-container-id-1 div.sk-estimator {font-family: monospace;background-color: #f0f8ff;border: 1px dotted black;border-radius: 0.25em;box-sizing: border-box;margin-bottom: 0.5em;}#sk-container-id-1 div.sk-estimator:hover {background-color: #d4ebff;}#sk-container-id-1 div.sk-parallel-item::after {content: \"\";width: 100%;border-bottom: 1px solid gray;flex-grow: 1;}#sk-container-id-1 div.sk-label:hover label.sk-toggleable__label {background-color: #d4ebff;}#sk-container-id-1 div.sk-serial::before {content: \"\";position: absolute;border-left: 1px solid gray;box-sizing: border-box;top: 0;bottom: 0;left: 50%;z-index: 0;}#sk-container-id-1 div.sk-serial {display: flex;flex-direction: column;align-items: center;background-color: white;padding-right: 0.2em;padding-left: 0.2em;position: relative;}#sk-container-id-1 div.sk-item {position: relative;z-index: 1;}#sk-container-id-1 div.sk-parallel {display: flex;align-items: stretch;justify-content: center;background-color: white;position: relative;}#sk-container-id-1 div.sk-item::before, #sk-container-id-1 div.sk-parallel-item::before {content: \"\";position: absolute;border-left: 1px solid gray;box-sizing: border-box;top: 0;bottom: 0;left: 50%;z-index: -1;}#sk-container-id-1 div.sk-parallel-item {display: flex;flex-direction: column;z-index: 1;position: relative;background-color: white;}#sk-container-id-1 div.sk-parallel-item:first-child::after {align-self: flex-end;width: 50%;}#sk-container-id-1 div.sk-parallel-item:last-child::after {align-self: flex-start;width: 50%;}#sk-container-id-1 div.sk-parallel-item:only-child::after {width: 0;}#sk-container-id-1 div.sk-dashed-wrapped {border: 1px dashed gray;margin: 0 0.4em 0.5em 0.4em;box-sizing: border-box;padding-bottom: 0.4em;background-color: white;}#sk-container-id-1 div.sk-label label {font-family: monospace;font-weight: bold;display: inline-block;line-height: 1.2em;}#sk-container-id-1 div.sk-label-container {text-align: center;}#sk-container-id-1 div.sk-container {/* jupyter's `normalize.less` sets `[hidden] { display: none; }` but bootstrap.min.css set `[hidden] { display: none !important; }` so we also need the `!important` here to be able to override the default hidden behavior on the sphinx rendered scikit-learn.org. See: https://github.com/scikit-learn/scikit-learn/issues/21755 */display: inline-block !important;position: relative;}#sk-container-id-1 div.sk-text-repr-fallback {display: none;}</style><div id=\"sk-container-id-1\" class=\"sk-top-container\"><div class=\"sk-text-repr-fallback\"><pre>ColumnTransformer(remainder=&#x27;passthrough&#x27;,\n",
              "                  transformers=[(&#x27;elements_remover&#x27;, ElementsRemover(),\n",
              "                                 [&#x27;Text&#x27;])])</pre><b>In a Jupyter environment, please rerun this cell to show the HTML representation or trust the notebook. <br />On GitHub, the HTML representation is unable to render, please try loading this page with nbviewer.org.</b></div><div class=\"sk-container\" hidden><div class=\"sk-item sk-dashed-wrapped\"><div class=\"sk-label-container\"><div class=\"sk-label sk-toggleable\"><input class=\"sk-toggleable__control sk-hidden--visually\" id=\"sk-estimator-id-1\" type=\"checkbox\" ><label for=\"sk-estimator-id-1\" class=\"sk-toggleable__label sk-toggleable__label-arrow\">ColumnTransformer</label><div class=\"sk-toggleable__content\"><pre>ColumnTransformer(remainder=&#x27;passthrough&#x27;,\n",
              "                  transformers=[(&#x27;elements_remover&#x27;, ElementsRemover(),\n",
              "                                 [&#x27;Text&#x27;])])</pre></div></div></div><div class=\"sk-parallel\"><div class=\"sk-parallel-item\"><div class=\"sk-item\"><div class=\"sk-label-container\"><div class=\"sk-label sk-toggleable\"><input class=\"sk-toggleable__control sk-hidden--visually\" id=\"sk-estimator-id-2\" type=\"checkbox\" ><label for=\"sk-estimator-id-2\" class=\"sk-toggleable__label sk-toggleable__label-arrow\">elements_remover</label><div class=\"sk-toggleable__content\"><pre>[&#x27;Text&#x27;]</pre></div></div></div><div class=\"sk-serial\"><div class=\"sk-item\"><div class=\"sk-estimator sk-toggleable\"><input class=\"sk-toggleable__control sk-hidden--visually\" id=\"sk-estimator-id-3\" type=\"checkbox\" ><label for=\"sk-estimator-id-3\" class=\"sk-toggleable__label sk-toggleable__label-arrow\">ElementsRemover</label><div class=\"sk-toggleable__content\"><pre>ElementsRemover()</pre></div></div></div></div></div></div><div class=\"sk-parallel-item\"><div class=\"sk-item\"><div class=\"sk-label-container\"><div class=\"sk-label sk-toggleable\"><input class=\"sk-toggleable__control sk-hidden--visually\" id=\"sk-estimator-id-4\" type=\"checkbox\" ><label for=\"sk-estimator-id-4\" class=\"sk-toggleable__label sk-toggleable__label-arrow\">remainder</label><div class=\"sk-toggleable__content\"><pre></pre></div></div></div><div class=\"sk-serial\"><div class=\"sk-item\"><div class=\"sk-estimator sk-toggleable\"><input class=\"sk-toggleable__control sk-hidden--visually\" id=\"sk-estimator-id-5\" type=\"checkbox\" ><label for=\"sk-estimator-id-5\" class=\"sk-toggleable__label sk-toggleable__label-arrow\">passthrough</label><div class=\"sk-toggleable__content\"><pre>passthrough</pre></div></div></div></div></div></div></div></div></div></div>"
            ]
          },
          "metadata": {},
          "execution_count": 14
        },
        {
          "output_type": "stream",
          "name": "stdout",
          "text": [
            "time: 2.8 s (started: 2023-03-08 16:50:21 +00:00)\n"
          ]
        }
      ]
    },
    {
      "cell_type": "markdown",
      "source": [
        "**Etapa ## - Formatações variadas:** Aqui também encapsulei algumas formatações de string úteis.\n",
        "    \n",
        "*   Todas as palavras devem conter apenas um espaço em branco.\n",
        "*   Todos os twitts devem estar em letras minúsculas."
      ],
      "metadata": {
        "id": "9ko-Nehwtp99"
      }
    },
    {
      "cell_type": "code",
      "source": [
        "class TwittFormatter(BaseEstimator, TransformerMixin):\n",
        "  def __init__(self):\n",
        "    pass\n",
        "  \n",
        "  def fit(self, X, y=None):\n",
        "    return self\n",
        "  \n",
        "  def fit_transform(self, X, y=None):\n",
        "    self.fit(X, y)\n",
        "    return self.transform(X, y)\n",
        "\n",
        "  def get_feature_names_out(self):\n",
        "      pass\n",
        "\n",
        "  def space_formatter(self, twitt):\n",
        "    \"\"\"\n",
        "    Remove múltiplos espaços entre palavras deixando apenas um.\n",
        "    Se a string for vazia, coloca np.nan no lugar.\n",
        "    \"\"\"\n",
        "    twitt = ' '.join(twitt.split())\n",
        "    twitt = twitt.strip()\n",
        "    if twitt:\n",
        "      return twitt\n",
        "    else:\n",
        "      return None\n",
        "\n",
        "  def twitt_to_lower(self, twitt):\n",
        "    return twitt.lower()\n",
        "\n",
        "  def transform(self, X, y=None):\n",
        "    X = np.vectorize(self.twitt_to_lower)(X)\n",
        "    X = np.vectorize(self.space_formatter)(X)\n",
        "    return pd.DataFrame(data=X, columns=['Text'])\n",
        "\n",
        "\n",
        "\n",
        "ct_twitt_formatter = ColumnTransformer(transformers=[('twitt_formatter', TwittFormatter(), ['Text'])], remainder='passthrough')\n",
        "ct_twitt_formatter.set_output(transform='pandas')"
      ],
      "metadata": {
        "colab": {
          "base_uri": "https://localhost:8080/",
          "height": 135
        },
        "id": "1FLoQgDnschZ",
        "outputId": "c10f3ca9-6bca-46ce-9788-cd0733c1db9e"
      },
      "execution_count": 15,
      "outputs": [
        {
          "output_type": "execute_result",
          "data": {
            "text/plain": [
              "ColumnTransformer(remainder='passthrough',\n",
              "                  transformers=[('twitt_formatter', TwittFormatter(),\n",
              "                                 ['Text'])])"
            ],
            "text/html": [
              "<style>#sk-container-id-2 {color: black;background-color: white;}#sk-container-id-2 pre{padding: 0;}#sk-container-id-2 div.sk-toggleable {background-color: white;}#sk-container-id-2 label.sk-toggleable__label {cursor: pointer;display: block;width: 100%;margin-bottom: 0;padding: 0.3em;box-sizing: border-box;text-align: center;}#sk-container-id-2 label.sk-toggleable__label-arrow:before {content: \"▸\";float: left;margin-right: 0.25em;color: #696969;}#sk-container-id-2 label.sk-toggleable__label-arrow:hover:before {color: black;}#sk-container-id-2 div.sk-estimator:hover label.sk-toggleable__label-arrow:before {color: black;}#sk-container-id-2 div.sk-toggleable__content {max-height: 0;max-width: 0;overflow: hidden;text-align: left;background-color: #f0f8ff;}#sk-container-id-2 div.sk-toggleable__content pre {margin: 0.2em;color: black;border-radius: 0.25em;background-color: #f0f8ff;}#sk-container-id-2 input.sk-toggleable__control:checked~div.sk-toggleable__content {max-height: 200px;max-width: 100%;overflow: auto;}#sk-container-id-2 input.sk-toggleable__control:checked~label.sk-toggleable__label-arrow:before {content: \"▾\";}#sk-container-id-2 div.sk-estimator input.sk-toggleable__control:checked~label.sk-toggleable__label {background-color: #d4ebff;}#sk-container-id-2 div.sk-label input.sk-toggleable__control:checked~label.sk-toggleable__label {background-color: #d4ebff;}#sk-container-id-2 input.sk-hidden--visually {border: 0;clip: rect(1px 1px 1px 1px);clip: rect(1px, 1px, 1px, 1px);height: 1px;margin: -1px;overflow: hidden;padding: 0;position: absolute;width: 1px;}#sk-container-id-2 div.sk-estimator {font-family: monospace;background-color: #f0f8ff;border: 1px dotted black;border-radius: 0.25em;box-sizing: border-box;margin-bottom: 0.5em;}#sk-container-id-2 div.sk-estimator:hover {background-color: #d4ebff;}#sk-container-id-2 div.sk-parallel-item::after {content: \"\";width: 100%;border-bottom: 1px solid gray;flex-grow: 1;}#sk-container-id-2 div.sk-label:hover label.sk-toggleable__label {background-color: #d4ebff;}#sk-container-id-2 div.sk-serial::before {content: \"\";position: absolute;border-left: 1px solid gray;box-sizing: border-box;top: 0;bottom: 0;left: 50%;z-index: 0;}#sk-container-id-2 div.sk-serial {display: flex;flex-direction: column;align-items: center;background-color: white;padding-right: 0.2em;padding-left: 0.2em;position: relative;}#sk-container-id-2 div.sk-item {position: relative;z-index: 1;}#sk-container-id-2 div.sk-parallel {display: flex;align-items: stretch;justify-content: center;background-color: white;position: relative;}#sk-container-id-2 div.sk-item::before, #sk-container-id-2 div.sk-parallel-item::before {content: \"\";position: absolute;border-left: 1px solid gray;box-sizing: border-box;top: 0;bottom: 0;left: 50%;z-index: -1;}#sk-container-id-2 div.sk-parallel-item {display: flex;flex-direction: column;z-index: 1;position: relative;background-color: white;}#sk-container-id-2 div.sk-parallel-item:first-child::after {align-self: flex-end;width: 50%;}#sk-container-id-2 div.sk-parallel-item:last-child::after {align-self: flex-start;width: 50%;}#sk-container-id-2 div.sk-parallel-item:only-child::after {width: 0;}#sk-container-id-2 div.sk-dashed-wrapped {border: 1px dashed gray;margin: 0 0.4em 0.5em 0.4em;box-sizing: border-box;padding-bottom: 0.4em;background-color: white;}#sk-container-id-2 div.sk-label label {font-family: monospace;font-weight: bold;display: inline-block;line-height: 1.2em;}#sk-container-id-2 div.sk-label-container {text-align: center;}#sk-container-id-2 div.sk-container {/* jupyter's `normalize.less` sets `[hidden] { display: none; }` but bootstrap.min.css set `[hidden] { display: none !important; }` so we also need the `!important` here to be able to override the default hidden behavior on the sphinx rendered scikit-learn.org. See: https://github.com/scikit-learn/scikit-learn/issues/21755 */display: inline-block !important;position: relative;}#sk-container-id-2 div.sk-text-repr-fallback {display: none;}</style><div id=\"sk-container-id-2\" class=\"sk-top-container\"><div class=\"sk-text-repr-fallback\"><pre>ColumnTransformer(remainder=&#x27;passthrough&#x27;,\n",
              "                  transformers=[(&#x27;twitt_formatter&#x27;, TwittFormatter(),\n",
              "                                 [&#x27;Text&#x27;])])</pre><b>In a Jupyter environment, please rerun this cell to show the HTML representation or trust the notebook. <br />On GitHub, the HTML representation is unable to render, please try loading this page with nbviewer.org.</b></div><div class=\"sk-container\" hidden><div class=\"sk-item sk-dashed-wrapped\"><div class=\"sk-label-container\"><div class=\"sk-label sk-toggleable\"><input class=\"sk-toggleable__control sk-hidden--visually\" id=\"sk-estimator-id-6\" type=\"checkbox\" ><label for=\"sk-estimator-id-6\" class=\"sk-toggleable__label sk-toggleable__label-arrow\">ColumnTransformer</label><div class=\"sk-toggleable__content\"><pre>ColumnTransformer(remainder=&#x27;passthrough&#x27;,\n",
              "                  transformers=[(&#x27;twitt_formatter&#x27;, TwittFormatter(),\n",
              "                                 [&#x27;Text&#x27;])])</pre></div></div></div><div class=\"sk-parallel\"><div class=\"sk-parallel-item\"><div class=\"sk-item\"><div class=\"sk-label-container\"><div class=\"sk-label sk-toggleable\"><input class=\"sk-toggleable__control sk-hidden--visually\" id=\"sk-estimator-id-7\" type=\"checkbox\" ><label for=\"sk-estimator-id-7\" class=\"sk-toggleable__label sk-toggleable__label-arrow\">twitt_formatter</label><div class=\"sk-toggleable__content\"><pre>[&#x27;Text&#x27;]</pre></div></div></div><div class=\"sk-serial\"><div class=\"sk-item\"><div class=\"sk-estimator sk-toggleable\"><input class=\"sk-toggleable__control sk-hidden--visually\" id=\"sk-estimator-id-8\" type=\"checkbox\" ><label for=\"sk-estimator-id-8\" class=\"sk-toggleable__label sk-toggleable__label-arrow\">TwittFormatter</label><div class=\"sk-toggleable__content\"><pre>TwittFormatter()</pre></div></div></div></div></div></div><div class=\"sk-parallel-item\"><div class=\"sk-item\"><div class=\"sk-label-container\"><div class=\"sk-label sk-toggleable\"><input class=\"sk-toggleable__control sk-hidden--visually\" id=\"sk-estimator-id-9\" type=\"checkbox\" ><label for=\"sk-estimator-id-9\" class=\"sk-toggleable__label sk-toggleable__label-arrow\">remainder</label><div class=\"sk-toggleable__content\"><pre></pre></div></div></div><div class=\"sk-serial\"><div class=\"sk-item\"><div class=\"sk-estimator sk-toggleable\"><input class=\"sk-toggleable__control sk-hidden--visually\" id=\"sk-estimator-id-10\" type=\"checkbox\" ><label for=\"sk-estimator-id-10\" class=\"sk-toggleable__label sk-toggleable__label-arrow\">passthrough</label><div class=\"sk-toggleable__content\"><pre>passthrough</pre></div></div></div></div></div></div></div></div></div></div>"
            ]
          },
          "metadata": {},
          "execution_count": 15
        },
        {
          "output_type": "stream",
          "name": "stdout",
          "text": [
            "time: 13.5 ms (started: 2023-03-08 16:50:29 +00:00)\n"
          ]
        }
      ]
    },
    {
      "cell_type": "markdown",
      "source": [
        "**Etapa ## - Remoção de twitts duplicados:** A remoção é feita de duas maneiras, direta e indireta.\n",
        "\n",
        "* Direta: usa a função pd.drop_duplicates()\n",
        "* Indireta: primeiramente compara os twitts e aqueles que tiverem uma semelhança x serão considerados iguais sendo removidos também. \n",
        "\n",
        "Vou colocar essa classe diretamente dentro de um Pipeline porque ColumnTransformer espera que o DataFrame retornado tenha o mesmo número de linhas que aquele passado por argumento em fit_transform()."
      ],
      "metadata": {
        "id": "8ZHuFm7JufVs"
      }
    },
    {
      "cell_type": "code",
      "source": [
        "class DuplicatesRemover(BaseEstimator, TransformerMixin):\n",
        "  def __init__(self):\n",
        "    pass\n",
        "\n",
        "  def match_similar(self, X, similarity=0.9):\n",
        "    \"\"\"\n",
        "    Substitui duas frases muito parecidas pelas palavras que elas têm em comum. O nível de semelhança pode ser ajustável.\n",
        "    \"\"\"\n",
        "    size = len(X)\n",
        "    for i in range(size-1):\n",
        "      for j in range(i+1, size):\n",
        "        twitt_a = X.loc[i, 'Text']\n",
        "        twitt_b = X.loc[j, 'Text']\n",
        "        sm = SequenceMatcher(None, twitt_a, twitt_b).ratio()\n",
        "        if sm >= similarity:\n",
        "          words_a = set(twitt_a.split(' '))\n",
        "          words_b = set(twitt_b.split(' '))\n",
        "          intersec = words_a.intersection(words_b)\n",
        "          X.loc[i, 'Text'] = ' '.join(intersec)\n",
        "          X.loc[j, 'Text'] = ' '.join(intersec)\n",
        "    return X\n",
        "\n",
        "  def fit(self, X, y=None):\n",
        "    return self\n",
        "\n",
        "  def fit_transform(self, X, y=None):\n",
        "    self.fit(X, y)\n",
        "    return self.transform(X, y)\n",
        "\n",
        "  def get_feature_names_out(self):\n",
        "      pass\n",
        "\n",
        "  def remove_duplicates(self, X):\n",
        "    X = X.sort_values(by=['Text'])\n",
        "    X = X.drop_duplicates(subset=['Text']) # Por causa dessa função o pipeline levou 42min de processamento no google colab.\n",
        "    X = X.reset_index().drop('index', axis=1)\n",
        "    return X\n",
        "\n",
        "  def transform(self, X, y=None):\n",
        "    X = self.remove_duplicates(X)\n",
        "    X = self.match_similar(X, similarity=0.9)\n",
        "    X = self.remove_duplicates(X)\n",
        "    return pd.DataFrame(data=X, columns=['Text', 'Classificacao', 'Hashtag'])\n",
        "\n",
        "\n",
        "\n",
        "pp_duplicates_remover = Pipeline(steps=[('duplicates_remover', DuplicatesRemover())])"
      ],
      "metadata": {
        "id": "xEGm-DQ9T9b0",
        "colab": {
          "base_uri": "https://localhost:8080/"
        },
        "outputId": "2500a317-9b63-455f-ac21-500c4b68674d"
      },
      "execution_count": 17,
      "outputs": [
        {
          "output_type": "stream",
          "name": "stdout",
          "text": [
            "time: 4.4 ms (started: 2023-03-08 16:50:55 +00:00)\n"
          ]
        }
      ]
    },
    {
      "cell_type": "markdown",
      "source": [
        "**Etapa ## - Recuperação das hashtags:** Concatena as hashtags com os seus respectivos twitts e remove a coluna 'Hashtag' do conjunto de dados."
      ],
      "metadata": {
        "id": "fiTT_Dzru6_-"
      }
    },
    {
      "cell_type": "code",
      "source": [
        "class HashtagRecover(BaseEstimator, TransformerMixin):\n",
        "  def __init__(self):\n",
        "    pass\n",
        "\n",
        "  def fit(self, X, y=None):\n",
        "    return self\n",
        "\n",
        "  def fit_transform(self, X, y=None):\n",
        "    self.fit(X, y)\n",
        "    return self.transform(X, y)\n",
        "\n",
        "  def get_feature_names_out(self):\n",
        "      pass\n",
        "\n",
        "  def transform(self, X, y=None):\n",
        "    twitts = X.loc[:, 'Text']\n",
        "    hashtags = X.loc[:, 'Hashtag']\n",
        "    twitts = np.vectorize(self.twitt_hashtag_concat)(twitts, hashtags)\n",
        "    return pd.Series(data=twitts, name='Text') # a remoção da coluna 'Hashtag' é implícita uma vez que estou retornando apenas os twitts.\n",
        "\n",
        "  def twitt_hashtag_concat(self, twitt, hashtag):\n",
        "    if (twitt is None) and (hashtag is None):\n",
        "      return None\n",
        "    elif (twitt is not None) and (hashtag is None):\n",
        "      return twitt\n",
        "    elif (twitt is None) and (hashtag is not None):\n",
        "      return hashtag\n",
        "    else:\n",
        "      return twitt + ' ' + hashtag[1:] #ignora o #\n",
        "\n",
        "\n",
        "\n",
        "ct_hashtag_recover = ColumnTransformer(transformers=[('hashtag_recover', HashtagRecover(), ['Text', 'Hashtag'])], remainder='passthrough')\n",
        "ct_hashtag_recover.set_output(transform='pandas')"
      ],
      "metadata": {
        "colab": {
          "base_uri": "https://localhost:8080/",
          "height": 135
        },
        "id": "ppEN-utNobbA",
        "outputId": "9b15ab75-282d-444b-860a-2e485c1f5a60"
      },
      "execution_count": 18,
      "outputs": [
        {
          "output_type": "execute_result",
          "data": {
            "text/plain": [
              "ColumnTransformer(remainder='passthrough',\n",
              "                  transformers=[('hashtag_recover', HashtagRecover(),\n",
              "                                 ['Text', 'Hashtag'])])"
            ],
            "text/html": [
              "<style>#sk-container-id-3 {color: black;background-color: white;}#sk-container-id-3 pre{padding: 0;}#sk-container-id-3 div.sk-toggleable {background-color: white;}#sk-container-id-3 label.sk-toggleable__label {cursor: pointer;display: block;width: 100%;margin-bottom: 0;padding: 0.3em;box-sizing: border-box;text-align: center;}#sk-container-id-3 label.sk-toggleable__label-arrow:before {content: \"▸\";float: left;margin-right: 0.25em;color: #696969;}#sk-container-id-3 label.sk-toggleable__label-arrow:hover:before {color: black;}#sk-container-id-3 div.sk-estimator:hover label.sk-toggleable__label-arrow:before {color: black;}#sk-container-id-3 div.sk-toggleable__content {max-height: 0;max-width: 0;overflow: hidden;text-align: left;background-color: #f0f8ff;}#sk-container-id-3 div.sk-toggleable__content pre {margin: 0.2em;color: black;border-radius: 0.25em;background-color: #f0f8ff;}#sk-container-id-3 input.sk-toggleable__control:checked~div.sk-toggleable__content {max-height: 200px;max-width: 100%;overflow: auto;}#sk-container-id-3 input.sk-toggleable__control:checked~label.sk-toggleable__label-arrow:before {content: \"▾\";}#sk-container-id-3 div.sk-estimator input.sk-toggleable__control:checked~label.sk-toggleable__label {background-color: #d4ebff;}#sk-container-id-3 div.sk-label input.sk-toggleable__control:checked~label.sk-toggleable__label {background-color: #d4ebff;}#sk-container-id-3 input.sk-hidden--visually {border: 0;clip: rect(1px 1px 1px 1px);clip: rect(1px, 1px, 1px, 1px);height: 1px;margin: -1px;overflow: hidden;padding: 0;position: absolute;width: 1px;}#sk-container-id-3 div.sk-estimator {font-family: monospace;background-color: #f0f8ff;border: 1px dotted black;border-radius: 0.25em;box-sizing: border-box;margin-bottom: 0.5em;}#sk-container-id-3 div.sk-estimator:hover {background-color: #d4ebff;}#sk-container-id-3 div.sk-parallel-item::after {content: \"\";width: 100%;border-bottom: 1px solid gray;flex-grow: 1;}#sk-container-id-3 div.sk-label:hover label.sk-toggleable__label {background-color: #d4ebff;}#sk-container-id-3 div.sk-serial::before {content: \"\";position: absolute;border-left: 1px solid gray;box-sizing: border-box;top: 0;bottom: 0;left: 50%;z-index: 0;}#sk-container-id-3 div.sk-serial {display: flex;flex-direction: column;align-items: center;background-color: white;padding-right: 0.2em;padding-left: 0.2em;position: relative;}#sk-container-id-3 div.sk-item {position: relative;z-index: 1;}#sk-container-id-3 div.sk-parallel {display: flex;align-items: stretch;justify-content: center;background-color: white;position: relative;}#sk-container-id-3 div.sk-item::before, #sk-container-id-3 div.sk-parallel-item::before {content: \"\";position: absolute;border-left: 1px solid gray;box-sizing: border-box;top: 0;bottom: 0;left: 50%;z-index: -1;}#sk-container-id-3 div.sk-parallel-item {display: flex;flex-direction: column;z-index: 1;position: relative;background-color: white;}#sk-container-id-3 div.sk-parallel-item:first-child::after {align-self: flex-end;width: 50%;}#sk-container-id-3 div.sk-parallel-item:last-child::after {align-self: flex-start;width: 50%;}#sk-container-id-3 div.sk-parallel-item:only-child::after {width: 0;}#sk-container-id-3 div.sk-dashed-wrapped {border: 1px dashed gray;margin: 0 0.4em 0.5em 0.4em;box-sizing: border-box;padding-bottom: 0.4em;background-color: white;}#sk-container-id-3 div.sk-label label {font-family: monospace;font-weight: bold;display: inline-block;line-height: 1.2em;}#sk-container-id-3 div.sk-label-container {text-align: center;}#sk-container-id-3 div.sk-container {/* jupyter's `normalize.less` sets `[hidden] { display: none; }` but bootstrap.min.css set `[hidden] { display: none !important; }` so we also need the `!important` here to be able to override the default hidden behavior on the sphinx rendered scikit-learn.org. See: https://github.com/scikit-learn/scikit-learn/issues/21755 */display: inline-block !important;position: relative;}#sk-container-id-3 div.sk-text-repr-fallback {display: none;}</style><div id=\"sk-container-id-3\" class=\"sk-top-container\"><div class=\"sk-text-repr-fallback\"><pre>ColumnTransformer(remainder=&#x27;passthrough&#x27;,\n",
              "                  transformers=[(&#x27;hashtag_recover&#x27;, HashtagRecover(),\n",
              "                                 [&#x27;Text&#x27;, &#x27;Hashtag&#x27;])])</pre><b>In a Jupyter environment, please rerun this cell to show the HTML representation or trust the notebook. <br />On GitHub, the HTML representation is unable to render, please try loading this page with nbviewer.org.</b></div><div class=\"sk-container\" hidden><div class=\"sk-item sk-dashed-wrapped\"><div class=\"sk-label-container\"><div class=\"sk-label sk-toggleable\"><input class=\"sk-toggleable__control sk-hidden--visually\" id=\"sk-estimator-id-11\" type=\"checkbox\" ><label for=\"sk-estimator-id-11\" class=\"sk-toggleable__label sk-toggleable__label-arrow\">ColumnTransformer</label><div class=\"sk-toggleable__content\"><pre>ColumnTransformer(remainder=&#x27;passthrough&#x27;,\n",
              "                  transformers=[(&#x27;hashtag_recover&#x27;, HashtagRecover(),\n",
              "                                 [&#x27;Text&#x27;, &#x27;Hashtag&#x27;])])</pre></div></div></div><div class=\"sk-parallel\"><div class=\"sk-parallel-item\"><div class=\"sk-item\"><div class=\"sk-label-container\"><div class=\"sk-label sk-toggleable\"><input class=\"sk-toggleable__control sk-hidden--visually\" id=\"sk-estimator-id-12\" type=\"checkbox\" ><label for=\"sk-estimator-id-12\" class=\"sk-toggleable__label sk-toggleable__label-arrow\">hashtag_recover</label><div class=\"sk-toggleable__content\"><pre>[&#x27;Text&#x27;, &#x27;Hashtag&#x27;]</pre></div></div></div><div class=\"sk-serial\"><div class=\"sk-item\"><div class=\"sk-estimator sk-toggleable\"><input class=\"sk-toggleable__control sk-hidden--visually\" id=\"sk-estimator-id-13\" type=\"checkbox\" ><label for=\"sk-estimator-id-13\" class=\"sk-toggleable__label sk-toggleable__label-arrow\">HashtagRecover</label><div class=\"sk-toggleable__content\"><pre>HashtagRecover()</pre></div></div></div></div></div></div><div class=\"sk-parallel-item\"><div class=\"sk-item\"><div class=\"sk-label-container\"><div class=\"sk-label sk-toggleable\"><input class=\"sk-toggleable__control sk-hidden--visually\" id=\"sk-estimator-id-14\" type=\"checkbox\" ><label for=\"sk-estimator-id-14\" class=\"sk-toggleable__label sk-toggleable__label-arrow\">remainder</label><div class=\"sk-toggleable__content\"><pre></pre></div></div></div><div class=\"sk-serial\"><div class=\"sk-item\"><div class=\"sk-estimator sk-toggleable\"><input class=\"sk-toggleable__control sk-hidden--visually\" id=\"sk-estimator-id-15\" type=\"checkbox\" ><label for=\"sk-estimator-id-15\" class=\"sk-toggleable__label sk-toggleable__label-arrow\">passthrough</label><div class=\"sk-toggleable__content\"><pre>passthrough</pre></div></div></div></div></div></div></div></div></div></div>"
            ]
          },
          "metadata": {},
          "execution_count": 18
        },
        {
          "output_type": "stream",
          "name": "stdout",
          "text": [
            "time: 70.9 ms (started: 2023-03-08 16:51:04 +00:00)\n"
          ]
        }
      ]
    },
    {
      "cell_type": "markdown",
      "source": [
        "##Codificação da label"
      ],
      "metadata": {
        "id": "Ull8Y0wchjNK"
      }
    },
    {
      "cell_type": "markdown",
      "source": [
        "**OrdinalEncoder:** Tanto CountVectorizer quanto TfidfVectorizer não transformam a label em números por isso vou fazer separadamente."
      ],
      "metadata": {
        "id": "NPXb_iFNcsjX"
      }
    },
    {
      "cell_type": "code",
      "source": [
        "ct_ordinal_encoder = ColumnTransformer(transformers=[('ordinal_encoder', OrdinalEncoder(), ['Classificacao'])], remainder='passthrough')\n",
        "ct_ordinal_encoder.set_output(transform='pandas')"
      ],
      "metadata": {
        "colab": {
          "base_uri": "https://localhost:8080/",
          "height": 135
        },
        "id": "cm3-0pYC-zDc",
        "outputId": "7fa1f349-ff6a-4e35-9399-aa703476f458"
      },
      "execution_count": 19,
      "outputs": [
        {
          "output_type": "execute_result",
          "data": {
            "text/plain": [
              "ColumnTransformer(remainder='passthrough',\n",
              "                  transformers=[('ordinal_encoder', OrdinalEncoder(),\n",
              "                                 ['Classificacao'])])"
            ],
            "text/html": [
              "<style>#sk-container-id-4 {color: black;background-color: white;}#sk-container-id-4 pre{padding: 0;}#sk-container-id-4 div.sk-toggleable {background-color: white;}#sk-container-id-4 label.sk-toggleable__label {cursor: pointer;display: block;width: 100%;margin-bottom: 0;padding: 0.3em;box-sizing: border-box;text-align: center;}#sk-container-id-4 label.sk-toggleable__label-arrow:before {content: \"▸\";float: left;margin-right: 0.25em;color: #696969;}#sk-container-id-4 label.sk-toggleable__label-arrow:hover:before {color: black;}#sk-container-id-4 div.sk-estimator:hover label.sk-toggleable__label-arrow:before {color: black;}#sk-container-id-4 div.sk-toggleable__content {max-height: 0;max-width: 0;overflow: hidden;text-align: left;background-color: #f0f8ff;}#sk-container-id-4 div.sk-toggleable__content pre {margin: 0.2em;color: black;border-radius: 0.25em;background-color: #f0f8ff;}#sk-container-id-4 input.sk-toggleable__control:checked~div.sk-toggleable__content {max-height: 200px;max-width: 100%;overflow: auto;}#sk-container-id-4 input.sk-toggleable__control:checked~label.sk-toggleable__label-arrow:before {content: \"▾\";}#sk-container-id-4 div.sk-estimator input.sk-toggleable__control:checked~label.sk-toggleable__label {background-color: #d4ebff;}#sk-container-id-4 div.sk-label input.sk-toggleable__control:checked~label.sk-toggleable__label {background-color: #d4ebff;}#sk-container-id-4 input.sk-hidden--visually {border: 0;clip: rect(1px 1px 1px 1px);clip: rect(1px, 1px, 1px, 1px);height: 1px;margin: -1px;overflow: hidden;padding: 0;position: absolute;width: 1px;}#sk-container-id-4 div.sk-estimator {font-family: monospace;background-color: #f0f8ff;border: 1px dotted black;border-radius: 0.25em;box-sizing: border-box;margin-bottom: 0.5em;}#sk-container-id-4 div.sk-estimator:hover {background-color: #d4ebff;}#sk-container-id-4 div.sk-parallel-item::after {content: \"\";width: 100%;border-bottom: 1px solid gray;flex-grow: 1;}#sk-container-id-4 div.sk-label:hover label.sk-toggleable__label {background-color: #d4ebff;}#sk-container-id-4 div.sk-serial::before {content: \"\";position: absolute;border-left: 1px solid gray;box-sizing: border-box;top: 0;bottom: 0;left: 50%;z-index: 0;}#sk-container-id-4 div.sk-serial {display: flex;flex-direction: column;align-items: center;background-color: white;padding-right: 0.2em;padding-left: 0.2em;position: relative;}#sk-container-id-4 div.sk-item {position: relative;z-index: 1;}#sk-container-id-4 div.sk-parallel {display: flex;align-items: stretch;justify-content: center;background-color: white;position: relative;}#sk-container-id-4 div.sk-item::before, #sk-container-id-4 div.sk-parallel-item::before {content: \"\";position: absolute;border-left: 1px solid gray;box-sizing: border-box;top: 0;bottom: 0;left: 50%;z-index: -1;}#sk-container-id-4 div.sk-parallel-item {display: flex;flex-direction: column;z-index: 1;position: relative;background-color: white;}#sk-container-id-4 div.sk-parallel-item:first-child::after {align-self: flex-end;width: 50%;}#sk-container-id-4 div.sk-parallel-item:last-child::after {align-self: flex-start;width: 50%;}#sk-container-id-4 div.sk-parallel-item:only-child::after {width: 0;}#sk-container-id-4 div.sk-dashed-wrapped {border: 1px dashed gray;margin: 0 0.4em 0.5em 0.4em;box-sizing: border-box;padding-bottom: 0.4em;background-color: white;}#sk-container-id-4 div.sk-label label {font-family: monospace;font-weight: bold;display: inline-block;line-height: 1.2em;}#sk-container-id-4 div.sk-label-container {text-align: center;}#sk-container-id-4 div.sk-container {/* jupyter's `normalize.less` sets `[hidden] { display: none; }` but bootstrap.min.css set `[hidden] { display: none !important; }` so we also need the `!important` here to be able to override the default hidden behavior on the sphinx rendered scikit-learn.org. See: https://github.com/scikit-learn/scikit-learn/issues/21755 */display: inline-block !important;position: relative;}#sk-container-id-4 div.sk-text-repr-fallback {display: none;}</style><div id=\"sk-container-id-4\" class=\"sk-top-container\"><div class=\"sk-text-repr-fallback\"><pre>ColumnTransformer(remainder=&#x27;passthrough&#x27;,\n",
              "                  transformers=[(&#x27;ordinal_encoder&#x27;, OrdinalEncoder(),\n",
              "                                 [&#x27;Classificacao&#x27;])])</pre><b>In a Jupyter environment, please rerun this cell to show the HTML representation or trust the notebook. <br />On GitHub, the HTML representation is unable to render, please try loading this page with nbviewer.org.</b></div><div class=\"sk-container\" hidden><div class=\"sk-item sk-dashed-wrapped\"><div class=\"sk-label-container\"><div class=\"sk-label sk-toggleable\"><input class=\"sk-toggleable__control sk-hidden--visually\" id=\"sk-estimator-id-16\" type=\"checkbox\" ><label for=\"sk-estimator-id-16\" class=\"sk-toggleable__label sk-toggleable__label-arrow\">ColumnTransformer</label><div class=\"sk-toggleable__content\"><pre>ColumnTransformer(remainder=&#x27;passthrough&#x27;,\n",
              "                  transformers=[(&#x27;ordinal_encoder&#x27;, OrdinalEncoder(),\n",
              "                                 [&#x27;Classificacao&#x27;])])</pre></div></div></div><div class=\"sk-parallel\"><div class=\"sk-parallel-item\"><div class=\"sk-item\"><div class=\"sk-label-container\"><div class=\"sk-label sk-toggleable\"><input class=\"sk-toggleable__control sk-hidden--visually\" id=\"sk-estimator-id-17\" type=\"checkbox\" ><label for=\"sk-estimator-id-17\" class=\"sk-toggleable__label sk-toggleable__label-arrow\">ordinal_encoder</label><div class=\"sk-toggleable__content\"><pre>[&#x27;Classificacao&#x27;]</pre></div></div></div><div class=\"sk-serial\"><div class=\"sk-item\"><div class=\"sk-estimator sk-toggleable\"><input class=\"sk-toggleable__control sk-hidden--visually\" id=\"sk-estimator-id-18\" type=\"checkbox\" ><label for=\"sk-estimator-id-18\" class=\"sk-toggleable__label sk-toggleable__label-arrow\">OrdinalEncoder</label><div class=\"sk-toggleable__content\"><pre>OrdinalEncoder()</pre></div></div></div></div></div></div><div class=\"sk-parallel-item\"><div class=\"sk-item\"><div class=\"sk-label-container\"><div class=\"sk-label sk-toggleable\"><input class=\"sk-toggleable__control sk-hidden--visually\" id=\"sk-estimator-id-19\" type=\"checkbox\" ><label for=\"sk-estimator-id-19\" class=\"sk-toggleable__label sk-toggleable__label-arrow\">remainder</label><div class=\"sk-toggleable__content\"><pre></pre></div></div></div><div class=\"sk-serial\"><div class=\"sk-item\"><div class=\"sk-estimator sk-toggleable\"><input class=\"sk-toggleable__control sk-hidden--visually\" id=\"sk-estimator-id-20\" type=\"checkbox\" ><label for=\"sk-estimator-id-20\" class=\"sk-toggleable__label sk-toggleable__label-arrow\">passthrough</label><div class=\"sk-toggleable__content\"><pre>passthrough</pre></div></div></div></div></div></div></div></div></div></div>"
            ]
          },
          "metadata": {},
          "execution_count": 19
        },
        {
          "output_type": "stream",
          "name": "stdout",
          "text": [
            "time: 8.02 ms (started: 2023-03-08 16:51:09 +00:00)\n"
          ]
        }
      ]
    },
    {
      "cell_type": "markdown",
      "source": [
        "**Etapa final** - Pipeline completo de limpeza dos twitts:"
      ],
      "metadata": {
        "id": "pa9neAeGgGIY"
      }
    },
    {
      "cell_type": "code",
      "source": [
        "steps = [('hashtag_extractor', ct_hashtag_extractor),\n",
        "         ('renamer01',    FeaturesRenamer(feat_names)),\n",
        "         ('elements_remover', ct_elements_remover),\n",
        "         ('renamer02',    FeaturesRenamer(feat_names)),\n",
        "         ('twitt_formatter', ct_twitt_formatter),\n",
        "         ('renamer03',    FeaturesRenamer(feat_names)),\n",
        "         ('duplicates_remover', pp_duplicates_remover),\n",
        "         ('hashtag_recover', ct_hashtag_recover),\n",
        "         ('renamer04',    FeaturesRenamer(feat_names)),\n",
        "         ('label_encoder',     ct_ordinal_encoder),\n",
        "         ('renamer05',         FeaturesRenamer(feat_names)),]\n",
        "\n",
        "pipeline_clean_up = Pipeline(steps=steps)\n",
        "dataset_clean = pipeline_clean_up.fit_transform(dataset)"
      ],
      "metadata": {
        "id": "us_tzJnPwR6b",
        "colab": {
          "base_uri": "https://localhost:8080/"
        },
        "outputId": "643eb8fb-ebc5-4150-9fd4-b61bf128b348"
      },
      "execution_count": null,
      "outputs": [
        {
          "output_type": "stream",
          "name": "stdout",
          "text": [
            "time: 42min 1s (started: 2023-03-07 00:57:37 +00:00)\n"
          ]
        }
      ]
    },
    {
      "cell_type": "markdown",
      "source": [
        "Agora, posso considerar 'dataset_clean' como sendo o meu principal. Tudo o que preciso fazer é:\n",
        "\n",
        "\n",
        "1.   Separar o conjunto de dados em conjunto de treinamento e teste.\n",
        "2.   Codificar o atributo 'Text'.\n",
        "3.   Selecionar e treinar os modelos.\n",
        "\n"
      ],
      "metadata": {
        "id": "44P-3IR-gAC1"
      }
    },
    {
      "cell_type": "markdown",
      "source": [
        "#Train/Test split"
      ],
      "metadata": {
        "id": "y4wEcZn0Y_rW"
      }
    },
    {
      "cell_type": "code",
      "source": [
        "from sklearn.model_selection import StratifiedKFold"
      ],
      "metadata": {
        "colab": {
          "base_uri": "https://localhost:8080/"
        },
        "id": "rXOgu_VsZExn",
        "outputId": "dbe2c414-9b5a-4441-f324-8e0fc5f24f0c"
      },
      "execution_count": 22,
      "outputs": [
        {
          "output_type": "stream",
          "name": "stdout",
          "text": [
            "time: 630 µs (started: 2023-03-08 16:51:37 +00:00)\n"
          ]
        }
      ]
    },
    {
      "cell_type": "code",
      "source": [
        "colors = sns.color_palette()\n",
        "ax = sns.histplot(data=dataset_clean, x='Classificacao', bins=3)\n",
        "ax.patches[0].set_facecolor(colors[0])\n",
        "ax.patches[1].set_facecolor(colors[1])\n",
        "ax.patches[2].set_facecolor(colors[2])\n",
        "plt.tight_layout()\n",
        "plt.show()"
      ],
      "metadata": {
        "colab": {
          "base_uri": "https://localhost:8080/",
          "height": 314
        },
        "id": "pa9cF6SYz9ds",
        "outputId": "24834148-1fe7-43f7-e24c-c96c8b3f56bd"
      },
      "execution_count": 33,
      "outputs": [
        {
          "output_type": "display_data",
          "data": {
            "text/plain": [
              "<Figure size 432x288 with 1 Axes>"
            ],
            "image/png": "[encoded data removed]"
          },
          "metadata": {
            "needs_background": "light"
          }
        },
        {
          "output_type": "stream",
          "name": "stdout",
          "text": [
            "time: 1.54 s (started: 2023-03-08 17:01:55 +00:00)\n"
          ]
        }
      ]
    },
    {
      "cell_type": "markdown",
      "source": [
        "O desequilíbrio de classes parece mais acentuado agora. Por isso, fazer uma amostragem estratificada que vai preservar as proporções de classes no conjunto de treinamento e teste. Depois, posso utilizar alguma técnica para reequilibrar o conjunto de treinamento."
      ],
      "metadata": {
        "id": "44Pf9h7F1HWr"
      }
    },
    {
      "cell_type": "code",
      "source": [
        "skf = StratifiedKFold()\n",
        "folds = skf.split(dataset_clean, dataset_clean['Classificacao'])\n",
        "train_indexes, test_indexes = next(folds) # só o primeiro fold me interessa\n",
        "X_train = dataset_clean.loc[train_indexes, 'Text']\n",
        "y_train = dataset_clean.loc[train_indexes, 'Classificacao']\n",
        "X_test  = dataset_clean.loc[test_indexes, 'Text']\n",
        "y_test  = dataset_clean.loc[test_indexes, 'Classificacao']"
      ],
      "metadata": {
        "colab": {
          "base_uri": "https://localhost:8080/"
        },
        "id": "FA5gpnt-ZNPo",
        "outputId": "e5ac90ce-4518-49cd-c373-174a565efa13"
      },
      "execution_count": 34,
      "outputs": [
        {
          "output_type": "stream",
          "name": "stdout",
          "text": [
            "time: 8.25 ms (started: 2023-03-08 17:02:12 +00:00)\n"
          ]
        }
      ]
    },
    {
      "cell_type": "markdown",
      "source": [
        "#Codificação do conjunto de dados"
      ],
      "metadata": {
        "id": "kuWEkpQkhfO-"
      }
    },
    {
      "cell_type": "markdown",
      "source": [
        "Esta etapa ainda faz parte da engenharia de atributos, mas devido ao adiamento da separação de conjunto de treino e teste, resolvi fazer essa tarefa aqui."
      ],
      "metadata": {
        "id": "F8xHOn4qeijh"
      }
    },
    {
      "cell_type": "code",
      "source": [
        "from sklearn.feature_extraction.text import CountVectorizer, TfidfVectorizer"
      ],
      "metadata": {
        "id": "YS-GUvztiqfd",
        "colab": {
          "base_uri": "https://localhost:8080/"
        },
        "outputId": "cef0cb5d-5f5f-4418-c108-d5fd79e525d2"
      },
      "execution_count": 35,
      "outputs": [
        {
          "output_type": "stream",
          "name": "stdout",
          "text": [
            "time: 790 µs (started: 2023-03-08 17:02:14 +00:00)\n"
          ]
        }
      ]
    },
    {
      "cell_type": "markdown",
      "source": [
        "##CountVectorizer"
      ],
      "metadata": {
        "id": "EwNA8Sc49c3O"
      }
    },
    {
      "cell_type": "code",
      "source": [
        "cv = CountVectorizer()\n",
        "\n",
        "bag_of_words = cv.fit_transform(X_train)\n",
        "X_train_cv = pd.DataFrame(data=bag_of_words.toarray(), columns=cv.get_feature_names_out())\n",
        "\n",
        "bag_of_words = cv.transform(X_test)\n",
        "X_test_cv = pd.DataFrame(data=bag_of_words.toarray(), columns=cv.get_feature_names_out())"
      ],
      "metadata": {
        "colab": {
          "base_uri": "https://localhost:8080/"
        },
        "id": "UgJ8SDsMFtJj",
        "outputId": "28c91377-7fed-423c-90e4-74a1dce704fc"
      },
      "execution_count": 37,
      "outputs": [
        {
          "output_type": "stream",
          "name": "stdout",
          "text": [
            "time: 299 ms (started: 2023-03-08 17:02:18 +00:00)\n"
          ]
        }
      ]
    },
    {
      "cell_type": "markdown",
      "source": [
        "##TfidfVectorizer"
      ],
      "metadata": {
        "id": "FJ4VfCQQx5Ex"
      }
    },
    {
      "cell_type": "code",
      "source": [
        "tfidf = TfidfVectorizer()\n",
        "bag_of_words = tfidf.fit_transform(X_train)\n",
        "X_train_tfidf = pd.DataFrame(data=bag_of_words.toarray(), columns=tfidf.get_feature_names_out())\n",
        "\n",
        "bag_of_words = tfidf.transform(X_test)\n",
        "X_test_tfidf = pd.DataFrame(data=bag_of_words.toarray(), columns=tfidf.get_feature_names_out())"
      ],
      "metadata": {
        "colab": {
          "base_uri": "https://localhost:8080/"
        },
        "id": "ZQSGQ1ppioPZ",
        "outputId": "a478cffb-027b-4bbe-f467-251c6ec6e029"
      },
      "execution_count": 38,
      "outputs": [
        {
          "output_type": "stream",
          "name": "stdout",
          "text": [
            "time: 202 ms (started: 2023-03-08 17:02:23 +00:00)\n"
          ]
        }
      ]
    },
    {
      "cell_type": "markdown",
      "source": [
        "#FeatureSelection"
      ],
      "metadata": {
        "id": "VfQvqY4RPQMk"
      }
    },
    {
      "cell_type": "code",
      "source": [
        "from sklearn.feature_selection import chi2, f_classif, SelectPercentile"
      ],
      "metadata": {
        "colab": {
          "base_uri": "https://localhost:8080/"
        },
        "id": "Mo8z-x5dPVRh",
        "outputId": "a6dc20c0-f94d-4ebc-b638-34402382da1f"
      },
      "execution_count": 39,
      "outputs": [
        {
          "output_type": "stream",
          "name": "stdout",
          "text": [
            "time: 79 ms (started: 2023-03-08 17:02:30 +00:00)\n"
          ]
        }
      ]
    },
    {
      "cell_type": "markdown",
      "source": [
        "Como o conjunto de treinamento e teste tem muitas dimensões, vou reduzi-las utilizando SelectPercentile. Esta classe vai selecionar 80% dos atributos mais importantes. O critério de importância será definido pelo teste estatístico ANOVA implementado pela função f_classif."
      ],
      "metadata": {
        "id": "FpaPmDvYLMYi"
      }
    },
    {
      "cell_type": "code",
      "source": [
        "percentile = 80\n",
        "select_percentile = SelectPercentile(score_func=f_classif, percentile=percentile)\n",
        "best_features = select_percentile.fit(X_train_cv, y_train)\n",
        "condition_mask = best_features.get_support()\n",
        "X_train_cv = X_train_cv[X_train_cv.columns[condition_mask]]\n",
        "X_test_cv  = X_test_cv[X_train_cv.columns]\n",
        "\n",
        "select_percentile = SelectPercentile(score_func=f_classif, percentile=percentile)\n",
        "best_features = select_percentile.fit(X_train_tfidf, y_train)\n",
        "condition_mask = best_features.get_support()\n",
        "X_train_tfidf = X_train_tfidf[X_train_tfidf.columns[condition_mask]]\n",
        "X_test_tfidf  = X_test_tfidf[X_train_tfidf.columns]"
      ],
      "metadata": {
        "id": "iWKD4z7ERbC-",
        "colab": {
          "base_uri": "https://localhost:8080/"
        },
        "outputId": "e6887494-1659-4578-bd21-28fa0369c8b7"
      },
      "execution_count": 40,
      "outputs": [
        {
          "output_type": "stream",
          "name": "stdout",
          "text": [
            "time: 537 ms (started: 2023-03-08 17:02:30 +00:00)\n"
          ]
        }
      ]
    },
    {
      "cell_type": "markdown",
      "source": [
        "# Resample"
      ],
      "metadata": {
        "id": "7nnCbEIEjw4A"
      }
    },
    {
      "cell_type": "markdown",
      "source": [
        "Muitas linhas foram apagadas ao fazer a eliminação de twitts duplicados, por isso vou fazer uma sobre amostragem dos dados para não eliminar ainda mais registros."
      ],
      "metadata": {
        "id": "BbzkYH5XmSeO"
      }
    },
    {
      "cell_type": "code",
      "source": [
        "from imblearn.over_sampling import RandomOverSampler, SMOTE"
      ],
      "metadata": {
        "colab": {
          "base_uri": "https://localhost:8080/"
        },
        "id": "c7IoaSup0aDX",
        "outputId": "ca72941d-4957-405a-dcbe-48c20578e901"
      },
      "execution_count": 41,
      "outputs": [
        {
          "output_type": "stream",
          "name": "stdout",
          "text": [
            "time: 421 ms (started: 2023-03-08 17:05:49 +00:00)\n"
          ]
        }
      ]
    },
    {
      "cell_type": "code",
      "source": [
        "smote = SMOTE()\n",
        "X_train_cv, y_train_cv       = smote.fit_resample(X_train_cv, y_train)\n",
        "X_train_tfidf, y_train_tfidf = smote.fit_resample(X_train_tfidf, y_train)"
      ],
      "metadata": {
        "colab": {
          "base_uri": "https://localhost:8080/"
        },
        "id": "Yev6dW7_15cd",
        "outputId": "e29dd33d-732b-48c0-c461-645767d9536f"
      },
      "execution_count": 42,
      "outputs": [
        {
          "output_type": "stream",
          "name": "stdout",
          "text": [
            "time: 3.1 s (started: 2023-03-08 17:05:53 +00:00)\n"
          ]
        }
      ]
    },
    {
      "cell_type": "markdown",
      "source": [
        "# Model training"
      ],
      "metadata": {
        "id": "BlkT-vStkaLZ"
      }
    },
    {
      "cell_type": "code",
      "source": [
        "from googletrans                   import Translator\n",
        "from keras.wrappers.scikit_learn   import KerasClassifier\n",
        "from sklearn.dummy                 import DummyClassifier\n",
        "from sklearn.ensemble              import ExtraTreesClassifier, RandomForestClassifier\n",
        "from sklearn.linear_model          import SGDClassifier\n",
        "from sklearn.metrics               import classification_report, confusion_matrix\n",
        "from sklearn.model_selection       import cross_val_score, RandomizedSearchCV\n",
        "from sklearn.svm                   import SVC\n",
        "from skopt                         import BayesSearchCV\n",
        "from tensorflow.keras.models       import Sequential\n",
        "from tensorflow.keras.layers       import Dense, Dropout, InputLayer\n",
        "from tensorflow.keras.callbacks    import EarlyStopping, ReduceLROnPlateau\n",
        "from tensorflow.keras.optimizers   import Nadam\n",
        "from tensorflow.keras.regularizers import l1_l2\n",
        "from transformers                  import AutoTokenizer, AutoModelForSequenceClassification\n",
        "from transformers.models.reformer.modeling_reformer import ReformerForSequenceClassification"
      ],
      "metadata": {
        "colab": {
          "base_uri": "https://localhost:8080/"
        },
        "id": "rB1JX08nQZHm",
        "outputId": "3e0d745f-9d04-4e0f-df7a-ec1d0e10f522"
      },
      "execution_count": 43,
      "outputs": [
        {
          "output_type": "stream",
          "name": "stdout",
          "text": [
            "time: 6.13 s (started: 2023-03-08 17:06:00 +00:00)\n"
          ]
        }
      ]
    },
    {
      "cell_type": "markdown",
      "source": [
        "Nesta fase, vou testar dois modelos de cada categoria.\n",
        "\n",
        "*   Lineares: SGDClassifier, SupportVectorClassifier\n",
        "*   Baseados em árvores: RandomForestClassifier, ExtraTreesClassifier\n",
        "*   Redes neurais: Rede Neural, BERT\n",
        "\n",
        "Primeiro, vou avaliar o desempenho deles em uma validação cruzada sem qualquer ajuste de hiper parâmetros. Farei os ajustes naqueles mais promissores. Por último, escolherei o que apresentar melhor resultado no cojunto de teste.\n",
        "\n",
        "Como reequilibrei os conjuntos, posso confiar na métrica 'acurácia', apesar de já ser esperado um desempenho pior dos modelos no conjunto de teste porque este não foi reequilibrado.\n"
      ],
      "metadata": {
        "id": "Juww3Ox1_0PN"
      }
    },
    {
      "cell_type": "markdown",
      "source": [
        "##Baseline model"
      ],
      "metadata": {
        "id": "yE70sIhqv-JO"
      }
    },
    {
      "cell_type": "code",
      "source": [
        "dc = DummyClassifier(strategy='stratified')\n",
        "result = dc.fit(X_train_tfidf, y_train_tfidf)\n",
        "y_pred = dc.predict(X_train_tfidf)\n",
        "print(classification_report(y_train_tfidf, y_pred))"
      ],
      "metadata": {
        "id": "I4Uy_lPiIkOQ",
        "colab": {
          "base_uri": "https://localhost:8080/"
        },
        "outputId": "043632ab-2d08-422f-8f52-435501999623"
      },
      "execution_count": 44,
      "outputs": [
        {
          "output_type": "stream",
          "name": "stdout",
          "text": [
            "              precision    recall  f1-score   support\n",
            "\n",
            "         0.0       0.31      0.32      0.31       934\n",
            "         1.0       0.31      0.31      0.31       934\n",
            "         2.0       0.34      0.33      0.33       934\n",
            "\n",
            "    accuracy                           0.32      2802\n",
            "   macro avg       0.32      0.32      0.32      2802\n",
            "weighted avg       0.32      0.32      0.32      2802\n",
            "\n",
            "time: 27.2 ms (started: 2023-03-08 17:09:09 +00:00)\n"
          ]
        }
      ]
    },
    {
      "cell_type": "markdown",
      "source": [
        "## SGDClassifier"
      ],
      "metadata": {
        "id": "oynaHStnQcpN"
      }
    },
    {
      "cell_type": "code",
      "source": [
        "result = cross_val_score(SGDClassifier(random_state=42), X_train_tfidf, y_train_tfidf, cv=5, scoring='accuracy')\n",
        "print(f'tfidf - Mean accuracy: {result.mean()}')"
      ],
      "metadata": {
        "colab": {
          "base_uri": "https://localhost:8080/"
        },
        "id": "nCORKHqLbWU-",
        "outputId": "46bf5966-b371-40e7-df36-8642dacafcc4"
      },
      "execution_count": 45,
      "outputs": [
        {
          "output_type": "stream",
          "name": "stdout",
          "text": [
            "tfidf - Mean accuracy: 0.9479055258467024\n",
            "time: 7.68 s (started: 2023-03-08 17:09:19 +00:00)\n"
          ]
        }
      ]
    },
    {
      "cell_type": "code",
      "source": [
        "result = cross_val_score(SGDClassifier(random_state=42), X_train_cv, y_train_cv, cv=5, scoring='accuracy')\n",
        "print(f'cv - Mean accuracy: {result.mean()}')"
      ],
      "metadata": {
        "colab": {
          "base_uri": "https://localhost:8080/"
        },
        "id": "33HabgWhzTV-",
        "outputId": "222450da-089a-4299-da85-b5b6fa98512f"
      },
      "execution_count": 46,
      "outputs": [
        {
          "output_type": "stream",
          "name": "stdout",
          "text": [
            "cv - Mean accuracy: 0.8326324166030048\n",
            "time: 17.4 s (started: 2023-03-08 17:09:29 +00:00)\n"
          ]
        }
      ]
    },
    {
      "cell_type": "markdown",
      "source": [
        "## SupportVectorClassifier"
      ],
      "metadata": {
        "id": "_LkWzgogethY"
      }
    },
    {
      "cell_type": "code",
      "source": [
        "result = cross_val_score(SVC(random_state=42), X_train_tfidf, y_train_tfidf, cv=5, scoring='accuracy')\n",
        "print(f'tfidf - Mean accuracy: {result.mean()}')"
      ],
      "metadata": {
        "colab": {
          "base_uri": "https://localhost:8080/"
        },
        "id": "NhEtO85pfAIQ",
        "outputId": "a479437b-7bd4-4b2b-8291-fb6b9f077a9c"
      },
      "execution_count": 50,
      "outputs": [
        {
          "output_type": "stream",
          "name": "stdout",
          "text": [
            "tfidf - Mean accuracy: 0.9404227145403616\n",
            "time: 2min 9s (started: 2023-03-08 17:11:46 +00:00)\n"
          ]
        }
      ]
    },
    {
      "cell_type": "code",
      "source": [
        "result = cross_val_score(SVC(random_state=42), X_train_cv, y_train_cv, cv=5, scoring='accuracy')\n",
        "print(f'cv - Mean accuracy: {result.mean()}')"
      ],
      "metadata": {
        "id": "4MK4wACHfAIS",
        "colab": {
          "base_uri": "https://localhost:8080/"
        },
        "outputId": "510bb535-5b28-4e58-a679-f6311230296b"
      },
      "execution_count": 51,
      "outputs": [
        {
          "output_type": "stream",
          "name": "stdout",
          "text": [
            "cv - Mean accuracy: 0.8476604278074866\n",
            "time: 1min 42s (started: 2023-03-08 17:13:59 +00:00)\n"
          ]
        }
      ]
    },
    {
      "cell_type": "markdown",
      "source": [
        "## RandomForestClassifier"
      ],
      "metadata": {
        "id": "_rg4LCpoRdui"
      }
    },
    {
      "cell_type": "code",
      "source": [
        "result = cross_val_score(RandomForestClassifier(random_state=42), X_train_tfidf, y_train_tfidf, cv=5, scoring='accuracy')\n",
        "print(f'tfidf - Mean accuracy: {result.mean()}')"
      ],
      "metadata": {
        "colab": {
          "base_uri": "https://localhost:8080/"
        },
        "id": "qm1FXSB2cT0A",
        "outputId": "4c9867f3-207c-4306-fdbe-8b7d2466ee4d"
      },
      "execution_count": null,
      "outputs": [
        {
          "output_type": "stream",
          "name": "stdout",
          "text": [
            "tfidf - Mean accuracy: 0.9204462694168578\n",
            "time: 14.6 s (started: 2023-03-07 23:48:13 +00:00)\n"
          ]
        }
      ]
    },
    {
      "cell_type": "code",
      "source": [
        "result = cross_val_score(RandomForestClassifier(random_state=42), X_train_cv, y_train_cv, cv=5, scoring='accuracy')\n",
        "print(f'cv - Mean accuracy: {result.mean()}')"
      ],
      "metadata": {
        "colab": {
          "base_uri": "https://localhost:8080/"
        },
        "id": "G6MDMphhRt7z",
        "outputId": "0e9ea0c4-feb6-4881-ad97-be1baa68d1c2"
      },
      "execution_count": null,
      "outputs": [
        {
          "output_type": "stream",
          "name": "stdout",
          "text": [
            "cv - Mean accuracy: 0.8376324166030049\n",
            "time: 19.5 s (started: 2023-03-07 23:48:28 +00:00)\n"
          ]
        }
      ]
    },
    {
      "cell_type": "markdown",
      "source": [
        "##ExtraTreesClassifier"
      ],
      "metadata": {
        "id": "gOWYAthe3OcE"
      }
    },
    {
      "cell_type": "code",
      "source": [
        "result = cross_val_score(ExtraTreesClassifier(random_state=42), X_train_tfidf, y_train_tfidf, cv=5, scoring='accuracy')\n",
        "print(f'tfidf - Mean accuracy: {result.mean()}')"
      ],
      "metadata": {
        "colab": {
          "base_uri": "https://localhost:8080/"
        },
        "id": "tkBXc5f-37hi",
        "outputId": "8f48771d-6111-490a-fa4e-936f92d38119"
      },
      "execution_count": null,
      "outputs": [
        {
          "output_type": "stream",
          "name": "stdout",
          "text": [
            "tfidf - Mean accuracy: 0.9339985994397759\n",
            "time: 22.7 s (started: 2023-03-07 23:50:49 +00:00)\n"
          ]
        }
      ]
    },
    {
      "cell_type": "code",
      "source": [
        "result = cross_val_score(ExtraTreesClassifier(random_state=42), X_train_cv, y_train_cv, cv=5, scoring='accuracy')\n",
        "print(f'cv - Mean accuracy: {result.mean()}')"
      ],
      "metadata": {
        "colab": {
          "base_uri": "https://localhost:8080/"
        },
        "id": "uj5-yDvx38Hz",
        "outputId": "9f854bd0-b705-4c5b-c7b5-ae5c62c65a89"
      },
      "execution_count": null,
      "outputs": [
        {
          "output_type": "stream",
          "name": "stdout",
          "text": [
            "cv - Mean accuracy: 0.8479806468041764\n",
            "time: 24.8 s (started: 2023-03-07 23:51:12 +00:00)\n"
          ]
        }
      ]
    },
    {
      "cell_type": "markdown",
      "source": [
        "## BERT"
      ],
      "metadata": {
        "id": "3KnCJvQQfTp5"
      }
    },
    {
      "cell_type": "markdown",
      "source": [
        "Tentei usar um modelo neural pronto disponível no site huggingface, mas primeiro, precisava traduzir os twitts para inglês, que é o idioma no qual ele foi treinado. \n",
        "\n",
        "Não deu certo! O resultado foi pouca coisa melhor que o DummyClassifier."
      ],
      "metadata": {
        "id": "AQCQeJJtu0-A"
      }
    },
    {
      "cell_type": "code",
      "source": [
        "# base url - https://huggingface.co/nlptown/bert-base-multilingual-uncased-sentiment\n",
        "# https://www.youtube.com/watch?v=szczpgOEdXs\n",
        "# https://www.youtube.com/watch?v=QpzMWQvxXWk\n",
        "tokenizer = AutoTokenizer.from_pretrained('cardiffnlp/twitter-roberta-base-sentiment')\n",
        "model = AutoModelForSequenceClassification.from_pretrained('cardiffnlp/twitter-roberta-base-sentiment')"
      ],
      "metadata": {
        "colab": {
          "base_uri": "https://localhost:8080/",
          "height": 194,
          "referenced_widgets": [
            "b6886ad06f1d42a98867af933c327d72",
            "1765f9068a5842f3837a9810f2195544",
            "d57a78eef4ab48a1bf59acd29f7dc25c",
            "0695f4754a87480f8146aac50ade4bd6",
            "395262bb059642c591481990883c43b9",
            "ae7ce63555194911910f506174840954",
            "806e9b7a1c524badacb032bf22743b47",
            "2c13119e9fbc46fba36f8e0f4c304f24",
            "94f6e771de68422f828723d56de64408",
            "f32c946c8b33459cab834b35554ba277",
            "e7628bcb5d254846b83ab4911dba51a6",
            "28befb8ad8af4f9eb6456cb74e1e590a",
            "08545b58a6194f278b1a256ded5ec864",
            "b78afea4ce2d4fdc8ab743ac9d23f7d3",
            "f6b928db831e44c6ac9eb5d5f244a896",
            "f779cfa9d9fd4770a578028ec888238f",
            "a198f021f31d41d28b5b18bf0e2f0510",
            "946db3381c7f497394f5e33e097c0866",
            "d71cef7d03f049d6931ab8234e17a0ed",
            "b597038df9c3409ca6b5f4f1f5981653",
            "a096878c953044358c8fac1e25adcda8",
            "8c37e64269b849888b9be60332062f57",
            "401e879a81094253adb0625af0c8bb2f",
            "826c8922fbac4999bfce5f0fa0dd175a",
            "e9b86eecd5544e28adb42a56ce32fae1",
            "849ba361d1154dd98c7e2bea4e819cac",
            "df57c905b5aa4848b42f75981fc1bd8b",
            "027f0fb37cdb4363a769c46f729a7660",
            "1d9327282837404a98110926dfce2af6",
            "002f8b66269146b58c93a7908f3497c2",
            "dafab1520ed646698f197a9600eb0397",
            "9625ce0f26b143e2afd57b98da513f8a",
            "203a1aee5b364849aa25f0ff681744fc",
            "afbc6d8f9ae94803bebe3b16aff0bc37",
            "47a6e8b16c834d1e8e782c5b4ffdcfad",
            "1a34bee734864eac811692d6cca1abb8",
            "2ffec2500cb748ee811c7f63b138d06d",
            "119bf309a2d8464aa21e1adac4688343",
            "718ace2f7cd2499e803dfa8a76f07280",
            "346d4be0b66e4edaa7e3661e74ff9128",
            "60960ff2bcb04c43afde8f655bc8a515",
            "79b0e3060dc248329ef5167612ce103d",
            "93fa3d3bf21f4fd8b9812a28e46a3358",
            "5f09e321693c4668a6fc5ba0d5b7ce49",
            "13a7656135b44395bdad92c4a539f2fa",
            "5025b05b8206451bbdd6c186283bfd16",
            "aad64ea8cf9a4b85996504dafb4cb9ce",
            "bc9d8a538051413e8b650441f9ac3453",
            "1d39c52452044d3a8f729bddc64c23da",
            "707df8dcc173417e8140b7180198a322",
            "66b40358cf5f4b9ea7b9daaad947c8c6",
            "ae22705ce6ab407ea79bef23efc62569",
            "f0508b52a22941af9ca3addf4d7fc421",
            "836475b3a4a143f6a0cb5209d366f929",
            "3c503bff35d94c53aca450420df8f023"
          ]
        },
        "id": "xt8OisgIlOsj",
        "outputId": "63865a02-ecda-4652-bcc8-50e60c16bebf"
      },
      "execution_count": null,
      "outputs": [
        {
          "output_type": "display_data",
          "data": {
            "text/plain": [
              "Downloading (…)lve/main/config.json:   0%|          | 0.00/747 [00:00<?, ?B/s]"
            ],
            "application/vnd.jupyter.widget-view+json": {
              "version_major": 2,
              "version_minor": 0,
              "model_id": "b6886ad06f1d42a98867af933c327d72"
            }
          },
          "metadata": {}
        },
        {
          "output_type": "display_data",
          "data": {
            "text/plain": [
              "Downloading (…)olve/main/vocab.json:   0%|          | 0.00/899k [00:00<?, ?B/s]"
            ],
            "application/vnd.jupyter.widget-view+json": {
              "version_major": 2,
              "version_minor": 0,
              "model_id": "28befb8ad8af4f9eb6456cb74e1e590a"
            }
          },
          "metadata": {}
        },
        {
          "output_type": "display_data",
          "data": {
            "text/plain": [
              "Downloading (…)olve/main/merges.txt:   0%|          | 0.00/456k [00:00<?, ?B/s]"
            ],
            "application/vnd.jupyter.widget-view+json": {
              "version_major": 2,
              "version_minor": 0,
              "model_id": "401e879a81094253adb0625af0c8bb2f"
            }
          },
          "metadata": {}
        },
        {
          "output_type": "display_data",
          "data": {
            "text/plain": [
              "Downloading (…)cial_tokens_map.json:   0%|          | 0.00/150 [00:00<?, ?B/s]"
            ],
            "application/vnd.jupyter.widget-view+json": {
              "version_major": 2,
              "version_minor": 0,
              "model_id": "afbc6d8f9ae94803bebe3b16aff0bc37"
            }
          },
          "metadata": {}
        },
        {
          "output_type": "display_data",
          "data": {
            "text/plain": [
              "Downloading (…)\"pytorch_model.bin\";:   0%|          | 0.00/499M [00:00<?, ?B/s]"
            ],
            "application/vnd.jupyter.widget-view+json": {
              "version_major": 2,
              "version_minor": 0,
              "model_id": "13a7656135b44395bdad92c4a539f2fa"
            }
          },
          "metadata": {}
        },
        {
          "output_type": "stream",
          "name": "stdout",
          "text": [
            "time: 19.1 s (started: 2023-03-08 00:01:45 +00:00)\n"
          ]
        }
      ]
    },
    {
      "cell_type": "code",
      "source": [
        "translator = Translator()\n",
        "twitts_eng = list()\n",
        "\n",
        "for twitt in dataset_clean['Text'].to_numpy():\n",
        "  twitts_eng.append(translator.translate(twitt).text)"
      ],
      "metadata": {
        "colab": {
          "base_uri": "https://localhost:8080/"
        },
        "id": "Jk3g3sb4fCWL",
        "outputId": "f986e343-2772-4cb9-b5c7-bfa050a65950"
      },
      "execution_count": null,
      "outputs": [
        {
          "output_type": "stream",
          "name": "stdout",
          "text": [
            "time: 5min 7s (started: 2023-03-08 00:03:01 +00:00)\n"
          ]
        }
      ]
    },
    {
      "cell_type": "code",
      "source": [
        "y_pred_ = list()\n",
        "for twitt in twitts_eng:\n",
        "  tokens = tokenizer.encode(twitt, return_tensors='pt')\n",
        "  result = model(tokens)\n",
        "  y_pred_.append(np.argmax(result.logits.detach().numpy()))"
      ],
      "metadata": {
        "colab": {
          "base_uri": "https://localhost:8080/"
        },
        "id": "IpuVrj55tDB5",
        "outputId": "41a9995e-ff0e-4a71-fce1-84a431bc2f37"
      },
      "execution_count": null,
      "outputs": [
        {
          "output_type": "stream",
          "name": "stdout",
          "text": [
            "time: 6min 45s (started: 2023-03-08 00:08:45 +00:00)\n"
          ]
        }
      ]
    },
    {
      "cell_type": "code",
      "source": [
        "print(classification_report(dataset_clean['Classificacao'], y_pred_))"
      ],
      "metadata": {
        "colab": {
          "base_uri": "https://localhost:8080/"
        },
        "id": "aTmVJhxosfbW",
        "outputId": "dfd05abd-5fb7-496b-a330-d32e9d818c40"
      },
      "execution_count": null,
      "outputs": [
        {
          "output_type": "stream",
          "name": "stdout",
          "text": [
            "              precision    recall  f1-score   support\n",
            "\n",
            "         0.0       0.24      0.46      0.31       368\n",
            "         1.0       0.48      0.64      0.55      1168\n",
            "         2.0       0.22      0.04      0.07       884\n",
            "\n",
            "    accuracy                           0.39      2420\n",
            "   macro avg       0.31      0.38      0.31      2420\n",
            "weighted avg       0.35      0.39      0.34      2420\n",
            "\n",
            "time: 34.9 ms (started: 2023-03-08 00:21:50 +00:00)\n"
          ]
        }
      ]
    },
    {
      "cell_type": "markdown",
      "source": [
        "## Neural Network"
      ],
      "metadata": {
        "id": "hqYyaLZHyVUZ"
      }
    },
    {
      "cell_type": "code",
      "source": [
        "nn = Sequential()\n",
        "nn.add(InputLayer(input_shape=(X_train_tfidf.shape[1],)))\n",
        "nn.add(Dense(units=9, kernel_initializer=\"lecun_normal\", activation='sigmoid'))\n",
        "nn.add(Dropout(rate=0.6))\n",
        "nn.add(Dense(units=9, kernel_initializer=\"lecun_normal\", activation='sigmoid'))\n",
        "#nn.add(Dropout(rate=0.2))\n",
        "nn.add(Dense(units=3, activation='softmax'))"
      ],
      "metadata": {
        "colab": {
          "base_uri": "https://localhost:8080/"
        },
        "id": "dd8XDXKCyYmu",
        "outputId": "47b41288-b37d-4244-aa99-20ae2c24e246"
      },
      "execution_count": 38,
      "outputs": [
        {
          "output_type": "stream",
          "name": "stdout",
          "text": [
            "time: 267 ms (started: 2023-03-08 16:22:51 +00:00)\n"
          ]
        }
      ]
    },
    {
      "cell_type": "code",
      "source": [
        "early_stopping_cb = EarlyStopping(patience=10, restore_best_weights=True)\n",
        "\n",
        "# performance scheduling\n",
        "lr_performance = ReduceLROnPlateau(factor=0.3, patience=10)"
      ],
      "metadata": {
        "colab": {
          "base_uri": "https://localhost:8080/"
        },
        "id": "sc4lwSliy5SR",
        "outputId": "7dfbd04e-55cf-4456-b85c-c004756c000f"
      },
      "execution_count": 39,
      "outputs": [
        {
          "output_type": "stream",
          "name": "stdout",
          "text": [
            "time: 1.11 ms (started: 2023-03-08 16:22:55 +00:00)\n"
          ]
        }
      ]
    },
    {
      "cell_type": "code",
      "source": [
        "nn.compile(loss='sparse_categorical_crossentropy', optimizer=Nadam(learning_rate=0.001), metrics=[\"accuracy\"])\n",
        "\n",
        "history = nn.fit(X_train_tfidf, y_train_tfidf, \n",
        "                 validation_split=0.2, epochs=50, \n",
        "                 callbacks=[early_stopping_cb, lr_performance], verbose=False)\n",
        "\n",
        "y_pred = nn.predict(X_train_tfidf)\n",
        "print(classification_report(y_train_tfidf, y_pred.argmax(axis=1)))"
      ],
      "metadata": {
        "id": "oD9MknVpy8Be",
        "colab": {
          "base_uri": "https://localhost:8080/"
        },
        "outputId": "e9589721-808f-4674-abaa-f8ca04009902"
      },
      "execution_count": 40,
      "outputs": [
        {
          "output_type": "stream",
          "name": "stdout",
          "text": [
            "88/88 [==============================] - 1s 9ms/step\n",
            "              precision    recall  f1-score   support\n",
            "\n",
            "         0.0       0.97      0.98      0.98       934\n",
            "         1.0       0.94      0.97      0.95       934\n",
            "         2.0       0.99      0.96      0.97       934\n",
            "\n",
            "    accuracy                           0.97      2802\n",
            "   macro avg       0.97      0.97      0.97      2802\n",
            "weighted avg       0.97      0.97      0.97      2802\n",
            "\n",
            "time: 46.5 s (started: 2023-03-08 16:22:57 +00:00)\n"
          ]
        }
      ]
    },
    {
      "cell_type": "code",
      "source": [
        "y_pred = nn.predict(X_test_tfidf)\n",
        "print(classification_report(y_test, y_pred.argmax(axis=1)))"
      ],
      "metadata": {
        "colab": {
          "base_uri": "https://localhost:8080/"
        },
        "id": "bk0pUk8d_AGz",
        "outputId": "db3e29f9-bf97-4eba-c46f-56547c65ee02"
      },
      "execution_count": 23,
      "outputs": [
        {
          "output_type": "stream",
          "name": "stdout",
          "text": [
            "16/16 [==============================] - 0s 2ms/step\n",
            "              precision    recall  f1-score   support\n",
            "\n",
            "         0.0       0.82      0.81      0.82        74\n",
            "         1.0       0.86      0.95      0.90       234\n",
            "         2.0       0.99      0.85      0.92       176\n",
            "\n",
            "    accuracy                           0.89       484\n",
            "   macro avg       0.89      0.87      0.88       484\n",
            "weighted avg       0.90      0.89      0.89       484\n",
            "\n",
            "time: 145 ms (started: 2023-03-08 13:51:11 +00:00)\n"
          ]
        }
      ]
    },
    {
      "cell_type": "markdown",
      "source": [
        "#Best models hyperparameter optimization"
      ],
      "metadata": {
        "id": "s-RFClIxngPC"
      }
    },
    {
      "cell_type": "markdown",
      "source": [
        "Os modelos mais promissores são:\n",
        "\n",
        "1.   Neural Network: 0.99\n",
        "2.   SDGClassifier: 0.94\n",
        "3.   ExtraTreesClassifier: 0.93\n",
        "\n",
        "Para o ajuste de hiper-parâmetros vou usar a classe BayesSearchCV pois RandomizedSearchCV eu já use em outro kernel.\n",
        "\n",
        "Além disso, os melhores desempenhos foram usando o conjunto de dados codificado usando a técnica 'tf-idf'."
      ],
      "metadata": {
        "id": "GIxyTWmWn0kX"
      }
    },
    {
      "cell_type": "markdown",
      "source": [
        "##SDGClassifier"
      ],
      "metadata": {
        "id": "me7JxtuAnzM-"
      }
    },
    {
      "cell_type": "code",
      "source": [
        "params = {'loss': ['log'],\n",
        "          'penalty': ['l2', 'elasticnet'],\n",
        "          'alpha': np.arange(0.0001, 0.1, 0.001),\n",
        "          'learning_rate': ['constant', 'optimal', 'invscaling'],\n",
        "          'eta0': np.arange(0.0001, 0.1, 0.001),\n",
        "          'early_stopping': [False, True],}\n",
        "\n",
        "bs_cv = BayesSearchCV(SGDClassifier(), params, scoring='accuracy', cv=5, n_iter=50, verbose=False)\n",
        "bs_cv.fit(X_train_tfidf, y_train_tfidf)\n",
        "sgd_best = bs_cv.best_estimator_\n",
        "sgd_best"
      ],
      "metadata": {
        "colab": {
          "base_uri": "https://localhost:8080/",
          "height": 109
        },
        "id": "zZF03pwho4or",
        "outputId": "277df43d-de55-407f-fc18-aac91e2d841b"
      },
      "execution_count": 30,
      "outputs": [
        {
          "output_type": "execute_result",
          "data": {
            "text/plain": [
              "SGDClassifier(alpha=0.0011, eta0=0.0471, learning_rate='constant', loss='log',\n",
              "              penalty='elasticnet')"
            ],
            "text/html": [
              "<style>#sk-container-id-2 {color: black;background-color: white;}#sk-container-id-2 pre{padding: 0;}#sk-container-id-2 div.sk-toggleable {background-color: white;}#sk-container-id-2 label.sk-toggleable__label {cursor: pointer;display: block;width: 100%;margin-bottom: 0;padding: 0.3em;box-sizing: border-box;text-align: center;}#sk-container-id-2 label.sk-toggleable__label-arrow:before {content: \"▸\";float: left;margin-right: 0.25em;color: #696969;}#sk-container-id-2 label.sk-toggleable__label-arrow:hover:before {color: black;}#sk-container-id-2 div.sk-estimator:hover label.sk-toggleable__label-arrow:before {color: black;}#sk-container-id-2 div.sk-toggleable__content {max-height: 0;max-width: 0;overflow: hidden;text-align: left;background-color: #f0f8ff;}#sk-container-id-2 div.sk-toggleable__content pre {margin: 0.2em;color: black;border-radius: 0.25em;background-color: #f0f8ff;}#sk-container-id-2 input.sk-toggleable__control:checked~div.sk-toggleable__content {max-height: 200px;max-width: 100%;overflow: auto;}#sk-container-id-2 input.sk-toggleable__control:checked~label.sk-toggleable__label-arrow:before {content: \"▾\";}#sk-container-id-2 div.sk-estimator input.sk-toggleable__control:checked~label.sk-toggleable__label {background-color: #d4ebff;}#sk-container-id-2 div.sk-label input.sk-toggleable__control:checked~label.sk-toggleable__label {background-color: #d4ebff;}#sk-container-id-2 input.sk-hidden--visually {border: 0;clip: rect(1px 1px 1px 1px);clip: rect(1px, 1px, 1px, 1px);height: 1px;margin: -1px;overflow: hidden;padding: 0;position: absolute;width: 1px;}#sk-container-id-2 div.sk-estimator {font-family: monospace;background-color: #f0f8ff;border: 1px dotted black;border-radius: 0.25em;box-sizing: border-box;margin-bottom: 0.5em;}#sk-container-id-2 div.sk-estimator:hover {background-color: #d4ebff;}#sk-container-id-2 div.sk-parallel-item::after {content: \"\";width: 100%;border-bottom: 1px solid gray;flex-grow: 1;}#sk-container-id-2 div.sk-label:hover label.sk-toggleable__label {background-color: #d4ebff;}#sk-container-id-2 div.sk-serial::before {content: \"\";position: absolute;border-left: 1px solid gray;box-sizing: border-box;top: 0;bottom: 0;left: 50%;z-index: 0;}#sk-container-id-2 div.sk-serial {display: flex;flex-direction: column;align-items: center;background-color: white;padding-right: 0.2em;padding-left: 0.2em;position: relative;}#sk-container-id-2 div.sk-item {position: relative;z-index: 1;}#sk-container-id-2 div.sk-parallel {display: flex;align-items: stretch;justify-content: center;background-color: white;position: relative;}#sk-container-id-2 div.sk-item::before, #sk-container-id-2 div.sk-parallel-item::before {content: \"\";position: absolute;border-left: 1px solid gray;box-sizing: border-box;top: 0;bottom: 0;left: 50%;z-index: -1;}#sk-container-id-2 div.sk-parallel-item {display: flex;flex-direction: column;z-index: 1;position: relative;background-color: white;}#sk-container-id-2 div.sk-parallel-item:first-child::after {align-self: flex-end;width: 50%;}#sk-container-id-2 div.sk-parallel-item:last-child::after {align-self: flex-start;width: 50%;}#sk-container-id-2 div.sk-parallel-item:only-child::after {width: 0;}#sk-container-id-2 div.sk-dashed-wrapped {border: 1px dashed gray;margin: 0 0.4em 0.5em 0.4em;box-sizing: border-box;padding-bottom: 0.4em;background-color: white;}#sk-container-id-2 div.sk-label label {font-family: monospace;font-weight: bold;display: inline-block;line-height: 1.2em;}#sk-container-id-2 div.sk-label-container {text-align: center;}#sk-container-id-2 div.sk-container {/* jupyter's `normalize.less` sets `[hidden] { display: none; }` but bootstrap.min.css set `[hidden] { display: none !important; }` so we also need the `!important` here to be able to override the default hidden behavior on the sphinx rendered scikit-learn.org. See: https://github.com/scikit-learn/scikit-learn/issues/21755 */display: inline-block !important;position: relative;}#sk-container-id-2 div.sk-text-repr-fallback {display: none;}</style><div id=\"sk-container-id-2\" class=\"sk-top-container\"><div class=\"sk-text-repr-fallback\"><pre>SGDClassifier(alpha=0.0011, eta0=0.0471, learning_rate=&#x27;constant&#x27;, loss=&#x27;log&#x27;,\n",
              "              penalty=&#x27;elasticnet&#x27;)</pre><b>In a Jupyter environment, please rerun this cell to show the HTML representation or trust the notebook. <br />On GitHub, the HTML representation is unable to render, please try loading this page with nbviewer.org.</b></div><div class=\"sk-container\" hidden><div class=\"sk-item\"><div class=\"sk-estimator sk-toggleable\"><input class=\"sk-toggleable__control sk-hidden--visually\" id=\"sk-estimator-id-2\" type=\"checkbox\" checked><label for=\"sk-estimator-id-2\" class=\"sk-toggleable__label sk-toggleable__label-arrow\">SGDClassifier</label><div class=\"sk-toggleable__content\"><pre>SGDClassifier(alpha=0.0011, eta0=0.0471, learning_rate=&#x27;constant&#x27;, loss=&#x27;log&#x27;,\n",
              "              penalty=&#x27;elasticnet&#x27;)</pre></div></div></div></div></div>"
            ]
          },
          "metadata": {},
          "execution_count": 30
        },
        {
          "output_type": "stream",
          "name": "stdout",
          "text": [
            "time: 9min 51s (started: 2023-03-08 14:20:40 +00:00)\n"
          ]
        }
      ]
    },
    {
      "cell_type": "code",
      "source": [
        "history = sgd_best.fit(X_train_tfidf, y_train_tfidf)\n",
        "y_pred = sgd_best.predict(X_train_tfidf)\n",
        "print(classification_report(y_train_tfidf, y_pred))"
      ],
      "metadata": {
        "colab": {
          "base_uri": "https://localhost:8080/"
        },
        "outputId": "f5b34d0a-d3c7-4d05-b049-31d861e7e519",
        "id": "F2m_G7TWo4oz"
      },
      "execution_count": 31,
      "outputs": [
        {
          "output_type": "stream",
          "name": "stdout",
          "text": [
            "              precision    recall  f1-score   support\n",
            "\n",
            "         0.0       0.92      0.87      0.90       934\n",
            "         1.0       0.81      0.92      0.86       934\n",
            "         2.0       0.97      0.89      0.93       934\n",
            "\n",
            "    accuracy                           0.89      2802\n",
            "   macro avg       0.90      0.89      0.89      2802\n",
            "weighted avg       0.90      0.89      0.89      2802\n",
            "\n",
            "time: 8.82 s (started: 2023-03-08 14:35:28 +00:00)\n"
          ]
        }
      ]
    },
    {
      "cell_type": "code",
      "source": [
        "y_pred = sgd_best.predict(X_test_tfidf)\n",
        "print(classification_report(y_test, y_pred))"
      ],
      "metadata": {
        "colab": {
          "base_uri": "https://localhost:8080/"
        },
        "id": "PAlHBUywxG2S",
        "outputId": "f03647ad-fa15-4cbd-84bb-94dd56d7d23b"
      },
      "execution_count": 32,
      "outputs": [
        {
          "output_type": "stream",
          "name": "stdout",
          "text": [
            "              precision    recall  f1-score   support\n",
            "\n",
            "         0.0       0.75      0.89      0.81        74\n",
            "         1.0       0.88      0.89      0.88       234\n",
            "         2.0       0.96      0.86      0.91       176\n",
            "\n",
            "    accuracy                           0.88       484\n",
            "   macro avg       0.86      0.88      0.87       484\n",
            "weighted avg       0.89      0.88      0.88       484\n",
            "\n",
            "time: 65.2 ms (started: 2023-03-08 14:35:43 +00:00)\n"
          ]
        }
      ]
    },
    {
      "cell_type": "markdown",
      "source": [
        "##ExtraTreesClassifier"
      ],
      "metadata": {
        "id": "uFsTdpvpqUTI"
      }
    },
    {
      "cell_type": "code",
      "source": [
        "params = {'n_estimators': np.arange(100, 1100, 100),\n",
        "          'criterion': ['gini', 'entropy'],\n",
        "          'max_depth': np.arange(10, 110, 10),\n",
        "          'min_samples_split': np.arange(2, 10, 2),\n",
        "          'min_samples_leaf': np.arange(1, 8, 2),\n",
        "          'max_features': ['sqrt', 'log2'],\n",
        "          'max_leaf_nodes': np.arange(10, 60, 10),\n",
        "          'bootstrap': [True],\n",
        "          'oob_score': [False, True],\n",
        "          'max_samples': np.arange(0.0, 1.0, 0.1),}\n",
        "\n",
        "rs = BayesSearchCV(ExtraTreesClassifier(), params, scoring='accuracy', n_iter=30, cv=5, verbose=False)\n",
        "rs.fit(X_train_tfidf, y_train_tfidf)\n",
        "et_best = rs.best_estimator_\n",
        "\n",
        "et_best"
      ],
      "metadata": {
        "id": "9WEgIkTmqYSc",
        "colab": {
          "base_uri": "https://localhost:8080/"
        },
        "outputId": "73f52b84-e1ff-4667-fa65-0fe1c8395669"
      },
      "execution_count": 34,
      "outputs": [
        {
          "output_type": "stream",
          "name": "stdout",
          "text": [
            "Best parameters are: OrderedDict([('bootstrap', True), ('criterion', 'gini'), ('max_depth', 50), ('max_features', 'log2'), ('max_leaf_nodes', 30), ('max_samples', 0.30000000000000004), ('min_samples_leaf', 1), ('min_samples_split', 2), ('n_estimators', 900), ('oob_score', False)])\n",
            "\n",
            "time: 26min 1s (started: 2023-03-08 15:09:08 +00:00)\n"
          ]
        }
      ]
    },
    {
      "cell_type": "code",
      "source": [
        "et_best.fit(X_train_tfidf, y_train_tfidf)\n",
        "y_pred  = et_best.predict(X_train_tfidf)\n",
        "print(classification_report(y_train_tfidf, y_pred))"
      ],
      "metadata": {
        "colab": {
          "base_uri": "https://localhost:8080/"
        },
        "id": "ro-1Ixi0Gujw",
        "outputId": "3ac0730e-49ff-4474-f497-1dbeb396048e"
      },
      "execution_count": 53,
      "outputs": [
        {
          "output_type": "stream",
          "name": "stdout",
          "text": [
            "              precision    recall  f1-score   support\n",
            "\n",
            "         0.0       0.95      0.97      0.96       934\n",
            "         1.0       0.92      0.92      0.92       934\n",
            "         2.0       0.96      0.94      0.95       934\n",
            "\n",
            "    accuracy                           0.94      2802\n",
            "   macro avg       0.94      0.94      0.94      2802\n",
            "weighted avg       0.94      0.94      0.94      2802\n",
            "\n",
            "time: 5.42 s (started: 2023-03-08 16:29:40 +00:00)\n"
          ]
        }
      ]
    },
    {
      "cell_type": "code",
      "source": [
        "y_pred = et_best.predict(X_test_tfidf)\n",
        "print(classification_report(y_test, y_pred))"
      ],
      "metadata": {
        "colab": {
          "base_uri": "https://localhost:8080/"
        },
        "id": "MTIHaHlPGNcB",
        "outputId": "f60e124c-d6cc-403c-be01-1dcbb1510b69"
      },
      "execution_count": 54,
      "outputs": [
        {
          "output_type": "stream",
          "name": "stdout",
          "text": [
            "              precision    recall  f1-score   support\n",
            "\n",
            "         0.0       0.73      0.85      0.79        74\n",
            "         1.0       0.87      0.86      0.87       234\n",
            "         2.0       0.92      0.87      0.89       176\n",
            "\n",
            "    accuracy                           0.86       484\n",
            "   macro avg       0.84      0.86      0.85       484\n",
            "weighted avg       0.87      0.86      0.86       484\n",
            "\n",
            "time: 302 ms (started: 2023-03-08 16:29:53 +00:00)\n"
          ]
        }
      ]
    },
    {
      "cell_type": "markdown",
      "source": [
        "##Neural Network"
      ],
      "metadata": {
        "id": "Ov9ThU_Jp819"
      }
    },
    {
      "cell_type": "markdown",
      "source": [
        "O ajuste de hiper-parâmetros do modelo de redes neurais é extremamente lento, por isso preferi fazer manualmente algumas vezes. Se você ainda assim preferir fazer esse ajuste automático, pode usar o código abaixo."
      ],
      "metadata": {
        "id": "b7q8f_lXDCPC"
      }
    },
    {
      "cell_type": "code",
      "source": [
        "def create_model(nlayers, nneurons, activation, dropout, lr, l1, l2, input_shape, output_shape):\n",
        "  optimizer   = Nadam(lr=lr)\n",
        "  regularizer = l1_l2(l1=l1, l2=l2)                                                   \n",
        "  model = Sequential()\n",
        "  model.add(InputLayer(input_shape=input_shape))\n",
        "  for _ in range(nlayers):\n",
        "    model.add(Dense(nneurons, activation=activation, kernel_regularizer=regularizer))\n",
        "    if dropout != 0:\n",
        "      model.add(Dropout(dropout))\n",
        "  model.add(Dense(output_shape, activation='softmax'))\n",
        "  model.compile(loss='sparse_categorical_crossentropy', optimizer=optimizer, metrics=['accuracy'],)\n",
        "  return model\n",
        "\n",
        "\n",
        "\n",
        "model = KerasClassifier(build_fn=create_model, epochs=100, batch_size=20, verbose=True)"
      ],
      "metadata": {
        "colab": {
          "base_uri": "https://localhost:8080/"
        },
        "outputId": "44c18120-e072-4291-94e3-5817c20057b2",
        "id": "1AxMWdYhqAjK"
      },
      "execution_count": null,
      "outputs": [
        {
          "output_type": "stream",
          "name": "stdout",
          "text": [
            "time: 5.02 ms (started: 2023-03-08 01:21:19 +00:00)\n"
          ]
        }
      ]
    },
    {
      "cell_type": "code",
      "source": [
        "params = {'nlayers': [0, 1, 2],\n",
        "          'nneurons': [5, 10],\n",
        "          'activation': ['relu', 'sigmoid'],\n",
        "          'dropout': [0, 0.1, 0.2, 0.3, 0.4, 0.5],\n",
        "          'lr': [0.01, 0.001, 0.0001],\n",
        "          'l1': [0, 0.01, 0.003, 0.001, 0.0001],\n",
        "          'l2': [0, 0.01, 0.003, 0.001, 0.0001],\n",
        "          'input_shape': [X_train_tfidf.shape[1]],\n",
        "          'output_shape': [3]}\n",
        "\n",
        "bs = BayesSearchCV(model, params, cv=5, n_iter=50, scoring='accuracy', random_state=42, verbose=False)\n",
        "history = bs.fit(X_train_tfidf, y_train_tfidf, verbose=False)\n",
        "best_rseach = bs.best_estimator_"
      ],
      "metadata": {
        "id": "sYGZzKE0qAjP"
      },
      "execution_count": null,
      "outputs": []
    },
    {
      "cell_type": "markdown",
      "source": [
        "#Resultado"
      ],
      "metadata": {
        "id": "aPbArnRSkdST"
      }
    },
    {
      "cell_type": "markdown",
      "source": [
        "Todos eles tiveram um desempenho pior no conjunto de teste. Isso se deve ao fato de que este conjunto está desequilibrado, portanto o resultado é esperado. Por este motivo escolhi a o modelo de rede neural como oficial para esta tarefa. Ele atingiu uma acurácia de 0.97 no conjunto de treinamento e 0.89 no conjunto de teste."
      ],
      "metadata": {
        "id": "4rxyOk5Dlwo7"
      }
    }
  ]
}
