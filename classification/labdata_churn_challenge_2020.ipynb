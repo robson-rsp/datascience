{
  "cells": [
    {
      "cell_type": "markdown",
      "metadata": {
        "id": "view-in-github",
        "colab_type": "text"
      },
      "source": [
        "<a href=\"https://colab.research.google.com/github/robson-rsp/datascience/blob/main/classification/labdata_churn_challenge_2020.ipynb\" target=\"_parent\"><img src=\"https://colab.research.google.com/assets/colab-badge.svg\" alt=\"Open In Colab\"/></a>"
      ]
    },
    {
      "cell_type": "markdown",
      "source": [
        "# Contexto"
      ],
      "metadata": {
        "id": "ZGGvP0AjtFeI"
      }
    },
    {
      "cell_type": "markdown",
      "source": [
        "## Previsão de cancelamento de assinatura (churn)."
      ],
      "metadata": {
        "id": "MtpLjYJPtMQ2"
      }
    },
    {
      "cell_type": "markdown",
      "source": [
        "Você trabalha em uma empresa de telecomunicações e a sua tarefa, através de modelos de machine learning, é prever se um cliente irá cancelar a sua assinatura. Além disso, você deve encontrar as melhores variáveis explicativas e como elas explicam as previsões do modelo.\n",
        "\n",
        "Cada linha representa um cliente e cada coluna representa uma informação a respeito daquele cliente. Os dados incluem os seguintes grupos de variáveis:\n",
        "\n",
        "*    **Churn:** diz se um cliente cancelou ou não os serviços contratados\n",
        "*    **Serviços que cada cliente contratou:** phone, multiple lines, internet, online security, online backup, device protection, tech support, streaming TV e streaming movies\n",
        "*    **Informações a respeito da conta do cliente:** tenure, contract, payment method, paperless billing, monthly charges, and total charges\n",
        "*    **Informações demográficas:** gender, age range, partners e dependents\n",
        "\n",
        "Fonte: https://www.kaggle.com/competitions/labdata-churn-challenge-2020"
      ],
      "metadata": {
        "id": "50kn9c2steCV"
      }
    },
    {
      "cell_type": "markdown",
      "metadata": {
        "id": "_xZXqHc8YrOv"
      },
      "source": [
        "#Imports iniciais"
      ]
    },
    {
      "cell_type": "code",
      "execution_count": null,
      "metadata": {
        "id": "SCeIjEtuVyGK",
        "colab": {
          "base_uri": "https://localhost:8080/"
        },
        "outputId": "02a26087-b52f-4d6c-df65-84424d3be1c6"
      },
      "outputs": [
        {
          "output_type": "stream",
          "name": "stdout",
          "text": [
            "Looking in indexes: https://pypi.org/simple, https://us-python.pkg.dev/colab-wheels/public/simple/\n",
            "Requirement already satisfied: ipython-autotime in /usr/local/lib/python3.8/dist-packages (0.3.1)\n",
            "Requirement already satisfied: ipython in /usr/local/lib/python3.8/dist-packages (from ipython-autotime) (7.9.0)\n",
            "Requirement already satisfied: setuptools>=18.5 in /usr/local/lib/python3.8/dist-packages (from ipython->ipython-autotime) (57.4.0)\n",
            "Requirement already satisfied: pickleshare in /usr/local/lib/python3.8/dist-packages (from ipython->ipython-autotime) (0.7.5)\n",
            "Requirement already satisfied: pygments in /usr/local/lib/python3.8/dist-packages (from ipython->ipython-autotime) (2.6.1)\n",
            "Requirement already satisfied: traitlets>=4.2 in /usr/local/lib/python3.8/dist-packages (from ipython->ipython-autotime) (5.7.1)\n",
            "Requirement already satisfied: pexpect in /usr/local/lib/python3.8/dist-packages (from ipython->ipython-autotime) (4.8.0)\n",
            "Requirement already satisfied: prompt-toolkit<2.1.0,>=2.0.0 in /usr/local/lib/python3.8/dist-packages (from ipython->ipython-autotime) (2.0.10)\n",
            "Requirement already satisfied: jedi>=0.10 in /usr/local/lib/python3.8/dist-packages (from ipython->ipython-autotime) (0.18.2)\n",
            "Requirement already satisfied: decorator in /usr/local/lib/python3.8/dist-packages (from ipython->ipython-autotime) (4.4.2)\n",
            "Requirement already satisfied: backcall in /usr/local/lib/python3.8/dist-packages (from ipython->ipython-autotime) (0.2.0)\n",
            "Requirement already satisfied: parso<0.9.0,>=0.8.0 in /usr/local/lib/python3.8/dist-packages (from jedi>=0.10->ipython->ipython-autotime) (0.8.3)\n",
            "Requirement already satisfied: wcwidth in /usr/local/lib/python3.8/dist-packages (from prompt-toolkit<2.1.0,>=2.0.0->ipython->ipython-autotime) (0.2.6)\n",
            "Requirement already satisfied: six>=1.9.0 in /usr/local/lib/python3.8/dist-packages (from prompt-toolkit<2.1.0,>=2.0.0->ipython->ipython-autotime) (1.15.0)\n",
            "Requirement already satisfied: ptyprocess>=0.5 in /usr/local/lib/python3.8/dist-packages (from pexpect->ipython->ipython-autotime) (0.7.0)\n",
            "Looking in indexes: https://pypi.org/simple, https://us-python.pkg.dev/colab-wheels/public/simple/\n",
            "Requirement already satisfied: scikit-learn in /usr/local/lib/python3.8/dist-packages (1.2.1)\n",
            "Requirement already satisfied: numpy>=1.17.3 in /usr/local/lib/python3.8/dist-packages (from scikit-learn) (1.22.4)\n",
            "Requirement already satisfied: threadpoolctl>=2.0.0 in /usr/local/lib/python3.8/dist-packages (from scikit-learn) (3.1.0)\n",
            "Requirement already satisfied: scipy>=1.3.2 in /usr/local/lib/python3.8/dist-packages (from scikit-learn) (1.10.1)\n",
            "Requirement already satisfied: joblib>=1.1.1 in /usr/local/lib/python3.8/dist-packages (from scikit-learn) (1.2.0)\n"
          ]
        }
      ],
      "source": [
        "%pip install ipython-autotime\n",
        "%pip install -U scikit-learn"
      ]
    },
    {
      "cell_type": "code",
      "execution_count": null,
      "metadata": {
        "colab": {
          "base_uri": "https://localhost:8080/"
        },
        "id": "gXQkexREX6pc",
        "outputId": "6d012d82-61b4-444d-b70c-c5f93a0fd543"
      },
      "outputs": [
        {
          "output_type": "stream",
          "name": "stdout",
          "text": [
            "Drive already mounted at /content/drive; to attempt to forcibly remount, call drive.mount(\"/content/drive\", force_remount=True).\n"
          ]
        }
      ],
      "source": [
        "from google.colab import drive, files\n",
        "\n",
        "import numpy as np\n",
        "import pandas as pd\n",
        "import warnings\n",
        "\n",
        "drive.mount('/content/drive')\n",
        "warnings.filterwarnings(\"ignore\")"
      ]
    },
    {
      "cell_type": "code",
      "execution_count": null,
      "metadata": {
        "id": "N_Iq4-gwYl1G"
      },
      "outputs": [],
      "source": [
        "dataset = pd.read_csv('/content/drive/MyDrive/datasets/labdata-churn-challenge-2020/train.csv', encoding='utf-8')"
      ]
    },
    {
      "cell_type": "markdown",
      "metadata": {
        "id": "FnFNtqEKZM8n"
      },
      "source": [
        "#EDA"
      ]
    },
    {
      "cell_type": "code",
      "execution_count": null,
      "metadata": {
        "id": "4XfDVZglZVCb",
        "colab": {
          "base_uri": "https://localhost:8080/",
          "height": 369
        },
        "outputId": "a550f206-a759-4faa-ef3b-c45dff645616"
      },
      "outputs": [
        {
          "output_type": "execute_result",
          "data": {
            "text/plain": [
              "     id  gender  SeniorCitizen Partner Dependents  tenure PhoneService  \\\n",
              "0  4030  Female              0      No         No    56.0           No   \n",
              "1  6731    Male              0     Yes        Yes     NaN          Yes   \n",
              "2  6479  Female              0     Yes         No    60.0          Yes   \n",
              "3  6861  Female              0      No         No    37.0          Yes   \n",
              "4  3266    Male              0     Yes        Yes    29.0          Yes   \n",
              "\n",
              "      MultipleLines InternetService       OnlineSecurity  ...  \\\n",
              "0  No phone service             DSL                  Yes  ...   \n",
              "1                No              No  No internet service  ...   \n",
              "2               Yes     Fiber optic                   No  ...   \n",
              "3               Yes     Fiber optic                   No  ...   \n",
              "4                No     Fiber optic                   No  ...   \n",
              "\n",
              "      DeviceProtection          TechSupport          StreamingTV  \\\n",
              "0                  Yes                  Yes                   No   \n",
              "1  No internet service  No internet service  No internet service   \n",
              "2                  Yes                  Yes                  Yes   \n",
              "3                  Yes                   No                  Yes   \n",
              "4                   No                   No                   No   \n",
              "\n",
              "       StreamingMovies        Contract PaperlessBilling  \\\n",
              "0                   No        Two year               No   \n",
              "1  No internet service        One year               No   \n",
              "2                  Yes        Two year              Yes   \n",
              "3                  Yes  Month-to-month              Yes   \n",
              "4                   No  Month-to-month              Yes   \n",
              "\n",
              "               PaymentMethod MonthlyCharges  TotalCharges Churn  \n",
              "0                        NaN          45.05        2560.1     0  \n",
              "1               Mailed check          19.65        332.65     0  \n",
              "2    Credit card (automatic)         110.80        6640.7     0  \n",
              "3  Bank transfer (automatic)         101.90       3545.35     1  \n",
              "4           Electronic check          70.75        1974.8     1  \n",
              "\n",
              "[5 rows x 21 columns]"
            ],
            "text/html": [
              "\n",
              "  <div id=\"df-b3caf565-5559-4eac-8db4-59451fd9622d\">\n",
              "    <div class=\"colab-df-container\">\n",
              "      <div>\n",
              "<style scoped>\n",
              "    .dataframe tbody tr th:only-of-type {\n",
              "        vertical-align: middle;\n",
              "    }\n",
              "\n",
              "    .dataframe tbody tr th {\n",
              "        vertical-align: top;\n",
              "    }\n",
              "\n",
              "    .dataframe thead th {\n",
              "        text-align: right;\n",
              "    }\n",
              "</style>\n",
              "<table border=\"1\" class=\"dataframe\">\n",
              "  <thead>\n",
              "    <tr style=\"text-align: right;\">\n",
              "      <th></th>\n",
              "      <th>id</th>\n",
              "      <th>gender</th>\n",
              "      <th>SeniorCitizen</th>\n",
              "      <th>Partner</th>\n",
              "      <th>Dependents</th>\n",
              "      <th>tenure</th>\n",
              "      <th>PhoneService</th>\n",
              "      <th>MultipleLines</th>\n",
              "      <th>InternetService</th>\n",
              "      <th>OnlineSecurity</th>\n",
              "      <th>...</th>\n",
              "      <th>DeviceProtection</th>\n",
              "      <th>TechSupport</th>\n",
              "      <th>StreamingTV</th>\n",
              "      <th>StreamingMovies</th>\n",
              "      <th>Contract</th>\n",
              "      <th>PaperlessBilling</th>\n",
              "      <th>PaymentMethod</th>\n",
              "      <th>MonthlyCharges</th>\n",
              "      <th>TotalCharges</th>\n",
              "      <th>Churn</th>\n",
              "    </tr>\n",
              "  </thead>\n",
              "  <tbody>\n",
              "    <tr>\n",
              "      <th>0</th>\n",
              "      <td>4030</td>\n",
              "      <td>Female</td>\n",
              "      <td>0</td>\n",
              "      <td>No</td>\n",
              "      <td>No</td>\n",
              "      <td>56.0</td>\n",
              "      <td>No</td>\n",
              "      <td>No phone service</td>\n",
              "      <td>DSL</td>\n",
              "      <td>Yes</td>\n",
              "      <td>...</td>\n",
              "      <td>Yes</td>\n",
              "      <td>Yes</td>\n",
              "      <td>No</td>\n",
              "      <td>No</td>\n",
              "      <td>Two year</td>\n",
              "      <td>No</td>\n",
              "      <td>NaN</td>\n",
              "      <td>45.05</td>\n",
              "      <td>2560.1</td>\n",
              "      <td>0</td>\n",
              "    </tr>\n",
              "    <tr>\n",
              "      <th>1</th>\n",
              "      <td>6731</td>\n",
              "      <td>Male</td>\n",
              "      <td>0</td>\n",
              "      <td>Yes</td>\n",
              "      <td>Yes</td>\n",
              "      <td>NaN</td>\n",
              "      <td>Yes</td>\n",
              "      <td>No</td>\n",
              "      <td>No</td>\n",
              "      <td>No internet service</td>\n",
              "      <td>...</td>\n",
              "      <td>No internet service</td>\n",
              "      <td>No internet service</td>\n",
              "      <td>No internet service</td>\n",
              "      <td>No internet service</td>\n",
              "      <td>One year</td>\n",
              "      <td>No</td>\n",
              "      <td>Mailed check</td>\n",
              "      <td>19.65</td>\n",
              "      <td>332.65</td>\n",
              "      <td>0</td>\n",
              "    </tr>\n",
              "    <tr>\n",
              "      <th>2</th>\n",
              "      <td>6479</td>\n",
              "      <td>Female</td>\n",
              "      <td>0</td>\n",
              "      <td>Yes</td>\n",
              "      <td>No</td>\n",
              "      <td>60.0</td>\n",
              "      <td>Yes</td>\n",
              "      <td>Yes</td>\n",
              "      <td>Fiber optic</td>\n",
              "      <td>No</td>\n",
              "      <td>...</td>\n",
              "      <td>Yes</td>\n",
              "      <td>Yes</td>\n",
              "      <td>Yes</td>\n",
              "      <td>Yes</td>\n",
              "      <td>Two year</td>\n",
              "      <td>Yes</td>\n",
              "      <td>Credit card (automatic)</td>\n",
              "      <td>110.80</td>\n",
              "      <td>6640.7</td>\n",
              "      <td>0</td>\n",
              "    </tr>\n",
              "    <tr>\n",
              "      <th>3</th>\n",
              "      <td>6861</td>\n",
              "      <td>Female</td>\n",
              "      <td>0</td>\n",
              "      <td>No</td>\n",
              "      <td>No</td>\n",
              "      <td>37.0</td>\n",
              "      <td>Yes</td>\n",
              "      <td>Yes</td>\n",
              "      <td>Fiber optic</td>\n",
              "      <td>No</td>\n",
              "      <td>...</td>\n",
              "      <td>Yes</td>\n",
              "      <td>No</td>\n",
              "      <td>Yes</td>\n",
              "      <td>Yes</td>\n",
              "      <td>Month-to-month</td>\n",
              "      <td>Yes</td>\n",
              "      <td>Bank transfer (automatic)</td>\n",
              "      <td>101.90</td>\n",
              "      <td>3545.35</td>\n",
              "      <td>1</td>\n",
              "    </tr>\n",
              "    <tr>\n",
              "      <th>4</th>\n",
              "      <td>3266</td>\n",
              "      <td>Male</td>\n",
              "      <td>0</td>\n",
              "      <td>Yes</td>\n",
              "      <td>Yes</td>\n",
              "      <td>29.0</td>\n",
              "      <td>Yes</td>\n",
              "      <td>No</td>\n",
              "      <td>Fiber optic</td>\n",
              "      <td>No</td>\n",
              "      <td>...</td>\n",
              "      <td>No</td>\n",
              "      <td>No</td>\n",
              "      <td>No</td>\n",
              "      <td>No</td>\n",
              "      <td>Month-to-month</td>\n",
              "      <td>Yes</td>\n",
              "      <td>Electronic check</td>\n",
              "      <td>70.75</td>\n",
              "      <td>1974.8</td>\n",
              "      <td>1</td>\n",
              "    </tr>\n",
              "  </tbody>\n",
              "</table>\n",
              "<p>5 rows × 21 columns</p>\n",
              "</div>\n",
              "      <button class=\"colab-df-convert\" onclick=\"convertToInteractive('df-b3caf565-5559-4eac-8db4-59451fd9622d')\"\n",
              "              title=\"Convert this dataframe to an interactive table.\"\n",
              "              style=\"display:none;\">\n",
              "        \n",
              "  <svg xmlns=\"http://www.w3.org/2000/svg\" height=\"24px\"viewBox=\"0 0 24 24\"\n",
              "       width=\"24px\">\n",
              "    <path d=\"M0 0h24v24H0V0z\" fill=\"none\"/>\n",
              "    <path d=\"M18.56 5.44l.94 2.06.94-2.06 2.06-.94-2.06-.94-.94-2.06-.94 2.06-2.06.94zm-11 1L8.5 8.5l.94-2.06 2.06-.94-2.06-.94L8.5 2.5l-.94 2.06-2.06.94zm10 10l.94 2.06.94-2.06 2.06-.94-2.06-.94-.94-2.06-.94 2.06-2.06.94z\"/><path d=\"M17.41 7.96l-1.37-1.37c-.4-.4-.92-.59-1.43-.59-.52 0-1.04.2-1.43.59L10.3 9.45l-7.72 7.72c-.78.78-.78 2.05 0 2.83L4 21.41c.39.39.9.59 1.41.59.51 0 1.02-.2 1.41-.59l7.78-7.78 2.81-2.81c.8-.78.8-2.07 0-2.86zM5.41 20L4 18.59l7.72-7.72 1.47 1.35L5.41 20z\"/>\n",
              "  </svg>\n",
              "      </button>\n",
              "      \n",
              "  <style>\n",
              "    .colab-df-container {\n",
              "      display:flex;\n",
              "      flex-wrap:wrap;\n",
              "      gap: 12px;\n",
              "    }\n",
              "\n",
              "    .colab-df-convert {\n",
              "      background-color: #E8F0FE;\n",
              "      border: none;\n",
              "      border-radius: 50%;\n",
              "      cursor: pointer;\n",
              "      display: none;\n",
              "      fill: #1967D2;\n",
              "      height: 32px;\n",
              "      padding: 0 0 0 0;\n",
              "      width: 32px;\n",
              "    }\n",
              "\n",
              "    .colab-df-convert:hover {\n",
              "      background-color: #E2EBFA;\n",
              "      box-shadow: 0px 1px 2px rgba(60, 64, 67, 0.3), 0px 1px 3px 1px rgba(60, 64, 67, 0.15);\n",
              "      fill: #174EA6;\n",
              "    }\n",
              "\n",
              "    [theme=dark] .colab-df-convert {\n",
              "      background-color: #3B4455;\n",
              "      fill: #D2E3FC;\n",
              "    }\n",
              "\n",
              "    [theme=dark] .colab-df-convert:hover {\n",
              "      background-color: #434B5C;\n",
              "      box-shadow: 0px 1px 3px 1px rgba(0, 0, 0, 0.15);\n",
              "      filter: drop-shadow(0px 1px 2px rgba(0, 0, 0, 0.3));\n",
              "      fill: #FFFFFF;\n",
              "    }\n",
              "  </style>\n",
              "\n",
              "      <script>\n",
              "        const buttonEl =\n",
              "          document.querySelector('#df-b3caf565-5559-4eac-8db4-59451fd9622d button.colab-df-convert');\n",
              "        buttonEl.style.display =\n",
              "          google.colab.kernel.accessAllowed ? 'block' : 'none';\n",
              "\n",
              "        async function convertToInteractive(key) {\n",
              "          const element = document.querySelector('#df-b3caf565-5559-4eac-8db4-59451fd9622d');\n",
              "          const dataTable =\n",
              "            await google.colab.kernel.invokeFunction('convertToInteractive',\n",
              "                                                     [key], {});\n",
              "          if (!dataTable) return;\n",
              "\n",
              "          const docLinkHtml = 'Like what you see? Visit the ' +\n",
              "            '<a target=\"_blank\" href=https://colab.research.google.com/notebooks/data_table.ipynb>data table notebook</a>'\n",
              "            + ' to learn more about interactive tables.';\n",
              "          element.innerHTML = '';\n",
              "          dataTable['output_type'] = 'display_data';\n",
              "          await google.colab.output.renderOutput(dataTable, element);\n",
              "          const docLink = document.createElement('div');\n",
              "          docLink.innerHTML = docLinkHtml;\n",
              "          element.appendChild(docLink);\n",
              "        }\n",
              "      </script>\n",
              "    </div>\n",
              "  </div>\n",
              "  "
            ]
          },
          "metadata": {},
          "execution_count": 73
        }
      ],
      "source": [
        "dataset.head(5)"
      ]
    },
    {
      "cell_type": "code",
      "execution_count": null,
      "metadata": {
        "id": "Z9ctx_YnZi94",
        "colab": {
          "base_uri": "https://localhost:8080/"
        },
        "outputId": "706d9950-4ea4-4ca5-c75a-2087c8f451a4"
      },
      "outputs": [
        {
          "output_type": "stream",
          "name": "stdout",
          "text": [
            "<class 'pandas.core.frame.DataFrame'>\n",
            "RangeIndex: 5634 entries, 0 to 5633\n",
            "Data columns (total 21 columns):\n",
            " #   Column            Non-Null Count  Dtype  \n",
            "---  ------            --------------  -----  \n",
            " 0   id                5634 non-null   int64  \n",
            " 1   gender            5634 non-null   object \n",
            " 2   SeniorCitizen     5634 non-null   int64  \n",
            " 3   Partner           5634 non-null   object \n",
            " 4   Dependents        5416 non-null   object \n",
            " 5   tenure            5173 non-null   float64\n",
            " 6   PhoneService      5634 non-null   object \n",
            " 7   MultipleLines     5634 non-null   object \n",
            " 8   InternetService   5634 non-null   object \n",
            " 9   OnlineSecurity    5634 non-null   object \n",
            " 10  OnlineBackup      5634 non-null   object \n",
            " 11  DeviceProtection  5634 non-null   object \n",
            " 12  TechSupport       5634 non-null   object \n",
            " 13  StreamingTV       5634 non-null   object \n",
            " 14  StreamingMovies   5634 non-null   object \n",
            " 15  Contract          5634 non-null   object \n",
            " 16  PaperlessBilling  5634 non-null   object \n",
            " 17  PaymentMethod     5535 non-null   object \n",
            " 18  MonthlyCharges    5634 non-null   float64\n",
            " 19  TotalCharges      5634 non-null   object \n",
            " 20  Churn             5634 non-null   int64  \n",
            "dtypes: float64(2), int64(3), object(16)\n",
            "memory usage: 924.5+ KB\n"
          ]
        }
      ],
      "source": [
        "dataset.info()"
      ]
    },
    {
      "cell_type": "markdown",
      "metadata": {
        "id": "HLQuAtUjZ4da"
      },
      "source": [
        "**Tipos de variáveis identificadas**\n",
        "\n",
        "* **Binárias:** SeniorCitizen, Partner, Dependents, PhoneService, PaperlessBilling, Churn(label)\n",
        "\n",
        "* **Qualitativas nominais:** gender, MultipleLines, InternetService, OnlineSecurity, OnlineBackup, DeviceProtection, TechSupport, StreamingTV, StreamingMovies, Contract, PaymentMethod\n",
        "\n",
        "* **Qualitativas ordinais:**\n",
        "\n",
        "* **Quantitativas contínuas:** MonthlyCharges,\tTotalCharges\n",
        "\n",
        "* **Quantitativas discretas:** tenure\n",
        "\n",
        "**Obs.** Os nomes dos atributos são bem confusos em relação a letras maiúsculas e minúsculas. Para evitar stress vou converter todas para minúsculo."
      ]
    },
    {
      "cell_type": "code",
      "execution_count": null,
      "metadata": {
        "id": "CJzLT8yQoobw"
      },
      "outputs": [],
      "source": [
        "columns_original = list(dataset.columns)\n",
        "columns_lower = list(map(lambda x: x.lower(), columns_original))\n",
        "columns_new = {key: value for (key, value) in zip(columns_original, columns_lower)}\n",
        "dataset.rename(columns=columns_new, inplace=True)"
      ]
    },
    {
      "cell_type": "markdown",
      "metadata": {
        "id": "-Hcrz5vfCRby"
      },
      "source": [
        "Vou remover o atributo 'id' pois obviamente ele não ajudará nenhum modelo."
      ]
    },
    {
      "cell_type": "code",
      "execution_count": null,
      "metadata": {
        "id": "r0_m9GSSCHwj"
      },
      "outputs": [],
      "source": [
        "dataset = dataset.drop('id', axis=1)"
      ]
    },
    {
      "cell_type": "markdown",
      "metadata": {
        "id": "Ak8locW-z6iU"
      },
      "source": [
        "Vou identificar quais atributos são categóricos e quais são numéricos. Farei algumas conversões de tipo primeiro para faciliar o entendimento das visualizações. Mas o correto é que sejam feitas na fase de engenharia de atributos."
      ]
    },
    {
      "cell_type": "code",
      "execution_count": null,
      "metadata": {
        "colab": {
          "base_uri": "https://localhost:8080/"
        },
        "id": "LyqRea6K0BK0",
        "outputId": "8f07ad3e-76b3-413b-a258-1fe6c76d284c"
      },
      "outputs": [
        {
          "output_type": "stream",
          "name": "stdout",
          "text": [
            "numerical:   ['tenure', 'monthlycharges', 'totalcharges']\n",
            "categorical: ['gender', 'seniorcitizen', 'partner', 'dependents', 'phoneservice', 'multiplelines', 'internetservice', 'onlinesecurity', 'onlinebackup', 'deviceprotection', 'techsupport', 'streamingtv', 'streamingmovies', 'contract', 'paperlessbilling', 'paymentmethod']\n",
            "binary: ['seniorcitizen', 'partner', 'dependents', 'phoneservice', 'paperlessbilling']\n",
            "nominal: ['gender', 'multiplelines', 'internetservice', 'onlinesecurity', 'onlinebackup', 'deviceprotection', 'techsupport', 'streamingtv', 'streamingmovies', 'contract', 'paymentmethod']\n",
            "label: churn\n"
          ]
        }
      ],
      "source": [
        "dataset['churn']         = dataset['churn'].replace(0, 'No', regex=True)\n",
        "dataset['churn']         = dataset['churn'].replace(1, 'Yes', regex=True)\n",
        "dataset['seniorcitizen'] = dataset['seniorcitizen'].replace(0, 'No', regex=True)\n",
        "dataset['seniorcitizen'] = dataset['seniorcitizen'].replace(1, 'Yes', regex=True)\n",
        "dataset['totalcharges']  = dataset['totalcharges'].replace(' ', np.nan, regex=True)\n",
        "\n",
        "dataset['churn']         = dataset['churn'].astype(str)\n",
        "dataset['seniorcitizen'] = dataset['seniorcitizen'].astype(str)\n",
        "dataset['totalcharges']  = dataset['totalcharges'].astype(np.float64)\n",
        "\n",
        "fname_numerical   = dataset.select_dtypes(include=['float64','int64'])\n",
        "fname_categorical = dataset.select_dtypes(include=['object'])\n",
        "fname_numerical   = list(fname_numerical.columns)\n",
        "fname_categorical = list(fname_categorical.columns)\n",
        "fname_binary      = ['seniorcitizen', 'partner', 'dependents', 'phoneservice', 'paperlessbilling']\n",
        "fname_nominal     = ['gender', 'multiplelines', 'internetservice', 'onlinesecurity', 'onlinebackup', 'deviceprotection', \n",
        "                     'techsupport', 'streamingtv', 'streamingmovies', 'contract', 'paymentmethod']\n",
        "label_name = 'churn'\n",
        "\n",
        "fname_categorical.remove('churn')\n",
        "\n",
        "print(f'numerical:   {fname_numerical}')\n",
        "print(f'categorical: {fname_categorical}')\n",
        "print(f'binary: {fname_binary}')\n",
        "print(f'nominal: {fname_nominal}')\n",
        "print(f'label: {label_name}')"
      ]
    },
    {
      "cell_type": "code",
      "execution_count": null,
      "metadata": {
        "id": "hE8fmAFwhL4A",
        "colab": {
          "base_uri": "https://localhost:8080/",
          "height": 300
        },
        "outputId": "5daf99f5-72e2-427b-9a23-7f3a68fdd525"
      },
      "outputs": [
        {
          "output_type": "execute_result",
          "data": {
            "text/plain": [
              "            tenure  monthlycharges  totalcharges\n",
              "count  5173.000000     5634.000000   5626.000000\n",
              "mean     32.332882       64.626438   2273.513811\n",
              "std      24.463607       30.021806   2258.383946\n",
              "min       0.000000       18.250000     18.800000\n",
              "25%       9.000000       35.462500    401.587500\n",
              "50%      29.000000       70.250000   1396.125000\n",
              "75%      55.000000       89.800000   3764.287500\n",
              "max      72.000000      118.750000   8684.800000"
            ],
            "text/html": [
              "\n",
              "  <div id=\"df-3e6de511-12f8-4863-b63b-f815120ce4a3\">\n",
              "    <div class=\"colab-df-container\">\n",
              "      <div>\n",
              "<style scoped>\n",
              "    .dataframe tbody tr th:only-of-type {\n",
              "        vertical-align: middle;\n",
              "    }\n",
              "\n",
              "    .dataframe tbody tr th {\n",
              "        vertical-align: top;\n",
              "    }\n",
              "\n",
              "    .dataframe thead th {\n",
              "        text-align: right;\n",
              "    }\n",
              "</style>\n",
              "<table border=\"1\" class=\"dataframe\">\n",
              "  <thead>\n",
              "    <tr style=\"text-align: right;\">\n",
              "      <th></th>\n",
              "      <th>tenure</th>\n",
              "      <th>monthlycharges</th>\n",
              "      <th>totalcharges</th>\n",
              "    </tr>\n",
              "  </thead>\n",
              "  <tbody>\n",
              "    <tr>\n",
              "      <th>count</th>\n",
              "      <td>5173.000000</td>\n",
              "      <td>5634.000000</td>\n",
              "      <td>5626.000000</td>\n",
              "    </tr>\n",
              "    <tr>\n",
              "      <th>mean</th>\n",
              "      <td>32.332882</td>\n",
              "      <td>64.626438</td>\n",
              "      <td>2273.513811</td>\n",
              "    </tr>\n",
              "    <tr>\n",
              "      <th>std</th>\n",
              "      <td>24.463607</td>\n",
              "      <td>30.021806</td>\n",
              "      <td>2258.383946</td>\n",
              "    </tr>\n",
              "    <tr>\n",
              "      <th>min</th>\n",
              "      <td>0.000000</td>\n",
              "      <td>18.250000</td>\n",
              "      <td>18.800000</td>\n",
              "    </tr>\n",
              "    <tr>\n",
              "      <th>25%</th>\n",
              "      <td>9.000000</td>\n",
              "      <td>35.462500</td>\n",
              "      <td>401.587500</td>\n",
              "    </tr>\n",
              "    <tr>\n",
              "      <th>50%</th>\n",
              "      <td>29.000000</td>\n",
              "      <td>70.250000</td>\n",
              "      <td>1396.125000</td>\n",
              "    </tr>\n",
              "    <tr>\n",
              "      <th>75%</th>\n",
              "      <td>55.000000</td>\n",
              "      <td>89.800000</td>\n",
              "      <td>3764.287500</td>\n",
              "    </tr>\n",
              "    <tr>\n",
              "      <th>max</th>\n",
              "      <td>72.000000</td>\n",
              "      <td>118.750000</td>\n",
              "      <td>8684.800000</td>\n",
              "    </tr>\n",
              "  </tbody>\n",
              "</table>\n",
              "</div>\n",
              "      <button class=\"colab-df-convert\" onclick=\"convertToInteractive('df-3e6de511-12f8-4863-b63b-f815120ce4a3')\"\n",
              "              title=\"Convert this dataframe to an interactive table.\"\n",
              "              style=\"display:none;\">\n",
              "        \n",
              "  <svg xmlns=\"http://www.w3.org/2000/svg\" height=\"24px\"viewBox=\"0 0 24 24\"\n",
              "       width=\"24px\">\n",
              "    <path d=\"M0 0h24v24H0V0z\" fill=\"none\"/>\n",
              "    <path d=\"M18.56 5.44l.94 2.06.94-2.06 2.06-.94-2.06-.94-.94-2.06-.94 2.06-2.06.94zm-11 1L8.5 8.5l.94-2.06 2.06-.94-2.06-.94L8.5 2.5l-.94 2.06-2.06.94zm10 10l.94 2.06.94-2.06 2.06-.94-2.06-.94-.94-2.06-.94 2.06-2.06.94z\"/><path d=\"M17.41 7.96l-1.37-1.37c-.4-.4-.92-.59-1.43-.59-.52 0-1.04.2-1.43.59L10.3 9.45l-7.72 7.72c-.78.78-.78 2.05 0 2.83L4 21.41c.39.39.9.59 1.41.59.51 0 1.02-.2 1.41-.59l7.78-7.78 2.81-2.81c.8-.78.8-2.07 0-2.86zM5.41 20L4 18.59l7.72-7.72 1.47 1.35L5.41 20z\"/>\n",
              "  </svg>\n",
              "      </button>\n",
              "      \n",
              "  <style>\n",
              "    .colab-df-container {\n",
              "      display:flex;\n",
              "      flex-wrap:wrap;\n",
              "      gap: 12px;\n",
              "    }\n",
              "\n",
              "    .colab-df-convert {\n",
              "      background-color: #E8F0FE;\n",
              "      border: none;\n",
              "      border-radius: 50%;\n",
              "      cursor: pointer;\n",
              "      display: none;\n",
              "      fill: #1967D2;\n",
              "      height: 32px;\n",
              "      padding: 0 0 0 0;\n",
              "      width: 32px;\n",
              "    }\n",
              "\n",
              "    .colab-df-convert:hover {\n",
              "      background-color: #E2EBFA;\n",
              "      box-shadow: 0px 1px 2px rgba(60, 64, 67, 0.3), 0px 1px 3px 1px rgba(60, 64, 67, 0.15);\n",
              "      fill: #174EA6;\n",
              "    }\n",
              "\n",
              "    [theme=dark] .colab-df-convert {\n",
              "      background-color: #3B4455;\n",
              "      fill: #D2E3FC;\n",
              "    }\n",
              "\n",
              "    [theme=dark] .colab-df-convert:hover {\n",
              "      background-color: #434B5C;\n",
              "      box-shadow: 0px 1px 3px 1px rgba(0, 0, 0, 0.15);\n",
              "      filter: drop-shadow(0px 1px 2px rgba(0, 0, 0, 0.3));\n",
              "      fill: #FFFFFF;\n",
              "    }\n",
              "  </style>\n",
              "\n",
              "      <script>\n",
              "        const buttonEl =\n",
              "          document.querySelector('#df-3e6de511-12f8-4863-b63b-f815120ce4a3 button.colab-df-convert');\n",
              "        buttonEl.style.display =\n",
              "          google.colab.kernel.accessAllowed ? 'block' : 'none';\n",
              "\n",
              "        async function convertToInteractive(key) {\n",
              "          const element = document.querySelector('#df-3e6de511-12f8-4863-b63b-f815120ce4a3');\n",
              "          const dataTable =\n",
              "            await google.colab.kernel.invokeFunction('convertToInteractive',\n",
              "                                                     [key], {});\n",
              "          if (!dataTable) return;\n",
              "\n",
              "          const docLinkHtml = 'Like what you see? Visit the ' +\n",
              "            '<a target=\"_blank\" href=https://colab.research.google.com/notebooks/data_table.ipynb>data table notebook</a>'\n",
              "            + ' to learn more about interactive tables.';\n",
              "          element.innerHTML = '';\n",
              "          dataTable['output_type'] = 'display_data';\n",
              "          await google.colab.output.renderOutput(dataTable, element);\n",
              "          const docLink = document.createElement('div');\n",
              "          docLink.innerHTML = docLinkHtml;\n",
              "          element.appendChild(docLink);\n",
              "        }\n",
              "      </script>\n",
              "    </div>\n",
              "  </div>\n",
              "  "
            ]
          },
          "metadata": {},
          "execution_count": 78
        }
      ],
      "source": [
        "dataset[fname_numerical].describe()"
      ]
    },
    {
      "cell_type": "markdown",
      "metadata": {
        "id": "4QvaIbtZvM0g"
      },
      "source": [
        "Lista a quantidade de registros vazios em cada atributo"
      ]
    },
    {
      "cell_type": "code",
      "execution_count": null,
      "metadata": {
        "id": "AQHIESVph1Gh",
        "colab": {
          "base_uri": "https://localhost:8080/",
          "height": 677
        },
        "outputId": "5fdac052-8b95-43f7-f0f1-d1756d8cff46"
      },
      "outputs": [
        {
          "output_type": "execute_result",
          "data": {
            "text/plain": [
              "                  number of null values\n",
              "gender                                0\n",
              "seniorcitizen                         0\n",
              "partner                               0\n",
              "dependents                          218\n",
              "tenure                              461\n",
              "phoneservice                          0\n",
              "multiplelines                         0\n",
              "internetservice                       0\n",
              "onlinesecurity                        0\n",
              "onlinebackup                          0\n",
              "deviceprotection                      0\n",
              "techsupport                           0\n",
              "streamingtv                           0\n",
              "streamingmovies                       0\n",
              "contract                              0\n",
              "paperlessbilling                      0\n",
              "paymentmethod                        99\n",
              "monthlycharges                        0\n",
              "totalcharges                          8\n",
              "churn                                 0"
            ],
            "text/html": [
              "\n",
              "  <div id=\"df-d4fd50e4-d4b9-457a-84d8-dfbd63b42f27\">\n",
              "    <div class=\"colab-df-container\">\n",
              "      <div>\n",
              "<style scoped>\n",
              "    .dataframe tbody tr th:only-of-type {\n",
              "        vertical-align: middle;\n",
              "    }\n",
              "\n",
              "    .dataframe tbody tr th {\n",
              "        vertical-align: top;\n",
              "    }\n",
              "\n",
              "    .dataframe thead th {\n",
              "        text-align: right;\n",
              "    }\n",
              "</style>\n",
              "<table border=\"1\" class=\"dataframe\">\n",
              "  <thead>\n",
              "    <tr style=\"text-align: right;\">\n",
              "      <th></th>\n",
              "      <th>number of null values</th>\n",
              "    </tr>\n",
              "  </thead>\n",
              "  <tbody>\n",
              "    <tr>\n",
              "      <th>gender</th>\n",
              "      <td>0</td>\n",
              "    </tr>\n",
              "    <tr>\n",
              "      <th>seniorcitizen</th>\n",
              "      <td>0</td>\n",
              "    </tr>\n",
              "    <tr>\n",
              "      <th>partner</th>\n",
              "      <td>0</td>\n",
              "    </tr>\n",
              "    <tr>\n",
              "      <th>dependents</th>\n",
              "      <td>218</td>\n",
              "    </tr>\n",
              "    <tr>\n",
              "      <th>tenure</th>\n",
              "      <td>461</td>\n",
              "    </tr>\n",
              "    <tr>\n",
              "      <th>phoneservice</th>\n",
              "      <td>0</td>\n",
              "    </tr>\n",
              "    <tr>\n",
              "      <th>multiplelines</th>\n",
              "      <td>0</td>\n",
              "    </tr>\n",
              "    <tr>\n",
              "      <th>internetservice</th>\n",
              "      <td>0</td>\n",
              "    </tr>\n",
              "    <tr>\n",
              "      <th>onlinesecurity</th>\n",
              "      <td>0</td>\n",
              "    </tr>\n",
              "    <tr>\n",
              "      <th>onlinebackup</th>\n",
              "      <td>0</td>\n",
              "    </tr>\n",
              "    <tr>\n",
              "      <th>deviceprotection</th>\n",
              "      <td>0</td>\n",
              "    </tr>\n",
              "    <tr>\n",
              "      <th>techsupport</th>\n",
              "      <td>0</td>\n",
              "    </tr>\n",
              "    <tr>\n",
              "      <th>streamingtv</th>\n",
              "      <td>0</td>\n",
              "    </tr>\n",
              "    <tr>\n",
              "      <th>streamingmovies</th>\n",
              "      <td>0</td>\n",
              "    </tr>\n",
              "    <tr>\n",
              "      <th>contract</th>\n",
              "      <td>0</td>\n",
              "    </tr>\n",
              "    <tr>\n",
              "      <th>paperlessbilling</th>\n",
              "      <td>0</td>\n",
              "    </tr>\n",
              "    <tr>\n",
              "      <th>paymentmethod</th>\n",
              "      <td>99</td>\n",
              "    </tr>\n",
              "    <tr>\n",
              "      <th>monthlycharges</th>\n",
              "      <td>0</td>\n",
              "    </tr>\n",
              "    <tr>\n",
              "      <th>totalcharges</th>\n",
              "      <td>8</td>\n",
              "    </tr>\n",
              "    <tr>\n",
              "      <th>churn</th>\n",
              "      <td>0</td>\n",
              "    </tr>\n",
              "  </tbody>\n",
              "</table>\n",
              "</div>\n",
              "      <button class=\"colab-df-convert\" onclick=\"convertToInteractive('df-d4fd50e4-d4b9-457a-84d8-dfbd63b42f27')\"\n",
              "              title=\"Convert this dataframe to an interactive table.\"\n",
              "              style=\"display:none;\">\n",
              "        \n",
              "  <svg xmlns=\"http://www.w3.org/2000/svg\" height=\"24px\"viewBox=\"0 0 24 24\"\n",
              "       width=\"24px\">\n",
              "    <path d=\"M0 0h24v24H0V0z\" fill=\"none\"/>\n",
              "    <path d=\"M18.56 5.44l.94 2.06.94-2.06 2.06-.94-2.06-.94-.94-2.06-.94 2.06-2.06.94zm-11 1L8.5 8.5l.94-2.06 2.06-.94-2.06-.94L8.5 2.5l-.94 2.06-2.06.94zm10 10l.94 2.06.94-2.06 2.06-.94-2.06-.94-.94-2.06-.94 2.06-2.06.94z\"/><path d=\"M17.41 7.96l-1.37-1.37c-.4-.4-.92-.59-1.43-.59-.52 0-1.04.2-1.43.59L10.3 9.45l-7.72 7.72c-.78.78-.78 2.05 0 2.83L4 21.41c.39.39.9.59 1.41.59.51 0 1.02-.2 1.41-.59l7.78-7.78 2.81-2.81c.8-.78.8-2.07 0-2.86zM5.41 20L4 18.59l7.72-7.72 1.47 1.35L5.41 20z\"/>\n",
              "  </svg>\n",
              "      </button>\n",
              "      \n",
              "  <style>\n",
              "    .colab-df-container {\n",
              "      display:flex;\n",
              "      flex-wrap:wrap;\n",
              "      gap: 12px;\n",
              "    }\n",
              "\n",
              "    .colab-df-convert {\n",
              "      background-color: #E8F0FE;\n",
              "      border: none;\n",
              "      border-radius: 50%;\n",
              "      cursor: pointer;\n",
              "      display: none;\n",
              "      fill: #1967D2;\n",
              "      height: 32px;\n",
              "      padding: 0 0 0 0;\n",
              "      width: 32px;\n",
              "    }\n",
              "\n",
              "    .colab-df-convert:hover {\n",
              "      background-color: #E2EBFA;\n",
              "      box-shadow: 0px 1px 2px rgba(60, 64, 67, 0.3), 0px 1px 3px 1px rgba(60, 64, 67, 0.15);\n",
              "      fill: #174EA6;\n",
              "    }\n",
              "\n",
              "    [theme=dark] .colab-df-convert {\n",
              "      background-color: #3B4455;\n",
              "      fill: #D2E3FC;\n",
              "    }\n",
              "\n",
              "    [theme=dark] .colab-df-convert:hover {\n",
              "      background-color: #434B5C;\n",
              "      box-shadow: 0px 1px 3px 1px rgba(0, 0, 0, 0.15);\n",
              "      filter: drop-shadow(0px 1px 2px rgba(0, 0, 0, 0.3));\n",
              "      fill: #FFFFFF;\n",
              "    }\n",
              "  </style>\n",
              "\n",
              "      <script>\n",
              "        const buttonEl =\n",
              "          document.querySelector('#df-d4fd50e4-d4b9-457a-84d8-dfbd63b42f27 button.colab-df-convert');\n",
              "        buttonEl.style.display =\n",
              "          google.colab.kernel.accessAllowed ? 'block' : 'none';\n",
              "\n",
              "        async function convertToInteractive(key) {\n",
              "          const element = document.querySelector('#df-d4fd50e4-d4b9-457a-84d8-dfbd63b42f27');\n",
              "          const dataTable =\n",
              "            await google.colab.kernel.invokeFunction('convertToInteractive',\n",
              "                                                     [key], {});\n",
              "          if (!dataTable) return;\n",
              "\n",
              "          const docLinkHtml = 'Like what you see? Visit the ' +\n",
              "            '<a target=\"_blank\" href=https://colab.research.google.com/notebooks/data_table.ipynb>data table notebook</a>'\n",
              "            + ' to learn more about interactive tables.';\n",
              "          element.innerHTML = '';\n",
              "          dataTable['output_type'] = 'display_data';\n",
              "          await google.colab.output.renderOutput(dataTable, element);\n",
              "          const docLink = document.createElement('div');\n",
              "          docLink.innerHTML = docLinkHtml;\n",
              "          element.appendChild(docLink);\n",
              "        }\n",
              "      </script>\n",
              "    </div>\n",
              "  </div>\n",
              "  "
            ]
          },
          "metadata": {},
          "execution_count": 79
        }
      ],
      "source": [
        "dataset.isna().sum().to_frame('number of null values')"
      ]
    },
    {
      "cell_type": "markdown",
      "metadata": {
        "id": "VgGJx0qdo-Qh"
      },
      "source": [
        "Mostra a quantidade de classes que cada atributo categórico possui."
      ]
    },
    {
      "cell_type": "code",
      "execution_count": null,
      "metadata": {
        "id": "QOydPT-FpBCF",
        "colab": {
          "base_uri": "https://localhost:8080/"
        },
        "outputId": "672ff80b-30be-43fb-9b56-40419bf2ede4"
      },
      "outputs": [
        {
          "output_type": "stream",
          "name": "stdout",
          "text": [
            "gender: ---------2 labels\n",
            "seniorcitizen: ---------2 labels\n",
            "partner: ---------2 labels\n",
            "dependents: ---------2 labels\n",
            "phoneservice: ---------2 labels\n",
            "multiplelines: ---------3 labels\n",
            "internetservice: ---------3 labels\n",
            "onlinesecurity: ---------3 labels\n",
            "onlinebackup: ---------3 labels\n",
            "deviceprotection: ---------3 labels\n",
            "techsupport: ---------3 labels\n",
            "streamingtv: ---------3 labels\n",
            "streamingmovies: ---------3 labels\n",
            "contract: ---------3 labels\n",
            "paperlessbilling: ---------2 labels\n",
            "paymentmethod: ---------4 labels\n"
          ]
        }
      ],
      "source": [
        "for feat_name in dataset[fname_categorical]:\n",
        "  print(f'{feat_name}: {dataset[feat_name].nunique():->10} labels')"
      ]
    },
    {
      "cell_type": "markdown",
      "metadata": {
        "id": "JD0l8SwyvVYq"
      },
      "source": [
        "##Data visualization"
      ]
    },
    {
      "cell_type": "code",
      "source": [
        "import matplotlib.pyplot as plt\n",
        "import seaborn as sns\n",
        "colors = sns.color_palette()"
      ],
      "metadata": {
        "id": "iEbz2s7HgTat"
      },
      "execution_count": null,
      "outputs": []
    },
    {
      "cell_type": "markdown",
      "metadata": {
        "id": "K84Jf4-ovv2A"
      },
      "source": [
        "###Label"
      ]
    },
    {
      "cell_type": "markdown",
      "metadata": {
        "id": "R5KZy2VExNMZ"
      },
      "source": [
        "Vou verificar visualmente a proporção de classes da label."
      ]
    },
    {
      "cell_type": "code",
      "execution_count": null,
      "metadata": {
        "id": "xCF6s3Dcl3rF",
        "colab": {
          "base_uri": "https://localhost:8080/",
          "height": 505
        },
        "outputId": "06cf676a-1d4d-4aa6-939f-8218d7148a6a"
      },
      "outputs": [
        {
          "output_type": "display_data",
          "data": {
            "text/plain": [
              "<Figure size 504x504 with 1 Axes>"
            ],
            "image/png": "[encoded data removed]"
          },
          "metadata": {}
        }
      ],
      "source": [
        "classes = dataset[label_name].value_counts(dropna=False).to_frame('amount')\n",
        "slices = classes.to_numpy().ravel()\n",
        "labels = classes.index.to_list()\n",
        "explode = [0, 0.1]\n",
        "plt.style.use(\"fivethirtyeight\")\n",
        "plt.figure(figsize=(7, 7))\n",
        "plt.pie(slices, labels=labels, wedgeprops={'edgecolor': 'black'}, explode=explode, autopct='%1.1f%%', shadow=True)\n",
        "plt.tight_layout()\n",
        "plt.show()"
      ]
    },
    {
      "cell_type": "markdown",
      "metadata": {
        "id": "-ywUIY7smquN"
      },
      "source": [
        "Há um grande desequilíbrio de classes por isso não posso confiar na métrica 'acurácia' já que ela relaciona a quantidade de sucessos com a quantidade de tentativas. Essa métrica acaba se tornano imprecisa pois o 'sucesso' envolve acerto de classes, não importa qual, e basta eu criar um modelo que chute sempre a classe majoritária que ele terá, no mínimo, 73.5% de acurária. Desse modo, considerarei reequilibrar o conjunto de dados ou usar 'precisão/sensibilidade' e treinar o modelo dando atenção a isso."
      ]
    },
    {
      "cell_type": "markdown",
      "metadata": {
        "id": "V90Q-rZSwRVa"
      },
      "source": [
        "###Categorical features"
      ]
    },
    {
      "cell_type": "markdown",
      "metadata": {
        "id": "MJiqInRazaBU"
      },
      "source": [
        "Vou criar vários histogramas com os atributos categóricos. A ideia é, para cada atributo e suas classes, visualizar as quantidades destas entre os clientes que cancelam a assinatura e os que não cancelam afim de traçar um perfil de cada. Além disso, vou dividir essas visualizações em dois por causa do dimensinamento dos gráficos."
      ]
    },
    {
      "cell_type": "code",
      "source": [
        "fig, ax = plt.subplots(2, 4, figsize=(20, 10))\n",
        "for feature, axis in zip(dataset[fname_categorical[:8]], ax.ravel()):\n",
        "  sns.histplot(data=dataset, x=label_name, hue=feature, alpha=1.0, multiple='stack', shrink=0.8, ax=axis)\n",
        "plt.tight_layout()\n",
        "plt.show()"
      ],
      "metadata": {
        "id": "xLvKNEpLw0k-",
        "colab": {
          "base_uri": "https://localhost:8080/",
          "height": 632
        },
        "outputId": "0d6dc952-48f6-48ac-f36f-4d361f03890a"
      },
      "execution_count": null,
      "outputs": [
        {
          "output_type": "display_data",
          "data": {
            "text/plain": [
              "<Figure size 1440x720 with 8 Axes>"
            ],
            "image/png": "[encoded data removed]"
          },
          "metadata": {}
        }
      ]
    },
    {
      "cell_type": "code",
      "source": [
        "fig, ax = plt.subplots(2, 4, figsize=(20, 10))\n",
        "for feature, axis in zip(dataset[fname_categorical[8:]], ax.ravel()):\n",
        "  sns.histplot(data=dataset, x=label_name, hue=feature, stat='percent', alpha=1.0, multiple='stack', shrink=0.8, ax=axis)\n",
        "plt.tight_layout()\n",
        "plt.show()"
      ],
      "metadata": {
        "id": "uhMy9b15GdMo",
        "colab": {
          "base_uri": "https://localhost:8080/",
          "height": 632
        },
        "outputId": "72b6297e-1594-4986-8c1f-b3665aea7374"
      },
      "execution_count": null,
      "outputs": [
        {
          "output_type": "display_data",
          "data": {
            "text/plain": [
              "<Figure size 1440x720 with 8 Axes>"
            ],
            "image/png": "[encoded data removed]"
          },
          "metadata": {}
        }
      ]
    },
    {
      "cell_type": "markdown",
      "metadata": {
        "id": "EU_p_DazjCkE"
      },
      "source": [
        "Com esses gráficos podemos obter algumas informações úteis. Vou dividir em dois segmentos, aqueles que cancelaram os serviços da empresa e aqueles que permaneceram.\n",
        "\n",
        "*   **Cancelaram:**\n",
        "    *   **internetservice:** Maioria possui fibra óptica em relação a 'No' e 'DSL'.\n",
        "    *   **onlinesecurity:** Maioria não possui.\n",
        "    *   **onlinebackup:** Maioria não possui.\n",
        "    *   **deviceprotection:** Maioria não possui.\n",
        "    *   **techsupport:** Maioria não possui.\n",
        "    *   **contract:** Maioria possui contrato 'Month-to-Month'.\n",
        "    *   **paperlessbilling:** Maioria 'Yes'.\n",
        "    *   **paymentmethod:** Maioria escolhe 'Electronic Check'.\n",
        "\n",
        "*   **Não cancelaram:**\n",
        "    *   **internetservice:** Distribuição de classes é semelhante.\n",
        "    *   **onlinesecurity:** Distribuição de classes é semelhante.\n",
        "    *   **onlinebackup:** Distribuição de classes é semelhante.\n",
        "    *   **deviceprotection:** Distribuição de classes é semelhante.\n",
        "    *   **techsupport:** Distribuição de classes é semelhante.\n",
        "    *   **contract:** Distribuição de classes é semelhante.\n",
        "    *   **paperlessbilling:** Distribuição de classes é semelhante.\n",
        "    *   **paymentmethod:** Distribuição de classes é semelhante.\n",
        "\n",
        "Desconfio que as classes 'No phone service' e 'No internet service' presentes em vários atributos são ruídos, pois já existem dois atributos que dizem exatamente a mesma coisa."
      ]
    },
    {
      "cell_type": "markdown",
      "metadata": {
        "id": "RCV0fz5ovtvp"
      },
      "source": [
        "**Dependentes:** Este atributo possui valores nulos e para imputação posso adotar uma estratégia mais interessante do que apenas usar a moda dele. Tenho duas teorias que se forem corretas posso escolher para essa tarefa na fase de feature engineering. Mas, primeiro preciso testá-las com a ajuda de visualização de dados.\n",
        "\n",
        "* **Teoria 01:** Pessoas que têm múltiplas linhas tendem a ter dependentes e pessoas que têm apenas uma linha, não. São pessoas solteiras, quem sabe, e tendem a ter apenas uma linha."
      ]
    },
    {
      "cell_type": "code",
      "execution_count": null,
      "metadata": {
        "id": "4E_bpQFSw_At"
      },
      "outputs": [],
      "source": [
        "mask   = dataset['multiplelines'] == 'No'\n",
        "ml_no  = dataset.loc[mask, 'dependents'].value_counts()\n",
        "\n",
        "mask   = dataset['multiplelines'] == 'Yes'\n",
        "ml_yes = dataset.loc[mask, 'dependents'].value_counts()"
      ]
    },
    {
      "cell_type": "code",
      "execution_count": null,
      "metadata": {
        "id": "VwjXx2a3yBpg",
        "colab": {
          "base_uri": "https://localhost:8080/",
          "height": 361
        },
        "outputId": "1de37986-1006-4069-e055-d36393413af1"
      },
      "outputs": [
        {
          "output_type": "display_data",
          "data": {
            "text/plain": [
              "<Figure size 1080x360 with 2 Axes>"
            ],
            "image/png": "[encoded data removed]"
          },
          "metadata": {}
        }
      ],
      "source": [
        "fig, ax = plt.subplots(1, 2, figsize=(15, 5))\n",
        "ax = ax.ravel()\n",
        "ax[0].set_title('single line')\n",
        "ax[1].set_title('multiple lines')\n",
        "ax[0].set(xlabel='dependents')\n",
        "ax[1].set(xlabel='dependents')\n",
        "sns.barplot(x=ml_no.index, y=ml_no.values, ax=ax[0])\n",
        "sns.barplot(x=ml_yes.index, y=ml_yes.values, ax=ax[1])\n",
        "plt.tight_layout()\n",
        "plt.show()"
      ]
    },
    {
      "cell_type": "markdown",
      "metadata": {
        "id": "Qc92EcAw0C3p"
      },
      "source": [
        "**Conclusão:** Não deu certo! Tanto pessoas com uma única linha quanto pessoas com múltiplas, tendem não ter dependentes. Isso significa que não posso usar 'multiplelines' para imputar valores em 'dependents'."
      ]
    },
    {
      "cell_type": "markdown",
      "metadata": {
        "id": "Q0zcMu8rCymK"
      },
      "source": [
        "* **Teoria 02:** Pessoas idosas e com parceiros tendem a ter dependentes e jovens sem parceiros, não. Essa estratégia não vai preencher todos os campos NaN, mas como disse antes, é melhor do que adotar a moda como estratégia de imputação."
      ]
    },
    {
      "cell_type": "code",
      "execution_count": null,
      "metadata": {
        "id": "OpxGXTzcd51f"
      },
      "outputs": [],
      "source": [
        "mask   = dataset['seniorcitizen'] == 'No'\n",
        "young  = dataset.loc[mask, :]\n",
        "mask   = dataset['seniorcitizen'] == 'Yes'\n",
        "senior = dataset.loc[mask, :]\n",
        "\n",
        "# Estou mais interessado nas proporções do que nos valores absolutos\n",
        "prop_young  = young['dependents'].value_counts() / young.shape[0]\n",
        "prop_senior = senior['dependents'].value_counts() / senior.shape[0]"
      ]
    },
    {
      "cell_type": "code",
      "execution_count": null,
      "metadata": {
        "id": "Phna3DPhG5EF",
        "colab": {
          "base_uri": "https://localhost:8080/",
          "height": 361
        },
        "outputId": "d31427ec-72dc-4be5-eddd-0ba222aa643e"
      },
      "outputs": [
        {
          "output_type": "display_data",
          "data": {
            "text/plain": [
              "<Figure size 1080x360 with 2 Axes>"
            ],
            "image/png": "[encoded data removed]"
          },
          "metadata": {}
        }
      ],
      "source": [
        "fig, ax = plt.subplots(1, 2, figsize=(15, 5))\n",
        "ax = ax.ravel()\n",
        "sns.barplot(x=prop_young.index,  y=prop_young.values,  ax=ax[0])\n",
        "sns.barplot(x=prop_senior.index, y=prop_senior.values, ax=ax[1])\n",
        "ax[0].set_title('young costumers')\n",
        "ax[1].set_title('senior costumers')\n",
        "ax[0].set(xlabel='dependents', ylabel='proportion')\n",
        "ax[1].set(xlabel='dependents', ylabel='proportion')\n",
        "plt.tight_layout()\n",
        "plt.show()"
      ]
    },
    {
      "cell_type": "markdown",
      "metadata": {
        "id": "7gcG55i7K9Sn"
      },
      "source": [
        "**Conlcusão:** Ok! Achei que a maioria dos idosos teriam dependentes, mas os dados mostram exatamente o contrário. Quem ssabe seja porque idosos, se tiverem filhos, são adultos e portanto não são mais dependentes. O importanque é que isso ajuda a imputar valores NaN em 'dependents' quando o usuário for idoso. Basta eu atribuir sempre 'No' que estarei certo mais de 80% das vezes."
      ]
    },
    {
      "cell_type": "markdown",
      "source": [
        "Agora, vou focar apenas nos jovens. Este caso é mais complicado! Quem sabe se eu for um pouco mais específico utilizando mais um atributo eu consiga resultados melhores. Portanto, vou selecionar jovens com e sem parceiros para ver qual a propoção destes que têm ou não dependentes."
      ],
      "metadata": {
        "id": "nC-hVEHH1e1O"
      }
    },
    {
      "cell_type": "code",
      "execution_count": null,
      "metadata": {
        "id": "osPUyay6MT8W"
      },
      "outputs": [],
      "source": [
        "mask = young['partner'] == 'No'\n",
        "young_no_partner = young[mask]\n",
        "mask = young['partner'] == 'Yes'\n",
        "young_yes_partner = young[mask]\n",
        "\n",
        "prop_young_no_partner  = young_no_partner['dependents'].value_counts() / young_no_partner.shape[0]\n",
        "prop_young_yes_partner = young_yes_partner['dependents'].value_counts() / young_yes_partner.shape[0]"
      ]
    },
    {
      "cell_type": "code",
      "execution_count": null,
      "metadata": {
        "id": "rp3fn9BEgv4n",
        "colab": {
          "base_uri": "https://localhost:8080/",
          "height": 361
        },
        "outputId": "564accb0-fea2-4639-f69a-52f4ee1c6f0e"
      },
      "outputs": [
        {
          "output_type": "display_data",
          "data": {
            "text/plain": [
              "<Figure size 1080x360 with 2 Axes>"
            ],
            "image/png": "[encoded data removed]"
          },
          "metadata": {}
        }
      ],
      "source": [
        "fig, ax = plt.subplots(1, 2, figsize=(15, 5))\n",
        "ax = ax.ravel()\n",
        "sns.barplot(x=prop_young_no_partner.index,  y=prop_young_no_partner.values,  ax=ax[0])\n",
        "sns.barplot(x=prop_young_yes_partner .index, y=prop_young_yes_partner .values, ax=ax[1])\n",
        "ax[0].set_title('young costumers with no partner')\n",
        "ax[1].set_title('young costumers with partner')\n",
        "ax[0].set(xlabel='dependents', ylabel='proportion')\n",
        "ax[1].set(xlabel='dependents', ylabel='proportion')\n",
        "plt.tight_layout()\n",
        "plt.show()"
      ]
    },
    {
      "cell_type": "markdown",
      "metadata": {
        "id": "ZmGDxuGXT8o8"
      },
      "source": [
        "**Conclusão:** Como visto no gráfico anterior a este, praticamente o dobro dos clientes que são jovens não têm dependentes em relação aqueles que têm. Mas, se eu filtrar ainda mais entre os que têm ou não parceiros, eu consigo ser ainda mais preciso porque mais de 80% dos que são solteiros não têm dependentes.\n",
        "\n",
        "Portanto, a estratégia será: Se for idoso ou jovem solteiro, será imputado o valor 'No'. Caso contrário, 'Yes'."
      ]
    },
    {
      "cell_type": "markdown",
      "metadata": {
        "id": "6knTqWYoea2g"
      },
      "source": [
        "---"
      ]
    },
    {
      "cell_type": "markdown",
      "metadata": {
        "id": "g3luUXxrwabj"
      },
      "source": [
        "###Numerical features"
      ]
    },
    {
      "cell_type": "markdown",
      "metadata": {
        "id": "L6MihAEwvqmA"
      },
      "source": [
        "Criarei o mesmo tipo de gráfico com os atributos numéricos. A ideia é comparar os **valores médios** de cada um deles entre aqueles que cancelaram o serviço e os que mantiveram suas assinaturas."
      ]
    },
    {
      "cell_type": "code",
      "execution_count": null,
      "metadata": {
        "id": "83rN6K4WCC9Z",
        "colab": {
          "base_uri": "https://localhost:8080/",
          "height": 300
        },
        "outputId": "1a16dc5c-08b6-46de-9f26-c81bd6f4a945"
      },
      "outputs": [
        {
          "output_type": "execute_result",
          "data": {
            "text/plain": [
              "            tenure  monthlycharges  totalcharges\n",
              "count  5173.000000     5634.000000   5626.000000\n",
              "mean     32.332882       64.626438   2273.513811\n",
              "std      24.463607       30.021806   2258.383946\n",
              "min       0.000000       18.250000     18.800000\n",
              "25%       9.000000       35.462500    401.587500\n",
              "50%      29.000000       70.250000   1396.125000\n",
              "75%      55.000000       89.800000   3764.287500\n",
              "max      72.000000      118.750000   8684.800000"
            ],
            "text/html": [
              "\n",
              "  <div id=\"df-5e29242b-2202-4a50-93b1-ce90890bad6a\">\n",
              "    <div class=\"colab-df-container\">\n",
              "      <div>\n",
              "<style scoped>\n",
              "    .dataframe tbody tr th:only-of-type {\n",
              "        vertical-align: middle;\n",
              "    }\n",
              "\n",
              "    .dataframe tbody tr th {\n",
              "        vertical-align: top;\n",
              "    }\n",
              "\n",
              "    .dataframe thead th {\n",
              "        text-align: right;\n",
              "    }\n",
              "</style>\n",
              "<table border=\"1\" class=\"dataframe\">\n",
              "  <thead>\n",
              "    <tr style=\"text-align: right;\">\n",
              "      <th></th>\n",
              "      <th>tenure</th>\n",
              "      <th>monthlycharges</th>\n",
              "      <th>totalcharges</th>\n",
              "    </tr>\n",
              "  </thead>\n",
              "  <tbody>\n",
              "    <tr>\n",
              "      <th>count</th>\n",
              "      <td>5173.000000</td>\n",
              "      <td>5634.000000</td>\n",
              "      <td>5626.000000</td>\n",
              "    </tr>\n",
              "    <tr>\n",
              "      <th>mean</th>\n",
              "      <td>32.332882</td>\n",
              "      <td>64.626438</td>\n",
              "      <td>2273.513811</td>\n",
              "    </tr>\n",
              "    <tr>\n",
              "      <th>std</th>\n",
              "      <td>24.463607</td>\n",
              "      <td>30.021806</td>\n",
              "      <td>2258.383946</td>\n",
              "    </tr>\n",
              "    <tr>\n",
              "      <th>min</th>\n",
              "      <td>0.000000</td>\n",
              "      <td>18.250000</td>\n",
              "      <td>18.800000</td>\n",
              "    </tr>\n",
              "    <tr>\n",
              "      <th>25%</th>\n",
              "      <td>9.000000</td>\n",
              "      <td>35.462500</td>\n",
              "      <td>401.587500</td>\n",
              "    </tr>\n",
              "    <tr>\n",
              "      <th>50%</th>\n",
              "      <td>29.000000</td>\n",
              "      <td>70.250000</td>\n",
              "      <td>1396.125000</td>\n",
              "    </tr>\n",
              "    <tr>\n",
              "      <th>75%</th>\n",
              "      <td>55.000000</td>\n",
              "      <td>89.800000</td>\n",
              "      <td>3764.287500</td>\n",
              "    </tr>\n",
              "    <tr>\n",
              "      <th>max</th>\n",
              "      <td>72.000000</td>\n",
              "      <td>118.750000</td>\n",
              "      <td>8684.800000</td>\n",
              "    </tr>\n",
              "  </tbody>\n",
              "</table>\n",
              "</div>\n",
              "      <button class=\"colab-df-convert\" onclick=\"convertToInteractive('df-5e29242b-2202-4a50-93b1-ce90890bad6a')\"\n",
              "              title=\"Convert this dataframe to an interactive table.\"\n",
              "              style=\"display:none;\">\n",
              "        \n",
              "  <svg xmlns=\"http://www.w3.org/2000/svg\" height=\"24px\"viewBox=\"0 0 24 24\"\n",
              "       width=\"24px\">\n",
              "    <path d=\"M0 0h24v24H0V0z\" fill=\"none\"/>\n",
              "    <path d=\"M18.56 5.44l.94 2.06.94-2.06 2.06-.94-2.06-.94-.94-2.06-.94 2.06-2.06.94zm-11 1L8.5 8.5l.94-2.06 2.06-.94-2.06-.94L8.5 2.5l-.94 2.06-2.06.94zm10 10l.94 2.06.94-2.06 2.06-.94-2.06-.94-.94-2.06-.94 2.06-2.06.94z\"/><path d=\"M17.41 7.96l-1.37-1.37c-.4-.4-.92-.59-1.43-.59-.52 0-1.04.2-1.43.59L10.3 9.45l-7.72 7.72c-.78.78-.78 2.05 0 2.83L4 21.41c.39.39.9.59 1.41.59.51 0 1.02-.2 1.41-.59l7.78-7.78 2.81-2.81c.8-.78.8-2.07 0-2.86zM5.41 20L4 18.59l7.72-7.72 1.47 1.35L5.41 20z\"/>\n",
              "  </svg>\n",
              "      </button>\n",
              "      \n",
              "  <style>\n",
              "    .colab-df-container {\n",
              "      display:flex;\n",
              "      flex-wrap:wrap;\n",
              "      gap: 12px;\n",
              "    }\n",
              "\n",
              "    .colab-df-convert {\n",
              "      background-color: #E8F0FE;\n",
              "      border: none;\n",
              "      border-radius: 50%;\n",
              "      cursor: pointer;\n",
              "      display: none;\n",
              "      fill: #1967D2;\n",
              "      height: 32px;\n",
              "      padding: 0 0 0 0;\n",
              "      width: 32px;\n",
              "    }\n",
              "\n",
              "    .colab-df-convert:hover {\n",
              "      background-color: #E2EBFA;\n",
              "      box-shadow: 0px 1px 2px rgba(60, 64, 67, 0.3), 0px 1px 3px 1px rgba(60, 64, 67, 0.15);\n",
              "      fill: #174EA6;\n",
              "    }\n",
              "\n",
              "    [theme=dark] .colab-df-convert {\n",
              "      background-color: #3B4455;\n",
              "      fill: #D2E3FC;\n",
              "    }\n",
              "\n",
              "    [theme=dark] .colab-df-convert:hover {\n",
              "      background-color: #434B5C;\n",
              "      box-shadow: 0px 1px 3px 1px rgba(0, 0, 0, 0.15);\n",
              "      filter: drop-shadow(0px 1px 2px rgba(0, 0, 0, 0.3));\n",
              "      fill: #FFFFFF;\n",
              "    }\n",
              "  </style>\n",
              "\n",
              "      <script>\n",
              "        const buttonEl =\n",
              "          document.querySelector('#df-5e29242b-2202-4a50-93b1-ce90890bad6a button.colab-df-convert');\n",
              "        buttonEl.style.display =\n",
              "          google.colab.kernel.accessAllowed ? 'block' : 'none';\n",
              "\n",
              "        async function convertToInteractive(key) {\n",
              "          const element = document.querySelector('#df-5e29242b-2202-4a50-93b1-ce90890bad6a');\n",
              "          const dataTable =\n",
              "            await google.colab.kernel.invokeFunction('convertToInteractive',\n",
              "                                                     [key], {});\n",
              "          if (!dataTable) return;\n",
              "\n",
              "          const docLinkHtml = 'Like what you see? Visit the ' +\n",
              "            '<a target=\"_blank\" href=https://colab.research.google.com/notebooks/data_table.ipynb>data table notebook</a>'\n",
              "            + ' to learn more about interactive tables.';\n",
              "          element.innerHTML = '';\n",
              "          dataTable['output_type'] = 'display_data';\n",
              "          await google.colab.output.renderOutput(dataTable, element);\n",
              "          const docLink = document.createElement('div');\n",
              "          docLink.innerHTML = docLinkHtml;\n",
              "          element.appendChild(docLink);\n",
              "        }\n",
              "      </script>\n",
              "    </div>\n",
              "  </div>\n",
              "  "
            ]
          },
          "metadata": {},
          "execution_count": 91
        }
      ],
      "source": [
        "dataset[fname_numerical].describe()"
      ]
    },
    {
      "cell_type": "code",
      "execution_count": null,
      "metadata": {
        "id": "lzpshtodZRLn"
      },
      "outputs": [],
      "source": [
        "mask = (dataset[label_name] == 'No')\n",
        "ds_negative = dataset[mask]\n",
        "\n",
        "mask = (dataset[label_name] == 'Yes')\n",
        "ds_positive = dataset[mask]\n",
        "\n",
        "neg = ds_negative[fname_numerical].describe()\n",
        "pos = ds_positive[fname_numerical].describe()\n",
        "monthly_charges_mean = {'No': neg.loc['mean', 'monthlycharges'], 'Yes': pos.loc['mean', 'monthlycharges']}\n",
        "total_charges_mean   = {'No': neg.loc['mean', 'totalcharges'], 'Yes': pos.loc['mean', 'totalcharges']}\n",
        "tenure_mean          = {'No': neg.loc['mean', 'tenure'], 'Yes': pos.loc['mean', 'tenure']}\n",
        "monthly_charges_mean = pd.Series(data=monthly_charges_mean, name='monthly_charges_mean')\n",
        "total_charges_mean   = pd.Series(data=total_charges_mean, name='total_charges_mean')\n",
        "tenure_mean          = pd.Series(data=tenure_mean, name='tenure_mean')"
      ]
    },
    {
      "cell_type": "code",
      "execution_count": null,
      "metadata": {
        "id": "NAWBpeqAEQr2",
        "colab": {
          "base_uri": "https://localhost:8080/",
          "height": 361
        },
        "outputId": "a05dbfd4-3c99-48dd-9080-d0e40030b6df"
      },
      "outputs": [
        {
          "output_type": "display_data",
          "data": {
            "text/plain": [
              "<Figure size 720x360 with 4 Axes>"
            ],
            "image/png": "[encoded data removed]"
          },
          "metadata": {}
        }
      ],
      "source": [
        "fig, ax = plt.subplots(2, 2, figsize=(10, 5))\n",
        "ax = ax.ravel()\n",
        "ax[0].set_title(monthly_charges_mean.name)\n",
        "ax[1].set_title(total_charges_mean.name)\n",
        "ax[2].set_title(tenure_mean.name)\n",
        "sns.barplot(x=monthly_charges_mean.index, y=monthly_charges_mean.values, ax=ax[0])\n",
        "sns.barplot(x=total_charges_mean.index, y=total_charges_mean.values, ax=ax[1])\n",
        "sns.barplot(x=tenure_mean.index, y=tenure_mean.values, ax=ax[2])\n",
        "plt.tight_layout()\n",
        "plt.show()"
      ]
    },
    {
      "cell_type": "markdown",
      "metadata": {
        "id": "Q1hio-gHgqtB"
      },
      "source": [
        "Com esses gráficos podemos obter algumas informações úteis.\n",
        "\n",
        "*   **tenure:** Pessoas que cancelam suas assinaturas permanecem menos mêses com o serviço do que aquelas que não cancelam.\n",
        "*   **totalcharges:** Justamente por ficarem menos tempo elas tem um gasto total menor.\n",
        "*   **monthlycharges:** Os gastos mensais daqueles que cancelaram suas assinaturas são maiores do que aqueles que permaneceram.\n"
      ]
    },
    {
      "cell_type": "markdown",
      "metadata": {
        "id": "9ayEO9alE6sS"
      },
      "source": [
        "#Train/Test split"
      ]
    },
    {
      "cell_type": "code",
      "execution_count": null,
      "metadata": {
        "id": "6ScIevTIJyph"
      },
      "outputs": [],
      "source": [
        "from sklearn.model_selection import StratifiedKFold\n",
        "from sklearn.preprocessing   import OrdinalEncoder"
      ]
    },
    {
      "cell_type": "markdown",
      "metadata": {
        "id": "NwuE-M1ZxWGK"
      },
      "source": [
        "Antes de fazer qualquer alteração no conjunto de dados e principalmente treinar modelos, preciso fazer a separação do conjunto em treinamento e teste. Este processo ajuda a evitar overfitting do modelo. Vou levar em conta o desequilíbrio de classes por isso farei uma amostragem estratificada.\n",
        "\n",
        "Além disso, vou codificar antecipadamente a label pois, no pipeline de transformações, vou precisar que ela esteja codificada para o uso do TargetEncoder. Para isso, vou usar OrdinalEncoder que vai atribuir valor 0 para 'No' e 1 para 'Yes', mas sem aumentar a dimensionalidade, como BinaryEncoder faz. Para atributos binários, OrdinalEncoder pode ser usado pois só vai produzir [0, 1]."
      ]
    },
    {
      "cell_type": "code",
      "source": [
        "X = dataset.iloc[:, :-1]\n",
        "y = dataset[label_name]\n",
        "y = OrdinalEncoder().fit_transform(y.to_numpy().reshape(-1, 1))\n",
        "y = pd.Series(data=y.ravel())\n",
        "\n",
        "# vou substitui a label antiga pela nova, codificada\n",
        "dataset[label_name] = y"
      ],
      "metadata": {
        "id": "_1ckzfMDXGUN"
      },
      "execution_count": null,
      "outputs": []
    },
    {
      "cell_type": "code",
      "execution_count": null,
      "metadata": {
        "id": "zVS8AORPyiWG"
      },
      "outputs": [],
      "source": [
        "skf = StratifiedKFold()\n",
        "result = skf.split(X, y)\n",
        "train_indexes, test_indexes = next(result) # só o primeiro fold me interessa\n",
        "\n",
        "train_set = dataset.iloc[train_indexes, :]\n",
        "test_set  = dataset.iloc[test_indexes, :]\n",
        "\n",
        "# o atributo 'id' é claramente irrelevante para fazer a análise de churn\n",
        "train_set = train_set.reset_index().drop('index', axis=1)\n",
        "test_set  = test_set.reset_index().drop('index', axis=1)"
      ]
    },
    {
      "cell_type": "markdown",
      "metadata": {
        "id": "urx8PwXKupat"
      },
      "source": [
        "#Feature engineering"
      ]
    },
    {
      "cell_type": "code",
      "source": [
        "%pip install category-encoders"
      ],
      "metadata": {
        "colab": {
          "base_uri": "https://localhost:8080/"
        },
        "id": "xM4vlIlhKKS8",
        "outputId": "1167de5a-efe7-4d0d-bdb9-775e886c8d53"
      },
      "execution_count": null,
      "outputs": [
        {
          "output_type": "stream",
          "name": "stdout",
          "text": [
            "Looking in indexes: https://pypi.org/simple, https://us-python.pkg.dev/colab-wheels/public/simple/\n",
            "Requirement already satisfied: category-encoders in /usr/local/lib/python3.8/dist-packages (2.6.0)\n",
            "Requirement already satisfied: statsmodels>=0.9.0 in /usr/local/lib/python3.8/dist-packages (from category-encoders) (0.13.5)\n",
            "Requirement already satisfied: patsy>=0.5.1 in /usr/local/lib/python3.8/dist-packages (from category-encoders) (0.5.3)\n",
            "Requirement already satisfied: pandas>=1.0.5 in /usr/local/lib/python3.8/dist-packages (from category-encoders) (1.3.5)\n",
            "Requirement already satisfied: numpy>=1.14.0 in /usr/local/lib/python3.8/dist-packages (from category-encoders) (1.22.4)\n",
            "Requirement already satisfied: scikit-learn>=0.20.0 in /usr/local/lib/python3.8/dist-packages (from category-encoders) (1.2.1)\n",
            "Requirement already satisfied: scipy>=1.0.0 in /usr/local/lib/python3.8/dist-packages (from category-encoders) (1.10.1)\n",
            "Requirement already satisfied: pytz>=2017.3 in /usr/local/lib/python3.8/dist-packages (from pandas>=1.0.5->category-encoders) (2022.7.1)\n",
            "Requirement already satisfied: python-dateutil>=2.7.3 in /usr/local/lib/python3.8/dist-packages (from pandas>=1.0.5->category-encoders) (2.8.2)\n",
            "Requirement already satisfied: six in /usr/local/lib/python3.8/dist-packages (from patsy>=0.5.1->category-encoders) (1.15.0)\n",
            "Requirement already satisfied: joblib>=1.1.1 in /usr/local/lib/python3.8/dist-packages (from scikit-learn>=0.20.0->category-encoders) (1.2.0)\n",
            "Requirement already satisfied: threadpoolctl>=2.0.0 in /usr/local/lib/python3.8/dist-packages (from scikit-learn>=0.20.0->category-encoders) (3.1.0)\n",
            "Requirement already satisfied: packaging>=21.3 in /usr/local/lib/python3.8/dist-packages (from statsmodels>=0.9.0->category-encoders) (23.0)\n"
          ]
        }
      ]
    },
    {
      "cell_type": "code",
      "execution_count": null,
      "metadata": {
        "id": "Keds-pwAyV_b"
      },
      "outputs": [],
      "source": [
        "from category_encoders       import TargetEncoder\n",
        "from scipy.stats             import zscore\n",
        "from sklearn.base            import BaseEstimator, TransformerMixin\n",
        "from sklearn.compose         import ColumnTransformer\n",
        "from sklearn.impute          import SimpleImputer\n",
        "from sklearn.pipeline        import Pipeline\n",
        "from sklearn.preprocessing   import StandardScaler"
      ]
    },
    {
      "cell_type": "markdown",
      "metadata": {
        "id": "W2GGUIpTCySt"
      },
      "source": [
        "A classe ColumnTransformer retorna por padrão um numpy array, mas para gerenciar melhor os atributos que passarão por transformações através de um pipeline, prefiro que ela retorne sempre um objeto DataFrame do Pandas. O problema é que este vem com os nomes das colunas alterados, então resolvi criar a classe abaixo para atribuir ao DataFrame que saiu do ColumnTransformer os nomes originais."
      ]
    },
    {
      "cell_type": "code",
      "source": [
        "class FeaturesRenamer(BaseEstimator, TransformerMixin):\n",
        "    \"\"\"\n",
        "    Esta classe deve ser colocada diretamente dentro de um Pipeline.\n",
        "    Quando 'get_feature_names_out()' é chamado ele concatena o nome do transformador ao nome de cada coluna\n",
        "    que passará pela transformação. Esta classe desfaz isso retornando os nomes originais.\n",
        "    \"\"\"\n",
        "    def __init__(self, original_names):\n",
        "        if isinstance(original_names, list):\n",
        "            self.original_names = original_names\n",
        "        else:\n",
        "            self.original_names = list(original_names)\n",
        "    def fit(self, X, y=None):\n",
        "        return self\n",
        "    def fit_transform(self, X, y=None):\n",
        "        self.fit(X, y)\n",
        "        return self.transform(X, y)\n",
        "    def transform(self, X, y=None):\n",
        "        new_names = list()\n",
        "        for name in list(X.columns):\n",
        "            for original in self.original_names:\n",
        "                if name.endswith('__' + original):\n",
        "                    new_names.append(original)\n",
        "        return X.set_axis(new_names, axis=1)"
      ],
      "metadata": {
        "id": "di_4VsgId2tV"
      },
      "execution_count": null,
      "outputs": []
    },
    {
      "cell_type": "markdown",
      "metadata": {
        "id": "IcwsHaa5ExVX"
      },
      "source": [
        "##Categorical features"
      ]
    },
    {
      "cell_type": "markdown",
      "metadata": {
        "id": "2ZjaLhD_D1k4"
      },
      "source": [
        "**Etapa ##: Nan values:** Imputação"
      ]
    },
    {
      "cell_type": "code",
      "execution_count": null,
      "metadata": {
        "id": "UUrK87ZFXzq-"
      },
      "outputs": [],
      "source": [
        "class DependentsImputer(BaseEstimator, TransformerMixin):\n",
        "  def fit(self, X, y=None):\n",
        "    return self\n",
        "  \n",
        "  def fit_transform(self, X, y=None):\n",
        "    self.fit(X, y)\n",
        "    return self.transform(X, y)\n",
        "\n",
        "  def transform(self, X, y=None):\n",
        "    # se for idoso ou jovem solteiro\n",
        "    mask_imputer    = (X['seniorcitizen'] == 'Yes') | ((X['seniorcitizen'] == 'No') & (X['partner'] == 'No'))\n",
        "    mask_dependents = (X['dependents'].isna())\n",
        "    mask_no_dependents  = (mask_imputer & mask_dependents)\n",
        "    mask_yes_dependents = (~mask_imputer & mask_dependents)\n",
        "    X.loc[mask_no_dependents, 'dependents']  = 'No'\n",
        "    X.loc[mask_yes_dependents, 'dependents'] = 'Yes'\n",
        "    return X\n",
        "\n",
        "  def get_feature_names_out(self):\n",
        "      pass"
      ]
    },
    {
      "cell_type": "code",
      "execution_count": null,
      "metadata": {
        "id": "8IcHEA51BDof",
        "colab": {
          "base_uri": "https://localhost:8080/",
          "height": 118
        },
        "outputId": "d4a949b2-125d-43ae-9176-e18842dfafa3"
      },
      "outputs": [
        {
          "output_type": "execute_result",
          "data": {
            "text/plain": [
              "ColumnTransformer(remainder='passthrough',\n",
              "                  transformers=[('simple_imputer',\n",
              "                                 SimpleImputer(strategy='most_frequent'),\n",
              "                                 ['paymentmethod']),\n",
              "                                ('dependents_imputer', DependentsImputer(),\n",
              "                                 ['dependents', 'seniorcitizen', 'partner'])])"
            ],
            "text/html": [
              "<style>#sk-container-id-7 {color: black;background-color: white;}#sk-container-id-7 pre{padding: 0;}#sk-container-id-7 div.sk-toggleable {background-color: white;}#sk-container-id-7 label.sk-toggleable__label {cursor: pointer;display: block;width: 100%;margin-bottom: 0;padding: 0.3em;box-sizing: border-box;text-align: center;}#sk-container-id-7 label.sk-toggleable__label-arrow:before {content: \"▸\";float: left;margin-right: 0.25em;color: #696969;}#sk-container-id-7 label.sk-toggleable__label-arrow:hover:before {color: black;}#sk-container-id-7 div.sk-estimator:hover label.sk-toggleable__label-arrow:before {color: black;}#sk-container-id-7 div.sk-toggleable__content {max-height: 0;max-width: 0;overflow: hidden;text-align: left;background-color: #f0f8ff;}#sk-container-id-7 div.sk-toggleable__content pre {margin: 0.2em;color: black;border-radius: 0.25em;background-color: #f0f8ff;}#sk-container-id-7 input.sk-toggleable__control:checked~div.sk-toggleable__content {max-height: 200px;max-width: 100%;overflow: auto;}#sk-container-id-7 input.sk-toggleable__control:checked~label.sk-toggleable__label-arrow:before {content: \"▾\";}#sk-container-id-7 div.sk-estimator input.sk-toggleable__control:checked~label.sk-toggleable__label {background-color: #d4ebff;}#sk-container-id-7 div.sk-label input.sk-toggleable__control:checked~label.sk-toggleable__label {background-color: #d4ebff;}#sk-container-id-7 input.sk-hidden--visually {border: 0;clip: rect(1px 1px 1px 1px);clip: rect(1px, 1px, 1px, 1px);height: 1px;margin: -1px;overflow: hidden;padding: 0;position: absolute;width: 1px;}#sk-container-id-7 div.sk-estimator {font-family: monospace;background-color: #f0f8ff;border: 1px dotted black;border-radius: 0.25em;box-sizing: border-box;margin-bottom: 0.5em;}#sk-container-id-7 div.sk-estimator:hover {background-color: #d4ebff;}#sk-container-id-7 div.sk-parallel-item::after {content: \"\";width: 100%;border-bottom: 1px solid gray;flex-grow: 1;}#sk-container-id-7 div.sk-label:hover label.sk-toggleable__label {background-color: #d4ebff;}#sk-container-id-7 div.sk-serial::before {content: \"\";position: absolute;border-left: 1px solid gray;box-sizing: border-box;top: 0;bottom: 0;left: 50%;z-index: 0;}#sk-container-id-7 div.sk-serial {display: flex;flex-direction: column;align-items: center;background-color: white;padding-right: 0.2em;padding-left: 0.2em;position: relative;}#sk-container-id-7 div.sk-item {position: relative;z-index: 1;}#sk-container-id-7 div.sk-parallel {display: flex;align-items: stretch;justify-content: center;background-color: white;position: relative;}#sk-container-id-7 div.sk-item::before, #sk-container-id-7 div.sk-parallel-item::before {content: \"\";position: absolute;border-left: 1px solid gray;box-sizing: border-box;top: 0;bottom: 0;left: 50%;z-index: -1;}#sk-container-id-7 div.sk-parallel-item {display: flex;flex-direction: column;z-index: 1;position: relative;background-color: white;}#sk-container-id-7 div.sk-parallel-item:first-child::after {align-self: flex-end;width: 50%;}#sk-container-id-7 div.sk-parallel-item:last-child::after {align-self: flex-start;width: 50%;}#sk-container-id-7 div.sk-parallel-item:only-child::after {width: 0;}#sk-container-id-7 div.sk-dashed-wrapped {border: 1px dashed gray;margin: 0 0.4em 0.5em 0.4em;box-sizing: border-box;padding-bottom: 0.4em;background-color: white;}#sk-container-id-7 div.sk-label label {font-family: monospace;font-weight: bold;display: inline-block;line-height: 1.2em;}#sk-container-id-7 div.sk-label-container {text-align: center;}#sk-container-id-7 div.sk-container {/* jupyter's `normalize.less` sets `[hidden] { display: none; }` but bootstrap.min.css set `[hidden] { display: none !important; }` so we also need the `!important` here to be able to override the default hidden behavior on the sphinx rendered scikit-learn.org. See: https://github.com/scikit-learn/scikit-learn/issues/21755 */display: inline-block !important;position: relative;}#sk-container-id-7 div.sk-text-repr-fallback {display: none;}</style><div id=\"sk-container-id-7\" class=\"sk-top-container\"><div class=\"sk-text-repr-fallback\"><pre>ColumnTransformer(remainder=&#x27;passthrough&#x27;,\n",
              "                  transformers=[(&#x27;simple_imputer&#x27;,\n",
              "                                 SimpleImputer(strategy=&#x27;most_frequent&#x27;),\n",
              "                                 [&#x27;paymentmethod&#x27;]),\n",
              "                                (&#x27;dependents_imputer&#x27;, DependentsImputer(),\n",
              "                                 [&#x27;dependents&#x27;, &#x27;seniorcitizen&#x27;, &#x27;partner&#x27;])])</pre><b>In a Jupyter environment, please rerun this cell to show the HTML representation or trust the notebook. <br />On GitHub, the HTML representation is unable to render, please try loading this page with nbviewer.org.</b></div><div class=\"sk-container\" hidden><div class=\"sk-item sk-dashed-wrapped\"><div class=\"sk-label-container\"><div class=\"sk-label sk-toggleable\"><input class=\"sk-toggleable__control sk-hidden--visually\" id=\"sk-estimator-id-33\" type=\"checkbox\" ><label for=\"sk-estimator-id-33\" class=\"sk-toggleable__label sk-toggleable__label-arrow\">ColumnTransformer</label><div class=\"sk-toggleable__content\"><pre>ColumnTransformer(remainder=&#x27;passthrough&#x27;,\n",
              "                  transformers=[(&#x27;simple_imputer&#x27;,\n",
              "                                 SimpleImputer(strategy=&#x27;most_frequent&#x27;),\n",
              "                                 [&#x27;paymentmethod&#x27;]),\n",
              "                                (&#x27;dependents_imputer&#x27;, DependentsImputer(),\n",
              "                                 [&#x27;dependents&#x27;, &#x27;seniorcitizen&#x27;, &#x27;partner&#x27;])])</pre></div></div></div><div class=\"sk-parallel\"><div class=\"sk-parallel-item\"><div class=\"sk-item\"><div class=\"sk-label-container\"><div class=\"sk-label sk-toggleable\"><input class=\"sk-toggleable__control sk-hidden--visually\" id=\"sk-estimator-id-34\" type=\"checkbox\" ><label for=\"sk-estimator-id-34\" class=\"sk-toggleable__label sk-toggleable__label-arrow\">simple_imputer</label><div class=\"sk-toggleable__content\"><pre>[&#x27;paymentmethod&#x27;]</pre></div></div></div><div class=\"sk-serial\"><div class=\"sk-item\"><div class=\"sk-estimator sk-toggleable\"><input class=\"sk-toggleable__control sk-hidden--visually\" id=\"sk-estimator-id-35\" type=\"checkbox\" ><label for=\"sk-estimator-id-35\" class=\"sk-toggleable__label sk-toggleable__label-arrow\">SimpleImputer</label><div class=\"sk-toggleable__content\"><pre>SimpleImputer(strategy=&#x27;most_frequent&#x27;)</pre></div></div></div></div></div></div><div class=\"sk-parallel-item\"><div class=\"sk-item\"><div class=\"sk-label-container\"><div class=\"sk-label sk-toggleable\"><input class=\"sk-toggleable__control sk-hidden--visually\" id=\"sk-estimator-id-36\" type=\"checkbox\" ><label for=\"sk-estimator-id-36\" class=\"sk-toggleable__label sk-toggleable__label-arrow\">dependents_imputer</label><div class=\"sk-toggleable__content\"><pre>[&#x27;dependents&#x27;, &#x27;seniorcitizen&#x27;, &#x27;partner&#x27;]</pre></div></div></div><div class=\"sk-serial\"><div class=\"sk-item\"><div class=\"sk-estimator sk-toggleable\"><input class=\"sk-toggleable__control sk-hidden--visually\" id=\"sk-estimator-id-37\" type=\"checkbox\" ><label for=\"sk-estimator-id-37\" class=\"sk-toggleable__label sk-toggleable__label-arrow\">DependentsImputer</label><div class=\"sk-toggleable__content\"><pre>DependentsImputer()</pre></div></div></div></div></div></div><div class=\"sk-parallel-item\"><div class=\"sk-item\"><div class=\"sk-label-container\"><div class=\"sk-label sk-toggleable\"><input class=\"sk-toggleable__control sk-hidden--visually\" id=\"sk-estimator-id-38\" type=\"checkbox\" ><label for=\"sk-estimator-id-38\" class=\"sk-toggleable__label sk-toggleable__label-arrow\">remainder</label><div class=\"sk-toggleable__content\"><pre></pre></div></div></div><div class=\"sk-serial\"><div class=\"sk-item\"><div class=\"sk-estimator sk-toggleable\"><input class=\"sk-toggleable__control sk-hidden--visually\" id=\"sk-estimator-id-39\" type=\"checkbox\" ><label for=\"sk-estimator-id-39\" class=\"sk-toggleable__label sk-toggleable__label-arrow\">passthrough</label><div class=\"sk-toggleable__content\"><pre>passthrough</pre></div></div></div></div></div></div></div></div></div></div>"
            ]
          },
          "metadata": {},
          "execution_count": 101
        }
      ],
      "source": [
        "tcat_si = ColumnTransformer(transformers=[('simple_imputer', SimpleImputer(strategy='most_frequent'), ['paymentmethod']),\n",
        "                                          ('dependents_imputer', DependentsImputer(), ['dependents', 'seniorcitizen', 'partner'])], \n",
        "                            remainder='passthrough')\n",
        "tcat_si.set_output(transform='pandas')"
      ]
    },
    {
      "cell_type": "markdown",
      "source": [
        "**Etapa ##: Atributos binários: Codificação:** Vou usar OrdinalEncoder nos atributos binários pelo mesmo motivo que usei na label."
      ],
      "metadata": {
        "id": "9WajzrEkP9bB"
      }
    },
    {
      "cell_type": "code",
      "source": [
        "tcat_bn = ColumnTransformer(transformers=[('binary_encoder', OrdinalEncoder(), fname_binary)], remainder='passthrough')\n",
        "tcat_bn.set_output(transform='pandas')"
      ],
      "metadata": {
        "colab": {
          "base_uri": "https://localhost:8080/",
          "height": 118
        },
        "id": "LKGa9XqwQF_W",
        "outputId": "7b0f8972-b95c-4d74-aaf4-4a2601df0162"
      },
      "execution_count": null,
      "outputs": [
        {
          "output_type": "execute_result",
          "data": {
            "text/plain": [
              "ColumnTransformer(remainder='passthrough',\n",
              "                  transformers=[('binary_encoder', OrdinalEncoder(),\n",
              "                                 ['seniorcitizen', 'partner', 'dependents',\n",
              "                                  'phoneservice', 'paperlessbilling'])])"
            ],
            "text/html": [
              "<style>#sk-container-id-8 {color: black;background-color: white;}#sk-container-id-8 pre{padding: 0;}#sk-container-id-8 div.sk-toggleable {background-color: white;}#sk-container-id-8 label.sk-toggleable__label {cursor: pointer;display: block;width: 100%;margin-bottom: 0;padding: 0.3em;box-sizing: border-box;text-align: center;}#sk-container-id-8 label.sk-toggleable__label-arrow:before {content: \"▸\";float: left;margin-right: 0.25em;color: #696969;}#sk-container-id-8 label.sk-toggleable__label-arrow:hover:before {color: black;}#sk-container-id-8 div.sk-estimator:hover label.sk-toggleable__label-arrow:before {color: black;}#sk-container-id-8 div.sk-toggleable__content {max-height: 0;max-width: 0;overflow: hidden;text-align: left;background-color: #f0f8ff;}#sk-container-id-8 div.sk-toggleable__content pre {margin: 0.2em;color: black;border-radius: 0.25em;background-color: #f0f8ff;}#sk-container-id-8 input.sk-toggleable__control:checked~div.sk-toggleable__content {max-height: 200px;max-width: 100%;overflow: auto;}#sk-container-id-8 input.sk-toggleable__control:checked~label.sk-toggleable__label-arrow:before {content: \"▾\";}#sk-container-id-8 div.sk-estimator input.sk-toggleable__control:checked~label.sk-toggleable__label {background-color: #d4ebff;}#sk-container-id-8 div.sk-label input.sk-toggleable__control:checked~label.sk-toggleable__label {background-color: #d4ebff;}#sk-container-id-8 input.sk-hidden--visually {border: 0;clip: rect(1px 1px 1px 1px);clip: rect(1px, 1px, 1px, 1px);height: 1px;margin: -1px;overflow: hidden;padding: 0;position: absolute;width: 1px;}#sk-container-id-8 div.sk-estimator {font-family: monospace;background-color: #f0f8ff;border: 1px dotted black;border-radius: 0.25em;box-sizing: border-box;margin-bottom: 0.5em;}#sk-container-id-8 div.sk-estimator:hover {background-color: #d4ebff;}#sk-container-id-8 div.sk-parallel-item::after {content: \"\";width: 100%;border-bottom: 1px solid gray;flex-grow: 1;}#sk-container-id-8 div.sk-label:hover label.sk-toggleable__label {background-color: #d4ebff;}#sk-container-id-8 div.sk-serial::before {content: \"\";position: absolute;border-left: 1px solid gray;box-sizing: border-box;top: 0;bottom: 0;left: 50%;z-index: 0;}#sk-container-id-8 div.sk-serial {display: flex;flex-direction: column;align-items: center;background-color: white;padding-right: 0.2em;padding-left: 0.2em;position: relative;}#sk-container-id-8 div.sk-item {position: relative;z-index: 1;}#sk-container-id-8 div.sk-parallel {display: flex;align-items: stretch;justify-content: center;background-color: white;position: relative;}#sk-container-id-8 div.sk-item::before, #sk-container-id-8 div.sk-parallel-item::before {content: \"\";position: absolute;border-left: 1px solid gray;box-sizing: border-box;top: 0;bottom: 0;left: 50%;z-index: -1;}#sk-container-id-8 div.sk-parallel-item {display: flex;flex-direction: column;z-index: 1;position: relative;background-color: white;}#sk-container-id-8 div.sk-parallel-item:first-child::after {align-self: flex-end;width: 50%;}#sk-container-id-8 div.sk-parallel-item:last-child::after {align-self: flex-start;width: 50%;}#sk-container-id-8 div.sk-parallel-item:only-child::after {width: 0;}#sk-container-id-8 div.sk-dashed-wrapped {border: 1px dashed gray;margin: 0 0.4em 0.5em 0.4em;box-sizing: border-box;padding-bottom: 0.4em;background-color: white;}#sk-container-id-8 div.sk-label label {font-family: monospace;font-weight: bold;display: inline-block;line-height: 1.2em;}#sk-container-id-8 div.sk-label-container {text-align: center;}#sk-container-id-8 div.sk-container {/* jupyter's `normalize.less` sets `[hidden] { display: none; }` but bootstrap.min.css set `[hidden] { display: none !important; }` so we also need the `!important` here to be able to override the default hidden behavior on the sphinx rendered scikit-learn.org. See: https://github.com/scikit-learn/scikit-learn/issues/21755 */display: inline-block !important;position: relative;}#sk-container-id-8 div.sk-text-repr-fallback {display: none;}</style><div id=\"sk-container-id-8\" class=\"sk-top-container\"><div class=\"sk-text-repr-fallback\"><pre>ColumnTransformer(remainder=&#x27;passthrough&#x27;,\n",
              "                  transformers=[(&#x27;binary_encoder&#x27;, OrdinalEncoder(),\n",
              "                                 [&#x27;seniorcitizen&#x27;, &#x27;partner&#x27;, &#x27;dependents&#x27;,\n",
              "                                  &#x27;phoneservice&#x27;, &#x27;paperlessbilling&#x27;])])</pre><b>In a Jupyter environment, please rerun this cell to show the HTML representation or trust the notebook. <br />On GitHub, the HTML representation is unable to render, please try loading this page with nbviewer.org.</b></div><div class=\"sk-container\" hidden><div class=\"sk-item sk-dashed-wrapped\"><div class=\"sk-label-container\"><div class=\"sk-label sk-toggleable\"><input class=\"sk-toggleable__control sk-hidden--visually\" id=\"sk-estimator-id-40\" type=\"checkbox\" ><label for=\"sk-estimator-id-40\" class=\"sk-toggleable__label sk-toggleable__label-arrow\">ColumnTransformer</label><div class=\"sk-toggleable__content\"><pre>ColumnTransformer(remainder=&#x27;passthrough&#x27;,\n",
              "                  transformers=[(&#x27;binary_encoder&#x27;, OrdinalEncoder(),\n",
              "                                 [&#x27;seniorcitizen&#x27;, &#x27;partner&#x27;, &#x27;dependents&#x27;,\n",
              "                                  &#x27;phoneservice&#x27;, &#x27;paperlessbilling&#x27;])])</pre></div></div></div><div class=\"sk-parallel\"><div class=\"sk-parallel-item\"><div class=\"sk-item\"><div class=\"sk-label-container\"><div class=\"sk-label sk-toggleable\"><input class=\"sk-toggleable__control sk-hidden--visually\" id=\"sk-estimator-id-41\" type=\"checkbox\" ><label for=\"sk-estimator-id-41\" class=\"sk-toggleable__label sk-toggleable__label-arrow\">binary_encoder</label><div class=\"sk-toggleable__content\"><pre>[&#x27;seniorcitizen&#x27;, &#x27;partner&#x27;, &#x27;dependents&#x27;, &#x27;phoneservice&#x27;, &#x27;paperlessbilling&#x27;]</pre></div></div></div><div class=\"sk-serial\"><div class=\"sk-item\"><div class=\"sk-estimator sk-toggleable\"><input class=\"sk-toggleable__control sk-hidden--visually\" id=\"sk-estimator-id-42\" type=\"checkbox\" ><label for=\"sk-estimator-id-42\" class=\"sk-toggleable__label sk-toggleable__label-arrow\">OrdinalEncoder</label><div class=\"sk-toggleable__content\"><pre>OrdinalEncoder()</pre></div></div></div></div></div></div><div class=\"sk-parallel-item\"><div class=\"sk-item\"><div class=\"sk-label-container\"><div class=\"sk-label sk-toggleable\"><input class=\"sk-toggleable__control sk-hidden--visually\" id=\"sk-estimator-id-43\" type=\"checkbox\" ><label for=\"sk-estimator-id-43\" class=\"sk-toggleable__label sk-toggleable__label-arrow\">remainder</label><div class=\"sk-toggleable__content\"><pre></pre></div></div></div><div class=\"sk-serial\"><div class=\"sk-item\"><div class=\"sk-estimator sk-toggleable\"><input class=\"sk-toggleable__control sk-hidden--visually\" id=\"sk-estimator-id-44\" type=\"checkbox\" ><label for=\"sk-estimator-id-44\" class=\"sk-toggleable__label sk-toggleable__label-arrow\">passthrough</label><div class=\"sk-toggleable__content\"><pre>passthrough</pre></div></div></div></div></div></div></div></div></div></div>"
            ]
          },
          "metadata": {},
          "execution_count": 102
        }
      ]
    },
    {
      "cell_type": "markdown",
      "metadata": {
        "id": "u3XShdxaEAvl"
      },
      "source": [
        "**Etapa ##: Atributos nominais: Codificação:** Vou usar TargetEncoder pois, pelo seu funcionamento, vai atribuir um significado aos atributos nominais. Melhor do que fazer uma atribuição aleatória de valor a cada classe de um atributo.\n",
        "\n",
        "Funcionamento do target encoder: https://contrib.scikit-learn.org/category_encoders/targetencoder.html"
      ]
    },
    {
      "cell_type": "code",
      "execution_count": null,
      "metadata": {
        "id": "frZ8SV92E8A9",
        "colab": {
          "base_uri": "https://localhost:8080/",
          "height": 118
        },
        "outputId": "74c54e1e-a641-49b4-caa7-a2cc335aac43"
      },
      "outputs": [
        {
          "output_type": "execute_result",
          "data": {
            "text/plain": [
              "ColumnTransformer(remainder='passthrough',\n",
              "                  transformers=[('target_encoder', TargetEncoder(),\n",
              "                                 ['gender', 'multiplelines', 'internetservice',\n",
              "                                  'onlinesecurity', 'onlinebackup',\n",
              "                                  'deviceprotection', 'techsupport',\n",
              "                                  'streamingtv', 'streamingmovies', 'contract',\n",
              "                                  'paymentmethod'])])"
            ],
            "text/html": [
              "<style>#sk-container-id-9 {color: black;background-color: white;}#sk-container-id-9 pre{padding: 0;}#sk-container-id-9 div.sk-toggleable {background-color: white;}#sk-container-id-9 label.sk-toggleable__label {cursor: pointer;display: block;width: 100%;margin-bottom: 0;padding: 0.3em;box-sizing: border-box;text-align: center;}#sk-container-id-9 label.sk-toggleable__label-arrow:before {content: \"▸\";float: left;margin-right: 0.25em;color: #696969;}#sk-container-id-9 label.sk-toggleable__label-arrow:hover:before {color: black;}#sk-container-id-9 div.sk-estimator:hover label.sk-toggleable__label-arrow:before {color: black;}#sk-container-id-9 div.sk-toggleable__content {max-height: 0;max-width: 0;overflow: hidden;text-align: left;background-color: #f0f8ff;}#sk-container-id-9 div.sk-toggleable__content pre {margin: 0.2em;color: black;border-radius: 0.25em;background-color: #f0f8ff;}#sk-container-id-9 input.sk-toggleable__control:checked~div.sk-toggleable__content {max-height: 200px;max-width: 100%;overflow: auto;}#sk-container-id-9 input.sk-toggleable__control:checked~label.sk-toggleable__label-arrow:before {content: \"▾\";}#sk-container-id-9 div.sk-estimator input.sk-toggleable__control:checked~label.sk-toggleable__label {background-color: #d4ebff;}#sk-container-id-9 div.sk-label input.sk-toggleable__control:checked~label.sk-toggleable__label {background-color: #d4ebff;}#sk-container-id-9 input.sk-hidden--visually {border: 0;clip: rect(1px 1px 1px 1px);clip: rect(1px, 1px, 1px, 1px);height: 1px;margin: -1px;overflow: hidden;padding: 0;position: absolute;width: 1px;}#sk-container-id-9 div.sk-estimator {font-family: monospace;background-color: #f0f8ff;border: 1px dotted black;border-radius: 0.25em;box-sizing: border-box;margin-bottom: 0.5em;}#sk-container-id-9 div.sk-estimator:hover {background-color: #d4ebff;}#sk-container-id-9 div.sk-parallel-item::after {content: \"\";width: 100%;border-bottom: 1px solid gray;flex-grow: 1;}#sk-container-id-9 div.sk-label:hover label.sk-toggleable__label {background-color: #d4ebff;}#sk-container-id-9 div.sk-serial::before {content: \"\";position: absolute;border-left: 1px solid gray;box-sizing: border-box;top: 0;bottom: 0;left: 50%;z-index: 0;}#sk-container-id-9 div.sk-serial {display: flex;flex-direction: column;align-items: center;background-color: white;padding-right: 0.2em;padding-left: 0.2em;position: relative;}#sk-container-id-9 div.sk-item {position: relative;z-index: 1;}#sk-container-id-9 div.sk-parallel {display: flex;align-items: stretch;justify-content: center;background-color: white;position: relative;}#sk-container-id-9 div.sk-item::before, #sk-container-id-9 div.sk-parallel-item::before {content: \"\";position: absolute;border-left: 1px solid gray;box-sizing: border-box;top: 0;bottom: 0;left: 50%;z-index: -1;}#sk-container-id-9 div.sk-parallel-item {display: flex;flex-direction: column;z-index: 1;position: relative;background-color: white;}#sk-container-id-9 div.sk-parallel-item:first-child::after {align-self: flex-end;width: 50%;}#sk-container-id-9 div.sk-parallel-item:last-child::after {align-self: flex-start;width: 50%;}#sk-container-id-9 div.sk-parallel-item:only-child::after {width: 0;}#sk-container-id-9 div.sk-dashed-wrapped {border: 1px dashed gray;margin: 0 0.4em 0.5em 0.4em;box-sizing: border-box;padding-bottom: 0.4em;background-color: white;}#sk-container-id-9 div.sk-label label {font-family: monospace;font-weight: bold;display: inline-block;line-height: 1.2em;}#sk-container-id-9 div.sk-label-container {text-align: center;}#sk-container-id-9 div.sk-container {/* jupyter's `normalize.less` sets `[hidden] { display: none; }` but bootstrap.min.css set `[hidden] { display: none !important; }` so we also need the `!important` here to be able to override the default hidden behavior on the sphinx rendered scikit-learn.org. See: https://github.com/scikit-learn/scikit-learn/issues/21755 */display: inline-block !important;position: relative;}#sk-container-id-9 div.sk-text-repr-fallback {display: none;}</style><div id=\"sk-container-id-9\" class=\"sk-top-container\"><div class=\"sk-text-repr-fallback\"><pre>ColumnTransformer(remainder=&#x27;passthrough&#x27;,\n",
              "                  transformers=[(&#x27;target_encoder&#x27;, TargetEncoder(),\n",
              "                                 [&#x27;gender&#x27;, &#x27;multiplelines&#x27;, &#x27;internetservice&#x27;,\n",
              "                                  &#x27;onlinesecurity&#x27;, &#x27;onlinebackup&#x27;,\n",
              "                                  &#x27;deviceprotection&#x27;, &#x27;techsupport&#x27;,\n",
              "                                  &#x27;streamingtv&#x27;, &#x27;streamingmovies&#x27;, &#x27;contract&#x27;,\n",
              "                                  &#x27;paymentmethod&#x27;])])</pre><b>In a Jupyter environment, please rerun this cell to show the HTML representation or trust the notebook. <br />On GitHub, the HTML representation is unable to render, please try loading this page with nbviewer.org.</b></div><div class=\"sk-container\" hidden><div class=\"sk-item sk-dashed-wrapped\"><div class=\"sk-label-container\"><div class=\"sk-label sk-toggleable\"><input class=\"sk-toggleable__control sk-hidden--visually\" id=\"sk-estimator-id-45\" type=\"checkbox\" ><label for=\"sk-estimator-id-45\" class=\"sk-toggleable__label sk-toggleable__label-arrow\">ColumnTransformer</label><div class=\"sk-toggleable__content\"><pre>ColumnTransformer(remainder=&#x27;passthrough&#x27;,\n",
              "                  transformers=[(&#x27;target_encoder&#x27;, TargetEncoder(),\n",
              "                                 [&#x27;gender&#x27;, &#x27;multiplelines&#x27;, &#x27;internetservice&#x27;,\n",
              "                                  &#x27;onlinesecurity&#x27;, &#x27;onlinebackup&#x27;,\n",
              "                                  &#x27;deviceprotection&#x27;, &#x27;techsupport&#x27;,\n",
              "                                  &#x27;streamingtv&#x27;, &#x27;streamingmovies&#x27;, &#x27;contract&#x27;,\n",
              "                                  &#x27;paymentmethod&#x27;])])</pre></div></div></div><div class=\"sk-parallel\"><div class=\"sk-parallel-item\"><div class=\"sk-item\"><div class=\"sk-label-container\"><div class=\"sk-label sk-toggleable\"><input class=\"sk-toggleable__control sk-hidden--visually\" id=\"sk-estimator-id-46\" type=\"checkbox\" ><label for=\"sk-estimator-id-46\" class=\"sk-toggleable__label sk-toggleable__label-arrow\">target_encoder</label><div class=\"sk-toggleable__content\"><pre>[&#x27;gender&#x27;, &#x27;multiplelines&#x27;, &#x27;internetservice&#x27;, &#x27;onlinesecurity&#x27;, &#x27;onlinebackup&#x27;, &#x27;deviceprotection&#x27;, &#x27;techsupport&#x27;, &#x27;streamingtv&#x27;, &#x27;streamingmovies&#x27;, &#x27;contract&#x27;, &#x27;paymentmethod&#x27;]</pre></div></div></div><div class=\"sk-serial\"><div class=\"sk-item\"><div class=\"sk-estimator sk-toggleable\"><input class=\"sk-toggleable__control sk-hidden--visually\" id=\"sk-estimator-id-47\" type=\"checkbox\" ><label for=\"sk-estimator-id-47\" class=\"sk-toggleable__label sk-toggleable__label-arrow\">TargetEncoder</label><div class=\"sk-toggleable__content\"><pre>TargetEncoder()</pre></div></div></div></div></div></div><div class=\"sk-parallel-item\"><div class=\"sk-item\"><div class=\"sk-label-container\"><div class=\"sk-label sk-toggleable\"><input class=\"sk-toggleable__control sk-hidden--visually\" id=\"sk-estimator-id-48\" type=\"checkbox\" ><label for=\"sk-estimator-id-48\" class=\"sk-toggleable__label sk-toggleable__label-arrow\">remainder</label><div class=\"sk-toggleable__content\"><pre></pre></div></div></div><div class=\"sk-serial\"><div class=\"sk-item\"><div class=\"sk-estimator sk-toggleable\"><input class=\"sk-toggleable__control sk-hidden--visually\" id=\"sk-estimator-id-49\" type=\"checkbox\" ><label for=\"sk-estimator-id-49\" class=\"sk-toggleable__label sk-toggleable__label-arrow\">passthrough</label><div class=\"sk-toggleable__content\"><pre>passthrough</pre></div></div></div></div></div></div></div></div></div></div>"
            ]
          },
          "metadata": {},
          "execution_count": 103
        }
      ],
      "source": [
        "tcat_te = ColumnTransformer(transformers=[('target_encoder', TargetEncoder(), fname_nominal)], remainder='passthrough')\n",
        "tcat_te.set_output(transform='pandas')"
      ]
    },
    {
      "cell_type": "markdown",
      "metadata": {
        "id": "gaXjFQtGDimx"
      },
      "source": [
        "**Etapa final: Pipeline Categórico**"
      ]
    },
    {
      "cell_type": "code",
      "execution_count": null,
      "metadata": {
        "id": "_Z2zmN7LDxQW"
      },
      "outputs": [],
      "source": [
        "steps = [('simple_imputer',  tcat_si),\n",
        "         ('renamer01',    FeaturesRenamer(train_set.columns)),\n",
        "         ('binary_encoder', tcat_bn),\n",
        "         ('renamer02',    FeaturesRenamer(train_set.columns)),\n",
        "         ('target_encoder',  tcat_te),\n",
        "         ('renamer03',    FeaturesRenamer(train_set.columns)),]\n",
        "         \n",
        "pipeline_cat = Pipeline(steps=steps)"
      ]
    },
    {
      "cell_type": "markdown",
      "metadata": {
        "id": "okDI6MVYFC73"
      },
      "source": [
        "##Numerical features"
      ]
    },
    {
      "cell_type": "markdown",
      "metadata": {
        "id": "4jOsk7wbFa6s"
      },
      "source": [
        "**Etapa ##: Nan values:** Imputação"
      ]
    },
    {
      "cell_type": "markdown",
      "metadata": {
        "id": "fXFOLEq6PCVe"
      },
      "source": [
        "No caso de 'totalcharges', prefiro usar SimpleImputer com a mediana como estratégia porque ela não é afetada por outliers."
      ]
    },
    {
      "cell_type": "code",
      "execution_count": null,
      "metadata": {
        "id": "GNtp_QwaNlXH",
        "colab": {
          "base_uri": "https://localhost:8080/",
          "height": 118
        },
        "outputId": "37d49a9d-42b2-4d4d-acc5-7f7f15fd93fd"
      },
      "outputs": [
        {
          "output_type": "execute_result",
          "data": {
            "text/plain": [
              "ColumnTransformer(remainder='passthrough',\n",
              "                  transformers=[('simple_imputer',\n",
              "                                 SimpleImputer(strategy='median'),\n",
              "                                 ['totalcharges'])])"
            ],
            "text/html": [
              "<style>#sk-container-id-10 {color: black;background-color: white;}#sk-container-id-10 pre{padding: 0;}#sk-container-id-10 div.sk-toggleable {background-color: white;}#sk-container-id-10 label.sk-toggleable__label {cursor: pointer;display: block;width: 100%;margin-bottom: 0;padding: 0.3em;box-sizing: border-box;text-align: center;}#sk-container-id-10 label.sk-toggleable__label-arrow:before {content: \"▸\";float: left;margin-right: 0.25em;color: #696969;}#sk-container-id-10 label.sk-toggleable__label-arrow:hover:before {color: black;}#sk-container-id-10 div.sk-estimator:hover label.sk-toggleable__label-arrow:before {color: black;}#sk-container-id-10 div.sk-toggleable__content {max-height: 0;max-width: 0;overflow: hidden;text-align: left;background-color: #f0f8ff;}#sk-container-id-10 div.sk-toggleable__content pre {margin: 0.2em;color: black;border-radius: 0.25em;background-color: #f0f8ff;}#sk-container-id-10 input.sk-toggleable__control:checked~div.sk-toggleable__content {max-height: 200px;max-width: 100%;overflow: auto;}#sk-container-id-10 input.sk-toggleable__control:checked~label.sk-toggleable__label-arrow:before {content: \"▾\";}#sk-container-id-10 div.sk-estimator input.sk-toggleable__control:checked~label.sk-toggleable__label {background-color: #d4ebff;}#sk-container-id-10 div.sk-label input.sk-toggleable__control:checked~label.sk-toggleable__label {background-color: #d4ebff;}#sk-container-id-10 input.sk-hidden--visually {border: 0;clip: rect(1px 1px 1px 1px);clip: rect(1px, 1px, 1px, 1px);height: 1px;margin: -1px;overflow: hidden;padding: 0;position: absolute;width: 1px;}#sk-container-id-10 div.sk-estimator {font-family: monospace;background-color: #f0f8ff;border: 1px dotted black;border-radius: 0.25em;box-sizing: border-box;margin-bottom: 0.5em;}#sk-container-id-10 div.sk-estimator:hover {background-color: #d4ebff;}#sk-container-id-10 div.sk-parallel-item::after {content: \"\";width: 100%;border-bottom: 1px solid gray;flex-grow: 1;}#sk-container-id-10 div.sk-label:hover label.sk-toggleable__label {background-color: #d4ebff;}#sk-container-id-10 div.sk-serial::before {content: \"\";position: absolute;border-left: 1px solid gray;box-sizing: border-box;top: 0;bottom: 0;left: 50%;z-index: 0;}#sk-container-id-10 div.sk-serial {display: flex;flex-direction: column;align-items: center;background-color: white;padding-right: 0.2em;padding-left: 0.2em;position: relative;}#sk-container-id-10 div.sk-item {position: relative;z-index: 1;}#sk-container-id-10 div.sk-parallel {display: flex;align-items: stretch;justify-content: center;background-color: white;position: relative;}#sk-container-id-10 div.sk-item::before, #sk-container-id-10 div.sk-parallel-item::before {content: \"\";position: absolute;border-left: 1px solid gray;box-sizing: border-box;top: 0;bottom: 0;left: 50%;z-index: -1;}#sk-container-id-10 div.sk-parallel-item {display: flex;flex-direction: column;z-index: 1;position: relative;background-color: white;}#sk-container-id-10 div.sk-parallel-item:first-child::after {align-self: flex-end;width: 50%;}#sk-container-id-10 div.sk-parallel-item:last-child::after {align-self: flex-start;width: 50%;}#sk-container-id-10 div.sk-parallel-item:only-child::after {width: 0;}#sk-container-id-10 div.sk-dashed-wrapped {border: 1px dashed gray;margin: 0 0.4em 0.5em 0.4em;box-sizing: border-box;padding-bottom: 0.4em;background-color: white;}#sk-container-id-10 div.sk-label label {font-family: monospace;font-weight: bold;display: inline-block;line-height: 1.2em;}#sk-container-id-10 div.sk-label-container {text-align: center;}#sk-container-id-10 div.sk-container {/* jupyter's `normalize.less` sets `[hidden] { display: none; }` but bootstrap.min.css set `[hidden] { display: none !important; }` so we also need the `!important` here to be able to override the default hidden behavior on the sphinx rendered scikit-learn.org. See: https://github.com/scikit-learn/scikit-learn/issues/21755 */display: inline-block !important;position: relative;}#sk-container-id-10 div.sk-text-repr-fallback {display: none;}</style><div id=\"sk-container-id-10\" class=\"sk-top-container\"><div class=\"sk-text-repr-fallback\"><pre>ColumnTransformer(remainder=&#x27;passthrough&#x27;,\n",
              "                  transformers=[(&#x27;simple_imputer&#x27;,\n",
              "                                 SimpleImputer(strategy=&#x27;median&#x27;),\n",
              "                                 [&#x27;totalcharges&#x27;])])</pre><b>In a Jupyter environment, please rerun this cell to show the HTML representation or trust the notebook. <br />On GitHub, the HTML representation is unable to render, please try loading this page with nbviewer.org.</b></div><div class=\"sk-container\" hidden><div class=\"sk-item sk-dashed-wrapped\"><div class=\"sk-label-container\"><div class=\"sk-label sk-toggleable\"><input class=\"sk-toggleable__control sk-hidden--visually\" id=\"sk-estimator-id-50\" type=\"checkbox\" ><label for=\"sk-estimator-id-50\" class=\"sk-toggleable__label sk-toggleable__label-arrow\">ColumnTransformer</label><div class=\"sk-toggleable__content\"><pre>ColumnTransformer(remainder=&#x27;passthrough&#x27;,\n",
              "                  transformers=[(&#x27;simple_imputer&#x27;,\n",
              "                                 SimpleImputer(strategy=&#x27;median&#x27;),\n",
              "                                 [&#x27;totalcharges&#x27;])])</pre></div></div></div><div class=\"sk-parallel\"><div class=\"sk-parallel-item\"><div class=\"sk-item\"><div class=\"sk-label-container\"><div class=\"sk-label sk-toggleable\"><input class=\"sk-toggleable__control sk-hidden--visually\" id=\"sk-estimator-id-51\" type=\"checkbox\" ><label for=\"sk-estimator-id-51\" class=\"sk-toggleable__label sk-toggleable__label-arrow\">simple_imputer</label><div class=\"sk-toggleable__content\"><pre>[&#x27;totalcharges&#x27;]</pre></div></div></div><div class=\"sk-serial\"><div class=\"sk-item\"><div class=\"sk-estimator sk-toggleable\"><input class=\"sk-toggleable__control sk-hidden--visually\" id=\"sk-estimator-id-52\" type=\"checkbox\" ><label for=\"sk-estimator-id-52\" class=\"sk-toggleable__label sk-toggleable__label-arrow\">SimpleImputer</label><div class=\"sk-toggleable__content\"><pre>SimpleImputer(strategy=&#x27;median&#x27;)</pre></div></div></div></div></div></div><div class=\"sk-parallel-item\"><div class=\"sk-item\"><div class=\"sk-label-container\"><div class=\"sk-label sk-toggleable\"><input class=\"sk-toggleable__control sk-hidden--visually\" id=\"sk-estimator-id-53\" type=\"checkbox\" ><label for=\"sk-estimator-id-53\" class=\"sk-toggleable__label sk-toggleable__label-arrow\">remainder</label><div class=\"sk-toggleable__content\"><pre></pre></div></div></div><div class=\"sk-serial\"><div class=\"sk-item\"><div class=\"sk-estimator sk-toggleable\"><input class=\"sk-toggleable__control sk-hidden--visually\" id=\"sk-estimator-id-54\" type=\"checkbox\" ><label for=\"sk-estimator-id-54\" class=\"sk-toggleable__label sk-toggleable__label-arrow\">passthrough</label><div class=\"sk-toggleable__content\"><pre>passthrough</pre></div></div></div></div></div></div></div></div></div></div>"
            ]
          },
          "metadata": {},
          "execution_count": 105
        }
      ],
      "source": [
        "tnum_si = ColumnTransformer(transformers=[('simple_imputer', SimpleImputer(strategy='median'), ['totalcharges'])], remainder='passthrough')\n",
        "tnum_si.set_output(transform='pandas')"
      ]
    },
    {
      "cell_type": "markdown",
      "metadata": {
        "id": "QLFsdZA8NltE"
      },
      "source": [
        "Os campos NaN de 'tenure' podem ser imputados de uma forma mais inteligente do que simplesmente usar a média ou mediana. Há outros dois atributos que podem me ajudar a realizar essa tarefa, 'totalcharges' e 'monthlycharges'. Basta divir um pelo outro e obtenho o número de meses que um cliente está pagando. Vou encapsular essa imputação em uma classe para poder colocá-la em um pipeline."
      ]
    },
    {
      "cell_type": "code",
      "execution_count": null,
      "metadata": {
        "id": "Z44xJl5VIN5Y",
        "colab": {
          "base_uri": "https://localhost:8080/",
          "height": 118
        },
        "outputId": "981bbecc-b3b1-4c6e-f2ca-e3647d9c8dfc"
      },
      "outputs": [
        {
          "output_type": "execute_result",
          "data": {
            "text/plain": [
              "ColumnTransformer(remainder='passthrough',\n",
              "                  transformers=[('tenure_imputer', TenureImputer(),\n",
              "                                 ['tenure', 'totalcharges', 'monthlycharges'])])"
            ],
            "text/html": [
              "<style>#sk-container-id-5 {color: black;background-color: white;}#sk-container-id-5 pre{padding: 0;}#sk-container-id-5 div.sk-toggleable {background-color: white;}#sk-container-id-5 label.sk-toggleable__label {cursor: pointer;display: block;width: 100%;margin-bottom: 0;padding: 0.3em;box-sizing: border-box;text-align: center;}#sk-container-id-5 label.sk-toggleable__label-arrow:before {content: \"▸\";float: left;margin-right: 0.25em;color: #696969;}#sk-container-id-5 label.sk-toggleable__label-arrow:hover:before {color: black;}#sk-container-id-5 div.sk-estimator:hover label.sk-toggleable__label-arrow:before {color: black;}#sk-container-id-5 div.sk-toggleable__content {max-height: 0;max-width: 0;overflow: hidden;text-align: left;background-color: #f0f8ff;}#sk-container-id-5 div.sk-toggleable__content pre {margin: 0.2em;color: black;border-radius: 0.25em;background-color: #f0f8ff;}#sk-container-id-5 input.sk-toggleable__control:checked~div.sk-toggleable__content {max-height: 200px;max-width: 100%;overflow: auto;}#sk-container-id-5 input.sk-toggleable__control:checked~label.sk-toggleable__label-arrow:before {content: \"▾\";}#sk-container-id-5 div.sk-estimator input.sk-toggleable__control:checked~label.sk-toggleable__label {background-color: #d4ebff;}#sk-container-id-5 div.sk-label input.sk-toggleable__control:checked~label.sk-toggleable__label {background-color: #d4ebff;}#sk-container-id-5 input.sk-hidden--visually {border: 0;clip: rect(1px 1px 1px 1px);clip: rect(1px, 1px, 1px, 1px);height: 1px;margin: -1px;overflow: hidden;padding: 0;position: absolute;width: 1px;}#sk-container-id-5 div.sk-estimator {font-family: monospace;background-color: #f0f8ff;border: 1px dotted black;border-radius: 0.25em;box-sizing: border-box;margin-bottom: 0.5em;}#sk-container-id-5 div.sk-estimator:hover {background-color: #d4ebff;}#sk-container-id-5 div.sk-parallel-item::after {content: \"\";width: 100%;border-bottom: 1px solid gray;flex-grow: 1;}#sk-container-id-5 div.sk-label:hover label.sk-toggleable__label {background-color: #d4ebff;}#sk-container-id-5 div.sk-serial::before {content: \"\";position: absolute;border-left: 1px solid gray;box-sizing: border-box;top: 0;bottom: 0;left: 50%;z-index: 0;}#sk-container-id-5 div.sk-serial {display: flex;flex-direction: column;align-items: center;background-color: white;padding-right: 0.2em;padding-left: 0.2em;position: relative;}#sk-container-id-5 div.sk-item {position: relative;z-index: 1;}#sk-container-id-5 div.sk-parallel {display: flex;align-items: stretch;justify-content: center;background-color: white;position: relative;}#sk-container-id-5 div.sk-item::before, #sk-container-id-5 div.sk-parallel-item::before {content: \"\";position: absolute;border-left: 1px solid gray;box-sizing: border-box;top: 0;bottom: 0;left: 50%;z-index: -1;}#sk-container-id-5 div.sk-parallel-item {display: flex;flex-direction: column;z-index: 1;position: relative;background-color: white;}#sk-container-id-5 div.sk-parallel-item:first-child::after {align-self: flex-end;width: 50%;}#sk-container-id-5 div.sk-parallel-item:last-child::after {align-self: flex-start;width: 50%;}#sk-container-id-5 div.sk-parallel-item:only-child::after {width: 0;}#sk-container-id-5 div.sk-dashed-wrapped {border: 1px dashed gray;margin: 0 0.4em 0.5em 0.4em;box-sizing: border-box;padding-bottom: 0.4em;background-color: white;}#sk-container-id-5 div.sk-label label {font-family: monospace;font-weight: bold;display: inline-block;line-height: 1.2em;}#sk-container-id-5 div.sk-label-container {text-align: center;}#sk-container-id-5 div.sk-container {/* jupyter's `normalize.less` sets `[hidden] { display: none; }` but bootstrap.min.css set `[hidden] { display: none !important; }` so we also need the `!important` here to be able to override the default hidden behavior on the sphinx rendered scikit-learn.org. See: https://github.com/scikit-learn/scikit-learn/issues/21755 */display: inline-block !important;position: relative;}#sk-container-id-5 div.sk-text-repr-fallback {display: none;}</style><div id=\"sk-container-id-5\" class=\"sk-top-container\"><div class=\"sk-text-repr-fallback\"><pre>ColumnTransformer(remainder=&#x27;passthrough&#x27;,\n",
              "                  transformers=[(&#x27;tenure_imputer&#x27;, TenureImputer(),\n",
              "                                 [&#x27;tenure&#x27;, &#x27;totalcharges&#x27;, &#x27;monthlycharges&#x27;])])</pre><b>In a Jupyter environment, please rerun this cell to show the HTML representation or trust the notebook. <br />On GitHub, the HTML representation is unable to render, please try loading this page with nbviewer.org.</b></div><div class=\"sk-container\" hidden><div class=\"sk-item sk-dashed-wrapped\"><div class=\"sk-label-container\"><div class=\"sk-label sk-toggleable\"><input class=\"sk-toggleable__control sk-hidden--visually\" id=\"sk-estimator-id-23\" type=\"checkbox\" ><label for=\"sk-estimator-id-23\" class=\"sk-toggleable__label sk-toggleable__label-arrow\">ColumnTransformer</label><div class=\"sk-toggleable__content\"><pre>ColumnTransformer(remainder=&#x27;passthrough&#x27;,\n",
              "                  transformers=[(&#x27;tenure_imputer&#x27;, TenureImputer(),\n",
              "                                 [&#x27;tenure&#x27;, &#x27;totalcharges&#x27;, &#x27;monthlycharges&#x27;])])</pre></div></div></div><div class=\"sk-parallel\"><div class=\"sk-parallel-item\"><div class=\"sk-item\"><div class=\"sk-label-container\"><div class=\"sk-label sk-toggleable\"><input class=\"sk-toggleable__control sk-hidden--visually\" id=\"sk-estimator-id-24\" type=\"checkbox\" ><label for=\"sk-estimator-id-24\" class=\"sk-toggleable__label sk-toggleable__label-arrow\">tenure_imputer</label><div class=\"sk-toggleable__content\"><pre>[&#x27;tenure&#x27;, &#x27;totalcharges&#x27;, &#x27;monthlycharges&#x27;]</pre></div></div></div><div class=\"sk-serial\"><div class=\"sk-item\"><div class=\"sk-estimator sk-toggleable\"><input class=\"sk-toggleable__control sk-hidden--visually\" id=\"sk-estimator-id-25\" type=\"checkbox\" ><label for=\"sk-estimator-id-25\" class=\"sk-toggleable__label sk-toggleable__label-arrow\">TenureImputer</label><div class=\"sk-toggleable__content\"><pre>TenureImputer()</pre></div></div></div></div></div></div><div class=\"sk-parallel-item\"><div class=\"sk-item\"><div class=\"sk-label-container\"><div class=\"sk-label sk-toggleable\"><input class=\"sk-toggleable__control sk-hidden--visually\" id=\"sk-estimator-id-26\" type=\"checkbox\" ><label for=\"sk-estimator-id-26\" class=\"sk-toggleable__label sk-toggleable__label-arrow\">remainder</label><div class=\"sk-toggleable__content\"><pre></pre></div></div></div><div class=\"sk-serial\"><div class=\"sk-item\"><div class=\"sk-estimator sk-toggleable\"><input class=\"sk-toggleable__control sk-hidden--visually\" id=\"sk-estimator-id-27\" type=\"checkbox\" ><label for=\"sk-estimator-id-27\" class=\"sk-toggleable__label sk-toggleable__label-arrow\">passthrough</label><div class=\"sk-toggleable__content\"><pre>passthrough</pre></div></div></div></div></div></div></div></div></div></div>"
            ]
          },
          "metadata": {},
          "execution_count": 20
        }
      ],
      "source": [
        "class TenureImputer(BaseEstimator, TransformerMixin):\n",
        "  def fit(self, X, y=None):\n",
        "    return self\n",
        "  def fit_transform(self, X, y=None):\n",
        "    self.fit(X, y)\n",
        "    return self.transform(X, y)\n",
        "  def transform(self, X, y=None):\n",
        "    boolean_mask = X['tenure'].isna()\n",
        "    X.loc[boolean_mask, 'tenure'] = round(X['totalcharges'] / X['monthlycharges'])\n",
        "    return X\n",
        "  def get_feature_names_out(self):\n",
        "    pass\n",
        "\n",
        "\n",
        "\n",
        "ct_tenureimputer = ColumnTransformer(transformers=[('tenure_imputer', TenureImputer(), ['tenure', 'totalcharges', 'monthlycharges'])], \n",
        "                                     remainder='passthrough')\n",
        "ct_tenureimputer.set_output(transform='pandas')"
      ]
    },
    {
      "cell_type": "markdown",
      "metadata": {
        "id": "bET7JuNBm1PZ"
      },
      "source": [
        "**Etapa ##: Outliers:** Identificação e substituição pela mediana."
      ]
    },
    {
      "cell_type": "code",
      "execution_count": null,
      "metadata": {
        "id": "0kJoAUl1k8bb",
        "colab": {
          "base_uri": "https://localhost:8080/",
          "height": 118
        },
        "outputId": "6b75353c-ca58-47cc-982c-39697450ec65"
      },
      "outputs": [
        {
          "output_type": "execute_result",
          "data": {
            "text/plain": [
              "ColumnTransformer(remainder='passthrough',\n",
              "                  transformers=[('outliers_replacer', OutliersZScoreReplacer(),\n",
              "                                 ['tenure', 'monthlycharges', 'totalcharges'])])"
            ],
            "text/html": [
              "<style>#sk-container-id-12 {color: black;background-color: white;}#sk-container-id-12 pre{padding: 0;}#sk-container-id-12 div.sk-toggleable {background-color: white;}#sk-container-id-12 label.sk-toggleable__label {cursor: pointer;display: block;width: 100%;margin-bottom: 0;padding: 0.3em;box-sizing: border-box;text-align: center;}#sk-container-id-12 label.sk-toggleable__label-arrow:before {content: \"▸\";float: left;margin-right: 0.25em;color: #696969;}#sk-container-id-12 label.sk-toggleable__label-arrow:hover:before {color: black;}#sk-container-id-12 div.sk-estimator:hover label.sk-toggleable__label-arrow:before {color: black;}#sk-container-id-12 div.sk-toggleable__content {max-height: 0;max-width: 0;overflow: hidden;text-align: left;background-color: #f0f8ff;}#sk-container-id-12 div.sk-toggleable__content pre {margin: 0.2em;color: black;border-radius: 0.25em;background-color: #f0f8ff;}#sk-container-id-12 input.sk-toggleable__control:checked~div.sk-toggleable__content {max-height: 200px;max-width: 100%;overflow: auto;}#sk-container-id-12 input.sk-toggleable__control:checked~label.sk-toggleable__label-arrow:before {content: \"▾\";}#sk-container-id-12 div.sk-estimator input.sk-toggleable__control:checked~label.sk-toggleable__label {background-color: #d4ebff;}#sk-container-id-12 div.sk-label input.sk-toggleable__control:checked~label.sk-toggleable__label {background-color: #d4ebff;}#sk-container-id-12 input.sk-hidden--visually {border: 0;clip: rect(1px 1px 1px 1px);clip: rect(1px, 1px, 1px, 1px);height: 1px;margin: -1px;overflow: hidden;padding: 0;position: absolute;width: 1px;}#sk-container-id-12 div.sk-estimator {font-family: monospace;background-color: #f0f8ff;border: 1px dotted black;border-radius: 0.25em;box-sizing: border-box;margin-bottom: 0.5em;}#sk-container-id-12 div.sk-estimator:hover {background-color: #d4ebff;}#sk-container-id-12 div.sk-parallel-item::after {content: \"\";width: 100%;border-bottom: 1px solid gray;flex-grow: 1;}#sk-container-id-12 div.sk-label:hover label.sk-toggleable__label {background-color: #d4ebff;}#sk-container-id-12 div.sk-serial::before {content: \"\";position: absolute;border-left: 1px solid gray;box-sizing: border-box;top: 0;bottom: 0;left: 50%;z-index: 0;}#sk-container-id-12 div.sk-serial {display: flex;flex-direction: column;align-items: center;background-color: white;padding-right: 0.2em;padding-left: 0.2em;position: relative;}#sk-container-id-12 div.sk-item {position: relative;z-index: 1;}#sk-container-id-12 div.sk-parallel {display: flex;align-items: stretch;justify-content: center;background-color: white;position: relative;}#sk-container-id-12 div.sk-item::before, #sk-container-id-12 div.sk-parallel-item::before {content: \"\";position: absolute;border-left: 1px solid gray;box-sizing: border-box;top: 0;bottom: 0;left: 50%;z-index: -1;}#sk-container-id-12 div.sk-parallel-item {display: flex;flex-direction: column;z-index: 1;position: relative;background-color: white;}#sk-container-id-12 div.sk-parallel-item:first-child::after {align-self: flex-end;width: 50%;}#sk-container-id-12 div.sk-parallel-item:last-child::after {align-self: flex-start;width: 50%;}#sk-container-id-12 div.sk-parallel-item:only-child::after {width: 0;}#sk-container-id-12 div.sk-dashed-wrapped {border: 1px dashed gray;margin: 0 0.4em 0.5em 0.4em;box-sizing: border-box;padding-bottom: 0.4em;background-color: white;}#sk-container-id-12 div.sk-label label {font-family: monospace;font-weight: bold;display: inline-block;line-height: 1.2em;}#sk-container-id-12 div.sk-label-container {text-align: center;}#sk-container-id-12 div.sk-container {/* jupyter's `normalize.less` sets `[hidden] { display: none; }` but bootstrap.min.css set `[hidden] { display: none !important; }` so we also need the `!important` here to be able to override the default hidden behavior on the sphinx rendered scikit-learn.org. See: https://github.com/scikit-learn/scikit-learn/issues/21755 */display: inline-block !important;position: relative;}#sk-container-id-12 div.sk-text-repr-fallback {display: none;}</style><div id=\"sk-container-id-12\" class=\"sk-top-container\"><div class=\"sk-text-repr-fallback\"><pre>ColumnTransformer(remainder=&#x27;passthrough&#x27;,\n",
              "                  transformers=[(&#x27;outliers_replacer&#x27;, OutliersZScoreReplacer(),\n",
              "                                 [&#x27;tenure&#x27;, &#x27;monthlycharges&#x27;, &#x27;totalcharges&#x27;])])</pre><b>In a Jupyter environment, please rerun this cell to show the HTML representation or trust the notebook. <br />On GitHub, the HTML representation is unable to render, please try loading this page with nbviewer.org.</b></div><div class=\"sk-container\" hidden><div class=\"sk-item sk-dashed-wrapped\"><div class=\"sk-label-container\"><div class=\"sk-label sk-toggleable\"><input class=\"sk-toggleable__control sk-hidden--visually\" id=\"sk-estimator-id-60\" type=\"checkbox\" ><label for=\"sk-estimator-id-60\" class=\"sk-toggleable__label sk-toggleable__label-arrow\">ColumnTransformer</label><div class=\"sk-toggleable__content\"><pre>ColumnTransformer(remainder=&#x27;passthrough&#x27;,\n",
              "                  transformers=[(&#x27;outliers_replacer&#x27;, OutliersZScoreReplacer(),\n",
              "                                 [&#x27;tenure&#x27;, &#x27;monthlycharges&#x27;, &#x27;totalcharges&#x27;])])</pre></div></div></div><div class=\"sk-parallel\"><div class=\"sk-parallel-item\"><div class=\"sk-item\"><div class=\"sk-label-container\"><div class=\"sk-label sk-toggleable\"><input class=\"sk-toggleable__control sk-hidden--visually\" id=\"sk-estimator-id-61\" type=\"checkbox\" ><label for=\"sk-estimator-id-61\" class=\"sk-toggleable__label sk-toggleable__label-arrow\">outliers_replacer</label><div class=\"sk-toggleable__content\"><pre>[&#x27;tenure&#x27;, &#x27;monthlycharges&#x27;, &#x27;totalcharges&#x27;]</pre></div></div></div><div class=\"sk-serial\"><div class=\"sk-item\"><div class=\"sk-estimator sk-toggleable\"><input class=\"sk-toggleable__control sk-hidden--visually\" id=\"sk-estimator-id-62\" type=\"checkbox\" ><label for=\"sk-estimator-id-62\" class=\"sk-toggleable__label sk-toggleable__label-arrow\">OutliersZScoreReplacer</label><div class=\"sk-toggleable__content\"><pre>OutliersZScoreReplacer()</pre></div></div></div></div></div></div><div class=\"sk-parallel-item\"><div class=\"sk-item\"><div class=\"sk-label-container\"><div class=\"sk-label sk-toggleable\"><input class=\"sk-toggleable__control sk-hidden--visually\" id=\"sk-estimator-id-63\" type=\"checkbox\" ><label for=\"sk-estimator-id-63\" class=\"sk-toggleable__label sk-toggleable__label-arrow\">remainder</label><div class=\"sk-toggleable__content\"><pre></pre></div></div></div><div class=\"sk-serial\"><div class=\"sk-item\"><div class=\"sk-estimator sk-toggleable\"><input class=\"sk-toggleable__control sk-hidden--visually\" id=\"sk-estimator-id-64\" type=\"checkbox\" ><label for=\"sk-estimator-id-64\" class=\"sk-toggleable__label sk-toggleable__label-arrow\">passthrough</label><div class=\"sk-toggleable__content\"><pre>passthrough</pre></div></div></div></div></div></div></div></div></div></div>"
            ]
          },
          "metadata": {},
          "execution_count": 108
        }
      ],
      "source": [
        "class OutliersZScoreReplacer(BaseEstimator, TransformerMixin):\n",
        "    \"\"\"\n",
        "    Substitui os outliers encontrados pelas medianas de cada atributo.\n",
        "    \"\"\"\n",
        "    def fit(self, X, y=None):\n",
        "        self.mean_std_median = list()\n",
        "        for name in X.columns:\n",
        "            mean   = X[name].mean()\n",
        "            std    = X[name].std()\n",
        "            median = X[name].median()\n",
        "            self.mean_std_median.append((mean, std, median))\n",
        "        return self\n",
        "    def fit_transform(self, X, y=None):\n",
        "        self.fit(X, y)\n",
        "        return self.transform(X, y)\n",
        "    def transform(self, X, y=None):\n",
        "        std_unit = 3\n",
        "        for index, name in enumerate(X.columns):\n",
        "            mean    = self.mean_std_median[index][0]\n",
        "            std     = self.mean_std_median[index][1]\n",
        "            median  = self.mean_std_median[index][2]\n",
        "            scores  = ((X[name] - mean) / std)\n",
        "            filter_mask = ((scores < -std_unit) | (scores > std_unit))\n",
        "            X.loc[filter_mask, name] = -900_000_000\n",
        "        return X\n",
        "    def get_feature_names_out(self):\n",
        "        pass\n",
        "\n",
        "\n",
        "\n",
        "ct_outliers = ColumnTransformer(transformers=[('outliers_replacer', OutliersZScoreReplacer(), fname_numerical)], remainder='passthrough')\n",
        "ct_outliers.set_output(transform='pandas')"
      ]
    },
    {
      "cell_type": "markdown",
      "metadata": {
        "id": "GyMx7ftFLoSj"
      },
      "source": [
        "**Etapa final: Pipeline Numérico**"
      ]
    },
    {
      "cell_type": "code",
      "execution_count": null,
      "metadata": {
        "id": "G7YtnkKGLwyf"
      },
      "outputs": [],
      "source": [
        "steps = [('simple_imputer',   tnum_si),\n",
        "         ('renamer01',        FeaturesRenamer(train_set.columns)),\n",
        "         ('tenure_imputer',   ct_tenureimputer),\n",
        "         ('renamer02',        FeaturesRenamer(train_set.columns)),\n",
        "         ('outliers_remover', ct_outliers),\n",
        "         ('renamer03',        FeaturesRenamer(train_set.columns))]\n",
        "         \n",
        "pipeline_num = Pipeline(steps=steps)"
      ]
    },
    {
      "cell_type": "markdown",
      "metadata": {
        "id": "grLlqh5yMKkQ"
      },
      "source": [
        "##Full pipeline"
      ]
    },
    {
      "cell_type": "markdown",
      "metadata": {
        "id": "o19qq5VVf63e"
      },
      "source": [
        "**Etapa ##: Padronizador**: Vou padronizar todos os atributos, por isso vou adicionar esse transformador diretamente ao pipeline final."
      ]
    },
    {
      "cell_type": "code",
      "execution_count": null,
      "metadata": {
        "id": "mqSBRAL_f63g"
      },
      "outputs": [],
      "source": [
        "cols_names = fname_categorical + fname_numerical\n",
        "\n",
        "tfull_ss = ColumnTransformer(transformers=[('standard_scaler', StandardScaler(), cols_names)], remainder='passthrough')\n",
        "tfull_ss.set_output(transform='pandas')\n",
        "\n",
        "pipeline_std = Pipeline(steps=[('stdardization', tfull_ss),\n",
        "                               ('renamer', FeaturesRenamer(train_set.columns))])"
      ]
    },
    {
      "cell_type": "markdown",
      "metadata": {
        "id": "BgPMociSHLwV"
      },
      "source": [
        "Farei uma copia do conjunto de treinamento sem qualquer transformação para ser usado na validação cruzada personalizada que criarei."
      ]
    },
    {
      "cell_type": "code",
      "execution_count": null,
      "metadata": {
        "id": "sa6Rci1xHWMG"
      },
      "outputs": [],
      "source": [
        "train_set_cv = train_set.copy()"
      ]
    },
    {
      "cell_type": "code",
      "execution_count": null,
      "metadata": {
        "id": "19nQ_YYIMOVm"
      },
      "outputs": [],
      "source": [
        "full_steps = [('categorical',   pipeline_cat),\n",
        "              ('numerical',     pipeline_num),\n",
        "              ('stdardization', pipeline_std),]\n",
        "         \n",
        "full_pipeline = Pipeline(steps=full_steps)\n",
        "train_set = full_pipeline.fit_transform(train_set, train_set[label_name])\n",
        "test_set  = full_pipeline.transform(test_set)"
      ]
    },
    {
      "cell_type": "code",
      "execution_count": null,
      "metadata": {
        "id": "b9Qdvmrbo4MP"
      },
      "outputs": [],
      "source": [
        "y_train = train_set[label_name]\n",
        "y_test  = test_set[label_name]\n",
        "\n",
        "X_train = train_set.drop(label_name, axis=1)\n",
        "X_test = test_set.drop(label_name, axis=1)"
      ]
    },
    {
      "cell_type": "markdown",
      "metadata": {
        "id": "2tB64SJ0lvYe"
      },
      "source": [
        "#Resample"
      ]
    },
    {
      "cell_type": "markdown",
      "metadata": {
        "id": "PuFtP0zul6Dz"
      },
      "source": [
        "Decidi não reequilibrar o conjunto de dados com oversample ou undersample, mas adotar outra estratégia. Nos modelos que fornecerem o atributo 'class_weight' vou definir o mesmo peso para ambas as classes de 'churn'."
      ]
    },
    {
      "cell_type": "markdown",
      "metadata": {
        "id": "GC2gV7v1LJ7R"
      },
      "source": [
        "#Models"
      ]
    },
    {
      "cell_type": "markdown",
      "metadata": {
        "id": "dMWOSWZWlOZ6"
      },
      "source": [
        "Antes de qualquer escolha de modelos ou métricas é preciso pensarmos um pouco a respeito do impacto dos falsos positivos e negativos.\n",
        "\n",
        "*   Falsos positivos são aceitáveis? Dependendo da estratégia da empresa para obter uma retenção de usuários maior, sim, é aceitável. \n",
        "    * O custo desse erro é alto? Acredito que seja o que vai definir se falsos positivos são aceitáveis ou não. Oferecer pacotes de canais de streaming adicionais para usuário que não pretendiam sair não é tão ruim. Isso porque se não houver custo adicional para empresa, o pior que acontecerá será ela deixar de ganhar, ou seja, reduzir o seu faturamento, proporcionalmente à quantidade de falsos positivos. Caso o usuário cancele sua assintura o prejuízo é bem maior.\n",
        "\n",
        "\n",
        "Este modelo precisa ter a melhor precisão possível em conjunto com sensibilidade."
      ]
    },
    {
      "cell_type": "code",
      "execution_count": null,
      "metadata": {
        "id": "IHn-bcZWLTf6"
      },
      "outputs": [],
      "source": [
        "from lightgbm                   import LGBMClassifier\n",
        "from sklearn.base               import clone\n",
        "from sklearn.ensemble           import RandomForestClassifier\n",
        "from sklearn.linear_model       import LinearRegression, LogisticRegression\n",
        "from sklearn.metrics            import auc, classification_report, confusion_matrix, make_scorer, precision_recall_curve, precision_score, recall_score\n",
        "from sklearn.model_selection    import cross_val_predict, RandomizedSearchCV\n",
        "from sklearn.svm                import SVC\n",
        "from sklearn.utils.class_weight import compute_class_weight"
      ]
    },
    {
      "cell_type": "markdown",
      "metadata": {
        "id": "Y-MmaqyksQkw"
      },
      "source": [
        "##Custom functions"
      ]
    },
    {
      "cell_type": "markdown",
      "metadata": {
        "id": "iCmwreCLsi-Y"
      },
      "source": [
        "###Confusion matrix visualization"
      ]
    },
    {
      "cell_type": "code",
      "execution_count": null,
      "metadata": {
        "id": "v2HAhytRslrv"
      },
      "outputs": [],
      "source": [
        "def show_confusion_matrix(confusion_matrix):\n",
        "  cm_matrix = pd.DataFrame(data=confusion_matrix, columns=['Predict Negative:0', 'Predict Positive:1'], \n",
        "                           index=['Actual Negative:0', 'Actual Positive:1'])\n",
        "  fig, ax = plt.subplots()\n",
        "  ax.tick_params(top=True, labeltop=True, bottom=False, labelbottom=False)\n",
        "  sns.heatmap(cm_matrix/np.sum(cm_matrix), annot=True, fmt='.2g', cmap='YlGnBu', ax=ax)\n",
        "  plt.show()"
      ]
    },
    {
      "cell_type": "markdown",
      "metadata": {
        "id": "rahVDf05PR2E"
      },
      "source": [
        "###Custom metric: AUPRC"
      ]
    },
    {
      "cell_type": "markdown",
      "metadata": {
        "id": "Pcb157CfPUxB"
      },
      "source": [
        "Métrica personalizada que eu vou usar no lugar de 'accuracy'. É a área de baixo da curva, mas do gráfico precision/recall. Acredito que seja mais adequada para identificar modelos com boa precisão e sensibilidade levando em conta o desequilíbrio de classes."
      ]
    },
    {
      "cell_type": "code",
      "execution_count": null,
      "metadata": {
        "id": "DpywlzTfPqPN"
      },
      "outputs": [],
      "source": [
        "def auprc_score(y_true, y_pred):\n",
        "  \"\"\"\n",
        "  Calcula a área de baixo da curva do gráfico precision/recall.\n",
        "  \"\"\"\n",
        "  precision, recall, _ = precision_recall_curve(y_true, y_pred)\n",
        "  auprc_score = auc(recall, precision)\n",
        "  return auprc_score\n",
        "\n",
        "\n",
        "\n",
        "auprc = make_scorer(auprc_score)"
      ]
    },
    {
      "cell_type": "markdown",
      "metadata": {
        "id": "5iX0M-Ppk5GH"
      },
      "source": [
        "###Cross validation"
      ]
    },
    {
      "cell_type": "markdown",
      "metadata": {
        "id": "9nmj-PeUlA3M"
      },
      "source": [
        "Vou criar uma função de validação cruzada que evitará vazamento de informação mesmo entre os grupos de treino e validação de cada fold. Além disso, essa função garantirá que estes grupo internos preservem a proporção de classes da label. \n",
        "\n",
        "Como o conjunto é desequilibrado, e não pretendo reequilibrá-lo, não posso confiar na sua acurácia. Também estou mais interessando que o modelo detecte melhor a classe minoritária que corresponde a quem vai cancelar a assinatura. Desse modo, vou calcular a média aritmética da precisão e sensibilidade do modelo em prever a classe positiva e negativa através dos folds. \n",
        "\n",
        "**Obs.** Vou calcular essas métricas da classe negativa apenas para efeito de comparação porque estou mais interessado nas positivas."
      ]
    },
    {
      "cell_type": "code",
      "execution_count": null,
      "metadata": {
        "id": "emT5s3AeljMg"
      },
      "outputs": [],
      "source": [
        "def custom_cross_validation(model, pipe_transformers, dataset, label_name):\n",
        "  skf = StratifiedKFold()\n",
        "  n_splits = skf.get_n_splits(dataset, dataset[label_name])\n",
        "  precision = dict()\n",
        "  recall    = dict()\n",
        "  auprc     = list()\n",
        "  precision['No']  = 0\n",
        "  precision['Yes'] = 0\n",
        "  recall['No']  = 0\n",
        "  recall['Yes'] = 0\n",
        "  for train_indexes, valid_indexes in skf.split(dataset, dataset[label_name]):\n",
        "    train_set = dataset.iloc[train_indexes, :]\n",
        "    valid_set = dataset.iloc[valid_indexes, :]\n",
        "    train_set = train_set.reset_index().drop('index', axis=1)\n",
        "    valid_set = valid_set.reset_index().drop('index', axis=1)\n",
        "    train_set = pipe_transformers.fit_transform(train_set, train_set[label_name])\n",
        "    valid_set = pipe_transformers.transform(valid_set)\n",
        "    y_train = train_set[label_name]\n",
        "    y_valid = valid_set[label_name]\n",
        "    X_train = train_set.drop(label_name, axis=1)\n",
        "    X_valid = valid_set.drop(label_name, axis=1)\n",
        "    model_clone = clone(model)\n",
        "    model_clone.fit(X_train, y_train)\n",
        "    y_pred = model_clone.predict(X_valid)\n",
        "    pr     = precision_score(y_valid, y_pred, average=None)\n",
        "    rc     = recall_score(y_valid, y_pred, average=None)\n",
        "    precision['No']  += pr[0]\n",
        "    precision['Yes'] += pr[1]\n",
        "    recall['No']     += rc[0]\n",
        "    recall['Yes']    += rc[1]\n",
        "    auprc.append(auprc_score(y_valid, y_pred))\n",
        "  print(f'Precision(No) : {(precision[\"No\"] / n_splits):.2f}')\n",
        "  print(f'Precision(Yes): {(precision[\"Yes\"] / n_splits):.2f}')\n",
        "  print(f'Recall(No) : {(recall[\"No\"] / n_splits):.2f}')\n",
        "  print(f'Recall(Yes): {(recall[\"Yes\"] / n_splits):.2f}')\n",
        "  print(f'AUPRC: {(np.sum(auprc) / n_splits):.2f}')"
      ]
    },
    {
      "cell_type": "markdown",
      "metadata": {
        "id": "ZfQweis1SNR1"
      },
      "source": [
        "###Class weight estimation"
      ]
    },
    {
      "cell_type": "code",
      "execution_count": null,
      "metadata": {
        "colab": {
          "base_uri": "https://localhost:8080/"
        },
        "id": "UZKgWxTBSSkd",
        "outputId": "f20ca97f-9535-4e07-c990-5cd5d7319a06"
      },
      "outputs": [
        {
          "output_type": "stream",
          "name": "stdout",
          "text": [
            "{0: 0.6806100875868317, 1: 1.8841973244147157}\n"
          ]
        }
      ],
      "source": [
        "weights = compute_class_weight(class_weight='balanced', classes=np.unique(y_train), y=y_train)\n",
        "class_weights = {0: weights[0], 1:weights[1]}\n",
        "print(class_weights)"
      ]
    },
    {
      "cell_type": "markdown",
      "metadata": {
        "id": "oPW1CN6_pzMe"
      },
      "source": [
        "##Baseline model"
      ]
    },
    {
      "cell_type": "markdown",
      "metadata": {
        "id": "or45UZO4q1qT"
      },
      "source": [
        "Como vou ajustar precision/recall não vou usar nenhum modelo como referência uma vez que mesmo modelos mais simples também podem ser ajustados. Isso faz com que minha referência se torne confusa."
      ]
    },
    {
      "cell_type": "markdown",
      "source": [
        "## Teste inicial dos modelos candidatos"
      ],
      "metadata": {
        "id": "dlkL41lxxmYy"
      }
    },
    {
      "cell_type": "markdown",
      "source": [
        "A primeira etapa é escolher modelos candidatos. Vou testar dois lineares e dois baseados em árvores de decisões. O teste será feito através da minha função custom_cross_validation() que usará a métrica personalizada AUPRC. Os dois modelos com maior pontuação serão eleitos para tunagem de hiperparâmetros. Um critério de desempate será a complexidade do modelo. O mais simples leva vantagem."
      ],
      "metadata": {
        "id": "VgWkllqWwk3L"
      }
    },
    {
      "cell_type": "markdown",
      "metadata": {
        "id": "iuFatBj1tbHK"
      },
      "source": [
        "###LogisticRegression"
      ]
    },
    {
      "cell_type": "code",
      "execution_count": null,
      "metadata": {
        "colab": {
          "base_uri": "https://localhost:8080/"
        },
        "id": "tNoEH77uN6ps",
        "outputId": "07553128-3614-4972-ad35-b9ec57006c38"
      },
      "outputs": [
        {
          "output_type": "stream",
          "name": "stdout",
          "text": [
            "Precision(No) : 0.91\n",
            "Precision(Yes): 0.53\n",
            "Recall(No) : 0.74\n",
            "Recall(Yes): 0.80\n",
            "AUPRC: 0.69\n"
          ]
        }
      ],
      "source": [
        "custom_cross_validation(LogisticRegression(class_weight=class_weights, random_state=42), Pipeline(steps=full_steps), train_set_cv, label_name)"
      ]
    },
    {
      "cell_type": "markdown",
      "metadata": {
        "id": "-zCMWY-tXDCd"
      },
      "source": [
        "###SVC"
      ]
    },
    {
      "cell_type": "code",
      "execution_count": null,
      "metadata": {
        "colab": {
          "base_uri": "https://localhost:8080/"
        },
        "id": "plMSJplqXpc-",
        "outputId": "3e570707-6817-4e26-b8cf-a43103db0c9e"
      },
      "outputs": [
        {
          "output_type": "stream",
          "name": "stdout",
          "text": [
            "Precision(No) : 0.91\n",
            "Precision(Yes): 0.53\n",
            "Recall(No) : 0.74\n",
            "Recall(Yes): 0.79\n",
            "AUPRC: 0.69\n"
          ]
        }
      ],
      "source": [
        "custom_cross_validation(SVC(class_weight=class_weights, random_state=42), Pipeline(steps=full_steps), train_set_cv, label_name)"
      ]
    },
    {
      "cell_type": "markdown",
      "metadata": {
        "id": "Ft2MhCXGsFvj"
      },
      "source": [
        "###RandomForestClassifier"
      ]
    },
    {
      "cell_type": "code",
      "execution_count": null,
      "metadata": {
        "colab": {
          "base_uri": "https://localhost:8080/"
        },
        "id": "UtFZ_9fMOEME",
        "outputId": "4c0ac15c-4a35-485e-d2b6-d2610e538d19"
      },
      "outputs": [
        {
          "output_type": "stream",
          "name": "stdout",
          "text": [
            "Precision(No) : 0.83\n",
            "Precision(Yes): 0.65\n",
            "Recall(No) : 0.90\n",
            "Recall(Yes): 0.50\n",
            "AUPRC: 0.64\n"
          ]
        }
      ],
      "source": [
        "custom_cross_validation(RandomForestClassifier(class_weight=class_weights, random_state=42), Pipeline(steps=full_steps), train_set_cv, label_name)"
      ]
    },
    {
      "cell_type": "markdown",
      "metadata": {
        "id": "UWUc8yKFw4m2"
      },
      "source": [
        "###LightGBM"
      ]
    },
    {
      "cell_type": "code",
      "execution_count": null,
      "metadata": {
        "colab": {
          "base_uri": "https://localhost:8080/"
        },
        "id": "sUL4mKPLzgjW",
        "outputId": "725da89b-ec1d-43af-dbf6-e6e680a94048"
      },
      "outputs": [
        {
          "output_type": "stream",
          "name": "stdout",
          "text": [
            "Precision(No) : 0.89\n",
            "Precision(Yes): 0.55\n",
            "Recall(No) : 0.79\n",
            "Recall(Yes): 0.72\n",
            "AUPRC: 0.67\n"
          ]
        }
      ],
      "source": [
        "custom_cross_validation(LGBMClassifier(class_weight=class_weights, random_state=42), Pipeline(steps=full_steps), train_set_cv, label_name)"
      ]
    },
    {
      "cell_type": "markdown",
      "source": [
        "## Modelos eleitos"
      ],
      "metadata": {
        "id": "XjH8EN3xy1SS"
      }
    },
    {
      "cell_type": "markdown",
      "source": [
        "O três modelos com melhor perfomance na validação cruzada foram os lineares."
      ],
      "metadata": {
        "id": "6dh7_TcHa-PI"
      }
    },
    {
      "cell_type": "markdown",
      "source": [
        "###Logistic Regression"
      ],
      "metadata": {
        "id": "NX6jCyAQzAjK"
      }
    },
    {
      "cell_type": "markdown",
      "metadata": {
        "id": "-X5r_odAzVrs"
      },
      "source": [
        "####RandomizedSearchCV"
      ]
    },
    {
      "cell_type": "code",
      "execution_count": null,
      "metadata": {
        "colab": {
          "base_uri": "https://localhost:8080/"
        },
        "outputId": "6f0a46f3-9c4c-4b3a-b844-0294409328f3",
        "id": "YKx-njAhzVrv"
      },
      "outputs": [
        {
          "output_type": "stream",
          "name": "stdout",
          "text": [
            "Best parameters are: {'random_state': 42, 'penalty': 'l2', 'l1_ratio': 0.3, 'C': 1.04}\n",
            "\n",
            "Test set AUPRC: 0.6925733753325977\n",
            "\n",
            "              precision    recall  f1-score   support\n",
            "\n",
            "         0.0       0.91      0.74      0.82      3311\n",
            "         1.0       0.53      0.80      0.64      1196\n",
            "\n",
            "    accuracy                           0.76      4507\n",
            "   macro avg       0.72      0.77      0.73      4507\n",
            "weighted avg       0.81      0.76      0.77      4507\n",
            "\n"
          ]
        }
      ],
      "source": [
        "params = {'penalty': ['l2', 'none'],\n",
        "          'C': np.arange(1.0, 5.0, 0.01),\n",
        "          'l1_ratio': np.arange(0, 1, 0.01),\n",
        "          'random_state': [42]}\n",
        "\n",
        "rscv = RandomizedSearchCV(LogisticRegression(class_weight=class_weights), params, n_iter=50, cv=5, scoring=auprc, verbose=False, random_state=42)\n",
        "rscv.fit(X_train, y_train)\n",
        "lr_best_rsearch = rscv.best_estimator_\n",
        "\n",
        "print(f'Best parameters are: {rscv.best_params_}\\n')\n",
        "y_pred = lr_best_rsearch.predict(X_train)\n",
        "print(f'Test set AUPRC: {auprc_score(y_train, y_pred)}\\n')\n",
        "print(classification_report(y_train, y_pred))"
      ]
    },
    {
      "cell_type": "markdown",
      "source": [
        "#### Train and Test"
      ],
      "metadata": {
        "id": "t_r5jXdYxfjW"
      }
    },
    {
      "cell_type": "code",
      "source": [
        "lr_best_rsearch.fit(X_train, y_train)\n",
        "\n",
        "y_pred_train = lr_best_rsearch.predict(X_train)\n",
        "y_pred_test  = lr_best_rsearch.predict(X_test)\n",
        "\n",
        "print(f'Train set AUPRC: {auprc_score(y_train, y_pred_train):.2f}')\n",
        "print(f'Test set  AUPRC: {auprc_score(y_test, y_pred_test):.2f}')"
      ],
      "metadata": {
        "colab": {
          "base_uri": "https://localhost:8080/"
        },
        "id": "NG9rx8skva2x",
        "outputId": "87516b0d-7911-4c52-d843-e01588ee3075"
      },
      "execution_count": null,
      "outputs": [
        {
          "output_type": "stream",
          "name": "stdout",
          "text": [
            "Train AUPRC: 0.69\n",
            "Test  AUPRC: 0.69\n"
          ]
        }
      ]
    },
    {
      "cell_type": "markdown",
      "source": [
        "Como o resultado foi o mesmo no conjunto de treinamento e teste posso dizer que não há overfitting."
      ],
      "metadata": {
        "id": "jSS3bo4c6e7s"
      }
    },
    {
      "cell_type": "code",
      "source": [
        "y_scores = cross_val_predict(lr_best_rsearch, X_train, y_train, cv=5, method=\"decision_function\")\n",
        "precisions, recalls, thresholds = precision_recall_curve(y_train, y_scores)\n",
        "\n",
        "precision = 0.9\n",
        "threshold_precision = thresholds[np.argmax(precisions >= precision)]\n",
        "y_train_pred = (y_scores >= threshold_precision)\n",
        "\n",
        "print(classification_report(y_train, y_train_pred))\n",
        "show_confusion_matrix(confusion_matrix(y_train, y_train_pred))"
      ],
      "metadata": {
        "id": "Yjj9JHLKyjQ-",
        "colab": {
          "base_uri": "https://localhost:8080/",
          "height": 438
        },
        "outputId": "4d6fa131-d17c-4236-de42-6327ce4b5225"
      },
      "execution_count": null,
      "outputs": [
        {
          "output_type": "stream",
          "name": "stdout",
          "text": [
            "              precision    recall  f1-score   support\n",
            "\n",
            "         0.0       0.74      1.00      0.85      3311\n",
            "         1.0       0.93      0.01      0.02      1196\n",
            "\n",
            "    accuracy                           0.74      4507\n",
            "   macro avg       0.83      0.51      0.43      4507\n",
            "weighted avg       0.79      0.74      0.63      4507\n",
            "\n"
          ]
        },
        {
          "output_type": "display_data",
          "data": {
            "text/plain": [
              "<Figure size 432x288 with 2 Axes>"
            ],
            "image/png": "[encoded data removed]"
          },
          "metadata": {}
        }
      ]
    },
    {
      "cell_type": "markdown",
      "source": [
        "De acordo com a matriz de confução acima podemos concluir que este modelo está identificando com maior precisão quem pretende cancelar a sua assinatura do que aqueles que pretendem continuar assinantes. A taxa de falsos positivos é de 26%, ou seja, essa é a proporção de assinantes que estão felizes com a empresa e não têm intenção sair são identificados como potenciais canceladores da assinatura. A redução de receita será proporcional a esse valor dependendo das estratégias adotadas para manter o cliente.\n",
        "\n",
        "Daqueles que cancelaram suas assinaturas, 93% foram identificados corretamente. É possível aumentar ainda mais essa taxa, mas ao custo de mais falsos positivos."
      ],
      "metadata": {
        "id": "pVjeTSRKeD8h"
      }
    },
    {
      "cell_type": "markdown",
      "source": [
        "Vejamos agora como o modelo se sai com dados que ele nunca viu."
      ],
      "metadata": {
        "id": "-6yxNffaAuJ7"
      }
    },
    {
      "cell_type": "code",
      "source": [
        "y_probas = lr_best_rsearch.predict_proba(X_test)\n",
        "y_scores = y_probas[:, 1]\n",
        "\n",
        "precisions, recalls, thresholds = precision_recall_curve(y_test, y_scores)\n",
        "\n",
        "precision = 0.9\n",
        "threshold_precision = thresholds[np.argmax(precisions >= precision)]\n",
        "y_train_pred = (y_scores >= threshold_precision)\n",
        "\n",
        "print(classification_report(y_test, y_train_pred))\n",
        "show_confusion_matrix(confusion_matrix(y_test, y_train_pred))"
      ],
      "metadata": {
        "colab": {
          "base_uri": "https://localhost:8080/",
          "height": 438
        },
        "id": "TEm8kclLAMNi",
        "outputId": "143eac7d-2531-403c-d43b-53a327def231"
      },
      "execution_count": null,
      "outputs": [
        {
          "output_type": "stream",
          "name": "stdout",
          "text": [
            "              precision    recall  f1-score   support\n",
            "\n",
            "         0.0       0.77      0.99      0.87       828\n",
            "         1.0       0.91      0.20      0.33       299\n",
            "\n",
            "    accuracy                           0.78      1127\n",
            "   macro avg       0.84      0.60      0.60      1127\n",
            "weighted avg       0.81      0.78      0.73      1127\n",
            "\n"
          ]
        },
        {
          "output_type": "display_data",
          "data": {
            "text/plain": [
              "<Figure size 432x288 with 2 Axes>"
            ],
            "image/png": "[encoded data removed]"
          },
          "metadata": {}
        }
      ]
    },
    {
      "cell_type": "markdown",
      "source": [
        "Gostei, pois ele aumentou mais a taxa de veridadeiros negativos, de 74% para 77% e não diminuiu tanto a taxa de verdadeiros positivos, de 93% para 91%."
      ],
      "metadata": {
        "id": "MLdno0_pA3jI"
      }
    },
    {
      "cell_type": "markdown",
      "source": [
        "###LGBMClassifier"
      ],
      "metadata": {
        "id": "mG7kGAT-zENj"
      }
    },
    {
      "cell_type": "markdown",
      "metadata": {
        "id": "LXKvIE3_zeVm"
      },
      "source": [
        "####RandomizedSearchCV"
      ]
    },
    {
      "cell_type": "code",
      "execution_count": null,
      "metadata": {
        "colab": {
          "base_uri": "https://localhost:8080/"
        },
        "outputId": "e032a597-6582-4b67-c54f-210bc55749a3",
        "id": "Y8W7McOkzeVp"
      },
      "outputs": [
        {
          "output_type": "stream",
          "name": "stdout",
          "text": [
            "Best parameters are: {'verbosity': 0, 'objective': 'binary', 'num_leaves': 2, 'num_iterations': 19, 'num_estimators': 900, 'max_depth': 34, 'max_bin': 7, 'learning_rate': 0.5509999999999999, 'lambda_l1': 0.46, 'feature_fraction': 0.001, 'eval_metric': 'logloss', 'early_stopping_round': 6, 'boosting': 'dart', 'bagging_freq': 20, 'bagging_fraction': 0.49099999999999994}\n",
            "\n",
            "Test set AUPRC: 0.6844147509661389\n",
            "\n",
            "              precision    recall  f1-score   support\n",
            "\n",
            "         0.0       0.91      0.71      0.80      3311\n",
            "         1.0       0.50      0.82      0.62      1196\n",
            "\n",
            "    accuracy                           0.74      4507\n",
            "   macro avg       0.71      0.76      0.71      4507\n",
            "weighted avg       0.81      0.74      0.75      4507\n",
            "\n"
          ]
        }
      ],
      "source": [
        "params = {'num_estimators': np.arange(100, 1000, 100),\n",
        "          'num_iterations': np.arange(1, 20, 2),\n",
        "          'objective': ['binary'],\n",
        "          'eval_metric': ['logloss'],\n",
        "          'boosting': ['gbdt', 'rf', 'dart'],\n",
        "          'lambda_l1': np.arange(0, 0.5, 0.01),\n",
        "          'bagging_fraction': np.arange(0.001, 1, 0.01),\n",
        "          'bagging_freq': np.arange(2, 50, 2),\n",
        "          'num_leaves': np.arange(2, 50, 5),\n",
        "          'feature_fraction': np.arange(0.001, 1, 0.01),\n",
        "          'max_depth':  np.arange(-1, 50, 5),\n",
        "          'max_bin': np.arange(5, 10, 2),\n",
        "          'learning_rate': np.arange(0.001, 1, 0.01),\n",
        "          'early_stopping_round': np.arange(5, 10, 1),\n",
        "          'bagging_freq': np.arange(0, 50, 5),\n",
        "          'verbosity': [0]}\n",
        "\n",
        "rscv = RandomizedSearchCV(LGBMClassifier(class_weight=class_weights, random_state=42), params, n_iter=50, cv=5, scoring=auprc, verbose=False, random_state=42)\n",
        "rscv.fit(X_train, y_train)\n",
        "lgbm_best_bayes = rscv.best_estimator_\n",
        "\n",
        "print(f'Best parameters are: {rscv.best_params_}\\n')\n",
        "y_pred = lgbm_best_bayes.predict(X_train)\n",
        "print(f'Test set AUPRC: {auprc_score(y_train, y_pred)}\\n')\n",
        "print(classification_report(y_train, y_pred))"
      ]
    },
    {
      "cell_type": "markdown",
      "source": [
        "#### Train and Test"
      ],
      "metadata": {
        "id": "LP2jYWDixVAv"
      }
    },
    {
      "cell_type": "code",
      "source": [
        "lgbm_best_bayes.fit(X_train, y_train)\n",
        "\n",
        "y_pred_train = lgbm_best_bayes.predict(X_train)\n",
        "y_pred_test  = lgbm_best_bayes.predict(X_test)\n",
        "\n",
        "print(f'Train set AUPRC: {auprc_score(y_train, y_pred_train):.2f}')\n",
        "print(f'Test set  AUPRC: {auprc_score(y_test, y_pred_test):.2f}')"
      ],
      "metadata": {
        "colab": {
          "base_uri": "https://localhost:8080/"
        },
        "id": "FWY1bYSawalX",
        "outputId": "acbb3ce6-fca4-4858-f3e9-3bbf17ce5621"
      },
      "execution_count": null,
      "outputs": [
        {
          "output_type": "stream",
          "name": "stdout",
          "text": [
            "Train set AUPRC: 0.68\n",
            "Test set  AUPRC: 0.67\n"
          ]
        }
      ]
    },
    {
      "cell_type": "markdown",
      "source": [
        "Neste caso há um pouco de overfitting pois o modelo não se saiu tão bem com dados que ele nunca viu. Uma solução seria diminuir ainda mais os graus de liberdade dele, mas prefiro focar em achar um bom equilíbrio entre precision/recall."
      ],
      "metadata": {
        "id": "4iNWMGh67J-z"
      }
    },
    {
      "cell_type": "code",
      "source": [
        "y_probas = cross_val_predict(lgbm_best_bayes, X_train, y_train, cv=5, method=\"predict_proba\")\n",
        "y_scores = y_probas[:, 1]\n",
        "\n",
        "precisions, recalls, thresholds = precision_recall_curve(y_train, y_scores)\n",
        "\n",
        "precision = 0.9\n",
        "threshold_precision = thresholds[np.argmax(precisions >= precision)]\n",
        "y_train_pred = (y_scores >= threshold_precision)\n",
        "\n",
        "print(classification_report(y_train, y_train_pred))\n",
        "show_confusion_matrix(confusion_matrix(y_train, y_train_pred))"
      ],
      "metadata": {
        "colab": {
          "base_uri": "https://localhost:8080/",
          "height": 446
        },
        "id": "a6Ll78dXeTdg",
        "outputId": "21e9559a-54c6-435a-8054-3c1a8ba60465"
      },
      "execution_count": null,
      "outputs": [
        {
          "output_type": "stream",
          "name": "stdout",
          "text": [
            "              precision    recall  f1-score   support\n",
            "\n",
            "         0.0       0.73      1.00      0.85      3311\n",
            "         1.0       1.00      0.00      0.00      1196\n",
            "\n",
            "    accuracy                           0.73      4507\n",
            "   macro avg       0.87      0.50      0.42      4507\n",
            "weighted avg       0.81      0.73      0.62      4507\n",
            "\n"
          ]
        },
        {
          "output_type": "display_data",
          "data": {
            "text/plain": [
              "<Figure size 432x288 with 2 Axes>"
            ],
            "image/png": "[encoded data removed]"
          },
          "metadata": {}
        }
      ]
    },
    {
      "cell_type": "markdown",
      "source": [
        "Este modelo alcançou 100% de identificações corretas ao custo de aumentar um pouco a taxa de falos positivos. O modelo de regressão logística alcançou 26% de falsos positivos, este teve 27%."
      ],
      "metadata": {
        "id": "NVQ1N7i5-_R5"
      }
    },
    {
      "cell_type": "markdown",
      "source": [
        "Vejamos a precisão do modelo com dados que ele nunca viu."
      ],
      "metadata": {
        "id": "78Yqh6xSBaJ7"
      }
    },
    {
      "cell_type": "code",
      "source": [
        "y_probas = lgbm_best_bayes.predict_proba(X_test)\n",
        "y_scores = y_probas[:, 1]\n",
        "\n",
        "precisions, recalls, thresholds = precision_recall_curve(y_test, y_scores)\n",
        "\n",
        "precision = 0.9\n",
        "threshold_precision = thresholds[np.argmax(precisions >= precision)]\n",
        "y_train_pred = (y_scores >= threshold_precision)\n",
        "\n",
        "print(classification_report(y_test, y_train_pred))\n",
        "show_confusion_matrix(confusion_matrix(y_test, y_train_pred))"
      ],
      "metadata": {
        "colab": {
          "base_uri": "https://localhost:8080/",
          "height": 438
        },
        "id": "jXmNjEh0_2La",
        "outputId": "f092a5f4-6d79-438e-ee98-15cc9529126f"
      },
      "execution_count": null,
      "outputs": [
        {
          "output_type": "stream",
          "name": "stdout",
          "text": [
            "              precision    recall  f1-score   support\n",
            "\n",
            "         0.0       0.76      1.00      0.86       828\n",
            "         1.0       0.90      0.12      0.22       299\n",
            "\n",
            "    accuracy                           0.76      1127\n",
            "   macro avg       0.83      0.56      0.54      1127\n",
            "weighted avg       0.80      0.76      0.69      1127\n",
            "\n"
          ]
        },
        {
          "output_type": "display_data",
          "data": {
            "text/plain": [
              "<Figure size 432x288 with 2 Axes>"
            ],
            "image/png": "[encoded data removed]"
          },
          "metadata": {}
        }
      ]
    },
    {
      "cell_type": "markdown",
      "source": [
        "Neste caso a diferença foi maior. Ele aumentou a precisão de verdadeiros negativos de 73% para 76% e diminuiu bastante a taxa de verdadeiros positivos. Neste caso o modelo foi de 100% para 90%."
      ],
      "metadata": {
        "id": "QohmVVfLBwR9"
      }
    },
    {
      "cell_type": "markdown",
      "source": [
        "Isso faz com que o modelo linear, LogisticRegression seja o vencedor."
      ],
      "metadata": {
        "id": "8GZH5MOtCPt7"
      }
    }
  ],
  "metadata": {
    "colab": {
      "provenance": [],
      "authorship_tag": "ABX9TyMoLIgj/0IHMB+obC612JLT",
      "include_colab_link": true
    },
    "kernelspec": {
      "display_name": "Python 3",
      "name": "python3"
    },
    "language_info": {
      "name": "python"
    }
  },
  "nbformat": 4,
  "nbformat_minor": 0
}