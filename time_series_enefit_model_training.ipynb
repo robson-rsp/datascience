{
  "cells": [
    {
      "cell_type": "code",
      "execution_count": 1,
      "metadata": {
        "colab": {
          "base_uri": "https://localhost:8080/"
        },
        "id": "x-iZwYZKWYtW",
        "outputId": "f738c0a4-8ff0-4ce5-ccf2-9a54880cd782"
      },
      "outputs": [
        {
          "output_type": "stream",
          "name": "stdout",
          "text": [
            "Collecting ipython-autotime\n",
            "  Downloading ipython_autotime-0.3.2-py2.py3-none-any.whl (7.0 kB)\n",
            "Requirement already satisfied: ipython in /usr/local/lib/python3.10/dist-packages (from ipython-autotime) (7.34.0)\n",
            "Requirement already satisfied: setuptools>=18.5 in /usr/local/lib/python3.10/dist-packages (from ipython->ipython-autotime) (67.7.2)\n",
            "Collecting jedi>=0.16 (from ipython->ipython-autotime)\n",
            "  Downloading jedi-0.19.1-py2.py3-none-any.whl (1.6 MB)\n",
            "\u001b[2K     \u001b[90m━━━━━━━━━━━━━━━━━━━━━━━━━━━━━━━━━━━━━━━━\u001b[0m \u001b[32m1.6/1.6 MB\u001b[0m \u001b[31m9.4 MB/s\u001b[0m eta \u001b[36m0:00:00\u001b[0m\n",
            "\u001b[?25hRequirement already satisfied: decorator in /usr/local/lib/python3.10/dist-packages (from ipython->ipython-autotime) (4.4.2)\n",
            "Requirement already satisfied: pickleshare in /usr/local/lib/python3.10/dist-packages (from ipython->ipython-autotime) (0.7.5)\n",
            "Requirement already satisfied: traitlets>=4.2 in /usr/local/lib/python3.10/dist-packages (from ipython->ipython-autotime) (5.7.1)\n",
            "Requirement already satisfied: prompt-toolkit!=3.0.0,!=3.0.1,<3.1.0,>=2.0.0 in /usr/local/lib/python3.10/dist-packages (from ipython->ipython-autotime) (3.0.43)\n",
            "Requirement already satisfied: pygments in /usr/local/lib/python3.10/dist-packages (from ipython->ipython-autotime) (2.16.1)\n",
            "Requirement already satisfied: backcall in /usr/local/lib/python3.10/dist-packages (from ipython->ipython-autotime) (0.2.0)\n",
            "Requirement already satisfied: matplotlib-inline in /usr/local/lib/python3.10/dist-packages (from ipython->ipython-autotime) (0.1.6)\n",
            "Requirement already satisfied: pexpect>4.3 in /usr/local/lib/python3.10/dist-packages (from ipython->ipython-autotime) (4.9.0)\n",
            "Requirement already satisfied: parso<0.9.0,>=0.8.3 in /usr/local/lib/python3.10/dist-packages (from jedi>=0.16->ipython->ipython-autotime) (0.8.3)\n",
            "Requirement already satisfied: ptyprocess>=0.5 in /usr/local/lib/python3.10/dist-packages (from pexpect>4.3->ipython->ipython-autotime) (0.7.0)\n",
            "Requirement already satisfied: wcwidth in /usr/local/lib/python3.10/dist-packages (from prompt-toolkit!=3.0.0,!=3.0.1,<3.1.0,>=2.0.0->ipython->ipython-autotime) (0.2.13)\n",
            "Installing collected packages: jedi, ipython-autotime\n",
            "Successfully installed ipython-autotime-0.3.2 jedi-0.19.1\n"
          ]
        }
      ],
      "source": [
        "#%%script echo 'ignore cell'\n",
        "%pip install ipython-autotime"
      ]
    },
    {
      "cell_type": "code",
      "execution_count": 2,
      "metadata": {
        "colab": {
          "base_uri": "https://localhost:8080/"
        },
        "id": "xF_Ac9eBWlFM",
        "outputId": "732d84d7-5672-4a8e-c76c-689ec86e8268"
      },
      "outputs": [
        {
          "output_type": "stream",
          "name": "stdout",
          "text": [
            "Mounted at /content/drive\n",
            "time: 630 µs (started: 2024-04-03 23:30:42 +00:00)\n"
          ]
        }
      ],
      "source": [
        "from google.colab import drive, files\n",
        "\n",
        "import pandas as pd\n",
        "import numpy  as np\n",
        "import warnings\n",
        "\n",
        "drive.mount('/content/drive', force_remount=True)\n",
        "\n",
        "warnings.filterwarnings('ignore')\n",
        "%load_ext autotime"
      ]
    },
    {
      "cell_type": "code",
      "execution_count": 4,
      "metadata": {
        "colab": {
          "base_uri": "https://localhost:8080/"
        },
        "id": "dIUfysUVWtaK",
        "outputId": "cb6ca49f-c01c-433c-81a5-7ec48366ce38"
      },
      "outputs": [
        {
          "output_type": "stream",
          "name": "stdout",
          "text": [
            "time: 14.3 s (started: 2024-04-03 23:30:44 +00:00)\n"
          ]
        }
      ],
      "source": [
        "train = pd.read_parquet('drive/MyDrive/Colab Notebooks/datasets/enefit/custom/train_featured_full.parquet')\n",
        "test  = pd.read_parquet('drive/MyDrive/Colab Notebooks/datasets/enefit/custom/test_featured_full.parquet')"
      ]
    },
    {
      "cell_type": "code",
      "execution_count": 6,
      "metadata": {
        "colab": {
          "base_uri": "https://localhost:8080/"
        },
        "id": "mHaAALznh_Bv",
        "outputId": "a6196d51-2fa5-4f68-9bd3-bc0fc3520ab5"
      },
      "outputs": [
        {
          "output_type": "stream",
          "name": "stdout",
          "text": [
            "time: 1.24 s (started: 2024-04-03 23:31:50 +00:00)\n"
          ]
        }
      ],
      "source": [
        "reference = train[['puid', 'cons', 'prod', 'dt']]\n",
        "train.drop(['puid', 'cons', 'prod', 'dt'], axis=1, inplace=True)\n",
        "test.drop(['puid', 'cons', 'prod', 'dt'], axis=1, inplace=True)"
      ]
    },
    {
      "cell_type": "code",
      "execution_count": 7,
      "metadata": {
        "colab": {
          "base_uri": "https://localhost:8080/"
        },
        "id": "zTbF7tw2XPA2",
        "outputId": "202e449e-576f-4de6-a9fd-32da22e60ea3"
      },
      "outputs": [
        {
          "output_type": "stream",
          "name": "stdout",
          "text": [
            "time: 1.09 s (started: 2024-04-03 23:32:06 +00:00)\n"
          ]
        }
      ],
      "source": [
        "label = ['consumption', 'production']\n",
        "y_train = train[label]\n",
        "X_train = train.drop(label, axis=1)\n",
        "\n",
        "y_test = test[label]\n",
        "X_test = test.drop(label, axis=1)"
      ]
    },
    {
      "cell_type": "code",
      "execution_count": null,
      "metadata": {
        "colab": {
          "base_uri": "https://localhost:8080/"
        },
        "id": "o16ybD8eUhp2",
        "outputId": "099dae6d-d8e4-4dcc-9983-e9f4bc08cb65"
      },
      "outputs": [
        {
          "name": "stdout",
          "output_type": "stream",
          "text": [
            "time: 807 ms (started: 2024-04-03 18:01:31 +00:00)\n"
          ]
        }
      ],
      "source": [
        "from sklearn.preprocessing import StandardScaler, MinMaxScaler\n",
        "\n",
        "ss = StandardScaler()\n",
        "y_train = ss.fit_transform(y_train)"
      ]
    },
    {
      "cell_type": "markdown",
      "metadata": {
        "id": "fiMXqOsrWvE2"
      },
      "source": [
        "# Model Training"
      ]
    },
    {
      "cell_type": "code",
      "execution_count": 11,
      "metadata": {
        "colab": {
          "base_uri": "https://localhost:8080/",
          "height": 94
        },
        "id": "jHHx9OKoi4mb",
        "outputId": "cb7c5c95-9645-49bd-e708-e9ab43d70cfe"
      },
      "outputs": [
        {
          "output_type": "execute_result",
          "data": {
            "text/plain": [
              "[(0.12156862745098039, 0.4666666666666667, 0.7058823529411765),\n",
              " (1.0, 0.4980392156862745, 0.054901960784313725),\n",
              " (0.17254901960784313, 0.6274509803921569, 0.17254901960784313),\n",
              " (0.8392156862745098, 0.15294117647058825, 0.1568627450980392),\n",
              " (0.5803921568627451, 0.403921568627451, 0.7411764705882353),\n",
              " (0.5490196078431373, 0.33725490196078434, 0.29411764705882354),\n",
              " (0.8901960784313725, 0.4666666666666667, 0.7607843137254902),\n",
              " (0.4980392156862745, 0.4980392156862745, 0.4980392156862745),\n",
              " (0.7372549019607844, 0.7411764705882353, 0.13333333333333333),\n",
              " (0.09019607843137255, 0.7450980392156863, 0.8117647058823529)]"
            ],
            "text/html": [
              "<svg  width=\"550\" height=\"55\"><rect x=\"0\" y=\"0\" width=\"55\" height=\"55\" style=\"fill:#1f77b4;stroke-width:2;stroke:rgb(255,255,255)\"/><rect x=\"55\" y=\"0\" width=\"55\" height=\"55\" style=\"fill:#ff7f0e;stroke-width:2;stroke:rgb(255,255,255)\"/><rect x=\"110\" y=\"0\" width=\"55\" height=\"55\" style=\"fill:#2ca02c;stroke-width:2;stroke:rgb(255,255,255)\"/><rect x=\"165\" y=\"0\" width=\"55\" height=\"55\" style=\"fill:#d62728;stroke-width:2;stroke:rgb(255,255,255)\"/><rect x=\"220\" y=\"0\" width=\"55\" height=\"55\" style=\"fill:#9467bd;stroke-width:2;stroke:rgb(255,255,255)\"/><rect x=\"275\" y=\"0\" width=\"55\" height=\"55\" style=\"fill:#8c564b;stroke-width:2;stroke:rgb(255,255,255)\"/><rect x=\"330\" y=\"0\" width=\"55\" height=\"55\" style=\"fill:#e377c2;stroke-width:2;stroke:rgb(255,255,255)\"/><rect x=\"385\" y=\"0\" width=\"55\" height=\"55\" style=\"fill:#7f7f7f;stroke-width:2;stroke:rgb(255,255,255)\"/><rect x=\"440\" y=\"0\" width=\"55\" height=\"55\" style=\"fill:#bcbd22;stroke-width:2;stroke:rgb(255,255,255)\"/><rect x=\"495\" y=\"0\" width=\"55\" height=\"55\" style=\"fill:#17becf;stroke-width:2;stroke:rgb(255,255,255)\"/></svg>"
            ]
          },
          "metadata": {},
          "execution_count": 11
        },
        {
          "output_type": "stream",
          "name": "stdout",
          "text": [
            "time: 975 ms (started: 2024-04-03 23:32:51 +00:00)\n"
          ]
        }
      ],
      "source": [
        "import matplotlib.pyplot as plt\n",
        "import seaborn as sns\n",
        "\n",
        "%matplotlib inline\n",
        "colors = sns.color_palette()\n",
        "colors"
      ]
    },
    {
      "cell_type": "code",
      "execution_count": 12,
      "metadata": {
        "colab": {
          "base_uri": "https://localhost:8080/"
        },
        "id": "7Uv4oQflW_j2",
        "outputId": "48bf76e3-0a38-451a-fa9a-d2c2b4c782bb"
      },
      "outputs": [
        {
          "output_type": "stream",
          "name": "stdout",
          "text": [
            "time: 2 s (started: 2024-04-03 23:32:58 +00:00)\n"
          ]
        }
      ],
      "source": [
        "from sklearn.ensemble     import ExtraTreesRegressor\n",
        "from sklearn.linear_model import ElasticNet\n",
        "from sklearn.metrics      import mean_absolute_error\n",
        "from sklearn.multioutput  import MultiOutputRegressor\n",
        "from sklearn.tree         import DecisionTreeRegressor\n",
        "\n",
        "import lightgbm as lgb"
      ]
    },
    {
      "cell_type": "code",
      "source": [
        "def mae(model, X_train, y_train, X_test, y_test):\n",
        "  y_pred = model.predict(X_train)\n",
        "  print(f'Train MAE: {mean_absolute_error(y_train, y_pred)}')\n",
        "\n",
        "  y_pred = model.predict(X_test)\n",
        "  print(f'Test  MAE: {mean_absolute_error(y_test, y_pred)}')"
      ],
      "metadata": {
        "colab": {
          "base_uri": "https://localhost:8080/"
        },
        "id": "tclGepB-T3Im",
        "outputId": "2e0c6e4f-b82c-4dfa-88af-7719fdcdbb57"
      },
      "execution_count": 18,
      "outputs": [
        {
          "output_type": "stream",
          "name": "stdout",
          "text": [
            "time: 1.07 ms (started: 2024-04-03 23:37:49 +00:00)\n"
          ]
        }
      ]
    },
    {
      "cell_type": "markdown",
      "metadata": {
        "id": "xdQ5jpCui73E"
      },
      "source": [
        "## ElasticNet"
      ]
    },
    {
      "cell_type": "code",
      "execution_count": 17,
      "metadata": {
        "colab": {
          "base_uri": "https://localhost:8080/"
        },
        "id": "jC5EPzupXNSP",
        "outputId": "8521d961-c229-411a-e306-99d79373b66a"
      },
      "outputs": [
        {
          "output_type": "stream",
          "name": "stdout",
          "text": [
            "Train MAE: 0.30158487505137743\n",
            "Test MAE:  0.6243679245253075\n",
            "time: 13.7 s (started: 2024-04-03 23:37:09 +00:00)\n"
          ]
        }
      ],
      "source": [
        "#%%script echo 'ignore cell'\n",
        "en = ElasticNet()\n",
        "en.fit(X_train, y_train)\n",
        "mae(en, X_train, y_train, X_test, y_test)"
      ]
    },
    {
      "cell_type": "markdown",
      "metadata": {
        "id": "QuK_LHEuHgFm"
      },
      "source": [
        "## DecisionTreeRegressor"
      ]
    },
    {
      "cell_type": "code",
      "execution_count": 30,
      "metadata": {
        "colab": {
          "base_uri": "https://localhost:8080/"
        },
        "id": "CH1zR_fzHiQu",
        "outputId": "e241412e-b9cb-4c72-8b72-4e744bb81e34"
      },
      "outputs": [
        {
          "output_type": "stream",
          "name": "stdout",
          "text": [
            "Train MAE: 0.10611542889729038\n",
            "Test  MAE: 0.27583246148235285\n",
            "time: 2min 25s (started: 2024-04-04 00:37:46 +00:00)\n"
          ]
        }
      ],
      "source": [
        "#%%script echo 'ignore cell'\n",
        "dr = DecisionTreeRegressor(max_depth=5, max_leaf_nodes=20)\n",
        "dr.fit(X_train, y_train)\n",
        "mae(dr, X_train, y_train, X_test, y_test)"
      ]
    },
    {
      "cell_type": "markdown",
      "metadata": {
        "id": "2CL7-JlckV0j"
      },
      "source": [
        "## ExtraTreesRegressor"
      ]
    },
    {
      "cell_type": "code",
      "execution_count": 23,
      "metadata": {
        "colab": {
          "base_uri": "https://localhost:8080/"
        },
        "id": "S4lV6obTkZRR",
        "outputId": "7f4aa950-1340-4c85-968f-599096fd2abb"
      },
      "outputs": [
        {
          "output_type": "stream",
          "name": "stdout",
          "text": [
            "Train MAE: 1.0158540934604254e-17\n",
            "Test  MAE: 0.1959169580553752\n",
            "time: 11min 55s (started: 2024-04-04 00:08:25 +00:00)\n"
          ]
        }
      ],
      "source": [
        "#%%script echo 'ignore cell'\n",
        "et = ExtraTreesRegressor(n_estimators=5)\n",
        "et.fit(X_train, y_train)\n",
        "mae(et, X_train, y_train, X_test, y_test)"
      ]
    },
    {
      "cell_type": "markdown",
      "metadata": {
        "id": "jgVzq1o9Rsor"
      },
      "source": [
        "# LGBMRegressor"
      ]
    },
    {
      "cell_type": "code",
      "execution_count": 19,
      "metadata": {
        "colab": {
          "base_uri": "https://localhost:8080/"
        },
        "id": "vzWGsE_zRvDM",
        "outputId": "680a2e81-14c9-4b2e-ce63-2bf0c8593dee"
      },
      "outputs": [
        {
          "output_type": "stream",
          "name": "stdout",
          "text": [
            "[LightGBM] [Info] Auto-choosing col-wise multi-threading, the overhead of testing was 2.981196 seconds.\n",
            "You can set `force_col_wise=true` to remove the overhead.\n",
            "[LightGBM] [Info] Total Bins 46336\n",
            "[LightGBM] [Info] Number of data points in the train set: 987460, number of used features: 198\n",
            "[LightGBM] [Info] Start training from score 0.000000\n",
            "[LightGBM] [Info] Auto-choosing col-wise multi-threading, the overhead of testing was 2.920202 seconds.\n",
            "You can set `force_col_wise=true` to remove the overhead.\n",
            "[LightGBM] [Info] Total Bins 46336\n",
            "[LightGBM] [Info] Number of data points in the train set: 987460, number of used features: 198\n",
            "[LightGBM] [Info] Start training from score 0.000000\n",
            "Train MAE: 0.02927075862929076\n",
            "Test  MAE: 0.1650968402620491\n",
            "time: 3min 40s (started: 2024-04-03 23:38:26 +00:00)\n"
          ]
        }
      ],
      "source": [
        "#%%script echo 'ignore cell'\n",
        "lgbm = MultiOutputRegressor(lgb.LGBMRegressor(n_estimators=100))\n",
        "lgbm.fit(X_train.to_numpy(), y_train)\n",
        "mae(lgbm, X_train, y_train, X_test, y_test)"
      ]
    }
  ],
  "metadata": {
    "colab": {
      "provenance": [],
      "authorship_tag": "ABX9TyOapjBZ0qkr4EcCh4FbcWKL"
    },
    "kernelspec": {
      "display_name": "Python 3",
      "name": "python3"
    },
    "language_info": {
      "name": "python"
    }
  },
  "nbformat": 4,
  "nbformat_minor": 0
}