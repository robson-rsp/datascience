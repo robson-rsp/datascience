{
  "nbformat": 4,
  "nbformat_minor": 0,
  "metadata": {
    "colab": {
      "provenance": [],
      "toc_visible": true,
      "authorship_tag": "ABX9TyPf31rR66z8J8vPZOdq3I0R",
      "include_colab_link": true
    },
    "kernelspec": {
      "name": "python3",
      "display_name": "Python 3"
    },
    "language_info": {
      "name": "python"
    }
  },
  "cells": [
    {
      "cell_type": "markdown",
      "metadata": {
        "id": "view-in-github",
        "colab_type": "text"
      },
      "source": [
        "<a href=\"https://colab.research.google.com/github/robson-rsp/datascience/blob/main/pyspark_sql_study.ipynb\" target=\"_parent\"><img src=\"https://colab.research.google.com/assets/colab-badge.svg\" alt=\"Open In Colab\"/></a>"
      ]
    },
    {
      "cell_type": "markdown",
      "source": [
        "# Pyspark SQL\n",
        "\n",
        "Este kernel possui alguns exemplos de código do módulo pyspark.sql.\n",
        "Apresenta exemplos de funções que implementam cláusulas SQL, como: SELECT, WHERE, GROUP BY, ORDER BY, PARTITION BY, entre outras.\n",
        "\n",
        "\n",
        "Usarei dois datasets para os exemplos housing.csv e wc2018-players.csv."
      ],
      "metadata": {
        "id": "g1Sxu4CjDZiG"
      }
    },
    {
      "cell_type": "code",
      "execution_count": 193,
      "metadata": {
        "id": "xyfsd2bo5wVP",
        "colab": {
          "base_uri": "https://localhost:8080/"
        },
        "outputId": "46372a1b-7773-487d-ce70-65b03213dea2"
      },
      "outputs": [
        {
          "output_type": "stream",
          "name": "stdout",
          "text": [
            "Requirement already satisfied: ipython-autotime in /usr/local/lib/python3.10/dist-packages (0.3.1)\n",
            "Requirement already satisfied: ipython in /usr/local/lib/python3.10/dist-packages (from ipython-autotime) (7.34.0)\n",
            "Requirement already satisfied: setuptools>=18.5 in /usr/local/lib/python3.10/dist-packages (from ipython->ipython-autotime) (67.7.2)\n",
            "Requirement already satisfied: jedi>=0.16 in /usr/local/lib/python3.10/dist-packages (from ipython->ipython-autotime) (0.19.0)\n",
            "Requirement already satisfied: decorator in /usr/local/lib/python3.10/dist-packages (from ipython->ipython-autotime) (4.4.2)\n",
            "Requirement already satisfied: pickleshare in /usr/local/lib/python3.10/dist-packages (from ipython->ipython-autotime) (0.7.5)\n",
            "Requirement already satisfied: traitlets>=4.2 in /usr/local/lib/python3.10/dist-packages (from ipython->ipython-autotime) (5.7.1)\n",
            "Requirement already satisfied: prompt-toolkit!=3.0.0,!=3.0.1,<3.1.0,>=2.0.0 in /usr/local/lib/python3.10/dist-packages (from ipython->ipython-autotime) (3.0.39)\n",
            "Requirement already satisfied: pygments in /usr/local/lib/python3.10/dist-packages (from ipython->ipython-autotime) (2.16.1)\n",
            "Requirement already satisfied: backcall in /usr/local/lib/python3.10/dist-packages (from ipython->ipython-autotime) (0.2.0)\n",
            "Requirement already satisfied: matplotlib-inline in /usr/local/lib/python3.10/dist-packages (from ipython->ipython-autotime) (0.1.6)\n",
            "Requirement already satisfied: pexpect>4.3 in /usr/local/lib/python3.10/dist-packages (from ipython->ipython-autotime) (4.8.0)\n",
            "Requirement already satisfied: parso<0.9.0,>=0.8.3 in /usr/local/lib/python3.10/dist-packages (from jedi>=0.16->ipython->ipython-autotime) (0.8.3)\n",
            "Requirement already satisfied: ptyprocess>=0.5 in /usr/local/lib/python3.10/dist-packages (from pexpect>4.3->ipython->ipython-autotime) (0.7.0)\n",
            "Requirement already satisfied: wcwidth in /usr/local/lib/python3.10/dist-packages (from prompt-toolkit!=3.0.0,!=3.0.1,<3.1.0,>=2.0.0->ipython->ipython-autotime) (0.2.6)\n",
            "Requirement already satisfied: pyspark in /usr/local/lib/python3.10/dist-packages (3.4.1)\n",
            "Requirement already satisfied: py4j==0.10.9.7 in /usr/local/lib/python3.10/dist-packages (from pyspark) (0.10.9.7)\n",
            "time: 10.2 s (started: 2023-09-18 21:14:48 +00:00)\n"
          ]
        }
      ],
      "source": [
        "%pip install ipython-autotime\n",
        "%pip install pyspark"
      ]
    },
    {
      "cell_type": "code",
      "source": [
        "%%script echo 'ignore cell'\n",
        "import os\n",
        "import sys\n",
        "\n",
        "# resolver problema de versão python x pyspark workers\n",
        "os.environ['PYSPARK_PYTHON'] = sys.executable\n",
        "os.environ['PYSPARK_DRIVER_PYTHON'] = sys.executable"
      ],
      "metadata": {
        "colab": {
          "base_uri": "https://localhost:8080/"
        },
        "id": "Tw7wn82BksRS",
        "outputId": "9d145cae-76ac-4db9-97ba-c2d83411ea2b"
      },
      "execution_count": 194,
      "outputs": [
        {
          "output_type": "stream",
          "name": "stdout",
          "text": [
            "ignore cell\n",
            "time: 6.25 ms (started: 2023-09-18 21:14:58 +00:00)\n"
          ]
        }
      ]
    },
    {
      "cell_type": "code",
      "source": [
        "from google.colab          import drive, files\n",
        "from pyspark.sql           import SparkSession\n",
        "from pyspark.sql.functions import *\n",
        "from pyspark.sql.types     import *\n",
        "from pyspark.sql.window    import Window\n",
        "\n",
        "%load_ext autotime"
      ],
      "metadata": {
        "id": "LO_fhEZL8qXK",
        "colab": {
          "base_uri": "https://localhost:8080/"
        },
        "outputId": "6c4efc69-1e2f-40fe-be07-d9ea016eff29"
      },
      "execution_count": 195,
      "outputs": [
        {
          "output_type": "stream",
          "name": "stdout",
          "text": [
            "The autotime extension is already loaded. To reload it, use:\n",
            "  %reload_ext autotime\n",
            "time: 1.39 ms (started: 2023-09-18 21:14:58 +00:00)\n"
          ]
        }
      ]
    },
    {
      "cell_type": "code",
      "source": [
        "drive.mount('/content/drive', force_remount=True)\n",
        "spark = SparkSession.builder.master('local').appName('pyspark_app').getOrCreate()\n",
        "spark"
      ],
      "metadata": {
        "colab": {
          "base_uri": "https://localhost:8080/",
          "height": 254
        },
        "id": "Yk5ZIoBYiDu2",
        "outputId": "3b904ca5-65cc-417c-eda9-a9026f2ae363"
      },
      "execution_count": 196,
      "outputs": [
        {
          "output_type": "stream",
          "name": "stdout",
          "text": [
            "Mounted at /content/drive\n"
          ]
        },
        {
          "output_type": "execute_result",
          "data": {
            "text/plain": [
              "<pyspark.sql.session.SparkSession at 0x7b1f35275cc0>"
            ],
            "text/html": [
              "\n",
              "            <div>\n",
              "                <p><b>SparkSession - in-memory</b></p>\n",
              "                \n",
              "        <div>\n",
              "            <p><b>SparkContext</b></p>\n",
              "\n",
              "            <p><a href=\"http://cfae21696dd7:4040\">Spark UI</a></p>\n",
              "\n",
              "            <dl>\n",
              "              <dt>Version</dt>\n",
              "                <dd><code>v3.4.1</code></dd>\n",
              "              <dt>Master</dt>\n",
              "                <dd><code>local</code></dd>\n",
              "              <dt>AppName</dt>\n",
              "                <dd><code>pyspark_app</code></dd>\n",
              "            </dl>\n",
              "        </div>\n",
              "        \n",
              "            </div>\n",
              "        "
            ]
          },
          "metadata": {},
          "execution_count": 196
        },
        {
          "output_type": "stream",
          "name": "stdout",
          "text": [
            "time: 4.38 s (started: 2023-09-18 21:14:58 +00:00)\n"
          ]
        }
      ]
    },
    {
      "cell_type": "code",
      "source": [
        "df = spark.read.csv(\"/content/drive/MyDrive/datasets/housing/housing.csv\", header=True, inferSchema=True, encoding='utf-8')\n",
        "print(type(df))\n",
        "print(f'rows: {df.count()}')\n",
        "print(f'cols: {len(df.columns)}')"
      ],
      "metadata": {
        "colab": {
          "base_uri": "https://localhost:8080/"
        },
        "id": "nF-O2mzVmGVX",
        "outputId": "d6398ae7-5441-4676-d42d-a831dc09d56e"
      },
      "execution_count": 197,
      "outputs": [
        {
          "output_type": "stream",
          "name": "stdout",
          "text": [
            "<class 'pyspark.sql.dataframe.DataFrame'>\n",
            "rows: 20640\n",
            "cols: 10\n",
            "time: 1.88 s (started: 2023-09-18 21:15:02 +00:00)\n"
          ]
        }
      ]
    },
    {
      "cell_type": "markdown",
      "source": [
        "# Funções descritivas básicas."
      ],
      "metadata": {
        "id": "qSKwsHHsE0c3"
      }
    },
    {
      "cell_type": "code",
      "source": [
        "df.show(5)"
      ],
      "metadata": {
        "colab": {
          "base_uri": "https://localhost:8080/"
        },
        "id": "waAJ4QLDE3xU",
        "outputId": "b30975b0-2774-4140-b4d5-0d106e10ddb3"
      },
      "execution_count": 198,
      "outputs": [
        {
          "output_type": "stream",
          "name": "stdout",
          "text": [
            "+---------+--------+------------------+-----------+--------------+----------+----------+-------------+------------------+---------------+\n",
            "|longitude|latitude|housing_median_age|total_rooms|total_bedrooms|population|households|median_income|median_house_value|ocean_proximity|\n",
            "+---------+--------+------------------+-----------+--------------+----------+----------+-------------+------------------+---------------+\n",
            "|  -122.23|   37.88|              41.0|      880.0|         129.0|     322.0|     126.0|       8.3252|          452600.0|       NEAR BAY|\n",
            "|  -122.22|   37.86|              21.0|     7099.0|        1106.0|    2401.0|    1138.0|       8.3014|          358500.0|       NEAR BAY|\n",
            "|  -122.24|   37.85|              52.0|     1467.0|         190.0|     496.0|     177.0|       7.2574|          352100.0|       NEAR BAY|\n",
            "|  -122.25|   37.85|              52.0|     1274.0|         235.0|     558.0|     219.0|       5.6431|          341300.0|       NEAR BAY|\n",
            "|  -122.25|   37.85|              52.0|     1627.0|         280.0|     565.0|     259.0|       3.8462|          342200.0|       NEAR BAY|\n",
            "+---------+--------+------------------+-----------+--------------+----------+----------+-------------+------------------+---------------+\n",
            "only showing top 5 rows\n",
            "\n",
            "time: 328 ms (started: 2023-09-18 21:15:04 +00:00)\n"
          ]
        }
      ]
    },
    {
      "cell_type": "code",
      "source": [
        "print(df.columns)"
      ],
      "metadata": {
        "colab": {
          "base_uri": "https://localhost:8080/"
        },
        "id": "CCZm02HJsVL5",
        "outputId": "91a98929-2481-46fd-d4c6-f7f55a0be24e"
      },
      "execution_count": 199,
      "outputs": [
        {
          "output_type": "stream",
          "name": "stdout",
          "text": [
            "['longitude', 'latitude', 'housing_median_age', 'total_rooms', 'total_bedrooms', 'population', 'households', 'median_income', 'median_house_value', 'ocean_proximity']\n",
            "time: 714 µs (started: 2023-09-18 21:15:05 +00:00)\n"
          ]
        }
      ]
    },
    {
      "cell_type": "code",
      "source": [
        "df.printSchema()"
      ],
      "metadata": {
        "colab": {
          "base_uri": "https://localhost:8080/"
        },
        "id": "Tho1zkZth2MN",
        "outputId": "147faaf3-a88f-4e2b-b850-1ac1925052f0"
      },
      "execution_count": 200,
      "outputs": [
        {
          "output_type": "stream",
          "name": "stdout",
          "text": [
            "root\n",
            " |-- longitude: double (nullable = true)\n",
            " |-- latitude: double (nullable = true)\n",
            " |-- housing_median_age: double (nullable = true)\n",
            " |-- total_rooms: double (nullable = true)\n",
            " |-- total_bedrooms: double (nullable = true)\n",
            " |-- population: double (nullable = true)\n",
            " |-- households: double (nullable = true)\n",
            " |-- median_income: double (nullable = true)\n",
            " |-- median_house_value: double (nullable = true)\n",
            " |-- ocean_proximity: string (nullable = true)\n",
            "\n",
            "time: 16.5 ms (started: 2023-09-18 21:15:05 +00:00)\n"
          ]
        }
      ]
    },
    {
      "cell_type": "code",
      "source": [
        "df.describe().show()"
      ],
      "metadata": {
        "colab": {
          "base_uri": "https://localhost:8080/"
        },
        "id": "YU3oj1JxE-os",
        "outputId": "701f6164-525b-4fda-d014-0e06f3fd4228"
      },
      "execution_count": 201,
      "outputs": [
        {
          "output_type": "stream",
          "name": "stdout",
          "text": [
            "+-------+-------------------+-----------------+------------------+------------------+------------------+------------------+-----------------+------------------+------------------+---------------+\n",
            "|summary|          longitude|         latitude|housing_median_age|       total_rooms|    total_bedrooms|        population|       households|     median_income|median_house_value|ocean_proximity|\n",
            "+-------+-------------------+-----------------+------------------+------------------+------------------+------------------+-----------------+------------------+------------------+---------------+\n",
            "|  count|              20640|            20640|             20640|             20640|             20433|             20640|            20640|             20640|             20640|          20640|\n",
            "|   mean|-119.56970445736148| 35.6318614341087|28.639486434108527|2635.7630813953488| 537.8705525375618|1425.4767441860465|499.5396802325581|3.8706710029070246|206855.81690891474|           null|\n",
            "| stddev|  2.003531723502584|2.135952397457101| 12.58555761211163|2181.6152515827944|421.38507007403115|  1132.46212176534|382.3297528316098| 1.899821717945263|115395.61587441359|           null|\n",
            "|    min|            -124.35|            32.54|               1.0|               2.0|               1.0|               3.0|              1.0|            0.4999|           14999.0|      <1H OCEAN|\n",
            "|    max|            -114.31|            41.95|              52.0|           39320.0|            6445.0|           35682.0|           6082.0|           15.0001|          500001.0|     NEAR OCEAN|\n",
            "+-------+-------------------+-----------------+------------------+------------------+------------------+------------------+-----------------+------------------+------------------+---------------+\n",
            "\n",
            "time: 2.66 s (started: 2023-09-18 21:15:05 +00:00)\n"
          ]
        }
      ]
    },
    {
      "cell_type": "markdown",
      "source": [
        "# Funções úteis para feature engineering."
      ],
      "metadata": {
        "id": "sOe4mRqMFEPZ"
      }
    },
    {
      "cell_type": "markdown",
      "source": [
        "Verificação de valores NaN."
      ],
      "metadata": {
        "id": "PiY9YFQcuj9D"
      }
    },
    {
      "cell_type": "code",
      "source": [
        "for column in df.columns:\n",
        "  mask = df['longitude'].isNull()\n",
        "  nan_amount = df.filter(mask).count()\n",
        "  print(f'{column}: {nan_amount}')"
      ],
      "metadata": {
        "colab": {
          "base_uri": "https://localhost:8080/"
        },
        "id": "YCL_rGlqr825",
        "outputId": "0e8c255d-125d-4e76-d540-9f1fb599f814"
      },
      "execution_count": 202,
      "outputs": [
        {
          "output_type": "stream",
          "name": "stdout",
          "text": [
            "longitude: 0\n",
            "latitude: 0\n",
            "housing_median_age: 0\n",
            "total_rooms: 0\n",
            "total_bedrooms: 0\n",
            "population: 0\n",
            "households: 0\n",
            "median_income: 0\n",
            "median_house_value: 0\n",
            "ocean_proximity: 0\n",
            "time: 5 s (started: 2023-09-18 21:15:07 +00:00)\n"
          ]
        }
      ]
    },
    {
      "cell_type": "markdown",
      "source": [
        "Renomeação das colunas transformando tudo em letras maiúsculas."
      ],
      "metadata": {
        "id": "UTA4QbYtunoX"
      }
    },
    {
      "cell_type": "code",
      "source": [
        "upper = [column.upper() for column in df.columns]\n",
        "for column, up in zip(df.columns, upper):\n",
        "  df = df.withColumnRenamed(column, up)\n",
        "print(df.columns)"
      ],
      "metadata": {
        "colab": {
          "base_uri": "https://localhost:8080/"
        },
        "id": "FB73DskfupN2",
        "outputId": "2245e60b-79af-4575-d9c4-4166aa4771e2"
      },
      "execution_count": 203,
      "outputs": [
        {
          "output_type": "stream",
          "name": "stdout",
          "text": [
            "['LONGITUDE', 'LATITUDE', 'HOUSING_MEDIAN_AGE', 'TOTAL_ROOMS', 'TOTAL_BEDROOMS', 'POPULATION', 'HOUSEHOLDS', 'MEDIAN_INCOME', 'MEDIAN_HOUSE_VALUE', 'OCEAN_PROXIMITY']\n",
            "time: 69.9 ms (started: 2023-09-18 21:15:12 +00:00)\n"
          ]
        }
      ]
    },
    {
      "cell_type": "markdown",
      "source": [
        "Renomeação das colunas transformando tudo em letras minúsculas."
      ],
      "metadata": {
        "id": "dpT_yQZRxufp"
      }
    },
    {
      "cell_type": "code",
      "source": [
        "lower = [column.lower() for column in df.columns]\n",
        "for column, low in zip(df.columns, lower):\n",
        "  df = df.withColumnRenamed(column, low)\n",
        "print(df.columns)"
      ],
      "metadata": {
        "colab": {
          "base_uri": "https://localhost:8080/"
        },
        "id": "xHYk3Z5zxBeE",
        "outputId": "251fb889-5baf-4efe-8417-887674ccd413"
      },
      "execution_count": 204,
      "outputs": [
        {
          "output_type": "stream",
          "name": "stdout",
          "text": [
            "['longitude', 'latitude', 'housing_median_age', 'total_rooms', 'total_bedrooms', 'population', 'households', 'median_income', 'median_house_value', 'ocean_proximity']\n",
            "time: 257 ms (started: 2023-09-18 21:15:13 +00:00)\n"
          ]
        }
      ]
    },
    {
      "cell_type": "markdown",
      "source": [
        "Selecionando colunas."
      ],
      "metadata": {
        "id": "1W91ziDzymS7"
      }
    },
    {
      "cell_type": "code",
      "source": [
        "print(type(df.select(['longitude', 'latitude', 'households'])))\n",
        "df.select(['longitude', 'latitude', 'households']).show(5)"
      ],
      "metadata": {
        "colab": {
          "base_uri": "https://localhost:8080/"
        },
        "id": "I4M9QyqyxWWu",
        "outputId": "b7e5a2eb-d442-417a-a165-c6a261808154"
      },
      "execution_count": 205,
      "outputs": [
        {
          "output_type": "stream",
          "name": "stdout",
          "text": [
            "<class 'pyspark.sql.dataframe.DataFrame'>\n",
            "+---------+--------+----------+\n",
            "|longitude|latitude|households|\n",
            "+---------+--------+----------+\n",
            "|  -122.23|   37.88|     126.0|\n",
            "|  -122.22|   37.86|    1138.0|\n",
            "|  -122.24|   37.85|     177.0|\n",
            "|  -122.25|   37.85|     219.0|\n",
            "|  -122.25|   37.85|     259.0|\n",
            "+---------+--------+----------+\n",
            "only showing top 5 rows\n",
            "\n",
            "time: 472 ms (started: 2023-09-18 21:15:13 +00:00)\n"
          ]
        }
      ]
    },
    {
      "cell_type": "markdown",
      "source": [
        "Selecionando colunas. Forma alternativa utilizando a função col() que retorna um objeto da classe Column."
      ],
      "metadata": {
        "id": "K0TmUCh3I_XI"
      }
    },
    {
      "cell_type": "code",
      "source": [
        "print(type(df.select([col('latitude'), col('longitude'), col('households')])))\n",
        "df.select([col('latitude'), col('longitude'), col('households')]).show(5)"
      ],
      "metadata": {
        "colab": {
          "base_uri": "https://localhost:8080/"
        },
        "id": "HKWtaCa5HLRI",
        "outputId": "aea0c8e1-2ec4-4133-cba8-7efb79cd34c7"
      },
      "execution_count": 206,
      "outputs": [
        {
          "output_type": "stream",
          "name": "stdout",
          "text": [
            "<class 'pyspark.sql.dataframe.DataFrame'>\n",
            "+--------+---------+----------+\n",
            "|latitude|longitude|households|\n",
            "+--------+---------+----------+\n",
            "|   37.88|  -122.23|     126.0|\n",
            "|   37.86|  -122.22|    1138.0|\n",
            "|   37.85|  -122.24|     177.0|\n",
            "|   37.85|  -122.25|     219.0|\n",
            "|   37.85|  -122.25|     259.0|\n",
            "+--------+---------+----------+\n",
            "only showing top 5 rows\n",
            "\n",
            "time: 441 ms (started: 2023-09-18 21:15:13 +00:00)\n"
          ]
        }
      ]
    },
    {
      "cell_type": "markdown",
      "source": [
        "Atribuindo alias para cada coluna selecionada. Só é possível atribuir alias à colunas através da função col() que retorna um objeto Column.\n"
      ],
      "metadata": {
        "id": "MV5169vkJuIZ"
      }
    },
    {
      "cell_type": "code",
      "source": [
        "lat = col('latitude').alias('lat')\n",
        "lon = col('longitude').alias('lon')\n",
        "\n",
        "print(lat)\n",
        "df.select([lat, lon]).show(5)"
      ],
      "metadata": {
        "colab": {
          "base_uri": "https://localhost:8080/"
        },
        "id": "bzWH6uZHJzXj",
        "outputId": "463ed9ef-e54f-4703-c5c9-32cafbc1d816"
      },
      "execution_count": 207,
      "outputs": [
        {
          "output_type": "stream",
          "name": "stdout",
          "text": [
            "Column<'latitude AS lat'>\n",
            "+-----+-------+\n",
            "|  lat|    lon|\n",
            "+-----+-------+\n",
            "|37.88|-122.23|\n",
            "|37.86|-122.22|\n",
            "|37.85|-122.24|\n",
            "|37.85|-122.25|\n",
            "|37.85|-122.25|\n",
            "+-----+-------+\n",
            "only showing top 5 rows\n",
            "\n",
            "time: 338 ms (started: 2023-09-18 21:15:14 +00:00)\n"
          ]
        }
      ]
    },
    {
      "cell_type": "markdown",
      "source": [
        "Criar novas colunas."
      ],
      "metadata": {
        "id": "yvMq5JFlQqVC"
      }
    },
    {
      "cell_type": "code",
      "source": [
        "# atribuo um valor literal(True) à nova coluna chamada 'new_col'. A função lit() retorna um objeto Column.\n",
        "df.withColumn('new_col', lit(True)).show(5)"
      ],
      "metadata": {
        "colab": {
          "base_uri": "https://localhost:8080/"
        },
        "id": "5Qi7KZObQsPN",
        "outputId": "696717a3-1f31-47c2-e623-1728546e3ad3"
      },
      "execution_count": 208,
      "outputs": [
        {
          "output_type": "stream",
          "name": "stdout",
          "text": [
            "+---------+--------+------------------+-----------+--------------+----------+----------+-------------+------------------+---------------+-------+\n",
            "|longitude|latitude|housing_median_age|total_rooms|total_bedrooms|population|households|median_income|median_house_value|ocean_proximity|new_col|\n",
            "+---------+--------+------------------+-----------+--------------+----------+----------+-------------+------------------+---------------+-------+\n",
            "|  -122.23|   37.88|              41.0|      880.0|         129.0|     322.0|     126.0|       8.3252|          452600.0|       NEAR BAY|   true|\n",
            "|  -122.22|   37.86|              21.0|     7099.0|        1106.0|    2401.0|    1138.0|       8.3014|          358500.0|       NEAR BAY|   true|\n",
            "|  -122.24|   37.85|              52.0|     1467.0|         190.0|     496.0|     177.0|       7.2574|          352100.0|       NEAR BAY|   true|\n",
            "|  -122.25|   37.85|              52.0|     1274.0|         235.0|     558.0|     219.0|       5.6431|          341300.0|       NEAR BAY|   true|\n",
            "|  -122.25|   37.85|              52.0|     1627.0|         280.0|     565.0|     259.0|       3.8462|          342200.0|       NEAR BAY|   true|\n",
            "+---------+--------+------------------+-----------+--------------+----------+----------+-------------+------------------+---------------+-------+\n",
            "only showing top 5 rows\n",
            "\n",
            "time: 372 ms (started: 2023-09-18 21:15:14 +00:00)\n"
          ]
        }
      ]
    },
    {
      "cell_type": "code",
      "source": [
        "result = df['total_bedrooms'] / df['total_rooms']\n",
        "print(type(result))\n",
        "df.withColumn('new_col', result).show(5)"
      ],
      "metadata": {
        "colab": {
          "base_uri": "https://localhost:8080/"
        },
        "id": "Qo4tlcTVRblw",
        "outputId": "450dab3c-cd77-4e5d-b657-3b359283ecfa"
      },
      "execution_count": 209,
      "outputs": [
        {
          "output_type": "stream",
          "name": "stdout",
          "text": [
            "<class 'pyspark.sql.column.Column'>\n",
            "+---------+--------+------------------+-----------+--------------+----------+----------+-------------+------------------+---------------+-------------------+\n",
            "|longitude|latitude|housing_median_age|total_rooms|total_bedrooms|population|households|median_income|median_house_value|ocean_proximity|            new_col|\n",
            "+---------+--------+------------------+-----------+--------------+----------+----------+-------------+------------------+---------------+-------------------+\n",
            "|  -122.23|   37.88|              41.0|      880.0|         129.0|     322.0|     126.0|       8.3252|          452600.0|       NEAR BAY|0.14659090909090908|\n",
            "|  -122.22|   37.86|              21.0|     7099.0|        1106.0|    2401.0|    1138.0|       8.3014|          358500.0|       NEAR BAY|0.15579659106916466|\n",
            "|  -122.24|   37.85|              52.0|     1467.0|         190.0|     496.0|     177.0|       7.2574|          352100.0|       NEAR BAY|0.12951601908657123|\n",
            "|  -122.25|   37.85|              52.0|     1274.0|         235.0|     558.0|     219.0|       5.6431|          341300.0|       NEAR BAY|0.18445839874411302|\n",
            "|  -122.25|   37.85|              52.0|     1627.0|         280.0|     565.0|     259.0|       3.8462|          342200.0|       NEAR BAY| 0.1720958819913952|\n",
            "+---------+--------+------------------+-----------+--------------+----------+----------+-------------+------------------+---------------+-------------------+\n",
            "only showing top 5 rows\n",
            "\n",
            "time: 358 ms (started: 2023-09-18 21:15:15 +00:00)\n"
          ]
        }
      ]
    },
    {
      "cell_type": "code",
      "source": [
        "# nova coluna usando a função substring()\n",
        "df.withColumn('new_col', substring('ocean_proximity', 1, 4)).show(5)"
      ],
      "metadata": {
        "colab": {
          "base_uri": "https://localhost:8080/"
        },
        "id": "WTWf5PseValt",
        "outputId": "489f35d6-4cde-4304-b69f-e1ca03acc49b"
      },
      "execution_count": 210,
      "outputs": [
        {
          "output_type": "stream",
          "name": "stdout",
          "text": [
            "+---------+--------+------------------+-----------+--------------+----------+----------+-------------+------------------+---------------+-------+\n",
            "|longitude|latitude|housing_median_age|total_rooms|total_bedrooms|population|households|median_income|median_house_value|ocean_proximity|new_col|\n",
            "+---------+--------+------------------+-----------+--------------+----------+----------+-------------+------------------+---------------+-------+\n",
            "|  -122.23|   37.88|              41.0|      880.0|         129.0|     322.0|     126.0|       8.3252|          452600.0|       NEAR BAY|   NEAR|\n",
            "|  -122.22|   37.86|              21.0|     7099.0|        1106.0|    2401.0|    1138.0|       8.3014|          358500.0|       NEAR BAY|   NEAR|\n",
            "|  -122.24|   37.85|              52.0|     1467.0|         190.0|     496.0|     177.0|       7.2574|          352100.0|       NEAR BAY|   NEAR|\n",
            "|  -122.25|   37.85|              52.0|     1274.0|         235.0|     558.0|     219.0|       5.6431|          341300.0|       NEAR BAY|   NEAR|\n",
            "|  -122.25|   37.85|              52.0|     1627.0|         280.0|     565.0|     259.0|       3.8462|          342200.0|       NEAR BAY|   NEAR|\n",
            "+---------+--------+------------------+-----------+--------------+----------+----------+-------------+------------------+---------------+-------+\n",
            "only showing top 5 rows\n",
            "\n",
            "time: 572 ms (started: 2023-09-18 21:15:15 +00:00)\n"
          ]
        }
      ]
    },
    {
      "cell_type": "code",
      "source": [
        "# concatenando duas colunas para formar uma nova\n",
        "df.withColumn('new_col', concat(df['latitude'], df['longitude'])).show()"
      ],
      "metadata": {
        "colab": {
          "base_uri": "https://localhost:8080/"
        },
        "id": "sknwYbdmmVlj",
        "outputId": "ed719c2f-c87f-4e36-8f62-cb87c741f71c"
      },
      "execution_count": 211,
      "outputs": [
        {
          "output_type": "stream",
          "name": "stdout",
          "text": [
            "+---------+--------+------------------+-----------+--------------+----------+----------+-------------+------------------+---------------+------------+\n",
            "|longitude|latitude|housing_median_age|total_rooms|total_bedrooms|population|households|median_income|median_house_value|ocean_proximity|     new_col|\n",
            "+---------+--------+------------------+-----------+--------------+----------+----------+-------------+------------------+---------------+------------+\n",
            "|  -122.23|   37.88|              41.0|      880.0|         129.0|     322.0|     126.0|       8.3252|          452600.0|       NEAR BAY|37.88-122.23|\n",
            "|  -122.22|   37.86|              21.0|     7099.0|        1106.0|    2401.0|    1138.0|       8.3014|          358500.0|       NEAR BAY|37.86-122.22|\n",
            "|  -122.24|   37.85|              52.0|     1467.0|         190.0|     496.0|     177.0|       7.2574|          352100.0|       NEAR BAY|37.85-122.24|\n",
            "|  -122.25|   37.85|              52.0|     1274.0|         235.0|     558.0|     219.0|       5.6431|          341300.0|       NEAR BAY|37.85-122.25|\n",
            "|  -122.25|   37.85|              52.0|     1627.0|         280.0|     565.0|     259.0|       3.8462|          342200.0|       NEAR BAY|37.85-122.25|\n",
            "|  -122.25|   37.85|              52.0|      919.0|         213.0|     413.0|     193.0|       4.0368|          269700.0|       NEAR BAY|37.85-122.25|\n",
            "|  -122.25|   37.84|              52.0|     2535.0|         489.0|    1094.0|     514.0|       3.6591|          299200.0|       NEAR BAY|37.84-122.25|\n",
            "|  -122.25|   37.84|              52.0|     3104.0|         687.0|    1157.0|     647.0|         3.12|          241400.0|       NEAR BAY|37.84-122.25|\n",
            "|  -122.26|   37.84|              42.0|     2555.0|         665.0|    1206.0|     595.0|       2.0804|          226700.0|       NEAR BAY|37.84-122.26|\n",
            "|  -122.25|   37.84|              52.0|     3549.0|         707.0|    1551.0|     714.0|       3.6912|          261100.0|       NEAR BAY|37.84-122.25|\n",
            "|  -122.26|   37.85|              52.0|     2202.0|         434.0|     910.0|     402.0|       3.2031|          281500.0|       NEAR BAY|37.85-122.26|\n",
            "|  -122.26|   37.85|              52.0|     3503.0|         752.0|    1504.0|     734.0|       3.2705|          241800.0|       NEAR BAY|37.85-122.26|\n",
            "|  -122.26|   37.85|              52.0|     2491.0|         474.0|    1098.0|     468.0|        3.075|          213500.0|       NEAR BAY|37.85-122.26|\n",
            "|  -122.26|   37.84|              52.0|      696.0|         191.0|     345.0|     174.0|       2.6736|          191300.0|       NEAR BAY|37.84-122.26|\n",
            "|  -122.26|   37.85|              52.0|     2643.0|         626.0|    1212.0|     620.0|       1.9167|          159200.0|       NEAR BAY|37.85-122.26|\n",
            "|  -122.26|   37.85|              50.0|     1120.0|         283.0|     697.0|     264.0|        2.125|          140000.0|       NEAR BAY|37.85-122.26|\n",
            "|  -122.27|   37.85|              52.0|     1966.0|         347.0|     793.0|     331.0|        2.775|          152500.0|       NEAR BAY|37.85-122.27|\n",
            "|  -122.27|   37.85|              52.0|     1228.0|         293.0|     648.0|     303.0|       2.1202|          155500.0|       NEAR BAY|37.85-122.27|\n",
            "|  -122.26|   37.84|              50.0|     2239.0|         455.0|     990.0|     419.0|       1.9911|          158700.0|       NEAR BAY|37.84-122.26|\n",
            "|  -122.27|   37.84|              52.0|     1503.0|         298.0|     690.0|     275.0|       2.6033|          162900.0|       NEAR BAY|37.84-122.27|\n",
            "+---------+--------+------------------+-----------+--------------+----------+----------+-------------+------------------+---------------+------------+\n",
            "only showing top 20 rows\n",
            "\n",
            "time: 666 ms (started: 2023-09-18 21:15:15 +00:00)\n"
          ]
        }
      ]
    },
    {
      "cell_type": "code",
      "source": [
        "# concatenando duas colunas para formar uma nova\n",
        "df.withColumn('new_col', concat_ws(' # ', df['latitude'], df['longitude'])).show()"
      ],
      "metadata": {
        "colab": {
          "base_uri": "https://localhost:8080/"
        },
        "id": "nHV3Ia0RmzkO",
        "outputId": "4e5b4189-38a9-4721-e162-787de9f3adf3"
      },
      "execution_count": 212,
      "outputs": [
        {
          "output_type": "stream",
          "name": "stdout",
          "text": [
            "+---------+--------+------------------+-----------+--------------+----------+----------+-------------+------------------+---------------+---------------+\n",
            "|longitude|latitude|housing_median_age|total_rooms|total_bedrooms|population|households|median_income|median_house_value|ocean_proximity|        new_col|\n",
            "+---------+--------+------------------+-----------+--------------+----------+----------+-------------+------------------+---------------+---------------+\n",
            "|  -122.23|   37.88|              41.0|      880.0|         129.0|     322.0|     126.0|       8.3252|          452600.0|       NEAR BAY|37.88 # -122.23|\n",
            "|  -122.22|   37.86|              21.0|     7099.0|        1106.0|    2401.0|    1138.0|       8.3014|          358500.0|       NEAR BAY|37.86 # -122.22|\n",
            "|  -122.24|   37.85|              52.0|     1467.0|         190.0|     496.0|     177.0|       7.2574|          352100.0|       NEAR BAY|37.85 # -122.24|\n",
            "|  -122.25|   37.85|              52.0|     1274.0|         235.0|     558.0|     219.0|       5.6431|          341300.0|       NEAR BAY|37.85 # -122.25|\n",
            "|  -122.25|   37.85|              52.0|     1627.0|         280.0|     565.0|     259.0|       3.8462|          342200.0|       NEAR BAY|37.85 # -122.25|\n",
            "|  -122.25|   37.85|              52.0|      919.0|         213.0|     413.0|     193.0|       4.0368|          269700.0|       NEAR BAY|37.85 # -122.25|\n",
            "|  -122.25|   37.84|              52.0|     2535.0|         489.0|    1094.0|     514.0|       3.6591|          299200.0|       NEAR BAY|37.84 # -122.25|\n",
            "|  -122.25|   37.84|              52.0|     3104.0|         687.0|    1157.0|     647.0|         3.12|          241400.0|       NEAR BAY|37.84 # -122.25|\n",
            "|  -122.26|   37.84|              42.0|     2555.0|         665.0|    1206.0|     595.0|       2.0804|          226700.0|       NEAR BAY|37.84 # -122.26|\n",
            "|  -122.25|   37.84|              52.0|     3549.0|         707.0|    1551.0|     714.0|       3.6912|          261100.0|       NEAR BAY|37.84 # -122.25|\n",
            "|  -122.26|   37.85|              52.0|     2202.0|         434.0|     910.0|     402.0|       3.2031|          281500.0|       NEAR BAY|37.85 # -122.26|\n",
            "|  -122.26|   37.85|              52.0|     3503.0|         752.0|    1504.0|     734.0|       3.2705|          241800.0|       NEAR BAY|37.85 # -122.26|\n",
            "|  -122.26|   37.85|              52.0|     2491.0|         474.0|    1098.0|     468.0|        3.075|          213500.0|       NEAR BAY|37.85 # -122.26|\n",
            "|  -122.26|   37.84|              52.0|      696.0|         191.0|     345.0|     174.0|       2.6736|          191300.0|       NEAR BAY|37.84 # -122.26|\n",
            "|  -122.26|   37.85|              52.0|     2643.0|         626.0|    1212.0|     620.0|       1.9167|          159200.0|       NEAR BAY|37.85 # -122.26|\n",
            "|  -122.26|   37.85|              50.0|     1120.0|         283.0|     697.0|     264.0|        2.125|          140000.0|       NEAR BAY|37.85 # -122.26|\n",
            "|  -122.27|   37.85|              52.0|     1966.0|         347.0|     793.0|     331.0|        2.775|          152500.0|       NEAR BAY|37.85 # -122.27|\n",
            "|  -122.27|   37.85|              52.0|     1228.0|         293.0|     648.0|     303.0|       2.1202|          155500.0|       NEAR BAY|37.85 # -122.27|\n",
            "|  -122.26|   37.84|              50.0|     2239.0|         455.0|     990.0|     419.0|       1.9911|          158700.0|       NEAR BAY|37.84 # -122.26|\n",
            "|  -122.27|   37.84|              52.0|     1503.0|         298.0|     690.0|     275.0|       2.6033|          162900.0|       NEAR BAY|37.84 # -122.27|\n",
            "+---------+--------+------------------+-----------+--------------+----------+----------+-------------+------------------+---------------+---------------+\n",
            "only showing top 20 rows\n",
            "\n",
            "time: 951 ms (started: 2023-09-18 21:15:16 +00:00)\n"
          ]
        }
      ]
    },
    {
      "cell_type": "markdown",
      "source": [
        "--------------"
      ],
      "metadata": {
        "id": "dDYOJ-FT8CSK"
      }
    },
    {
      "cell_type": "markdown",
      "source": [
        "Datas: Vou usar outro dataset que contenha datas em formato string para fazer a conversão de string para o formato DateType."
      ],
      "metadata": {
        "id": "li8tXPMCo972"
      }
    },
    {
      "cell_type": "code",
      "source": [
        "df = spark.read.csv(\"/content/drive/MyDrive/datasets/wc2018-players.csv\", header=True, inferSchema=True, encoding='utf-8')\n",
        "print(type(df))\n",
        "print(f'rows: {df.count()}')\n",
        "print(f'cols: {len(df.columns)}')\n",
        "df.show(5)"
      ],
      "metadata": {
        "colab": {
          "base_uri": "https://localhost:8080/"
        },
        "id": "uR8OBC6GpGFF",
        "outputId": "4958a619-1453-4262-eb2f-f06bf83ed211"
      },
      "execution_count": 213,
      "outputs": [
        {
          "output_type": "stream",
          "name": "stdout",
          "text": [
            "<class 'pyspark.sql.dataframe.DataFrame'>\n",
            "rows: 736\n",
            "cols: 9\n",
            "+---------+---+----+------------------+----------+----------+--------------------+------+------+\n",
            "|     Team|  #|Pos.| FIFA Popular Name|Birth Date|Shirt Name|                Club|Height|Weight|\n",
            "+---------+---+----+------------------+----------+----------+--------------------+------+------+\n",
            "|Argentina|  3|  DF|TAGLIAFICO Nicolas|31.08.1992|TAGLIAFICO|      AFC Ajax (NED)|   169|    65|\n",
            "|Argentina| 22|  MF|    PAVON Cristian|21.01.1996|     PAVÓN|CA Boca Juniors (...|   169|    65|\n",
            "|Argentina| 15|  MF|    LANZINI Manuel|15.02.1993|   LANZINI|West Ham United F...|   167|    66|\n",
            "|Argentina| 18|  DF|    SALVIO Eduardo|13.07.1990|    SALVIO|    SL Benfica (POR)|   167|    69|\n",
            "|Argentina| 10|  FW|      MESSI Lionel|24.06.1987|     MESSI|  FC Barcelona (ESP)|   170|    72|\n",
            "+---------+---+----+------------------+----------+----------+--------------------+------+------+\n",
            "only showing top 5 rows\n",
            "\n",
            "time: 2.12 s (started: 2023-09-18 21:15:17 +00:00)\n"
          ]
        }
      ]
    },
    {
      "cell_type": "code",
      "source": [
        "df.printSchema()"
      ],
      "metadata": {
        "colab": {
          "base_uri": "https://localhost:8080/"
        },
        "id": "9lzNdh4xpYUq",
        "outputId": "79a90867-a9cf-46ce-9d1d-6ed93205050e"
      },
      "execution_count": 214,
      "outputs": [
        {
          "output_type": "stream",
          "name": "stdout",
          "text": [
            "root\n",
            " |-- Team: string (nullable = true)\n",
            " |-- #: integer (nullable = true)\n",
            " |-- Pos.: string (nullable = true)\n",
            " |-- FIFA Popular Name: string (nullable = true)\n",
            " |-- Birth Date: string (nullable = true)\n",
            " |-- Shirt Name: string (nullable = true)\n",
            " |-- Club: string (nullable = true)\n",
            " |-- Height: integer (nullable = true)\n",
            " |-- Weight: integer (nullable = true)\n",
            "\n",
            "time: 5 ms (started: 2023-09-18 21:15:19 +00:00)\n"
          ]
        }
      ]
    },
    {
      "cell_type": "markdown",
      "source": [
        "Vou renomear as colunas convertendo-as para letras minúsculas."
      ],
      "metadata": {
        "id": "NtCFp9Ya8GAv"
      }
    },
    {
      "cell_type": "code",
      "source": [
        "lower = [column.lower() for column in df.columns]\n",
        "for column, low in zip(df.columns, lower):\n",
        "  df = df.withColumnRenamed(column, low)\n",
        "\n",
        "df = df.withColumnRenamed('pos.', 'pos')\n",
        "print(df.columns)"
      ],
      "metadata": {
        "colab": {
          "base_uri": "https://localhost:8080/"
        },
        "id": "IbbSHIzX8M__",
        "outputId": "b7b3cee8-9e22-4d03-8895-1dd8be6bad47"
      },
      "execution_count": 215,
      "outputs": [
        {
          "output_type": "stream",
          "name": "stdout",
          "text": [
            "['team', '#', 'pos', 'fifa popular name', 'birth date', 'shirt name', 'club', 'height', 'weight']\n",
            "time: 88.3 ms (started: 2023-09-18 21:15:19 +00:00)\n"
          ]
        }
      ]
    },
    {
      "cell_type": "markdown",
      "source": [
        "Note que 'birth date' está no formato string e também o separador dos componentes YYY, MM, DD é um ponto. Abaixo vemos uma forma de extrair os componentes."
      ],
      "metadata": {
        "id": "lptmUlt7uQuF"
      }
    },
    {
      "cell_type": "code",
      "source": [
        "dia = udf(lambda date:date.split('.')[0])\n",
        "mes = udf(lambda date:date.split('.')[1])\n",
        "ano = udf(lambda date:date.split('.')[2])\n",
        "\n",
        "df = df.withColumn('dia', dia('birth date'))\n",
        "df = df.withColumn('mes', mes('birth date'))\n",
        "df = df.withColumn('ano', ano('birth date'))\n",
        "\n",
        "df.show(5)"
      ],
      "metadata": {
        "colab": {
          "base_uri": "https://localhost:8080/"
        },
        "id": "yUX4KfScuj0j",
        "outputId": "528ae99c-bc02-4d4e-d6d1-bc794df7d642"
      },
      "execution_count": 216,
      "outputs": [
        {
          "output_type": "stream",
          "name": "stdout",
          "text": [
            "+---------+---+---+------------------+----------+----------+--------------------+------+------+---+---+----+\n",
            "|     team|  #|pos| fifa popular name|birth date|shirt name|                club|height|weight|dia|mes| ano|\n",
            "+---------+---+---+------------------+----------+----------+--------------------+------+------+---+---+----+\n",
            "|Argentina|  3| DF|TAGLIAFICO Nicolas|31.08.1992|TAGLIAFICO|      AFC Ajax (NED)|   169|    65| 31| 08|1992|\n",
            "|Argentina| 22| MF|    PAVON Cristian|21.01.1996|     PAVÓN|CA Boca Juniors (...|   169|    65| 21| 01|1996|\n",
            "|Argentina| 15| MF|    LANZINI Manuel|15.02.1993|   LANZINI|West Ham United F...|   167|    66| 15| 02|1993|\n",
            "|Argentina| 18| DF|    SALVIO Eduardo|13.07.1990|    SALVIO|    SL Benfica (POR)|   167|    69| 13| 07|1990|\n",
            "|Argentina| 10| FW|      MESSI Lionel|24.06.1987|     MESSI|  FC Barcelona (ESP)|   170|    72| 24| 06|1987|\n",
            "+---------+---+---+------------------+----------+----------+--------------------+------+------+---+---+----+\n",
            "only showing top 5 rows\n",
            "\n",
            "time: 1.73 s (started: 2023-09-18 21:15:19 +00:00)\n"
          ]
        }
      ]
    },
    {
      "cell_type": "markdown",
      "source": [
        "A conversão de \"birth date\" para o formato DateType pode ser feita da seguinte forma."
      ],
      "metadata": {
        "id": "bWSmfgQWXe4g"
      }
    },
    {
      "cell_type": "code",
      "source": [
        "df.withColumn('data nascimento', to_date(col(\"birth date\"), \"dd.MM.yyyy\")).printSchema()\n",
        "# ou\n",
        "#df.withColumn('Data', to_date(col(\"birth date\"), \"dd.MM.yyyy\").cast(DateType())).printSchema()"
      ],
      "metadata": {
        "colab": {
          "base_uri": "https://localhost:8080/"
        },
        "id": "lh_JlUfxXm6f",
        "outputId": "721b07d1-be60-4651-fa0d-78861792b0ca"
      },
      "execution_count": 217,
      "outputs": [
        {
          "output_type": "stream",
          "name": "stdout",
          "text": [
            "root\n",
            " |-- team: string (nullable = true)\n",
            " |-- #: integer (nullable = true)\n",
            " |-- pos: string (nullable = true)\n",
            " |-- fifa popular name: string (nullable = true)\n",
            " |-- birth date: string (nullable = true)\n",
            " |-- shirt name: string (nullable = true)\n",
            " |-- club: string (nullable = true)\n",
            " |-- height: integer (nullable = true)\n",
            " |-- weight: integer (nullable = true)\n",
            " |-- dia: string (nullable = true)\n",
            " |-- mes: string (nullable = true)\n",
            " |-- ano: string (nullable = true)\n",
            " |-- data nascimento: date (nullable = true)\n",
            "\n",
            "time: 34.7 ms (started: 2023-09-18 21:15:21 +00:00)\n"
          ]
        }
      ]
    },
    {
      "cell_type": "markdown",
      "source": [
        "Outra conversão de tipo com a função cast()."
      ],
      "metadata": {
        "id": "Tb-QF4sEsvUL"
      }
    },
    {
      "cell_type": "code",
      "source": [
        "df.withColumn('height', col('height').cast(FloatType())).show(5)"
      ],
      "metadata": {
        "colab": {
          "base_uri": "https://localhost:8080/"
        },
        "id": "pvDqvkVrqbtT",
        "outputId": "f661f179-fcb9-4f7c-c8b1-be07f4b43191"
      },
      "execution_count": 218,
      "outputs": [
        {
          "output_type": "stream",
          "name": "stdout",
          "text": [
            "+---------+---+---+------------------+----------+----------+--------------------+------+------+---+---+----+\n",
            "|     team|  #|pos| fifa popular name|birth date|shirt name|                club|height|weight|dia|mes| ano|\n",
            "+---------+---+---+------------------+----------+----------+--------------------+------+------+---+---+----+\n",
            "|Argentina|  3| DF|TAGLIAFICO Nicolas|31.08.1992|TAGLIAFICO|      AFC Ajax (NED)| 169.0|    65| 31| 08|1992|\n",
            "|Argentina| 22| MF|    PAVON Cristian|21.01.1996|     PAVÓN|CA Boca Juniors (...| 169.0|    65| 21| 01|1996|\n",
            "|Argentina| 15| MF|    LANZINI Manuel|15.02.1993|   LANZINI|West Ham United F...| 167.0|    66| 15| 02|1993|\n",
            "|Argentina| 18| DF|    SALVIO Eduardo|13.07.1990|    SALVIO|    SL Benfica (POR)| 167.0|    69| 13| 07|1990|\n",
            "|Argentina| 10| FW|      MESSI Lionel|24.06.1987|     MESSI|  FC Barcelona (ESP)| 170.0|    72| 24| 06|1987|\n",
            "+---------+---+---+------------------+----------+----------+--------------------+------+------+---+---+----+\n",
            "only showing top 5 rows\n",
            "\n",
            "time: 596 ms (started: 2023-09-18 21:15:21 +00:00)\n"
          ]
        }
      ]
    },
    {
      "cell_type": "markdown",
      "source": [
        "Remoção de uma coluna."
      ],
      "metadata": {
        "id": "3scrwmfgXTNZ"
      }
    },
    {
      "cell_type": "code",
      "source": [
        "df = df.withColumn('new_col', lit(True))\n",
        "df = df.drop('new_col')\n",
        "df.show(5)"
      ],
      "metadata": {
        "colab": {
          "base_uri": "https://localhost:8080/"
        },
        "id": "WR4oimyoP0q0",
        "outputId": "2e2f46bc-6e83-4309-ea6b-89765213dc21"
      },
      "execution_count": 219,
      "outputs": [
        {
          "output_type": "stream",
          "name": "stdout",
          "text": [
            "+---------+---+---+------------------+----------+----------+--------------------+------+------+---+---+----+\n",
            "|     team|  #|pos| fifa popular name|birth date|shirt name|                club|height|weight|dia|mes| ano|\n",
            "+---------+---+---+------------------+----------+----------+--------------------+------+------+---+---+----+\n",
            "|Argentina|  3| DF|TAGLIAFICO Nicolas|31.08.1992|TAGLIAFICO|      AFC Ajax (NED)|   169|    65| 31| 08|1992|\n",
            "|Argentina| 22| MF|    PAVON Cristian|21.01.1996|     PAVÓN|CA Boca Juniors (...|   169|    65| 21| 01|1996|\n",
            "|Argentina| 15| MF|    LANZINI Manuel|15.02.1993|   LANZINI|West Ham United F...|   167|    66| 15| 02|1993|\n",
            "|Argentina| 18| DF|    SALVIO Eduardo|13.07.1990|    SALVIO|    SL Benfica (POR)|   167|    69| 13| 07|1990|\n",
            "|Argentina| 10| FW|      MESSI Lionel|24.06.1987|     MESSI|  FC Barcelona (ESP)|   170|    72| 24| 06|1987|\n",
            "+---------+---+---+------------------+----------+----------+--------------------+------+------+---+---+----+\n",
            "only showing top 5 rows\n",
            "\n",
            "time: 589 ms (started: 2023-09-18 21:15:22 +00:00)\n"
          ]
        }
      ]
    },
    {
      "cell_type": "markdown",
      "source": [
        "Criando backup do dataframe"
      ],
      "metadata": {
        "id": "Ue7YT41Bazkf"
      }
    },
    {
      "cell_type": "code",
      "source": [
        "df_backup = df"
      ],
      "metadata": {
        "colab": {
          "base_uri": "https://localhost:8080/"
        },
        "id": "H8tTGZECa2Bq",
        "outputId": "588a3b90-49d9-4728-981e-a309db3d24e1"
      },
      "execution_count": 220,
      "outputs": [
        {
          "output_type": "stream",
          "name": "stdout",
          "text": [
            "time: 1.25 ms (started: 2023-09-18 21:15:22 +00:00)\n"
          ]
        }
      ]
    },
    {
      "cell_type": "markdown",
      "source": [
        "# Where\n",
        "Função que implementa a cláusula WHERE do SQL. A string argumento da função where() deve seguir o padrão SQL.\n",
        "\n",
        "Uma alternativa é a função filter() que pode ser usada da mesma forma."
      ],
      "metadata": {
        "id": "FMJL0sd2398C"
      }
    },
    {
      "cell_type": "code",
      "source": [
        "df.where(\"team = 'Argentina'\").show(5)"
      ],
      "metadata": {
        "colab": {
          "base_uri": "https://localhost:8080/"
        },
        "id": "Xidh2TQC4WEd",
        "outputId": "3c6c5240-3b07-4e29-b52a-0b4dcd9d440c"
      },
      "execution_count": 221,
      "outputs": [
        {
          "output_type": "stream",
          "name": "stdout",
          "text": [
            "+---------+---+---+------------------+----------+----------+--------------------+------+------+---+---+----+\n",
            "|     team|  #|pos| fifa popular name|birth date|shirt name|                club|height|weight|dia|mes| ano|\n",
            "+---------+---+---+------------------+----------+----------+--------------------+------+------+---+---+----+\n",
            "|Argentina|  3| DF|TAGLIAFICO Nicolas|31.08.1992|TAGLIAFICO|      AFC Ajax (NED)|   169|    65| 31| 08|1992|\n",
            "|Argentina| 22| MF|    PAVON Cristian|21.01.1996|     PAVÓN|CA Boca Juniors (...|   169|    65| 21| 01|1996|\n",
            "|Argentina| 15| MF|    LANZINI Manuel|15.02.1993|   LANZINI|West Ham United F...|   167|    66| 15| 02|1993|\n",
            "|Argentina| 18| DF|    SALVIO Eduardo|13.07.1990|    SALVIO|    SL Benfica (POR)|   167|    69| 13| 07|1990|\n",
            "|Argentina| 10| FW|      MESSI Lionel|24.06.1987|     MESSI|  FC Barcelona (ESP)|   170|    72| 24| 06|1987|\n",
            "+---------+---+---+------------------+----------+----------+--------------------+------+------+---+---+----+\n",
            "only showing top 5 rows\n",
            "\n",
            "time: 416 ms (started: 2023-09-18 21:15:22 +00:00)\n"
          ]
        }
      ]
    },
    {
      "cell_type": "code",
      "source": [
        "mask = df['team'] == 'Argentina'\n",
        "print(mask)\n",
        "df.where(mask).show(5)"
      ],
      "metadata": {
        "colab": {
          "base_uri": "https://localhost:8080/"
        },
        "id": "XJwOW85d5FV2",
        "outputId": "b2b5f1b0-d285-4fc3-ff1b-9e8973ddc585"
      },
      "execution_count": 222,
      "outputs": [
        {
          "output_type": "stream",
          "name": "stdout",
          "text": [
            "Column<'(team = Argentina)'>\n",
            "+---------+---+---+------------------+----------+----------+--------------------+------+------+---+---+----+\n",
            "|     team|  #|pos| fifa popular name|birth date|shirt name|                club|height|weight|dia|mes| ano|\n",
            "+---------+---+---+------------------+----------+----------+--------------------+------+------+---+---+----+\n",
            "|Argentina|  3| DF|TAGLIAFICO Nicolas|31.08.1992|TAGLIAFICO|      AFC Ajax (NED)|   169|    65| 31| 08|1992|\n",
            "|Argentina| 22| MF|    PAVON Cristian|21.01.1996|     PAVÓN|CA Boca Juniors (...|   169|    65| 21| 01|1996|\n",
            "|Argentina| 15| MF|    LANZINI Manuel|15.02.1993|   LANZINI|West Ham United F...|   167|    66| 15| 02|1993|\n",
            "|Argentina| 18| DF|    SALVIO Eduardo|13.07.1990|    SALVIO|    SL Benfica (POR)|   167|    69| 13| 07|1990|\n",
            "|Argentina| 10| FW|      MESSI Lionel|24.06.1987|     MESSI|  FC Barcelona (ESP)|   170|    72| 24| 06|1987|\n",
            "+---------+---+---+------------------+----------+----------+--------------------+------+------+---+---+----+\n",
            "only showing top 5 rows\n",
            "\n",
            "time: 481 ms (started: 2023-09-18 21:15:23 +00:00)\n"
          ]
        }
      ]
    },
    {
      "cell_type": "code",
      "source": [
        "mask = (col('shirt name') == 'MESSI')\n",
        "print(mask)\n",
        "df.filter(mask).show(5)"
      ],
      "metadata": {
        "colab": {
          "base_uri": "https://localhost:8080/"
        },
        "id": "0xmj005pIvLE",
        "outputId": "aab6065d-8fb7-4df3-dd83-b94560480dac"
      },
      "execution_count": 223,
      "outputs": [
        {
          "output_type": "stream",
          "name": "stdout",
          "text": [
            "Column<'(shirt name = MESSI)'>\n",
            "+---------+---+---+-----------------+----------+----------+------------------+------+------+---+---+----+\n",
            "|     team|  #|pos|fifa popular name|birth date|shirt name|              club|height|weight|dia|mes| ano|\n",
            "+---------+---+---+-----------------+----------+----------+------------------+------+------+---+---+----+\n",
            "|Argentina| 10| FW|     MESSI Lionel|24.06.1987|     MESSI|FC Barcelona (ESP)|   170|    72| 24| 06|1987|\n",
            "+---------+---+---+-----------------+----------+----------+------------------+------+------+---+---+----+\n",
            "\n",
            "time: 469 ms (started: 2023-09-18 21:15:23 +00:00)\n"
          ]
        }
      ]
    },
    {
      "cell_type": "markdown",
      "source": [
        "## Filtros compostos"
      ],
      "metadata": {
        "id": "O7cHwIHhJCvZ"
      }
    },
    {
      "cell_type": "code",
      "source": [
        "mask = (\"team = 'Brazil' AND height < 170\")\n",
        "print(mask)\n",
        "df.where(mask).show(5)"
      ],
      "metadata": {
        "colab": {
          "base_uri": "https://localhost:8080/"
        },
        "id": "2nUad3qtJD_O",
        "outputId": "83e36f38-18ed-475f-eaf2-67f503ec25a7"
      },
      "execution_count": 246,
      "outputs": [
        {
          "output_type": "stream",
          "name": "stdout",
          "text": [
            "team = 'Brazil' AND height < 170\n",
            "+------+---+---+-----------------+----------+----------+--------------------+------+------+---+---+----+\n",
            "|  team|  #|pos|fifa popular name|birth date|shirt name|                club|height|weight|dia|mes| ano|\n",
            "+------+---+---+-----------------+----------+----------+--------------------+------+------+---+---+----+\n",
            "|Brazil| 18| MF|             FRED|05.03.1993|      FRED|FC Shakhtar Donet...|   169|    64| 05| 03|1993|\n",
            "|Brazil| 22| DF|           FAGNER|11.06.1989|    FAGNER|SC Corinthians (BRA)|   168|    67| 11| 06|1989|\n",
            "+------+---+---+-----------------+----------+----------+--------------------+------+------+---+---+----+\n",
            "\n",
            "time: 595 ms (started: 2023-09-18 21:18:22 +00:00)\n"
          ]
        }
      ]
    },
    {
      "cell_type": "code",
      "source": [
        "mask = (col('team') == 'Brazil') & (col('height') < 170)\n",
        "print(mask)\n",
        "df.where(mask).show(5)"
      ],
      "metadata": {
        "colab": {
          "base_uri": "https://localhost:8080/"
        },
        "id": "3GvVbsLVKMJ3",
        "outputId": "0655067d-5f66-42cf-8be5-7508cbb704f6"
      },
      "execution_count": 248,
      "outputs": [
        {
          "output_type": "stream",
          "name": "stdout",
          "text": [
            "Column<'((team = Brazil) AND (height < 170))'>\n",
            "+------+---+---+-----------------+----------+----------+--------------------+------+------+---+---+----+\n",
            "|  team|  #|pos|fifa popular name|birth date|shirt name|                club|height|weight|dia|mes| ano|\n",
            "+------+---+---+-----------------+----------+----------+--------------------+------+------+---+---+----+\n",
            "|Brazil| 18| MF|             FRED|05.03.1993|      FRED|FC Shakhtar Donet...|   169|    64| 05| 03|1993|\n",
            "|Brazil| 22| DF|           FAGNER|11.06.1989|    FAGNER|SC Corinthians (BRA)|   168|    67| 11| 06|1989|\n",
            "+------+---+---+-----------------+----------+----------+--------------------+------+------+---+---+----+\n",
            "\n",
            "time: 402 ms (started: 2023-09-18 21:19:13 +00:00)\n"
          ]
        }
      ]
    },
    {
      "cell_type": "markdown",
      "source": [
        "# GroupBy\n",
        "\n",
        "Tendo uma coluna como referência, todas as linhas onde os valores dessa coluna são iguais são \"colapsadas\" em apenas uma. É preciso especificar o que deve ser feito com as outras colunas caso contrário elas serão ignoradas. Normalmente aplicamos funções de estatística descritiva."
      ],
      "metadata": {
        "id": "ZkBWXq7IeIDC"
      }
    },
    {
      "cell_type": "code",
      "source": [
        "df.groupBy('team').mean('weight').orderBy('avg(weight)', ascending=True).show(10)"
      ],
      "metadata": {
        "colab": {
          "base_uri": "https://localhost:8080/"
        },
        "id": "AI3a35dWe1c6",
        "outputId": "eb88a629-6d37-4197-9fb8-1332569ee0ea"
      },
      "execution_count": 225,
      "outputs": [
        {
          "output_type": "stream",
          "name": "stdout",
          "text": [
            "+--------------+-----------------+\n",
            "|          team|      avg(weight)|\n",
            "+--------------+-----------------+\n",
            "|         Japan|71.52173913043478|\n",
            "|  Saudi Arabia|73.04347826086956|\n",
            "|      Portugal| 73.6086956521739|\n",
            "|        Mexico|74.08695652173913|\n",
            "|    Costa Rica| 74.1304347826087|\n",
            "|Korea Republic|74.43478260869566|\n",
            "|       Uruguay| 74.6086956521739|\n",
            "|       Morocco|74.65217391304348|\n",
            "|         Spain|74.73913043478261|\n",
            "|       Tunisia|             75.0|\n",
            "+--------------+-----------------+\n",
            "only showing top 10 rows\n",
            "\n",
            "time: 612 ms (started: 2023-09-18 21:15:24 +00:00)\n"
          ]
        }
      ]
    },
    {
      "cell_type": "markdown",
      "source": [
        "Para especificar qual função de agregação deve ser usada em cada coluna podemos usar a função agg()."
      ],
      "metadata": {
        "id": "nRs42OSbiBJj"
      }
    },
    {
      "cell_type": "code",
      "source": [
        "df.groupBy('team').agg({'weight':'avg', 'dia':'min', 'height':'max'}).orderBy('max(height)', ascending=False).show(10)"
      ],
      "metadata": {
        "colab": {
          "base_uri": "https://localhost:8080/"
        },
        "id": "-0bxHONmiJfe",
        "outputId": "9de9335a-c9f1-40fd-a1ac-bf3500bd33bd"
      },
      "execution_count": 226,
      "outputs": [
        {
          "output_type": "stream",
          "name": "stdout",
          "text": [
            "+--------------+-----------------+--------+-----------+\n",
            "|          team|      avg(weight)|min(dia)|max(height)|\n",
            "+--------------+-----------------+--------+-----------+\n",
            "|       Croatia|79.30434782608695|      02|        201|\n",
            "|       Denmark| 82.6086956521739|      01|        200|\n",
            "|     Argentina|75.56521739130434|      02|        199|\n",
            "|       Belgium|79.56521739130434|      02|        199|\n",
            "|       Iceland|80.73913043478261|      01|        198|\n",
            "|        Sweden|78.82608695652173|      02|        198|\n",
            "|       Nigeria|80.47826086956522|      01|        197|\n",
            "|Korea Republic|74.43478260869566|      03|        197|\n",
            "|        France|             80.0|      03|        197|\n",
            "|        Panama|             80.0|      01|        197|\n",
            "+--------------+-----------------+--------+-----------+\n",
            "only showing top 10 rows\n",
            "\n",
            "time: 1.08 s (started: 2023-09-18 21:15:25 +00:00)\n"
          ]
        }
      ]
    },
    {
      "cell_type": "code",
      "source": [
        "df.groupBy('team').agg(avg('weight')).orderBy('avg(weight)', ascending=True).show(10)"
      ],
      "metadata": {
        "colab": {
          "base_uri": "https://localhost:8080/"
        },
        "id": "8KBPRvIpk6z7",
        "outputId": "35fb6e6f-7186-4795-fcda-394c39a650fc"
      },
      "execution_count": 227,
      "outputs": [
        {
          "output_type": "stream",
          "name": "stdout",
          "text": [
            "+--------------+-----------------+\n",
            "|          team|      avg(weight)|\n",
            "+--------------+-----------------+\n",
            "|         Japan|71.52173913043478|\n",
            "|  Saudi Arabia|73.04347826086956|\n",
            "|      Portugal| 73.6086956521739|\n",
            "|        Mexico|74.08695652173913|\n",
            "|    Costa Rica| 74.1304347826087|\n",
            "|Korea Republic|74.43478260869566|\n",
            "|       Uruguay| 74.6086956521739|\n",
            "|       Morocco|74.65217391304348|\n",
            "|         Spain|74.73913043478261|\n",
            "|       Tunisia|             75.0|\n",
            "+--------------+-----------------+\n",
            "only showing top 10 rows\n",
            "\n",
            "time: 472 ms (started: 2023-09-18 21:15:26 +00:00)\n"
          ]
        }
      ]
    },
    {
      "cell_type": "markdown",
      "source": [
        "# Window Functions\n",
        "Tem o conceito muito parecido com groupby, mas enquanto neste, as linhas iguais são agrupadas formando agrupamentos de instâncias de dados baseados em uma ou mais colunas.\n",
        "\n",
        "*   row_number()\n",
        "*   rank()\n",
        "*   dense_rank()\n",
        "*   persent_rank()\n",
        "*   ntile()\n",
        "\n",
        "**Obs.** A função orderBy() usada com Window.partitionBy() não é a mesma usada com as funções de agregação de groupBy(). Enquanto essa retorna um DataFrame o outro cria uma WindowSpec."
      ],
      "metadata": {
        "id": "iEsfhD1VbpY-"
      }
    },
    {
      "cell_type": "code",
      "source": [
        "df.show(5)"
      ],
      "metadata": {
        "colab": {
          "base_uri": "https://localhost:8080/"
        },
        "id": "xtg0aWMRcvsT",
        "outputId": "ec6b437a-569e-490a-f861-8a80a9d48fdc"
      },
      "execution_count": 228,
      "outputs": [
        {
          "output_type": "stream",
          "name": "stdout",
          "text": [
            "+---------+---+---+------------------+----------+----------+--------------------+------+------+---+---+----+\n",
            "|     team|  #|pos| fifa popular name|birth date|shirt name|                club|height|weight|dia|mes| ano|\n",
            "+---------+---+---+------------------+----------+----------+--------------------+------+------+---+---+----+\n",
            "|Argentina|  3| DF|TAGLIAFICO Nicolas|31.08.1992|TAGLIAFICO|      AFC Ajax (NED)|   169|    65| 31| 08|1992|\n",
            "|Argentina| 22| MF|    PAVON Cristian|21.01.1996|     PAVÓN|CA Boca Juniors (...|   169|    65| 21| 01|1996|\n",
            "|Argentina| 15| MF|    LANZINI Manuel|15.02.1993|   LANZINI|West Ham United F...|   167|    66| 15| 02|1993|\n",
            "|Argentina| 18| DF|    SALVIO Eduardo|13.07.1990|    SALVIO|    SL Benfica (POR)|   167|    69| 13| 07|1990|\n",
            "|Argentina| 10| FW|      MESSI Lionel|24.06.1987|     MESSI|  FC Barcelona (ESP)|   170|    72| 24| 06|1987|\n",
            "+---------+---+---+------------------+----------+----------+--------------------+------+------+---+---+----+\n",
            "only showing top 5 rows\n",
            "\n",
            "time: 442 ms (started: 2023-09-18 21:15:27 +00:00)\n"
          ]
        }
      ]
    },
    {
      "cell_type": "markdown",
      "source": [
        "row_number()"
      ],
      "metadata": {
        "id": "kkLpC58KkeaK"
      }
    },
    {
      "cell_type": "code",
      "source": [
        "prt = Window.partitionBy('team').orderBy(desc('height'))\n",
        "print(type(prt))\n",
        "print(type(row_number()))\n",
        "df.withColumn('row', row_number().over(prt)).show(10)"
      ],
      "metadata": {
        "colab": {
          "base_uri": "https://localhost:8080/"
        },
        "id": "74rdlQbacHPc",
        "outputId": "9ec95233-3d14-4acb-916a-80c64203f6e7"
      },
      "execution_count": 229,
      "outputs": [
        {
          "output_type": "stream",
          "name": "stdout",
          "text": [
            "<class 'pyspark.sql.window.WindowSpec'>\n",
            "<class 'pyspark.sql.column.Column'>\n",
            "+---------+---+---+------------------+----------+----------+--------------------+------+------+---+---+----+---+\n",
            "|     team|  #|pos| fifa popular name|birth date|shirt name|                club|height|weight|dia|mes| ano|row|\n",
            "+---------+---+---+------------------+----------+----------+--------------------+------+------+---+---+----+---+\n",
            "|Argentina|  6| DF|    FAZIO Federico|17.03.1987|     FAZIO|       AS Roma (ITA)|   199|    85| 17| 03|1987|  1|\n",
            "|Argentina|  1| GK|     GUZMAN Nahuel|10.02.1986|    GUZMÁN|   Tigres UANL (MEX)|   192|    90| 10| 02|1986|  2|\n",
            "|Argentina| 16| DF|       ROJO Marcos|20.03.1990|      ROJO|Manchester United...|   189|    82| 20| 03|1990|  3|\n",
            "|Argentina| 12| GK|     ARMANI Franco|16.10.1986|    ARMANI|CA River Plate (ARG)|   189|    85| 16| 10|1986|  4|\n",
            "|Argentina| 23| GK|CABALLERO Wilfredo|28.09.1981| CABALLERO|    Chelsea FC (ENG)|   186|    80| 28| 09|1981|  5|\n",
            "|Argentina|  9| FW|   HIGUAIN Gonzalo|10.12.1987|   HIGUAÍN|   Juventus FC (ITA)|   184|    75| 10| 12|1987|  6|\n",
            "|Argentina|  4| DF|  ANSALDI Cristian|20.09.1986|   ANSALDI|     Torino FC (ITA)|   181|    73| 20| 09|1986|  7|\n",
            "|Argentina|  2| DF|   MERCADO Gabriel|18.03.1987|   MERCADO|    Sevilla FC (ESP)|   181|    81| 18| 03|1987|  8|\n",
            "|Argentina| 17| DF|  OTAMENDI Nicolas|12.02.1988|  OTAMENDI|Manchester City F...|   181|    81| 12| 02|1988|  9|\n",
            "|Argentina| 13| MF|  MEZA Maximiliano|15.12.1992|      MEZA|CA Independiente ...|   180|    76| 15| 12|1992| 10|\n",
            "+---------+---+---+------------------+----------+----------+--------------------+------+------+---+---+----+---+\n",
            "only showing top 10 rows\n",
            "\n",
            "time: 767 ms (started: 2023-09-18 21:15:27 +00:00)\n"
          ]
        }
      ]
    },
    {
      "cell_type": "code",
      "source": [
        "# Selecionar os atletas mais altos de cada time.\n",
        "prt = Window.partitionBy('team').orderBy(desc('height'))\n",
        "df.withColumn('top', row_number().over(prt)).where(\"top = 1\").show(10)"
      ],
      "metadata": {
        "colab": {
          "base_uri": "https://localhost:8080/"
        },
        "id": "zj0QPwXV6Ldf",
        "outputId": "2a324dc3-e673-4796-e040-4088b25362cf"
      },
      "execution_count": 230,
      "outputs": [
        {
          "output_type": "stream",
          "name": "stdout",
          "text": [
            "+----------+---+---+------------------+----------+-----------+--------------------+------+------+---+---+----+---+\n",
            "|      team|  #|pos| fifa popular name|birth date| shirt name|                club|height|weight|dia|mes| ano|top|\n",
            "+----------+---+---+------------------+----------+-----------+--------------------+------+------+---+---+----+---+\n",
            "| Argentina|  6| DF|    FAZIO Federico|17.03.1987|      FAZIO|       AS Roma (ITA)|   199|    85| 17| 03|1987|  1|\n",
            "| Australia| 12| GK|        JONES Brad|19.03.1982|      JONES|Feyenoord Rotterd...|   193|    87| 19| 03|1982|  1|\n",
            "|   Belgium|  1| GK|  COURTOIS Thibaut|11.05.1992|   COURTOIS|    Chelsea FC (ENG)|   199|    91| 11| 05|1992|  1|\n",
            "|    Brazil| 16| GK|            CASSIO|06.06.1987|     CASSIO|SC Corinthians (BRA)|   195|    92| 06| 06|1987|  1|\n",
            "|  Colombia| 13| DF|        MINA Yerry|23.09.1994|    Y. MINA|  FC Barcelona (ESP)|   194|    95| 23| 09|1994|  1|\n",
            "|Costa Rica| 19| DF|    WASTON Kendall|01.01.1988|  K. WASTON|Vancouver Whiteca...|   196|    87| 01| 01|1988|  1|\n",
            "|   Croatia| 12| GK|     KALINIC Lovre|03.04.1990| L. KALINIĆ|      KAA Gent (BEL)|   201|    96| 03| 04|1990|  1|\n",
            "|   Denmark|  3| DF|VESTERGAARD Jannik|03.08.1992|VESTERGAARD|VfL Borussia Mönc...|   200|    98| 03| 08|1992|  1|\n",
            "|     Egypt|  6| DF|      AHMED HEGAZY|25.01.1991|  A. HEGAZY|West Bromwich Alb...|   194|    95| 25| 01|1991|  1|\n",
            "|   England| 13| GK|      BUTLAND Jack|10.03.1993|    BUTLAND| Stoke City FC (ENG)|   196|    96| 10| 03|1993|  1|\n",
            "+----------+---+---+------------------+----------+-----------+--------------------+------+------+---+---+----+---+\n",
            "only showing top 10 rows\n",
            "\n",
            "time: 727 ms (started: 2023-09-18 21:15:28 +00:00)\n"
          ]
        }
      ]
    },
    {
      "cell_type": "markdown",
      "source": [
        "rank(): Note como rank=3 se repete duas vezes e depois há um salto para rank=5. Esta é uma peculiaridade dessa função."
      ],
      "metadata": {
        "id": "KuMhw3n2kKJP"
      }
    },
    {
      "cell_type": "code",
      "source": [
        "prt = Window.partitionBy('team').orderBy(desc('height'))\n",
        "df.withColumn('rank', rank().over(prt)).show(10)"
      ],
      "metadata": {
        "colab": {
          "base_uri": "https://localhost:8080/"
        },
        "id": "kPVsRj7PjJLC",
        "outputId": "1adf1cbb-f1e4-4d34-feee-237dff417a8d"
      },
      "execution_count": 231,
      "outputs": [
        {
          "output_type": "stream",
          "name": "stdout",
          "text": [
            "+---------+---+---+------------------+----------+----------+--------------------+------+------+---+---+----+----+\n",
            "|     team|  #|pos| fifa popular name|birth date|shirt name|                club|height|weight|dia|mes| ano|rank|\n",
            "+---------+---+---+------------------+----------+----------+--------------------+------+------+---+---+----+----+\n",
            "|Argentina|  6| DF|    FAZIO Federico|17.03.1987|     FAZIO|       AS Roma (ITA)|   199|    85| 17| 03|1987|   1|\n",
            "|Argentina|  1| GK|     GUZMAN Nahuel|10.02.1986|    GUZMÁN|   Tigres UANL (MEX)|   192|    90| 10| 02|1986|   2|\n",
            "|Argentina| 16| DF|       ROJO Marcos|20.03.1990|      ROJO|Manchester United...|   189|    82| 20| 03|1990|   3|\n",
            "|Argentina| 12| GK|     ARMANI Franco|16.10.1986|    ARMANI|CA River Plate (ARG)|   189|    85| 16| 10|1986|   3|\n",
            "|Argentina| 23| GK|CABALLERO Wilfredo|28.09.1981| CABALLERO|    Chelsea FC (ENG)|   186|    80| 28| 09|1981|   5|\n",
            "|Argentina|  9| FW|   HIGUAIN Gonzalo|10.12.1987|   HIGUAÍN|   Juventus FC (ITA)|   184|    75| 10| 12|1987|   6|\n",
            "|Argentina|  4| DF|  ANSALDI Cristian|20.09.1986|   ANSALDI|     Torino FC (ITA)|   181|    73| 20| 09|1986|   7|\n",
            "|Argentina|  2| DF|   MERCADO Gabriel|18.03.1987|   MERCADO|    Sevilla FC (ESP)|   181|    81| 18| 03|1987|   7|\n",
            "|Argentina| 17| DF|  OTAMENDI Nicolas|12.02.1988|  OTAMENDI|Manchester City F...|   181|    81| 12| 02|1988|   7|\n",
            "|Argentina| 13| MF|  MEZA Maximiliano|15.12.1992|      MEZA|CA Independiente ...|   180|    76| 15| 12|1992|  10|\n",
            "+---------+---+---+------------------+----------+----------+--------------------+------+------+---+---+----+----+\n",
            "only showing top 10 rows\n",
            "\n",
            "time: 677 ms (started: 2023-09-18 21:15:29 +00:00)\n"
          ]
        }
      ]
    },
    {
      "cell_type": "markdown",
      "source": [
        "dense_rank(): Aqui, mesmo que rank=3 se repita o próximo valor de rank é 4 e assim por diante. Não há saltos de valores."
      ],
      "metadata": {
        "id": "ExD1iTmakiIx"
      }
    },
    {
      "cell_type": "code",
      "source": [
        "prt = Window.partitionBy('team').orderBy(desc('height'))\n",
        "df.withColumn('dense_rank', dense_rank().over(prt)).show(10)"
      ],
      "metadata": {
        "colab": {
          "base_uri": "https://localhost:8080/"
        },
        "id": "Tw53dOeokyzh",
        "outputId": "8b0bf552-91ce-40ba-aa6b-b37624ee1efb"
      },
      "execution_count": 232,
      "outputs": [
        {
          "output_type": "stream",
          "name": "stdout",
          "text": [
            "+---------+---+---+------------------+----------+----------+--------------------+------+------+---+---+----+----------+\n",
            "|     team|  #|pos| fifa popular name|birth date|shirt name|                club|height|weight|dia|mes| ano|dense_rank|\n",
            "+---------+---+---+------------------+----------+----------+--------------------+------+------+---+---+----+----------+\n",
            "|Argentina|  6| DF|    FAZIO Federico|17.03.1987|     FAZIO|       AS Roma (ITA)|   199|    85| 17| 03|1987|         1|\n",
            "|Argentina|  1| GK|     GUZMAN Nahuel|10.02.1986|    GUZMÁN|   Tigres UANL (MEX)|   192|    90| 10| 02|1986|         2|\n",
            "|Argentina| 16| DF|       ROJO Marcos|20.03.1990|      ROJO|Manchester United...|   189|    82| 20| 03|1990|         3|\n",
            "|Argentina| 12| GK|     ARMANI Franco|16.10.1986|    ARMANI|CA River Plate (ARG)|   189|    85| 16| 10|1986|         3|\n",
            "|Argentina| 23| GK|CABALLERO Wilfredo|28.09.1981| CABALLERO|    Chelsea FC (ENG)|   186|    80| 28| 09|1981|         4|\n",
            "|Argentina|  9| FW|   HIGUAIN Gonzalo|10.12.1987|   HIGUAÍN|   Juventus FC (ITA)|   184|    75| 10| 12|1987|         5|\n",
            "|Argentina|  4| DF|  ANSALDI Cristian|20.09.1986|   ANSALDI|     Torino FC (ITA)|   181|    73| 20| 09|1986|         6|\n",
            "|Argentina|  2| DF|   MERCADO Gabriel|18.03.1987|   MERCADO|    Sevilla FC (ESP)|   181|    81| 18| 03|1987|         6|\n",
            "|Argentina| 17| DF|  OTAMENDI Nicolas|12.02.1988|  OTAMENDI|Manchester City F...|   181|    81| 12| 02|1988|         6|\n",
            "|Argentina| 13| MF|  MEZA Maximiliano|15.12.1992|      MEZA|CA Independiente ...|   180|    76| 15| 12|1992|         7|\n",
            "+---------+---+---+------------------+----------+----------+--------------------+------+------+---+---+----+----------+\n",
            "only showing top 10 rows\n",
            "\n",
            "time: 799 ms (started: 2023-09-18 21:15:29 +00:00)\n"
          ]
        }
      ]
    },
    {
      "cell_type": "markdown",
      "source": [
        "persent_rank(): ranking relativo(percentual)"
      ],
      "metadata": {
        "id": "FgIYuPqAmCD3"
      }
    },
    {
      "cell_type": "code",
      "source": [
        "prt = Window.partitionBy('team').orderBy(desc('height'))\n",
        "df.withColumn('persent_rank', percent_rank().over(prt)).show(10)"
      ],
      "metadata": {
        "colab": {
          "base_uri": "https://localhost:8080/"
        },
        "id": "i8jq7iyimDZw",
        "outputId": "f4c77383-bb46-4a1b-86f7-127011784640"
      },
      "execution_count": 233,
      "outputs": [
        {
          "output_type": "stream",
          "name": "stdout",
          "text": [
            "+---------+---+---+------------------+----------+----------+--------------------+------+------+---+---+----+--------------------+\n",
            "|     team|  #|pos| fifa popular name|birth date|shirt name|                club|height|weight|dia|mes| ano|        persent_rank|\n",
            "+---------+---+---+------------------+----------+----------+--------------------+------+------+---+---+----+--------------------+\n",
            "|Argentina|  6| DF|    FAZIO Federico|17.03.1987|     FAZIO|       AS Roma (ITA)|   199|    85| 17| 03|1987|                 0.0|\n",
            "|Argentina|  1| GK|     GUZMAN Nahuel|10.02.1986|    GUZMÁN|   Tigres UANL (MEX)|   192|    90| 10| 02|1986|0.045454545454545456|\n",
            "|Argentina| 16| DF|       ROJO Marcos|20.03.1990|      ROJO|Manchester United...|   189|    82| 20| 03|1990| 0.09090909090909091|\n",
            "|Argentina| 12| GK|     ARMANI Franco|16.10.1986|    ARMANI|CA River Plate (ARG)|   189|    85| 16| 10|1986| 0.09090909090909091|\n",
            "|Argentina| 23| GK|CABALLERO Wilfredo|28.09.1981| CABALLERO|    Chelsea FC (ENG)|   186|    80| 28| 09|1981| 0.18181818181818182|\n",
            "|Argentina|  9| FW|   HIGUAIN Gonzalo|10.12.1987|   HIGUAÍN|   Juventus FC (ITA)|   184|    75| 10| 12|1987| 0.22727272727272727|\n",
            "|Argentina|  4| DF|  ANSALDI Cristian|20.09.1986|   ANSALDI|     Torino FC (ITA)|   181|    73| 20| 09|1986|  0.2727272727272727|\n",
            "|Argentina|  2| DF|   MERCADO Gabriel|18.03.1987|   MERCADO|    Sevilla FC (ESP)|   181|    81| 18| 03|1987|  0.2727272727272727|\n",
            "|Argentina| 17| DF|  OTAMENDI Nicolas|12.02.1988|  OTAMENDI|Manchester City F...|   181|    81| 12| 02|1988|  0.2727272727272727|\n",
            "|Argentina| 13| MF|  MEZA Maximiliano|15.12.1992|      MEZA|CA Independiente ...|   180|    76| 15| 12|1992|  0.4090909090909091|\n",
            "+---------+---+---+------------------+----------+----------+--------------------+------+------+---+---+----+--------------------+\n",
            "only showing top 10 rows\n",
            "\n",
            "time: 773 ms (started: 2023-09-18 21:15:30 +00:00)\n"
          ]
        }
      ]
    },
    {
      "cell_type": "markdown",
      "source": [
        "ntile(): Divide cada partição em uma quantidade n de quartiles. Cada quartile recebe um valor único. Caso uma partição não seja divisível por n o aloritmo ajustará a quantidade de instâncias de dados pertencentes aos últimos quartiles de modo que a partição tenha n quartiles. Por exemplo, na seleção da Argentina, quando n=5, o penúltimo quartil tem 4 instâncias para poder formar mais um, o último quartil que terá apenas uma instância."
      ],
      "metadata": {
        "id": "3gT5llGdqJBp"
      }
    },
    {
      "cell_type": "code",
      "source": [
        "prt = Window.partitionBy('team').orderBy(desc('height'))\n",
        "df.withColumn('ntile', ntile(5).over(prt)).show(20)"
      ],
      "metadata": {
        "colab": {
          "base_uri": "https://localhost:8080/"
        },
        "id": "AogJ91m3qLUO",
        "outputId": "71e73dae-e69f-48c6-a48f-8b8a59a8493e"
      },
      "execution_count": 234,
      "outputs": [
        {
          "output_type": "stream",
          "name": "stdout",
          "text": [
            "+---------+---+---+------------------+----------+----------+--------------------+------+------+---+---+----+-----+\n",
            "|     team|  #|pos| fifa popular name|birth date|shirt name|                club|height|weight|dia|mes| ano|ntile|\n",
            "+---------+---+---+------------------+----------+----------+--------------------+------+------+---+---+----+-----+\n",
            "|Argentina|  6| DF|    FAZIO Federico|17.03.1987|     FAZIO|       AS Roma (ITA)|   199|    85| 17| 03|1987|    1|\n",
            "|Argentina|  1| GK|     GUZMAN Nahuel|10.02.1986|    GUZMÁN|   Tigres UANL (MEX)|   192|    90| 10| 02|1986|    1|\n",
            "|Argentina| 16| DF|       ROJO Marcos|20.03.1990|      ROJO|Manchester United...|   189|    82| 20| 03|1990|    1|\n",
            "|Argentina| 12| GK|     ARMANI Franco|16.10.1986|    ARMANI|CA River Plate (ARG)|   189|    85| 16| 10|1986|    1|\n",
            "|Argentina| 23| GK|CABALLERO Wilfredo|28.09.1981| CABALLERO|    Chelsea FC (ENG)|   186|    80| 28| 09|1981|    1|\n",
            "|Argentina|  9| FW|   HIGUAIN Gonzalo|10.12.1987|   HIGUAÍN|   Juventus FC (ITA)|   184|    75| 10| 12|1987|    2|\n",
            "|Argentina|  4| DF|  ANSALDI Cristian|20.09.1986|   ANSALDI|     Torino FC (ITA)|   181|    73| 20| 09|1986|    2|\n",
            "|Argentina|  2| DF|   MERCADO Gabriel|18.03.1987|   MERCADO|    Sevilla FC (ESP)|   181|    81| 18| 03|1987|    2|\n",
            "|Argentina| 17| DF|  OTAMENDI Nicolas|12.02.1988|  OTAMENDI|Manchester City F...|   181|    81| 12| 02|1988|    2|\n",
            "|Argentina| 13| MF|  MEZA Maximiliano|15.12.1992|      MEZA|CA Independiente ...|   180|    76| 15| 12|1992|    2|\n",
            "|Argentina| 11| MF|    DI MARIA Angel|14.02.1988|  DI MARÍA|Paris Saint-Germa...|   178|    75| 14| 02|1988|    3|\n",
            "|Argentina| 21| FW|      DYBALA Paulo|15.11.1993|    DYBALA|   Juventus FC (ITA)|   177|    73| 15| 11|1993|    3|\n",
            "|Argentina| 20| MF|  LO CELSO Giovani|09.04.1996|  LO CELSO|Paris Saint-Germa...|   177|    75| 09| 04|1996|    3|\n",
            "|Argentina|  5| MF|      BIGLIA Lucas|30.01.1986|    BIGLIA|      AC Milan (ITA)|   175|    73| 30| 01|1986|    3|\n",
            "|Argentina|  7| MF|       BANEGA Ever|29.06.1988|    BANEGA|    Sevilla FC (ESP)|   175|    73| 29| 06|1988|    3|\n",
            "|Argentina| 14| DF| MASCHERANO Javier|08.06.1984|MASCHERANO|Hebei China Fortu...|   174|    73| 08| 06|1984|    4|\n",
            "|Argentina| 19| FW|     AGUERO Sergio|02.06.1988|    AGÜERO|Manchester City F...|   172|    74| 02| 06|1988|    4|\n",
            "|Argentina|  8| DF|      ACUNA Marcos|28.10.1991|     ACUÑA|   Sporting CP (POR)|   172|    77| 28| 10|1991|    4|\n",
            "|Argentina| 10| FW|      MESSI Lionel|24.06.1987|     MESSI|  FC Barcelona (ESP)|   170|    72| 24| 06|1987|    4|\n",
            "|Argentina|  3| DF|TAGLIAFICO Nicolas|31.08.1992|TAGLIAFICO|      AFC Ajax (NED)|   169|    65| 31| 08|1992|    5|\n",
            "+---------+---+---+------------------+----------+----------+--------------------+------+------+---+---+----+-----+\n",
            "only showing top 20 rows\n",
            "\n",
            "time: 1.63 s (started: 2023-09-18 21:15:31 +00:00)\n"
          ]
        }
      ]
    },
    {
      "cell_type": "markdown",
      "source": [
        "Lag function: O mesmo tipo de lag usado em séries temporais."
      ],
      "metadata": {
        "id": "Ny2ulye1ZyTQ"
      }
    },
    {
      "cell_type": "code",
      "source": [
        "prt = Window.partitionBy('team').orderBy(desc('height'))\n",
        "df.withColumn('lag', lag('weight', offset=2).over(prt)).show(10)"
      ],
      "metadata": {
        "colab": {
          "base_uri": "https://localhost:8080/"
        },
        "id": "wEXKjuj4Z6oK",
        "outputId": "7897c618-294a-4c9b-f1ce-e474a62e7711"
      },
      "execution_count": 235,
      "outputs": [
        {
          "output_type": "stream",
          "name": "stdout",
          "text": [
            "+---------+---+---+------------------+----------+----------+--------------------+------+------+---+---+----+----+\n",
            "|     team|  #|pos| fifa popular name|birth date|shirt name|                club|height|weight|dia|mes| ano| lag|\n",
            "+---------+---+---+------------------+----------+----------+--------------------+------+------+---+---+----+----+\n",
            "|Argentina|  6| DF|    FAZIO Federico|17.03.1987|     FAZIO|       AS Roma (ITA)|   199|    85| 17| 03|1987|null|\n",
            "|Argentina|  1| GK|     GUZMAN Nahuel|10.02.1986|    GUZMÁN|   Tigres UANL (MEX)|   192|    90| 10| 02|1986|null|\n",
            "|Argentina| 16| DF|       ROJO Marcos|20.03.1990|      ROJO|Manchester United...|   189|    82| 20| 03|1990|  85|\n",
            "|Argentina| 12| GK|     ARMANI Franco|16.10.1986|    ARMANI|CA River Plate (ARG)|   189|    85| 16| 10|1986|  90|\n",
            "|Argentina| 23| GK|CABALLERO Wilfredo|28.09.1981| CABALLERO|    Chelsea FC (ENG)|   186|    80| 28| 09|1981|  82|\n",
            "|Argentina|  9| FW|   HIGUAIN Gonzalo|10.12.1987|   HIGUAÍN|   Juventus FC (ITA)|   184|    75| 10| 12|1987|  85|\n",
            "|Argentina|  4| DF|  ANSALDI Cristian|20.09.1986|   ANSALDI|     Torino FC (ITA)|   181|    73| 20| 09|1986|  80|\n",
            "|Argentina|  2| DF|   MERCADO Gabriel|18.03.1987|   MERCADO|    Sevilla FC (ESP)|   181|    81| 18| 03|1987|  75|\n",
            "|Argentina| 17| DF|  OTAMENDI Nicolas|12.02.1988|  OTAMENDI|Manchester City F...|   181|    81| 12| 02|1988|  73|\n",
            "|Argentina| 13| MF|  MEZA Maximiliano|15.12.1992|      MEZA|CA Independiente ...|   180|    76| 15| 12|1992|  81|\n",
            "+---------+---+---+------------------+----------+----------+--------------------+------+------+---+---+----+----+\n",
            "only showing top 10 rows\n",
            "\n",
            "time: 2.22 s (started: 2023-09-18 21:15:33 +00:00)\n"
          ]
        }
      ]
    },
    {
      "cell_type": "markdown",
      "source": [
        "Forward function: O mesmo tipo de forward usado em séries temporais."
      ],
      "metadata": {
        "id": "LYWzAMl4bwRD"
      }
    },
    {
      "cell_type": "code",
      "source": [
        "prt = Window.partitionBy('team').orderBy(desc('height'))\n",
        "df.withColumn('lead', lead('weight', offset=1).over(prt)).show(10)"
      ],
      "metadata": {
        "colab": {
          "base_uri": "https://localhost:8080/"
        },
        "id": "3nEw-WhJch8s",
        "outputId": "3e592144-66fa-4d4c-baf3-20c496f785c2"
      },
      "execution_count": 236,
      "outputs": [
        {
          "output_type": "stream",
          "name": "stdout",
          "text": [
            "+---------+---+---+------------------+----------+----------+--------------------+------+------+---+---+----+----+\n",
            "|     team|  #|pos| fifa popular name|birth date|shirt name|                club|height|weight|dia|mes| ano|lead|\n",
            "+---------+---+---+------------------+----------+----------+--------------------+------+------+---+---+----+----+\n",
            "|Argentina|  6| DF|    FAZIO Federico|17.03.1987|     FAZIO|       AS Roma (ITA)|   199|    85| 17| 03|1987|  90|\n",
            "|Argentina|  1| GK|     GUZMAN Nahuel|10.02.1986|    GUZMÁN|   Tigres UANL (MEX)|   192|    90| 10| 02|1986|  82|\n",
            "|Argentina| 16| DF|       ROJO Marcos|20.03.1990|      ROJO|Manchester United...|   189|    82| 20| 03|1990|  85|\n",
            "|Argentina| 12| GK|     ARMANI Franco|16.10.1986|    ARMANI|CA River Plate (ARG)|   189|    85| 16| 10|1986|  80|\n",
            "|Argentina| 23| GK|CABALLERO Wilfredo|28.09.1981| CABALLERO|    Chelsea FC (ENG)|   186|    80| 28| 09|1981|  75|\n",
            "|Argentina|  9| FW|   HIGUAIN Gonzalo|10.12.1987|   HIGUAÍN|   Juventus FC (ITA)|   184|    75| 10| 12|1987|  73|\n",
            "|Argentina|  4| DF|  ANSALDI Cristian|20.09.1986|   ANSALDI|     Torino FC (ITA)|   181|    73| 20| 09|1986|  81|\n",
            "|Argentina|  2| DF|   MERCADO Gabriel|18.03.1987|   MERCADO|    Sevilla FC (ESP)|   181|    81| 18| 03|1987|  81|\n",
            "|Argentina| 17| DF|  OTAMENDI Nicolas|12.02.1988|  OTAMENDI|Manchester City F...|   181|    81| 12| 02|1988|  76|\n",
            "|Argentina| 13| MF|  MEZA Maximiliano|15.12.1992|      MEZA|CA Independiente ...|   180|    76| 15| 12|1992|  75|\n",
            "+---------+---+---+------------------+----------+----------+--------------------+------+------+---+---+----+----+\n",
            "only showing top 10 rows\n",
            "\n",
            "time: 2.07 s (started: 2023-09-18 21:15:35 +00:00)\n"
          ]
        }
      ]
    },
    {
      "cell_type": "markdown",
      "source": [
        "# Describe"
      ],
      "metadata": {
        "id": "zZNl2R1m7rJN"
      }
    },
    {
      "cell_type": "code",
      "source": [
        "df.describe().show()"
      ],
      "metadata": {
        "colab": {
          "base_uri": "https://localhost:8080/"
        },
        "id": "LjF2hrb-7s9c",
        "outputId": "23cc61a4-1c3c-45c0-873a-3c1791ea3419"
      },
      "execution_count": 237,
      "outputs": [
        {
          "output_type": "stream",
          "name": "stdout",
          "text": [
            "+-------+---------+-----------------+----+-----------------+----------+----------+--------------------+-----------------+-----------------+------------------+------------------+------------------+\n",
            "|summary|     team|                #| pos|fifa popular name|birth date|shirt name|                club|           height|           weight|               dia|               mes|               ano|\n",
            "+-------+---------+-----------------+----+-----------------+----------+----------+--------------------+-----------------+-----------------+------------------+------------------+------------------+\n",
            "|  count|      736|              736| 736|              736|       736|       736|                 736|              736|              736|               736|               736|               736|\n",
            "|   mean|     null|             12.0|null|             null|      null|      null|                null|182.4076086956522|77.18885869565217|15.793478260869565|5.8790760869565215| 1990.110054347826|\n",
            "| stddev|     null|6.637760461599851|null|             null|      null|      null|                null|6.930924233929302|7.233778346883639| 8.761123828732469|3.3782493094684387|3.9074472063626775|\n",
            "|    min|Argentina|                1|  DF|     ABDALLA SAID|01.01.1984| A. ASHRAF|    1. FC Köln (GER)|              165|               59|                01|                01|              1973|\n",
            "|    max|  Uruguay|               23|  MF|     ZUBER Steven|31.10.1997|  ŽIVKOVIĆ|Étoile du Sahel (...|              201|               99|                31|                12|              1999|\n",
            "+-------+---------+-----------------+----+-----------------+----------+----------+--------------------+-----------------+-----------------+------------------+------------------+------------------+\n",
            "\n",
            "time: 2.08 s (started: 2023-09-18 21:15:37 +00:00)\n"
          ]
        }
      ]
    },
    {
      "cell_type": "code",
      "source": [
        "df.where(\"team = 'Brazil'\").describe().show()"
      ],
      "metadata": {
        "colab": {
          "base_uri": "https://localhost:8080/"
        },
        "id": "qQPy3nms99rC",
        "outputId": "c71a48c2-f74d-4815-c2d2-c918d8022f84"
      },
      "execution_count": 238,
      "outputs": [
        {
          "output_type": "stream",
          "name": "stdout",
          "text": [
            "+-------+------+-----------------+----+-----------------+----------+----------+--------------------+-----------------+-----------------+-----------------+-----------------+-----------------+\n",
            "|summary|  team|                #| pos|fifa popular name|birth date|shirt name|                club|           height|           weight|              dia|              mes|              ano|\n",
            "+-------+------+-----------------+----+-----------------+----------+----------+--------------------+-----------------+-----------------+-----------------+-----------------+-----------------+\n",
            "|  count|    23|               23|  23|               23|        23|        23|                  23|               23|               23|               23|               23|               23|\n",
            "|   mean|  null|             12.0|null|             null|      null|      null|                null|180.7826086956522|76.56521739130434|11.26086956521739|6.130434782608695|1989.391304347826|\n",
            "| stddev|  null|6.782329983125267|null|             null|      null|      null|                null|7.354383490255254|8.239737898283606|6.876953549252538|2.784769418006175|3.499858833968506|\n",
            "|    min|Brazil|                1|  DF|          ALISSON|02.10.1991| A. BECKER|       AS Roma (ITA)|              168|               64|               02|               01|             1984|\n",
            "|    max|Brazil|               23|  MF|          WILLIAN|25.07.1988|   WILLIAN|SC Corinthians (BRA)|              195|               92|               25|               10|             1997|\n",
            "+-------+------+-----------------+----+-----------------+----------+----------+--------------------+-----------------+-----------------+-----------------+-----------------+-----------------+\n",
            "\n",
            "time: 1.04 s (started: 2023-09-18 21:15:39 +00:00)\n"
          ]
        }
      ]
    },
    {
      "cell_type": "code",
      "source": [
        "df.groupBy('team').agg(avg('height'), min('height'), max('height')).orderBy('avg(height)', ascending=False).show(20)"
      ],
      "metadata": {
        "colab": {
          "base_uri": "https://localhost:8080/"
        },
        "id": "6bE-gMxtA97Z",
        "outputId": "886b76c5-1304-48d7-b9fc-acf6892e2f18"
      },
      "execution_count": 239,
      "outputs": [
        {
          "output_type": "stream",
          "name": "stdout",
          "text": [
            "+--------------+------------------+-----------+-----------+\n",
            "|          team|       avg(height)|min(height)|max(height)|\n",
            "+--------------+------------------+-----------+-----------+\n",
            "|        Serbia|186.69565217391303|        169|        195|\n",
            "|       Denmark| 186.6086956521739|        171|        200|\n",
            "|       Germany| 185.7826086956522|        176|        195|\n",
            "|        Sweden| 185.7391304347826|        177|        198|\n",
            "|       Iceland|185.52173913043478|        170|        198|\n",
            "|       Belgium|185.34782608695653|        169|        199|\n",
            "|       Croatia| 185.2608695652174|        172|        201|\n",
            "|       Nigeria|184.52173913043478|        172|        197|\n",
            "|       IR Iran|184.47826086956522|        177|        194|\n",
            "|        Russia| 184.3913043478261|        173|        196|\n",
            "|       Senegal|183.65217391304347|        173|        196|\n",
            "|        France|183.30434782608697|        168|        197|\n",
            "|        Poland|183.17391304347825|        172|        195|\n",
            "|       Tunisia|183.08695652173913|        170|        192|\n",
            "|   Switzerland|182.91304347826087|        165|        192|\n",
            "|       England| 182.7391304347826|        170|        196|\n",
            "|       Morocco|182.69565217391303|        167|        190|\n",
            "|        Panama|182.17391304347825|        165|        197|\n",
            "|Korea Republic| 181.8695652173913|        170|        197|\n",
            "|       Uruguay|181.04347826086956|        168|        196|\n",
            "+--------------+------------------+-----------+-----------+\n",
            "only showing top 20 rows\n",
            "\n",
            "time: 644 ms (started: 2023-09-18 21:15:40 +00:00)\n"
          ]
        }
      ]
    }
  ]
}