{
  "nbformat": 4,
  "nbformat_minor": 0,
  "metadata": {
    "colab": {
      "provenance": [],
      "authorship_tag": "ABX9TyMiIzaAp9y838dxS8qfruEm"
    },
    "kernelspec": {
      "name": "python3",
      "display_name": "Python 3"
    },
    "language_info": {
      "name": "python"
    }
  },
  "cells": [
    {
      "cell_type": "markdown",
      "source": [
        "# Convolutional Neural Network Model Training\n",
        "Neste kernel eu testo modelos de rede neural convolucional na série temporal dos sorteios."
      ],
      "metadata": {
        "id": "rxCDAcMK9bX5"
      }
    },
    {
      "cell_type": "code",
      "execution_count": 1,
      "metadata": {
        "id": "jM3LxvqccxYR",
        "colab": {
          "base_uri": "https://localhost:8080/"
        },
        "outputId": "5fcab35e-f15b-4de6-e436-f5c9269b1092"
      },
      "outputs": [
        {
          "output_type": "stream",
          "name": "stdout",
          "text": [
            "Requirement already satisfied: ipython-autotime in /usr/local/lib/python3.10/dist-packages (0.3.1)\n",
            "Requirement already satisfied: ipython in /usr/local/lib/python3.10/dist-packages (from ipython-autotime) (7.34.0)\n",
            "Requirement already satisfied: setuptools>=18.5 in /usr/local/lib/python3.10/dist-packages (from ipython->ipython-autotime) (67.7.2)\n",
            "Requirement already satisfied: jedi>=0.16 in /usr/local/lib/python3.10/dist-packages (from ipython->ipython-autotime) (0.19.0)\n",
            "Requirement already satisfied: decorator in /usr/local/lib/python3.10/dist-packages (from ipython->ipython-autotime) (4.4.2)\n",
            "Requirement already satisfied: pickleshare in /usr/local/lib/python3.10/dist-packages (from ipython->ipython-autotime) (0.7.5)\n",
            "Requirement already satisfied: traitlets>=4.2 in /usr/local/lib/python3.10/dist-packages (from ipython->ipython-autotime) (5.7.1)\n",
            "Requirement already satisfied: prompt-toolkit!=3.0.0,!=3.0.1,<3.1.0,>=2.0.0 in /usr/local/lib/python3.10/dist-packages (from ipython->ipython-autotime) (3.0.39)\n",
            "Requirement already satisfied: pygments in /usr/local/lib/python3.10/dist-packages (from ipython->ipython-autotime) (2.14.0)\n",
            "Requirement already satisfied: backcall in /usr/local/lib/python3.10/dist-packages (from ipython->ipython-autotime) (0.2.0)\n",
            "Requirement already satisfied: matplotlib-inline in /usr/local/lib/python3.10/dist-packages (from ipython->ipython-autotime) (0.1.6)\n",
            "Requirement already satisfied: pexpect>4.3 in /usr/local/lib/python3.10/dist-packages (from ipython->ipython-autotime) (4.8.0)\n",
            "Requirement already satisfied: parso<0.9.0,>=0.8.3 in /usr/local/lib/python3.10/dist-packages (from jedi>=0.16->ipython->ipython-autotime) (0.8.3)\n",
            "Requirement already satisfied: ptyprocess>=0.5 in /usr/local/lib/python3.10/dist-packages (from pexpect>4.3->ipython->ipython-autotime) (0.7.0)\n",
            "Requirement already satisfied: wcwidth in /usr/local/lib/python3.10/dist-packages (from prompt-toolkit!=3.0.0,!=3.0.1,<3.1.0,>=2.0.0->ipython->ipython-autotime) (0.2.6)\n",
            "time: 532 µs (started: 2023-08-09 17:39:35 +00:00)\n"
          ]
        }
      ],
      "source": [
        "%pip install ipython-autotime  --upgrade\n",
        "%load_ext autotime"
      ]
    },
    {
      "cell_type": "code",
      "source": [
        "from google.colab import drive, files\n",
        "import pandas as pd\n",
        "drive.mount('/content/drive', force_remount=True)"
      ],
      "metadata": {
        "id": "C4cPTemK9fA6",
        "colab": {
          "base_uri": "https://localhost:8080/"
        },
        "outputId": "ffffe1af-1c87-4dcb-e1c4-2470d0879510"
      },
      "execution_count": 2,
      "outputs": [
        {
          "output_type": "stream",
          "name": "stdout",
          "text": [
            "Mounted at /content/drive\n",
            "time: 5.31 s (started: 2023-08-09 17:39:37 +00:00)\n"
          ]
        }
      ]
    },
    {
      "cell_type": "code",
      "source": [
        "cols = ['Bola1', 'Bola2', 'Bola3', 'Bola4', 'Bola5', 'Bola6', 'Bola7', 'Bola8', 'Bola9', 'Bola10', 'Bola11', 'Bola12', 'Bola13', 'Bola14', 'Bola15']\n",
        "raffles = pd.read_excel(\"/content/drive/MyDrive/datasets/loterias/raw/lotofacil.xlsx\", usecols=cols)\n",
        "raffles.head()"
      ],
      "metadata": {
        "colab": {
          "base_uri": "https://localhost:8080/",
          "height": 225
        },
        "id": "x1TJ9Nicy6m7",
        "outputId": "ea20ca3c-8c2b-463e-c5e5-4cee7ea130e4"
      },
      "execution_count": 3,
      "outputs": [
        {
          "output_type": "execute_result",
          "data": {
            "text/plain": [
              "   Bola1  Bola2  Bola3  Bola4  Bola5  Bola6  Bola7  Bola8  Bola9  Bola10  \\\n",
              "0      2      3      5      6      9     10     11     13     14      16   \n",
              "1      1      4      5      6      7      9     11     12     13      15   \n",
              "2      1      4      6      7      8      9     10     11     12      14   \n",
              "3      1      2      4      5      8     10     12     13     16      17   \n",
              "4      1      2      4      8      9     11     12     13     15      16   \n",
              "\n",
              "   Bola11  Bola12  Bola13  Bola14  Bola15  \n",
              "0      18      20      23      24      25  \n",
              "1      16      19      20      23      24  \n",
              "2      16      17      20      23      24  \n",
              "3      18      19      23      24      25  \n",
              "4      19      20      23      24      25  "
            ],
            "text/html": [
              "\n",
              "\n",
              "  <div id=\"df-c07ddf5f-3a77-4d04-8130-38ee9e44f204\">\n",
              "    <div class=\"colab-df-container\">\n",
              "      <div>\n",
              "<style scoped>\n",
              "    .dataframe tbody tr th:only-of-type {\n",
              "        vertical-align: middle;\n",
              "    }\n",
              "\n",
              "    .dataframe tbody tr th {\n",
              "        vertical-align: top;\n",
              "    }\n",
              "\n",
              "    .dataframe thead th {\n",
              "        text-align: right;\n",
              "    }\n",
              "</style>\n",
              "<table border=\"1\" class=\"dataframe\">\n",
              "  <thead>\n",
              "    <tr style=\"text-align: right;\">\n",
              "      <th></th>\n",
              "      <th>Bola1</th>\n",
              "      <th>Bola2</th>\n",
              "      <th>Bola3</th>\n",
              "      <th>Bola4</th>\n",
              "      <th>Bola5</th>\n",
              "      <th>Bola6</th>\n",
              "      <th>Bola7</th>\n",
              "      <th>Bola8</th>\n",
              "      <th>Bola9</th>\n",
              "      <th>Bola10</th>\n",
              "      <th>Bola11</th>\n",
              "      <th>Bola12</th>\n",
              "      <th>Bola13</th>\n",
              "      <th>Bola14</th>\n",
              "      <th>Bola15</th>\n",
              "    </tr>\n",
              "  </thead>\n",
              "  <tbody>\n",
              "    <tr>\n",
              "      <th>0</th>\n",
              "      <td>2</td>\n",
              "      <td>3</td>\n",
              "      <td>5</td>\n",
              "      <td>6</td>\n",
              "      <td>9</td>\n",
              "      <td>10</td>\n",
              "      <td>11</td>\n",
              "      <td>13</td>\n",
              "      <td>14</td>\n",
              "      <td>16</td>\n",
              "      <td>18</td>\n",
              "      <td>20</td>\n",
              "      <td>23</td>\n",
              "      <td>24</td>\n",
              "      <td>25</td>\n",
              "    </tr>\n",
              "    <tr>\n",
              "      <th>1</th>\n",
              "      <td>1</td>\n",
              "      <td>4</td>\n",
              "      <td>5</td>\n",
              "      <td>6</td>\n",
              "      <td>7</td>\n",
              "      <td>9</td>\n",
              "      <td>11</td>\n",
              "      <td>12</td>\n",
              "      <td>13</td>\n",
              "      <td>15</td>\n",
              "      <td>16</td>\n",
              "      <td>19</td>\n",
              "      <td>20</td>\n",
              "      <td>23</td>\n",
              "      <td>24</td>\n",
              "    </tr>\n",
              "    <tr>\n",
              "      <th>2</th>\n",
              "      <td>1</td>\n",
              "      <td>4</td>\n",
              "      <td>6</td>\n",
              "      <td>7</td>\n",
              "      <td>8</td>\n",
              "      <td>9</td>\n",
              "      <td>10</td>\n",
              "      <td>11</td>\n",
              "      <td>12</td>\n",
              "      <td>14</td>\n",
              "      <td>16</td>\n",
              "      <td>17</td>\n",
              "      <td>20</td>\n",
              "      <td>23</td>\n",
              "      <td>24</td>\n",
              "    </tr>\n",
              "    <tr>\n",
              "      <th>3</th>\n",
              "      <td>1</td>\n",
              "      <td>2</td>\n",
              "      <td>4</td>\n",
              "      <td>5</td>\n",
              "      <td>8</td>\n",
              "      <td>10</td>\n",
              "      <td>12</td>\n",
              "      <td>13</td>\n",
              "      <td>16</td>\n",
              "      <td>17</td>\n",
              "      <td>18</td>\n",
              "      <td>19</td>\n",
              "      <td>23</td>\n",
              "      <td>24</td>\n",
              "      <td>25</td>\n",
              "    </tr>\n",
              "    <tr>\n",
              "      <th>4</th>\n",
              "      <td>1</td>\n",
              "      <td>2</td>\n",
              "      <td>4</td>\n",
              "      <td>8</td>\n",
              "      <td>9</td>\n",
              "      <td>11</td>\n",
              "      <td>12</td>\n",
              "      <td>13</td>\n",
              "      <td>15</td>\n",
              "      <td>16</td>\n",
              "      <td>19</td>\n",
              "      <td>20</td>\n",
              "      <td>23</td>\n",
              "      <td>24</td>\n",
              "      <td>25</td>\n",
              "    </tr>\n",
              "  </tbody>\n",
              "</table>\n",
              "</div>\n",
              "      <button class=\"colab-df-convert\" onclick=\"convertToInteractive('df-c07ddf5f-3a77-4d04-8130-38ee9e44f204')\"\n",
              "              title=\"Convert this dataframe to an interactive table.\"\n",
              "              style=\"display:none;\">\n",
              "\n",
              "  <svg xmlns=\"http://www.w3.org/2000/svg\" height=\"24px\"viewBox=\"0 0 24 24\"\n",
              "       width=\"24px\">\n",
              "    <path d=\"M0 0h24v24H0V0z\" fill=\"none\"/>\n",
              "    <path d=\"M18.56 5.44l.94 2.06.94-2.06 2.06-.94-2.06-.94-.94-2.06-.94 2.06-2.06.94zm-11 1L8.5 8.5l.94-2.06 2.06-.94-2.06-.94L8.5 2.5l-.94 2.06-2.06.94zm10 10l.94 2.06.94-2.06 2.06-.94-2.06-.94-.94-2.06-.94 2.06-2.06.94z\"/><path d=\"M17.41 7.96l-1.37-1.37c-.4-.4-.92-.59-1.43-.59-.52 0-1.04.2-1.43.59L10.3 9.45l-7.72 7.72c-.78.78-.78 2.05 0 2.83L4 21.41c.39.39.9.59 1.41.59.51 0 1.02-.2 1.41-.59l7.78-7.78 2.81-2.81c.8-.78.8-2.07 0-2.86zM5.41 20L4 18.59l7.72-7.72 1.47 1.35L5.41 20z\"/>\n",
              "  </svg>\n",
              "      </button>\n",
              "\n",
              "\n",
              "\n",
              "    <div id=\"df-37f04edf-6508-415d-bcb7-0456f74f8549\">\n",
              "      <button class=\"colab-df-quickchart\" onclick=\"quickchart('df-37f04edf-6508-415d-bcb7-0456f74f8549')\"\n",
              "              title=\"Suggest charts.\"\n",
              "              style=\"display:none;\">\n",
              "\n",
              "<svg xmlns=\"http://www.w3.org/2000/svg\" height=\"24px\"viewBox=\"0 0 24 24\"\n",
              "     width=\"24px\">\n",
              "    <g>\n",
              "        <path d=\"M19 3H5c-1.1 0-2 .9-2 2v14c0 1.1.9 2 2 2h14c1.1 0 2-.9 2-2V5c0-1.1-.9-2-2-2zM9 17H7v-7h2v7zm4 0h-2V7h2v10zm4 0h-2v-4h2v4z\"/>\n",
              "    </g>\n",
              "</svg>\n",
              "      </button>\n",
              "    </div>\n",
              "\n",
              "<style>\n",
              "  .colab-df-quickchart {\n",
              "    background-color: #E8F0FE;\n",
              "    border: none;\n",
              "    border-radius: 50%;\n",
              "    cursor: pointer;\n",
              "    display: none;\n",
              "    fill: #1967D2;\n",
              "    height: 32px;\n",
              "    padding: 0 0 0 0;\n",
              "    width: 32px;\n",
              "  }\n",
              "\n",
              "  .colab-df-quickchart:hover {\n",
              "    background-color: #E2EBFA;\n",
              "    box-shadow: 0px 1px 2px rgba(60, 64, 67, 0.3), 0px 1px 3px 1px rgba(60, 64, 67, 0.15);\n",
              "    fill: #174EA6;\n",
              "  }\n",
              "\n",
              "  [theme=dark] .colab-df-quickchart {\n",
              "    background-color: #3B4455;\n",
              "    fill: #D2E3FC;\n",
              "  }\n",
              "\n",
              "  [theme=dark] .colab-df-quickchart:hover {\n",
              "    background-color: #434B5C;\n",
              "    box-shadow: 0px 1px 3px 1px rgba(0, 0, 0, 0.15);\n",
              "    filter: drop-shadow(0px 1px 2px rgba(0, 0, 0, 0.3));\n",
              "    fill: #FFFFFF;\n",
              "  }\n",
              "</style>\n",
              "\n",
              "    <script>\n",
              "      async function quickchart(key) {\n",
              "        const containerElement = document.querySelector('#' + key);\n",
              "        const charts = await google.colab.kernel.invokeFunction(\n",
              "            'suggestCharts', [key], {});\n",
              "      }\n",
              "    </script>\n",
              "\n",
              "      <script>\n",
              "\n",
              "function displayQuickchartButton(domScope) {\n",
              "  let quickchartButtonEl =\n",
              "    domScope.querySelector('#df-37f04edf-6508-415d-bcb7-0456f74f8549 button.colab-df-quickchart');\n",
              "  quickchartButtonEl.style.display =\n",
              "    google.colab.kernel.accessAllowed ? 'block' : 'none';\n",
              "}\n",
              "\n",
              "        displayQuickchartButton(document);\n",
              "      </script>\n",
              "      <style>\n",
              "    .colab-df-container {\n",
              "      display:flex;\n",
              "      flex-wrap:wrap;\n",
              "      gap: 12px;\n",
              "    }\n",
              "\n",
              "    .colab-df-convert {\n",
              "      background-color: #E8F0FE;\n",
              "      border: none;\n",
              "      border-radius: 50%;\n",
              "      cursor: pointer;\n",
              "      display: none;\n",
              "      fill: #1967D2;\n",
              "      height: 32px;\n",
              "      padding: 0 0 0 0;\n",
              "      width: 32px;\n",
              "    }\n",
              "\n",
              "    .colab-df-convert:hover {\n",
              "      background-color: #E2EBFA;\n",
              "      box-shadow: 0px 1px 2px rgba(60, 64, 67, 0.3), 0px 1px 3px 1px rgba(60, 64, 67, 0.15);\n",
              "      fill: #174EA6;\n",
              "    }\n",
              "\n",
              "    [theme=dark] .colab-df-convert {\n",
              "      background-color: #3B4455;\n",
              "      fill: #D2E3FC;\n",
              "    }\n",
              "\n",
              "    [theme=dark] .colab-df-convert:hover {\n",
              "      background-color: #434B5C;\n",
              "      box-shadow: 0px 1px 3px 1px rgba(0, 0, 0, 0.15);\n",
              "      filter: drop-shadow(0px 1px 2px rgba(0, 0, 0, 0.3));\n",
              "      fill: #FFFFFF;\n",
              "    }\n",
              "  </style>\n",
              "\n",
              "      <script>\n",
              "        const buttonEl =\n",
              "          document.querySelector('#df-c07ddf5f-3a77-4d04-8130-38ee9e44f204 button.colab-df-convert');\n",
              "        buttonEl.style.display =\n",
              "          google.colab.kernel.accessAllowed ? 'block' : 'none';\n",
              "\n",
              "        async function convertToInteractive(key) {\n",
              "          const element = document.querySelector('#df-c07ddf5f-3a77-4d04-8130-38ee9e44f204');\n",
              "          const dataTable =\n",
              "            await google.colab.kernel.invokeFunction('convertToInteractive',\n",
              "                                                     [key], {});\n",
              "          if (!dataTable) return;\n",
              "\n",
              "          const docLinkHtml = 'Like what you see? Visit the ' +\n",
              "            '<a target=\"_blank\" href=https://colab.research.google.com/notebooks/data_table.ipynb>data table notebook</a>'\n",
              "            + ' to learn more about interactive tables.';\n",
              "          element.innerHTML = '';\n",
              "          dataTable['output_type'] = 'display_data';\n",
              "          await google.colab.output.renderOutput(dataTable, element);\n",
              "          const docLink = document.createElement('div');\n",
              "          docLink.innerHTML = docLinkHtml;\n",
              "          element.appendChild(docLink);\n",
              "        }\n",
              "      </script>\n",
              "    </div>\n",
              "  </div>\n"
            ]
          },
          "metadata": {},
          "execution_count": 3
        },
        {
          "output_type": "stream",
          "name": "stdout",
          "text": [
            "time: 3.91 s (started: 2023-08-09 17:39:44 +00:00)\n"
          ]
        }
      ]
    },
    {
      "cell_type": "markdown",
      "source": [
        "# Dataset transformation\n",
        "Vou criar dois tipos de conjuntos de dados onde ambos serão formados por imagens criadas a partir de cada sorteio.\n",
        "\n",
        "No primeiro conjunto, cada sorteio formará uma matriz (5, 5) de valores 0 e 1 contendo os 25 números possíveis. Os indexes que contiverem 1 são aqueles onde o número foi sorteado e aqueles que contiverem 0 são os números que não foram sorteados.\n",
        "\n",
        "No segundo conjunto, transformo cada sorteio em uma matriz de valores 1 ou 0 com 35 linhas e 35 colunas que representa uma imagem de cada sorteio. De certa forma a matriz continua sendo (5, 5), mas defini que cada elemento será uma matriz de (7, 7). Isso faz com que cada elemento que representa um número sorteado seja uma matriz cheia de 1s. O resultado final é a matriz (35, 35)."
      ],
      "metadata": {
        "id": "QKxVvKsLMMr-"
      }
    },
    {
      "cell_type": "code",
      "source": [
        "import numpy as np"
      ],
      "metadata": {
        "colab": {
          "base_uri": "https://localhost:8080/"
        },
        "id": "NEE9J-HsNQ2-",
        "outputId": "9c217e71-0f1e-4396-f311-5089e283242e"
      },
      "execution_count": 4,
      "outputs": [
        {
          "output_type": "stream",
          "name": "stdout",
          "text": [
            "time: 804 µs (started: 2023-08-09 17:39:51 +00:00)\n"
          ]
        }
      ]
    },
    {
      "cell_type": "code",
      "source": [
        "size = len(raffles.index)\n",
        "dataset = np.zeros(shape=(size, 25), dtype=int)\n",
        "for i in range(0, len(raffles.index)):\n",
        "  indexes = raffles.iloc[i].to_numpy() - 1\n",
        "  dataset[i][indexes] = 1\n",
        "\n",
        "print(raffles.iloc[0].to_numpy())\n",
        "print(dataset[0])"
      ],
      "metadata": {
        "colab": {
          "base_uri": "https://localhost:8080/"
        },
        "id": "gns5bHHRBRjZ",
        "outputId": "e6093900-5d81-4e1c-cf9f-26e499868618"
      },
      "execution_count": 5,
      "outputs": [
        {
          "output_type": "stream",
          "name": "stdout",
          "text": [
            "[ 2  3  5  6  9 10 11 13 14 16 18 20 23 24 25]\n",
            "[0 1 1 0 1 1 0 0 1 1 1 0 1 1 0 1 0 1 0 1 0 0 1 1 1]\n",
            "time: 301 ms (started: 2023-08-09 17:39:54 +00:00)\n"
          ]
        }
      ]
    },
    {
      "cell_type": "markdown",
      "source": [
        "## Conjunto 01"
      ],
      "metadata": {
        "id": "zm4iVyVY73NM"
      }
    },
    {
      "cell_type": "code",
      "source": [
        "size = len(dataset)\n",
        "img_shape = (5, 5)\n",
        "dataset_imgs = np.zeros((size, *img_shape), dtype=int)\n",
        "for i in range(size):\n",
        "    dataset_imgs[i] = dataset[i].reshape(5, 5)\n",
        "\n",
        "print(dataset_imgs[0])"
      ],
      "metadata": {
        "colab": {
          "base_uri": "https://localhost:8080/"
        },
        "id": "7pCuugps5yq6",
        "outputId": "8f906f56-0e83-4e0b-b0a0-e6eba06a5738"
      },
      "execution_count": 6,
      "outputs": [
        {
          "output_type": "stream",
          "name": "stdout",
          "text": [
            "[[0 1 1 0 1]\n",
            " [1 0 0 1 1]\n",
            " [1 0 1 1 0]\n",
            " [1 0 1 0 1]\n",
            " [0 0 1 1 1]]\n",
            "time: 40.8 ms (started: 2023-08-09 17:39:58 +00:00)\n"
          ]
        }
      ]
    },
    {
      "cell_type": "markdown",
      "source": [
        "## Conjunto 02"
      ],
      "metadata": {
        "id": "Vll2tvB88CI7"
      }
    },
    {
      "cell_type": "code",
      "source": [
        "def enlarge_image(raffle):\n",
        "  size = 7\n",
        "  size_image = 5\n",
        "  zeros = np.full(shape=(size, size), fill_value=0)\n",
        "  ones  = np.full(shape=(size, size), fill_value=1)\n",
        "  pixel = {0: zeros, 1: ones}\n",
        "\n",
        "  # formação de cada linha\n",
        "  pxl = pixel[raffle[0]]\n",
        "  rows = list()\n",
        "  for i in range(1, 25):\n",
        "    if i % size_image != 0:\n",
        "      pxl = np.concatenate([pxl, pixel[raffle[i]]], axis=1)\n",
        "    else:\n",
        "      rows.append(pxl)\n",
        "      pxl = pixel[raffle[i]]\n",
        "  rows.append(pxl) # última linha\n",
        "\n",
        "  # formação da imagem\n",
        "  img = rows[0]\n",
        "  for r in range(1, len(rows)):\n",
        "    img = np.concatenate([img, rows[r]], axis=0)\n",
        "  return img"
      ],
      "metadata": {
        "colab": {
          "base_uri": "https://localhost:8080/"
        },
        "id": "ue7wJRUKkHvB",
        "outputId": "94269617-512d-4c63-86fa-9067eb67d35f"
      },
      "execution_count": 7,
      "outputs": [
        {
          "output_type": "stream",
          "name": "stdout",
          "text": [
            "time: 1.42 ms (started: 2023-08-09 17:40:26 +00:00)\n"
          ]
        }
      ]
    },
    {
      "cell_type": "markdown",
      "source": [
        "Formo o dataset de imagens"
      ],
      "metadata": {
        "id": "a5Hm4d59i72b"
      }
    },
    {
      "cell_type": "code",
      "source": [
        "size = len(dataset)\n",
        "img_shape = (35, 35)\n",
        "dataset_imgs_bigger = np.zeros((size, *img_shape), dtype=int)\n",
        "for i in range(size):\n",
        "    img = enlarge_image(dataset[i])\n",
        "    dataset_imgs_bigger[i] = img"
      ],
      "metadata": {
        "colab": {
          "base_uri": "https://localhost:8080/"
        },
        "id": "Ya6J_hFGa2Pp",
        "outputId": "825a9459-3bf7-40d0-ccba-67f3a8832a9e"
      },
      "execution_count": 8,
      "outputs": [
        {
          "output_type": "stream",
          "name": "stdout",
          "text": [
            "time: 240 ms (started: 2023-08-09 17:40:29 +00:00)\n"
          ]
        }
      ]
    },
    {
      "cell_type": "markdown",
      "source": [
        "# Data Visualization"
      ],
      "metadata": {
        "id": "T3neWN0DpdI0"
      }
    },
    {
      "cell_type": "code",
      "source": [
        "import matplotlib.pyplot as plt"
      ],
      "metadata": {
        "colab": {
          "base_uri": "https://localhost:8080/"
        },
        "id": "ZWxbetBPpfw0",
        "outputId": "a8d86c32-ac13-44ac-ab97-d2fb9829e101"
      },
      "execution_count": 9,
      "outputs": [
        {
          "output_type": "stream",
          "name": "stdout",
          "text": [
            "time: 625 µs (started: 2023-08-09 17:40:34 +00:00)\n"
          ]
        }
      ]
    },
    {
      "cell_type": "code",
      "source": [
        "def plot_raffle(raffles_imgs, index):\n",
        "  img = raffles_imgs[index]\n",
        "  fig, ax = plt.subplots(figsize=(5, 5))\n",
        "  cmap    = plt.cm.colors.ListedColormap(['white', 'black'])\n",
        "  ax.imshow(img, cmap=cmap)\n",
        "  plt.xticks([])\n",
        "  plt.yticks([])\n",
        "  plt.show()\n",
        "\n",
        "index = 0\n",
        "print(raffles.iloc[index].to_numpy())\n",
        "plot_raffle(dataset_imgs_bigger, index)"
      ],
      "metadata": {
        "colab": {
          "base_uri": "https://localhost:8080/",
          "height": 459
        },
        "id": "bQEYGrUNYLnf",
        "outputId": "ee3d3f70-7615-43f6-b7a6-4f44952ec77d"
      },
      "execution_count": 32,
      "outputs": [
        {
          "output_type": "stream",
          "name": "stdout",
          "text": [
            "[ 2  3  5  6  9 10 11 13 14 16 18 20 23 24 25]\n"
          ]
        },
        {
          "output_type": "display_data",
          "data": {
            "text/plain": [
              "<Figure size 500x500 with 1 Axes>"
            ],
            "image/png": "[encoded data removed]"
          },
          "metadata": {}
        },
        {
          "output_type": "stream",
          "name": "stdout",
          "text": [
            "time: 354 ms (started: 2023-08-09 17:51:24 +00:00)\n"
          ]
        }
      ]
    },
    {
      "cell_type": "markdown",
      "source": [
        "# Data Labeling and Train/Test Split"
      ],
      "metadata": {
        "id": "da9JyhavuTO3"
      }
    },
    {
      "cell_type": "markdown",
      "source": [
        "Crio a label que será um numpy array de 25 posições representando cada um dos números possíveis. Os indexes que contiverem 1 são aqueles que foram sorteados, os que contiverem 0, não."
      ],
      "metadata": {
        "id": "DZf5HkK1vRnF"
      }
    },
    {
      "cell_type": "code",
      "source": [
        "y = dataset.copy()"
      ],
      "metadata": {
        "colab": {
          "base_uri": "https://localhost:8080/"
        },
        "id": "jJX7LuUlvm5o",
        "outputId": "d0c9cc4f-8f90-403d-d88a-248f2d523399"
      },
      "execution_count": 13,
      "outputs": [
        {
          "output_type": "stream",
          "name": "stdout",
          "text": [
            "time: 2.23 ms (started: 2023-08-09 17:41:39 +00:00)\n"
          ]
        }
      ]
    },
    {
      "cell_type": "markdown",
      "source": [
        "Vou ter que fazer a separação do conjunto em treino e teste manualmente."
      ],
      "metadata": {
        "id": "DcG5OsSWahw5"
      }
    },
    {
      "cell_type": "code",
      "source": [
        "train_size = 0.8\n",
        "index      = int(len(dataset_imgs) * train_size)\n",
        "\n",
        "X_train = dataset_imgs[:index]\n",
        "X_test  = dataset_imgs[index:]\n",
        "\n",
        "X_train_bigger = dataset_imgs_bigger[:index]\n",
        "X_test_bigger  = dataset_imgs_bigger[index:]\n",
        "\n",
        "# a label pode ser a mesma para ambos conjuntos de treinamento e teste\n",
        "y_train = y[:index]\n",
        "y_test  = y[index:]"
      ],
      "metadata": {
        "colab": {
          "base_uri": "https://localhost:8080/"
        },
        "id": "SRSQWmfB3HS8",
        "outputId": "86dc01a2-860c-48b7-9c42-caab06f8397c"
      },
      "execution_count": 14,
      "outputs": [
        {
          "output_type": "stream",
          "name": "stdout",
          "text": [
            "time: 1.76 ms (started: 2023-08-09 17:41:40 +00:00)\n"
          ]
        }
      ]
    },
    {
      "cell_type": "markdown",
      "source": [
        "Percorro o conjunto todo concatenando quatro sorteios consecutivos por vez para formar uma grande imagem (70, 70). Essas novas imagens formarão um novo dataset que será usado para treinar o modelo. A label de cada instância será o sorteio do quinto dia."
      ],
      "metadata": {
        "id": "YkOgiqfWgcmg"
      }
    },
    {
      "cell_type": "code",
      "source": [
        "from keras.preprocessing.sequence import TimeseriesGenerator"
      ],
      "metadata": {
        "colab": {
          "base_uri": "https://localhost:8080/"
        },
        "id": "Pk0tePzLjjXH",
        "outputId": "78eb93a1-bbe7-48e8-f813-dd8f9ce88a3b"
      },
      "execution_count": 15,
      "outputs": [
        {
          "output_type": "stream",
          "name": "stdout",
          "text": [
            "time: 5.96 s (started: 2023-08-09 17:41:45 +00:00)\n"
          ]
        }
      ]
    },
    {
      "cell_type": "code",
      "source": [
        "ts_train = TimeseriesGenerator(data=X_train, targets=y_train, length=25, sampling_rate=1, stride=1, batch_size=2)\n",
        "ts_test  = TimeseriesGenerator(data=X_test, targets=y_test, length=25, sampling_rate=1, stride=1, batch_size=2)\n",
        "print(ts_train[0][0].shape)\n",
        "print(ts_test[0][1].shape)"
      ],
      "metadata": {
        "colab": {
          "base_uri": "https://localhost:8080/"
        },
        "id": "A3KStvX6kGN0",
        "outputId": "1827b86a-42aa-4652-8054-43904fa5f9c9"
      },
      "execution_count": 23,
      "outputs": [
        {
          "output_type": "stream",
          "name": "stdout",
          "text": [
            "(2, 25, 5, 5)\n",
            "(2, 25)\n",
            "time: 12 ms (started: 2023-08-09 17:48:50 +00:00)\n"
          ]
        }
      ]
    },
    {
      "cell_type": "code",
      "source": [
        "def concatenate_imgs(raffles, square_size):\n",
        "  rfl = raffles[0]\n",
        "  rows = list()\n",
        "  for i in range(1, len(raffles)):\n",
        "    if i % square_size != 0:\n",
        "      rfl = np.concatenate([rfl, raffles[i]], axis=1)\n",
        "    else:\n",
        "      rows.append(rfl)\n",
        "      rfl = raffles[i]\n",
        "  rows.append(rfl) # adiciona a última linha\n",
        "\n",
        "  img = rows[0]\n",
        "  for r in range(1, len(rows)):\n",
        "    img = np.concatenate([img, rows[r]], axis=0)\n",
        "  return img\n",
        "\n",
        "\n",
        "x = list()\n",
        "y = list()\n",
        "for b in ts_train:\n",
        "  for imgs, label in zip(b[0], b[1]):\n",
        "    x.append(concatenate_imgs(imgs, 5))\n",
        "    y.append(label)\n",
        "\n",
        "\n",
        "\n",
        "print(len(x))\n",
        "print(len(y))"
      ],
      "metadata": {
        "colab": {
          "base_uri": "https://localhost:8080/"
        },
        "id": "DbA8O3eiD5p_",
        "outputId": "759fad65-12dc-4f54-e126-f559e082d9b5"
      },
      "execution_count": 24,
      "outputs": [
        {
          "output_type": "stream",
          "name": "stdout",
          "text": [
            "2275\n",
            "2275\n",
            "time: 328 ms (started: 2023-08-09 17:48:57 +00:00)\n"
          ]
        }
      ]
    },
    {
      "cell_type": "code",
      "source": [
        "index = 0\n",
        "print(x[index].shape)\n",
        "plot_raffle(x, index)"
      ],
      "metadata": {
        "colab": {
          "base_uri": "https://localhost:8080/",
          "height": 459
        },
        "id": "NsyFL_erXxJX",
        "outputId": "ebf4d05f-b0f3-41db-ea75-b7fe7ec14a02"
      },
      "execution_count": 25,
      "outputs": [
        {
          "output_type": "stream",
          "name": "stdout",
          "text": [
            "(25, 25)\n"
          ]
        },
        {
          "output_type": "display_data",
          "data": {
            "text/plain": [
              "<Figure size 500x500 with 1 Axes>"
            ],
            "image/png": "[encoded data removed]"
          },
          "metadata": {}
        },
        {
          "output_type": "stream",
          "name": "stdout",
          "text": [
            "time: 96 ms (started: 2023-08-09 17:49:04 +00:00)\n"
          ]
        }
      ]
    },
    {
      "cell_type": "markdown",
      "source": [
        "Agora, é preciso criar também manualmente a forward feature, que é a própria label indicando o sorteio do dia seguinte. Além disso, também vou remover os valores que se tornariam NaN caso eu fizesse isso usando o Pandas."
      ],
      "metadata": {
        "id": "Gay89k_nb7Nc"
      }
    },
    {
      "cell_type": "markdown",
      "source": [
        "# Model Training"
      ],
      "metadata": {
        "id": "qq4ZBMT6fD8s"
      }
    },
    {
      "cell_type": "code",
      "source": [
        "from keras.callbacks              import EarlyStopping, ReduceLROnPlateau\n",
        "from keras.layers                 import Dense, LSTM\n",
        "from keras.models                 import Sequential\n",
        "from keras.optimizers             import Nadam\n",
        "from sklearn.metrics              import accuracy_score, mean_squared_error\n",
        "\n",
        "import matplotlib.pyplot as plt\n",
        "import seaborn as sns\n",
        "colors = sns.color_palette()\n",
        "%matplotlib inline"
      ],
      "metadata": {
        "colab": {
          "base_uri": "https://localhost:8080/"
        },
        "id": "oMl5AyWLfF5q",
        "outputId": "50f0430a-88d8-4672-eb8d-c2daf2953f84"
      },
      "execution_count": null,
      "outputs": [
        {
          "output_type": "stream",
          "name": "stdout",
          "text": [
            "time: 1.59 s (started: 2023-08-07 20:30:40 +00:00)\n"
          ]
        }
      ]
    },
    {
      "cell_type": "markdown",
      "source": [
        "Neural Networks's Callbacks"
      ],
      "metadata": {
        "id": "-fWzcBqYiL49"
      }
    },
    {
      "cell_type": "code",
      "source": [
        "#callbacks\n",
        "early_stopping_cb = EarlyStopping(patience=10, restore_best_weights=True)\n",
        "\n",
        "# performance scheduling\n",
        "lr_performance = ReduceLROnPlateau(factor=0.3, patience=10)"
      ],
      "metadata": {
        "colab": {
          "base_uri": "https://localhost:8080/"
        },
        "id": "Grkterf2iWfo",
        "outputId": "3492ddd8-ed15-4030-fca0-05bf866a681c"
      },
      "execution_count": null,
      "outputs": [
        {
          "output_type": "stream",
          "name": "stdout",
          "text": [
            "time: 9.75 ms (started: 2023-08-05 16:31:07 +00:00)\n"
          ]
        }
      ]
    },
    {
      "cell_type": "markdown",
      "source": [
        "Funções de resultado de avaliação de um modelo."
      ],
      "metadata": {
        "id": "WLQ-Bq6WIPCc"
      }
    },
    {
      "cell_type": "code",
      "source": [
        "def plot_evaluation(history, task):\n",
        "  plt.plot(history.history['loss'], label='Training Loss')\n",
        "  plt.plot(history.history['val_loss'], label='Validation Loss')\n",
        "  if task == 'classification':\n",
        "    plt.plot(history.history['accuracy'], label='Training Accuracy')\n",
        "    plt.plot(history.history['val_accuracy'], label='Validation Accuracy')\n",
        "  elif task == 'regression':\n",
        "    plt.plot(history.history['mse'], label='Training MSE')\n",
        "    plt.plot(history.history['val_mse'], label='Validation MSE')\n",
        "  plt.legend()\n",
        "\n",
        "\n",
        "\n",
        "def show_evaluation(model, dataset, task):\n",
        "  result = model.evaluate(dataset, verbose=False)\n",
        "  print(f'Loss:     {result[0]:.2f}')\n",
        "  if task == 'classification':\n",
        "    print(f'Accuracy: {result[1]:.2f}')\n",
        "  elif task == 'regression':\n",
        "    print(f'MSE:      {result[1]:.2f}')"
      ],
      "metadata": {
        "colab": {
          "base_uri": "https://localhost:8080/"
        },
        "id": "L4YqQv2AEpLb",
        "outputId": "c7825f6e-8dc4-4164-fb47-965a0eb53688"
      },
      "execution_count": null,
      "outputs": [
        {
          "output_type": "stream",
          "name": "stdout",
          "text": [
            "time: 1.35 ms (started: 2023-08-05 16:31:08 +00:00)\n"
          ]
        }
      ]
    }
  ]
}